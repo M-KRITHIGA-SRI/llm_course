{
 "cells": [
  {
   "cell_type": "markdown",
   "id": "408e2ecd-86d8-49f4-a3b4-20d9edb37716",
   "metadata": {},
   "source": [
    "# What do you learn \n",
    "* write code to call OpenAI and Ollama & summarize\n",
    "* Contrast leading Frontier LLMs\n",
    "* Discuss transformers, tokens, context windows, API costs, and more\n",
    "* Confidently code with the OpenAI API\n",
    "* Use one-shot prompting, streaming, markdown & json results\n",
    "* Implement a business solution - in a matter of minutes\n",
    "* \n"
   ]
  },
  {
   "cell_type": "markdown",
   "id": "6a4787b0-06b0-4214-84cc-255ac01d6600",
   "metadata": {},
   "source": [
    "**Week 1**\n",
    "* Describe transformers, tokens, context windowns, API costs, etc\n",
    "* Constrast the leading 6 Frontier LLMs\n",
    "* Confidently use the OpenAI API including streaming with markdown and JSON generation, and Ollama API\n"
   ]
  },
  {
   "cell_type": "markdown",
   "id": "fce5dc9b-1fdf-48f1-a829-a06c9fe6b033",
   "metadata": {},
   "source": [
    "**Week 2**\n",
    "* Use APIs for OpenAI, Anthropic and Gemini\n",
    "* Work with Agents\n",
    "* Implement a customer support agent with a Chat UI\n",
    "* Build a multi-model AI Assistant with Tools"
   ]
  },
  {
   "cell_type": "markdown",
   "id": "5837dd71-7360-49b5-9b1d-ad8e4ac88c6c",
   "metadata": {},
   "source": [
    "**Week 3**\n",
    "* Confidently code with Frontier Models\n",
    "* Build a multi-modal AI Assistant with Tools\n",
    "* Build solutions with open-source LLMs with HuggingFace transformers"
   ]
  },
  {
   "cell_type": "markdown",
   "id": "ff94058f-f088-457d-aee8-be0c6b5ca0a0",
   "metadata": {},
   "source": [
    "**Week 4**\n",
    "* Code with Frontier Models including AI Assistants with Tools, and with open-source models with HuggingFace transformers\n",
    "* Confidently choose the right LLM for your project. backed by metrics\n",
    "* Build solutions to generate code with Frontier and open-source LLMs"
   ]
  },
  {
   "cell_type": "markdown",
   "id": "c5b6c160-e885-4df8-8bbe-906e52f6e7b4",
   "metadata": {},
   "source": [
    "**Week 5**\n",
    "* Generate text and code with Frontier Models including AI Assistants with Tools, and with open-source models with HuggingFace transformers\n",
    "* Confidently choose the right LLM for your project, backed by metrics\n",
    "* Create advanced RAG solutions with LangChain"
   ]
  },
  {
   "cell_type": "markdown",
   "id": "fe9a5907-a00f-4069-9d1a-56271739c245",
   "metadata": {},
   "source": [
    "**Week 6**\n",
    "* Generate text and code wtih Frontier Models including AI Assistants with Tools, and with open-source models with HuggingFace transformers\n",
    "* Create advanced RAG solutions with LangChain\n",
    "* Follow a 5 step strategy to solve problems, including dataset curation and making a baseline model with tranditional ML and making a Frontier solution, and fine-tuning Frontier Models"
   ]
  },
  {
   "cell_type": "markdown",
   "id": "e7aedf38-6acc-4f88-84c0-85d5b2c0c35e",
   "metadata": {},
   "source": [
    "**Week 7**\n",
    "* Generate text and code with Frontier Models and Open Source models using APIs and HuggingFace, including tools, assistants and RAG\n",
    "* Follow a 5 step strategy to solve probelems, including dataset curation, making a baseline model, and find-tuning a Frontier model\n",
    "* Confidently carry out the end-to-end process for selecting and traning specialized oepn source models that can outperform the Frontier"
   ]
  },
  {
   "cell_type": "markdown",
   "id": "610d3ace-beec-42d2-958c-7342c422e02f",
   "metadata": {},
   "source": []
  },
  {
   "cell_type": "markdown",
   "id": "aece85a2-d00d-489d-94b3-692394299877",
   "metadata": {},
   "source": []
  },
  {
   "cell_type": "markdown",
   "id": "925be717-800b-4a50-ba5d-a570bbae6679",
   "metadata": {},
   "source": []
  }
 ],
 "metadata": {
  "kernelspec": {
   "display_name": "Python 3 (ipykernel)",
   "language": "python",
   "name": "python3"
  },
  "language_info": {
   "codemirror_mode": {
    "name": "ipython",
    "version": 3
   },
   "file_extension": ".py",
   "mimetype": "text/x-python",
   "name": "python",
   "nbconvert_exporter": "python",
   "pygments_lexer": "ipython3",
   "version": "3.11.12"
  }
 },
 "nbformat": 4,
 "nbformat_minor": 5
}
