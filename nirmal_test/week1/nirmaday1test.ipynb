{
 "cells": [
  {
   "cell_type": "code",
   "execution_count": 38,
   "id": "43a032c9-b3e2-4d8c-8938-306d234100a5",
   "metadata": {},
   "outputs": [],
   "source": [
    "import os\n",
    "import requests as request\n",
    "from dotenv import load_dotenv\n",
    "from bs4 import BeautifulSoup\n",
    "from IPython.display import Markdown, display\n",
    "from openai import OpenAI as openai"
   ]
  },
  {
   "cell_type": "code",
   "execution_count": 39,
   "id": "a70520c7-8a55-4b03-9d8f-4cda871b7134",
   "metadata": {},
   "outputs": [
    {
     "name": "stdout",
     "output_type": "stream",
     "text": [
      "API key found and looks good so far!\n"
     ]
    }
   ],
   "source": [
    "load_dotenv(override=True)\n",
    "api_key = os.getenv('OPENAI_API_KEY')\n",
    "\n",
    "\n",
    "\n",
    "if not api_key:\n",
    "    print(\"No API key was found - please head over to the troubleshooting notebook in this folder to identify & fix!\")\n",
    "elif not api_key.startswith(\"sk-proj-\"):\n",
    "    print(\"An API key was found, but it doesn't start sk-proj-; please check you're using the right key - see troubleshooting notebook\")\n",
    "elif api_key.strip() != api_key:\n",
    "    print(\"An API key was found, but it looks like it might have space or tab characters at the start or end - please remove them - see troubleshooting notebook\")\n",
    "else:\n",
    "    print(\"API key found and looks good so far!\")\n"
   ]
  },
  {
   "cell_type": "code",
   "execution_count": 40,
   "id": "1a408c41-0290-4aa3-97aa-953747029e8b",
   "metadata": {},
   "outputs": [
    {
     "name": "stdout",
     "output_type": "stream",
     "text": [
      "Hello! It’s great to hear from you! How can I assist you today?\n"
     ]
    }
   ],
   "source": [
    "client = OpenAI(api_key=api_key)\n",
    "message = \"Hello, GPT! This is my first ever message to you! Hi!\"\n",
    "response = client.chat.completions.create(\n",
    "    model=\"gpt-4o-mini\",\n",
    "    messages=[{\"role\": \"user\", \"content\": message}]\n",
    ")\n",
    "\n",
    "print(response.choices[0].message.content)"
   ]
  },
  {
   "cell_type": "code",
   "execution_count": 41,
   "id": "529ef1cb-37aa-4971-8339-899bf48421e8",
   "metadata": {},
   "outputs": [],
   "source": [
    "headers={\n",
    "     \"User-Agent\": \"Mozilla/5.0 (Windows NT 10.0; Win64; x64) AppleWebKit/537.36 (KHTML, like Gecko) Chrome/117.0.0.0 Safari/537.36\"\n",
    "}\n",
    "class Website:\n",
    "    def __init__(self,url):\n",
    "        self.url=url\n",
    "        response = request.get(url,headers=headers)\n",
    "        soup=BeautifulSoup(response.content,\"html.parser\")\n",
    "        self.title= soup.title.string if soup.title else \"No title found\"\n",
    "        for irrelevant in soup.body([\"script\", \"style\", \"img\", \"input\"]):\n",
    "            irrelevant.decompose()\n",
    "        self.text = soup.body.get_text(separator=\"\\n\", strip=True)\n",
    "        \n",
    "        "
   ]
  },
  {
   "cell_type": "code",
   "execution_count": 26,
   "id": "232b8c8e-c211-4860-bde3-32bfb6c7a8cf",
   "metadata": {},
   "outputs": [
    {
     "name": "stdout",
     "output_type": "stream",
     "text": [
      "No title found\n",
      "Nirmal Cherian Itty\n",
      "Full Stack Developer\n",
      "Experienced Full Stack Developer | JavaScript & Python | Delivering Quality Web Solutions\n",
      "ABOUT\n",
      "EXPERIENCE\n",
      "PROJECTS\n",
      "ABOUT\n",
      "What Drives Me\n",
      "I'm a computer science engineering graduate with nearly three years of experience. My passion lies in frontend development, and I absolutely love creating amazing web experiences. I've honed my skills with several JavaScript frameworks, including React, Next.js, Nuxt, and Vue.js. But that's not all—I also have solid backend experience with Express and Django. 🖥️\n",
      "What really attracts me to web development is the joy of creating something from scratch. There's nothing quite like seeing your ideas come to life on the screen. I'm always up for a good challenge, which is why I enjoy problem-solving and competitive coding. 💡\n",
      "Projects & Experience\n",
      "I've had the privilege of working on several exciting projects. Some of these have been client projects for a leading e-commerce firm with a global presence. Each project has been a unique learning experience, helping me grow both personally and professionally. 🌐\n",
      "Outside of Work\n",
      "When I'm not coding, I like to unwind by listening to music and surfing social media. I also keep myself updated on the latest political happenings. It's my way of staying connected to the world around me. 🎶📱🗳️\n",
      "Experience\n",
      "Aug 2021 - Oct 2023\n",
      "Software Engineer, QBurst Technologies\n",
      "Worked extensively as a full-stack developer on various client projects.\n",
      "Conducted demo sessions and contributed to frontend and backend development.\n",
      "Created UI components, integrated APIs, and Dockerized applications for deployment.\n",
      "Specialized in UI design using Figma for intuitive and visually appealing interfaces.\n",
      "Engaged with clients for feedback and refinement through impactful demo sessions.\n",
      "Designed scalable UI components and optimized API integrations.\n",
      "Proficient in React (frontend) and Express/Django (backend) in agile environments.\n",
      "Implemented Docker to streamline development and maintain environment consistency.\n",
      "Integrated GraphQL to optimize data fetching and enhance performance.\n",
      "Pursued continuous learning through competitive coding and exploring emerging technologies.\n",
      "TypeScript\n",
      "JavaScript\n",
      "React\n",
      "CSS\n",
      "Express\n",
      "REST API\n",
      "GraphQL\n",
      "Docker\n",
      "Django\n",
      "Jest\n",
      "Next.js\n",
      "Vue.js\n",
      "Nuxt.js\n",
      "Python\n",
      "Figma\n",
      "Aug 2024 - Oct 2024\n",
      "Front-end Engineer Internship Full Time, Niologic Gmbh\n",
      "Built responsive and dynamic user interfaces using React.\n",
      "Developed reusable UI components and managed state efficiently.\n",
      "Ensured smooth API integration and collaborated with backend developers.\n",
      "Worked closely with the design team to maintain UI/UX consistency.\n",
      "Enhanced skills in TypeScript and JavaScript through hands-on experience.\n",
      "JavaScript\n",
      "TypeScript\n",
      "React\n",
      "Project\n",
      "Recipe App\n",
      "Built an application using React and Firebase.\n",
      "Enabled users to create, edit, view, and delete recipes.\n",
      "Focused on clean UI and responsive design.\n",
      "React\n",
      "Typescript\n",
      "Firebase\n",
      "CSS\n",
      "PortFolio Website\n",
      "Developed a personal portfolio using Next.js.\n",
      "Outlined my career, skills, and project experience.\n",
      "Implemented responsive design and modern UI practices.\n",
      "Next.js\n",
      "Typescript\n",
      "CSS\n",
      "Django CRUD\n",
      "Built a Django application with full CRUD operations.\n",
      "Managed models, views, and templates to enable dynamic content.\n",
      "Applied Django admin and form handling for backend management.\n",
      "Django\n",
      "Portfolio Website for a UI/UX Developer\n",
      "Built a portfolio website using Next.js tailored for a UI/UX developer.\n",
      "Showcased skills, achievements, and design philosophy.\n",
      "Used GSAP for animations and Tailwind for clean responsive styling.\n",
      "Next.js\n",
      "React\n",
      "TypeScript\n",
      "GSAP\n",
      "Tailwind\n"
     ]
    }
   ],
   "source": [
    "ed = Website(\"https://portfolio-peach-zeta-74.vercel.app/welcome\")\n",
    "print(ed.title)\n",
    "print(ed.text)"
   ]
  },
  {
   "cell_type": "code",
   "execution_count": 42,
   "id": "091bfd64-b753-46e7-8d8b-81610a977fca",
   "metadata": {},
   "outputs": [],
   "source": [
    "system_prompt = \"You are an assistant that analyzes the contents of a website \\\n",
    "and provides a short summary, ignoring text that might be navigation related. \\\n",
    "Respond in markdown.\""
   ]
  },
  {
   "cell_type": "code",
   "execution_count": 43,
   "id": "ef1d4140-273a-4510-bf78-421852f5271f",
   "metadata": {},
   "outputs": [],
   "source": [
    "def user_prompt_for(website):\n",
    "    user_prompt = f\"You are looking at a website titled {website.title}\"\n",
    "    user_prompt += \"\\nThe contents of this website is as follows; \\\n",
    "please provide a short summary of this website in markdown. \\\n",
    "If it includes news or announcements, then summarize these too.\\n\\n\"\n",
    "    user_prompt += website.text\n",
    "    return user_prompt"
   ]
  },
  {
   "cell_type": "code",
   "execution_count": 44,
   "id": "78cc45dc-5cac-4d89-8b1e-51b48fcf8c11",
   "metadata": {},
   "outputs": [
    {
     "name": "stdout",
     "output_type": "stream",
     "text": [
      "You are looking at a website titled No title found\n",
      "The contents of this website is as follows; please provide a short summary of this website in markdown. If it includes news or announcements, then summarize these too.\n",
      "\n",
      "Nirmal Cherian Itty\n",
      "Full Stack Developer\n",
      "Experienced Full Stack Developer | JavaScript & Python | Delivering Quality Web Solutions\n",
      "ABOUT\n",
      "EXPERIENCE\n",
      "PROJECTS\n",
      "ABOUT\n",
      "What Drives Me\n",
      "I'm a computer science engineering graduate with nearly three years of experience. My passion lies in frontend development, and I absolutely love creating amazing web experiences. I've honed my skills with several JavaScript frameworks, including React, Next.js, Nuxt, and Vue.js. But that's not all—I also have solid backend experience with Express and Django. 🖥️\n",
      "What really attracts me to web development is the joy of creating something from scratch. There's nothing quite like seeing your ideas come to life on the screen. I'm always up for a good challenge, which is why I enjoy problem-solving and competitive coding. 💡\n",
      "Projects & Experience\n",
      "I've had the privilege of working on several exciting projects. Some of these have been client projects for a leading e-commerce firm with a global presence. Each project has been a unique learning experience, helping me grow both personally and professionally. 🌐\n",
      "Outside of Work\n",
      "When I'm not coding, I like to unwind by listening to music and surfing social media. I also keep myself updated on the latest political happenings. It's my way of staying connected to the world around me. 🎶📱🗳️\n",
      "Experience\n",
      "Aug 2021 - Oct 2023\n",
      "Software Engineer, QBurst Technologies\n",
      "Worked extensively as a full-stack developer on various client projects.\n",
      "Conducted demo sessions and contributed to frontend and backend development.\n",
      "Created UI components, integrated APIs, and Dockerized applications for deployment.\n",
      "Specialized in UI design using Figma for intuitive and visually appealing interfaces.\n",
      "Engaged with clients for feedback and refinement through impactful demo sessions.\n",
      "Designed scalable UI components and optimized API integrations.\n",
      "Proficient in React (frontend) and Express/Django (backend) in agile environments.\n",
      "Implemented Docker to streamline development and maintain environment consistency.\n",
      "Integrated GraphQL to optimize data fetching and enhance performance.\n",
      "Pursued continuous learning through competitive coding and exploring emerging technologies.\n",
      "TypeScript\n",
      "JavaScript\n",
      "React\n",
      "CSS\n",
      "Express\n",
      "REST API\n",
      "GraphQL\n",
      "Docker\n",
      "Django\n",
      "Jest\n",
      "Next.js\n",
      "Vue.js\n",
      "Nuxt.js\n",
      "Python\n",
      "Figma\n",
      "Aug 2024 - Oct 2024\n",
      "Front-end Engineer Internship Full Time, Niologic Gmbh\n",
      "Built responsive and dynamic user interfaces using React.\n",
      "Developed reusable UI components and managed state efficiently.\n",
      "Ensured smooth API integration and collaborated with backend developers.\n",
      "Worked closely with the design team to maintain UI/UX consistency.\n",
      "Enhanced skills in TypeScript and JavaScript through hands-on experience.\n",
      "JavaScript\n",
      "TypeScript\n",
      "React\n",
      "Project\n",
      "Recipe App\n",
      "Built an application using React and Firebase.\n",
      "Enabled users to create, edit, view, and delete recipes.\n",
      "Focused on clean UI and responsive design.\n",
      "React\n",
      "Typescript\n",
      "Firebase\n",
      "CSS\n",
      "PortFolio Website\n",
      "Developed a personal portfolio using Next.js.\n",
      "Outlined my career, skills, and project experience.\n",
      "Implemented responsive design and modern UI practices.\n",
      "Next.js\n",
      "Typescript\n",
      "CSS\n",
      "Django CRUD\n",
      "Built a Django application with full CRUD operations.\n",
      "Managed models, views, and templates to enable dynamic content.\n",
      "Applied Django admin and form handling for backend management.\n",
      "Django\n",
      "Portfolio Website for a UI/UX Developer\n",
      "Built a portfolio website using Next.js tailored for a UI/UX developer.\n",
      "Showcased skills, achievements, and design philosophy.\n",
      "Used GSAP for animations and Tailwind for clean responsive styling.\n",
      "Next.js\n",
      "React\n",
      "TypeScript\n",
      "GSAP\n",
      "Tailwind\n"
     ]
    }
   ],
   "source": [
    "print(user_prompt_for(ed))"
   ]
  },
  {
   "cell_type": "code",
   "execution_count": 30,
   "id": "ae0e6e4e-a3ce-4cdc-bb2a-40b259a0173c",
   "metadata": {},
   "outputs": [],
   "source": [
    "def messages_for(website):\n",
    "    return[ {\"role\": \"system\", \"content\": system_prompt},\n",
    "        {\"role\": \"user\", \"content\": user_prompt_for(website)}]"
   ]
  },
  {
   "cell_type": "code",
   "execution_count": 31,
   "id": "7be7380c-d26a-4e43-bee5-65b64632570a",
   "metadata": {},
   "outputs": [
    {
     "data": {
      "text/plain": [
       "[{'role': 'system',\n",
       "  'content': 'You are an assistant that analyzes the contents of a website and provides a short summary, ignoring text that might be navigation related. Respond in markdown.'},\n",
       " {'role': 'user',\n",
       "  'content': \"You are looking at a website titled No title found\\nThe contents of this website is as follows; please provide a short summary of this website in markdown. If it includes news or announcements, then summarize these too.\\n\\nNirmal Cherian Itty\\nFull Stack Developer\\nExperienced Full Stack Developer | JavaScript & Python | Delivering Quality Web Solutions\\nABOUT\\nEXPERIENCE\\nPROJECTS\\nABOUT\\nWhat Drives Me\\nI'm a computer science engineering graduate with nearly three years of experience. My passion lies in frontend development, and I absolutely love creating amazing web experiences. I've honed my skills with several JavaScript frameworks, including React, Next.js, Nuxt, and Vue.js. But that's not all—I also have solid backend experience with Express and Django. 🖥️\\nWhat really attracts me to web development is the joy of creating something from scratch. There's nothing quite like seeing your ideas come to life on the screen. I'm always up for a good challenge, which is why I enjoy problem-solving and competitive coding. 💡\\nProjects & Experience\\nI've had the privilege of working on several exciting projects. Some of these have been client projects for a leading e-commerce firm with a global presence. Each project has been a unique learning experience, helping me grow both personally and professionally. 🌐\\nOutside of Work\\nWhen I'm not coding, I like to unwind by listening to music and surfing social media. I also keep myself updated on the latest political happenings. It's my way of staying connected to the world around me. 🎶📱🗳️\\nExperience\\nAug 2021 - Oct 2023\\nSoftware Engineer, QBurst Technologies\\nWorked extensively as a full-stack developer on various client projects.\\nConducted demo sessions and contributed to frontend and backend development.\\nCreated UI components, integrated APIs, and Dockerized applications for deployment.\\nSpecialized in UI design using Figma for intuitive and visually appealing interfaces.\\nEngaged with clients for feedback and refinement through impactful demo sessions.\\nDesigned scalable UI components and optimized API integrations.\\nProficient in React (frontend) and Express/Django (backend) in agile environments.\\nImplemented Docker to streamline development and maintain environment consistency.\\nIntegrated GraphQL to optimize data fetching and enhance performance.\\nPursued continuous learning through competitive coding and exploring emerging technologies.\\nTypeScript\\nJavaScript\\nReact\\nCSS\\nExpress\\nREST API\\nGraphQL\\nDocker\\nDjango\\nJest\\nNext.js\\nVue.js\\nNuxt.js\\nPython\\nFigma\\nAug 2024 - Oct 2024\\nFront-end Engineer Internship Full Time, Niologic Gmbh\\nBuilt responsive and dynamic user interfaces using React.\\nDeveloped reusable UI components and managed state efficiently.\\nEnsured smooth API integration and collaborated with backend developers.\\nWorked closely with the design team to maintain UI/UX consistency.\\nEnhanced skills in TypeScript and JavaScript through hands-on experience.\\nJavaScript\\nTypeScript\\nReact\\nProject\\nRecipe App\\nBuilt an application using React and Firebase.\\nEnabled users to create, edit, view, and delete recipes.\\nFocused on clean UI and responsive design.\\nReact\\nTypescript\\nFirebase\\nCSS\\nPortFolio Website\\nDeveloped a personal portfolio using Next.js.\\nOutlined my career, skills, and project experience.\\nImplemented responsive design and modern UI practices.\\nNext.js\\nTypescript\\nCSS\\nDjango CRUD\\nBuilt a Django application with full CRUD operations.\\nManaged models, views, and templates to enable dynamic content.\\nApplied Django admin and form handling for backend management.\\nDjango\\nPortfolio Website for a UI/UX Developer\\nBuilt a portfolio website using Next.js tailored for a UI/UX developer.\\nShowcased skills, achievements, and design philosophy.\\nUsed GSAP for animations and Tailwind for clean responsive styling.\\nNext.js\\nReact\\nTypeScript\\nGSAP\\nTailwind\"}]"
      ]
     },
     "execution_count": 31,
     "metadata": {},
     "output_type": "execute_result"
    }
   ],
   "source": [
    "messages_for(ed)"
   ]
  },
  {
   "cell_type": "code",
   "execution_count": 47,
   "id": "37b8887e-b13b-4c65-bb68-175639e87c78",
   "metadata": {},
   "outputs": [],
   "source": [
    "def summarize(url):\n",
    "    website = Website(url)\n",
    "    response = client.chat.completions.create(\n",
    "        model = \"gpt-4o-mini\",\n",
    "        messages = messages_for(website)\n",
    "    )\n",
    "    return response.choices[0].message.content"
   ]
  },
  {
   "cell_type": "code",
   "execution_count": 50,
   "id": "ac88f576-cf4f-4407-a3cf-56c483148ad9",
   "metadata": {},
   "outputs": [
    {
     "data": {
      "text/plain": [
       "\"# Website Summary: Nirmal Cherian Itty's Portfolio\\n\\n**Overview:**\\nNirmal Cherian Itty is a Full Stack Developer with nearly three years of experience, specializing in both frontend and backend development. His technical expertise is centered around JavaScript frameworks (React, Next.js, Nuxt, Vue.js) as well as Python frameworks (Django). Nirmal is passionate about creating web solutions and enjoys the challenge of turning ideas into functional applications.\\n\\n## About Nirmal\\n- **Education:** Graduate in Computer Science Engineering.\\n- **Experience:** 3 years in web development.\\n- **Interests:** Frontend development, problem-solving, competitive coding, and staying updated on political events.\\n\\n## Professional Experience\\n- **Software Engineer at QBurst Technologies (Aug 2021 - Oct 2023):** \\n  - Worked on various client projects.\\n  - Developed UI components and integrated APIs.\\n  - Specialized in UI design using Figma.\\n  - Engaged clients through demo sessions and utilized Docker for development.\\n\\n- **Front-end Engineer Intern at Niologic Gmbh (Aug 2024 - Oct 2024):**\\n  - Developed dynamic user interfaces with React.\\n  - Focused on creating reusable components and ensuring UI/UX consistency.\\n\\n## Notable Projects\\n1. **Recipe App:**\\n   - Built with React and Firebase.\\n   - Features include creating, editing, viewing, and deleting recipes.\\n\\n2. **Portfolio Website:**\\n   - Developed using Next.js to showcase career milestones and skills.\\n\\n3. **Django CRUD Application:**\\n   - Implemented full CRUD operations with backend management.\\n\\n4. **UI/UX Developer Portfolio:**\\n   - Featured animations using GSAP and responsive design with Tailwind, tailored for a UI/UX audience.\\n\\n## Technical Skills\\n- Languages & Frameworks: JavaScript, TypeScript, Python, React, Next.js, Nuxt.js, Vue.js, Django, Express.\\n- Tools: Docker, Figma, Firebase, GraphQL.\\n\\nNirmal is dedicated to continuous learning and the development of high-quality web solutions, making him a versatile and adaptable professional in the tech industry.\""
      ]
     },
     "execution_count": 50,
     "metadata": {},
     "output_type": "execute_result"
    }
   ],
   "source": [
    "summarize(\"https://portfolio-peach-zeta-74.vercel.app/welcome\")"
   ]
  },
  {
   "cell_type": "code",
   "execution_count": 51,
   "id": "d6630aaa-c3f3-4fbe-a091-0446f3253d2f",
   "metadata": {},
   "outputs": [],
   "source": [
    "def display_summary(url):\n",
    "    summary = summarize(url)\n",
    "    display(Markdown(summary))"
   ]
  },
  {
   "cell_type": "code",
   "execution_count": 52,
   "id": "7c79e0a3-d020-4200-a971-a21c4bc5e70b",
   "metadata": {},
   "outputs": [
    {
     "data": {
      "text/markdown": [
       "# Summary of Nirmal Cherian Itty's Website\n",
       "\n",
       "Nirmal Cherian Itty is a Full Stack Developer with nearly three years of experience, specializing in both frontend and backend web development. He has a passion for creating exceptional web experiences, utilizing a range of JavaScript frameworks such as React, Next.js, Vue.js, as well as backend technologies like Express and Django.\n",
       "\n",
       "## About\n",
       "Nirmal is a computer science engineering graduate who enjoys building projects from scratch and tackling challenges in problem-solving and competitive coding. In his free time, he listens to music and stays updated on current events.\n",
       "\n",
       "## Experience\n",
       "- **Software Engineer at QBurst Technologies (Aug 2021 - Oct 2023)**\n",
       "  - Worked as a full-stack developer on various client projects.\n",
       "  - Created UI components, integrated APIs, and Dockerized applications for deployment.\n",
       "  - Specialized in designing user interfaces with tools like Figma.\n",
       "\n",
       "- **Front-end Engineer Internship at Niologic GmbH (Aug 2024 - Oct 2024)**\n",
       "  - Developed responsive user interfaces using React and enhanced skills in TypeScript.\n",
       "\n",
       "## Projects\n",
       "1. **Recipe App**: Created an application with React and Firebase, enabling users to manage recipes.\n",
       "2. **Portfolio Website**: Developed a personal portfolio using Next.js to showcase career achievements and skills.\n",
       "3. **Django CRUD Application**: Built a Django application featuring full CRUD operations for dynamic content management.\n",
       "4. **UI/UX Developer Portfolio**: Developed a tailored portfolio for a UI/UX developer using Next.js, with animations and modern styling.\n",
       "\n",
       "Nirmal's work reflects a commitment to quality web solutions and continuous personal growth in the rapidly evolving tech landscape."
      ],
      "text/plain": [
       "<IPython.core.display.Markdown object>"
      ]
     },
     "metadata": {},
     "output_type": "display_data"
    }
   ],
   "source": [
    "display_summary(\"https://portfolio-peach-zeta-74.vercel.app/welcome\")"
   ]
  },
  {
   "cell_type": "code",
   "execution_count": null,
   "id": "8462e029-392b-4c2c-9c84-1101f528a753",
   "metadata": {},
   "outputs": [],
   "source": []
  }
 ],
 "metadata": {
  "kernelspec": {
   "display_name": "Python 3 (ipykernel)",
   "language": "python",
   "name": "python3"
  },
  "language_info": {
   "codemirror_mode": {
    "name": "ipython",
    "version": 3
   },
   "file_extension": ".py",
   "mimetype": "text/x-python",
   "name": "python",
   "nbconvert_exporter": "python",
   "pygments_lexer": "ipython3",
   "version": "3.11.13"
  }
 },
 "nbformat": 4,
 "nbformat_minor": 5
}
