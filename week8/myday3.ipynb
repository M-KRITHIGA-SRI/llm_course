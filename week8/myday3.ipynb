{
 "cells": [
  {
   "cell_type": "markdown",
   "id": "0df0d850-49eb-4a0b-a27a-146969db710d",
   "metadata": {},
   "source": [
    "# The Price is Right\n",
    "\n",
    "Today we'll build another piece of the puzzle: a ScanningAgent that looks for promising deals by subscribing to RSS feeds."
   ]
  },
  {
   "cell_type": "code",
   "execution_count": 1,
   "id": "d3763a79-8a5a-4300-8de4-93e85475af10",
   "metadata": {},
   "outputs": [],
   "source": [
    "# imports\n",
    "\n",
    "import os\n",
    "import json\n",
    "from dotenv import load_dotenv\n",
    "from openai import OpenAI\n",
    "from agents.deals import ScrapedDeal, DealSelection"
   ]
  },
  {
   "cell_type": "code",
   "execution_count": 2,
   "id": "c6469e32-16c3-4443-9475-ade710ef6933",
   "metadata": {},
   "outputs": [],
   "source": [
    "# Initialize and constants\n",
    "\n",
    "load_dotenv(override=True)\n",
    "os.environ['OPENAI_API_KEY'] = os.getenv('OPENAI_API_KEY', 'your-key-if-not-using-env')\n",
    "MODEL = 'gpt-4o-mini'\n",
    "openai = OpenAI()"
   ]
  },
  {
   "cell_type": "code",
   "execution_count": 3,
   "id": "afece9db-8cd4-46be-ac57-0b472e84da7d",
   "metadata": {},
   "outputs": [
    {
     "name": "stderr",
     "output_type": "stream",
     "text": [
      "100%|█████████████████████████████████████████████████████████████████████| 5/5 [02:14<00:00, 26.99s/it]\n"
     ]
    }
   ],
   "source": [
    "deals = ScrapedDeal.fetch(show_progress=True)"
   ]
  },
  {
   "cell_type": "code",
   "execution_count": 4,
   "id": "8cd15c4d-eb44-4601-bf0c-f945c1d8e3ec",
   "metadata": {},
   "outputs": [
    {
     "data": {
      "text/plain": [
       "50"
      ]
     },
     "execution_count": 4,
     "metadata": {},
     "output_type": "execute_result"
    }
   ],
   "source": [
    "len(deals)"
   ]
  },
  {
   "cell_type": "code",
   "execution_count": 5,
   "id": "eca4d1a1-5870-41a3-a252-10581090da20",
   "metadata": {},
   "outputs": [
    {
     "data": {
      "text/plain": [
       "<Pumpkin-Shaped Lounge Chair for $127 + free shipping>"
      ]
     },
     "execution_count": 5,
     "metadata": {},
     "output_type": "execute_result"
    }
   ],
   "source": [
    "deals[44]"
   ]
  },
  {
   "cell_type": "code",
   "execution_count": 6,
   "id": "4259f30a-6455-49ed-8863-2f9ddd4776cb",
   "metadata": {},
   "outputs": [
    {
     "data": {
      "text/plain": [
       "'Title: Pumpkin-Shaped Lounge Chair for $127 + free shipping\\nDetails: Apply coupon code \"USAFF10\" to cut an extra $10 off this already-cheap pumpkin-shaped chair. It\\'s available at this price in six different colors.If you\\'re a new customer, apply coupon code \"NEWUS12OFF\" instead of the coupon above to take an extra $12 off. Buy Now at AliExpress\\nFeatures: \\nURL: https://www.dealnews.com/Pumpkin-Shaped-Lounge-Chair-for-127-free-shipping/21741583.html?iref=rss-c196'"
      ]
     },
     "execution_count": 6,
     "metadata": {},
     "output_type": "execute_result"
    }
   ],
   "source": [
    "deals[44].describe()"
   ]
  },
  {
   "cell_type": "code",
   "execution_count": 7,
   "id": "8100e5ac-38f5-40c1-a712-08ae12c85038",
   "metadata": {},
   "outputs": [],
   "source": [
    "system_prompt = \"\"\"You identify and summarize the 5 most detailed deals from a list, by selecting deals that have the most detailed, high quality description and the most clear price.\n",
    "Respond strictly in JSON with no explanation, using this format. You should provide the price as a number derived from the description. If the price of a deal isn't clear, do not include that deal in your response.\n",
    "Most important is that you respond with the 5 deals that have the most detailed product description with price. It's not important to mention the terms of the deal; most important is a thorough description of the product.\n",
    "Be careful with products that are described as \"$XXX off\" or \"reduced by $XXX\" - this isn't the actual price of the product. Only respond with products when you are highly confident about the price. \n",
    "\n",
    "{\"deals\": [\n",
    "    {\n",
    "        \"product_description\": \"Your clearly expressed summary of the product in 4-5 sentences. Details of the item are much more important than why it's a good deal. Avoid mentioning discounts and coupons; focus on the item itself. There should be a paragpraph of text for each item you choose.\",\n",
    "        \"price\": 99.99,\n",
    "        \"url\": \"the url as provided\"\n",
    "    },\n",
    "    ...\n",
    "]}\"\"\""
   ]
  },
  {
   "cell_type": "code",
   "execution_count": 8,
   "id": "f4bca170-af71-40c9-9597-1d72980c74d8",
   "metadata": {},
   "outputs": [],
   "source": [
    "user_prompt = \"\"\"Respond with the most promising 5 deals from this list, selecting those which have the most detailed, high quality product description and a clear price.\n",
    "Respond strictly in JSON, and only JSON. You should rephrase the description to be a summary of the product itself, not the terms of the deal.\n",
    "Remember to respond with a paragraph of text in the product_description field for each of the 5 items that you select.\n",
    "Be careful with products that are described as \"$XXX off\" or \"reduced by $XXX\" - this isn't the actual price of the product. Only respond with products when you are highly confident about the price. \n",
    "\n",
    "Deals:\n",
    "\n",
    "\"\"\"\n",
    "user_prompt += '\\n\\n'.join([deal.describe() for deal in deals])"
   ]
  },
  {
   "cell_type": "code",
   "execution_count": 9,
   "id": "020947a6-561b-417b-98a0-a085e31d2ce3",
   "metadata": {
    "scrolled": true
   },
   "outputs": [
    {
     "name": "stdout",
     "output_type": "stream",
     "text": [
      "Respond with the most promising 5 deals from this list, selecting those which have the most detailed, high quality product description and a clear price.\n",
      "Respond strictly in JSON, and only JSON. You should rephrase the description to be a summary of the product itself, not the terms of the deal.\n",
      "Remember to respond with a paragraph of text in the product_description field for each of the 5 items that you select.\n",
      "Be careful with products that are described as \"$XXX off\" or \"reduced by $XXX\" - this isn't the actual price of the product. Only respond with products when you are highly confident about the price. \n",
      "\n",
      "Deals:\n",
      "\n",
      "Title: INIU 10,000mAh Portable Power Bank for $20 + free shipping\n",
      "Details: It's $10 under list price. Buy Now at Best Buy\n",
      "Features: built-in USB-C cable Model: P61L-P1\n",
      "URL: https://www.dealnews.com/products/INIU/INIU-10-000-m-Ah-Portable-Power-Bank/489909.html?iref=rss-c142\n",
      "\n",
      "Title: Certified Refurb Soundcore by Anker C30i Open-Ear Clip-On Earbuds for $42 + free shipping\n",
      "Details: Use coupon code \"STARTSAVING\" to drop these earbuds to the best price we've seen in any condition. It includes a 2-year Allstate warranty. Buy Now at eBay\n",
      "Features: 12mm x 17mm drivers Clip-on secure fit Attachable ear grips IPX4 water-resistant 30 hours playtime Model: A3330\n",
      "URL: https://www.dealnews.com/products/Soundcore-by-Anker/Soundcore-by-Anker-C30-i-Open-Ear-Clip-On-Earbuds/477620.html?iref=rss-c142\n",
      "\n",
      "Title: Boya Mini AI-Powered Wireless Microphone: 12% off, from $22 + free shipping w/ $29\n",
      "Details: Boya takes 12% off its various Boya Mini AI-Powered Wireless Microphone options via coupon code \"BYmini\". Prices start at $22 after the promo code. Shipping adds $4.90 or is free for orders of $29 or more. The bundles vary in terms of how many microphones are included, whether or not you want a charging case, and if you want USB-C or Lightning receivers (or both). Shop Now at BOYA\n",
      "Features: 48kHz sampling rate up to six hours battery on a single charge with up to 30 hours via t\n"
     ]
    }
   ],
   "source": [
    "print(user_prompt[:2000])"
   ]
  },
  {
   "cell_type": "code",
   "execution_count": 10,
   "id": "7de46f74-868c-4127-8a68-cf2da7d600bb",
   "metadata": {},
   "outputs": [],
   "source": [
    "def get_recommendations():\n",
    "    completion = openai.beta.chat.completions.parse(\n",
    "        model=\"gpt-4o-mini\",\n",
    "        messages=[\n",
    "            {\"role\": \"system\", \"content\": system_prompt},\n",
    "            {\"role\": \"user\", \"content\": user_prompt}\n",
    "      ],\n",
    "        response_format=DealSelection\n",
    "    )\n",
    "    result = completion.choices[0].message.parsed\n",
    "    return result"
   ]
  },
  {
   "cell_type": "code",
   "execution_count": 11,
   "id": "4c06270d-8c17-4d5a-9cfe-b6cefe788d5e",
   "metadata": {},
   "outputs": [],
   "source": [
    "result = get_recommendations()"
   ]
  },
  {
   "cell_type": "code",
   "execution_count": 12,
   "id": "84e62845-3338-441a-8161-c70097af4773",
   "metadata": {},
   "outputs": [
    {
     "data": {
      "text/plain": [
       "5"
      ]
     },
     "execution_count": 12,
     "metadata": {},
     "output_type": "execute_result"
    }
   ],
   "source": [
    "len(result.deals)"
   ]
  },
  {
   "cell_type": "code",
   "execution_count": 13,
   "id": "e5554a0a-ae40-4684-ad3e-faa3d22e030c",
   "metadata": {},
   "outputs": [
    {
     "data": {
      "text/plain": [
       "Deal(product_description='The Soundcore by Anker C30i Open-Ear Clip-On Earbuds are engineered for stunning sound quality with a secure and comfortable fit, making them ideal for active lifestyles. Featuring 12mm x 17mm drivers, these earbuds are also IPX4 water-resistant, providing confidence while exercising or commuting in various weather conditions. With an impressive playback time of up to 30 hours, they make an excellent choice for all-day listening.', price=42.0, url='https://www.dealnews.com/products/Soundcore-by-Anker/Soundcore-by-Anker-C30-i-Open-Ear-Clip-On-Earbuds/477620.html?iref=rss-c142')"
      ]
     },
     "execution_count": 13,
     "metadata": {},
     "output_type": "execute_result"
    }
   ],
   "source": [
    "result.deals[1]"
   ]
  },
  {
   "cell_type": "code",
   "execution_count": 14,
   "id": "8bdc57fb-7497-47af-a643-6ba5a21cc17e",
   "metadata": {},
   "outputs": [],
   "source": [
    "from agents.scanner_agent import ScannerAgent"
   ]
  },
  {
   "cell_type": "code",
   "execution_count": 15,
   "id": "132278bc-217a-43a6-b6c4-724140c6a225",
   "metadata": {},
   "outputs": [],
   "source": [
    "agent = ScannerAgent()\n",
    "result = agent.scan()"
   ]
  },
  {
   "cell_type": "code",
   "execution_count": 16,
   "id": "2e1d013a-c930-4dad-901b-41433379e14b",
   "metadata": {},
   "outputs": [
    {
     "data": {
      "text/plain": [
       "DealSelection(deals=[Deal(product_description='The INIU 10,000mAh Portable Power Bank features a built-in USB-C cable for easy charging on-the-go. This lightweight power bank is designed to provide reliable power for your devices, making it an essential accessory for travel and daily use. With its compact design, you can easily slip it into your bag or pocket without any hassle.', price=20.0, url='https://www.dealnews.com/products/INIU/INIU-10-000-m-Ah-Portable-Power-Bank/489909.html?iref=rss-c142'), Deal(product_description='The Soundcore by Anker C30i Open-Ear Clip-On Earbuds offer a secure fit with clip-on design and attachable ear grips for active users. With 12mm x 17mm drivers, these earbuds deliver excellent sound quality, making them perfect for extended listening sessions. Their IPX4 water resistance provides durability during workouts or outdoor activities, along with an impressive 30 hours of playtime.', price=42.0, url='https://www.dealnews.com/products/Soundcore-by-Anker/Soundcore-by-Anker-C30-i-Open-Ear-Clip-On-Earbuds/477620.html?iref=rss-c142'), Deal(product_description='The Samsung Q70D Series 75\" 4K HDR QLED UHD Smart TV features a stunning 3840x2160 (4K) native resolution for crystal-clear images. Equipped with Quantum HDR technology and Samsung\\'s Tizen smart apps, this TV ensures an immersive viewing experience. With four HDMI inputs, it allows for easy connectivity to multiple devices, making it a great centerpiece for your home entertainment setup.', price=800.0, url='https://www.dealnews.com/products/Samsung/Samsung-Q70-D-Series-QN75-Q70-DAFXZA-75-4-K-HDR-QLED-UHD-Smart-TV/481657.html?iref=rss-c142'), Deal(product_description='The Refurbished Unlocked Samsung Galaxy S24 Ultra 512GB Android Smartphone boasts a powerful Qualcomm Snapdragon 8 Gen 3 processor and a large 6.8” Dynamic AMOLED 2X HD+ display. With Galaxy AI and 12GB of RAM, this smartphone provides top-tier performance for multitasking and gaming. Its camera features an incredible 200MP zoom, making it ideal for photography enthusiasts.', price=745.0, url='https://www.dealnews.com/products/Samsung/Samsung-Galaxy-S24-Ultra-512-GB-Android-Smartphone/464158.html?iref=rss-c142'), Deal(product_description='The Certified Refurb iRobot Roomba j7+ Self-Emptying Robot Vacuum offers advanced smart mapping technology to clean your home efficiently. Equipped with a self-cleaning cartridge filter, it ensures a hassle-free cleaning experience. This model is designed to navigate and clean your floors with ease, making it a great addition to any smart home setup.', price=175.0, url='https://www.dealnews.com/products/iRobot/iRobot-Roomba-j7-Self-Emptying-Robot-Vacuum/455442.html?iref=rss-f1912')])"
      ]
     },
     "execution_count": 16,
     "metadata": {},
     "output_type": "execute_result"
    }
   ],
   "source": [
    "result"
   ]
  },
  {
   "cell_type": "code",
   "execution_count": null,
   "id": "5ee2e837-1f1d-42d4-8bc4-51cccc343006",
   "metadata": {},
   "outputs": [],
   "source": []
  }
 ],
 "metadata": {
  "kernelspec": {
   "display_name": "Python 3 (ipykernel)",
   "language": "python",
   "name": "python3"
  },
  "language_info": {
   "codemirror_mode": {
    "name": "ipython",
    "version": 3
   },
   "file_extension": ".py",
   "mimetype": "text/x-python",
   "name": "python",
   "nbconvert_exporter": "python",
   "pygments_lexer": "ipython3",
   "version": "3.11.12"
  }
 },
 "nbformat": 4,
 "nbformat_minor": 5
}
