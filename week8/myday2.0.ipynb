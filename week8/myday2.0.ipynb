{
 "cells": [
  {
   "cell_type": "markdown",
   "id": "046fd8f8-ad14-4c7f-b759-fec52f5b5306",
   "metadata": {},
   "source": [
    "# The Price is Right\n",
    "\n",
    "Today we build a more complex solution for estimating prices of goods.\n",
    "\n",
    "1. This notebook: create a RAG database with our 400,000 training data\n",
    "2. Day 2.1 notebook: visualize in 2D\n",
    "3. Day 2.2 notebook: visualize in 3D\n",
    "4. Day 2.3 notebook: build and test a RAG pipeline with GPT-4o-mini\n",
    "5. Day 2.4 notebook: (a) bring back our Random Forest pricer (b) Create a Ensemble pricer that allows contributions from all the pricers\n",
    "\n",
    "Phew! That's a lot to get through in one day!\n",
    "\n",
    "## PLEASE NOTE:\n",
    "\n",
    "We already have a very powerful product estimator with our proprietary, fine-tuned LLM. Most people would be very satisfied with that! The main reason we're adding these extra steps is to deepen your expertise with RAG and with Agentic workflows.\n"
   ]
  },
  {
   "cell_type": "code",
   "execution_count": 1,
   "id": "993a2a24-1a58-42be-8034-6d116fb8d786",
   "metadata": {},
   "outputs": [],
   "source": [
    "# imports\n",
    "\n",
    "import os\n",
    "import re\n",
    "import math\n",
    "import json\n",
    "from tqdm import tqdm\n",
    "import random\n",
    "from dotenv import load_dotenv\n",
    "from huggingface_hub import login\n",
    "import numpy as np\n",
    "import pickle\n",
    "from sentence_transformers import SentenceTransformer\n",
    "from datasets import load_dataset\n",
    "import chromadb\n",
    "from items import Item\n",
    "from sklearn.manifold import TSNE\n",
    "import plotly.graph_objects as go"
   ]
  },
  {
   "cell_type": "code",
   "execution_count": 2,
   "id": "2359ccc0-dbf2-4b1e-9473-e472b32f548b",
   "metadata": {},
   "outputs": [],
   "source": [
    "# environment\n",
    "\n",
    "load_dotenv(override=True)\n",
    "os.environ['OPENAI_API_KEY'] = os.getenv('OPENAI_API_KEY', 'your-key-if-not-using-env')\n",
    "os.environ['HF_TOKEN'] = os.getenv('HF_TOKEN', 'your-key-if-not-using-env')\n",
    "DB = \"products_vectorstore\""
   ]
  },
  {
   "cell_type": "code",
   "execution_count": 3,
   "id": "645167e6-cf0d-42d2-949f-1089a25a2841",
   "metadata": {},
   "outputs": [
    {
     "name": "stderr",
     "output_type": "stream",
     "text": [
      "Note: Environment variable`HF_TOKEN` is set and is the current active token independently from the token you've just configured.\n"
     ]
    }
   ],
   "source": [
    "# Log in to HuggingFace\n",
    "\n",
    "hf_token = os.environ['HF_TOKEN']\n",
    "login(hf_token, add_to_git_credential=True)"
   ]
  },
  {
   "cell_type": "markdown",
   "id": "3d4995a4-f67f-4871-87df-8c6439b06366",
   "metadata": {},
   "source": [
    "## Back to the pkl files\n",
    "\n",
    "Much as we enjoyed data curating in week 6, we probably don't want to go through that whole process again!\n",
    "\n",
    "Let's reuse the pkl files we created then. Either copy the files `train.pkl` and `test.pkl` from the Week 6 folder into this Week 8 folder, or you can also download them from here:\n",
    "\n",
    "https://drive.google.com/drive/folders/1f_IZGybvs9o0J5sb3xmtTEQB3BXllzrW?usp=drive_link"
   ]
  },
  {
   "cell_type": "markdown",
   "id": "6790a29d-48f4-4966-8f3f-2eca32050e18",
   "metadata": {},
   "source": [
    "# 1. Load train.pkl file we created from week6 with 400,000 samples"
   ]
  },
  {
   "cell_type": "code",
   "execution_count": 4,
   "id": "688bd995-ec3e-43cd-8179-7fe14b275877",
   "metadata": {},
   "outputs": [],
   "source": [
    "# With train.pkl in this folder, you can run this:\n",
    "\n",
    "with open('train.pkl', 'rb') as file:\n",
    "    train = pickle.load(file)"
   ]
  },
  {
   "cell_type": "code",
   "execution_count": 5,
   "id": "2817eaf5-4302-4a18-9148-d1062e3b3dbb",
   "metadata": {},
   "outputs": [
    {
     "data": {
      "text/plain": [
       "'How much does this cost to the nearest dollar?\\n\\nDelphi FG0166 Fuel Pump Module\\nDelphi brings 80 years of OE Heritage into each Delphi pump, ensuring quality and fitment for each Delphi part. Part is validated, tested and matched to the right vehicle application Delphi brings 80 years of OE Heritage into each Delphi assembly, ensuring quality and fitment for each Delphi part Always be sure to check and clean fuel tank to avoid unnecessary returns Rigorous OE-testing ensures the pump can withstand extreme temperatures Brand Delphi, Fit Type Vehicle Specific Fit, Dimensions LxWxH 19.7 x 7.7 x 5.1 inches, Weight 2.2 Pounds, Auto Part Position Unknown, Operation Mode Mechanical, Manufacturer Delphi, Model FUEL PUMP, Dimensions 19.7\\n\\nPrice is $227.00'"
      ]
     },
     "execution_count": 5,
     "metadata": {},
     "output_type": "execute_result"
    }
   ],
   "source": [
    "train[0].prompt"
   ]
  },
  {
   "cell_type": "markdown",
   "id": "9ae1ba16-7e80-4096-ac88-64ef8edcc80c",
   "metadata": {},
   "source": [
    "# 2. Now create a Chroma Datastore\n",
    "## Chroma (aka ChromaDB) is a vector database, and its datastore contains vectorized text chunks along with associated metadata and document IDs\n",
    "\n",
    "In Week 5, we created a Chroma datastore with 123 documents representing chunks of objects from our fictional company Insurellm.\n",
    "\n",
    "Now we will create a Chroma datastore with 400,000 products from our training dataset! It's getting real!\n",
    "\n",
    "Note that we won't be using LangChain, but the API is very straightforward and consistent with before.\n",
    "\n",
    "Special note: if Chroma crashes and you're a Windows user, you should try rolling back to an earlier version of the Chroma library with:  \n",
    "`!pip install chromadb==0.5.0`  \n",
    "With many thanks to student Kelly Z. for finding this out and pointing to the GitHub issue [here](https://github.com/chroma-core/chroma/issues/2513). \n",
    "But try first without reverting Chroma."
   ]
  },
  {
   "cell_type": "code",
   "execution_count": 6,
   "id": "f4aab95e-d719-4476-b6e7-e248120df25a",
   "metadata": {},
   "outputs": [],
   "source": [
    "client = chromadb.PersistentClient(path=DB)"
   ]
  },
  {
   "cell_type": "code",
   "execution_count": 8,
   "id": "5f95dafd-ab80-464e-ba8a-dec7a2424780",
   "metadata": {},
   "outputs": [
    {
     "name": "stdout",
     "output_type": "stream",
     "text": [
      "Deleted existing collection: products\n"
     ]
    }
   ],
   "source": [
    "# Check if the collection exists and delete it if it does\n",
    "# DB = \"products_vectorstore\"\n",
    "collection_name = \"products\"\n",
    "\n",
    "# For old versions of Chroma, use this line instead of the subsequent one\n",
    "existing_collection_names = [collection.name for collection in client.list_collections()]\n",
    "# existing_collection_names = client.list_collections()\n",
    "\n",
    "if collection_name in existing_collection_names:\n",
    "    client.delete_collection(collection_name)\n",
    "    print(f\"Deleted existing collection: {collection_name}\")\n",
    "\n",
    "collection = client.create_collection(collection_name)"
   ]
  },
  {
   "cell_type": "markdown",
   "id": "d392ed28-203d-4e73-be87-ac1390bdf722",
   "metadata": {},
   "source": [
    "# Introducing the SentenceTransfomer\n",
    "\n",
    "The all-MiniLM is a very useful model from HuggingFace that maps sentences & paragraphs to a 384 dimensional dense vector space and is ideal for tasks like semantic search.\n",
    "\n",
    "https://huggingface.co/sentence-transformers/all-MiniLM-L6-v2\n",
    "\n",
    "## It can run pretty quickly locally.\n",
    "\n",
    "## Last time we used OpenAI embeddings to produce vector embeddings. Benefits compared to OpenAI embeddings:\n",
    "1. It's free and fast!\n",
    "3. We can run it locally, so the data never leaves our box - might be useful if you're building a personal RAG\n"
   ]
  },
  {
   "cell_type": "code",
   "execution_count": null,
   "id": "18cdb1ee-4bc2-4a99-b4de-984857c4c70a",
   "metadata": {},
   "outputs": [],
   "source": [
    "# from sentence_transformers import SentenceTransformer\n",
    "# sentences = [\"This is an example sentence\", \"Each sentence is converted\"]\n",
    "\n",
    "# model = SentenceTransformer('sentence-transformers/all-MiniLM-L6-v2')\n",
    "# embeddings = model.encode(sentences)\n",
    "# print(embeddings)\n"
   ]
  },
  {
   "cell_type": "markdown",
   "id": "77af8e0f-7f2f-4ee3-bfee-29b59398a333",
   "metadata": {},
   "source": [
    "# 3. Load HF sentence transformer model - embedding model to run loacally fast\n",
    "* list of text => numpy array of vectors 384 dimension"
   ]
  },
  {
   "cell_type": "code",
   "execution_count": 9,
   "id": "a87db200-d19d-44bf-acbd-15c45c70f5c9",
   "metadata": {},
   "outputs": [],
   "source": [
    "# load HF model\n",
    "model = SentenceTransformer('sentence-transformers/all-MiniLM-L6-v2')"
   ]
  },
  {
   "cell_type": "code",
   "execution_count": 10,
   "id": "9b23a025-4c35-4d3a-96ad-b956cad37b0a",
   "metadata": {
    "scrolled": true
   },
   "outputs": [
    {
     "data": {
      "text/plain": [
       "array([-9.46715847e-02,  4.27619554e-02,  5.51620685e-02, -5.10993937e-04,\n",
       "        1.16203753e-02, -6.80130795e-02,  2.76405979e-02,  6.06974177e-02,\n",
       "        2.88530793e-02, -1.74128115e-02, -4.94346768e-02,  2.30993349e-02,\n",
       "       -1.28614325e-02, -4.31402922e-02,  2.17510443e-02,  4.26549017e-02,\n",
       "        5.10500036e-02, -7.79727027e-02, -1.23247236e-01,  3.67455482e-02,\n",
       "        4.54116147e-03,  9.47937518e-02, -5.53098954e-02,  1.70641262e-02,\n",
       "       -2.92873103e-02, -4.47124764e-02,  2.06784662e-02,  6.39320388e-02,\n",
       "        2.27427632e-02,  4.87789884e-02, -2.33503012e-03,  4.72859479e-02,\n",
       "       -2.86259223e-02,  2.30624974e-02,  2.45130528e-02,  3.95681858e-02,\n",
       "       -4.33176085e-02, -1.02316663e-01,  2.79873866e-03,  2.39304993e-02,\n",
       "        1.61556583e-02, -8.99076089e-03,  2.07255706e-02,  6.40123114e-02,\n",
       "        6.89179301e-02, -6.98361322e-02,  2.89759575e-03, -8.10989365e-02,\n",
       "        1.71123147e-02,  2.50653876e-03, -1.06529072e-01, -4.87733111e-02,\n",
       "       -1.67762153e-02, -2.28662435e-02,  1.14816561e-01,  4.87413406e-02,\n",
       "       -1.64962336e-02, -6.90832287e-02,  1.13612100e-01, -7.18485638e-02,\n",
       "       -9.01571140e-02,  3.91481854e-06, -8.66769403e-02, -4.05916423e-02,\n",
       "        3.71317454e-02, -1.77618470e-02, -5.57464249e-02, -4.57097404e-02,\n",
       "       -5.43141328e-02, -4.00611646e-02, -4.60228175e-02,  2.82194149e-02,\n",
       "       -2.33605895e-02,  1.44406445e-02, -1.52777471e-02, -4.34328280e-02,\n",
       "        6.81274906e-02,  8.21894482e-02,  7.83888903e-03, -2.85973325e-02,\n",
       "        6.14309385e-02, -4.92685027e-02,  3.27059510e-03, -2.72683091e-02,\n",
       "       -4.59346622e-02, -2.60167811e-02,  5.70650399e-02, -5.86454757e-04,\n",
       "       -4.37076464e-02, -2.47801072e-04, -8.73550028e-02,  3.48776206e-02,\n",
       "        1.39327375e-02, -1.60043668e-02,  2.86958516e-02, -9.48595554e-02,\n",
       "        9.40612853e-02,  5.92685454e-02, -8.65014419e-02,  1.45011410e-01,\n",
       "        2.35388447e-02,  3.43325101e-02,  2.51526217e-04,  7.15541467e-02,\n",
       "       -3.12182661e-02,  3.86665650e-02, -2.47745160e-02,  6.52674288e-02,\n",
       "       -8.28816965e-02, -2.80247517e-02,  9.34544951e-03, -7.85540137e-03,\n",
       "        5.30728102e-02,  2.96895504e-02,  3.27329561e-02,  4.94736992e-02,\n",
       "        2.52208710e-02,  4.67068441e-02,  5.03403544e-02, -7.23745227e-02,\n",
       "        2.54435539e-02, -3.67217064e-02,  1.27570294e-02,  1.46063836e-02,\n",
       "        2.11492591e-02, -5.56909442e-02, -9.18510929e-03, -5.63397040e-34,\n",
       "        9.58769843e-02,  5.94578274e-02,  5.11445366e-02,  3.36359926e-02,\n",
       "       -1.34414947e-02, -2.77203210e-02, -3.48436497e-02,  1.80352516e-02,\n",
       "       -2.53210571e-02,  6.73586456e-03,  5.47841005e-02, -3.60574238e-02,\n",
       "       -5.20870052e-02, -2.90345475e-02,  4.38964227e-03,  6.50022998e-02,\n",
       "        3.07485107e-02,  2.00220905e-02,  1.73039350e-03,  2.96725938e-03,\n",
       "        3.40953213e-03, -6.78145140e-02,  3.41304578e-02,  8.37867986e-03,\n",
       "        5.39904423e-02,  2.70389374e-02,  7.84119517e-02, -1.30136207e-01,\n",
       "        4.84650135e-02,  5.14179394e-02, -7.94680417e-03,  5.57884574e-03,\n",
       "       -5.31026088e-02,  3.81299108e-02, -3.05512883e-02, -7.69779012e-02,\n",
       "        1.20531302e-02, -4.08993289e-02, -8.69359225e-02,  6.38056323e-02,\n",
       "        1.68674625e-02,  1.68735476e-03,  6.28894493e-02, -1.67711675e-02,\n",
       "        2.15586126e-02,  7.10051740e-04,  2.81027448e-03, -8.89791269e-03,\n",
       "       -1.80888064e-02, -2.16216911e-02, -5.59149869e-02,  1.78774334e-02,\n",
       "       -9.27093178e-02,  7.27914693e-03, -1.27753630e-01, -4.86938022e-02,\n",
       "        1.45872198e-02, -1.62751433e-02,  6.75622597e-02,  3.87702473e-02,\n",
       "        7.23295584e-02,  9.14992243e-02, -9.65291709e-02,  4.84791845e-02,\n",
       "       -1.06274113e-01, -1.05042662e-02,  8.90350416e-02, -8.07525516e-02,\n",
       "        7.87081867e-02, -2.04917938e-02, -5.55080585e-02, -3.31532545e-02,\n",
       "       -2.14429349e-02,  4.94700260e-02, -7.05119297e-02,  6.63998947e-02,\n",
       "        7.39671513e-02, -2.70115770e-03,  1.62262265e-02, -3.98229547e-02,\n",
       "        5.94092645e-02, -7.14371912e-03, -3.33479606e-02,  2.30419543e-02,\n",
       "        1.87185835e-02, -6.15724772e-02, -8.55438004e-04, -1.05786636e-01,\n",
       "       -8.43619257e-02, -3.92993353e-02, -3.16447318e-02,  6.60644248e-02,\n",
       "        9.41815674e-02, -8.35982785e-02,  9.50880162e-03,  1.25504501e-34,\n",
       "        6.38198406e-02,  2.11371109e-02, -1.65899768e-02,  1.88641436e-02,\n",
       "       -5.57019077e-02,  1.82809681e-03, -1.37586799e-02,  8.16279575e-02,\n",
       "       -9.13296789e-02,  7.06856027e-02,  6.79991469e-02, -5.44536225e-02,\n",
       "        3.80394123e-02,  3.80502967e-03,  1.03689782e-01,  7.32798071e-04,\n",
       "        2.95661502e-02,  4.19424139e-02, -1.20444350e-01,  1.24932481e-02,\n",
       "       -5.53506091e-02,  1.75228678e-02, -2.28164904e-02, -5.79299591e-02,\n",
       "        9.42931138e-03, -5.42281056e-03, -3.94944428e-03,  2.82348488e-02,\n",
       "       -1.28066868e-01, -1.31305223e-02,  7.42957368e-02, -1.74529683e-02,\n",
       "       -9.72759277e-02,  8.25625192e-03,  2.06900910e-02, -5.29770507e-03,\n",
       "       -1.37695968e-02, -3.50974053e-02,  1.74978077e-02, -1.76233351e-02,\n",
       "       -6.50825575e-02, -3.84675860e-02, -8.76397043e-02,  3.21291797e-02,\n",
       "        2.55020964e-03, -2.09378749e-02,  5.55310175e-02,  2.57095657e-02,\n",
       "       -2.94735376e-02,  1.25048086e-02, -6.83466345e-02, -8.00624266e-02,\n",
       "       -1.46906329e-02,  1.03744203e-02, -8.51863176e-02, -1.10538891e-02,\n",
       "        2.14596074e-02,  4.08609435e-02,  3.31646279e-02, -2.76757423e-02,\n",
       "       -2.01877374e-02,  8.98883399e-03,  3.92048545e-02,  1.15103342e-01,\n",
       "        5.50441109e-02,  2.72754878e-02, -1.09526701e-01, -1.72623172e-02,\n",
       "        1.33438427e-02, -1.73702706e-02, -5.04370453e-03, -2.00293083e-02,\n",
       "        1.16672367e-01, -1.84323248e-02,  3.70627977e-02,  1.60885416e-02,\n",
       "        3.48830670e-02,  5.50574623e-02, -6.60798559e-03,  7.06828311e-02,\n",
       "        4.07849029e-02, -1.43314395e-02, -2.85440194e-03,  2.74251942e-02,\n",
       "       -4.26769033e-02,  1.26583967e-02,  3.34343389e-02,  1.62644759e-02,\n",
       "        1.19263167e-02, -2.92119198e-02,  2.73978077e-02,  3.44304889e-02,\n",
       "        2.52832826e-02,  3.07514295e-02,  3.22557427e-02, -1.74628489e-08,\n",
       "       -1.52691016e-02,  5.37681207e-03,  1.41246513e-01,  5.08366488e-02,\n",
       "        5.32256290e-02,  9.67938229e-02,  4.33674604e-02, -6.48307335e-03,\n",
       "        1.58604439e-02,  4.05631140e-02,  6.94985390e-02,  6.04905635e-02,\n",
       "       -6.26189336e-02, -3.96144390e-02,  1.10648863e-01,  1.67735517e-02,\n",
       "       -7.68695120e-03,  2.59614922e-02, -5.28792962e-02, -2.22318508e-02,\n",
       "        1.74596254e-02,  4.75339852e-02,  3.27674411e-02, -4.59685326e-02,\n",
       "        2.01770347e-02, -1.60875898e-02, -1.58613771e-02, -1.66657772e-02,\n",
       "       -3.05246767e-02, -3.87907587e-02, -1.27654588e-02,  6.57610521e-02,\n",
       "       -2.22503059e-02, -9.44990758e-03,  2.32079793e-02,  2.66038142e-02,\n",
       "        2.14204006e-02, -7.54578738e-03,  8.84752348e-02, -9.43514258e-02,\n",
       "       -5.74870482e-02, -7.77097866e-02,  1.95792411e-03, -1.50347622e-02,\n",
       "       -8.08492117e-03,  1.88217852e-02,  8.42517801e-03, -3.78592052e-02,\n",
       "        1.24534424e-02, -7.94995874e-02, -2.15790644e-02,  1.20276753e-02,\n",
       "        1.74870808e-02,  8.74479115e-02,  6.64091259e-02,  3.13736834e-02,\n",
       "       -1.00628864e-02,  2.07700953e-02, -5.20163253e-02, -8.91336706e-03,\n",
       "        1.48542330e-01, -2.51264917e-03,  9.93156061e-02,  2.34929603e-02],\n",
       "      dtype=float32)"
      ]
     },
     "execution_count": 10,
     "metadata": {},
     "output_type": "execute_result"
    }
   ],
   "source": [
    "# Pass in a list of texts, get back a numpy array of vectors\n",
    "\n",
    "vector = model.encode([\"Well hi there\"])[0]\n",
    "vector"
   ]
  },
  {
   "cell_type": "code",
   "execution_count": 16,
   "id": "e0ee471d-b79e-4ad1-a2ed-974e1ef68431",
   "metadata": {},
   "outputs": [
    {
     "data": {
      "text/plain": [
       "384"
      ]
     },
     "execution_count": 16,
     "metadata": {},
     "output_type": "execute_result"
    }
   ],
   "source": [
    "len(vector)"
   ]
  },
  {
   "cell_type": "code",
   "execution_count": 11,
   "id": "8adde63f-e732-4f7c-bba9-f8b2a469f14e",
   "metadata": {},
   "outputs": [],
   "source": [
    "# Quick sidebar - extra to the videos - a function to compare vectors\n",
    "\n",
    "import numpy as np\n",
    "def cosine_similarity(a, b):\n",
    "    return np.dot(a, b) / (np.linalg.norm(a) * np.linalg.norm(b))\n",
    "\n",
    "def how_similar(text1, text2):\n",
    "    vector1, vector2 = model.encode([text1, text2])\n",
    "    similarity = cosine_similarity(vector1, vector2)\n",
    "    print(f\"Similarity between {text1} and {text2} is {similarity*100:.1f}%\")"
   ]
  },
  {
   "cell_type": "code",
   "execution_count": 12,
   "id": "2f9c8d19-6993-42e7-afd6-4c61ffc19419",
   "metadata": {
    "scrolled": true
   },
   "outputs": [
    {
     "name": "stdout",
     "output_type": "stream",
     "text": [
      "Similarity between Java and C++ is 50.7%\n",
      "Similarity between Java and mug is 25.8%\n",
      "Similarity between Cup of Java and mug is 49.3%\n"
     ]
    }
   ],
   "source": [
    "# And let's see how adding a few words to the context can change things up!\n",
    "\n",
    "how_similar(\"Java\", \"C++\")\n",
    "how_similar(\"Java\", \"mug\")\n",
    "how_similar(\"Cup of Java\", \"mug\")"
   ]
  },
  {
   "cell_type": "code",
   "execution_count": 13,
   "id": "38de1bf8-c9b5-45b4-9f4b-86af93b3f80d",
   "metadata": {},
   "outputs": [],
   "source": [
    "# OK back to the main story - let's make something we can vectorize\n",
    "\n",
    "def description(item):\n",
    "    text = item.prompt.replace(\"How much does this cost to the nearest dollar?\\n\\n\", \"\")\n",
    "    return text.split(\"\\n\\nPrice is $\")[0]"
   ]
  },
  {
   "cell_type": "code",
   "execution_count": null,
   "id": "543e1215-b6c7-472e-9614-e4ccd872f20c",
   "metadata": {},
   "outputs": [],
   "source": [
    "train[0].prompt"
   ]
  },
  {
   "cell_type": "code",
   "execution_count": 14,
   "id": "8c1205bd-4692-44ef-8ea4-69f255354537",
   "metadata": {},
   "outputs": [
    {
     "data": {
      "text/plain": [
       "'Delphi FG0166 Fuel Pump Module\\nDelphi brings 80 years of OE Heritage into each Delphi pump, ensuring quality and fitment for each Delphi part. Part is validated, tested and matched to the right vehicle application Delphi brings 80 years of OE Heritage into each Delphi assembly, ensuring quality and fitment for each Delphi part Always be sure to check and clean fuel tank to avoid unnecessary returns Rigorous OE-testing ensures the pump can withstand extreme temperatures Brand Delphi, Fit Type Vehicle Specific Fit, Dimensions LxWxH 19.7 x 7.7 x 5.1 inches, Weight 2.2 Pounds, Auto Part Position Unknown, Operation Mode Mechanical, Manufacturer Delphi, Model FUEL PUMP, Dimensions 19.7'"
      ]
     },
     "execution_count": 14,
     "metadata": {},
     "output_type": "execute_result"
    }
   ],
   "source": [
    "description(train[0])"
   ]
  },
  {
   "cell_type": "markdown",
   "id": "16b4ef1f-c696-4a01-b011-00fbccbc1a56",
   "metadata": {},
   "source": [
    "# 4. Now we populate our RAG datastore\n",
    "\n",
    "The next cell populates the 400,000 items in Chroma.\n",
    "\n",
    "Feel free to reduce the number of documents if this takes too long! You can change to:  \n",
    "`NUMBER_OF_DOCUMENTS = 20000`  \n",
    "And that's plenty for a perfectly good RAG pipeline.\n",
    "\n",
    "Just note that if you interrupt the below cell while it's running, you might need to clear out the Chroma datastore (by rerunning the earlier cell that deletes the collection), before you run it again. Otherwise it will complain that there are existing documents with the same ID."
   ]
  },
  {
   "cell_type": "code",
   "execution_count": 15,
   "id": "8c79e2fe-1f50-4ebf-9a93-34f3088f2996",
   "metadata": {},
   "outputs": [
    {
     "name": "stderr",
     "output_type": "stream",
     "text": [
      "100%|█████████████████████████████████████████| 400/400 [55:24<00:00,  8.31s/it]\n"
     ]
    }
   ],
   "source": [
    "NUMBER_OF_DOCUMENTS = len(train)\n",
    "\n",
    "# Uncomment if you'd rather not wait for the full 400,000\n",
    "# NUMBER_OF_DOCUMENTS = 20000\n",
    "\n",
    "for i in tqdm(range(0, NUMBER_OF_DOCUMENTS, 1000)):\n",
    "    documents = [description(item) for item in train[i: i+1000]]\n",
    "    vectors = model.encode(documents).astype(float).tolist()\n",
    "    metadatas = [{\"category\": item.category, \"price\": item.price} for item in train[i: i+1000]]\n",
    "    ids = [f\"doc_{j}\" for j in range(i, i+len(documents))]\n",
    "    collection.add(\n",
    "        ids=ids,\n",
    "        documents=documents,\n",
    "        embeddings=vectors,\n",
    "        metadatas=metadatas\n",
    "    )"
   ]
  },
  {
   "cell_type": "code",
   "execution_count": null,
   "id": "f04f1b20-05ed-461d-b728-d7729125502a",
   "metadata": {},
   "outputs": [],
   "source": []
  }
 ],
 "metadata": {
  "kernelspec": {
   "display_name": "Python 3 (ipykernel)",
   "language": "python",
   "name": "python3"
  },
  "language_info": {
   "codemirror_mode": {
    "name": "ipython",
    "version": 3
   },
   "file_extension": ".py",
   "mimetype": "text/x-python",
   "name": "python",
   "nbconvert_exporter": "python",
   "pygments_lexer": "ipython3",
   "version": "3.11.12"
  }
 },
 "nbformat": 4,
 "nbformat_minor": 5
}
