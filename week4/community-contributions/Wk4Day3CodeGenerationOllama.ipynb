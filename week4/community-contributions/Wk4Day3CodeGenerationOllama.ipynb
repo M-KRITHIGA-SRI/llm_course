{
 "cells": [
  {
   "cell_type": "code",
   "execution_count": null,
   "id": "da298932-42df-4096-a959-f41ede2a8a25",
   "metadata": {},
   "outputs": [],
   "source": [
    "import os\n",
    "import io\n",
    "import sys\n",
    "from dotenv import load_dotenv\n",
    "from openai import OpenAI\n",
    "import google.generativeai\n",
    "import anthropic\n",
    "from IPython.display import Markdown, display, update_display\n",
    "import gradio as gr\n",
    "import subprocess\n",
    "import ollama"
   ]
  },
  {
   "cell_type": "code",
   "execution_count": null,
   "id": "5e380533-9661-43b4-a98f-2a4eed1979a7",
   "metadata": {},
   "outputs": [],
   "source": [
    "system_message = \"You are an assistant that reimplements Python code in high performance C++ for a Windows Operation System. \"\n",
    "system_message += \"Respond only with C++ code; use comments sparingly and do not provide any explanation other than occasional comments. \"\n",
    "system_message += \"The C++ response needs to produce an identical output in the fastest possible time.\""
   ]
  },
  {
   "cell_type": "code",
   "execution_count": null,
   "id": "b2dd3fd9-27e8-43d9-9f09-1e464b766994",
   "metadata": {},
   "outputs": [],
   "source": [
    "def user_prompt_for(python):\n",
    "    user_prompt = \"Rewrite this Python code in C++ with the fastest possible implementation that produces identical output in the least time. \"\n",
    "    user_prompt += \"Respond only with C++ code; do not explain your work other than a few comments. \"\n",
    "    user_prompt += \"Pay attention to number types to ensure no int overflows. Remember to #include all necessary packages such as iomanip,chrono.\\n\\n\"\n",
    "    user_prompt += python\n",
    "    return user_prompt"
   ]
  },
  {
   "cell_type": "code",
   "execution_count": null,
   "id": "0d8b2dbb-b9c4-4614-8399-9be625968a4b",
   "metadata": {},
   "outputs": [],
   "source": [
    "def messages_for(python):\n",
    "    return [\n",
    "        {\"role\": \"system\", \"content\": system_message},\n",
    "        {\"role\": \"user\", \"content\": user_prompt_for(python)}\n",
    "    ]"
   ]
  },
  {
   "cell_type": "code",
   "execution_count": null,
   "id": "fdb04b14-0eb7-44d8-a09e-e3a37c69bcf4",
   "metadata": {},
   "outputs": [],
   "source": [
    "# write to a file called optimized.cpp\n",
    "\n",
    "def write_output(cpp):\n",
    "    code = cpp.replace(\"```cpp\",\"\").replace(\"```\",\"\")\n",
    "    with open(\"optimized_codellama.cpp\", \"w\") as f:\n",
    "        f.write(code)\n",
    "\n",
    "\"\"\"\n",
    "def write_output(cpp_block):\n",
    "    import re\n",
    "\n",
    "    # Match the first ```cpp ... ``` block\n",
    "    match = re.search(r\"```(?:cpp)?\\s*(.*?)```\", cpp_block, re.DOTALL)\n",
    "    if match:\n",
    "        code = match.group(1)\n",
    "        with open(\"optimized_codellama.cpp\", \"w\") as f:\n",
    "            f.write(code)\n",
    "        print(\"✅ C++ code written to optimized_codellama.cpp\")\n",
    "    else:\n",
    "        print(\"⚠️ No valid ```cpp code block found.\")\n",
    "\"\"\""
   ]
  },
  {
   "cell_type": "code",
   "execution_count": null,
   "id": "fbf6b723-176b-4ac3-bad4-d6c51c798677",
   "metadata": {},
   "outputs": [],
   "source": [
    "#This is with streaming \n",
    "import ollama\n",
    "def optimize_codellama(python):\n",
    "    stream = ollama.chat(\n",
    "        model='codellama:latest',\n",
    "        #model='deepseek-coder:latest',\n",
    "        #model='codeqwen:latest',\n",
    "        #model='starcoder2:latest',\n",
    "        messages=messages_for(python),\n",
    "        stream=True\n",
    "    )\n",
    "    reply = \"\"\n",
    "    for chunk in stream:\n",
    "        fragment = chunk['message']['content'] or \"\"\n",
    "        reply+=fragment\n",
    "        print(fragment, end='', flush=True)\n",
    "        #yield result\n",
    "    write_output(reply)"
   ]
  },
  {
   "cell_type": "code",
   "execution_count": null,
   "id": "3299e87d-2e92-4986-a743-8e9bfed5f3be",
   "metadata": {},
   "outputs": [],
   "source": [
    "pi = \"\"\"\n",
    "import time\n",
    "\n",
    "def calculate(iterations, param1, param2):\n",
    "    result = 1.0\n",
    "    for i in range(1, iterations+1):\n",
    "        j = i * param1 - param2\n",
    "        result -= (1/j)\n",
    "        j = i * param1 + param2\n",
    "        result += (1/j)\n",
    "    return result\n",
    "\n",
    "start_time = time.time()\n",
    "result = calculate(100_000_000, 4, 1) * 4\n",
    "end_time = time.time()\n",
    "\n",
    "print(f\"Result: {result:.12f}\")\n",
    "print(f\"Execution Time: {(end_time - start_time):.6f} seconds\")\n",
    "\"\"\""
   ]
  },
  {
   "cell_type": "code",
   "execution_count": null,
   "id": "2b54b7a6-6348-4878-816d-94c5b110c497",
   "metadata": {},
   "outputs": [],
   "source": [
    "exec(pi)"
   ]
  },
  {
   "cell_type": "code",
   "execution_count": null,
   "id": "f5ed379b-bcfb-4404-8dd4-34e0090900fd",
   "metadata": {},
   "outputs": [],
   "source": [
    "optimize_codellama(pi)"
   ]
  },
  {
   "cell_type": "code",
   "execution_count": null,
   "id": "ac595113-4d02-49a4-8078-6db2ccfd9e5e",
   "metadata": {},
   "outputs": [],
   "source": [
    "exec(pi)"
   ]
  },
  {
   "cell_type": "code",
   "execution_count": null,
   "id": "2d6a1cd9-3de8-49de-8133-28c1059af200",
   "metadata": {},
   "outputs": [],
   "source": [
    "!g++ -O3 -std=c++17 -o optimized_codellama.exe optimized_codellama.cpp\n",
    "!optimized_codellama.exe"
   ]
  },
  {
   "cell_type": "code",
   "execution_count": null,
   "id": "b090bf9f-763e-4285-810c-7ac46dc87209",
   "metadata": {},
   "outputs": [],
   "source": [
    "python_hard = \"\"\"# Be careful to support large number sizes\n",
    "\n",
    "def lcg(seed, a=1664525, c=1013904223, m=2**32):\n",
    "    value = seed\n",
    "    while True:\n",
    "        value = (a * value + c) % m\n",
    "        yield value\n",
    "        \n",
    "def max_subarray_sum(n, seed, min_val, max_val):\n",
    "    lcg_gen = lcg(seed)\n",
    "    random_numbers = [next(lcg_gen) % (max_val - min_val + 1) + min_val for _ in range(n)]\n",
    "    max_sum = float('-inf')\n",
    "    for i in range(n):\n",
    "        current_sum = 0\n",
    "        for j in range(i, n):\n",
    "            current_sum += random_numbers[j]\n",
    "            if current_sum > max_sum:\n",
    "                max_sum = current_sum\n",
    "    return max_sum\n",
    "\n",
    "def total_max_subarray_sum(n, initial_seed, min_val, max_val):\n",
    "    total_sum = 0\n",
    "    lcg_gen = lcg(initial_seed)\n",
    "    for _ in range(20):\n",
    "        seed = next(lcg_gen)\n",
    "        total_sum += max_subarray_sum(n, seed, min_val, max_val)\n",
    "    return total_sum\n",
    "\n",
    "# Parameters\n",
    "n = 10000         # Number of random numbers\n",
    "initial_seed = 42 # Initial seed for the LCG\n",
    "min_val = -10     # Minimum value of random numbers\n",
    "max_val = 10      # Maximum value of random numbers\n",
    "\n",
    "# Timing the function\n",
    "import time\n",
    "start_time = time.time()\n",
    "result = total_max_subarray_sum(n, initial_seed, min_val, max_val)\n",
    "end_time = time.time()\n",
    "\n",
    "print(\"Total Maximum Subarray Sum (20 runs):\", result)\n",
    "print(\"Execution Time: {:.6f} seconds\".format(end_time - start_time))\n",
    "\"\"\""
   ]
  },
  {
   "cell_type": "code",
   "execution_count": null,
   "id": "abd422bc-40ab-48e0-881b-11956ecf9b48",
   "metadata": {},
   "outputs": [],
   "source": [
    "exec(python_hard)"
   ]
  },
  {
   "cell_type": "code",
   "execution_count": null,
   "id": "41193f41-87a0-416f-8d1b-9b3cbfe18710",
   "metadata": {},
   "outputs": [],
   "source": [
    "optimize_codellama(python_hard)"
   ]
  },
  {
   "cell_type": "code",
   "execution_count": null,
   "id": "78c86f7a-f78c-479c-b599-d05d7930b62f",
   "metadata": {},
   "outputs": [],
   "source": [
    "!g++ -O3 -std=c++17 -o optimized_codellama.exe optimized_codellama.cpp\n",
    "!optimized_codellama.exe"
   ]
  },
  {
   "cell_type": "code",
   "execution_count": null,
   "id": "79bceea8-672c-4645-81ea-03777f6f542a",
   "metadata": {},
   "outputs": [],
   "source": [
    "def stream_codellama(python):    \n",
    "    stream = ollama.chat(model='codellama:latest', messages=messages_for(python), stream=True)\n",
    "    reply = \"\"\n",
    "    for chunk in stream:\n",
    "        fragment = chunk['message']['content'] or \"\"\n",
    "        reply += fragment\n",
    "        yield reply.replace('```cpp\\n','').replace('```','')\n",
    "    \"\"\"\n",
    "    stream = ollama.chat(model='codellama:latest', messages=messages_for(python), stream=True)\n",
    "    # No need for 'reply' variable to accumulate the full text here\n",
    "    for chunk in stream:\n",
    "        fragment = chunk['message']['content'] or \"\"\n",
    "        # Apply replacements to the fragment before yielding\n",
    "        processed_fragment = fragment.replace('```cpp\\n', '').replace('```', '')\n",
    "        yield processed_fragment # <--- YIELD ONLY THE NEW FRAGMENT\n",
    "    \"\"\""
   ]
  },
  {
   "cell_type": "code",
   "execution_count": null,
   "id": "7723ae4e-f137-4471-88e9-ec4fff3143e1",
   "metadata": {},
   "outputs": [],
   "source": [
    "def stream_codeqwen(python):    \n",
    "    stream = ollama.chat(model='codeqwen:latest', messages=messages_for(python), stream=True)\n",
    "    reply = \"\"\n",
    "    for chunk in stream:\n",
    "        fragment = chunk['message']['content'] or \"\"\n",
    "        reply += fragment\n",
    "        yield reply.replace('```cpp\\n','').replace('```','')\n",
    "    \"\"\"\n",
    "    stream = ollama.chat(model='codeqwen:latest', messages=messages_for(python), stream=True)\n",
    "    for chunk in stream:\n",
    "        fragment = chunk['message']['content'] or \"\"\n",
    "        processed_fragment = fragment.replace('```cpp\\n', '').replace('```', '')\n",
    "        yield processed_fragment\n",
    "    \"\"\" "
   ]
  },
  {
   "cell_type": "code",
   "execution_count": null,
   "id": "59fa68d6-326b-4e17-b866-c001b14c88a6",
   "metadata": {},
   "outputs": [],
   "source": [
    "#import time\n",
    "def optimize(python, model):\n",
    "    #print(f\"User selected model: {model}\")\n",
    "    time.sleep(10)\n",
    "    if model==\"codellama:latest\":\n",
    "        result = stream_codellama(python)\n",
    "    elif model==\"codeqwen:latest\":\n",
    "        result = stream_codeqwen(python)\n",
    "    else:\n",
    "        raise ValueError(\"Unknown model\")\n",
    "    for stream_so_far in result:\n",
    "        yield stream_so_far      "
   ]
  },
  {
   "cell_type": "code",
   "execution_count": null,
   "id": "709b0437-0388-4f16-9757-42e2ecc09d31",
   "metadata": {},
   "outputs": [],
   "source": [
    "with gr.Blocks() as ui:\n",
    "    with gr.Row():\n",
    "        python = gr.Textbox(label=\"Python code:\", lines=10, value=python_hard)\n",
    "        cpp = gr.Textbox(label=\"C++ code:\", lines=10)\n",
    "    with gr.Row():\n",
    "        model = gr.Dropdown([\"codellama:latest\", \"codeqwen:latest\"], label=\"Select model\", value=\"codellama:latest\")\n",
    "        convert = gr.Button(\"Convert code\")\n",
    "\n",
    "    convert.click(optimize, inputs=[python, model], outputs=[cpp])\n",
    "\n",
    "ui.launch(inbrowser=True)"
   ]
  },
  {
   "cell_type": "code",
   "execution_count": null,
   "id": "b72b94b7-e4b0-41dc-9f86-02f9f4886ba1",
   "metadata": {},
   "outputs": [],
   "source": [
    "def execute_python(code):\n",
    "    try:\n",
    "        output = io.StringIO()\n",
    "        sys.stdout = output\n",
    "        exec(code)\n",
    "    finally:\n",
    "        sys.stdout = sys.__stdout__\n",
    "    return output.getvalue()"
   ]
  },
  {
   "cell_type": "code",
   "execution_count": null,
   "id": "e5c33ea6-9191-4deb-a826-4c0fe9431e66",
   "metadata": {},
   "outputs": [],
   "source": [
    "\n",
    "def write_output1(cpp,model):\n",
    "    code = cpp.replace(\"```cpp\",\"\").replace(\"```\",\"\")\n",
    "    safe_model_name = model.replace(\":\", \"_\")\n",
    "    filename = f\"{safe_model_name}.cpp\"\n",
    "    with open(filename, \"w\") as f:\n",
    "        f.write(code)\n",
    "    return filename"
   ]
  },
  {
   "cell_type": "code",
   "execution_count": null,
   "id": "a3523043-e153-4855-a6b8-4fb91c20965e",
   "metadata": {},
   "outputs": [],
   "source": [
    "def execute_cpp(code, model):\n",
    "    #write_output1(code,model)\n",
    "    filename=write_output1(code,model)\n",
    "    try:\n",
    "        #compile_cmd = [\"!g++\", \"-O3\", \"-std=c++17\", \"\",\"\",\"\",\"-o\", \"optimized\", \"optimized.cpp\"]\n",
    "        #compile_cmd = [\"g++\", \"-O3\", \"-std=c++17\", \"optimized.cpp\", \"-o\", \"optimized\"]\n",
    "        compile_cmd = [\"g++\", \"-O3\", \"-std=c++17\", filename, \"-o\", \"optimized\"]\n",
    "        compile_result = subprocess.run(compile_cmd, check=True, text=True, capture_output=True)\n",
    "        #run_cmd = [\"!optimized\"]\n",
    "        run_cmd = [\"./optimized\"]\n",
    "        run_result = subprocess.run(run_cmd, check=True, text=True, capture_output=True)\n",
    "        return run_result.stdout\n",
    "    except subprocess.CalledProcessError as e:\n",
    "        return f\"An error occurred:\\n{e.stderr}\"\n",
    "\n",
    "#!g++ -O3 -std=c++17 -o optimized_codellama.exe optimized_codellama.cpp\n",
    "#!optimized_codellama.exe"
   ]
  },
  {
   "cell_type": "code",
   "execution_count": null,
   "id": "e345e65d-d7d6-4281-9a9e-5bf6e15e0bb0",
   "metadata": {},
   "outputs": [],
   "source": [
    "css = \"\"\"\n",
    ".python {background-color: #306998;}\n",
    ".cpp {background-color: #050;}\n",
    "\"\"\""
   ]
  },
  {
   "cell_type": "code",
   "execution_count": null,
   "id": "8ca79b86-483e-4bd5-ab8b-ddb8e896a57a",
   "metadata": {},
   "outputs": [],
   "source": [
    "with gr.Blocks(css=css) as ui:\n",
    "    gr.Markdown(\"## Convert code from Python to C++\")\n",
    "    with gr.Row():\n",
    "        python = gr.Textbox(label=\"Python code:\", value=pi, lines=10)\n",
    "        cpp = gr.Textbox(label=\"C++ code:\", lines=10)\n",
    "    with gr.Row():\n",
    "        model = gr.Dropdown([\"codellama:latest\", \"codeqwen:latest\"], label=\"Select model\", value=\"codeqwen:latest\", interactive=True)\n",
    "    with gr.Row():\n",
    "        convert = gr.Button(\"Convert code\")\n",
    "    with gr.Row():\n",
    "        python_run = gr.Button(\"Run Python\")\n",
    "        cpp_run = gr.Button(\"Run C++\")\n",
    "    with gr.Row():\n",
    "        python_out = gr.TextArea(label=\"Python result:\", elem_classes=[\"python\"])\n",
    "        cpp_out = gr.TextArea(label=\"C++ result:\", elem_classes=[\"cpp\"])\n",
    "    \n",
    "    convert.click(optimize, inputs=[python, model], outputs=[cpp])\n",
    "    python_run.click(execute_python, inputs=[python], outputs=[python_out])\n",
    "    #cpp_run.click(execute_cpp, inputs=[cpp], outputs=[cpp_out])\n",
    "    cpp_run.click(execute_cpp, inputs=[cpp, model], outputs=[cpp_out])\n",
    "    \n",
    "ui.launch(inbrowser=False)"
   ]
  },
  {
   "cell_type": "code",
   "execution_count": null,
   "id": "c68f002f-e643-4776-82af-aaa0a09dc81e",
   "metadata": {},
   "outputs": [],
   "source": []
  },
  {
   "cell_type": "code",
   "execution_count": null,
   "id": "1bb9fe4a-a02e-4665-bdfa-b58154eb77f3",
   "metadata": {},
   "outputs": [],
   "source": []
  },
  {
   "cell_type": "code",
   "execution_count": null,
   "id": "7e7c16f3-3051-4399-84ea-e75004795038",
   "metadata": {},
   "outputs": [],
   "source": []
  }
 ],
 "metadata": {
  "kernelspec": {
   "display_name": "Python 3 (ipykernel)",
   "language": "python",
   "name": "python3"
  },
  "language_info": {
   "codemirror_mode": {
    "name": "ipython",
    "version": 3
   },
   "file_extension": ".py",
   "mimetype": "text/x-python",
   "name": "python",
   "nbconvert_exporter": "python",
   "pygments_lexer": "ipython3",
   "version": "3.11.12"
  }
 },
 "nbformat": 4,
 "nbformat_minor": 5
}
