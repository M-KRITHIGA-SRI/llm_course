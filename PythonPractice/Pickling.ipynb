{
 "cells": [
  {
   "cell_type": "markdown",
   "id": "ce2a0ef3",
   "metadata": {},
   "source": [
    "What is Pickling?\n",
    "\n",
    "Pickling is a way to serialize (convert) a Python object into a binary format so that it can be saved to a file and later reloaded. This is especially useful when you want to save complex objects like lists, dictionaries, or instances of classes to a file.\n",
    "\n",
    "Why Use Pickling?\n",
    "\n",
    "Efficiency: Pickling is faster than converting objects to text formats like JSON for saving.\n",
    "\n",
    "Flexibility: It can handle many Python-specific types, including objects of custom classes.\n",
    "\n",
    "Basics of Pickling in Python\n",
    "\n",
    "The pickle module is built into Python, and it provides methods to serialize and deserialize objects.\n",
    "\n",
    "Steps for Pickling:\n",
    "\n",
    "Serialize an object: Save it to a file.\n",
    "\n",
    "Deserialize an object: Load it back into memory.\n",
    "\n",
    "Here’s an example of a class that we’ll pickle."
   ]
  },
  {
   "cell_type": "code",
   "execution_count": 3,
   "id": "b723de93",
   "metadata": {},
   "outputs": [],
   "source": [
    "class Person:\n",
    "    def __init__(self, name, age):\n",
    "        self.name = name\n",
    "        self.age = age\n",
    "\n",
    "    def __repr__(self):\n",
    "        return f\"Person(name={self.name}, age={self.age})\"\n"
   ]
  },
  {
   "cell_type": "markdown",
   "id": "5b2add13",
   "metadata": {},
   "source": [
    "2. Pickle an Object\n",
    "\n",
    "Here’s how to save an instance of the Person class to a pickle file."
   ]
  },
  {
   "cell_type": "code",
   "execution_count": 4,
   "id": "eac47de0",
   "metadata": {},
   "outputs": [
    {
     "name": "stdout",
     "output_type": "stream",
     "text": [
      "Object pickled successfully.\n"
     ]
    }
   ],
   "source": [
    "import pickle\n",
    "\n",
    "# Create an instance of the class\n",
    "person = Person(\"Alice\", 30)\n",
    "\n",
    "# Open a file in binary write mode\n",
    "with open(\"person.pkl\", \"wb\") as file:\n",
    "    pickle.dump(person, file)  # Serialize and write to file\n",
    "\n",
    "print(\"Object pickled successfully.\")\n"
   ]
  },
  {
   "cell_type": "markdown",
   "id": "9b68496a",
   "metadata": {},
   "source": [
    "3. Unpickle the Object\n",
    "\n",
    "Here’s how to read the object back."
   ]
  },
  {
   "cell_type": "code",
   "execution_count": 5,
   "id": "7b332724",
   "metadata": {},
   "outputs": [
    {
     "name": "stdout",
     "output_type": "stream",
     "text": [
      "Loaded object: Person(name=Alice, age=30)\n"
     ]
    }
   ],
   "source": [
    "# Open the file in binary read mode\n",
    "with open(\"person.pkl\", \"rb\") as file:\n",
    "    loaded_person = pickle.load(file)  # Deserialize and load\n",
    "\n",
    "print(\"Loaded object:\", loaded_person)\n"
   ]
  },
  {
   "cell_type": "markdown",
   "id": "4c3ad309",
   "metadata": {},
   "source": [
    "JSON Serialization: An Alternative\n",
    "\n",
    "The json module can serialize Python objects to text. However, it only works with basic data types: lists, dictionaries, strings, numbers, and None.\n",
    "\n",
    "1. Save a Dictionary as JSON\n",
    "\n",
    "Here’s how to save a dictionary to a JSON file."
   ]
  },
  {
   "cell_type": "code",
   "execution_count": 6,
   "id": "c7c4fb9d",
   "metadata": {},
   "outputs": [
    {
     "name": "stdout",
     "output_type": "stream",
     "text": [
      "Data saved as JSON.\n"
     ]
    }
   ],
   "source": [
    "import json\n",
    "\n",
    "# Example dictionary\n",
    "data = {\"name\": \"Alice\", \"age\": 30, \"hobbies\": [\"reading\", \"cycling\"]}\n",
    "\n",
    "# Save to a JSON file\n",
    "with open(\"data.json\", \"w\") as file:\n",
    "    json.dump(data, file)\n",
    "\n",
    "print(\"Data saved as JSON.\")\n"
   ]
  },
  {
   "cell_type": "markdown",
   "id": "84c3a337",
   "metadata": {},
   "source": [
    "2. Load the JSON Data\n",
    "\n",
    "Here’s how to load it back."
   ]
  },
  {
   "cell_type": "code",
   "execution_count": 7,
   "id": "da619c31",
   "metadata": {},
   "outputs": [
    {
     "name": "stdout",
     "output_type": "stream",
     "text": [
      "Loaded JSON data: {'name': 'Alice', 'age': 30, 'hobbies': ['reading', 'cycling']}\n"
     ]
    }
   ],
   "source": [
    "# Read from the JSON file\n",
    "with open(\"data.json\", \"r\") as file:\n",
    "    loaded_data = json.load(file)\n",
    "\n",
    "print(\"Loaded JSON data:\", loaded_data)\n"
   ]
  },
  {
   "cell_type": "markdown",
   "id": "1be70b15",
   "metadata": {},
   "source": [
    "3. Convert JSON String to Python Object\n",
    "\n",
    "If you’re working with JSON strings instead of files, use json.dumps() and json.loads()."
   ]
  },
  {
   "cell_type": "code",
   "execution_count": 8,
   "id": "7c4b517a",
   "metadata": {},
   "outputs": [
    {
     "name": "stdout",
     "output_type": "stream",
     "text": [
      "JSON String: {\"name\": \"Alice\", \"age\": 30, \"hobbies\": [\"reading\", \"cycling\"]}\n",
      "Python Object: {'name': 'Alice', 'age': 30, 'hobbies': ['reading', 'cycling']}\n"
     ]
    }
   ],
   "source": [
    "# Convert Python object to JSON string\n",
    "json_string = json.dumps(data)\n",
    "print(\"JSON String:\", json_string)\n",
    "\n",
    "# Convert JSON string back to Python object\n",
    "python_obj = json.loads(json_string)\n",
    "print(\"Python Object:\", python_obj)\n"
   ]
  },
  {
   "cell_type": "markdown",
   "id": "d321c15f",
   "metadata": {},
   "source": [
    "| **Feature**        | **Pickle**                              | **JSON**                                     |\n",
    "| ------------------ | --------------------------------------- | -------------------------------------------- |\n",
    "| **Format**         | Binary                                  | Text                                         |\n",
    "| **Human-readable** | No                                      | Yes                                          |\n",
    "| **Speed**          | Faster                                  | Slower                                       |\n",
    "| **Compatibility**  | Python-specific                         | Language-independent                         |\n",
    "| **Custom objects** | Yes, supports any Python object         | Limited to basic types like dict, list, etc. |\n",
    "| **Use cases**      | Saving Python-specific data efficiently | Sharing data across languages                |\n",
    "\n",
    "Key Takeaways\n",
    "\n",
    "Pickle is great for Python-specific tasks where speed and flexibility matter.\n",
    "\n",
    "JSON is better for interoperability and human readability.\n",
    "\n",
    "Use pickle for saving objects locally and json for sharing data with other systems or languages."
   ]
  }
 ],
 "metadata": {
  "kernelspec": {
   "display_name": "llms",
   "language": "python",
   "name": "python3"
  },
  "language_info": {
   "codemirror_mode": {
    "name": "ipython",
    "version": 3
   },
   "file_extension": ".py",
   "mimetype": "text/x-python",
   "name": "python",
   "nbconvert_exporter": "python",
   "pygments_lexer": "ipython3",
   "version": "3.11.13"
  }
 },
 "nbformat": 4,
 "nbformat_minor": 5
}
