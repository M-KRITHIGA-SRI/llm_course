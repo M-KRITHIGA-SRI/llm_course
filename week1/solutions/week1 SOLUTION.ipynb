{
 "cells": [
  {
   "cell_type": "markdown",
   "id": "fe12c203-e6a6-452c-a655-afb8a03a4ff5",
   "metadata": {},
   "source": [
    "# End of week 1 solution\n",
    "\n",
    "To demonstrate your familiarity with OpenAI API, and also Ollama, build a tool that takes a technical question,  \n",
    "and responds with an explanation. This is a tool that you will be able to use yourself during the course!\n",
    "\n",
    "After week 2 you'll be able to add a User Interface to this tool, giving you a valuable application."
   ]
  },
  {
   "cell_type": "code",
   "execution_count": 1,
   "id": "c1070317-3ed9-4659-abe3-828943230e03",
   "metadata": {},
   "outputs": [],
   "source": [
    "# imports\n",
    "\n",
    "from dotenv import load_dotenv\n",
    "from IPython.display import Markdown, display, update_display\n",
    "from openai import OpenAI\n",
    "import ollama"
   ]
  },
  {
   "cell_type": "code",
   "execution_count": 2,
   "id": "4a456906-915a-4bfd-bb9d-57e505c5093f",
   "metadata": {},
   "outputs": [],
   "source": [
    "# constants\n",
    "\n",
    "MODEL_GPT = 'gpt-4o-mini'\n",
    "MODEL_LLAMA = 'llama3.2'"
   ]
  },
  {
   "cell_type": "code",
   "execution_count": 3,
   "id": "a8d7923c-5f28-4c30-8556-342d7c8497c1",
   "metadata": {},
   "outputs": [],
   "source": [
    "# set up environment\n",
    "\n",
    "load_dotenv()\n",
    "openai = OpenAI()\n"
   ]
  },
  {
   "cell_type": "code",
   "execution_count": 4,
   "id": "3f0d0137-52b0-47a8-81a8-11a90a010798",
   "metadata": {},
   "outputs": [],
   "source": [
    "# here is the question; type over this to ask something new\n",
    "\n",
    "question = \"\"\"\n",
    "Please explain what this code does and why:\n",
    "yield from {book.get(\"author\") for book in books if book.get(\"author\")}\n",
    "\"\"\""
   ]
  },
  {
   "cell_type": "code",
   "execution_count": 5,
   "id": "8595807b-8ae2-4e1b-95d9-e8532142e8bb",
   "metadata": {},
   "outputs": [],
   "source": [
    "# prompts\n",
    "\n",
    "system_prompt = \"You are a helpful technical tutor who answers questions about python code, software engineering, data science and LLMs\"\n",
    "user_prompt = \"Please give a detailed explanation to the following question: \" + question"
   ]
  },
  {
   "cell_type": "code",
   "execution_count": 6,
   "id": "9605cbb6-3d3f-4969-b420-7f4cae0b9328",
   "metadata": {},
   "outputs": [],
   "source": [
    "# messages\n",
    "\n",
    "messages = [\n",
    "    {\"role\": \"system\", \"content\": system_prompt},\n",
    "    {\"role\": \"user\", \"content\": user_prompt}\n",
    "]"
   ]
  },
  {
   "cell_type": "code",
   "execution_count": 7,
   "id": "60ce7000-a4a5-4cce-a261-e75ef45063b4",
   "metadata": {},
   "outputs": [
    {
     "data": {
      "text/markdown": [
       "The code snippet you've provided is utilizing a few concepts from Python, including **generators**, **set comprehensions**, and dictionary-like access patterns. Let’s break it down step by step to understand what the code does and why it's constructed in this way.\n",
       "\n",
       "### Breakdown of the Code\n",
       "\n",
       "python\n",
       "yield from {book.get(\"author\") for book in books if book.get(\"author\")}\n",
       "\n",
       "\n",
       "1. **`books`**: \n",
       "   - This variable presumably holds an iterable collection (like a list) of book objects. Each book object is typically represented as a dictionary or an object with an accessible `author` attribute.\n",
       "\n",
       "2. **Set Comprehension**:\n",
       "   - The part inside the curly braces `{...}` is a **set comprehension**.\n",
       "   - It creates a set that includes the values of the 'author' key from the `book` dictionaries. \n",
       "   - The set comprehension works as follows:\n",
       "     - It iterates over each `book` in the `books`.\n",
       "     - For each `book`, it tries to get the value associated with the key `\"author\"` using `book.get(\"author\")`.\n",
       "     - The condition `if book.get(\"author\")` ensures that only books with a non-None and non-empty author attribute will be included in the set. This means if `book.get(\"author\")` returns `None` (or an empty string), that author value will not be included.\n",
       "\n",
       "3. **Yielding Values**:\n",
       "   - The `yield from` statement is used to yield values from an iterable in a generator function.\n",
       "   - In this case, the set created from the set comprehension contains unique authors from the books list. `yield from` will yield each unique author found in the set one at a time, effectively making this portion of the code a generator.\n",
       "\n",
       "### What Does This Code Do?\n",
       "\n",
       "1. **Extract Unique Authors**: \n",
       "   - The code extracts all unique author names from a list of book dictionaries (or objects), where each entry in the list could have an `author` attribute.\n",
       "\n",
       "2. **Yield Authors**: \n",
       "   - By using `yield from`, it allows each author to be produced one at a time when this generator function is invoked. This is useful for memory efficiency if the list of authors is large because it does not need to create a full list in memory.\n",
       "\n",
       "### Why Use This Code?\n",
       "\n",
       "- **Efficiency**: Using `yield from` with set comprehension is an efficient way to handle a potentially large data set, especially since it avoids creating intermediate lists (like using a list comprehension would do).\n",
       "  \n",
       "- **Uniqueness**: The use of a set automatically handles duplication, which ensures that each author name yielded is unique without additional logic for checking duplicates.\n",
       "\n",
       "- **Readability**: The single line combines the logic of mapping (extracting authors) and filtering (only including valid authors), making the intention of the code clear and concise.\n",
       "\n",
       "### Example\n",
       "\n",
       "To further illustrate, consider the following example:\n",
       "\n",
       "python\n",
       "books = [\n",
       "    {\"title\": \"Book 1\", \"author\": \"Alice\"},\n",
       "    {\"title\": \"Book 2\", \"author\": \"Bob\"},\n",
       "    {\"title\": \"Book 3\", \"author\": \"Alice\"},\n",
       "    {\"title\": \"Book 4\", \"author\": None},\n",
       "    {\"title\": \"Book 5\", \"author\": \"Charlie\"},\n",
       "]\n",
       "\n",
       "def get_authors(books):\n",
       "    yield from {book.get(\"author\") for book in books if book.get(\"author\")}\n",
       "\n",
       "for author in get_authors(books):\n",
       "    print(author)\n",
       "\n",
       "\n",
       "### Output\n",
       "\n",
       "Alice\n",
       "Bob\n",
       "Charlie\n",
       "\n",
       "\n",
       "### Conclusion\n",
       "\n",
       "This code snippet is an elegant and pytonic method to extract and yield unique author names from a potentially incomplete collection of book data, demonstrating key features of Python such as set comprehensions and generators. This snippet can be very useful in scenarios where you’re dealing with a large collection of data and you want to process or analyze unique elements efficiently."
      ],
      "text/plain": [
       "<IPython.core.display.Markdown object>"
      ]
     },
     "metadata": {},
     "output_type": "display_data"
    }
   ],
   "source": [
    "# Get gpt-4o-mini to answer, with streaming\n",
    "\n",
    "stream = openai.chat.completions.create(model=MODEL_GPT, messages=messages,stream=True)\n",
    "    \n",
    "response = \"\"\n",
    "display_handle = display(Markdown(\"\"), display_id=True)\n",
    "for chunk in stream:\n",
    "    response += chunk.choices[0].delta.content or ''\n",
    "    response = response.replace(\"```\",\"\").replace(\"markdown\", \"\")\n",
    "    update_display(Markdown(response), display_id=display_handle.display_id)"
   ]
  },
  {
   "cell_type": "code",
   "execution_count": 9,
   "id": "8f7c8ea8-4082-4ad0-8751-3301adcf6538",
   "metadata": {},
   "outputs": [
    {
     "data": {
      "text/markdown": [
       "**Code Explanation**\n",
       "\n",
       "The given code snippet is using a combination of Python features to extract author names from a list of dictionaries, where each dictionary represents a book with an \"author\" key.\n",
       "\n",
       "```python\n",
       "yield from {book.get(\"author\") for book in books if book.get(\"author\")}\n",
       "```\n",
       "\n",
       "Here's a breakdown:\n",
       "\n",
       "1. `{...}`: This is a dictionary comprehension expression that creates a new dictionary.\n",
       "2. `for book in books`: This is the outer iteration, which iterates over the list of dictionaries (`books`).\n",
       "3. `if book.get(\"author\")`: This condition filters out any dictionaries (`book`) that do not have an \"author\" key or if the value associated with this key is empty.\n",
       "4. `{...}`: This is another dictionary comprehension expression that extracts the values (i.e., author names) from the filtered dictionaries.\n",
       "5. `yield from {...}`: This is a key feature of Python 3.3 and later versions, which allows us to \"forward\" iterators to other iterators.\n",
       "\n",
       "**What does `yield from` do?**\n",
       "\n",
       "In essence, `yield from` takes an iterable (such as a list or generator) and forwards each item to another iterator. The innermost iterator is responsible for yielding the final values.\n",
       "\n",
       "Think of it like this: Imagine you have two iterators - one that generates numbers 1-5, and another that generates letters 'a'-'e'. `yield from` would iterate over the first iterator (numbers) and forward each number to the second iterator (letters), resulting in the sequence 'a', 'b', 'c', 'd', 'e'.\n",
       "\n",
       "**How does this code work?**\n",
       "\n",
       "1. The outer dictionary comprehension iterates over the list of dictionaries (`books`) and filters out those without an \"author\" key or with empty values.\n",
       "2. For each remaining dictionary, it extracts the author name using `book.get(\"author\")`.\n",
       "3. These extracted values are then passed to the inner generator expression.\n",
       "4. The inner generator expression yields each extracted value (author name).\n",
       "5. The outer `yield from` statement forwards each of these values to an unknown destination (which is why we can use the `{...}` syntax, as it effectively creates a dictionary with the yielded values).\n",
       "\n",
       "**Why use this code?**\n",
       "\n",
       "This code snippet uses the `yield from` feature to:\n",
       "\n",
       "* Reduce code duplication by not having to manually iterate and forward the inner generator.\n",
       "* Make the code more readable and maintainable, especially when working with complex iterator hierarchies.\n",
       "\n",
       "However, in practice, the given code might be considered redundant because it could be replaced with a simple `for` loop or the `map()` function:\n",
       "```python\n",
       "# Redundant version\n",
       "result = []\n",
       "for book in books:\n",
       "    author = book.get(\"author\")\n",
       "    if author:\n",
       "        result.append(author)\n",
       "\n",
       "# Equivalent version using map()\n",
       "from itertools import filterfalse\n",
       "\n",
       "result = list(map(lambda x: x, filterfalse(lambda x: x is None or not x, [book.get(\"author\") for book in books])))\n",
       "```\n",
       "The `yield from` syntax is generally more concise and expressive when working with generators, but it's essential to consider the context and readability of your code."
      ],
      "text/plain": [
       "<IPython.core.display.Markdown object>"
      ]
     },
     "metadata": {},
     "output_type": "display_data"
    }
   ],
   "source": [
    "# Get Llama 3.2 to answer\n",
    "\n",
    "response = ollama.chat(model=MODEL_LLAMA, messages=messages)\n",
    "reply = response['message']['content']\n",
    "display(Markdown(reply))"
   ]
  },
  {
   "cell_type": "markdown",
   "id": "7e14bcdb-b928-4b14-961e-9f7d8c7335bf",
   "metadata": {},
   "source": [
    "# Congratulations!\n",
    "\n",
    "You could make it better by taking in the question using  \n",
    "`my_question = input(\"Please enter your question:\")`\n",
    "\n",
    "And then creating the prompts and making the calls interactively."
   ]
  },
  {
   "cell_type": "code",
   "execution_count": null,
   "id": "da663d73-dd2a-4fff-84df-2209cf2b330b",
   "metadata": {},
   "outputs": [],
   "source": []
  }
 ],
 "metadata": {
  "kernelspec": {
   "display_name": "Python 3 (ipykernel)",
   "language": "python",
   "name": "python3"
  },
  "language_info": {
   "codemirror_mode": {
    "name": "ipython",
    "version": 3
   },
   "file_extension": ".py",
   "mimetype": "text/x-python",
   "name": "python",
   "nbconvert_exporter": "python",
   "pygments_lexer": "ipython3",
   "version": "3.11.13"
  }
 },
 "nbformat": 4,
 "nbformat_minor": 5
}
