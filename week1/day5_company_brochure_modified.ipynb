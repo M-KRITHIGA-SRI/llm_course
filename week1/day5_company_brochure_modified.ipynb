{
 "cells": [
  {
   "cell_type": "code",
   "execution_count": 1,
   "id": "d5b08506-dc8b-4443-9201-5f1848161363",
   "metadata": {},
   "outputs": [],
   "source": [
    "# imports\n",
    "# If these fail, please check you're running from an 'activated' environment with (llms) in the command prompt\n",
    "\n",
    "import os\n",
    "import requests\n",
    "import json\n",
    "from typing import List\n",
    "from dotenv import load_dotenv\n",
    "from bs4 import BeautifulSoup\n",
    "from IPython.display import Markdown, display, update_display\n",
    "from openai import OpenAI"
   ]
  },
  {
   "cell_type": "code",
   "execution_count": 2,
   "id": "fc5d8880-f2ee-4c06-af16-ecbc0262af61",
   "metadata": {},
   "outputs": [
    {
     "name": "stdout",
     "output_type": "stream",
     "text": [
      "API key looks good so far\n"
     ]
    }
   ],
   "source": [
    "# Initialize and constants\n",
    "\n",
    "load_dotenv(override=True)\n",
    "api_key = os.getenv('OPENAI_API_KEY')\n",
    "\n",
    "if api_key and api_key.startswith('sk-proj-') and len(api_key)>10:\n",
    "    print(\"API key looks good so far\")\n",
    "else:\n",
    "    print(\"There might be a problem with your API key? Please visit the troubleshooting notebook!\")\n",
    "    \n",
    "MODEL = 'gpt-4o-mini'\n",
    "openai = OpenAI()"
   ]
  },
  {
   "cell_type": "code",
   "execution_count": 3,
   "id": "106dd65e-90af-4ca8-86b6-23a41840645b",
   "metadata": {},
   "outputs": [],
   "source": [
    "# A class to represent a Webpage\n",
    "\n",
    "# Some websites need you to use proper headers when fetching them:\n",
    "headers = {\n",
    " \"User-Agent\": \"Mozilla/5.0 (Windows NT 10.0; Win64; x64) AppleWebKit/537.36 (KHTML, like Gecko) Chrome/117.0.0.0 Safari/537.36\"\n",
    "}\n",
    "\n",
    "class Website:\n",
    "    \"\"\"\n",
    "    A utility class to represent a Website that we have scraped, now with links\n",
    "    \"\"\"\n",
    "\n",
    "    def __init__(self, url):\n",
    "        self.url = url\n",
    "        response = requests.get(url, headers=headers)\n",
    "        self.body = response.content\n",
    "        soup = BeautifulSoup(self.body, 'html.parser')\n",
    "        self.title = soup.title.string if soup.title else \"No title found\"\n",
    "        if soup.body:\n",
    "            for irrelevant in soup.body([\"script\", \"style\", \"img\", \"input\"]):\n",
    "                irrelevant.decompose()\n",
    "            self.text = soup.body.get_text(separator=\"\\n\", strip=True)\n",
    "        else:\n",
    "            self.text = \"\"\n",
    "        links = [link.get('href') for link in soup.find_all('a')]\n",
    "        self.links = [link for link in links if link]\n",
    "\n",
    "    def get_contents(self):\n",
    "        return f\"Webpage Title:\\n{self.title}\\nWebpage Contents:\\n{self.text}\\n\\n\""
   ]
  },
  {
   "cell_type": "code",
   "execution_count": 4,
   "id": "e30d8128-933b-44cc-81c8-ab4c9d86589a",
   "metadata": {},
   "outputs": [
    {
     "data": {
      "text/plain": [
       "['https://edwarddonner.com/',\n",
       " 'https://edwarddonner.com/connect-four/',\n",
       " 'https://edwarddonner.com/outsmart/',\n",
       " 'https://edwarddonner.com/about-me-and-about-nebula/',\n",
       " 'https://edwarddonner.com/posts/',\n",
       " 'https://edwarddonner.com/',\n",
       " 'https://news.ycombinator.com',\n",
       " 'https://nebula.io/?utm_source=ed&utm_medium=referral',\n",
       " 'https://www.prnewswire.com/news-releases/wynden-stark-group-acquires-nyc-venture-backed-tech-startup-untapt-301269512.html',\n",
       " 'https://patents.google.com/patent/US20210049536A1/',\n",
       " 'https://www.linkedin.com/in/eddonner/',\n",
       " 'https://edwarddonner.com/2025/01/23/llm-workshop-hands-on-with-agents-resources/',\n",
       " 'https://edwarddonner.com/2025/01/23/llm-workshop-hands-on-with-agents-resources/',\n",
       " 'https://edwarddonner.com/2024/12/21/llm-resources-superdatascience/',\n",
       " 'https://edwarddonner.com/2024/12/21/llm-resources-superdatascience/',\n",
       " 'https://edwarddonner.com/2024/11/13/llm-engineering-resources/',\n",
       " 'https://edwarddonner.com/2024/11/13/llm-engineering-resources/',\n",
       " 'https://edwarddonner.com/2024/10/16/from-software-engineer-to-ai-data-scientist-resources/',\n",
       " 'https://edwarddonner.com/2024/10/16/from-software-engineer-to-ai-data-scientist-resources/',\n",
       " 'https://edwarddonner.com/',\n",
       " 'https://edwarddonner.com/connect-four/',\n",
       " 'https://edwarddonner.com/outsmart/',\n",
       " 'https://edwarddonner.com/about-me-and-about-nebula/',\n",
       " 'https://edwarddonner.com/posts/',\n",
       " 'mailto:hello@mygroovydomain.com',\n",
       " 'https://www.linkedin.com/in/eddonner/',\n",
       " 'https://twitter.com/edwarddonner',\n",
       " 'https://www.facebook.com/edward.donner.52']"
      ]
     },
     "execution_count": 4,
     "metadata": {},
     "output_type": "execute_result"
    }
   ],
   "source": [
    "ed = Website(\"https://edwarddonner.com\")\n",
    "ed.links"
   ]
  },
  {
   "cell_type": "code",
   "execution_count": 24,
   "id": "6957b079-0d96-45f7-a26a-3487510e9b35",
   "metadata": {},
   "outputs": [],
   "source": [
    "link_system_prompt = \"You are provided with a list of links found on a webpage. \\\n",
    "You are able to decide which of the links would be most relevant to include in a brochure about the company, \\\n",
    "such as links to an About page, or a Company page, or Careers/Jobs pages.\\n\"\n",
    "link_system_prompt += \"You should respond in one of the JSON examples provided:\"\n",
    "link_system_prompt += \"\"\"\n",
    "Example 1\n",
    "{\n",
    "    \"links\": [\n",
    "        {\"type\": \"about page\", \"url\": \"https://full.url/goes/here/about\"},\n",
    "        {\"type\": \"careers page\": \"url\": \"https://another.full.url/careers\"}\n",
    "    ]\n",
    "}\n",
    "\n",
    "Example 2 \n",
    "{\n",
    "    \"links\": [\n",
    "        {\"Domain\": \"About\", \"url\": \"https://full.url/goes/here/about\"},\n",
    "        {\"Domain\": \"Specilization\": \"url\": \"https://another.full.url/careers\"}\n",
    "    ]\n",
    "}\n",
    "\"\"\""
   ]
  },
  {
   "cell_type": "code",
   "execution_count": 25,
   "id": "b97e4068-97ed-4120-beae-c42105e4d59a",
   "metadata": {},
   "outputs": [
    {
     "name": "stdout",
     "output_type": "stream",
     "text": [
      "You are provided with a list of links found on a webpage. You are able to decide which of the links would be most relevant to include in a brochure about the company, such as links to an About page, or a Company page, or Careers/Jobs pages.\n",
      "You should respond in one of the JSON examples provided:\n",
      "Example 1\n",
      "{\n",
      "    \"links\": [\n",
      "        {\"type\": \"about page\", \"url\": \"https://full.url/goes/here/about\"},\n",
      "        {\"type\": \"careers page\": \"url\": \"https://another.full.url/careers\"}\n",
      "    ]\n",
      "}\n",
      "\n",
      "Example 2 \n",
      "{\n",
      "    \"links\": [\n",
      "        {\"Domain\": \"About\", \"url\": \"https://full.url/goes/here/about\"},\n",
      "        {\"Domain\": \"Specilization\": \"url\": \"https://another.full.url/careers\"}\n",
      "    ]\n",
      "}\n",
      "\n"
     ]
    }
   ],
   "source": [
    "print(link_system_prompt)"
   ]
  },
  {
   "cell_type": "code",
   "execution_count": 26,
   "id": "8e1f601b-2eaf-499d-b6b8-c99050c9d6b3",
   "metadata": {},
   "outputs": [],
   "source": [
    "def get_links_user_prompt(website):\n",
    "    user_prompt = f\"Here is the list of links on the website of {website.url} - \"\n",
    "    user_prompt += \"please decide which of these are relevant web links for a brochure about the company, respond with the full https URL in JSON format. \\\n",
    "Do not include Terms of Service, Privacy, email links.\\n\"\n",
    "    user_prompt += \"Links (some might be relative links):\\n\"\n",
    "    user_prompt += \"\\n\".join(website.links)\n",
    "    return user_prompt"
   ]
  },
  {
   "cell_type": "code",
   "execution_count": 27,
   "id": "6bcbfa78-6395-4685-b92c-22d592050fd7",
   "metadata": {},
   "outputs": [
    {
     "name": "stdout",
     "output_type": "stream",
     "text": [
      "Here is the list of links on the website of https://edwarddonner.com - please decide which of these are relevant web links for a brochure about the company, respond with the full https URL in JSON format. Do not include Terms of Service, Privacy, email links.\n",
      "Links (some might be relative links):\n",
      "https://edwarddonner.com/\n",
      "https://edwarddonner.com/connect-four/\n",
      "https://edwarddonner.com/outsmart/\n",
      "https://edwarddonner.com/about-me-and-about-nebula/\n",
      "https://edwarddonner.com/posts/\n",
      "https://edwarddonner.com/\n",
      "https://news.ycombinator.com\n",
      "https://nebula.io/?utm_source=ed&utm_medium=referral\n",
      "https://www.prnewswire.com/news-releases/wynden-stark-group-acquires-nyc-venture-backed-tech-startup-untapt-301269512.html\n",
      "https://patents.google.com/patent/US20210049536A1/\n",
      "https://www.linkedin.com/in/eddonner/\n",
      "https://edwarddonner.com/2025/01/23/llm-workshop-hands-on-with-agents-resources/\n",
      "https://edwarddonner.com/2025/01/23/llm-workshop-hands-on-with-agents-resources/\n",
      "https://edwarddonner.com/2024/12/21/llm-resources-superdatascience/\n",
      "https://edwarddonner.com/2024/12/21/llm-resources-superdatascience/\n",
      "https://edwarddonner.com/2024/11/13/llm-engineering-resources/\n",
      "https://edwarddonner.com/2024/11/13/llm-engineering-resources/\n",
      "https://edwarddonner.com/2024/10/16/from-software-engineer-to-ai-data-scientist-resources/\n",
      "https://edwarddonner.com/2024/10/16/from-software-engineer-to-ai-data-scientist-resources/\n",
      "https://edwarddonner.com/\n",
      "https://edwarddonner.com/connect-four/\n",
      "https://edwarddonner.com/outsmart/\n",
      "https://edwarddonner.com/about-me-and-about-nebula/\n",
      "https://edwarddonner.com/posts/\n",
      "mailto:hello@mygroovydomain.com\n",
      "https://www.linkedin.com/in/eddonner/\n",
      "https://twitter.com/edwarddonner\n",
      "https://www.facebook.com/edward.donner.52\n"
     ]
    }
   ],
   "source": [
    "print(get_links_user_prompt(ed))"
   ]
  },
  {
   "cell_type": "code",
   "execution_count": 28,
   "id": "a29aca19-ca13-471c-a4b4-5abbfa813f69",
   "metadata": {},
   "outputs": [],
   "source": [
    "def get_links(url):\n",
    "    website = Website(url)\n",
    "    response = openai.chat.completions.create(\n",
    "        model=MODEL,\n",
    "        messages=[\n",
    "            {\"role\": \"system\", \"content\": link_system_prompt},\n",
    "            {\"role\": \"user\", \"content\": get_links_user_prompt(website)}\n",
    "      ],\n",
    "        response_format={\"type\": \"json_object\"}\n",
    "    )\n",
    "    result = response.choices[0].message.content\n",
    "    return json.loads(result)"
   ]
  },
  {
   "cell_type": "code",
   "execution_count": 29,
   "id": "74a827a0-2782-4ae5-b210-4a242a8b4cc2",
   "metadata": {},
   "outputs": [
    {
     "data": {
      "text/plain": [
       "['/',\n",
       " '/models',\n",
       " '/datasets',\n",
       " '/spaces',\n",
       " '/posts',\n",
       " '/docs',\n",
       " '/enterprise',\n",
       " '/pricing',\n",
       " '/login',\n",
       " '/join',\n",
       " '/spaces',\n",
       " '/models',\n",
       " '/deepseek-ai/DeepSeek-V3-0324',\n",
       " '/Qwen/Qwen2.5-Omni-7B',\n",
       " '/manycore-research/SpatialLM-Llama-1B',\n",
       " '/ds4sd/SmolDocling-256M-preview',\n",
       " '/ByteDance/InfiniteYou',\n",
       " '/models',\n",
       " '/spaces/ByteDance/InfiniteYou-FLUX',\n",
       " '/spaces/enzostvs/deepsite',\n",
       " '/spaces/3DAIGC/LHM',\n",
       " '/spaces/Trudy/gemini-codrawing',\n",
       " '/spaces/Qwen/Qwen2.5-Omni-7B-Demo',\n",
       " '/spaces',\n",
       " '/datasets/nvidia/Llama-Nemotron-Post-Training-Dataset-v1',\n",
       " '/datasets/glaiveai/reasoning-v1-20m',\n",
       " '/datasets/FreedomIntelligence/medical-o1-reasoning-SFT',\n",
       " '/datasets/a-m-team/AM-DeepSeek-R1-Distilled-1.4M',\n",
       " '/datasets/PixelAI-Team/TalkBody4D',\n",
       " '/datasets',\n",
       " '/join',\n",
       " '/pricing#endpoints',\n",
       " '/pricing#spaces',\n",
       " '/pricing',\n",
       " '/enterprise',\n",
       " '/enterprise',\n",
       " '/enterprise',\n",
       " '/enterprise',\n",
       " '/enterprise',\n",
       " '/enterprise',\n",
       " '/enterprise',\n",
       " '/allenai',\n",
       " '/facebook',\n",
       " '/amazon',\n",
       " '/google',\n",
       " '/Intel',\n",
       " '/microsoft',\n",
       " '/grammarly',\n",
       " '/Writer',\n",
       " '/docs/transformers',\n",
       " '/docs/diffusers',\n",
       " '/docs/safetensors',\n",
       " '/docs/huggingface_hub',\n",
       " '/docs/tokenizers',\n",
       " '/docs/trl',\n",
       " '/docs/transformers.js',\n",
       " '/docs/smolagents',\n",
       " '/docs/peft',\n",
       " '/docs/datasets',\n",
       " '/docs/text-generation-inference',\n",
       " '/docs/accelerate',\n",
       " '/models',\n",
       " '/datasets',\n",
       " '/spaces',\n",
       " '/tasks',\n",
       " 'https://ui.endpoints.huggingface.co',\n",
       " '/chat',\n",
       " '/huggingface',\n",
       " '/brand',\n",
       " '/terms-of-service',\n",
       " '/privacy',\n",
       " 'https://apply.workable.com/huggingface/',\n",
       " 'mailto:press@huggingface.co',\n",
       " '/learn',\n",
       " '/docs',\n",
       " '/blog',\n",
       " 'https://discuss.huggingface.co',\n",
       " 'https://status.huggingface.co/',\n",
       " 'https://github.com/huggingface',\n",
       " 'https://twitter.com/huggingface',\n",
       " 'https://www.linkedin.com/company/huggingface/',\n",
       " '/join/discord']"
      ]
     },
     "execution_count": 29,
     "metadata": {},
     "output_type": "execute_result"
    }
   ],
   "source": [
    "# Anthropic has made their site harder to scrape, so I'm using HuggingFace..\n",
    "\n",
    "huggingface = Website(\"https://huggingface.co\")\n",
    "huggingface.links\n",
    "\n",
    "# anthropic_page = Website(\"https://anthropic.com\")\n",
    "# anthropic_page.links"
   ]
  },
  {
   "cell_type": "code",
   "execution_count": 30,
   "id": "d3d583e2-dcc4-40cc-9b28-1e8dbf402924",
   "metadata": {},
   "outputs": [
    {
     "data": {
      "text/plain": [
       "{'links': [{'type': 'about page', 'url': 'https://huggingface.co/huggingface'},\n",
       "  {'type': 'careers page', 'url': 'https://apply.workable.com/huggingface/'},\n",
       "  {'type': 'enterprise page', 'url': 'https://huggingface.co/enterprise'},\n",
       "  {'type': 'pricing page', 'url': 'https://huggingface.co/pricing'},\n",
       "  {'type': 'blog page', 'url': 'https://huggingface.co/blog'},\n",
       "  {'type': 'documentation', 'url': 'https://huggingface.co/docs'}]}"
      ]
     },
     "execution_count": 30,
     "metadata": {},
     "output_type": "execute_result"
    }
   ],
   "source": [
    "get_links(\"https://huggingface.co\")"
   ]
  },
  {
   "cell_type": "markdown",
   "id": "0d74128e-dfb6-47ec-9549-288b621c838c",
   "metadata": {},
   "source": [
    "## Second step: make the brochure!\n",
    "\n",
    "Assemble all the details into another prompt to GPT4-o"
   ]
  },
  {
   "cell_type": "code",
   "execution_count": 32,
   "id": "85a5b6e2-e7ef-44a9-bc7f-59ede71037b5",
   "metadata": {},
   "outputs": [],
   "source": [
    "def get_all_details(url):\n",
    "    result = \"Landing page:\\n\"\n",
    "    result += Website(url).get_contents()\n",
    "    links = get_links(url)\n",
    "    print(\"Found links:\", links)\n",
    "    for link in links[\"links\"]:\n",
    "        result += f\"\\n\\n{link['type']}\\n\"\n",
    "        result += Website(link[\"url\"]).get_contents()\n",
    "    return result"
   ]
  },
  {
   "cell_type": "code",
   "execution_count": 33,
   "id": "5099bd14-076d-4745-baf3-dac08d8e5ab2",
   "metadata": {},
   "outputs": [
    {
     "name": "stdout",
     "output_type": "stream",
     "text": [
      "Found links: {'links': [{'type': 'about page', 'url': 'https://huggingface.co/about'}, {'type': 'careers page', 'url': 'https://apply.workable.com/huggingface/'}, {'type': 'company page', 'url': 'https://huggingface.co/enterprise'}, {'type': 'pricing page', 'url': 'https://huggingface.co/pricing'}, {'type': 'blog page', 'url': 'https://huggingface.co/blog'}, {'type': 'learn page', 'url': 'https://huggingface.co/learn'}, {'type': 'linkedin page', 'url': 'https://www.linkedin.com/company/huggingface/'}, {'type': 'discuss forum', 'url': 'https://discuss.huggingface.co'}]}\n"
     ]
    },
    {
     "data": {
      "text/plain": [
       "'Landing page:\\nWebpage Title:\\nHugging Face – The AI community building the future.\\nWebpage Contents:\\nHugging Face\\nModels\\nDatasets\\nSpaces\\nPosts\\nDocs\\nEnterprise\\nPricing\\nLog In\\nSign Up\\nThe AI community building the future.\\nThe platform where the machine learning community collaborates on models, datasets, and applications.\\nExplore AI Apps\\nor\\nBrowse 1M+ models\\nTrending on\\nthis week\\nModels\\ndeepseek-ai/DeepSeek-V3-0324\\nUpdated\\n2 days ago\\n•\\n60.5k\\n•\\n1.96k\\nQwen/Qwen2.5-Omni-7B\\nUpdated\\nabout 24 hours ago\\n•\\n27.9k\\n•\\n796\\nmanycore-research/SpatialLM-Llama-1B\\nUpdated\\n8 days ago\\n•\\n11.6k\\n•\\n781\\nds4sd/SmolDocling-256M-preview\\nUpdated\\n6 days ago\\n•\\n48.4k\\n•\\n1.03k\\nByteDance/InfiniteYou\\nUpdated\\n4 days ago\\n•\\n465\\nBrowse 1M+ models\\nSpaces\\nRunning\\non\\nZero\\n530\\n530\\nInfiniteYou-FLUX\\n📸\\nFlexible Photo Recrafting While Preserving Your Identity\\nRunning\\n255\\n255\\nDeepSite\\n🐳\\nImagine and Share in 1-Click\\nRunning\\non\\nZero\\n224\\n224\\nLHM\\n⚡\\nLarge Animatable Human Model\\nRunning\\n350\\n350\\nGemini Co-Drawing\\n✏\\nGemini 2.0 native image generation co-doodling\\nRunning\\n154\\n154\\nQwen2.5 Omni 7B Demo\\n🏆\\nSubmit media inputs to generate text and speech responses\\nBrowse 400k+ applications\\nDatasets\\nnvidia/Llama-Nemotron-Post-Training-Dataset-v1\\nUpdated\\n11 days ago\\n•\\n8.05k\\n•\\n265\\nglaiveai/reasoning-v1-20m\\nUpdated\\n10 days ago\\n•\\n6.84k\\n•\\n127\\nFreedomIntelligence/medical-o1-reasoning-SFT\\nUpdated\\nFeb 22\\n•\\n25.5k\\n•\\n574\\na-m-team/AM-DeepSeek-R1-Distilled-1.4M\\nUpdated\\n29 minutes ago\\n•\\n3.79k\\n•\\n75\\nPixelAI-Team/TalkBody4D\\nUpdated\\n4 days ago\\n•\\n66\\n•\\n44\\nBrowse 250k+ datasets\\nThe Home of Machine Learning\\nCreate, discover and collaborate on ML better.\\nThe collaboration platform\\nHost and collaborate on unlimited public models, datasets and applications.\\nMove faster\\nWith the HF Open source stack.\\nExplore all modalities\\nText, image, video, audio or even 3D.\\nBuild your portfolio\\nShare your work with the world and build your ML profile.\\nSign Up\\nAccelerate your ML\\nWe provide paid Compute and Enterprise solutions.\\nCompute\\nDeploy on optimized\\nInference Endpoints\\nor update your\\nSpaces applications\\nto a GPU in a few clicks.\\nView pricing\\nStarting at $0.60/hour for GPU\\nEnterprise\\nGive your team the most advanced platform to build AI with enterprise-grade security, access controls and\\n\\t\\t\\tdedicated support.\\nGetting started\\nStarting at $20/user/month\\nSingle Sign-On\\nRegions\\nPriority Support\\nAudit Logs\\nResource Groups\\nPrivate Datasets Viewer\\nMore than 50,000 organizations are using Hugging Face\\nAi2\\nEnterprise\\nnon-profit\\n•\\n396 models\\n•\\n2.97k followers\\nAI at Meta\\nEnterprise\\ncompany\\n•\\n2.07k models\\n•\\n5.29k followers\\nAmazon\\ncompany\\n•\\n10 models\\n•\\n2.92k followers\\nGoogle\\ncompany\\n•\\n974 models\\n•\\n10.7k followers\\nIntel\\ncompany\\n•\\n219 models\\n•\\n2.37k followers\\nMicrosoft\\ncompany\\n•\\n365 models\\n•\\n10.7k followers\\nGrammarly\\nEnterprise\\ncompany\\n•\\n10 models\\n•\\n146 followers\\nWriter\\nEnterprise\\ncompany\\n•\\n21 models\\n•\\n253 followers\\nOur Open Source\\nWe are building the foundation of ML tooling with the community.\\nTransformers\\n142,118\\nState-of-the-art ML for PyTorch, TensorFlow, JAX\\nDiffusers\\n28,310\\nState-of-the-art Diffusion models in PyTorch\\nSafetensors\\n3,190\\nSafe way to store/distribute neural network weights\\nHub Python Library\\n2,471\\nPython client to interact with the Hugging Face Hub\\nTokenizers\\n9,539\\nFast tokenizers optimized for research & production\\nTRL\\n12,906\\nTrain transformers LMs with reinforcement learning\\nTransformers.js\\n13,318\\nState-of-the-art ML running directly in your browser\\nsmolagents\\n15,966\\nSmol library to build great agents in Python\\nPEFT\\n17,935\\nParameter-efficient finetuning for large language models\\nDatasets\\n19,896\\nAccess & share datasets for any ML tasks\\nText Generation Inference\\n9,940\\nServe language models with TGI optimized toolkit\\nAccelerate\\n8,550\\nTrain PyTorch models with multi-GPU, TPU, mixed precision\\nSystem theme\\nWebsite\\nModels\\nDatasets\\nSpaces\\nTasks\\nInference Endpoints\\nHuggingChat\\nCompany\\nAbout\\nBrand assets\\nTerms of service\\nPrivacy\\nJobs\\nPress\\nResources\\nLearn\\nDocumentation\\nBlog\\nForum\\nService Status\\nSocial\\nGitHub\\nTwitter\\nLinkedIn\\nDiscord\\n\\n\\n\\nabout page\\nWebpage Title:\\nabout (Sergei)\\nWebpage Contents:\\nHugging Face\\nModels\\nDatasets\\nSpaces\\nPosts\\nDocs\\nEnterprise\\nPricing\\nLog In\\nSign Up\\nSergei\\nabout\\nFollow\\nRenumathi\\'s profile picture\\nKalaipriya\\'s profile picture\\nselvivincent\\'s profile picture\\n4\\n\\t\\t\\t\\t\\tfollowers\\n·\\n0 following\\nAI & ML interests\\nNone yet\\nOrganizations\\nNone yet\\nmodels\\nNone public yet\\ndatasets\\nNone public yet\\nSystem theme\\nCompany\\nTOS\\nPrivacy\\nAbout\\nJobs\\nWebsite\\nModels\\nDatasets\\nSpaces\\nPricing\\nDocs\\n\\n\\n\\ncareers page\\nWebpage Title:\\nHugging Face - Current Openings\\nWebpage Contents:\\n\\n\\n\\n\\ncompany page\\nWebpage Title:\\nEnterprise Hub - Hugging Face\\nWebpage Contents:\\nHugging Face\\nModels\\nDatasets\\nSpaces\\nPosts\\nDocs\\nEnterprise\\nPricing\\nLog In\\nSign Up\\nEnterprise Hub\\nEnterprise-ready version of the world’s leading AI platform\\nSubscribe to\\nEnterprise Hub\\nfor $20/user/month with your Hub organization\\nGive your organization the most advanced platform to build AI with enterprise-grade security, access controls,\\n\\t\\t\\tdedicated support and more.\\nSingle Sign-On\\nConnect securely to your identity provider with SSO integration.\\nRegions\\nSelect, manage, and audit the location of your repository data.\\nAudit Logs\\nStay in control with comprehensive logs that report on actions taken.\\nResource Groups\\nAccurately manage access to repositories with granular access control.\\nToken Management\\nCentralized token control and custom approval policies for organization access.\\nAnalytics\\nTrack and analyze repository usage data in a single dashboard.\\nAdvanced Compute Options\\nIncrease scalability and performance with more compute options like ZeroGPU.\\nZeroGPU Quota Boost\\nAll organization members get 5x more ZeroGPU quota to get the most of Spaces.\\nPrivate Datasets Viewer\\nEnable the Dataset Viewer on your private datasets for easier collaboration.\\nAdvanced security\\nConfigure organization-wide security policies and default repository visibility.\\nBilling\\nControl your budget effectively with managed billing and yearly commit options.\\nPriority Support\\nMaximize your platform usage with priority support from the Hugging Face team.\\nExtra Private Storage\\nGet an additional 1 TB of private storage for each member of your organization (then $25/month per extra TB).\\nJoin the most forward-thinking AI organizations\\nEverything you already know and love about Hugging Face in Enterprise mode.\\nSubscribe to\\nEnterprise Hub\\nor\\nTalk to sales\\nNVIDIA\\nEnterprise\\ncompany\\n•\\n329 models\\n•\\n20.4k followers\\nNerdy Face\\nEnterprise\\ncompany\\n•\\n1 model\\n•\\n286 followers\\nAMD\\nEnterprise\\ncompany\\n•\\n112 models\\n•\\n1.43k followers\\nArm\\nEnterprise\\ncompany\\n•\\n159 followers\\nServiceNow-AI\\nEnterprise\\ncompany\\n•\\n194 followers\\nFidelity Investments\\nEnterprise\\ncompany\\n•\\n132 followers\\nMistral AI_\\nEnterprise\\ncompany\\n•\\n26 models\\n•\\n7.16k followers\\nTechnology Innovation Institute\\nEnterprise\\ncompany\\n•\\n65 models\\n•\\n1.27k followers\\nChegg Inc\\nEnterprise\\ncompany\\n•\\n84 followers\\nGrammarly\\nEnterprise\\ncompany\\n•\\n10 models\\n•\\n146 followers\\nArcee AI\\nEnterprise\\ncompany\\n•\\n156 models\\n•\\n477 followers\\nWidn AI\\nEnterprise\\ncompany\\n•\\n43 followers\\nAdyen\\nEnterprise\\ncompany\\n•\\n57 followers\\nEkimetrics\\nEnterprise\\ncompany\\n•\\n55 followers\\nMeta Llama\\nEnterprise\\ncompany\\n•\\n57 models\\n•\\n34.2k followers\\nSnowflake\\nEnterprise\\ncompany\\n•\\n15 models\\n•\\n466 followers\\nOrange\\nEnterprise\\ncompany\\n•\\n7 models\\n•\\n198 followers\\nWriter\\nEnterprise\\ncompany\\n•\\n21 models\\n•\\n253 followers\\nDeutsche Telekom AG\\nEnterprise\\ncompany\\n•\\n7 models\\n•\\n135 followers\\nJusbrasil\\nEnterprise\\ncompany\\n•\\n89 followers\\nTNG Technology Consulting GmbH\\nEnterprise\\ncompany\\n•\\n1 model\\n•\\n65 followers\\nIBM Granite\\nEnterprise\\ncompany\\n•\\n94 models\\n•\\n1.34k followers\\ncreditkarma\\nEnterprise\\ncompany\\n•\\n53 followers\\nHiddenLayer\\nEnterprise\\ncompany\\n•\\n1 model\\n•\\n65 followers\\nMiniMax\\nEnterprise\\ncompany\\n•\\n2 models\\n•\\n594 followers\\nBCG X\\nEnterprise\\ncompany\\n•\\n37 followers\\nKakao Corp.\\nEnterprise\\ncompany\\n•\\n3 models\\n•\\n109 followers\\nTwelve Labs\\nEnterprise\\ncompany\\n•\\n41 followers\\nShopify\\nEnterprise\\ncompany\\n•\\n431 followers\\nAI at Meta\\nEnterprise\\ncompany\\n•\\n2.07k models\\n•\\n5.29k followers\\nTogether\\nEnterprise\\ncompany\\n•\\n32 models\\n•\\n550 followers\\nXsolla\\nEnterprise\\ncompany\\n•\\n120 followers\\nToyota Research Institute\\nEnterprise\\ncompany\\n•\\n10 models\\n•\\n104 followers\\nMercedes-Benz AG\\nEnterprise\\ncompany\\n•\\n142 followers\\nH2O.ai\\nEnterprise\\ncompany\\n•\\n72 models\\n•\\n408 followers\\nAledade Inc\\nEnterprise\\ncompany\\n•\\n64 followers\\nNutanix\\nEnterprise\\ncompany\\n•\\n262 models\\n•\\n65 followers\\nJohnson & Johnson\\nEnterprise\\ncompany\\n•\\n56 followers\\nStability AI\\nEnterprise\\ncompany\\n•\\n104 models\\n•\\n19.7k followers\\nLiquid AI\\nEnterprise\\ncompany\\n•\\n116 followers\\nGretel.ai\\nEnterprise\\ncompany\\n•\\n9 models\\n•\\n112 followers\\nNewMindAI\\nEnterprise\\ncompany\\n•\\n36 followers\\nCompliance & Certifications\\nGDPR Compliant\\nSOC 2 Type 2\\nSystem theme\\nWebsite\\nModels\\nDatasets\\nSpaces\\nTasks\\nInference Endpoints\\nHuggingChat\\nCompany\\nAbout\\nBrand assets\\nTerms of service\\nPrivacy\\nJobs\\nPress\\nResources\\nLearn\\nDocumentation\\nBlog\\nForum\\nService Status\\nSocial\\nGitHub\\nTwitter\\nLinkedIn\\nDiscord\\n\\n\\n\\npricing page\\nWebpage Title:\\nHugging Face – Pricing\\nWebpage Contents:\\nHugging Face\\nModels\\nDatasets\\nSpaces\\nPosts\\nDocs\\nEnterprise\\nPricing\\nLog In\\nSign Up\\nPricing\\nLeveling up AI collaboration and compute.\\nUsers and organizations already use the Hub as a collaboration platform,\\nwe’re making it easy to seamlessly and scalably launch ML compute directly from the Hub.\\nHF Hub\\nCollaborate on Machine Learning\\nHost unlimited public models, datasets\\nCreate unlimited orgs with no member limits\\nAccess the latest ML tools and open source\\nCommunity support\\nForever\\nFree\\nPRO\\nPro Account\\nUnlock advanced HF features\\nZeroGPU and Dev Mode for Spaces\\nFree credits across all Inference Providers\\nGet early access to upcoming features\\nShow your support with a Pro badge\\nSubscribe for\\n$9\\n/month\\nEnterprise Hub\\nAccelerate your AI roadmap\\nSSO and SAML support\\nSelect data location with Storage Regions\\nPrecise actions reviews with Audit logs\\nGranular access control with Resource groups\\nCentralized token control and approval\\nDataset Viewer for private datasets\\nAdvanced compute options for Spaces\\n5x more ZeroGPU quota for all org members\\nDeploy Inference on your own Infra\\nManaged billing with yearly commits\\nPriority support\\nStarting at\\n$20\\nper user per month\\nSpaces Hardware\\nUpgrade your Space compute\\nFree CPUs\\nBuild more advanced Spaces\\n7 optimized hardware available\\nFrom CPU to GPU to Accelerators\\nStarting at\\n$0\\n/hour\\nInference Endpoints\\nDeploy models on fully managed infrastructure\\nDeploy dedicated Endpoints in seconds\\nKeep your costs low\\nFully-managed autoscaling\\nEnterprise security\\nStarting at\\n$0.032\\n/hour\\nNeed support to accelerate AI in your organization? View our\\nExpert Support\\n.\\nHugging Face Hub\\nfree\\nThe HF Hub is the central place to explore, experiment, collaborate and build technology with Machine\\n\\t\\t\\t\\t\\tLearning.\\nJoin the open source Machine Learning movement!\\n→\\nSign Up\\nCreate with ML\\nPacked with ML features, like model eval, dataset viewer and much more.\\nCollaborate\\nGit based and designed for collaboration at its core.\\nPlay and learn\\nLearn by experimenting and sharing with our awesome community.\\nBuild your ML portfolio\\nShare your work with the world and build your own ML profile.\\nSpaces Hardware\\nStarting at $0\\nSpaces are one of the most popular ways to share ML applications and demos with the world.\\nUpgrade your Spaces with our selection of custom on-demand hardware:\\n→\\nGet started with Spaces\\nName\\nCPU\\nMemory\\nAccelerator\\nVRAM\\nHourly price\\nCPU Basic\\n2 vCPU\\n16 GB\\n-\\n-\\nFREE\\nCPU Upgrade\\n8 vCPU\\n32 GB\\n-\\n-\\n$0.03\\nNvidia T4 - small\\n4 vCPU\\n15 GB\\nNvidia T4\\n16 GB\\n$0.40\\nNvidia T4 - medium\\n8 vCPU\\n30 GB\\nNvidia T4\\n16 GB\\n$0.60\\n1x Nvidia L4\\n8 vCPU\\n30 GB\\nNvidia L4\\n24 GB\\n$0.80\\n4x Nvidia L4\\n48 vCPU\\n186 GB\\nNvidia L4\\n96 GB\\n$3.80\\n1x Nvidia L40S\\n8 vCPU\\n62 GB\\nNvidia L4\\n48 GB\\n$1.80\\n4x Nvidia L40S\\n48 vCPU\\n382 GB\\nNvidia L4\\n192 GB\\n$8.30\\n8x Nvidia L40S\\n192 vCPU\\n1534 GB\\nNvidia L4\\n384 GB\\n$23.50\\nNvidia A10G - small\\n4 vCPU\\n15 GB\\nNvidia A10G\\n24 GB\\n$1.00\\nNvidia A10G - large\\n12 vCPU\\n46 GB\\nNvidia A10G\\n24 GB\\n$1.50\\n2x Nvidia A10G - large\\n24 vCPU\\n92 GB\\nNvidia A10G\\n48 GB\\n$3.00\\n4x Nvidia A10G - large\\n48 vCPU\\n184 GB\\nNvidia A10G\\n96 GB\\n$5.00\\nNvidia A100 - large\\n12 vCPU\\n142 GB\\nNvidia A100\\n80 GB\\n$4.00\\nTPU v5e 1x1\\n22 vCPU\\n44 GB\\nGoogle TPU v5e\\n16 GB\\n$1.20\\nTPU v5e 2x2\\n110 vCPU\\n186 GB\\nGoogle TPU v5e\\n64 GB\\n$4.75\\nTPU v5e 2x4\\n220 vCPU\\n380 GB\\nGoogle TPU v5e\\n128 GB\\n$9.50\\nCustom\\non demand\\non demand\\non demand\\non demand\\non demand\\nSpaces Persistent Storage\\nAll Spaces get ephemeral storage for free but you can upgrade and add persistent storage at any time.\\nName\\nStorage\\nMonthly price\\nSmall\\n20 GB\\n$5\\nMedium\\n150 GB\\n$25\\nLarge\\n1 TB\\n$100\\nBuilding something cool as a side project? We also offer community GPU grants.\\nInference Endpoints\\nStarting at $0.033/hour\\nInference Endpoints (dedicated) offers a secure production solution to easily deploy any ML model on dedicated\\n\\t\\t\\t\\t\\tand autoscaling infrastructure, right from the HF Hub.\\n→\\nLearn more\\nCPU\\ninstances\\nProvider\\nArchitecture\\nvCPUs\\nMemory\\nHourly rate\\naws\\nIntel Sapphire Rapids\\n1\\n2GB\\n$0.03\\n2\\n4GB\\n$0.07\\n4\\n8GB\\n$0.13\\n8\\n16GB\\n$0.27\\n16\\n32GB\\n$0.54\\nazure\\nIntel Xeon\\n1\\n2GB\\n$0.06\\n2\\n4GB\\n$0.12\\n4\\n8GB\\n$0.24\\n8\\n16GB\\n$0.48\\ngcp\\nIntel Sapphire Rapids\\n1\\n2GB\\n$0.05\\n2\\n4GB\\n$0.10\\n4\\n8GB\\n$0.20\\n8\\n16GB\\n$0.40\\nAccelerator\\ninstances\\nProvider\\nArchitecture\\nTopology\\nAccelerator Memory\\nHourly rate\\naws\\nInf2\\n\\t\\t\\t\\t\\t\\t\\t\\t\\t\\t\\t\\t\\t\\t\\tNeuron\\nx1\\n14.5GB\\n$0.75\\nx12\\n760GB\\n$12.00\\ngcp\\nTPU\\n\\t\\t\\t\\t\\t\\t\\t\\t\\t\\t\\t\\t\\t\\t\\tv5e\\n1x1\\n16GB\\n$1.20\\n2x2\\n64GB\\n$4.75\\n2x4\\n128GB\\n$9.50\\nGPU\\ninstances\\nProvider\\nArchitecture\\nGPUs\\nGPU Memory\\nHourly rate\\naws\\nNVIDIA T4\\n1\\n14GB\\n$0.50\\n4\\n56GB\\n$3.00\\naws\\nNVIDIA L4\\n1\\n24GB\\n$0.80\\n4\\n96GB\\n$3.80\\naws\\nNVIDIA L40S\\n1\\n48GB\\n$1.80\\n4\\n192GB\\n$8.30\\n8\\n384GB\\n$23.50\\naws\\nNVIDIA A10G\\n1\\n24GB\\n$1.00\\n4\\n96GB\\n$5.00\\naws\\nNVIDIA A100\\n1\\n80GB\\n$4.00\\n2\\n160GB\\n$8.00\\n4\\n320GB\\n$16.00\\n8\\n640GB\\n$32.00\\ngcp\\nNVIDIA T4\\n1\\n16GB\\n$0.50\\ngcp\\nNVIDIA L4\\n1\\n24GB\\n$0.70\\n4\\n96GB\\n$3.80\\ngcp\\nNVIDIA A100\\n1\\n80GB\\n$3.60\\n2\\n160GB\\n$7.20\\n4\\n320GB\\n$14.40\\n8\\n640GB\\n$28.80\\ngcp\\nNVIDIA H100\\n1\\n80GB\\n$10.00\\n2\\n160GB\\n$20.00\\n4\\n320GB\\n$40.00\\n8\\n640GB\\n$80.00\\nPro Account\\nPRO\\nA monthly subscription to access powerful features.\\n→\\nGet Pro\\n($9/month)\\nZeroGPU\\n: Get 5x usage quota and highest GPU queue priority\\nSpaces Hosting\\n: Create ZeroGPU Spaces with A100 hardware\\nSpaces Dev Mode\\n: Fast iterations via SSH/VS Code for Spaces\\nInference Providers\\n: Get $2 included credits across all Inference Providers\\nDataset Viewer\\n: Activate it on private datasets\\nBlog Articles\\n: Publish articles to the Hugging Face blog\\nSocial Posts\\n: Share short updates with the community\\nFeatures Preview\\n: Get early access to upcoming\\n\\t\\t\\t\\t\\t\\t\\t\\t\\t\\tfeatures\\nPRO\\nBadge\\n:\\n\\t\\t\\t\\t\\t\\t\\t\\t\\t\\tShow your support on your profile\\nSystem theme\\nWebsite\\nModels\\nDatasets\\nSpaces\\nTasks\\nInference Endpoints\\nHuggingChat\\nCompany\\nAbout\\nBrand assets\\nTerms of service\\nPrivacy\\nJobs\\nPress\\nResources\\nLearn\\nDocumentation\\nBlog\\nForum\\nService Status\\nSocial\\nGitHub\\nTwitter\\nLinkedIn\\nDiscord\\n\\n\\n\\nblog page\\nWebpage Title:\\nHugging Face – Blog\\nWebpage Contents:\\nHugging Face\\nModels\\nDatasets\\nSpaces\\nPosts\\nDocs\\nEnterprise\\nPricing\\nLog In\\nSign Up\\nBlog, Articles, and discussions\\nNew Article\\nEverything\\ncommunity\\nguide\\nopen source collab\\npartnerships\\nresearch\\nNLP\\nAudio\\nCV\\nRL\\nethics\\nDiffusion\\nGame Development\\nRLHF\\nLeaderboard\\nCase Studies\\nLeRobot\\nAccelerating LLM Inference with TGI on Intel Gaudi\\nBy\\nbaptistecolle\\nMarch 28, 2025\\n•\\n8\\nCommunity Articles\\nview all\\n🦸🏻#14: What Is MCP, and Why Is Everyone – Suddenly!– Talking About It?\\nBy\\nKseniase\\n•\\n12 days ago\\n•\\n93\\nOpen R1: Update #4\\nBy\\nopen-r1\\nand 3 others\\n•\\n3 days ago\\n•\\n37\\nOpen R1: Update #3\\nBy\\nopen-r1\\nand 9 others\\n•\\n18 days ago\\n•\\n276\\nI Clicked “I Agree”, But What Am I Really Consenting To?\\nBy\\ngiadap\\n•\\n3 days ago\\n•\\n19\\nDeepSearch Using Visual RAG in Agentic Frameworks 🔎\\nBy\\npaultltc\\nand 1 other\\n•\\n8 days ago\\n•\\n28\\nSpeeding Up LLM Decoding with Advanced Universal Assisted Generation Techniques\\nBy\\njmamou\\nand 8 others\\n•\\n5 days ago\\n•\\n16\\nUncensor any LLM with abliteration\\nBy\\nmlabonne\\n•\\nJun 13, 2024\\n•\\n496\\nFeeL: Making Multilingual LMs Better, One Feedback Loop at a Time\\nBy\\nborgr\\nand 1 other\\n•\\n4 days ago\\n•\\n10\\nDeepSeek-R1 Dissection: Understanding PPO & GRPO Without Any Prior Reinforcement Learning Knowledge\\nBy\\nNormalUhr\\n•\\nFeb 7\\n•\\n89\\nIntroducing EuroBERT: A High-Performance Multilingual Encoder Model\\nBy\\nEuroBERT\\nand 3 others\\n•\\n19 days ago\\n•\\n134\\nUnderstanding and Implementing the Tree of Thoughts Paradigm\\nBy\\nsadhaklal\\n•\\n3 days ago\\n•\\n8\\nThe Large Language Model Course\\nBy\\nmlabonne\\n•\\nJan 16\\n•\\n146\\nKV Caching Explained: Optimizing Transformer Inference Efficiency\\nBy\\nnot-lain\\n•\\nJan 30\\n•\\n46\\nColPali: Efficient Document Retrieval with Vision Language Models 👀\\nBy\\nmanu\\n•\\nJul 5, 2024\\n•\\n227\\nOpen-Source Handwritten Signature Detection Model\\nBy\\nsamuellimabraz\\n•\\n15 days ago\\n•\\n90\\nFine-tune Llama 3.1 Ultra-Efficiently with Unsloth\\nBy\\nmlabonne\\n•\\nJul 29, 2024\\n•\\n301\\nMastering Tensor Dimensions in Transformers\\nBy\\nnot-lain\\n•\\nJan 12\\n•\\n56\\nPangolinGuard: Fine-Tuning ModernBERT as a Lightweight Approach to AI Guardrails\\nBy\\ndcarpintero\\n•\\n6 days ago\\n•\\n5\\nManus AI: The Best Autonomous AI Agent Redefining Automation and Productivity\\nBy\\nLLMhacker\\n•\\n23 days ago\\n•\\n151\\nmistral.rs v0.5.0\\nBy\\nEricB\\n•\\n5 days ago\\n•\\n5\\nTraining and Finetuning Reranker Models with Sentence Transformers v4\\nBy\\ntomaarsen\\nMarch 26, 2025\\n•\\n69\\nIntroducing Gradio\\'s new Dataframe!\\nBy\\nhmb\\nMarch 24, 2025\\n•\\n18\\nThe New and Fresh analytics in Inference Endpoints\\nBy\\nerikkaum\\nMarch 21, 2025\\n•\\n17\\nOpen R1: How to use OlympicCoder locally for coding?\\nBy\\nburtenshaw\\nMarch 20, 2025\\n•\\n52\\nAI Policy: 🤗 Response to the White House AI Action Plan RFI\\nBy\\nyjernite\\nMarch 19, 2025\\n•\\n21\\nNVIDIA\\'s GTC 2025 Announcement for Physical AI Developers: New Open Models and Datasets\\nBy\\nmingyuliutw\\nMarch 18, 2025\\nguest\\n•\\n30\\nXet is on the Hub\\nBy\\njsulz\\nMarch 18, 2025\\n•\\n34\\nWelcome Gemma 3: Google\\'s all new multimodal, multilingual, long context open LLM\\nBy\\nariG23498\\nMarch 12, 2025\\n•\\n354\\nLeRobot goes to driving school: World’s largest open-source self-driving dataset\\nBy\\nsandhawalia\\nMarch 11, 2025\\n•\\n69\\nLLM Inference on Edge: A Fun and Easy Guide to run LLMs via React Native on your Phone!\\nBy\\nmedmekk\\nMarch 7, 2025\\n•\\n45\\nHugging Face and JFrog partner to make AI Security more transparent\\nBy\\nmcpotato\\nMarch 4, 2025\\n•\\n21\\nA Deepdive into Aya Vision: Advancing the Frontier of Multilingual Multimodality\\nBy\\nsaurabhdash\\nMarch 4, 2025\\nguest\\n•\\n70\\nTrace & Evaluate your Agent with Arize Phoenix\\nBy\\nm-ric\\nFebruary 28, 2025\\nguest\\n•\\n35\\nHuggingFace, IISc partner to supercharge model building on India\\'s diverse languages\\nBy\\nprasantg\\nFebruary 27, 2025\\n•\\n18\\nPrevious\\n1\\n2\\n3\\n...\\n40\\nNext\\nCommunity Articles\\nSort:\\xa0\\n\\t\\tTrending\\n🦸🏻#14: What Is MCP, and Why Is Everyone – Suddenly!– Talking About It?\\nBy\\nKseniase\\n•\\n12 days ago\\n•\\n93\\nOpen R1: Update #4\\nBy\\nopen-r1\\nand 3 others\\n•\\n3 days ago\\n•\\n37\\nOpen R1: Update #3\\nBy\\nopen-r1\\nand 9 others\\n•\\n18 days ago\\n•\\n276\\nI Clicked “I Agree”, But What Am I Really Consenting To?\\nBy\\ngiadap\\n•\\n3 days ago\\n•\\n19\\nDeepSearch Using Visual RAG in Agentic Frameworks 🔎\\nBy\\npaultltc\\nand 1 other\\n•\\n8 days ago\\n•\\n28\\nSpeeding Up LLM Decoding with Advanced Universal Assisted Generation Techniques\\nBy\\njmamou\\nand 8 others\\n•\\n5 days ago\\n•\\n16\\nUncensor any LLM with abliteration\\nBy\\nmlabonne\\n•\\nJun 13, 2024\\n•\\n496\\nFeeL: Making Multilingual LMs Better, One Feedback Loop at a Time\\nBy\\nborgr\\nand 1 other\\n•\\n4 days ago\\n•\\n10\\nDeepSeek-R1 Dissection: Understanding PPO & GRPO Without Any Prior Reinforcement Learning Knowledge\\nBy\\nNormalUhr\\n•\\nFeb 7\\n•\\n89\\nIntroducing EuroBERT: A High-Performance Multilingual Encoder Model\\nBy\\nEuroBERT\\nand 3 others\\n•\\n19 days ago\\n•\\n134\\nUnderstanding and Implementing the Tree of Thoughts Paradigm\\nBy\\nsadhaklal\\n•\\n3 days ago\\n•\\n8\\nThe Large Language Model Course\\nBy\\nmlabonne\\n•\\nJan 16\\n•\\n146\\nKV Caching Explained: Optimizing Transformer Inference Efficiency\\nBy\\nnot-lain\\n•\\nJan 30\\n•\\n46\\nColPali: Efficient Document Retrieval with Vision Language Models 👀\\nBy\\nmanu\\n•\\nJul 5, 2024\\n•\\n227\\nOpen-Source Handwritten Signature Detection Model\\nBy\\nsamuellimabraz\\n•\\n15 days ago\\n•\\n90\\nFine-tune Llama 3.1 Ultra-Efficiently with Unsloth\\nBy\\nmlabonne\\n•\\nJul 29, 2024\\n•\\n301\\nMastering Tensor Dimensions in Transformers\\nBy\\nnot-lain\\n•\\nJan 12\\n•\\n56\\nPangolinGuard: Fine-Tuning ModernBERT as a Lightweight Approach to AI Guardrails\\nBy\\ndcarpintero\\n•\\n6 days ago\\n•\\n5\\nManus AI: The Best Autonomous AI Agent Redefining Automation and Productivity\\nBy\\nLLMhacker\\n•\\n23 days ago\\n•\\n151\\nmistral.rs v0.5.0\\nBy\\nEricB\\n•\\n5 days ago\\n•\\n5\\nView all\\nSystem theme\\nCompany\\nTOS\\nPrivacy\\nAbout\\nJobs\\nWebsite\\nModels\\nDatasets\\nSpaces\\nPricing\\nDocs\\n\\n\\n\\nlearn page\\nWebpage Title:\\nHugging Face - Learn\\nWebpage Contents:\\nHugging Face\\nModels\\nDatasets\\nSpaces\\nPosts\\nDocs\\nEnterprise\\nPricing\\nLog In\\nSign Up\\nLearn\\nNLP Course\\nThis course will teach you about natural language processing using libraries from the HF ecosystem\\nAgents Course\\nLearn to build and deploy your own AI agents\\nDeep RL Course\\nThis course will teach you about deep reinforcement learning using libraries from the HF ecosystem\\nCommunity Computer Vision Course\\nThis course will teach you about computer vision ML using libraries and models from the HF ecosystem\\nAudio Course\\nLearn to apply transformers to audio data using libraries from the HF ecosystem\\nOpen-Source AI Cookbook\\nA collection of open-source-powered notebooks by AI builders, for AI builders\\nML for Games Course\\nThis course will teach you about integrating AI models your game and using AI tools in your game development workflow\\nDiffusion Course\\nLearn about diffusion models & how to use them with diffusers\\nML for 3D Course\\nLearn about 3D ML with libraries from the HF ecosystem\\nSystem theme\\nCompany\\nTOS\\nPrivacy\\nAbout\\nJobs\\nWebsite\\nModels\\nDatasets\\nSpaces\\nPricing\\nDocs\\n\\n\\n\\nlinkedin page\\nWebpage Title:\\nHugging Face | LinkedIn\\nWebpage Contents:\\nSkip to main content\\nLinkedIn\\nArticles\\nPeople\\nLearning\\nJobs\\nGames\\nGet the app\\nJoin now\\nSign in\\nHugging Face\\nSoftware Development\\nThe AI community building the future.\\nSee jobs\\nFollow\\nView all 515 employees\\nReport this company\\nAbout us\\nThe AI community building the future.\\nWebsite\\nhttps://huggingface.co\\nExternal link for Hugging Face\\nIndustry\\nSoftware Development\\nCompany size\\n51-200 employees\\nType\\nPrivately Held\\nFounded\\n2016\\nSpecialties\\nmachine learning, natural language processing, and deep learning\\nProducts\\nHugging Face\\nHugging Face\\nNatural Language Processing (NLP) Software\\nWe’re on a journey to solve and democratize artificial intelligence through natural language.\\nLocations\\nPrimary\\nGet directions\\nParis, FR\\nGet directions\\nEmployees at Hugging Face\\nLudovic Huraux\\nBassem ASSEH\\nRajat Arya\\nTech Lead & Software Engineer @ HF | prev: co-founder XetHub, Apple, Turi, AWS, Microsoft\\nJeff Boudier\\nProduct + Growth at Hugging Face\\nSee all employees\\nUpdates\\nHugging Face\\nreposted this\\nGradio\\n60,777 followers\\n1d\\nEdited\\nReport this post\\nHi3DGen 🔥 \\n\\nHigh-fidelity 3D geometry generation from a single image by leveraging normal maps as an intermediate representation\\n\\nPlay with the fantastic app on\\nHugging Face\\nnow:\\nhttps://lnkd.in/g99NpV_y\\n…more\\n159\\n3 Comments\\nLike\\nComment\\nShare\\nHugging Face\\nreposted this\\nFreddy Boulton\\nSoftware Engineer @ 🤗\\n1d\\nReport this post\\nGenerate lifelike audio in real-time without a GPU! 🚀\\n\\nCheck out orpheus-cpp: a\\nllama.cpp\\nport of orpheus 3b text-to-speech model with built-in support for sync and async streaming.\\n\\n𝚙𝚒𝚙 𝚒𝚗𝚜𝚝𝚊𝚕𝚕 𝚘𝚛𝚙𝚑𝚎𝚞𝚜-𝚌𝚙𝚙\\n𝚙𝚢𝚝𝚑𝚘𝚗 -𝚖 𝚘𝚛𝚙𝚑𝚎𝚞𝚜_𝚌𝚙𝚙\\n\\nProject code:\\nhttps://lnkd.in/ekPpN9mc\\n…more\\n317\\n8 Comments\\nLike\\nComment\\nShare\\nHugging Face\\nreposted this\\nGradio\\n60,777 followers\\n3d\\nReport this post\\nWe just turned the humble dataframe into a superweapon⚡️\\ndashboarding will never be the same!! 📊\\n\\nnew Gradio Dataframe has:\\n- multi-cell selection\\n- column pinning\\n- search + filtering\\n- fullscreen mode\\n- accessibility upgrades, and more\\n…more\\n97\\n12 Comments\\nLike\\nComment\\nShare\\nHugging Face\\nreposted this\\nMerve Noyan\\nopen-sourceress at 🤗 | Google Developer Expert in Machine Learning, MSc Candidate in Data Science\\n3d\\nReport this post\\nis your vision LM in prod even safe? 👀\\n\\nShieldGemma 2 is the first ever safety model for multimodal vision LMs in production by\\nGoogle DeepMind\\n, came with Gemma 3 🔥\\n\\nI saw confusion around how to use it, so I put together a notebook and a demo, find it in the comments 💬\\n382\\n10 Comments\\nLike\\nComment\\nShare\\nHugging Face\\nreposted this\\nMerve Noyan\\nopen-sourceress at 🤗 | Google Developer Expert in Machine Learning, MSc Candidate in Data Science\\n3d\\nReport this post\\nis your vision LM in prod even safe? 👀\\n\\nShieldGemma 2 is the first ever safety model for multimodal vision LMs in production by\\nGoogle DeepMind\\n, came with Gemma 3 🔥\\n\\nI saw confusion around how to use it, so I put together a notebook and a demo, find it in the comments 💬\\n382\\n10 Comments\\nLike\\nComment\\nShare\\nHugging Face\\nreposted this\\nSergio Paniego Blanco\\nML Engineer @ Hugging Face 🤗 | AI PhD | Google Summer of Code \\'18-\\'24\\n3d\\nReport this post\\nThe Bonus Unit 2, \"AI Agent Observability & Evaluation,\" is now live on our\\nHugging Face\\nagents course! 🎓\\n\\nYou\\'ll learn to:\\n🔧 Instrument agents with OpenTelemetry\\n📊 Track token usage, latency & errors\\n📈 Evaluate with LLM-as-a-judge\\n📚 Benchmark with GSM8K\\n\\n👉 Check out the course here:\\nhttps://lnkd.in/d2jiTx6j\\n213\\n7 Comments\\nLike\\nComment\\nShare\\nHugging Face\\nreposted this\\nGradio\\n60,777 followers\\n4d\\nEdited\\nReport this post\\nCreate Infinite Photographs of You with InfiniteYou-Flux!\\n\\nFlexible photo recreation that better preserves identity compared to current solutions like Pulid, IP Adapter, etc. 🔥 💪 \\n\\nCurrent full-performance bf16 model inference requires a peak VRAM of around 43 GB.\\n\\nYou can build InfU on your own hardware:\\nhttps://lnkd.in/g9dc_vVh\\nOr Play for free on\\nHugging Face\\n:\\nhttps://lnkd.in/gzF7rikZ\\n159\\n6 Comments\\nLike\\nComment\\nShare\\nHugging Face\\nreposted this\\nGradio\\n60,777 followers\\n4d\\nEdited\\nReport this post\\n🤯 Generate high-quality podcasts with the voices you want!\\n\\nMoonCast is an open sourced,  multi-lingual, and zeroshot model.\\n\\nYou just need to upload two sample voices, create a script, and that\\'s it, run the model--You get a 🔥 notebooklm-like podcast.\\n\\nModel and App are released on\\nHugging Face\\n:\\nhttps://lnkd.in/gUk2EssP\\n152\\n8 Comments\\nLike\\nComment\\nShare\\nHugging Face\\nreposted this\\nDaniel Vila Suero\\nBuilding data tools @ Hugging Face 🤗\\n4d\\nEdited\\nReport this post\\n🔥 Big news for GPU poors: thanks to\\nHyperbolic\\nand\\nFireworks AI\\n, you can run\\nDeepSeek AI\\n\\'s\\xa0new model using Hugging Face Inference Providers. What has changed since V3? Here\\'s my quick home experiment 👇 \\n\\nDeepSeek silently dropped an update to V3 yesterday. Benchmark results are available, showing significant improvements over V3. \\n\\nStill, it is always a good idea to run new models on data you care about and see more detailed, fine-grained results.\\n\\nNow that we can all run these new models from Day 0 with no GPUs required, I wanted to share my approach with an example I created this morning:\\n\\n1. I got a sample from the LIMA dataset (containing high-quality general instructions).\\n2. Run the instructions with V3 and the new version V3-0324.\\n3. Define and run a simple judge with Llama3.3-70B to compare the model responses.\\n4. Push the dataset and pipeline so you can check and run similar experiments! (see first comment)\\n5. Extracted the results with\\nHugging Face\\nData Studio.\\n\\nResults summary\\n- LIMA is not very challenging, but it is still interesting to see the differences between the two models.\\n- A majority of Ties indicate that both models are close for this domain and task.\\n- But still, V3-0324 consistently wins over V3 (33 times vs 6 times).\\n\\nAs usual, the dataset, prompts, and pipeline are open-source (see first comment).\\n\\nWhat other experiments you\\'d like to see?\\n214\\n7 Comments\\nLike\\nComment\\nShare\\nHugging Face\\nreposted this\\nGradio\\n60,777 followers\\n4d\\nReport this post\\nStarVector is a multimodal vision-language model for generating SVG (Scalable Vector Graphics). 👇 \\n\\nIt can be used to perform image2SVG and text2SVG generation. Live demo shows how the image generation is treated similar to a code generation task, using the power of StarVector multimodal VLM! 🤩 \\n\\n🚀 Play with the app on Huggingface:\\nhttps://lnkd.in/gCzdEbvj\\n🥳 If you want to build the model locally with a gradio app:\\nhttps://lnkd.in/gDzCpdDN\\n…more\\n1,523\\n42 Comments\\nLike\\nComment\\nShare\\nJoin now to see what you are missing\\nFind people you know at Hugging Face\\nBrowse recommended jobs for you\\nView all updates, news, and articles\\nJoin now\\nSimilar pages\\nAnthropic\\nResearch Services\\nMistral AI\\nTechnology, Information and Internet\\nParis, France\\nPerplexity\\nSoftware Development\\nSan Francisco, California\\nOpenAI\\nResearch Services\\nSan Francisco, CA\\nLangChain\\nTechnology, Information and Internet\\nGenerative AI\\nTechnology, Information and Internet\\nDeepLearning.AI\\nSoftware Development\\nPalo Alto, California\\nLlamaIndex\\nTechnology, Information and Internet\\nSan Francisco, California\\nGoogle DeepMind\\nResearch Services\\nLondon, London\\nCohere\\nSoftware Development\\nToronto, Ontario\\nShow more similar pages\\nShow fewer similar pages\\nBrowse jobs\\nEngineer jobs\\n555,845 open jobs\\nMachine Learning Engineer jobs\\n148,937 open jobs\\nScientist jobs\\n48,969 open jobs\\nSoftware Engineer jobs\\n300,699 open jobs\\nAnalyst jobs\\n694,057 open jobs\\nIntern jobs\\n71,196 open jobs\\nDeveloper jobs\\n258,935 open jobs\\nManager jobs\\n1,880,925 open jobs\\nProduct Manager jobs\\n199,941 open jobs\\nDirector jobs\\n1,220,357 open jobs\\nPython Developer jobs\\n46,642 open jobs\\nData Scientist jobs\\n264,158 open jobs\\nData Analyst jobs\\n329,009 open jobs\\nSenior Software Engineer jobs\\n78,145 open jobs\\nProject Manager jobs\\n253,048 open jobs\\nResearcher jobs\\n195,654 open jobs\\nAssociate jobs\\n1,091,945 open jobs\\nData Engineer jobs\\n192,126 open jobs\\nVice President jobs\\n235,270 open jobs\\nSpecialist jobs\\n768,666 open jobs\\nShow more jobs like this\\nShow fewer jobs like this\\nFunding\\nHugging Face\\n8 total rounds\\nLast Round\\nSeries unknown\\nSep 1, 2024\\nExternal Crunchbase Link for last round of funding\\nSee more info on\\ncrunchbase\\nMore searches\\nMore searches\\nEngineer jobs\\nScientist jobs\\nMachine Learning Engineer jobs\\nSoftware Engineer jobs\\nIntern jobs\\nDeveloper jobs\\nAnalyst jobs\\nManager jobs\\nSenior Software Engineer jobs\\nData Scientist jobs\\nResearcher jobs\\nProduct Manager jobs\\nDirector jobs\\nAssociate jobs\\nIntelligence Specialist jobs\\nData Analyst jobs\\nData Science Specialist jobs\\nPython Developer jobs\\nQuantitative Analyst jobs\\nProject Manager jobs\\nAccount Executive jobs\\nSpecialist jobs\\nData Engineer jobs\\nDesigner jobs\\nQuantitative Researcher jobs\\nConsultant jobs\\nSolutions Architect jobs\\nVice President jobs\\nUser Experience Designer jobs\\nHead jobs\\nFull Stack Engineer jobs\\nEngineering Manager jobs\\nSoftware Engineer Intern jobs\\nJunior Software Engineer jobs\\nSoftware Intern jobs\\nProduct Designer jobs\\nSolutions Engineer jobs\\nStaff Software Engineer jobs\\nProgram Manager jobs\\nSenior Scientist jobs\\nWriter jobs\\nResearch Intern jobs\\nSenior Product Manager jobs\\nSummer Intern jobs\\nAccount Manager jobs\\nRecruiter jobs\\nLead jobs\\nResearch Engineer jobs\\nComputer Science Intern jobs\\nPlatform Engineer jobs\\nJunior Developer jobs\\nAndroid Developer jobs\\nUser Experience Researcher jobs\\nJava Software Engineer jobs\\nSite Reliability Engineer jobs\\nGraduate jobs\\nSoftware Engineering Manager jobs\\nRepresentative jobs\\nBusiness Development Specialist jobs\\nComputer Engineer jobs\\nLinkedIn\\n© 2025\\nAbout\\nAccessibility\\nUser Agreement\\nPrivacy Policy\\nCookie Policy\\nCopyright Policy\\nBrand Policy\\nGuest Controls\\nCommunity Guidelines\\nالعربية (Arabic)\\nবাংলা (Bangla)\\nČeština (Czech)\\nDansk (Danish)\\nDeutsch (German)\\nΕλληνικά (Greek)\\nEnglish (English)\\nEspañol (Spanish)\\nفارسی (Persian)\\nSuomi (Finnish)\\nFrançais (French)\\nहिंदी (Hindi)\\nMagyar (Hungarian)\\nBahasa Indonesia (Indonesian)\\nItaliano (Italian)\\nעברית (Hebrew)\\n日本語 (Japanese)\\n한국어 (Korean)\\nमराठी (Marathi)\\nBahasa Malaysia (Malay)\\nNederlands (Dutch)\\nNorsk (Norwegian)\\nਪੰਜਾਬੀ (Punjabi)\\nPolski (Polish)\\nPortuguês (Portuguese)\\nRomână (Romanian)\\nРусский (Russian)\\nSvenska (Swedish)\\nతెలుగు (Telugu)\\nภาษาไทย (Thai)\\nTagalog (Tagalog)\\nTürkçe (Turkish)\\nУкраїнська (Ukrainian)\\nTiếng Việt (Vietnamese)\\n简体中文 (Chinese (Simplified))\\n正體中文 (Chinese (Traditional))\\nLanguage\\nAgree & Join LinkedIn\\nBy clicking Continue to join or sign in, you agree to LinkedIn’s\\nUser Agreement\\n,\\nPrivacy Policy\\n, and\\nCookie Policy\\n.\\nSign in to see who you already know at Hugging Face\\nSign in\\nWelcome back\\nEmail or phone\\nPassword\\nShow\\nForgot password?\\nSign in\\nor\\nBy clicking Continue to join or sign in, you agree to LinkedIn’s\\nUser Agreement\\n,\\nPrivacy Policy\\n, and\\nCookie Policy\\n.\\nNew to LinkedIn?\\nJoin now\\nor\\nNew to LinkedIn?\\nJoin now\\nBy clicking Continue to join or sign in, you agree to LinkedIn’s\\nUser Agreement\\n,\\nPrivacy Policy\\n, and\\nCookie Policy\\n.\\nLinkedIn\\nLinkedIn is better on the app\\nDon’t have the app? Get it in the Microsoft Store.\\nOpen the app\\n\\n\\n\\ndiscuss forum\\nWebpage Title:\\nHugging Face Forums - Hugging Face Community Discussion\\nWebpage Contents:\\nHugging Face Forums\\nTopic\\nReplies\\nViews\\nActivity\\nWhat is wrong with this code?\\nBeginners\\n1\\n2\\nMarch 29, 2025\\nIntroducing the DoCoreAI Dynamic Temperature Dataset!\\n🤗Datasets\\n0\\n2\\nMarch 29, 2025\\nUse layoutLM to extract data from inviices\\nBeginners\\n1\\n2\\nMarch 29, 2025\\nAI implementation on a raspery pi\\nBeginners\\n2\\n6\\nMarch 29, 2025\\nAccount Recovery Request 2\\nSite Feedback\\n3\\n17\\nMarch 29, 2025\\n🚨 Inference Failure on HF Spaces: Keras model gives incorrect predictions despite identical weights and inputs (works on Colab and locally)\\n🤗AutoTrain\\n1\\n5\\nMarch 29, 2025\\nBoosting Oütlas UX & SEO for more visibility\\nBeginners\\n4\\n5\\nMarch 28, 2025\\nCant see discord channels\\nCommunity Calls\\n2\\n4\\nMarch 29, 2025\\nFine-Tuning Help for Personal Project\\nBeginners\\n1\\n12\\nMarch 28, 2025\\nWhat is the most efficient way to dynamically change context mid-generation?\\n🤗Transformers\\n1\\n4\\nMarch 29, 2025\\nRun Pixtral-12B-2409 locally\\nBeginners\\n1\\n7\\nMarch 28, 2025\\nI\\'m Working On A Math AI\\nBeginners\\n5\\n12\\nMarch 28, 2025\\nImage to text help for personal project\\nResearch\\n1\\n3\\nMarch 28, 2025\\nDuplicated cache- arrow files when uploading large folder?\\n🤗Datasets\\n1\\n5\\nMarch 28, 2025\\nLimits on Gradio API (HF Spaces)\\nSpaces\\n1\\n11\\nMarch 28, 2025\\nFASTAI:TypeError: empty() received an invalid combination of arguments - got (tuple, dtype=NoneType, device=NoneType)\\n🤗Transformers\\n2\\n5\\nMarch 29, 2025\\nGit clone ... fails with error 422, service parameter is needed\\nBeginners\\n6\\n10\\nMarch 29, 2025\\nHF Inference API last few minutes returns the same 404 exception to all models\\nInference Endpoints on the Hub\\n24\\n206\\nMarch 21, 2025\\nGot access acceptance for the wrong llama model\\nBeginners\\n4\\n15\\nMarch 29, 2025\\nTokens limit in Web Browser Automation\\nBeginners\\n2\\n9\\nMarch 28, 2025\\nAgent.python_executor in Web Browser Automation\\nBeginners\\n2\\n15\\nMarch 27, 2025\\nInquiry About 120s Timeout on Hugging Face Inference Endpoint for Llama 3.1-8B\\nModels\\n1\\n8\\nMarch 28, 2025\\nStrange Error While Attempting to Load DataSet\\n🤗Datasets\\n7\\n3030\\nMarch 28, 2025\\nI need a model for requirements extraction\\nModels\\n3\\n35\\nMarch 26, 2025\\nIs the rule of 25 min changed?\\n🤗Hub\\n4\\n47\\nMarch 29, 2025\\nThe hidden_states when i use model.generate\\n🤗Transformers\\n4\\n1257\\nMarch 28, 2025\\nOptimize GPU Usage for Long-Context Training\\n🤗Transformers\\n1\\n12\\nMarch 28, 2025\\nIs there any model for document prioritization\\n🤗Hub\\n1\\n14\\nMarch 28, 2025\\n.cache for upload large folder\\n🤗Datasets\\n3\\n11\\nMarch 28, 2025\\nWill LFS related functionality come to hf_api?\\n🤗Hub\\n11\\n43\\nMarch 25, 2025\\nnext page →\\nHome\\nCategories\\nGuidelines\\nTerms of Service\\nPrivacy Policy\\nPowered by\\nDiscourse\\n, best viewed with JavaScript enabled\\n\\n'"
      ]
     },
     "execution_count": 33,
     "metadata": {},
     "output_type": "execute_result"
    }
   ],
   "source": [
    "get_all_details(\"https://huggingface.co\")"
   ]
  },
  {
   "cell_type": "code",
   "execution_count": 39,
   "id": "9b863a55-f86c-4e3f-8a79-94e24c1a8cf2",
   "metadata": {},
   "outputs": [],
   "source": [
    "system_prompt = \"You are an assistant that analyzes the contents of several relevant pages from a company website \\\n",
    "and creates a short brochure about the company for prospective customers, investors and recruits. Respond in markdown.\\\n",
    "Provide the following sections: Company Overview, Key Offerings, and Customers\"\n",
    "\n",
    "# Or uncomment the lines below for a more humorous brochure - this demonstrates how easy it is to incorporate 'tone':\n",
    "\n",
    "# system_prompt = \"You are an assistant that analyzes the contents of several relevant pages from a company website \\\n",
    "# and creates a short humorous, entertaining, jokey brochure about the company for prospective customers, investors and recruits. Respond in markdown.\\\n",
    "# Include details of company culture, customers and careers/jobs if you have the information.\"\n"
   ]
  },
  {
   "cell_type": "code",
   "execution_count": 40,
   "id": "6ab83d92-d36b-4ce0-8bcc-5bb4c2f8ff23",
   "metadata": {},
   "outputs": [],
   "source": [
    "def get_brochure_user_prompt(company_name, url):\n",
    "    user_prompt = f\"You are looking at a company called: {company_name}\\n\"\n",
    "    user_prompt += f\"Here are the contents of its landing page and other relevant pages; use this information to build a short brochure of the company in markdown.\\n\"\n",
    "    user_prompt += get_all_details(url)\n",
    "    user_prompt = user_prompt[:5_000] # Truncate if more than 5,000 characters\n",
    "    return user_prompt"
   ]
  },
  {
   "cell_type": "code",
   "execution_count": 41,
   "id": "cd909e0b-1312-4ce2-a553-821e795d7572",
   "metadata": {},
   "outputs": [
    {
     "name": "stdout",
     "output_type": "stream",
     "text": [
      "Found links: {'links': [{'type': 'about page', 'url': 'https://huggingface.co/huggingface'}, {'type': 'careers page', 'url': 'https://apply.workable.com/huggingface/'}, {'type': 'enterprise page', 'url': 'https://huggingface.co/enterprise'}, {'type': 'pricing page', 'url': 'https://huggingface.co/pricing'}, {'type': 'blog page', 'url': 'https://huggingface.co/blog'}, {'type': 'documentation page', 'url': 'https://huggingface.co/docs'}]}\n"
     ]
    },
    {
     "data": {
      "text/plain": [
       "'You are looking at a company called: HuggingFace\\nHere are the contents of its landing page and other relevant pages; use this information to build a short brochure of the company in markdown.\\nLanding page:\\nWebpage Title:\\nHugging Face – The AI community building the future.\\nWebpage Contents:\\nHugging Face\\nModels\\nDatasets\\nSpaces\\nPosts\\nDocs\\nEnterprise\\nPricing\\nLog In\\nSign Up\\nThe AI community building the future.\\nThe platform where the machine learning community collaborates on models, datasets, and applications.\\nExplore AI Apps\\nor\\nBrowse 1M+ models\\nTrending on\\nthis week\\nModels\\ndeepseek-ai/DeepSeek-V3-0324\\nUpdated\\n2 days ago\\n•\\n60.5k\\n•\\n1.96k\\nQwen/Qwen2.5-Omni-7B\\nUpdated\\nabout 24 hours ago\\n•\\n27.9k\\n•\\n796\\nmanycore-research/SpatialLM-Llama-1B\\nUpdated\\n8 days ago\\n•\\n11.6k\\n•\\n781\\nds4sd/SmolDocling-256M-preview\\nUpdated\\n6 days ago\\n•\\n48.4k\\n•\\n1.03k\\nByteDance/InfiniteYou\\nUpdated\\n4 days ago\\n•\\n465\\nBrowse 1M+ models\\nSpaces\\nRunning\\non\\nZero\\n530\\n530\\nInfiniteYou-FLUX\\n📸\\nFlexible Photo Recrafting While Preserving Your Identity\\nRunning\\n255\\n255\\nDeepSite\\n🐳\\nImagine and Share in 1-Click\\nRunning\\non\\nZero\\n224\\n224\\nLHM\\n⚡\\nLarge Animatable Human Model\\nRunning\\n350\\n350\\nGemini Co-Drawing\\n✏\\nGemini 2.0 native image generation co-doodling\\nRunning\\n154\\n154\\nQwen2.5 Omni 7B Demo\\n🏆\\nSubmit media inputs to generate text and speech responses\\nBrowse 400k+ applications\\nDatasets\\nnvidia/Llama-Nemotron-Post-Training-Dataset-v1\\nUpdated\\n11 days ago\\n•\\n8.05k\\n•\\n265\\nglaiveai/reasoning-v1-20m\\nUpdated\\n10 days ago\\n•\\n6.84k\\n•\\n127\\nFreedomIntelligence/medical-o1-reasoning-SFT\\nUpdated\\nFeb 22\\n•\\n25.5k\\n•\\n574\\na-m-team/AM-DeepSeek-R1-Distilled-1.4M\\nUpdated\\n32 minutes ago\\n•\\n3.79k\\n•\\n75\\nPixelAI-Team/TalkBody4D\\nUpdated\\n4 days ago\\n•\\n66\\n•\\n44\\nBrowse 250k+ datasets\\nThe Home of Machine Learning\\nCreate, discover and collaborate on ML better.\\nThe collaboration platform\\nHost and collaborate on unlimited public models, datasets and applications.\\nMove faster\\nWith the HF Open source stack.\\nExplore all modalities\\nText, image, video, audio or even 3D.\\nBuild your portfolio\\nShare your work with the world and build your ML profile.\\nSign Up\\nAccelerate your ML\\nWe provide paid Compute and Enterprise solutions.\\nCompute\\nDeploy on optimized\\nInference Endpoints\\nor update your\\nSpaces applications\\nto a GPU in a few clicks.\\nView pricing\\nStarting at $0.60/hour for GPU\\nEnterprise\\nGive your team the most advanced platform to build AI with enterprise-grade security, access controls and\\n\\t\\t\\tdedicated support.\\nGetting started\\nStarting at $20/user/month\\nSingle Sign-On\\nRegions\\nPriority Support\\nAudit Logs\\nResource Groups\\nPrivate Datasets Viewer\\nMore than 50,000 organizations are using Hugging Face\\nAi2\\nEnterprise\\nnon-profit\\n•\\n396 models\\n•\\n2.97k followers\\nAI at Meta\\nEnterprise\\ncompany\\n•\\n2.07k models\\n•\\n5.29k followers\\nAmazon\\ncompany\\n•\\n10 models\\n•\\n2.92k followers\\nGoogle\\ncompany\\n•\\n974 models\\n•\\n10.7k followers\\nIntel\\ncompany\\n•\\n219 models\\n•\\n2.37k followers\\nMicrosoft\\ncompany\\n•\\n365 models\\n•\\n10.7k followers\\nGrammarly\\nEnterprise\\ncompany\\n•\\n10 models\\n•\\n146 followers\\nWriter\\nEnterprise\\ncompany\\n•\\n21 models\\n•\\n253 followers\\nOur Open Source\\nWe are building the foundation of ML tooling with the community.\\nTransformers\\n142,118\\nState-of-the-art ML for PyTorch, TensorFlow, JAX\\nDiffusers\\n28,310\\nState-of-the-art Diffusion models in PyTorch\\nSafetensors\\n3,190\\nSafe way to store/distribute neural network weights\\nHub Python Library\\n2,471\\nPython client to interact with the Hugging Face Hub\\nTokenizers\\n9,539\\nFast tokenizers optimized for research & production\\nTRL\\n12,906\\nTrain transformers LMs with reinforcement learning\\nTransformers.js\\n13,318\\nState-of-the-art ML running directly in your browser\\nsmolagents\\n15,966\\nSmol library to build great agents in Python\\nPEFT\\n17,935\\nParameter-efficient finetuning for large language models\\nDatasets\\n19,896\\nAccess & share datasets for any ML tasks\\nText Generation Inference\\n9,940\\nServe language models with TGI optimized toolkit\\nAccelerate\\n8,550\\nTrain PyTorch models with multi-GPU, TPU, mixed precision\\nSystem theme\\nWebsite\\nModels\\nDatasets\\nSpaces\\nTasks\\nInference Endpoints\\nHuggingChat\\nCompany\\nAbout\\nBrand assets\\nTerms of service\\nPrivacy\\nJobs\\nPress\\nResources\\nLearn\\nDocumentation\\nBlog\\nForum\\nService Status\\nSocial\\nGitHub\\nTwitter\\nLinkedIn\\nDiscord\\n\\n\\n\\nabout page\\nWebpage Title:\\nhuggingface (Hugging Face)\\nWebpage Contents:\\nHugging Face\\nModels\\nDatasets\\nSpaces\\nPosts\\nDocs\\nEnterprise\\nPricing\\nLog In\\nSign Up\\nHugging Face\\nEnterprise\\ncompany\\nVerified\\nhttps://huggingface.co\\nhuggingface\\nhuggingface\\nActivity Feed\\nFollow\\n28,351\\nAI & ML interests\\nThe AI community building the future.\\nRecent Activity\\ncoyotte508\\nnew\\nactivity\\nabout 23 hours ago\\nhuggingface/HuggingDiscussions:\\n[FEEDBACK] Notifications\\nWauplin\\nupdated\\na dataset\\nabout 23 hours ago\\nhuggingface/documentation-images\\nlysandre\\nupdated\\na dataset\\n1 day ago\\nhuggingface/transformers-metadata\\nView all activity\\nArticles\\nYay! Organizations can now publish blog Articles\\nJan 20\\n•\\n37\\nTeam members\\n209\\n+175\\n+162\\n+141\\n+131\\n+111\\nOrganization Card\\nCommunity\\nAbout org cards\\n👋 Hi!\\nWe are on a mission to democratiz'"
      ]
     },
     "execution_count": 41,
     "metadata": {},
     "output_type": "execute_result"
    }
   ],
   "source": [
    "get_brochure_user_prompt(\"HuggingFace\", \"https://huggingface.co\")"
   ]
  },
  {
   "cell_type": "code",
   "execution_count": 44,
   "id": "e44de579-4a1a-4e6a-a510-20ea3e4b8d46",
   "metadata": {},
   "outputs": [],
   "source": [
    "def create_brochure(company_name, url):\n",
    "    response = openai.chat.completions.create(\n",
    "        model=MODEL,\n",
    "        messages=[\n",
    "            {\"role\": \"system\", \"content\": system_prompt},\n",
    "            {\"role\": \"user\", \"content\": get_brochure_user_prompt(company_name, url)}\n",
    "          ],\n",
    "    )\n",
    "    result = response.choices[0].message.content\n",
    "    display(Markdown(result))\n",
    "    return result"
   ]
  },
  {
   "cell_type": "code",
   "execution_count": 43,
   "id": "e093444a-9407-42ae-924a-145730591a39",
   "metadata": {},
   "outputs": [
    {
     "name": "stdout",
     "output_type": "stream",
     "text": [
      "Found links: {'links': [{'type': 'about page', 'url': 'https://huggingface.co/huggingface'}, {'type': 'careers page', 'url': 'https://apply.workable.com/huggingface/'}, {'type': 'enterprise page', 'url': 'https://huggingface.co/enterprise'}, {'type': 'pricing page', 'url': 'https://huggingface.co/pricing'}, {'type': 'blog page', 'url': 'https://huggingface.co/blog'}, {'type': 'documentation page', 'url': 'https://huggingface.co/docs'}]}\n"
     ]
    },
    {
     "data": {
      "text/markdown": [
       "# Hugging Face Brochure\n",
       "\n",
       "## Company Overview\n",
       "Hugging Face is a leading AI community dedicated to building the future of machine learning through collaboration. The platform serves as a hub for developers, researchers, and organizations, enabling them to create, share, and collaborate on a vast array of models, datasets, and applications. Hugging Face is designed to accelerate innovation in AI and machine learning, embracing an open-source ethos that empowers users worldwide. \n",
       "\n",
       "## Key Offerings\n",
       "- **Models:** Explore and contribute to over 1M+ state-of-the-art machine learning models across various modalities, including text, image, video, audio, and 3D.\n",
       "  \n",
       "- **Datasets:** Access a rich repository of 250k+ datasets, facilitating a wide range of machine learning tasks and research.\n",
       "  \n",
       "- **Spaces:** Develop and deploy applications easily within a user-friendly environment, showcasing over 400k ML applications.\n",
       "  \n",
       "- **Enterprise Solutions:** Tailored offerings for businesses seeking advanced security, support, and compute resources, starting at $20/user/month.\n",
       "  \n",
       "- **Open Source Community:** Hugging Face spearheads numerous open-source libraries like Transformers, Diffusers, and Tokenizers, providing tools and resources for both research and production.\n",
       "\n",
       "## Customers\n",
       "Hugging Face serves more than 50,000 organizations across various sectors, including prominent names such as:\n",
       "- **Meta**\n",
       "- **Amazon**\n",
       "- **Google**\n",
       "- **Microsoft**\n",
       "- **Intel**\n",
       "- **Grammarly**\n",
       "\n",
       "This diverse clientele demonstrates Hugging Face's commitment to empowering industries through innovative machine learning solutions, and building a collaborative ecosystem for AI development.\n",
       "\n",
       "---\n",
       "\n",
       "Join Hugging Face today and become part of a community that is at the forefront of the AI revolution! Explore our platform [here](https://huggingface.co)."
      ],
      "text/plain": [
       "<IPython.core.display.Markdown object>"
      ]
     },
     "metadata": {},
     "output_type": "display_data"
    }
   ],
   "source": [
    "create_brochure(\"HuggingFace\", \"https://huggingface.co\")"
   ]
  },
  {
   "cell_type": "code",
   "execution_count": 49,
   "id": "235e5b31-3969-4b10-9a34-c7dba4973927",
   "metadata": {},
   "outputs": [],
   "source": [
    "system_prompt_trs = \"You are an assistant who checks company brochures for translation. You will receive a specoific company brochure and translate to the languahe specified by the user. Respond in Markdown.\"\n",
    "\n",
    "def get_brochure_user_translation_prompt(company_name, url):\n",
    "    user_prompt = f\"You are looking at a company called: {company_name}\\n\"\n",
    "    user_prompt += f\"Translate the broshure to Arabic.\\n\"\n",
    "    user_prompt += f\"{create_brochure(company_name, url)}\\n\"\n",
    "    user_prompt = user_prompt[:5_000] # Truncate if more than 5,000 characters\n",
    "    return user_prompt\n",
    "\n",
    "# print(get_brochure_user_translation_prompt(\"HuggingFace\", \"https://huggingface.co\"))\n",
    "\n",
    "def translate_brochure(company_name, url):\n",
    "    response = openai.chat.completions.create(\n",
    "        model=MODEL,\n",
    "        messages=[\n",
    "            {\"role\": \"system\", \"content\": system_prompt_trs},\n",
    "            {\"role\": \"user\", \"content\": get_brochure_user_translation_prompt(company_name, url)}\n",
    "          ],\n",
    "    )\n",
    "    result = response.choices[0].message.content\n",
    "    display(Markdown(result))"
   ]
  },
  {
   "cell_type": "code",
   "execution_count": 50,
   "id": "4ca22442-e4da-453a-a895-b24614799a0f",
   "metadata": {},
   "outputs": [
    {
     "name": "stdout",
     "output_type": "stream",
     "text": [
      "Found links: {'links': [{'type': 'about page', 'url': 'https://huggingface.co/huggingface'}, {'type': 'careers page', 'url': 'https://apply.workable.com/huggingface/'}, {'type': 'company page', 'url': 'https://www.linkedin.com/company/huggingface/'}, {'type': 'blog page', 'url': 'https://huggingface.co/blog'}]}\n"
     ]
    },
    {
     "data": {
      "text/markdown": [
       "```markdown\n",
       "# Hugging Face Company Brochure\n",
       "\n",
       "## Company Overview\n",
       "Hugging Face is a pioneering community-driven platform at the forefront of artificial intelligence (AI) and machine learning (ML). The company is committed to democratizing access to advanced machine learning tools and fostering collaboration among developers, researchers, and enterprises globally. Hugging Face serves as an open-source hub where users can create, share, and collaborate on models, datasets, and applications, thereby accelerating the development and deployment of AI-driven solutions.\n",
       "\n",
       "## Key Offerings\n",
       "### 1. **Models**\n",
       "- **Access to Over 1 Million Models**: Hugging Face provides a comprehensive library where users can explore and use a vast array of AI models ranging from text generation to image analysis.\n",
       "- **State-of-the-art ML frameworks**: The platform supports various leading frameworks, including Transformers, Diffusers, and more, suitable for use with PyTorch, TensorFlow, and JAX.\n",
       "\n",
       "### 2. **Datasets**\n",
       "- **Extensive Dataset Collection**: Users can browse and access over 250,000 datasets tailored for diverse machine learning tasks, ensuring comprehensive resources for training and research.\n",
       "\n",
       "### 3. **Spaces**\n",
       "- **Interactive AI Applications**: Hugging Face hosts numerous applications where users can experiment with ML models directly through a user-friendly interface. These spaces include various tools for image generation, natural language processing, and more.\n",
       "\n",
       "### 4. **Enterprise Solutions**\n",
       "- **Tailored for Businesses**: Hugging Face offers enterprise-grade services with cloud solutions, advanced security features, and dedicated support to empower organizations in deploying customized AI solutions efficiently.\n",
       "\n",
       "### 5. **Open Source Collaboration**\n",
       "- Hugging Face is committed to transparency and community involvement, providing a robust open-source ecosystem that includes libraries such as `Transformers`, `Tokenizers`, and `Accelerate`.\n",
       "\n",
       "## Customers\n",
       "More than **50,000 organizations** trust Hugging Face to power their machine learning capabilities. Among them are industry leaders like:\n",
       "- **Google**\n",
       "  - 974 models, 10.7k followers\n",
       "- **Microsoft**\n",
       "  - 365 models, 10.7k followers\n",
       "- **Amazon**\n",
       "  - 10 models, 2.92k followers\n",
       "- **Meta, Grammarly**, and numerous others in various sectors, highlighting the platform's versatility and credibility in driving AI innovation.\n",
       "\n",
       "Whether you're a developer looking to enhance your ML projects, an investor interested in the future of AI technology, or a prospective recruit eager to join a passionate community, Hugging Face is at the heart of the AI revolution. Join us on this journey to build the future!\n",
       "```\n"
      ],
      "text/plain": [
       "<IPython.core.display.Markdown object>"
      ]
     },
     "metadata": {},
     "output_type": "display_data"
    },
    {
     "data": {
      "text/markdown": [
       "```markdown\n",
       "# كتيب شركة Hugging Face\n",
       "\n",
       "## لمحة عامة عن الشركة\n",
       "تُعتبر Hugging Face منصة رائدة تعتمد على المجتمع في مقدمة الذكاء الاصطناعي (AI) وتعلم الآلة (ML). تلتزم الشركة بديمقراطية الوصول إلى أدوات تعلم الآلة المتقدمة وتعزيز التعاون بين المطورين والباحثين والشركات على مستوى العالم. تعمل Hugging Face كمركز مفتوح المصدر حيث يمكن للمستخدمين إنشاء ومشاركة والتعاون في النماذج ومجموعات البيانات والتطبيقات، مما يساهم في تسريع تطوير ونشر الحلول المدفوعة بالذكاء الاصطناعي.\n",
       "\n",
       "## العروض الرئيسية\n",
       "### 1. **النماذج**\n",
       "- **الوصول إلى أكثر من مليون نموذج**: توفر Hugging Face مكتبة شاملة حيث يمكن للمستخدمين استكشاف واستخدام مجموعة واسعة من نماذج الذكاء الاصطناعي تتراوح من توليد النصوص إلى تحليل الصور.\n",
       "- **إطارات تعلم الآلة المتطورة**: تدعم المنصة مجموعة من الإطارات الرائدة، بما في ذلك Transformers وDiffusers وغيرها، المناسبة للاستخدام مع PyTorch وTensorFlow وJAX.\n",
       "\n",
       "### 2. **مجموعات البيانات**\n",
       "- **مجموعة واسعة من مجموعات البيانات**: يمكن للمستخدمين تصفح والوصول إلى أكثر من 250,000 مجموعة بيانات مخصصة لمهام تعلم الآلة المتنوعة، مما يضمن موارد شاملة للتدريب والبحث.\n",
       "\n",
       "### 3. **المساحات**\n",
       "- **تطبيقات الذكاء الاصطناعي التفاعلية**: تستضيف Hugging Face العديد من التطبيقات حيث يمكن للمستخدمين تجربة نماذج تعلم الآلة مباشرة من خلال واجهة مستخدم سهلة الاستخدام. تشمل هذه المساحات أدوات متنوعة لتوليد الصور ومعالجة اللغة الطبيعية والمزيد.\n",
       "\n",
       "### 4. **حلول الشركات**\n",
       "- **مصممة للشركات**: تقدم Hugging Face خدمات موجهة للأعمال مع حلول سحابية وميزات أمان متقدمة ودعم مخصص لتمكين المنظمات من نشر حلول ذكاء اصطناعي مخصصة بكفاءة.\n",
       "\n",
       "### 5. **التعاون مفتوح المصدر**\n",
       "- تلتزم Hugging Face بالشفافية ومشاركة المجتمع، حيث توفر نظام بيئي قوي مفتوح المصدر يشمل مكتبات مثل `Transformers` و `Tokenizers` و `Accelerate`.\n",
       "\n",
       "## العملاء\n",
       "تثق أكثر من **50,000 منظمة** في Hugging Face لتعزيز قدراتها في تعلم الآلة. من بين هؤلاء، هناك قادة في الصناعة مثل:\n",
       "- **جوجل**\n",
       "  - 974 نموذج، 10.7 ألف متابع\n",
       "- **مايكروسوفت**\n",
       "  - 365 نموذج، 10.7 ألف متابع\n",
       "- **أمازون**\n",
       "  - 10 نماذج، 2.92 ألف متابع\n",
       "- **ميتا، جرامرلي** والعديد من الآخرين في مختلف القطاعات، مما يبرز تنوع ومصداقية المنصة في دفع الابتكار في مجال الذكاء الاصطناعي.\n",
       "\n",
       "سواء كنت مطورًا يتطلع إلى تعزيز مشاريع تعلم الآلة الخاصة بك، مستثمرًا مهتمًا بمستقبل تكنولوجيا الذكاء الاصطناعي، أو مرشحًا محتملًا متحمسًا للانضمام إلى مجتمع مليء بالشغف، فإن Hugging Face هي في قلب ثورة الذكاء الاصطناعي. انضم إلينا في هذه الرحلة لبناء المستقبل!\n",
       "```"
      ],
      "text/plain": [
       "<IPython.core.display.Markdown object>"
      ]
     },
     "metadata": {},
     "output_type": "display_data"
    }
   ],
   "source": [
    "translate_brochure(\"HuggingFace\", \"https://huggingface.co\")"
   ]
  },
  {
   "cell_type": "markdown",
   "id": "61eaaab7-0b47-4b29-82d4-75d474ad8d18",
   "metadata": {},
   "source": [
    "## Finally - a minor improvement\n",
    "\n",
    "With a small adjustment, we can change this so that the results stream back from OpenAI,\n",
    "with the familiar typewriter animation"
   ]
  },
  {
   "cell_type": "code",
   "execution_count": 24,
   "id": "51db0e49-f261-4137-aabe-92dd601f7725",
   "metadata": {},
   "outputs": [],
   "source": [
    "def stream_brochure(company_name, url):\n",
    "    stream = openai.chat.completions.create(\n",
    "        model=MODEL,\n",
    "        messages=[\n",
    "            {\"role\": \"system\", \"content\": system_prompt},\n",
    "            {\"role\": \"user\", \"content\": get_brochure_user_prompt(company_name, url)}\n",
    "          ],\n",
    "        stream=True\n",
    "    )\n",
    "    \n",
    "    response = \"\"\n",
    "    display_handle = display(Markdown(\"\"), display_id=True)\n",
    "    for chunk in stream:\n",
    "        response += chunk.choices[0].delta.content or ''\n",
    "        response = response.replace(\"```\",\"\").replace(\"markdown\", \"\")\n",
    "        update_display(Markdown(response), display_id=display_handle.display_id)"
   ]
  },
  {
   "cell_type": "code",
   "execution_count": 29,
   "id": "56bf0ae3-ee9d-4a72-9cd6-edcac67ceb6d",
   "metadata": {},
   "outputs": [
    {
     "name": "stdout",
     "output_type": "stream",
     "text": [
      "Found links: {'links': [{'type': 'about page', 'url': 'https://www.nvidia.com/en-eu/about-nvidia/'}, {'type': 'careers page', 'url': 'https://www.nvidia.com/en-eu/about-nvidia/careers/'}, {'type': 'company page', 'url': 'https://www.nvidia.com/en-eu/about-nvidia/executive-insights/'}, {'type': 'company page', 'url': 'https://www.nvidia.com/en-eu/about-nvidia/partners/'}, {'type': 'company page', 'url': 'https://www.nvidia.com/en-eu/research/'}, {'type': 'company page', 'url': 'https://www.nvidia.com/en-eu/foundation/'}, {'type': 'company page', 'url': 'https://www.nvidia.com/en-eu/csr/'}]}\n"
     ]
    },
    {
     "data": {
      "text/markdown": [
       "\n",
       "# NVIDIA Company Brochure\n",
       "\n",
       "## About NVIDIA\n",
       "\n",
       "NVIDIA is a global leader in artificial intelligence (AI) computing, revolutionizing the way industries leverage technology to harness the power of data. Our expertise spans various domains including gaming, automotive, healthcare, and cloud computing, establishing NVIDIA at the forefront of accelerated computing for modern applications.\n",
       "\n",
       "### Vision and Mission\n",
       "\n",
       "NVIDIA's mission is to enhance human productivity through advanced technology. We aim to drive innovation and transform industries by delivering powerful graphics and computing solutions that empower creativity and enable smarter decisions.\n",
       "\n",
       "---\n",
       "\n",
       "## Products and Services\n",
       "\n",
       "### Innovative Offerings\n",
       "\n",
       "- **Artificial Intelligence Solutions:** From generative AI to intelligent video analytics, NVIDIA is pioneering the future with cutting-edge AI tools and frameworks.\n",
       "- **Graphics Processing Units (GPUs):** The renowned GeForce and RTX product lines deliver unparalleled graphics performance for gaming and creative applications.\n",
       "- **Data Center Solutions:** Our advanced networking and cloud solutions power mission-critical applications across industries, ensuring robust and scalable computing environments.\n",
       "\n",
       "### Key Industries Served\n",
       "\n",
       "- **Gaming:** Providing gamers with the best graphical experiences through high-performance graphics cards and technologies.\n",
       "- **Automotive:** Leading innovations in autonomous vehicles and smart transportation systems.\n",
       "- **Healthcare:** Transforming clinical applications with AI-powered solutions, data analysis, and simulation tools.\n",
       "\n",
       "---\n",
       "\n",
       "## Company Culture\n",
       "\n",
       "At NVIDIA, our culture is founded on collaboration and innovation. We encourage a growth mindset while fostering an inclusive environment where every team member is empowered to contribute their ideas. Our commitment to diversity and sustainability sets the groundwork for a dynamic workplace where creativity flourishes.\n",
       "\n",
       "### Employee Engagement\n",
       "\n",
       "We believe that our employees are our greatest asset. NVIDIA offers extensive professional development opportunities, wellness programs, and a flexible work environment. We support work-life balance to ensure our team members thrive both personally and professionally.\n",
       "\n",
       "---\n",
       "\n",
       "## Join Us\n",
       "\n",
       "### Careers at NVIDIA\n",
       "\n",
       "NVIDIA is constantly seeking passionate individuals who are innovators at heart. By joining our team, you will not only take part in exciting projects at the forefront of technology, but also gain the opportunity to grow and develop within the company. \n",
       "\n",
       "- **Open Positions:** We offer a range of career paths in engineering, research, sales, and marketing. \n",
       "- **Inclusive Workplace:** We welcome diverse backgrounds and perspectives, aiming to create a team that mirrors our global customer base.\n",
       "\n",
       "If you're ready to push the boundaries of what's possible with us, visit our careers page to explore opportunities.\n",
       "\n",
       "---\n",
       "\n",
       "## Connect with Us\n",
       "\n",
       "For more information about our products and corporate initiatives, please visit [NVIDIA's Official Website](https://www.nvidia.com/) or reach out through our social media channels. We look forward to engaging with you!\n",
       "\n",
       "---\n",
       "\n",
       "Thank you for considering NVIDIA—where innovation and creativity meet to shape the future.\n"
      ],
      "text/plain": [
       "<IPython.core.display.Markdown object>"
      ]
     },
     "metadata": {},
     "output_type": "display_data"
    }
   ],
   "source": [
    "# stream_brochure(\"HuggingFace\", \"https://huggingface.co\")\n",
    "# stream_brochure(\"British Council\", \"https://www.gov.uk/world/organisations/british-embassy-tel-aviv\")\n",
    "# stream_brochure(\"General Motors\", \"https://www.gm.com/\")\n",
    "stream_brochure(\"Nvidia\", \"https://www.nvidia.com/en-eu/\")"
   ]
  },
  {
   "cell_type": "code",
   "execution_count": null,
   "id": "fdb3f8d8-a3eb-41c8-b1aa-9f60686a653b",
   "metadata": {},
   "outputs": [],
   "source": [
    "# Try changing the system prompt to the humorous version when you make the Brochure for Hugging Face:\n",
    "\n",
    "stream_brochure(\"HuggingFace\", \"https://huggingface.co\")"
   ]
  },
  {
   "cell_type": "markdown",
   "id": "a27bf9e0-665f-4645-b66b-9725e2a959b5",
   "metadata": {},
   "source": [
    "<table style=\"margin: 0; text-align: left;\">\n",
    "    <tr>\n",
    "        <td style=\"width: 150px; height: 150px; vertical-align: middle;\">\n",
    "            <img src=\"../business.jpg\" width=\"150\" height=\"150\" style=\"display: block;\" />\n",
    "        </td>\n",
    "        <td>\n",
    "            <h2 style=\"color:#181;\">Business applications</h2>\n",
    "            <span style=\"color:#181;\">In this exercise we extended the Day 1 code to make multiple LLM calls, and generate a document.\n",
    "\n",
    "This is perhaps the first example of Agentic AI design patterns, as we combined multiple calls to LLMs. This will feature more in Week 2, and then we will return to Agentic AI in a big way in Week 8 when we build a fully autonomous Agent solution.\n",
    "\n",
    "Generating content in this way is one of the very most common Use Cases. As with summarization, this can be applied to any business vertical. Write marketing content, generate a product tutorial from a spec, create personalized email content, and so much more. Explore how you can apply content generation to your business, and try making yourself a proof-of-concept prototype. See what other students have done in the community-contributions folder -- so many valuable projects -- it's wild!</span>\n",
    "        </td>\n",
    "    </tr>\n",
    "</table>"
   ]
  },
  {
   "cell_type": "markdown",
   "id": "14b2454b-8ef8-4b5c-b928-053a15e0d553",
   "metadata": {},
   "source": [
    "<table style=\"margin: 0; text-align: left;\">\n",
    "    <tr>\n",
    "        <td style=\"width: 150px; height: 150px; vertical-align: middle;\">\n",
    "            <img src=\"../important.jpg\" width=\"150\" height=\"150\" style=\"display: block;\" />\n",
    "        </td>\n",
    "        <td>\n",
    "            <h2 style=\"color:#900;\">Before you move to Week 2 (which is tons of fun)</h2>\n",
    "            <span style=\"color:#900;\">Please see the week1 EXERCISE notebook for your challenge for the end of week 1. This will give you some essential practice working with Frontier APIs, and prepare you well for Week 2.</span>\n",
    "        </td>\n",
    "    </tr>\n",
    "</table>"
   ]
  },
  {
   "cell_type": "markdown",
   "id": "17b64f0f-7d33-4493-985a-033d06e8db08",
   "metadata": {},
   "source": [
    "<table style=\"margin: 0; text-align: left;\">\n",
    "    <tr>\n",
    "        <td style=\"width: 150px; height: 150px; vertical-align: middle;\">\n",
    "            <img src=\"../resources.jpg\" width=\"150\" height=\"150\" style=\"display: block;\" />\n",
    "        </td>\n",
    "        <td>\n",
    "            <h2 style=\"color:#f71;\">A reminder on 3 useful resources</h2>\n",
    "            <span style=\"color:#f71;\">1. The resources for the course are available <a href=\"https://edwarddonner.com/2024/11/13/llm-engineering-resources/\">here.</a><br/>\n",
    "            2. I'm on LinkedIn <a href=\"https://www.linkedin.com/in/eddonner/\">here</a> and I love connecting with people taking the course!<br/>\n",
    "            3. I'm trying out X/Twitter and I'm at <a href=\"https://x.com/edwarddonner\">@edwarddonner<a> and hoping people will teach me how it's done..  \n",
    "            </span>\n",
    "        </td>\n",
    "    </tr>\n",
    "</table>"
   ]
  },
  {
   "cell_type": "markdown",
   "id": "6f48e42e-fa7a-495f-a5d4-26bfc24d60b6",
   "metadata": {},
   "source": [
    "<table style=\"margin: 0; text-align: left;\">\n",
    "    <tr>\n",
    "        <td style=\"width: 150px; height: 150px; vertical-align: middle;\">\n",
    "            <img src=\"../thankyou.jpg\" width=\"150\" height=\"150\" style=\"display: block;\" />\n",
    "        </td>\n",
    "        <td>\n",
    "            <h2 style=\"color:#090;\">Finally! I have a special request for you</h2>\n",
    "            <span style=\"color:#090;\">\n",
    "                My editor tells me that it makes a MASSIVE difference when students rate this course on Udemy - it's one of the main ways that Udemy decides whether to show it to others. If you're able to take a minute to rate this, I'd be so very grateful! And regardless - always please reach out to me at ed@edwarddonner.com if I can help at any point.\n",
    "            </span>\n",
    "        </td>\n",
    "    </tr>\n",
    "</table>"
   ]
  },
  {
   "cell_type": "code",
   "execution_count": null,
   "id": "b8d3e1a1-ba54-4907-97c5-30f89a24775b",
   "metadata": {},
   "outputs": [],
   "source": []
  }
 ],
 "metadata": {
  "kernelspec": {
   "display_name": "Python 3 (ipykernel)",
   "language": "python",
   "name": "python3"
  },
  "language_info": {
   "codemirror_mode": {
    "name": "ipython",
    "version": 3
   },
   "file_extension": ".py",
   "mimetype": "text/x-python",
   "name": "python",
   "nbconvert_exporter": "python",
   "pygments_lexer": "ipython3",
   "version": "3.12.2"
  }
 },
 "nbformat": 4,
 "nbformat_minor": 5
}
