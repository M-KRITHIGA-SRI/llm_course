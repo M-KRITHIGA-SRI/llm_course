{
 "cells": [
  {
   "cell_type": "markdown",
   "id": "d15d8294-3328-4e07-ad16-8a03e9bbfdb9",
   "metadata": {},
   "source": [
    "# Welcome to your first assignment!\n",
    "\n",
    "Instructions are below. Please give this a try, and look in the solutions folder if you get stuck (or feel free to ask me!)"
   ]
  },
  {
   "cell_type": "markdown",
   "id": "ada885d9-4d42-4d9b-97f0-74fbbbfe93a9",
   "metadata": {},
   "source": [
    "<table style=\"margin: 0; text-align: left;\">\n",
    "    <tr>\n",
    "        <td style=\"width: 150px; height: 150px; vertical-align: middle;\">\n",
    "            <img src=\"../resources.jpg\" width=\"150\" height=\"150\" style=\"display: block;\" />\n",
    "        </td>\n",
    "        <td>\n",
    "            <h2 style=\"color:#f71;\">Just before we get to the assignment --</h2>\n",
    "            <span style=\"color:#f71;\">I thought I'd take a second to point you at this page of useful resources for the course. This includes links to all the slides.<br/>\n",
    "            <a href=\"https://edwarddonner.com/2024/11/13/llm-engineering-resources/\">https://edwarddonner.com/2024/11/13/llm-engineering-resources/</a><br/>\n",
    "            Please keep this bookmarked, and I'll continue to add more useful links there over time.\n",
    "            </span>\n",
    "        </td>\n",
    "    </tr>\n",
    "</table>"
   ]
  },
  {
   "cell_type": "markdown",
   "id": "6e9fa1fc-eac5-4d1d-9be4-541b3f2b3458",
   "metadata": {},
   "source": [
    "# HOMEWORK EXERCISE ASSIGNMENT\n",
    "\n",
    "Upgrade the day 1 project to summarize a webpage to use an Open Source model running locally via Ollama rather than OpenAI\n",
    "\n",
    "You'll be able to use this technique for all subsequent projects if you'd prefer not to use paid APIs.\n",
    "\n",
    "**Benefits:**\n",
    "1. No API charges - open-source\n",
    "2. Data doesn't leave your box\n",
    "\n",
    "**Disadvantages:**\n",
    "1. Significantly less power than Frontier Model\n",
    "\n",
    "## Recap on installation of Ollama\n",
    "\n",
    "Simply visit [ollama.com](https://ollama.com) and install!\n",
    "\n",
    "Once complete, the ollama server should already be running locally.  \n",
    "If you visit:  \n",
    "[http://localhost:11434/](http://localhost:11434/)\n",
    "\n",
    "You should see the message `Ollama is running`.  \n",
    "\n",
    "If not, bring up a new Terminal (Mac) or Powershell (Windows) and enter `ollama serve`  \n",
    "And in another Terminal (Mac) or Powershell (Windows), enter `ollama pull llama3.2`  \n",
    "Then try [http://localhost:11434/](http://localhost:11434/) again.\n",
    "\n",
    "If Ollama is slow on your machine, try using `llama3.2:1b` as an alternative. Run `ollama pull llama3.2:1b` from a Terminal or Powershell, and change the code below from `MODEL = \"llama3.2\"` to `MODEL = \"llama3.2:1b\"`"
   ]
  },
  {
   "cell_type": "code",
   "execution_count": 1,
   "id": "4e2a9393-7767-488e-a8bf-27c12dca35bd",
   "metadata": {},
   "outputs": [],
   "source": [
    "# imports\n",
    "\n",
    "import requests\n",
    "from bs4 import BeautifulSoup\n",
    "from IPython.display import Markdown, display"
   ]
  },
  {
   "cell_type": "code",
   "execution_count": 2,
   "id": "29ddd15d-a3c5-4f4e-a678-873f56162724",
   "metadata": {},
   "outputs": [],
   "source": [
    "# Constants\n",
    "\n",
    "OLLAMA_API = \"http://localhost:11434/api/chat\"\n",
    "HEADERS = {\"Content-Type\": \"application/json\"}\n",
    "MODEL = \"llama3.2\""
   ]
  },
  {
   "cell_type": "code",
   "execution_count": 3,
   "id": "dac0a679-599c-441f-9bf2-ddc73d35b940",
   "metadata": {},
   "outputs": [],
   "source": [
    "# Create a messages list using the same format that we used for OpenAI\n",
    "\n",
    "messages = [\n",
    "    {\"role\": \"user\", \"content\": \"Describe some of the business applications of Generative AI\"}\n",
    "]"
   ]
  },
  {
   "cell_type": "code",
   "execution_count": 4,
   "id": "7bb9c624-14f0-4945-a719-8ddb64f66f47",
   "metadata": {},
   "outputs": [],
   "source": [
    "payload = {\n",
    "        \"model\": MODEL,\n",
    "        \"messages\": messages,\n",
    "        \"stream\": False\n",
    "    }"
   ]
  },
  {
   "cell_type": "code",
   "execution_count": 5,
   "id": "479ff514-e8bd-4985-a572-2ea28bb4fa40",
   "metadata": {},
   "outputs": [
    {
     "name": "stderr",
     "output_type": "stream",
     "text": [
      "\u001b[?2026h\u001b[?25l\u001b[1Gpulling manifest ⠋ \u001b[K\u001b[?25h\u001b[?2026l\u001b[?2026h\u001b[?25l\u001b[1Gpulling manifest ⠙ \u001b[K\u001b[?25h\u001b[?2026l\u001b[?2026h\u001b[?25l\u001b[1Gpulling manifest ⠹ \u001b[K\u001b[?25h\u001b[?2026l\u001b[?2026h\u001b[?25l\u001b[1Gpulling manifest ⠸ \u001b[K\u001b[?25h\u001b[?2026l\u001b[?2026h\u001b[?25l\u001b[1Gpulling manifest ⠼ \u001b[K\u001b[?25h\u001b[?2026l\u001b[?2026h\u001b[?25l\u001b[1Gpulling manifest ⠴ \u001b[K\u001b[?25h\u001b[?2026l\u001b[?2026h\u001b[?25l\u001b[1Gpulling manifest ⠦ \u001b[K\u001b[?25h\u001b[?2026l\u001b[?2026h\u001b[?25l\u001b[1Gpulling manifest ⠧ \u001b[K\u001b[?25h\u001b[?2026l\u001b[?2026h\u001b[?25l\u001b[1Gpulling manifest ⠇ \u001b[K\u001b[?25h\u001b[?2026l\u001b[?2026h\u001b[?25l\u001b[1Gpulling manifest ⠏ \u001b[K\u001b[?25h\u001b[?2026l\u001b[?2026h\u001b[?25l\u001b[1Gpulling manifest ⠋ \u001b[K\u001b[?25h\u001b[?2026l\u001b[?2026h\u001b[?25l\u001b[1Gpulling manifest ⠙ \u001b[K\u001b[?25h\u001b[?2026l\u001b[?2026h\u001b[?25l\u001b[1Gpulling manifest ⠹ \u001b[K\u001b[?25h\u001b[?2026l\u001b[?2026h\u001b[?25l\u001b[1Gpulling manifest ⠸ \u001b[K\u001b[?25h\u001b[?2026l\u001b[?2026h\u001b[?25l\u001b[1Gpulling manifest ⠼ \u001b[K\u001b[?25h\u001b[?2026l\u001b[?2026h\u001b[?25l\u001b[1Gpulling manifest \u001b[K\n",
      "pulling dde5aa3fc5ff: 100% ▕██████████████████▏ 2.0 GB                         \u001b[K\n",
      "pulling 966de95ca8a6: 100% ▕██████████████████▏ 1.4 KB                         \u001b[K\n",
      "pulling fcc5a6bec9da: 100% ▕██████████████████▏ 7.7 KB                         \u001b[K\n",
      "pulling a70ff7e570d9: 100% ▕██████████████████▏ 6.0 KB                         \u001b[K\n",
      "pulling 56bb8bd477a5: 100% ▕██████████████████▏   96 B                         \u001b[K\n",
      "pulling 34bb5ab01051: 100% ▕██████████████████▏  561 B                         \u001b[K\n",
      "verifying sha256 digest \u001b[K\n",
      "writing manifest \u001b[K\n",
      "success \u001b[K\u001b[?25h\u001b[?2026l\n"
     ]
    }
   ],
   "source": [
    "# Let's just make sure the model is loaded\n",
    "\n",
    "!ollama pull llama3.2"
   ]
  },
  {
   "cell_type": "code",
   "execution_count": 6,
   "id": "42b9f644-522d-4e05-a691-56e7658c0ea9",
   "metadata": {},
   "outputs": [
    {
     "name": "stdout",
     "output_type": "stream",
     "text": [
      "Generative AI has numerous business applications across various industries. Here are some examples:\n",
      "\n",
      "1. **Content Generation**: AI-powered tools can generate high-quality content, such as articles, social media posts, product descriptions, and more, saving time and resources for marketers and writers.\n",
      "2. **Product Design**: Generative AI can create 3D models, product designs, and prototypes, allowing companies to test and iterate on their products quickly and efficiently.\n",
      "3. **Marketing Automation**: AI-powered chatbots and virtual assistants can help automate customer support, lead generation, and other marketing tasks, freeing up human resources for more strategic activities.\n",
      "4. **Personalized Recommendations**: Generative AI algorithms can analyze vast amounts of data to create personalized product recommendations, enhancing the customer experience and driving sales.\n",
      "5. **Image and Video Editing**: AI-powered editing tools can automate image and video editing tasks, such as removing objects, adjusting colors, and creating special effects.\n",
      "6. **Music Composition**: Generative AI can compose music, create beats, and even generate entire soundtracks for movies and TV shows.\n",
      "7. **Customer Service Chatbots**: AI-powered chatbots can handle customer inquiries, provide support, and route complex issues to human representatives, improving customer satisfaction and reducing response times.\n",
      "8. **Language Translation**: Generative AI can translate languages in real-time, facilitating international communication and business transactions.\n",
      "9. **Data Analysis and Visualization**: AI-powered tools can analyze large datasets, identify patterns, and generate visualizations, helping businesses make data-driven decisions.\n",
      "10. **Innovation and R&D**: Generative AI can help researchers and developers quickly prototype and test new ideas, accelerating innovation and reducing the time-to-market for new products and services.\n",
      "\n",
      "Some specific industries that are heavily investing in Generative AI include:\n",
      "\n",
      "1. **Finance and Banking**: AI-powered tools to detect fraud, generate financial reports, and optimize investment strategies.\n",
      "2. **Healthcare**: Generative AI to analyze medical images, diagnose diseases, and develop personalized treatment plans.\n",
      "3. **E-commerce**: AI-powered tools to personalize product recommendations, automate customer service, and optimize supply chain logistics.\n",
      "4. **Education**: Generative AI to create adaptive learning materials, generate personalized lesson plans, and improve student outcomes.\n",
      "\n",
      "These are just a few examples of the many business applications of Generative AI. As the technology continues to evolve, we can expect to see even more innovative uses across various industries.\n"
     ]
    }
   ],
   "source": [
    "# If this doesn't work for any reason, try the 2 versions in the following cells\n",
    "# And double check the instructions in the 'Recap on installation of Ollama' at the top of this lab\n",
    "# And if none of that works - contact me!\n",
    "\n",
    "response = requests.post(OLLAMA_API, json=payload, headers=HEADERS)\n",
    "print(response.json()['message']['content'])"
   ]
  },
  {
   "cell_type": "markdown",
   "id": "6a021f13-d6a1-4b96-8e18-4eae49d876fe",
   "metadata": {},
   "source": [
    "# Introducing the ollama package\n",
    "\n",
    "And now we'll do the same thing, but using the elegant ollama python package instead of a direct HTTP call.\n",
    "\n",
    "Under the hood, it's making the same call as above to the ollama server running at localhost:11434"
   ]
  },
  {
   "cell_type": "code",
   "execution_count": 7,
   "id": "7745b9c4-57dc-4867-9180-61fa5db55eb8",
   "metadata": {},
   "outputs": [
    {
     "name": "stdout",
     "output_type": "stream",
     "text": [
      "Generative AI has numerous business applications across various industries. Here are some examples:\n",
      "\n",
      "1. **Content Creation**: Generative AI can be used to generate high-quality content such as articles, social media posts, product descriptions, and even entire books. This can help businesses save time and resources on content creation, while also improving the consistency and quality of their content.\n",
      "2. **Product Design**: Generative AI can be used to design new products, such as furniture, fashion items, or electronic devices. By generating multiple design iterations, businesses can quickly test different design options and find the most effective one for their product.\n",
      "3. **Marketing Automation**: Generative AI can be used to personalize marketing messages and automate repetitive tasks such as lead generation and customer outreach. This can help businesses improve their marketing efficiency and reach a larger audience.\n",
      "4. **Data Analysis**: Generative AI can be used to analyze large datasets and identify patterns and trends that may not be apparent through traditional analysis methods. This can help businesses gain insights into their customers' behavior, preferences, and needs.\n",
      "5. **Chatbots and Virtual Assistants**: Generative AI can be used to create chatbots and virtual assistants that can understand and respond to customer inquiries in a more human-like way.\n",
      "6. **Image and Video Generation**: Generative AI can be used to generate high-quality images and videos for various applications such as advertising, marketing, and entertainment.\n",
      "7. **Music Composition**: Generative AI can be used to compose music for various purposes such as film scores, advertisements, or even entire albums.\n",
      "8. **Speech Synthesis**: Generative AI can be used to create synthetic voices that can be used in applications such as virtual assistants, voice-over work, and automated customer service.\n",
      "9. **Predictive Maintenance**: Generative AI can be used to predict equipment failures and perform predictive maintenance, reducing downtime and improving overall efficiency.\n",
      "10. **Supply Chain Optimization**: Generative AI can be used to optimize supply chain operations by predicting demand, managing inventory, and identifying areas for improvement.\n",
      "\n",
      "Some of the industries that are particularly well-suited for generative AI applications include:\n",
      "\n",
      "1. **Advertising and Marketing**: Generative AI can help create personalized ads, generate content, and automate marketing campaigns.\n",
      "2. **Finance and Banking**: Generative AI can be used to analyze financial data, identify trends, and predict market movements.\n",
      "3. **Healthcare**: Generative AI can be used to analyze medical images, diagnose diseases, and develop personalized treatment plans.\n",
      "4. **Manufacturing**: Generative AI can be used to optimize production processes, improve product design, and reduce waste.\n",
      "5. **Retail**: Generative AI can be used to create personalized shopping experiences, generate product recommendations, and automate customer service.\n",
      "\n",
      "These are just a few examples of the many business applications of generative AI. As the technology continues to evolve, we can expect to see even more innovative uses in various industries.\n"
     ]
    }
   ],
   "source": [
    "import ollama\n",
    "\n",
    "response = ollama.chat(model=MODEL, messages=messages)\n",
    "print(response['message']['content'])"
   ]
  },
  {
   "cell_type": "markdown",
   "id": "a4704e10-f5fb-4c15-a935-f046c06fb13d",
   "metadata": {},
   "source": [
    "## Alternative approach - using OpenAI python library to connect to Ollama"
   ]
  },
  {
   "cell_type": "code",
   "execution_count": 8,
   "id": "23057e00-b6fc-4678-93a9-6b31cb704bff",
   "metadata": {},
   "outputs": [
    {
     "name": "stdout",
     "output_type": "stream",
     "text": [
      "Generative AI has numerous business applications across various industries, including:\n",
      "\n",
      "1. **Content Generation**: AI-powered tools can generate high-quality content such as articles, social media posts, product descriptions, and even entire books. This saves time and resources for businesses who need to create a large volume of content.\n",
      "2. **Product Design**: Generative AI can help design new products, logos, and packaging. It uses algorithms to generate multiple designs based on input parameters, reducing the time and cost associated with traditional product design processes.\n",
      "3. **Marketing Campaigns**: AI-powered tools can analyze customer data, preferences, and behavior to create targeted marketing campaigns. They can also generate personalized ads, email newsletters, and other promotional materials.\n",
      "4. **Customer Service Chatbots**: Generative AI can power conversational chatbots that provide 24/7 customer support, responding to queries, resolving issues, and routing complex problems to human representatives.\n",
      "5. **Data Analysis and Visualization**: AI algorithms can process large datasets, identify patterns, and create visualizations such as charts, graphs, and heat maps to help businesses gain insights and make data-driven decisions.\n",
      "6. **Content Translation and Localization**: Generative AI can translate and transcribe content in real-time, reducing costs associated with human translation services and enabling faster globalization of products and services.\n",
      "7. **Audio and Video Content Creation**: AI-powered tools can generate music, audio effects, and even entire video sequences. This is particularly useful for creating animations, explainer videos, and other types of multimedia content.\n",
      "8. **Product Recommendations**: Generative AI algorithms can analyze customer data, behavior, and preferences to recommend relevant products or services, enhancing the overall shopping experience.\n",
      "9. **Speech Recognition and Synthesis**: AI-powered tools can transcribe speech into text, generate audio files from text inputs, and even power virtual assistants like Siri, Alexa, and Google Assistant.\n",
      "10. **Innovation and R&D**: Generative AI can aid in scientific research, medical diagnosis, and product development by generating new ideas, predicting outcomes, and optimizing design parameters.\n",
      "\n",
      "Some successful business applications of Generative AI include:\n",
      "\n",
      "- **Automated writing tools** like WordLift (AI-powered content writing assistant), Hemingway Editor (AI-powered grammar and style suggestions), and Content Blox (AI-powered blog post generation)\n",
      "- **Image and video editing software** like Prisma (AI-powered image transformation) and Lumen5 (AI-powered video editing)\n",
      "- **Chatbots and conversational AI platforms** like Dialogflow (formerly known as API.ai), ManyChat, and MobileMonkey\n",
      "- **Content localization and translation tools** like DeepL (language-based machine learning for translation)\n",
      "\n",
      "As Generative AI continues to evolve, we can expect even more innovative applications across various industries, leading to significant improvements in productivity, efficiency, and customer experiences.\n"
     ]
    }
   ],
   "source": [
    "# There's actually an alternative approach that some people might prefer\n",
    "# You can use the OpenAI client python library to call Ollama:\n",
    "\n",
    "from openai import OpenAI\n",
    "ollama_via_openai = OpenAI(base_url='http://localhost:11434/v1', api_key='ollama')\n",
    "\n",
    "response = ollama_via_openai.chat.completions.create(\n",
    "    model=MODEL,\n",
    "    messages=messages\n",
    ")\n",
    "\n",
    "print(response.choices[0].message.content)"
   ]
  },
  {
   "cell_type": "markdown",
   "id": "9f9e22da-b891-41f6-9ac9-bd0c0a5f4f44",
   "metadata": {},
   "source": [
    "## Are you confused about why that works?\n",
    "\n",
    "It seems strange, right? We just used OpenAI code to call Ollama?? What's going on?!\n",
    "\n",
    "Here's the scoop:\n",
    "\n",
    "The python class `OpenAI` is simply code written by OpenAI engineers that makes calls over the internet to an endpoint.  \n",
    "\n",
    "When you call `openai.chat.completions.create()`, this python code just makes a web request to the following url: \"https://api.openai.com/v1/chat/completions\"\n",
    "\n",
    "Code like this is known as a \"client library\" - it's just wrapper code that runs on your machine to make web requests. The actual power of GPT is running on OpenAI's cloud behind this API, not on your computer!\n",
    "\n",
    "OpenAI was so popular, that lots of other AI providers provided identical web endpoints, so you could use the same approach.\n",
    "\n",
    "So Ollama has an endpoint running on your local box at http://localhost:11434/v1/chat/completions  \n",
    "And in week 2 we'll discover that lots of other providers do this too, including Gemini and DeepSeek.\n",
    "\n",
    "And then the team at OpenAI had a great idea: they can extend their client library so you can specify a different 'base url', and use their library to call any compatible API.\n",
    "\n",
    "That's it!\n",
    "\n",
    "So when you say: `ollama_via_openai = OpenAI(base_url='http://localhost:11434/v1', api_key='ollama')`  \n",
    "Then this will make the same endpoint calls, but to Ollama instead of OpenAI."
   ]
  },
  {
   "cell_type": "markdown",
   "id": "bc7d1de3-e2ac-46ff-a302-3b4ba38c4c90",
   "metadata": {},
   "source": [
    "## Also trying the amazing reasoning model DeepSeek\n",
    "\n",
    "Here we use the version of DeepSeek-reasoner that's been distilled to 1.5B.  \n",
    "This is actually a 1.5B variant of Qwen that has been fine-tuned using synethic data generated by Deepseek R1.\n",
    "\n",
    "Other sizes of DeepSeek are [here](https://ollama.com/library/deepseek-r1) all the way up to the full 671B parameter version, which would use up 404GB of your drive and is far too large for most!"
   ]
  },
  {
   "cell_type": "code",
   "execution_count": 9,
   "id": "cf9eb44e-fe5b-47aa-b719-0bb63669ab3d",
   "metadata": {},
   "outputs": [
    {
     "name": "stderr",
     "output_type": "stream",
     "text": [
      "\u001b[?2026h\u001b[?25l\u001b[1Gpulling manifest ⠋ \u001b[K\u001b[?25h\u001b[?2026l\u001b[?2026h\u001b[?25l\u001b[1Gpulling manifest ⠙ \u001b[K\u001b[?25h\u001b[?2026l\u001b[?2026h\u001b[?25l\u001b[1Gpulling manifest ⠹ \u001b[K\u001b[?25h\u001b[?2026l\u001b[?2026h\u001b[?25l\u001b[1Gpulling manifest ⠸ \u001b[K\u001b[?25h\u001b[?2026l\u001b[?2026h\u001b[?25l\u001b[1Gpulling manifest ⠼ \u001b[K\u001b[?25h\u001b[?2026l\u001b[?2026h\u001b[?25l\u001b[1Gpulling manifest ⠴ \u001b[K\u001b[?25h\u001b[?2026l\u001b[?2026h\u001b[?25l\u001b[1Gpulling manifest ⠦ \u001b[K\u001b[?25h\u001b[?2026l\u001b[?2026h\u001b[?25l\u001b[1Gpulling manifest ⠧ \u001b[K\u001b[?25h\u001b[?2026l\u001b[?2026h\u001b[?25l\u001b[1Gpulling manifest ⠇ \u001b[K\u001b[?25h\u001b[?2026l\u001b[?2026h\u001b[?25l\u001b[1Gpulling manifest ⠏ \u001b[K\u001b[?25h\u001b[?2026l\u001b[?2026h\u001b[?25l\u001b[1Gpulling manifest ⠋ \u001b[K\u001b[?25h\u001b[?2026l\u001b[?2026h\u001b[?25l\u001b[1Gpulling manifest ⠙ \u001b[K\u001b[?25h\u001b[?2026l\u001b[?2026h\u001b[?25l\u001b[1Gpulling manifest \u001b[K\n",
      "pulling aabd4debf0c8: 100% ▕██████████████████▏ 1.1 GB                         \u001b[K\n",
      "pulling c5ad996bda6e: 100% ▕██████████████████▏  556 B                         \u001b[K\n",
      "pulling 6e4c38e1172f: 100% ▕██████████████████▏ 1.1 KB                         \u001b[K\n",
      "pulling f4d24e9138dd: 100% ▕██████████████████▏  148 B                         \u001b[K\n",
      "pulling a85fe2a2e58e: 100% ▕██████████████████▏  487 B                         \u001b[K\n",
      "verifying sha256 digest \u001b[K\n",
      "writing manifest \u001b[K\n",
      "success \u001b[K\u001b[?25h\u001b[?2026l\n"
     ]
    }
   ],
   "source": [
    "!ollama pull deepseek-r1:1.5b"
   ]
  },
  {
   "cell_type": "code",
   "execution_count": 10,
   "id": "1d3d554b-e00d-4c08-9300-45e073950a76",
   "metadata": {},
   "outputs": [
    {
     "name": "stdout",
     "output_type": "stream",
     "text": [
      "<think>\n",
      "Okay, so I need to figure out the definitions for neural networks, attention, and transformers in simple terms. Hmm, where do I start? I remember hearing about neural networks before in technology class, but I'm not entirely sure what they are exactly.\n",
      "\n",
      "Let me try to break down the term \"neural network.\" Neural network makes me think of neurons from my biology classes, which have connections and produce signals when activated. So maybe it's a similar system that processes information? I think neural networks do something like pattern recognition or make predictions based on data. But how exactly does that work?\n",
      "\n",
      "Wait, earlier I thought about the connection between \"neur\" in \"neuro,\" which is the branch of biology dealing with neuro-organic structures. So maybe \"neural network\" has a similar root? Or is it just another term for something else?\n",
      "\n",
      "Moving on to attention and transformers. The user mentioned that attention mechanisms are inspired by how neurons perceive light, so they detect specific features near each object in an image. I think the brain does something like this when looking at images or videos, focusing on certain details more than others.\n",
      "\n",
      "Transformers are another term from the previous part about neural networks, and now the user wants a definition. Transformers seem different to me because I know they have words with 'ar-' like \"arc\" or \"adjust.\" Maybe it's related to time series data? Or perhaps something with attention but in a different way, like encoding and decoding sequentially.\n",
      "\n",
      "Wait, in the other response, the assistant said that transformers are a key component, especially with self-attention. So maybe transformers do something similar to attention by processing input at each step, allowing dependencies between later steps?\n",
      "\n",
      "Putting it all together: Neural networks as complex systems of layers, attention focusing on specific features near each object in data, transformers processing sequential information by applying multiple layers and attention mechanisms to sequentially encode and decode.\n",
      "\n",
      "I think I've got a decent grasp now. Let me organize these thoughts into concise definitions without the jargon some parts have. Also, maybe connecting them back to how they function together?\n",
      "</think>\n",
      "\n",
      "**Definitions of Core Concepts:**\n",
      "\n",
      "1. **Neural Networks**: Neural networks are complex systems composed of interconnected nodes or units that process and generate outputs. They mimic the structure and function of the human brain's neurons, capable of processing data through layers like input, hidden, and output.\n",
      "\n",
      "2. **Attention Mechanisms**: These mechanisms enable neural networks to focus on specific features of the data by simulating how the brain emphasizes certain elements over others in visual data.\n",
      "\n",
      "3. **Transformers**: Transformers are a type of neural network component that processes sequential data one token at a time using multiple layers with self-attention to capture multi-step dependencies and contextualize new tokens within output context.\n",
      "\n",
      "**Together:**\n",
      "Neural networks use attention and transformers as core mechanisms, providing sophisticated pattern recognition, focus on relevant details (attention), and sequential processing capability (transformers) for advanced AI applications.\n"
     ]
    }
   ],
   "source": [
    "# This may take a few minutes to run! You should then see a fascinating \"thinking\" trace inside <think> tags, followed by some decent definitions\n",
    "\n",
    "response = ollama_via_openai.chat.completions.create(\n",
    "    model=\"deepseek-r1:1.5b\",\n",
    "    messages=[{\"role\": \"user\", \"content\": \"Please give definitions of some core concepts behind LLMs: a neural network, attention and the transformer\"}]\n",
    ")\n",
    "\n",
    "print(response.choices[0].message.content)"
   ]
  },
  {
   "cell_type": "markdown",
   "id": "1622d9bb-5c68-4d4e-9ca4-b492c751f898",
   "metadata": {},
   "source": [
    "# NOW the exercise for you\n",
    "\n",
    "Take the code from day1 and incorporate it here, to build a website summarizer that uses Llama 3.2 running locally instead of OpenAI; use either of the above approaches."
   ]
  },
  {
   "cell_type": "code",
   "execution_count": 11,
   "id": "6de38216-6d1c-48c4-877b-86d403f4e0f8",
   "metadata": {},
   "outputs": [],
   "source": [
    "# A class to represent a Webpage\n",
    "# If you're not familiar with Classes, check out the \"Intermediate Python\" notebook\n",
    "\n",
    "# Some websites need you to use proper headers when fetching them:\n",
    "headers = {\n",
    " \"User-Agent\": \"Mozilla/5.0 (Windows NT 10.0; Win64; x64) AppleWebKit/537.36 (KHTML, like Gecko) Chrome/117.0.0.0 Safari/537.36\"\n",
    "}\n",
    "\n",
    "class Website:\n",
    "\n",
    "    def __init__(self, url):\n",
    "        \"\"\"\n",
    "        Create this Website object from the given url using the BeautifulSoup library\n",
    "        \"\"\"\n",
    "        self.url = url\n",
    "        response = requests.get(url, headers=headers)\n",
    "        soup = BeautifulSoup(response.content, 'html.parser')\n",
    "        self.title = soup.title.string if soup.title else \"No title found\"\n",
    "        for irrelevant in soup.body([\"script\", \"style\", \"img\", \"input\"]):\n",
    "            irrelevant.decompose()\n",
    "        self.text = soup.body.get_text(separator=\"\\n\", strip=True)"
   ]
  },
  {
   "cell_type": "code",
   "execution_count": 12,
   "id": "fd77289c",
   "metadata": {},
   "outputs": [
    {
     "name": "stdout",
     "output_type": "stream",
     "text": [
      "Home - Edward Donner\n",
      "Home\n",
      "Connect Four\n",
      "Outsmart\n",
      "An arena that pits LLMs against each other in a battle of diplomacy and deviousness\n",
      "About\n",
      "Posts\n",
      "Well, hi there.\n",
      "I’m Ed. I like writing code and experimenting with LLMs, and hopefully you’re here because you do too. I also enjoy DJing (but I’m badly out of practice), amateur electronic music production (\n",
      "very\n",
      "amateur) and losing myself in\n",
      "Hacker News\n",
      ", nodding my head sagely to things I only half understand.\n",
      "I’m the co-founder and CTO of\n",
      "Nebula.io\n",
      ". We’re applying AI to a field where it can make a massive, positive impact: helping people discover their potential and pursue their reason for being. Recruiters use our product today to source, understand, engage and manage talent. I’m previously the founder and CEO of AI startup untapt,\n",
      "acquired in 2021\n",
      ".\n",
      "We work with groundbreaking, proprietary LLMs verticalized for talent, we’ve\n",
      "patented\n",
      "our matching model, and our award-winning platform has happy customers and tons of press coverage.\n",
      "Connect\n",
      "with me for more!\n",
      "September 15, 2025\n",
      "AI in Production: Gen AI and Agentic AI on AWS at scale\n",
      "May 28, 2025\n",
      "Connecting my courses – become an LLM expert and leader\n",
      "May 18, 2025\n",
      "2025 AI Executive Briefing\n",
      "April 21, 2025\n",
      "The Complete Agentic AI Engineering Course\n",
      "Navigation\n",
      "Home\n",
      "Connect Four\n",
      "Outsmart\n",
      "An arena that pits LLMs against each other in a battle of diplomacy and deviousness\n",
      "About\n",
      "Posts\n",
      "Get in touch\n",
      "ed [at] edwarddonner [dot] com\n",
      "www.edwarddonner.com\n",
      "Follow me\n",
      "LinkedIn\n",
      "Twitter\n",
      "Facebook\n",
      "Subscribe to newsletter\n",
      "Type your email…\n",
      "Subscribe\n"
     ]
    }
   ],
   "source": [
    "# Let's try one out. Change the website and add print statements to follow along.\n",
    "\n",
    "ed = Website(\"https://edwarddonner.com\")\n",
    "print(ed.title)\n",
    "print(ed.text)"
   ]
  },
  {
   "cell_type": "code",
   "execution_count": 13,
   "id": "67230a6b",
   "metadata": {},
   "outputs": [],
   "source": [
    "# Define our system prompt - you can experiment with this later, changing the last sentence to 'Respond in markdown in Spanish.\"\n",
    "\n",
    "system_prompt = \"You are an assistant that analyzes the contents of a website \\\n",
    "and provides a short summary, ignoring text that might be navigation related. \\\n",
    "Respond in markdown.\""
   ]
  },
  {
   "cell_type": "code",
   "execution_count": 14,
   "id": "08854bc3",
   "metadata": {},
   "outputs": [],
   "source": [
    "# A function that writes a User Prompt that asks for summaries of websites:\n",
    "\n",
    "def user_prompt_for(website):\n",
    "    user_prompt = f\"You are looking at a website titled {website.title}\"\n",
    "    user_prompt += \"\\nThe contents of this website is as follows; \\\n",
    "please provide a short summary of this website in markdown. \\\n",
    "If it includes news or announcements, then summarize these too.\\n\\n\"\n",
    "    user_prompt += website.text\n",
    "    return user_prompt"
   ]
  },
  {
   "cell_type": "code",
   "execution_count": 15,
   "id": "3038e955",
   "metadata": {},
   "outputs": [
    {
     "name": "stdout",
     "output_type": "stream",
     "text": [
      "You are looking at a website titled Home - Edward Donner\n",
      "The contents of this website is as follows; please provide a short summary of this website in markdown. If it includes news or announcements, then summarize these too.\n",
      "\n",
      "Home\n",
      "Connect Four\n",
      "Outsmart\n",
      "An arena that pits LLMs against each other in a battle of diplomacy and deviousness\n",
      "About\n",
      "Posts\n",
      "Well, hi there.\n",
      "I’m Ed. I like writing code and experimenting with LLMs, and hopefully you’re here because you do too. I also enjoy DJing (but I’m badly out of practice), amateur electronic music production (\n",
      "very\n",
      "amateur) and losing myself in\n",
      "Hacker News\n",
      ", nodding my head sagely to things I only half understand.\n",
      "I’m the co-founder and CTO of\n",
      "Nebula.io\n",
      ". We’re applying AI to a field where it can make a massive, positive impact: helping people discover their potential and pursue their reason for being. Recruiters use our product today to source, understand, engage and manage talent. I’m previously the founder and CEO of AI startup untapt,\n",
      "acquired in 2021\n",
      ".\n",
      "We work with groundbreaking, proprietary LLMs verticalized for talent, we’ve\n",
      "patented\n",
      "our matching model, and our award-winning platform has happy customers and tons of press coverage.\n",
      "Connect\n",
      "with me for more!\n",
      "September 15, 2025\n",
      "AI in Production: Gen AI and Agentic AI on AWS at scale\n",
      "May 28, 2025\n",
      "Connecting my courses – become an LLM expert and leader\n",
      "May 18, 2025\n",
      "2025 AI Executive Briefing\n",
      "April 21, 2025\n",
      "The Complete Agentic AI Engineering Course\n",
      "Navigation\n",
      "Home\n",
      "Connect Four\n",
      "Outsmart\n",
      "An arena that pits LLMs against each other in a battle of diplomacy and deviousness\n",
      "About\n",
      "Posts\n",
      "Get in touch\n",
      "ed [at] edwarddonner [dot] com\n",
      "www.edwarddonner.com\n",
      "Follow me\n",
      "LinkedIn\n",
      "Twitter\n",
      "Facebook\n",
      "Subscribe to newsletter\n",
      "Type your email…\n",
      "Subscribe\n"
     ]
    }
   ],
   "source": [
    "print(user_prompt_for(ed))"
   ]
  },
  {
   "cell_type": "code",
   "execution_count": 16,
   "id": "e1034402",
   "metadata": {},
   "outputs": [],
   "source": [
    "# See how this function creates exactly the format above\n",
    "\n",
    "def messages_for(website):\n",
    "    return [\n",
    "        {\"role\": \"system\", \"content\": system_prompt},\n",
    "        {\"role\": \"user\", \"content\": user_prompt_for(website)}\n",
    "    ]"
   ]
  },
  {
   "cell_type": "code",
   "execution_count": 17,
   "id": "1575ee65",
   "metadata": {},
   "outputs": [
    {
     "data": {
      "text/plain": [
       "[{'role': 'system',\n",
       "  'content': 'You are an assistant that analyzes the contents of a website and provides a short summary, ignoring text that might be navigation related. Respond in markdown.'},\n",
       " {'role': 'user',\n",
       "  'content': 'You are looking at a website titled Home - Edward Donner\\nThe contents of this website is as follows; please provide a short summary of this website in markdown. If it includes news or announcements, then summarize these too.\\n\\nHome\\nConnect Four\\nOutsmart\\nAn arena that pits LLMs against each other in a battle of diplomacy and deviousness\\nAbout\\nPosts\\nWell, hi there.\\nI’m Ed. I like writing code and experimenting with LLMs, and hopefully you’re here because you do too. I also enjoy DJing (but I’m badly out of practice), amateur electronic music production (\\nvery\\namateur) and losing myself in\\nHacker News\\n, nodding my head sagely to things I only half understand.\\nI’m the co-founder and CTO of\\nNebula.io\\n. We’re applying AI to a field where it can make a massive, positive impact: helping people discover their potential and pursue their reason for being. Recruiters use our product today to source, understand, engage and manage talent. I’m previously the founder and CEO of AI startup untapt,\\nacquired in 2021\\n.\\nWe work with groundbreaking, proprietary LLMs verticalized for talent, we’ve\\npatented\\nour matching model, and our award-winning platform has happy customers and tons of press coverage.\\nConnect\\nwith me for more!\\nSeptember 15, 2025\\nAI in Production: Gen AI and Agentic AI on AWS at scale\\nMay 28, 2025\\nConnecting my courses – become an LLM expert and leader\\nMay 18, 2025\\n2025 AI Executive Briefing\\nApril 21, 2025\\nThe Complete Agentic AI Engineering Course\\nNavigation\\nHome\\nConnect Four\\nOutsmart\\nAn arena that pits LLMs against each other in a battle of diplomacy and deviousness\\nAbout\\nPosts\\nGet in touch\\ned [at] edwarddonner [dot] com\\nwww.edwarddonner.com\\nFollow me\\nLinkedIn\\nTwitter\\nFacebook\\nSubscribe to newsletter\\nType your email…\\nSubscribe'}]"
      ]
     },
     "execution_count": 17,
     "metadata": {},
     "output_type": "execute_result"
    }
   ],
   "source": [
    "# Try this out, and then try for a few more websites\n",
    "\n",
    "messages_for(ed)"
   ]
  },
  {
   "cell_type": "code",
   "execution_count": 23,
   "id": "ab49ecd7",
   "metadata": {},
   "outputs": [],
   "source": [
    "# And now: call the ollama API. You will get very familiar with this!\n",
    "\n",
    "def summarize(url):\n",
    "    website = Website(url)\n",
    "    response = ollama.chat(model=MODEL, messages=messages_for(website))\n",
    "    return response['message']['content']"
   ]
  },
  {
   "cell_type": "code",
   "execution_count": 22,
   "id": "b3eab94f",
   "metadata": {},
   "outputs": [
    {
     "data": {
      "text/plain": [
       "'### Summary of the Website: Edward Donner\\n\\n#### Mission and About\\n\\nEdward Donner is a co-founder and CTO of `Nebula.io`, an AI company applying AI to help people discover their potential. He\\'s also the founder and former CEO of `untapt`, acquired in 2021.\\n\\n#### News and Announcements\\n\\n* **September 15, 2025:** \"AI in Production: Gen AI and Agentic AI on AWS at scale\" - Event details not specified.\\n* **May 28, 2025:** \"Connecting my courses – become an LLM expert and leader\" - Details about a course offered by Edward Donner.\\n* **May 18, 2025:** \"2025 AI Executive Briefing\" - An event likely related to the AI industry.\\n* **April 21, 2025:** \"The Complete Agentic AI Engineering Course\" - Another course announcement from Edward Donner.\\n\\n#### Miscellaneous\\n\\nThe website contains some personal information about Edward Donner, including his hobbies (DJing and amateur music production) and interests (Hacker News). It also includes a contact form and links to his social media profiles.'"
      ]
     },
     "execution_count": 22,
     "metadata": {},
     "output_type": "execute_result"
    }
   ],
   "source": [
    "summarize(\"https://edwarddonner.com\")"
   ]
  },
  {
   "cell_type": "code",
   "execution_count": 24,
   "id": "41c55099",
   "metadata": {},
   "outputs": [],
   "source": [
    "# A function to display this nicely in the Jupyter output, using markdown\n",
    "\n",
    "def display_summary(url):\n",
    "    summary = summarize(url)\n",
    "    display(Markdown(summary))"
   ]
  },
  {
   "cell_type": "code",
   "execution_count": 25,
   "id": "84a80cf6",
   "metadata": {},
   "outputs": [
    {
     "data": {
      "text/markdown": [
       "# Website Summary: Edward Donner's Home Page\n",
       "\n",
       "### About the Creator\n",
       "Edward Donner is a co-founder and CTO of Nebula.io, an AI startup applying AI to help people discover their potential. He has also founded and led another AI startup, untapt, which was acquired in 2021.\n",
       "\n",
       "### Recent News and Announcements\n",
       "\n",
       "* **September 15, 2025**: \"AI in Production: Gen AI and Agentic AI on AWS at scale\" (news article)\n",
       "* **May 28, 2025**: \"Connecting my courses – become an LLM expert and leader\" (announcement)\n",
       "* **May 18, 2025**: \"2025 AI Executive Briefing\" (announcement)\n",
       "* **April 21, 2025**: \"The Complete Agentic AI Engineering Course\" (announcement)\n",
       "\n",
       "### Website Content\n",
       "The website appears to be a personal blog or portfolio site, featuring:\n",
       "\n",
       "* A brief introduction from Edward Donner\n",
       "* Information about his work at Nebula.io and untapt\n",
       "* Links to his online courses and other projects\n",
       "* Contact information and social media links"
      ],
      "text/plain": [
       "<IPython.core.display.Markdown object>"
      ]
     },
     "metadata": {},
     "output_type": "display_data"
    }
   ],
   "source": [
    "display_summary(\"https://edwarddonner.com\")"
   ]
  },
  {
   "cell_type": "code",
   "execution_count": 26,
   "id": "e56dc7a0",
   "metadata": {},
   "outputs": [
    {
     "data": {
      "text/markdown": [
       "# **Breaking News and Latest Updates**\n",
       "\n",
       "## **Global News**\n",
       "\n",
       "*   Charlie Kirk's funeral draws a huge crowd, cementing his legacy as a conservative leader\n",
       "*   NATO's \"Eastern Sentry\" operation is underway in Poland to counter Russia's drone threat\n",
       "*   A Palestinian state has never seemed further away, despite international efforts\n",
       "*   Trump imposes $100K fee on H-1B visas, sparking controversy among US workers\n",
       "\n",
       "## **Business and Finance**\n",
       "\n",
       "*   The first look at the Meta Ray-Ban Display glasses is available online\n",
       "*   Bob Dylan's philanthropic legacy sparked decades of pop culture impact\n",
       "*   Western recognition won't change the reality on the ground: A Palestinian state has never seemed further away\n",
       "*   Trump imposes $100K fee on H-1B visas, sparking controversy among US workers\n",
       "\n",
       "## **Entertainment and Culture**\n",
       "\n",
       "*   Ellen DeGeneres says she was 'kicked out of show business,' sparking debate about her future in entertainment\n",
       "*   A huge archive of drag culture takes on new urgency in today's political climate\n",
       "*   Willie Nelson shares his iconic White House roof story, showcasing his artistic legacy\n",
       "\n",
       "## **Science and Environment**\n",
       "\n",
       "*   Scientists discover a newly found species swimming by an underwater camera\n",
       "*   Cows painted like zebras and pizza-eating lizards: The Ig Nobel Prizes are back with humorous awards for scientific achievements\n",
       "*   Overtourism is leading to more car crashes in Scotland, prompting innovative solutions\n",
       "\n",
       "## **Sports**\n",
       "\n",
       "*   Max Verstappen wins Azerbaijan Grand Prix after Oscar Piastri crashes out on first lap\n",
       "*   Olympics and Climbing events take place around the world\n",
       "\n",
       "## **Health and Wellness**\n",
       "\n",
       "*   To protect your brain against dementia, start pedaling, study suggests\n",
       "*   A private ranch in Uganda is home to almost 50 rhinos, a rare species that went extinct 40 years ago"
      ],
      "text/plain": [
       "<IPython.core.display.Markdown object>"
      ]
     },
     "metadata": {},
     "output_type": "display_data"
    }
   ],
   "source": [
    "display_summary(\"https://cnn.com\")"
   ]
  },
  {
   "cell_type": "code",
   "execution_count": 27,
   "id": "7586b58c",
   "metadata": {},
   "outputs": [
    {
     "data": {
      "text/markdown": [
       "I can help you with that! However, I don't see any specific question or topic in the text provided. The text appears to be a sample news article or a webpage from the Times of India.\n",
       "\n",
       "If you could provide more context or clarify what you would like me to help with, I'll do my best to assist you. Are you looking for information on a specific topic, such as the H-1B visa fee hike, Indian cricket, or Bollywood news? Or perhaps you need help understanding a particular article or webpage? Let me know and I'll do my best to help!"
      ],
      "text/plain": [
       "<IPython.core.display.Markdown object>"
      ]
     },
     "metadata": {},
     "output_type": "display_data"
    }
   ],
   "source": [
    "display_summary(\"https://timesofindia.indiatimes.com/\")"
   ]
  },
  {
   "cell_type": "code",
   "execution_count": null,
   "id": "16756558",
   "metadata": {},
   "outputs": [],
   "source": [
    "display_summary(\"https://thehackernews.com/\")"
   ]
  },
  {
   "cell_type": "code",
   "execution_count": null,
   "id": "b5ac9a11",
   "metadata": {},
   "outputs": [],
   "source": [
    "display_summary(\"https://www.cybersecuritydive.com/\")"
   ]
  },
  {
   "cell_type": "code",
   "execution_count": null,
   "id": "9abec446",
   "metadata": {},
   "outputs": [],
   "source": [
    "display_summary(\"https://www.cisa.gov/\")"
   ]
  }
 ],
 "metadata": {
  "kernelspec": {
   "display_name": "llms",
   "language": "python",
   "name": "python3"
  },
  "language_info": {
   "codemirror_mode": {
    "name": "ipython",
    "version": 3
   },
   "file_extension": ".py",
   "mimetype": "text/x-python",
   "name": "python",
   "nbconvert_exporter": "python",
   "pygments_lexer": "ipython3",
   "version": "3.11.13"
  }
 },
 "nbformat": 4,
 "nbformat_minor": 5
}
