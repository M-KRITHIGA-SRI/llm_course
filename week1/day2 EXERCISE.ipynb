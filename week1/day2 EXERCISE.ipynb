{
 "cells": [
  {
   "cell_type": "markdown",
   "id": "d15d8294-3328-4e07-ad16-8a03e9bbfdb9",
   "metadata": {},
   "source": [
    "# Welcome to your first assignment!\n",
    "\n",
    "Instructions are below. Please give this a try, and look in the solutions folder if you get stuck (or feel free to ask me!)"
   ]
  },
  {
   "cell_type": "markdown",
   "id": "ada885d9-4d42-4d9b-97f0-74fbbbfe93a9",
   "metadata": {},
   "source": [
    "<table style=\"margin: 0; text-align: left;\">\n",
    "    <tr>\n",
    "        <td style=\"width: 150px; height: 150px; vertical-align: middle;\">\n",
    "            <img src=\"../resources.jpg\" width=\"150\" height=\"150\" style=\"display: block;\" />\n",
    "        </td>\n",
    "        <td>\n",
    "            <h2 style=\"color:#f71;\">Just before we get to the assignment --</h2>\n",
    "            <span style=\"color:#f71;\">I thought I'd take a second to point you at this page of useful resources for the course. This includes links to all the slides.<br/>\n",
    "            <a href=\"https://edwarddonner.com/2024/11/13/llm-engineering-resources/\">https://edwarddonner.com/2024/11/13/llm-engineering-resources/</a><br/>\n",
    "            Please keep this bookmarked, and I'll continue to add more useful links there over time.\n",
    "            </span>\n",
    "        </td>\n",
    "    </tr>\n",
    "</table>"
   ]
  },
  {
   "cell_type": "markdown",
   "id": "6e9fa1fc-eac5-4d1d-9be4-541b3f2b3458",
   "metadata": {},
   "source": [
    "# HOMEWORK EXERCISE ASSIGNMENT\n",
    "\n",
    "Upgrade the day 1 project to summarize a webpage to use an Open Source model running locally via Ollama rather than OpenAI\n",
    "\n",
    "You'll be able to use this technique for all subsequent projects if you'd prefer not to use paid APIs.\n",
    "\n",
    "**Benefits:**\n",
    "1. No API charges - open-source\n",
    "2. Data doesn't leave your box\n",
    "\n",
    "**Disadvantages:**\n",
    "1. Significantly less power than Frontier Model\n",
    "\n",
    "## Recap on installation of Ollama\n",
    "\n",
    "Simply visit [ollama.com](https://ollama.com) and install!\n",
    "\n",
    "Once complete, the ollama server should already be running locally.  \n",
    "If you visit:  \n",
    "[http://localhost:11434/](http://localhost:11434/)\n",
    "\n",
    "You should see the message `Ollama is running`.  \n",
    "\n",
    "If not, bring up a new Terminal (Mac) or Powershell (Windows) and enter `ollama serve`  \n",
    "And in another Terminal (Mac) or Powershell (Windows), enter `ollama pull llama3.2`  \n",
    "Then try [http://localhost:11434/](http://localhost:11434/) again.\n",
    "\n",
    "If Ollama is slow on your machine, try using `llama3.2:1b` as an alternative. Run `ollama pull llama3.2:1b` from a Terminal or Powershell, and change the code below from `MODEL = \"llama3.2\"` to `MODEL = \"llama3.2:1b\"`"
   ]
  },
  {
   "cell_type": "code",
   "execution_count": 28,
   "id": "4e2a9393-7767-488e-a8bf-27c12dca35bd",
   "metadata": {},
   "outputs": [],
   "source": [
    "# imports\n",
    "\n",
    "import requests\n",
    "from bs4 import BeautifulSoup\n",
    "from IPython.display import Markdown, display"
   ]
  },
  {
   "cell_type": "code",
   "execution_count": 29,
   "id": "29ddd15d-a3c5-4f4e-a678-873f56162724",
   "metadata": {},
   "outputs": [],
   "source": [
    "# Constants\n",
    "\n",
    "OLLAMA_API = \"http://localhost:11434/api/chat\"\n",
    "HEADERS = {\"Content-Type\": \"application/json\"}\n",
    "MODEL = \"llama3.2\"\n",
    "#MODEL = \"deepseek-r1:32b\""
   ]
  },
  {
   "cell_type": "code",
   "execution_count": 30,
   "id": "dac0a679-599c-441f-9bf2-ddc73d35b940",
   "metadata": {},
   "outputs": [],
   "source": [
    "# Create a messages list using the same format that we used for OpenAI\n",
    "\n",
    "messages = [\n",
    "    {\"role\": \"user\", \"content\": \"Describe some of the business applications of Generative AI\"}\n",
    "]\n"
   ]
  },
  {
   "cell_type": "code",
   "execution_count": 31,
   "id": "7bb9c624-14f0-4945-a719-8ddb64f66f47",
   "metadata": {},
   "outputs": [],
   "source": [
    "payload = {\n",
    "        \"model\": MODEL,\n",
    "        \"messages\": messages,\n",
    "        \"stream\": False\n",
    "    }"
   ]
  },
  {
   "cell_type": "code",
   "execution_count": 7,
   "id": "479ff514-e8bd-4985-a572-2ea28bb4fa40",
   "metadata": {},
   "outputs": [
    {
     "name": "stdout",
     "output_type": "stream",
     "text": [
      "\u001b[?2026h\u001b[?25l\u001b[1Gpulling manifest ⠋ \u001b[K\u001b[?25h\u001b[?2026l\u001b[?2026h\u001b[?25l\u001b[1Gpulling manifest ⠙ \u001b[K\u001b[?25h\u001b[?2026l\u001b[?2026h\u001b[?25l\u001b[1Gpulling manifest ⠹ \u001b[K\u001b[?25h\u001b[?2026l\u001b[?2026h\u001b[?25l\u001b[1Gpulling manifest ⠸ \u001b[K\u001b[?25h\u001b[?2026l\u001b[?2026h\u001b[?25l\u001b[1Gpulling manifest ⠼ \u001b[K\u001b[?25h\u001b[?2026l\u001b[?2026h\u001b[?25l\u001b[1Gpulling manifest \u001b[K\n",
      "pulling dde5aa3fc5ff... 100% ▕████████████████▏ 2.0 GB                         \u001b[K\n",
      "pulling 966de95ca8a6... 100% ▕████████████████▏ 1.4 KB                         \u001b[K\n",
      "pulling fcc5a6bec9da... 100% ▕████████████████▏ 7.7 KB                         \u001b[K\n",
      "pulling a70ff7e570d9... 100% ▕████████████████▏ 6.0 KB                         \u001b[K\n",
      "pulling 56bb8bd477a5... 100% ▕████████████████▏   96 B                         \u001b[K\n",
      "pulling 34bb5ab01051... 100% ▕████████████████▏  561 B                         \u001b[K\n",
      "verifying sha256 digest \u001b[K\n",
      "writing manifest \u001b[K\n",
      "success \u001b[K\u001b[?25h\u001b[?2026l\n"
     ]
    }
   ],
   "source": [
    "# Let's just make sure the model is loaded\n",
    "\n",
    "!ollama pull llama3.2"
   ]
  },
  {
   "cell_type": "code",
   "execution_count": 32,
   "id": "42b9f644-522d-4e05-a691-56e7658c0ea9",
   "metadata": {},
   "outputs": [
    {
     "name": "stdout",
     "output_type": "stream",
     "text": [
      "Generative AI has numerous business applications across various industries, including:\n",
      "\n",
      "1. **Content Creation**: Generative AI can generate high-quality content such as text, images, videos, and music. This can be used to automate content creation for social media platforms, blogs, and websites.\n",
      "2. **Marketing Automation**: Generative AI can help create personalized marketing campaigns by generating targeted advertisements, product descriptions, and customer communications.\n",
      "3. **Product Design**: Generative AI can assist in designing new products, such as furniture, electronics, or fashion items, using computer-aided design (CAD) software.\n",
      "4. **Customer Service Chatbots**: Generative AI-powered chatbots can provide personalized customer support, answer common queries, and route complex issues to human representatives.\n",
      "5. **Data Analysis and Visualization**: Generative AI can generate insights and visualizations from large datasets, helping businesses make data-driven decisions.\n",
      "6. **Creative Writing and Storytelling**: Generative AI can help writers with ideas, plot development, and even entire stories, reducing the time spent on research and writing.\n",
      "7. **Music Composition and Sound Design**: Generative AI can create music tracks, sound effects, and audio loops for various applications, such as film, video games, and advertising.\n",
      "8. **Image Editing and Manipulation**: Generative AI-powered tools can edit and manipulate images to create new designs, patterns, or styles.\n",
      "9. **Predictive Maintenance**: Generative AI can analyze sensor data from machines and predict when maintenance is required, reducing downtime and increasing efficiency.\n",
      "10. **Risk Assessment and Credit Scoring**: Generative AI can help assess credit risk by analyzing financial data and identifying potential defaults.\n",
      "11. **Supply Chain Optimization**: Generative AI can optimize supply chain operations by predicting demand, managing inventory, and streamlining logistics.\n",
      "12. **Healthcare Diagnosis and Treatment Planning**: Generative AI can analyze medical images and patient data to diagnose diseases and develop treatment plans.\n",
      "\n",
      "These applications demonstrate the vast potential of generative AI in transforming various industries and businesses.\n",
      "\n",
      "**Future Applications:**\n",
      "\n",
      "1. **Autonomous Vehicles**: Generative AI can be used for sensor fusion, mapping, and decision-making in self-driving cars.\n",
      "2. **Cybersecurity**: Generative AI can detect and respond to cyber threats more quickly and effectively.\n",
      "3. **Smart Cities**: Generative AI can optimize urban planning, traffic management, and energy consumption.\n",
      "\n",
      "As generative AI continues to evolve, we can expect even more innovative applications across industries, from education and finance to entertainment and social media.\n"
     ]
    }
   ],
   "source": [
    "# If this doesn't work for any reason, try the 2 versions in the following cells\n",
    "# And double check the instructions in the 'Recap on installation of Ollama' at the top of this lab\n",
    "# And if none of that works - contact me!\n",
    "\n",
    "response = requests.post(OLLAMA_API, json=payload, headers=HEADERS)\n",
    "print(response.json()['message']['content'])"
   ]
  },
  {
   "cell_type": "markdown",
   "id": "6a021f13-d6a1-4b96-8e18-4eae49d876fe",
   "metadata": {},
   "source": [
    "# Introducing the ollama package\n",
    "\n",
    "And now we'll do the same thing, but using the elegant ollama python package instead of a direct HTTP call.\n",
    "\n",
    "Under the hood, it's making the same call as above to the ollama server running at localhost:11434"
   ]
  },
  {
   "cell_type": "code",
   "execution_count": 14,
   "id": "7745b9c4-57dc-4867-9180-61fa5db55eb8",
   "metadata": {},
   "outputs": [
    {
     "name": "stdout",
     "output_type": "stream",
     "text": [
      "Generative AI has numerous business applications across various industries, including:\n",
      "\n",
      "1. **Content Generation**: AI-powered tools can generate high-quality content such as articles, social media posts, product descriptions, and more, at scale and with minimal human intervention.\n",
      "2. **Marketing Automation**: Generative AI can help automate marketing efforts by generating personalized email campaigns, ad copy, and social media content based on customer data and behavior.\n",
      "3. **Product Design and Development**: AI-generated designs can be used to create new product concepts, optimize existing products, and reduce the time and cost associated with traditional design processes.\n",
      "4. **Data Analysis and Visualization**: Generative AI can help analyze large datasets, identify patterns, and generate visualizations that provide insights into customer behavior, market trends, and other business metrics.\n",
      "5. **Customer Service and Support**: AI-powered chatbots can use generative models to respond to customer inquiries, providing personalized support and resolving issues more efficiently.\n",
      "6. **Language Translation**: Generative AI can help improve language translation accuracy and efficiency by generating high-quality translations in real-time.\n",
      "7. **Music and Audio Generation**: AI-generated music and audio can be used for various applications such as background music, sound effects, or even creating new musical compositions.\n",
      "8. **Image and Video Generation**: Generative AI can create realistic images and videos that can be used for advertising, product promotion, or other visual content needs.\n",
      "9. **Recommendation Systems**: AI-powered recommendation systems can use generative models to suggest personalized products or services to customers based on their preferences and behavior.\n",
      "10. **Finance and Risk Analysis**: Generative AI can help analyze large financial datasets, identify patterns, and generate risk models that provide insights into potential investment opportunities or risks.\n",
      "\n",
      "Some specific business examples of Generative AI include:\n",
      "\n",
      "* **Automated content creation**: Companies like Forbes, The New York Times, and CNN use generative AI to create high-quality articles, social media posts, and other content at scale.\n",
      "* **Personalized marketing**: Retailers like Amazon and Walmart use generative AI to personalize product recommendations, email campaigns, and advertising based on customer behavior and preferences.\n",
      "* **Product design optimization**: Companies like Nike and Adidas use generative AI to optimize product designs, reduce development time, and improve product quality.\n",
      "* **Chatbot-powered customer service**: Brands like Apple and Amazon use generative AI-powered chatbots to provide personalized support and resolve customer issues more efficiently.\n",
      "\n",
      "These are just a few examples of the many business applications of Generative AI. As the technology continues to evolve, we can expect to see even more innovative uses across various industries.\n"
     ]
    }
   ],
   "source": [
    "import ollama\n",
    "\n",
    "response = ollama.chat(model=MODEL, messages=messages)\n",
    "print(response['message']['content'])"
   ]
  },
  {
   "cell_type": "markdown",
   "id": "a4704e10-f5fb-4c15-a935-f046c06fb13d",
   "metadata": {},
   "source": [
    "## Alternative approach - using OpenAI python library to connect to Ollama"
   ]
  },
  {
   "cell_type": "code",
   "execution_count": null,
   "id": "23057e00-b6fc-4678-93a9-6b31cb704bff",
   "metadata": {},
   "outputs": [],
   "source": [
    "# There's actually an alternative approach that some people might prefer\n",
    "# You can use the OpenAI client python library to call Ollama:\n",
    "\n",
    "from openai import OpenAI\n",
    "ollama_via_openai = OpenAI(base_url='http://localhost:11434/v1', api_key='ollama')\n",
    "\n",
    "response = ollama_via_openai.chat.completions.create(\n",
    "    model=MODEL,\n",
    "    messages=messages\n",
    ")\n",
    "\n",
    "print(response.choices[0].message.content)"
   ]
  },
  {
   "cell_type": "markdown",
   "id": "9f9e22da-b891-41f6-9ac9-bd0c0a5f4f44",
   "metadata": {},
   "source": [
    "## Are you confused about why that works?\n",
    "\n",
    "It seems strange, right? We just used OpenAI code to call Ollama?? What's going on?!\n",
    "\n",
    "Here's the scoop:\n",
    "\n",
    "The python class `OpenAI` is simply code written by OpenAI engineers that makes calls over the internet to an endpoint.  \n",
    "\n",
    "When you call `openai.chat.completions.create()`, this python code just makes a web request to the following url: \"https://api.openai.com/v1/chat/completions\"\n",
    "\n",
    "Code like this is known as a \"client library\" - it's just wrapper code that runs on your machine to make web requests. The actual power of GPT is running on OpenAI's cloud behind this API, not on your computer!\n",
    "\n",
    "OpenAI was so popular, that lots of other AI providers provided identical web endpoints, so you could use the same approach.\n",
    "\n",
    "So Ollama has an endpoint running on your local box at http://localhost:11434/v1/chat/completions  \n",
    "And in week 2 we'll discover that lots of other providers do this too, including Gemini and DeepSeek.\n",
    "\n",
    "And then the team at OpenAI had a great idea: they can extend their client library so you can specify a different 'base url', and use their library to call any compatible API.\n",
    "\n",
    "That's it!\n",
    "\n",
    "So when you say: `ollama_via_openai = OpenAI(base_url='http://localhost:11434/v1', api_key='ollama')`  \n",
    "Then this will make the same endpoint calls, but to Ollama instead of OpenAI."
   ]
  },
  {
   "cell_type": "markdown",
   "id": "bc7d1de3-e2ac-46ff-a302-3b4ba38c4c90",
   "metadata": {},
   "source": [
    "## Also trying the amazing reasoning model DeepSeek\n",
    "\n",
    "Here we use the version of DeepSeek-reasoner that's been distilled to 1.5B.  \n",
    "This is actually a 1.5B variant of Qwen that has been fine-tuned using synethic data generated by Deepseek R1.\n",
    "\n",
    "Other sizes of DeepSeek are [here](https://ollama.com/library/deepseek-r1) all the way up to the full 671B parameter version, which would use up 404GB of your drive and is far too large for most!"
   ]
  },
  {
   "cell_type": "code",
   "execution_count": null,
   "id": "cf9eb44e-fe5b-47aa-b719-0bb63669ab3d",
   "metadata": {},
   "outputs": [],
   "source": [
    "!ollama pull deepseek-r1:1.5b"
   ]
  },
  {
   "cell_type": "code",
   "execution_count": 19,
   "id": "1d3d554b-e00d-4c08-9300-45e073950a76",
   "metadata": {},
   "outputs": [
    {
     "ename": "NameError",
     "evalue": "name 'ollama_via_openai' is not defined",
     "output_type": "error",
     "traceback": [
      "\u001b[0;31m---------------------------------------------------------------------------\u001b[0m",
      "\u001b[0;31mNameError\u001b[0m                                 Traceback (most recent call last)",
      "Cell \u001b[0;32mIn[19], line 3\u001b[0m\n\u001b[1;32m      1\u001b[0m \u001b[38;5;66;03m# This may take a few minutes to run! You should then see a fascinating \"thinking\" trace inside <think> tags, followed by some decent definitions\u001b[39;00m\n\u001b[0;32m----> 3\u001b[0m response \u001b[38;5;241m=\u001b[39m ollama_via_openai\u001b[38;5;241m.\u001b[39mchat\u001b[38;5;241m.\u001b[39mcompletions\u001b[38;5;241m.\u001b[39mcreate(\n\u001b[1;32m      4\u001b[0m     model\u001b[38;5;241m=\u001b[39m\u001b[38;5;124m\"\u001b[39m\u001b[38;5;124mdeepseek-r1:1.5b\u001b[39m\u001b[38;5;124m\"\u001b[39m,\n\u001b[1;32m      5\u001b[0m     messages\u001b[38;5;241m=\u001b[39m[{\u001b[38;5;124m\"\u001b[39m\u001b[38;5;124mrole\u001b[39m\u001b[38;5;124m\"\u001b[39m: \u001b[38;5;124m\"\u001b[39m\u001b[38;5;124muser\u001b[39m\u001b[38;5;124m\"\u001b[39m, \u001b[38;5;124m\"\u001b[39m\u001b[38;5;124mcontent\u001b[39m\u001b[38;5;124m\"\u001b[39m: \u001b[38;5;124m\"\u001b[39m\u001b[38;5;124mPlease give definitions of some core concepts behind LLMs: a neural network, attention and the transformer\u001b[39m\u001b[38;5;124m\"\u001b[39m}]\n\u001b[1;32m      6\u001b[0m )\n\u001b[1;32m      8\u001b[0m \u001b[38;5;28mprint\u001b[39m(response\u001b[38;5;241m.\u001b[39mchoices[\u001b[38;5;241m0\u001b[39m]\u001b[38;5;241m.\u001b[39mmessage\u001b[38;5;241m.\u001b[39mcontent)\n",
      "\u001b[0;31mNameError\u001b[0m: name 'ollama_via_openai' is not defined"
     ]
    }
   ],
   "source": [
    "# This may take a few minutes to run! You should then see a fascinating \"thinking\" trace inside <think> tags, followed by some decent definitions\n",
    "\n",
    "response = ollama_via_openai.chat.completions.create(\n",
    "    model=\"deepseek-r1:1.5b\",\n",
    "    messages=[{\"role\": \"user\", \"content\": \"Please give definitions of some core concepts behind LLMs: a neural network, attention and the transformer\"}]\n",
    ")\n",
    "\n",
    "print(response.choices[0].message.content)"
   ]
  },
  {
   "cell_type": "markdown",
   "id": "1622d9bb-5c68-4d4e-9ca4-b492c751f898",
   "metadata": {},
   "source": [
    "# NOW the exercise for you\n",
    "\n",
    "Take the code from day1 and incorporate it here, to build a website summarizer that uses Llama 3.2 running locally instead of OpenAI; use either of the above approaches."
   ]
  },
  {
   "cell_type": "code",
   "execution_count": 20,
   "id": "40b061aa-68b5-4808-89a7-2c54a3e82c31",
   "metadata": {},
   "outputs": [],
   "source": [
    "# imports\n",
    "\n",
    "import os\n",
    "import requests\n",
    "from dotenv import load_dotenv\n",
    "from bs4 import BeautifulSoup\n",
    "from IPython.display import Markdown, display\n",
    "from openai import OpenAI"
   ]
  },
  {
   "cell_type": "code",
   "execution_count": 21,
   "id": "6de38216-6d1c-48c4-877b-86d403f4e0f8",
   "metadata": {},
   "outputs": [],
   "source": [
    "# Some websites need you to use proper headers when fetching them:\n",
    "headers = {\n",
    " \"User-Agent\": \"Mozilla/5.0 (Windows NT 10.0; Win64; x64) AppleWebKit/537.36 (KHTML, like Gecko) Chrome/117.0.0.0 Safari/537.36\"\n",
    "}\n",
    "\n",
    "class Website:\n",
    "    def __init__(self, url):\n",
    "        self.url = url\n",
    "        response = requests.get(url, headers=headers)\n",
    "        soup = BeautifulSoup(response.content, 'html.parser')\n",
    "        self.title = soup.title.string if soup.title else \"No title found\"\n",
    "        \n",
    "        # Store image URLs and their associated descriptions/stats\n",
    "        self.items = []\n",
    "        for img in soup.find_all('img'):\n",
    "            if img.get('src'):\n",
    "                img_url = img['src']\n",
    "                # Convert relative URLs to absolute URLs\n",
    "                if not img_url.startswith(('http://', 'https://')):\n",
    "                    img_url = url + img_url\n",
    "                \n",
    "                # Find the parent element that contains both image and description\n",
    "                parent = img.parent\n",
    "                description = \"\"\n",
    "                stats = \"\"\n",
    "                \n",
    "                # Look for description and stats in nearby elements\n",
    "                if parent:\n",
    "                    # Try to find description in a nearby paragraph or div\n",
    "                    desc_elem = parent.find_next(['p', 'div'], class_=['description', 'item-description'])\n",
    "                    if desc_elem:\n",
    "                        description = desc_elem.get_text(strip=True)\n",
    "                    \n",
    "                    # Try to find stats in a nearby table or list\n",
    "                    stats_elem = parent.find_next(['table', 'ul', 'ol'])\n",
    "                    if stats_elem:\n",
    "                        stats = stats_elem.get_text(strip=True)\n",
    "                \n",
    "                self.items.append({\n",
    "                    'image_url': img_url,\n",
    "                    'description': description,\n",
    "                    'stats': stats\n",
    "                })\n",
    "        \n",
    "        # Remove irrelevant elements\n",
    "        for irrelevant in soup.body([\"script\", \"style\", \"input\"]):\n",
    "            irrelevant.decompose()\n",
    "        self.text = soup.body.get_text(separator=\"\\n\", strip=True)"
   ]
  },
  {
   "cell_type": "code",
   "execution_count": 22,
   "id": "4bbc1f82-8084-44c1-bae4-8dc05dd19c3f",
   "metadata": {},
   "outputs": [],
   "source": [
    "# Define our system prompt - you can experiment with this later, changing the last sentence to 'Respond in markdown in Spanish.\"\n",
    "\n",
    "system_prompt = \"\"\"You are an assistant that analyzes the contents of a videogame website, called Ragnarok Online \n",
    "and provides a table like output displaying the top 10 list items in the list, you will be able to identify the correct list because this items will have an image before its name and description,\n",
    "If it includes a valid img url display the image in the output as well as the rest of the item information.\n",
    "When displaying images, use markdown image syntax: ![alt text](image_url). And finally also grab the item iformation and display it as regular text\"\"\""
   ]
  },
  {
   "cell_type": "code",
   "execution_count": 23,
   "id": "7fe316a6-87f9-44f1-82e7-2fcee2c3ce18",
   "metadata": {},
   "outputs": [],
   "source": [
    "# A function that writes a User Prompt that asks for summaries of websites:\n",
    "\n",
    "def user_prompt_for(website):\n",
    "    user_prompt = f\"You are looking at a website titled {website.title}\"\n",
    "    user_prompt += \"\\nThe contents of this website is as follows; \\\n",
    "please only get the top 10 list items in the list, you will be able to identify the correct list because this items will have an image before its name and description \\\n",
    "If it includes a valid img url display the image in the output as well as the rest of the item information.\\n\\n\"\n",
    "    user_prompt += website.text\n",
    "    \n",
    "    # Add image URLs to the prompt\n",
    "    #if website.images:\n",
    "        #user_prompt += \"\\n\\nAvailable image URLs:\\n\"\n",
    "        #for img_url in website.images:\n",
    "            #user_prompt += f\"- {img_url}\\n\"\n",
    "            \n",
    "    return user_prompt"
   ]
  },
  {
   "cell_type": "code",
   "execution_count": 24,
   "id": "ef958d88-95d2-44cf-a04b-7f3a9476809f",
   "metadata": {},
   "outputs": [],
   "source": [
    "ed = Website(\"https://irowiki.org/wiki/Mace\")\n",
    "#print(ed.title)\n",
    "#print(ed.text)\n",
    "#print(user_prompt_for(ed))"
   ]
  },
  {
   "cell_type": "code",
   "execution_count": 25,
   "id": "c820a7c9-d7b9-4bf7-954c-237cf6d0f6d7",
   "metadata": {},
   "outputs": [],
   "source": [
    "def messages_for(website):\n",
    "    return [\n",
    "        {\"role\": \"system\", \"content\": system_prompt},\n",
    "        {\"role\": \"user\", \"content\": user_prompt_for(website)}\n",
    "    ]"
   ]
  },
  {
   "cell_type": "code",
   "execution_count": 26,
   "id": "96c91c51-0ac0-4044-831f-2fb427b5fab2",
   "metadata": {},
   "outputs": [],
   "source": [
    "#messages_for(ed)\n",
    "\n",
    "#def display_items(url):\n",
    "#    website = Website(url)\n",
    "#    messages = messages_for(website)\n",
    "#    response = requests.post(OLLAMA_API, json={\"model\": MODEL, \"messages\": messages, \"stream\": False}, headers=HEADERS)\n",
    "#    display(Markdown(response.json()['message']['content']))\n",
    "\n",
    "def display_items(url):\n",
    "    website = Website(url)\n",
    "    messages = messages_for(website)\n",
    "    response = requests.post(OLLAMA_API, json={\"model\": MODEL, \"messages\": messages, \"stream\": False}, headers=HEADERS)\n",
    "    \n",
    "    # Get the response content\n",
    "    content = response.json()['message']['content']\n",
    "    \n",
    "    # Display the text content\n",
    "    display(Markdown(content))\n",
    "    \n",
    "    # Display items with their images, descriptions, and stats\n",
    "    if website.items:\n",
    "        print(\"\\nItems from the page:\")\n",
    "        for item in website.items:\n",
    "            # Create a markdown table row with image and description\n",
    "            item_markdown = f\"| ![Image]({item['image_url']}) | {item['description']} |\\n\"\n",
    "            if item['stats']:\n",
    "                item_markdown += f\"| Stats | {item['stats']} |\\n\"\n",
    "            display(Markdown(item_markdown))"
   ]
  },
  {
   "cell_type": "code",
   "execution_count": 27,
   "id": "93a822a2-35bb-473d-aec3-e7ed29a72856",
   "metadata": {},
   "outputs": [
    {
     "name": "stdout",
     "output_type": "stream",
     "text": [
      "Model => llama3.2\n"
     ]
    },
    {
     "data": {
      "text/markdown": [
       "It appears that the provided text is a section from the iRO Wiki, a fan-made wiki for the MMORPG Elsword.\n",
       "\n",
       "The section you provided seems to be a list of various job classes in the game, including their corresponding weapon types. The list includes:\n",
       "\n",
       "1. Acolyte\n",
       "2. Merchant\n",
       "3. Priest\n",
       "\n",
       "Each job class is listed with its corresponding weapon type, such as \"Book\" or \"Mace\".\n",
       "\n",
       "Here's a summary of the job classes and weapons mentioned:\n",
       "\n",
       "* Acolyte: Book\n",
       "* Merchant: \n",
       "\t+ No specific weapon type mentioned\n",
       "* Priest: \n",
       "\t+ Mace\n",
       "\t+ Rod\n",
       "\n",
       "Please note that this section may not be exhaustive, and there may be additional job classes or weapon types listed elsewhere in the wiki."
      ],
      "text/plain": [
       "<IPython.core.display.Markdown object>"
      ]
     },
     "metadata": {},
     "output_type": "display_data"
    },
    {
     "name": "stdout",
     "output_type": "stream",
     "text": [
      "\n",
      "Items from the page:\n"
     ]
    },
    {
     "data": {
      "text/markdown": [
       "| ![Image](https://irowiki.org/images/db/item/16015.png) |  |\n",
       "| Stats | Weaponsin Ragnarok OnlineWeaponryAxes•Books•Bows•Daggers•Guns•Huuma Shurikens•Instruments•Katars•Knuckles•Maces•One Handed Swords•Rods•Spears•Two Handed Swords•WhipsAmmunitionArrows•Bullets•Cannon Balls•Kunai•Shurikens |\n"
      ],
      "text/plain": [
       "<IPython.core.display.Markdown object>"
      ]
     },
     "metadata": {},
     "output_type": "display_data"
    },
    {
     "data": {
      "text/markdown": [
       "| ![Image](https://irowiki.org/images/db/item/1501.png) |  |\n",
       "| Stats | Weaponsin Ragnarok OnlineWeaponryAxes•Books•Bows•Daggers•Guns•Huuma Shurikens•Instruments•Katars•Knuckles•Maces•One Handed Swords•Rods•Spears•Two Handed Swords•WhipsAmmunitionArrows•Bullets•Cannon Balls•Kunai•Shurikens |\n"
      ],
      "text/plain": [
       "<IPython.core.display.Markdown object>"
      ]
     },
     "metadata": {},
     "output_type": "display_data"
    },
    {
     "data": {
      "text/markdown": [
       "| ![Image](https://irowiki.org/images/db/item/1504.png) |  |\n",
       "| Stats | Weaponsin Ragnarok OnlineWeaponryAxes•Books•Bows•Daggers•Guns•Huuma Shurikens•Instruments•Katars•Knuckles•Maces•One Handed Swords•Rods•Spears•Two Handed Swords•WhipsAmmunitionArrows•Bullets•Cannon Balls•Kunai•Shurikens |\n"
      ],
      "text/plain": [
       "<IPython.core.display.Markdown object>"
      ]
     },
     "metadata": {},
     "output_type": "display_data"
    },
    {
     "data": {
      "text/markdown": [
       "| ![Image](https://irowiki.org/images/db/item/1545.png) |  |\n",
       "| Stats | Weaponsin Ragnarok OnlineWeaponryAxes•Books•Bows•Daggers•Guns•Huuma Shurikens•Instruments•Katars•Knuckles•Maces•One Handed Swords•Rods•Spears•Two Handed Swords•WhipsAmmunitionArrows•Bullets•Cannon Balls•Kunai•Shurikens |\n"
      ],
      "text/plain": [
       "<IPython.core.display.Markdown object>"
      ]
     },
     "metadata": {},
     "output_type": "display_data"
    },
    {
     "data": {
      "text/markdown": [
       "| ![Image](https://irowiki.org/images/db/item/1519.png) |  |\n",
       "| Stats | Weaponsin Ragnarok OnlineWeaponryAxes•Books•Bows•Daggers•Guns•Huuma Shurikens•Instruments•Katars•Knuckles•Maces•One Handed Swords•Rods•Spears•Two Handed Swords•WhipsAmmunitionArrows•Bullets•Cannon Balls•Kunai•Shurikens |\n"
      ],
      "text/plain": [
       "<IPython.core.display.Markdown object>"
      ]
     },
     "metadata": {},
     "output_type": "display_data"
    },
    {
     "data": {
      "text/markdown": [
       "| ![Image](https://irowiki.org/images/db/item/16004.png) |  |\n",
       "| Stats | Weaponsin Ragnarok OnlineWeaponryAxes•Books•Bows•Daggers•Guns•Huuma Shurikens•Instruments•Katars•Knuckles•Maces•One Handed Swords•Rods•Spears•Two Handed Swords•WhipsAmmunitionArrows•Bullets•Cannon Balls•Kunai•Shurikens |\n"
      ],
      "text/plain": [
       "<IPython.core.display.Markdown object>"
      ]
     },
     "metadata": {},
     "output_type": "display_data"
    },
    {
     "data": {
      "text/markdown": [
       "| ![Image](https://irowiki.org/images/db/item/16005.png) |  |\n",
       "| Stats | Weaponsin Ragnarok OnlineWeaponryAxes•Books•Bows•Daggers•Guns•Huuma Shurikens•Instruments•Katars•Knuckles•Maces•One Handed Swords•Rods•Spears•Two Handed Swords•WhipsAmmunitionArrows•Bullets•Cannon Balls•Kunai•Shurikens |\n"
      ],
      "text/plain": [
       "<IPython.core.display.Markdown object>"
      ]
     },
     "metadata": {},
     "output_type": "display_data"
    },
    {
     "data": {
      "text/markdown": [
       "| ![Image](https://irowiki.org/images/db/item/1510.png) |  |\n",
       "| Stats | Weaponsin Ragnarok OnlineWeaponryAxes•Books•Bows•Daggers•Guns•Huuma Shurikens•Instruments•Katars•Knuckles•Maces•One Handed Swords•Rods•Spears•Two Handed Swords•WhipsAmmunitionArrows•Bullets•Cannon Balls•Kunai•Shurikens |\n"
      ],
      "text/plain": [
       "<IPython.core.display.Markdown object>"
      ]
     },
     "metadata": {},
     "output_type": "display_data"
    },
    {
     "data": {
      "text/markdown": [
       "| ![Image](https://irowiki.org/images/db/item/1507.png) |  |\n",
       "| Stats | Weaponsin Ragnarok OnlineWeaponryAxes•Books•Bows•Daggers•Guns•Huuma Shurikens•Instruments•Katars•Knuckles•Maces•One Handed Swords•Rods•Spears•Two Handed Swords•WhipsAmmunitionArrows•Bullets•Cannon Balls•Kunai•Shurikens |\n"
      ],
      "text/plain": [
       "<IPython.core.display.Markdown object>"
      ]
     },
     "metadata": {},
     "output_type": "display_data"
    },
    {
     "data": {
      "text/markdown": [
       "| ![Image](https://irowiki.org/images/db/item/1543.png) |  |\n",
       "| Stats | Weaponsin Ragnarok OnlineWeaponryAxes•Books•Bows•Daggers•Guns•Huuma Shurikens•Instruments•Katars•Knuckles•Maces•One Handed Swords•Rods•Spears•Two Handed Swords•WhipsAmmunitionArrows•Bullets•Cannon Balls•Kunai•Shurikens |\n"
      ],
      "text/plain": [
       "<IPython.core.display.Markdown object>"
      ]
     },
     "metadata": {},
     "output_type": "display_data"
    },
    {
     "data": {
      "text/markdown": [
       "| ![Image](https://irowiki.org/images/db/item/16003.png) |  |\n",
       "| Stats | Weaponsin Ragnarok OnlineWeaponryAxes•Books•Bows•Daggers•Guns•Huuma Shurikens•Instruments•Katars•Knuckles•Maces•One Handed Swords•Rods•Spears•Two Handed Swords•WhipsAmmunitionArrows•Bullets•Cannon Balls•Kunai•Shurikens |\n"
      ],
      "text/plain": [
       "<IPython.core.display.Markdown object>"
      ]
     },
     "metadata": {},
     "output_type": "display_data"
    },
    {
     "data": {
      "text/markdown": [
       "| ![Image](https://irowiki.org/images/db/item/16040.png) |  |\n",
       "| Stats | Weaponsin Ragnarok OnlineWeaponryAxes•Books•Bows•Daggers•Guns•Huuma Shurikens•Instruments•Katars•Knuckles•Maces•One Handed Swords•Rods•Spears•Two Handed Swords•WhipsAmmunitionArrows•Bullets•Cannon Balls•Kunai•Shurikens |\n"
      ],
      "text/plain": [
       "<IPython.core.display.Markdown object>"
      ]
     },
     "metadata": {},
     "output_type": "display_data"
    },
    {
     "data": {
      "text/markdown": [
       "| ![Image](https://irowiki.org/images/db/item/16014.png) |  |\n",
       "| Stats | Weaponsin Ragnarok OnlineWeaponryAxes•Books•Bows•Daggers•Guns•Huuma Shurikens•Instruments•Katars•Knuckles•Maces•One Handed Swords•Rods•Spears•Two Handed Swords•WhipsAmmunitionArrows•Bullets•Cannon Balls•Kunai•Shurikens |\n"
      ],
      "text/plain": [
       "<IPython.core.display.Markdown object>"
      ]
     },
     "metadata": {},
     "output_type": "display_data"
    },
    {
     "data": {
      "text/markdown": [
       "| ![Image](https://irowiki.org/images/db/item/16000.png) |  |\n",
       "| Stats | Weaponsin Ragnarok OnlineWeaponryAxes•Books•Bows•Daggers•Guns•Huuma Shurikens•Instruments•Katars•Knuckles•Maces•One Handed Swords•Rods•Spears•Two Handed Swords•WhipsAmmunitionArrows•Bullets•Cannon Balls•Kunai•Shurikens |\n"
      ],
      "text/plain": [
       "<IPython.core.display.Markdown object>"
      ]
     },
     "metadata": {},
     "output_type": "display_data"
    },
    {
     "data": {
      "text/markdown": [
       "| ![Image](https://irowiki.org/images/db/item/1529.png) |  |\n",
       "| Stats | Weaponsin Ragnarok OnlineWeaponryAxes•Books•Bows•Daggers•Guns•Huuma Shurikens•Instruments•Katars•Knuckles•Maces•One Handed Swords•Rods•Spears•Two Handed Swords•WhipsAmmunitionArrows•Bullets•Cannon Balls•Kunai•Shurikens |\n"
      ],
      "text/plain": [
       "<IPython.core.display.Markdown object>"
      ]
     },
     "metadata": {},
     "output_type": "display_data"
    },
    {
     "data": {
      "text/markdown": [
       "| ![Image](https://irowiki.org/images/db/item/1544.png) |  |\n",
       "| Stats | Weaponsin Ragnarok OnlineWeaponryAxes•Books•Bows•Daggers•Guns•Huuma Shurikens•Instruments•Katars•Knuckles•Maces•One Handed Swords•Rods•Spears•Two Handed Swords•WhipsAmmunitionArrows•Bullets•Cannon Balls•Kunai•Shurikens |\n"
      ],
      "text/plain": [
       "<IPython.core.display.Markdown object>"
      ]
     },
     "metadata": {},
     "output_type": "display_data"
    },
    {
     "data": {
      "text/markdown": [
       "| ![Image](https://irowiki.org/images/db/item/1513.png) |  |\n",
       "| Stats | Weaponsin Ragnarok OnlineWeaponryAxes•Books•Bows•Daggers•Guns•Huuma Shurikens•Instruments•Katars•Knuckles•Maces•One Handed Swords•Rods•Spears•Two Handed Swords•WhipsAmmunitionArrows•Bullets•Cannon Balls•Kunai•Shurikens |\n"
      ],
      "text/plain": [
       "<IPython.core.display.Markdown object>"
      ]
     },
     "metadata": {},
     "output_type": "display_data"
    },
    {
     "data": {
      "text/markdown": [
       "| ![Image](https://irowiki.org/images/db/item/1549.png) |  |\n",
       "| Stats | Weaponsin Ragnarok OnlineWeaponryAxes•Books•Bows•Daggers•Guns•Huuma Shurikens•Instruments•Katars•Knuckles•Maces•One Handed Swords•Rods•Spears•Two Handed Swords•WhipsAmmunitionArrows•Bullets•Cannon Balls•Kunai•Shurikens |\n"
      ],
      "text/plain": [
       "<IPython.core.display.Markdown object>"
      ]
     },
     "metadata": {},
     "output_type": "display_data"
    },
    {
     "data": {
      "text/markdown": [
       "| ![Image](https://irowiki.org/images/db/item/16010.png) |  |\n",
       "| Stats | Weaponsin Ragnarok OnlineWeaponryAxes•Books•Bows•Daggers•Guns•Huuma Shurikens•Instruments•Katars•Knuckles•Maces•One Handed Swords•Rods•Spears•Two Handed Swords•WhipsAmmunitionArrows•Bullets•Cannon Balls•Kunai•Shurikens |\n"
      ],
      "text/plain": [
       "<IPython.core.display.Markdown object>"
      ]
     },
     "metadata": {},
     "output_type": "display_data"
    },
    {
     "data": {
      "text/markdown": [
       "| ![Image](https://irowiki.org/images/db/item/16001.png) |  |\n",
       "| Stats | Weaponsin Ragnarok OnlineWeaponryAxes•Books•Bows•Daggers•Guns•Huuma Shurikens•Instruments•Katars•Knuckles•Maces•One Handed Swords•Rods•Spears•Two Handed Swords•WhipsAmmunitionArrows•Bullets•Cannon Balls•Kunai•Shurikens |\n"
      ],
      "text/plain": [
       "<IPython.core.display.Markdown object>"
      ]
     },
     "metadata": {},
     "output_type": "display_data"
    },
    {
     "data": {
      "text/markdown": [
       "| ![Image](https://irowiki.org/images/db/item/1522.png) |  |\n",
       "| Stats | Weaponsin Ragnarok OnlineWeaponryAxes•Books•Bows•Daggers•Guns•Huuma Shurikens•Instruments•Katars•Knuckles•Maces•One Handed Swords•Rods•Spears•Two Handed Swords•WhipsAmmunitionArrows•Bullets•Cannon Balls•Kunai•Shurikens |\n"
      ],
      "text/plain": [
       "<IPython.core.display.Markdown object>"
      ]
     },
     "metadata": {},
     "output_type": "display_data"
    },
    {
     "data": {
      "text/markdown": [
       "| ![Image](https://irowiki.org/images/db/item/1516.png) |  |\n",
       "| Stats | Weaponsin Ragnarok OnlineWeaponryAxes•Books•Bows•Daggers•Guns•Huuma Shurikens•Instruments•Katars•Knuckles•Maces•One Handed Swords•Rods•Spears•Two Handed Swords•WhipsAmmunitionArrows•Bullets•Cannon Balls•Kunai•Shurikens |\n"
      ],
      "text/plain": [
       "<IPython.core.display.Markdown object>"
      ]
     },
     "metadata": {},
     "output_type": "display_data"
    },
    {
     "data": {
      "text/markdown": [
       "| ![Image](https://irowiki.org/images/db/item/1542.png) |  |\n",
       "| Stats | Weaponsin Ragnarok OnlineWeaponryAxes•Books•Bows•Daggers•Guns•Huuma Shurikens•Instruments•Katars•Knuckles•Maces•One Handed Swords•Rods•Spears•Two Handed Swords•WhipsAmmunitionArrows•Bullets•Cannon Balls•Kunai•Shurikens |\n"
      ],
      "text/plain": [
       "<IPython.core.display.Markdown object>"
      ]
     },
     "metadata": {},
     "output_type": "display_data"
    },
    {
     "data": {
      "text/markdown": [
       "| ![Image](https://irowiki.org/images/db/item/1548.png) |  |\n",
       "| Stats | Weaponsin Ragnarok OnlineWeaponryAxes•Books•Bows•Daggers•Guns•Huuma Shurikens•Instruments•Katars•Knuckles•Maces•One Handed Swords•Rods•Spears•Two Handed Swords•WhipsAmmunitionArrows•Bullets•Cannon Balls•Kunai•Shurikens |\n"
      ],
      "text/plain": [
       "<IPython.core.display.Markdown object>"
      ]
     },
     "metadata": {},
     "output_type": "display_data"
    },
    {
     "data": {
      "text/markdown": [
       "| ![Image](https://irowiki.org/images/db/item/1531.png) |  |\n",
       "| Stats | Weaponsin Ragnarok OnlineWeaponryAxes•Books•Bows•Daggers•Guns•Huuma Shurikens•Instruments•Katars•Knuckles•Maces•One Handed Swords•Rods•Spears•Two Handed Swords•WhipsAmmunitionArrows•Bullets•Cannon Balls•Kunai•Shurikens |\n"
      ],
      "text/plain": [
       "<IPython.core.display.Markdown object>"
      ]
     },
     "metadata": {},
     "output_type": "display_data"
    },
    {
     "data": {
      "text/markdown": [
       "| ![Image](https://irowiki.org/images/db/item/16018.png) |  |\n",
       "| Stats | Weaponsin Ragnarok OnlineWeaponryAxes•Books•Bows•Daggers•Guns•Huuma Shurikens•Instruments•Katars•Knuckles•Maces•One Handed Swords•Rods•Spears•Two Handed Swords•WhipsAmmunitionArrows•Bullets•Cannon Balls•Kunai•Shurikens |\n"
      ],
      "text/plain": [
       "<IPython.core.display.Markdown object>"
      ]
     },
     "metadata": {},
     "output_type": "display_data"
    },
    {
     "data": {
      "text/markdown": [
       "| ![Image](https://irowiki.org/images/db/item/1546.png) |  |\n",
       "| Stats | Weaponsin Ragnarok OnlineWeaponryAxes•Books•Bows•Daggers•Guns•Huuma Shurikens•Instruments•Katars•Knuckles•Maces•One Handed Swords•Rods•Spears•Two Handed Swords•WhipsAmmunitionArrows•Bullets•Cannon Balls•Kunai•Shurikens |\n"
      ],
      "text/plain": [
       "<IPython.core.display.Markdown object>"
      ]
     },
     "metadata": {},
     "output_type": "display_data"
    },
    {
     "data": {
      "text/markdown": [
       "| ![Image](https://irowiki.org/images/db/item/1524.png) |  |\n",
       "| Stats | Weaponsin Ragnarok OnlineWeaponryAxes•Books•Bows•Daggers•Guns•Huuma Shurikens•Instruments•Katars•Knuckles•Maces•One Handed Swords•Rods•Spears•Two Handed Swords•WhipsAmmunitionArrows•Bullets•Cannon Balls•Kunai•Shurikens |\n"
      ],
      "text/plain": [
       "<IPython.core.display.Markdown object>"
      ]
     },
     "metadata": {},
     "output_type": "display_data"
    },
    {
     "data": {
      "text/markdown": [
       "| ![Image](https://irowiki.org/images/db/item/1528.png) |  |\n",
       "| Stats | Weaponsin Ragnarok OnlineWeaponryAxes•Books•Bows•Daggers•Guns•Huuma Shurikens•Instruments•Katars•Knuckles•Maces•One Handed Swords•Rods•Spears•Two Handed Swords•WhipsAmmunitionArrows•Bullets•Cannon Balls•Kunai•Shurikens |\n"
      ],
      "text/plain": [
       "<IPython.core.display.Markdown object>"
      ]
     },
     "metadata": {},
     "output_type": "display_data"
    },
    {
     "data": {
      "text/markdown": [
       "| ![Image](https://irowiki.org/images/db/item/1525.png) |  |\n",
       "| Stats | Weaponsin Ragnarok OnlineWeaponryAxes•Books•Bows•Daggers•Guns•Huuma Shurikens•Instruments•Katars•Knuckles•Maces•One Handed Swords•Rods•Spears•Two Handed Swords•WhipsAmmunitionArrows•Bullets•Cannon Balls•Kunai•Shurikens |\n"
      ],
      "text/plain": [
       "<IPython.core.display.Markdown object>"
      ]
     },
     "metadata": {},
     "output_type": "display_data"
    },
    {
     "data": {
      "text/markdown": [
       "| ![Image](https://irowiki.org/images/db/item/16013.png) |  |\n",
       "| Stats | Weaponsin Ragnarok OnlineWeaponryAxes•Books•Bows•Daggers•Guns•Huuma Shurikens•Instruments•Katars•Knuckles•Maces•One Handed Swords•Rods•Spears•Two Handed Swords•WhipsAmmunitionArrows•Bullets•Cannon Balls•Kunai•Shurikens |\n"
      ],
      "text/plain": [
       "<IPython.core.display.Markdown object>"
      ]
     },
     "metadata": {},
     "output_type": "display_data"
    },
    {
     "data": {
      "text/markdown": [
       "| ![Image](https://irowiki.org/images/db/item/1530.png) |  |\n",
       "| Stats | Weaponsin Ragnarok OnlineWeaponryAxes•Books•Bows•Daggers•Guns•Huuma Shurikens•Instruments•Katars•Knuckles•Maces•One Handed Swords•Rods•Spears•Two Handed Swords•WhipsAmmunitionArrows•Bullets•Cannon Balls•Kunai•Shurikens |\n"
      ],
      "text/plain": [
       "<IPython.core.display.Markdown object>"
      ]
     },
     "metadata": {},
     "output_type": "display_data"
    },
    {
     "data": {
      "text/markdown": [
       "| ![Image](https://irowiki.org/images/db/item/1541.png) |  |\n",
       "| Stats | Weaponsin Ragnarok OnlineWeaponryAxes•Books•Bows•Daggers•Guns•Huuma Shurikens•Instruments•Katars•Knuckles•Maces•One Handed Swords•Rods•Spears•Two Handed Swords•WhipsAmmunitionArrows•Bullets•Cannon Balls•Kunai•Shurikens |\n"
      ],
      "text/plain": [
       "<IPython.core.display.Markdown object>"
      ]
     },
     "metadata": {},
     "output_type": "display_data"
    },
    {
     "data": {
      "text/markdown": [
       "| ![Image](https://irowiki.org/images/db/item/1527.png) |  |\n",
       "| Stats | Weaponsin Ragnarok OnlineWeaponryAxes•Books•Bows•Daggers•Guns•Huuma Shurikens•Instruments•Katars•Knuckles•Maces•One Handed Swords•Rods•Spears•Two Handed Swords•WhipsAmmunitionArrows•Bullets•Cannon Balls•Kunai•Shurikens |\n"
      ],
      "text/plain": [
       "<IPython.core.display.Markdown object>"
      ]
     },
     "metadata": {},
     "output_type": "display_data"
    },
    {
     "data": {
      "text/markdown": [
       "| ![Image](https://irowiki.org/images/db/item/16033.png) |  |\n",
       "| Stats | Weaponsin Ragnarok OnlineWeaponryAxes•Books•Bows•Daggers•Guns•Huuma Shurikens•Instruments•Katars•Knuckles•Maces•One Handed Swords•Rods•Spears•Two Handed Swords•WhipsAmmunitionArrows•Bullets•Cannon Balls•Kunai•Shurikens |\n"
      ],
      "text/plain": [
       "<IPython.core.display.Markdown object>"
      ]
     },
     "metadata": {},
     "output_type": "display_data"
    },
    {
     "data": {
      "text/markdown": [
       "| ![Image](https://irowiki.org/images/db/item/1526.png) |  |\n",
       "| Stats | Weaponsin Ragnarok OnlineWeaponryAxes•Books•Bows•Daggers•Guns•Huuma Shurikens•Instruments•Katars•Knuckles•Maces•One Handed Swords•Rods•Spears•Two Handed Swords•WhipsAmmunitionArrows•Bullets•Cannon Balls•Kunai•Shurikens |\n"
      ],
      "text/plain": [
       "<IPython.core.display.Markdown object>"
      ]
     },
     "metadata": {},
     "output_type": "display_data"
    },
    {
     "data": {
      "text/markdown": [
       "| ![Image](https://irowiki.org/images/db/item/1523.png) |  |\n",
       "| Stats | Weaponsin Ragnarok OnlineWeaponryAxes•Books•Bows•Daggers•Guns•Huuma Shurikens•Instruments•Katars•Knuckles•Maces•One Handed Swords•Rods•Spears•Two Handed Swords•WhipsAmmunitionArrows•Bullets•Cannon Balls•Kunai•Shurikens |\n"
      ],
      "text/plain": [
       "<IPython.core.display.Markdown object>"
      ]
     },
     "metadata": {},
     "output_type": "display_data"
    },
    {
     "data": {
      "text/markdown": [
       "| ![Image](https://irowiki.org/images/db/item/16021.png) |  |\n",
       "| Stats | Weaponsin Ragnarok OnlineWeaponryAxes•Books•Bows•Daggers•Guns•Huuma Shurikens•Instruments•Katars•Knuckles•Maces•One Handed Swords•Rods•Spears•Two Handed Swords•WhipsAmmunitionArrows•Bullets•Cannon Balls•Kunai•Shurikens |\n"
      ],
      "text/plain": [
       "<IPython.core.display.Markdown object>"
      ]
     },
     "metadata": {},
     "output_type": "display_data"
    },
    {
     "data": {
      "text/markdown": [
       "| ![Image](https://irowiki.org/images/db/item/16020.png) |  |\n",
       "| Stats | Weaponsin Ragnarok OnlineWeaponryAxes•Books•Bows•Daggers•Guns•Huuma Shurikens•Instruments•Katars•Knuckles•Maces•One Handed Swords•Rods•Spears•Two Handed Swords•WhipsAmmunitionArrows•Bullets•Cannon Balls•Kunai•Shurikens |\n"
      ],
      "text/plain": [
       "<IPython.core.display.Markdown object>"
      ]
     },
     "metadata": {},
     "output_type": "display_data"
    },
    {
     "data": {
      "text/markdown": [
       "| ![Image](https://irowiki.org/wiki/Mace/w/resources/assets/licenses/gnu-fdl.png) |  |\n"
      ],
      "text/plain": [
       "<IPython.core.display.Markdown object>"
      ]
     },
     "metadata": {},
     "output_type": "display_data"
    },
    {
     "data": {
      "text/markdown": [
       "| ![Image](https://irowiki.org/wiki/Mace/w/resources/assets/poweredby_mediawiki_88x31.png) |  |\n"
      ],
      "text/plain": [
       "<IPython.core.display.Markdown object>"
      ]
     },
     "metadata": {},
     "output_type": "display_data"
    }
   ],
   "source": [
    "print(f\"Model => {MODEL}\")\n",
    "display_items(\"https://irowiki.org/wiki/Mace\")"
   ]
  },
  {
   "cell_type": "code",
   "execution_count": null,
   "id": "00da8dce-cc58-4a2f-b432-c2adfcf548b5",
   "metadata": {},
   "outputs": [],
   "source": []
  }
 ],
 "metadata": {
  "kernelspec": {
   "display_name": "base",
   "language": "python",
   "name": "python3"
  },
  "language_info": {
   "codemirror_mode": {
    "name": "ipython",
    "version": 3
   },
   "file_extension": ".py",
   "mimetype": "text/x-python",
   "name": "python",
   "nbconvert_exporter": "python",
   "pygments_lexer": "ipython3",
   "version": "3.12.7"
  }
 },
 "nbformat": 4,
 "nbformat_minor": 5
}
