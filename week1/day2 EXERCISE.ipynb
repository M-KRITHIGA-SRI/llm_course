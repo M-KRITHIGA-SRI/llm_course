{
 "cells": [
  {
   "cell_type": "markdown",
   "id": "d15d8294-3328-4e07-ad16-8a03e9bbfdb9",
   "metadata": {},
   "source": [
    "# Welcome to your first assignment!\n",
    "\n",
    "Instructions are below. Please give this a try, and look in the solutions folder if you get stuck (or feel free to ask me!)"
   ]
  },
  {
   "cell_type": "markdown",
   "id": "ada885d9-4d42-4d9b-97f0-74fbbbfe93a9",
   "metadata": {},
   "source": [
    "<table style=\"margin: 0; text-align: left;\">\n",
    "    <tr>\n",
    "        <td style=\"width: 150px; height: 150px; vertical-align: middle;\">\n",
    "            <img src=\"../resources.jpg\" width=\"150\" height=\"150\" style=\"display: block;\" />\n",
    "        </td>\n",
    "        <td>\n",
    "            <h2 style=\"color:#f71;\">Just before we get to the assignment --</h2>\n",
    "            <span style=\"color:#f71;\">I thought I'd take a second to point you at this page of useful resources for the course. This includes links to all the slides.<br/>\n",
    "            <a href=\"https://edwarddonner.com/2024/11/13/llm-engineering-resources/\">https://edwarddonner.com/2024/11/13/llm-engineering-resources/</a><br/>\n",
    "            Please keep this bookmarked, and I'll continue to add more useful links there over time.\n",
    "            </span>\n",
    "        </td>\n",
    "    </tr>\n",
    "</table>"
   ]
  },
  {
   "cell_type": "markdown",
   "id": "6e9fa1fc-eac5-4d1d-9be4-541b3f2b3458",
   "metadata": {},
   "source": [
    "# HOMEWORK EXERCISE ASSIGNMENT\n",
    "\n",
    "Upgrade the day 1 project to summarize a webpage to use an Open Source model running locally via Ollama rather than OpenAI\n",
    "\n",
    "You'll be able to use this technique for all subsequent projects if you'd prefer not to use paid APIs.\n",
    "\n",
    "**Benefits:**\n",
    "1. No API charges - open-source\n",
    "2. Data doesn't leave your box\n",
    "\n",
    "**Disadvantages:**\n",
    "1. Significantly less power than Frontier Model\n",
    "\n",
    "## Recap on installation of Ollama\n",
    "\n",
    "Simply visit [ollama.com](https://ollama.com) and install!\n",
    "\n",
    "Once complete, the ollama server should already be running locally.  \n",
    "If you visit:  \n",
    "[http://localhost:11434/](http://localhost:11434/)\n",
    "\n",
    "You should see the message `Ollama is running`.  \n",
    "\n",
    "If not, bring up a new Terminal (Mac) or Powershell (Windows) and enter `ollama serve`  \n",
    "And in another Terminal (Mac) or Powershell (Windows), enter `ollama pull llama3.2`  \n",
    "Then try [http://localhost:11434/](http://localhost:11434/) again.\n",
    "\n",
    "If Ollama is slow on your machine, try using `llama3.2:1b` as an alternative. Run `ollama pull llama3.2:1b` from a Terminal or Powershell, and change the code below from `MODEL = \"llama3.2\"` to `MODEL = \"llama3.2:1b\"`"
   ]
  },
  {
   "cell_type": "code",
   "execution_count": 1,
   "id": "4e2a9393-7767-488e-a8bf-27c12dca35bd",
   "metadata": {},
   "outputs": [],
   "source": [
    "# imports\n",
    "\n",
    "import requests\n",
    "from bs4 import BeautifulSoup\n",
    "from IPython.display import Markdown, display"
   ]
  },
  {
   "cell_type": "code",
   "execution_count": 2,
   "id": "29ddd15d-a3c5-4f4e-a678-873f56162724",
   "metadata": {},
   "outputs": [],
   "source": [
    "# Constants\n",
    "\n",
    "OLLAMA_API = \"http://localhost:11434/api/chat\"\n",
    "HEADERS = {\"Content-Type\": \"application/json\"}\n",
    "MODEL = \"llama3.2\""
   ]
  },
  {
   "cell_type": "code",
   "execution_count": 3,
   "id": "dac0a679-599c-441f-9bf2-ddc73d35b940",
   "metadata": {},
   "outputs": [],
   "source": [
    "# Create a messages list using the same format that we used for OpenAI\n",
    "\n",
    "messages = [\n",
    "    {\"role\": \"user\", \"content\": \"Describe some of the business applications of Generative AI\"}\n",
    "]"
   ]
  },
  {
   "cell_type": "code",
   "execution_count": 4,
   "id": "7bb9c624-14f0-4945-a719-8ddb64f66f47",
   "metadata": {},
   "outputs": [],
   "source": [
    "payload = {\n",
    "        \"model\": MODEL,\n",
    "        \"messages\": messages,\n",
    "        \"stream\": False\n",
    "    }"
   ]
  },
  {
   "cell_type": "code",
   "execution_count": 5,
   "id": "42b9f644-522d-4e05-a691-56e7658c0ea9",
   "metadata": {},
   "outputs": [
    {
     "name": "stdout",
     "output_type": "stream",
     "text": [
      "Generative AI has numerous business applications across various industries, including:\n",
      "\n",
      "1. **Content Generation**: AI can generate high-quality content such as articles, social media posts, product descriptions, and more. This can help businesses reduce content creation costs and increase efficiency.\n",
      "2. **Image and Video Generation**: Generative AI can create realistic images and videos for marketing, advertising, and entertainment purposes. For example, it can be used to generate product images, animations, or even entire movies.\n",
      "3. **Chatbots and Virtual Assistants**: AI-powered chatbots can provide 24/7 customer support, answer frequently asked questions, and help with simple inquiries. They can also be used in virtual assistants for tasks such as scheduling appointments and sending reminders.\n",
      "4. **Predictive Analytics and Forecasting**: Generative AI can analyze large datasets to make predictions about future trends and patterns. This can help businesses make informed decisions about investments, resource allocation, and more.\n",
      "5. **Product Design and Development**: AI can generate 3D models, prototypes, and even entire product lines. This can save businesses time and resources in the design and development process.\n",
      "6. **Marketing Automation**: Generative AI can automate many marketing tasks such as lead generation, email marketing, and social media advertising. It can also help personalize marketing campaigns based on customer data.\n",
      "7. **Customer Segmentation and Profiling**: AI can analyze large datasets to identify patterns and characteristics of customers. This can help businesses create targeted marketing campaigns, improve customer retention, and more.\n",
      "8. **Language Translation**: Generative AI can translate languages in real-time, enabling businesses to communicate with international clients and customers more effectively.\n",
      "9. **Creative Writing and Editing**: AI-powered writing tools can assist with content creation, editing, and proofreading. This can help businesses streamline their creative workflow and improve the quality of their content.\n",
      "10. **Business Process Automation**: Generative AI can automate many business processes such as data entry, bookkeeping, and even HR tasks. This can help businesses save time, reduce errors, and increase efficiency.\n",
      "\n",
      "Some specific industries that are heavily leveraging generative AI include:\n",
      "\n",
      "* E-commerce and retail\n",
      "* Marketing and advertising\n",
      "* Finance and banking\n",
      "* Healthcare and pharmaceuticals\n",
      "* Education and training\n",
      "* Manufacturing and product development\n",
      "\n",
      "Overall, generative AI has the potential to transform many aspects of business operations, from content creation and marketing to product design and customer service.\n"
     ]
    }
   ],
   "source": [
    "response = requests.post(OLLAMA_API, json=payload, headers=HEADERS)\n",
    "print(response.json()['message']['content'])"
   ]
  },
  {
   "cell_type": "markdown",
   "id": "6a021f13-d6a1-4b96-8e18-4eae49d876fe",
   "metadata": {},
   "source": [
    "# Introducing the ollama package\n",
    "\n",
    "And now we'll do the same thing, but using the elegant ollama python package instead of a direct HTTP call.\n",
    "\n",
    "Under the hood, it's making the same call as above to the ollama server running at localhost:11434"
   ]
  },
  {
   "cell_type": "code",
   "execution_count": 8,
   "id": "adfaf68b-ed4c-4aff-b8e5-1940ac709783",
   "metadata": {},
   "outputs": [
    {
     "name": "stdout",
     "output_type": "stream",
     "text": [
      "Collecting ollama\n",
      "  Downloading ollama-0.4.4-py3-none-any.whl (13 kB)\n",
      "Requirement already satisfied: httpx<0.28.0,>=0.27.0 in c:\\users\\mdele\\onedrive - üsküdar üniversitesi\\masaüstü\\llms\\materials\\llm_engineering\\venv\\lib\\site-packages (from ollama) (0.27.2)\n",
      "Requirement already satisfied: pydantic<3.0.0,>=2.9.0 in c:\\users\\mdele\\onedrive - üsküdar üniversitesi\\masaüstü\\llms\\materials\\llm_engineering\\venv\\lib\\site-packages (from ollama) (2.9.2)\n",
      "Requirement already satisfied: anyio in c:\\users\\mdele\\onedrive - üsküdar üniversitesi\\masaüstü\\llms\\materials\\llm_engineering\\venv\\lib\\site-packages (from httpx<0.28.0,>=0.27.0->ollama) (4.6.2.post1)\n",
      "Requirement already satisfied: certifi in c:\\users\\mdele\\onedrive - üsküdar üniversitesi\\masaüstü\\llms\\materials\\llm_engineering\\venv\\lib\\site-packages (from httpx<0.28.0,>=0.27.0->ollama) (2024.8.30)\n",
      "Requirement already satisfied: httpcore==1.* in c:\\users\\mdele\\onedrive - üsküdar üniversitesi\\masaüstü\\llms\\materials\\llm_engineering\\venv\\lib\\site-packages (from httpx<0.28.0,>=0.27.0->ollama) (1.0.6)\n",
      "Requirement already satisfied: idna in c:\\users\\mdele\\onedrive - üsküdar üniversitesi\\masaüstü\\llms\\materials\\llm_engineering\\venv\\lib\\site-packages (from httpx<0.28.0,>=0.27.0->ollama) (3.10)\n",
      "Requirement already satisfied: sniffio in c:\\users\\mdele\\onedrive - üsküdar üniversitesi\\masaüstü\\llms\\materials\\llm_engineering\\venv\\lib\\site-packages (from httpx<0.28.0,>=0.27.0->ollama) (1.3.1)\n",
      "Requirement already satisfied: h11<0.15,>=0.13 in c:\\users\\mdele\\onedrive - üsküdar üniversitesi\\masaüstü\\llms\\materials\\llm_engineering\\venv\\lib\\site-packages (from httpcore==1.*->httpx<0.28.0,>=0.27.0->ollama) (0.14.0)\n",
      "Requirement already satisfied: annotated-types>=0.6.0 in c:\\users\\mdele\\onedrive - üsküdar üniversitesi\\masaüstü\\llms\\materials\\llm_engineering\\venv\\lib\\site-packages (from pydantic<3.0.0,>=2.9.0->ollama) (0.7.0)\n",
      "Requirement already satisfied: pydantic-core==2.23.4 in c:\\users\\mdele\\onedrive - üsküdar üniversitesi\\masaüstü\\llms\\materials\\llm_engineering\\venv\\lib\\site-packages (from pydantic<3.0.0,>=2.9.0->ollama) (2.23.4)\n",
      "Requirement already satisfied: typing-extensions>=4.6.1 in c:\\users\\mdele\\onedrive - üsküdar üniversitesi\\masaüstü\\llms\\materials\\llm_engineering\\venv\\lib\\site-packages (from pydantic<3.0.0,>=2.9.0->ollama) (4.12.2)\n",
      "Installing collected packages: ollama\n",
      "Successfully installed ollama-0.4.4\n"
     ]
    },
    {
     "name": "stderr",
     "output_type": "stream",
     "text": [
      "\n",
      "[notice] A new release of pip is available: 23.1.2 -> 24.3.1\n",
      "[notice] To update, run: python.exe -m pip install --upgrade pip\n"
     ]
    }
   ],
   "source": [
    "!pip install ollama"
   ]
  },
  {
   "cell_type": "code",
   "execution_count": 9,
   "id": "7745b9c4-57dc-4867-9180-61fa5db55eb8",
   "metadata": {},
   "outputs": [
    {
     "name": "stdout",
     "output_type": "stream",
     "text": [
      "Generative AI (Artificial Intelligence) has numerous business applications across various industries. Here are some examples:\n",
      "\n",
      "1. **Content Generation**: Generative AI can generate high-quality content such as articles, blog posts, social media posts, and even entire books. This technology is particularly useful for businesses that need to produce large amounts of content quickly and efficiently.\n",
      "2. **Image and Video Generation**: Generative AI can create realistic images and videos that are indistinguishable from those created by humans. This technology has applications in fields such as advertising, product design, and film production.\n",
      "3. **Chatbots and Virtual Assistants**: Generative AI-powered chatbots can generate human-like responses to customer inquiries, providing a more personalized experience for customers.\n",
      "4. **Predictive Maintenance**: Generative AI can analyze sensor data from machines and predict when maintenance is required, reducing downtime and increasing efficiency.\n",
      "5. **Marketing Automation**: Generative AI can help automate marketing campaigns by generating personalized emails, social media posts, and ad copy that resonate with specific audiences.\n",
      "6. **Product Design and Development**: Generative AI can aid in product design by generating 3D models, prototypes, and even entire product lines.\n",
      "7. **Data Annotation**: Generative AI can generate annotated data for machine learning models, reducing the need for manual annotation and increasing the efficiency of model training.\n",
      "8. **Financial Modeling**: Generative AI can help financial institutions generate predictive models that forecast market trends, identify potential risks, and optimize investment strategies.\n",
      "9. **Customer Service**: Generative AI-powered virtual assistants can provide 24/7 customer support, answering common questions and routing complex issues to human representatives.\n",
      "10. **Research and Development**: Generative AI can aid researchers by generating hypotheses, predicting outcomes, and even suggesting new experiments or research directions.\n",
      "\n",
      "Some notable examples of businesses that are using Generative AI include:\n",
      "\n",
      "* **Google's DeepMind**: Developing generative models for various applications such as image and speech recognition.\n",
      "* **Microsoft's Azure Machine Learning**: Offering a range of generative AI tools for developers to build intelligent systems.\n",
      "* **Amazon's SageMaker**: Providing a cloud-based platform for building, training, and deploying machine learning models, including those using Generative AI.\n",
      "* **IBM Watson**: Developing AI-powered solutions that use Generative AI for applications such as customer service, predictive maintenance, and more.\n",
      "\n",
      "These are just a few examples of the many businesses that are leveraging Generative AI to drive innovation and growth.\n"
     ]
    }
   ],
   "source": [
    "import ollama\n",
    "\n",
    "response = ollama.chat(model=MODEL, messages=messages)\n",
    "print(response['message']['content'])"
   ]
  },
  {
   "cell_type": "markdown",
   "id": "a4704e10-f5fb-4c15-a935-f046c06fb13d",
   "metadata": {},
   "source": [
    "## Alternative approach - using OpenAI python library to connect to Ollama"
   ]
  },
  {
   "cell_type": "code",
   "execution_count": null,
   "id": "23057e00-b6fc-4678-93a9-6b31cb704bff",
   "metadata": {},
   "outputs": [],
   "source": [
    "# There's actually an alternative approach that some people might prefer\n",
    "# You can use the OpenAI client python library to call Ollama:\n",
    "\n",
    "from openai import OpenAI\n",
    "ollama_via_openai = OpenAI(base_url='http://localhost:11434/v1', api_key='ollama')\n",
    "\n",
    "response = ollama_via_openai.chat.completions.create(\n",
    "    model=MODEL,\n",
    "    messages=messages\n",
    ")\n",
    "\n",
    "print(response.choices[0].message.content)"
   ]
  },
  {
   "cell_type": "markdown",
   "id": "1622d9bb-5c68-4d4e-9ca4-b492c751f898",
   "metadata": {},
   "source": [
    "# NOW the exercise for you\n",
    "\n",
    "Take the code from day1 and incorporate it here, to build a website summarizer that uses Llama 3.2 running locally instead of OpenAI; use either of the above approaches."
   ]
  },
  {
   "cell_type": "code",
   "execution_count": 14,
   "id": "2eeb01bd-645b-400f-a617-ce60072af7b4",
   "metadata": {},
   "outputs": [],
   "source": [
    "# A class to represent a Webpage\n",
    "\n",
    "class Website:\n",
    "    \"\"\"\n",
    "    A utility class to represent a Website that we have scraped\n",
    "    \"\"\"\n",
    "    url: str\n",
    "    title: str\n",
    "    text: str\n",
    "\n",
    "    def __init__(self, url):\n",
    "        \"\"\"\n",
    "        Create this Website object from the given url using the BeautifulSoup library\n",
    "        \"\"\"\n",
    "        self.url = url\n",
    "        response = requests.get(url)\n",
    "        soup = BeautifulSoup(response.content, 'html.parser')\n",
    "        self.title = soup.title.string if soup.title else \"No title found\"\n",
    "        for irrelevant in soup.body([\"script\", \"style\", \"img\", \"input\"]):\n",
    "            irrelevant.decompose()\n",
    "        self.text = soup.body.get_text(separator=\"\\n\", strip=True)"
   ]
  },
  {
   "cell_type": "code",
   "execution_count": 10,
   "id": "402d5686-4e76-4110-b65a-b3906c35c0a4",
   "metadata": {},
   "outputs": [],
   "source": [
    "# Define our system prompt - you can experiment with this later, changing the last sentence to 'Respond in markdown in Spanish.\"\n",
    "\n",
    "system_prompt = \"You are an assistant that analyzes the contents of a website \\\n",
    "and provides a short summary, ignoring text that might be navigation related. \\\n",
    "Respond in markdown.\""
   ]
  },
  {
   "cell_type": "code",
   "execution_count": 20,
   "id": "fb201422-dfd9-4899-8f84-ad5a6d78a85d",
   "metadata": {},
   "outputs": [],
   "source": [
    "# A function that writes a User Prompt that asks for summaries of websites:\n",
    "\n",
    "def user_prompt_for(website):\n",
    "    user_prompt = f\"You are looking at a website titled {website.title}\"\n",
    "    user_prompt += \"The contents of this website is as follows; \\\n",
    "please provide a short summary of this website in markdown. \\\n",
    "If it includes news or announcements, then summarize these too.\\n\\n\"\n",
    "    user_prompt += website.text\n",
    "    return user_prompt"
   ]
  },
  {
   "cell_type": "code",
   "execution_count": 21,
   "id": "36389303-01b4-4680-b1e6-ad2e4f1233c5",
   "metadata": {},
   "outputs": [],
   "source": [
    "# See how this function creates exactly the format above\n",
    "\n",
    "def messages_for(website):\n",
    "    return [\n",
    "        {\"role\": \"system\", \"content\": system_prompt},\n",
    "        {\"role\": \"user\", \"content\": user_prompt_for(website)}\n",
    "    ]"
   ]
  },
  {
   "cell_type": "code",
   "execution_count": 24,
   "id": "fec8dc05-4c1c-401b-9823-60418f6b5448",
   "metadata": {},
   "outputs": [],
   "source": [
    "# And now: call the OpenAI API. You will get very familiar with this!\n",
    "\n",
    "def summarize(url):\n",
    "    website = Website(url)\n",
    "    response = ollama.chat(model=MODEL, messages=messages_for(website))\n",
    "    return response['message']['content']"
   ]
  },
  {
   "cell_type": "code",
   "execution_count": 25,
   "id": "648063cb-2721-4fe0-8670-1319adfdab90",
   "metadata": {},
   "outputs": [
    {
     "data": {
      "text/plain": [
       "\"# Website Summary\\nThe website appears to be a personal blog maintained by Edward Donner, a co-founder and CTO of Nebula.io. The site's main content is about artificial intelligence (AI) and large language models (LLMs).\\n\\n## News and Announcements\\n### Latest Posts:\\n* **Mastering AI and LLM Engineering – Resources** (published November 13, 2024): A resource post sharing materials for learning AI and LLM engineering.\\n* **From Software Engineer to AI Data Scientist – resources** (published October 16, 2024): A resource post sharing materials for transitioning from a software engineer to an AI data scientist.\\n* **Outsmart LLM Arena – a battle of diplomacy and deviousness** (published June 26, 2024): An article introducing the Outsmart LLM Arena, where LLMs compete in a battle of diplomacy and deviousness.\\n* **Choosing the Right LLM: Toolkit and Resources** (published August 6, 2024): A resource post sharing tools and resources for choosing the right LLM.\\n\\n### No recent news announcements found.\""
      ]
     },
     "execution_count": 25,
     "metadata": {},
     "output_type": "execute_result"
    }
   ],
   "source": [
    "summarize(\"https://edwarddonner.com\")"
   ]
  },
  {
   "cell_type": "code",
   "execution_count": 26,
   "id": "6003d614-c16f-47a8-936b-42976d27a486",
   "metadata": {},
   "outputs": [],
   "source": [
    "# A function to display this nicely in the Jupyter output, using markdown\n",
    "\n",
    "def display_summary(url):\n",
    "    summary = summarize(url)\n",
    "    display(Markdown(summary))"
   ]
  },
  {
   "cell_type": "code",
   "execution_count": 27,
   "id": "b27794e3-2e72-4cf4-a7e0-c48a396a2211",
   "metadata": {},
   "outputs": [
    {
     "data": {
      "text/markdown": [
       "İstanbul Nişantaşı Üniversitesi, bir Türkiye'deki prestijli ve tanınmış araştırma ve eğitim kuruluştur. Üniversite, öğrencilerinin çeşitli alanlarda akademik ve kültürel faaliyetlere katılımını desteklemek için 다양한 programlara sahiptir.\n",
       "\n",
       "Üniversitenin ana kampüsü Kağıthane'de yer almaktadır ve NeoTech Campus adıyla bilinen modern bir kampüs yapısı bulunmaktadır.\n",
       "\n",
       "İstediğiniz información için lütfen aşağıdaki linkleri kullanabilirsiniz:\n",
       "\n",
       "* https://www.niu.edu.tr/\n",
       "* https://www.niu.edu.tr/en\n",
       "* https://niu.mynet.com.tr/\n",
       "\n",
       "Bu web siteleri, üniversitenin resmi internet siteleri olup, öğrenciler ve interested individuals için birçok bilgi ve informatie sunmaktadır.\n",
       "\n",
       "Üniversite hakkında daha fazla bilgi almak için lütfen aşağıdaki linkleri kullanabilirsiniz:\n",
       "\n",
       "* https://www.niu.edu.tr/en/About-NIU\n",
       "* https://www.niu.edu.tr/tr/Hakikat-Hakkımsızlık-ve-Özgürlük-İçin\n",
       "* https://www.niu.edu.tr/tr/Universitemiz-Sözlük\n",
       "\n",
       "Bu web siteleri, üniversite hakkında daha fazla bilgi sunmaktadır ve öğrenciler ve interested individuals için birçok bilgi ve informatie sağlar."
      ],
      "text/plain": [
       "<IPython.core.display.Markdown object>"
      ]
     },
     "metadata": {},
     "output_type": "display_data"
    }
   ],
   "source": [
    "display_summary(\"https://www.nisantasi.edu.tr/\")"
   ]
  },
  {
   "cell_type": "code",
   "execution_count": null,
   "id": "532a7ee7-6562-4fd5-8b36-d452b78aefca",
   "metadata": {},
   "outputs": [],
   "source": []
  }
 ],
 "metadata": {
  "kernelspec": {
   "display_name": "Python 3 (ipykernel)",
   "language": "python",
   "name": "python3"
  },
  "language_info": {
   "codemirror_mode": {
    "name": "ipython",
    "version": 3
   },
   "file_extension": ".py",
   "mimetype": "text/x-python",
   "name": "python",
   "nbconvert_exporter": "python",
   "pygments_lexer": "ipython3",
   "version": "3.11.4"
  }
 },
 "nbformat": 4,
 "nbformat_minor": 5
}
