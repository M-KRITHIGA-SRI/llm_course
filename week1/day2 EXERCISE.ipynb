{
 "cells": [
  {
   "cell_type": "markdown",
   "id": "d15d8294-3328-4e07-ad16-8a03e9bbfdb9",
   "metadata": {},
   "source": [
    "# Welcome to your first assignment!\n",
    "\n",
    "Instructions are below. Please give this a try, and look in the solutions folder if you get stuck (or feel free to ask me!)"
   ]
  },
  {
   "cell_type": "markdown",
   "id": "ada885d9-4d42-4d9b-97f0-74fbbbfe93a9",
   "metadata": {},
   "source": [
    "<table style=\"margin: 0; text-align: left;\">\n",
    "    <tr>\n",
    "        <td style=\"width: 150px; height: 150px; vertical-align: middle;\">\n",
    "            <img src=\"../resources.jpg\" width=\"150\" height=\"150\" style=\"display: block;\" />\n",
    "        </td>\n",
    "        <td>\n",
    "            <h2 style=\"color:#f71;\">Just before we get to the assignment --</h2>\n",
    "            <span style=\"color:#f71;\">I thought I'd take a second to point you at this page of useful resources for the course. This includes links to all the slides.<br/>\n",
    "            <a href=\"https://edwarddonner.com/2024/11/13/llm-engineering-resources/\">https://edwarddonner.com/2024/11/13/llm-engineering-resources/</a><br/>\n",
    "            Please keep this bookmarked, and I'll continue to add more useful links there over time.\n",
    "            </span>\n",
    "        </td>\n",
    "    </tr>\n",
    "</table>"
   ]
  },
  {
   "cell_type": "markdown",
   "id": "6e9fa1fc-eac5-4d1d-9be4-541b3f2b3458",
   "metadata": {},
   "source": [
    "# HOMEWORK EXERCISE ASSIGNMENT\n",
    "\n",
    "Upgrade the day 1 project to summarize a webpage to use an Open Source model running locally via Ollama rather than OpenAI\n",
    "\n",
    "You'll be able to use this technique for all subsequent projects if you'd prefer not to use paid APIs.\n",
    "\n",
    "**Benefits:**\n",
    "1. No API charges - open-source\n",
    "2. Data doesn't leave your box\n",
    "\n",
    "**Disadvantages:**\n",
    "1. Significantly less power than Frontier Model\n",
    "\n",
    "## Recap on installation of Ollama\n",
    "\n",
    "Simply visit [ollama.com](https://ollama.com) and install!\n",
    "\n",
    "Once complete, the ollama server should already be running locally.  \n",
    "If you visit:  \n",
    "[http://localhost:11434/](http://localhost:11434/)\n",
    "\n",
    "You should see the message `Ollama is running`.  \n",
    "\n",
    "If not, bring up a new Terminal (Mac) or Powershell (Windows) and enter `ollama serve`  \n",
    "And in another Terminal (Mac) or Powershell (Windows), enter `ollama pull llama3.2`  \n",
    "Then try [http://localhost:11434/](http://localhost:11434/) again.\n",
    "\n",
    "If Ollama is slow on your machine, try using `llama3.2:1b` as an alternative. Run `ollama pull llama3.2:1b` from a Terminal or Powershell, and change the code below from `MODEL = \"llama3.2\"` to `MODEL = \"llama3.2:1b\"`"
   ]
  },
  {
   "cell_type": "code",
   "execution_count": null,
   "id": "4e2a9393-7767-488e-a8bf-27c12dca35bd",
   "metadata": {},
   "outputs": [],
   "source": [
    "# imports\n",
    "\n",
    "import requests\n",
    "from bs4 import BeautifulSoup\n",
    "from IPython.display import Markdown, display"
   ]
  },
  {
   "cell_type": "code",
   "execution_count": null,
   "id": "29ddd15d-a3c5-4f4e-a678-873f56162724",
   "metadata": {},
   "outputs": [],
   "source": [
    "# Constants\n",
    "\n",
    "OLLAMA_API = \"http://localhost:11434/api/chat\"\n",
    "#OLLAMA_API = \"http://192.168.0.207:11434/api/chat\"\n",
    "HEADERS = {\"Content-Type\": \"application/json\"}\n",
    "MODEL = \"llama3.2\""
   ]
  },
  {
   "cell_type": "code",
   "execution_count": null,
   "id": "dac0a679-599c-441f-9bf2-ddc73d35b940",
   "metadata": {},
   "outputs": [],
   "source": [
    "# Create a messages list using the same format that we used for OpenAI\n",
    "\n",
    "messages = [\n",
    "    {\"role\": \"user\", \"content\": \"Describe some of the business applications of Generative AI\"}\n",
    "]"
   ]
  },
  {
   "cell_type": "code",
   "execution_count": null,
   "id": "7bb9c624-14f0-4945-a719-8ddb64f66f47",
   "metadata": {},
   "outputs": [],
   "source": [
    "payload = {\n",
    "        \"model\": MODEL,\n",
    "        \"messages\": messages,\n",
    "        \"stream\": False\n",
    "    }"
   ]
  },
  {
   "cell_type": "code",
   "execution_count": null,
   "id": "42b9f644-522d-4e05-a691-56e7658c0ea9",
   "metadata": {},
   "outputs": [],
   "source": [
    "response = requests.post(OLLAMA_API, json=payload, headers=HEADERS)\n",
    "print(response.json()['message']['content'])"
   ]
  },
  {
   "cell_type": "markdown",
   "id": "6a021f13-d6a1-4b96-8e18-4eae49d876fe",
   "metadata": {},
   "source": [
    "# Introducing the ollama package\n",
    "\n",
    "And now we'll do the same thing, but using the elegant ollama python package instead of a direct HTTP call.\n",
    "\n",
    "Under the hood, it's making the same call as above to the ollama server running at localhost:11434"
   ]
  },
  {
   "cell_type": "code",
   "execution_count": null,
   "id": "7745b9c4-57dc-4867-9180-61fa5db55eb8",
   "metadata": {},
   "outputs": [],
   "source": [
    "import ollama\n",
    "\n",
    "response = ollama.chat(model=MODEL, messages=messages)\n",
    "print(response['message']['content'])"
   ]
  },
  {
   "cell_type": "markdown",
   "id": "a4704e10-f5fb-4c15-a935-f046c06fb13d",
   "metadata": {},
   "source": [
    "## Alternative approach - using OpenAI python library to connect to Ollama"
   ]
  },
  {
   "cell_type": "code",
   "execution_count": null,
   "id": "23057e00-b6fc-4678-93a9-6b31cb704bff",
   "metadata": {},
   "outputs": [],
   "source": [
    "# There's actually an alternative approach that some people might prefer\n",
    "# You can use the OpenAI client python library to call Ollama:\n",
    "\n",
    "from openai import OpenAI\n",
    "ollama_via_openai = OpenAI(base_url='http://localhost:11434/v1', api_key='ollama')\n",
    "\n",
    "response = ollama_via_openai.chat.completions.create(\n",
    "    model=MODEL,\n",
    "    messages=messages\n",
    ")\n",
    "\n",
    "print(response.choices[0].message.content)"
   ]
  },
  {
   "cell_type": "markdown",
   "id": "1622d9bb-5c68-4d4e-9ca4-b492c751f898",
   "metadata": {},
   "source": [
    "# NOW the exercise for you\n",
    "\n",
    "Take the code from day1 and incorporate it here, to build a website summarizer that uses Llama 3.2 running locally instead of OpenAI; use either of the above approaches."
   ]
  },
  {
   "cell_type": "code",
   "execution_count": 24,
   "id": "402d5686-4e76-4110-b65a-b3906c35c0a4",
   "metadata": {},
   "outputs": [],
   "source": [
    "# imports\n",
    "import os\n",
    "import requests\n",
    "from bs4 import BeautifulSoup\n",
    "from IPython.display import Markdown, display\n",
    "from openai import OpenAI\n",
    "from requests.exceptions import RequestException\n",
    "# If you get an error running this cell, then please head over to the troubleshooting notebook!"
   ]
  },
  {
   "cell_type": "code",
   "execution_count": 25,
   "id": "9cfeb2c1-a2e1-47af-bd62-253b703d8130",
   "metadata": {},
   "outputs": [],
   "source": [
    "# Constants\n",
    "\n",
    "OLLAMA_API = \"http://192.168.0.207:11434/api/chat\"\n",
    "HEADERS = {\"Content-Type\": \"application/json\"}\n",
    "MODEL = \"llama3.2\"\n",
    "ollama_via_openai = OpenAI(base_url='http://192.168.0.207:11434/v1', api_key='ollama')"
   ]
  },
  {
   "cell_type": "code",
   "execution_count": 26,
   "id": "76991489-946f-492c-9f62-9f73a9e53b43",
   "metadata": {},
   "outputs": [],
   "source": [
    "# A class to represent a Webpage\n",
    "# If you're not familiar with Classes, check out the \"Intermediate Python\" notebook\n",
    "\n",
    "# Some websites need you to use proper headers when fetching them:\n",
    "\n",
    "class Website:\n",
    "    def __init__(self, url):\n",
    "        \"\"\"\n",
    "        Create this Website object from the given url using the BeautifulSoup library\n",
    "        \"\"\"\n",
    "        self.url = url\n",
    "        self.title = \"No title found\"\n",
    "        self.text = \"No content found\"\n",
    "        \n",
    "        headers = {\n",
    "            'User-Agent': 'Mozilla/5.0 (Windows NT 10.0; Win64; x64) AppleWebKit/537.36 (KHTML, like Gecko) Chrome/91.0.4472.124 Safari/537.36'\n",
    "        }\n",
    "        \n",
    "        try:\n",
    "            response = requests.get(url, headers=headers, timeout=10)\n",
    "            response.raise_for_status()  # Raises an HTTPError for bad responses\n",
    "            \n",
    "            soup = BeautifulSoup(response.content, 'html.parser')\n",
    "            self.title = soup.title.string if soup.title else \"No title found\"\n",
    "            \n",
    "            # Get text content\n",
    "            self.text = ' '.join([p.get_text() for p in soup.find_all('p')])\n",
    "            if not self.text:\n",
    "                self.text = \"No content found\"\n",
    "\n",
    "            for irrelevant in soup.body([\"script\", \"style\", \"img\", \"input\"]):\n",
    "                irrelevant.decompose()\n",
    "            self.text = soup.body.get_text(separator=\"\\n\", strip=True)\n",
    "                \n",
    "        except requests.exceptions.SSLError:\n",
    "            raise ConnectionError(f\"SSL Certificate verification failed for {url}\")\n",
    "        except requests.exceptions.ConnectionError:\n",
    "            raise ConnectionError(f\"Failed to connect to {url}. Please check if the URL is correct and accessible.\")\n",
    "        except requests.exceptions.Timeout:\n",
    "            raise ConnectionError(f\"Connection timed out while trying to access {url}\")\n",
    "        except requests.exceptions.RequestException as e:\n",
    "            raise ConnectionError(f\"An error occurred while fetching the website: {str(e)}\")\n"
   ]
  },
  {
   "cell_type": "code",
   "execution_count": null,
   "id": "61d58b43-5ec5-4580-b963-8336aee8681e",
   "metadata": {},
   "outputs": [],
   "source": [
    "# A class to represent a Webpage\n",
    "# If you're not familiar with Classes, check out the \"Intermediate Python\" notebook\n",
    "\n",
    "# Some websites need you to use proper headers when fetching them:\n",
    "headers = {\n",
    " \"User-Agent\": \"Mozilla/5.0 (Windows NT 10.0; Win64; x64) AppleWebKit/537.36 (KHTML, like Gecko) Chrome/117.0.0.0 Safari/537.36\"\n",
    "}\n",
    "\n",
    "class Website:\n",
    "\n",
    "    def __init__(self, url):\n",
    "        \"\"\"\n",
    "        Create this Website object from the given url using the BeautifulSoup library\n",
    "        \"\"\"\n",
    "        self.url = url\n",
    "        response = requests.get(url, headers=headers)\n",
    "        soup = BeautifulSoup(response.content, 'html.parser')\n",
    "        self.title = soup.title.string if soup.title else \"No title found\"\n",
    "        for irrelevant in soup.body([\"script\", \"style\", \"img\", \"input\"]):\n",
    "            irrelevant.decompose()\n",
    "        self.text = soup.body.get_text(separator=\"\\n\", strip=True)"
   ]
  },
  {
   "cell_type": "code",
   "execution_count": 27,
   "id": "68f20224-0ede-47c4-8ed4-7d5752374232",
   "metadata": {},
   "outputs": [],
   "source": [
    "system_prompt = \"You are an assistant that analyzes the contents of a website \\\n",
    "and provides a short summary, ignoring text that might be navigation related. \\\n",
    "Respond in markdown.\""
   ]
  },
  {
   "cell_type": "code",
   "execution_count": 28,
   "id": "d5fe4e6a-24f4-483a-ae24-1e7ed1bf2a6f",
   "metadata": {},
   "outputs": [],
   "source": [
    "# A function that writes a User Prompt that asks for summaries of websites:\n",
    "\n",
    "def user_prompt_for(website):\n",
    "    user_prompt = f\"You are looking at a website titled {website.title}\"\n",
    "    user_prompt += \"\\nThe contents of this website is as follows; \\\n",
    "please provide a short summary of this website in markdown. \\\n",
    "If it includes news or announcements, then summarise these too. Ignoring text that might be navigation related. \\n --- \\n\"\n",
    "    user_prompt += website.text\n",
    "    return user_prompt"
   ]
  },
  {
   "cell_type": "code",
   "execution_count": null,
   "id": "e9c9876a-45ff-43ef-8315-b10acfd4b872",
   "metadata": {},
   "outputs": [],
   "source": [
    "ms=Website(\"https://technicallysimple.me\")\n",
    "print(user_prompt_for(ms))"
   ]
  },
  {
   "cell_type": "code",
   "execution_count": 29,
   "id": "f2369302-7b8c-465e-8606-b9cc0a51cb78",
   "metadata": {},
   "outputs": [],
   "source": [
    "# Create a messages list using the same format that we used for OpenAI\n",
    "def messages_for(website):\n",
    "    return [\n",
    "        {\"role\": \"system\", \"content\": system_prompt},\n",
    "        {\"role\": \"user\", \"content\": user_prompt_for(website)}\n",
    "    ]"
   ]
  },
  {
   "cell_type": "code",
   "execution_count": null,
   "id": "a73d69c1-87fb-4e82-94f1-50dd76fb5e60",
   "metadata": {},
   "outputs": [],
   "source": [
    "me=Website(\"https://technicallysimple.me\")\n",
    "print(messages_for(me))"
   ]
  },
  {
   "cell_type": "code",
   "execution_count": 30,
   "id": "16ae9026-1684-4cc3-9859-f2cd7d22fb52",
   "metadata": {},
   "outputs": [],
   "source": [
    "def summarise(url):\n",
    "    try:\n",
    "        aWebsite = Website(url)\n",
    "        response = ollama_via_openai.chat.completions.create(\n",
    "            model=MODEL,\n",
    "            messages=messages_for(aWebsite)\n",
    "        )\n",
    "        return response.choices[0].message.content\n",
    "    except ConnectionError as e:\n",
    "        return f\"Error: {str(e)}\"\n",
    "    except Exception as e:\n",
    "        return f\"An unexpected error occurred: {str(e)}\""
   ]
  },
  {
   "cell_type": "code",
   "execution_count": 31,
   "id": "bcbd5962-3a75-4e94-a07e-463e874c9131",
   "metadata": {},
   "outputs": [],
   "source": [
    "import ollama\n",
    "\n",
    "def summarise(url):\n",
    "    try:\n",
    "        aWebsite = Website(url)\n",
    "        response = ollama.chat(model=MODEL, messages=messages_for(aWebsite))\n",
    "        return response['message']['content']\n",
    "    except ConnectionError as e:\n",
    "        return f\"Error: {str(e)}\"\n",
    "    except Exception as e:\n",
    "        return f\"An unexpected error occurred: {str(e)}\"\n",
    "\n",
    "#print(response['message']['content'])"
   ]
  },
  {
   "cell_type": "code",
   "execution_count": 32,
   "id": "4e0f7264-9622-4751-83b9-a31c3c0c4589",
   "metadata": {},
   "outputs": [],
   "source": [
    "def display_summary(url):\n",
    "    try:\n",
    "        summary = summarise(url)\n",
    "        display(Markdown(summary))\n",
    "    except Exception as e:\n",
    "        print(f\"Failed to display summary: {str(e)}\")"
   ]
  },
  {
   "cell_type": "code",
   "execution_count": null,
   "id": "40aba8f2-577f-4003-bf46-377cc815f243",
   "metadata": {},
   "outputs": [],
   "source": [
    "address=input(\"Enter URL: \")\n",
    "summarise(address)"
   ]
  },
  {
   "cell_type": "code",
   "execution_count": 35,
   "id": "d8659653-d3a1-4cc1-bbd8-a003fb22041f",
   "metadata": {},
   "outputs": [
    {
     "name": "stdin",
     "output_type": "stream",
     "text": [
      "Enter URL:  https://aquasec.com\n"
     ]
    },
    {
     "data": {
      "text/markdown": [
       "**Aqua Cloud Native Security**\n",
       "\n",
       "Aqua is a pioneer in securing containerized cloud native applications from development to production. Their full lifecycle solution prevents attacks by enforcing pre-deployment hygiene and mitigating attacks in real time in production, reducing mean time to repair and overall business risk.\n",
       "\n",
       "**Recent News**\n",
       "\n",
       "* **300,000+ Prometheus Servers and Exporters Exposed to DoS Attacks**: Matrix Unleashes A New Widespread DDoS Campaign\n",
       "* **Aqua Nautilus research team is uniquely focused on the cloud native threat landscape**, with a sole mission to analyze threats targeting cloud native environments and protect customers from those threats.\n",
       "\n",
       "**Key Features**\n",
       "\n",
       "* **Cloud Native Application Protection Platform (CNAPP)**: Integrates security from Code to Cloud, combining agent and agentless technology into a single solution.\n",
       "* **Automate DevSecOps**: Modernize Security with CNDR Cloud Native Detection & Response.\n",
       "* **Compliance and Auditing**: Serverless Containers & Functions, Hybrid and Multi Cloud, Federal Cloud Native Security.\n",
       "\n",
       "**Use Cases**\n",
       "\n",
       "* **Automate DevSecOps**\n",
       "* **Modernize Security**\n",
       "* **CNDR Cloud Native Detection & Response**\n",
       "* **Compliance and Auditing**\n",
       "* **Serverless Containers & Functions**\n",
       "* **Hybrid and Multi Cloud**\n",
       "* **Federal Cloud Native Security**\n",
       "\n",
       "**Partners**\n",
       "\n",
       "* **Technology Partners**: Partner With Us\n",
       "* **Resources**: Aqua Security Research, The Cloud Native Wiki, Kubernetes 101\n",
       "\n",
       "**About Us**\n",
       "\n",
       "Aqua is a leading provider of cloud native security solutions, founded in 2015. They protect over 500 of the world's largest enterprises with their enterprise scale solution that doesn’t slow development pipelines.\n",
       "\n",
       "**Contact Us**\n",
       "\n",
       "* **Aqua Blog**: Learn more about Aqua Security\n",
       "* **Get in Touch**: Professional services and support.\n",
       "* **Careers**: Join the Aqua team"
      ],
      "text/plain": [
       "<IPython.core.display.Markdown object>"
      ]
     },
     "metadata": {},
     "output_type": "display_data"
    }
   ],
   "source": [
    "address=input(\"Enter URL: \")\n",
    "display_summary(address)"
   ]
  },
  {
   "cell_type": "code",
   "execution_count": null,
   "id": "aff32906-2401-4d92-b377-c91ee572e208",
   "metadata": {},
   "outputs": [],
   "source": []
  }
 ],
 "metadata": {
  "kernelspec": {
   "display_name": "Python 3 (ipykernel)",
   "language": "python",
   "name": "python3"
  },
  "language_info": {
   "codemirror_mode": {
    "name": "ipython",
    "version": 3
   },
   "file_extension": ".py",
   "mimetype": "text/x-python",
   "name": "python",
   "nbconvert_exporter": "python",
   "pygments_lexer": "ipython3",
   "version": "3.11.11"
  }
 },
 "nbformat": 4,
 "nbformat_minor": 5
}
