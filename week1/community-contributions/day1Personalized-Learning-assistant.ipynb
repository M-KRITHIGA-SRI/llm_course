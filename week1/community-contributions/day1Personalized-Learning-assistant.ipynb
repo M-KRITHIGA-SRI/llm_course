{
 "cells": [
  {
   "cell_type": "code",
   "execution_count": null,
   "id": "ca034cc9-6463-4324-a467-063d1c9fe83a",
   "metadata": {},
   "outputs": [],
   "source": [
    "# Step 1: Create your prompts\n",
    "import os\n",
    "import requests\n",
    "from dotenv import load_dotenv\n",
    "\n",
    "from IPython.display import Markdown, display\n",
    "from openai import OpenAI\n",
    "\n",
    "load_dotenv(override=True)\n",
    "api_key = os.getenv('OPENAI_API_KEY')\n",
    "\n",
    "\n",
    "openai = OpenAI(api_key = api_key)\n",
    "\n",
    "system_prompt = \"\"\"\n",
    "You are a Personalized Learning Coach. \n",
    "Given the user's learning goals, current skill level, and preferred learning style, \n",
    "suggest a personalized study plan with actionable steps and recommended resources.\n",
    "\"\"\"\n",
    "\n",
    "\n",
    "\n",
    "messages = [\n",
    "    {\"role\": \"system\", \"content\": system_prompt},\n",
    "    \n",
    "]\n",
    "\n",
    "while True:\n",
    "    user_prompt = input(\"You: \")\n",
    "    if user_prompt.lower() in [\"quit\", \"exit\"]:\n",
    "        break\n",
    "\n",
    "    messages.append({\"role\": \"user\", \"content\": user_prompt})\n",
    "    \n",
    "    \n",
    "    \n",
    "    #get response\n",
    "    response = openai.chat.completions.create(\n",
    "        model = \"gpt-4o-mini\",\n",
    "        messages = messages\n",
    "    )\n",
    "\n",
    "    reply = response.choices[0].message.content\n",
    "    messages.append({\"role\": \"system\", \"content\": reply})\n",
    "     # Display nicely in Jupyter\n",
    "    display(Markdown(f\"**Learning Coach:** {reply}\"))"
   ]
  }
 ],
 "metadata": {
  "kernelspec": {
   "display_name": "Python 3 (ipykernel)",
   "language": "python",
   "name": "python3"
  },
  "language_info": {
   "codemirror_mode": {
    "name": "ipython",
    "version": 3
   },
   "file_extension": ".py",
   "mimetype": "text/x-python",
   "name": "python",
   "nbconvert_exporter": "python",
   "pygments_lexer": "ipython3",
   "version": "3.11.13"
  }
 },
 "nbformat": 4,
 "nbformat_minor": 5
}
