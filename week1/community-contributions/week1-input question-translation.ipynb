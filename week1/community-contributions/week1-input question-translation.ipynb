{
 "cells": [
  {
   "cell_type": "markdown",
   "id": "fe12c203-e6a6-452c-a655-afb8a03a4ff5",
   "metadata": {},
   "source": [
    "# End of week 1 exercise\n",
    "\n",
    "To demonstrate your familiarity with OpenAI API, and also Ollama, build a tool that takes a technical question,  \n",
    "and responds with an explanation. This is a tool that you will be able to use yourself during the course!"
   ]
  },
  {
   "cell_type": "code",
   "execution_count": 1,
   "id": "c1070317-3ed9-4659-abe3-828943230e03",
   "metadata": {},
   "outputs": [],
   "source": [
    "# imports\n",
    "# If these fail, please check you're running from an 'activated' environment with (llms) in the command prompt\n",
    "\n",
    "import os\n",
    "from dotenv import load_dotenv\n",
    "from IPython.display import Markdown, display, update_display\n",
    "from openai import OpenAI"
   ]
  },
  {
   "cell_type": "code",
   "execution_count": 2,
   "id": "4a456906-915a-4bfd-bb9d-57e505c5093f",
   "metadata": {},
   "outputs": [],
   "source": [
    "# constants\n",
    "\n",
    "MODEL_GPT = 'gpt-4o-mini'"
   ]
  },
  {
   "cell_type": "code",
   "execution_count": 3,
   "id": "a8d7923c-5f28-4c30-8556-342d7c8497c1",
   "metadata": {},
   "outputs": [
    {
     "name": "stdout",
     "output_type": "stream",
     "text": [
      "API key looks good so far\n"
     ]
    }
   ],
   "source": [
    "# set up environment\n",
    "# Initialize and constants\n",
    "\n",
    "load_dotenv(override=True)\n",
    "api_key = os.getenv('OPENAI_API_KEY')\n",
    "\n",
    "if api_key and api_key.startswith('sk-proj-') and len(api_key)>10:\n",
    "    print(\"API key looks good so far\")\n",
    "else:\n",
    "    print(\"There might be a problem with your API key? Please visit the troubleshooting notebook!\")\n",
    "    \n",
    "openai = OpenAI()"
   ]
  },
  {
   "cell_type": "code",
   "execution_count": 4,
   "id": "3b689e51-231b-47c7-8ddc-d12f45906526",
   "metadata": {},
   "outputs": [],
   "source": [
    "# system prompts\n",
    "\n",
    "system_prompt = \"You are a helpful technical tutor who answers questions about python code, software engineering, data science and LLMs\"\n"
   ]
  },
  {
   "cell_type": "code",
   "execution_count": 5,
   "id": "4cfa2504-1da6-4e76-a08e-64a523e00cf5",
   "metadata": {},
   "outputs": [
    {
     "name": "stdin",
     "output_type": "stream",
     "text": [
      "Enter your question:  why use OpenAI API to create agent when can use ChatGPT, please be concise, and translate to chinese.\n"
     ]
    },
    {
     "data": {
      "text/markdown": [
       "### Explanation in English:\n",
       "\n",
       "Using the OpenAI API to create an agent has several advantages compared to using ChatGPT directly:\n",
       "\n",
       "1. **Customization**: The OpenAI API allows for greater customization of the model's behavior and response generation. Developers can fine-tune settings to better align with their specific needs.\n",
       "\n",
       "2. **Integration**: The API can be integrated into various applications, making it suitable for different environments (web, mobile, backend services). This allows businesses to embed AI functionalities directly into their products.\n",
       "\n",
       "3. **Scalability**: The API can handle numerous requests simultaneously, making it suitable for large-scale applications. This is particularly important for businesses requiring high availability and responsiveness.\n",
       "\n",
       "4. **Access to Models**: The API provides access to various models, allowing developers to choose the most appropriate one for their use case. This flexibility is not available with the standard ChatGPT interface.\n",
       "\n",
       "5. **Comprehensive Features**: The API might offer additional capabilities, such as handling fine control over the prompt, output formatting, and other advanced features that are more limited in the ChatGPT interface.\n",
       "\n",
       "In summary, using the OpenAI API offers greater flexibility, scalability, and customization, making it more suitable for developing sophisticated applications compared to using ChatGPT directly.\n",
       "\n",
       "---\n",
       "\n",
       "### Translation in Chinese:\n",
       "\n",
       "使用OpenAI API创建代理相较于直接使用ChatGPT有几个优点：\n",
       "\n",
       "1. **定制化**：OpenAI API允许对模型的行为和响应生成进行更大的定制。开发者可以调整设置，以更好地符合他们的特定需求。\n",
       "\n",
       "2. **集成**：API可以集成到各种应用中，适合不同的环境（如Web、移动、后端服务）。这使得企业能够将AI功能直接嵌入到他们的产品中。\n",
       "\n",
       "3. **可扩展性**：API能够同时处理大量请求，适合大规模应用。这对于需要高可用性和快速响应的企业尤其重要。\n",
       "\n",
       "4. **访问模型**：API提供对各种模型的访问，允许开发者选择最适合他们用例的模型。这种灵活性在标准的ChatGPT界面中是没有的。\n",
       "\n",
       "5. **全面的功能**：API可能提供附加功能，如对提示的细致控制、输出格式和其他高级功能，而这些在ChatGPT界面中较为有限。\n",
       "\n",
       "总之，使用OpenAI API提供了更大的灵活性、可扩展性和定制化，使其比直接使用ChatGPT更适合开发复杂应用。"
      ],
      "text/plain": [
       "<IPython.core.display.Markdown object>"
      ]
     },
     "metadata": {},
     "output_type": "display_data"
    }
   ],
   "source": [
    "# Get gpt-4o-mini to answer, w/o streaming\n",
    "def tutor():\n",
    "    response = openai.chat.completions.create(\n",
    "        model=MODEL_GPT,\n",
    "        messages=[\n",
    "            {\"role\": \"system\", \"content\": system_prompt},\n",
    "            {\"role\": \"user\", \"content\": \"Please give a detailed explanation to the following question: \" + input(\"Enter your question: \")}\n",
    "          ]\n",
    "    )\n",
    "    result = response.choices[0].message.content\n",
    "    display(Markdown(result))\n",
    "    \n",
    "tutor()\n"
   ]
  }
 ],
 "metadata": {
  "kernelspec": {
   "display_name": "Python 3 (ipykernel)",
   "language": "python",
   "name": "python3"
  },
  "language_info": {
   "codemirror_mode": {
    "name": "ipython",
    "version": 3
   },
   "file_extension": ".py",
   "mimetype": "text/x-python",
   "name": "python",
   "nbconvert_exporter": "python",
   "pygments_lexer": "ipython3",
   "version": "3.11.12"
  }
 },
 "nbformat": 4,
 "nbformat_minor": 5
}
