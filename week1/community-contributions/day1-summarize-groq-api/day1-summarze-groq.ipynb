{
 "cells": [
  {
   "cell_type": "markdown",
   "id": "a58d7928",
   "metadata": {},
   "source": [
    "## This is a community contribution to the week 1 folder\n",
    "\n",
    "### Day 1: Sumarize text using Groq API which is free to use"
   ]
  },
  {
   "cell_type": "code",
   "execution_count": 17,
   "id": "47fa915b",
   "metadata": {},
   "outputs": [],
   "source": [
    "import os\n",
    "import requests\n",
    "from dotenv import load_dotenv\n",
    "from bs4 import BeautifulSoup\n",
    "from IPython.display import Markdown, display\n",
    "from groq import Groq\n"
   ]
  },
  {
   "cell_type": "code",
   "execution_count": 18,
   "id": "51fc4481",
   "metadata": {},
   "outputs": [
    {
     "name": "stdout",
     "output_type": "stream",
     "text": [
      "API key found and looks good so far!\n"
     ]
    }
   ],
   "source": [
    "load_dotenv(override=True)\n",
    "api_key = os.getenv('GROQ_API_KEY')\n",
    "\n",
    "# Check the key\n",
    "\n",
    "if not api_key:\n",
    "    print(\"No API key was found - please head over to the troubleshooting notebook in this folder to identify & fix!\")\n",
    "else:\n",
    "    print(\"API key found and looks good so far!\")"
   ]
  },
  {
   "cell_type": "code",
   "execution_count": 20,
   "id": "02e0616f",
   "metadata": {},
   "outputs": [],
   "source": [
    "groq = Groq()"
   ]
  },
  {
   "cell_type": "code",
   "execution_count": 4,
   "id": "d532e8aa",
   "metadata": {},
   "outputs": [],
   "source": [
    "headers = {\n",
    " \"User-Agent\": \"Mozilla/5.0 (Windows NT 10.0; Win64; x64) AppleWebKit/537.36 (KHTML, like Gecko) Chrome/117.0.0.0 Safari/537.36\"\n",
    "}\n",
    "\n",
    "class Website:\n",
    "\n",
    "    def __init__(self, url):\n",
    "        \"\"\"\n",
    "        Create this Website object from the given url using the BeautifulSoup library\n",
    "        \"\"\"\n",
    "        self.url = url\n",
    "        response = requests.get(url, headers=headers)\n",
    "        soup = BeautifulSoup(response.content, 'html.parser')\n",
    "        self.title = soup.title.string if soup.title else \"No title found\"\n",
    "        for irrelevant in soup.body([\"script\", \"style\", \"img\", \"input\"]):\n",
    "            irrelevant.decompose()\n",
    "        self.text = soup.body.get_text(separator=\"\\n\", strip=True)"
   ]
  },
  {
   "cell_type": "code",
   "execution_count": 5,
   "id": "1ee8ea36",
   "metadata": {},
   "outputs": [],
   "source": [
    "def user_prompt_for(website):\n",
    "    user_prompt = f\"You are looking at a website titled {website.title}\"\n",
    "    user_prompt += \"\\nThe contents of this website is as follows; \\\n",
    "please provide a short summary of this website in markdown. \\\n",
    "If it includes news or announcements, then summarize these too.\\n\\n\"\n",
    "    user_prompt += website.text\n",
    "    return user_prompt"
   ]
  },
  {
   "cell_type": "code",
   "execution_count": 6,
   "id": "4d0ea627",
   "metadata": {},
   "outputs": [],
   "source": [
    "system_prompt = \"You are an assistant that analyzes the contents of a website \\\n",
    "and provides a short summary, ignoring text that might be navigation related. \\\n",
    "Respond in markdown.\""
   ]
  },
  {
   "cell_type": "code",
   "execution_count": 8,
   "id": "70cb23c5",
   "metadata": {},
   "outputs": [],
   "source": [
    "def messages_for(website):\n",
    "    return [\n",
    "        {\"role\": \"system\", \"content\": system_prompt},\n",
    "        {\"role\": \"user\", \"content\": user_prompt_for(website)}\n",
    "    ]"
   ]
  },
  {
   "cell_type": "code",
   "execution_count": 23,
   "id": "a652d3e8",
   "metadata": {},
   "outputs": [],
   "source": [
    "def summarize(url):\n",
    "    website = Website(url)\n",
    "    response = groq.chat.completions.create(\n",
    "        model = \"llama-3.3-70b-versatile\",\n",
    "        messages = messages_for(website)\n",
    "    )\n",
    "    return response.choices[0].message.content"
   ]
  },
  {
   "cell_type": "code",
   "execution_count": 24,
   "id": "197fac60",
   "metadata": {},
   "outputs": [
    {
     "data": {
      "text/plain": [
       "\"### Summary of CNN Website\\nThe CNN website features a wide range of news articles and stories from around the world. Some of the top stories include:\\n* Netanyahu asking the Red Cross to help hostages in Gaza, with families warning against an 'expanding war'\\n* A protest march across Sydney Harbour Bridge for Gaza aid, with tens of thousands advocating for peace and humanitarian aid\\n* A far-right Israeli minister sparking outrage after praying at Jerusalem's most sensitive holy site, breaching a decades-old agreement\\n* Afghanistan cracking down on girls and women's education, with the country remaining the only one in the world to prohibit girls and women from higher education\\n* Trump's rewriting of reality on jobs numbers, which could backfire and erode trust in the economy\\n\\n### World News\\n* Ukrainian drone attack sparks fire at oil depot in Russia's former Olympic city\\n* Russia and Ukraine conflict continues, with ongoing fighting and diplomatic efforts\\n* Middle East conflict, including the Israel-Hamas war, remains a major focus of international attention\\n\\n### Entertainment and Culture\\n* The song of the summer is a bummer, with many popular songs focusing on themes of sadness and loss\\n* Celebrities such as Pamela Anderson and Liam Neeson are in the news, with updates on their personal and professional lives\\n* The art world is featuring stories on European art collections and sales, including the sale of a $10M Birkin bag\\n\\n### Science and Technology\\n* Scientists have discovered that the modern potato evolved from a wild tomato fling 9 million years ago\\n* Thousands of mosquitoes are being dropped by drone over islands in Hawaii to combat disease\\n* The 'blue dragon' is back from the brink, with conservation efforts succeeding in protecting the species\\n\\n### Business and Economy\\n* Trump's tariffs are sending African countries into China's hands, with trade relationships shifting in response to economic pressures\\n* Shein's and Temu's prices will get hit even harder by the new de minimis rule, affecting the fashion industry\\n* Addressing your feelings can help your finances, experts say, with a focus on mental health and financial well-being.\""
      ]
     },
     "execution_count": 24,
     "metadata": {},
     "output_type": "execute_result"
    }
   ],
   "source": [
    "summarize(\"https://cnn.com\")"
   ]
  },
  {
   "cell_type": "code",
   "execution_count": 25,
   "id": "c14ac01e",
   "metadata": {},
   "outputs": [],
   "source": [
    "def display_summary(url):\n",
    "    summary = summarize(url)\n",
    "    display(Markdown(summary))"
   ]
  },
  {
   "cell_type": "code",
   "execution_count": 26,
   "id": "ab04724f",
   "metadata": {},
   "outputs": [
    {
     "data": {
      "text/markdown": [
       "### Summary of CNN Website\n",
       "The CNN website features a wide range of news articles and videos on various topics, including:\n",
       "* **World News**: Updates on the Ukraine-Russia War, Israel-Hamas War, and other global conflicts\n",
       "* **US Politics**: Coverage of Trump's presidency, the 2025 elections, and analysis of US political events\n",
       "* **Business and Tech**: News on the economy, job market, and technological advancements\n",
       "* **Entertainment and Culture**: Articles on celebrities, movies, television, and music\n",
       "* **Science and Environment**: Stories on climate change, space exploration, and scientific discoveries\n",
       "* **Sports**: Updates on various sports, including football, tennis, and the Olympics\n",
       "\n",
       "Some of the top news stories featured on the website include:\n",
       "* Netanyahu asking the Red Cross to help hostages in Gaza\n",
       "* A far-right Israeli minister sparking outrage by praying at a sensitive holy site in Jerusalem\n",
       "* Tens of thousands marching across Sydney Harbour Bridge to advocate for peace and humanitarian aid in Gaza\n",
       "* Afghanistan's continued prohibition on girls' and women's education\n",
       "* Trump's rewriting of reality on jobs numbers and its potential impact on the economy\n",
       "\n",
       "The website also features opinion pieces, analysis, and videos on various topics, as well as a section for readers to provide feedback and engage with the content."
      ],
      "text/plain": [
       "<IPython.core.display.Markdown object>"
      ]
     },
     "metadata": {},
     "output_type": "display_data"
    }
   ],
   "source": [
    "display_summary(\"https://cnn.com\")"
   ]
  },
  {
   "cell_type": "code",
   "execution_count": null,
   "id": "08a2b3bc",
   "metadata": {},
   "outputs": [
    {
     "data": {
      "text/markdown": [
       "### Summary of Steph Ango's Website\n",
       "The website appears to be a personal blog or journal of Steph Ango, where they share their thoughts, ideas, and experiences on various topics. \n",
       "\n",
       "### Topics Covered\n",
       "The topics covered include advice, AI, design, humanism, learning, minimalism, and startups, among others. The website also features a list of writings, with the most recent post being \"If you're remote, ramble\" dated July 31, 2025.\n",
       "\n",
       "### Recent Posts\n",
       "Some recent posts on the website include:\n",
       "* \"If you're remote, ramble\" (July 31, 2025)\n",
       "* \"Self-guaranteeing promises\" (December 2024)\n",
       "* \"What can we remove?\" (June 2024)\n",
       "* \"Six definitions of love\" (May 2024)\n",
       "\n",
       "### Updates and Contact\n",
       "Visitors can receive updates from Steph Ango via email, RSS, Twitter, Mastodon, and other options. Overall, the website seems to be a collection of Steph Ango's thoughts and ideas, with a focus on personal growth, learning, and self-improvement."
      ],
      "text/plain": [
       "<IPython.core.display.Markdown object>"
      ]
     },
     "metadata": {},
     "output_type": "display_data"
    }
   ],
   "source": [
    "# Hacker new article summarizer\n",
    "\n",
    "display_summary(\"https://stephango.com\")"
   ]
  },
  {
   "cell_type": "code",
   "execution_count": null,
   "id": "2c60420a",
   "metadata": {},
   "outputs": [],
   "source": []
  }
 ],
 "metadata": {
  "kernelspec": {
   "display_name": "llm",
   "language": "python",
   "name": "python3"
  },
  "language_info": {
   "codemirror_mode": {
    "name": "ipython",
    "version": 3
   },
   "file_extension": ".py",
   "mimetype": "text/x-python",
   "name": "python",
   "nbconvert_exporter": "python",
   "pygments_lexer": "ipython3",
   "version": "3.11.8"
  }
 },
 "nbformat": 4,
 "nbformat_minor": 5
}
