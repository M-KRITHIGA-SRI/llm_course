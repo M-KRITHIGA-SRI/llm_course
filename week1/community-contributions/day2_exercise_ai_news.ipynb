{
 "cells": [
  {
   "cell_type": "code",
   "execution_count": null,
   "id": "c877c00e",
   "metadata": {},
   "outputs": [],
   "source": [
    "!ollama pull llama3.2"
   ]
  },
  {
   "cell_type": "code",
   "execution_count": null,
   "id": "9cbb5806",
   "metadata": {},
   "outputs": [],
   "source": [
    "# imports\n",
    "\n",
    "import requests\n",
    "from bs4 import BeautifulSoup\n",
    "from IPython.display import Markdown, display\n",
    "import ollama\n",
    "MODEL = \"llama3.2\""
   ]
  },
  {
   "cell_type": "code",
   "execution_count": null,
   "id": "9aa0c2da",
   "metadata": {},
   "outputs": [],
   "source": [
    "#test\n",
    "\n",
    "messages = [\n",
    "    {\"role\": \"system\", \"content\": \"You are a snarky assistant.\"},\n",
    "    {\"role\": \"user\", \"content\": \"what is 1+1\"}\n",
    "]\n",
    "\n",
    "payload = {\n",
    "        \"model\": MODEL,\n",
    "        \"messages\": messages,\n",
    "        \"stream\": False\n",
    "    }"
   ]
  },
  {
   "cell_type": "code",
   "execution_count": null,
   "id": "796bb770",
   "metadata": {},
   "outputs": [],
   "source": [
    "response = ollama.chat(\n",
    "  model=MODEL, messages=messages) \n",
    "print(response['message']['content'])"
   ]
  },
  {
   "cell_type": "code",
   "execution_count": null,
   "id": "1a8a1de9",
   "metadata": {},
   "outputs": [],
   "source": [
    "#website scraping\n",
    "\n",
    "headers = {\n",
    " \"User-Agent\": \"Mozilla/5.0 (Windows NT 10.0; Win64; x64) AppleWebKit/537.36 (KHTML, like Gecko) Chrome/117.0.0.0 Safari/537.36\"\n",
    "}\n",
    "\n",
    "class Website:\n",
    "\n",
    "    def __init__(self, url):\n",
    "        \"\"\"\n",
    "        Create this Website object from the given url using the BeautifulSoup library\n",
    "        \"\"\"\n",
    "        self.url = url\n",
    "        response = requests.get(url, headers=headers)\n",
    "        soup = BeautifulSoup(response.content, 'html.parser')\n",
    "        self.title = soup.title.string if soup.title else \"No title found\"\n",
    "        for irrelevant in soup.body([\"script\", \"style\", \"img\", \"input\"]):\n",
    "            irrelevant.decompose()\n",
    "        self.text = soup.body.get_text(separator=\"\\n\", strip=True)"
   ]
  },
  {
   "cell_type": "code",
   "execution_count": null,
   "id": "bef721be",
   "metadata": {},
   "outputs": [],
   "source": [
    "ai_blog = Website(\"https://allensthoughts.com/\")\n",
    "print(ai_blog.title)"
   ]
  },
  {
   "cell_type": "code",
   "execution_count": null,
   "id": "8860e989",
   "metadata": {},
   "outputs": [],
   "source": [
    "system_prompt =   \"You are a highly accurate and detail-oriented summarization assistant. \\\n",
    "    You read and understand web page content and generate clear, concise, and factually correct summaries. \\\n",
    "    Your summaries preserve key information, context, and structure while removing irrelevant details or marketing fluff. \\\n",
    "    Use professional, neutral language. Focus on the purpose of the website, main offerings, audience, and any unique features. \\\n",
    "    If the website is an article or blog post, summarize the main argument, key points, and conclusion. \\\n",
    "    Only summarize what is visible in the content provided. Do not hallucinate or assume extra information.\""
   ]
  },
  {
   "cell_type": "code",
   "execution_count": null,
   "id": "88841a15",
   "metadata": {},
   "outputs": [],
   "source": [
    "def user_prompt_for(website):\n",
    "    user_prompt = f\"You are looking at a website titled {website.title}\"\n",
    "    user_prompt += \"\\nThe contents of this website is as follows; \\\n",
    "please provide a short summary of this website in markdown. \\\n",
    "If it includes news or announcements, then summarize these too.\\n\\n\"\n",
    "    user_prompt += website.text\n",
    "    return user_prompt"
   ]
  },
  {
   "cell_type": "code",
   "execution_count": null,
   "id": "76eceba5",
   "metadata": {},
   "outputs": [],
   "source": [
    "def messages_for(website):\n",
    "    return [\n",
    "        {\"role\": \"system\", \"content\": system_prompt},\n",
    "        {\"role\": \"user\", \"content\": user_prompt_for(website)}\n",
    "    ]"
   ]
  },
  {
   "cell_type": "code",
   "execution_count": null,
   "id": "1cf1a9a7",
   "metadata": {},
   "outputs": [],
   "source": [
    "messages_for(ai_blog)"
   ]
  },
  {
   "cell_type": "code",
   "execution_count": null,
   "id": "444a5c45",
   "metadata": {},
   "outputs": [],
   "source": [
    "def summarize(url):\n",
    "    website = Website(url)\n",
    "    response = ollama.chat(\n",
    "        model = MODEL,\n",
    "        messages = messages_for(website)\n",
    "    )\n",
    "    return response['message']['content']"
   ]
  },
  {
   "cell_type": "code",
   "execution_count": null,
   "id": "f81ef372",
   "metadata": {},
   "outputs": [],
   "source": [
    "summarize(\"https://allensthoughts.com/2025/03/31/ais-real-revolution-is-just-beginning/\")"
   ]
  },
  {
   "cell_type": "code",
   "execution_count": null,
   "id": "001d4ff7",
   "metadata": {},
   "outputs": [],
   "source": [
    "def display_summary(url):\n",
    "    summary = summarize(url)\n",
    "    display(Markdown(summary))"
   ]
  },
  {
   "cell_type": "code",
   "execution_count": null,
   "id": "e07ed152",
   "metadata": {},
   "outputs": [],
   "source": [
    "display_summary(\"https://allensthoughts.com/2025/03/31/ais-real-revolution-is-just-beginning/\")"
   ]
  }
 ],
 "metadata": {
  "kernelspec": {
   "display_name": "venv",
   "language": "python",
   "name": "python3"
  },
  "language_info": {
   "codemirror_mode": {
    "name": "ipython",
    "version": 3
   },
   "file_extension": ".py",
   "mimetype": "text/x-python",
   "name": "python",
   "nbconvert_exporter": "python",
   "pygments_lexer": "ipython3",
   "version": "3.12.7"
  }
 },
 "nbformat": 4,
 "nbformat_minor": 5
}
