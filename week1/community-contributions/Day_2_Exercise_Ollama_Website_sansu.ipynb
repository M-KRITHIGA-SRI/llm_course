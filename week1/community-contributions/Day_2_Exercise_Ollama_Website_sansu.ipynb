{
 "cells": [
  {
   "cell_type": "markdown",
   "id": "73dbbbc7-795a-4ee8-8d1a-500337e1c8b9",
   "metadata": {},
   "source": [
    "NOW the exercise for you\n",
    "Take the code from day1 and incorporate it here, to build a website summarizer that uses Llama 3.2 running locally instead of OpenAI; use either of the above approaches."
   ]
  },
  {
   "cell_type": "code",
   "execution_count": 5,
   "id": "c925cd6c-06c4-4984-ad8a-0312506d7555",
   "metadata": {},
   "outputs": [],
   "source": [
    "import requests\n",
    "from bs4 import BeautifulSoup\n",
    "import ollama"
   ]
  },
  {
   "cell_type": "code",
   "execution_count": 6,
   "id": "898f9800-e466-4c6e-9a44-ca43e639aa37",
   "metadata": {},
   "outputs": [],
   "source": [
    "def extract_text_from_url(url):\n",
    "    try:\n",
    "        response = requests.get(url)\n",
    "        soup = BeautifulSoup(response.content, 'html.parser')\n",
    "\n",
    "        # Remove script and style elements\n",
    "        for script in soup(['script', 'style', 'noscript']):\n",
    "            script.extract()\n",
    "\n",
    "        # Get text and clean it\n",
    "        text = soup.get_text()\n",
    "        lines = (line.strip() for line in text.splitlines())\n",
    "        cleaned_text = '\\n'.join(line for line in lines if line)\n",
    "        return cleaned_text[:8000]  # Limit to first 8000 chars to keep it model-safe\n",
    "    except Exception as e:\n",
    "        return f\"Error fetching content: {str(e)}\""
   ]
  },
  {
   "cell_type": "code",
   "execution_count": 7,
   "id": "1285bb05-478f-443f-af95-9ccc5cf7e85d",
   "metadata": {},
   "outputs": [],
   "source": [
    "def summarize_with_ollama(text, model='llama3.2'):\n",
    "    system_prompt = \"You are a helpful assistant that summarizes website content for users in a clear and concise way.\"\n",
    "    user_prompt = \"Please summarize the following website content:\\n\\n\" + text\n",
    "\n",
    "    response = ollama.chat(model=model, messages=[\n",
    "        {\"role\": \"system\", \"content\": system_prompt},\n",
    "        {\"role\": \"user\", \"content\": user_prompt}\n",
    "    ])\n",
    "\n",
    "    return response['message']['content']"
   ]
  },
  {
   "cell_type": "code",
   "execution_count": 8,
   "id": "0d7835e9-18d6-477a-abc6-286633cf2abe",
   "metadata": {},
   "outputs": [
    {
     "name": "stdin",
     "output_type": "stream",
     "text": [
      "Enter a website URL to summarize:  https://marketingusingai.com/\n"
     ]
    },
    {
     "name": "stdout",
     "output_type": "stream",
     "text": [
      "\n",
      "Fetching content...\n",
      "\n",
      "\n",
      "Summarizing...\n",
      "\n",
      "\n",
      "=== Website Summary ===\n",
      "\n",
      "Here's a summary of the website content:\n",
      "\n",
      "**MarketingUsingAI**\n",
      "\n",
      "The website appears to be a marketing agency specializing in AI-powered solutions for businesses. They offer services such as AI virtual assistants, copywriting, and lead generation.\n",
      "\n",
      "**Services**\n",
      "\n",
      "The agency provides three main services:\n",
      "\n",
      "1. **AI Virtual Assistants**: Creating intelligent, automated virtual assistants that enhance user engagement, streamline support, and boost conversion rates.\n",
      "2. **Copywriting**: Ensuring that marketing messages are heard and remembered through engaging website copy and persuasive marketing materials.\n",
      "3. **Lead Generation**: Developing tailored lead generation approaches to attract the right prospects and empower sales teams to convert more leads into loyal customers.\n",
      "\n",
      "**Resources**\n",
      "\n",
      "The website offers several resources, including:\n",
      "\n",
      "1. A list of popular chatbot platforms with brief descriptions and links.\n",
      "2. A curated list of copywriting tools and resources, such as grammar checkers and style guides.\n",
      "3. An in-depth guide to lead generation strategies, tactics, and tools.\n",
      "\n",
      "**About Us**\n",
      "\n",
      "The agency is a dedicated team of professionals passionate about leveraging AI technology to transform the world of marketing and customer engagement. Their mission is to equip businesses with the tools and strategies they need to thrive in the digital age.\n",
      "\n",
      "**Testimonials**\n",
      "\n",
      "The website features testimonials from clients who have benefited from the agency's services.\n",
      "\n",
      "**Blog**\n",
      "\n",
      "The blog section includes articles on topics such as harnessing the power of AI virtual assistants, unlocking growth through lead generation strategies, and the difference between copywriting and content writing.\n",
      "\n",
      "**Contact Us**\n",
      "\n",
      "The website provides contact information, including an email address, physical address, LinkedIn page, YouTube channel, Twitter handle, and Facebook page.\n"
     ]
    }
   ],
   "source": [
    "if __name__ == '__main__':\n",
    "    url = input(\"Enter a website URL to summarize: \").strip()\n",
    "    print(\"\\nFetching content...\\n\")\n",
    "    web_text = extract_text_from_url(url)\n",
    "\n",
    "    if web_text.startswith(\"Error\"):\n",
    "        print(web_text)\n",
    "    else:\n",
    "        print(\"\\nSummarizing...\\n\")\n",
    "        summary = summarize_with_ollama(web_text)\n",
    "        print(\"\\n=== Website Summary ===\\n\")\n",
    "        print(summary)"
   ]
  }
 ],
 "metadata": {
  "kernelspec": {
   "display_name": "Python 3 (ipykernel)",
   "language": "python",
   "name": "python3"
  },
  "language_info": {
   "codemirror_mode": {
    "name": "ipython",
    "version": 3
   },
   "file_extension": ".py",
   "mimetype": "text/x-python",
   "name": "python",
   "nbconvert_exporter": "python",
   "pygments_lexer": "ipython3",
   "version": "3.11.11"
  }
 },
 "nbformat": 4,
 "nbformat_minor": 5
}
