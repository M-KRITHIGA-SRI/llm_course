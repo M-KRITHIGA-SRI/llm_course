{
 "cells": [
  {
   "cell_type": "markdown",
   "id": "34235b56",
   "metadata": {},
   "source": [
    "### This Notepad will demostrate creation of Url summarizer using Google Gemini Model\n",
    "\n",
    "import all the libraries"
   ]
  },
  {
   "cell_type": "code",
   "execution_count": 1,
   "id": "3022cab2",
   "metadata": {},
   "outputs": [],
   "source": [
    "#imports\n",
    "\n",
    "import os\n",
    "import requests\n",
    "from dotenv import load_dotenv\n",
    "from bs4 import BeautifulSoup\n",
    "from IPython.display import Markdown, display\n",
    "from openai import OpenAI"
   ]
  },
  {
   "cell_type": "markdown",
   "id": "b7d15bfa",
   "metadata": {},
   "source": [
    "### Connecting to Google Gemini\n",
    "\n",
    "Add Gemini Api Key to .env file"
   ]
  },
  {
   "cell_type": "code",
   "execution_count": 17,
   "id": "1336a66a",
   "metadata": {},
   "outputs": [
    {
     "name": "stdout",
     "output_type": "stream",
     "text": [
      "API key found and looks good so far!\n"
     ]
    }
   ],
   "source": [
    "load_dotenv()\n",
    "gemini_api_key = os.getenv(\"GOOGLE_API_KEY\")\n",
    "api_base_url = \"https://generativelanguage.googleapis.com/v1beta/openai/\"\n",
    "api_model = \"gemini-2.0-flash\"\n",
    "# Check the key\n",
    "\n",
    "if not gemini_api_key:\n",
    "    print(\"No API key was found - please head over to the troubleshooting notebook in this folder to identify & fix!\")\n",
    "elif not gemini_api_key.startswith(\"AI\"):\n",
    "    print(\"An API key was found, but it doesn't start AI; please check you're using the right key - see troubleshooting notebook\")\n",
    "elif gemini_api_key.strip() != gemini_api_key:\n",
    "    print(\"An API key was found, but it looks like it might have space or tab characters at the start or end - please remove them - see troubleshooting notebook\")\n",
    "else:\n",
    "    print(\"API key found and looks good so far!\")"
   ]
  },
  {
   "cell_type": "markdown",
   "id": "9741a4a9",
   "metadata": {},
   "source": [
    "### Initialize ai"
   ]
  },
  {
   "cell_type": "code",
   "execution_count": 12,
   "id": "573f5fd7",
   "metadata": {},
   "outputs": [],
   "source": [
    "openai = OpenAI(api_key=gemini_api_key, base_url= api_base_url)"
   ]
  },
  {
   "cell_type": "markdown",
   "id": "1573a4a7",
   "metadata": {},
   "source": [
    "### Create a class for the website"
   ]
  },
  {
   "cell_type": "code",
   "execution_count": 4,
   "id": "8b98f13b",
   "metadata": {},
   "outputs": [],
   "source": [
    "headers = {\n",
    " \"User-Agent\": \"Mozilla/5.0 (Windows NT 10.0; Win64; x64) AppleWebKit/537.36 (KHTML, like Gecko) Chrome/117.0.0.0 Safari/537.36\"\n",
    "}\n",
    "\n",
    "class Website:\n",
    "\n",
    "    def __init__(self, url):\n",
    "        \"\"\"Create a class website with the url provided \"\"\"\n",
    "\n",
    "        self.url = url\n",
    "        response = requests.get(url, headers=headers)\n",
    "        soup = BeautifulSoup(response.content,'html.parser')\n",
    "        self.title = soup.title.string if soup.title else \"No Title Found\"\n",
    "        for irrelevant in soup.body([\"script\", \"style\", \"img\", \"input\"]):\n",
    "            irrelevant.decompose()\n",
    "        self.text = soup.body.get_text(separator=\"\\n\", strip=True)\n"
   ]
  },
  {
   "cell_type": "markdown",
   "id": "d267b875",
   "metadata": {},
   "source": [
    "## Testing the container"
   ]
  },
  {
   "cell_type": "code",
   "execution_count": null,
   "id": "a390a635",
   "metadata": {},
   "outputs": [],
   "source": [
    "ed = Website(\"https://edwarddonner.com\")\n",
    "print(ed.title)\n",
    "print(ed.text)"
   ]
  },
  {
   "cell_type": "markdown",
   "id": "238eda0b",
   "metadata": {},
   "source": [
    "### Google Gemini models support both system prompts (instructions) and user prompts, but a system prompt is not strictly required for every request."
   ]
  },
  {
   "cell_type": "code",
   "execution_count": 6,
   "id": "b74d5563",
   "metadata": {},
   "outputs": [],
   "source": [
    "system_prompt = \"You are an assistant who analyses the content of a website and provide a short summary. Ignore the test that might be navigation related \"\n",
    "system_prompt += \"Provide the response in Markdown\""
   ]
  },
  {
   "cell_type": "markdown",
   "id": "9c3c8318",
   "metadata": {},
   "source": [
    "### User Prompt"
   ]
  },
  {
   "cell_type": "code",
   "execution_count": 7,
   "id": "ed4ae30c",
   "metadata": {},
   "outputs": [],
   "source": [
    "def define_user_prompt(website):\n",
    "    user_prompt = f\"You are looking at the website titled {website.title}\"\n",
    "    user_prompt += \"\\n Prepare a short summary of the content of the website. Include any news or announcements made in the site. \\n\"\n",
    "    user_prompt +=  website.text\n",
    "\n",
    "    return user_prompt"
   ]
  },
  {
   "cell_type": "markdown",
   "id": "d91603f4",
   "metadata": {},
   "source": [
    "### Testing the user Prompt"
   ]
  },
  {
   "cell_type": "code",
   "execution_count": null,
   "id": "bbbb1a3a",
   "metadata": {},
   "outputs": [],
   "source": [
    "user_prompt = define_user_prompt(Website(\"https://edwarddonner.com\"))\n",
    "print(user_prompt)"
   ]
  },
  {
   "cell_type": "markdown",
   "id": "8b7df40b",
   "metadata": {},
   "source": [
    "### Messages for the prompt"
   ]
  },
  {
   "cell_type": "code",
   "execution_count": 15,
   "id": "1698e970",
   "metadata": {},
   "outputs": [],
   "source": [
    "def messages_for(website):\n",
    "    return [\n",
    "        {\"role\": \"system\", \"content\": system_prompt},\n",
    "        {\"role\": \"user\", \"content\": define_user_prompt(website)}\n",
    "    ]"
   ]
  },
  {
   "cell_type": "markdown",
   "id": "c36bd23c",
   "metadata": {},
   "source": [
    "### Invoke the Gemini agent"
   ]
  },
  {
   "cell_type": "code",
   "execution_count": 18,
   "id": "f552fd63",
   "metadata": {},
   "outputs": [],
   "source": [
    "def summarize(url):\n",
    "    website = Website(url)\n",
    "    response = openai.chat.completions.create(\n",
    "        model = api_model,\n",
    "        messages = messages_for(website)\n",
    "    )\n",
    "    return response.choices[0].message.content"
   ]
  },
  {
   "cell_type": "markdown",
   "id": "aa4b6c46",
   "metadata": {},
   "source": [
    "### Display Summary"
   ]
  },
  {
   "cell_type": "code",
   "execution_count": 13,
   "id": "5f16252f",
   "metadata": {},
   "outputs": [],
   "source": [
    "def display_summary(url):\n",
    "    summary = summarize(url)\n",
    "    display(Markdown(summary))"
   ]
  },
  {
   "cell_type": "markdown",
   "id": "36254abf",
   "metadata": {},
   "source": [
    "### Testing"
   ]
  },
  {
   "cell_type": "code",
   "execution_count": 19,
   "id": "43de513e",
   "metadata": {},
   "outputs": [
    {
     "data": {
      "text/markdown": [
       "Edward Donner's website introduces Ed as a coder, LLM enthusiast, DJ, and amateur electronic music producer. He is the co-founder and CTO of Nebula.io, an AI company focused on talent discovery, and was previously the founder/CEO of untapt (acquired in 2021). The site also includes announcements for courses and briefings, such as \"Connecting my courses – become an LLM expert and leader\" (May 28, 2025), \"2025 AI Executive Briefing\" (May 18, 2025) and \"The Complete Agentic AI Engineering Course\" (April 21, 2025). The website has links to his social media and a newsletter subscription option.\n"
      ],
      "text/plain": [
       "<IPython.core.display.Markdown object>"
      ]
     },
     "metadata": {},
     "output_type": "display_data"
    }
   ],
   "source": [
    "display_summary(\"https://edwarddonner.com\")"
   ]
  }
 ],
 "metadata": {
  "kernelspec": {
   "display_name": ".venv",
   "language": "python",
   "name": "python3"
  },
  "language_info": {
   "codemirror_mode": {
    "name": "ipython",
    "version": 3
   },
   "file_extension": ".py",
   "mimetype": "text/x-python",
   "name": "python",
   "nbconvert_exporter": "python",
   "pygments_lexer": "ipython3",
   "version": "3.12.11"
  }
 },
 "nbformat": 4,
 "nbformat_minor": 5
}
