{
 "cells": [
  {
   "cell_type": "markdown",
   "id": "fe12c203-e6a6-452c-a655-afb8a03a4ff5",
   "metadata": {},
   "source": [
    "# End of week 1 exercise\n",
    "\n",
    "To demonstrate your familiarity with OpenAI API, and also Ollama, build a tool that takes a technical question,  \n",
    "and responds with an explanation. This is a tool that you will be able to use yourself during the course!"
   ]
  },
  {
   "cell_type": "code",
   "execution_count": 1,
   "id": "c1070317-3ed9-4659-abe3-828943230e03",
   "metadata": {},
   "outputs": [],
   "source": [
    "# imports\n",
    "# If these fail, please check you're running from an 'activated' environment with (llms) in the command prompt\n",
    "\n",
    "import os\n",
    "import requests\n",
    "import json\n",
    "from typing import List\n",
    "from dotenv import load_dotenv\n",
    "from bs4 import BeautifulSoup\n",
    "from IPython.display import Markdown, display, update_display\n",
    "from openai import OpenAI\n",
    "import ollama"
   ]
  },
  {
   "cell_type": "code",
   "execution_count": 2,
   "id": "4a456906-915a-4bfd-bb9d-57e505c5093f",
   "metadata": {},
   "outputs": [],
   "source": [
    "# constants\n",
    "\n",
    "MODEL_GPT = 'gpt-4o-mini'\n",
    "MODEL_LLAMA = 'llama3.2'"
   ]
  },
  {
   "cell_type": "code",
   "execution_count": 3,
   "id": "a8d7923c-5f28-4c30-8556-342d7c8497c1",
   "metadata": {},
   "outputs": [
    {
     "name": "stdout",
     "output_type": "stream",
     "text": [
      "API key looks good so far\n"
     ]
    }
   ],
   "source": [
    "# set up environment\n",
    "# Initialize and constants\n",
    "\n",
    "load_dotenv(override=True)\n",
    "api_key = os.getenv('OPENAI_API_KEY')\n",
    "\n",
    "if api_key and api_key.startswith('sk-proj-') and len(api_key)>10:\n",
    "    print(\"API key looks good so far\")\n",
    "else:\n",
    "    print(\"There might be a problem with your API key? Please visit the troubleshooting notebook!\")\n",
    "    \n",
    "openai = OpenAI()"
   ]
  },
  {
   "cell_type": "code",
   "execution_count": 10,
   "id": "3f0d0137-52b0-47a8-81a8-11a90a010798",
   "metadata": {},
   "outputs": [
    {
     "name": "stdin",
     "output_type": "stream",
     "text": [
      "Enter your question:  how does git work, please be super brief? please translate to chinese.\n"
     ]
    }
   ],
   "source": [
    "# here is the question; type over this to ask something new\n",
    "\n",
    "# question = \"\"\"\n",
    "# Please explain what this code does and why:\n",
    "# yield from {book.get(\"author\") for book in books if book.get(\"author\")}\n",
    "# \"\"\"\n",
    "# question = 'how does git work, be super brief please?'\n",
    "# question = 'how does git work, please be super brief? please translate to chinese.'\n",
    "\n",
    "question = input(\"Enter your question: \")\n"
   ]
  },
  {
   "cell_type": "code",
   "execution_count": 11,
   "id": "3b689e51-231b-47c7-8ddc-d12f45906526",
   "metadata": {},
   "outputs": [],
   "source": [
    "# prompts\n",
    "\n",
    "system_prompt = \"You are a helpful technical tutor who answers questions about python code, software engineering, data science and LLMs\"\n",
    "user_prompt = \"Please give a detailed explanation to the following question: \" + question"
   ]
  },
  {
   "cell_type": "code",
   "execution_count": 12,
   "id": "6783f73c-0898-430d-95f4-87f9de1ab79a",
   "metadata": {},
   "outputs": [
    {
     "data": {
      "text/plain": [
       "'Please give a detailed explanation to the following question: how does git work, please be super brief? please translate to chinese.'"
      ]
     },
     "execution_count": 12,
     "metadata": {},
     "output_type": "execute_result"
    }
   ],
   "source": [
    "user_prompt"
   ]
  },
  {
   "cell_type": "code",
   "execution_count": 7,
   "id": "7dad6db3-8f5b-4601-9cac-d27e3248a905",
   "metadata": {},
   "outputs": [],
   "source": [
    "messages=[\n",
    "            {\"role\": \"system\", \"content\": system_prompt},\n",
    "            {\"role\": \"user\", \"content\": user_prompt}\n",
    "          ]"
   ]
  },
  {
   "cell_type": "code",
   "execution_count": 13,
   "id": "4cfa2504-1da6-4e76-a08e-64a523e00cf5",
   "metadata": {},
   "outputs": [
    {
     "name": "stdin",
     "output_type": "stream",
     "text": [
      "Enter your question:  how does git work, please be super brief? please translate to Japanese.\n"
     ]
    },
    {
     "data": {
      "text/markdown": [
       "### Detailed Explanation of How Git Works\n",
       "\n",
       "Git is a distributed version control system used to track changes in source code during software development. Here’s a brief overview of how it works:\n",
       "\n",
       "1. **Repository**: Git stores your project in a repository (repo), which can be local (on your computer) or remote (on a server, like GitHub).\n",
       "\n",
       "2. **Commits**: Changes to files are saved in snapshots called commits. Each commit includes a unique identifier (hash), author information, and a message describing the changes.\n",
       "\n",
       "3. **Branches**: Git allows you to create branches, which are separate lines of development. The default branch is usually called \"main\" or \"master.\" You can work on features or fixes in a branch without affecting the main codebase.\n",
       "\n",
       "4. **Staging Area**: Before committing changes, you add them to a staging area. This allows you to review changes and select which ones you want to commit.\n",
       "\n",
       "5. **Merge**: You can merge branches to combine changes. Git attempts to automatically resolve conflicts, but you may need to resolve them manually.\n",
       "\n",
       "6. **Push & Pull**: Changes can be pushed to a remote repository, and you can pull changes from it to update your local repo.\n",
       "\n",
       "7. **History**: Git maintains a history of commits, allowing you to track changes, revert to previous states, and collaborate effectively with others.\n",
       "\n",
       "### Japanese Translation\n",
       "\n",
       "### Gitがどのように機能するかの詳細説明\n",
       "\n",
       "Gitは、ソフトウェア開発中のソースコードの変更を追跡するために使用される分散バージョン管理システムです。以下は、Gitの基本的な機能の概要です。\n",
       "\n",
       "1. **リポジトリ（Repository）**: Gitは、プロジェクトをリポジトリ（repo）に保存します。これはローカル（コンピュータ上）またはリモート（GitHubなどのサーバー上）に存在します。\n",
       "\n",
       "2. **コミット（Commits）**: ファイルの変更は、コミットと呼ばれるスナップショットとして保存されます。各コミットには、一意の識別子（ハッシュ）、著者情報、変更内容を説明するメッセージが含まれます。\n",
       "\n",
       "3. **ブランチ（Branches）**: Gitは、開発の別の流れであるブランチを作成することを可能にします。デフォルトのブランチは通常「main」または「master」と呼ばれています。ブランチで機能や修正に取り組むことができ、メインのコードベースに影響を与えません。\n",
       "\n",
       "4. **ステージングエリア（Staging Area）**: 変更をコミットする前に、ステージングエリアに追加します。これにより、変更を確認し、どの変更をコミットするかを選択できます。\n",
       "\n",
       "5. **マージ（Merge）**: ブランチをマージして変更を統合できます。Gitは自動的に競合を解決しようとしますが、手動で解決する必要がある場合もあります。\n",
       "\n",
       "6. **プッシュとプル（Push & Pull）**: 変更をリモートリポジトリにプッシュでき、リモートリポジトリから変更をプルしてローカルリポジトリを更新できます。\n",
       "\n",
       "7. **履歴（History）**: Gitはコミットの履歴を保持しており、変更を追跡し、以前の状態に戻り、他の人と効果的に協力することを可能にします。"
      ],
      "text/plain": [
       "<IPython.core.display.Markdown object>"
      ]
     },
     "metadata": {},
     "output_type": "display_data"
    }
   ],
   "source": [
    "# Get gpt-4o-mini to answer, w/o streaming\n",
    "def tutor():\n",
    "    response = openai.chat.completions.create(\n",
    "        model=MODEL_GPT,\n",
    "        messages=[\n",
    "            {\"role\": \"system\", \"content\": system_prompt},\n",
    "            {\"role\": \"user\", \"content\": \"Please give a detailed explanation to the following question: \" + input(\"Enter your question: \")}\n",
    "          ]\n",
    "    )\n",
    "    result = response.choices[0].message.content\n",
    "    display(Markdown(result))\n",
    "    \n",
    "tutor()\n"
   ]
  },
  {
   "cell_type": "code",
   "execution_count": 8,
   "id": "59f8b05a-b381-4180-ac2d-5e4546dcc4eb",
   "metadata": {
    "scrolled": true
   },
   "outputs": [
    {
     "data": {
      "text/markdown": [
       "### How Git Works - Brief Explanation\n",
       "\n",
       "Git is a version control system that helps track changes in files, commonly used for source code management in software development. Here’s a super brief overview of its core concepts:\n",
       "\n",
       "1. **Repository**: A Git repository (or repo) is a directory that contains your project and all its version history.\n",
       "\n",
       "2. **Commit**: A commit is a snapshot of the project's file changes at a specific point. It includes metadata like the author, date, and message describing the changes.\n",
       "\n",
       "3. **Branch**: A branch is a parallel version of the repository. The default branch is usually called `main` or `master`, and you can create others to develop features independently.\n",
       "\n",
       "4. **Merge**: Merging combines changes from different branches. When a feature is complete, it can be merged back into the main branch.\n",
       "\n",
       "5. **Clone**: Cloning creates a local copy of a remote repository.\n",
       "\n",
       "6. **Push/Pull**: `Push` uploads local commits to a remote repository, while `pull` downloads changes from the remote to your local repo.\n",
       "\n",
       "7. **Staging Area**: Before committing changes, files are placed in a staging area to prepare for the next commit.\n",
       "\n",
       "### Chinese Translation\n",
       "\n",
       "### Git 的工作原理 - 简要说明\n",
       "\n",
       "Git 是一种版本控制系统，用于跟踪文件的更改，通常用于软件开发中的源代码管理。以下是其核心概念的简要概述：\n",
       "\n",
       "1. **代码库**：Git 代码库（或仓库）是一个包含项目及其所有版本历史的目录。\n",
       "\n",
       "2. **提交**：提交是项目在特定时刻的文件更改快照。它包括元数据，如作者、日期和描述更改的消息。\n",
       "\n",
       "3. **分支**：分支是仓库的并行版本。默认分支通常称为 `main` 或 `master`，你可以创建其他分支独立开发功能。\n",
       "\n",
       "4. **合并**：合并将来自不同分支的更改结合在一起。当某个功能开发完成后，可以将其合并回主分支。\n",
       "\n",
       "5. **克隆**：克隆可创建远程仓库的本地副本。\n",
       "\n",
       "6. **推送/拉取**：`Push` 将本地提交上传到远程仓库，而 `pull` 则将更改从远程下载到本地仓库。\n",
       "\n",
       "7. **暂存区**：在提交更改之前，文件会被放置在暂存区，以准备进行下一个提交。"
      ],
      "text/plain": [
       "<IPython.core.display.Markdown object>"
      ]
     },
     "metadata": {},
     "output_type": "display_data"
    }
   ],
   "source": [
    "# Get gpt-4o-mini to answer, w/o streaming\n",
    "def tutor():\n",
    "    response = openai.chat.completions.create(\n",
    "        model=MODEL_GPT,\n",
    "        messages=messages\n",
    "    )\n",
    "    result = response.choices[0].message.content\n",
    "    display(Markdown(result))\n",
    "    \n",
    "tutor()"
   ]
  },
  {
   "cell_type": "code",
   "execution_count": 78,
   "id": "b40d0f55-4d57-4e59-a47f-1c47dc50c86f",
   "metadata": {
    "scrolled": true
   },
   "outputs": [
    {
     "data": {
      "text/markdown": [
       "Here's a super-brief explanation of Git:\n",
       "\n",
       "**What is Git?**\n",
       "Git is a version control system that helps you track changes in your codebase over time.\n",
       "\n",
       "**How it works:**\n",
       "\n",
       "1. **Create a Repository**: You create a central location called a repository (or repo) where all the files related to your project live.\n",
       "2. **Make Changes**: You make changes to your code, add new files, or remove old ones.\n",
       "3. **Stage Changes**: You tell Git which changes you want to include in your next commit using `git add`.\n",
       "4. **Commit Changes**: You create a snapshot of the staged changes and add a description (commit message) using `git commit`.\n",
       "5. **Push Changes**: You share your commit with others by pushing it to a remote repository, like GitHub or GitLab.\n",
       "6. **Pull Changes**: Others update their local copy of your project by pulling from the shared repository.\n",
       "\n",
       "**Key Concepts:**\n",
       "\n",
       "* **Branches**: Separate lines of development in your repo (e.g., `master` and `dev`)\n",
       "* **Merges**: Combining changes from different branches\n",
       "* **Revisions**: Previous versions of files or commits\n",
       "\n",
       "That's a high-level overview!"
      ],
      "text/plain": [
       "<IPython.core.display.Markdown object>"
      ]
     },
     "metadata": {},
     "output_type": "display_data"
    }
   ],
   "source": [
    "# Get llama3.2 to answer, w/o streaming\n",
    "\n",
    "def tutor():\n",
    "    response = ollama.chat(\n",
    "        model=MODEL_LLAMA, \n",
    "        messages=messages\n",
    "    )\n",
    "    result = response.message.content\n",
    "    display(Markdown(result))\n",
    "    \n",
    "tutor()\n",
    " \n",
    "\n",
    "    "
   ]
  },
  {
   "cell_type": "code",
   "execution_count": 79,
   "id": "60ce7000-a4a5-4cce-a261-e75ef45063b4",
   "metadata": {},
   "outputs": [
    {
     "data": {
      "text/markdown": [
       "Git is a distributed version control system that enables multiple people to work on a project simultaneously without conflicts. Here’s a super brief explanation of how it works:\n",
       "\n",
       "1. **Repository**: A Git repository (repo) contains all the project's files and the entire history of changes. It can be local (on your machine) or remote (hosted on platforms like GitHub).\n",
       "\n",
       "2. **Commits**: Changes to files are saved in units called commits. Each commit has a unique identifier (hash) and includes metadata like the author, timestamp, and a message describing the change.\n",
       "\n",
       "3. **Branches**: Git allows branching, meaning you can create independent lines of development. The default branch is called `main` (or `master` in some older setups). You can create, delete, or merge branches.\n",
       "\n",
       "4. **Staging Area**: Before commits are finalized, changes are added to a staging area (index). You decide what changes to include in the next commit.\n",
       "\n",
       "5. **Version History**: All commits form a timeline (history) of changes, which you can navigate to see past versions of the project.\n",
       "\n",
       "6. **Collaboration**: Git uses a decentralized model. Each user has a full copy of the repository. Changes can be shared using commands like `git push` (to send changes) and `git pull` (to receive changes).\n",
       "\n",
       "7. **Merging and Conflict Resolution**: When branches are merged, Git attempts to integrate changes automatically. If there are conflicts (i.e., changes in both branches that cannot be reconciled), users must resolve them manually.\n",
       "\n",
       "In summary, Git tracks changes in files, helps manage multiple versions of a project, and facilitates collaboration among developers."
      ],
      "text/plain": [
       "<IPython.core.display.Markdown object>"
      ]
     },
     "metadata": {},
     "output_type": "display_data"
    }
   ],
   "source": [
    "# Get gpt-4o-mini to answer, with streaming\n",
    "def tutor():\n",
    "    stream = openai.chat.completions.create(\n",
    "        model=MODEL_GPT,\n",
    "        messages=messages,\n",
    "        stream=True\n",
    "    )\n",
    "    \n",
    "    response = \"\"\n",
    "    display_handle = display(Markdown(\"\"), display_id=True)\n",
    "    for chunk in stream:\n",
    "        response += chunk.choices[0].delta.content or ''\n",
    "        response = response.replace(\"```\",\"\").replace(\"markdown\", \"\")\n",
    "        update_display(Markdown(response), display_id=display_handle.display_id)\n",
    "tutor()"
   ]
  },
  {
   "cell_type": "code",
   "execution_count": 80,
   "id": "75ed7f70-d3d8-4844-9cb6-4278388f6861",
   "metadata": {
    "scrolled": true
   },
   "outputs": [
    {
     "data": {
      "text/markdown": [
       "**Git in Brief**\n",
       "\n",
       "Git is a version control system that helps you track changes to your codebase. Here's a high-level overview:\n",
       "\n",
       "1. **Repositories (Repos)**: A central storage of your project's history.\n",
       "2. **Commits**: Permanent snapshots of changes, linked by hashes.\n",
       "3. **Branches**: Independent versions of the codebase.\n",
       "4. **Merges**: Combining branches to update the main code.\n",
       "\n",
       "When you make changes, Git creates a new commit with a unique hash. You can then:\n",
       "\n",
       "* **Add** files to staging\n",
       "* **Commit** changes with a message\n",
       "* **Push** updates to your remote repository\n",
       "\n",
       "To collaborate or revert changes, you'll need to:\n",
       "\n",
       "* **Pull** updates from others\n",
       "* **Merge** branches\n",
       "* **Rebase** and **push** your own changes"
      ],
      "text/plain": [
       "<IPython.core.display.Markdown object>"
      ]
     },
     "metadata": {},
     "output_type": "display_data"
    }
   ],
   "source": [
    "# Get llama3.2 to answer, with streaming\n",
    "\n",
    "def tutor():\n",
    "    stream = ollama.chat(\n",
    "        model=MODEL_LLAMA, \n",
    "        messages=messages,\n",
    "        stream=True\n",
    "    )\n",
    "    \n",
    "    response = \"\"\n",
    "    display_handle = display(Markdown(\"\"), display_id=True)\n",
    "    for chunk in stream:\n",
    "        response += chunk.message.content or ''\n",
    "        response = response.replace(\"```\",\"\").replace(\"markdown\", \"\")\n",
    "        update_display(Markdown(response), display_id=display_handle.display_id)\n",
    "\n",
    "\n",
    "tutor()"
   ]
  }
 ],
 "metadata": {
  "kernelspec": {
   "display_name": "Python 3 (ipykernel)",
   "language": "python",
   "name": "python3"
  },
  "language_info": {
   "codemirror_mode": {
    "name": "ipython",
    "version": 3
   },
   "file_extension": ".py",
   "mimetype": "text/x-python",
   "name": "python",
   "nbconvert_exporter": "python",
   "pygments_lexer": "ipython3",
   "version": "3.11.12"
  }
 },
 "nbformat": 4,
 "nbformat_minor": 5
}
