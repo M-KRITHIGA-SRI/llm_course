{
 "cells": [
  {
   "cell_type": "code",
   "execution_count": 2,
   "id": "447e02ab-f090-434d-ab9e-8f68d165e4cd",
   "metadata": {},
   "outputs": [],
   "source": [
    "import os\n",
    "import pandas as pd\n",
    "import numpy as np\n",
    "import requests\n",
    "import json\n",
    "from dotenv import load_dotenv\n",
    "from bs4 import BeautifulSoup\n",
    "from openai import OpenAI\n",
    "from IPython.display import Markdown, display, update_display"
   ]
  },
  {
   "cell_type": "code",
   "execution_count": 2,
   "id": "a88ea55a-eb5a-46d2-84f3-539c70ed7e80",
   "metadata": {},
   "outputs": [
    {
     "data": {
      "text/plain": [
       "True"
      ]
     },
     "execution_count": 2,
     "metadata": {},
     "output_type": "execute_result"
    }
   ],
   "source": [
    "load_dotenv(override=True)"
   ]
  },
  {
   "cell_type": "code",
   "execution_count": 3,
   "id": "78f5fb08-09b7-470e-a78f-b63f32540ac5",
   "metadata": {},
   "outputs": [
    {
     "data": {
      "text/plain": [
       "'C:\\\\Users\\\\Prithvi\\\\Downloads\\\\Practice\\\\Udemy - LLM Engineering\\\\llm_engineering\\\\week1'"
      ]
     },
     "execution_count": 3,
     "metadata": {},
     "output_type": "execute_result"
    }
   ],
   "source": [
    "os.getcwd()"
   ]
  },
  {
   "cell_type": "code",
   "execution_count": 1,
   "id": "fb3ddce0-54fc-4b8d-a34f-a5d6c2eeb7ed",
   "metadata": {},
   "outputs": [
    {
     "ename": "NameError",
     "evalue": "name 'os' is not defined",
     "output_type": "error",
     "traceback": [
      "\u001b[31m---------------------------------------------------------------------------\u001b[39m",
      "\u001b[31mNameError\u001b[39m                                 Traceback (most recent call last)",
      "\u001b[36mCell\u001b[39m\u001b[36m \u001b[39m\u001b[32mIn[1]\u001b[39m\u001b[32m, line 1\u001b[39m\n\u001b[32m----> \u001b[39m\u001b[32m1\u001b[39m api_key = \u001b[43mos\u001b[49m.getenv(\u001b[33m'\u001b[39m\u001b[33mOPENAI_API_KEY\u001b[39m\u001b[33m'\u001b[39m)\n",
      "\u001b[31mNameError\u001b[39m: name 'os' is not defined"
     ]
    }
   ],
   "source": [
    "api_key = os.getenv('OPENAI_API_KEY')"
   ]
  },
  {
   "cell_type": "code",
   "execution_count": null,
   "id": "4c3fd837-c816-41a1-a75c-7a727fbafd60",
   "metadata": {},
   "outputs": [],
   "source": [
    "api_key"
   ]
  },
  {
   "cell_type": "markdown",
   "id": "021642d8-bbaf-4193-a583-a9db2d933ea4",
   "metadata": {},
   "source": [
    "#### Check the current enviroment"
   ]
  },
  {
   "cell_type": "code",
   "execution_count": 5,
   "id": "99da7f22-18d7-48c0-bc96-75b8b3fed6f8",
   "metadata": {},
   "outputs": [
    {
     "data": {
      "text/plain": [
       "'C:\\\\Users\\\\Prithvi\\\\anaconda3\\\\envs\\\\udemyllm\\\\python.exe'"
      ]
     },
     "execution_count": 5,
     "metadata": {},
     "output_type": "execute_result"
    }
   ],
   "source": [
    "import sys\n",
    "sys.executable"
   ]
  },
  {
   "cell_type": "code",
   "execution_count": 6,
   "id": "b6d5cfe0-bdd2-4b17-baf7-fa2370db3921",
   "metadata": {},
   "outputs": [
    {
     "data": {
      "text/plain": [
       "'udemyllm'"
      ]
     },
     "execution_count": 6,
     "metadata": {},
     "output_type": "execute_result"
    }
   ],
   "source": [
    "os.environ.get('CONDA_DEFAULT_ENV')"
   ]
  },
  {
   "cell_type": "code",
   "execution_count": null,
   "id": "2cf3fae7-a051-499b-8ef8-d57bc5b71699",
   "metadata": {},
   "outputs": [],
   "source": []
  },
  {
   "cell_type": "code",
   "execution_count": null,
   "id": "420eb1eb-a649-4994-974b-d0246d720ea6",
   "metadata": {},
   "outputs": [],
   "source": []
  },
  {
   "cell_type": "markdown",
   "id": "be4969cd-86b1-4e27-a4e7-bcbbd72c02b9",
   "metadata": {},
   "source": [
    "#### Check API key correctness"
   ]
  },
  {
   "cell_type": "code",
   "execution_count": 7,
   "id": "1bd47236-e6b8-4d79-b17a-afa17556d9f3",
   "metadata": {},
   "outputs": [
    {
     "name": "stdout",
     "output_type": "stream",
     "text": [
      "API key looks correct\n"
     ]
    }
   ],
   "source": [
    "if api_key.startswith('sk-proj') and len(api_key) > 10:\n",
    "    print(\"API key looks correct\")\n",
    "else:\n",
    "    print(\"API key is not correct\")"
   ]
  },
  {
   "cell_type": "code",
   "execution_count": 219,
   "id": "8698003e-455b-4fef-addf-76b9417b6599",
   "metadata": {},
   "outputs": [],
   "source": [
    "MODEL = 'tinyllama:latest'\n",
    "MODEL = 'gemma3:latest'\n",
    "MODEL = 'gpt-4.1-nano'"
   ]
  },
  {
   "cell_type": "code",
   "execution_count": 220,
   "id": "c7670679-1f88-41e4-996d-0c8f9fd70fe4",
   "metadata": {},
   "outputs": [],
   "source": [
    "# openai = OpenAI(base_url=\"http://localhost:11434/v1\", api_key=\"ollama\")\n",
    "openai = OpenAI()"
   ]
  },
  {
   "cell_type": "code",
   "execution_count": 221,
   "id": "c1a4e7b5-a172-4e73-864f-05c15ad09047",
   "metadata": {},
   "outputs": [
    {
     "data": {
      "text/plain": [
       "<openai.OpenAI at 0x1ce3b3ce790>"
      ]
     },
     "execution_count": 221,
     "metadata": {},
     "output_type": "execute_result"
    }
   ],
   "source": [
    "openai"
   ]
  },
  {
   "cell_type": "code",
   "execution_count": 222,
   "id": "0d4bd0eb-7a3b-4552-8366-41113de0f03f",
   "metadata": {},
   "outputs": [
    {
     "data": {
      "text/plain": [
       "openai.OpenAI"
      ]
     },
     "execution_count": 222,
     "metadata": {},
     "output_type": "execute_result"
    }
   ],
   "source": [
    "type(openai)"
   ]
  },
  {
   "cell_type": "code",
   "execution_count": 223,
   "id": "e7a8d2d3-6984-45a3-8f2f-e7ada5e309e1",
   "metadata": {},
   "outputs": [
    {
     "data": {
      "text/plain": [
       "'gpt-4.1-nano'"
      ]
     },
     "execution_count": 223,
     "metadata": {},
     "output_type": "execute_result"
    }
   ],
   "source": [
    "MODEL"
   ]
  },
  {
   "cell_type": "code",
   "execution_count": 203,
   "id": "cc03f76c-299b-4f7b-afa9-eb554ac2bb61",
   "metadata": {},
   "outputs": [],
   "source": [
    "headers= {\n",
    " \"User-Agent\": \"Mozilla/5.0 (Windows NT 10.0; Win64; x64) AppleWebKit/537.36 (KHTML, like Gecko) Chrome/117.0.0.0 Safari/537.36\"\n",
    "}"
   ]
  },
  {
   "cell_type": "code",
   "execution_count": 204,
   "id": "b96d5eae-6eee-4467-b868-60b13ba771dc",
   "metadata": {},
   "outputs": [
    {
     "data": {
      "text/plain": [
       "dict"
      ]
     },
     "execution_count": 204,
     "metadata": {},
     "output_type": "execute_result"
    }
   ],
   "source": [
    "type(headers)"
   ]
  },
  {
   "cell_type": "code",
   "execution_count": 205,
   "id": "82bdf8c0-c3ba-416c-9836-01b51e945e5c",
   "metadata": {},
   "outputs": [],
   "source": [
    "url = \"https://www.bbc.co.uk/\""
   ]
  },
  {
   "cell_type": "code",
   "execution_count": 138,
   "id": "639eb695-cad3-455b-a7a1-68773f9d780a",
   "metadata": {},
   "outputs": [],
   "source": [
    "response = requests.get(url, headers=headers)"
   ]
  },
  {
   "cell_type": "code",
   "execution_count": 140,
   "id": "44d28a8e-c750-442f-a270-d9f91564ea28",
   "metadata": {},
   "outputs": [],
   "source": [
    "body = response.content"
   ]
  },
  {
   "cell_type": "code",
   "execution_count": 142,
   "id": "6c1d7db9-92d4-4a85-8ab0-00f9d4527c09",
   "metadata": {},
   "outputs": [
    {
     "data": {
      "text/plain": [
       "bytes"
      ]
     },
     "execution_count": 142,
     "metadata": {},
     "output_type": "execute_result"
    }
   ],
   "source": [
    "type(body)"
   ]
  },
  {
   "cell_type": "code",
   "execution_count": 143,
   "id": "2dd989f9-146f-4bfa-ab6b-2914c762c35e",
   "metadata": {},
   "outputs": [],
   "source": [
    "soup = BeautifulSoup(body, 'html.parser')"
   ]
  },
  {
   "cell_type": "code",
   "execution_count": 147,
   "id": "e020ee36-11d5-4a90-bfda-c8e8309d7795",
   "metadata": {},
   "outputs": [],
   "source": [
    "for i in soup.body([\"script\", \"style\", \"img\", \"input\"]):\n",
    "    i.decompose()"
   ]
  },
  {
   "cell_type": "code",
   "execution_count": 149,
   "id": "ad438a32-e539-4f2c-8f0e-3a87a2e604f5",
   "metadata": {},
   "outputs": [],
   "source": [
    "text = soup.body.get_text(separator = \"\\n\", strip = True)"
   ]
  },
  {
   "cell_type": "code",
   "execution_count": 158,
   "id": "7f754251-1a49-41f9-a0b3-cd1491dfd72a",
   "metadata": {},
   "outputs": [],
   "source": [
    "links = [i.get('href') for i in soup.find_all(\"a\")]"
   ]
  },
  {
   "cell_type": "code",
   "execution_count": 160,
   "id": "2089c2f7-051d-4f73-9199-1927f2c08350",
   "metadata": {},
   "outputs": [
    {
     "data": {
      "text/plain": [
       "list"
      ]
     },
     "execution_count": 160,
     "metadata": {},
     "output_type": "execute_result"
    }
   ],
   "source": [
    "type(links)"
   ]
  },
  {
   "cell_type": "code",
   "execution_count": 161,
   "id": "c0162da8-283c-45be-969c-2482bed345f1",
   "metadata": {},
   "outputs": [
    {
     "data": {
      "text/plain": [
       "'https://www.bbc.co.uk/'"
      ]
     },
     "execution_count": 161,
     "metadata": {},
     "output_type": "execute_result"
    }
   ],
   "source": [
    "url"
   ]
  },
  {
   "cell_type": "code",
   "execution_count": 165,
   "id": "2466eea7-0474-4e01-bbc9-7661bd4faa78",
   "metadata": {},
   "outputs": [],
   "source": [
    "a= f\"Input website is: {url}\""
   ]
  },
  {
   "cell_type": "code",
   "execution_count": 166,
   "id": "96451727-97de-476a-b0a2-15716d82c58c",
   "metadata": {},
   "outputs": [
    {
     "data": {
      "text/plain": [
       "'Input website is: https://www.bbc.co.uk/'"
      ]
     },
     "execution_count": 166,
     "metadata": {},
     "output_type": "execute_result"
    }
   ],
   "source": [
    "a"
   ]
  },
  {
   "cell_type": "code",
   "execution_count": 167,
   "id": "a1151e90-e6d2-4879-a5e7-53329a3467b8",
   "metadata": {},
   "outputs": [
    {
     "data": {
      "text/plain": [
       "str"
      ]
     },
     "execution_count": 167,
     "metadata": {},
     "output_type": "execute_result"
    }
   ],
   "source": [
    "type(a)"
   ]
  },
  {
   "cell_type": "code",
   "execution_count": null,
   "id": "8e8d0877-8b0a-4279-8b37-c2a5c0db8240",
   "metadata": {},
   "outputs": [],
   "source": []
  },
  {
   "cell_type": "code",
   "execution_count": null,
   "id": "5b4b6a76-5b43-4758-b884-e70c25a76524",
   "metadata": {},
   "outputs": [],
   "source": []
  },
  {
   "cell_type": "code",
   "execution_count": null,
   "id": "0b0bed21-c6c3-468a-b242-6a53c90c25d7",
   "metadata": {},
   "outputs": [],
   "source": []
  },
  {
   "cell_type": "code",
   "execution_count": 224,
   "id": "6e891094-4464-4cba-b6e5-5ac63c76bbbd",
   "metadata": {},
   "outputs": [],
   "source": [
    "# A class to represent a Webpage\n",
    "\n",
    "# Some websites need you to use proper headers when fetching them:\n",
    "headers = {\n",
    " \"User-Agent\": \"Mozilla/5.0 (Windows NT 10.0; Win64; x64) AppleWebKit/537.36 (KHTML, like Gecko) Chrome/117.0.0.0 Safari/537.36\"\n",
    "}\n",
    "\n",
    "class Website:\n",
    "    \"\"\"\n",
    "    A utility class to represent a Website that we have scraped, now with links\n",
    "    \"\"\"\n",
    "\n",
    "    def __init__(self, url):\n",
    "        self.url = url\n",
    "        response = requests.get(url, headers=headers)\n",
    "        self.body = response.content\n",
    "        soup = BeautifulSoup(self.body, 'html.parser')\n",
    "        self.title = soup.title.string if soup.title else \"No title found\"\n",
    "        if soup.body:\n",
    "            for irrelevant in soup.body([\"script\", \"style\", \"img\", \"input\"]):\n",
    "                irrelevant.decompose()\n",
    "            self.text = soup.body.get_text(separator=\"\\n\", strip=True)\n",
    "        else:\n",
    "            self.text = \"\"\n",
    "        links = [link.get('href') for link in soup.find_all('a')]\n",
    "        self.links = [link for link in links if link]\n",
    "\n",
    "    def get_contents(self):\n",
    "        return f\"Webpage Title:\\n{self.title}\\nWebpage Contents:\\n{self.text}\\n\\n\""
   ]
  },
  {
   "cell_type": "code",
   "execution_count": 126,
   "id": "a4ee7894-f36e-4dfb-9036-5f46525cb389",
   "metadata": {},
   "outputs": [],
   "source": [
    "a = Website(\"https://www.bbc.co.uk/\")"
   ]
  },
  {
   "cell_type": "code",
   "execution_count": null,
   "id": "9a04eb25-0e56-4c4d-8c26-397436052601",
   "metadata": {},
   "outputs": [],
   "source": [
    "f\"Webpage Title"
   ]
  },
  {
   "cell_type": "code",
   "execution_count": 175,
   "id": "5d4b4f06-3a0a-4353-bfb8-8d009d0fcb6c",
   "metadata": {},
   "outputs": [],
   "source": [
    "a = \"how are you doing \\\n",
    "I am doing fine\""
   ]
  },
  {
   "cell_type": "code",
   "execution_count": 176,
   "id": "484676d5-017f-44d5-9c8c-25bc576e80f7",
   "metadata": {},
   "outputs": [
    {
     "data": {
      "text/plain": [
       "'how are you doing I am doing fine'"
      ]
     },
     "execution_count": 176,
     "metadata": {},
     "output_type": "execute_result"
    }
   ],
   "source": [
    "a"
   ]
  },
  {
   "cell_type": "code",
   "execution_count": 177,
   "id": "b11dbd4e-bde4-4655-b0d4-e1984a2f3817",
   "metadata": {},
   "outputs": [
    {
     "name": "stdout",
     "output_type": "stream",
     "text": [
      "how are you doing I am doing fine\n"
     ]
    }
   ],
   "source": [
    "print(a)"
   ]
  },
  {
   "cell_type": "code",
   "execution_count": null,
   "id": "93678cef-daf8-4918-8c56-0b8956fbded1",
   "metadata": {},
   "outputs": [],
   "source": []
  },
  {
   "cell_type": "code",
   "execution_count": null,
   "id": "09755490-4000-435c-91ad-ad4b1e980f66",
   "metadata": {},
   "outputs": [],
   "source": []
  },
  {
   "cell_type": "code",
   "execution_count": 127,
   "id": "05039ba0-e2f3-4b32-8ddb-27f37aa9e995",
   "metadata": {},
   "outputs": [],
   "source": [
    "link_system_prompt = \"You are provided with a list of links found on a webpage. \\\n",
    "You are able to decide which of the links would be most relevant to include in a brochure about the company, \\\n",
    "such as links to an About page, or a Company page, or Careers/Jobs pages.\\n\"\n",
    "link_system_prompt += \"You should respond in JSON as in this example:\"\n",
    "link_system_prompt += \"\"\"\n",
    "{\n",
    "    \"links\": [\n",
    "        {\"type\": \"about page\", \"url\": \"https://full.url/goes/here/about\"},\n",
    "        {\"type\": \"careers page\": \"url\": \"https://another.full.url/careers\"}\n",
    "    ]\n",
    "}\n",
    "\"\"\""
   ]
  },
  {
   "cell_type": "code",
   "execution_count": 128,
   "id": "ef743e81-4806-43dd-9ce7-a10d68b36736",
   "metadata": {},
   "outputs": [
    {
     "data": {
      "text/plain": [
       "'You are provided with a list of links found on a webpage. You are able to decide which of the links would be most relevant to include in a brochure about the company, such as links to an About page, or a Company page, or Careers/Jobs pages.\\nYou should respond in JSON as in this example:\\n{\\n    \"links\": [\\n        {\"type\": \"about page\", \"url\": \"https://full.url/goes/here/about\"},\\n        {\"type\": \"careers page\": \"url\": \"https://another.full.url/careers\"}\\n    ]\\n}\\n'"
      ]
     },
     "execution_count": 128,
     "metadata": {},
     "output_type": "execute_result"
    }
   ],
   "source": [
    "link_system_prompt"
   ]
  },
  {
   "cell_type": "code",
   "execution_count": null,
   "id": "0f7d017b-2b44-4aec-905d-2084f7d9bcce",
   "metadata": {},
   "outputs": [],
   "source": []
  },
  {
   "cell_type": "code",
   "execution_count": 178,
   "id": "673c7dc3-6b3f-4b34-9659-b9d1d3b483d1",
   "metadata": {},
   "outputs": [],
   "source": [
    "def get_links_user_prompt(website):\n",
    "    user_prompt = f\"Here is the list of links on the website of {website.url} - \"\n",
    "    user_prompt += \"please decide which of these are relevant web links for a brochure about the company, respond with the full https URL in JSON format. \\\n",
    "Do not include Terms of Service, Privacy, email links.\\n\"\n",
    "    user_prompt += \"Links (some might be relative links):\\n\"\n",
    "    user_prompt += \"\\n\".join(website.links)\n",
    "    return user_prompt"
   ]
  },
  {
   "cell_type": "code",
   "execution_count": null,
   "id": "3541efe7-f66d-491e-b14a-4343cf360faa",
   "metadata": {},
   "outputs": [],
   "source": []
  },
  {
   "cell_type": "code",
   "execution_count": 206,
   "id": "757d87f7-fadb-4314-a228-38be13a2bfaa",
   "metadata": {},
   "outputs": [],
   "source": [
    "def get_links(url):\n",
    "    website = Website(url)\n",
    "    response = openai.chat.completions.create(\n",
    "        model=MODEL,\n",
    "        messages=[\n",
    "            {\"role\": \"system\", \"content\": link_system_prompt},\n",
    "            {\"role\": \"user\", \"content\": get_links_user_prompt(website)}\n",
    "      ],\n",
    "        response_format={\"type\": \"json_object\"}\n",
    "    )\n",
    "    result = response.choices[0].message.content\n",
    "    return json.loads(result)"
   ]
  },
  {
   "cell_type": "code",
   "execution_count": 225,
   "id": "43f63a9b-7144-40f8-9bcd-92859d9111ea",
   "metadata": {},
   "outputs": [],
   "source": [
    "# MODEL = 'gemma3:latest'"
   ]
  },
  {
   "cell_type": "code",
   "execution_count": 226,
   "id": "e7a92d35-b43d-4a47-9481-fc7dd7c184c5",
   "metadata": {},
   "outputs": [
    {
     "data": {
      "text/plain": [
       "'https://www.bbc.co.uk/'"
      ]
     },
     "execution_count": 226,
     "metadata": {},
     "output_type": "execute_result"
    }
   ],
   "source": [
    "url"
   ]
  },
  {
   "cell_type": "code",
   "execution_count": 227,
   "id": "404c4a01-bdfd-4e6e-af51-6a3e87a7e508",
   "metadata": {},
   "outputs": [],
   "source": [
    "a = Website(url)"
   ]
  },
  {
   "cell_type": "code",
   "execution_count": 300,
   "id": "832d601d-7e1b-453a-8aa3-1bca2a9b6fc7",
   "metadata": {},
   "outputs": [],
   "source": [
    "a = openai.chat.completions.create(model = MODEL,\n",
    "                              messages = [\n",
    "                                  {\"role\": \"system\", \n",
    "                                  \"content\": \"Answer in markdown\"},\n",
    "                                  {\"role\": \"user\",\n",
    "                                  \"content\": \"What is capital of France\"}\n",
    "                              ]\n",
    "                              )"
   ]
  },
  {
   "cell_type": "code",
   "execution_count": 305,
   "id": "fd4ccf66-5ad6-45e1-9609-cac0d213b74a",
   "metadata": {},
   "outputs": [
    {
     "data": {
      "text/plain": [
       "ChatCompletion(id='chatcmpl-Bv9MGGiliSUWQaw2qdXBaqid6hBv6', choices=[Choice(finish_reason='stop', index=0, logprobs=None, message=ChatCompletionMessage(content='The capital of France is Paris.', refusal=None, role='assistant', annotations=[], audio=None, function_call=None, tool_calls=None))], created=1752960368, model='gpt-4.1-nano-2025-04-14', object='chat.completion', service_tier='default', system_fingerprint=None, usage=CompletionUsage(completion_tokens=7, prompt_tokens=19, total_tokens=26, completion_tokens_details=CompletionTokensDetails(accepted_prediction_tokens=0, audio_tokens=0, reasoning_tokens=0, rejected_prediction_tokens=0), prompt_tokens_details=PromptTokensDetails(audio_tokens=0, cached_tokens=0)))"
      ]
     },
     "execution_count": 305,
     "metadata": {},
     "output_type": "execute_result"
    }
   ],
   "source": [
    "a"
   ]
  },
  {
   "cell_type": "code",
   "execution_count": 313,
   "id": "7799e0b2-647e-4e08-a16b-5b0575e17ead",
   "metadata": {},
   "outputs": [
    {
     "data": {
      "text/plain": [
       "'The capital of France is Paris.'"
      ]
     },
     "execution_count": 313,
     "metadata": {},
     "output_type": "execute_result"
    }
   ],
   "source": [
    "a.choices[0].message.content"
   ]
  },
  {
   "cell_type": "code",
   "execution_count": 314,
   "id": "d306942e-993b-4cad-950a-a9875d24f060",
   "metadata": {},
   "outputs": [
    {
     "data": {
      "text/plain": [
       "'gpt-4.1-nano'"
      ]
     },
     "execution_count": 314,
     "metadata": {},
     "output_type": "execute_result"
    }
   ],
   "source": [
    "MODEL"
   ]
  },
  {
   "cell_type": "code",
   "execution_count": 316,
   "id": "1650e112-3e67-4cce-85b1-2980cb7518f0",
   "metadata": {},
   "outputs": [],
   "source": [
    "d1 = {\n",
    "    \"name\": \"Alice\",\n",
    "    \"age\": 30,\n",
    "    \"is_student\": False\n",
    "}"
   ]
  },
  {
   "cell_type": "code",
   "execution_count": 317,
   "id": "dfb339f4-1c0e-4e64-a44f-b3c0b87e45ad",
   "metadata": {},
   "outputs": [
    {
     "data": {
      "text/plain": [
       "{'name': 'Alice', 'age': 30, 'is_student': False}"
      ]
     },
     "execution_count": 317,
     "metadata": {},
     "output_type": "execute_result"
    }
   ],
   "source": [
    "d1"
   ]
  },
  {
   "cell_type": "code",
   "execution_count": 318,
   "id": "9f4c4485-a1d5-4752-b6c0-777bad8ce7b2",
   "metadata": {},
   "outputs": [
    {
     "data": {
      "text/plain": [
       "dict"
      ]
     },
     "execution_count": 318,
     "metadata": {},
     "output_type": "execute_result"
    }
   ],
   "source": [
    "type(d1)"
   ]
  },
  {
   "cell_type": "code",
   "execution_count": 320,
   "id": "e9b5fc3f-7e42-4af3-bdf6-0c3861e938cf",
   "metadata": {},
   "outputs": [
    {
     "name": "stdout",
     "output_type": "stream",
     "text": [
      "('name', 'Alice')\n",
      "('age', 30)\n",
      "('is_student', False)\n"
     ]
    }
   ],
   "source": [
    "for i in d1.items():\n",
    "    print(i)"
   ]
  },
  {
   "cell_type": "code",
   "execution_count": 322,
   "id": "cd2fefe0-be6e-4b32-af5b-28fed065e235",
   "metadata": {},
   "outputs": [],
   "source": [
    "j1 = json.dumps(d1)"
   ]
  },
  {
   "cell_type": "code",
   "execution_count": 323,
   "id": "8f33e5e3-cfff-413b-965e-99d178ccc24b",
   "metadata": {},
   "outputs": [
    {
     "data": {
      "text/plain": [
       "'{\"name\": \"Alice\", \"age\": 30, \"is_student\": false}'"
      ]
     },
     "execution_count": 323,
     "metadata": {},
     "output_type": "execute_result"
    }
   ],
   "source": [
    "j1"
   ]
  },
  {
   "cell_type": "code",
   "execution_count": 324,
   "id": "a39d28e1-744e-4490-b68b-7ddb8906900a",
   "metadata": {},
   "outputs": [
    {
     "data": {
      "text/plain": [
       "str"
      ]
     },
     "execution_count": 324,
     "metadata": {},
     "output_type": "execute_result"
    }
   ],
   "source": [
    "type(j1)"
   ]
  },
  {
   "cell_type": "code",
   "execution_count": 325,
   "id": "a4c2c83f-b4cb-4d85-b65c-ed1af2bd4ff7",
   "metadata": {},
   "outputs": [
    {
     "name": "stdout",
     "output_type": "stream",
     "text": [
      "{\"name\": \"Alice\", \"age\": 30, \"is_student\": false}\n"
     ]
    }
   ],
   "source": [
    "print(j1)"
   ]
  },
  {
   "cell_type": "code",
   "execution_count": 326,
   "id": "8e659a25-efb8-441c-af46-77100299972d",
   "metadata": {},
   "outputs": [
    {
     "data": {
      "text/plain": [
       "dict_keys(['name', 'age', 'is_student'])"
      ]
     },
     "execution_count": 326,
     "metadata": {},
     "output_type": "execute_result"
    }
   ],
   "source": [
    "d1.keys()"
   ]
  },
  {
   "cell_type": "code",
   "execution_count": 327,
   "id": "ca8de12e-e835-48dc-ab0c-29a4ce7e72ee",
   "metadata": {},
   "outputs": [
    {
     "data": {
      "text/plain": [
       "dict_values(['Alice', 30, False])"
      ]
     },
     "execution_count": 327,
     "metadata": {},
     "output_type": "execute_result"
    }
   ],
   "source": [
    "d1.values()"
   ]
  },
  {
   "cell_type": "code",
   "execution_count": 329,
   "id": "cfedf749-18dd-45e9-a44f-ee13a77cb4c6",
   "metadata": {},
   "outputs": [
    {
     "name": "stdout",
     "output_type": "stream",
     "text": [
      "0 ('name', 'Alice')\n",
      "1 ('age', 30)\n",
      "2 ('is_student', False)\n"
     ]
    }
   ],
   "source": [
    "for i, j in enumerate(d1.items()):\n",
    "    print(i, j)"
   ]
  },
  {
   "cell_type": "code",
   "execution_count": 330,
   "id": "e33f4816-5162-4ff6-98f4-7b46d351cb36",
   "metadata": {},
   "outputs": [
    {
     "data": {
      "text/plain": [
       "'Alice'"
      ]
     },
     "execution_count": 330,
     "metadata": {},
     "output_type": "execute_result"
    }
   ],
   "source": [
    "d1['name']"
   ]
  },
  {
   "cell_type": "code",
   "execution_count": 331,
   "id": "4442c945-bebe-4b35-8ca8-d097cbf36f1c",
   "metadata": {},
   "outputs": [
    {
     "data": {
      "text/plain": [
       "dict_keys(['name', 'age', 'is_student'])"
      ]
     },
     "execution_count": 331,
     "metadata": {},
     "output_type": "execute_result"
    }
   ],
   "source": [
    "d1.keys()"
   ]
  },
  {
   "cell_type": "code",
   "execution_count": 334,
   "id": "722f6a16-101b-4d84-bcdb-e6005f048fec",
   "metadata": {},
   "outputs": [],
   "source": [
    "k1 = json.loads(j1)"
   ]
  },
  {
   "cell_type": "code",
   "execution_count": 335,
   "id": "fdbafea7-52db-4e35-bccd-f24cd5218c74",
   "metadata": {},
   "outputs": [
    {
     "data": {
      "text/plain": [
       "{'name': 'Alice', 'age': 30, 'is_student': False}"
      ]
     },
     "execution_count": 335,
     "metadata": {},
     "output_type": "execute_result"
    }
   ],
   "source": [
    "k1"
   ]
  },
  {
   "cell_type": "code",
   "execution_count": 336,
   "id": "2c6ef002-a5d9-4ab3-93e5-024229a84e9a",
   "metadata": {},
   "outputs": [
    {
     "data": {
      "text/plain": [
       "dict"
      ]
     },
     "execution_count": 336,
     "metadata": {},
     "output_type": "execute_result"
    }
   ],
   "source": [
    "type(k1)"
   ]
  },
  {
   "cell_type": "code",
   "execution_count": null,
   "id": "2574cdb1-de02-4a3e-8f97-e44168804a42",
   "metadata": {},
   "outputs": [],
   "source": []
  },
  {
   "cell_type": "code",
   "execution_count": null,
   "id": "6c7a8871-8f39-47cd-9c50-d45628b4b7f3",
   "metadata": {},
   "outputs": [],
   "source": []
  },
  {
   "cell_type": "code",
   "execution_count": null,
   "id": "a433b65e-1e55-4968-82dd-d627ea537644",
   "metadata": {},
   "outputs": [],
   "source": []
  },
  {
   "cell_type": "code",
   "execution_count": null,
   "id": "00c07a16-9c1a-4cdf-86f0-6157f95f30e0",
   "metadata": {},
   "outputs": [],
   "source": []
  },
  {
   "cell_type": "code",
   "execution_count": null,
   "id": "54d232b3-1943-4048-8fb1-5cdff4e1ce10",
   "metadata": {},
   "outputs": [],
   "source": []
  },
  {
   "cell_type": "code",
   "execution_count": 229,
   "id": "684bced1-64e0-4f81-a781-21bbbbadbc5c",
   "metadata": {},
   "outputs": [
    {
     "data": {
      "text/plain": [
       "{'links': [{'type': 'about page', 'url': 'https://www.bbc.co.uk/aboutthebbc'},\n",
       "  {'type': 'governance/mission',\n",
       "   'url': 'https://aboutthebbc/governance/mission'},\n",
       "  {'type': 'what we do', 'url': 'https://www.bbc.co.uk/whatwedo/'},\n",
       "  {'type': 'documents',\n",
       "   'url': 'https://www.bbc.co.uk/documents/bbcmsa2025.pdf'}]}"
      ]
     },
     "execution_count": 229,
     "metadata": {},
     "output_type": "execute_result"
    }
   ],
   "source": [
    "get_links(\"https://www.bbc.co.uk/\")"
   ]
  },
  {
   "cell_type": "code",
   "execution_count": 230,
   "id": "19a0433f-8ef4-4593-9147-23a9f5471235",
   "metadata": {},
   "outputs": [
    {
     "data": {
      "text/plain": [
       "'https://www.bbc.co.uk/'"
      ]
     },
     "execution_count": 230,
     "metadata": {},
     "output_type": "execute_result"
    }
   ],
   "source": [
    "url"
   ]
  },
  {
   "cell_type": "code",
   "execution_count": 231,
   "id": "654187cc-0bf7-4bd3-aaf2-4de2e074d80e",
   "metadata": {},
   "outputs": [],
   "source": [
    "url = \"https://edwarddonner.com\""
   ]
  },
  {
   "cell_type": "code",
   "execution_count": 232,
   "id": "bb8c9399-177e-4106-a987-300d15f38c27",
   "metadata": {},
   "outputs": [
    {
     "data": {
      "text/plain": [
       "'https://edwarddonner.com'"
      ]
     },
     "execution_count": 232,
     "metadata": {},
     "output_type": "execute_result"
    }
   ],
   "source": [
    "url"
   ]
  },
  {
   "cell_type": "code",
   "execution_count": 233,
   "id": "a6b263f7-d33f-461f-9f0c-1e4eff0ae945",
   "metadata": {},
   "outputs": [
    {
     "data": {
      "text/plain": [
       "{'links': [{'type': 'about page',\n",
       "   'url': 'https://edwarddonner.com/about-me-and-about-nebula/'},\n",
       "  {'type': 'linkedin profile',\n",
       "   'url': 'https://www.linkedin.com/in/eddonner/'}]}"
      ]
     },
     "execution_count": 233,
     "metadata": {},
     "output_type": "execute_result"
    }
   ],
   "source": [
    "get_links(url)"
   ]
  },
  {
   "cell_type": "code",
   "execution_count": null,
   "id": "989ac2a8-cc77-4371-9e16-7da254fe4579",
   "metadata": {},
   "outputs": [],
   "source": []
  },
  {
   "cell_type": "code",
   "execution_count": 234,
   "id": "3da5eb1b-1961-421f-9ebd-82e081381b59",
   "metadata": {},
   "outputs": [
    {
     "data": {
      "text/plain": [
       "'gpt-4.1-nano'"
      ]
     },
     "execution_count": 234,
     "metadata": {},
     "output_type": "execute_result"
    }
   ],
   "source": [
    "MODEL"
   ]
  },
  {
   "cell_type": "code",
   "execution_count": null,
   "id": "888e5b7f-4268-4b88-aaed-ce88047a47fc",
   "metadata": {},
   "outputs": [],
   "source": []
  },
  {
   "cell_type": "code",
   "execution_count": 235,
   "id": "6f605f3f-95af-4627-b89f-aeda7e8ec768",
   "metadata": {},
   "outputs": [],
   "source": [
    "# Anthropic has made their site harder to scrape, so I'm using HuggingFace..\n",
    "\n",
    "huggingface = Website(\"https://huggingface.co\")"
   ]
  },
  {
   "cell_type": "code",
   "execution_count": 236,
   "id": "06c3f7c0-f1a6-461b-8fc4-644a8ce56aa8",
   "metadata": {},
   "outputs": [
    {
     "data": {
      "text/plain": [
       "<__main__.Website at 0x1ce3ba74990>"
      ]
     },
     "execution_count": 236,
     "metadata": {},
     "output_type": "execute_result"
    }
   ],
   "source": [
    "huggingface"
   ]
  },
  {
   "cell_type": "code",
   "execution_count": 240,
   "id": "0c996665-027a-4898-91f3-6660fe2bfb7e",
   "metadata": {},
   "outputs": [
    {
     "data": {
      "text/plain": [
       "'Hugging Face – The AI community building the future.'"
      ]
     },
     "execution_count": 240,
     "metadata": {},
     "output_type": "execute_result"
    }
   ],
   "source": [
    "huggingface.title"
   ]
  },
  {
   "cell_type": "code",
   "execution_count": 241,
   "id": "ff8e27c9-2a3c-44ca-95bb-57b9fb8255a1",
   "metadata": {},
   "outputs": [
    {
     "data": {
      "text/plain": [
       "'https://huggingface.co'"
      ]
     },
     "execution_count": 241,
     "metadata": {},
     "output_type": "execute_result"
    }
   ],
   "source": [
    "huggingface.url"
   ]
  },
  {
   "cell_type": "code",
   "execution_count": 243,
   "id": "71566a2e-8bf5-4bb2-9b41-5719a55b4d50",
   "metadata": {},
   "outputs": [],
   "source": [
    "a = Website(\"https://timesofindia.indiatimes.com/\")"
   ]
  },
  {
   "cell_type": "code",
   "execution_count": 245,
   "id": "b8d3e1a1-ba54-4907-97c5-30f89a24775b",
   "metadata": {},
   "outputs": [
    {
     "data": {
      "text/plain": [
       "'News - Breaking News,  Latest News, India News, World News, Bollywood, Sports, Business and Political News | Times of India'"
      ]
     },
     "execution_count": 245,
     "metadata": {},
     "output_type": "execute_result"
    }
   ],
   "source": [
    "a.title"
   ]
  },
  {
   "cell_type": "code",
   "execution_count": 246,
   "id": "540ccf85-eeaa-4640-a6b6-d4251ecd1d87",
   "metadata": {},
   "outputs": [],
   "source": [
    "url = \"https://huggingface.co/\""
   ]
  },
  {
   "cell_type": "code",
   "execution_count": 247,
   "id": "e29a2531-9b11-45c0-b48f-2500b2afca6f",
   "metadata": {},
   "outputs": [
    {
     "data": {
      "text/plain": [
       "{'links': [{'type': 'about page', 'url': 'https://huggingface.co/docs'},\n",
       "  {'type': 'company page', 'url': 'https://huggingface.co/'},\n",
       "  {'type': 'careers page', 'url': 'https://apply.workable.com/huggingface/'},\n",
       "  {'type': 'press/brand info', 'url': 'https://huggingface.co/brand'},\n",
       "  {'type': 'blog', 'url': 'https://blog.huggingface.co/'}]}"
      ]
     },
     "execution_count": 247,
     "metadata": {},
     "output_type": "execute_result"
    }
   ],
   "source": [
    "get_links(url)"
   ]
  },
  {
   "cell_type": "markdown",
   "id": "8b2cc35d-7dc3-44d2-ab96-5408fbfa5a40",
   "metadata": {},
   "source": [
    "#### Create brochure"
   ]
  },
  {
   "cell_type": "code",
   "execution_count": 248,
   "id": "e0e7e060-477c-4ed8-9165-0b88b7488f40",
   "metadata": {},
   "outputs": [
    {
     "data": {
      "text/plain": [
       "'https://huggingface.co/'"
      ]
     },
     "execution_count": 248,
     "metadata": {},
     "output_type": "execute_result"
    }
   ],
   "source": [
    "url"
   ]
  },
  {
   "cell_type": "code",
   "execution_count": 250,
   "id": "2c8be003-5373-4ba3-9d22-a23d3a9c458c",
   "metadata": {},
   "outputs": [],
   "source": [
    "a = Website(url)"
   ]
  },
  {
   "cell_type": "code",
   "execution_count": 258,
   "id": "df00550e-8526-4f39-b1a4-65a080a84558",
   "metadata": {},
   "outputs": [],
   "source": [
    "result = \"Landing page: \\n\""
   ]
  },
  {
   "cell_type": "code",
   "execution_count": 259,
   "id": "7e2b2445-c0ed-437c-ac1a-b6d59d277ec2",
   "metadata": {},
   "outputs": [
    {
     "data": {
      "text/plain": [
       "'Landing page: \\n'"
      ]
     },
     "execution_count": 259,
     "metadata": {},
     "output_type": "execute_result"
    }
   ],
   "source": [
    "result"
   ]
  },
  {
   "cell_type": "code",
   "execution_count": 260,
   "id": "1b272289-11e3-4dab-ad8a-bcdb31d264a6",
   "metadata": {},
   "outputs": [
    {
     "name": "stdout",
     "output_type": "stream",
     "text": [
      "Landing page: \n",
      "\n"
     ]
    }
   ],
   "source": [
    "print(result)"
   ]
  },
  {
   "cell_type": "code",
   "execution_count": 261,
   "id": "49331c8b-3698-4dca-b430-5e76b64a70d1",
   "metadata": {},
   "outputs": [
    {
     "data": {
      "text/plain": [
       "'Hugging Face – The AI community building the future.'"
      ]
     },
     "execution_count": 261,
     "metadata": {},
     "output_type": "execute_result"
    }
   ],
   "source": [
    "a.title"
   ]
  },
  {
   "cell_type": "code",
   "execution_count": 262,
   "id": "c0caa25f-f088-48d4-94e2-38dab34adca0",
   "metadata": {},
   "outputs": [
    {
     "data": {
      "text/plain": [
       "'https://huggingface.co/'"
      ]
     },
     "execution_count": 262,
     "metadata": {},
     "output_type": "execute_result"
    }
   ],
   "source": [
    "a.url"
   ]
  },
  {
   "cell_type": "code",
   "execution_count": 265,
   "id": "74fd4236-ebbe-48fe-b97f-a9b68dc0cb8f",
   "metadata": {},
   "outputs": [],
   "source": [
    "def get_all_details(url):\n",
    "    result = \"Landing page:\\n\"\n",
    "    result += Website(url).get_contents()\n",
    "    links = get_links(url)\n",
    "    print(\"Found links:\", links)\n",
    "    for link in links[\"links\"]:\n",
    "        result += f\"\\n\\n{link['type']}\\n\"\n",
    "        result += Website(link[\"url\"]).get_contents()\n",
    "    return result"
   ]
  },
  {
   "cell_type": "code",
   "execution_count": 341,
   "id": "22fb37c3-ec06-4bd2-be56-1510c4ea87a4",
   "metadata": {},
   "outputs": [],
   "source": [
    "url = \"https://www.anthropic.com/\""
   ]
  },
  {
   "cell_type": "code",
   "execution_count": 342,
   "id": "f9d52f00-ba1a-4747-9317-e28cb076f02a",
   "metadata": {},
   "outputs": [
    {
     "name": "stdout",
     "output_type": "stream",
     "text": [
      "Found links: {'links': [{'type': 'about page', 'url': 'https://www.anthropic.com/company'}, {'type': 'team page', 'url': 'https://www.anthropic.com/team'}, {'type': 'careers page', 'url': 'https://www.anthropic.com/careers'}, {'type': 'research page', 'url': 'https://www.anthropic.com/research'}, {'type': 'solutions pages', 'url': 'https://www.anthropic.com/solutions/agents'}, {'type': 'solutions pages', 'url': 'https://www.anthropic.com/solutions/coding'}, {'type': 'solutions pages', 'url': 'https://www.anthropic.com/solutions/customer-support'}, {'type': 'solutions pages', 'url': 'https://www.anthropic.com/solutions/education'}, {'type': 'solutions pages', 'url': 'https://www.anthropic.com/solutions/financial-services'}, {'type': 'products', 'url': 'https://www.anthropic.com/claude'}, {'type': 'news page', 'url': 'https://www.anthropic.com/news'}, {'type': 'company info', 'url': 'https://www.anthropic.com/company'}, {'type': 'investor or partnership info', 'url': 'https://www.anthropic.com/partners/mcp'}, {'type': 'privacy policy', 'url': 'https://www.anthropic.com/legal/privacy'}, {'type': 'cookies policy', 'url': 'https://www.anthropic.com/legal/cookies'}]}\n"
     ]
    }
   ],
   "source": [
    "a = get_all_details(url)"
   ]
  },
  {
   "cell_type": "code",
   "execution_count": null,
   "id": "88c919dd-4e5a-4af8-931c-1ad58ab35d42",
   "metadata": {},
   "outputs": [],
   "source": []
  },
  {
   "cell_type": "code",
   "execution_count": 266,
   "id": "80691981-c81d-4ed8-8683-4bdcb87e8812",
   "metadata": {},
   "outputs": [
    {
     "name": "stdout",
     "output_type": "stream",
     "text": [
      "Found links: {'links': [{'type': 'about page', 'url': 'https://huggingface.co/about'}, {'type': 'company page', 'url': 'https://huggingface.co'}, {'type': 'models page', 'url': 'https://huggingface.co/models'}, {'type': 'datasets page', 'url': 'https://huggingface.co/datasets'}, {'type': 'spaces page', 'url': 'https://huggingface.co/spaces'}, {'type': 'documentation', 'url': 'https://huggingface.co/docs'}, {'type': 'enterprise page', 'url': 'https://huggingface.co/enterprise'}, {'type': 'pricing page', 'url': 'https://huggingface.co/pricing'}, {'type': 'blog', 'url': 'https://huggingface.co/blog'}, {'type': 'learn page', 'url': 'https://huggingface.co/learn'}, {'type': 'status page', 'url': 'https://status.huggingface.co/'}, {'type': 'community forum', 'url': 'https://discuss.huggingface.co'}, {'type': 'github repository', 'url': 'https://github.com/huggingface'}, {'type': 'LinkedIn profile', 'url': 'https://www.linkedin.com/company/huggingface/'}, {'type': 'Twitter profile', 'url': 'https://twitter.com/huggingface'}, {'type': 'Discord server', 'url': 'https://huggingface.co/join/discord'}]}\n"
     ]
    }
   ],
   "source": [
    "b = get_all_details(url)"
   ]
  },
  {
   "cell_type": "code",
   "execution_count": 268,
   "id": "e7fd580a-37cd-4d11-9bbe-54a3892be5ca",
   "metadata": {},
   "outputs": [
    {
     "data": {
      "text/plain": [
       "str"
      ]
     },
     "execution_count": 268,
     "metadata": {},
     "output_type": "execute_result"
    }
   ],
   "source": [
    "type(b)"
   ]
  },
  {
   "cell_type": "code",
   "execution_count": null,
   "id": "82abb947-fcf4-494b-93a1-01bbdf20189e",
   "metadata": {},
   "outputs": [],
   "source": []
  },
  {
   "cell_type": "code",
   "execution_count": 285,
   "id": "4e0966de-6db6-4e8d-98da-0776d4eb78f1",
   "metadata": {},
   "outputs": [],
   "source": [
    "system_prompt = \"You are an assistant that analyzes the contents of several relevant pages from a company website \\\n",
    "and creates a short brochure about the company for prospective customers, investors and recruits. Respond in markdown.\\\n",
    "Include details of company culture, customers and careers/jobs if you have the information. Make it humorous\"\n",
    "\n",
    "# Or uncomment the lines below for a more humorous brochure - this demonstrates how easy it is to incorporate 'tone':\n",
    "\n",
    "# system_prompt = \"You are an assistant that analyzes the contents of several relevant pages from a company website \\\n",
    "# and creates a short humorous, entertaining, jokey brochure about the company for prospective customers, investors and recruits. Respond in markdown.\\\n",
    "# Include details of company culture, customers and careers/jobs if you have the information.\"\n"
   ]
  },
  {
   "cell_type": "code",
   "execution_count": 286,
   "id": "cfbccaf9-5826-4b52-be72-85c4f1ebe1c4",
   "metadata": {},
   "outputs": [
    {
     "name": "stdout",
     "output_type": "stream",
     "text": [
      "You are an assistant that analyzes the contents of several relevant pages from a company website and creates a short brochure about the company for prospective customers, investors and recruits. Respond in markdown.Include details of company culture, customers and careers/jobs if you have the information. Make it humorous\n"
     ]
    }
   ],
   "source": [
    "print(system_prompt)"
   ]
  },
  {
   "cell_type": "code",
   "execution_count": 287,
   "id": "ec1c7b9e-6387-4de5-85f3-a2ba9668bfa5",
   "metadata": {},
   "outputs": [],
   "source": [
    "def get_brochure_user_prompt(company_name, url):\n",
    "    user_prompt = f\"You are looking at a company called: {company_name}\\n\"\n",
    "    user_prompt += f\"Here are the contents of its landing page and other relevant pages; use this information to build a short brochure of the company in markdown.\\n\"\n",
    "    user_prompt += get_all_details(url)\n",
    "    user_prompt = user_prompt[:5_000] # Truncate if more than 5,000 characters\n",
    "    return user_prompt"
   ]
  },
  {
   "cell_type": "code",
   "execution_count": 292,
   "id": "98d8f3a9-6617-4ef2-9c10-7e4eb1f59156",
   "metadata": {},
   "outputs": [
    {
     "name": "stdout",
     "output_type": "stream",
     "text": [
      "Found links: {'links': [{'type': 'about page', 'url': 'https://huggingface.co/docs'}, {'type': 'company page', 'url': 'https://huggingface.co'}, {'type': 'models overview', 'url': 'https://huggingface.co/models'}, {'type': 'datasets overview', 'url': 'https://huggingface.co/datasets'}, {'type': 'spaces overview', 'url': 'https://huggingface.co/spaces'}, {'type': 'enterprise page', 'url': 'https://huggingface.co/enterprise'}, {'type': 'pricing page', 'url': 'https://huggingface.co/pricing'}, {'type': 'blog', 'url': 'https://huggingface.co/blog'}, {'type': 'learn page', 'url': 'https://huggingface.co/learn'}, {'type': 'discussion forum', 'url': 'https://discuss.huggingface.co'}, {'type': 'status page', 'url': 'https://status.huggingface.co/'}, {'type': 'github repository', 'url': 'https://github.com/huggingface'}, {'type': 'twitter', 'url': 'https://twitter.com/huggingface'}, {'type': 'LinkedIn', 'url': 'https://www.linkedin.com/company/huggingface/'}]}\n"
     ]
    }
   ],
   "source": [
    "a = get_brochure_user_prompt(\"HuggingFace\", \"https://huggingface.co\")"
   ]
  },
  {
   "cell_type": "code",
   "execution_count": null,
   "id": "dcd286d2-852b-4797-b2b5-9f6839d53d60",
   "metadata": {},
   "outputs": [],
   "source": []
  },
  {
   "cell_type": "code",
   "execution_count": null,
   "id": "ccc8dc68-026c-474c-b154-2494e120c60e",
   "metadata": {},
   "outputs": [],
   "source": []
  },
  {
   "cell_type": "code",
   "execution_count": null,
   "id": "4a0f50e4-9675-44a2-8447-44c7c94fb20b",
   "metadata": {},
   "outputs": [],
   "source": [
    "def create_brochure(company_name, url):\n",
    "    response = openai.chat.completions.create(\n",
    "        model=MODEL,\n",
    "        messages=[\n",
    "            {\"role\": \"system\", \"content\": system_prompt},\n",
    "            {\"role\": \"user\", \"content\": get_brochure_user_prompt(company_name, url)}\n",
    "          ],\n",
    "    )\n",
    "    result = response.choices[0].message.content\n",
    "    display(Markdown(result))"
   ]
  },
  {
   "cell_type": "code",
   "execution_count": null,
   "id": "fc3c4b02-a59b-4e80-b4c6-fcc24f50fd44",
   "metadata": {
    "scrolled": true
   },
   "outputs": [],
   "source": [
    "create_brochure(\"HuggingFace\", \"https://huggingface.co\")"
   ]
  },
  {
   "cell_type": "code",
   "execution_count": 289,
   "id": "7b5f281b-be6c-473a-98a2-d13d2a9acbb9",
   "metadata": {},
   "outputs": [],
   "source": [
    "def stream_brochure(company_name, url):\n",
    "    stream = openai.chat.completions.create(\n",
    "        model=MODEL,\n",
    "        messages=[\n",
    "            {\"role\": \"system\", \"content\": system_prompt},\n",
    "            {\"role\": \"user\", \"content\": get_brochure_user_prompt(company_name, url)}\n",
    "          ],\n",
    "        stream=True\n",
    "    )\n",
    "    \n",
    "    response = \"\"\n",
    "    display_handle = display(Markdown(\"\"), display_id=True)\n",
    "    for chunk in stream:\n",
    "        response += chunk.choices[0].delta.content or ''\n",
    "        response = response.replace(\"```\",\"\").replace(\"markdown\", \"\")\n",
    "        update_display(Markdown(response), display_id=display_handle.display_id)"
   ]
  },
  {
   "cell_type": "code",
   "execution_count": 345,
   "id": "26b58207-8e06-4159-8e4f-cfc9906a981f",
   "metadata": {},
   "outputs": [
    {
     "data": {
      "text/plain": [
       "'https://www.anthropic.com/'"
      ]
     },
     "execution_count": 345,
     "metadata": {},
     "output_type": "execute_result"
    }
   ],
   "source": [
    "url"
   ]
  },
  {
   "cell_type": "code",
   "execution_count": 359,
   "id": "3ec187ef-2122-46c1-b0d3-872f5fb86785",
   "metadata": {},
   "outputs": [
    {
     "name": "stdout",
     "output_type": "stream",
     "text": [
      "Found links: {'links': [{'type': 'about page', 'url': 'https://www.anthropic.com/company'}, {'type': 'team page', 'url': 'https://www.anthropic.com/team'}, {'type': 'careers page', 'url': 'https://www.anthropic.com/careers'}, {'type': 'solutions', 'url': 'https://www.anthropic.com/solutions/agents'}, {'type': 'solutions', 'url': 'https://www.anthropic.com/solutions/coding'}, {'type': 'solutions', 'url': 'https://www.anthropic.com/solutions/customer-support'}, {'type': 'solutions', 'url': 'https://www.anthropic.com/solutions/education'}, {'type': 'solutions', 'url': 'https://www.anthropic.com/solutions/financial-services'}, {'type': 'research', 'url': 'https://www.anthropic.com/research'}, {'type': 'partners', 'url': 'https://www.anthropic.com/partners/mcp'}, {'type': 'partners', 'url': 'https://www.anthropic.com/partners/powered-by-claude'}]}\n"
     ]
    }
   ],
   "source": [
    "stream = openai.chat.completions.create(\n",
    "        model=MODEL,\n",
    "        messages=[\n",
    "            {\"role\": \"system\", \"content\": system_prompt},\n",
    "            {\"role\": \"user\", \"content\": get_brochure_user_prompt(\"Anthropic\", url)}\n",
    "          ],\n",
    "        stream=True\n",
    "    )"
   ]
  },
  {
   "cell_type": "code",
   "execution_count": 360,
   "id": "2ea1959a-44de-4046-b25b-4ddca080f7d0",
   "metadata": {},
   "outputs": [
    {
     "name": "stdout",
     "output_type": "stream",
     "text": [
      "# Welcome to Anthropic: The AI Company with a Sense of Humor (and Responsibility!)\n",
      "\n",
      "## Who Are We?\n",
      "\n",
      "At **Anthropic**, we're building the future of AI—think less \"Skynet\" and more \"Helpful Sidekick.\" Our mission? Create *powerful*, *safe*, and *humane* AI that benefits humankind — because just because machines can think faster than us doesn’t mean they should outsmart us on kindness.\n",
      "\n",
      "## Our Big Brain (Models)\n",
      "\n",
      "- **Claude Opus 4**: Our flagship, the Einstein of AI models. It’s so smart it makes Jeff Goldblum look like a beginner.\n",
      "- **Claude Sonnet 4**: Our poetic genius—yes, AI poetry is a thing now.\n",
      "- **Claude Haiku 3.5**: Perfect for those quick, Zen moments of enlightenment... or simply debugging code.\n",
      "\n",
      "## What Can You Do With Us?\n",
      "\n",
      "- Build **AI apps** with our APIs (think: robot that actually understands what you’re saying).\n",
      "- Deploy **AI agents** that collaborate, code, support, educate, and even (wait for it) *think responsibly*.\n",
      "- Use our models for **financial services** or **customer support** — because even your latte order deserves AI kindness.\n",
      "\n",
      "## Our Philosophy (Deep and Slightly Punning)\n",
      "\n",
      "We don’t just build AI; we build *thoughtful* AI. Our guiding principles? *Safety first*, *responsibility always*, and maybe a dash of humor (because who said robots can’t have a sense of humor?).\n",
      "\n",
      "Our **Responsible Scaling Policy** ensures we grow smarter *and* safer at the same time. Trust us, it’s the responsible thing to do—no rogue AI hide-and-seek here.\n",
      "\n",
      "## Be Part of Our Story\n",
      "\n",
      "### Careers & Recruitment\n",
      "\n",
      "Looking to join a team that’s redefining what AI can do (and that appreciates good jokes)? Check out our **Careers** page—where you'll find roles to challenge your brain and tickle your funny bone.\n",
      "\n",
      "### Events & Learning\n",
      "\n",
      "Join our **Anthropic Academy** for top-secret (not really) courses on building AI with us. Plus, stay tuned for innovative **events** where scientists and jokers alike share their thoughts on AI safety and the future.\n",
      "\n",
      "## Our Customers\n",
      "\n",
      "From startups to Fortune 500 firms, our clients trust us to help craft AI that’s not just powerful, but also polite. Hear their stories on how Claude made their lives (and work) easier—minus the robot uprising.\n",
      "\n",
      "## Why Choose Anthropic?\n",
      "\n",
      "- **Cutting-Edge Models**: Pushing the frontier for coding and AI agents.\n",
      "- **Safety & Responsibility**: Because “fail-safe” isn’t just a buzzword for us.\n",
      "- **Humor & Humanity**: We believe AI should be as engaging as it is intelligent.\n",
      "\n",
      "---\n",
      "\n",
      "## Ready to Chat?\n",
      "\n",
      "- **Try Claude** — Our AI so clever it’s like a Swiss Army knife inside a silicon chip.\n",
      "- **Download App** — Because AI should fit in your pocket (or on your desktop).\n",
      "- **Build with Claude** — Create applications that even your grandma can brag about.\n",
      "\n",
      "---\n",
      "\n",
      "> “If knowledge is power, then Claude just got supercharged. Let’s build the future—responsibly, and with a big ol’ dash of humor.” — Deep Ganguli, Our Research Lead and Part-Time Philosopher\n",
      "\n",
      "---\n",
      "\n",
      "## Contact & Footer Details\n",
      "\n",
      "- Want to talk tech? **Speak with sales.**\n",
      "- Curious about our initiatives? Visit our **Trust Center** or check out our **Transparency** efforts.\n",
      "- Want to see what’s coming next? Follow us on our **News** page or join an **event**.\n",
      "\n",
      "---\n",
      "\n",
      "*Join Anthropic — where AI learns, laughs, and looks out for humanity.*None"
     ]
    }
   ],
   "source": [
    "for i in stream:\n",
    "    print(i.choices[0].delta.content, end = \"\")"
   ]
  },
  {
   "cell_type": "code",
   "execution_count": null,
   "id": "cd05c1bb-7e6f-4ae6-a3b5-203cd7985727",
   "metadata": {},
   "outputs": [],
   "source": []
  },
  {
   "cell_type": "code",
   "execution_count": null,
   "id": "dcaa43e3-120e-4704-ac4b-895e14f1f6ae",
   "metadata": {},
   "outputs": [],
   "source": []
  },
  {
   "cell_type": "code",
   "execution_count": null,
   "id": "8634607c-8e6d-488b-8c8e-3e0042d8c9ce",
   "metadata": {},
   "outputs": [],
   "source": []
  },
  {
   "cell_type": "code",
   "execution_count": null,
   "id": "f790efda-f836-4df2-bc44-6c8d2dd80e49",
   "metadata": {},
   "outputs": [],
   "source": []
  },
  {
   "cell_type": "code",
   "execution_count": null,
   "id": "d3dfaf85-d1a2-40ee-a00c-4fded0cfbc25",
   "metadata": {},
   "outputs": [],
   "source": []
  },
  {
   "cell_type": "code",
   "execution_count": null,
   "id": "7a2cdc2b-1e5f-4231-8820-08ef5e6c5919",
   "metadata": {},
   "outputs": [],
   "source": []
  },
  {
   "cell_type": "code",
   "execution_count": 290,
   "id": "437df56c-6493-49a5-b0dc-82b94cbcb2dd",
   "metadata": {},
   "outputs": [
    {
     "data": {
      "text/plain": [
       "'https://huggingface.co/'"
      ]
     },
     "execution_count": 290,
     "metadata": {},
     "output_type": "execute_result"
    }
   ],
   "source": [
    "url"
   ]
  },
  {
   "cell_type": "code",
   "execution_count": 293,
   "id": "7cb305fa-eea5-4e49-b63b-0c9648c3182a",
   "metadata": {},
   "outputs": [],
   "source": [
    "url = \"https://edwarddonner.com\""
   ]
  },
  {
   "cell_type": "code",
   "execution_count": 294,
   "id": "32422780-770f-4656-81ed-b79501c237e3",
   "metadata": {},
   "outputs": [
    {
     "data": {
      "text/plain": [
       "'https://edwarddonner.com'"
      ]
     },
     "execution_count": 294,
     "metadata": {},
     "output_type": "execute_result"
    }
   ],
   "source": [
    "url"
   ]
  },
  {
   "cell_type": "code",
   "execution_count": 296,
   "id": "74411386-f008-4211-9213-bf44762a4261",
   "metadata": {},
   "outputs": [
    {
     "name": "stdout",
     "output_type": "stream",
     "text": [
      "Found links: {'links': [{'type': 'about page', 'url': 'https://edwarddonner.com/about-me-and-about-nebula/'}, {'type': 'company page', 'url': 'https://edwarddonner.com/'}, {'type': 'blog or news', 'url': 'https://edwarddonner.com/posts/'}, {'type': 'linkedin profile', 'url': 'https://www.linkedin.com/in/eddonner/'}]}\n"
     ]
    },
    {
     "data": {
      "text/markdown": [
       "# Welcome to Edwarddoner: Where AI Battles and Human Dreams Collide (In the Most Delightfully Nerdy Way)\n",
       "\n",
       "---\n",
       "\n",
       "## About Us: Turning Code into (Potentially) World-Changing Magic\n",
       "\n",
       "At Edwarddoner, we don’t just dabble in AI—we throw ourselves headfirst into the digital *arena* of diplomacy, devious tactics, and… sometimes, just plain old cleverness. Think of it as \"Game of Thrones\" but with LLMs instead of dragons, and maybe a little less blood and gore (but only marginally).\n",
       "\n",
       "Our hero, Ed—co-founder & CTO of Nebula.io—has a passion for writing code, DJing badly but enthusiastically, and exploring the wild frontiers of AI in human resources. Because nothing says “fun weekend” like helping people find their dream jobs, right?\n",
       "\n",
       "---\n",
       "\n",
       "## The Battle Arena: Connect Four, but Make It AI\n",
       "\n",
       "Our Connect Four-esque platform doesn’t just sit there gathering dust. We pit Large Language Models (LLMs) against each other in a fierce competition of diplomacy, deception, and digital wit. Imagine chess, but with more data and possibly less etiquette.\n",
       "\n",
       "---\n",
       "\n",
       "## Why Choose Us? Because Robots Should Be Smarter Than Your Average Matchmaker\n",
       "\n",
       "Our proprietary, patented matching model is so good, it doesn’t even need keywords—beat that, traditional recruiters! We work with ground-breaking LLMs designed specifically for talent, helping recruiters source, understand, engage, and manage talent faster than you can say “Hadoop.”\n",
       "\n",
       "And yes, we’re winners—award-winning, press-covered, and loved by happy customers. The workplace of tomorrow, today.\n",
       "\n",
       "---\n",
       "\n",
       "## Company Culture: Nerdy, Noble, and Slightly Quirky\n",
       "\n",
       "- **Innovators & Experimenters:** Ed’s motto? “Why not try that thing nobody asked for?” From electronic music to AI experiments, we thrive on curiosity.\n",
       "- **Passionate Problem-Solvers:** Our roots trace back to untapt, where we tackled real-world problems like tech talent shortages and got featured in Fast Company and Forbes. Our mission? Helping people discover their *Ikigai*—that sweet spot where purpose and prosperity intersect.\n",
       "- **Humorous & Human:** We’re serious about AI but don’t take ourselves too seriously. Expect quirky coffee chats, spontaneous debates on who's the better DJ, and the occasional meme about machine learning.\n",
       "\n",
       "---\n",
       "\n",
       "## Careers & Jobs: Join the AI Revolution (No Tuxedo Required)\n",
       "\n",
       "Looking to put your talent into *really* impactful work? We’re hiring! Whether you’re a coding wizard, a data science maestro, or someone who just wants to tell their grandma they’re “working in AI,” Edwarddoner has a spot for you.\n",
       "\n",
       "Join us to help reshape the workforce, one line of code at a time. And if you’re worried about hand-eye coordination—don’t be. Our success is powered by brains, not hand-eye skills.\n",
       "\n",
       "---\n",
       "\n",
       "## Connect With Us!\n",
       "\n",
       "- Email: ed [at] edwarddonner [dot] com\n",
       "- Follow Ed on [LinkedIn](#), [Twitter](#), or [Facebook](#)\n",
       "- Subscribe to our newsletter—don’t worry, we promise not to spam you, just some good ol’ AI banter!\n",
       "\n",
       "---\n",
       "\n",
       "## Why Wait?\n",
       "\n",
       "Come for the AI battles, stay for the meaningful impact, and leave with a sense that maybe, just maybe, the robots aren’t here to take over—but to help us all find our *Ikigai*.\n",
       "\n",
       "*Edwarddoner—where ambition meets algorithm.*"
      ],
      "text/plain": [
       "<IPython.core.display.Markdown object>"
      ]
     },
     "metadata": {},
     "output_type": "display_data"
    }
   ],
   "source": [
    "# stream_brochure(\"HuggingFace\", url)\n",
    "stream_brochure(\"Edwarddoner\", url)"
   ]
  },
  {
   "cell_type": "code",
   "execution_count": null,
   "id": "0f3e967f-0970-412a-9d0f-98e7a870eecf",
   "metadata": {},
   "outputs": [],
   "source": []
  },
  {
   "cell_type": "code",
   "execution_count": null,
   "id": "73a39067-240f-48e0-a4ab-dd02b0dece59",
   "metadata": {},
   "outputs": [],
   "source": []
  },
  {
   "cell_type": "code",
   "execution_count": null,
   "id": "93633151-7212-4066-9b8c-863c8edcf0bf",
   "metadata": {},
   "outputs": [],
   "source": []
  },
  {
   "cell_type": "code",
   "execution_count": null,
   "id": "6de4332b-1b1b-4dff-b7b7-481f9e66fdfd",
   "metadata": {},
   "outputs": [],
   "source": []
  }
 ],
 "metadata": {
  "kernelspec": {
   "display_name": "Python 3 (ipykernel)",
   "language": "python",
   "name": "python3"
  },
  "language_info": {
   "codemirror_mode": {
    "name": "ipython",
    "version": 3
   },
   "file_extension": ".py",
   "mimetype": "text/x-python",
   "name": "python",
   "nbconvert_exporter": "python",
   "pygments_lexer": "ipython3",
   "version": "3.11.13"
  }
 },
 "nbformat": 4,
 "nbformat_minor": 5
}
