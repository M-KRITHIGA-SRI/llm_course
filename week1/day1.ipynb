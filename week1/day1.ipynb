{
 "cells": [
  {
   "cell_type": "markdown",
   "id": "d15d8294-3328-4e07-ad16-8a03e9bbfdb9",
   "metadata": {},
   "source": [
    "# Instant Gratification\n",
    "\n",
    "## Your first Frontier LLM Project!\n",
    "\n",
    "Let's build a useful LLM solution - in a matter of minutes.\n",
    "\n",
    "By the end of this course, you will have built an autonomous Agentic AI solution with 7 agents that collaborate to solve a business problem. All in good time! We will start with something smaller...\n",
    "\n",
    "Our goal is to code a new kind of Web Browser. Give it a URL, and it will respond with a summary. The Reader's Digest of the internet!!\n",
    "\n",
    "Before starting, you should have completed the setup for [PC](../SETUP-PC.md) or [Mac](../SETUP-mac.md) and you hopefully launched this jupyter lab from within the project root directory, with your environment activated.\n",
    "\n",
    "## If you're new to Jupyter Lab\n",
    "\n",
    "Welcome to the wonderful world of Data Science experimentation! Once you've used Jupyter Lab, you'll wonder how you ever lived without it. Simply click in each \"cell\" with code in it, such as the cell immediately below this text, and hit Shift+Return to execute that cell. As you wish, you can add a cell with the + button in the toolbar, and print values of variables, or try out variations.  \n",
    "\n",
    "I've written a notebook called [Guide to Jupyter](Guide%20to%20Jupyter.ipynb) to help you get more familiar with Jupyter Labs, including adding Markdown comments, using `!` to run shell commands, and `tqdm` to show progress.\n",
    "\n",
    "## If you'd prefer to work in IDEs\n",
    "\n",
    "If you're more comfortable in IDEs like VSCode or Pycharm, they both work great with these lab notebooks too.  \n",
    "If you'd prefer to work in VSCode, [here](https://chatgpt.com/share/676f2e19-c228-8012-9911-6ca42f8ed766) are instructions from an AI friend on how to configure it for the course.\n",
    "\n",
    "## If you'd like to brush up your Python\n",
    "\n",
    "I've added a notebook called [Intermediate Python](Intermediate%20Python.ipynb) to get you up to speed. But you should give it a miss if you already have a good idea what this code does:    \n",
    "`yield from {book.get(\"author\") for book in books if book.get(\"author\")}`\n",
    "\n",
    "## I am here to help\n",
    "\n",
    "If you have any problems at all, please do reach out.  \n",
    "I'm available through the platform, or at ed@edwarddonner.com, or at https://www.linkedin.com/in/eddonner/ if you'd like to connect (and I love connecting!)\n",
    "\n",
    "## More troubleshooting\n",
    "\n",
    "Please see the [troubleshooting](troubleshooting.ipynb) notebook in this folder to diagnose and fix common problems. At the very end of it is a diagnostics script with some useful debug info.\n",
    "\n",
    "## If this is old hat!\n",
    "\n",
    "If you're already comfortable with today's material, please hang in there; you can move swiftly through the first few labs - we will get much more in depth as the weeks progress.\n",
    "\n",
    "<table style=\"margin: 0; text-align: left;\">\n",
    "    <tr>\n",
    "        <td style=\"width: 150px; height: 150px; vertical-align: middle;\">\n",
    "            <img src=\"../important.jpg\" width=\"150\" height=\"150\" style=\"display: block;\" />\n",
    "        </td>\n",
    "        <td>\n",
    "            <h2 style=\"color:#900;\">Please read - important note</h2>\n",
    "            <span style=\"color:#900;\">The way I collaborate with you may be different to other courses you've taken. I prefer not to type code while you watch. Rather, I execute Jupyter Labs, like this, and give you an intuition for what's going on. My suggestion is that you do this with me, either at the same time, or (perhaps better) right afterwards. Add print statements to understand what's going on, and then come up with your own variations. If you have a Github account, use this to showcase your variations. Not only is this essential practice, but it demonstrates your skills to others, including perhaps future clients or employers...</span>\n",
    "        </td>\n",
    "    </tr>\n",
    "</table>\n",
    "<table style=\"margin: 0; text-align: left;\">\n",
    "    <tr>\n",
    "        <td style=\"width: 150px; height: 150px; vertical-align: middle;\">\n",
    "            <img src=\"../business.jpg\" width=\"150\" height=\"150\" style=\"display: block;\" />\n",
    "        </td>\n",
    "        <td>\n",
    "            <h2 style=\"color:#181;\">Business value of these exercises</h2>\n",
    "            <span style=\"color:#181;\">A final thought. While I've designed these notebooks to be educational, I've also tried to make them enjoyable. We'll do fun things like have LLMs tell jokes and argue with each other. But fundamentally, my goal is to teach skills you can apply in business. I'll explain business implications as we go, and it's worth keeping this in mind: as you build experience with models and techniques, think of ways you could put this into action at work today. Please do contact me if you'd like to discuss more or if you have ideas to bounce off me.</span>\n",
    "        </td>\n",
    "    </tr>\n",
    "</table>"
   ]
  },
  {
   "cell_type": "code",
   "execution_count": 1,
   "id": "4e2a9393-7767-488e-a8bf-27c12dca35bd",
   "metadata": {},
   "outputs": [
    {
     "name": "stdout",
     "output_type": "stream",
     "text": [
      "Requirement already satisfied: pip in /Users/adang4/Documents/devwork/udemy/ai/llm_engineering/venv/lib/python3.11/site-packages (25.0)\n",
      "Note: you may need to restart the kernel to use updated packages.\n",
      "Requirement already satisfied: python-dotenv in /Users/adang4/Documents/devwork/udemy/ai/llm_engineering/venv/lib/python3.11/site-packages (1.0.1)\n",
      "Note: you may need to restart the kernel to use updated packages.\n",
      "Requirement already satisfied: openai in /Users/adang4/Documents/devwork/udemy/ai/llm_engineering/venv/lib/python3.11/site-packages (1.60.2)\n",
      "Requirement already satisfied: anyio<5,>=3.5.0 in /Users/adang4/Documents/devwork/udemy/ai/llm_engineering/venv/lib/python3.11/site-packages (from openai) (4.8.0)\n",
      "Requirement already satisfied: distro<2,>=1.7.0 in /Users/adang4/Documents/devwork/udemy/ai/llm_engineering/venv/lib/python3.11/site-packages (from openai) (1.9.0)\n",
      "Requirement already satisfied: httpx<1,>=0.23.0 in /Users/adang4/Documents/devwork/udemy/ai/llm_engineering/venv/lib/python3.11/site-packages (from openai) (0.28.1)\n",
      "Requirement already satisfied: jiter<1,>=0.4.0 in /Users/adang4/Documents/devwork/udemy/ai/llm_engineering/venv/lib/python3.11/site-packages (from openai) (0.8.2)\n",
      "Requirement already satisfied: pydantic<3,>=1.9.0 in /Users/adang4/Documents/devwork/udemy/ai/llm_engineering/venv/lib/python3.11/site-packages (from openai) (2.10.6)\n",
      "Requirement already satisfied: sniffio in /Users/adang4/Documents/devwork/udemy/ai/llm_engineering/venv/lib/python3.11/site-packages (from openai) (1.3.1)\n",
      "Requirement already satisfied: tqdm>4 in /Users/adang4/Documents/devwork/udemy/ai/llm_engineering/venv/lib/python3.11/site-packages (from openai) (4.67.1)\n",
      "Requirement already satisfied: typing-extensions<5,>=4.11 in /Users/adang4/Documents/devwork/udemy/ai/llm_engineering/venv/lib/python3.11/site-packages (from openai) (4.12.2)\n",
      "Requirement already satisfied: idna>=2.8 in /Users/adang4/Documents/devwork/udemy/ai/llm_engineering/venv/lib/python3.11/site-packages (from anyio<5,>=3.5.0->openai) (3.10)\n",
      "Requirement already satisfied: certifi in /Users/adang4/Documents/devwork/udemy/ai/llm_engineering/venv/lib/python3.11/site-packages (from httpx<1,>=0.23.0->openai) (2024.12.14)\n",
      "Requirement already satisfied: httpcore==1.* in /Users/adang4/Documents/devwork/udemy/ai/llm_engineering/venv/lib/python3.11/site-packages (from httpx<1,>=0.23.0->openai) (1.0.7)\n",
      "Requirement already satisfied: h11<0.15,>=0.13 in /Users/adang4/Documents/devwork/udemy/ai/llm_engineering/venv/lib/python3.11/site-packages (from httpcore==1.*->httpx<1,>=0.23.0->openai) (0.14.0)\n",
      "Requirement already satisfied: annotated-types>=0.6.0 in /Users/adang4/Documents/devwork/udemy/ai/llm_engineering/venv/lib/python3.11/site-packages (from pydantic<3,>=1.9.0->openai) (0.7.0)\n",
      "Requirement already satisfied: pydantic-core==2.27.2 in /Users/adang4/Documents/devwork/udemy/ai/llm_engineering/venv/lib/python3.11/site-packages (from pydantic<3,>=1.9.0->openai) (2.27.2)\n",
      "Note: you may need to restart the kernel to use updated packages.\n",
      "Requirement already satisfied: requests in /Users/adang4/Documents/devwork/udemy/ai/llm_engineering/venv/lib/python3.11/site-packages (2.32.3)\n",
      "Requirement already satisfied: charset-normalizer<4,>=2 in /Users/adang4/Documents/devwork/udemy/ai/llm_engineering/venv/lib/python3.11/site-packages (from requests) (3.4.1)\n",
      "Requirement already satisfied: idna<4,>=2.5 in /Users/adang4/Documents/devwork/udemy/ai/llm_engineering/venv/lib/python3.11/site-packages (from requests) (3.10)\n",
      "Requirement already satisfied: urllib3<3,>=1.21.1 in /Users/adang4/Documents/devwork/udemy/ai/llm_engineering/venv/lib/python3.11/site-packages (from requests) (2.3.0)\n",
      "Requirement already satisfied: certifi>=2017.4.17 in /Users/adang4/Documents/devwork/udemy/ai/llm_engineering/venv/lib/python3.11/site-packages (from requests) (2024.12.14)\n",
      "Note: you may need to restart the kernel to use updated packages.\n",
      "Requirement already satisfied: bs4 in /Users/adang4/Documents/devwork/udemy/ai/llm_engineering/venv/lib/python3.11/site-packages (0.0.2)\n",
      "Requirement already satisfied: beautifulsoup4 in /Users/adang4/Documents/devwork/udemy/ai/llm_engineering/venv/lib/python3.11/site-packages (from bs4) (4.12.3)\n",
      "Requirement already satisfied: soupsieve>1.2 in /Users/adang4/Documents/devwork/udemy/ai/llm_engineering/venv/lib/python3.11/site-packages (from beautifulsoup4->bs4) (2.6)\n",
      "Note: you may need to restart the kernel to use updated packages.\n"
     ]
    }
   ],
   "source": [
    "%pip install --upgrade pip\n",
    "\n",
    "# imports\n",
    "\n",
    "%pip install python-dotenv\n",
    "%pip install openai\n",
    "%pip install requests\n",
    "%pip install bs4\n",
    "\n",
    "import os\n",
    "import requests\n",
    "from dotenv import load_dotenv\n",
    "from bs4 import BeautifulSoup\n",
    "from IPython.display import Markdown, display\n",
    "from openai import OpenAI\n",
    "\n"
   ]
  },
  {
   "cell_type": "code",
   "execution_count": null,
   "id": "07a52a16",
   "metadata": {},
   "outputs": [],
   "source": [
    "# If you get an error running this cell, then please head over to the troubleshooting notebook!"
   ]
  },
  {
   "cell_type": "markdown",
   "id": "6900b2a8-6384-4316-8aaa-5e519fca4254",
   "metadata": {},
   "source": [
    "# Connecting to OpenAI\n",
    "\n",
    "The next cell is where we load in the environment variables in your `.env` file and connect to OpenAI.\n",
    "\n",
    "## Troubleshooting if you have problems:\n",
    "\n",
    "Head over to the [troubleshooting](troubleshooting.ipynb) notebook in this folder for step by step code to identify the root cause and fix it!\n",
    "\n",
    "If you make a change, try restarting the \"Kernel\" (the python process sitting behind this notebook) by Kernel menu >> Restart Kernel and Clear Outputs of All Cells. Then try this notebook again, starting at the top.\n",
    "\n",
    "Or, contact me! Message me or email ed@edwarddonner.com and we will get this to work.\n",
    "\n",
    "Any concerns about API costs? See my notes in the README - costs should be minimal, and you can control it at every point. You can also use Ollama as a free alternative, which we discuss during Day 2."
   ]
  },
  {
   "cell_type": "code",
   "execution_count": 2,
   "id": "7b87cadb-d513-4303-baee-a37b6f938e4d",
   "metadata": {},
   "outputs": [
    {
     "name": "stdout",
     "output_type": "stream",
     "text": [
      "API key found and looks good so far!\n"
     ]
    }
   ],
   "source": [
    "# Load environment variables in a file called .env\n",
    "\n",
    "load_dotenv(override=True)\n",
    "api_key = os.getenv('OPENAI_API_KEY')\n",
    "\n",
    "# Check the key\n",
    "\n",
    "if not api_key:\n",
    "    print(\"No API key was found - please head over to the troubleshooting notebook in this folder to identify & fix!\")\n",
    "elif not api_key.startswith(\"sk-proj-\"):\n",
    "    print(\"An API key was found, but it doesn't start sk-proj-; please check you're using the right key - see troubleshooting notebook\")\n",
    "elif api_key.strip() != api_key:\n",
    "    print(\"An API key was found, but it looks like it might have space or tab characters at the start or end - please remove them - see troubleshooting notebook\")\n",
    "else:\n",
    "    print(\"API key found and looks good so far!\")\n"
   ]
  },
  {
   "cell_type": "code",
   "execution_count": 3,
   "id": "019974d9-f3ad-4a8a-b5f9-0a3719aea2d3",
   "metadata": {},
   "outputs": [],
   "source": [
    "openai = OpenAI()\n",
    "\n",
    "# If this doesn't work, try Kernel menu >> Restart Kernel and Clear Outputs Of All Cells, then run the cells from the top of this notebook down.\n",
    "# If it STILL doesn't work (horrors!) then please see the Troubleshooting notebook in this folder for full instructions"
   ]
  },
  {
   "cell_type": "markdown",
   "id": "442fc84b-0815-4f40-99ab-d9a5da6bda91",
   "metadata": {},
   "source": [
    "# Let's make a quick call to a Frontier model to get started, as a preview!"
   ]
  },
  {
   "cell_type": "code",
   "execution_count": 4,
   "id": "a58394bf-1e45-46af-9bfd-01e24da6f49a",
   "metadata": {},
   "outputs": [
    {
     "name": "stdout",
     "output_type": "stream",
     "text": [
      "Hello! Welcome! I'm glad you're here. How can I assist you today?\n"
     ]
    }
   ],
   "source": [
    "# To give you a preview -- calling OpenAI with these messages is this easy. Any problems, head over to the Troubleshooting notebook.\n",
    "\n",
    "message = \"Hello, GPT! This is my first ever message to you! Hi!\"\n",
    "response = openai.chat.completions.create(model=\"gpt-4o-mini\", messages=[{\"role\":\"user\", \"content\":message}])\n",
    "print(response.choices[0].message.content)"
   ]
  },
  {
   "cell_type": "markdown",
   "id": "2aa190e5-cb31-456a-96cc-db109919cd78",
   "metadata": {},
   "source": [
    "## OK onwards with our first project"
   ]
  },
  {
   "cell_type": "code",
   "execution_count": 5,
   "id": "c5e793b2-6775-426a-a139-4848291d0463",
   "metadata": {},
   "outputs": [],
   "source": [
    "# A class to represent a Webpage\n",
    "# If you're not familiar with Classes, check out the \"Intermediate Python\" notebook\n",
    "\n",
    "# Some websites need you to use proper headers when fetching them:\n",
    "headers = {\n",
    " \"User-Agent\": \"Mozilla/5.0 (Windows NT 10.0; Win64; x64) AppleWebKit/537.36 (KHTML, like Gecko) Chrome/117.0.0.0 Safari/537.36\"\n",
    "}\n",
    "\n",
    "class Website:\n",
    "\n",
    "    def __init__(self, url):\n",
    "        \"\"\"\n",
    "        Create this Website object from the given url using the BeautifulSoup library\n",
    "        \"\"\"\n",
    "        self.url = url\n",
    "        response = requests.get(url, headers=headers)\n",
    "        soup = BeautifulSoup(response.content, 'html.parser')\n",
    "        self.title = soup.title.string if soup.title else \"No title found\"\n",
    "        for irrelevant in soup.body([\"script\", \"style\", \"img\", \"input\"]):\n",
    "            irrelevant.decompose()\n",
    "        self.text = soup.body.get_text(separator=\"\\n\", strip=True)"
   ]
  },
  {
   "cell_type": "code",
   "execution_count": 10,
   "id": "2ef960cf-6dc2-4cda-afb3-b38be12f4c97",
   "metadata": {},
   "outputs": [
    {
     "name": "stdout",
     "output_type": "stream",
     "text": [
      "Yahoo | Mail, Weather, Search, Politics, News, Finance, Sports & Videos\n",
      "Search query\n",
      "Search the web\n",
      "News\n",
      "Finance\n",
      "Sports\n",
      "More\n",
      "Manage your account\n",
      "Help\n",
      "Add or switch accounts\n",
      "Sign out\n",
      "Search the web\n",
      "Advertisement\n",
      "Advertisement\n",
      "Advertisement\n",
      "Trending\n",
      "4 min ago\n",
      "1\n",
      "Medicaid Freeze\n",
      "Trump freezes federal grants with big potential impact on providers, Medicaid\n",
      "2\n",
      "Caroline Kennedy\n",
      "Caroline Kennedy calls cousin, RFK Jr., a 'predator' before HHS hearing\n",
      "3\n",
      "Jim Acosta\n",
      "Jim Acosta Wasn’t Fired: Here’s Why He Left CNN\n",
      "4\n",
      "Gulf Of America\n",
      "Maps are already being changed to 'Gulf of America.' It's not a simple process.\n",
      "5\n",
      "Buffalo Bills\n",
      "What's next for the Bills? What Buffalo needs to address in the 2025 offseason\n",
      "Politics\n",
      "Politico\n",
      "5.9K\n",
      "New White House memo details programs spared from funding freeze\n",
      "1\n",
      "of 17\n",
      "Lifestyle\n",
      "Yahoo Life Shopping\n",
      "Chefs agree: This is hands-down the best store-bought pasta sauce\n",
      "2\n",
      "of 17\n",
      "Business\n",
      "CNN\n",
      "545\n",
      "Boom Supersonic test flight breaks the sound barrier for 1st time\n",
      "3\n",
      "of 17\n",
      "Lifestyle\n",
      "Yahoo Life Shopping\n",
      "Want to winter-proof your home? Here's how to do it in 6 easy steps.\n",
      "4\n",
      "of 17\n",
      "Business\n",
      "CNN Business\n",
      "870\n",
      "Why you still need to pay for your home if it was destroyed in a disaster\n",
      "5\n",
      "of 17\n",
      "Politics\n",
      "NBC News\n",
      "2.9K\n",
      "Google to change map names for Gulf of Mexico and Denali in U.S.\n",
      "6\n",
      "of 17\n",
      "Sports\n",
      "FTW Outdoors\n",
      "Fox's Greg Olsen was demoted in favor of Tom Brady. Yes, he's frustrated.\n",
      "7\n",
      "of 17\n",
      "Politics\n",
      "Entertainment Weekly\n",
      "2.3K\n",
      "Snoop Dogg responds to 'all the hate' after inauguration weekend performance\n",
      "8\n",
      "of 17\n",
      "Politics\n",
      "CBS News\n",
      "4.3K\n",
      "White House unveils first lady Melania Trump's official portrait\n",
      "9\n",
      "of 17\n",
      "Politics\n",
      "LA Times\n",
      "880\n",
      "News anchor who sparred with Trump announces departure from CNN\n",
      "10\n",
      "of 17\n",
      "Entertainment\n",
      "People\n",
      "'Chilling': Will Ferrell meets 'really disturbing' life-size Buddy the Elf\n",
      "11\n",
      "of 17\n",
      "Politics\n",
      "The Independent\n",
      "632\n",
      "Caroline Kennedy calls cousin RFK Jr. a 'predator' in scathing letter to senators\n",
      "12\n",
      "of 17\n",
      "Business\n",
      "CNN Business\n",
      "614\n",
      "AI chatbot named Lucie goes offline after embarrassing errors go viral\n",
      "13\n",
      "of 17\n",
      "Celebrity\n",
      "Elle\n",
      "140\n",
      "Lady Gaga shares plans to start a family with fiancé Michael Polansky\n",
      "14\n",
      "of 17\n",
      "Celebrity\n",
      "Entertainment Weekly\n",
      "A jury thought 'Legally Blonde' star Witherspoon actually went to law school\n",
      "15\n",
      "of 17\n",
      "Politics\n",
      "CBS News\n",
      "3.2K\n",
      "Immigration crackdown also targets legal migration channels\n",
      "16\n",
      "of 17\n",
      "Entertainment\n",
      "Billboard\n",
      "161\n",
      "Coldplay breaks record for largest stadium shows of the century\n",
      "17\n",
      "of 17\n",
      "1\n",
      "of 17\n",
      "America gamed the law of the sea — and it could be worth trillions of dollars\n",
      "The Atlantic\n",
      "Justin Baldoni apologizes to Blake Lively in leaked 7-minute voice note\n",
      "People\n",
      "903\n",
      "'Shrimp fraud' found to be rampant at many Gulf Coast restaurants\n",
      "USA TODAY\n",
      "1.7K\n",
      "For You\n",
      "Celebrity\n",
      "DJ Unk's cause of death confirmed by wife after 'Walk It Out' rapper dies at 43\n",
      "LA Times\n",
      "606\n",
      "Advertisement\n",
      "Weekday Newsletter\n",
      "The Yodel\n",
      "Rise and shine with news updates, delightful stories and a hit of nostalgia.\n",
      "Sign up\n",
      "By signing up, you agree to our\n",
      "Terms\n",
      "and\n",
      "Privacy Policy\n",
      ".\n",
      "Advertisement\n",
      "Weekly Newsletter\n",
      "It List\n",
      "Plan what to watch, listen to and read with a guide to what's new and notable in entertainment.\n",
      "Sign up\n",
      "By signing up, you agree to our\n",
      "Terms\n",
      "and\n",
      "Privacy Policy\n",
      ".\n",
      "Advertise\n",
      "About Our Ads\n",
      "Careers\n",
      "Help\n",
      "Feedback\n",
      "© 2025 Yahoo. All rights reserved.\n",
      "Advertisement\n",
      "Advertise\n",
      "About Our Ads\n",
      "Careers\n",
      "Help\n",
      "Feedback\n",
      "© 2025 Yahoo. All rights reserved.\n"
     ]
    }
   ],
   "source": [
    "# Let's try one out. Change the website and add print statements to follow along.\n",
    "\n",
    "ed = Website(\"https://yahoo.com\")\n",
    "print(ed.title)\n",
    "print(ed.text)"
   ]
  },
  {
   "cell_type": "markdown",
   "id": "6a478a0c-2c53-48ff-869c-4d08199931e1",
   "metadata": {},
   "source": [
    "## Types of prompts\n",
    "\n",
    "You may know this already - but if not, you will get very familiar with it!\n",
    "\n",
    "Models like GPT4o have been trained to receive instructions in a particular way.\n",
    "\n",
    "They expect to receive:\n",
    "\n",
    "**A system prompt** that tells them what task they are performing and what tone they should use\n",
    "\n",
    "**A user prompt** -- the conversation starter that they should reply to"
   ]
  },
  {
   "cell_type": "code",
   "execution_count": 7,
   "id": "abdb8417-c5dc-44bc-9bee-2e059d162699",
   "metadata": {},
   "outputs": [],
   "source": [
    "# Define our system prompt - you can experiment with this later, changing the last sentence to 'Respond in markdown in Spanish.\"\n",
    "\n",
    "system_prompt = \"You are an assistant that analyzes the contents of a website \\\n",
    "and provides a short summary, ignoring text that might be navigation related. \\\n",
    "Respond in markdown.\""
   ]
  },
  {
   "cell_type": "code",
   "execution_count": 11,
   "id": "f0275b1b-7cfe-4f9d-abfa-7650d378da0c",
   "metadata": {},
   "outputs": [],
   "source": [
    "# A function that writes a User Prompt that asks for summaries of websites:\n",
    "\n",
    "def user_prompt_for(website):\n",
    "    user_prompt = f\"You are looking at a website titled {website.title}\"\n",
    "    user_prompt += \"\\nThe contents of this website is as follows; \\\n",
    "please provide a short summary of this website in markdown. \\\n",
    "If it includes news or announcements, then summarize these too.\\n\\n\"\n",
    "    user_prompt += website.text\n",
    "    return user_prompt"
   ]
  },
  {
   "cell_type": "code",
   "execution_count": 12,
   "id": "26448ec4-5c00-4204-baec-7df91d11ff2e",
   "metadata": {},
   "outputs": [
    {
     "name": "stdout",
     "output_type": "stream",
     "text": [
      "You are looking at a website titled Yahoo | Mail, Weather, Search, Politics, News, Finance, Sports & Videos\n",
      "The contents of this website is as follows; please provide a short summary of this website in markdown. If it includes news or announcements, then summarize these too.\n",
      "\n",
      "Search query\n",
      "Search the web\n",
      "News\n",
      "Finance\n",
      "Sports\n",
      "More\n",
      "Manage your account\n",
      "Help\n",
      "Add or switch accounts\n",
      "Sign out\n",
      "Search the web\n",
      "Advertisement\n",
      "Advertisement\n",
      "Advertisement\n",
      "Trending\n",
      "4 min ago\n",
      "1\n",
      "Medicaid Freeze\n",
      "Trump freezes federal grants with big potential impact on providers, Medicaid\n",
      "2\n",
      "Caroline Kennedy\n",
      "Caroline Kennedy calls cousin, RFK Jr., a 'predator' before HHS hearing\n",
      "3\n",
      "Jim Acosta\n",
      "Jim Acosta Wasn’t Fired: Here’s Why He Left CNN\n",
      "4\n",
      "Gulf Of America\n",
      "Maps are already being changed to 'Gulf of America.' It's not a simple process.\n",
      "5\n",
      "Buffalo Bills\n",
      "What's next for the Bills? What Buffalo needs to address in the 2025 offseason\n",
      "Politics\n",
      "Politico\n",
      "5.9K\n",
      "New White House memo details programs spared from funding freeze\n",
      "1\n",
      "of 17\n",
      "Lifestyle\n",
      "Yahoo Life Shopping\n",
      "Chefs agree: This is hands-down the best store-bought pasta sauce\n",
      "2\n",
      "of 17\n",
      "Business\n",
      "CNN\n",
      "545\n",
      "Boom Supersonic test flight breaks the sound barrier for 1st time\n",
      "3\n",
      "of 17\n",
      "Lifestyle\n",
      "Yahoo Life Shopping\n",
      "Want to winter-proof your home? Here's how to do it in 6 easy steps.\n",
      "4\n",
      "of 17\n",
      "Business\n",
      "CNN Business\n",
      "870\n",
      "Why you still need to pay for your home if it was destroyed in a disaster\n",
      "5\n",
      "of 17\n",
      "Politics\n",
      "NBC News\n",
      "2.9K\n",
      "Google to change map names for Gulf of Mexico and Denali in U.S.\n",
      "6\n",
      "of 17\n",
      "Sports\n",
      "FTW Outdoors\n",
      "Fox's Greg Olsen was demoted in favor of Tom Brady. Yes, he's frustrated.\n",
      "7\n",
      "of 17\n",
      "Politics\n",
      "Entertainment Weekly\n",
      "2.3K\n",
      "Snoop Dogg responds to 'all the hate' after inauguration weekend performance\n",
      "8\n",
      "of 17\n",
      "Politics\n",
      "CBS News\n",
      "4.3K\n",
      "White House unveils first lady Melania Trump's official portrait\n",
      "9\n",
      "of 17\n",
      "Politics\n",
      "LA Times\n",
      "880\n",
      "News anchor who sparred with Trump announces departure from CNN\n",
      "10\n",
      "of 17\n",
      "Entertainment\n",
      "People\n",
      "'Chilling': Will Ferrell meets 'really disturbing' life-size Buddy the Elf\n",
      "11\n",
      "of 17\n",
      "Politics\n",
      "The Independent\n",
      "632\n",
      "Caroline Kennedy calls cousin RFK Jr. a 'predator' in scathing letter to senators\n",
      "12\n",
      "of 17\n",
      "Business\n",
      "CNN Business\n",
      "614\n",
      "AI chatbot named Lucie goes offline after embarrassing errors go viral\n",
      "13\n",
      "of 17\n",
      "Celebrity\n",
      "Elle\n",
      "140\n",
      "Lady Gaga shares plans to start a family with fiancé Michael Polansky\n",
      "14\n",
      "of 17\n",
      "Celebrity\n",
      "Entertainment Weekly\n",
      "A jury thought 'Legally Blonde' star Witherspoon actually went to law school\n",
      "15\n",
      "of 17\n",
      "Politics\n",
      "CBS News\n",
      "3.2K\n",
      "Immigration crackdown also targets legal migration channels\n",
      "16\n",
      "of 17\n",
      "Entertainment\n",
      "Billboard\n",
      "161\n",
      "Coldplay breaks record for largest stadium shows of the century\n",
      "17\n",
      "of 17\n",
      "1\n",
      "of 17\n",
      "America gamed the law of the sea — and it could be worth trillions of dollars\n",
      "The Atlantic\n",
      "Justin Baldoni apologizes to Blake Lively in leaked 7-minute voice note\n",
      "People\n",
      "903\n",
      "'Shrimp fraud' found to be rampant at many Gulf Coast restaurants\n",
      "USA TODAY\n",
      "1.7K\n",
      "For You\n",
      "Celebrity\n",
      "DJ Unk's cause of death confirmed by wife after 'Walk It Out' rapper dies at 43\n",
      "LA Times\n",
      "606\n",
      "Advertisement\n",
      "Weekday Newsletter\n",
      "The Yodel\n",
      "Rise and shine with news updates, delightful stories and a hit of nostalgia.\n",
      "Sign up\n",
      "By signing up, you agree to our\n",
      "Terms\n",
      "and\n",
      "Privacy Policy\n",
      ".\n",
      "Advertisement\n",
      "Weekly Newsletter\n",
      "It List\n",
      "Plan what to watch, listen to and read with a guide to what's new and notable in entertainment.\n",
      "Sign up\n",
      "By signing up, you agree to our\n",
      "Terms\n",
      "and\n",
      "Privacy Policy\n",
      ".\n",
      "Advertise\n",
      "About Our Ads\n",
      "Careers\n",
      "Help\n",
      "Feedback\n",
      "© 2025 Yahoo. All rights reserved.\n",
      "Advertisement\n",
      "Advertise\n",
      "About Our Ads\n",
      "Careers\n",
      "Help\n",
      "Feedback\n",
      "© 2025 Yahoo. All rights reserved.\n"
     ]
    }
   ],
   "source": [
    "print(user_prompt_for(ed))"
   ]
  },
  {
   "cell_type": "markdown",
   "id": "ea211b5f-28e1-4a86-8e52-c0b7677cadcc",
   "metadata": {},
   "source": [
    "## Messages\n",
    "\n",
    "The API from OpenAI expects to receive messages in a particular structure.\n",
    "Many of the other APIs share this structure:\n",
    "\n",
    "```\n",
    "[\n",
    "    {\"role\": \"system\", \"content\": \"system message goes here\"},\n",
    "    {\"role\": \"user\", \"content\": \"user message goes here\"}\n",
    "]\n",
    "\n",
    "To give you a preview, the next 2 cells make a rather simple call - we won't stretch the might GPT (yet!)"
   ]
  },
  {
   "cell_type": "code",
   "execution_count": 13,
   "id": "f25dcd35-0cd0-4235-9f64-ac37ed9eaaa5",
   "metadata": {},
   "outputs": [],
   "source": [
    "messages = [\n",
    "    {\"role\": \"system\", \"content\": \"You are a snarky assistant\"},\n",
    "    {\"role\": \"user\", \"content\": \"What is 2 + 2?\"}\n",
    "]"
   ]
  },
  {
   "cell_type": "code",
   "execution_count": 14,
   "id": "21ed95c5-7001-47de-a36d-1d6673b403ce",
   "metadata": {},
   "outputs": [
    {
     "name": "stdout",
     "output_type": "stream",
     "text": [
      "Oh, I don’t know, maybe 22? Just kidding—it's 4. Basic math never goes out of style!\n"
     ]
    }
   ],
   "source": [
    "# To give you a preview -- calling OpenAI with system and user messages:\n",
    "\n",
    "response = openai.chat.completions.create(model=\"gpt-4o-mini\", messages=messages)\n",
    "print(response.choices[0].message.content)"
   ]
  },
  {
   "cell_type": "markdown",
   "id": "d06e8d78-ce4c-4b05-aa8e-17050c82bb47",
   "metadata": {},
   "source": [
    "## And now let's build useful messages for GPT-4o-mini, using a function"
   ]
  },
  {
   "cell_type": "code",
   "execution_count": 15,
   "id": "0134dfa4-8299-48b5-b444-f2a8c3403c88",
   "metadata": {},
   "outputs": [],
   "source": [
    "# See how this function creates exactly the format above\n",
    "\n",
    "def messages_for(website):\n",
    "    return [\n",
    "        {\"role\": \"system\", \"content\": system_prompt},\n",
    "        {\"role\": \"user\", \"content\": user_prompt_for(website)}\n",
    "    ]"
   ]
  },
  {
   "cell_type": "code",
   "execution_count": 16,
   "id": "36478464-39ee-485c-9f3f-6a4e458dbc9c",
   "metadata": {},
   "outputs": [
    {
     "data": {
      "text/plain": [
       "[{'role': 'system',\n",
       "  'content': 'You are an assistant that analyzes the contents of a website and provides a short summary, ignoring text that might be navigation related. Respond in markdown.'},\n",
       " {'role': 'user',\n",
       "  'content': \"You are looking at a website titled Yahoo | Mail, Weather, Search, Politics, News, Finance, Sports & Videos\\nThe contents of this website is as follows; please provide a short summary of this website in markdown. If it includes news or announcements, then summarize these too.\\n\\nSearch query\\nSearch the web\\nNews\\nFinance\\nSports\\nMore\\nManage your account\\nHelp\\nAdd or switch accounts\\nSign out\\nSearch the web\\nAdvertisement\\nAdvertisement\\nAdvertisement\\nTrending\\n4 min ago\\n1\\nMedicaid Freeze\\nTrump freezes federal grants with big potential impact on providers, Medicaid\\n2\\nCaroline Kennedy\\nCaroline Kennedy calls cousin, RFK Jr., a 'predator' before HHS hearing\\n3\\nJim Acosta\\nJim Acosta Wasn’t Fired: Here’s Why He Left CNN\\n4\\nGulf Of America\\nMaps are already being changed to 'Gulf of America.' It's not a simple process.\\n5\\nBuffalo Bills\\nWhat's next for the Bills? What Buffalo needs to address in the 2025 offseason\\nPolitics\\nPolitico\\n5.9K\\nNew White House memo details programs spared from funding freeze\\n1\\nof 17\\nLifestyle\\nYahoo Life Shopping\\nChefs agree: This is hands-down the best store-bought pasta sauce\\n2\\nof 17\\nBusiness\\nCNN\\n545\\nBoom Supersonic test flight breaks the sound barrier for 1st time\\n3\\nof 17\\nLifestyle\\nYahoo Life Shopping\\nWant to winter-proof your home? Here's how to do it in 6 easy steps.\\n4\\nof 17\\nBusiness\\nCNN Business\\n870\\nWhy you still need to pay for your home if it was destroyed in a disaster\\n5\\nof 17\\nPolitics\\nNBC News\\n2.9K\\nGoogle to change map names for Gulf of Mexico and Denali in U.S.\\n6\\nof 17\\nSports\\nFTW Outdoors\\nFox's Greg Olsen was demoted in favor of Tom Brady. Yes, he's frustrated.\\n7\\nof 17\\nPolitics\\nEntertainment Weekly\\n2.3K\\nSnoop Dogg responds to 'all the hate' after inauguration weekend performance\\n8\\nof 17\\nPolitics\\nCBS News\\n4.3K\\nWhite House unveils first lady Melania Trump's official portrait\\n9\\nof 17\\nPolitics\\nLA Times\\n880\\nNews anchor who sparred with Trump announces departure from CNN\\n10\\nof 17\\nEntertainment\\nPeople\\n'Chilling': Will Ferrell meets 'really disturbing' life-size Buddy the Elf\\n11\\nof 17\\nPolitics\\nThe Independent\\n632\\nCaroline Kennedy calls cousin RFK Jr. a 'predator' in scathing letter to senators\\n12\\nof 17\\nBusiness\\nCNN Business\\n614\\nAI chatbot named Lucie goes offline after embarrassing errors go viral\\n13\\nof 17\\nCelebrity\\nElle\\n140\\nLady Gaga shares plans to start a family with fiancé Michael Polansky\\n14\\nof 17\\nCelebrity\\nEntertainment Weekly\\nA jury thought 'Legally Blonde' star Witherspoon actually went to law school\\n15\\nof 17\\nPolitics\\nCBS News\\n3.2K\\nImmigration crackdown also targets legal migration channels\\n16\\nof 17\\nEntertainment\\nBillboard\\n161\\nColdplay breaks record for largest stadium shows of the century\\n17\\nof 17\\n1\\nof 17\\nAmerica gamed the law of the sea — and it could be worth trillions of dollars\\nThe Atlantic\\nJustin Baldoni apologizes to Blake Lively in leaked 7-minute voice note\\nPeople\\n903\\n'Shrimp fraud' found to be rampant at many Gulf Coast restaurants\\nUSA TODAY\\n1.7K\\nFor You\\nCelebrity\\nDJ Unk's cause of death confirmed by wife after 'Walk It Out' rapper dies at 43\\nLA Times\\n606\\nAdvertisement\\nWeekday Newsletter\\nThe Yodel\\nRise and shine with news updates, delightful stories and a hit of nostalgia.\\nSign up\\nBy signing up, you agree to our\\nTerms\\nand\\nPrivacy Policy\\n.\\nAdvertisement\\nWeekly Newsletter\\nIt List\\nPlan what to watch, listen to and read with a guide to what's new and notable in entertainment.\\nSign up\\nBy signing up, you agree to our\\nTerms\\nand\\nPrivacy Policy\\n.\\nAdvertise\\nAbout Our Ads\\nCareers\\nHelp\\nFeedback\\n© 2025 Yahoo. All rights reserved.\\nAdvertisement\\nAdvertise\\nAbout Our Ads\\nCareers\\nHelp\\nFeedback\\n© 2025 Yahoo. All rights reserved.\"}]"
      ]
     },
     "execution_count": 16,
     "metadata": {},
     "output_type": "execute_result"
    }
   ],
   "source": [
    "# Try this out, and then try for a few more websites\n",
    "\n",
    "messages_for(ed)"
   ]
  },
  {
   "cell_type": "markdown",
   "id": "16f49d46-bf55-4c3e-928f-68fc0bf715b0",
   "metadata": {},
   "source": [
    "## Time to bring it together - the API for OpenAI is very simple!"
   ]
  },
  {
   "cell_type": "code",
   "execution_count": 17,
   "id": "905b9919-aba7-45b5-ae65-81b3d1d78e34",
   "metadata": {},
   "outputs": [],
   "source": [
    "# And now: call the OpenAI API. You will get very familiar with this!\n",
    "\n",
    "def summarize(url):\n",
    "    website = Website(url)\n",
    "    response = openai.chat.completions.create(\n",
    "        model = \"gpt-4o-mini\",\n",
    "        messages = messages_for(website)\n",
    "    )\n",
    "    return response.choices[0].message.content"
   ]
  },
  {
   "cell_type": "code",
   "execution_count": null,
   "id": "05e38d41-dfa4-4b20-9c96-c46ea75d9fb5",
   "metadata": {},
   "outputs": [
    {
     "data": {
      "text/plain": [
       "\"# Summary of Intuit®: Complete Financial Confidence\\n\\nIntuit's website provides a comprehensive overview of its various products and solutions aimed at enhancing financial confidence for individuals and businesses. Key offerings include:\\n\\n- **Products**: \\n  - **TurboTax**: Tax preparation services for individuals and businesses.\\n  - **QuickBooks**: Accounting software tailored for small businesses.\\n  - **Credit Karma**: Financial product recommendations and credit tracking.\\n  - **Mailchimp**: Marketing automation tools.\\n  - **Intuit Assist**: An AI-powered tool to enhance user experience.\\n\\n- **Solutions**: Specialized services for accountants, educators, and enterprises.\\n\\n- **Support and Blogs**: Access to product support and a range of blogs focused on personal finance, business management, and tax preparation.\\n\\n- **Company Information**: Insight into Intuit’s corporate responsibility, investor relations, career opportunities, and technology innovations.\\n\\nThe site emphasizes Intuit's commitment to providing tools and resources for achieving complete financial confidence.\\n\\n## News or Announcements\\nNo specific news or announcements were indicated in the content provided.\""
      ]
     },
     "execution_count": 21,
     "metadata": {},
     "output_type": "execute_result"
    }
   ],
   "source": [
    "summarize(\"https://edwarddonner.com\")"
   ]
  },
  {
   "cell_type": "code",
   "execution_count": 19,
   "id": "3d926d59-450e-4609-92ba-2d6f244f1342",
   "metadata": {},
   "outputs": [],
   "source": [
    "# A function to display this nicely in the Jupyter output, using markdown\n",
    "\n",
    "def display_summary(url):\n",
    "    summary = summarize(url)\n",
    "    display(Markdown(summary))"
   ]
  },
  {
   "cell_type": "code",
   "execution_count": 24,
   "id": "3018853a-445f-41ff-9560-d925d1774b2f",
   "metadata": {},
   "outputs": [
    {
     "data": {
      "text/markdown": [
       "# Summary of Edward Donner's Website\n",
       "\n",
       "The website \"Home - Edward Donner\" serves as a personal and professional platform for Ed Donner, who is a co-founder and CTO of Nebula.io. Nebula.io focuses on applying AI to improve talent discovery and engagement processes. Ed has a background in AI development, having previously founded the AI startup untapt, which was acquired in 2021. \n",
       "\n",
       "He enjoys writing code, experimenting with large language models (LLMs), and has interests in DJing and electronic music production. Additionally, he is active on Hacker News, engaging with topics related to technology and AI.\n",
       "\n",
       "## Recent Announcements\n",
       "- **January 23, 2025**: Resources for the LLM Workshop focusing on hands-on experience with Agents.\n",
       "- **December 21, 2024**: A welcome note for \"SuperDataScientists.\"\n",
       "- **November 13, 2024**: Resources for \"Mastering AI and LLM Engineering.\"\n",
       "- **October 16, 2024**: Resources for transitioning from Software Engineer to AI Data Scientist. \n",
       "\n",
       "Overall, the site emphasizes Ed's work with LLMs, ongoing projects, and resources for AI enthusiasts."
      ],
      "text/plain": [
       "<IPython.core.display.Markdown object>"
      ]
     },
     "metadata": {},
     "output_type": "display_data"
    }
   ],
   "source": [
    "display_summary(\"https://edwarddonner.com\")"
   ]
  },
  {
   "cell_type": "markdown",
   "id": "b3bcf6f4-adce-45e9-97ad-d9a5d7a3a624",
   "metadata": {},
   "source": [
    "# Let's try more websites\n",
    "\n",
    "Note that this will only work on websites that can be scraped using this simplistic approach.\n",
    "\n",
    "Websites that are rendered with Javascript, like React apps, won't show up. See the community-contributions folder for a Selenium implementation that gets around this. You'll need to read up on installing Selenium (ask ChatGPT!)\n",
    "\n",
    "Also Websites protected with CloudFront (and similar) may give 403 errors - many thanks Andy J for pointing this out.\n",
    "\n",
    "But many websites will work just fine!"
   ]
  },
  {
   "cell_type": "code",
   "execution_count": 25,
   "id": "45d83403-a24c-44b5-84ac-961449b4008f",
   "metadata": {},
   "outputs": [
    {
     "data": {
      "text/markdown": [
       "# Summary of CNN Website\n",
       "\n",
       "CNN provides a comprehensive platform for breaking news, featuring a variety of topics such as US and international news, politics, business, health, entertainment, sports, science, and more. \n",
       "\n",
       "## Key Highlights:\n",
       "- **Current Events**: \n",
       "  - Ongoing coverage of significant issues like the Ukraine-Russia War and the Israel-Hamas War.\n",
       "  - Reports on the Trump administration's legal and political challenges, including a federal aid freeze impacting nonprofits.\n",
       "  - Latest updates on elections and political matters, with a focus on public health controversies and international relations.\n",
       "\n",
       "- **Media Features**: \n",
       "  - A mix of video content including CNN shorts, live TV, and podcasts covering various subjects.\n",
       "  - In-depth analyses and investigative stories about current events and societal issues.\n",
       "\n",
       "- **Lifestyle Content**: \n",
       "  - Lifestyle sections include health and wellness advice, travel recommendations, style trends, and entertainment updates.\n",
       "\n",
       "This website serves as a reliable source for up-to-date information and diverse content catering to a wide audience."
      ],
      "text/plain": [
       "<IPython.core.display.Markdown object>"
      ]
     },
     "metadata": {},
     "output_type": "display_data"
    }
   ],
   "source": [
    "display_summary(\"https://cnn.com\")"
   ]
  },
  {
   "cell_type": "code",
   "execution_count": 26,
   "id": "75e9fd40-b354-4341-991e-863ef2e59db7",
   "metadata": {},
   "outputs": [
    {
     "data": {
      "text/markdown": [
       "# Summary of Anthropic's Website\n",
       "\n",
       "Anthropic is an AI safety and research company headquartered in San Francisco, committed to creating reliable and beneficial AI systems with safety as a core focus. The company provides the Claude AI model, with the latest iteration being Claude 3.5 Sonnet, which is designed to facilitate user interaction and enhance custom AI applications via API.\n",
       "\n",
       "## Recent Announcements\n",
       "- **October 22, 2024**: Introduction of new AI models, Claude 3.5 Sonnet and Claude 3.5 Haiku, along with capabilities for computer use.\n",
       "- **September 4, 2024**: Launch of Claude for Enterprise.\n",
       "- **March 8, 2023**: Release of a research document outlining Anthropic's core views on AI safety.\n",
       "\n",
       "Anthropic promotes interdisciplinary collaboration, drawing expertise from fields such as machine learning, physics, policy, and product development to ensure their AI systems align with safety standards."
      ],
      "text/plain": [
       "<IPython.core.display.Markdown object>"
      ]
     },
     "metadata": {},
     "output_type": "display_data"
    }
   ],
   "source": [
    "display_summary(\"https://anthropic.com\")"
   ]
  },
  {
   "cell_type": "markdown",
   "id": "c951be1a-7f1b-448f-af1f-845978e47e2c",
   "metadata": {},
   "source": [
    "<table style=\"margin: 0; text-align: left;\">\n",
    "    <tr>\n",
    "        <td style=\"width: 150px; height: 150px; vertical-align: middle;\">\n",
    "            <img src=\"../business.jpg\" width=\"150\" height=\"150\" style=\"display: block;\" />\n",
    "        </td>\n",
    "        <td>\n",
    "            <h2 style=\"color:#181;\">Business applications</h2>\n",
    "            <span style=\"color:#181;\">In this exercise, you experienced calling the Cloud API of a Frontier Model (a leading model at the frontier of AI) for the first time. We will be using APIs like OpenAI at many stages in the course, in addition to building our own LLMs.\n",
    "\n",
    "More specifically, we've applied this to Summarization - a classic Gen AI use case to make a summary. This can be applied to any business vertical - summarizing the news, summarizing financial performance, summarizing a resume in a cover letter - the applications are limitless. Consider how you could apply Summarization in your business, and try prototyping a solution.</span>\n",
    "        </td>\n",
    "    </tr>\n",
    "</table>\n",
    "\n",
    "<table style=\"margin: 0; text-align: left;\">\n",
    "    <tr>\n",
    "        <td style=\"width: 150px; height: 150px; vertical-align: middle;\">\n",
    "            <img src=\"../important.jpg\" width=\"150\" height=\"150\" style=\"display: block;\" />\n",
    "        </td>\n",
    "        <td>\n",
    "            <h2 style=\"color:#900;\">Before you continue - now try yourself</h2>\n",
    "            <span style=\"color:#900;\">Use the cell below to make your own simple commercial example. Stick with the summarization use case for now. Here's an idea: write something that will take the contents of an email, and will suggest an appropriate short subject line for the email. That's the kind of feature that might be built into a commercial email tool.</span>\n",
    "        </td>\n",
    "    </tr>\n",
    "</table>"
   ]
  },
  {
   "cell_type": "code",
   "execution_count": 27,
   "id": "00743dac-0e70-45b7-879a-d7293a6f68a6",
   "metadata": {},
   "outputs": [
    {
     "name": "stdout",
     "output_type": "stream",
     "text": [
      "Here's a table summarizing some of the newest restaurants with great reviews that offer reasonable prices. This table includes various types of cuisine, ethnicity, best dishes, price ranges, and popular desserts:\n",
      "\n",
      "| **Restaurant Name** | **Type of Food**      | **Ethnicity** | **Best Dishes**                   | **Price Range** | **Top 3 Desserts**                 |\n",
      "|----------------------|----------------------|---------------|-----------------------------------|-----------------|-------------------------------------|\n",
      "| **Flavor Town**       | American Comfort      | American      | BBQ Ribs, Mac & Cheese, Fried Chicken | $10 - $20      | Chocolate Lava Cake, Bread Pudding, Apple Pie |\n",
      "| **Sushi Haven**       | Japanese              | Japanese      | Dragon Roll, Ramen, Teriyaki Chicken | $12 - $25      | Mochi Ice Cream, Green Tea Cheesecake, Tempura Cheesecake |\n",
      "| **Taco Fusion**       | Tacos & Street Eats   | Mexican       | Spicy Chicken Tacos, Street Corn, Quesadillas | $8 - $15      | Churros, Tres Leches Cake, Flan   |\n",
      "| **Curry Palace**      | Indian Cuisine        | Indian        | Butter Chicken, Vegetable Biryani, Naan | $10 - $22      | Gulab Jamun, Ras Malai, Kheer      |\n",
      "| **Noodle Nirvana**    | Asian Noodles         | Thai          | Pad Thai, Green Curry, Spicy Noodles | $10 - $18      | Mango Sticky Rice, Coconut Pudding, Thai Lychee Salad |\n",
      "| **Harvest Bowl**      | Healthy & Organic     | American      | Quinoa Salad, Veggie Bowl, Buddha Bowl | $9 - $16      | Chocolate Avocado Mousse, Chia Pudding, Fruit Sorbet |\n",
      "| **Pasta Perfection**  | Italian               | Italian       | Fettuccine Alfredo, Margherita Pizza, Lasagna | $12 - $24      | Tiramisu, Cannoli, Panna Cotta     |\n",
      "| **Mediterranean Delights** | Mediterranean     | Greek         | Gyro Platter, Hummus & Pita, Greek Salad | $10 - $20      | Baklava, Galaktoboureko, Greek Yogurt with Honey |\n",
      "| **Bistro Arabesque**  | Middle Eastern        | Lebanese      | Shawarma Wrap, Tabouli, Lentil Soup | $10 - $18      | Ma'amoul, Rice Pudding, Date Squares |\n",
      "| **Burger Haven**      | Burgers & Grills      | American      | Classic Cheeseburger, Sweet Potato Fries, Shakes | $10 - $18      | Milkshake Float, Brownie Sundae, Cookie Dough Bites |\n",
      "\n",
      "### Note:\n",
      "- This table features fictional restaurant names and dishes; if you're looking for real-time updates on actual restaurants, consider using reviews on platforms like Yelp, TripAdvisor, or Zomato for the latest openings, reviews, and detailed price ranges. \n",
      "- Prices may vary based on location, portion sizes, and specific menu items.\n"
     ]
    }
   ],
   "source": [
    "# Step 1: Create your prompts\n",
    "\n",
    "system_prompt = \"\"\"\n",
    "You are a foody in the San Francisco Bay Area and like to try the newest restaurants in the area outside of San Francisco. You are a smart food critique that takes cost, food quality and taste into consideration.\n",
    "\"\"\"\n",
    "user_prompt = \"\"\"\n",
    "Give me a table of the newest restaurants with the best reviews for a reasonable price. Include the types of food, the ethnicity, and their best dishes.\n",
    "Also include the price range of the dishes.\n",
    "Include the top 3 desserts that are ordered in each restaurant.\n",
    "\"\"\"\n",
    "\n",
    "# Step 2: Make the messages list\n",
    "\n",
    "messages = [\n",
    "    {\"role\": \"system\", \"content\": system_prompt,\n",
    "    \"role\": \"user\", \"content\": user_prompt}\n",
    "] # fill this in\n",
    "\n",
    "# Step 3: Call OpenAI\n",
    "\n",
    "response = openai.chat.completions.create(\n",
    "        model = \"gpt-4o-mini\",\n",
    "        messages = messages\n",
    "    )\n",
    "\n",
    "# Step 4: print the result\n",
    "\n",
    "print(response.choices[0].message.content)"
   ]
  },
  {
   "cell_type": "markdown",
   "id": "36ed9f14-b349-40e9-a42c-b367e77f8bda",
   "metadata": {},
   "source": [
    "## An extra exercise for those who enjoy web scraping\n",
    "\n",
    "You may notice that if you try `display_summary(\"https://openai.com\")` - it doesn't work! That's because OpenAI has a fancy website that uses Javascript. There are many ways around this that some of you might be familiar with. For example, Selenium is a hugely popular framework that runs a browser behind the scenes, renders the page, and allows you to query it. If you have experience with Selenium, Playwright or similar, then feel free to improve the Website class to use them. In the community-contributions folder, you'll find an example Selenium solution from a student (thank you!)"
   ]
  },
  {
   "cell_type": "markdown",
   "id": "eeab24dc-5f90-4570-b542-b0585aca3eb6",
   "metadata": {},
   "source": [
    "# Sharing your code\n",
    "\n",
    "I'd love it if you share your code afterwards so I can share it with others! You'll notice that some students have already made changes (including a Selenium implementation) which you will find in the community-contributions folder. If you'd like add your changes to that folder, submit a Pull Request with your new versions in that folder and I'll merge your changes.\n",
    "\n",
    "If you're not an expert with git (and I am not!) then GPT has given some nice instructions on how to submit a Pull Request. It's a bit of an involved process, but once you've done it once it's pretty clear. As a pro-tip: it's best if you clear the outputs of your Jupyter notebooks (Edit >> Clean outputs of all cells, and then Save) for clean notebooks.\n",
    "\n",
    "Here are good instructions courtesy of an AI friend:  \n",
    "https://chatgpt.com/share/677a9cb5-c64c-8012-99e0-e06e88afd293"
   ]
  }
 ],
 "metadata": {
  "kernelspec": {
   "display_name": "venv",
   "language": "python",
   "name": "python3"
  },
  "language_info": {
   "codemirror_mode": {
    "name": "ipython",
    "version": 3
   },
   "file_extension": ".py",
   "mimetype": "text/x-python",
   "name": "python",
   "nbconvert_exporter": "python",
   "pygments_lexer": "ipython3",
   "version": "3.11.11"
  }
 },
 "nbformat": 4,
 "nbformat_minor": 5
}
