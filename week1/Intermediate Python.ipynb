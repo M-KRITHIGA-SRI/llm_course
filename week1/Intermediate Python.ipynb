{
 "cells": [
  {
   "cell_type": "markdown",
   "id": "5c291475-8c7c-461c-9b12-545a887b2432",
   "metadata": {},
   "source": [
    "# Intermediate Level Python\n",
    "\n",
    "## Getting you up to speed\n",
    "\n",
    "This course assumes that you're at an intermediate level of python. For example, you should have a decent idea what something like this might do:\n",
    "\n",
    "`yield from {book.get(\"author\") for book in books if book.get(\"author\")}`\n",
    "\n",
    "If not - then you've come to the right place! Welcome to the crash course in intermediate level python. The best way to learn is by doing!\n"
   ]
  },
  {
   "cell_type": "code",
   "execution_count": null,
   "id": "b46bd242-89a0-44df-96cd-56f2b160ac2a",
   "metadata": {},
   "outputs": [],
   "source": []
  },
  {
   "cell_type": "code",
   "execution_count": null,
   "id": "70bb41cc-7914-444c-946a-cc087c7f2ef0",
   "metadata": {},
   "outputs": [],
   "source": []
  },
  {
   "cell_type": "markdown",
   "id": "542f0577-a826-4613-a5d7-4170e9666d04",
   "metadata": {},
   "source": [
    "## First: if you need a refresher on the foundations\n",
    "\n",
    "I'm going to defer to an AI friend for this, because these explanations are so well written with great examples. Copy and paste the code examples into a new cell to give them a try. Pick whichever section(s) you'd like to brush up on.\n",
    "\n",
    "**Python imports:**  \n",
    "https://chatgpt.com/share/672f9f31-8114-8012-be09-29ef0d0140fb\n",
    "\n",
    "**Python functions** including default arguments:  \n",
    "https://chatgpt.com/share/672f9f99-7060-8012-bfec-46d4cf77d672\n",
    "\n",
    "**Python strings**, including slicing, split/join, replace and literals:  \n",
    "https://chatgpt.com/share/672fb526-0aa0-8012-9e00-ad1687c04518\n",
    "\n",
    "**Python f-strings** including number and date formatting:  \n",
    "https://chatgpt.com/share/672fa125-0de0-8012-8e35-27918cbb481c\n",
    "\n",
    "**Python lists, dicts and sets**, including the `get()` method:  \n",
    "https://chatgpt.com/share/672fa225-3f04-8012-91af-f9c95287da8d\n",
    "\n",
    "**Python files** including modes, encoding, context managers, Path, glob.glob:  \n",
    "https://chatgpt.com/share/673b53b2-6d5c-8012-a344-221056c2f960\n",
    "\n",
    "**Python classes:**  \n",
    "https://chatgpt.com/share/672fa07a-1014-8012-b2ea-6dc679552715\n",
    "\n",
    "**Pickling Python objects and converting to JSON:**  \n",
    "https://chatgpt.com/share/673b553e-9d0c-8012-9919-f3bb5aa23e31"
   ]
  },
  {
   "cell_type": "markdown",
   "id": "f9e0f8e1-09b3-478b-ada7-c8c35003929b",
   "metadata": {},
   "source": [
    "## With this in mind - understanding NameErrors in Python\n",
    "\n",
    "It's quite common to hit a NameError in python. With foundational knowledge, you should always feel equipped to debug a NameError and get to the bottom of it.\n",
    "\n",
    "If you're unsure how to fix a NameError, please see this [initial guide](https://chatgpt.com/share/67958312-ada0-8012-a1d3-62b3a5fcbbfc) and this [second guide with exercises](https://chatgpt.com/share/67a57e0b-0194-8012-bb50-8ea76c5995b8), and work through them both until you have high confidence.\n",
    "\n",
    "There's some repetition here, so feel free to skip it if you're already confident.\n",
    "\n",
    "## And now, on to the code!"
   ]
  },
  {
   "cell_type": "code",
   "execution_count": 242,
   "id": "1d49cb3d-e134-4852-9020-07dcef0cfb3c",
   "metadata": {},
   "outputs": [
    {
     "name": "stdout",
     "output_type": "stream",
     "text": [
      "C:\\Users\\Prithvi\\anaconda3\\envs\\udemyllm\\Lib\\site-packages\\pandas\\__init__.py\n"
     ]
    }
   ],
   "source": [
    "import pandas as pd\n",
    "print(pd.__file__)"
   ]
  },
  {
   "cell_type": "code",
   "execution_count": null,
   "id": "b33e1082-c847-4e5f-8fea-5d4c00c73c04",
   "metadata": {},
   "outputs": [],
   "source": []
  },
  {
   "cell_type": "code",
   "execution_count": 237,
   "id": "34d194b9-5b37-48c2-aadf-bd443c24ca74",
   "metadata": {},
   "outputs": [],
   "source": [
    "import math"
   ]
  },
  {
   "cell_type": "code",
   "execution_count": 238,
   "id": "ba9da40d-c16f-43c9-9d94-a62e5a7d5409",
   "metadata": {},
   "outputs": [
    {
     "data": {
      "text/plain": [
       "2.0"
      ]
     },
     "execution_count": 238,
     "metadata": {},
     "output_type": "execute_result"
    }
   ],
   "source": [
    "math.sqrt(4)"
   ]
  },
  {
   "cell_type": "code",
   "execution_count": 239,
   "id": "0527bd34-8404-4019-bf82-10e8f5eb3309",
   "metadata": {},
   "outputs": [],
   "source": [
    "from math import sqrt"
   ]
  },
  {
   "cell_type": "code",
   "execution_count": 240,
   "id": "6898762b-842c-42ca-a843-b059475b4525",
   "metadata": {},
   "outputs": [
    {
     "data": {
      "text/plain": [
       "1.4142135623730951"
      ]
     },
     "execution_count": 240,
     "metadata": {},
     "output_type": "execute_result"
    }
   ],
   "source": [
    "sqrt(2)"
   ]
  },
  {
   "cell_type": "code",
   "execution_count": 1,
   "id": "5802e2f0-0ea0-4237-bbb7-f375a34260f0",
   "metadata": {},
   "outputs": [],
   "source": [
    "# First let's create some things:\n",
    "\n",
    "fruits = [\"Apples\", \"Bananas\", \"Pears\"]\n",
    "\n",
    "book1 = {\"title\": \"Great Expectations\", \"author\": \"Charles Dickens\"}\n",
    "book2 = {\"title\": \"Bleak House\", \"author\": \"Charles Dickens\"}\n",
    "book3 = {\"title\": \"An Book By No Author\"}\n",
    "book4 = {\"title\": \"Moby Dick\", \"author\": \"Herman Melville\"}\n",
    "\n",
    "books = [book1, book2, book3, book4]"
   ]
  },
  {
   "cell_type": "code",
   "execution_count": 2,
   "id": "ba7c365e-92e3-408e-a9a4-021683b3071a",
   "metadata": {},
   "outputs": [
    {
     "data": {
      "text/plain": [
       "[{'title': 'Great Expectations', 'author': 'Charles Dickens'},\n",
       " {'title': 'Bleak House', 'author': 'Charles Dickens'},\n",
       " {'title': 'An Book By No Author'},\n",
       " {'title': 'Moby Dick', 'author': 'Herman Melville'}]"
      ]
     },
     "execution_count": 2,
     "metadata": {},
     "output_type": "execute_result"
    }
   ],
   "source": [
    "books"
   ]
  },
  {
   "cell_type": "code",
   "execution_count": 5,
   "id": "e2852025-915d-4155-8f9b-9a00a92201b2",
   "metadata": {},
   "outputs": [
    {
     "data": {
      "text/plain": [
       "'Charles Dickens'"
      ]
     },
     "execution_count": 5,
     "metadata": {},
     "output_type": "execute_result"
    }
   ],
   "source": [
    "books[0].get(\"author\")"
   ]
  },
  {
   "cell_type": "code",
   "execution_count": 6,
   "id": "6e9c8211-7d91-45cc-9922-a9e2f1dedb83",
   "metadata": {},
   "outputs": [
    {
     "data": {
      "text/plain": [
       "2"
      ]
     },
     "execution_count": 6,
     "metadata": {},
     "output_type": "execute_result"
    }
   ],
   "source": [
    "len(books[0])"
   ]
  },
  {
   "cell_type": "code",
   "execution_count": 8,
   "id": "10c77c16-aa19-474b-86f8-a1caa6c5828c",
   "metadata": {},
   "outputs": [
    {
     "data": {
      "text/plain": [
       "'Charles Dickens'"
      ]
     },
     "execution_count": 8,
     "metadata": {},
     "output_type": "execute_result"
    }
   ],
   "source": [
    "books[0]['author']"
   ]
  },
  {
   "cell_type": "code",
   "execution_count": 14,
   "id": "fc86d987-6251-49c4-b01e-3d0405b8f8b5",
   "metadata": {},
   "outputs": [
    {
     "data": {
      "text/plain": [
       "{'Charles Dickens', 'Herman Melville'}"
      ]
     },
     "execution_count": 14,
     "metadata": {},
     "output_type": "execute_result"
    }
   ],
   "source": [
    "set(i.get(\"author\") for i in books if i.get(\"author\"))"
   ]
  },
  {
   "cell_type": "code",
   "execution_count": 16,
   "id": "d58ceeb7-426a-47fc-aff8-3610ef30ea21",
   "metadata": {},
   "outputs": [
    {
     "data": {
      "text/plain": [
       "{'Charles Dickens', 'Herman Melville'}"
      ]
     },
     "execution_count": 16,
     "metadata": {},
     "output_type": "execute_result"
    }
   ],
   "source": [
    "set([i.get(\"author\") for i in books if i.get(\"author\")])"
   ]
  },
  {
   "cell_type": "code",
   "execution_count": 21,
   "id": "f2ca693f-9daa-45cc-9101-11744a101f68",
   "metadata": {},
   "outputs": [],
   "source": [
    "def testf():\n",
    "    yield from set([i.get(\"author\") for i in books if i.get(\"author\")])"
   ]
  },
  {
   "cell_type": "code",
   "execution_count": 31,
   "id": "ed11523d-26ff-4545-b14a-037bf0431ec3",
   "metadata": {},
   "outputs": [],
   "source": [
    "def getn(n):\n",
    "    for i in range(n):\n",
    "        yield i"
   ]
  },
  {
   "cell_type": "code",
   "execution_count": 40,
   "id": "63bbafb8-60ca-4cd3-af6b-946349e8cac0",
   "metadata": {},
   "outputs": [
    {
     "name": "stdout",
     "output_type": "stream",
     "text": [
      "0 1 2 3 "
     ]
    }
   ],
   "source": [
    "for i in getn(4):\n",
    "    print(i, end = \" \")"
   ]
  },
  {
   "cell_type": "code",
   "execution_count": 41,
   "id": "e1baf39b-4d5a-4024-b8bd-f07c07bc4214",
   "metadata": {},
   "outputs": [
    {
     "name": "stdout",
     "output_type": "stream",
     "text": [
      "0 1 2 3 "
     ]
    }
   ],
   "source": [
    "for i in range(4):\n",
    "    print(i, end=\" \")"
   ]
  },
  {
   "cell_type": "code",
   "execution_count": 45,
   "id": "724c9e2e-243c-496c-ba53-c004276740d5",
   "metadata": {},
   "outputs": [],
   "source": [
    "def getn2(n):\n",
    "    for i in range(n):\n",
    "        return i"
   ]
  },
  {
   "cell_type": "code",
   "execution_count": 46,
   "id": "1bd95dbe-f3d9-4b8f-949a-15abba45cbd8",
   "metadata": {},
   "outputs": [
    {
     "data": {
      "text/plain": [
       "0"
      ]
     },
     "execution_count": 46,
     "metadata": {},
     "output_type": "execute_result"
    }
   ],
   "source": [
    "getn2(4)"
   ]
  },
  {
   "cell_type": "code",
   "execution_count": null,
   "id": "9460cf97-d5b1-4b07-9321-d1ad9e64214d",
   "metadata": {},
   "outputs": [],
   "source": []
  },
  {
   "cell_type": "code",
   "execution_count": null,
   "id": "1adceedd-278b-4951-8e8d-75c4d2e7353f",
   "metadata": {},
   "outputs": [],
   "source": []
  },
  {
   "cell_type": "code",
   "execution_count": null,
   "id": "553be16a-ef01-4426-9677-48bc41d9db12",
   "metadata": {},
   "outputs": [],
   "source": []
  },
  {
   "cell_type": "code",
   "execution_count": 2,
   "id": "c863d400-8fd4-48d0-ae2f-b8eae20e5491",
   "metadata": {},
   "outputs": [
    {
     "data": {
      "text/plain": [
       "['Apples', 'Bananas', 'Pears']"
      ]
     },
     "execution_count": 2,
     "metadata": {},
     "output_type": "execute_result"
    }
   ],
   "source": [
    "fruits"
   ]
  },
  {
   "cell_type": "code",
   "execution_count": 3,
   "id": "e6880e68-231d-46a6-b7bc-5be57d7f2c46",
   "metadata": {},
   "outputs": [
    {
     "data": {
      "text/plain": [
       "{'title': 'Great Expectations', 'author': 'Charles Dickens'}"
      ]
     },
     "execution_count": 3,
     "metadata": {},
     "output_type": "execute_result"
    }
   ],
   "source": [
    "book1"
   ]
  },
  {
   "cell_type": "code",
   "execution_count": 4,
   "id": "9a69d0d9-64c1-4d5c-9969-fbb59f68de42",
   "metadata": {},
   "outputs": [
    {
     "data": {
      "text/plain": [
       "dict"
      ]
     },
     "execution_count": 4,
     "metadata": {},
     "output_type": "execute_result"
    }
   ],
   "source": [
    "type(book1)"
   ]
  },
  {
   "cell_type": "code",
   "execution_count": 5,
   "id": "2254ca37-035a-4f50-b78e-b9b111cb9019",
   "metadata": {},
   "outputs": [
    {
     "data": {
      "text/plain": [
       "dict_items([('title', 'Great Expectations'), ('author', 'Charles Dickens')])"
      ]
     },
     "execution_count": 5,
     "metadata": {},
     "output_type": "execute_result"
    }
   ],
   "source": [
    "book1.items()"
   ]
  },
  {
   "cell_type": "code",
   "execution_count": 7,
   "id": "5d347a1f-d9cc-411a-83e5-a78465746158",
   "metadata": {},
   "outputs": [
    {
     "name": "stdout",
     "output_type": "stream",
     "text": [
      "0 title\n",
      "1 author\n"
     ]
    }
   ],
   "source": [
    "for i, j in enumerate(book1):\n",
    "    print(i,j)"
   ]
  },
  {
   "cell_type": "code",
   "execution_count": 8,
   "id": "217cd2ad-5f31-47b0-9bff-8b423d5559a7",
   "metadata": {},
   "outputs": [
    {
     "name": "stdout",
     "output_type": "stream",
     "text": [
      "title Great Expectations\n",
      "author Charles Dickens\n"
     ]
    }
   ],
   "source": [
    "for i, j in book1.items():\n",
    "    print(i,j)"
   ]
  },
  {
   "cell_type": "markdown",
   "id": "9b941e6a-3658-4144-a8d4-72f5e72f3707",
   "metadata": {},
   "source": [
    "# Part 1: List and dict comprehensions"
   ]
  },
  {
   "cell_type": "code",
   "execution_count": 9,
   "id": "61992bb8-735d-4dad-8747-8c10b63aec82",
   "metadata": {},
   "outputs": [
    {
     "name": "stdout",
     "output_type": "stream",
     "text": [
      "Apples\n",
      "Bananas\n",
      "Pears\n"
     ]
    }
   ],
   "source": [
    "# Simple enough to start\n",
    "\n",
    "for fruit in fruits:\n",
    "    print(fruit)"
   ]
  },
  {
   "cell_type": "code",
   "execution_count": 10,
   "id": "d0e00aef-97bc-404f-9ae3-89a01c01e3a5",
   "metadata": {},
   "outputs": [
    {
     "data": {
      "text/plain": [
       "['Apples', 'Bananas', 'Pears']"
      ]
     },
     "execution_count": 10,
     "metadata": {},
     "output_type": "execute_result"
    }
   ],
   "source": [
    "fruits"
   ]
  },
  {
   "cell_type": "code",
   "execution_count": null,
   "id": "c74c86b5-d86f-46c3-89f1-faefe4b2852f",
   "metadata": {},
   "outputs": [],
   "source": []
  },
  {
   "cell_type": "code",
   "execution_count": null,
   "id": "fba39f89-b957-4116-a632-3d6f2c8df56a",
   "metadata": {},
   "outputs": [],
   "source": []
  },
  {
   "cell_type": "code",
   "execution_count": 11,
   "id": "c89c3842-9b74-47fa-8424-0fcb08e4177c",
   "metadata": {},
   "outputs": [
    {
     "data": {
      "text/plain": [
       "['APPLES', 'BANANAS', 'PEARS']"
      ]
     },
     "execution_count": 11,
     "metadata": {},
     "output_type": "execute_result"
    }
   ],
   "source": [
    "# Let's make a new version of fruits\n",
    "\n",
    "fruits_shouted = []\n",
    "for fruit in fruits:\n",
    "    fruits_shouted.append(fruit.upper())\n",
    "\n",
    "fruits_shouted"
   ]
  },
  {
   "cell_type": "code",
   "execution_count": 12,
   "id": "2e61418c-1221-458d-aecc-33211e9b2fe7",
   "metadata": {},
   "outputs": [],
   "source": [
    "newf = []\n",
    "for i in fruits:\n",
    "    newf.append(i.upper())"
   ]
  },
  {
   "cell_type": "code",
   "execution_count": 13,
   "id": "f07db8a9-9aab-4a6f-aedb-6e23da802ebc",
   "metadata": {},
   "outputs": [
    {
     "data": {
      "text/plain": [
       "['APPLES', 'BANANAS', 'PEARS']"
      ]
     },
     "execution_count": 13,
     "metadata": {},
     "output_type": "execute_result"
    }
   ],
   "source": [
    "newf"
   ]
  },
  {
   "cell_type": "code",
   "execution_count": 14,
   "id": "37549b21-1077-4600-9c20-183011b0c573",
   "metadata": {},
   "outputs": [
    {
     "data": {
      "text/plain": [
       "['APPLES', 'BANANAS', 'PEARS']"
      ]
     },
     "execution_count": 14,
     "metadata": {},
     "output_type": "execute_result"
    }
   ],
   "source": [
    "[i.upper() for i in fruits]"
   ]
  },
  {
   "cell_type": "code",
   "execution_count": 15,
   "id": "4ec13b3a-9545-44f1-874a-2910a0663560",
   "metadata": {},
   "outputs": [
    {
     "data": {
      "text/plain": [
       "['APPLES', 'BANANAS', 'PEARS']"
      ]
     },
     "execution_count": 15,
     "metadata": {},
     "output_type": "execute_result"
    }
   ],
   "source": [
    "# You probably already know this\n",
    "# There's a nice Python construct called \"list comprehension\" that does this:\n",
    "\n",
    "fruits_shouted2 = [fruit.upper() for fruit in fruits]\n",
    "fruits_shouted2"
   ]
  },
  {
   "cell_type": "code",
   "execution_count": 18,
   "id": "4847bfc7-9bc0-4b46-be85-0de1b0ec51a4",
   "metadata": {},
   "outputs": [],
   "source": [
    "d={i:i.upper() for i in fruits}"
   ]
  },
  {
   "cell_type": "code",
   "execution_count": 19,
   "id": "d8dd65b9-7b6a-422e-ba64-c54e213325a4",
   "metadata": {},
   "outputs": [
    {
     "data": {
      "text/plain": [
       "{'Apples': 'APPLES', 'Bananas': 'BANANAS', 'Pears': 'PEARS'}"
      ]
     },
     "execution_count": 19,
     "metadata": {},
     "output_type": "execute_result"
    }
   ],
   "source": [
    "d"
   ]
  },
  {
   "cell_type": "code",
   "execution_count": 20,
   "id": "46b2d168-2988-4b29-b6a8-f4d5975ad416",
   "metadata": {},
   "outputs": [
    {
     "data": {
      "text/plain": [
       "{'Apples': 'APPLES', 'Bananas': 'BANANAS', 'Pears': 'PEARS'}"
      ]
     },
     "execution_count": 20,
     "metadata": {},
     "output_type": "execute_result"
    }
   ],
   "source": [
    "d"
   ]
  },
  {
   "cell_type": "code",
   "execution_count": 21,
   "id": "6660ecb4-bb89-466c-be18-716c02c6d105",
   "metadata": {},
   "outputs": [
    {
     "data": {
      "text/plain": [
       "dict_keys(['Apples', 'Bananas', 'Pears'])"
      ]
     },
     "execution_count": 21,
     "metadata": {},
     "output_type": "execute_result"
    }
   ],
   "source": [
    "d.keys()"
   ]
  },
  {
   "cell_type": "code",
   "execution_count": 22,
   "id": "86748a25-404c-4dfd-acf6-4b8846e9044e",
   "metadata": {},
   "outputs": [
    {
     "data": {
      "text/plain": [
       "dict_items([('Apples', 'APPLES'), ('Bananas', 'BANANAS'), ('Pears', 'PEARS')])"
      ]
     },
     "execution_count": 22,
     "metadata": {},
     "output_type": "execute_result"
    }
   ],
   "source": [
    "d.items()"
   ]
  },
  {
   "cell_type": "code",
   "execution_count": 23,
   "id": "50273677-59b9-4df3-9e85-3f63351bec39",
   "metadata": {},
   "outputs": [
    {
     "data": {
      "text/plain": [
       "dict_values(['APPLES', 'BANANAS', 'PEARS'])"
      ]
     },
     "execution_count": 23,
     "metadata": {},
     "output_type": "execute_result"
    }
   ],
   "source": [
    "d.values()"
   ]
  },
  {
   "cell_type": "code",
   "execution_count": null,
   "id": "3f36dac6-ac21-4f48-8cea-7971c78b312d",
   "metadata": {},
   "outputs": [],
   "source": []
  },
  {
   "cell_type": "code",
   "execution_count": null,
   "id": "be8fedd1-d099-4e10-b5fb-55cc72c4229a",
   "metadata": {},
   "outputs": [],
   "source": []
  },
  {
   "cell_type": "code",
   "execution_count": 24,
   "id": "ecc08c3c-181d-4b64-a3e1-b0ccffc6c0cd",
   "metadata": {},
   "outputs": [
    {
     "data": {
      "text/plain": [
       "{'Apples': 'APPLES', 'Bananas': 'BANANAS', 'Pears': 'PEARS'}"
      ]
     },
     "execution_count": 24,
     "metadata": {},
     "output_type": "execute_result"
    }
   ],
   "source": [
    "# But you may not know that you can do this to create dictionaries, too:\n",
    "\n",
    "fruit_mapping = {fruit: fruit.upper() for fruit in fruits}\n",
    "fruit_mapping"
   ]
  },
  {
   "cell_type": "code",
   "execution_count": 25,
   "id": "95e09273-1cf2-4a1f-a00e-ee92534cc713",
   "metadata": {},
   "outputs": [
    {
     "data": {
      "text/plain": [
       "['Apples', 'Bananas']"
      ]
     },
     "execution_count": 25,
     "metadata": {},
     "output_type": "execute_result"
    }
   ],
   "source": [
    "[i for i in fruits if len(i) >5]"
   ]
  },
  {
   "cell_type": "code",
   "execution_count": null,
   "id": "de84c64b-804d-4565-81dd-de59caa8a44e",
   "metadata": {},
   "outputs": [],
   "source": []
  },
  {
   "cell_type": "code",
   "execution_count": null,
   "id": "910ad1af-7549-4c54-b899-99fd519b3865",
   "metadata": {},
   "outputs": [],
   "source": []
  },
  {
   "cell_type": "code",
   "execution_count": null,
   "id": "fe58bcf5-cc8d-4d5e-87ab-f45393782378",
   "metadata": {},
   "outputs": [],
   "source": []
  },
  {
   "cell_type": "code",
   "execution_count": 26,
   "id": "500c2406-00d2-4793-b57b-f49b612760c8",
   "metadata": {},
   "outputs": [
    {
     "data": {
      "text/plain": [
       "['APPLES', 'BANANAS']"
      ]
     },
     "execution_count": 26,
     "metadata": {},
     "output_type": "execute_result"
    }
   ],
   "source": [
    "# you can also use the if statement to filter the results\n",
    "\n",
    "fruits_with_longer_names_shouted = [fruit.upper() for fruit in fruits if len(fruit)>5]\n",
    "fruits_with_longer_names_shouted"
   ]
  },
  {
   "cell_type": "code",
   "execution_count": null,
   "id": "9161d507-d8bd-440b-9547-eff1653b32f4",
   "metadata": {},
   "outputs": [],
   "source": []
  },
  {
   "cell_type": "code",
   "execution_count": 28,
   "id": "5f721599-314a-4007-8488-46d51af590b6",
   "metadata": {},
   "outputs": [
    {
     "data": {
      "text/plain": [
       "{'Apples': 'APPLES'}"
      ]
     },
     "execution_count": 28,
     "metadata": {},
     "output_type": "execute_result"
    }
   ],
   "source": [
    "{i: i.upper() for i in fruits if i.startswith('A')}"
   ]
  },
  {
   "cell_type": "code",
   "execution_count": 29,
   "id": "38c11c34-d71e-45ba-945b-a3d37dc29793",
   "metadata": {},
   "outputs": [
    {
     "data": {
      "text/plain": [
       "{'Bananas': 'BANANAS', 'Pears': 'PEARS'}"
      ]
     },
     "execution_count": 29,
     "metadata": {},
     "output_type": "execute_result"
    }
   ],
   "source": [
    "fruit_mapping_unless_starts_with_a = {fruit: fruit.upper() for fruit in fruits if not fruit.startswith('A')}\n",
    "fruit_mapping_unless_starts_with_a"
   ]
  },
  {
   "cell_type": "code",
   "execution_count": 31,
   "id": "f0077996-141d-4bbc-b8be-b5bbb8c5c1fb",
   "metadata": {},
   "outputs": [
    {
     "data": {
      "text/plain": [
       "[{'title': 'Great Expectations', 'author': 'Charles Dickens'},\n",
       " {'title': 'Bleak House', 'author': 'Charles Dickens'},\n",
       " {'title': 'An Book By No Author'},\n",
       " {'title': 'Moby Dick', 'author': 'Herman Melville'}]"
      ]
     },
     "execution_count": 31,
     "metadata": {},
     "output_type": "execute_result"
    }
   ],
   "source": [
    "books"
   ]
  },
  {
   "cell_type": "code",
   "execution_count": 32,
   "id": "439d8435-2b0a-49d6-afc4-24a28cf68c1b",
   "metadata": {},
   "outputs": [
    {
     "data": {
      "text/plain": [
       "['Great Expectations', 'Bleak House', 'An Book By No Author', 'Moby Dick']"
      ]
     },
     "execution_count": 32,
     "metadata": {},
     "output_type": "execute_result"
    }
   ],
   "source": [
    "[i['title'] for i in books]"
   ]
  },
  {
   "cell_type": "code",
   "execution_count": null,
   "id": "3b440f0e-f69d-4bb7-9c52-6b0a027d9e29",
   "metadata": {},
   "outputs": [],
   "source": []
  },
  {
   "cell_type": "code",
   "execution_count": 33,
   "id": "5c97d8e8-31de-4afa-973e-28d8e5cab749",
   "metadata": {},
   "outputs": [
    {
     "data": {
      "text/plain": [
       "['Great Expectations', 'Bleak House', 'An Book By No Author', 'Moby Dick']"
      ]
     },
     "execution_count": 33,
     "metadata": {},
     "output_type": "execute_result"
    }
   ],
   "source": [
    "# Another comprehension\n",
    "\n",
    "[book['title'] for book in books]"
   ]
  },
  {
   "cell_type": "code",
   "execution_count": 35,
   "id": "50be0edc-a4cd-493f-a680-06080bb497b4",
   "metadata": {},
   "outputs": [
    {
     "ename": "KeyError",
     "evalue": "'author'",
     "output_type": "error",
     "traceback": [
      "\u001b[31m---------------------------------------------------------------------------\u001b[39m",
      "\u001b[31mKeyError\u001b[39m                                  Traceback (most recent call last)",
      "\u001b[36mCell\u001b[39m\u001b[36m \u001b[39m\u001b[32mIn[35]\u001b[39m\u001b[32m, line 3\u001b[39m\n\u001b[32m      1\u001b[39m \u001b[38;5;66;03m# This code will fail with an error because one of our books doesn't have an author\u001b[39;00m\n\u001b[32m----> \u001b[39m\u001b[32m3\u001b[39m \u001b[43m[\u001b[49m\u001b[43mbook\u001b[49m\u001b[43m[\u001b[49m\u001b[33;43m'\u001b[39;49m\u001b[33;43mauthor\u001b[39;49m\u001b[33;43m'\u001b[39;49m\u001b[43m]\u001b[49m\u001b[43m \u001b[49m\u001b[38;5;28;43;01mfor\u001b[39;49;00m\u001b[43m \u001b[49m\u001b[43mbook\u001b[49m\u001b[43m \u001b[49m\u001b[38;5;129;43;01min\u001b[39;49;00m\u001b[43m \u001b[49m\u001b[43mbooks\u001b[49m\u001b[43m]\u001b[49m\n",
      "\u001b[36mCell\u001b[39m\u001b[36m \u001b[39m\u001b[32mIn[35]\u001b[39m\u001b[32m, line 3\u001b[39m, in \u001b[36m<listcomp>\u001b[39m\u001b[34m(.0)\u001b[39m\n\u001b[32m      1\u001b[39m \u001b[38;5;66;03m# This code will fail with an error because one of our books doesn't have an author\u001b[39;00m\n\u001b[32m----> \u001b[39m\u001b[32m3\u001b[39m [\u001b[43mbook\u001b[49m\u001b[43m[\u001b[49m\u001b[33;43m'\u001b[39;49m\u001b[33;43mauthor\u001b[39;49m\u001b[33;43m'\u001b[39;49m\u001b[43m]\u001b[49m \u001b[38;5;28;01mfor\u001b[39;00m book \u001b[38;5;129;01min\u001b[39;00m books]\n",
      "\u001b[31mKeyError\u001b[39m: 'author'"
     ]
    }
   ],
   "source": [
    "# This code will fail with an error because one of our books doesn't have an author\n",
    "\n",
    "[book['author'] for book in books]"
   ]
  },
  {
   "cell_type": "code",
   "execution_count": null,
   "id": "3d416ed1-d21b-4792-897a-0e784085a890",
   "metadata": {},
   "outputs": [],
   "source": []
  },
  {
   "cell_type": "code",
   "execution_count": 36,
   "id": "53794083-cc09-4edb-b448-2ffb7e8495c2",
   "metadata": {},
   "outputs": [
    {
     "data": {
      "text/plain": [
       "['Charles Dickens', 'Charles Dickens', None, 'Herman Melville']"
      ]
     },
     "execution_count": 36,
     "metadata": {},
     "output_type": "execute_result"
    }
   ],
   "source": [
    "# But this will work, because get() returns None\n",
    "\n",
    "[book.get('author') for book in books]"
   ]
  },
  {
   "cell_type": "code",
   "execution_count": 37,
   "id": "021bc62e-07bd-48e9-97c7-c13705724fda",
   "metadata": {},
   "outputs": [
    {
     "data": {
      "text/plain": [
       "[{'title': 'Great Expectations', 'author': 'Charles Dickens'},\n",
       " {'title': 'Bleak House', 'author': 'Charles Dickens'},\n",
       " {'title': 'An Book By No Author'},\n",
       " {'title': 'Moby Dick', 'author': 'Herman Melville'}]"
      ]
     },
     "execution_count": 37,
     "metadata": {},
     "output_type": "execute_result"
    }
   ],
   "source": [
    "books"
   ]
  },
  {
   "cell_type": "code",
   "execution_count": 40,
   "id": "e0f2c17c-c91c-4ba0-8b09-059e39c65ef1",
   "metadata": {},
   "outputs": [
    {
     "data": {
      "text/plain": [
       "['Charles Dickens', 'Charles Dickens', 'Herman Melville']"
      ]
     },
     "execution_count": 40,
     "metadata": {},
     "output_type": "execute_result"
    }
   ],
   "source": [
    "[i['author'] for i in books if i.get('author')]"
   ]
  },
  {
   "cell_type": "code",
   "execution_count": 41,
   "id": "ec70eebd-5389-4623-8bb4-c06fb26f3e69",
   "metadata": {},
   "outputs": [
    {
     "data": {
      "text/plain": [
       "[{'title': 'Great Expectations', 'author': 'Charles Dickens'},\n",
       " {'title': 'Bleak House', 'author': 'Charles Dickens'},\n",
       " {'title': 'An Book By No Author'},\n",
       " {'title': 'Moby Dick', 'author': 'Herman Melville'}]"
      ]
     },
     "execution_count": 41,
     "metadata": {},
     "output_type": "execute_result"
    }
   ],
   "source": [
    "books"
   ]
  },
  {
   "cell_type": "code",
   "execution_count": 43,
   "id": "6189adcf-19c1-428f-88d6-7c971f936349",
   "metadata": {},
   "outputs": [
    {
     "data": {
      "text/plain": [
       "'Great Expectations'"
      ]
     },
     "execution_count": 43,
     "metadata": {},
     "output_type": "execute_result"
    }
   ],
   "source": [
    "books[0].get('title')"
   ]
  },
  {
   "cell_type": "code",
   "execution_count": 46,
   "id": "b8e4b859-24f8-4016-8d74-c2cef226d049",
   "metadata": {},
   "outputs": [],
   "source": [
    "# And this variation will filter out the None\n",
    "k1= [book.get('author') for book in books if book.get('author')]"
   ]
  },
  {
   "cell_type": "code",
   "execution_count": 47,
   "id": "6c13e4f3-9d74-41b6-9b9c-215901a5285a",
   "metadata": {},
   "outputs": [
    {
     "data": {
      "text/plain": [
       "['Charles Dickens', 'Charles Dickens', 'Herman Melville']"
      ]
     },
     "execution_count": 47,
     "metadata": {},
     "output_type": "execute_result"
    }
   ],
   "source": [
    "k1"
   ]
  },
  {
   "cell_type": "code",
   "execution_count": 45,
   "id": "c44bb999-52b4-4dee-810b-8a400db8f25f",
   "metadata": {},
   "outputs": [
    {
     "data": {
      "text/plain": [
       "{'Charles Dickens', 'Herman Melville'}"
      ]
     },
     "execution_count": 45,
     "metadata": {},
     "output_type": "execute_result"
    }
   ],
   "source": [
    "# And this version will convert it into a set, removing duplicates\n",
    "\n",
    "set([book.get('author') for book in books if book.get('author')])"
   ]
  },
  {
   "cell_type": "code",
   "execution_count": 48,
   "id": "e702e103-88af-4bc3-b7e1-d270301ee91a",
   "metadata": {},
   "outputs": [
    {
     "data": {
      "text/plain": [
       "['Charles Dickens', 'Charles Dickens', 'Herman Melville']"
      ]
     },
     "execution_count": 48,
     "metadata": {},
     "output_type": "execute_result"
    }
   ],
   "source": [
    "k1"
   ]
  },
  {
   "cell_type": "code",
   "execution_count": 50,
   "id": "e8b5de83-c9af-4900-944c-e6dc66d9cfb9",
   "metadata": {},
   "outputs": [],
   "source": [
    "s1=set(k1)"
   ]
  },
  {
   "cell_type": "code",
   "execution_count": 51,
   "id": "8d9eb8fa-324c-4008-bc65-954cea834b8b",
   "metadata": {},
   "outputs": [
    {
     "data": {
      "text/plain": [
       "set"
      ]
     },
     "execution_count": 51,
     "metadata": {},
     "output_type": "execute_result"
    }
   ],
   "source": [
    "type(s1)"
   ]
  },
  {
   "cell_type": "code",
   "execution_count": 52,
   "id": "c102a5cb-fd6a-42ab-b766-1d2b912824c4",
   "metadata": {},
   "outputs": [
    {
     "data": {
      "text/plain": [
       "['Herman Melville', 'Charles Dickens']"
      ]
     },
     "execution_count": 52,
     "metadata": {},
     "output_type": "execute_result"
    }
   ],
   "source": [
    "[i for i in s1]"
   ]
  },
  {
   "cell_type": "code",
   "execution_count": null,
   "id": "ece126f5-f875-4cff-81fb-63b629962127",
   "metadata": {},
   "outputs": [],
   "source": []
  },
  {
   "cell_type": "code",
   "execution_count": null,
   "id": "4dc8c5b4-fd87-4604-911a-156fb0e8f855",
   "metadata": {},
   "outputs": [],
   "source": []
  },
  {
   "cell_type": "code",
   "execution_count": null,
   "id": "98050ad2-a0db-458b-8e6c-f800719855b5",
   "metadata": {},
   "outputs": [],
   "source": []
  },
  {
   "cell_type": "code",
   "execution_count": 53,
   "id": "80a65156-6192-4bb4-b4e6-df3fdc933891",
   "metadata": {},
   "outputs": [
    {
     "data": {
      "text/plain": [
       "{'Charles Dickens', 'Herman Melville'}"
      ]
     },
     "execution_count": 53,
     "metadata": {},
     "output_type": "execute_result"
    }
   ],
   "source": [
    "# And finally, this version is even nicer\n",
    "# curly braces creates a set, so this is a set comprehension\n",
    "\n",
    "{book.get('author') for book in books if book.get('author')}"
   ]
  },
  {
   "cell_type": "markdown",
   "id": "c100e5db-5438-4715-921c-3f7152f83f4a",
   "metadata": {},
   "source": [
    "# Part 2: Generators\n",
    "\n",
    "We use Generators in the course because AI models can stream back results.\n",
    "\n",
    "If you've not used Generators before, please start with this excellent intro from ChatGPT:\n",
    "\n",
    "https://chatgpt.com/share/672faa6e-7dd0-8012-aae5-44fc0d0ec218\n",
    "\n",
    "Try pasting some of its examples into a cell."
   ]
  },
  {
   "cell_type": "code",
   "execution_count": 54,
   "id": "6cac5641-e33e-4f39-9f3d-8fcf514626db",
   "metadata": {},
   "outputs": [
    {
     "data": {
      "text/plain": [
       "['Apples', 'Bananas', 'Pears']"
      ]
     },
     "execution_count": 54,
     "metadata": {},
     "output_type": "execute_result"
    }
   ],
   "source": [
    "fruits"
   ]
  },
  {
   "cell_type": "code",
   "execution_count": 56,
   "id": "3c9b1fe4-d992-4ad3-b130-4d19015d2313",
   "metadata": {},
   "outputs": [],
   "source": [
    "def ff():\n",
    "    for i in fruits:\n",
    "        yield i"
   ]
  },
  {
   "cell_type": "code",
   "execution_count": 58,
   "id": "8f1803ca-ce9e-4e76-a97c-d6b2eb156b40",
   "metadata": {},
   "outputs": [
    {
     "name": "stdout",
     "output_type": "stream",
     "text": [
      "Apples\n",
      "Bananas\n",
      "Pears\n"
     ]
    }
   ],
   "source": [
    "for i in ff():\n",
    "    print(i)"
   ]
  },
  {
   "cell_type": "code",
   "execution_count": 69,
   "id": "585da4b2-b5ce-41a2-8e12-39f676ae1678",
   "metadata": {},
   "outputs": [],
   "source": [
    "def fg():\n",
    "    s = 0\n",
    "    for i in range(10):\n",
    "        yield i\n",
    "        s = s+i+2\n",
    "    return s"
   ]
  },
  {
   "cell_type": "code",
   "execution_count": null,
   "id": "fafdcdf9-693a-42b6-8acb-df5c6eff9c46",
   "metadata": {},
   "outputs": [],
   "source": []
  },
  {
   "cell_type": "code",
   "execution_count": 83,
   "id": "05b39b9a-b1e8-467d-9190-d41f6be34f2b",
   "metadata": {},
   "outputs": [],
   "source": [
    "def ff():\n",
    "    for i in fruits:\n",
    "        yield i"
   ]
  },
  {
   "cell_type": "code",
   "execution_count": 88,
   "id": "0c2f0828-53a4-425a-abc9-833fd8844dd4",
   "metadata": {},
   "outputs": [
    {
     "data": {
      "text/plain": [
       "'Apples'"
      ]
     },
     "execution_count": 88,
     "metadata": {},
     "output_type": "execute_result"
    }
   ],
   "source": [
    "next(ff())"
   ]
  },
  {
   "cell_type": "code",
   "execution_count": 84,
   "id": "ca39a99b-1aaa-401e-b7b4-c78ae4d228e6",
   "metadata": {},
   "outputs": [
    {
     "name": "stdout",
     "output_type": "stream",
     "text": [
      "Apples\n",
      "Bananas\n",
      "Pears\n"
     ]
    }
   ],
   "source": [
    "for i in ff():\n",
    "    print(i)"
   ]
  },
  {
   "cell_type": "code",
   "execution_count": null,
   "id": "3c864f29-d4ab-4af3-8528-286d657c06f6",
   "metadata": {},
   "outputs": [],
   "source": []
  },
  {
   "cell_type": "code",
   "execution_count": 103,
   "id": "1efc26fa-9144-4352-9a17-dfec1d246aad",
   "metadata": {},
   "outputs": [],
   "source": [
    "# First define a generator; it looks like a function, but it has yield instead of return\n",
    "\n",
    "import time\n",
    "\n",
    "def come_up_with_fruit_names():\n",
    "    for fruit in fruits:\n",
    "        time.sleep(1) # thinking of a fruit\n",
    "        yield fruit"
   ]
  },
  {
   "cell_type": "code",
   "execution_count": 104,
   "id": "eac338bb-285c-45c8-8a3e-dbfc41409ca3",
   "metadata": {},
   "outputs": [
    {
     "name": "stdout",
     "output_type": "stream",
     "text": [
      "Apples\n",
      "Bananas\n",
      "Pears\n"
     ]
    }
   ],
   "source": [
    "# Then use it\n",
    "\n",
    "for fruit in come_up_with_fruit_names():\n",
    "    print(fruit)"
   ]
  },
  {
   "cell_type": "code",
   "execution_count": null,
   "id": "571ec423-145f-40b8-bc1d-4641a6f701b9",
   "metadata": {},
   "outputs": [],
   "source": []
  },
  {
   "cell_type": "code",
   "execution_count": 113,
   "id": "c438a9fb-d4c9-402b-ba2e-c1a9e62c78d3",
   "metadata": {},
   "outputs": [],
   "source": [
    "from tqdm import tqdm"
   ]
  },
  {
   "cell_type": "code",
   "execution_count": 114,
   "id": "2c14434c-1364-4047-9efd-304dba339262",
   "metadata": {},
   "outputs": [
    {
     "data": {
      "text/plain": [
       "['Apples', 'Bananas', 'Pears']"
      ]
     },
     "execution_count": 114,
     "metadata": {},
     "output_type": "execute_result"
    }
   ],
   "source": [
    "fruits"
   ]
  },
  {
   "cell_type": "code",
   "execution_count": 123,
   "id": "d3e57a4e-1342-41b3-9313-d8b0659f37c3",
   "metadata": {},
   "outputs": [],
   "source": [
    "def ff1():\n",
    "    for i in tqdm(fruits*5):\n",
    "        time.sleep(0.1)\n",
    "        print(i)"
   ]
  },
  {
   "cell_type": "code",
   "execution_count": 124,
   "id": "8ca47925-3dfc-4444-83cf-55d5efabeb59",
   "metadata": {},
   "outputs": [
    {
     "name": "stderr",
     "output_type": "stream",
     "text": [
      " 13%|████████████▊                                                                                   | 2/15 [00:00<00:01,  9.87it/s]"
     ]
    },
    {
     "name": "stdout",
     "output_type": "stream",
     "text": [
      "Apples\n",
      "Bananas\n"
     ]
    },
    {
     "name": "stderr",
     "output_type": "stream",
     "text": [
      " 27%|█████████████████████████▌                                                                      | 4/15 [00:00<00:01,  9.77it/s]"
     ]
    },
    {
     "name": "stdout",
     "output_type": "stream",
     "text": [
      "Pears\n",
      "Apples\n"
     ]
    },
    {
     "name": "stderr",
     "output_type": "stream",
     "text": [
      " 40%|██████████████████████████████████████▍                                                         | 6/15 [00:00<00:00,  9.69it/s]"
     ]
    },
    {
     "name": "stdout",
     "output_type": "stream",
     "text": [
      "Bananas\n",
      "Pears\n",
      "Apples\n"
     ]
    },
    {
     "name": "stderr",
     "output_type": "stream",
     "text": [
      " 60%|█████████████████████████████████████████████████████████▌                                      | 9/15 [00:00<00:00,  9.71it/s]"
     ]
    },
    {
     "name": "stdout",
     "output_type": "stream",
     "text": [
      "Bananas\n",
      "Pears\n"
     ]
    },
    {
     "name": "stderr",
     "output_type": "stream",
     "text": [
      " 80%|████████████████████████████████████████████████████████████████████████████                   | 12/15 [00:01<00:00,  9.75it/s]"
     ]
    },
    {
     "name": "stdout",
     "output_type": "stream",
     "text": [
      "Apples\n",
      "Bananas\n",
      "Pears\n"
     ]
    },
    {
     "name": "stderr",
     "output_type": "stream",
     "text": [
      " 93%|████████████████████████████████████████████████████████████████████████████████████████▋      | 14/15 [00:01<00:00,  9.72it/s]"
     ]
    },
    {
     "name": "stdout",
     "output_type": "stream",
     "text": [
      "Apples\n",
      "Bananas\n"
     ]
    },
    {
     "name": "stderr",
     "output_type": "stream",
     "text": [
      "100%|███████████████████████████████████████████████████████████████████████████████████████████████| 15/15 [00:01<00:00,  9.72it/s]"
     ]
    },
    {
     "name": "stdout",
     "output_type": "stream",
     "text": [
      "Pears\n"
     ]
    },
    {
     "name": "stderr",
     "output_type": "stream",
     "text": [
      "\n"
     ]
    }
   ],
   "source": [
    "ff1()"
   ]
  },
  {
   "cell_type": "code",
   "execution_count": null,
   "id": "f41ad21a-bee4-4c06-838e-78cb483e61e3",
   "metadata": {},
   "outputs": [],
   "source": []
  },
  {
   "cell_type": "code",
   "execution_count": 91,
   "id": "6c3ce215-906c-409c-9c16-2d8bf7466612",
   "metadata": {},
   "outputs": [
    {
     "data": {
      "text/plain": [
       "[{'title': 'Great Expectations', 'author': 'Charles Dickens'},\n",
       " {'title': 'Bleak House', 'author': 'Charles Dickens'},\n",
       " {'title': 'An Book By No Author'},\n",
       " {'title': 'Moby Dick', 'author': 'Herman Melville'}]"
      ]
     },
     "execution_count": 91,
     "metadata": {},
     "output_type": "execute_result"
    }
   ],
   "source": [
    "books"
   ]
  },
  {
   "cell_type": "code",
   "execution_count": 92,
   "id": "29f2d068-7bac-4814-b212-bbe25b05beae",
   "metadata": {},
   "outputs": [],
   "source": [
    "def author_gen():\n",
    "    for i in books:\n",
    "        yield i.get('author')"
   ]
  },
  {
   "cell_type": "code",
   "execution_count": 94,
   "id": "cb116823-7d85-4a84-8fe0-f9bdc589c2f9",
   "metadata": {},
   "outputs": [
    {
     "data": {
      "text/plain": [
       "'Charles Dickens'"
      ]
     },
     "execution_count": 94,
     "metadata": {},
     "output_type": "execute_result"
    }
   ],
   "source": [
    "next(author_gen())"
   ]
  },
  {
   "cell_type": "code",
   "execution_count": null,
   "id": "5f159d68-ad0c-4534-bb2f-f055107dad11",
   "metadata": {},
   "outputs": [],
   "source": []
  },
  {
   "cell_type": "code",
   "execution_count": 95,
   "id": "f6880578-a3de-4502-952a-4572b95eb9ff",
   "metadata": {},
   "outputs": [],
   "source": [
    "# Here's another one\n",
    "\n",
    "def authors_generator():\n",
    "    for book in books:\n",
    "        if book.get(\"author\"):\n",
    "            yield book.get(\"author\")"
   ]
  },
  {
   "cell_type": "code",
   "execution_count": 96,
   "id": "9e316f02-f87f-441d-a01f-024ade949607",
   "metadata": {},
   "outputs": [
    {
     "name": "stdout",
     "output_type": "stream",
     "text": [
      "Charles Dickens\n",
      "Charles Dickens\n",
      "Herman Melville\n"
     ]
    }
   ],
   "source": [
    "# Use it\n",
    "\n",
    "for author in authors_generator():\n",
    "    print(author)"
   ]
  },
  {
   "cell_type": "code",
   "execution_count": 97,
   "id": "7535c9d0-410e-4e56-a86c-ae6c0e16053f",
   "metadata": {},
   "outputs": [],
   "source": [
    "# Here's the same thing written with list comprehension\n",
    "\n",
    "def authors_generator():\n",
    "    for author in [book.get(\"author\") for book in books if book.get(\"author\")]:\n",
    "        yield author"
   ]
  },
  {
   "cell_type": "code",
   "execution_count": 98,
   "id": "dad34494-0f6c-4edb-b03f-b8d49ee186f2",
   "metadata": {},
   "outputs": [
    {
     "name": "stdout",
     "output_type": "stream",
     "text": [
      "Charles Dickens\n",
      "Charles Dickens\n",
      "Herman Melville\n"
     ]
    }
   ],
   "source": [
    "# Use it\n",
    "\n",
    "for author in authors_generator():\n",
    "    print(author)"
   ]
  },
  {
   "cell_type": "code",
   "execution_count": 99,
   "id": "abeb7e61-d8aa-4af0-b05a-ae17323e678c",
   "metadata": {},
   "outputs": [],
   "source": [
    "# Here's a nice shortcut\n",
    "# You can use \"yield from\" to yield each item of an iterable\n",
    "\n",
    "def authors_generator():\n",
    "    yield from [book.get(\"author\") for book in books if book.get(\"author\")]"
   ]
  },
  {
   "cell_type": "code",
   "execution_count": 100,
   "id": "05b0cb43-aa83-4762-a797-d3beb0f22c44",
   "metadata": {},
   "outputs": [
    {
     "name": "stdout",
     "output_type": "stream",
     "text": [
      "Charles Dickens\n",
      "Charles Dickens\n",
      "Herman Melville\n"
     ]
    }
   ],
   "source": [
    "# Use it\n",
    "\n",
    "for author in authors_generator():\n",
    "    print(author)"
   ]
  },
  {
   "cell_type": "code",
   "execution_count": 101,
   "id": "fdfea58e-d809-4dd4-b7b0-c26427f8be55",
   "metadata": {},
   "outputs": [],
   "source": [
    "# And finally - we can replace the list comprehension with a set comprehension\n",
    "\n",
    "def unique_authors_generator():\n",
    "    yield from {book.get(\"author\") for book in books if book.get(\"author\")}"
   ]
  },
  {
   "cell_type": "code",
   "execution_count": 102,
   "id": "3e821d08-97be-4db9-9a5b-ce5dced3eff8",
   "metadata": {},
   "outputs": [
    {
     "name": "stdout",
     "output_type": "stream",
     "text": [
      "Herman Melville\n",
      "Charles Dickens\n"
     ]
    }
   ],
   "source": [
    "# Use it\n",
    "\n",
    "for author in unique_authors_generator():\n",
    "    print(author)"
   ]
  },
  {
   "cell_type": "code",
   "execution_count": null,
   "id": "80ad960f-79da-445f-8daf-8e2c3fd8cec4",
   "metadata": {},
   "outputs": [],
   "source": []
  },
  {
   "cell_type": "code",
   "execution_count": null,
   "id": "49aaba6c-2127-4a55-a3ed-32136c335c93",
   "metadata": {},
   "outputs": [],
   "source": []
  },
  {
   "cell_type": "code",
   "execution_count": 127,
   "id": "3865f9a6-cdea-4334-97fa-c4140f6ad23f",
   "metadata": {},
   "outputs": [
    {
     "name": "stdout",
     "output_type": "stream",
     "text": [
      "C:\\Users\\Prithvi\\anaconda3\\envs\\udemyllm\\Lib\\site-packages\\pandas\\__init__.py\n"
     ]
    }
   ],
   "source": [
    "import pandas as pd\n",
    "print(pd.__file__)"
   ]
  },
  {
   "cell_type": "code",
   "execution_count": 128,
   "id": "ee5c5de7-8e90-4b49-90db-c3cbc000aaf9",
   "metadata": {},
   "outputs": [],
   "source": [
    "import random\n",
    "import time\n",
    "\n",
    "pronouns = [\"I\", \"You\", \"We\", \"They\"]\n",
    "verbs = [\"eat\", \"detest\", \"bathe in\", \"deny the existence of\", \"resent\", \"pontificate about\", \"juggle\", \"impersonate\", \"worship\", \"misplace\", \"conspire with\", \"philosophize about\", \"tap dance on\", \"dramatically renounce\", \"secretly collect\"]\n",
    "adjectives = [\"turqoise\", \"smelly\", \"arrogant\", \"festering\", \"pleasing\", \"whimsical\", \"disheveled\", \"pretentious\", \"wobbly\", \"melodramatic\", \"pompous\", \"fluorescent\", \"bewildered\", \"suspicious\", \"overripe\"]\n",
    "nouns = [\"turnips\", \"rodents\", \"eels\", \"walruses\", \"kumquats\", \"monocles\", \"spreadsheets\", \"bagpipes\", \"wombats\", \"accordions\", \"mustaches\", \"calculators\", \"jellyfish\", \"thermostats\"]"
   ]
  },
  {
   "cell_type": "code",
   "execution_count": 130,
   "id": "83c1d545-2ce5-472d-b12d-09dc567792ed",
   "metadata": {},
   "outputs": [
    {
     "data": {
      "text/plain": [
       "15"
      ]
     },
     "execution_count": 130,
     "metadata": {},
     "output_type": "execute_result"
    }
   ],
   "source": [
    "len(verbs)"
   ]
  },
  {
   "cell_type": "code",
   "execution_count": 139,
   "id": "5dc1e249-3898-450d-b44a-c4968dc97db5",
   "metadata": {},
   "outputs": [
    {
     "name": "stdout",
     "output_type": "stream",
     "text": [
      "We resent bewildered calculators\n"
     ]
    }
   ],
   "source": [
    "print(random.choice(pronouns), random.choice(verbs), random.choice(adjectives), random.choice(nouns))"
   ]
  },
  {
   "cell_type": "code",
   "execution_count": 206,
   "id": "83b2f2e1-8355-4cc9-b360-95b36955829b",
   "metadata": {},
   "outputs": [],
   "source": [
    "def num_gen():\n",
    "    for i in range(10):\n",
    "        yield i"
   ]
  },
  {
   "cell_type": "code",
   "execution_count": 207,
   "id": "a6f3ea5a-60d8-4a1b-92ba-5089d7e41d87",
   "metadata": {},
   "outputs": [
    {
     "data": {
      "text/plain": [
       "<generator object num_gen at 0x000001EC7F4612F0>"
      ]
     },
     "execution_count": 207,
     "metadata": {},
     "output_type": "execute_result"
    }
   ],
   "source": [
    "num_gen()"
   ]
  },
  {
   "cell_type": "code",
   "execution_count": 217,
   "id": "1bfde0cf-9404-4e1b-9970-4180f62d41e1",
   "metadata": {},
   "outputs": [
    {
     "name": "stdout",
     "output_type": "stream",
     "text": [
      "0123456789"
     ]
    }
   ],
   "source": [
    "for i in num_gen():\n",
    "    print(i, end = \"\")"
   ]
  },
  {
   "cell_type": "code",
   "execution_count": 218,
   "id": "8bd1a919-1b78-4864-beb6-394a4c0ddcb2",
   "metadata": {},
   "outputs": [
    {
     "name": "stdout",
     "output_type": "stream",
     "text": [
      "0123456789"
     ]
    }
   ],
   "source": [
    "for i in range(10):\n",
    "    print(i, end = \"\")"
   ]
  },
  {
   "cell_type": "code",
   "execution_count": 223,
   "id": "c8587bcc-355d-4027-bdd6-fce8c27b5036",
   "metadata": {},
   "outputs": [
    {
     "name": "stdout",
     "output_type": "stream",
     "text": [
      "0\n",
      "0\n"
     ]
    }
   ],
   "source": [
    "print(next(num_gen()))\n",
    "print(next(num_gen()))"
   ]
  },
  {
   "cell_type": "code",
   "execution_count": 228,
   "id": "aceb5ddf-2658-42f5-91a6-257760eebad7",
   "metadata": {},
   "outputs": [],
   "source": [
    "def random_gen():\n",
    "    counter = 0\n",
    "    while counter < 10:\n",
    "        yield random.choice(range(100))\n",
    "        counter = counter +1"
   ]
  },
  {
   "cell_type": "code",
   "execution_count": 233,
   "id": "6f1ab97c-5888-422a-aeaf-4aa4b46005ba",
   "metadata": {},
   "outputs": [
    {
     "name": "stdout",
     "output_type": "stream",
     "text": [
      "31 38 38 28 31 38 59 16 50 24 "
     ]
    }
   ],
   "source": [
    "for i in random_gen():\n",
    "    print(i, end=\" \")"
   ]
  },
  {
   "cell_type": "code",
   "execution_count": 236,
   "id": "e20a8194-7745-4382-8056-2f98fd7f3d29",
   "metadata": {},
   "outputs": [
    {
     "name": "stdout",
     "output_type": "stream",
     "text": [
      "16 13 25 65 56 14 37 79 52 87 "
     ]
    }
   ],
   "source": [
    "s= 0\n",
    "while s < 10:\n",
    "    print(random.choice(range(100)), end=\" \")\n",
    "    s=s+1"
   ]
  },
  {
   "cell_type": "code",
   "execution_count": null,
   "id": "c72f9961-2bbd-489b-beda-6a44625d0027",
   "metadata": {},
   "outputs": [],
   "source": []
  },
  {
   "cell_type": "code",
   "execution_count": 243,
   "id": "fb3f0960-790a-4a0c-96f2-7cbc1d5852ca",
   "metadata": {},
   "outputs": [],
   "source": [
    "def give_para():\n",
    "    s = 0\n",
    "    while s < 50:\n",
    "        out = random.choice(pronouns), random.choice(verbs), random.choice(adjectives), random.choice(nouns)\n",
    "        yield random.choice(pronouns)\n",
    "        # print(random.choice(pronouns))\n",
    "        time.sleep(0.2)\n",
    "        yield \" \"\n",
    "        time.sleep(0.2)\n",
    "        yield random.choice(verbs)\n",
    "        time.sleep(0.2)\n",
    "        yield \" \"\n",
    "        time.sleep(0.2)\n",
    "        yield random.choice(adjectives)\n",
    "        time.sleep(0.2)\n",
    "        yield \" \"\n",
    "        yield random.choice(nouns)\n",
    "        time.sleep(0.2)\n",
    "        yield \". \"\n",
    "        time.sleep(0.2)\n",
    "        s = s+len(out)"
   ]
  },
  {
   "cell_type": "code",
   "execution_count": 245,
   "id": "b465b5c9-ce1b-4ff4-b968-7b6769a4ba41",
   "metadata": {},
   "outputs": [
    {
     "name": "stdout",
     "output_type": "stream",
     "text": [
      "You dramatically renounce pompous jellyfish. You impersonate overripe eels. We detest wobbly bagpipes. You philosophize about smelly jellyfish. I worship pompous mustaches. You secretly collect disheveled walruses. I dramatically renounce suspicious spreadsheets. They pontificate about melodramatic mustaches. We deny the existence of overripe mustaches. I conspire with melodramatic walruses. You secretly collect bewildered eels. They deny the existence of pretentious accordions. You dramatically renounce smelly accordions. "
     ]
    }
   ],
   "source": [
    "for i in give_para():\n",
    "    print(i, end = \"\")\n",
    "    time.sleep(0.01)"
   ]
  },
  {
   "cell_type": "code",
   "execution_count": 255,
   "id": "7c3d6fc9-e84e-4b75-b5cf-00f557e33ed5",
   "metadata": {},
   "outputs": [],
   "source": [
    "def gen_random_sent():\n",
    "    out = random.choice(pronouns) + \" \" + random.choice(verbs) + \" \" + random.choice(adjectives) + \" \" + random.choice(nouns)\n",
    "    return out"
   ]
  },
  {
   "cell_type": "code",
   "execution_count": 259,
   "id": "1f98d521-afcf-4f5b-95ba-9b3d9c52adad",
   "metadata": {},
   "outputs": [],
   "source": [
    "a= gen_random_sent()"
   ]
  },
  {
   "cell_type": "code",
   "execution_count": 260,
   "id": "4d34c542-9c94-4fc6-95cb-db6e301a4b07",
   "metadata": {},
   "outputs": [
    {
     "data": {
      "text/plain": [
       "'You pontificate about arrogant mustaches'"
      ]
     },
     "execution_count": 260,
     "metadata": {},
     "output_type": "execute_result"
    }
   ],
   "source": [
    "a"
   ]
  },
  {
   "cell_type": "code",
   "execution_count": 270,
   "id": "b04ec324-cde6-49ec-b7a3-a62c0a6c6465",
   "metadata": {},
   "outputs": [],
   "source": [
    "a1 = a.split()"
   ]
  },
  {
   "cell_type": "code",
   "execution_count": 274,
   "id": "20ba4c70-3e6f-4204-927c-bbd399d38a72",
   "metadata": {},
   "outputs": [
    {
     "data": {
      "text/plain": [
       "'You pontificate about arrogant mustaches'"
      ]
     },
     "execution_count": 274,
     "metadata": {},
     "output_type": "execute_result"
    }
   ],
   "source": [
    "\" \".join(a1)"
   ]
  },
  {
   "cell_type": "code",
   "execution_count": 276,
   "id": "68b79a14-8c05-4781-9d06-a5c329dfa24a",
   "metadata": {},
   "outputs": [
    {
     "data": {
      "text/plain": [
       "'You '"
      ]
     },
     "execution_count": 276,
     "metadata": {},
     "output_type": "execute_result"
    }
   ],
   "source": [
    "a[0:4]"
   ]
  },
  {
   "cell_type": "code",
   "execution_count": 277,
   "id": "8bdaf3fb-ca55-4bc0-9653-d3cc9a9923fc",
   "metadata": {},
   "outputs": [],
   "source": [
    "b = \"This is a string that is too long to fit on one line, so we continue it \\\n",
    "here without any breaks.\""
   ]
  },
  {
   "cell_type": "code",
   "execution_count": 278,
   "id": "85ef9e54-7b40-4326-9d74-5c3ed55c57dc",
   "metadata": {},
   "outputs": [
    {
     "data": {
      "text/plain": [
       "'This is a string that is too long to fit on one line, so we continue it here without any breaks.'"
      ]
     },
     "execution_count": 278,
     "metadata": {},
     "output_type": "execute_result"
    }
   ],
   "source": [
    "b"
   ]
  },
  {
   "cell_type": "code",
   "execution_count": 279,
   "id": "72543ae1-020c-4f22-9ba3-caa4813b2b9b",
   "metadata": {},
   "outputs": [
    {
     "name": "stdout",
     "output_type": "stream",
     "text": [
      "This is a string\n",
      "that contains multiple lines,\n",
      "and we don't need to use a backslash.\n",
      "It also handles quotes, like \"this one\" and 'that one'.\n"
     ]
    }
   ],
   "source": [
    "c = \"\"\"This is a string\n",
    "that contains multiple lines,\n",
    "and we don't need to use a backslash.\n",
    "It also handles quotes, like \"this one\" and 'that one'.\"\"\"\n",
    "print(c)"
   ]
  },
  {
   "cell_type": "code",
   "execution_count": null,
   "id": "31b76a5c-42f5-4999-a972-44d7af06db4c",
   "metadata": {},
   "outputs": [],
   "source": []
  },
  {
   "cell_type": "code",
   "execution_count": 281,
   "id": "23ec9734-c16a-4df4-8d56-f85a48e4e8eb",
   "metadata": {},
   "outputs": [
    {
     "name": "stdout",
     "output_type": "stream",
     "text": [
      "Hello, my name is Alice and I am 30 years old.\n"
     ]
    }
   ],
   "source": [
    "name = \"Alice\"\n",
    "age = 30\n",
    "message = f\"Hello, my name is {name} and I am {age} years old.\"\n",
    "print(message)"
   ]
  },
  {
   "cell_type": "code",
   "execution_count": 283,
   "id": "2fcaa7a6-5cfd-4dfb-8787-110525657487",
   "metadata": {},
   "outputs": [
    {
     "name": "stdout",
     "output_type": "stream",
     "text": [
      "My name is Alice, and I am 30 year old\n"
     ]
    }
   ],
   "source": [
    "print(f\"My name is {name}, and I am {age} year old\")"
   ]
  },
  {
   "cell_type": "code",
   "execution_count": 289,
   "id": "dc7f1bbb-dc42-4281-9d2b-71e5674442fd",
   "metadata": {},
   "outputs": [
    {
     "name": "stdout",
     "output_type": "stream",
     "text": [
      "The price is $1,234,567.89\n"
     ]
    }
   ],
   "source": [
    "price = 1234567.8912\n",
    "formatted_price = f\"The price is ${price:,.2f}\"\n",
    "print(formatted_price)\n"
   ]
  },
  {
   "cell_type": "code",
   "execution_count": 297,
   "id": "24bdbbfd-0642-470a-bd08-2c3eeb4eb6b2",
   "metadata": {},
   "outputs": [
    {
     "name": "stdout",
     "output_type": "stream",
     "text": [
      "price is 1,234,567.891\n"
     ]
    }
   ],
   "source": [
    "print(f\"price is {price:,.3f}\")"
   ]
  },
  {
   "cell_type": "code",
   "execution_count": 298,
   "id": "2b7c721f-a48e-4c43-b8fc-c1360fc2c798",
   "metadata": {},
   "outputs": [],
   "source": [
    "person = {\n",
    "    \"name\": \"Alice\",\n",
    "    \"age\": 25,\n",
    "    \"city\": \"New York\"\n",
    "}"
   ]
  },
  {
   "cell_type": "code",
   "execution_count": 299,
   "id": "dfb973df-b674-4b3f-a1a5-f136ae4a5744",
   "metadata": {},
   "outputs": [
    {
     "data": {
      "text/plain": [
       "dict"
      ]
     },
     "execution_count": 299,
     "metadata": {},
     "output_type": "execute_result"
    }
   ],
   "source": [
    "type(person)"
   ]
  },
  {
   "cell_type": "code",
   "execution_count": 300,
   "id": "852d7d60-ec86-4163-8eb2-8fdd9e9bfd37",
   "metadata": {},
   "outputs": [
    {
     "data": {
      "text/plain": [
       "'Alice'"
      ]
     },
     "execution_count": 300,
     "metadata": {},
     "output_type": "execute_result"
    }
   ],
   "source": [
    "person['name']"
   ]
  },
  {
   "cell_type": "code",
   "execution_count": 301,
   "id": "9fecb8fc-524c-41cb-8c0d-bd37641dda32",
   "metadata": {},
   "outputs": [
    {
     "data": {
      "text/plain": [
       "'Alice'"
      ]
     },
     "execution_count": 301,
     "metadata": {},
     "output_type": "execute_result"
    }
   ],
   "source": [
    "person.get('name')"
   ]
  },
  {
   "cell_type": "code",
   "execution_count": 302,
   "id": "d0b98f93-7c6b-4aef-a086-fdd6c5fd2110",
   "metadata": {},
   "outputs": [
    {
     "data": {
      "text/plain": [
       "'US'"
      ]
     },
     "execution_count": 302,
     "metadata": {},
     "output_type": "execute_result"
    }
   ],
   "source": [
    "person.get('country','US')"
   ]
  },
  {
   "cell_type": "code",
   "execution_count": 303,
   "id": "2e9222c0-a833-43eb-ba1a-b8ad6eb845e9",
   "metadata": {},
   "outputs": [],
   "source": [
    "colors = {\"red\", \"green\", \"blue\"}"
   ]
  },
  {
   "cell_type": "code",
   "execution_count": 304,
   "id": "d56628fb-2e8b-4b8d-9d25-810caa369a02",
   "metadata": {},
   "outputs": [
    {
     "data": {
      "text/plain": [
       "{'blue', 'green', 'red'}"
      ]
     },
     "execution_count": 304,
     "metadata": {},
     "output_type": "execute_result"
    }
   ],
   "source": [
    "colors"
   ]
  },
  {
   "cell_type": "code",
   "execution_count": 305,
   "id": "b36d15d0-31bc-48e7-ae9a-7c1116a3850d",
   "metadata": {},
   "outputs": [
    {
     "data": {
      "text/plain": [
       "set"
      ]
     },
     "execution_count": 305,
     "metadata": {},
     "output_type": "execute_result"
    }
   ],
   "source": [
    "type(colors)"
   ]
  },
  {
   "cell_type": "code",
   "execution_count": 307,
   "id": "5e578a59-a3e6-4538-90ba-ff46c827927e",
   "metadata": {},
   "outputs": [],
   "source": [
    "colors.add('rere')"
   ]
  },
  {
   "cell_type": "code",
   "execution_count": 308,
   "id": "5479320c-d46f-483f-856c-3b7bc7a37185",
   "metadata": {},
   "outputs": [
    {
     "data": {
      "text/plain": [
       "{'blue', 'green', 'red', 'rere'}"
      ]
     },
     "execution_count": 308,
     "metadata": {},
     "output_type": "execute_result"
    }
   ],
   "source": [
    "colors"
   ]
  },
  {
   "cell_type": "code",
   "execution_count": 309,
   "id": "03658be4-e98c-48e9-a711-b03babeeb586",
   "metadata": {},
   "outputs": [],
   "source": [
    "import os"
   ]
  },
  {
   "cell_type": "code",
   "execution_count": 310,
   "id": "26c1bc0c-63ec-4685-a403-fa67785da9b1",
   "metadata": {},
   "outputs": [
    {
     "data": {
      "text/plain": [
       "'C:\\\\Users\\\\Prithvi\\\\Downloads\\\\Practice\\\\Udemy - LLM Engineering\\\\llm_engineering\\\\week1'"
      ]
     },
     "execution_count": 310,
     "metadata": {},
     "output_type": "execute_result"
    }
   ],
   "source": [
    "os.getcwd()"
   ]
  },
  {
   "cell_type": "code",
   "execution_count": 343,
   "id": "5f563260-32c4-4714-9fe0-7a2eb7525914",
   "metadata": {},
   "outputs": [
    {
     "name": "stdout",
     "output_type": "stream",
     "text": [
      "import os\n",
      "import sys\n",
      "import platform\n",
      "import subprocess\n",
      "import shutil\n",
      "import time\n",
      "import ssl\n",
      "import tempfile\n",
      "from pathlib import Path\n"
     ]
    }
   ],
   "source": [
    "with open('diagnostics.py') as f:\n",
    "    s=0\n",
    "    for i in f:\n",
    "        s=s+1\n",
    "        if s<10:\n",
    "            print(i,end=\"\")"
   ]
  },
  {
   "cell_type": "code",
   "execution_count": 344,
   "id": "5323ef00-2d0d-4d89-8e5f-c188053acb48",
   "metadata": {},
   "outputs": [],
   "source": [
    "import glob"
   ]
  },
  {
   "cell_type": "code",
   "execution_count": 348,
   "id": "896c1300-76c8-4195-8b76-b39319440578",
   "metadata": {},
   "outputs": [
    {
     "data": {
      "text/plain": [
       "['day1.ipynb',\n",
       " 'day2 EXERCISE.ipynb',\n",
       " 'day5.ipynb',\n",
       " 'Guide to Jupyter.ipynb',\n",
       " 'Intermediate Python.ipynb',\n",
       " 'troubleshooting.ipynb',\n",
       " 'week1 EXERCISE.ipynb']"
      ]
     },
     "execution_count": 348,
     "metadata": {},
     "output_type": "execute_result"
    }
   ],
   "source": [
    "glob.glob('*.ipynb')"
   ]
  },
  {
   "cell_type": "code",
   "execution_count": 349,
   "id": "d4645994-88e2-488e-bbe6-7bcc12b7e6a4",
   "metadata": {},
   "outputs": [
    {
     "data": {
      "text/plain": [
       "['diagnostics.py']"
      ]
     },
     "execution_count": 349,
     "metadata": {},
     "output_type": "execute_result"
    }
   ],
   "source": [
    "glob.glob('*.py')"
   ]
  },
  {
   "cell_type": "code",
   "execution_count": 350,
   "id": "27afdcf9-7961-4712-9d36-c8e860eed8d6",
   "metadata": {},
   "outputs": [
    {
     "data": {
      "text/plain": [
       "['community-contributions',\n",
       " 'day1.ipynb',\n",
       " 'day2 EXERCISE.ipynb',\n",
       " 'day5.ipynb',\n",
       " 'diagnostics.py',\n",
       " 'Guide to Jupyter.ipynb',\n",
       " 'Intermediate Python.ipynb',\n",
       " 'solutions',\n",
       " 'troubleshooting.ipynb',\n",
       " 'week1 EXERCISE.ipynb']"
      ]
     },
     "execution_count": 350,
     "metadata": {},
     "output_type": "execute_result"
    }
   ],
   "source": [
    "glob.glob('**')"
   ]
  },
  {
   "cell_type": "code",
   "execution_count": null,
   "id": "21667301-88dc-42a9-baba-05637899db47",
   "metadata": {},
   "outputs": [],
   "source": []
  },
  {
   "cell_type": "code",
   "execution_count": 193,
   "id": "2621490e-866b-4ee5-99ef-6289b561ddf1",
   "metadata": {},
   "outputs": [
    {
     "name": "stdout",
     "output_type": "stream",
     "text": [
      "0 1 2 3 4 5 6 7 8 9 "
     ]
    }
   ],
   "source": [
    "for i in range(10):\n",
    "    print(i,end=\" \")"
   ]
  },
  {
   "cell_type": "code",
   "execution_count": null,
   "id": "2d742b4e-0c39-447b-91dd-cd8ddf24095c",
   "metadata": {},
   "outputs": [],
   "source": []
  },
  {
   "cell_type": "code",
   "execution_count": 169,
   "id": "905ba603-15d8-4d01-9a79-60ec293d7ca1",
   "metadata": {},
   "outputs": [
    {
     "name": "stdout",
     "output_type": "stream",
     "text": [
      "I pontificate about pleasing rodents. You detest turqoise bagpipes. I detest pleasing eels. You impersonate whimsical turnips. You philosophize about disheveled accordions. I detest melodramatic jellyfish. I eat pleasing walruses. I tap dance on overripe turnips. You secretly collect pretentious bagpipes. We worship whimsical bagpipes. I tap dance on festering mustaches. They secretly collect festering jellyfish. They pontificate about overripe wombats. They worship suspicious accordions. You dramatically renounce arrogant eels. You conspire with pompous eels. I resent pleasing monocles. I tap dance on whimsical bagpipes. I secretly collect disheveled rodents. I bathe in bewildered wombats. You eat whimsical wombats. We conspire with turqoise wombats. You eat festering rodents. I worship turqoise walruses. I pontificate about pompous wombats. I philosophize about wobbly bagpipes. We misplace fluorescent thermostats. We deny the existence of pompous bagpipes. I detest fluorescent calculators. You tap dance on suspicious eels. We philosophize about pretentious turnips. They tap dance on turqoise walruses. You impersonate pleasing rodents. You secretly collect wobbly rodents. You resent melodramatic rodents. You philosophize about turqoise monocles. You conspire with overripe wombats. You philosophize about overripe walruses. You secretly collect bewildered accordions. I worship bewildered mustaches. You worship smelly turnips. I eat whimsical walruses. They conspire with turqoise accordions. You resent melodramatic mustaches. You resent smelly rodents. I philosophize about wobbly turnips. They impersonate fluorescent turnips. I worship festering accordions. You pontificate about festering bagpipes. They dramatically renounce festering"
     ]
    },
    {
     "ename": "KeyboardInterrupt",
     "evalue": "",
     "output_type": "error",
     "traceback": [
      "\u001b[31m---------------------------------------------------------------------------\u001b[39m",
      "\u001b[31mKeyboardInterrupt\u001b[39m                         Traceback (most recent call last)",
      "\u001b[36mCell\u001b[39m\u001b[36m \u001b[39m\u001b[32mIn[169]\u001b[39m\u001b[32m, line 26\u001b[39m\n\u001b[32m     24\u001b[39m \u001b[38;5;28;01mfor\u001b[39;00m letter \u001b[38;5;129;01min\u001b[39;00m infinite_random_sentences():\n\u001b[32m     25\u001b[39m     \u001b[38;5;28mprint\u001b[39m(letter, end=\u001b[33m\"\u001b[39m\u001b[33m\"\u001b[39m, flush=\u001b[38;5;28;01mTrue\u001b[39;00m)\n\u001b[32m---> \u001b[39m\u001b[32m26\u001b[39m     time.sleep(\u001b[32m0.02\u001b[39m)\n",
      "\u001b[31mKeyboardInterrupt\u001b[39m: "
     ]
    }
   ],
   "source": [
    "# And for some fun - press the stop button in the toolbar when bored!\n",
    "# It's like we've made our own Large Language Model... although not particularly large..\n",
    "# See if you understand why it prints a letter at a time, instead of a word at a time. If you're unsure, try removing the keyword \"from\" everywhere in the code.\n",
    "\n",
    "import random\n",
    "import time\n",
    "\n",
    "pronouns = [\"I\", \"You\", \"We\", \"They\"]\n",
    "verbs = [\"eat\", \"detest\", \"bathe in\", \"deny the existence of\", \"resent\", \"pontificate about\", \"juggle\", \"impersonate\", \"worship\", \"misplace\", \"conspire with\", \"philosophize about\", \"tap dance on\", \"dramatically renounce\", \"secretly collect\"]\n",
    "adjectives = [\"turqoise\", \"smelly\", \"arrogant\", \"festering\", \"pleasing\", \"whimsical\", \"disheveled\", \"pretentious\", \"wobbly\", \"melodramatic\", \"pompous\", \"fluorescent\", \"bewildered\", \"suspicious\", \"overripe\"]\n",
    "nouns = [\"turnips\", \"rodents\", \"eels\", \"walruses\", \"kumquats\", \"monocles\", \"spreadsheets\", \"bagpipes\", \"wombats\", \"accordions\", \"mustaches\", \"calculators\", \"jellyfish\", \"thermostats\"]\n",
    "\n",
    "def infinite_random_sentences():\n",
    "    while True:\n",
    "        yield from random.choice(pronouns)\n",
    "        yield \" \"\n",
    "        yield from random.choice(verbs)\n",
    "        yield \" \"\n",
    "        yield from random.choice(adjectives)\n",
    "        yield \" \"\n",
    "        yield from random.choice(nouns)\n",
    "        yield \". \"\n",
    "\n",
    "for letter in infinite_random_sentences():\n",
    "    print(letter, end=\"\", flush=True)\n",
    "    time.sleep(0.02)"
   ]
  },
  {
   "cell_type": "code",
   "execution_count": 351,
   "id": "8586945c-639a-4401-b509-14c627cc56f0",
   "metadata": {},
   "outputs": [],
   "source": [
    "class Dog:\n",
    "    pass"
   ]
  },
  {
   "cell_type": "code",
   "execution_count": 359,
   "id": "f069f148-99c8-4966-90fc-53136fa47b80",
   "metadata": {},
   "outputs": [],
   "source": [
    "class Dog:\n",
    "    def __init__(self, name, age):\n",
    "        self.name=name\n",
    "        self.age=age\n",
    "\n",
    "    def twice_age(self):\n",
    "        return 2*self.age"
   ]
  },
  {
   "cell_type": "code",
   "execution_count": 360,
   "id": "69ab5070-32aa-4045-bff8-0982065c32f2",
   "metadata": {},
   "outputs": [],
   "source": [
    "d1=Dog('tom',23)"
   ]
  },
  {
   "cell_type": "code",
   "execution_count": 361,
   "id": "dcc0c4ed-a200-465c-b6b9-ca3a207258a3",
   "metadata": {},
   "outputs": [
    {
     "data": {
      "text/plain": [
       "<__main__.Dog at 0x1ec0360c390>"
      ]
     },
     "execution_count": 361,
     "metadata": {},
     "output_type": "execute_result"
    }
   ],
   "source": [
    "d1"
   ]
  },
  {
   "cell_type": "code",
   "execution_count": 362,
   "id": "ff2b0a32-9450-4671-9cde-7106746ed796",
   "metadata": {},
   "outputs": [
    {
     "data": {
      "text/plain": [
       "('tom', 23)"
      ]
     },
     "execution_count": 362,
     "metadata": {},
     "output_type": "execute_result"
    }
   ],
   "source": [
    "d1.name, d1.age"
   ]
  },
  {
   "cell_type": "code",
   "execution_count": 363,
   "id": "e44cc858-1a94-4eca-a7ea-aef92880fb98",
   "metadata": {},
   "outputs": [
    {
     "data": {
      "text/plain": [
       "46"
      ]
     },
     "execution_count": 363,
     "metadata": {},
     "output_type": "execute_result"
    }
   ],
   "source": [
    "d1.twice_age()"
   ]
  },
  {
   "cell_type": "code",
   "execution_count": 365,
   "id": "b90b25ae-84e0-49af-83a2-eb9922bc1579",
   "metadata": {},
   "outputs": [],
   "source": [
    "class Book:\n",
    "    def __init__(self, title,author, pages):\n",
    "        self.title = title\n",
    "        self.author = author\n",
    "        self.pages=pages\n",
    "\n",
    "    def summary(self):\n",
    "        print(f\"title: {self.title}\")"
   ]
  },
  {
   "cell_type": "code",
   "execution_count": 366,
   "id": "6154197f-23f8-4ce9-bb74-e0b515f81988",
   "metadata": {},
   "outputs": [],
   "source": [
    "b = Book(\"To Kill a Mockingbird\", \"Harper Lee\", 281)"
   ]
  },
  {
   "cell_type": "code",
   "execution_count": 367,
   "id": "486212ab-0250-4ad9-a3f7-7f2485ef3138",
   "metadata": {},
   "outputs": [
    {
     "name": "stdout",
     "output_type": "stream",
     "text": [
      "title: To Kill a Mockingbird\n"
     ]
    }
   ],
   "source": [
    "b.summary()"
   ]
  },
  {
   "cell_type": "code",
   "execution_count": 368,
   "id": "25c73ebd-2559-44ee-a4ce-b127d5e24d03",
   "metadata": {},
   "outputs": [],
   "source": [
    "class Person:\n",
    "    def __init__(self, name, age):\n",
    "        self.name = name\n",
    "        self.age = age\n",
    "\n",
    "    def __repr__(self):\n",
    "        return f\"Person(name={self.name}, age={self.age})\""
   ]
  },
  {
   "cell_type": "code",
   "execution_count": 369,
   "id": "34b8c8dc-6410-4c6e-9bc3-ea1444c72873",
   "metadata": {},
   "outputs": [],
   "source": [
    "import pickle\n",
    "\n",
    "# Create an instance of the class\n",
    "person = Person(\"Alice\", 30)"
   ]
  },
  {
   "cell_type": "code",
   "execution_count": 370,
   "id": "4cc7cfc9-c95d-4d84-a24c-30b4bdc95240",
   "metadata": {},
   "outputs": [
    {
     "data": {
      "text/plain": [
       "Person(name=Alice, age=30)"
      ]
     },
     "execution_count": 370,
     "metadata": {},
     "output_type": "execute_result"
    }
   ],
   "source": [
    "person"
   ]
  },
  {
   "cell_type": "code",
   "execution_count": 371,
   "id": "b9ac9f64-a9cd-4497-a3c9-89580fb79f44",
   "metadata": {},
   "outputs": [
    {
     "data": {
      "text/plain": [
       "30"
      ]
     },
     "execution_count": 371,
     "metadata": {},
     "output_type": "execute_result"
    }
   ],
   "source": [
    "person.age"
   ]
  },
  {
   "cell_type": "code",
   "execution_count": 372,
   "id": "de9fd342-d3f5-4b15-90ea-ae4cf99b57a9",
   "metadata": {},
   "outputs": [
    {
     "data": {
      "text/plain": [
       "30"
      ]
     },
     "execution_count": 372,
     "metadata": {},
     "output_type": "execute_result"
    }
   ],
   "source": [
    "person.age"
   ]
  },
  {
   "cell_type": "code",
   "execution_count": 373,
   "id": "143654a9-eac5-40d9-9d89-1f6b4eaea7dc",
   "metadata": {},
   "outputs": [
    {
     "data": {
      "text/plain": [
       "<bound method Person.__repr__ of Person(name=Alice, age=30)>"
      ]
     },
     "execution_count": 373,
     "metadata": {},
     "output_type": "execute_result"
    }
   ],
   "source": [
    "person.__repr__"
   ]
  },
  {
   "cell_type": "code",
   "execution_count": 376,
   "id": "4255ffd3-a210-439c-b484-b164ea325360",
   "metadata": {},
   "outputs": [],
   "source": [
    "with open(\"person.pkl\", \"wb\") as f:\n",
    "    pickle.dump(person, f)"
   ]
  },
  {
   "cell_type": "code",
   "execution_count": 380,
   "id": "d2e18154-1fb8-4bd2-a2ef-f06823c01d92",
   "metadata": {},
   "outputs": [],
   "source": [
    "with open(\"person.pkl\", \"rb\") as f:\n",
    "    p = pickle.load(f)"
   ]
  },
  {
   "cell_type": "code",
   "execution_count": 381,
   "id": "a2d80cec-788d-48cf-979f-8fe2b0736c52",
   "metadata": {},
   "outputs": [
    {
     "data": {
      "text/plain": [
       "Person(name=Alice, age=30)"
      ]
     },
     "execution_count": 381,
     "metadata": {},
     "output_type": "execute_result"
    }
   ],
   "source": [
    "p"
   ]
  },
  {
   "cell_type": "code",
   "execution_count": 382,
   "id": "ce9447a3-f897-4e8d-b167-529da758a02a",
   "metadata": {},
   "outputs": [
    {
     "data": {
      "text/plain": [
       "30"
      ]
     },
     "execution_count": 382,
     "metadata": {},
     "output_type": "execute_result"
    }
   ],
   "source": [
    "p.age"
   ]
  },
  {
   "cell_type": "code",
   "execution_count": 383,
   "id": "7519af15-9a84-4fc4-9f6e-53f9ae40856f",
   "metadata": {},
   "outputs": [],
   "source": [
    "import json"
   ]
  },
  {
   "cell_type": "code",
   "execution_count": 384,
   "id": "ca1cb614-5750-49f6-8db4-c08760d289a0",
   "metadata": {},
   "outputs": [],
   "source": [
    "data = {\"name\": \"Alice\", \"age\": 30, \"hobbies\": [\"reading\", \"cycling\"]}"
   ]
  },
  {
   "cell_type": "code",
   "execution_count": 385,
   "id": "a5c3459e-c639-48d5-b70f-a2ff1ca40d5b",
   "metadata": {},
   "outputs": [
    {
     "data": {
      "text/plain": [
       "{'name': 'Alice', 'age': 30, 'hobbies': ['reading', 'cycling']}"
      ]
     },
     "execution_count": 385,
     "metadata": {},
     "output_type": "execute_result"
    }
   ],
   "source": [
    "data"
   ]
  },
  {
   "cell_type": "code",
   "execution_count": 386,
   "id": "6fb3322e-ff80-43e8-8269-1647199dc46e",
   "metadata": {},
   "outputs": [],
   "source": [
    "with open(\"data.json\", \"w\") as f:\n",
    "    json.dump(data, f)"
   ]
  },
  {
   "cell_type": "code",
   "execution_count": 387,
   "id": "d79a49d9-2635-4d4b-ae83-8e69cbec8519",
   "metadata": {},
   "outputs": [],
   "source": [
    "with open(\"data.json\", \"r\") as f:\n",
    "    data1 = json.load(f)"
   ]
  },
  {
   "cell_type": "code",
   "execution_count": 388,
   "id": "23fdb420-5335-4ad3-84aa-c0d681b8eb46",
   "metadata": {},
   "outputs": [
    {
     "data": {
      "text/plain": [
       "{'name': 'Alice', 'age': 30, 'hobbies': ['reading', 'cycling']}"
      ]
     },
     "execution_count": 388,
     "metadata": {},
     "output_type": "execute_result"
    }
   ],
   "source": [
    "data1"
   ]
  },
  {
   "cell_type": "code",
   "execution_count": 389,
   "id": "2f62face-15ac-4345-b2a6-aa8e106e51f1",
   "metadata": {},
   "outputs": [
    {
     "data": {
      "text/plain": [
       "{'name': 'Alice', 'age': 30, 'hobbies': ['reading', 'cycling']}"
      ]
     },
     "execution_count": 389,
     "metadata": {},
     "output_type": "execute_result"
    }
   ],
   "source": [
    "data"
   ]
  },
  {
   "cell_type": "code",
   "execution_count": 391,
   "id": "8dde7dfb-2e93-4a2e-974b-badaaf1c7538",
   "metadata": {},
   "outputs": [],
   "source": [
    "jdata = json.dumps(data)"
   ]
  },
  {
   "cell_type": "code",
   "execution_count": 392,
   "id": "f09f727b-740d-4442-bfc7-5547f5e7ca0d",
   "metadata": {},
   "outputs": [
    {
     "data": {
      "text/plain": [
       "str"
      ]
     },
     "execution_count": 392,
     "metadata": {},
     "output_type": "execute_result"
    }
   ],
   "source": [
    "type(jdata)"
   ]
  },
  {
   "cell_type": "code",
   "execution_count": 393,
   "id": "6ff32f83-d85e-4963-bd44-1d702cdf5a4a",
   "metadata": {},
   "outputs": [
    {
     "data": {
      "text/plain": [
       "[{'title': 'Great Expectations', 'author': 'Charles Dickens'},\n",
       " {'title': 'Bleak House', 'author': 'Charles Dickens'},\n",
       " {'title': 'An Book By No Author'},\n",
       " {'title': 'Moby Dick', 'author': 'Herman Melville'}]"
      ]
     },
     "execution_count": 393,
     "metadata": {},
     "output_type": "execute_result"
    }
   ],
   "source": [
    "books"
   ]
  },
  {
   "cell_type": "code",
   "execution_count": 433,
   "id": "c2dc87b9-391a-452e-abcd-ec6aa09ef319",
   "metadata": {},
   "outputs": [],
   "source": [
    "class Books:\n",
    "    def __init__(self, title, author):\n",
    "        self.title=title\n",
    "        self.author=author\n",
    "\n",
    "    def has_author(self):\n",
    "        if self.author != None:\n",
    "            a =  'Has author'\n",
    "        else:\n",
    "            a= 'No author'\n",
    "\n",
    "        print(a)"
   ]
  },
  {
   "cell_type": "code",
   "execution_count": 437,
   "id": "3d7d2782-db29-4f45-8088-b04e9077bee4",
   "metadata": {},
   "outputs": [],
   "source": [
    "b = Books('Great Expectations', 'Charles Dickens')\n",
    "b = Books('Great Expectations', None)"
   ]
  },
  {
   "cell_type": "code",
   "execution_count": 438,
   "id": "240a7a80-5adb-431e-9b45-3718fbd16e55",
   "metadata": {},
   "outputs": [
    {
     "data": {
      "text/plain": [
       "'Great Expectations'"
      ]
     },
     "execution_count": 438,
     "metadata": {},
     "output_type": "execute_result"
    }
   ],
   "source": [
    "b.title"
   ]
  },
  {
   "cell_type": "code",
   "execution_count": 439,
   "id": "a6b8b932-65db-4dba-a44c-7390984b40e6",
   "metadata": {},
   "outputs": [
    {
     "name": "stdout",
     "output_type": "stream",
     "text": [
      "No author\n"
     ]
    }
   ],
   "source": [
    "b.has_author()"
   ]
  },
  {
   "cell_type": "code",
   "execution_count": 440,
   "id": "715c0a08-18f9-481e-ac5d-abcbf78b7de6",
   "metadata": {},
   "outputs": [],
   "source": [
    "list1 = ['book1', 'book2', 'book3']"
   ]
  },
  {
   "cell_type": "code",
   "execution_count": 445,
   "id": "f87351ee-7dbe-4608-b3a7-94a807615ba7",
   "metadata": {},
   "outputs": [],
   "source": [
    "class BookShelf():\n",
    "    def __init__ (self, books):\n",
    "        self.books = books\n",
    "\n",
    "    def unique_authors(self):\n",
    "        unique_books = set(self.books)\n",
    "        return list(unique_books)"
   ]
  },
  {
   "cell_type": "code",
   "execution_count": 446,
   "id": "008eea95-aefa-4202-b555-26cf7841992e",
   "metadata": {},
   "outputs": [],
   "source": [
    "b = BookShelf(list1)"
   ]
  },
  {
   "cell_type": "code",
   "execution_count": 447,
   "id": "57888f0a-0809-4eaf-b99a-915a5523d0fd",
   "metadata": {},
   "outputs": [
    {
     "data": {
      "text/plain": [
       "['book1', 'book2', 'book3']"
      ]
     },
     "execution_count": 447,
     "metadata": {},
     "output_type": "execute_result"
    }
   ],
   "source": [
    "b.books"
   ]
  },
  {
   "cell_type": "code",
   "execution_count": 448,
   "id": "356c762d-e18d-4b69-b5ac-6ad33a3e60c1",
   "metadata": {},
   "outputs": [
    {
     "data": {
      "text/plain": [
       "['book1', 'book2', 'book3']"
      ]
     },
     "execution_count": 448,
     "metadata": {},
     "output_type": "execute_result"
    }
   ],
   "source": [
    "b.unique_authors()"
   ]
  },
  {
   "cell_type": "code",
   "execution_count": null,
   "id": "e7326629-826e-4ef5-a894-d8c502762a7d",
   "metadata": {},
   "outputs": [],
   "source": []
  },
  {
   "cell_type": "markdown",
   "id": "04832ea2-2447-4473-a449-104f80e24d85",
   "metadata": {},
   "source": [
    "# Exercise\n",
    "\n",
    "Write some python classes for the books example.\n",
    "\n",
    "Write a Book class with a title and author. Include a method has_author()\n",
    "\n",
    "Write a BookShelf class with a list of books. Include a generator method unique_authors()"
   ]
  },
  {
   "cell_type": "markdown",
   "id": "35760406-fe6c-41f9-b0c0-3e8cf73aafd0",
   "metadata": {},
   "source": [
    "# Finally\n",
    "\n",
    "Here are some intermediate level details of Classes from our AI friend, including use of type hints, inheritance and class methods. This includes a Book example.\n",
    "\n",
    "https://chatgpt.com/share/67348aca-65fc-8012-a4a9-fd1b8f04ba59"
   ]
  },
  {
   "cell_type": "code",
   "execution_count": null,
   "id": "d668ac87-0f71-4a27-9bca-c0be876f5797",
   "metadata": {},
   "outputs": [],
   "source": []
  },
  {
   "cell_type": "code",
   "execution_count": null,
   "id": "ef4b1157-28d3-4a94-8aae-a9585c173816",
   "metadata": {},
   "outputs": [],
   "source": []
  },
  {
   "cell_type": "code",
   "execution_count": 467,
   "id": "c035340d-ea11-4be8-96d9-721d9c43dc09",
   "metadata": {},
   "outputs": [],
   "source": [
    "class Books:\n",
    "    def __init__(self, title:str, author:str):\n",
    "        self.title = title\n",
    "        self.author = author\n",
    "\n",
    "    def get_description(self) -> str:\n",
    "        return f\"{self.title} by {self.author}\"    "
   ]
  },
  {
   "cell_type": "code",
   "execution_count": 468,
   "id": "5df15190-9d95-490c-b0af-b772349b1bc7",
   "metadata": {},
   "outputs": [],
   "source": [
    "b = Books('Harry Potter', 'Author1')"
   ]
  },
  {
   "cell_type": "code",
   "execution_count": 469,
   "id": "051a2064-62c7-4958-b3cf-c014dbb99c04",
   "metadata": {},
   "outputs": [
    {
     "data": {
      "text/plain": [
       "'Harry Potter by Author1'"
      ]
     },
     "execution_count": 469,
     "metadata": {},
     "output_type": "execute_result"
    }
   ],
   "source": [
    "b.get_description()"
   ]
  },
  {
   "cell_type": "code",
   "execution_count": 484,
   "id": "5358bcb5-44f8-4231-ae78-646936b1a26f",
   "metadata": {},
   "outputs": [],
   "source": [
    "class Ebook(Books):\n",
    "    def __init__(self, title:str, author: str, file_format:str):\n",
    "        super().__init__(title, author)\n",
    "        self.file_format=file_format\n",
    "\n",
    "    def get_descr(self):\n",
    "        return f\"{self.title} by {self.author} in {self.file_format} format\""
   ]
  },
  {
   "cell_type": "code",
   "execution_count": 485,
   "id": "ecc94c55-49be-49b5-be3c-1ede595241c7",
   "metadata": {},
   "outputs": [],
   "source": [
    "b = Ebook('Harry Potter','Author1','pdf')"
   ]
  },
  {
   "cell_type": "code",
   "execution_count": 486,
   "id": "144f5f2d-348b-44a8-92eb-7bec89c0bf48",
   "metadata": {},
   "outputs": [
    {
     "data": {
      "text/plain": [
       "<__main__.Ebook at 0x1ec7f546750>"
      ]
     },
     "execution_count": 486,
     "metadata": {},
     "output_type": "execute_result"
    }
   ],
   "source": [
    "b"
   ]
  },
  {
   "cell_type": "code",
   "execution_count": 487,
   "id": "21973866-9020-4340-b2dd-4b79ae7d617f",
   "metadata": {},
   "outputs": [
    {
     "data": {
      "text/plain": [
       "'Harry Potter by Author1'"
      ]
     },
     "execution_count": 487,
     "metadata": {},
     "output_type": "execute_result"
    }
   ],
   "source": [
    "b.get_description()"
   ]
  },
  {
   "cell_type": "code",
   "execution_count": 488,
   "id": "31edc125-03fc-44d5-97a5-03da09f85afa",
   "metadata": {},
   "outputs": [
    {
     "data": {
      "text/plain": [
       "'Harry Potter by Author1 in pdf format'"
      ]
     },
     "execution_count": 488,
     "metadata": {},
     "output_type": "execute_result"
    }
   ],
   "source": [
    "b.get_descr()"
   ]
  },
  {
   "cell_type": "code",
   "execution_count": 489,
   "id": "cc14f741-47b4-4edb-ad4a-19a802d9ca34",
   "metadata": {},
   "outputs": [],
   "source": [
    "from typing import List\n",
    "\n",
    "class Book:\n",
    "    title: str\n",
    "    author: str\n",
    "\n",
    "    def __init__(self, title: str, author: str):\n",
    "        self.title = title\n",
    "        self.author = author\n",
    "\n",
    "    def get_description(self) -> str:\n",
    "        return f\"'{self.title}' by {self.author}\"\n",
    "\n",
    "    @classmethod\n",
    "    def create_multiple(cls, titles_and_authors: List[tuple]) -> List['Book']:\n",
    "        \"\"\"Class method that returns a list of Book instances from a list of title-author pairs.\"\"\"\n",
    "        return [cls(title, author) for title, author in titles_and_authors]"
   ]
  },
  {
   "cell_type": "code",
   "execution_count": 490,
   "id": "7c6487cf-66c1-41ca-8f70-47c1aab8e5b2",
   "metadata": {},
   "outputs": [],
   "source": [
    "b = Book('Harry Potter','Author1')"
   ]
  },
  {
   "cell_type": "code",
   "execution_count": 493,
   "id": "6502e23d-784f-47f8-98df-1c4efd360dad",
   "metadata": {},
   "outputs": [],
   "source": [
    "books = Book.create_multiple([(\"1984\", \"George Orwell\"), (\"Brave New World\", \"Aldous Huxley\")])"
   ]
  },
  {
   "cell_type": "code",
   "execution_count": 494,
   "id": "3257b70b-9edb-410e-b210-3f6e22c53380",
   "metadata": {},
   "outputs": [
    {
     "data": {
      "text/plain": [
       "[<__main__.Book at 0x1ec03234650>, <__main__.Book at 0x1ec03235890>]"
      ]
     },
     "execution_count": 494,
     "metadata": {},
     "output_type": "execute_result"
    }
   ],
   "source": [
    "books"
   ]
  },
  {
   "cell_type": "code",
   "execution_count": 496,
   "id": "a6409175-6da3-4b18-a3fe-c081c150aa90",
   "metadata": {},
   "outputs": [
    {
     "name": "stdout",
     "output_type": "stream",
     "text": [
      "'1984' by George Orwell\n",
      "'Brave New World' by Aldous Huxley\n"
     ]
    }
   ],
   "source": [
    "for i in books:\n",
    "    print(i.get_description())"
   ]
  },
  {
   "cell_type": "code",
   "execution_count": 497,
   "id": "03b8848b-a34e-415f-a472-163f7291088a",
   "metadata": {},
   "outputs": [],
   "source": [
    "class LibraryItem:\n",
    "    def __init__(self, title:str, year:int):\n",
    "        self.title = title\n",
    "        self.year = year\n",
    "\n",
    "    def get_info(self):\n",
    "        return f\"{self.title} from {self.year}\""
   ]
  },
  {
   "cell_type": "code",
   "execution_count": 500,
   "id": "5fc13ba3-b94f-463b-9596-2dc2b446cc39",
   "metadata": {},
   "outputs": [],
   "source": [
    "class Book(LibraryItem):\n",
    "    author: str\n",
    "    def __init__(self, title:str, year:int, author:str):\n",
    "        super().__init__(title,year)\n",
    "        self.author = author\n",
    "\n",
    "    def get_info1(self) ->str:\n",
    "        return f\"{self.title} from {self.year} is by {self.author}\"\n",
    "\n",
    "    @classmethod\n",
    "    def from_string(cls, info: str) -> 'Book':\n",
    "        title, year, author = info.split(', ')\n",
    "        return cls(title, int(year), author)"
   ]
  },
  {
   "cell_type": "code",
   "execution_count": 501,
   "id": "2ba3e07c-0827-47c5-8a08-8d7b52b56dcc",
   "metadata": {},
   "outputs": [],
   "source": [
    "book = Book.from_string(\"The Catcher in the Rye, 1951, J.D. Salinger\")"
   ]
  },
  {
   "cell_type": "code",
   "execution_count": 502,
   "id": "e715559e-5aa5-45d7-8fca-0835b6ee1274",
   "metadata": {},
   "outputs": [
    {
     "data": {
      "text/plain": [
       "<__main__.Book at 0x1ec031af910>"
      ]
     },
     "execution_count": 502,
     "metadata": {},
     "output_type": "execute_result"
    }
   ],
   "source": [
    "book"
   ]
  },
  {
   "cell_type": "code",
   "execution_count": 503,
   "id": "24d1a452-8d27-4232-9fa4-b6d6bfbb4af9",
   "metadata": {},
   "outputs": [
    {
     "data": {
      "text/plain": [
       "'J.D. Salinger'"
      ]
     },
     "execution_count": 503,
     "metadata": {},
     "output_type": "execute_result"
    }
   ],
   "source": [
    "book.author"
   ]
  },
  {
   "cell_type": "code",
   "execution_count": 505,
   "id": "eeebab51-f711-4c65-babc-e4e126973fbf",
   "metadata": {},
   "outputs": [
    {
     "data": {
      "text/plain": [
       "'The Catcher in the Rye from 1951'"
      ]
     },
     "execution_count": 505,
     "metadata": {},
     "output_type": "execute_result"
    }
   ],
   "source": [
    "book.get_info()"
   ]
  },
  {
   "cell_type": "code",
   "execution_count": 506,
   "id": "fdb56f30-3224-44f3-8ae1-a39c6681d8b8",
   "metadata": {},
   "outputs": [
    {
     "data": {
      "text/plain": [
       "'The Catcher in the Rye from 1951 is by J.D. Salinger'"
      ]
     },
     "execution_count": 506,
     "metadata": {},
     "output_type": "execute_result"
    }
   ],
   "source": [
    "book.get_info1()"
   ]
  },
  {
   "cell_type": "code",
   "execution_count": null,
   "id": "4f8e232a-f821-4bab-a076-8145e6ee37c8",
   "metadata": {},
   "outputs": [],
   "source": []
  },
  {
   "cell_type": "code",
   "execution_count": null,
   "id": "b2b075a4-b5e5-43db-b0d5-ea9992748e39",
   "metadata": {},
   "outputs": [],
   "source": []
  },
  {
   "cell_type": "code",
   "execution_count": null,
   "id": "1a4a67a4-14fb-4c90-b655-d64d54e49594",
   "metadata": {},
   "outputs": [],
   "source": []
  },
  {
   "cell_type": "code",
   "execution_count": null,
   "id": "cba99655-82a0-49c1-acf3-0cb7d86445a1",
   "metadata": {},
   "outputs": [],
   "source": []
  },
  {
   "cell_type": "code",
   "execution_count": null,
   "id": "92c97e6e-33e9-4d4f-89fd-bae7f3a45172",
   "metadata": {},
   "outputs": [],
   "source": []
  },
  {
   "cell_type": "code",
   "execution_count": null,
   "id": "a0ffcadd-aadd-4030-bc72-887f3663aa07",
   "metadata": {},
   "outputs": [],
   "source": []
  },
  {
   "cell_type": "code",
   "execution_count": 474,
   "id": "2a509f67-9a23-4648-af88-12193385d7ef",
   "metadata": {},
   "outputs": [
    {
     "data": {
      "text/plain": [
       "'Author1'"
      ]
     },
     "execution_count": 474,
     "metadata": {},
     "output_type": "execute_result"
    }
   ],
   "source": [
    "b.author"
   ]
  },
  {
   "cell_type": "code",
   "execution_count": 475,
   "id": "cbd13a36-549b-4b08-9f1d-48b18aeb5576",
   "metadata": {},
   "outputs": [
    {
     "data": {
      "text/plain": [
       "'pdf'"
      ]
     },
     "execution_count": 475,
     "metadata": {},
     "output_type": "execute_result"
    }
   ],
   "source": [
    "b.file_format"
   ]
  },
  {
   "cell_type": "code",
   "execution_count": null,
   "id": "42e4b4ab-ab24-4b92-893f-5d0add62fb74",
   "metadata": {},
   "outputs": [],
   "source": []
  },
  {
   "cell_type": "code",
   "execution_count": null,
   "id": "136d4df3-cc45-475e-a79a-92f3e61f9607",
   "metadata": {},
   "outputs": [],
   "source": []
  },
  {
   "cell_type": "code",
   "execution_count": null,
   "id": "d4d32198-721f-44eb-b4bd-3246c2d5f1fe",
   "metadata": {},
   "outputs": [],
   "source": []
  },
  {
   "cell_type": "code",
   "execution_count": null,
   "id": "bd076118-f78a-48c6-8b2f-c071ee56b942",
   "metadata": {},
   "outputs": [],
   "source": []
  },
  {
   "cell_type": "code",
   "execution_count": 455,
   "id": "c42bd1fa-b24f-4ece-b0b9-32d5d52fe36b",
   "metadata": {},
   "outputs": [
    {
     "data": {
      "text/plain": [
       "'aa1'"
      ]
     },
     "execution_count": 455,
     "metadata": {},
     "output_type": "execute_result"
    }
   ],
   "source": [
    "b.author"
   ]
  },
  {
   "cell_type": "code",
   "execution_count": 456,
   "id": "14e29dce-df87-4095-b190-38826ba6381b",
   "metadata": {},
   "outputs": [],
   "source": [
    "from typing import Optional\n",
    "from typing import Union"
   ]
  },
  {
   "cell_type": "code",
   "execution_count": 458,
   "id": "56c085a3-c6a7-409e-b5f9-837673609c1f",
   "metadata": {},
   "outputs": [
    {
     "data": {
      "text/plain": [
       "'C:\\\\Users\\\\Prithvi\\\\anaconda3\\\\envs\\\\udemyllm\\\\Lib\\\\site-packages\\\\pandas\\\\__init__.py'"
      ]
     },
     "execution_count": 458,
     "metadata": {},
     "output_type": "execute_result"
    }
   ],
   "source": [
    "import pandas as pd\n",
    "pd.__file__"
   ]
  },
  {
   "cell_type": "code",
   "execution_count": 461,
   "id": "2ea4f3bd-7ad6-4cd9-b3b9-70fe860f5864",
   "metadata": {},
   "outputs": [
    {
     "data": {
      "text/plain": [
       "'C:\\\\Users\\\\Prithvi\\\\anaconda3\\\\envs\\\\udemyllm\\\\Lib\\\\typing.py'"
      ]
     },
     "execution_count": 461,
     "metadata": {},
     "output_type": "execute_result"
    }
   ],
   "source": [
    "import typing\n",
    "typing.__file__"
   ]
  },
  {
   "cell_type": "code",
   "execution_count": null,
   "id": "4f68a7ca-4150-4df9-8b18-94b1cd447ac0",
   "metadata": {},
   "outputs": [],
   "source": []
  },
  {
   "cell_type": "code",
   "execution_count": null,
   "id": "15d4067b-433e-4efe-a816-975326bcc534",
   "metadata": {},
   "outputs": [],
   "source": []
  },
  {
   "cell_type": "code",
   "execution_count": null,
   "id": "a183b995-b137-4453-8a34-42d22f15ed83",
   "metadata": {},
   "outputs": [],
   "source": []
  },
  {
   "cell_type": "code",
   "execution_count": null,
   "id": "678bc3a1-ad74-4e02-bc56-f44ea3eee9f3",
   "metadata": {},
   "outputs": [],
   "source": []
  },
  {
   "cell_type": "code",
   "execution_count": null,
   "id": "d91f4d1c-e1c8-468b-ab96-6c482e62ba08",
   "metadata": {},
   "outputs": [],
   "source": []
  },
  {
   "cell_type": "code",
   "execution_count": null,
   "id": "716d83cd-7bf0-48e5-bb80-262a71daa69b",
   "metadata": {},
   "outputs": [],
   "source": []
  },
  {
   "cell_type": "code",
   "execution_count": null,
   "id": "27ac733e-dca8-40ca-a8d1-f084e7203913",
   "metadata": {},
   "outputs": [],
   "source": []
  }
 ],
 "metadata": {
  "kernelspec": {
   "display_name": "Python 3 (ipykernel)",
   "language": "python",
   "name": "python3"
  },
  "language_info": {
   "codemirror_mode": {
    "name": "ipython",
    "version": 3
   },
   "file_extension": ".py",
   "mimetype": "text/x-python",
   "name": "python",
   "nbconvert_exporter": "python",
   "pygments_lexer": "ipython3",
   "version": "3.11.13"
  }
 },
 "nbformat": 4,
 "nbformat_minor": 5
}
