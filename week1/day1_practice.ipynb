{
 "cells": [
  {
   "cell_type": "code",
   "execution_count": 1,
   "id": "9e52b5d9-18a3-40bb-97a5-8f6c6ed02ce0",
   "metadata": {},
   "outputs": [],
   "source": [
    "# imports\n",
    "\n",
    "import os\n",
    "import requests\n",
    "from dotenv import load_dotenv\n",
    "from bs4 import BeautifulSoup\n",
    "from IPython.display import Markdown, display\n",
    "from openai import OpenAI\n",
    "\n",
    "from typing import Optional"
   ]
  },
  {
   "cell_type": "code",
   "execution_count": 2,
   "id": "f7ad07e1-21c9-4545-b586-64284fdc62c1",
   "metadata": {},
   "outputs": [
    {
     "name": "stdout",
     "output_type": "stream",
     "text": [
      "API key found and looks good so far!\n"
     ]
    }
   ],
   "source": [
    "load_dotenv(override=True)\n",
    "api_key = os.getenv('OPENAI_API_KEY')\n",
    "\n",
    "# Check the key\n",
    "\n",
    "if not api_key:\n",
    "    print(\"No API key was found - please head over to the troubleshooting notebook in this folder to identify & fix!\")\n",
    "elif not api_key.startswith(\"sk-proj-\"):\n",
    "    print(\"An API key was found, but it doesn't start sk-proj-; please check you're using the right key - see troubleshooting notebook\")\n",
    "elif api_key.strip() != api_key:\n",
    "    print(\"An API key was found, but it looks like it might have space or tab characters at the start or end - please remove them - see troubleshooting notebook\")\n",
    "else:\n",
    "    print(\"API key found and looks good so far!\")"
   ]
  },
  {
   "cell_type": "code",
   "execution_count": 3,
   "id": "9087331b-c5f6-4700-8cc2-df599886e82c",
   "metadata": {},
   "outputs": [],
   "source": [
    "openai = OpenAI()"
   ]
  },
  {
   "cell_type": "code",
   "execution_count": 7,
   "id": "0514d971-cc34-4789-abca-5360ec6577f5",
   "metadata": {},
   "outputs": [],
   "source": [
    "system_prompt = \"You are a weather assistant\"\n",
    "\n",
    "class City:\n",
    "    name: str\n",
    "    lat: str\n",
    "    long: str\n",
    "\n",
    "    def __init__(self, name: Optional[str] = None, lat: Optional[str] = None, long: Optional[str] = None):\n",
    "        self.name = name\n",
    "        self.lat = lat\n",
    "        self.long = long\n",
    "\n",
    "    #city = City(\"Adelaide\")\n",
    "\n",
    "class Weather:\n",
    "    city: str\n",
    "    min_temp :int\n",
    "    max_temp :int\n",
    "\n",
    "    def __init__(self, city: str, min_temp: int, max_temp: int):\n",
    "        self.city = city\n",
    "        self.min_temp = min_temp\n",
    "        self.max_temp = max_temp\n",
    "\n",
    "\n",
    "\n",
    "def generate_user_prompt_for_weather(city):\n",
    "    user_prompt = \"Please provide the weather patterns of the city: \"\n",
    "    if city.lat:\n",
    "        user_prompt += city.lat +\",\"+ city.long\n",
    "    elif city.name:        \n",
    "        user_prompt += city.name\n",
    "    else:\n",
    "        user_prompt += \"Adelaide\"\n",
    "    return user_prompt\n"
   ]
  },
  {
   "cell_type": "code",
   "execution_count": 14,
   "id": "fde184ca-4463-4c9a-b107-334be532790c",
   "metadata": {},
   "outputs": [],
   "source": [
    "messages = [\n",
    "    {\"role\": \"system\", \"content\": system_prompt},\n",
    "    {\"role\": \"user\", \"content\": generate_user_prompt_for_weather(City(name=\"\",lat=\"34.9285\",long=\"138.6007\"))}\n",
    "]"
   ]
  },
  {
   "cell_type": "code",
   "execution_count": 15,
   "id": "6b9171c6-8aed-4042-92ce-94d4737d60dd",
   "metadata": {},
   "outputs": [
    {
     "name": "stdout",
     "output_type": "stream",
     "text": [
      "The coordinates 34.9285° S, 138.6007° E point to Adelaide, Australia. Here's an overview of the typical weather patterns in Adelaide:\n",
      "\n",
      "1. **Summer (December to February)**: Summers in Adelaide are generally hot and dry, with average high temperatures ranging from 28°C to 35°C (82°F to 95°F). Occasional heat waves can push temperatures even higher. Rainfall is minimal during this season.\n",
      "\n",
      "2. **Autumn (March to May)**: Autumn brings mild temperatures, with highs averaging between 20°C and 28°C (68°F to 82°F). This season sees an increase in rainfall compared to summer, especially in May.\n",
      "\n",
      "3. **Winter (June to August)**: Winters are cool and wet, with average high temperatures ranging from 14°C to 16°C (57°F to 61°F). Rainfall is more frequent, and this is typically the wettest time of the year.\n",
      "\n",
      "4. **Spring (September to November)**: Spring is characterized by gradually warming temperatures, with highs averaging between 18°C and 26°C (64°F to 79°F). Rainfall begins to decrease compared to winter months.\n",
      "\n",
      "Overall, Adelaide has a Mediterranean climate, with hot, dry summers and cool, wet winters. If you need more detailed or specific weather information, please let me know!\n"
     ]
    }
   ],
   "source": [
    "response = openai.chat.completions.create(model=\"gpt-4o-mini\", messages=messages)\n",
    "print(response.choices[0].message.content)"
   ]
  },
  {
   "cell_type": "code",
   "execution_count": null,
   "id": "9a6c01fe-433d-4add-91fd-8c2a1ad9e51f",
   "metadata": {},
   "outputs": [],
   "source": []
  }
 ],
 "metadata": {
  "kernelspec": {
   "display_name": "Python 3 (ipykernel)",
   "language": "python",
   "name": "python3"
  },
  "language_info": {
   "codemirror_mode": {
    "name": "ipython",
    "version": 3
   },
   "file_extension": ".py",
   "mimetype": "text/x-python",
   "name": "python",
   "nbconvert_exporter": "python",
   "pygments_lexer": "ipython3",
   "version": "3.11.13"
  }
 },
 "nbformat": 4,
 "nbformat_minor": 5
}
