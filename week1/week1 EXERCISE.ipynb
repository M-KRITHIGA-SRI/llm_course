{
 "cells": [
  {
   "cell_type": "markdown",
   "id": "fe12c203-e6a6-452c-a655-afb8a03a4ff5",
   "metadata": {},
   "source": [
    "# End of week 1 exercise\n",
    "\n",
    "To demonstrate your familiarity with OpenAI API, and also Ollama, build a tool that takes a technical question,  \n",
    "and responds with an explanation. This is a tool that you will be able to use yourself during the course!"
   ]
  },
  {
   "cell_type": "code",
   "execution_count": 19,
   "id": "c1070317-3ed9-4659-abe3-828943230e03",
   "metadata": {},
   "outputs": [],
   "source": [
    "# imports\n",
    "import requests\n",
    "import json\n",
    "import ollama\n",
    "from bs4 import BeautifulSoup\n",
    "from IPython.display import Markdown, display"
   ]
  },
  {
   "cell_type": "code",
   "execution_count": 2,
   "id": "4a456906-915a-4bfd-bb9d-57e505c5093f",
   "metadata": {},
   "outputs": [],
   "source": [
    "# constants\n",
    "\n",
    "MODEL_GPT = 'gpt-4o-mini'\n",
    "MODEL_LLAMA = 'llama3.2'\n",
    "MODEL_DEEPSEEK = 'deepseek-r1:32b'"
   ]
  },
  {
   "cell_type": "code",
   "execution_count": 3,
   "id": "a8d7923c-5f28-4c30-8556-342d7c8497c1",
   "metadata": {},
   "outputs": [],
   "source": [
    "# set up environment\n",
    "OLLAMA_API = \"http://localhost:11434/api/chat\"\n",
    "HEADERS = {\"Content-Type\": \"application/json\"}"
   ]
  },
  {
   "cell_type": "code",
   "execution_count": 41,
   "id": "3f0d0137-52b0-47a8-81a8-11a90a010798",
   "metadata": {},
   "outputs": [],
   "source": [
    "# here is the question; type over this to ask something new\n",
    "def language_selection(language=\"English\"):\n",
    "    \"\"\"\n",
    "    Returns the system prompt in the selected language\n",
    "    Args:\n",
    "        language (str): Language for the response (default: \"English\")\n",
    "    \"\"\"\n",
    "    prompts = {\n",
    "        \"Spanish\": \"Eres un asistente útil que responde preguntas técnicas en español. Termina con una analogía del código proporcionado.\",\n",
    "        \"English\": \"You are a helpful assistant that answers technical questions in English. End with an analogy of the provided code.\",\n",
    "        \"French\": \"Vous êtes un assistant utile qui répond aux questions techniques en français. Terminez avec une analogie du code fourni.\"\n",
    "        # Add more languages as needed\n",
    "    }\n",
    "    return prompts.get(language, prompts[\"English\"])  # Default to English if language not found\n",
    "\n",
    "def get_explanation(question, language=\"English\"):\n",
    "    \"\"\"\n",
    "    Get explanation in the selected language\n",
    "    Args:\n",
    "        question (str): The technical question to answer\n",
    "        language (str): Desired language for the response\n",
    "    \"\"\"\n",
    "    messages = [\n",
    "        {\"role\": \"system\", \"content\": language_selection(language)},\n",
    "        {\"role\": \"user\", \"content\": question}\n",
    "    ]\n",
    "    \n",
    "    response = ollama.chat(model=MODEL_LLAMA, messages=messages)\n",
    "    return response['message']['content']\n",
    "\n",
    "question = \"\"\"\n",
    "Please explain what this code does and why:\n",
    "yield from {book.get(\"author\") for book in books if book.get(\"author\")}\n",
    "\"\"\"\n",
    "\n",
    "payload = {\n",
    "  \"model\": MODEL_LLAMA,\n",
    "  \"messages\": messages,\n",
    "  \"stream\": False\n",
    "}\n",
    "\n"
   ]
  },
  {
   "cell_type": "code",
   "execution_count": null,
   "id": "60ce7000-a4a5-4cce-a261-e75ef45063b4",
   "metadata": {},
   "outputs": [],
   "source": [
    "# Get gpt-4o-mini to answer, with streaming"
   ]
  },
  {
   "cell_type": "code",
   "execution_count": 42,
   "id": "8f7c8ea8-4082-4ad0-8751-3301adcf6538",
   "metadata": {},
   "outputs": [
    {
     "data": {
      "text/markdown": [
       "<think>\n",
       "Okay, so I have this code snippet here: `yield from {book.get(\"author\") for book in books if book.get(\"author\")}`. Hmm, let me try to understand what it's doing.\n",
       "\n",
       "First off, I know that `yield` is used in Python generators to produce a value and then pause until the next call. But when I see `yield from`, that rings a bell too. I think `yield from` is used to yield values from an iterable one by one. So instead of writing a loop with `for` and `yield`, you can use `yield from` to simplify things.\n",
       "\n",
       "Looking at the code, it's using a set comprehension inside the `yield from`. The structure is `{book.get(\"author\") for book in books if book.get(\"author\")}`. Let me break this down. So, for each `book` in `books`, we're trying to get the value associated with the key \"author\". But there's an `if` condition here: only include it if `book.get(\"author\")` is truthy. That makes sense because some books might not have an author specified.\n",
       "\n",
       "So the set comprehension is creating a set of authors, filtering out any `None` or falsy values. Sets in Python are unordered and unique, so this will collect all unique authors from the list of books without duplicates.\n",
       "\n",
       "Putting it all together, `yield from` takes each element from this set and yields them one by one. So effectively, this code is generating a sequence of unique authors from the books collection.\n",
       "\n",
       "Wait, but why use a set here? Oh right, because if you have multiple books by the same author, using a set ensures that each author is only yielded once. If we didn't use a set, and just had a list comprehension without checking for duplicates, we'd end up yielding the same author multiple times.\n",
       "\n",
       "So the purpose of this code is to iterate over each book in `books`, extract their authors if they exist, collect these into a set to avoid duplicates, and then yield each unique author one by one. This makes the code concise and efficient, especially when dealing with large datasets where duplicates are common.\n",
       "\n",
       "I think I get it now. The code is efficiently handling potential duplicates and ensuring that only valid author names are yielded, making it useful in scenarios where you need to process each author exactly once.\n",
       "</think>\n",
       "\n",
       "The provided code snippet is designed to generate a sequence of unique authors from a collection of books. Here's a breakdown:\n",
       "\n",
       "1. **Set Comprehension**: `{book.get(\"author\") for book in books if book.get(\"author\")}` creates a set of authors, ensuring no duplicates and excluding any `None` values.\n",
       "2. **Yield From**: `yield from` efficiently iterates over each element in the set, yielding them one by one.\n",
       "\n",
       "**Why Use It?**\n",
       "- **Avoid Duplicates**: Uses a set to collect unique authors.\n",
       "- **Efficiency**: Concise and efficient, especially for large datasets with many duplicates.\n",
       "\n",
       "**Analogy:**\n",
       "This code is like having a library where you want to list each author only once. Imagine sorting through books, noting down every new author you find without repeating any names. The `yield from` helps smoothly present each author name in turn, ensuring clarity and avoiding repetition."
      ],
      "text/plain": [
       "<IPython.core.display.Markdown object>"
      ]
     },
     "metadata": {},
     "output_type": "display_data"
    },
    {
     "name": "stdout",
     "output_type": "stream",
     "text": [
      "Respuesta en Español\n"
     ]
    },
    {
     "data": {
      "text/markdown": [
       "<think>\n",
       "Okay, so I need to figure out what the given code snippet does and why it's written that way. The code is: `yield from {book.get(\"author\") for book in books if book.get(\"author\")}`.\n",
       "\n",
       "Alright, let's break this down step by step. First, I know that `yield` is used in Python to create generators. So, when a function contains `yield`, it becomes a generator function and can be iterated over.\n",
       "\n",
       "Now, the code uses `yield from`. From what I remember, `yield from` allows a generator to delegate its iteration to another iterable. This means that instead of yielding each item individually, the generator can yield all items from another iterable in one go. It's useful when you have nested loops or want to flatten an iterable.\n",
       "\n",
       "Looking at the expression after `yield from`, it's a set comprehension: `{book.get(\"author\") for book in books if book.get(\"author\")}`. Let me parse this part.\n",
       "\n",
       "The main loop is iterating over each `book` in `books`. For each book, it tries to get the value of the key \"author\" using `book.get(\"author\")`. The condition `if book.get(\"author\")` ensures that only books with a non-null and truthy \"author\" value are included.\n",
       "\n",
       "So, this comprehension is creating a set where each element is the author's name from each book in `books`, but only if the author exists. Using a set here means that any duplicate authors will be removed because sets cannot have duplicate elements.\n",
       "\n",
       "Putting it all together, the code is generating each unique author's name by iterating over the set created from the books' authors. The `yield from` statement then yields each of these authors one after another as if they were yielded individually in a for loop.\n",
       "\n",
       "I think this approach is efficient because using a generator with `yield from` avoids creating an intermediate list and directly yields the unique author names, saving memory when dealing with large datasets. Additionally, using a set ensures uniqueness without having to check each item again later.\n",
       "\n",
       "So, why would someone write it this way? Well, if they need to process or yield each unique author name without duplicates and want to keep the code concise and efficient, especially for large collections of books, this approach makes sense.\n",
       "\n",
       "An analogy that comes to mind is organizing a library. Imagine you have a shelf full of books (the `books` list). Each book might have an author, but some might be missing this information. The task is to list each unique author only once. Using the code snippet, it's like going through each book on the shelf, noting down the author if present, ensuring no repeats by using a set, and then reading out each author name one by one without having to write them all down first.\n",
       "</think>\n",
       "\n",
       "The code snippet efficiently generates each unique author from a list of books. Here's a breakdown:\n",
       "\n",
       "- **`yield from`**: Delegates iteration to another iterable, in this case, a set comprehension, allowing the generator to yield items directly from it.\n",
       "\n",
       "- **Set Comprehension**: `{book.get(\"author\") for book in books if book.get(\"author\")}` creates a set of unique authors by iterating over each book and including only those with a non-null \"author\" value.\n",
       "\n",
       "- **Efficiency**: By using a generator, the code avoids creating an intermediate list, saving memory. The set ensures no duplicate authors are yielded.\n",
       "\n",
       "**Analogy**: Imagine organizing a library where you need to list each author once. The code is like going through each book, noting the author if present, and then listing each unique author without writing them all down first—efficiently and effectively."
      ],
      "text/plain": [
       "<IPython.core.display.Markdown object>"
      ]
     },
     "metadata": {},
     "output_type": "display_data"
    }
   ],
   "source": [
    "# Get Llama 3.2 to answer\n",
    "#response = requests.post(OLLAMA_API, json=payload, headers=HEADERS)\n",
    "#content = response.json()['message']['content']\n",
    "#print(response.json()['message']['content'])\n",
    "#display(Markdown(content))\n",
    "\n",
    "# Use ollama to answer\n",
    "# Get response in different languages\n",
    "display(Markdown(get_explanation(question, \"English\")))\n",
    "print(\"Respuesta en Español\")\n",
    "display(Markdown(get_explanation(question, \"Spanish\")))"
   ]
  }
 ],
 "metadata": {
  "kernelspec": {
   "display_name": "base",
   "language": "python",
   "name": "python3"
  },
  "language_info": {
   "codemirror_mode": {
    "name": "ipython",
    "version": 3
   },
   "file_extension": ".py",
   "mimetype": "text/x-python",
   "name": "python",
   "nbconvert_exporter": "python",
   "pygments_lexer": "ipython3",
   "version": "3.12.7"
  }
 },
 "nbformat": 4,
 "nbformat_minor": 5
}
