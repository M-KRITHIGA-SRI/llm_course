{
 "cells": [
  {
   "cell_type": "markdown",
   "id": "fe12c203-e6a6-452c-a655-afb8a03a4ff5",
   "metadata": {},
   "source": [
    "# End of week 1 exercise\n",
    "\n",
    "To demonstrate your familiarity with OpenAI API, and also Ollama, build a tool that takes a technical question,  \n",
    "and responds with an explanation. This is a tool that you will be able to use yourself during the course!"
   ]
  },
  {
   "cell_type": "code",
   "execution_count": 5,
   "id": "c1070317-3ed9-4659-abe3-828943230e03",
   "metadata": {},
   "outputs": [],
   "source": [
    "# imports\n",
    "import os\n",
    "import requests\n",
    "import json\n",
    "from dotenv import load_dotenv\n",
    "from openai import OpenAI"
   ]
  },
  {
   "cell_type": "code",
   "execution_count": 6,
   "id": "4a456906-915a-4bfd-bb9d-57e505c5093f",
   "metadata": {},
   "outputs": [],
   "source": [
    "# constants\n",
    "load_dotenv()\n",
    "api_key = os.getenv('OPENAI_API_KEY')\n",
    "\n",
    "MODEL_GPT = 'gpt-4o-mini'\n",
    "openai = OpenAI()"
   ]
  },
  {
   "cell_type": "code",
   "execution_count": 13,
   "id": "3f0d0137-52b0-47a8-81a8-11a90a010798",
   "metadata": {},
   "outputs": [],
   "source": [
    "# here is the question; type over this to ask something new\n",
    "\n",
    "question = \"\"\"\n",
    "What is the difference between supervised and unsupervised learning in machine learning? Can you provide examples of each type of learning and explain their applications?\n",
    "\"\"\""
   ]
  },
  {
   "cell_type": "code",
   "execution_count": 18,
   "id": "1661ea65",
   "metadata": {},
   "outputs": [],
   "source": [
    "def process_question(question):\n",
    "    response = openai.chat.completions.create(\n",
    "        model=MODEL_GPT,\n",
    "        messages=[\n",
    "            {\"role\": \"system\", \"content\": \"You are a helpful assistant that answers technical questions for the user.\"},\n",
    "            {\"role\": \"user\", \"content\": question}\n",
    "        ],\n",
    "        max_tokens=1000,\n",
    "        stream=True\n",
    "    )\n",
    "    result = \"\"\n",
    "    for chunk in response:\n",
    "        if chunk.choices and chunk.choices[0].delta.content:\n",
    "            result += chunk.choices[0].delta.content\n",
    "    return result.strip()"
   ]
  },
  {
   "cell_type": "markdown",
   "id": "acc4ff52",
   "metadata": {},
   "source": []
  },
  {
   "cell_type": "code",
   "execution_count": 19,
   "id": "60ce7000-a4a5-4cce-a261-e75ef45063b4",
   "metadata": {},
   "outputs": [
    {
     "name": "stdout",
     "output_type": "stream",
     "text": [
      "Question: What is the difference between supervised and unsupervised learning in machine learning? Can you provide examples of each type of learning and explain their applications?\n",
      "Response: Supervised and unsupervised learning are two primary paradigms in machine learning, each serving different purposes and employing different methodologies.\n",
      "\n",
      "### Supervised Learning\n",
      "\n",
      "**Definition:** In supervised learning, the model is trained on a labeled dataset, which means that each training example comes with an input-output pair. The algorithm learns to map input features to the corresponding output labels by minimizing the difference between its predictions and the actual labels.\n",
      "\n",
      "**Examples:**\n",
      "1. **Classification:** Predicting a discrete label. For instance, spam detection in email — the model is trained using emails that are labeled as \"spam\" or \"not spam\".\n",
      "2. **Regression:** Predicting a continuous value. For example, forecasting house prices based on features such as size, location, and number of bedrooms.\n",
      "\n",
      "**Applications:**\n",
      "- **Medical Diagnosis:** Classifying whether patients have a disease based on diagnostic features.\n",
      "- **Sentiment Analysis:** Determining whether the sentiment of a review is positive, negative, or neutral.\n",
      "- **Credit Scoring:** Predicting the likelihood of a customer defaulting on a loan based on their financial history.\n",
      "\n",
      "### Unsupervised Learning\n",
      "\n",
      "**Definition:** In unsupervised learning, the model is trained on a dataset without labeled responses. The algorithm tries to find patterns, groupings, or structures in the input data without any guidance on what the output should be.\n",
      "\n",
      "**Examples:**\n",
      "1. **Clustering:** Grouping similar data points. For example, customer segmentation in marketing, where customers are grouped based on purchasing behavior.\n",
      "2. **Dimensionality Reduction:** Reducing the number of features while preserving important information. Techniques like Principal Component Analysis (PCA) are used for compressing data.\n",
      "\n",
      "**Applications:**\n",
      "- **Market Basket Analysis:** Identifying products that frequently co-occur in transactions, often used for recommendation systems.\n",
      "- **Anomaly Detection:** Identifying rare events or outliers in datasets, which is crucial for fraud detection or network security.\n",
      "- **Image Compression:** Reducing the size of image files while maintaining visual quality through clustering similar pixel values.\n",
      "\n",
      "### Summary\n",
      "\n",
      "In essence, supervised learning requires labeled data to train the model, focusing on predicting specific outputs from inputs. In contrast, unsupervised learning does not rely on labeled outputs, aiming to discover hidden patterns and structures within the data. Both paradigms have their unique uses and are integral to the myriad applications of machine learning in various domains.\n",
      "Answer: Supervised and unsupervised learning are two primary paradigms in machine learning, each serving different purposes and employing different methodologies.\n",
      "\n",
      "### Supervised Learning\n",
      "\n",
      "**Definition:** In supervised learning, the model is trained on a labeled dataset, which means that each training example comes with an input-output pair. The algorithm learns to map input features to the corresponding output labels by minimizing the difference between its predictions and the actual labels.\n",
      "\n",
      "**Examples:**\n",
      "1. **Classification:** Predicting a discrete label. For instance, spam detection in email — the model is trained using emails that are labeled as \"spam\" or \"not spam\".\n",
      "2. **Regression:** Predicting a continuous value. For example, forecasting house prices based on features such as size, location, and number of bedrooms.\n",
      "\n",
      "**Applications:**\n",
      "- **Medical Diagnosis:** Classifying whether patients have a disease based on diagnostic features.\n",
      "- **Sentiment Analysis:** Determining whether the sentiment of a review is positive, negative, or neutral.\n",
      "- **Credit Scoring:** Predicting the likelihood of a customer defaulting on a loan based on their financial history.\n",
      "\n",
      "### Unsupervised Learning\n",
      "\n",
      "**Definition:** In unsupervised learning, the model is trained on a dataset without labeled responses. The algorithm tries to find patterns, groupings, or structures in the input data without any guidance on what the output should be.\n",
      "\n",
      "**Examples:**\n",
      "1. **Clustering:** Grouping similar data points. For example, customer segmentation in marketing, where customers are grouped based on purchasing behavior.\n",
      "2. **Dimensionality Reduction:** Reducing the number of features while preserving important information. Techniques like Principal Component Analysis (PCA) are used for compressing data.\n",
      "\n",
      "**Applications:**\n",
      "- **Market Basket Analysis:** Identifying products that frequently co-occur in transactions, often used for recommendation systems.\n",
      "- **Anomaly Detection:** Identifying rare events or outliers in datasets, which is crucial for fraud detection or network security.\n",
      "- **Image Compression:** Reducing the size of image files while maintaining visual quality through clustering similar pixel values.\n",
      "\n",
      "### Summary\n",
      "\n",
      "In essence, supervised learning requires labeled data to train the model, focusing on predicting specific outputs from inputs. In contrast, unsupervised learning does not rely on labeled outputs, aiming to discover hidden patterns and structures within the data. Both paradigms have their unique uses and are integral to the myriad applications of machine learning in various domains.\n"
     ]
    }
   ],
   "source": [
    "# Get gpt-4o-mini to answer, with streaming\n",
    "def main():\n",
    "    print(f\"Question: {question.strip()}\")\n",
    "    answer = process_question(question)\n",
    "    print(f\"Answer: {answer}\")\n",
    "if __name__ == \"__main__\":\n",
    "    main()"
   ]
  }
 ],
 "metadata": {
  "kernelspec": {
   "display_name": ".venv",
   "language": "python",
   "name": "python3"
  },
  "language_info": {
   "codemirror_mode": {
    "name": "ipython",
    "version": 3
   },
   "file_extension": ".py",
   "mimetype": "text/x-python",
   "name": "python",
   "nbconvert_exporter": "python",
   "pygments_lexer": "ipython3",
   "version": "3.12.8"
  }
 },
 "nbformat": 4,
 "nbformat_minor": 5
}
