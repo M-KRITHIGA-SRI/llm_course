{
 "cells": [
  {
   "cell_type": "markdown",
   "id": "fe12c203-e6a6-452c-a655-afb8a03a4ff5",
   "metadata": {},
   "source": [
    "# End of week 1 exercise\n",
    "\n",
    "To demonstrate your familiarity with OpenAI API, and also Ollama, build a tool that takes a technical question,  \n",
    "and responds with an explanation. This is a tool that you will be able to use yourself during the course!"
   ]
  },
  {
   "cell_type": "code",
   "id": "c1070317-3ed9-4659-abe3-828943230e03",
   "metadata": {
    "ExecuteTime": {
     "end_time": "2025-10-02T19:09:57.004472Z",
     "start_time": "2025-10-02T19:09:56.937478Z"
    }
   },
   "source": [
    "# imports\n",
    "import os\n",
    "from dotenv import load_dotenv\n",
    "from openai import OpenAI\n",
    "from IPython.display import Markdown, display\n",
    "import ollama"
   ],
   "outputs": [],
   "execution_count": 12
  },
  {
   "cell_type": "code",
   "id": "4a456906-915a-4bfd-bb9d-57e505c5093f",
   "metadata": {
    "ExecuteTime": {
     "end_time": "2025-10-02T19:02:39.819633Z",
     "start_time": "2025-10-02T19:02:39.817980Z"
    }
   },
   "source": [
    "# constants\n",
    "CONSTANTS = {\n",
    "    \"MODEL_GPT\": \"gpt-4o-mini\",\n",
    "    \"MODEL_LLAMA\" : \"llama3.2\"\n",
    "}"
   ],
   "outputs": [],
   "execution_count": 2
  },
  {
   "cell_type": "code",
   "id": "a8d7923c-5f28-4c30-8556-342d7c8497c1",
   "metadata": {
    "ExecuteTime": {
     "end_time": "2025-10-02T19:02:41.862623Z",
     "start_time": "2025-10-02T19:02:41.808439Z"
    }
   },
   "source": [
    "# set up environment and load API key\n",
    "load_dotenv(override=True)\n",
    "open_ai_api_key = os.getenv(\"OPENAI_API_KEY\")\n",
    "openai = OpenAI(api_key=open_ai_api_key)"
   ],
   "outputs": [],
   "execution_count": 3
  },
  {
   "cell_type": "code",
   "id": "3f0d0137-52b0-47a8-81a8-11a90a010798",
   "metadata": {
    "ExecuteTime": {
     "end_time": "2025-10-02T19:19:31.556594Z",
     "start_time": "2025-10-02T19:19:31.541367Z"
    }
   },
   "source": [
    "# Define the system prompt\n",
    "system_prompt = \"\"\"\n",
    "You are a software engineer assistant that helps to lean new programming language. Respond in markdown.\n",
    "\"\"\"\n",
    "# here is the question; type over this to ask something new.\n",
    "question = \"\"\"\n",
    "Please explain what this code does and why:\n",
    "yield from {book.get(\"author\") for book in books if book.get(\"author\")}\n",
    "\"\"\"\n",
    "# Now define the messages\n",
    "messages = [\n",
    "    {\"role\": \"system\", \"content\": system_prompt},\n",
    "    {\"role\": \"user\", \"content\": question},\n",
    "]"
   ],
   "outputs": [],
   "execution_count": 17
  },
  {
   "cell_type": "code",
   "id": "60ce7000-a4a5-4cce-a261-e75ef45063b4",
   "metadata": {
    "ExecuteTime": {
     "end_time": "2025-10-02T19:19:49.111961Z",
     "start_time": "2025-10-02T19:19:34.310610Z"
    }
   },
   "source": [
    "# Get GPT-4 to answer\n",
    "response = openai.chat.completions.create(model=CONSTANTS[\"MODEL_GPT\"],messages=messages)\n",
    "result = response.choices[0].message.content\n",
    "display(Markdown(result))"
   ],
   "outputs": [
    {
     "data": {
      "text/plain": [
       "<IPython.core.display.Markdown object>"
      ],
      "text/markdown": "Certainly! Let's break down the code:\n\n```python\nyield from {book.get(\"author\") for book in books if book.get(\"author\")}\n```\n\n### Explanation\n\n1. **Set Comprehension**:\n   - The expression `{book.get(\"author\") for book in books if book.get(\"author\")}` is a set comprehension.\n   - It iterates over a collection named `books`, which is expected to be an iterable (like a list or a set) of dictionaries where each dictionary represents a book.\n\n2. **Accessing Dictionary Elements**:\n   - For each `book` in `books`, it tries to access the value associated with the key `\"author\"` using `book.get(\"author\")`.\n   - The `get` method is used here to safely fetch the value associated with the key `\"author\"`. If the key does not exist, it will return `None` instead of raising a `KeyError`.\n\n3. **Filtering**:\n   - The condition `if book.get(\"author\")` checks if the value returned by `book.get(\"author\")` is truthy (i.e., not `None`, `''` (an empty string), `0`, etc.). If it is truthy, that value will be included in the set.\n   - This effectively filters out books that do not have an author specified.\n\n4. **Creating a Set**:\n   - The result of the comprehension is a set of author names. A set is used here so that all author names are unique—duplicate names will be removed.\n\n5. **`yield from`**:\n   - The `yield from` statement is used in generator functions to yield all values from an iterable.\n   - In this context, it means that the generator will yield each author name (from the set) one at a time, as if they were yielded individually.\n\n### Summary\n\nPutting it all together, this line of code will create a set of unique authors from a list of books and then yield each author one at a time. The use of `yield from` allows this to be done in a way that integrates seamlessly into a generator function, making it possible to handle potentially large collections efficiently, one author name at a time.\n\n### Why Use This Code?\n\n- **Efficiency**: By using `yield from`, the generator can produce results iteratively, consuming less memory than if all authors were stored in a list.\n- **Uniqueness**: The set comprehension inherently removes duplicates, ensuring that each author is only yielded once.\n- **Readability**: This code expresses a clear intent of gathering unique authors from an iterable collection of books without much boilerplate code."
     },
     "metadata": {},
     "output_type": "display_data",
     "jetTransient": {
      "display_id": null
     }
    }
   ],
   "execution_count": 18
  },
  {
   "cell_type": "code",
   "id": "8f7c8ea8-4082-4ad0-8751-3301adcf6538",
   "metadata": {
    "ExecuteTime": {
     "end_time": "2025-10-02T19:20:14.768450Z",
     "start_time": "2025-10-02T19:19:58.982419Z"
    }
   },
   "source": [
    "# Get Llama 3.2 to answer\n",
    "response = ollama.chat(model=CONSTANTS[\"MODEL_LLAMA\"], messages=messages)\n",
    "result = response['message']['content']\n",
    "display(Markdown(result))"
   ],
   "outputs": [
    {
     "data": {
      "text/plain": [
       "<IPython.core.display.Markdown object>"
      ],
      "text/markdown": "**Code Explanation**\n```python\nyield from {book.get(\"author\") for book in books if book.get(\"author\")}\n```\nThis line of code uses a combination of Python's iteration, dictionary access, and the `yield from` statement to generate an iterator over authors.\n\nHere's a breakdown:\n\n* `{book.get(\"author\") for book in books if book.get(\"author\")}`: This is a dictionary comprehension (due to the curly brackets) that iterates over the `books` collection. It filters out any books that don't have an \"author\" key.\n* `for book in books`: Iterates over each book in the `books` collection.\n* `if book.get(\"author\")`: Filters out books that don't have an \"author\" key.\n* `book.get(\"author\")`: Retrieves the value associated with the \"author\" key for each book.\n\nThe `.get()` method is used to safely retrieve values from dictionaries, avoiding a KeyError if the key doesn't exist. In this case, it's used in both the iteration and filtering conditions.\n\n**`yield from` Explanation**\n\nThe `yield from` statement is a Python 3.3+ feature that allows you to delegate iteration to another iterable (in this case, the dictionary comprehension).\n\nWhen `yield from` encounters an iterator or other iterable, it yields each item produced by that iterator in turn. This effectively \"unfolds\" the inner iterable and treats its output as if it were a single iterator.\n\nIn summary, this code:\n\n1. Filters out books without authors.\n2. Retrieves the author names for each remaining book.\n3. Yields these author names one at a time, allowing them to be processed individually.\n\n**Why Use `yield from`?**\n\nUsing `yield from` provides several benefits:\n\n* **Efficient memory usage**: By yielding individual items instead of building up a list or other data structure, this code avoids unnecessary memory allocations.\n* **Lazy evaluation**: The iteration only occurs when necessary, making the code more efficient and potentially reducing computational overhead.\n\nIn general, `yield from` is useful whenever you need to delegate iteration to another iterable, such as when working with dictionaries, lists, or other collections that produce items one at a time."
     },
     "metadata": {},
     "output_type": "display_data",
     "jetTransient": {
      "display_id": null
     }
    }
   ],
   "execution_count": 19
  }
 ],
 "metadata": {
  "kernelspec": {
   "display_name": "Python 3 (ipykernel)",
   "language": "python",
   "name": "python3"
  },
  "language_info": {
   "codemirror_mode": {
    "name": "ipython",
    "version": 3
   },
   "file_extension": ".py",
   "mimetype": "text/x-python",
   "name": "python",
   "nbconvert_exporter": "python",
   "pygments_lexer": "ipython3",
   "version": "3.11.11"
  }
 },
 "nbformat": 4,
 "nbformat_minor": 5
}
