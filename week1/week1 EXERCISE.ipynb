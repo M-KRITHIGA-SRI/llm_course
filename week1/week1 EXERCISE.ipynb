{
 "cells": [
  {
   "cell_type": "markdown",
   "id": "fe12c203-e6a6-452c-a655-afb8a03a4ff5",
   "metadata": {},
   "source": [
    "# End of week 1 exercise\n",
    "\n",
    "To demonstrate your familiarity with OpenAI API, and also Ollama, build a tool that takes a technical question,  \n",
    "and responds with an explanation. This is a tool that you will be able to use yourself during the course!"
   ]
  },
  {
   "cell_type": "code",
   "execution_count": 5,
   "id": "c1070317-3ed9-4659-abe3-828943230e03",
   "metadata": {},
   "outputs": [],
   "source": [
    "# imports\n",
    "import os\n",
    "import requests\n",
    "import json\n",
    "from dotenv import load_dotenv\n",
    "from openai import OpenAI"
   ]
  },
  {
   "cell_type": "code",
   "execution_count": 6,
   "id": "4a456906-915a-4bfd-bb9d-57e505c5093f",
   "metadata": {},
   "outputs": [],
   "source": [
    "# constants\n",
    "load_dotenv()\n",
    "api_key = os.getenv('OPENAI_API_KEY')\n",
    "\n",
    "MODEL_GPT = 'gpt-4o-mini'\n",
    "openai = OpenAI()"
   ]
  },
  {
   "cell_type": "code",
   "execution_count": 13,
   "id": "3f0d0137-52b0-47a8-81a8-11a90a010798",
   "metadata": {},
   "outputs": [],
   "source": [
    "# here is the question; type over this to ask something new\n",
    "\n",
    "question = \"\"\"\n",
    "What is the difference between supervised and unsupervised learning in machine learning? Can you provide examples of each type of learning and explain their applications?\n",
    "\"\"\""
   ]
  },
  {
   "cell_type": "code",
   "execution_count": 20,
   "id": "1661ea65",
   "metadata": {},
   "outputs": [],
   "source": [
    "def process_question(question):\n",
    "    response = openai.chat.completions.create(\n",
    "        model=MODEL_GPT,\n",
    "        messages=[\n",
    "            {\"role\": \"system\", \"content\": \"You are a helpful assistant that answers technical questions for the user.\"},\n",
    "            {\"role\": \"user\", \"content\": question}\n",
    "        ],\n",
    "        max_tokens=1000,\n",
    "        stream=True\n",
    "    )\n",
    "    result = \"\"\n",
    "    for chunk in response:\n",
    "        if chunk.choices and chunk.choices[0].delta.content:\n",
    "            result += chunk.choices[0].delta.content\n",
    "    return result.strip()"
   ]
  },
  {
   "cell_type": "markdown",
   "id": "acc4ff52",
   "metadata": {},
   "source": []
  },
  {
   "cell_type": "code",
   "execution_count": 21,
   "id": "60ce7000-a4a5-4cce-a261-e75ef45063b4",
   "metadata": {},
   "outputs": [
    {
     "name": "stdout",
     "output_type": "stream",
     "text": [
      "Question: What is the difference between supervised and unsupervised learning in machine learning? Can you provide examples of each type of learning and explain their applications?\n",
      "Answer: In machine learning, supervised and unsupervised learning are two fundamental types of learning paradigms, each serving different purposes and applications. Here's an overview of each, along with examples and applications.\n",
      "\n",
      "### Supervised Learning\n",
      "\n",
      "**Definition:**  \n",
      "Supervised learning involves training a model on a labeled dataset, which means that each training example is paired with an output label. The model learns to map input features to the corresponding output labels, enabling it to predict the label for new, unseen data.\n",
      "\n",
      "**Examples:**\n",
      "1. **Classification:** \n",
      "   - **Task:** Predicting whether an email is spam or not.\n",
      "   - **Application:** Email filters that classify emails based on training data containing labeled examples of spam and non-spam emails.\n",
      "   \n",
      "2. **Regression:**\n",
      "   - **Task:** Predicting house prices based on features like size, location, and number of bedrooms.\n",
      "   - **Application:** Real estate price prediction models that estimate the selling price of properties based on historical sales data.\n",
      "\n",
      "**Key Applications:**\n",
      "- Image recognition (identifying objects within images)\n",
      "- Medical diagnosis (predicting diseases based on symptoms)\n",
      "- Credit scoring (assessing risk in lending)\n",
      "\n",
      "### Unsupervised Learning\n",
      "\n",
      "**Definition:**  \n",
      "Unsupervised learning involves training a model on data that has no labeled responses. The model tries to learn the underlying structure or distribution in the data and can identify patterns or groupings without any guidance on what the output should be.\n",
      "\n",
      "**Examples:**\n",
      "1. **Clustering:**\n",
      "   - **Task:** Grouping similar customers based on purchasing behavior.\n",
      "   - **Application:** Customer segmentation for marketing strategies, enabling businesses to tailor their approaches based on different groups of consumers.\n",
      "   \n",
      "2. **Dimensionality Reduction:**\n",
      "   - **Task:** Reducing the number of features in a dataset while preserving important information.\n",
      "   - **Application:** Using Principal Component Analysis (PCA) to compress data for visualization or reducing noise in data before further analysis.\n",
      "\n",
      "**Key Applications:**\n",
      "- Market segmentation\n",
      "- Anomaly detection (identifying outliers in data)\n",
      "- Image compression and feature extraction\n",
      "\n",
      "### Summary\n",
      "\n",
      "The primary difference between supervised and unsupervised learning is the presence of labeled data:\n",
      "\n",
      "- **Supervised Learning**: Uses labeled data; ideal for classification and regression tasks where the goal is prediction with known outcomes.\n",
      "- **Unsupervised Learning**: Uses unlabeled data; focused on finding patterns or structures in the data without explicit outputs.\n",
      "\n",
      "Each type of learning has its unique set of algorithms and applications, making them suitable for different types of problems in machine learning.\n"
     ]
    }
   ],
   "source": [
    "# Get gpt-4o-mini to answer, with streaming\n",
    "def main():\n",
    "    print(f\"Question: {question.strip()}\")\n",
    "    answer = process_question(question)\n",
    "    print(f\"Answer: {answer}\")\n",
    "if __name__ == \"__main__\":\n",
    "    main()"
   ]
  }
 ],
 "metadata": {
  "kernelspec": {
   "display_name": ".venv",
   "language": "python",
   "name": "python3"
  },
  "language_info": {
   "codemirror_mode": {
    "name": "ipython",
    "version": 3
   },
   "file_extension": ".py",
   "mimetype": "text/x-python",
   "name": "python",
   "nbconvert_exporter": "python",
   "pygments_lexer": "ipython3",
   "version": "3.12.8"
  }
 },
 "nbformat": 4,
 "nbformat_minor": 5
}
