{
 "cells": [
  {
   "cell_type": "markdown",
   "id": "fe12c203-e6a6-452c-a655-afb8a03a4ff5",
   "metadata": {},
   "source": [
    "# End of week 1 exercise\n",
    "\n",
    "To demonstrate your familiarity with OpenAI API, and also Ollama, build a tool that takes a technical question,  \n",
    "and responds with an explanation. This is a tool that you will be able to use yourself during the course!"
   ]
  },
  {
   "cell_type": "code",
   "id": "c1070317-3ed9-4659-abe3-828943230e03",
   "metadata": {
    "ExecuteTime": {
     "end_time": "2025-10-02T19:21:30.244892Z",
     "start_time": "2025-10-02T19:21:30.241111Z"
    }
   },
   "source": [
    "# imports\n",
    "import os\n",
    "import ollama\n",
    "\n",
    "from IPython.display import Markdown, display\n",
    "from dotenv import load_dotenv\n",
    "from openai import OpenAI\n"
   ],
   "outputs": [],
   "execution_count": 21
  },
  {
   "cell_type": "code",
   "id": "4a456906-915a-4bfd-bb9d-57e505c5093f",
   "metadata": {
    "ExecuteTime": {
     "end_time": "2025-10-02T19:02:39.819633Z",
     "start_time": "2025-10-02T19:02:39.817980Z"
    }
   },
   "source": [
    "# constants\n",
    "CONSTANTS = {\n",
    "    \"MODEL_GPT\": \"gpt-4o-mini\",\n",
    "    \"MODEL_LLAMA\" : \"llama3.2\"\n",
    "}"
   ],
   "outputs": [],
   "execution_count": 2
  },
  {
   "cell_type": "code",
   "id": "a8d7923c-5f28-4c30-8556-342d7c8497c1",
   "metadata": {
    "ExecuteTime": {
     "end_time": "2025-10-02T19:02:41.862623Z",
     "start_time": "2025-10-02T19:02:41.808439Z"
    }
   },
   "source": [
    "# set up environment and load API key\n",
    "load_dotenv(override=True)\n",
    "open_ai_api_key = os.getenv(\"OPENAI_API_KEY\")\n",
    "# create an OpenAI client\n",
    "openai = OpenAI(api_key=open_ai_api_key)"
   ],
   "outputs": [],
   "execution_count": 3
  },
  {
   "cell_type": "code",
   "id": "3f0d0137-52b0-47a8-81a8-11a90a010798",
   "metadata": {
    "ExecuteTime": {
     "end_time": "2025-10-02T19:22:37.726309Z",
     "start_time": "2025-10-02T19:22:37.716333Z"
    }
   },
   "source": [
    "# Define the system prompt\n",
    "system_prompt = \"\"\"\n",
    "You are a software engineer assistant that helps to lean a new programming language. Respond in markdown.\n",
    "\"\"\"\n",
    "# here is the question; type over this to ask something new.\n",
    "question = \"\"\"\n",
    "Please explain what this code does and why:\n",
    "yield from {book.get(\"author\") for book in books if book.get(\"author\")}\n",
    "\"\"\"\n",
    "# Now define the messages\n",
    "messages = [\n",
    "    {\"role\": \"system\", \"content\": system_prompt},\n",
    "    {\"role\": \"user\", \"content\": question},\n",
    "]"
   ],
   "outputs": [],
   "execution_count": 22
  },
  {
   "cell_type": "code",
   "id": "60ce7000-a4a5-4cce-a261-e75ef45063b4",
   "metadata": {
    "ExecuteTime": {
     "end_time": "2025-10-02T19:22:58.774975Z",
     "start_time": "2025-10-02T19:22:40.101630Z"
    }
   },
   "source": [
    "# Get GPT-4 to answer\n",
    "response = openai.chat.completions.create(model=CONSTANTS[\"MODEL_GPT\"],messages=messages)\n",
    "result = response.choices[0].message.content\n",
    "display(Markdown(result))"
   ],
   "outputs": [
    {
     "data": {
      "text/plain": [
       "<IPython.core.display.Markdown object>"
      ],
      "text/markdown": "Certainly! Let's break down the code snippet you provided:\n\n```python\nyield from {book.get(\"author\") for book in books if book.get(\"author\")}\n```\n\n### Explanation\n\n1. **Set Comprehension**: \n   - The code `{book.get(\"author\") for book in books if book.get(\"author\")}` is a set comprehension.\n   - It iterates over a collection called `books`, which is expected to be a list (or any iterable) of dictionary objects.\n   - For each `book` in `books`, it retrieves the value associated with the key `\"author\"` using `book.get(\"author\")`.\n   - The `if book.get(\"author\")` condition filters out any `book` dictionaries where the author value is `None` or does not exist (i.e., `None` is falsy in Python). This ensures that only books with a valid author are considered.\n\n2. **Produces a Set**:\n   - The comprehension generates a set of authors, meaning that if there are duplicate author values among the books, they will only be included once in the resulting set.\n\n3. **Yielding from the Set**:\n   - The `yield from` statement is part of Python's generator functionality. It allows the generator to yield all values from the provided iterable, which in this case is the set of authors.\n   - This means that if you call this generator function, it will \"yield\" (or return one by one) each unique author extracted from the `books` collection.\n\n### Why this Code is Useful\n\n- **Efficiency**: Using a set to collect authors ensures uniqueness without needing extra logic to check for duplicates explicitly.\n- **Conciseness**: This approach uses a clear and compact structure to extract artist names, filter out non-existent values, and yield them in a single expression.\n- **Generators**: By yielding each author, it allows the caller to consume the results one at a time, which is memory efficient, especially when dealing with large datasets.\n\n### Example in Context\n\nHere's a simple example to illustrate how this code might work:\n\n```python\nbooks = [\n    {\"title\": \"Book One\", \"author\": \"Author A\"},\n    {\"title\": \"Book Two\", \"author\": \"Author B\"},\n    {\"title\": \"Book Three\"},  # No author\n    {\"title\": \"Book Four\", \"author\": \"Author A\"}  # Duplicate author\n]\n\ndef get_unique_authors(books):\n    yield from {book.get(\"author\") for book in books if book.get(\"author\")}\n\n# Using the generator\nfor author in get_unique_authors(books):\n    print(author)\n```\n\n### Output\n```\nAuthor A\nAuthor B\n```\n\nThis example demonstrates how the function produces a unique list of authors based on the given list of books. The absence of duplicates is due to the use of a set in the comprehension."
     },
     "metadata": {},
     "output_type": "display_data",
     "jetTransient": {
      "display_id": null
     }
    }
   ],
   "execution_count": 23
  },
  {
   "cell_type": "code",
   "id": "8f7c8ea8-4082-4ad0-8751-3301adcf6538",
   "metadata": {
    "ExecuteTime": {
     "end_time": "2025-10-02T19:20:14.768450Z",
     "start_time": "2025-10-02T19:19:58.982419Z"
    }
   },
   "source": [
    "# Get Llama 3.2 to answer\n",
    "response = ollama.chat(model=CONSTANTS[\"MODEL_LLAMA\"], messages=messages)\n",
    "result = response['message']['content']\n",
    "display(Markdown(result))"
   ],
   "outputs": [
    {
     "data": {
      "text/plain": [
       "<IPython.core.display.Markdown object>"
      ],
      "text/markdown": "**Code Explanation**\n```python\nyield from {book.get(\"author\") for book in books if book.get(\"author\")}\n```\nThis line of code uses a combination of Python's iteration, dictionary access, and the `yield from` statement to generate an iterator over authors.\n\nHere's a breakdown:\n\n* `{book.get(\"author\") for book in books if book.get(\"author\")}`: This is a dictionary comprehension (due to the curly brackets) that iterates over the `books` collection. It filters out any books that don't have an \"author\" key.\n* `for book in books`: Iterates over each book in the `books` collection.\n* `if book.get(\"author\")`: Filters out books that don't have an \"author\" key.\n* `book.get(\"author\")`: Retrieves the value associated with the \"author\" key for each book.\n\nThe `.get()` method is used to safely retrieve values from dictionaries, avoiding a KeyError if the key doesn't exist. In this case, it's used in both the iteration and filtering conditions.\n\n**`yield from` Explanation**\n\nThe `yield from` statement is a Python 3.3+ feature that allows you to delegate iteration to another iterable (in this case, the dictionary comprehension).\n\nWhen `yield from` encounters an iterator or other iterable, it yields each item produced by that iterator in turn. This effectively \"unfolds\" the inner iterable and treats its output as if it were a single iterator.\n\nIn summary, this code:\n\n1. Filters out books without authors.\n2. Retrieves the author names for each remaining book.\n3. Yields these author names one at a time, allowing them to be processed individually.\n\n**Why Use `yield from`?**\n\nUsing `yield from` provides several benefits:\n\n* **Efficient memory usage**: By yielding individual items instead of building up a list or other data structure, this code avoids unnecessary memory allocations.\n* **Lazy evaluation**: The iteration only occurs when necessary, making the code more efficient and potentially reducing computational overhead.\n\nIn general, `yield from` is useful whenever you need to delegate iteration to another iterable, such as when working with dictionaries, lists, or other collections that produce items one at a time."
     },
     "metadata": {},
     "output_type": "display_data",
     "jetTransient": {
      "display_id": null
     }
    }
   ],
   "execution_count": 19
  }
 ],
 "metadata": {
  "kernelspec": {
   "display_name": "Python 3 (ipykernel)",
   "language": "python",
   "name": "python3"
  },
  "language_info": {
   "codemirror_mode": {
    "name": "ipython",
    "version": 3
   },
   "file_extension": ".py",
   "mimetype": "text/x-python",
   "name": "python",
   "nbconvert_exporter": "python",
   "pygments_lexer": "ipython3",
   "version": "3.11.11"
  }
 },
 "nbformat": 4,
 "nbformat_minor": 5
}
