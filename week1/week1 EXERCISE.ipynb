{
 "cells": [
  {
   "cell_type": "markdown",
   "id": "fe12c203-e6a6-452c-a655-afb8a03a4ff5",
   "metadata": {},
   "source": [
    "# End of week 1 exercise\n",
    "\n",
    "To demonstrate your familiarity with OpenAI API, and also Ollama, build a tool that takes a technical question,  \n",
    "and responds with an explanation. This is a tool that you will be able to use yourself during the course!"
   ]
  },
  {
   "cell_type": "code",
   "execution_count": 19,
   "id": "c1070317-3ed9-4659-abe3-828943230e03",
   "metadata": {},
   "outputs": [],
   "source": [
    "# imports\n",
    "import requests\n",
    "import json\n",
    "import ollama\n",
    "from bs4 import BeautifulSoup\n",
    "from IPython.display import Markdown, display"
   ]
  },
  {
   "cell_type": "code",
   "execution_count": 2,
   "id": "4a456906-915a-4bfd-bb9d-57e505c5093f",
   "metadata": {},
   "outputs": [],
   "source": [
    "# constants\n",
    "\n",
    "MODEL_GPT = 'gpt-4o-mini'\n",
    "MODEL_LLAMA = 'llama3.2'\n",
    "MODEL_DEEPSEEK = 'deepseek-r1:32b'"
   ]
  },
  {
   "cell_type": "code",
   "execution_count": 3,
   "id": "a8d7923c-5f28-4c30-8556-342d7c8497c1",
   "metadata": {},
   "outputs": [],
   "source": [
    "# set up environment\n",
    "OLLAMA_API = \"http://localhost:11434/api/chat\"\n",
    "HEADERS = {\"Content-Type\": \"application/json\"}"
   ]
  },
  {
   "cell_type": "code",
   "execution_count": 46,
   "id": "3f0d0137-52b0-47a8-81a8-11a90a010798",
   "metadata": {},
   "outputs": [],
   "source": [
    "# here is the question; type over this to ask something new\n",
    "def language_selection(language=\"English\"):\n",
    "    \"\"\"\n",
    "    Returns the system prompt in the selected language\n",
    "    Args:\n",
    "        language (str): Language for the response (default: \"English\")\n",
    "    \"\"\"\n",
    "    prompts = {\n",
    "        \"Spanish\": \"Eres un asistente útil que responde preguntas técnicas en español. Termina con una analogía del código proporcionado.\",\n",
    "        \"English\": \"You are a helpful assistant that answers technical questions in English. End with an analogy of the provided code.\",\n",
    "        \"French\": \"Vous êtes un assistant utile qui répond aux questions techniques en français. Terminez avec une analogie du code fourni.\",\n",
    "        \"Portuguese\": \"Você é um assistente útil que responde perguntas técnicas em português. Termine com uma analogia do código fornecido.\",\n",
    "        # Add more languages as needed\n",
    "    }\n",
    "    return prompts.get(language, prompts[\"English\"])  # Default to English if language not found\n",
    "\n",
    "def get_explanation(question, language=\"English\"):\n",
    "    \"\"\"\n",
    "    Get explanation in the selected language\n",
    "    Args:\n",
    "        question (str): The technical question to answer\n",
    "        language (str): Desired language for the response\n",
    "    \"\"\"\n",
    "    messages = [\n",
    "        {\"role\": \"system\", \"content\": language_selection(language)},\n",
    "        {\"role\": \"user\", \"content\": question}\n",
    "    ]\n",
    "    \n",
    "    response = ollama.chat(model=MODEL_DEEPSEEK, messages=messages)\n",
    "    return response['message']['content']\n",
    "\n",
    "question = \"\"\"\n",
    "Please explain what this code does and why:\n",
    "yield from {book.get(\"author\") for book in books if book.get(\"author\")}\n",
    "\"\"\"\n",
    "\n",
    "payload = {\n",
    "  \"model\": MODEL_LLAMA,\n",
    "  \"messages\": messages,\n",
    "  \"stream\": False\n",
    "}\n",
    "\n"
   ]
  },
  {
   "cell_type": "code",
   "execution_count": null,
   "id": "60ce7000-a4a5-4cce-a261-e75ef45063b4",
   "metadata": {},
   "outputs": [],
   "source": [
    "# Get gpt-4o-mini to answer, with streaming"
   ]
  },
  {
   "cell_type": "code",
   "execution_count": 49,
   "id": "8f7c8ea8-4082-4ad0-8751-3301adcf6538",
   "metadata": {},
   "outputs": [
    {
     "data": {
      "text/markdown": [
       "**Code Explanation**\n",
       "\n",
       "The given code snippet is a part of a Python function that uses a combination of `yield from` and generator expressions to extract author names from a list of books.\n",
       "\n",
       "Here's a breakdown:\n",
       "\n",
       "- `{... for ...}`: This is a generator expression, which allows us to iterate over the elements in the list without loading the entire list into memory.\n",
       "  \n",
       "- `\"book.get(\"author\")\"`: For each book in the list `books`, this gets the author's name from the dictionary using the `.get()` method, which returns `None` if the key does not exist.\n",
       "\n",
       "- `yield from {...}`: This is used to delegate the iteration over the inner generator expression to another iterable (in this case, the result of the generator expression).\n",
       "\n",
       "So, when we put it all together:\n",
       "\n",
       "```python\n",
       "for author in yield from {book.get(\"author\") for book in books if book.get(\"author\")}:\n",
       "    # Do something with the authors...\n",
       "```\n",
       "\n",
       "**Why**\n",
       "\n",
       "The code is likely being used in a scenario where we have a list of books, and each book is represented as a dictionary containing information about the book. The author's name might not always be present in these dictionaries (in which case `.get(\"author\")` would return `None`).\n",
       "\n",
       "By using this generator expression with `yield from`, we're creating an iterator that yields only the authors whose names exist in the books' dictionaries, without having to load all the book data into memory at once.\n",
       "\n",
       "**Analogy**\n",
       "\n",
       "This code is like a librarian searching for books by author. Instead of looking up every single book's author one by one (which would be inefficient), our generator expression looks over the list of books quickly, and then yields only the authors it finds. The `yield from` part is like saying to the librarian: \"Please find me all the authors you can in those books, but don't bring them to me just yet - I'll take care of that here.\" Then, we're able to iterate over just those authors as needed, one by one."
      ],
      "text/plain": [
       "<IPython.core.display.Markdown object>"
      ]
     },
     "metadata": {},
     "output_type": "display_data"
    },
    {
     "data": {
      "text/markdown": [
       "¡Hola! Estoy aquí para ayudarte a entender este código.\n",
       "\n",
       "Este código utiliza un concepto llamado \"coroutines\" en Python, que se enfoca en la gestión de las interrupciones y la suspensión del ejecución de una función.\n",
       "\n",
       "Vamos a analizarlo paso a paso:\n",
       "\n",
       "1. `yield from`: esta palabra clave permite que el código llame a otra función (en este caso, un generador) y continúe su ejecución desde donde lo dejó.\n",
       "2. `{book.get(\"author\") for book in books if book.get(\"author\")}`: Esta es una expresión genérica que utiliza un patrón de iteración llamado \"generador\" o \"coroutine\". Es similar a un bucle `for`, pero en lugar de iterar sobre una lista o tupla, se ejecuta una función y devuelve una secuencia de resultados.\n",
       "\n",
       "En este caso, la función genérica (el generador) itera sobre el conjunto `books`. Para cada libro (`book`), llama a la función `get(\"author\")` para obtener la autoría del libro. Sin embargo, solo incluye en la secuencia los libros que tienen una autoría válida (es decir, no es None).\n",
       "\n",
       "El resultado es un generador que itera sobre una secuencia de autorías.\n",
       "\n",
       "Ahora, volvemos al punto `yield from`. Esta palabra clave permite que el código llame a este generador y lo ejecute como si fuera una función normal. En otras palabras, cuando se llama a esta función, su ejecución se suspende en cada iteración del generador y se vuelve a continuar desde donde lo dejó.\n",
       "\n",
       "Por ejemplo, si `books` es un conjunto con varios libros, el resultado sería un generador que itera sobre las autorías de los libros. Si luego llamamos a esta función con un `yield from`, la secuencia de autorías se devolverá, permitiendo que cada autoría sea ejecutada por separado.\n",
       "\n",
       "**Analogía del código:**\n",
       "\n",
       "Imagina que tienes una biblioteca con varios libros y deseas obtener las autorías de todos ellos. En lugar de leer cada libro uno a uno, puedes utilizar un generador para iterar sobre los libros y obtener sus autorías de manera concurrente.\n",
       "\n",
       "De la misma manera, el código `yield from` permite que el código llame a este generador como si fuera una función normal, lo que te permite ejecutar las autorías individualmente."
      ],
      "text/plain": [
       "<IPython.core.display.Markdown object>"
      ]
     },
     "metadata": {},
     "output_type": "display_data"
    },
    {
     "data": {
      "text/markdown": [
       "Esse código é um exemplo de usar a sintaxe \"yield from\" no Python, que permite criar iteráveis compostos.\n",
       "\n",
       "Aqui está uma explicação detalhada:\n",
       "\n",
       "- `yield from`: Essa palavra-chave é usada para criar uma nova sequência que contém todos os elementos de uma ou mais sequências antigas.\n",
       "- `{book.get(\"author\") for book in books if book.get(\"author\")}`: Isso é um generator expression (expressão geradora), que cria um objeto iterator que gera valores em tempo real. O generator expression é semelhante a uma expressão de lista, mas em vez de criar todos os elementos e armazená-los em memória, ele os gera quando necessário.\n",
       "\n",
       "O código inteiro está fazendo o seguinte:\n",
       "\n",
       "- Seleciona apenas os livros que têm um autor (ou seja, não é None)\n",
       "- Para cada livro que atende a esse critério, gera o autor do livro\n",
       "\n",
       "Portanto, `yield from {book.get(\"author\") for book in books if book.get(\"author\")}` é uma forma de criar um iterator que retorna os autores dos livros que têm um autor.\n",
       "\n",
       "Uma analogia para explicar melhor: se você estivesse sortindo um monte de cartas com as informações do livro, como o título e o autor, essa linha de código seria como sortear apenas as cartas com autor (ou seja, não sortando aquelas sem autor). Em vez de armazenar todas as cartas sorteadas em uma lista, ele as gera na hora de ser necessário, como se estivesse lendo cada carta do monte um por um."
      ],
      "text/plain": [
       "<IPython.core.display.Markdown object>"
      ]
     },
     "metadata": {},
     "output_type": "display_data"
    }
   ],
   "source": [
    "# Get Llama 3.2 to answer\n",
    "#response = requests.post(OLLAMA_API, json=payload, headers=HEADERS)\n",
    "#content = response.json()['message']['content']\n",
    "#print(response.json()['message']['content'])\n",
    "#display(Markdown(content))\n",
    "\n",
    "# Use ollama to answer\n",
    "# Get response in different languages\n",
    "display(Markdown(get_explanation(question, \"English\")))\n",
    "#print(\"Respuesta en Español\")\n",
    "display(Markdown(get_explanation(question, \"Spanish\")))\n",
    "display(Markdown(get_explanation(question, \"Portuguese\")))"
   ]
  }
 ],
 "metadata": {
  "kernelspec": {
   "display_name": "base",
   "language": "python",
   "name": "python3"
  },
  "language_info": {
   "codemirror_mode": {
    "name": "ipython",
    "version": 3
   },
   "file_extension": ".py",
   "mimetype": "text/x-python",
   "name": "python",
   "nbconvert_exporter": "python",
   "pygments_lexer": "ipython3",
   "version": "3.12.7"
  }
 },
 "nbformat": 4,
 "nbformat_minor": 5
}
