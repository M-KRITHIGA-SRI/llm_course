{
 "cells": [
  {
   "cell_type": "markdown",
   "id": "fe12c203-e6a6-452c-a655-afb8a03a4ff5",
   "metadata": {},
   "source": [
    "# End of week 1 exercise\n",
    "\n",
    "To demonstrate your familiarity with OpenAI API, and also Ollama, build a tool that takes a technical question,  \n",
    "and responds with an explanation. This is a tool that you will be able to use yourself during the course!"
   ]
  },
  {
   "cell_type": "code",
   "execution_count": 1,
   "id": "c1070317-3ed9-4659-abe3-828943230e03",
   "metadata": {},
   "outputs": [],
   "source": [
    "# imports\n",
    "import requests\n",
    "import json\n",
    "import ollama\n",
    "from bs4 import BeautifulSoup\n",
    "from IPython.display import Markdown, display"
   ]
  },
  {
   "cell_type": "code",
   "execution_count": 2,
   "id": "4a456906-915a-4bfd-bb9d-57e505c5093f",
   "metadata": {},
   "outputs": [],
   "source": [
    "# constants\n",
    "\n",
    "MODEL_GPT = 'gpt-4o-mini'\n",
    "MODEL_LLAMA = 'llama3.2'\n",
    "MODEL_DEEPSEEK = 'deepseek-r1:32b'"
   ]
  },
  {
   "cell_type": "code",
   "execution_count": 3,
   "id": "a8d7923c-5f28-4c30-8556-342d7c8497c1",
   "metadata": {},
   "outputs": [],
   "source": [
    "# set up environment\n",
    "OLLAMA_API = \"http://localhost:11434/api/chat\"\n",
    "HEADERS = {\"Content-Type\": \"application/json\"}"
   ]
  },
  {
   "cell_type": "code",
   "execution_count": null,
   "id": "3f0d0137-52b0-47a8-81a8-11a90a010798",
   "metadata": {},
   "outputs": [],
   "source": [
    "# here is the question; type over this to ask something new\n",
    "def language_selection(language=\"English\"):\n",
    "    \"\"\"\n",
    "    Returns the system prompt in the selected language\n",
    "    Args:\n",
    "        language (str): Language for the response (default: \"English\")\n",
    "    \"\"\"\n",
    "    prompts = {\n",
    "        \"Spanish\": \"Eres un asistente útil que responde preguntas técnicas en español. Termina con una analogía del código proporcionado.\",\n",
    "        \"English\": \"You are a helpful assistant that answers technical questions in English. End with an analogy of the provided code.\",\n",
    "        \"French\": \"Vous êtes un assistant utile qui répond aux questions techniques en français. Terminez avec une analogie du code fourni.\",\n",
    "        \"Portuguese\": \"Você é um assistente útil que responde perguntas técnicas em português. Termine com uma analogia do código fornecido.\",\n",
    "        # Add more languages as needed\n",
    "    }\n",
    "    return prompts.get(language, prompts[\"English\"])  # Default to English if language not found\n",
    "\n",
    "def get_explanation(question, language=\"English\"):\n",
    "    \"\"\"\n",
    "    Get explanation in the selected language\n",
    "    Args:\n",
    "        question (str): The technical question to answer\n",
    "        language (str): Desired language for the response\n",
    "    \"\"\"\n",
    "    messages = [\n",
    "        {\"role\": \"system\", \"content\": language_selection(language)},\n",
    "        {\"role\": \"user\", \"content\": question}\n",
    "    ]\n",
    "    \n",
    "    response = ollama.chat(model=MODEL_DEEPSEEK, messages=messages)\n",
    "    return response['message']['content']\n",
    "\n",
    "question = \"\"\"\n",
    "Please explain what this code does and why:\n",
    "yield from {book.get(\"author\") for book in books if book.get(\"author\")}\n",
    "\"\"\"\n",
    "\n",
    "payload = {\n",
    "  \"model\": MODEL_LLAMA,\n",
    "  \"messages\": messages,\n",
    "  \"stream\": False\n",
    "}\n",
    "\n"
   ]
  },
  {
   "cell_type": "code",
   "execution_count": null,
   "id": "60ce7000-a4a5-4cce-a261-e75ef45063b4",
   "metadata": {},
   "outputs": [],
   "source": [
    "# Get gpt-4o-mini to answer, with streaming"
   ]
  },
  {
   "cell_type": "code",
   "execution_count": 5,
   "id": "8f7c8ea8-4082-4ad0-8751-3301adcf6538",
   "metadata": {},
   "outputs": [
    {
     "data": {
      "text/markdown": [
       "<think>\n",
       "Okay, so I'm trying to figure out what this Python code does. The line is \"yield from {book.get(\"author\") for book in books if book.get(\"author\")}\". Hmm, let's break it down.\n",
       "\n",
       "First, I remember that \"yield\" is used in generators, and \"yield from\" is a way to yield all items from an iterable. So this must be part of a generator function. Now, looking at what comes after \"yield from\", there's a set comprehension: {book.get(\"author\") for book in books if book.get(\"author\")}.\n",
       "\n",
       "Wait, so the code is creating a set of authors. The set comprehension iterates over each book in the books list. For each book, it tries to get the value associated with the key \"author\". But there's an if condition: if book.get(\"author\") is truthy. That means if the author exists and isn't None or an empty string, etc.\n",
       "\n",
       "So for every book that has a valid author, it adds that author to the set. Since sets automatically handle uniqueness, this will collect all unique authors from the books where the author key exists and isn't null.\n",
       "\n",
       "Then, \"yield from\" takes this set of authors and yields each one individually. So if the set is {\"Alice\", \"Bob\", \"Charlie\"}, the generator would yield Alice, then Bob, then Charlie, each as separate values.\n",
       "\n",
       "Putting it all together, this line effectively iterates through each book, checks for a valid author, collects all unique authors into a set, and then yields each author one by one. It's a concise way to process a list of dictionaries, extract unique values based on a key, and emit them in sequence.\n",
       "</think>\n",
       "\n",
       "The code is a generator that extracts and yields unique authors from the books collection.\n",
       "\n",
       "Let's break it down:\n",
       "\n",
       "1. **`yield from`**: This is used in generator functions to yield all items from an iterable (like a list, set, etc.). In this case, it will iterate over each element of the set comprehension and yield them one by one.\n",
       "\n",
       "2. **Set Comprehension `{...}`**:\n",
       "   - `book.get(\"author\")`: For each book in `books`, it tries to get the value associated with the key `\"author\"`.\n",
       "   - `for book in books`: Iterates over each dictionary (book) in the list `books`.\n",
       "   - `if book.get(\"author\")`: Filters out any books where the author is not present or is `None`. The condition checks if `book.get(\"author\")` returns a truthy value.\n",
       "\n",
       "3. **Unique Authors**: Using a set comprehension ensures that only unique authors are yielded, as sets automatically handle duplicates.\n",
       "\n",
       "**What it does**:\n",
       "- It iterates through each book in the `books` list.\n",
       "- For each book, it checks if there is an author (i.e., the `\"author\"` key exists and its value is not `None`).\n",
       "- It collects all unique authors into a set.\n",
       "- Finally, it yields each author one by one.\n",
       "\n",
       "**Why it's useful**:\n",
       "This code efficiently extracts unique authors from a list of books without duplicates. The use of a set ensures uniqueness, while the generator approach (`yield from`) allows for memory-efficient iteration over potentially large datasets.\n",
       "\n",
       "**Analogy**: Imagine you have a library with many books on a shelf (`books`). You want to find all the different authors who wrote these books. You go through each book one by one, check if it has an author listed, and keep track of the unique authors in a list (like a set). Once you've gone through all the books, you start telling me each author's name one by one from your list. That's what this code does!"
      ],
      "text/plain": [
       "<IPython.core.display.Markdown object>"
      ]
     },
     "metadata": {},
     "output_type": "display_data"
    },
    {
     "data": {
      "text/markdown": [
       "<think>\n",
       "Okay, so I have this code snippet here: `yield from {book.get(\"author\") for book in books if book.get(\"author\")}`. Hmm, let me try to figure out what it does step by step.\n",
       "\n",
       "First, I know that `yield` is used in Python for generators, which produce a sequence of values on the fly without storing them all in memory at once. So this must be part of a generator function. The `from` keyword after `yield` suggests that we're yielding from another iterable. That makes sense because using `yield from` allows us to yield each item from an iterator.\n",
       "\n",
       "Looking at the set comprehension: `{book.get(\"author\") for book in books if book.get(\"author\")}`. This is creating a set where each element is the value of \"author\" key from each book dictionary in the `books` list. The condition `if book.get(\"author\")` ensures that only books with an existing and non-null \"author\" value are included.\n",
       "\n",
       "Putting it together, the entire expression inside `yield from` generates a set of authors. So for each author in this set, the generator yields them one by one. Since sets in Python are unordered, the order of yielded authors isn't guaranteed. But because we're using a set comprehension, duplicates are automatically handled—each author will be yielded only once.\n",
       "\n",
       "So the purpose of this code is to iterate over all unique authors from the list of books and yield each one individually. It's efficient for cases where you don't want duplicate authors being processed multiple times or when dealing with large datasets since it doesn't store all authors in memory at once but processes them as needed.\n",
       "\n",
       "Wait, let me make sure I'm not missing anything. The `yield from` construct is used to simplify the yielding process by iterating over an iterable directly. In this case, that iterable is a set of authors. So each time next() is called on the generator, it returns the next author in the set until all are exhausted.\n",
       "\n",
       "Another thing to note is that using a set instead of a list means we don't have duplicate values. If two books had the same author, they would be considered once in the set. So this code also serves as a way to deduplicate authors before yielding them.\n",
       "\n",
       "I think I've got it. The code takes each book from the `books` collection, extracts the \"author\" if present, collects all unique authors into a set, and then yields each author one by one. It's efficient in terms of memory usage because it doesn't build a list but instead processes each item as needed.\n",
       "\n",
       "To sum up, this is a concise way to loop through a list of dictionaries, filter for those with an \"author\" key, collect unique authors, and yield them without storing the entire collection in memory. It's perfect for scenarios where you need to process a large number of items but want to keep memory usage low.\n",
       "</think>\n",
       "\n",
       "The code `yield from {book.get(\"author\") for book in books if book.get(\"author\")}` is designed to efficiently generate unique authors from a list of book dictionaries. Here's a breakdown of its functionality:\n",
       "\n",
       "1. **Generator Function**: The use of `yield` indicates this is part of a generator function, which produces values on-the-fly without storing the entire sequence in memory.\n",
       "\n",
       "2. **Set Comprehension**: `{book.get(\"author\") for book in books if book.get(\"author\")}` creates a set of authors. This ensures that each author is unique and avoids duplicates.\n",
       "\n",
       "3. **Filtering**: The condition `if book.get(\"author\")` filters out any books that do not have an \"author\" key or where the value is null.\n",
       "\n",
       "4. **Yielding Values**: `yield from` iterates over the set, yielding each author one by one. This allows for memory-efficient processing as it handles authors sequentially without storing all of them at once.\n",
       "\n",
       "In summary, this code efficiently extracts unique authors from a list of books and yields each author individually, ensuring optimal memory usage and handling large datasets gracefully.\n",
       "\n",
       "**Analogy**: Think of the code as a librarian sorting books on a shelf. Instead of stacking all the books in one place (which could be heavy), they take each book one by one, check if it has an author label, ensure no duplicates are added, and then neatly arrange them on a cart for easy access without overloading any single point. This way, the process is efficient and manageable, even with a large number of books."
      ],
      "text/plain": [
       "<IPython.core.display.Markdown object>"
      ]
     },
     "metadata": {},
     "output_type": "display_data"
    },
    {
     "data": {
      "text/markdown": [
       "<think>\n",
       "Alright, let me try to figure out what the user is asking here. They've provided a piece of Python code: `yield from {book.get(\"author\") for book in books if book.get(\"author\")}` and they want an explanation of what it does and why.\n",
       "\n",
       "First, I need to understand the code structure. It looks like a generator expression because of the `yield` keyword. The main part is a set comprehension inside curly braces: `{book.get(\"author\") for book in books if book.get(\"author\")}`. So, this is creating a set of authors from each book in the `books` list where the author exists.\n",
       "\n",
       "The `yield from` statement is used here to yield each element from this set. That means instead of returning a generator object or something else, it's yielding each author one by one as if they were part of a loop.\n",
       "\n",
       "Now, why would someone use this approach? Well, using a set comprehension ensures that each author is unique because sets automatically handle duplicates. So, even if multiple books have the same author, it'll only appear once in the result.\n",
       "\n",
       "The `yield from` makes sense here because it simplifies the code. Instead of writing a for loop and yielding each element individually, you can just yield from the set directly. It's cleaner and more concise.\n",
       "\n",
       "Putting this together, the code is generating unique authors from a list of books. Each author is yielded once, regardless of how many times they appear in the list. This could be useful in scenarios where you need to process each author only once, like sending data to another part of the program or preventing duplicate entries.\n",
       "\n",
       "So, summarizing: The code takes a list of books, extracts authors ensuring no duplicates, and yields them one by one for further processing.\n",
       "</think>\n",
       "\n",
       "O código fornecido é uma expressão de geração que utiliza `yield from` junto com uma compreensão de conjunto. Vamos analisar o que ele faz e por quê:\n",
       "\n",
       "### O que o código faz:\n",
       "1. **Itera sobre cada livro em `books`:**\n",
       "   - Para cada livro, verifica se existe a chave `\"author\"` usando `book.get(\"author\")`.\n",
       "2. **Cria um conjunto de autores únicos:**\n",
       "   - Utiliza uma compreensão de conjunto `{...}` para armazenar apenas os valores únicos dos autores.\n",
       "3. **Gera cada autor do conjunto:**\n",
       "   - Usa `yield from` para retornar cada autor do conjunto criado.\n",
       "\n",
       "### Por que usar essa abordagem:\n",
       "- A sintaxe `yield from` é usada para simplificar a geração de elementos de um iterável (no caso, o conjunto de autores).\n",
       "- O uso de uma compreensão de conjunto (`{...}`) garante que apenas valores únicos sejam considerados, eliminando automaticamente quaisquer duplicações de autores.\n",
       "- Isso é útil quando você deseja processar cada autor apenas uma vez ou garantir unicidade.\n",
       "\n",
       "### Analogia:\n",
       "O código é como um curador de arte que organiza uma exposição. Ele junta todos os livros (obras de arte), filtra aqueles que têm um autor (artista reconhecido), remove cópias duplicadas (garantindo unicidade) e apresenta cada autor em ordem, permitindo que alguém admire cada um individualmente.\n",
       "\n",
       "```python\n",
       "def generate_authors(books):\n",
       "    authors = {book.get(\"author\") for book in books if book.get(\"author\")}\n",
       "    yield from authors\n",
       "```\n",
       "\n",
       "Se `books` fosse uma lista como `[{\"title\": \"A\", \"author\": \"J.K.\"}, {\"title\": \"B\", \"author\": \"J.K.\"}]`, o código retornaria apenas `\"J.K.\"` uma vez."
      ],
      "text/plain": [
       "<IPython.core.display.Markdown object>"
      ]
     },
     "metadata": {},
     "output_type": "display_data"
    }
   ],
   "source": [
    "# Get Llama 3.2 to answer\n",
    "#response = requests.post(OLLAMA_API, json=payload, headers=HEADERS)\n",
    "#content = response.json()['message']['content']\n",
    "#print(response.json()['message']['content'])\n",
    "#display(Markdown(content))\n",
    "\n",
    "# Use ollama to answer\n",
    "# Get response in different languages\n",
    "display(Markdown(get_explanation(question, \"English\")))\n",
    "#print(\"Respuesta en Español\")\n",
    "display(Markdown(get_explanation(question, \"Spanish\")))\n",
    "display(Markdown(get_explanation(question, \"Portuguese\")))"
   ]
  }
 ],
 "metadata": {
  "kernelspec": {
   "display_name": "llms",
   "language": "python",
   "name": "python3"
  },
  "language_info": {
   "codemirror_mode": {
    "name": "ipython",
    "version": 3
   },
   "file_extension": ".py",
   "mimetype": "text/x-python",
   "name": "python",
   "nbconvert_exporter": "python",
   "pygments_lexer": "ipython3",
   "version": "3.11.12"
  }
 },
 "nbformat": 4,
 "nbformat_minor": 5
}
