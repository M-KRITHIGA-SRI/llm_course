{
 "cells": [
  {
   "cell_type": "markdown",
   "id": "fe12c203-e6a6-452c-a655-afb8a03a4ff5",
   "metadata": {},
   "source": [
    "# End of week 1 exercise\n",
    "\n",
    "To demonstrate your familiarity with OpenAI API, and also Ollama, build a tool that takes a technical question,  \n",
    "and responds with an explanation. This is a tool that you will be able to use yourself during the course!"
   ]
  },
  {
   "cell_type": "code",
   "execution_count": 15,
   "id": "c1070317-3ed9-4659-abe3-828943230e03",
   "metadata": {},
   "outputs": [],
   "source": [
    "# imports\n",
    "import os\n",
    "import requests\n",
    "import json\n",
    "from dotenv import load_dotenv\n",
    "from openai import OpenAI\n",
    "from IPython.display import Markdown, display, update_display\n"
   ]
  },
  {
   "cell_type": "code",
   "execution_count": 24,
   "id": "4a456906-915a-4bfd-bb9d-57e505c5093f",
   "metadata": {},
   "outputs": [],
   "source": [
    "# constants\n",
    "\n",
    "MODEL_GPT = 'gpt-4o-mini'\n",
    "MODEL_LLAMA = 'llama3.2'"
   ]
  },
  {
   "cell_type": "code",
   "execution_count": 4,
   "id": "a8d7923c-5f28-4c30-8556-342d7c8497c1",
   "metadata": {},
   "outputs": [
    {
     "name": "stdout",
     "output_type": "stream",
     "text": [
      "API key looks good so far\n"
     ]
    }
   ],
   "source": [
    "# set up environment\n",
    "\n",
    "load_dotenv()\n",
    "api_key = os.getenv('OPENAI_API_KEY')\n",
    "if api_key and api_key.startswith('sk-proj-') and len(api_key)>10:\n",
    "    print(\"API key looks good so far\")\n",
    "else:\n",
    "    print(\"There might be a problem with your API key? Please visit the troubleshooting notebook!\")\n",
    "openai = OpenAI()"
   ]
  },
  {
   "cell_type": "code",
   "execution_count": 11,
   "id": "3f0d0137-52b0-47a8-81a8-11a90a010798",
   "metadata": {},
   "outputs": [],
   "source": [
    "# here is the question; type over this to ask something new\n",
    "\n",
    "question = \"\"\"\n",
    "Please explain what this code does and why:\n",
    "yield from {book.get(\"author\") for book in books if book.get(\"author\")}\n",
    "\"\"\""
   ]
  },
  {
   "cell_type": "code",
   "execution_count": 18,
   "id": "60ce7000-a4a5-4cce-a261-e75ef45063b4",
   "metadata": {},
   "outputs": [],
   "source": [
    "# Get gpt-4o-mini to answer, with streaming\n",
    "\n",
    "system_prompt = \"\"\"\n",
    "                    You are a helpful assistant and act as a code explainer. \n",
    "                    You will be given one or more code snippets along with questions about them. \n",
    "                    For each code snippet, you will:\n",
    "                    1. Explain what the code does in detail.\n",
    "                    2. Describe why it is written that way.\n",
    "                    3. Highlight potential limitations or issues in the code.\n",
    "                    4. Suggest improvements or alternatives if applicable.\n",
    "                    5. Answer the specific question provided about the code.\n",
    "\n",
    "                    You will respond in code blocks, formatted as JSON.\n",
    "\n",
    "                    If multiple examples are provided, repeat the structure for each example.\n",
    "                    Given the the example of input and output code for your reference\n",
    "                    examples = [\n",
    "                                {\n",
    "                                    \"code\": \"numbers = [1, 2, 3, 4, 5]\\nsquared = [x**2 for x in numbers]\",\n",
    "                                    \"question\": \"Why is a list comprehension used here?\"\n",
    "                                },\n",
    "                                {\n",
    "                                    \"code\": \"def factorial(n):\\n    if n == 0:\\n        return 1\\n    return n * factorial(n - 1)\",\n",
    "                                    \"question\": \"What are the limitations of this implementation?\"\n",
    "                                }\n",
    "                            ]\n",
    "                    [\n",
    "                    {\n",
    "                        \"example\": {\n",
    "                            \"code\": \"numbers = [1, 2, 3, 4, 5]\\nsquared = [x**2 for x in numbers]\",\n",
    "                            \"explanation\": \"This code creates a list of numbers and uses a list comprehension to generate a new list containing the squares of each number.\",\n",
    "                            \"question\": \"Why is a list comprehension used here?\",\n",
    "                            \"answer\": \"List comprehensions are concise and Pythonic, making the code easier to read and write compared to a traditional for loop.\",\n",
    "                            \"improvements\": \"If memory usage is a concern, consider using a generator expression instead of a list comprehension.\"\n",
    "                        }\n",
    "                    },\n",
    "                    {\n",
    "                        \"example\": {\n",
    "                            \"code\": \"def factorial(n):\\n    if n == 0:\\n        return 1\\n    return n * factorial(n - 1)\",\n",
    "                            \"explanation\": \"This function calculates the factorial of a number using recursion. It multiplies the number by the factorial of the number minus one until it reaches the base case of 0.\",\n",
    "                            \"question\": \"What are the limitations of this implementation?\",\n",
    "                            \"answer\": \"The recursive implementation can lead to a RecursionError for large inputs due to Python's recursion depth limit.\",\n",
    "                            \"improvements\": \"Use an iterative approach to avoid recursion depth issues and improve performance.\"\n",
    "                        }\n",
    "                    }\n",
    "                ]\n",
    "            \"\"\"\n",
    "\n"
   ]
  },
  {
   "cell_type": "code",
   "execution_count": 27,
   "id": "19e986de",
   "metadata": {},
   "outputs": [],
   "source": [
    "def get_answer(question, system_prompt, model=MODEL_GPT):\n",
    "    if model == MODEL_LLAMA:\n",
    "        ollama_via_openai = OpenAI(base_url='http://localhost:11434/v1', api_key='ollama')\n",
    "        stream = ollama_via_openai.chat.completions.create(\n",
    "            model= model,\n",
    "            messages=[\n",
    "                {\"role\": \"system\",\"content\": system_prompt},\n",
    "                {\"role\": \"user\", \"content\": question}\n",
    "            ],\n",
    "            stream=True,\n",
    "            temperature=0\n",
    "        )\n",
    "    else:\n",
    "        stream = openai.chat.completions.create(\n",
    "            model= model,\n",
    "            messages=[\n",
    "                {\"role\": \"system\",\"content\": system_prompt},\n",
    "                {\"role\": \"user\", \"content\": question}\n",
    "            ],\n",
    "            stream=True,\n",
    "            temperature=0\n",
    "        )\n",
    "    \n",
    "    response = \"\"\n",
    "    display_handle = display(Markdown(\"\"), display_id=True)\n",
    "    for chunk in stream:\n",
    "        response += chunk.choices[0].delta.content or \"\"\n",
    "        response = response.replace(\"```\",\"\").replace(\"markdown\", \"\")\n",
    "        update_display(Markdown(response), display_id=display_handle.display_id)"
   ]
  },
  {
   "cell_type": "code",
   "execution_count": 20,
   "id": "00c4e27b",
   "metadata": {},
   "outputs": [
    {
     "data": {
      "text/markdown": [
       "json\n",
       "{\n",
       "    \"example\": {\n",
       "        \"code\": \"yield from {book.get(\\\"author\\\") for book in books if book.get(\\\"author\\\")}\",\n",
       "        \"explanation\": \"This code uses a generator to yield authors from a collection of books. It creates a set comprehension that extracts the 'author' from each book in the 'books' iterable, but only if the 'author' key exists and is not None. The 'yield from' statement allows the generator to yield each author one at a time, effectively flattening the output from the set comprehension.\",\n",
       "        \"question\": \"What is the purpose of using 'yield from' in this context?\",\n",
       "        \"answer\": \"'yield from' is used to yield all values from the set comprehension directly, allowing the generator to produce each author without needing to iterate through the set explicitly. This makes the code cleaner and more efficient.\",\n",
       "        \"improvements\": \"If the intention is to yield unique authors, using a set is appropriate. However, if the order of authors matters, consider using a list instead of a set. Additionally, ensure that 'books' is defined and is an iterable of dictionaries to avoid runtime errors.\"\n",
       "    }\n",
       "}\n"
      ],
      "text/plain": [
       "<IPython.core.display.Markdown object>"
      ]
     },
     "metadata": {},
     "output_type": "display_data"
    }
   ],
   "source": [
    "get_answer(question, system_prompt, model=MODEL_GPT)"
   ]
  },
  {
   "cell_type": "code",
   "execution_count": 28,
   "id": "8f7c8ea8-4082-4ad0-8751-3301adcf6538",
   "metadata": {},
   "outputs": [
    {
     "data": {
      "text/markdown": [
       "json\n",
       "{\n",
       "    \"explanation\": \"This code generates a generator expression that yields the authors of books from the `books` collection.\",\n",
       "    \"why\": \"The `yield from` statement is used to delegate to a sub-generator or iterator, allowing the outer generator to produce values from the inner one. In this case, it's used to iterate over the `books` collection and yield the authors of each book. The `get(\"author\")` method is called on each book dictionary to retrieve the author's value.\",\n",
       "    \"limitations\": \"This code assumes that all books have an 'author' key in their dictionaries. If a book is missing this key, it will raise a KeyError. Additionally, if the list of books is very large, this generator expression may consume a lot of memory due to the use of a dictionary lookup on each iteration.\",\n",
       "    \"improvements\": \"Consider using a more robust way to handle missing keys, such as using the `get()` method with a default value or checking for the key's existence before trying to access it. Alternatively, consider using a database query or an external data source if the list of books is very large.\"\n",
       "}\n",
       "\n",
       "\n",
       "As for your question about why this code uses a generator expression instead of a traditional loop:\n",
       "\n",
       "json\n",
       "{\n",
       "    \"answer\": \"The `yield from` statement and generator expressions are used here because they provide a concise and memory-efficient way to iterate over the `books` collection. This is particularly useful when working with large datasets, as it avoids loading the entire dataset into memory at once.\"\n",
       "}\n",
       "\n",
       "\n",
       "Note that this code can be rewritten using a traditional loop for better readability and maintainability:\n",
       "\n",
       "python\n",
       "def get_authors(books):\n",
       "    authors = []\n",
       "    for book in books:\n",
       "        author = book.get(\"author\")\n",
       "        if author is not None:\n",
       "            authors.append(author)\n",
       "    yield from authors\n",
       "\n",
       "\n",
       "However, the original code using `yield from` is more concise and Pythonic."
      ],
      "text/plain": [
       "<IPython.core.display.Markdown object>"
      ]
     },
     "metadata": {},
     "output_type": "display_data"
    }
   ],
   "source": [
    "# Get Llama 3.2 to answer\n",
    "\n",
    "\n",
    "get_answer(question, system_prompt, model=MODEL_LLAMA)"
   ]
  },
  {
   "cell_type": "code",
   "execution_count": null,
   "id": "086a6266",
   "metadata": {},
   "outputs": [],
   "source": []
  }
 ],
 "metadata": {
  "kernelspec": {
   "display_name": "llms",
   "language": "python",
   "name": "python3"
  },
  "language_info": {
   "codemirror_mode": {
    "name": "ipython",
    "version": 3
   },
   "file_extension": ".py",
   "mimetype": "text/x-python",
   "name": "python",
   "nbconvert_exporter": "python",
   "pygments_lexer": "ipython3",
   "version": "3.11.12"
  }
 },
 "nbformat": 4,
 "nbformat_minor": 5
}
