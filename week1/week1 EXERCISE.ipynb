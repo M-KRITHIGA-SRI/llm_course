{
 "cells": [
  {
   "cell_type": "markdown",
   "id": "fe12c203-e6a6-452c-a655-afb8a03a4ff5",
   "metadata": {},
   "source": [
    "# End of week 1 exercise\n",
    "\n",
    "To demonstrate your familiarity with OpenAI API, and also Ollama, build a tool that takes a technical question,  \n",
    "and responds with an explanation. This is a tool that you will be able to use yourself during the course!"
   ]
  },
  {
   "cell_type": "code",
   "execution_count": 7,
   "id": "c1070317-3ed9-4659-abe3-828943230e03",
   "metadata": {},
   "outputs": [],
   "source": [
    "# imports\n",
    "\n",
    "from dotenv import load_dotenv\n",
    "from IPython.display import Markdown, display, update_display\n",
    "from openai import OpenAI\n",
    "import ollama"
   ]
  },
  {
   "cell_type": "code",
   "execution_count": 8,
   "id": "4a456906-915a-4bfd-bb9d-57e505c5093f",
   "metadata": {},
   "outputs": [],
   "source": [
    "# constants\n",
    "\n",
    "MODEL_GPT = 'gpt-4.1'\n",
    "MODEL_LLAMA = 'llama3.2'"
   ]
  },
  {
   "cell_type": "code",
   "execution_count": 9,
   "id": "a8d7923c-5f28-4c30-8556-342d7c8497c1",
   "metadata": {},
   "outputs": [],
   "source": [
    "# set up environment\n",
    "\n",
    "load_dotenv()\n",
    "openai = OpenAI()"
   ]
  },
  {
   "cell_type": "code",
   "execution_count": 4,
   "id": "3f0d0137-52b0-47a8-81a8-11a90a010798",
   "metadata": {},
   "outputs": [],
   "source": [
    "# here is the question; type over this to ask something new\n",
    "\n",
    "question = \"\"\"\n",
    "Please explain what this code does and why:\n",
    "yield from {book.get(\"author\") for book in books if book.get(\"author\")}\n",
    "\"\"\""
   ]
  },
  {
   "cell_type": "code",
   "execution_count": 11,
   "id": "60ce7000-a4a5-4cce-a261-e75ef45063b4",
   "metadata": {},
   "outputs": [
    {
     "name": "stdout",
     "output_type": "stream",
     "text": [
      "🤖 GPT-4.1ponse:\n",
      "--------------------------------------------------\n"
     ]
    },
    {
     "data": {
      "text/markdown": [
       "Certainly! Let's break down the code and explain its function and reasoning:\n",
       "\n",
       "python\n",
       "yield from {book.get(\"author\") for book in books if book.get(\"author\")}\n",
       "\n",
       "\n",
       "## 1. **Understanding the Context**\n",
       "\n",
       "Assume `books` is an iterable (like a list) of dictionaries, with each dictionary representing a book. Each dictionary might have an `\"author\"` key.\n",
       "\n",
       "Example:\n",
       "python\n",
       "books = [\n",
       "    {\"title\": \"1984\", \"author\": \"George Orwell\"},\n",
       "    {\"title\": \"Python 101\", \"author\": \"Michael Driscoll\"},\n",
       "    {\"title\": \"Book with no author\"}\n",
       "]\n",
       "\n",
       "\n",
       "---\n",
       "\n",
       "## 2. **Breaking Down the Code**\n",
       "\n",
       "### **A. Set Comprehension**\n",
       "python\n",
       "{book.get(\"author\") for book in books if book.get(\"author\")}\n",
       "\n",
       "- **Purpose:** Builds a set of all `\"author\"` values found in the `books` list—ignoring any books without an `\"author\"` (i.e., where `book.get(\"author\")` is `None` or falsy).\n",
       "- **How it works:**\n",
       "  * `book.get(\"author\")`: Tries to fetch the \"author\" value; returns `None` if not present.\n",
       "  * `if book.get(\"author\")`: Includes only those books with a non-empty, truthy \"author\".\n",
       "  * The `{ ... for ... if ...}` makes a **set comprehension**. Sets automatically filter out duplicates—so you'll get **unique author names** only.\n",
       "\n",
       "#### Example Output:\n",
       "python\n",
       "{\"George Orwell\", \"Michael Driscoll\"}\n",
       "\n",
       "(Assuming the sample books above.)\n",
       "\n",
       "---\n",
       "\n",
       "### **B. `yield from`**\n",
       "\n",
       "- `yield from <iterable>` is a generator statement in Python.\n",
       "- It **delegates** yielding items *from the supplied iterable* (in this case, the set of authors) to the \"outer\" generator.\n",
       "- This means it will **yield each unique author name**, one at a time.\n",
       "\n",
       "---\n",
       "\n",
       "## 3. **What Does the Whole Line Do?**\n",
       "\n",
       "- This line is intended to be used **inside a generator function**. (It won’t work at the top level.)\n",
       "- It collects *all unique (non-empty) author names* in `books`, and yields them one at a time.\n",
       "- Usage in a context:\n",
       "\n",
       "python\n",
       "def unique_authors(books):\n",
       "    yield from {book.get(\"author\") for book in books if book.get(\"author\")}\n",
       "\n",
       "\n",
       "**Usage Example:**\n",
       "python\n",
       "for author in unique_authors(books):\n",
       "    print(author)\n",
       "# Output:\n",
       "# George Orwell\n",
       "# Michael Driscoll\n",
       "\n",
       "\n",
       "*(Order is arbitrary because sets are unordered)*\n",
       "\n",
       "---\n",
       "\n",
       "## 4. **Why Use This Approach?**\n",
       "\n",
       "- **Set comprehension**: Ensures authors are unique; no duplicates.\n",
       "- **Filtering**: The `if book.get(\"author\")` check skips missing or empty author names.\n",
       "- **Generator pattern**: Delivers results lazily, one at a time, for memory efficiency.\n",
       "\n",
       "---\n",
       "\n",
       "## **Summary Table**\n",
       "\n",
       "| Part                                | Purpose                        |\n",
       "|--------------------------------------|--------------------------------|\n",
       "| `{book.get(\"author\") ...}`           | Collect unique author names    |\n",
       "| `if book.get(\"author\")`              | Skip missing/empty authors     |\n",
       "| `yield from ...`                     | Yield each author (generator)  |\n",
       "\n",
       "---\n",
       "\n",
       "## **In Short**\n",
       "\n",
       "This code generates (one at a time) all unique, non-empty author names found in a `books` iterable, skipping any book with a missing or empty author. It does this efficiently and concisely, leveraging set comprehensions and Python's generator features."
      ],
      "text/plain": [
       "<IPython.core.display.Markdown object>"
      ]
     },
     "metadata": {},
     "output_type": "display_data"
    }
   ],
   "source": [
    "# Get gpt-4.1 to answer, with streaming\n",
    "\n",
    "# Create prompts\n",
    "system_prompt = \"You are a helpful technical tutor who answers questions about python code, software engineering, data science and LLMs\"\n",
    "user_prompt = \"Please give a detailed explanation to the following question: \" + question\n",
    "\n",
    "# Create messages\n",
    "messages = [\n",
    "    {\"role\": \"system\", \"content\": system_prompt},\n",
    "    {\"role\": \"user\", \"content\": user_prompt}\n",
    "]\n",
    "\n",
    "# Stream the response from OpenAI\n",
    "print(\"🤖 GPT-4.1 Response:\")\n",
    "print(\"-\" * 50)\n",
    "\n",
    "stream = openai.chat.completions.create(model=MODEL_GPT, messages=messages, stream=True)\n",
    "    \n",
    "response = \"\"\n",
    "display_handle = display(Markdown(\"\"), display_id=True)\n",
    "for chunk in stream:\n",
    "    response += chunk.choices[0].delta.content or ''\n",
    "    response = response.replace(\"```\",\"\").replace(\"markdown\", \"\")\n",
    "    update_display(Markdown(response), display_id=display_handle.display_id)"
   ]
  },
  {
   "cell_type": "code",
   "execution_count": 12,
   "id": "8f7c8ea8-4082-4ad0-8751-3301adcf6538",
   "metadata": {},
   "outputs": [
    {
     "name": "stdout",
     "output_type": "stream",
     "text": [
      "\n",
      "\n",
      "🦙 Llama 3.2 Response:\n",
      "--------------------------------------------------\n"
     ]
    },
    {
     "data": {
      "text/markdown": [
       "**Generator Expression Explanation**\n",
       "\n",
       "The given code snippet is a Python expression that uses a combination of generator expressions, `yield from`, and dictionary methods to extract authors from a list of books. Here's a breakdown:\n",
       "\n",
       "1. `{book.get(\"author\") for book in books if book.get(\"author\")}`:\n",
       "   - This is a **generator expression**, which is similar to a regular list comprehension but returns an iterator instead.\n",
       "   - The expression iterates over the `books` list and yields values for each item that passes the condition `if book.get(\"author\")`.\n",
       "   - If an item doesn't have a key named \"author\", it will be skipped.\n",
       "\n",
       "2. `yield from {book.get(\"author\") ...}`:\n",
       "   - This is where things get interesting.\n",
       "   - The `yield from` keyword in Python 3.3+ allows you to delegate the iteration over another iterable (in this case, the generator expression).\n",
       "   - When `yield from` is encountered, the current function pauses and yields values from the specified iterable.\n",
       "\n",
       "So, when we put it all together:\n",
       "\n",
       "```python\n",
       "yield from {book.get(\"author\") for book in books if book.get(\"author\")}\n",
       "```\n",
       "\n",
       "This code snippet essentially creates a new iterator that produces authors one by one. For each book in `books` where an author is found, its value (or the author's name) will be yielded.\n",
       "\n",
       "**Why use this?**\n",
       "\n",
       "Using generator expressions and `yield from` achieves several benefits:\n",
       "\n",
       "*   Memory efficiency: Instead of storing all the values in memory at once, we create an iterator that yields one item at a time. This makes it suitable for handling large datasets.\n",
       "*   Flexibility: Generator expressions can be used to perform more complex transformations on data than regular list comprehensions or for loops.\n",
       "\n",
       "**Example Use Case**\n",
       "\n",
       "Suppose you're building an application where you need to process a large number of books and their authors. You could use the provided code snippet as part of your processing pipeline:\n",
       "\n",
       "```python\n",
       "def extract_authors(books):\n",
       "    yield from {book.get(\"author\") for book in books if book.get(\"author\")}\n",
       "\n",
       "# Sample usage:\n",
       "books = [\n",
       "    {\"title\": \"Book 1\", \"author\": \"Author A\"},\n",
       "    {\"title\": \"Book 2\", \"author\": None},\n",
       "    {\"title\": \"Book 3\", \"author\": \"Author C\"}\n",
       "]\n",
       "\n",
       "for author in extract_authors(books):\n",
       "    print(author)\n",
       "```\n",
       "\n",
       "In this example, `extract_authors` returns an iterator that yields authors one by one. The `print` statement demonstrates how to iterate over the returned values."
      ],
      "text/plain": [
       "<IPython.core.display.Markdown object>"
      ]
     },
     "metadata": {},
     "output_type": "display_data"
    }
   ],
   "source": [
    "# Get Llama 3.2 to answer\n",
    "\n",
    "print(\"\\n\\n🦙 Llama 3.2 Response:\")\n",
    "print(\"-\" * 50)\n",
    "\n",
    "response = ollama.chat(model=MODEL_LLAMA, messages=messages)\n",
    "reply = response['message']['content']\n",
    "display(Markdown(reply))"
   ]
  },
  {
   "cell_type": "markdown",
   "id": "f8606e4c",
   "metadata": {},
   "source": [
    "## 🎉 Congratulations!\n",
    "\n",
    "You've successfully built a technical question answering tool using both OpenAI and Ollama!\n",
    "\n",
    "### Key Features Implemented:\n",
    "- ✅ OpenAI GPT-4.1 integration with streaming responses\n",
    "- ✅ Ollama Llama 3.2 integration\n",
    "- ✅ Real-time response display with markdown formatting\n",
    "- ✅ Professional system prompts for technical tutoring\n",
    "\n",
    "### Next Steps:\n",
    "- Try changing the `question` variable to ask different technical questions\n",
    "- After Week 2, you'll be able to add a User Interface to this tool\n",
    "- Consider adding interactive input: `my_question = input(\"Please enter your question:\")`\n"
   ]
  }
 ],
 "metadata": {
  "kernelspec": {
   "display_name": "llm_engineering",
   "language": "python",
   "name": "python3"
  },
  "language_info": {
   "codemirror_mode": {
    "name": "ipython",
    "version": 3
   },
   "file_extension": ".py",
   "mimetype": "text/x-python",
   "name": "python",
   "nbconvert_exporter": "python",
   "pygments_lexer": "ipython3",
   "version": "3.12.0"
  }
 },
 "nbformat": 4,
 "nbformat_minor": 5
}
