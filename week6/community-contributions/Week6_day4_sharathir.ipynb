{
 "cells": [
  {
   "cell_type": "code",
   "execution_count": 4,
   "id": "7656f4ed-d968-4ddc-b766-0dd8b5cd1865",
   "metadata": {},
   "outputs": [],
   "source": [
    "import os\n",
    "import re\n",
    "import math\n",
    "import json\n",
    "import random\n",
    "from dotenv import load_dotenv\n",
    "from huggingface_hub import login\n",
    "import matplotlib.pyplot as plt\n",
    "import numpy as np\n",
    "import pickle\n",
    "from collections import Counter\n",
    "from openai import OpenAI\n",
    "from anthropic import Anthropic\n",
    "import ollama"
   ]
  },
  {
   "cell_type": "code",
   "execution_count": null,
   "id": "36f79bdd-e944-436d-b64f-6a3e52bdc3fc",
   "metadata": {},
   "outputs": [],
   "source": [
    "#uncomment the code and provide the token while running the code in run time. \n",
    "#os.environ['HF_TOKEN'] = os.getenv('HF_TOKEN', 'XXXXXXXXXXXXXXXXXX')"
   ]
  },
  {
   "cell_type": "code",
   "execution_count": 5,
   "id": "19b948e1-9918-4592-b5b0-a093d02fcee1",
   "metadata": {},
   "outputs": [],
   "source": [
    "load_dotenv() \n",
    "hf_token = os.environ['HF_API_TOKEN']\n",
    "login(hf_token, add_to_git_credential=True)"
   ]
  },
  {
   "cell_type": "code",
   "execution_count": 6,
   "id": "eefff1d8-703e-4a11-9413-453af3a12386",
   "metadata": {},
   "outputs": [],
   "source": [
    "# moved our Tester into a separate package\n",
    "# call it with Tester.test(function_name, test_dataset)\n",
    "\n",
    "from items import Item\n",
    "from testing import Tester"
   ]
  },
  {
   "cell_type": "code",
   "execution_count": 7,
   "id": "3ddd3e67-ed6b-4a72-a366-787a6dfc4ce0",
   "metadata": {},
   "outputs": [],
   "source": [
    "%matplotlib inline"
   ]
  },
  {
   "cell_type": "code",
   "execution_count": 8,
   "id": "18001ad5-8e5d-4273-8771-cb00b6228917",
   "metadata": {},
   "outputs": [],
   "source": [
    "# Let's avoid curating all our data again! Load in the pickle files:\n",
    "\n",
    "with open('train.pkl', 'rb') as file:\n",
    "    train = pickle.load(file)\n",
    "\n",
    "with open('test.pkl', 'rb') as file:\n",
    "    test = pickle.load(file)"
   ]
  },
  {
   "cell_type": "code",
   "execution_count": 9,
   "id": "363787a0-1420-49b3-a210-1bbf749990ec",
   "metadata": {},
   "outputs": [],
   "source": [
    "# Write the test set to a CSV\n",
    "\n",
    "import csv\n",
    "with open('human_input.csv', 'w', encoding=\"utf-8\") as csvfile:\n",
    "    writer = csv.writer(csvfile)\n",
    "    for t in test[:250]:\n",
    "        writer.writerow([t.test_prompt(), 0])"
   ]
  },
  {
   "cell_type": "code",
   "execution_count": 10,
   "id": "4c5f6d40-c6cc-4337-a6ca-8a5a488d6af5",
   "metadata": {},
   "outputs": [],
   "source": [
    "# Read it back in\n",
    "\n",
    "import csv\n",
    "\n",
    "human_predictions = []\n",
    "with open('human_input.csv', 'r', encoding=\"utf-8\") as csvfile:\n",
    "    reader = csv.reader(csvfile)\n",
    "    for row in reader:\n",
    "        # Check if the row has enough elements to prevent the error\n",
    "        if len(row) > 1:\n",
    "            human_predictions.append(float(row[1]))"
   ]
  },
  {
   "cell_type": "code",
   "execution_count": 11,
   "id": "1377c991-9761-40ba-b3f8-87ab263d10b4",
   "metadata": {},
   "outputs": [],
   "source": [
    "def human_pricer(item):\n",
    "    idx = test.index(item)\n",
    "    return human_predictions[idx]"
   ]
  },
  {
   "cell_type": "code",
   "execution_count": 12,
   "id": "58351a70-5281-42a4-83c4-5470e23f6035",
   "metadata": {},
   "outputs": [
    {
     "name": "stdout",
     "output_type": "stream",
     "text": [
      "\u001b[91m1: Guess: $0.00 Truth: $374.41 Error: $374.41 SLE: 35.14 Item: OEM AC Compressor w/A/C Repair Kit For F...\u001b[0m\n",
      "\u001b[91m2: Guess: $0.00 Truth: $225.11 Error: $225.11 SLE: 29.39 Item: Motorcraft YB3125 Fan Clutch\u001b[0m\n",
      "\u001b[93m3: Guess: $0.00 Truth: $61.68 Error: $61.68 SLE: 17.12 Item: Dorman 603-159 Front Washer Fluid Reserv...\u001b[0m\n",
      "\u001b[91m4: Guess: $0.00 Truth: $599.99 Error: $599.99 SLE: 40.94 Item: HP Premium 17.3-inch HD Plus Touchscreen...\u001b[0m\n",
      "\u001b[92m5: Guess: $0.00 Truth: $16.99 Error: $16.99 SLE: 8.35 Item: 5-Position Super Switch Pickup Selector ...\u001b[0m\n",
      "\u001b[92m6: Guess: $0.00 Truth: $31.99 Error: $31.99 SLE: 12.22 Item: Horror Bookmarks, Resin Horror Bookmarks...\u001b[0m\n",
      "\u001b[91m7: Guess: $0.00 Truth: $101.79 Error: $101.79 SLE: 21.46 Item: SK6241 - Stinger 4 Gauge 6000 Series Pow...\u001b[0m\n",
      "\u001b[91m8: Guess: $0.00 Truth: $289.00 Error: $289.00 SLE: 32.15 Item: Godox ML60Bi LED Light Kit, Handheld LED...\u001b[0m\n",
      "\u001b[91m9: Guess: $0.00 Truth: $635.86 Error: $635.86 SLE: 41.69 Item: Randall RG75DG3PLUS G3 Plus 100-Watt Com...\u001b[0m\n",
      "\u001b[93m10: Guess: $0.00 Truth: $65.99 Error: $65.99 SLE: 17.68 Item: HOLDWILL 6 Pack LED Shop Light, 4FT 24W ...\u001b[0m\n",
      "\u001b[91m11: Guess: $0.00 Truth: $254.21 Error: $254.21 SLE: 30.71 Item: Viking Horns V103C/1005ATK 3 Gallon Air ...\u001b[0m\n",
      "\u001b[91m12: Guess: $0.00 Truth: $412.99 Error: $412.99 SLE: 36.31 Item: CURT 70110 Custom Tow Bar Base Plate Bra...\u001b[0m\n",
      "\u001b[91m13: Guess: $0.00 Truth: $205.50 Error: $205.50 SLE: 28.41 Item: 10-Pack Solar HAMMERED BRONZE Finish Pos...\u001b[0m\n",
      "\u001b[91m14: Guess: $0.00 Truth: $248.23 Error: $248.23 SLE: 30.45 Item: COSTWAY Electric Tumble Dryer, Sliver\u001b[0m\n",
      "\u001b[91m15: Guess: $0.00 Truth: $399.00 Error: $399.00 SLE: 35.90 Item: FREE SIGNAL TV Transit 32\" 12 Volt DC Po...\u001b[0m\n",
      "\u001b[91m16: Guess: $0.00 Truth: $373.94 Error: $373.94 SLE: 35.13 Item: Bilstein 5100 Monotube Gas Shock Set com...\u001b[0m\n",
      "\u001b[91m17: Guess: $0.00 Truth: $92.89 Error: $92.89 SLE: 20.63 Item: Sangean K-200 Multi-Function Upright AM/...\u001b[0m\n",
      "\u001b[93m18: Guess: $0.00 Truth: $51.99 Error: $51.99 SLE: 15.76 Item: Charles Leonard Magnetic Lapboard Class ...\u001b[0m\n",
      "\u001b[91m19: Guess: $0.00 Truth: $179.00 Error: $179.00 SLE: 26.97 Item: Gigabyte AMD Radeon HD 7870 2 GB GDDR5 D...\u001b[0m\n",
      "\u001b[92m20: Guess: $0.00 Truth: $19.42 Error: $19.42 SLE: 9.10 Item: 3dRose LLC 8 x 8 x 0.25 Inches Bull Terr...\u001b[0m\n",
      "\u001b[91m21: Guess: $0.00 Truth: $539.95 Error: $539.95 SLE: 39.61 Item: ROKINON 85mm F1.4 Auto Focus Full Frame ...\u001b[0m\n",
      "\u001b[91m22: Guess: $0.00 Truth: $147.67 Error: $147.67 SLE: 25.02 Item: AUTOSAVER88 Headlight Assembly Compatibl...\u001b[0m\n",
      "\u001b[92m23: Guess: $0.00 Truth: $24.99 Error: $24.99 SLE: 10.61 Item: ASI NAUTICAL 2.5 Inches Opera Glasses Bi...\u001b[0m\n",
      "\u001b[91m24: Guess: $0.00 Truth: $149.00 Error: $149.00 SLE: 25.11 Item: Behringer TUBE OVERDRIVE TO100 Authentic...\u001b[0m\n",
      "\u001b[92m25: Guess: $0.00 Truth: $16.99 Error: $16.99 SLE: 8.35 Item: Fun Express Insect Finger Puppets - 24 f...\u001b[0m\n",
      "\u001b[92m26: Guess: $0.00 Truth: $7.99 Error: $7.99 SLE: 4.82 Item: WAFJAMF Roller Stamp Identity Theft Stam...\u001b[0m\n",
      "\u001b[91m27: Guess: $0.00 Truth: $199.99 Error: $199.99 SLE: 28.12 Item: Capulina Tiffany Floor Lamp 2-Light 16\" ...\u001b[0m\n",
      "\u001b[91m28: Guess: $0.00 Truth: $251.45 Error: $251.45 SLE: 30.59 Item: Apple Watch Series 6 (GPS, 44mm) - Space...\u001b[0m\n",
      "\u001b[91m29: Guess: $0.00 Truth: $231.62 Error: $231.62 SLE: 29.70 Item: ICON 01725 Tandem Axle Fender Skirt FS17...\u001b[0m\n",
      "\u001b[91m30: Guess: $0.00 Truth: $135.00 Error: $135.00 SLE: 24.13 Item: SanDisk 128GB Ultra (10 Pack) MicroSD Cl...\u001b[0m\n",
      "\u001b[91m31: Guess: $0.00 Truth: $356.62 Error: $356.62 SLE: 34.57 Item: Velvac 2020,L,C/Hr,W,E2003,102\",Bk - 715...\u001b[0m\n",
      "\u001b[91m32: Guess: $0.00 Truth: $257.99 Error: $257.99 SLE: 30.88 Item: TCMT Passenger Backrest Sissy Bar & Lugg...\u001b[0m\n",
      "\u001b[92m33: Guess: $0.00 Truth: $27.99 Error: $27.99 SLE: 11.34 Item: Alnicov 63.5MM Brass Tremolo Block，Tremo...\u001b[0m\n",
      "\u001b[91m34: Guess: $0.00 Truth: $171.20 Error: $171.20 SLE: 26.51 Item: Subaru Forester Outback Legacy OEM Engin...\u001b[0m\n",
      "\u001b[91m35: Guess: $0.00 Truth: $225.00 Error: $225.00 SLE: 29.38 Item: Richmond Auto Upholstery - 2012 Dodge Ra...\u001b[0m\n",
      "\u001b[91m36: Guess: $0.00 Truth: $105.00 Error: $105.00 SLE: 21.75 Item: AP-39 Automotive Paint Primer Grey 2K Ur...\u001b[0m\n",
      "\u001b[91m37: Guess: $0.00 Truth: $299.99 Error: $299.99 SLE: 32.57 Item: Road Top Wireless Carplay Retrofit Kit D...\u001b[0m\n",
      "\u001b[91m38: Guess: $0.00 Truth: $535.09 Error: $535.09 SLE: 39.49 Item: Gibson Performance Exhaust 5658 Aluminiz...\u001b[0m\n",
      "\u001b[92m39: Guess: $0.00 Truth: $12.33 Error: $12.33 SLE: 6.71 Item: Bella Tunno Happy Links - Baby Montessor...\u001b[0m\n",
      "\u001b[91m40: Guess: $0.00 Truth: $84.99 Error: $84.99 SLE: 19.84 Item: CANMORE H300 Handheld GPS Golf Device, S...\u001b[0m\n",
      "\u001b[92m41: Guess: $0.00 Truth: $15.99 Error: $15.99 SLE: 8.02 Item: DCPOWER AC Adapter Compatible Replacemen...\u001b[0m\n",
      "\u001b[93m42: Guess: $0.00 Truth: $62.44 Error: $62.44 SLE: 17.22 Item: Sharp, VX2128V, Commercial Desktop Calcu...\u001b[0m\n",
      "\u001b[91m43: Guess: $0.00 Truth: $82.99 Error: $82.99 SLE: 19.63 Item: Melissa & Doug Lifelike Plush Stork Gian...\u001b[0m\n",
      "\u001b[91m44: Guess: $0.00 Truth: $599.95 Error: $599.95 SLE: 40.94 Item: Sony SSCS8 2-Way 3-Driver Center Channel...\u001b[0m\n",
      "\u001b[91m45: Guess: $0.00 Truth: $194.99 Error: $194.99 SLE: 27.86 Item: ASUS Chromebook CX1, 14\" Full HD NanoEdg...\u001b[0m\n",
      "\u001b[91m46: Guess: $0.00 Truth: $344.95 Error: $344.95 SLE: 34.18 Item: FiiO X7 32GB Hi-Res Lossless Music Playe...\u001b[0m\n",
      "\u001b[92m47: Guess: $0.00 Truth: $37.99 Error: $37.99 SLE: 13.42 Item: TORRO Leather Case Compatible with iPhon...\u001b[0m\n",
      "\u001b[91m48: Guess: $0.00 Truth: $224.35 Error: $224.35 SLE: 29.35 Item: Universal Air Conditioner KT 1031 A/C Co...\u001b[0m\n",
      "\u001b[91m49: Guess: $0.00 Truth: $814.00 Error: $814.00 SLE: 44.93 Item: Street Series Stainless Performance Cat-...\u001b[0m\n",
      "\u001b[91m50: Guess: $0.00 Truth: $439.88 Error: $439.88 SLE: 37.07 Item: Lenovo IdeaPad 3 14-inch Laptop, 14.0-in...\u001b[0m\n",
      "\u001b[91m51: Guess: $0.00 Truth: $341.43 Error: $341.43 SLE: 34.06 Item: Access Bed Covers TonnoSport 22050219 - ...\u001b[0m\n",
      "\u001b[93m52: Guess: $0.00 Truth: $46.78 Error: $46.78 SLE: 14.95 Item: G.I. JOE Hasbro 3 3/4\" Wave 5 Action Fig...\u001b[0m\n",
      "\u001b[91m53: Guess: $0.00 Truth: $171.44 Error: $171.44 SLE: 26.52 Item: T&S Brass B-0232-BST Double Pantry Fauce...\u001b[0m\n",
      "\u001b[91m54: Guess: $0.00 Truth: $458.00 Error: $458.00 SLE: 37.57 Item: ZTUOAUMA Fuel Injection Pump 3090942 309...\u001b[0m\n",
      "\u001b[91m55: Guess: $0.00 Truth: $130.75 Error: $130.75 SLE: 23.82 Item: 2AP18AA#ABA Hp Prime Graphing Calculator...\u001b[0m\n",
      "\u001b[91m56: Guess: $0.00 Truth: $83.81 Error: $83.81 SLE: 19.72 Item: Lowrance 000-0119-83 Nmea 2000 25' Exten...\u001b[0m\n",
      "\u001b[91m57: Guess: $0.00 Truth: $386.39 Error: $386.39 SLE: 35.51 Item: Jeep Genuine Accessories 82213051 Hood L...\u001b[0m\n",
      "\u001b[91m58: Guess: $0.00 Truth: $169.00 Error: $169.00 SLE: 26.38 Item: GODOX CB-06 Hard Carrying Case with Whee...\u001b[0m\n",
      "\u001b[92m59: Guess: $0.00 Truth: $17.95 Error: $17.95 SLE: 8.65 Item: Au-Tomotive Gold, INC. Ford Black Valet ...\u001b[0m\n",
      "\u001b[91m60: Guess: $0.00 Truth: $269.00 Error: $269.00 SLE: 31.34 Item: Snailfly Black Roof Rack Rail + Cross Ba...\u001b[0m\n",
      "\u001b[93m61: Guess: $0.00 Truth: $77.77 Error: $77.77 SLE: 19.07 Item: KING SHA Anti Glare LED Track Lighting H...\u001b[0m\n",
      "\u001b[91m62: Guess: $0.00 Truth: $88.99 Error: $88.99 SLE: 20.25 Item: APS Compatible with Chevy Silverado 1500...\u001b[0m\n",
      "\u001b[91m63: Guess: $0.00 Truth: $364.41 Error: $364.41 SLE: 34.82 Item: Wilwood Engineering 14011291R Brake Cali...\u001b[0m\n",
      "\u001b[91m64: Guess: $0.00 Truth: $127.03 Error: $127.03 SLE: 23.54 Item: ACDelco Gold 336-1925A Starter, Remanufa...\u001b[0m\n",
      "\u001b[91m65: Guess: $0.00 Truth: $778.95 Error: $778.95 SLE: 44.35 Item: UWS EC10783 69-Inch Matte Black Heavy-Wa...\u001b[0m\n",
      "\u001b[91m66: Guess: $0.00 Truth: $206.66 Error: $206.66 SLE: 28.47 Item: Dell Latitude E5440 14in Business Laptop...\u001b[0m\n",
      "\u001b[92m67: Guess: $0.00 Truth: $35.94 Error: $35.94 SLE: 13.03 Item: (Plug and Play) Spare Tire Brake Light W...\u001b[0m\n",
      "\u001b[91m68: Guess: $0.00 Truth: $149.00 Error: $149.00 SLE: 25.11 Item: The Ultimate Roadside Rescue Assistant\u001b[0m\n",
      "\u001b[91m69: Guess: $0.00 Truth: $251.98 Error: $251.98 SLE: 30.62 Item: Brand New 18\" x 8.5\" Replacement Wheel f...\u001b[0m\n",
      "\u001b[91m70: Guess: $0.00 Truth: $160.00 Error: $160.00 SLE: 25.82 Item: Headlight Headlamp LH Left & RH Right Pa...\u001b[0m\n",
      "\u001b[92m71: Guess: $0.00 Truth: $39.99 Error: $39.99 SLE: 13.79 Item: Lilo And Stitch Deluxe Oversize Print La...\u001b[0m\n",
      "\u001b[91m72: Guess: $0.00 Truth: $362.41 Error: $362.41 SLE: 34.76 Item: AC Compressor & A/C Clutch For Hyundai A...\u001b[0m\n",
      "\u001b[91m73: Guess: $0.00 Truth: $344.00 Error: $344.00 SLE: 34.15 Item: House Of Troy PIN475-AB Pinnacle Collect...\u001b[0m\n",
      "\u001b[92m74: Guess: $0.00 Truth: $25.09 Error: $25.09 SLE: 10.64 Item: Juno T29 WH Floating Electrical Feed Sin...\u001b[0m\n",
      "\u001b[91m75: Guess: $0.00 Truth: $175.95 Error: $175.95 SLE: 26.79 Item: Sherman GO-PARTS - for 2013-2016 Toyota ...\u001b[0m\n",
      "\u001b[91m76: Guess: $0.00 Truth: $132.64 Error: $132.64 SLE: 23.96 Item: Roland RPU-3 Electronic Keyboard Pedal o...\u001b[0m\n",
      "\u001b[91m77: Guess: $0.00 Truth: $422.99 Error: $422.99 SLE: 36.60 Item: Rockland VMI14 12,000 Pound 12 Volt DC E...\u001b[0m\n",
      "\u001b[91m78: Guess: $0.00 Truth: $146.48 Error: $146.48 SLE: 24.94 Item: Max Advanced Brakes Elite XDS Front Cros...\u001b[0m\n",
      "\u001b[91m79: Guess: $0.00 Truth: $156.83 Error: $156.83 SLE: 25.62 Item: Quality-Built 11030 Premium Quality Alte...\u001b[0m\n",
      "\u001b[91m80: Guess: $0.00 Truth: $251.99 Error: $251.99 SLE: 30.62 Item: Lucida LG-510 Student Classical Guitar, ...\u001b[0m\n",
      "\u001b[91m81: Guess: $0.00 Truth: $940.33 Error: $940.33 SLE: 46.89 Item: Longacre 52-79800 Aluminum Turn Plates\u001b[0m\n",
      "\u001b[93m82: Guess: $0.00 Truth: $52.99 Error: $52.99 SLE: 15.91 Item: Motion Pro 08-0380 Adjustable Torque Wre...\u001b[0m\n",
      "\u001b[91m83: Guess: $0.00 Truth: $219.95 Error: $219.95 SLE: 29.14 Item: Glyph Thunderbolt 3 NVMe Dock (0 GB)\u001b[0m\n",
      "\u001b[91m84: Guess: $0.00 Truth: $441.03 Error: $441.03 SLE: 37.10 Item: TOYO Open Country MT Performance Radial ...\u001b[0m\n",
      "\u001b[91m85: Guess: $0.00 Truth: $168.98 Error: $168.98 SLE: 26.38 Item: Razer Seiren X USB Streaming Microphone ...\u001b[0m\n",
      "\u001b[92m86: Guess: $0.00 Truth: $2.49 Error: $2.49 SLE: 1.56 Item: Happy Birthday to Dad From Your Daughter...\u001b[0m\n",
      "\u001b[91m87: Guess: $0.00 Truth: $98.62 Error: $98.62 SLE: 21.17 Item: Little Tikes My Real Jam First Concert S...\u001b[0m\n",
      "\u001b[91m88: Guess: $0.00 Truth: $256.95 Error: $256.95 SLE: 30.83 Item: Studio M Peace and Harmony Art Pole Comm...\u001b[0m\n",
      "\u001b[92m89: Guess: $0.00 Truth: $30.99 Error: $30.99 SLE: 12.01 Item: MyVolts 12V Power Supply Adaptor Compati...\u001b[0m\n",
      "\u001b[91m90: Guess: $0.00 Truth: $569.84 Error: $569.84 SLE: 40.29 Item: Dell Latitude 7212 Rugged Extreme Tablet...\u001b[0m\n",
      "\u001b[91m91: Guess: $0.00 Truth: $177.99 Error: $177.99 SLE: 26.91 Item: Covermates Contour Fit Car Cover - Light...\u001b[0m\n",
      "\u001b[91m92: Guess: $0.00 Truth: $997.99 Error: $997.99 SLE: 47.70 Item: Westin 57-4025 Black HDX Grille Guard fi...\u001b[0m\n",
      "\u001b[91m93: Guess: $0.00 Truth: $219.00 Error: $219.00 SLE: 29.09 Item: Fieldpiece JL2 Job Link Wireless App Tra...\u001b[0m\n",
      "\u001b[91m94: Guess: $0.00 Truth: $225.55 Error: $225.55 SLE: 29.41 Item: hansgrohe Talis S Modern Premium Easy Cl...\u001b[0m\n",
      "\u001b[91m95: Guess: $0.00 Truth: $495.95 Error: $495.95 SLE: 38.55 Item: G-Technology G-SPEED eS PRO High-Perform...\u001b[0m\n",
      "\u001b[91m96: Guess: $0.00 Truth: $942.37 Error: $942.37 SLE: 46.92 Item: DreamLine SHDR-1960723L-01 Shower Door, ...\u001b[0m\n",
      "\u001b[92m97: Guess: $0.00 Truth: $1.94 Error: $1.94 SLE: 1.16 Item: Sanctuary Square Backplate Finish: Oiled...\u001b[0m\n",
      "\u001b[91m98: Guess: $0.00 Truth: $284.34 Error: $284.34 SLE: 31.96 Item: Pelican Protector 1750 Long Case - Multi...\u001b[0m\n",
      "\u001b[91m99: Guess: $0.00 Truth: $171.90 Error: $171.90 SLE: 26.55 Item: Brock Replacement Driver and Passenger H...\u001b[0m\n",
      "\u001b[91m100: Guess: $0.00 Truth: $144.99 Error: $144.99 SLE: 24.84 Item: Carlinkit Ai Box Mini, Android 11, Multi...\u001b[0m\n",
      "\u001b[91m101: Guess: $0.00 Truth: $470.47 Error: $470.47 SLE: 37.89 Item: StarDot NetCamLIVE2 YouTube Live Stream ...\u001b[0m\n",
      "\u001b[93m102: Guess: $0.00 Truth: $66.95 Error: $66.95 SLE: 17.80 Item: Atomic Compatible FILXXCAR0016 16x25x5 M...\u001b[0m\n",
      "\u001b[91m103: Guess: $0.00 Truth: $117.00 Error: $117.00 SLE: 22.76 Item: Bandai Awakening of S. H. s.h.figuarts s...\u001b[0m\n",
      "\u001b[91m104: Guess: $0.00 Truth: $172.14 Error: $172.14 SLE: 26.56 Item: Fit System 62135G Passenger Side Towing ...\u001b[0m\n",
      "\u001b[91m105: Guess: $0.00 Truth: $392.74 Error: $392.74 SLE: 35.71 Item: Black Horse Black Aluminum Exceed Runnin...\u001b[0m\n",
      "\u001b[92m106: Guess: $0.00 Truth: $16.99 Error: $16.99 SLE: 8.35 Item: Dearsun Twinkle Star Color Night Light P...\u001b[0m\n",
      "\u001b[92m107: Guess: $0.00 Truth: $1.34 Error: $1.34 SLE: 0.72 Item: Pokemon - Gallade Spirit Link (83/108) -...\u001b[0m\n",
      "\u001b[91m108: Guess: $0.00 Truth: $349.98 Error: $349.98 SLE: 34.35 Item: Ibanez GA34STCE-NT GIO Series Classical ...\u001b[0m\n",
      "\u001b[91m109: Guess: $0.00 Truth: $370.71 Error: $370.71 SLE: 35.02 Item: Set 2 Heavy Duty 12-16.5 12x16.5 12 Ply ...\u001b[0m\n",
      "\u001b[93m110: Guess: $0.00 Truth: $65.88 Error: $65.88 SLE: 17.66 Item: Hairpin Table Legs 28\" Heavy Duty Hairpi...\u001b[0m\n",
      "\u001b[91m111: Guess: $0.00 Truth: $229.99 Error: $229.99 SLE: 29.62 Item: Marada Racing Seat with Adjustable Slide...\u001b[0m\n",
      "\u001b[92m112: Guess: $0.00 Truth: $9.14 Error: $9.14 SLE: 5.37 Item: Remington Industries 24UL1007STRWHI25 24...\u001b[0m\n",
      "\u001b[91m113: Guess: $0.00 Truth: $199.00 Error: $199.00 SLE: 28.07 Item: Acer S3-391-6046 13.3-inch Ultrabook, In...\u001b[0m\n",
      "\u001b[91m114: Guess: $0.00 Truth: $109.99 Error: $109.99 SLE: 22.18 Item: ICBEAMER 7\" RGB LED Headlights Bulb Halo...\u001b[0m\n",
      "\u001b[91m115: Guess: $0.00 Truth: $570.42 Error: $570.42 SLE: 40.30 Item: R1 Concepts Front Rear Brakes and Rotors...\u001b[0m\n",
      "\u001b[91m116: Guess: $0.00 Truth: $279.99 Error: $279.99 SLE: 31.79 Item: Camplux 2.64 GPM Tankless , Outdoor Port...\u001b[0m\n",
      "\u001b[92m117: Guess: $0.00 Truth: $30.99 Error: $30.99 SLE: 12.01 Item: KNOKLOCK 10 Pack 3.75 Inch(96mm) Kitchen...\u001b[0m\n",
      "\u001b[92m118: Guess: $0.00 Truth: $31.99 Error: $31.99 SLE: 12.22 Item: Valley Enterprises Yaesu USB FTDI CT-62 ...\u001b[0m\n",
      "\u001b[92m119: Guess: $0.00 Truth: $15.90 Error: $15.90 SLE: 7.99 Item: G9 LED Light Bulbs，8W，75W 100W replaceme...\u001b[0m\n",
      "\u001b[93m120: Guess: $0.00 Truth: $45.99 Error: $45.99 SLE: 14.82 Item: ZCHAOZ 4 Lights Antique White Farmhouse ...\u001b[0m\n",
      "\u001b[91m121: Guess: $0.00 Truth: $113.52 Error: $113.52 SLE: 22.47 Item: Honeywell TH8320R1003 Honeywell VisionPr...\u001b[0m\n",
      "\u001b[91m122: Guess: $0.00 Truth: $516.99 Error: $516.99 SLE: 39.06 Item: Patriot Exhaust H8013-1 1-7/8\" Clippster...\u001b[0m\n",
      "\u001b[91m123: Guess: $0.00 Truth: $196.99 Error: $196.99 SLE: 27.97 Item: Fitrite Autopart New Front Left Driver S...\u001b[0m\n",
      "\u001b[93m124: Guess: $0.00 Truth: $46.55 Error: $46.55 SLE: 14.91 Item: Technical Precision Replacement for GE G...\u001b[0m\n",
      "\u001b[91m125: Guess: $0.00 Truth: $356.99 Error: $356.99 SLE: 34.58 Item: Covercraft Carhartt SeatSaver Front Row ...\u001b[0m\n",
      "\u001b[91m126: Guess: $0.00 Truth: $319.95 Error: $319.95 SLE: 33.31 Item: Sennheiser SD Pro 2 (506008) - Double-Si...\u001b[0m\n",
      "\u001b[91m127: Guess: $0.00 Truth: $96.06 Error: $96.06 SLE: 20.93 Item: Hitachi MAF0110 Mass Air Flow Sensor\u001b[0m\n",
      "\u001b[91m128: Guess: $0.00 Truth: $190.99 Error: $190.99 SLE: 27.64 Item: AmScope SE305R-P-LED-PS36A 10X-30X LED C...\u001b[0m\n",
      "\u001b[91m129: Guess: $0.00 Truth: $257.95 Error: $257.95 SLE: 30.88 Item: Front Left Driver Side Window Regulator ...\u001b[0m\n",
      "\u001b[93m130: Guess: $0.00 Truth: $62.95 Error: $62.95 SLE: 17.29 Item: Premium Replica Hubcap Set, Fits Nissan ...\u001b[0m\n",
      "\u001b[93m131: Guess: $0.00 Truth: $47.66 Error: $47.66 SLE: 15.09 Item: Excellerations Phonics Spelling Game for...\u001b[0m\n",
      "\u001b[91m132: Guess: $0.00 Truth: $226.99 Error: $226.99 SLE: 29.48 Item: RC4WD BigDog Dual Axle Scale Car/Truck T...\u001b[0m\n",
      "\u001b[91m133: Guess: $0.00 Truth: $359.95 Error: $359.95 SLE: 34.68 Item: Unknown Stage 2 Clutch Kit - Low Altitud...\u001b[0m\n",
      "\u001b[93m134: Guess: $0.00 Truth: $78.40 Error: $78.40 SLE: 19.14 Item: 2002-2008 Dodge Ram 1500 Mopar 4X4 Emble...\u001b[0m\n",
      "\u001b[91m135: Guess: $0.00 Truth: $172.77 Error: $172.77 SLE: 26.60 Item: Pro Comp Alloys Series 89 Wheel with Pol...\u001b[0m\n",
      "\u001b[91m136: Guess: $0.00 Truth: $316.45 Error: $316.45 SLE: 33.18 Item: Detroit Axle - Front Rear Strut & Coil S...\u001b[0m\n",
      "\u001b[91m137: Guess: $0.00 Truth: $87.99 Error: $87.99 SLE: 20.15 Item: ECCPP Rear Wheel Axle Replacement fit fo...\u001b[0m\n",
      "\u001b[91m138: Guess: $0.00 Truth: $226.63 Error: $226.63 SLE: 29.46 Item: Dell Latitude E6520 Intel i7-2720QM 2.20...\u001b[0m\n",
      "\u001b[92m139: Guess: $0.00 Truth: $31.49 Error: $31.49 SLE: 12.12 Item: F FIERCE CYCLE 251pcs Black Universal Mo...\u001b[0m\n",
      "\u001b[91m140: Guess: $0.00 Truth: $196.00 Error: $196.00 SLE: 27.91 Item: Flash Furniture 4 Pk. HERCULES Series 88...\u001b[0m\n",
      "\u001b[93m141: Guess: $0.00 Truth: $78.40 Error: $78.40 SLE: 19.14 Item: B&M 30287 Throttle Valve/Kickdown Cable,...\u001b[0m\n",
      "\u001b[91m142: Guess: $0.00 Truth: $116.25 Error: $116.25 SLE: 22.70 Item: Gates TCK226 PowerGrip Premium Timing Be...\u001b[0m\n",
      "\u001b[91m143: Guess: $0.00 Truth: $112.78 Error: $112.78 SLE: 22.41 Item: Monroe Shocks & Struts Quick-Strut 17149...\u001b[0m\n",
      "\u001b[92m144: Guess: $0.00 Truth: $27.32 Error: $27.32 SLE: 11.18 Item: Feit Electric BPMR16/GU10/930CA/6 35W EQ...\u001b[0m\n",
      "\u001b[91m145: Guess: $0.00 Truth: $145.91 Error: $145.91 SLE: 24.90 Item: Yellow Jacket 2806 Contractor Extension ...\u001b[0m\n",
      "\u001b[91m146: Guess: $0.00 Truth: $171.09 Error: $171.09 SLE: 26.50 Item: Garage-Pro Tailgate SET Compatible with ...\u001b[0m\n",
      "\u001b[91m147: Guess: $0.00 Truth: $167.95 Error: $167.95 SLE: 26.31 Item: 3M Perfect It Buffing and Polishing Kit ...\u001b[0m\n",
      "\u001b[92m148: Guess: $0.00 Truth: $28.49 Error: $28.49 SLE: 11.45 Item: Chinese Style Dollhouse Model DIY Miniat...\u001b[0m\n",
      "\u001b[91m149: Guess: $0.00 Truth: $122.23 Error: $122.23 SLE: 23.18 Item: Generic NRG Innovations SRK-161H Steerin...\u001b[0m\n",
      "\u001b[92m150: Guess: $0.00 Truth: $32.99 Error: $32.99 SLE: 12.43 Item: Learning Resources Coding Critters Range...\u001b[0m\n",
      "\u001b[93m151: Guess: $0.00 Truth: $71.20 Error: $71.20 SLE: 18.31 Item: Bosch Automotive 15463 Oxygen Sensor, OE...\u001b[0m\n",
      "\u001b[91m152: Guess: $0.00 Truth: $112.75 Error: $112.75 SLE: 22.41 Item: Case of 24-2 Inch Blue Painters Tape - 6...\u001b[0m\n",
      "\u001b[91m153: Guess: $0.00 Truth: $142.43 Error: $142.43 SLE: 24.66 Item: MOCA Engine Water Pump & Fan Clutch fit ...\u001b[0m\n",
      "\u001b[91m154: Guess: $0.00 Truth: $398.99 Error: $398.99 SLE: 35.90 Item: SAREMAS Foot Step Bars for Hyundai Palis...\u001b[0m\n",
      "\u001b[91m155: Guess: $0.00 Truth: $449.00 Error: $449.00 SLE: 37.32 Item: Gretsch G9210 Square Neck Boxcar Mahogan...\u001b[0m\n",
      "\u001b[91m156: Guess: $0.00 Truth: $189.00 Error: $189.00 SLE: 27.53 Item: NikoMaku Mirror Dash Cam Front and Rear ...\u001b[0m\n",
      "\u001b[91m157: Guess: $0.00 Truth: $120.91 Error: $120.91 SLE: 23.07 Item: Fenix HP25R v2.0 USB-C Rechargeable Head...\u001b[0m\n",
      "\u001b[91m158: Guess: $0.00 Truth: $203.53 Error: $203.53 SLE: 28.31 Item: R&L Racing Heavy Duty Roll-Up Soft Tonne...\u001b[0m\n",
      "\u001b[91m159: Guess: $0.00 Truth: $349.99 Error: $349.99 SLE: 34.35 Item: Garmin 010-02258-10 GPSMAP 64sx, Handhel...\u001b[0m\n",
      "\u001b[92m160: Guess: $0.00 Truth: $34.35 Error: $34.35 SLE: 12.71 Item: Brown 5-7/8\" X 8-1/2\" X 3/16\" Thick Heav...\u001b[0m\n",
      "\u001b[91m161: Guess: $0.00 Truth: $384.99 Error: $384.99 SLE: 35.47 Item: GAOMON PD2200 Pen Display & 20 Pen Nibs ...\u001b[0m\n",
      "\u001b[91m162: Guess: $0.00 Truth: $211.00 Error: $211.00 SLE: 28.69 Item: VXMOTOR for 97-03 Ford F150/F250 Lightdu...\u001b[0m\n",
      "\u001b[91m163: Guess: $0.00 Truth: $129.00 Error: $129.00 SLE: 23.69 Item: HP EliteBook 2540p Intel Core i7-640LM X...\u001b[0m\n",
      "\u001b[91m164: Guess: $0.00 Truth: $111.45 Error: $111.45 SLE: 22.30 Item: Green EPX Mixing Nozzles 100-Pack-fits 3...\u001b[0m\n",
      "\u001b[91m165: Guess: $0.00 Truth: $81.12 Error: $81.12 SLE: 19.43 Item: Box Partners 6 1/4 x 3 1/8\" 13 Pt. Manil...\u001b[0m\n",
      "\u001b[91m166: Guess: $0.00 Truth: $457.08 Error: $457.08 SLE: 37.54 Item: Vixen Air 1/2\" NPT Air Ride Suspension H...\u001b[0m\n",
      "\u001b[93m167: Guess: $0.00 Truth: $49.49 Error: $49.49 SLE: 15.38 Item: Smart Floor Lamp, 2700-6500K+RGBPink Mul...\u001b[0m\n",
      "\u001b[91m168: Guess: $0.00 Truth: $80.56 Error: $80.56 SLE: 19.37 Item: SOZG 324mm Wheelbase Body Shell RC Car B...\u001b[0m\n",
      "\u001b[91m169: Guess: $0.00 Truth: $278.39 Error: $278.39 SLE: 31.73 Item: Mickey Thompson ET Street S/S Racing Rad...\u001b[0m\n",
      "\u001b[91m170: Guess: $0.00 Truth: $364.50 Error: $364.50 SLE: 34.82 Item: Pirelli 275/40R20 106W XL RFT P0 PZ4-LUX...\u001b[0m\n",
      "\u001b[91m171: Guess: $0.00 Truth: $378.99 Error: $378.99 SLE: 35.29 Item: Torklift C3212 Rear Tie Down\u001b[0m\n",
      "\u001b[91m172: Guess: $0.00 Truth: $165.28 Error: $165.28 SLE: 26.15 Item: Cardone 78-4226 Remanufactured Ford Comp...\u001b[0m\n",
      "\u001b[93m173: Guess: $0.00 Truth: $56.74 Error: $56.74 SLE: 16.45 Item: Kidde AccessPoint 001798 Supra TouchPoin...\u001b[0m\n",
      "\u001b[91m174: Guess: $0.00 Truth: $307.95 Error: $307.95 SLE: 32.87 Item: 3M Protecta 3100414 Self Retracting Life...\u001b[0m\n",
      "\u001b[92m175: Guess: $0.00 Truth: $38.00 Error: $38.00 SLE: 13.42 Item: Plantronics 89435-01 Wired Headset, Blac...\u001b[0m\n",
      "\u001b[93m176: Guess: $0.00 Truth: $53.00 Error: $53.00 SLE: 15.91 Item: Logitech K750 Wireless Solar Keyboard fo...\u001b[0m\n",
      "\u001b[91m177: Guess: $0.00 Truth: $498.00 Error: $498.00 SLE: 38.60 Item: Olympus PEN E-PL9 Body Only with 3-Inch ...\u001b[0m\n",
      "\u001b[93m178: Guess: $0.00 Truth: $53.99 Error: $53.99 SLE: 16.06 Item: Beck/Arnley 051-6066 Hub & Bearing Assem...\u001b[0m\n",
      "\u001b[91m179: Guess: $0.00 Truth: $350.00 Error: $350.00 SLE: 34.35 Item: Eibach Pro-Kit Performance Springs E10-6...\u001b[0m\n",
      "\u001b[91m180: Guess: $0.00 Truth: $299.95 Error: $299.95 SLE: 32.57 Item: LEGO DC Batman 1989 Batwing 76161 Displa...\u001b[0m\n",
      "\u001b[91m181: Guess: $0.00 Truth: $94.93 Error: $94.93 SLE: 20.83 Item: Kingston Brass KS3608PL Restoration 4-In...\u001b[0m\n",
      "\u001b[91m182: Guess: $0.00 Truth: $379.00 Error: $379.00 SLE: 35.29 Item: Polk Vanishing Series 265-LS In-Wall 3-W...\u001b[0m\n",
      "\u001b[91m183: Guess: $0.00 Truth: $299.95 Error: $299.95 SLE: 32.57 Item: Spec-D Tuning LED Projector Headlights G...\u001b[0m\n",
      "\u001b[92m184: Guess: $0.00 Truth: $24.99 Error: $24.99 SLE: 10.61 Item: RICHMOND & FINCH Airpod Pro Case, Green ...\u001b[0m\n",
      "\u001b[93m185: Guess: $0.00 Truth: $41.04 Error: $41.04 SLE: 13.98 Item: LFA Industries 43B-5A-33JT 1/16-1/2-1.5-...\u001b[0m\n",
      "\u001b[91m186: Guess: $0.00 Truth: $327.90 Error: $327.90 SLE: 33.59 Item: SAUTVS LED Headlight Assembly for Slings...\u001b[0m\n",
      "\u001b[92m187: Guess: $0.00 Truth: $10.99 Error: $10.99 SLE: 6.17 Item: 2 Pack Combo Womens Safety Glasses Impac...\u001b[0m\n",
      "\u001b[92m188: Guess: $0.00 Truth: $14.99 Error: $14.99 SLE: 7.68 Item: Arepa - Venezuelan cuisine - Venezuela P...\u001b[0m\n",
      "\u001b[91m189: Guess: $0.00 Truth: $84.95 Error: $84.95 SLE: 19.84 Item: Schlage Lock Company KS23D2300 Padlock, ...\u001b[0m\n",
      "\u001b[91m190: Guess: $0.00 Truth: $111.00 Error: $111.00 SLE: 22.26 Item: Techni Mobili White Sit to Stand Mobile ...\u001b[0m\n",
      "\u001b[91m191: Guess: $0.00 Truth: $123.73 Error: $123.73 SLE: 23.29 Item: Special Lite Products Contemporary Wall ...\u001b[0m\n",
      "\u001b[91m192: Guess: $0.00 Truth: $557.38 Error: $557.38 SLE: 40.01 Item: Tascam DP-24SD 24-Track Digital Portastu...\u001b[0m\n",
      "\u001b[91m193: Guess: $0.00 Truth: $95.55 Error: $95.55 SLE: 20.89 Item: Glow Lighting 636CC10SP Vista Crystal Fl...\u001b[0m\n",
      "\u001b[91m194: Guess: $0.00 Truth: $154.00 Error: $154.00 SLE: 25.44 Item: Z3 Wind Deflector, Smoke Tint, Lexan, Wi...\u001b[0m\n",
      "\u001b[91m195: Guess: $0.00 Truth: $198.99 Error: $198.99 SLE: 28.07 Item: Olympus E-20 5MP Digital Camera w/ 4x Op...\u001b[0m\n",
      "\u001b[91m196: Guess: $0.00 Truth: $430.44 Error: $430.44 SLE: 36.81 Item: PHYNEDI 1:1000 World Trade Center (1973-...\u001b[0m\n",
      "\u001b[93m197: Guess: $0.00 Truth: $45.67 Error: $45.67 SLE: 14.77 Item: YANGHUAN Unstable Unicorns Adventure Car...\u001b[0m\n",
      "\u001b[91m198: Guess: $0.00 Truth: $249.00 Error: $249.00 SLE: 30.49 Item: Interlogix NX-1820E NetworX Touch Screen...\u001b[0m\n",
      "\u001b[93m199: Guess: $0.00 Truth: $42.99 Error: $42.99 SLE: 14.32 Item: Steering Damper,Universal Motorcycle Han...\u001b[0m\n",
      "\u001b[91m200: Guess: $0.00 Truth: $181.33 Error: $181.33 SLE: 27.10 Item: Amprobe TIC 410A Hot Stick Attachment\u001b[0m\n",
      "\u001b[92m201: Guess: $0.00 Truth: $6.03 Error: $6.03 SLE: 3.80 Item: MyCableMart 3.5mm Plug/Jack, 4 Conductor...\u001b[0m\n",
      "\u001b[92m202: Guess: $0.00 Truth: $29.99 Error: $29.99 SLE: 11.79 Item: OtterBox + Pop Symmetry Series Case for ...\u001b[0m\n",
      "\u001b[91m203: Guess: $0.00 Truth: $899.00 Error: $899.00 SLE: 46.27 Item: Dell XPS X8700-1572BLK Desktop ( Intel C...\u001b[0m\n",
      "\u001b[91m204: Guess: $0.00 Truth: $399.99 Error: $399.99 SLE: 35.93 Item: Franklin Iron Works Sperry Industrial Br...\u001b[0m\n",
      "\u001b[92m205: Guess: $0.00 Truth: $4.66 Error: $4.66 SLE: 3.00 Item: Avery Legal Dividers, Standard Collated ...\u001b[0m\n",
      "\u001b[91m206: Guess: $0.00 Truth: $261.41 Error: $261.41 SLE: 31.02 Item: Moen 8346 Commercial Posi-Temp Pressure ...\u001b[0m\n",
      "\u001b[91m207: Guess: $0.00 Truth: $136.97 Error: $136.97 SLE: 24.28 Item: Carlisle Versa Trail ATR All Terrain Rad...\u001b[0m\n",
      "\u001b[93m208: Guess: $0.00 Truth: $79.00 Error: $79.00 SLE: 19.20 Item: SUNWAYFOTO 44mm Tripod Ball Head Arca Co...\u001b[0m\n",
      "\u001b[91m209: Guess: $0.00 Truth: $444.99 Error: $444.99 SLE: 37.21 Item: NanoBeam AC NBE-5AC-Gen2-US 4 Units 5GHz...\u001b[0m\n",
      "\u001b[91m210: Guess: $0.00 Truth: $411.94 Error: $411.94 SLE: 36.28 Item: WULF 4\" Front 2\" Rear Leveling Lift Kit ...\u001b[0m\n",
      "\u001b[91m211: Guess: $0.00 Truth: $148.40 Error: $148.40 SLE: 25.07 Item: Alera ALEVABFMC Valencia Series Mobile B...\u001b[0m\n",
      "\u001b[91m212: Guess: $0.00 Truth: $244.99 Error: $244.99 SLE: 30.31 Item: YU-GI-OH! Ignition Assault Booster Box\u001b[0m\n",
      "\u001b[91m213: Guess: $0.00 Truth: $86.50 Error: $86.50 SLE: 20.00 Item: 48\" x 36\" Extra-Large Framed Magnetic Bl...\u001b[0m\n",
      "\u001b[91m214: Guess: $0.00 Truth: $297.95 Error: $297.95 SLE: 32.49 Item: Dell Latitude D620 Renewed Notebook PC\u001b[0m\n",
      "\u001b[91m215: Guess: $0.00 Truth: $399.99 Error: $399.99 SLE: 35.93 Item: acer Aspire 5 Laptop, AMD Ryzen 3 5300U ...\u001b[0m\n",
      "\u001b[91m216: Guess: $0.00 Truth: $599.00 Error: $599.00 SLE: 40.92 Item: Elk 31080/6RC-GRN 30 by 6-Inch Viva 6-Li...\u001b[0m\n",
      "\u001b[91m217: Guess: $0.00 Truth: $105.99 Error: $105.99 SLE: 21.83 Item: Barbie Top Model Doll\u001b[0m\n",
      "\u001b[91m218: Guess: $0.00 Truth: $689.00 Error: $689.00 SLE: 42.73 Item: Danby Designer 20-In. Electric Range wit...\u001b[0m\n",
      "\u001b[91m219: Guess: $0.00 Truth: $404.99 Error: $404.99 SLE: 36.08 Item: FixtureDisplays® Metal Truss Podium Doub...\u001b[0m\n",
      "\u001b[91m220: Guess: $0.00 Truth: $207.76 Error: $207.76 SLE: 28.53 Item: ACDelco 13597235 GM Original Equipment A...\u001b[0m\n",
      "\u001b[91m221: Guess: $0.00 Truth: $171.82 Error: $171.82 SLE: 26.55 Item: EBC S1KF1135 Stage-1 Premium Street Brak...\u001b[0m\n",
      "\u001b[91m222: Guess: $0.00 Truth: $293.24 Error: $293.24 SLE: 32.31 Item: FXR Men's Boost FX Jacket (Black/Orange/...\u001b[0m\n",
      "\u001b[91m223: Guess: $0.00 Truth: $374.95 Error: $374.95 SLE: 35.16 Item: SuperATV Scratch Resistant 3-in-1 Flip W...\u001b[0m\n",
      "\u001b[91m224: Guess: $0.00 Truth: $111.99 Error: $111.99 SLE: 22.35 Item: SBU 3 Layer All Weather Mini Van Car Cov...\u001b[0m\n",
      "\u001b[93m225: Guess: $0.00 Truth: $42.99 Error: $42.99 SLE: 14.32 Item: 2 Pack Outdoor Brochure Holder Advertisi...\u001b[0m\n",
      "\u001b[91m226: Guess: $0.00 Truth: $116.71 Error: $116.71 SLE: 22.74 Item: Monroe Shocks & Struts Quick-Strut 17158...\u001b[0m\n",
      "\u001b[91m227: Guess: $0.00 Truth: $118.61 Error: $118.61 SLE: 22.89 Item: Elements of Design Magellan EB235AL Thre...\u001b[0m\n",
      "\u001b[91m228: Guess: $0.00 Truth: $147.12 Error: $147.12 SLE: 24.98 Item: GM Genuine Parts 15-62961 Air Conditioni...\u001b[0m\n",
      "\u001b[91m229: Guess: $0.00 Truth: $119.99 Error: $119.99 SLE: 23.00 Item: Baseus 17-in-1 USB C Docking Station to ...\u001b[0m\n",
      "\u001b[91m230: Guess: $0.00 Truth: $369.98 Error: $369.98 SLE: 35.00 Item: Whitehall™ Personalized Whitehall Capito...\u001b[0m\n",
      "\u001b[91m231: Guess: $0.00 Truth: $315.55 Error: $315.55 SLE: 33.15 Item: Pro Circuit Works Pipe PY05250 for 02-19...\u001b[0m\n",
      "\u001b[91m232: Guess: $0.00 Truth: $190.99 Error: $190.99 SLE: 27.64 Item: HYANKA 15 \"1200W Professional DJ Speaker...\u001b[0m\n",
      "\u001b[91m233: Guess: $0.00 Truth: $155.00 Error: $155.00 SLE: 25.50 Item: Bluetooth X6BT Card Reader Writer Encode...\u001b[0m\n",
      "\u001b[91m234: Guess: $0.00 Truth: $349.99 Error: $349.99 SLE: 34.35 Item: AIRAID Cold Air Intake System by K&N: In...\u001b[0m\n",
      "\u001b[91m235: Guess: $0.00 Truth: $249.99 Error: $249.99 SLE: 30.53 Item: Bostingner Shower Faucets Sets Complete,...\u001b[0m\n",
      "\u001b[93m236: Guess: $0.00 Truth: $42.99 Error: $42.99 SLE: 14.32 Item: PIT66 Front Bumper Turn Signal Lights, C...\u001b[0m\n",
      "\u001b[92m237: Guess: $0.00 Truth: $17.99 Error: $17.99 SLE: 8.67 Item: Caseology Bumpy Compatible with Google P...\u001b[0m\n",
      "\u001b[91m238: Guess: $0.00 Truth: $425.00 Error: $425.00 SLE: 36.66 Item: Fleck 2510 Timer Mechanical Filter Contr...\u001b[0m\n",
      "\u001b[91m239: Guess: $0.00 Truth: $249.99 Error: $249.99 SLE: 30.53 Item: Haloview MC7108 Wireless RV Backup Camer...\u001b[0m\n",
      "\u001b[91m240: Guess: $0.00 Truth: $138.23 Error: $138.23 SLE: 24.37 Item: Schmidt Spiele - Manhattan\u001b[0m\n",
      "\u001b[91m241: Guess: $0.00 Truth: $414.99 Error: $414.99 SLE: 36.37 Item: Corsa 14333 Tip Kit (Ford Mustang GT)\u001b[0m\n",
      "\u001b[91m242: Guess: $0.00 Truth: $168.28 Error: $168.28 SLE: 26.33 Item: Hoshizaki FM116A Fan Motor Kit 1\u001b[0m\n",
      "\u001b[91m243: Guess: $0.00 Truth: $199.99 Error: $199.99 SLE: 28.12 Item: BAINUO Antler Chandelier Lighting,6 Ligh...\u001b[0m\n",
      "\u001b[91m244: Guess: $0.00 Truth: $126.70 Error: $126.70 SLE: 23.52 Item: DNA MOTORING HL-OH-FEXP06-SM-AM Smoke Le...\u001b[0m\n",
      "\u001b[92m245: Guess: $0.00 Truth: $5.91 Error: $5.91 SLE: 3.74 Item: Wera Stainless 3840/1 TS 2.5mm Hex Inser...\u001b[0m\n",
      "\u001b[91m246: Guess: $0.00 Truth: $193.06 Error: $193.06 SLE: 27.75 Item: Celestron - PowerSeeker 127EQ Telescope ...\u001b[0m\n",
      "\u001b[91m247: Guess: $0.00 Truth: $249.99 Error: $249.99 SLE: 30.53 Item: NHOPEEW 10.1inch Android Car Radio Carpl...\u001b[0m\n",
      "\u001b[93m248: Guess: $0.00 Truth: $64.12 Error: $64.12 SLE: 17.44 Item: Other Harmonica (Suzuki-2Timer24- A)\u001b[0m\n",
      "\u001b[91m249: Guess: $0.00 Truth: $114.99 Error: $114.99 SLE: 22.60 Item: Harley Air Filter Venturi Intake Air Cle...\u001b[0m\n",
      "\u001b[91m250: Guess: $0.00 Truth: $926.00 Error: $926.00 SLE: 46.68 Item: Elite Screens Edge Free Ambient Light Re...\u001b[0m\n"
     ]
    },
    {
     "data": {
      "image/png": "[encoded data removed]",
      "text/plain": [
       "<Figure size 1200x800 with 1 Axes>"
      ]
     },
     "metadata": {},
     "output_type": "display_data"
    }
   ],
   "source": [
    "Tester.test(human_pricer, test)"
   ]
  },
  {
   "cell_type": "code",
   "execution_count": 13,
   "id": "6a392870-6af9-4654-86ad-778527b1214b",
   "metadata": {},
   "outputs": [],
   "source": [
    "# First let's work on a good prompt for a Frontier model\n",
    "# Notice that I'm removing the \" to the nearest dollar\"\n",
    "# When we train our own models, we'll need to make the problem as easy as possible, \n",
    "# but a Frontier model needs no such simplification.\n",
    "\n",
    "def messages_for(item):\n",
    "    system_message = \"You estimate prices of items. Reply only with the price, no explanation\"\n",
    "    user_prompt = item.test_prompt().replace(\" to the nearest dollar\",\"\").replace(\"\\n\\nPrice is $\",\"\")\n",
    "    #user_prompt = item.test_prompt()\n",
    "    return [\n",
    "        {\"role\": \"system\", \"content\": system_message},\n",
    "        {\"role\": \"user\", \"content\": user_prompt},\n",
    "        {\"role\": \"assistant\", \"content\": \"Price is $\"}\n",
    "    ]"
   ]
  },
  {
   "cell_type": "code",
   "execution_count": 14,
   "id": "ead3768d-2bb6-4c56-b7f6-ed323a4834a6",
   "metadata": {},
   "outputs": [
    {
     "data": {
      "text/plain": [
       "[{'role': 'system',\n",
       "  'content': 'You estimate prices of items. Reply only with the price, no explanation'},\n",
       " {'role': 'user',\n",
       "  'content': \"How much does this cost?\\n\\nOEM AC Compressor w/A/C Repair Kit For Ford F150 F-150 V8 & Lincoln Mark LT 2007 2008 - BuyAutoParts NEW\\nAs one of the world's largest automotive parts suppliers, our parts are trusted every day by mechanics and vehicle owners worldwide. This A/C Compressor and Components Kit is manufactured and tested to the strictest OE standards for unparalleled performance. Built for trouble-free ownership and 100% visually inspected and quality tested, this A/C Compressor and Components Kit is backed by our 100% satisfaction guarantee. Guaranteed Exact Fit for easy installation 100% BRAND NEW, premium ISO/TS 16949 quality - tested to meet or exceed OEM specifications Engineered for superior durability, backed by industry-leading unlimited-mileage warranty Included in this K\"},\n",
       " {'role': 'assistant', 'content': 'Price is $'}]"
      ]
     },
     "execution_count": 14,
     "metadata": {},
     "output_type": "execute_result"
    }
   ],
   "source": [
    "messages_for(test[0])"
   ]
  },
  {
   "cell_type": "code",
   "execution_count": 15,
   "id": "0b0b9e00-7465-42a9-b943-932f886c8431",
   "metadata": {},
   "outputs": [],
   "source": [
    "# A utility function to extract the price from a string\n",
    "\n",
    "def get_price(s):\n",
    "    s = s.replace('$','').replace(',','')\n",
    "    match = re.search(r\"[-+]?\\d*\\.\\d+|\\d+\", s)\n",
    "    return float(match.group()) if match else 0"
   ]
  },
  {
   "cell_type": "code",
   "execution_count": 16,
   "id": "4a13e5b3-07ba-4162-bf1c-c68db63a17e7",
   "metadata": {},
   "outputs": [
    {
     "data": {
      "text/plain": [
       "99.99"
      ]
     },
     "execution_count": 16,
     "metadata": {},
     "output_type": "execute_result"
    }
   ],
   "source": [
    "get_price(\"The price is roughly $99.99 because blah blah\")"
   ]
  },
  {
   "cell_type": "code",
   "execution_count": 17,
   "id": "80ab6e10-d94c-4c84-acab-15ed1663a2fe",
   "metadata": {},
   "outputs": [],
   "source": [
    "# The function for gpt-4o-mini\n",
    "\n",
    "def gpt_4o_mini(item):\n",
    "    response = ollama.chat(\n",
    "        model=\"llama3.2:latest\", \n",
    "        messages=messages_for(item)\n",
    "        #seed=42,\n",
    "        #max_tokens=5\n",
    "    )\n",
    "    #reply = response.choices[0].message.content\n",
    "    reply = response['message']['content']\n",
    "    return get_price(reply)"
   ]
  },
  {
   "cell_type": "code",
   "execution_count": 18,
   "id": "cc3d55c0-ca14-4aec-84bc-c309e1c7de3d",
   "metadata": {},
   "outputs": [
    {
     "data": {
      "text/plain": [
       "374.41"
      ]
     },
     "execution_count": 18,
     "metadata": {},
     "output_type": "execute_result"
    }
   ],
   "source": [
    "test[0].price"
   ]
  },
  {
   "cell_type": "code",
   "execution_count": null,
   "id": "ec74460c-edd6-4f9b-a444-d103ebb14c92",
   "metadata": {},
   "outputs": [
    {
     "name": "stdout",
     "output_type": "stream",
     "text": [
      "\u001b[91m1: Guess: $129.99 Truth: $374.41 Error: $244.42 SLE: 1.11 Item: OEM AC Compressor w/A/C Repair Kit For F...\u001b[0m\n",
      "\u001b[91m2: Guess: $19.98 Truth: $225.11 Error: $205.13 SLE: 5.65 Item: Motorcraft YB3125 Fan Clutch\u001b[0m\n",
      "\u001b[92m3: Guess: $25.00 Truth: $61.68 Error: $36.68 SLE: 0.77 Item: Dorman 603-159 Front Washer Fluid Reserv...\u001b[0m\n",
      "\u001b[91m4: Guess: $269.99 Truth: $599.99 Error: $330.00 SLE: 0.63 Item: HP Premium 17.3-inch HD Plus Touchscreen...\u001b[0m\n",
      "\u001b[93m5: Guess: $75.00 Truth: $16.99 Error: $58.01 SLE: 2.08 Item: 5-Position Super Switch Pickup Selector ...\u001b[0m\n",
      "\u001b[92m6: Guess: $11.99 Truth: $31.99 Error: $20.00 SLE: 0.87 Item: Horror Bookmarks, Resin Horror Bookmarks...\u001b[0m\n",
      "\u001b[92m7: Guess: $69.99 Truth: $101.79 Error: $31.80 SLE: 0.14 Item: SK6241 - Stinger 4 Gauge 6000 Series Pow...\u001b[0m\n",
      "\u001b[92m8: Guess: $299.00 Truth: $289.00 Error: $10.00 SLE: 0.00 Item: Godox ML60Bi LED Light Kit, Handheld LED...\u001b[0m\n",
      "\u001b[91m9: Guess: $1,295.00 Truth: $635.86 Error: $659.14 SLE: 0.50 Item: Randall RG75DG3PLUS G3 Plus 100-Watt Com...\u001b[0m\n",
      "\u001b[93m10: Guess: $25.00 Truth: $65.99 Error: $40.99 SLE: 0.90 Item: HOLDWILL 6 Pack LED Shop Light, 4FT 24W ...\u001b[0m\n",
      "\u001b[91m11: Guess: $599.95 Truth: $254.21 Error: $345.74 SLE: 0.73 Item: Viking Horns V103C/1005ATK 3 Gallon Air ...\u001b[0m\n",
      "\u001b[91m12: Guess: $99.95 Truth: $412.99 Error: $313.04 SLE: 1.99 Item: CURT 70110 Custom Tow Bar Base Plate Bra...\u001b[0m\n",
      "\u001b[93m13: Guess: $139.99 Truth: $205.50 Error: $65.51 SLE: 0.15 Item: 10-Pack Solar HAMMERED BRONZE Finish Pos...\u001b[0m\n",
      "\u001b[91m14: Guess: $143.00 Truth: $248.23 Error: $105.23 SLE: 0.30 Item: COSTWAY Electric Tumble Dryer, Sliver\u001b[0m\n",
      "\u001b[92m15: Guess: $329.00 Truth: $399.00 Error: $70.00 SLE: 0.04 Item: FREE SIGNAL TV Transit 32\" 12 Volt DC Po...\u001b[0m\n",
      "\u001b[91m16: Guess: $1,149.99 Truth: $373.94 Error: $776.05 SLE: 1.26 Item: Bilstein 5100 Monotube Gas Shock Set com...\u001b[0m\n",
      "\u001b[92m17: Guess: $129.99 Truth: $92.89 Error: $37.10 SLE: 0.11 Item: Sangean K-200 Multi-Function Upright AM/...\u001b[0m\n",
      "\u001b[93m18: Guess: $99.00 Truth: $51.99 Error: $47.01 SLE: 0.40 Item: Charles Leonard Magnetic Lapboard Class ...\u001b[0m\n",
      "\u001b[93m19: Guess: $229.00 Truth: $179.00 Error: $50.00 SLE: 0.06 Item: Gigabyte AMD Radeon HD 7870 2 GB GDDR5 D...\u001b[0m\n",
      "\u001b[92m20: Guess: $24.99 Truth: $19.42 Error: $5.57 SLE: 0.06 Item: 3dRose LLC 8 x 8 x 0.25 Inches Bull Terr...\u001b[0m\n",
      "\u001b[93m21: Guess: $699.00 Truth: $539.95 Error: $159.05 SLE: 0.07 Item: ROKINON 85mm F1.4 Auto Focus Full Frame ...\u001b[0m\n",
      "\u001b[92m22: Guess: $109.00 Truth: $147.67 Error: $38.67 SLE: 0.09 Item: AUTOSAVER88 Headlight Assembly Compatibl...\u001b[0m\n",
      "\u001b[92m23: Guess: $12.99 Truth: $24.99 Error: $12.00 SLE: 0.38 Item: ASI NAUTICAL 2.5 Inches Opera Glasses Bi...\u001b[0m\n",
      "\u001b[92m24: Guess: $169.99 Truth: $149.00 Error: $20.99 SLE: 0.02 Item: Behringer TUBE OVERDRIVE TO100 Authentic...\u001b[0m\n",
      "\u001b[92m25: Guess: $7.00 Truth: $16.99 Error: $9.99 SLE: 0.66 Item: Fun Express Insect Finger Puppets - 24 f...\u001b[0m\n",
      "\u001b[92m26: Guess: $8.99 Truth: $7.99 Error: $1.00 SLE: 0.01 Item: WAFJAMF Roller Stamp Identity Theft Stam...\u001b[0m\n",
      "\u001b[91m27: Guess: $395.00 Truth: $199.99 Error: $195.01 SLE: 0.46 Item: Capulina Tiffany Floor Lamp 2-Light 16\" ...\u001b[0m\n"
     ]
    }
   ],
   "source": [
    "Tester.test(gpt_4o_mini, test)"
   ]
  },
  {
   "cell_type": "code",
   "execution_count": null,
   "id": "0628b167-e465-4b19-84ec-b79de3b3b6c4",
   "metadata": {},
   "outputs": [],
   "source": [
    "# The function for ollama's deepseek-r1:1.5b\n",
    "\n",
    "def ollama_deepseek(item):\n",
    "    response = ollama.chat(\n",
    "        model=\"deepseek-r1:1.5b\", \n",
    "        messages=messages_for(item)\n",
    "        #seed=42,\n",
    "        #max_tokens=5\n",
    "    )\n",
    "    #reply = response.choices[0].message.content\n",
    "    reply = response['message']['content']\n",
    "    return get_price(reply)"
   ]
  },
  {
   "cell_type": "code",
   "execution_count": null,
   "id": "d4149c52-6711-44a8-8e60-b3802fa3822c",
   "metadata": {},
   "outputs": [],
   "source": [
    "test[0].price"
   ]
  },
  {
   "cell_type": "code",
   "execution_count": null,
   "id": "d00c5d1a-6b7e-44dd-8da1-ae73b5f8b25a",
   "metadata": {},
   "outputs": [],
   "source": [
    "Tester.test(ollama_deepseek, test)"
   ]
  },
  {
   "cell_type": "code",
   "execution_count": null,
   "id": "f9c3d642-b472-4e1a-8286-2f19badaa91d",
   "metadata": {},
   "outputs": [],
   "source": []
  }
 ],
 "metadata": {
  "kernelspec": {
   "display_name": "Python 3 (ipykernel)",
   "language": "python",
   "name": "python3"
  },
  "language_info": {
   "codemirror_mode": {
    "name": "ipython",
    "version": 3
   },
   "file_extension": ".py",
   "mimetype": "text/x-python",
   "name": "python",
   "nbconvert_exporter": "python",
   "pygments_lexer": "ipython3",
   "version": "3.11.12"
  }
 },
 "nbformat": 4,
 "nbformat_minor": 5
}
