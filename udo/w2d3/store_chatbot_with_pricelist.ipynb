{
 "cells": [
  {
   "cell_type": "code",
   "execution_count": null,
   "id": "bacb12b8-592a-4515-9e27-e439f88c324b",
   "metadata": {},
   "outputs": [],
   "source": [
    "import os\n",
    "from dotenv import load_dotenv\n",
    "from openai import OpenAI\n",
    "import gradio as gr\n",
    "import re"
   ]
  },
  {
   "cell_type": "code",
   "execution_count": null,
   "id": "3fd0515a-b126-49dc-8bd1-3085cca7f93f",
   "metadata": {},
   "outputs": [],
   "source": [
    "load_dotenv()\n",
    "openai_api_key = os.getenv('OPENAI_API_KEY')"
   ]
  },
  {
   "cell_type": "code",
   "execution_count": null,
   "id": "52dde4d9-c77b-4f4e-9cf6-2630d3ac743a",
   "metadata": {},
   "outputs": [],
   "source": [
    "openai = OpenAI()\n",
    "MODEL = 'gpt-4o-mini'"
   ]
  },
  {
   "cell_type": "code",
   "execution_count": null,
   "id": "f75ac2d7-c102-462e-b6bd-687f662f25e3",
   "metadata": {},
   "outputs": [],
   "source": [
    "sys_msg = \"You are an articulate, curteous, lovable clerk in a store that sells clothing.\"\n",
    "products = {\n",
    "    r\"\\b[Bb]elts?\\b\": [\"belts\", 25.99],\n",
    "    r\"\\b[Ss]hoes?|[Ff]ootwear|[Kk]icks\\b\": [\"footwear\", 49.99],\n",
    "    r\"\\b[Tt]ies?\\b\": [\"ties\", 23.00]\n",
    "}"
   ]
  },
  {
   "cell_type": "code",
   "execution_count": null,
   "id": "050a4188-a5a6-47b4-bf02-2e391eb46097",
   "metadata": {},
   "outputs": [],
   "source": [
    "def chat(message, history):\n",
    "\n",
    "    relevant_system_message = sys_msg\n",
    "    for product in products:\n",
    "        if re.search(product, message):\n",
    "            relevant_system_message += f\"\\nThe store does have {products[product][0]}, they only cost ${products[product][1]} today!\"\n",
    "    \n",
    "    messages = [{\"role\": \"system\", \"content\": relevant_system_message}] + history + [{\"role\": \"user\", \"content\": message}]\n",
    "\n",
    "    stream = openai.chat.completions.create(model=MODEL, messages=messages, stream=True)\n",
    "\n",
    "    response = \"\"\n",
    "    for chunk in stream:\n",
    "        response += chunk.choices[0].delta.content or ''\n",
    "        yield response"
   ]
  },
  {
   "cell_type": "code",
   "execution_count": null,
   "id": "494ad214-4e95-4d78-b56a-f87c34fe6442",
   "metadata": {},
   "outputs": [],
   "source": [
    "sys_msg += \"\\nIf the customer asks for hats, you should respond that hats are currently sold out, \\\n",
    "because they were so popular. We'll restock within a couple weeks.\""
   ]
  },
  {
   "cell_type": "code",
   "execution_count": null,
   "id": "e0e14baf-7842-4404-8e49-dda703157512",
   "metadata": {},
   "outputs": [],
   "source": [
    "gr.ChatInterface(fn=chat, type=\"messages\").launch()"
   ]
  }
 ],
 "metadata": {
  "kernelspec": {
   "display_name": "Python 3 (ipykernel)",
   "language": "python",
   "name": "python3"
  },
  "language_info": {
   "codemirror_mode": {
    "name": "ipython",
    "version": 3
   },
   "file_extension": ".py",
   "mimetype": "text/x-python",
   "name": "python",
   "nbconvert_exporter": "python",
   "pygments_lexer": "ipython3",
   "version": "3.11.11"
  }
 },
 "nbformat": 4,
 "nbformat_minor": 5
}
