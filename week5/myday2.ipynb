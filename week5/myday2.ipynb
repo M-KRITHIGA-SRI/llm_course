{
 "cells": [
  {
   "cell_type": "markdown",
   "id": "dfe37963-1af6-44fc-a841-8e462443f5e6",
   "metadata": {},
   "source": [
    "## Expert Knowledge Worker\n",
    "\n",
    "### A question answering agent that is an expert knowledge worker\n",
    "### To be used by employees of Insurellm, an Insurance Tech company\n",
    "### The agent needs to be accurate and the solution should be low cost.\n",
    "\n",
    "This project will use RAG (Retrieval Augmented Generation) to ensure our question/answering assistant has high accuracy.\n",
    "\n",
    "### langchain\n",
    "\n",
    "* https://chatgpt.com/share/68338ab8-326c-8001-89ae-1859251b4dff"
   ]
  },
  {
   "cell_type": "code",
   "execution_count": 22,
   "id": "ba2779af-84ef-4227-9e9e-6eaf0df87e77",
   "metadata": {},
   "outputs": [],
   "source": [
    "# imports\n",
    "\n",
    "import os\n",
    "import glob\n",
    "from dotenv import load_dotenv\n",
    "import gradio as gr"
   ]
  },
  {
   "cell_type": "code",
   "execution_count": 23,
   "id": "802137aa-8a74-45e0-a487-d1974927d7ca",
   "metadata": {},
   "outputs": [],
   "source": [
    "# imports for langchain\n",
    "\n",
    "from langchain.document_loaders import DirectoryLoader, TextLoader\n",
    "from langchain.text_splitter import CharacterTextSplitter"
   ]
  },
  {
   "cell_type": "code",
   "execution_count": 24,
   "id": "58c85082-e417-4708-9efe-81a5d55d1424",
   "metadata": {},
   "outputs": [],
   "source": [
    "# price is a factor for our company, so we're going to use a low cost model\n",
    "\n",
    "MODEL = \"gpt-4o-mini\"\n",
    "db_name = \"vector_db\""
   ]
  },
  {
   "cell_type": "code",
   "execution_count": 25,
   "id": "ee78efcb-60fe-449e-a944-40bab26261af",
   "metadata": {},
   "outputs": [],
   "source": [
    "# Load environment variables in a file called .env\n",
    "\n",
    "load_dotenv(override=True)\n",
    "os.environ['OPENAI_API_KEY'] = os.getenv('OPENAI_API_KEY', 'your-key-if-not-using-env')"
   ]
  },
  {
   "cell_type": "code",
   "execution_count": 48,
   "id": "730711a9-6ffe-4eee-8f48-d6cfb7314905",
   "metadata": {},
   "outputs": [
    {
     "name": "stdout",
     "output_type": "stream",
     "text": [
      "folders =>  ['knowledge-base/products', 'knowledge-base/contracts', 'knowledge-base/company', 'knowledge-base/employees']\n",
      "doc_type =>  products\n",
      "doc.metadata =>  {'source': 'knowledge-base/products/Rellm.md', 'doc_type': 'products'}\n",
      "doc.metadata =>  {'source': 'knowledge-base/products/Markellm.md', 'doc_type': 'products'}\n",
      "doc.metadata =>  {'source': 'knowledge-base/products/Homellm.md', 'doc_type': 'products'}\n",
      "doc.metadata =>  {'source': 'knowledge-base/products/Carllm.md', 'doc_type': 'products'}\n",
      "doc_type =>  contracts\n",
      "doc.metadata =>  {'source': 'knowledge-base/contracts/Contract with GreenField Holdings for Markellm.md', 'doc_type': 'contracts'}\n",
      "doc.metadata =>  {'source': 'knowledge-base/contracts/Contract with Apex Reinsurance for Rellm.md', 'doc_type': 'contracts'}\n",
      "doc.metadata =>  {'source': 'knowledge-base/contracts/Contract with Greenstone Insurance for Homellm.md', 'doc_type': 'contracts'}\n",
      "doc.metadata =>  {'source': 'knowledge-base/contracts/Contract with Roadway Insurance Inc. for Carllm.md', 'doc_type': 'contracts'}\n",
      "doc.metadata =>  {'source': 'knowledge-base/contracts/Contract with Stellar Insurance Co. for Rellm.md', 'doc_type': 'contracts'}\n",
      "doc.metadata =>  {'source': 'knowledge-base/contracts/Contract with TechDrive Insurance for Carllm.md', 'doc_type': 'contracts'}\n",
      "doc.metadata =>  {'source': 'knowledge-base/contracts/Contract with Belvedere Insurance for Markellm.md', 'doc_type': 'contracts'}\n",
      "doc.metadata =>  {'source': 'knowledge-base/contracts/Contract with Velocity Auto Solutions for Carllm.md', 'doc_type': 'contracts'}\n",
      "doc.metadata =>  {'source': 'knowledge-base/contracts/Contract with GreenValley Insurance for Homellm.md', 'doc_type': 'contracts'}\n",
      "doc.metadata =>  {'source': 'knowledge-base/contracts/Contract with EverGuard Insurance for Rellm.md', 'doc_type': 'contracts'}\n",
      "doc.metadata =>  {'source': 'knowledge-base/contracts/Contract with BrightWay Solutions for Markellm.md', 'doc_type': 'contracts'}\n",
      "doc.metadata =>  {'source': 'knowledge-base/contracts/Contract with Pinnacle Insurance Co. for Homellm.md', 'doc_type': 'contracts'}\n",
      "doc_type =>  company\n",
      "doc.metadata =>  {'source': 'knowledge-base/company/overview.md', 'doc_type': 'company'}\n",
      "doc.metadata =>  {'source': 'knowledge-base/company/careers.md', 'doc_type': 'company'}\n",
      "doc.metadata =>  {'source': 'knowledge-base/company/about.md', 'doc_type': 'company'}\n",
      "doc_type =>  employees\n",
      "doc.metadata =>  {'source': 'knowledge-base/employees/Alex Chen.md', 'doc_type': 'employees'}\n",
      "doc.metadata =>  {'source': 'knowledge-base/employees/Oliver Spencer.md', 'doc_type': 'employees'}\n",
      "doc.metadata =>  {'source': 'knowledge-base/employees/Emily Tran.md', 'doc_type': 'employees'}\n",
      "doc.metadata =>  {'source': 'knowledge-base/employees/Jordan Blake.md', 'doc_type': 'employees'}\n",
      "doc.metadata =>  {'source': 'knowledge-base/employees/Avery Lancaster.md', 'doc_type': 'employees'}\n",
      "doc.metadata =>  {'source': 'knowledge-base/employees/Maxine Thompson.md', 'doc_type': 'employees'}\n",
      "doc.metadata =>  {'source': 'knowledge-base/employees/Samantha Greene.md', 'doc_type': 'employees'}\n",
      "doc.metadata =>  {'source': 'knowledge-base/employees/Alex Thomson.md', 'doc_type': 'employees'}\n",
      "doc.metadata =>  {'source': 'knowledge-base/employees/Samuel Trenton.md', 'doc_type': 'employees'}\n",
      "doc.metadata =>  {'source': 'knowledge-base/employees/Alex Harper.md', 'doc_type': 'employees'}\n",
      "doc.metadata =>  {'source': 'knowledge-base/employees/Jordan K. Bishop.md', 'doc_type': 'employees'}\n",
      "doc.metadata =>  {'source': 'knowledge-base/employees/Emily Carter.md', 'doc_type': 'employees'}\n"
     ]
    }
   ],
   "source": [
    "# Read in documents using LangChain's loaders\n",
    "# Take everything in all the sub-folders of our knowledgebase\n",
    "# This code snippet loads Markdown (.md) documents from a structured folder \n",
    "# hierarchy using DirectoryLoader and appends metadata about the document type. \n",
    "# Thank you Mark D. and Zoya H. for fixing a bug here..\n",
    "\n",
    "folders = glob.glob(\"knowledge-base/*\")\n",
    "print(\"folders => \", folders)\n",
    "\n",
    "# With thanks to CG and Jon R, students on the course, for this fix needed for some users \n",
    "text_loader_kwargs = {'encoding': 'utf-8'}\n",
    "# If that doesn't work, some Windows users might need to uncomment the next line instead\n",
    "# text_loader_kwargs={'autodetect_encoding': True}\n",
    "\n",
    "documents = []\n",
    "for folder in folders:\n",
    "    doc_type = os.path.basename(folder)   # The function os.path.basename(path) returns the last part of a given path. \n",
    "    print(\"doc_type => \", doc_type)\n",
    "\n",
    "    loader = DirectoryLoader(folder,   # path to the folder\n",
    "                             glob=\"**/*.md\",   # recursive search pattern for files\n",
    "                             loader_cls=TextLoader,   # loader used to read each file\n",
    "                             loader_kwargs=text_loader_kwargs)    # optional kwargs passed to the loader\n",
    "\n",
    "    # Returns a list of Document objects (from LangChain), each having:\n",
    "    # - page_content: the text content of the file\n",
    "    # - metadata: a dictionary including the file path, and any custom metadata you add\n",
    "    folder_docs = loader.load()\n",
    "    # print(folder_docs)\n",
    "    \n",
    "    for doc in folder_docs:\n",
    "        doc.metadata[\"doc_type\"] = doc_type\n",
    "        print(\"doc.metadata => \",doc.metadata)\n",
    "        \n",
    "        documents.append(doc)\n",
    "        # print(\"documents => \",documents)"
   ]
  },
  {
   "cell_type": "code",
   "execution_count": 36,
   "id": "97f289e2-158d-4284-94e2-5edee6d81c60",
   "metadata": {},
   "outputs": [
    {
     "data": {
      "text/plain": [
       "2"
      ]
     },
     "execution_count": 36,
     "metadata": {},
     "output_type": "execute_result"
    }
   ],
   "source": [
    "len(doc.metadata)"
   ]
  },
  {
   "cell_type": "code",
   "execution_count": 40,
   "id": "820ed7d5-a539-41c7-8fc3-553af2d375cf",
   "metadata": {},
   "outputs": [
    {
     "data": {
      "text/plain": [
       "{'source': 'knowledge-base/employees/Emily Carter.md', 'doc_type': 'employees'}"
      ]
     },
     "execution_count": 40,
     "metadata": {},
     "output_type": "execute_result"
    }
   ],
   "source": [
    "doc.metadata"
   ]
  },
  {
   "cell_type": "code",
   "execution_count": 6,
   "id": "252f17e9-3529-4e81-996c-cfa9f08e75a8",
   "metadata": {},
   "outputs": [
    {
     "data": {
      "text/plain": [
       "31"
      ]
     },
     "execution_count": 6,
     "metadata": {},
     "output_type": "execute_result"
    }
   ],
   "source": [
    "len(documents)"
   ]
  },
  {
   "cell_type": "code",
   "execution_count": 7,
   "id": "7e8decb0-d9b0-4d51-8402-7a6174d22159",
   "metadata": {},
   "outputs": [
    {
     "data": {
      "text/plain": [
       "Document(metadata={'source': 'knowledge-base/employees/Maxine Thompson.md', 'doc_type': 'employees'}, page_content=\"# HR Record\\n\\n# Maxine Thompson\\n\\n## Summary\\n- **Date of Birth:** January 15, 1991  \\n- **Job Title:** Data Engineer  \\n- **Location:** Austin, Texas  \\n\\n## Insurellm Career Progression\\n- **January 2017 - October 2018**: **Junior Data Engineer**  \\n  * Maxine joined Insurellm as a Junior Data Engineer, focusing primarily on ETL processes and data integration tasks. She quickly learned Insurellm's data architecture, collaborating with other team members to streamline data workflows.  \\n- **November 2018 - December 2020**: **Data Engineer**  \\n  * In her new role, Maxine expanded her responsibilities to include designing comprehensive data models and improving data quality measures. Though she excelled in technical skills, communication issues with non-technical teams led to some project delays.  \\n- **January 2021 - Present**: **Senior Data Engineer**  \\n  * Maxine was promoted to Senior Data Engineer after successfully leading a pivotal project that improved data retrieval times by 30%. She now mentors junior engineers and is involved in strategic data initiatives, solidifying her position as a valued asset at Insurellm. She was recognized as Insurellm Innovator of the year in 2023, receiving the prestigious IIOTY 2023 award.  \\n\\n## Annual Performance History\\n- **2017**: *Meets Expectations*  \\n  Maxine showed potential in her role but struggled with initial project deadlines. Her adaptability and willingness to learn made positive impacts on her team.  \\n\\n- **2018**: *Exceeds Expectations*  \\n  Maxine improved significantly, becoming a reliable team member with strong problem-solving skills. She took on leadership in a project that automated data entry processes.  \\n\\n- **2019**: *Needs Improvement*  \\n  During this year, difficult personal circumstances affected Maxine's performance. She missed key deadlines and had several communication issues with stakeholders.  \\n\\n- **2020**: *Meets Expectations*  \\n  Maxine focused on regaining her footing and excelling with technical skills. She was stable, though not standout, in her contributions. Feedback indicated a need for more proactivity.  \\n\\n- **2021**: *Exceeds Expectations*  \\n  Maxine spearheaded the transition to a new data warehousing solution, significantly enhancing Insurellm’s data analytics capabilities. This major achievement bolstered her reputation within the company.  \\n\\n- **2022**: *Outstanding*  \\n  Maxine continued her upward trajectory, successfully implementing machine learning algorithms to predict customer behavior, which was well-received by the leadership team and improved client satisfaction.  \\n\\n- **2023**: *Exceeds Expectations*  \\n  Maxine has taken on mentoring responsibilities and is leading a cross-functional team for data governance initiatives, showcasing her leadership and solidifying her role at Insurellm.  \\n\\n## Compensation History\\n- **2017**: $70,000 (Junior Data Engineer)  \\n- **2018**: $75,000 (Junior Data Engineer)  \\n- **2019**: $80,000 (Data Engineer)  \\n- **2020**: $84,000 (Data Engineer)  \\n- **2021**: $95,000 (Senior Data Engineer)  \\n- **2022**: $110,000 (Senior Data Engineer)  \\n- **2023**: $120,000 (Senior Data Engineer)  \\n\\n## Other HR Notes\\n- Maxine participated in various company-sponsored trainings related to big data technologies and cloud infrastructure.  \\n- She was recognized for her contributions with the “Insurellm Innovator Award” in 2022.  \\n- Maxine is currently involved in the women-in-tech initiative and participates in mentorship programs to guide junior employees.  \\n- Future development areas include improving her stakeholder communication skills to ensure smoother project transitions and collaboration.  \")"
      ]
     },
     "execution_count": 7,
     "metadata": {},
     "output_type": "execute_result"
    }
   ],
   "source": [
    "documents[24]"
   ]
  },
  {
   "cell_type": "markdown",
   "id": "8706e9f4-5c64-48d4-a1dd-2f2150c590e0",
   "metadata": {},
   "source": [
    "### break long documents into smaller, overlapping chunks. This is a common and important step when preparing text for embedding, vector search, or language model retrieval (RAG). \n",
    "\n",
    "### every single chunk includes both metadata and page_content, and that is by design. Without metadata, once the chunk is detached from its original document, you wouldn't know where it came from or how to present it in a response."
   ]
  },
  {
   "cell_type": "code",
   "execution_count": 8,
   "id": "7310c9c8-03c1-4efc-a104-5e89aec6db1a",
   "metadata": {},
   "outputs": [
    {
     "name": "stderr",
     "output_type": "stream",
     "text": [
      "Created a chunk of size 1088, which is longer than the specified 1000\n"
     ]
    }
   ],
   "source": [
    "text_splitter = CharacterTextSplitter(chunk_size=1000, chunk_overlap=200)\n",
    "chunks = text_splitter.split_documents(documents)"
   ]
  },
  {
   "cell_type": "code",
   "execution_count": 42,
   "id": "1c13b6d0-9c48-449f-9e8f-44a50c77eb3d",
   "metadata": {},
   "outputs": [
    {
     "name": "stdout",
     "output_type": "stream",
     "text": [
      "Chunk 1 Metadata: {'source': 'knowledge-base/products/Rellm.md', 'doc_type': 'products'}\n",
      "Chunk Content: # Product Summary\n",
      "\n",
      "# Rellm: AI-Powered Enterprise Reinsurance Solution\n",
      "\n",
      "## Summary\n",
      "\n",
      "Rellm is an innovative enterprise reinsurance product developed by Insurellm, designed to transform the way reinsura\n",
      "--------------------------------------------------\n",
      "Chunk 2 Metadata: {'source': 'knowledge-base/products/Rellm.md', 'doc_type': 'products'}\n",
      "Chunk Content: ### Seamless Integrations\n",
      "Rellm's architecture is designed for effortless integration with existing systems. Whether it's policy management, claims processing, or financial reporting, Rellm connects s\n",
      "--------------------------------------------------\n",
      "Chunk 3 Metadata: {'source': 'knowledge-base/products/Rellm.md', 'doc_type': 'products'}\n",
      "Chunk Content: ### Regulatory Compliance Tools\n",
      "Rellm includes built-in compliance tracking features to help organizations meet local and international regulatory standards. This ensures that reinsurance practices re\n",
      "--------------------------------------------------\n",
      "Chunk 4 Metadata: {'source': 'knowledge-base/products/Rellm.md', 'doc_type': 'products'}\n",
      "Chunk Content: Join the growing number of organizations leveraging Rellm to enhance their reinsurance processes while driving profitability and compliance. \n",
      "\n",
      "## 2025-2026 Roadmap\n",
      "\n",
      "At Insurellm, we are committed to t\n",
      "--------------------------------------------------\n",
      "Chunk 5 Metadata: {'source': 'knowledge-base/products/Rellm.md', 'doc_type': 'products'}\n",
      "Chunk Content: Experience the future of reinsurance with Rellm, where innovation meets reliability. Let Insurellm help you navigate the complexities of the reinsurance market smarter and faster.\n",
      "--------------------------------------------------\n",
      "Chunk 6 Metadata: {'source': 'knowledge-base/products/Markellm.md', 'doc_type': 'products'}\n",
      "Chunk Content: # Product Summary\n",
      "\n",
      "# Markellm\n",
      "\n",
      "## Summary\n",
      "\n",
      "Markellm is an innovative two-sided marketplace designed to seamlessly connect consumers with insurance companies. Powered by advanced matching AI, Markellm \n",
      "--------------------------------------------------\n",
      "Chunk 7 Metadata: {'source': 'knowledge-base/products/Markellm.md', 'doc_type': 'products'}\n",
      "Chunk Content: - **User-Friendly Interface**: Designed with user experience in mind, Markellm features an intuitive interface that allows consumers to easily browse and compare various insurance offerings from multi\n",
      "--------------------------------------------------\n",
      "Chunk 8 Metadata: {'source': 'knowledge-base/products/Markellm.md', 'doc_type': 'products'}\n",
      "Chunk Content: - **Customer Support**: Our dedicated support team is always available to assist both consumers and insurers throughout the process, providing guidance and answering any questions that may arise.\n",
      "\n",
      "- *\n",
      "--------------------------------------------------\n",
      "Chunk 9 Metadata: {'source': 'knowledge-base/products/Markellm.md', 'doc_type': 'products'}\n",
      "Chunk Content: ### For Insurance Companies:\n",
      "- **Basic Listing Fee**: $199/month for a featured listing on the platform, providing exposure to thousands of potential customers.\n",
      "- **Performance-Based Pricing**: Option\n",
      "--------------------------------------------------\n",
      "Chunk 10 Metadata: {'source': 'knowledge-base/products/Markellm.md', 'doc_type': 'products'}\n",
      "Chunk Content: ### Q3 2025\n",
      "- Initiate a comprehensive marketing campaign targeting both consumers and insurers to increase user acquisition and brand awareness.\n",
      "- Release user testimonials and case studies showcasin\n",
      "--------------------------------------------------\n"
     ]
    }
   ],
   "source": [
    "for i, chunk in enumerate(chunks[:10]):\n",
    "    print(f\"Chunk {i+1} Metadata: {chunk.metadata}\")\n",
    "    print(f\"Chunk Content: {chunk.page_content[:200]}\")\n",
    "    print(\"-\" * 50)\n"
   ]
  },
  {
   "cell_type": "code",
   "execution_count": 9,
   "id": "cd06e02f-6d9b-44cc-a43d-e1faa8acc7bb",
   "metadata": {},
   "outputs": [
    {
     "data": {
      "text/plain": [
       "123"
      ]
     },
     "execution_count": 9,
     "metadata": {},
     "output_type": "execute_result"
    }
   ],
   "source": [
    "len(chunks)"
   ]
  },
  {
   "cell_type": "code",
   "execution_count": 10,
   "id": "d2562754-9052-4aae-92c1-37236435ea06",
   "metadata": {},
   "outputs": [
    {
     "data": {
      "text/plain": [
       "Document(metadata={'source': 'knowledge-base/products/Markellm.md', 'doc_type': 'products'}, page_content='- **User-Friendly Interface**: Designed with user experience in mind, Markellm features an intuitive interface that allows consumers to easily browse and compare various insurance offerings from multiple providers.\\n\\n- **Real-Time Quotes**: Consumers can receive real-time quotes from different insurance companies, empowering them to make informed decisions quickly without endless back-and-forth communication.\\n\\n- **Customized Recommendations**: Based on user profiles and preferences, Markellm provides personalized insurance recommendations, ensuring consumers find the right coverage at competitive rates.\\n\\n- **Secure Transactions**: Markellm prioritizes security, employing robust encryption methods to ensure that all transactions and data exchanges are safe and secure.\\n\\n- **Customer Support**: Our dedicated support team is always available to assist both consumers and insurers throughout the process, providing guidance and answering any questions that may arise.')"
      ]
     },
     "execution_count": 10,
     "metadata": {},
     "output_type": "execute_result"
    }
   ],
   "source": [
    "chunks[6]"
   ]
  },
  {
   "cell_type": "code",
   "execution_count": 43,
   "id": "d4ef920a-5c4c-4c4e-85a4-c1cdcd606330",
   "metadata": {},
   "outputs": [
    {
     "data": {
      "text/plain": [
       "Document(metadata={'source': 'knowledge-base/products/Markellm.md', 'doc_type': 'products'}, page_content=\"- **Customer Support**: Our dedicated support team is always available to assist both consumers and insurers throughout the process, providing guidance and answering any questions that may arise.\\n\\n- **Data Insights**: Insurers gain access to valuable data insights through Markellm's analytics dashboard, helping them understand market trends and consumer behavior to refine their offerings.\\n\\n## Pricing\\n\\nAt Markellm, we believe in transparency and flexibility. Our pricing structure is designed to accommodate different types of users—whether you're a consumer seeking insurance or an insurance provider seeking customers.\\n\\n### For Consumers:\\n- **Free Membership**: Access to the marketplace at no cost, allowing unlimited browsing and comparisons.\\n- **Premium Features**: Optional subscription at $9.99/month for advanced analytics on choices, priority customer support, and enhanced customization options.\")"
      ]
     },
     "execution_count": 43,
     "metadata": {},
     "output_type": "execute_result"
    }
   ],
   "source": [
    "chunks[7]"
   ]
  },
  {
   "cell_type": "code",
   "execution_count": 11,
   "id": "2c54b4b6-06da-463d-bee7-4dd456c2b887",
   "metadata": {},
   "outputs": [
    {
     "name": "stdout",
     "output_type": "stream",
     "text": [
      "Document types found: employees, company, products, contracts\n"
     ]
    }
   ],
   "source": [
    "doc_types = set(chunk.metadata['doc_type'] for chunk in chunks)\n",
    "print(f\"Document types found: {', '.join(doc_types)}\")"
   ]
  },
  {
   "cell_type": "code",
   "execution_count": 45,
   "id": "128c73f7-f149-4904-a554-8140941fce0c",
   "metadata": {},
   "outputs": [
    {
     "name": "stdout",
     "output_type": "stream",
     "text": [
      "page_content='## Support\n",
      "\n",
      "1. **Customer Support**: Velocity Auto Solutions will have access to Insurellm’s customer support team via email or chatbot, available 24/7.  \n",
      "2. **Technical Maintenance**: Regular maintenance and updates to the Carllm platform will be conducted by Insurellm, with any downtime communicated in advance.  \n",
      "3. **Training & Resources**: Initial training sessions will be provided for Velocity Auto Solutions’ staff to ensure effective use of the Carllm suite. Regular resources and documentation will be made available online.\n",
      "\n",
      "---\n",
      "\n",
      "**Accepted and Agreed:**  \n",
      "**For Velocity Auto Solutions**  \n",
      "Signature: _____________________  \n",
      "Name: John Doe  \n",
      "Title: CEO  \n",
      "Date: _____________________  \n",
      "\n",
      "**For Insurellm**  \n",
      "Signature: _____________________  \n",
      "Name: Jane Smith  \n",
      "Title: VP of Sales  \n",
      "Date: _____________________' metadata={'source': 'knowledge-base/contracts/Contract with Velocity Auto Solutions for Carllm.md', 'doc_type': 'contracts'}\n",
      "============> \n",
      "\n",
      "page_content='3. **Regular Updates:** Insurellm will offer ongoing updates and enhancements to the Homellm platform, including new features and security improvements.\n",
      "\n",
      "4. **Feedback Implementation:** Insurellm will actively solicit feedback from GreenValley Insurance to ensure Homellm continues to meet their evolving needs.\n",
      "\n",
      "---\n",
      "\n",
      "**Signatures:**\n",
      "\n",
      "_________________________________  \n",
      "**[Name]**  \n",
      "**Title**: CEO  \n",
      "**Insurellm, Inc.**\n",
      "\n",
      "_________________________________  \n",
      "**[Name]**  \n",
      "**Title**: COO  \n",
      "**GreenValley Insurance, LLC**  \n",
      "\n",
      "---\n",
      "\n",
      "This agreement represents the complete understanding of both parties regarding the use of the Homellm product and supersedes any prior agreements or communications.' metadata={'source': 'knowledge-base/contracts/Contract with GreenValley Insurance for Homellm.md', 'doc_type': 'contracts'}\n",
      "============> \n",
      "\n",
      "page_content='# Avery Lancaster\n",
      "\n",
      "## Summary\n",
      "- **Date of Birth**: March 15, 1985  \n",
      "- **Job Title**: Co-Founder & Chief Executive Officer (CEO)  \n",
      "- **Location**: San Francisco, California  \n",
      "\n",
      "## Insurellm Career Progression\n",
      "- **2015 - Present**: Co-Founder & CEO  \n",
      "  Avery Lancaster co-founded Insurellm in 2015 and has since guided the company to its current position as a leading Insurance Tech provider. Avery is known for her innovative leadership strategies and risk management expertise that have catapulted the company into the mainstream insurance market.  \n",
      "\n",
      "- **2013 - 2015**: Senior Product Manager at Innovate Insurance Solutions  \n",
      "  Before launching Insurellm, Avery was a leading Senior Product Manager at Innovate Insurance Solutions, where she developed groundbreaking insurance products aimed at the tech sector.' metadata={'source': 'knowledge-base/employees/Avery Lancaster.md', 'doc_type': 'employees'}\n",
      "============> \n",
      "\n"
     ]
    }
   ],
   "source": [
    "for chunk in chunks:\n",
    "    if 'CEO' in chunk.page_content:\n",
    "        print(chunk)\n",
    "        print(\"============> \")\n",
    "        print()"
   ]
  },
  {
   "cell_type": "code",
   "execution_count": null,
   "id": "643e6a6f-0fd4-4c45-9e02-35b50d56ec06",
   "metadata": {},
   "outputs": [],
   "source": []
  }
 ],
 "metadata": {
  "kernelspec": {
   "display_name": "Python 3 (ipykernel)",
   "language": "python",
   "name": "python3"
  },
  "language_info": {
   "codemirror_mode": {
    "name": "ipython",
    "version": 3
   },
   "file_extension": ".py",
   "mimetype": "text/x-python",
   "name": "python",
   "nbconvert_exporter": "python",
   "pygments_lexer": "ipython3",
   "version": "3.11.12"
  }
 },
 "nbformat": 4,
 "nbformat_minor": 5
}
