{
 "cells": [
  {
   "cell_type": "code",
   "execution_count": 1,
   "id": "50cd3374-b98c-49e8-b621-c7ee81d0b526",
   "metadata": {},
   "outputs": [],
   "source": [
    "# imports\n",
    "\n",
    "import os\n",
    "import glob\n",
    "from dotenv import load_dotenv\n",
    "import gradio as gr"
   ]
  },
  {
   "cell_type": "code",
   "execution_count": 2,
   "id": "070452ca-03a2-40b9-8f94-f61c7f834439",
   "metadata": {},
   "outputs": [],
   "source": [
    "# imports for langchain, plotly and Chroma\n",
    "\n",
    "from langchain.document_loaders import DirectoryLoader, TextLoader\n",
    "from langchain.text_splitter import CharacterTextSplitter\n",
    "from langchain.schema import Document\n",
    "from langchain_openai import OpenAIEmbeddings, ChatOpenAI\n",
    "from langchain_chroma import Chroma\n",
    "import matplotlib.pyplot as plt\n",
    "from sklearn.manifold import TSNE\n",
    "import numpy as np\n",
    "import plotly.graph_objects as go\n",
    "from langchain.memory import ConversationBufferMemory\n",
    "from langchain.chains import ConversationalRetrievalChain\n",
    "from langchain.embeddings import HuggingFaceEmbeddings\n"
   ]
  },
  {
   "cell_type": "code",
   "execution_count": 3,
   "id": "bb3dff50-4880-4e92-b8a7-54e54f3dedc4",
   "metadata": {},
   "outputs": [],
   "source": [
    "# price is a factor for our company, so we're going to use a low cost model\n",
    "\n",
    "MODEL = \"gpt-4o-mini\"\n",
    "db_name = \"mrmvector_db\""
   ]
  },
  {
   "cell_type": "markdown",
   "id": "6151d561-f1c6-4ebb-beec-031c86d550da",
   "metadata": {},
   "source": [
    "## OpenAI() class and Key use: \n",
    "* openai = OpenAI()\n",
    "* OPENAI_API_KEY must be named exactly that if you’re using OpenAI() without explicitly passing the key\n",
    "* The OpenAI Python SDK (v1.x and later) is designed to automatically look for the environment variable: OPENAI_API_KEY.\n",
    "\n",
    "## Alternative: \n",
    "* openai = OpenAI(api_key=os.getenv(\"OPENAI_API_KEY\"))\n",
    "* openai = OpenAI(api_key=\"sk-...\")\n",
    "\n",
    "* import os\n",
    "* from openai import OpenAI\n",
    "\n",
    "* my_key = os.getenv(\"MY_SECRET_KEY\")\n",
    "* client = OpenAI(api_key=my_key)\n",
    "\n",
    "\n",
    "\n",
    "\n",
    "\n",
    "\n"
   ]
  },
  {
   "cell_type": "markdown",
   "id": "2b52947b-a81c-4fd3-9cf5-3e1facd81b91",
   "metadata": {},
   "source": [
    "### What It Does:\n",
    "It checks if OPENAI_API_KEY is already set in the environment.\n",
    "\n",
    "If it is, it reassigns the same value back.\n",
    "\n",
    "If it is not, it sets it to 'your-key-if-not-using-env'."
   ]
  },
  {
   "cell_type": "code",
   "execution_count": 4,
   "id": "758ed60c-f5a7-4c70-809d-1dab1452e5c5",
   "metadata": {},
   "outputs": [
    {
     "data": {
      "text/plain": [
       "True"
      ]
     },
     "execution_count": 4,
     "metadata": {},
     "output_type": "execute_result"
    }
   ],
   "source": [
    "# Load environment variables in a file called .env\n",
    "from dotenv import load_dotenv\n",
    "load_dotenv(override=True)  # Load and override existing env vars if needed\n",
    "# os.environ['OPENAI_API_KEY'] = os.getenv('OPENAI_API_KEY', 'your-key-if-not-using-env')"
   ]
  },
  {
   "cell_type": "code",
   "execution_count": 5,
   "id": "4f44068a-1b6f-40f3-baf3-9d61c64f4f16",
   "metadata": {},
   "outputs": [
    {
     "name": "stdout",
     "output_type": "stream",
     "text": [
      "Hello! How can I assist you today?\n"
     ]
    }
   ],
   "source": [
    "# Example of using OpenAI class: \n",
    "from openai import OpenAI\n",
    "\n",
    "api_key = os.getenv('OPENAI_API_KEY')\n",
    "\n",
    "if not api_key:\n",
    "    raise ValueError(\"OPENAI_API_KEY is not set\")\n",
    "\n",
    "client = OpenAI(api_key=api_key)  # ✅ use the variable, not a literal string\n",
    "\n",
    "response = client.chat.completions.create(\n",
    "    model=MODEL,  # or \"gpt-4-turbo\", \"gpt-3.5-turbo\", etc.\n",
    "    messages=[\n",
    "        {\"role\": \"user\", \"content\": \"Hello!\"}\n",
    "    ]\n",
    ")\n",
    "\n",
    "print(response.choices[0].message.content)\n"
   ]
  },
  {
   "cell_type": "markdown",
   "id": "10b6ac05-4986-4568-a9fe-91acc02cf496",
   "metadata": {},
   "source": [
    "## 🧱 What Is a Document?\n",
    "* In LangChain (and similar frameworks), a Document is typically a class like this:\n",
    "* from langchain.schema import Document\n",
    "\n",
    "* doc = Document(\n",
    "*    page_content=\"This is the actual text content.\",\n",
    "*    metadata={\"source\": \"file.pdf\", \"page\": 1}\n",
    "*)\n"
   ]
  },
  {
   "cell_type": "code",
   "execution_count": 6,
   "id": "cb951729-c46c-44c4-930b-af364ffe80ee",
   "metadata": {},
   "outputs": [
    {
     "name": "stdout",
     "output_type": "stream",
     "text": [
      "folders => ['model_risk_management/self_prep', 'model_risk_management/models', 'model_risk_management/regulatory_doc']\n",
      "doc_type => self_prep\n",
      "doc_type => models\n",
      "doc_type => regulatory_doc\n",
      "Loaded 55 documents with metadata which has 2 items in it.\n",
      "\n",
      "Text content:\n",
      " Conversation  with  Matt  4/2:  ●  Next  steps:  2  rounds  of  interview  ○  Phone  interview:  1hr  ■  Interviewer:  one  from  a  pool  of  interviewers  (3  -  4)  ●  Matt  can  share  a  bit  more  on  the  interviewer  later  ■  5min,  warm  up,  background,  why  interested  in  Amazon  ■  Science  breath:  0.5hr   ●  ML  ●  High  level  overview  different  science  areas  ●  Compare   ●  Text  book  level  ●  What’s  on  my  resume  ●  Relevant  to  the  job  ●  When  to  use  what,  ho\n",
      "\n",
      "Metadata:\n",
      "{'doc_type': 'self_prep',\n",
      " 'source': 'model_risk_management/self_prep/Stories.pdf'}\n",
      "\n"
     ]
    }
   ],
   "source": [
    "import os\n",
    "import glob\n",
    "from langchain.document_loaders import PyPDFLoader\n",
    "from langchain.schema import Document\n",
    "\n",
    "root_path = \"model_risk_management/*\"  # adjust to your folder path\n",
    "folders = glob.glob(root_path)  # find all folders under rootpath \n",
    "print(\"folders =>\", folders)\n",
    "\n",
    "documents = []\n",
    "KEEP_METADATA_KEYS = [\"source\", \"doc_type\"]  # extend this as needed\n",
    "\n",
    "for folder in folders:\n",
    "    doc_type = os.path.basename(folder)   # base name of folders, served as doc_type\n",
    "    print(\"doc_type =>\", doc_type)\n",
    "\n",
    "    # ** means “match any number of directories, this folder and subfolders, search match recursively”.\n",
    "    # *.pdf matches all files ending with .pdf.\n",
    "    pdf_paths = glob.glob(os.path.join(folder, \"**/*.pdf\"), recursive=True)\n",
    "    # print(\"pdf_paths => \", pdf_paths)  # ['model_risk_management/self_prep/Stories.pdf']\n",
    "    \n",
    "    # This code loads PDF files, extracts their pages as documents, attaches useful metadata (like file path and type), \n",
    "    # and collects them into a list for further processing (e.g. chunking, vectorizing, etc.).\n",
    "    for pdf_path in pdf_paths:\n",
    "        loader = PyPDFLoader(pdf_path)  # create instance \n",
    "        pages = loader.load()  # load PDF, return a list of pages => Documments => one page of PDF\n",
    "\n",
    "        # print(\"pages => \", pages[0:1])\n",
    "\n",
    "        # page => Document object, an instance of LangChain Document class, has a structure\n",
    "        \n",
    "        for page in pages:\n",
    "            page.metadata[\"source\"] = pdf_path\n",
    "            page.metadata[\"doc_type\"] = doc_type\n",
    "            \n",
    "            # # Clean or standardize metadata\n",
    "            # if \"producer\" in page.metadata:\n",
    "            #     del page.metadata[\"producer\"]\n",
    "      \n",
    "            # Retain only whitelisted metadata\n",
    "            page.metadata = {\n",
    "                key: value for key, value in page.metadata.items() if key in KEEP_METADATA_KEYS\n",
    "            }\n",
    "            documents.append(page)\n",
    "            # print(\"page.metadata => , page.page_content =>\" , page.metadata, page.page_content[:100])\n",
    "          \n",
    "\n",
    "print(f\"Loaded {len(documents)} documents with metadata which has {len(page.metadata)} items in it.\")\n",
    "\n",
    "from pprint import pprint\n",
    "\n",
    "print()\n",
    "print(\"Text content:\\n\", documents[0].page_content[:500])  # first 500 characters\n",
    "print(\"\\nMetadata:\")\n",
    "pprint(documents[0].metadata)\n",
    "print()\n",
    "\n"
   ]
  },
  {
   "cell_type": "code",
   "execution_count": 7,
   "id": "117652cc-4cd2-4975-b04c-6e8c5170ba2d",
   "metadata": {},
   "outputs": [
    {
     "data": {
      "text/plain": [
       "2"
      ]
     },
     "execution_count": 7,
     "metadata": {},
     "output_type": "execute_result"
    }
   ],
   "source": [
    "len(page.metadata)"
   ]
  },
  {
   "cell_type": "code",
   "execution_count": 8,
   "id": "ac5974a6-4969-404b-81a8-20eef8b215db",
   "metadata": {},
   "outputs": [
    {
     "data": {
      "text/plain": [
       "(list, 55)"
      ]
     },
     "execution_count": 8,
     "metadata": {},
     "output_type": "execute_result"
    }
   ],
   "source": [
    "type(documents), len(documents)"
   ]
  },
  {
   "cell_type": "code",
   "execution_count": 9,
   "id": "e66405f3-de23-4d0c-a998-e4486e877580",
   "metadata": {},
   "outputs": [
    {
     "name": "stdout",
     "output_type": "stream",
     "text": [
      "Generated 229 chunks.\n"
     ]
    }
   ],
   "source": [
    "from langchain.text_splitter import RecursiveCharacterTextSplitter\n",
    "\n",
    "text_splitter = RecursiveCharacterTextSplitter(chunk_size=1000, chunk_overlap=200)\n",
    "chunks = text_splitter.split_documents(documents)\n",
    "# Add metadata to start of content\n",
    "# def attach_metadata(doc: Document):\n",
    "#     meta = f\"[source: {doc.metadata.get('source', '')}]\\n[doc_type: {doc.metadata.get('doc_type', '')}]\\n\\n\"\n",
    "#     return Document(\n",
    "#         page_content=meta + doc.page_content,\n",
    "#         metadata=doc.metadata\n",
    "#     )\n",
    "\n",
    "# documents_with_metadata = [attach_metadata(doc) for doc in documents]\n",
    "# chunks = text_splitter.split_documents(documents_with_metadata)\n",
    "\n",
    "print(f\"Generated {len(chunks)} chunks.\")\n"
   ]
  },
  {
   "cell_type": "code",
   "execution_count": 10,
   "id": "a2b0207b-a3be-4b67-88c9-fe24b55d7134",
   "metadata": {},
   "outputs": [
    {
     "name": "stdout",
     "output_type": "stream",
     "text": [
      "page_content='deviation in expected versus actual performance and unexplained volatility in the profits \n",
      "and losses of trading activities may indicate that hedging and pricing relationships are not \n",
      "adequately measured by a given approach. Along with measuring the frequency of losses \n",
      "in excess of a single VaR percentile estimator, banks should use other tests, such as [Page Break]' metadata={'source': 'model_risk_management/regulatory_doc/sr1107a1.pdf', 'doc_type': 'regulatory_doc'}\n"
     ]
    }
   ],
   "source": [
    "print(chunks[200])"
   ]
  },
  {
   "cell_type": "code",
   "execution_count": 13,
   "id": "3c98d5ed-56f6-4628-ad25-19b8650022b2",
   "metadata": {},
   "outputs": [
    {
     "name": "stdout",
     "output_type": "stream",
     "text": [
      "Vectorstore created with 229 documents\n"
     ]
    }
   ],
   "source": [
    "from langchain.vectorstores import Chroma\n",
    "from langchain.embeddings import OpenAIEmbeddings\n",
    "\n",
    "\n",
    "embeddings = OpenAIEmbeddings()\n",
    "\n",
    "if os.path.exists(db_name):\n",
    "    Chroma(persist_directory=db_name, embedding_function=embeddings).delete_collection()\n",
    "\n",
    "# vectorstore = Chroma.from_documents(chunks, OpenAIEmbeddings())\n",
    "vectorstore = Chroma.from_documents(documents=chunks, embedding=embeddings, persist_directory=db_name)\n",
    "print(f\"Vectorstore created with {vectorstore._collection.count()} documents\")\n"
   ]
  },
  {
   "cell_type": "code",
   "execution_count": 20,
   "id": "2777b4ec-b93c-42f8-bc51-78d0a80430e6",
   "metadata": {},
   "outputs": [
    {
     "data": {
      "text/plain": [
       "langchain_community.vectorstores.chroma.Chroma"
      ]
     },
     "execution_count": 20,
     "metadata": {},
     "output_type": "execute_result"
    }
   ],
   "source": [
    "type(vectorstore)"
   ]
  },
  {
   "cell_type": "code",
   "execution_count": 19,
   "id": "18add23b-8d0c-4803-af99-4cc0c2719370",
   "metadata": {},
   "outputs": [
    {
     "name": "stdout",
     "output_type": "stream",
     "text": [
      "There are 229 vectors with 1,536 dimensions in the vector store\n"
     ]
    }
   ],
   "source": [
    "# Let's investigate the vectors\n",
    "\n",
    "collection = vectorstore._collection\n",
    "count = collection.count()\n",
    "\n",
    "sample_embedding = collection.get(limit=1, include=[\"embeddings\"])[\"embeddings\"][0]\n",
    "dimensions = len(sample_embedding)\n",
    "print(f\"There are {count:,} vectors with {dimensions:,} dimensions in the vector store\")"
   ]
  },
  {
   "cell_type": "markdown",
   "id": "e35afc7b-5881-4a46-bd2c-a90a9cb2a097",
   "metadata": {},
   "source": [
    "## Set up a conversational RAG (Retrieval-Augmented Generation) pipeline using LangChain\n",
    "\n",
    "🧠 What You're Building\n",
    "You're combining:\n",
    "\n",
    "A language model (llm)\n",
    "\n",
    "A vector retriever (via Chroma)\n",
    "\n",
    "A memory buffer for multi-turn conversations\n",
    "\n",
    "To build a ConversationalRetrievalChain, which:\n",
    "\n",
    "Retrieves relevant chunks from your documents using vector similarity, and then feeds both the question and relevant context to the LLM — plus past chat history.\n",
    "\n"
   ]
  },
  {
   "cell_type": "code",
   "execution_count": 16,
   "id": "b0131bb3-240a-43f5-96e8-ae0e4fa171a2",
   "metadata": {},
   "outputs": [],
   "source": [
    "from langchain.chat_models import ChatOpenAI\n",
    "from langchain.chains import ConversationalRetrievalChain\n",
    "from langchain.memory import ConversationBufferMemory\n",
    "\n",
    "# llm = ChatOpenAI(temperature=0.7, model_name=MODEL)  # or \"gpt-3.5-turbo\"\n",
    "# memory = ConversationBufferMemory(memory_key=\"chat_history\", return_messages=True)\n",
    "# retriever = vectorstore.as_retriever()\n",
    "\n",
    "# conversation_chain = ConversationalRetrievalChain.from_llm(\n",
    "#     llm=llm,\n",
    "#     retriever=retriever,\n",
    "#     memory=memory\n",
    "# )\n",
    "\n",
    "# create a new Chat with OpenAI\n",
    "llm = ChatOpenAI(temperature=0.7, model_name=MODEL)\n",
    "\n",
    "# Alternative - if you'd like to use Ollama locally, uncomment this line instead\n",
    "# llm = ChatOpenAI(temperature=0.7, model_name='llama3.2', base_url='http://localhost:11434/v1', api_key='ollama')\n",
    "\n",
    "# set up the conversation memory for the chat\n",
    "memory = ConversationBufferMemory(memory_key='chat_history', return_messages=True)\n",
    "\n",
    "# the retriever is an abstraction over the VectorStore that will be used during RAG\n",
    "retriever = vectorstore.as_retriever()\n",
    "\n",
    "# putting it together: set up the conversation chain with the GPT 3.5 LLM, the vector store and memory\n",
    "conversation_chain = ConversationalRetrievalChain.from_llm(llm=llm, retriever=retriever, memory=memory)\n",
    "\n"
   ]
  },
  {
   "cell_type": "markdown",
   "id": "4b1b8ae3-4ec4-4b75-af56-b546fd7fc549",
   "metadata": {},
   "source": [
    "## ❓Do you need to define a system message in LangChain's ConversationalRetrievalChain?\n",
    "No — it's not required.\n",
    "If you don’t define a system message, LangChain uses a default system prompt that looks like:\n",
    "\n",
    "\"Use the following pieces of context to answer the user's question. If you don't know the answer, just say you don't know — don't try to make up an answer.\"\n",
    "\n",
    "This default works reasonably well for general RAG use cases."
   ]
  },
  {
   "cell_type": "code",
   "execution_count": 21,
   "id": "68d5f1f1-67b2-45a5-8aa7-fda291a2c17b",
   "metadata": {},
   "outputs": [
    {
     "name": "stderr",
     "output_type": "stream",
     "text": [
      "/var/folders/1r/m_0ldzk527lfywxxv30ykfzm0000gn/T/ipykernel_6128/3703484997.py:2: LangChainDeprecationWarning:\n",
      "\n",
      "The method `Chain.run` was deprecated in langchain 0.1.0 and will be removed in 1.0. Use :meth:`~invoke` instead.\n",
      "\n"
     ]
    },
    {
     "name": "stdout",
     "output_type": "stream",
     "text": [
      "I don't know.\n"
     ]
    }
   ],
   "source": [
    "# question = \"What are the customer obligations under this policy?\"\n",
    "# response = conversation_chain.run(question)\n",
    "# print(response)\n"
   ]
  },
  {
   "cell_type": "code",
   "execution_count": 17,
   "id": "084e389f-1ce1-42b7-aee4-113060b1fb9b",
   "metadata": {},
   "outputs": [
    {
     "name": "stdout",
     "output_type": "stream",
     "text": [
      "* Running on local URL:  http://127.0.0.1:7860\n",
      "* To create a public link, set `share=True` in `launch()`.\n"
     ]
    },
    {
     "data": {
      "text/html": [
       "<div><iframe src=\"http://127.0.0.1:7860/\" width=\"100%\" height=\"500\" allow=\"autoplay; camera; microphone; clipboard-read; clipboard-write;\" frameborder=\"0\" allowfullscreen></iframe></div>"
      ],
      "text/plain": [
       "<IPython.core.display.HTML object>"
      ]
     },
     "metadata": {},
     "output_type": "display_data"
    }
   ],
   "source": [
    "def chat(question, history):\n",
    "    result = conversation_chain.invoke({\"question\": question})\n",
    "    return result[\"answer\"]\n",
    "\n",
    "view = gr.ChatInterface(chat, type=\"messages\").launch(inbrowser=True)"
   ]
  },
  {
   "cell_type": "code",
   "execution_count": 18,
   "id": "732009b6-244e-46a1-8607-a30e547e833a",
   "metadata": {},
   "outputs": [
    {
     "name": "stderr",
     "output_type": "stream",
     "text": [
      "/opt/anaconda3/envs/llms/lib/python3.11/site-packages/sklearn/manifold/_t_sne.py:1164: FutureWarning: 'n_iter' was renamed to 'max_iter' in version 1.5 and will be removed in 1.7.\n",
      "  warnings.warn(\n"
     ]
    },
    {
     "data": {
      "application/vnd.plotly.v1+json": {
       "config": {
        "plotlyServerURL": "https://plot.ly"
       },
       "data": [
        {
         "hoverinfo": "text",
         "marker": {
          "color": [
           0,
           0,
           0,
           0,
           0,
           0,
           0,
           0,
           0,
           0,
           0,
           0,
           0,
           0,
           0,
           0,
           0,
           0,
           0,
           0,
           0,
           0,
           0,
           0,
           0,
           0,
           0,
           0,
           0,
           0,
           0,
           0,
           0,
           0,
           0,
           0,
           0,
           0,
           0,
           0,
           0,
           0,
           0,
           0,
           0,
           0,
           0,
           0,
           0,
           0,
           0,
           0,
           0,
           0,
           0,
           0,
           0,
           0,
           0,
           0,
           0,
           0,
           0,
           0,
           0,
           0,
           0,
           0,
           0,
           0,
           0,
           0,
           0,
           0,
           0,
           0,
           0,
           0,
           0,
           0,
           0,
           0,
           0,
           0,
           0,
           0,
           0,
           0,
           0,
           0,
           0,
           0,
           0,
           0,
           0,
           0,
           0,
           0,
           0,
           0,
           0,
           0,
           0,
           0,
           0,
           0,
           0,
           0,
           0,
           0,
           0,
           0,
           0,
           0,
           0,
           0,
           0,
           0,
           0,
           0,
           0,
           0,
           0,
           0,
           0,
           0,
           0,
           0,
           0,
           0,
           0,
           0,
           0,
           0,
           0,
           0,
           0,
           0,
           0,
           1,
           1,
           1,
           1,
           1,
           1,
           1,
           1,
           1,
           1,
           1,
           1,
           1,
           1,
           1,
           1,
           1,
           1,
           1,
           1,
           1,
           1,
           1,
           1,
           1,
           1,
           1,
           1,
           1,
           1,
           1,
           1,
           1,
           1,
           1,
           1,
           1,
           1,
           1,
           1,
           1,
           1,
           1,
           1,
           1,
           1,
           1,
           1,
           1,
           1,
           1,
           1,
           1,
           1,
           1,
           1,
           1,
           1,
           1,
           1,
           1,
           1,
           1,
           1,
           1,
           1,
           1,
           1,
           1,
           1,
           1,
           1,
           1,
           1,
           1,
           1,
           1,
           1,
           1,
           1,
           1,
           1,
           1,
           1,
           1,
           1,
           1,
           1,
           1,
           1
          ],
          "colorscale": [
           [
            0,
            "#440154"
           ],
           [
            0.1111111111111111,
            "#482878"
           ],
           [
            0.2222222222222222,
            "#3e4989"
           ],
           [
            0.3333333333333333,
            "#31688e"
           ],
           [
            0.4444444444444444,
            "#26828e"
           ],
           [
            0.5555555555555556,
            "#1f9e89"
           ],
           [
            0.6666666666666666,
            "#35b779"
           ],
           [
            0.7777777777777778,
            "#6ece58"
           ],
           [
            0.8888888888888888,
            "#b5de2b"
           ],
           [
            1,
            "#fde725"
           ]
          ],
          "opacity": 0.8,
          "size": 6
         },
         "mode": "markers",
         "text": [
          "File: model_risk_management/self_prep/Stories.pdf<br>Text: Conversation  with  Matt  4/2:  ●  Next  steps:  2  rounds  of  interview  ○  Phone  interview:  1hr...",
          "File: model_risk_management/self_prep/Stories.pdf<br>Text: understand\n \nthe\n \nproblem,\n \nbefore\n \njumping\n \ninto\n \nsolution\n ●  Do  not  dive  into  the  code ...",
          "File: model_risk_management/self_prep/Stories.pdf<br>Text: ●  Aks  Matt  after  the  interviewer  ○  Team  they  are  on   ○  How  they  want  to  structure   ...",
          "File: model_risk_management/self_prep/Stories.pdf<br>Text: ●  Very  clear   ●          Good  afternoon  Matt,   ●  My  name  …  First  of  all,  Thank  you  fo...",
          "File: model_risk_management/self_prep/Stories.pdf<br>Text: innovation\n \n..\n \nencouraged\n \nand\n \ncelebrated..\n \nAppealing.....",
          "File: model_risk_management/self_prep/Stories.pdf<br>Text: ●  ..  combination  …  a  skill,  tech  profi….  Effective  collaboration  and  communication  …  \na...",
          "File: model_risk_management/self_prep/Stories.pdf<br>Text: a\n \ngreat\n \nlearning\n \nprocess\n \nand\n \ncertainly\n \nhas\n \nroom\n \nto\n \nimprove.\n \n  ●  I  have  not  a...",
          "File: model_risk_management/self_prep/Stories.pdf<br>Text: technologies\n \nsuch\n \nas\n \nmachine\n \nlearning\n \nalgorithms,\n \ndeep\n \nlearning\n \nframeworks,\n \nstatis...",
          "File: model_risk_management/self_prep/Stories.pdf<br>Text: In  addition  to  my  technical  skills,  I  believe  my  ability  to  communicate  complex  ideas  ...",
          "File: model_risk_management/self_prep/Stories.pdf<br>Text: scientist\n \nPosition\n \nat\n \nAmazon.\n \n ●  With  Solid  background  …  passion  …  I'm  excited  abou...",
          "File: model_risk_management/self_prep/Stories.pdf<br>Text: ..\n \nencouraged\n \nand\n \ncelebrated..\n \nAppealing..\n \n ●  ..  combination  …  a  skill,  tech  profi…...",
          "File: model_risk_management/self_prep/Stories.pdf<br>Text: Throughout  my  education  and  career,  I  have  developed  a  strong  foundation  in  applied  \nst...",
          "File: model_risk_management/self_prep/Stories.pdf<br>Text: expansion.\n \n3)\n \nI\n \nled\n \nthe\n \nsuccessful\n \nvalidation\n \nof\n \nan\n \n$80\n \nbillion\n \ncommercial\n \np...",
          "File: model_risk_management/self_prep/Stories.pdf<br>Text: 100+\n \nvalidators\n \nby\n \ninitiating\n \nand\n \nleading\n \nthe\n \neffort\n \nto\n \nonboard\n \nthe\n \nmodel\n \nva...",
          "File: model_risk_management/self_prep/Stories.pdf<br>Text: The\n \nopportunity\n \nto\n \nwork\n \nin\n \nsuch\n \na\n \ndynamic\n \nand\n \nforward-thinkin\ng\n \nenvironment,\n \nw...",
          "File: model_risk_management/self_prep/Stories.pdf<br>Text: My  name  is  Hong  Zhu,  and  I  am  honored  to  be  considered  for  the  Senior  Applied  Scient...",
          "File: model_risk_management/self_prep/Stories.pdf<br>Text: credit\n \njourneys,\n \noptimizing\n \ndecision-making\n \nfor\n \na\n \n$60\n \nbillion\n \ncredit\n \ncard\n \nportfo...",
          "File: model_risk_management/self_prep/Stories.pdf<br>Text: maintaining\n \na\n \nbalance\n \nbetween\n \ninnovation\n \nand\n \ncompliance,\n \nevidenced\n \nby\n \nmy\n \nformer\n...",
          "File: model_risk_management/self_prep/Stories.pdf<br>Text: demands\n \nof\n \nthis\n \nrole.\n \nI\n \nam\n \neager\n \nto\n \nleverage\n \nmy\n \nexpertise\n \nto\n \nfurther\n \nAmazo...",
          "File: model_risk_management/self_prep/Stories.pdf<br>Text: 6)  Hire  and  develop  the  best  7)  Insist  on  the  highest  standards  8)  Think  big   9)  Bia...",
          "File: model_risk_management/self_prep/Stories.pdf<br>Text: need\n \nto\n \ngo\n \ndeeper\n    \nStories  \n1.  Snowflake  onboarding  LPs  Ownership,Think  big,  Have  ...",
          "File: model_risk_management/self_prep/Stories.pdf<br>Text: Short  version:   Situation:  The  company's  analytics  community  was  transitioning  from  Terada...",
          "File: model_risk_management/self_prep/Stories.pdf<br>Text: Snowflake.\n \nLearning\n \nfrom\n \nprevious\n \nattempts,\n \nI\n \nconducted\n \nthorough\n \ninvestigations,\n \ni...",
          "File: model_risk_management/self_prep/Stories.pdf<br>Text: operations.\n \nAdditionally,\n \nI\n \nmentored\n \na\n \njunior\n \nassociate,\n \nemphasizing\n \nthe\n \nimportanc...",
          "File: model_risk_management/self_prep/Stories.pdf<br>Text: 6\n \nto\n \n12\n \nmonths,\n \nthe\n \nModel\n \nRisk\n \nManagement\n \ngroup\n \npart\n \nof\n \nthe\n \nthe\n \n2nd\n \nline...",
          "File: model_risk_management/self_prep/Stories.pdf<br>Text: compared\n \nto\n \nTeradata\n \nwhile\n \nall\n \nelse\n \nare\n \nequal\n \n),\n \nwhat’s\n \nmore\n \nimportantly\n \nis\n...",
          "File: model_risk_management/self_prep/Stories.pdf<br>Text: successful  onboarding  to  Snowflake  for  our  group,  providing  every  validator  with  access  ...",
          "File: model_risk_management/self_prep/Stories.pdf<br>Text: I\n \nreached\n \nout\n \nto\n \nother\n \nteams\n \nwho\n \nhad\n \nalready\n \nmade\n \nthe\n \ntransition\n \nto\n \nSnowfl...",
          "File: model_risk_management/self_prep/Stories.pdf<br>Text: months.\n \nFollowing\n \nthis\n \nachievement,\n \nI\n \nalso\n \nconducted\n \ntraining\n \nsessions\n \nto\n \nhelp\n ...",
          "File: model_risk_management/self_prep/Stories.pdf<br>Text: their\n \npriorities.\n \nCompeting\n \npriorities\n \nare\n \nalways\n \nthere.\n \nThis\n \nshift\n \nhelps\n \npreven...",
          "File: model_risk_management/self_prep/Stories.pdf<br>Text: its\n \nanalytics\n \ncommunity\n \nfrom\n \nTeradata\n \nto\n \nSnowflake\n \nto\n \nembrace\n \ncloud-based\n \ncomput...",
          "File: model_risk_management/self_prep/Stories.pdf<br>Text: Snowflake  promptly  jeopardized  major  validation  projects,  exposing  the  company  to  delays  ...",
          "File: model_risk_management/self_prep/Stories.pdf<br>Text: computing\n \nresources\n \nfor\n \neach\n \nvalidator.\n  Actions:  My  journey  to  onboard  the  team  to ...",
          "File: model_risk_management/self_prep/Stories.pdf<br>Text: teams\n \nand\n \nother\n \nvalidation\n \nunits\n \nensured\n \nclarity\n \nof\n \nobjectives\n \nand\n \neffective\n \nc...",
          "File: model_risk_management/self_prep/Stories.pdf<br>Text: urgency\n \nto\n \nalign\n \nwith\n \norganizational\n \npriorities.\n \nBy\n \nadopting\n \na\n \nbroader\n \nperspecti...",
          "File: model_risk_management/self_prep/Stories.pdf<br>Text: Soon  after  COVID  started,  we  started  to  observe  model  performance  breakdown.  Fed  \nreques...",
          "File: model_risk_management/self_prep/Stories.pdf<br>Text: In\n \nApril\n \n2020,\n \nWe\n \nobserved\n \nan\n \nunprecedented\n \nrapid\n \nspike\n \nof\n \nboth\n \neconomic\n \nind...",
          "File: model_risk_management/self_prep/Stories.pdf<br>Text: approximately\n \n12\n \nmodels.\n \nHalf\n \nof\n \nthese\n \nmodels\n \nwere\n \nnewly\n \nintroduced\n \nin\n \nthis\n \n...",
          "File: model_risk_management/self_prep/Stories.pdf<br>Text: commercial\n \nloss\n \nforecasting\n \nmodel\n \nsuite,\n \ncomprising\n \nroughly\n \n12\n \nmodels.\n \nHalf\n \nof\n ...",
          "File: model_risk_management/self_prep/Stories.pdf<br>Text: heavy,\n \nwe\n \nhave\n \nnever\n \nvalidated\n \nthis\n \nmodel\n \nwith\n \nthis\n \nhigh\n \nlevel\n \nrisk\n \nbefore.\n...",
          "File: model_risk_management/self_prep/Stories.pdf<br>Text: objective\n \nin\n \nmy\n \nmind\n \nis\n \nto\n \nhold\n \nthe\n \nbar\n \nhigh\n \ngiven\n \nthe\n \nnature\n \nof\n \nthis\n \n...",
          "File: model_risk_management/self_prep/Stories.pdf<br>Text: documenting  the  changed  model  component  and  model  risks  around  COVID  specific  economic  \n...",
          "File: model_risk_management/self_prep/Stories.pdf<br>Text: Thirdly,  where  to  focus  in  terms  of  risks.  I  decided  to  be  a  forward  looking  approach...",
          "File: model_risk_management/self_prep/Stories.pdf<br>Text: we\n \ncover\n \nall\n \nthe\n \nmajor\n \ndimensions,\n \nand\n \nwe\n \ncan\n \nuse\n \nit\n \nsize\n \nmodel\n \nrisk\n \nand...",
          "File: model_risk_management/self_prep/Stories.pdf<br>Text: to\n \nhave'\n \ncategory\n \nto\n \nmaintain\n \nefficiency.\n \nI\n \nadvocated\n \nfor\n \na\n \nfocused\n \nvalidation...",
          "File: model_risk_management/self_prep/Stories.pdf<br>Text: decision-making\n \nand\n \ndefense\n \nof\n \nrisk\n \nexclusions.\n  thirdly,  organized  a  team  of  2  ass...",
          "File: model_risk_management/self_prep/Stories.pdf<br>Text: Lastly,  I  also  proposed  to  my  boss  to  build  a  dashboard  for  commercial  stress  testing ...",
          "File: model_risk_management/self_prep/Stories.pdf<br>Text: scrutiny\n \nahead,\n \nI\n \nproposed\n \na\n \nclear\n \ntrade-off\n \ndecision\n \nframework\n \nto\n \nprioritize\n \n...",
          "File: model_risk_management/self_prep/Stories.pdf<br>Text: was\n \nconducted\n \nwith\n \nforesight,\n \ntaking\n \ninto\n \naccount\n \nmodel\n \nusage\n \nand\n \nforecast\n \nimp...",
          "File: model_risk_management/self_prep/Stories.pdf<br>Text: at\n \nevery\n \nstep.\n  Lastly,  to  be  proactive,  I  proposed  to  my  boss  the  creation  of  a  d...",
          "File: model_risk_management/self_prep/Stories.pdf<br>Text: built\n \nit.\n \n   Finally,  taking  a  proactive  approach,  I  suggested  to  my  boss  the  develop...",
          "File: model_risk_management/self_prep/Stories.pdf<br>Text: weaknesses  and  the  reason  behind.  I  was  able  to  convince  my  boss  to  shift  the  priorit...",
          "File: model_risk_management/self_prep/Stories.pdf<br>Text: patterns\n \nand\n \neconomic\n \nscenarios\n \nduring\n \nstress\n \ntesting\n \ncycles.\n \nIt\n \nalso\n \nenables\n \n...",
          "File: model_risk_management/self_prep/Stories.pdf<br>Text: OCC\n \nand\n \nFed\n \njoint\n \nexam,\n \nthere\n \nwere\n \nno\n \nmajor\n \nconcerns\n \nraised\n \nby\n \ninternal\n \nre...",
          "File: model_risk_management/self_prep/Stories.pdf<br>Text: RAS  system     Situation:We  perform  validation  across  a  range  of  models,  frequently  encoun...",
          "File: model_risk_management/self_prep/Stories.pdf<br>Text: process.\n \n Task:We  aim  to  develop  a  prototype  for  a  fully  automated  validation  package, ...",
          "File: model_risk_management/self_prep/Stories.pdf<br>Text: to\n \nbe\n \nsolved\n \nand\n \nthe\n \nend\n \nproduct\n \nwe\n \nwant\n \nto\n \nsee.\n \nBased\n \non\n \nthe\n \ntime\n \nand...",
          "File: model_risk_management/self_prep/Stories.pdf<br>Text: to\n \nword\n \ndocuments.\n \n  I  want  our  team  to  all  move  towards  the  same  north  star  to  a...",
          "File: model_risk_management/self_prep/Stories.pdf<br>Text: modulus\n \nand\n \nassign\n \ntasks\n \nto\n \neach\n \nteam\n \nmember\n \nafter\n \nconsidering\n \ntheir\n \nvalidatio...",
          "File: model_risk_management/self_prep/Stories.pdf<br>Text: I  also  worked  with  the  developers  on  providing  clear  documentation  for  better  user  expe...",
          "File: model_risk_management/self_prep/Stories.pdf<br>Text: the\n \npackage\n \nwherever\n \napplicable,\n \nand\n \ncarry\n \nout\n \nongoing\n \nmaintenance.\n \nWe\n \nalso\n \nin...",
          "File: model_risk_management/self_prep/Stories.pdf<br>Text: approach\n \nby\n \nautomating\n \nthese\n \ntasks,\n \nfreeing\n \nup\n \nvalidators\n \nto\n \nfocus\n \non\n \nareas\n \n...",
          "File: model_risk_management/self_prep/Stories.pdf<br>Text: reports.\n \nThe\n \ngoal\n \nwas\n \nfor\n \nusers\n \nto\n \nexecute\n \na\n \nsingle\n \nline\n \nof\n \nscript\n \nin\n \nth...",
          "File: model_risk_management/self_prep/Stories.pdf<br>Text: statistical\n \ntesting,\n \nsuch\n \nas,\n \nnon-linearity,\n \nnon-constant\n \nvariance,\n \nnormality\n \nof\n \ne...",
          "File: model_risk_management/self_prep/Stories.pdf<br>Text: much\n \ntime,\n \nand\n \ncan\n \nbe\n \nassessed\n \nafterwards.\n \n  Actions:  Leading  a  team  of  five  ass...",
          "File: model_risk_management/self_prep/Stories.pdf<br>Text: resources,  I  treated  this  as  a  side  project  without  compromising  our  primary  validation ...",
          "File: model_risk_management/self_prep/Stories.pdf<br>Text: to\n \nscale\n \ncompany-wide\n \nwas\n \nacknowledged,\n \nour\n \nimmediate\n \naim\n \nwas\n \nto\n \nshowcase\n \nits\n...",
          "File: model_risk_management/self_prep/Stories.pdf<br>Text: to\n \nensure\n \nquality.\n  Result:  Within  four  months,  we  successfully  developed  a  prototype  ...",
          "File: model_risk_management/self_prep/Stories.pdf<br>Text: innovation\n \neven\n \nwithin\n \ntraditionally\n \nstructured\n \nroles\n \nlike\n \nvalidation.\n \nIt\n \nundersco...",
          "File: model_risk_management/self_prep/Stories.pdf<br>Text: Daniel\n \nKalman's\n \ninsights\n \nin\n \n\"Think\n \nFast\n \nand\n \nSlow,\"\n \nmy\n \naim\n \nwas\n \nto\n \ncreate\n \nan...",
          "File: model_risk_management/self_prep/Stories.pdf<br>Text: Task:  Our  primary  objective  was  to  develop  a  prototype  for  a  fully  automated  validation...",
          "File: model_risk_management/self_prep/Stories.pdf<br>Text: for\n \nrefinement\n \nby\n \nvalidators\n \nas\n \nneeded,\n \nstreamlining\n \nthe\n \nvalidation\n \nprocess\n \nand\n...",
          "File: model_risk_management/self_prep/Stories.pdf<br>Text: this\n \nas\n \na\n \nsupplementary\n \nproject\n \nwithout\n \ncompromising\n \nour\n \ncore\n \nvalidation\n \nduties....",
          "File: model_risk_management/self_prep/Stories.pdf<br>Text: initiative\n \nto\n \neventually\n \nscale\n \ncompany-wide,\n \nour\n \nimmediate\n \naim\n \nwas\n \nto\n \ndemonstrat...",
          "File: model_risk_management/self_prep/Stories.pdf<br>Text: experience\n \nand\n \nconducted\n \nextensive\n \ntesting\n \nto\n \nguarantee\n \nquality\n \nand\n \nreliability.\n ...",
          "File: model_risk_management/self_prep/Stories.pdf<br>Text: other\n \nautomation\n \ntools\n \nfor\n \nvalidation\n \npurposes.\n  This  experience  proved  to  be  transf...",
          "File: model_risk_management/self_prep/Stories.pdf<br>Text: underscored  the  significance  of  seizing  opportunities  for  improvement  and  invention  in  an...",
          "File: model_risk_management/self_prep/Stories.pdf<br>Text: …\n \n).\n  \nThe\n \nmodels\n \nstart\n \nto\n \nprovide\n \nunreasonable\n \nforecasts\n \nwith\n \nthe\n \nscenarios\n \n...",
          "File: model_risk_management/self_prep/Stories.pdf<br>Text: from\n \nMoodys’\n \nin\n \norder\n \nto\n \nreflect\n \nthe\n \nupdated\n \neconomic\n \nforecast,\n \nas\n \nthe\n \nlosse...",
          "File: model_risk_management/self_prep/Stories.pdf<br>Text: $800\n \nbillion\n \nand\n \nmortgage\n \nforbearance\n \nprograms.\n \nConsequently,\n \nadjustments\n \nwere\n \nnec...",
          "File: model_risk_management/self_prep/Stories.pdf<br>Text: The  unemployment  rate  peaked  at  an  unprecedented  level,  not  seen  since  data  collection  ...",
          "File: model_risk_management/self_prep/Stories.pdf<br>Text: total\n \nspending,\n \nextended\n \nmany\n \nof\n \nthe\n \nbenefits\n \navailable\n \nunder\n \nthe\n \nCARES\n \nAct\n \n...",
          "File: model_risk_management/self_prep/Stories.pdf<br>Text: for\n \nsignificant\n \npost-model\n \nadjustments?\n   A  First  of  all,  even  though  the  idea  of  ho...",
          "File: model_risk_management/self_prep/Stories.pdf<br>Text: which\n \nis\n \nthe\n \nforecasted\n \nlosses\n \nin\n \nthe\n \nnext\n \n9\n \nquarters\n \nas\n \ndefined\n \nby\n \nthe\n \n...",
          "File: model_risk_management/self_prep/Stories.pdf<br>Text: economic  scenarios  and  the  correlation  with  the  response  variable  can  generate  extreme  \n...",
          "File: model_risk_management/self_prep/Stories.pdf<br>Text: on\n \nmultiple\n \nmodel\n \noutput\n \nand\n \ntake\n \nthe\n \naverage\n \nvalue\n \nas\n \nthe\n \nfinal\n \nforecast.\n ...",
          "File: model_risk_management/self_prep/Stories.pdf<br>Text: we\n \nencountered\n \ndue\n \nto\n \nextreme\n \nvalues\n \nled\n \nby\n \neconomic\n \nscenarios.\n \n  Lastly,  it  i...",
          "File: model_risk_management/self_prep/Stories.pdf<br>Text: tight\n \ntimeline.\n \nIt\n \nis\n \nnot\n \nthe\n \ntime\n \nto\n \nwatch\n \nand\n \nmake\n \nothers\n \nlooked\n \nbad,\n \n...",
          "File: model_risk_management/self_prep/Stories.pdf<br>Text: such\n \nas\n \nthe\n \nQoQ\n \nchange\n \nin\n \nunemployment\n \nclaims\n \ndeviating\n \nsignificantly\n \nfrom\n \nhis...",
          "File: model_risk_management/self_prep/Stories.pdf<br>Text: Presenting  this  idea,  along  with  its  results  and  associated  pros  and  cons,  to  senior  \n...",
          "File: model_risk_management/self_prep/Stories.pdf<br>Text: the\n \nvalidation\n \nteam,\n \nfelt\n \na\n \nprofound\n \nsense\n \nof\n \nobligation\n \nto\n \nindependently\n \nasse...",
          "File: model_risk_management/self_prep/Stories.pdf<br>Text: as\n \nmandated\n \nby\n \nthe\n \nFed\n \nstress\n \ntest.\n \nThe\n \ncrux\n \nof\n \nthe\n \nchallenge\n \nlay\n \nin\n \nthe...",
          "File: model_risk_management/self_prep/Stories.pdf<br>Text: as\n \nwell\n \nas\n \npotential\n \nregulatory\n \nscrutiny\n \nof\n \nmodel\n \nspecifications.\n  Presenting  this...",
          "File: model_risk_management/self_prep/Stories.pdf<br>Text: executed\n \nstress\n \ntests\n \nin\n \n2020,\n \n2021,\n \n2022,\n \nthe\n \n3\n \nmost\n \ndifficult\n \nyears.\n  \nThe\n...",
          "File: model_risk_management/self_prep/Stories.pdf<br>Text: Credit   Losses  accounting  standard  which  is  implemented  in  2019)   models  which  are  quart...",
          "File: model_risk_management/self_prep/Stories.pdf<br>Text: basis\n \nsince\n \ntheir\n \nimplementation\n \nin\n \n2019.\n       \nSituation:  The  overarching  aim  of  s...",
          "File: model_risk_management/self_prep/Stories.pdf<br>Text: models,\n \nas\n \nthey\n \nstruggled\n \nto\n \nassimilate\n \nthe\n \nprofound\n \nimpacts\n \nof\n \ngovernment\n \nsti...",
          "File: model_risk_management/self_prep/Stories.pdf<br>Text: Task:  The  task  at  hand  is  to  enhance  model  projections  and  forecasts  \nwithout\n \nnecessit...",
          "File: model_risk_management/self_prep/Stories.pdf<br>Text: tackle\n \nthis\n \nissue\n \nrests\n \nwith\n \nthe\n \nfirst-line\n \nmodel\n \ndevelopers,\n \nI,\n \nas\n \na\n \nmember...",
          "File: model_risk_management/self_prep/Stories.pdf<br>Text: particularly\n \nfocusing\n \non\n \nthe\n \nforecasted\n \nlosses\n \nover\n \nthe\n \nnext\n \nnine\n \nquarters\n \nas\n...",
          "File: model_risk_management/self_prep/Stories.pdf<br>Text: modeling,\n \nI\n \nacknowledged\n \npotential\n \ndrawbacks,\n \nincluding\n \nincreased\n \ncomplexity\n \nand\n \nw...",
          "File: model_risk_management/self_prep/Stories.pdf<br>Text: hinge  on  a  few  specific  drivers  alone.  The  adaptability  of  alternative  model  specificati...",
          "File: model_risk_management/self_prep/Stories.pdf<br>Text: on\n \nscenarios\n \nas\n \nwell.\n \n  Result:  Thanks  to  the  approach  I  advocated  for,  along  with ...",
          "File: model_risk_management/self_prep/Stories.pdf<br>Text: institutions\n \nmaintain\n \nrobust\n \ncapital\n \nreserves,\n \nthus\n \nenabling\n \nthem\n \nto\n \nwithstand\n \ne...",
          "File: model_risk_management/self_prep/Stories.pdf<br>Text: payments\n \nexceeding\n \n$800\n \nbillion\n \nand\n \nmortgage\n \nforbearance\n \nprograms.\n \nConsequently,\n \na...",
          "File: model_risk_management/self_prep/Stories.pdf<br>Text: data.\n  Task:  The  primary  objective  at  hand  is  to  enhance  the  projection  and  forecasting...",
          "File: model_risk_management/self_prep/Stories.pdf<br>Text: urgency  of  the  situation.  This  called  for  proactive  engagement  rather  than  passive  \nobse...",
          "File: model_risk_management/self_prep/Stories.pdf<br>Text: of\n \nrequesting\n \nscenario\n \nupdates\n \nfrom\n \nregulators,\n \nI\n \nproposed\n \nan\n \nalternative\n \napproa...",
          "File: model_risk_management/self_prep/Stories.pdf<br>Text: validation\n \nreport,\n \nemphasizing\n \nthat\n \neconomic\n \nfactors\n \ninfluencing\n \nborrower\n \nrepayment\n...",
          "File: model_risk_management/self_prep/Stories.pdf<br>Text: our\n \nquarterly\n \nallowance\n \nassessments,\n \nparticularly\n \nfor\n \nCECL\n \n(Current\n \nExpected\n \nCredi...",
          "File: model_risk_management/self_prep/Stories.pdf<br>Text: T    A     \nR\n  6.  Validation  timeline  management   Situation:  I  worked  in  a  model  validati...",
          "File: model_risk_management/self_prep/Stories.pdf<br>Text: minor\n \nmodel\n \nchanges.\n \nRegulators\n \nrequires\n \nus\n \nto\n \nvalidate\n \nany\n \nmodel\n \nchanges\n \nbig\n...",
          "File: model_risk_management/self_prep/Stories.pdf<br>Text: regarding\n \nthe\n \nkey\n \nmodel\n \nrisks\n \nwe\n \nidentified,\n \nto\n \ngain\n \nconsensus\n \nand\n \nreceive\n \nt...",
          "File: model_risk_management/self_prep/Stories.pdf<br>Text: course.\n \nOften\n \nstarted\n \nwith\n \na\n \ncouple\n \nof\n \ndelays,\n \nthen\n \nmigrated\n \nto\n \nmajor\n \ndelays...",
          "File: model_risk_management/self_prep/Stories.pdf<br>Text: For  example,  I  managed  10+  projects  in  the  2021  stress  testing  cycle.  With  5  internal ...",
          "File: model_risk_management/self_prep/Stories.pdf<br>Text: changes\n \nby\n \nsub\n \nstages,\n \nand\n \nrely\n \non\n \njira\n \nand\n \ngoogle\n \nsheet\n \nto\n \nset\n \nup\n \ncommi...",
          "File: model_risk_management/self_prep/Stories.pdf<br>Text: forecasting\n \nmodels\n \nused\n \nin\n \nstress\n \ntests,\n \nallowance\n \nassessments,\n \nand\n \nvarious\n \nbusi...",
          "File: model_risk_management/self_prep/Stories.pdf<br>Text: scrutiny\n \nannually.\n \nThis\n \nprocess\n \nwas\n \ninherently\n \nstressful\n \nand\n \nhigh-pressure,\n \ncompou...",
          "File: model_risk_management/self_prep/Stories.pdf<br>Text: Actions:  1.  Developing  a  Projection  Management  Process:  I  spearheaded  the  development  of ...",
          "File: model_risk_management/self_prep/Stories.pdf<br>Text: deliveries\n \nusing\n \ntools\n \nlike\n \nJira\n \nand\n \nGoogle\n \nSheets.\n \nThis\n \ntwo-way\n \nstreet\n \napproa...",
          "File: model_risk_management/self_prep/Stories.pdf<br>Text: Clear\n \nand\n \ntransparent\n \nresponsibilities,\n \nalong\n \nwith\n \ndiscussions\n \nsurrounding\n \nkey\n \ndec...",
          "File: model_risk_management/self_prep/Stories.pdf<br>Text: be  closer  to  the  core  business  and  strategic  decisioning.  Higher  regulatory  scrutiny  lim...",
          "File: model_risk_management/self_prep/Stories.pdf<br>Text: new\n \ntask.\n  Secondly,  I  have  to  build  the  team  myself,  quickly,  I  have  2  direct  repor...",
          "File: model_risk_management/self_prep/Stories.pdf<br>Text: to\n \nprovide\n \nthem\n \nwith\n \ntransparency\n \nand\n \nclarity\n \non\n \ntheir\n \nindividual\n \nresponsibiliti...",
          "File: model_risk_management/self_prep/Stories.pdf<br>Text: Fourthly,  I  also  enhanced  my  knowledge  in  terms  of  building  credit  modeling  strategy.  T...",
          "File: model_risk_management/self_prep/Stories.pdf<br>Text: are\n \nfacing\n \nand\n \nthe\n \nareas\n \nto\n \nimprove.\n \nThis\n \nmultidimensional\n \napproach\n \nhas\n \nbeen\n ...",
          "File: model_risk_management/self_prep/Stories.pdf<br>Text: Results:\n I  shared  with  our  team  and  our  leader  the  strategy  we  built.  It  is  a  long  ...",
          "File: model_risk_management/self_prep/Stories.pdf<br>Text: development\n \nteam\n \nfor\n \ndriving\n \nbusiness\n \nin\n \nthe\n \ncredit\n \ncard\n \nsector.\n \nThe\n \nmajor\n \nm...",
          "File: model_risk_management/self_prep/Stories.pdf<br>Text: role\n \nchanged\n \nto\n \nbuild\n \ncredit\n \nmodeling\n \nstrategy.\n  \n  Task:  What  should  I  do?  How  d...",
          "File: model_risk_management/self_prep/Stories.pdf<br>Text: objective.\n \nDo\n \nmore\n \nwith\n \nless.\n 3.  I  also  focused  on  my  team’s  success  and  growth.  ...",
          "File: model_risk_management/self_prep/Stories.pdf<br>Text: scientist.  What  are  the  problems  to  solve?  What  is  the  result  my  bosses  are  looking  f...",
          "File: model_risk_management/self_prep/Stories.pdf<br>Text: assessment\n \nand\n \nadjustment.\n \nThe\n \napproach\n \naims\n \nfor\n \nincremental\n \nimprovements\n \naligned\n...",
          "File: model_risk_management/self_prep/Stories.pdf<br>Text: this\n \ntransition\n \nalso\n \nmeant\n \nnavigating\n \nwithin\n \na\n \nregulatory\n \nenvironment\n \nthat\n \nimpos...",
          "File: model_risk_management/self_prep/Stories.pdf<br>Text: the\n \nchallenge\n \nas\n \nan\n \nunparalleled\n \nopportunity\n \nto\n \nbroaden\n \nmy\n \nskill\n \nset\n \nand\n \ncon...",
          "File: model_risk_management/self_prep/Stories.pdf<br>Text: 2.  Rapid  Team  Building:  With  an  acute  awareness  of  the  demands  of  my  new  role,  I  \nsw...",
          "File: model_risk_management/self_prep/Stories.pdf<br>Text: justify\n \ninitiatives\n \nand\n \ninform\n \nstrategic\n \ndecisions.\n \nAdditionally,\n \nI\n \nproactively\n \nen...",
          "File: model_risk_management/self_prep/Stories.pdf<br>Text: modeling\n \nstrategy,\n \nI\n \norganized\n \nand\n \nfacilitated\n \nmeetings\n \nwith\n \nvarious\n \npeer\n \nteams\n...",
          "File: model_risk_management/self_prep/Stories.pdf<br>Text: 7.   Results:  This  transformative  journey  proved  to  be  one  of  the  most  enriching  experie...",
          "File: model_risk_management/self_prep/Stories.pdf<br>Text: 10.  Build  a  culture  committee  including  4  subcommittees        11.  Build  a  culture  commit...",
          "File: model_risk_management/regulatory_doc/sr1107a1.pdf<br>Text: Page 1 \nSR Letter  11-7 \nAttachment \nBoard of Governors of the Federal Reserve System \nOffice of the...",
          "File: model_risk_management/regulatory_doc/sr1107a1.pdf<br>Text: banks, and all other institutions for which the Federal Reserve Board is the primary supervisor. End...",
          "File: model_risk_management/regulatory_doc/sr1107a1.pdf<br>Text: by the Basel Committee on Banking Supervision. Even apart from these regulatory \nconsiderations, how...",
          "File: model_risk_management/regulatory_doc/sr1107a1.pdf<br>Text: Page 2 \nThis guidance describes the key aspects of  effective  model risk management. Section II \nex...",
          "File: model_risk_management/regulatory_doc/sr1107a1.pdf<br>Text: models are also vital elements. Furthermore, model risk management encompasses \ngovernance and contr...",
          "File: model_risk_management/regulatory_doc/sr1107a1.pdf<br>Text: and State Member Banks,\" which highlights various concepts pertinent to model risk management, \nincl...",
          "File: model_risk_management/regulatory_doc/sr1107a1.pdf<br>Text: management. Many banks may already have in place a large portion of these practices, \nbut all banks ...",
          "File: model_risk_management/regulatory_doc/sr1107a1.pdf<br>Text: Page 3 \nIII. OVERVIEW OF MODEL RISK MANAGEMENT \nFor the purposes of this document, the term model re...",
          "File: model_risk_management/regulatory_doc/sr1107a1.pdf<br>Text: exposures, instruments or positions, conducting stress testing, assessing adequacy of \ncapital, mana...",
          "File: model_risk_management/regulatory_doc/sr1107a1.pdf<br>Text: process. End of Footnote 3.] \nModels are simplified representations of real-world relationships amon...",
          "File: model_risk_management/regulatory_doc/sr1107a1.pdf<br>Text: situations, it is important to understand a model's capabilities and limitations given its \nsimplifi...",
          "File: model_risk_management/regulatory_doc/sr1107a1.pdf<br>Text: routines, selection of inputs and estimation, and implementation in information \nsystems. Errors can...",
          "File: model_risk_management/regulatory_doc/sr1107a1.pdf<br>Text: Page 4 \nfrom those calculations. Finally, the quality of model outputs depends on the \nquality of in...",
          "File: model_risk_management/regulatory_doc/sr1107a1.pdf<br>Text: makers need to understand the limitations of a model to avoid using it in ways \nthat are not consist...",
          "File: model_risk_management/regulatory_doc/sr1107a1.pdf<br>Text: model risk is affected by interaction and dependencies among models; reliance on \ncommon assumptions...",
          "File: model_risk_management/regulatory_doc/sr1107a1.pdf<br>Text: the model development process and when challenge is supported by well-designed \ncompensation practic...",
          "File: model_risk_management/regulatory_doc/sr1107a1.pdf<br>Text: Page 5 \nadjustments to outputs, can be an effective tool, though not an excuse to avoid improving \nm...",
          "File: model_risk_management/regulatory_doc/sr1107a1.pdf<br>Text: Model risk management begins with robust model development, implementation, and \nuse. Another essent...",
          "File: model_risk_management/regulatory_doc/sr1107a1.pdf<br>Text: technical process. The experience and judgment of developers, as much as their technical \nknowledge,...",
          "File: model_risk_management/regulatory_doc/sr1107a1.pdf<br>Text: this subjectivity elevates the importance of sound and comprehensive model risk \nmanagement processe...",
          "File: model_risk_management/regulatory_doc/sr1107a1.pdf<br>Text: Page 6 \nunderlying the model should be well documented and generally supported by published \nresearc...",
          "File: model_risk_management/regulatory_doc/sr1107a1.pdf<br>Text: should be rigorous assessment of data quality and relevance, and appropriate \ndocumentation. Develop...",
          "File: model_risk_management/regulatory_doc/sr1107a1.pdf<br>Text: An integral part of model development is testing, in which the various components of a \nmodel and it...",
          "File: model_risk_management/regulatory_doc/sr1107a1.pdf<br>Text: intended. Extreme values for inputs should be evaluated to identify any boundaries of \nmodel effecti...",
          "File: model_risk_management/regulatory_doc/sr1107a1.pdf<br>Text: ones based on sample information. Different tests have different strengths and \nweaknesses under dif...",
          "File: model_risk_management/regulatory_doc/sr1107a1.pdf<br>Text: Page 7 \nBanks should ensure that the development of the more judgmental and qualitative aspects \nof ...",
          "File: model_risk_management/regulatory_doc/sr1107a1.pdf<br>Text: and requirements of information systems. Sound model risk management depends on \nsubstantial investm...",
          "File: model_risk_management/regulatory_doc/sr1107a1.pdf<br>Text: by model outcomes may question the methods or assumptions underlying the models, \nparticularly if th...",
          "File: model_risk_management/regulatory_doc/sr1107a1.pdf<br>Text: compensation, and thus may ignore other elements and applications of the models. \nFinally, such chal...",
          "File: model_risk_management/regulatory_doc/sr1107a1.pdf<br>Text: decision makers and modelers often come from quite different backgrounds and may \ninterpret the cont...",
          "File: model_risk_management/regulatory_doc/sr1107a1.pdf<br>Text: Page 8 \nindications of the model's accuracy, robustness, and stability as well as information on \nmo...",
          "File: model_risk_management/regulatory_doc/sr1107a1.pdf<br>Text: uncertainty and avoid spurious precision. At other times, only a qualitative assessment of \nmodel un...",
          "File: model_risk_management/regulatory_doc/sr1107a1.pdf<br>Text: While conservative use of models is prudent in general, banks should be careful in \napplying conserv...",
          "File: model_risk_management/regulatory_doc/sr1107a1.pdf<br>Text: measurement of that conservatism that is communicated to model users. In some cases, \nsensitivity an...",
          "File: model_risk_management/regulatory_doc/sr1107a1.pdf<br>Text: important to model risk management. But it is not enough for model developers and users \nto understa...",
          "File: model_risk_management/regulatory_doc/sr1107a1.pdf<br>Text: Page 9 \nV. MODEL VALIDATION \nModel validation is the set of processes and activities intended to ver...",
          "File: model_risk_management/regulatory_doc/sr1107a1.pdf<br>Text: should be commensurate with the bank's overall use of models, the complexity and \nmateriality of its...",
          "File: model_risk_management/regulatory_doc/sr1107a1.pdf<br>Text: validation work may be most effectively done by model developers and users; it is \nessential, howeve...",
          "File: model_risk_management/regulatory_doc/sr1107a1.pdf<br>Text: addition, corporate culture plays a role if it establishes support for objective thinking and \nencou...",
          "File: model_risk_management/regulatory_doc/sr1107a1.pdf<br>Text: Page 10 \nbank to ensure that any issues and deficiencies are appropriately addressed in a timely \nan...",
          "File: model_risk_management/regulatory_doc/sr1107a1.pdf<br>Text: the deficiencies are too severe to be addressed within the model's framework, the model \nshould be r...",
          "File: model_risk_management/regulatory_doc/sr1107a1.pdf<br>Text: check on model use during periods of benign economic and financial conditions, when \nestimates of ri...",
          "File: model_risk_management/regulatory_doc/sr1107a1.pdf<br>Text: existing validation activities are sufficient. Such a determination could simply affirm \nprevious va...",
          "File: model_risk_management/regulatory_doc/sr1107a1.pdf<br>Text: provides information about the source and extent of model risk. Validation also can \nreveal deterior...",
          "File: model_risk_management/regulatory_doc/sr1107a1.pdf<br>Text: Page 11 \nKey Elements of Comprehensive Validation \nAn effective validation framework should include ...",
          "File: model_risk_management/regulatory_doc/sr1107a1.pdf<br>Text: considered, and consistent with published research and with sound industry practice. \nDevelopmental ...",
          "File: model_risk_management/regulatory_doc/sr1107a1.pdf<br>Text: included. Key assumptions and the choice of variables should be assessed, with analysis \nof their im...",
          "File: model_risk_management/regulatory_doc/sr1107a1.pdf<br>Text: Unexpectedly large changes in outputs in response to small changes in inputs can indicate \nan unstab...",
          "File: model_risk_management/regulatory_doc/sr1107a1.pdf<br>Text: Page 12 \nputting less reliance on its outputs, placing limits on model use, or developing a new \napp...",
          "File: model_risk_management/regulatory_doc/sr1107a1.pdf<br>Text: activities, clients, or market conditions necessitate adjustment, redevelopment, or \nreplacement of ...",
          "File: model_risk_management/regulatory_doc/sr1107a1.pdf<br>Text: that appear. This program should include process verification and benchmarking. \nProcess verificatio...",
          "File: model_risk_management/regulatory_doc/sr1107a1.pdf<br>Text: multiple data repositories and reporting systems. User-developed applications, such as \nspreadsheets...",
          "File: model_risk_management/regulatory_doc/sr1107a1.pdf<br>Text: Page 13 \ninternal and external information sources, including information provided by third-party \nv...",
          "File: model_risk_management/regulatory_doc/sr1107a1.pdf<br>Text: overrides are an indication that, in some respect, the model is not performing as intended \nor has l...",
          "File: model_risk_management/regulatory_doc/sr1107a1.pdf<br>Text: alternative models that are more accurate or comprehensive but also too time consuming \nto run on a ...",
          "File: model_risk_management/regulatory_doc/sr1107a1.pdf<br>Text: model and the benchmark match well, that is evidence in favor of the model, but it should \nbe interp...",
          "File: model_risk_management/regulatory_doc/sr1107a1.pdf<br>Text: reasons for observed variation between the two. If outcomes analysis produces evidence \nof poor perf...",
          "File: model_risk_management/regulatory_doc/sr1107a1.pdf<br>Text: Page 14 \ninclude expert judgment to check the intuition behind the outcomes and confirm that the \nre...",
          "File: model_risk_management/regulatory_doc/sr1107a1.pdf<br>Text: will have weaknesses. For example, some tests are better at checking a model's ability to \nrank-orde...",
          "File: model_risk_management/regulatory_doc/sr1107a1.pdf<br>Text: original model, developers, users, and reviewers should realize that additional changes— \nor even a ...",
          "File: model_risk_management/regulatory_doc/sr1107a1.pdf<br>Text: analysis is to determine whether differences stem from the omission of material factors \nfrom the mo...",
          "File: model_risk_management/regulatory_doc/sr1107a1.pdf<br>Text: deviation in expected versus actual performance and unexplained volatility in the profits \nand losse...",
          "File: model_risk_management/regulatory_doc/sr1107a1.pdf<br>Text: Page 15 \nassessing any clustering of exceptions and checking the distribution of losses against \noth...",
          "File: model_risk_management/regulatory_doc/sr1107a1.pdf<br>Text: Models with long forecast horizons should be back-tested, but given the amount of time it \nwould tak...",
          "File: model_risk_management/regulatory_doc/sr1107a1.pdf<br>Text: bank's predetermined thresholds of acceptability. In such cases, model adjustment, \nrecalibration, o...",
          "File: model_risk_management/regulatory_doc/sr1107a1.pdf<br>Text: should be fully informed of those limitations when using the models for decision making. \nSuch scrut...",
          "File: model_risk_management/regulatory_doc/sr1107a1.pdf<br>Text: Page 16 \nAs a first step, banks should ensure that there are appropriate processes in place for \nsel...",
          "File: model_risk_management/regulatory_doc/sr1107a1.pdf<br>Text: Banks are expected to validate their own use of vendor products. External models may \nnot allow full...",
          "File: model_risk_management/regulatory_doc/sr1107a1.pdf<br>Text: using the bank's own outcomes. \nSystematic procedures for validation help the bank to understand the...",
          "File: model_risk_management/regulatory_doc/sr1107a1.pdf<br>Text: model development, implementation, use, and validation are satisfactory, a weak \ngovernance function...",
          "File: model_risk_management/regulatory_doc/sr1107a1.pdf<br>Text: Page 17 \nBoard of Directors and Senior Management \nModel risk governance is provided at the highest ...",
          "File: model_risk_management/regulatory_doc/sr1107a1.pdf<br>Text: framework. Duties of senior management include establishing adequate policies and \nprocedures and en...",
          "File: model_risk_management/regulatory_doc/sr1107a1.pdf<br>Text: tone for the whole organization about the importance of model risk and the need for \nactive model ri...",
          "File: model_risk_management/regulatory_doc/sr1107a1.pdf<br>Text: and keep current with changes in market conditions, bank products and strategies, bank \nexposures an...",
          "File: model_risk_management/regulatory_doc/sr1107a1.pdf<br>Text: Page 18 \nof the processes used to select and retain vendor models, including the people who should \n...",
          "File: model_risk_management/regulatory_doc/sr1107a1.pdf<br>Text: their resolution. \nPolicies should identify the roles and assign responsibilities within the model r...",
          "File: model_risk_management/regulatory_doc/sr1107a1.pdf<br>Text: Business units are generally responsible for the model risk associated with their business \nstrategi...",
          "File: model_risk_management/regulatory_doc/sr1107a1.pdf<br>Text: include risk measurement, limits, and monitoring. Other responsibilities include \nmanaging the indep...",
          "File: model_risk_management/regulatory_doc/sr1107a1.pdf<br>Text: Page 19 \nCompliance with policies is an obligation of model owners and risk-control staff, and \nther...",
          "File: model_risk_management/regulatory_doc/sr1107a1.pdf<br>Text: its appropriately delegated agent. Banks should ensure that internal audit operates with \nthe proper...",
          "File: model_risk_management/regulatory_doc/sr1107a1.pdf<br>Text: framework. \nInternal audit should verify that acceptable policies are in place and that model owners...",
          "File: model_risk_management/regulatory_doc/sr1107a1.pdf<br>Text: meeting documentation standards, including risk reporting. Additionally, internal audit \nshould perf...",
          "File: model_risk_management/regulatory_doc/sr1107a1.pdf<br>Text: Page 20 \nExternal Resources \nAlthough model risk management is an internal process, a bank may decid...",
          "File: model_risk_management/regulatory_doc/sr1107a1.pdf<br>Text: Whenever external resources are used, the bank should specify the activities to be \nconducted in a c...",
          "File: model_risk_management/regulatory_doc/sr1107a1.pdf<br>Text: range of work needed. The bank should have a contingency plan in case an external \nresource is no lo...",
          "File: model_risk_management/regulatory_doc/sr1107a1.pdf<br>Text: complexity and the bank's overall level of model usage, the following are some general \nguidelines. ...",
          "File: model_risk_management/regulatory_doc/sr1107a1.pdf<br>Text: Page 21 \nDocumentation \nWithout adequate documentation, model risk assessment and management will be...",
          "File: model_risk_management/regulatory_doc/sr1107a1.pdf<br>Text: produced in the model risk management process. \nDocumentation takes time and effort, and model devel...",
          "File: model_risk_management/regulatory_doc/sr1107a1.pdf<br>Text: bank uses models from a vendor or other third party, it should ensure that appropriate \ndocumentatio...",
          "File: model_risk_management/regulatory_doc/sr1107a1.pdf<br>Text: management. Many of the activities described in this document are common industry \npractice. But all..."
         ],
         "type": "scatter",
         "x": {
          "bdata": "XeXsQY704kFmSfNB37H1QS0ojEFZswNCeCADQv0a7UEfF/lBw6HuQRk9/kHZTsRBnz25QXbd3kHU0/VByQ8CQuGux0FW2O1BK4z4QdLG2UHSws5BP/u5QZGkt0ECNL9BfQa0QXghrUFwl8BBIT+vQWDNokGPsJ5BsUC6QfAitEEJ5bpBsK6qQeLYmUGJx7A/izvrvhIII0GcpSFB80vTQMSC3UBOgfNA/5HDQHBi5EBMo+lApglYQbsNTEGOq+ZAvQZPQXolSEFjIVBBMJNZQVX0MkFCjHhBvUZVQZhWPEHgzWxBdgeHQXgRc0HDcFFBmA5jQSqSXEEMLiVBpcgNQQI5kUGsqGpByM94QW5KZkHeP3NBdh5rQWxcOkEb5S9BfZpqQQT8ekFPLF1BwUJ6QfTYSz4LXg2+lEvzPwiXw789sw3A+AUvv8m480BXNl9ABOsPQLGuqEAlYQJB9m+TQIOFMEDvE/RAk8bLQESwh0Db8dtA3Ka/QNZ+i0D19wJAsIqFvqRGCT8MX9tAJSB1QJyy1kBj28lAA2OWQLe2mj8qozu/18I7P6EFpUCZILlAaEHEQOkPf0DPWxdB4UYmQd8cL0HQa0lBTFNQQQ1oc0FhJxJB7z82QfP1VUFhVnNBd4qIQaEWoEGs+LhB5qarQTVto0EzVJNBw5CVQb72nkGbTqhBqxuyQZwGmkF4xZNBzmGkQQjatEF40rxBigqyQT6rmUHokqVBALPKQXHFw8GC6bPBnpWvwW8gyMHACcrBGZHLwUNM1sGyGqrBcRCnwUIKlcHR+ZLBRxGLwaWLjcEcgpPB9qiWwTzQlsEa4rfBbQDEwf9NtMFp47XBv4iuwY+BpsGDGGLBoDZawSsVSME5wqrBPcifwQg/hcEORoTBNZJ0wSDje8HwQ2bBRhVSwbWATcHXBbvBMVOywf5rucHpu73Bhk3EwZ4eqMFL45vBDX6gwRgup8Hj65HBITmpwfKwsMFHy3rBFR1wwYdGpMHNUZLBJnSZwZJuoMFeUIXBlaGIwQqMgcE+I3vB0h5cwRRhZsFtkGfBYItQweYJQMGCCDLB3eFDwVd5WcGTqGjBwZvJwTkK1cFQm9XBw9XawbFd4MGB99rBbzPewaCu3cEWYd/BpObowZT068HZku7BshzlwX6c78F2OPjBNyn+waoaAsILufjBGXL7wfsy9MGTGvTBHbLKwSKGysFWCdLBHRHWwQ==",
          "dtype": "f4"
         },
         "y": {
          "bdata": "yurRPUcTnr72E6Q+4+sMQCghHEFsnJZAtNYrQPU9uEC8+UdACMtSQNqPgUCgc5nApFWgP6Z5lUD/u4tANYUEQDfnlMBkyJhAaYepQCOuuz2iKgBA/9nKQPgQRUBBE9lAimH+QDmK1UAWP4ZAMnlmQHXhNkAMGY1ARBruQK3xrEC9HW1AZ9pFQEwokkAUeRXBt0UMwcF6vr+cPLu/yUEKQNf5SUDNjOS/pb+Rv2HMPj9Z2UO/V4EUwO5DocDMe+Q93yhiwKEOt8BMiMLA8GWwwNxDh8A2GVHAmz0qQReGC0FdChvBcx0rQE2yLECUAc9AvDYHQSH0G0EkXRhBjETyQOjDzT8gGS3B2G6KQNCawUC3BBFBh5YmQTrLEEEbvPRAXeYpwW1tdECEN9FAdzAAQV/VN8GrFvLAbtgpwbFgz8CAqgjBi5WDwIaPhcCBklLAikmswAKq8MA/37nA10aGwAXVx8DiEs/ALkOBwDtmxMAbyvnAZl5DwU+PLcENDDTB3OTWwMX7579g/m/AfPu3wP6G28ABjS3Bl0U1wQ+GN8EFGMbAqcjCv5b6l8CEi9jA1kIhwX96FsF5HRPBFBVzP8PkBUANFug/elo5PjGmJb5I7xTB/WLZPx0R5z5/4pI9RlakwHb04cCbAq2/KQU/wEFTU8CRflq/NvaJwJCwvcD5/K7An0ItwLIaGsB9JqDAsd3IwNV0wMDQQtO/cDdjwJbr/r8E62y/IZygvySpCsDSqfG/RWvAv9vCYL5UIy/AKYr0v64zcL91xPc+x57JvmDPVEAQNyY/M9cRQE2jZj9u3py+P2YCwHYMIcDBVjA+0aX2PtnvY0C03jBAr+uwQCMoqkDIGdBAGvrKQFA3o0CmBhJAqly1P3aCJ8B4P8a/vZLAvykFlD+uJKg/V8CRP1t9gz/x8ro/z0KcwAPexcCIK8LA6N3UwEIu0cBOprbAkqacwM3noMAjJqjANlEFQfzT20A6s5tAP2ulQF5H/0AN/8RAv8LDQInfIECHGLRATUgLQW/vEkGM3SBBueo0QbWnJ0ESlQtBaoESQeKgHEEXkCtBCU4DQeePD0EWmCpAsGOiQHfvpkDTY5hAEZxtQDbgwT8q1F3Aw7p+wPlR5L+RrH+/W6Y4vjKmfsCUZY3AySmxwM8o378kDhDAr3j1v0hYLMCYA14/iZ6qPz+UhEDLHIxAvHAYQJ6kJ0Abqk8/sbOyvg==",
          "dtype": "f4"
         }
        }
       ],
       "layout": {
        "height": 650,
        "margin": {
         "b": 10,
         "l": 10,
         "r": 20,
         "t": 40
        },
        "template": {
         "data": {
          "bar": [
           {
            "error_x": {
             "color": "#2a3f5f"
            },
            "error_y": {
             "color": "#2a3f5f"
            },
            "marker": {
             "line": {
              "color": "#E5ECF6",
              "width": 0.5
             },
             "pattern": {
              "fillmode": "overlay",
              "size": 10,
              "solidity": 0.2
             }
            },
            "type": "bar"
           }
          ],
          "barpolar": [
           {
            "marker": {
             "line": {
              "color": "#E5ECF6",
              "width": 0.5
             },
             "pattern": {
              "fillmode": "overlay",
              "size": 10,
              "solidity": 0.2
             }
            },
            "type": "barpolar"
           }
          ],
          "carpet": [
           {
            "aaxis": {
             "endlinecolor": "#2a3f5f",
             "gridcolor": "white",
             "linecolor": "white",
             "minorgridcolor": "white",
             "startlinecolor": "#2a3f5f"
            },
            "baxis": {
             "endlinecolor": "#2a3f5f",
             "gridcolor": "white",
             "linecolor": "white",
             "minorgridcolor": "white",
             "startlinecolor": "#2a3f5f"
            },
            "type": "carpet"
           }
          ],
          "choropleth": [
           {
            "colorbar": {
             "outlinewidth": 0,
             "ticks": ""
            },
            "type": "choropleth"
           }
          ],
          "contour": [
           {
            "colorbar": {
             "outlinewidth": 0,
             "ticks": ""
            },
            "colorscale": [
             [
              0,
              "#0d0887"
             ],
             [
              0.1111111111111111,
              "#46039f"
             ],
             [
              0.2222222222222222,
              "#7201a8"
             ],
             [
              0.3333333333333333,
              "#9c179e"
             ],
             [
              0.4444444444444444,
              "#bd3786"
             ],
             [
              0.5555555555555556,
              "#d8576b"
             ],
             [
              0.6666666666666666,
              "#ed7953"
             ],
             [
              0.7777777777777778,
              "#fb9f3a"
             ],
             [
              0.8888888888888888,
              "#fdca26"
             ],
             [
              1,
              "#f0f921"
             ]
            ],
            "type": "contour"
           }
          ],
          "contourcarpet": [
           {
            "colorbar": {
             "outlinewidth": 0,
             "ticks": ""
            },
            "type": "contourcarpet"
           }
          ],
          "heatmap": [
           {
            "colorbar": {
             "outlinewidth": 0,
             "ticks": ""
            },
            "colorscale": [
             [
              0,
              "#0d0887"
             ],
             [
              0.1111111111111111,
              "#46039f"
             ],
             [
              0.2222222222222222,
              "#7201a8"
             ],
             [
              0.3333333333333333,
              "#9c179e"
             ],
             [
              0.4444444444444444,
              "#bd3786"
             ],
             [
              0.5555555555555556,
              "#d8576b"
             ],
             [
              0.6666666666666666,
              "#ed7953"
             ],
             [
              0.7777777777777778,
              "#fb9f3a"
             ],
             [
              0.8888888888888888,
              "#fdca26"
             ],
             [
              1,
              "#f0f921"
             ]
            ],
            "type": "heatmap"
           }
          ],
          "histogram": [
           {
            "marker": {
             "pattern": {
              "fillmode": "overlay",
              "size": 10,
              "solidity": 0.2
             }
            },
            "type": "histogram"
           }
          ],
          "histogram2d": [
           {
            "colorbar": {
             "outlinewidth": 0,
             "ticks": ""
            },
            "colorscale": [
             [
              0,
              "#0d0887"
             ],
             [
              0.1111111111111111,
              "#46039f"
             ],
             [
              0.2222222222222222,
              "#7201a8"
             ],
             [
              0.3333333333333333,
              "#9c179e"
             ],
             [
              0.4444444444444444,
              "#bd3786"
             ],
             [
              0.5555555555555556,
              "#d8576b"
             ],
             [
              0.6666666666666666,
              "#ed7953"
             ],
             [
              0.7777777777777778,
              "#fb9f3a"
             ],
             [
              0.8888888888888888,
              "#fdca26"
             ],
             [
              1,
              "#f0f921"
             ]
            ],
            "type": "histogram2d"
           }
          ],
          "histogram2dcontour": [
           {
            "colorbar": {
             "outlinewidth": 0,
             "ticks": ""
            },
            "colorscale": [
             [
              0,
              "#0d0887"
             ],
             [
              0.1111111111111111,
              "#46039f"
             ],
             [
              0.2222222222222222,
              "#7201a8"
             ],
             [
              0.3333333333333333,
              "#9c179e"
             ],
             [
              0.4444444444444444,
              "#bd3786"
             ],
             [
              0.5555555555555556,
              "#d8576b"
             ],
             [
              0.6666666666666666,
              "#ed7953"
             ],
             [
              0.7777777777777778,
              "#fb9f3a"
             ],
             [
              0.8888888888888888,
              "#fdca26"
             ],
             [
              1,
              "#f0f921"
             ]
            ],
            "type": "histogram2dcontour"
           }
          ],
          "mesh3d": [
           {
            "colorbar": {
             "outlinewidth": 0,
             "ticks": ""
            },
            "type": "mesh3d"
           }
          ],
          "parcoords": [
           {
            "line": {
             "colorbar": {
              "outlinewidth": 0,
              "ticks": ""
             }
            },
            "type": "parcoords"
           }
          ],
          "pie": [
           {
            "automargin": true,
            "type": "pie"
           }
          ],
          "scatter": [
           {
            "fillpattern": {
             "fillmode": "overlay",
             "size": 10,
             "solidity": 0.2
            },
            "type": "scatter"
           }
          ],
          "scatter3d": [
           {
            "line": {
             "colorbar": {
              "outlinewidth": 0,
              "ticks": ""
             }
            },
            "marker": {
             "colorbar": {
              "outlinewidth": 0,
              "ticks": ""
             }
            },
            "type": "scatter3d"
           }
          ],
          "scattercarpet": [
           {
            "marker": {
             "colorbar": {
              "outlinewidth": 0,
              "ticks": ""
             }
            },
            "type": "scattercarpet"
           }
          ],
          "scattergeo": [
           {
            "marker": {
             "colorbar": {
              "outlinewidth": 0,
              "ticks": ""
             }
            },
            "type": "scattergeo"
           }
          ],
          "scattergl": [
           {
            "marker": {
             "colorbar": {
              "outlinewidth": 0,
              "ticks": ""
             }
            },
            "type": "scattergl"
           }
          ],
          "scattermap": [
           {
            "marker": {
             "colorbar": {
              "outlinewidth": 0,
              "ticks": ""
             }
            },
            "type": "scattermap"
           }
          ],
          "scattermapbox": [
           {
            "marker": {
             "colorbar": {
              "outlinewidth": 0,
              "ticks": ""
             }
            },
            "type": "scattermapbox"
           }
          ],
          "scatterpolar": [
           {
            "marker": {
             "colorbar": {
              "outlinewidth": 0,
              "ticks": ""
             }
            },
            "type": "scatterpolar"
           }
          ],
          "scatterpolargl": [
           {
            "marker": {
             "colorbar": {
              "outlinewidth": 0,
              "ticks": ""
             }
            },
            "type": "scatterpolargl"
           }
          ],
          "scatterternary": [
           {
            "marker": {
             "colorbar": {
              "outlinewidth": 0,
              "ticks": ""
             }
            },
            "type": "scatterternary"
           }
          ],
          "surface": [
           {
            "colorbar": {
             "outlinewidth": 0,
             "ticks": ""
            },
            "colorscale": [
             [
              0,
              "#0d0887"
             ],
             [
              0.1111111111111111,
              "#46039f"
             ],
             [
              0.2222222222222222,
              "#7201a8"
             ],
             [
              0.3333333333333333,
              "#9c179e"
             ],
             [
              0.4444444444444444,
              "#bd3786"
             ],
             [
              0.5555555555555556,
              "#d8576b"
             ],
             [
              0.6666666666666666,
              "#ed7953"
             ],
             [
              0.7777777777777778,
              "#fb9f3a"
             ],
             [
              0.8888888888888888,
              "#fdca26"
             ],
             [
              1,
              "#f0f921"
             ]
            ],
            "type": "surface"
           }
          ],
          "table": [
           {
            "cells": {
             "fill": {
              "color": "#EBF0F8"
             },
             "line": {
              "color": "white"
             }
            },
            "header": {
             "fill": {
              "color": "#C8D4E3"
             },
             "line": {
              "color": "white"
             }
            },
            "type": "table"
           }
          ]
         },
         "layout": {
          "annotationdefaults": {
           "arrowcolor": "#2a3f5f",
           "arrowhead": 0,
           "arrowwidth": 1
          },
          "autotypenumbers": "strict",
          "coloraxis": {
           "colorbar": {
            "outlinewidth": 0,
            "ticks": ""
           }
          },
          "colorscale": {
           "diverging": [
            [
             0,
             "#8e0152"
            ],
            [
             0.1,
             "#c51b7d"
            ],
            [
             0.2,
             "#de77ae"
            ],
            [
             0.3,
             "#f1b6da"
            ],
            [
             0.4,
             "#fde0ef"
            ],
            [
             0.5,
             "#f7f7f7"
            ],
            [
             0.6,
             "#e6f5d0"
            ],
            [
             0.7,
             "#b8e186"
            ],
            [
             0.8,
             "#7fbc41"
            ],
            [
             0.9,
             "#4d9221"
            ],
            [
             1,
             "#276419"
            ]
           ],
           "sequential": [
            [
             0,
             "#0d0887"
            ],
            [
             0.1111111111111111,
             "#46039f"
            ],
            [
             0.2222222222222222,
             "#7201a8"
            ],
            [
             0.3333333333333333,
             "#9c179e"
            ],
            [
             0.4444444444444444,
             "#bd3786"
            ],
            [
             0.5555555555555556,
             "#d8576b"
            ],
            [
             0.6666666666666666,
             "#ed7953"
            ],
            [
             0.7777777777777778,
             "#fb9f3a"
            ],
            [
             0.8888888888888888,
             "#fdca26"
            ],
            [
             1,
             "#f0f921"
            ]
           ],
           "sequentialminus": [
            [
             0,
             "#0d0887"
            ],
            [
             0.1111111111111111,
             "#46039f"
            ],
            [
             0.2222222222222222,
             "#7201a8"
            ],
            [
             0.3333333333333333,
             "#9c179e"
            ],
            [
             0.4444444444444444,
             "#bd3786"
            ],
            [
             0.5555555555555556,
             "#d8576b"
            ],
            [
             0.6666666666666666,
             "#ed7953"
            ],
            [
             0.7777777777777778,
             "#fb9f3a"
            ],
            [
             0.8888888888888888,
             "#fdca26"
            ],
            [
             1,
             "#f0f921"
            ]
           ]
          },
          "colorway": [
           "#636efa",
           "#EF553B",
           "#00cc96",
           "#ab63fa",
           "#FFA15A",
           "#19d3f3",
           "#FF6692",
           "#B6E880",
           "#FF97FF",
           "#FECB52"
          ],
          "font": {
           "color": "#2a3f5f"
          },
          "geo": {
           "bgcolor": "white",
           "lakecolor": "white",
           "landcolor": "#E5ECF6",
           "showlakes": true,
           "showland": true,
           "subunitcolor": "white"
          },
          "hoverlabel": {
           "align": "left"
          },
          "hovermode": "closest",
          "mapbox": {
           "style": "light"
          },
          "paper_bgcolor": "white",
          "plot_bgcolor": "#E5ECF6",
          "polar": {
           "angularaxis": {
            "gridcolor": "white",
            "linecolor": "white",
            "ticks": ""
           },
           "bgcolor": "#E5ECF6",
           "radialaxis": {
            "gridcolor": "white",
            "linecolor": "white",
            "ticks": ""
           }
          },
          "scene": {
           "xaxis": {
            "backgroundcolor": "#E5ECF6",
            "gridcolor": "white",
            "gridwidth": 2,
            "linecolor": "white",
            "showbackground": true,
            "ticks": "",
            "zerolinecolor": "white"
           },
           "yaxis": {
            "backgroundcolor": "#E5ECF6",
            "gridcolor": "white",
            "gridwidth": 2,
            "linecolor": "white",
            "showbackground": true,
            "ticks": "",
            "zerolinecolor": "white"
           },
           "zaxis": {
            "backgroundcolor": "#E5ECF6",
            "gridcolor": "white",
            "gridwidth": 2,
            "linecolor": "white",
            "showbackground": true,
            "ticks": "",
            "zerolinecolor": "white"
           }
          },
          "shapedefaults": {
           "line": {
            "color": "#2a3f5f"
           }
          },
          "ternary": {
           "aaxis": {
            "gridcolor": "white",
            "linecolor": "white",
            "ticks": ""
           },
           "baxis": {
            "gridcolor": "white",
            "linecolor": "white",
            "ticks": ""
           },
           "bgcolor": "#E5ECF6",
           "caxis": {
            "gridcolor": "white",
            "linecolor": "white",
            "ticks": ""
           }
          },
          "title": {
           "x": 0.05
          },
          "xaxis": {
           "automargin": true,
           "gridcolor": "white",
           "linecolor": "white",
           "ticks": "",
           "title": {
            "standoff": 15
           },
           "zerolinecolor": "white",
           "zerolinewidth": 2
          },
          "yaxis": {
           "automargin": true,
           "gridcolor": "white",
           "linecolor": "white",
           "ticks": "",
           "title": {
            "standoff": 15
           },
           "zerolinecolor": "white",
           "zerolinewidth": 2
          }
         }
        },
        "title": {
         "text": "2D Chroma Vector Store Visualization (t-SNE)"
        },
        "width": 900,
        "xaxis": {
         "title": {
          "text": "t-SNE Dimension 1"
         }
        },
        "yaxis": {
         "title": {
          "text": "t-SNE Dimension 2"
         }
        }
       }
      },
      "image/png": "[encoded data removed]"
     },
     "metadata": {},
     "output_type": "display_data"
    }
   ],
   "source": [
    "from sklearn.manifold import TSNE\n",
    "import plotly.graph_objects as go\n",
    "from collections import defaultdict\n",
    "\n",
    "# Fetch embeddings and metadata from Chroma\n",
    "collection_data = vectorstore._collection.get(include=[\"embeddings\", \"metadatas\", \"documents\"])\n",
    "\n",
    "embeddings = collection_data[\"embeddings\"]\n",
    "metadatas = collection_data[\"metadatas\"]\n",
    "documents = collection_data[\"documents\"]\n",
    "\n",
    "# Use PDF file names as types/labels\n",
    "# doc_types = [meta.get(\"source\", \"Unknown\") for meta in metadatas]\n",
    "doc_types = [meta.get(\"source\", \"Unknown\") if meta else \"Unknown\" for meta in metadatas]\n",
    "\n",
    "\n",
    "# Assign colors based on doc type\n",
    "unique_types = list(set(doc_types))\n",
    "color_map = {t: i for i, t in enumerate(unique_types)}\n",
    "colors = [color_map[t] for t in doc_types]\n",
    "\n",
    "# Reduce to 2D using t-SNE\n",
    "tsne = TSNE(n_components=2, random_state=42, perplexity=30, n_iter=1000)\n",
    "reduced_vectors = tsne.fit_transform(embeddings)\n",
    "\n",
    "# Build interactive plot\n",
    "fig = go.Figure(data=[go.Scatter(\n",
    "    x=reduced_vectors[:, 0],\n",
    "    y=reduced_vectors[:, 1],\n",
    "    mode='markers',\n",
    "    marker=dict(size=6, color=colors, opacity=0.8, colorscale='Viridis'),\n",
    "    text=[f\"File: {t}<br>Text: {d[:100]}...\" for t, d in zip(doc_types, documents)],\n",
    "    hoverinfo='text'\n",
    ")])\n",
    "\n",
    "fig.update_layout(\n",
    "    title='2D Chroma Vector Store Visualization (t-SNE)',\n",
    "    xaxis_title='t-SNE Dimension 1',\n",
    "    yaxis_title='t-SNE Dimension 2',\n",
    "    width=900,\n",
    "    height=650,\n",
    "    margin=dict(r=20, b=10, l=10, t=40)\n",
    ")\n",
    "\n",
    "fig.show()"
   ]
  },
  {
   "cell_type": "code",
   "execution_count": null,
   "id": "8779dc3f-f8b1-4b59-b23e-96ae7dc2c162",
   "metadata": {},
   "outputs": [],
   "source": []
  },
  {
   "cell_type": "code",
   "execution_count": null,
   "id": "dcd109e0-b1c7-4355-a015-b30cfa735c48",
   "metadata": {},
   "outputs": [],
   "source": []
  },
  {
   "cell_type": "code",
   "execution_count": null,
   "id": "6bd188b5-d12f-405e-a028-f81922dc4318",
   "metadata": {},
   "outputs": [],
   "source": []
  },
  {
   "cell_type": "code",
   "execution_count": null,
   "id": "5fc396b2-82ae-497e-888d-e4f309ec0a90",
   "metadata": {},
   "outputs": [],
   "source": []
  },
  {
   "cell_type": "code",
   "execution_count": null,
   "id": "be7a15b0-3c9f-4c7f-b282-618d717b567f",
   "metadata": {},
   "outputs": [],
   "source": []
  },
  {
   "cell_type": "code",
   "execution_count": null,
   "id": "160313a9-b364-42ca-9877-8f64c75b6d3d",
   "metadata": {},
   "outputs": [],
   "source": []
  },
  {
   "cell_type": "code",
   "execution_count": null,
   "id": "2a037acf-8651-4ebb-a36f-1ad050914e0a",
   "metadata": {},
   "outputs": [],
   "source": []
  }
 ],
 "metadata": {
  "kernelspec": {
   "display_name": "Python 3 (ipykernel)",
   "language": "python",
   "name": "python3"
  },
  "language_info": {
   "codemirror_mode": {
    "name": "ipython",
    "version": 3
   },
   "file_extension": ".py",
   "mimetype": "text/x-python",
   "name": "python",
   "nbconvert_exporter": "python",
   "pygments_lexer": "ipython3",
   "version": "3.11.12"
  }
 },
 "nbformat": 4,
 "nbformat_minor": 5
}
