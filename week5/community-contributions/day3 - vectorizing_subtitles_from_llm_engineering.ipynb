{
 "cells": [
  {
   "cell_type": "markdown",
   "id": "dfe37963-1af6-44fc-a841-8e462443f5e6",
   "metadata": {},
   "source": [
    "## Udemy Video Subtitle Vectorization (Expert on LLM engineering) \n",
    "\n",
    "This project will uses subtitle files from Ed Donners excellent LLM engineering course on Udemy.\n",
    "\n",
    "These can be downloaded using the following process:\n",
    "- Useing an android phone, download Udemy app and open the LLM engineering course. \n",
    "- There is option to download the videos as single files or section wise. \n",
    "- Download them and along with those videos subs or cc are also downloaded as .srt’s.\n",
    "- Plug in your laptop to the android phone using USB and select file transfer in the notification.\n",
    "- Open a file explorer and copy the subtitle files (srt format)\n",
    "- Here’s the location of subs in android \"internal storage/android/data/com.udemy.android/files/udemy-subtitle-downloads\"\n",
    "\n",
    "the raw srt files are stored in the folder \"subtitles/srts\". The code below will use the langchain textloader but will preprocess the srt files to remove the timestamps.\n",
    "\n",
    "### Note: this is only for educational and testing purposes and you should contact Ed Donnner to seek his permission if you want to use the subtitles."
   ]
  },
  {
   "cell_type": "code",
   "execution_count": 62,
   "id": "ba2779af-84ef-4227-9e9e-6eaf0df87e77",
   "metadata": {},
   "outputs": [],
   "source": [
    "# imports\n",
    "\n",
    "import os\n",
    "import glob\n",
    "from dotenv import load_dotenv\n",
    "import gradio as gr"
   ]
  },
  {
   "cell_type": "code",
   "execution_count": 61,
   "id": "802137aa-8a74-45e0-a487-d1974927d7ca",
   "metadata": {},
   "outputs": [],
   "source": [
    "# imports for langchain and Chroma and plotly\n",
    "\n",
    "from langchain.document_loaders import DirectoryLoader, TextLoader\n",
    "from langchain.text_splitter import CharacterTextSplitter\n",
    "from langchain.schema import Document\n",
    "from langchain_openai import OpenAIEmbeddings, ChatOpenAI\n",
    "from langchain_chroma import Chroma\n",
    "import numpy as np\n",
    "from sklearn.manifold import TSNE\n",
    "import plotly.graph_objects as go\n",
    "import re"
   ]
  },
  {
   "cell_type": "code",
   "execution_count": 41,
   "id": "58c85082-e417-4708-9efe-81a5d55d1424",
   "metadata": {},
   "outputs": [],
   "source": [
    "# price is a factor for our company, so we're going to use a low cost model\n",
    "\n",
    "MODEL = \"gpt-4o-mini\"\n",
    "db_name = \"vector_db\""
   ]
  },
  {
   "cell_type": "code",
   "execution_count": 42,
   "id": "ee78efcb-60fe-449e-a944-40bab26261af",
   "metadata": {},
   "outputs": [],
   "source": [
    "# Load environment variables in a file called .env\n",
    "\n",
    "load_dotenv()\n",
    "os.environ['OPENAI_API_KEY'] = os.getenv('OPENAI_API_KEY', 'your-key-if-not-using-env')"
   ]
  },
  {
   "cell_type": "code",
   "execution_count": 43,
   "id": "730711a9-6ffe-4eee-8f48-d6cfb7314905",
   "metadata": {},
   "outputs": [],
   "source": [
    "# Read in documents using LangChain's loaders\n",
    "# Take everything in all the sub-folders of our knowledgebase\n",
    "\n",
    "folders = glob.glob(\"subtitles/srts/*\")\n",
    "\n",
    "# With thanks to CG and Jon R, students on the course, for this fix needed for some users \n",
    "text_loader_kwargs = {'encoding': 'utf-8'}\n",
    "# If that doesn't work, some Windows users might need to uncomment the next line instead\n",
    "# text_loader_kwargs={'autodetect_encoding': True}\n",
    "\n",
    "def preprocess_srt_content(content):\n",
    "    \"\"\"\n",
    "    Preprocess the content of an SRT file to remove timing information and the WEBVTT header.\n",
    "    \"\"\"\n",
    "    # Remove the WEBVTT header\n",
    "    content = re.sub(r'^WEBVTT\\s*', '', content, flags=re.IGNORECASE)\n",
    "    # Remove timing lines (e.g., 00:00.680 --> 00:08.540)\n",
    "    content = re.sub(r'\\d{2}:\\d{2}\\.\\d{3} --> \\d{2}:\\d{2}\\.\\d{3}', '', content)\n",
    "    # Remove extra newlines and strip leading/trailing whitespace\n",
    "    return \"\\n\".join(line.strip() for line in content.splitlines() if line.strip())\n",
    "\n",
    "documents = []\n",
    "for folder in folders:\n",
    "    video_number = os.path.basename(folder)\n",
    "    loader = DirectoryLoader(folder, glob=\"**/en_US.srt\", loader_cls=TextLoader)\n",
    "    folder_docs = loader.load()\n",
    "\n",
    "    for doc in folder_docs:\n",
    "        # Preprocess the document content\n",
    "        cleaned_content = preprocess_srt_content(doc.page_content)\n",
    "        # Replace the original content with the cleaned content\n",
    "        doc.page_content = cleaned_content\n",
    "        # Add metadata\n",
    "        doc.metadata[\"video_number\"] = video_number\n",
    "        documents.append(doc)\n"
   ]
  },
  {
   "cell_type": "markdown",
   "id": "f065d4b1-80b7-4e15-abd4-60a83e752ea8",
   "metadata": {},
   "source": [
    "# Please note:\n",
    "\n",
    "In the next cell, we split the text into chunks.\n",
    "\n",
    "If you have problems, you can try to fix them by changing the chunk_size from 1,000 to 2,000 and the chunk_overlap from 200 to 400.  \n",
    "This shouldn't be required; but if it happens to you, please make that change!  \n",
    "(Note that LangChain may give a warning about a chunk being larger than 1,000 - this can be safely ignored)."
   ]
  },
  {
   "cell_type": "code",
   "execution_count": 44,
   "id": "7310c9c8-03c1-4efc-a104-5e89aec6db1a",
   "metadata": {},
   "outputs": [],
   "source": [
    "text_splitter = CharacterTextSplitter(chunk_size=1000, chunk_overlap=200)\n",
    "chunks = text_splitter.split_documents(documents)"
   ]
  },
  {
   "cell_type": "code",
   "execution_count": 45,
   "id": "cd06e02f-6d9b-44cc-a43d-e1faa8acc7bb",
   "metadata": {},
   "outputs": [
    {
     "data": {
      "text/plain": [
       "217"
      ]
     },
     "execution_count": 45,
     "metadata": {},
     "output_type": "execute_result"
    }
   ],
   "source": [
    "len(chunks)"
   ]
  },
  {
   "cell_type": "code",
   "execution_count": 46,
   "id": "2c54b4b6-06da-463d-bee7-4dd456c2b887",
   "metadata": {},
   "outputs": [
    {
     "name": "stdout",
     "output_type": "stream",
     "text": [
      "Video numbers found: 60616407, 59170043, 59507329, 59505329, 60614541, 59471979, 59166453, 59295587, 59295545, 59670259, 59166421, 59295493, 59166461, 59166919, 60616845, 59472873, 59668027, 59472017, 59668181, 60614589, 59473021, 59166443, 59507017, 60619721, 59170055, 59665129, 59295439, 59673721, 59472441, 59507423, 59473201, 59472011, 59671567, 60616927, 59170297, 59667365, 60620395, 59295599, 59669375, 59507435, 59297749, 59297599, 59297603, 59472491, 59297595, 60616663, 59170165, 59472383, 59506713, 59297561, 60620397, 59166951, 59472503, 59295609, 59670933, 59170291, 59295429, 59473071, 59472027, 59166949, 60616629, 60619227, 59297733, 59669211, 59473191, 59667829, 59295423, 59170037, 59170025, 59170227, 59671231, 59673449, 59503703, 59669631, 59166353, 59671441, 59673663, 59668923, 60619619, 59170255, 59508289, 59507785, 60619299, 60619501, 60616623, 59473147, 59170135, 59473089, 59295435, 59472425, 59295579, 59669389, 60617259, 59673639, 59508297, 60619247, 60619289, 59472137, 59669049, 59472693, 60620143, 59295363, 59503705, 59167009, 59508175, 59669217, 59166915, 59295441, 59508055, 59667841, 59472421, 60619123, 59297721, 59508057, 59297601, 59297735, 59670369, 59170223, 59271655, 59297773, 59170057, 59504785, 59473159, 59166281, 60617251, 59295459, 59472413, 59665127, 59295619, 59670121, 59666831, 60619447, 59670171, 60616493, 59473101, 59473019, 59666211, 59671315, 60619439, 59295451, 59297723, 59673431, 59169991, 59472333, 60619149, 59295607, 60619281, 59297575, 59472429, 60619883, 59670073, 59167007, 59671221, 59295553, 59166981, 60595637, 59170235, 59297593, 60614591, 59504887, 60616895, 59166947, 60620025, 60617163, 60622463, 59506611, 59166481, 59472505, 59295431, 59472463, 59167015, 59170233, 60395261, 59508121, 59166847, 60620169, 60616423, 59473137, 59170107, 59297743, 59506507, 59472883, 59295541, 59507489, 60619577, 59507687, 59506929, 59170093, 59166465, 59166317, 59295601, 59509185, 60619651, 59169985, 59505337, 59295527, 59667357, 59673595, 59295549, 59297693, 60620375, 59297585, 59670087, 59472067, 59295583, 60616855, 59295377, 60619275, 59504769, 59507635, 60616833, 59297609, 60619429, 59472307, 59507313, 60617255, 59472007\n"
     ]
    }
   ],
   "source": [
    "video_numbers = set(chunk.metadata['video_number'] for chunk in chunks)\n",
    "print(f\"Video numbers found: {', '.join(video_numbers)}\")"
   ]
  },
  {
   "cell_type": "markdown",
   "id": "77f7d2a6-ccfa-425b-a1c3-5e55b23bd013",
   "metadata": {},
   "source": [
    "## A sidenote on Embeddings, and \"Auto-Encoding LLMs\"\n",
    "\n",
    "We will be mapping each chunk of text into a Vector that represents the meaning of the text, known as an embedding.\n",
    "\n",
    "OpenAI offers a model to do this, which we will use by calling their API with some LangChain code.\n",
    "\n",
    "This model is an example of an \"Auto-Encoding LLM\" which generates an output given a complete input.\n",
    "It's different to all the other LLMs we've discussed today, which are known as \"Auto-Regressive LLMs\", and generate future tokens based only on past context.\n",
    "\n",
    "Another example of an Auto-Encoding LLMs is BERT from Google. In addition to embedding, Auto-encoding LLMs are often used for classification.\n",
    "\n",
    "### Sidenote\n",
    "\n",
    "In week 8 we will return to RAG and vector embeddings, and we will use an open-source vector encoder so that the data never leaves our computer - that's an important consideration when building enterprise systems and the data needs to remain internal."
   ]
  },
  {
   "cell_type": "code",
   "execution_count": 47,
   "id": "78998399-ac17-4e28-b15f-0b5f51e6ee23",
   "metadata": {},
   "outputs": [],
   "source": [
    "# Put the chunks of data into a Vector Store that associates a Vector Embedding with each chunk\n",
    "\n",
    "embeddings = OpenAIEmbeddings()\n",
    "\n",
    "# If you would rather use the free Vector Embeddings from HuggingFace sentence-transformers\n",
    "# Then replace embeddings = OpenAIEmbeddings()\n",
    "# with:\n",
    "# from langchain.embeddings import HuggingFaceEmbeddings\n",
    "# embeddings = HuggingFaceEmbeddings(model_name=\"sentence-transformers/all-MiniLM-L6-v2\")"
   ]
  },
  {
   "cell_type": "code",
   "execution_count": 48,
   "id": "763e51ff-5787-4a56-8176-36b7c5796fe3",
   "metadata": {},
   "outputs": [],
   "source": [
    "# Check if a Chroma Datastore already exists - if so, delete the collection to start from scratch\n",
    "\n",
    "if os.path.exists(db_name):\n",
    "    Chroma(persist_directory=db_name, embedding_function=embeddings).delete_collection()"
   ]
  },
  {
   "cell_type": "code",
   "execution_count": 49,
   "id": "99fe3a37-480f-4d55-be48-120588d5846b",
   "metadata": {},
   "outputs": [
    {
     "name": "stdout",
     "output_type": "stream",
     "text": [
      "Vectorstore created with 217 documents\n"
     ]
    }
   ],
   "source": [
    "# Create our Chroma vectorstore!\n",
    "\n",
    "vectorstore = Chroma.from_documents(documents=chunks, embedding=embeddings, persist_directory=db_name)\n",
    "print(f\"Vectorstore created with {vectorstore._collection.count()} documents\")"
   ]
  },
  {
   "cell_type": "code",
   "execution_count": 50,
   "id": "057868f6-51a6-4087-94d1-380145821550",
   "metadata": {},
   "outputs": [
    {
     "name": "stdout",
     "output_type": "stream",
     "text": [
      "The vectors have 1,536 dimensions\n"
     ]
    }
   ],
   "source": [
    "# Get one vector and find how many dimensions it has\n",
    "\n",
    "collection = vectorstore._collection\n",
    "sample_embedding = collection.get(limit=1, include=[\"embeddings\"])[\"embeddings\"][0]\n",
    "dimensions = len(sample_embedding)\n",
    "print(f\"The vectors have {dimensions:,} dimensions\")"
   ]
  },
  {
   "cell_type": "code",
   "execution_count": null,
   "id": "61e393a0-dd4c-419f-842f-60c1cb3b716b",
   "metadata": {},
   "outputs": [],
   "source": []
  },
  {
   "cell_type": "markdown",
   "id": "b0d45462-a818-441c-b010-b85b32bcf618",
   "metadata": {},
   "source": [
    "## Visualizing the Vector Store\n",
    "\n",
    "Let's take a minute to look at the documents and their embedding vectors to see what's going on."
   ]
  },
  {
   "cell_type": "code",
   "execution_count": 51,
   "id": "cfb855dc-1610-4aaf-8e5f-68c26ce640a5",
   "metadata": {},
   "outputs": [],
   "source": [
    "# Convert the video numbers into unique colors that we can visualize\n",
    "import hashlib\n",
    "\n",
    "def video_numbers_to_hex_colors(video_numbers):\n",
    "    return [f\"#{hashlib.sha256(v.encode()).hexdigest()[:6]}\" for v in video_numbers]\n",
    "\n"
   ]
  },
  {
   "cell_type": "code",
   "execution_count": 58,
   "id": "b98adf5e-d464-4bd2-9bdf-bc5b6770263b",
   "metadata": {},
   "outputs": [],
   "source": [
    "# Prework\n",
    "\n",
    "result = collection.get(include=['embeddings', 'documents', 'metadatas'])\n",
    "vectors = np.array(result['embeddings'])\n",
    "documents = result['documents']\n",
    "video_numbers = [metadata['video_number'] for metadata in result['metadatas']]\n",
    "colors = video_numbers_to_hex_colors(strings)\n",
    "\n"
   ]
  },
  {
   "cell_type": "code",
   "execution_count": 55,
   "id": "427149d5-e5d8-4abd-bb6f-7ef0333cca21",
   "metadata": {},
   "outputs": [
    {
     "data": {
      "application/vnd.plotly.v1+json": {
       "config": {
        "plotlyServerURL": "https://plot.ly"
       },
       "data": [
        {
         "hoverinfo": "text",
         "marker": {
          "color": [
           "#d01f72",
           "#75195e",
           "#3678a7",
           "#5b3f83",
           "#74a788",
           "#571122",
           "#4099c1",
           "#659222",
           "#188ca3",
           "#6d4052",
           "#35303c",
           "#a9e927",
           "#29fa15",
           "#71c500",
           "#9b9d6e",
           "#cf7e83",
           "#badd6d",
           "#85fa26",
           "#22463b",
           "#ce865d",
           "#f59c06",
           "#011995",
           "#793548",
           "#ad8b14",
           "#d937bd",
           "#2b9f18",
           "#046e5c",
           "#75b5e3",
           "#c959de",
           "#72e048",
           "#8e8cab",
           "#20f2c3",
           "#64f999",
           "#e69670",
           "#6a0fce",
           "#d65c3a",
           "#7bee34",
           "#4f86b8",
           "#b43417",
           "#4dfb77",
           "#2ae342",
           "#c3e1f2",
           "#12897b",
           "#2b3af3",
           "#7ea8e9",
           "#6ad041",
           "#0bdacc",
           "#99fe53",
           "#4aaf9f",
           "#d156c8",
           "#505bd9",
           "#dc152c",
           "#b52bf6",
           "#9baca0",
           "#a03134",
           "#d43c00",
           "#5af098",
           "#2c168d",
           "#c6016b",
           "#f090af",
           "#482281",
           "#39821f",
           "#e0a8df",
           "#480c89",
           "#08808d",
           "#ac5faf",
           "#0faf59",
           "#79c82a",
           "#e6e164",
           "#0d2037",
           "#8afd40",
           "#2e1afc",
           "#3ec815",
           "#fbfef2",
           "#a63fa4",
           "#b27d2e",
           "#ca3592",
           "#b9fd23",
           "#ac9648",
           "#804ce2",
           "#9b5e28",
           "#a64739",
           "#c457d7",
           "#de30e4",
           "#1f6ab0",
           "#6ff3c5",
           "#6df6ca",
           "#ed694d",
           "#2fef1a",
           "#335dcf",
           "#845aa9",
           "#574e28",
           "#dc95ec",
           "#b2140a",
           "#15ae86",
           "#70d1d9",
           "#6f745a",
           "#b3dba5",
           "#108c41",
           "#268bba",
           "#913568",
           "#1a6fdf",
           "#422abb",
           "#cb725f",
           "#fe62a5",
           "#dfc6c7",
           "#b25d7b",
           "#bd53b1",
           "#796278",
           "#048452",
           "#c6eff5",
           "#d24e5d",
           "#fe8e92",
           "#22398f",
           "#3e5237",
           "#8069bc",
           "#7740be",
           "#cc8ec0",
           "#b280bb",
           "#91f4db",
           "#ac55ba",
           "#c97596",
           "#116019",
           "#43c2e8",
           "#2a2d25",
           "#fc2b74",
           "#ae7afe",
           "#92b4fa",
           "#dd8cd7",
           "#4862ce",
           "#af0f59",
           "#ad6bd0",
           "#3f0a72",
           "#e01073",
           "#144ada",
           "#5cb9ca",
           "#51d0da",
           "#d6d07a",
           "#b61e76",
           "#474ff9",
           "#68bece",
           "#d01b19",
           "#ee26df",
           "#2ebca4",
           "#539908",
           "#ec0a37",
           "#1a5613",
           "#da28db",
           "#246fa5",
           "#bbfe83",
           "#d54222",
           "#580c96",
           "#02cada",
           "#996ff1",
           "#e2a239",
           "#ae5204",
           "#4ce72d",
           "#2cde7f",
           "#b64eac",
           "#591ab9",
           "#a958c9",
           "#696eaa",
           "#4c4355",
           "#6a6c06",
           "#df5d2e",
           "#9780cf",
           "#682d42",
           "#efed10",
           "#1b312a",
           "#dbde1c",
           "#e1b5db",
           "#a95826",
           "#4e797a",
           "#10384a",
           "#9a5ba2",
           "#d34482",
           "#8a29da",
           "#fb9dce",
           "#ff2d6a",
           "#50f10d",
           "#f8d349",
           "#7b4427",
           "#11a70e",
           "#987252",
           "#c932c1",
           "#2d7f7d",
           "#c1e3c5",
           "#0c777d",
           "#0f8781",
           "#dd889c",
           "#799a24",
           "#4212f1",
           "#e6f378",
           "#805527",
           "#091a90",
           "#a9541c",
           "#fcdcad",
           "#01f59b",
           "#94a85d",
           "#426575",
           "#7f03bd",
           "#2dcfac",
           "#52b6df",
           "#73e76a",
           "#d70d97",
           "#601568",
           "#d4b1ce",
           "#7341ee",
           "#bb0ee6",
           "#f645e0",
           "#1c2c7e",
           "#7dd58b",
           "#4b9a93",
           "#9df332",
           "#612b32",
           "#b1c27d",
           "#3626a5"
          ],
          "opacity": 0.8,
          "size": 5
         },
         "mode": "markers",
         "text": [
          "Video: 59506507<br>Text: Well, I realized that was a whole lot of theory, but I hope it gave you a good intuition that will\nb...",
          "Video: 59671315<br>Text: Okay, so here we are, back in Jupyter Lab, ready for the next use of a frontier model, and see this\n...",
          "Video: 60616895<br>Text: It feels like 100 videos ago that I told you that we were going to have instant gratification with o...",
          "Video: 60619275<br>Text: And we will conclude our expedition into the world of frontier models through their chat interface b...",
          "Video: 59472693<br>Text: Friends.\nI am absolutely exhausted.\nI am exhausted and a little tiny bit traumatized.\nAnd you are so...",
          "Video: 59670121<br>Text: So it's business time right now.\nWe are going to build a Rag pipeline to estimate the price of produ...",
          "Video: 59295619<br>Text: Welcome back to the the moment when we bring it all together into a beautiful user interface.\nBut fi...",
          "Video: 60617163<br>Text: And already that wraps up day two.\nNow that you have built that solution.\nAnd congratulations on tha...",
          "Video: 60616423<br>Text: So I hope you've just enjoyed yourself experimenting with different LMS locally on your box using th...",
          "Video: 59170227<br>Text: Welcome back to Google Colab.\nHere we are ready to explore the wonderful world of Tokenizers.\nSo, uh...",
          "Video: 59169985<br>Text: So I hope you enjoyed that whirlwind tour of Google Colab.\nHere's just a little screenshot example o...",
          "Video: 60616927<br>Text: It's time for our first LM experiment at this point.\nSo some of this you may know well, you may know...",
          "Video: 59673721<br>Text: And here we are in JupyterLab for the last time, and we are looking here at day five, the last day\no...",
          "Video: 59508055<br>Text: I'm so very happy that you've reached this epic moment in the course and that you're hanging in ther...",
          "Video: 59670259<br>Text: It's remarkable.\nBut you are now at the 95% point.\nThere's 5% remaining of this course.\nUh, maybe it...",
          "Video: 60616623<br>Text: So we're now going to start week one of the course when we are going to be looking at exploring fron...",
          "Video: 59472383<br>Text: And welcome back to the week six folder.\nWe're now at day two, which is the second and final stage o...",
          "Video: 59670171<br>Text: So as the very final step on this part four of day two of week eight, we are now going to build an\ne...",
          "Video: 59297721<br>Text: And so now the time has come to talk about the most crucial aspect of Rag, which is the idea of vect...",
          "Video: 59297599<br>Text: Well, that was a sneaky detour I took you on in the last one.\nI hope you enjoyed it though, and I ho...",
          "Video: 59507635<br>Text: Look, I hope you're excited.\nYou really should be.\nYou've been through 80% of the course and it's al...",
          "Video: 59669375<br>Text: Here we are for the day.\n2.1 notebook.\nAnd don't let it be said that I don't ever do anything for yo...",
          "Video: 59297733<br>Text: Welcome back to JupyterLab and welcome to your first experiment with the world of Long Chain.\nLet me...",
          "Video: 59670369<br>Text: It is terrific that you're hanging on in there and making such great progress with this course.\nAs w...",
          "Video: 59166281<br>Text: And with that, amazingly, you completed day one of week two already and that gets you to the 15% poi...",
          "Video: 59671567<br>Text: Well, the first thing you're going to notice is that I don't have a notebook open for you.\nAnd that'...",
          "Video: 59297593<br>Text: And welcome to continuing our journey with Hrag.\nAnd today it's time to unveil Liang Chen.\nSo first,...",
          "Video: 59166461<br>Text: And welcome back to the lab.\nHere we are in Jupyter Lab and we are going to go into week two.\nAnd we...",
          "Video: 59167007<br>Text: Well, how fabulous is that?\nI hope that you are as wowed as I am by our new airline, I assistant and...",
          "Video: 59508121<br>Text: The moment has arrived.\nHere we go.\nWe're in fine tuning.\nWe do fine tuning.\nTrain.\nThere is also a ...",
          "Video: 59295579<br>Text: All right.\nAre you excited to see how this goes?\nLet's give it a try.\nSo in this next section, I cre...",
          "Video: 60620375<br>Text: And with that, we've reached an important milestone.\nThe first week of our eight week journey is com...",
          "Video: 59472491<br>Text: Welcome back.\nIf you are following along with me in JupyterLab, as I hope you are, then you will nee...",
          "Video: 59472425<br>Text: Welcome to week six, day three.\nToday is going to be a day that you will either love or you will hat...",
          "Video: 59508057<br>Text: Actually slight change in plan.\nI'm going to wrap up the day.\nDay three at this point, and say that ...",
          "Video: 60619577<br>Text: And for the final piece of background information, I wanted to take another moment to talk about API...",
          "Video: 59170291<br>Text: Welcome back to Colab and welcome back to our business project.\nSo again our assignment, we are due ...",
          "Video: 60619651<br>Text: I mentioned before an AI company called vellum.\nWhen we were talking about the different questions, ...",
          "Video: 59473191<br>Text: And you thought we'd never get here.\nHere we are in Jupyter Lab, running our fine tuning for a front...",
          "Video: 59170297<br>Text: And here we are in Google Colab, ready for fun with models.\nSo first we do the usual Pip installs an...",
          "Video: 59167015<br>Text: Welcome back to Jupyter Lab and welcome to Day Five's Lab.\nAnd this is going to be lots of creativit...",
          "Video: 59170043<br>Text: Let me enthusiastically welcome you all back to week three of our LLM engineering journey.\nIf you en...",
          "Video: 59473147<br>Text: Well, I'm very relieved.\nI've got that behind me.\nNo more human testing for me.\nWe'll have one final...",
          "Video: 59166453<br>Text: Welcome back and welcome to our continuing JupyterLab experience.\nUh, I'm hopefully going to keep yo...",
          "Video: 59166915<br>Text: Welcome back to the wonderful world of JupyterLab.\nAnd here we are in week two.\nDay three.\nUh, bring...",
          "Video: 59667365<br>Text: Here we are back in Colab, looking at the week seven, day five of the Colab notebooks and I'm on a\nT...",
          "Video: 60616845<br>Text: We're on the home stretch.\nThis is the final step in the environment setup, and it's an easy one.\nIt...",
          "Video: 59295459<br>Text: And welcome back to More Leaderboard Fest as we go through some more leaderboards.\nBut this time we'...",
          "Video: 59471979<br>Text: So we now turn to the parts of the problem, which is perhaps, let's say, not as glamorous as some\nof...",
          "Video: 59503705<br>Text: And so now we talk about quantization the q and q Laura.\nQ stands for quantized quantized.\nLaura.\nAn...",
          "Video: 59472505<br>Text: So the good news is that this is the very final video about data set curation.\nYou were probably fed...",
          "Video: 59669217<br>Text: And welcome to the next part of visualizing the data.\nAnd just very quickly to show it to you in 3D....",
          "Video: 59671221<br>Text: I gotta tell you, I don't like to toot my horn a whole lot, but I do think that I've done a great\njo...",
          "Video: 59503703<br>Text: Well.\nHello there everybody.\nI am so grateful that you've made it through to the start of week seven...",
          "Video: 59473201<br>Text: Well, before we do a postmortem on what happened, let's just quickly look at the standing the rankin...",
          "Video: 60622463<br>Text: In this video, we're going to set up a full data science environment for Mac users.\nIn the next vide...",
          "Video: 60619299<br>Text: Well, I hope you found that both educational and enjoyable.\nAs we went through and learned so much a...",
          "Video: 59295607<br>Text: So to revisit then the solution that we built in the previous day and talk about the metrics.\nAs I s...",
          "Video: 59297575<br>Text: Well, welcome to the final part on rag.\nAnd this is the session where you go from being a rag expert...",
          "Video: 59507687<br>Text: It's time for action, everybody.\nWe've set up our colab.\nHere we are, week seven, day three.\nWe've g...",
          "Video: 59671441<br>Text: And welcome once more to our favorite place to be Jupyter Lab, the Paradise for a data scientist exp...",
          "Video: 59673431<br>Text: And here we have it.\nThe user interface is completed.\nThe extra notification came through on my phon...",
          "Video: 59473137<br>Text: Let's get straight to it.\nSo the place where you can see everything that's going on and get knee dee...",
          "Video: 59166421<br>Text: Welcome back to the radio day in the lab.\nMore to do.\nLet's keep going.\nWhere we left off is we had ...",
          "Video: 59295599<br>Text: Welcome to the Jupyter Lab for day four.\nIt's going to look very familiar because it's actually I've...",
          "Video: 59669631<br>Text: Here we are in our favorite place to be in JupyterLab, ready for some coding and a lot of coding tha...",
          "Video: 59673663<br>Text: But wait, there's more.\nWe need to add some more to the user interface just to make it look more coo...",
          "Video: 59506929<br>Text: And we return to the hugging face open LLM leaderboard.\nThe first place you go when selecting your b...",
          "Video: 59504785<br>Text: So at this point we're going to talk about hyperparameters.\nAnd we're going to introduce three of th...",
          "Video: 59505337<br>Text: So we're now going to look at four bit quantization, the rather remarkable effect of reducing the pr...",
          "Video: 59271655<br>Text: So here we are on Hugging Face's main landing page at Hugging Face Core.\nA URL you know.\nWell, since...",
          "Video: 59472883<br>Text: Okay, time to reveal the results.\nIt has run to completion.\nAnd here it is.\nSo a moment to pause.\nIt...",
          "Video: 59673639<br>Text: And welcome now to the code for our user interface, which we will find in this Python module.\nPrice ...",
          "Video: 59472463<br>Text: So last time we looked at a humble linear regression model with feature engineering, and now we say\n...",
          "Video: 59297595<br>Text: So by the time you're watching this, hopefully you have played yourself with vectors.\nYou've created...",
          "Video: 60619149<br>Text: So we're going to start our exploration into the world of frontier models by playing with the famous...",
          "Video: 59297735<br>Text: And at last the time has come to see rag in action.\nAfter all of this talk, and here we are.\nWe're i...",
          "Video: 60616407<br>Text: And now over to my Mac people.\nAnd I have news for you.\nIt's exactly the same thing.\nYou go to a fav...",
          "Video: 59170235<br>Text: So here we are in Google Colab for our first collaborative session on the cloud using a GPU box.\nOn ...",
          "Video: 59472067<br>Text: So we've covered steps 1 to 4 of the five step strategy.\nAnd that brings us to step five, which is p...",
          "Video: 59472011<br>Text: Welcome everybody.\nSo in the past I've said quite a few times, I am excited to start this this week ...",
          "Video: 59295553<br>Text: Welcome back.\nIn the last part, we gave our GPT four and clawed the challenge of converting a simple...",
          "Video: 59297773<br>Text: Well, I hope you're eager with anticipation for this session in JupyterLab as we finally get to see\n...",
          "Video: 59295583<br>Text: And here we are back in JupyterLab.\nIt's been a minute.\nWe've been working in Colab for last week, a...",
          "Video: 59507329<br>Text: Okay.\nIt's moment of truth time.\nI have just taken our class tester.\nYou remember this class?\nUh, it...",
          "Video: 59295429<br>Text: Continuing our investigation of benchmarks, and this will become more real when we actually see some...",
          "Video: 60595637<br>Text: Here we are back in the Colab, which has been running overnight for me and probably for you too, I\nh...",
          "Video: 59668027<br>Text: And so here we are at the home page for modal.\nAt modal.com spelt model not not model which is confu...",
          "Video: 59295527<br>Text: I'm so happy to welcome you to week four, day four on our journey to LLM Engineering and Mastery.\nHe...",
          "Video: 59295377<br>Text: Just before we go on to some of the more advanced metrics, I want to mention for a second something\n...",
          "Video: 59666211<br>Text: So before we try our new model and one more recap on the models so far and keep notes of this so we\n...",
          "Video: 59170107<br>Text: And once again, it's that moment when you take a pause and congratulate yourself on another day of\ns...",
          "Video: 60616833<br>Text: So I realized that day one of week one has been a pretty long day, and I assure you that the other,\n...",
          "Video: 59472413<br>Text: Wonderful.\nWhere we left off is we had just created the Get Features function, which builds our feat...",
          "Video: 59297561<br>Text: And would you believe at this point you're 55% of the way along the journey?\nUh, it's been a while s...",
          "Video: 59669211<br>Text: Well, we took on a lot today and we seem to have been successful.\nThese red icons that you see on th...",
          "Video: 59166981<br>Text: Welcome to week two, day five.\nThe last day of week two where a lot is coming together.\nI am so grat...",
          "Video: 60619227<br>Text: And now let's move to Claude from anthropic, my favorite model and typically the favorite model of\nm...",
          "Video: 60620395<br>Text: Welcome back to Jupyter Lab, where I want to show you the assignment, the homework exercise for you\n...",
          "Video: 59665127<br>Text: Well hi there everybody.\nI'm not going to give you my usual song and dance about how excited you are...",
          "Video: 59668923<br>Text: Well, welcome back to Jupyter Lab for what will be an epic finale to our time in this platform.\nAnd ...",
          "Video: 59504887<br>Text: Well, here we are again in Google Colab.\nIt's been a minute since we were here, and welcome back to ...",
          "Video: 59170165<br>Text: Welcome, everybody to the last day of week three.\nWeek three.\nDay five.\nWe're here already wrapping ...",
          "Video: 60617251<br>Text: Congratulations are definitely in order.\nYesterday was a mammoth first day on this course and you go...",
          "Video: 59166951<br>Text: All right, back to the lab.\nBack to our project.\nTime to work with tools.\nI am in the week two folde...",
          "Video: 60619619<br>Text: Well, day four was an information dense day.\nI do hope that you learned some something useful here, ...",
          "Video: 60616663<br>Text: Well.\nHi there, this is time for PC people to get set up.\nSo all you Mac people out there, you don't...",
          "Video: 59508175<br>Text: So I'm taking a moment now to explain that the training costs of optimizing a model for this course\n...",
          "Video: 59670087<br>Text: And welcome to part four of day two of week eight.\nUh, there's a lot happening this week, and I have...",
          "Video: 59506713<br>Text: Hi everyone.\nSo the reason I'm so fired up about week seven is that this is the time when we actuall...",
          "Video: 60620169<br>Text: Hopefully you found this super satisfying to be able to have this nice business result and have it c...",
          "Video: 59295435<br>Text: Well, just before we wrap up, let me introduce this week's challenge and talk about what we're going...",
          "Video: 59297609<br>Text: Last week, we worked with models that were able to speed up code by a factor of 60,000 times, which\n...",
          "Video: 59507489<br>Text: Continuing our adventure through hyperparameters for training.\nThe next one is pretty crucial and it...",
          "Video: 59295549<br>Text: And welcome back to our challenge again.\nAnd this time we are working with our beautiful prototype.\n...",
          "Video: 59665129<br>Text: And now let me make this real for you by showing you some, some diagrams, particularly now looking\na...",
          "Video: 59169991<br>Text: Okay, so that was your introduction to Hugging Face.\nAnd now I'm going to turn to a different resour...",
          "Video: 59472027<br>Text: And now the time has come to curate our data set.\nAnd the way we're going to do this is we're going ...",
          "Video: 59472307<br>Text: Welcome to week six.\nDay two a day.\nWhen we get back into the data, we look back in anger at our dat...",
          "Video: 59508289<br>Text: So here we are now, back in the Colab, in the same one that we kicked off in the previous day.\nIt's ...",
          "Video: 59472333<br>Text: Thank you for putting up with me during my foray into traditional machine learning.\nI think it was u...",
          "Video: 59295431<br>Text: Now I want to take a quick moment to give you a flyby of five different ways that llms are used comm...",
          "Video: 59673449<br>Text: Well, I have to tell you that I'm a little bit sad.\nThis is the beginning of the beginning of the en...",
          "Video: 59669389<br>Text: Well.\nHi there.\nSo you've made it to day two of week eight, and I am super grateful that you've been...",
          "Video: 59170057<br>Text: And so at the beginning of this week, we started by talking about hugging face pipelines.\nAnd you us...",
          "Video: 59166949<br>Text: Welcome back to making chatbots.\nLet's keep going.\nSo for the next part we're going to beef up the s...",
          "Video: 59473019<br>Text: Welcome back to an action packed time of of training.\nSo now, after waiting about five minutes when ...",
          "Video: 59297585<br>Text: Before we move on, let me show you one more time this fabulous slide that describes the simple three...",
          "Video: 59170255<br>Text: And welcome back to us continuing our journey through the model class in Hugging Face Transformers l...",
          "Video: 60614589<br>Text: So we're now going to run a large language model directly on your box using a platform called llama,...",
          "Video: 59297601<br>Text: I'm not going to lie, at this point you have every reason to be impatient with me.\nWe've been yammer...",
          "Video: 60616629<br>Text: And welcome back to team PC and Team Mac as we come back together again for a quick video.\nIn this o...",
          "Video: 59297749<br>Text: It's always welcome back to JupyterLab, my favorite place to be.\nAnd now we are, of course in the we...",
          "Video: 59170135<br>Text: Welcome.\nIt's week three.\nIt's day four.\nWe are back on the adventure in open source land, back inve...",
          "Video: 59472017<br>Text: And this is the first time that we'll be coding against our big project of the course.\nWelcome to Ju...",
          "Video: 59507017<br>Text: Welcome to Colab.\nWelcome to the week seven day two Colab.\nAnd just before we try our base model, we...",
          "Video: 60619883<br>Text: And now we've arrived at an exciting moment in our first week.\nThe conclusion of the first week is w...",
          "Video: 59508297<br>Text: What more is there to say, really?\nTomorrow is the day for results.\nA day that very excited indeed a...",
          "Video: 60619247<br>Text: We're going to spend a little bit more time with GPT just to try out a few more interesting things.\n...",
          "Video: 59504769<br>Text: Without further ado, we're going to get stuck into it.\nTalking about Laura.\nLow rank adaptation.\nAnd...",
          "Video: 59170233<br>Text: Welcome back to our continued exploits with Tokenizers.\nWhat we're now going to look at is what's ca...",
          "Video: 59671231<br>Text: And here we are back in the Jupyter Lab for the fast approaching conclusion with a really great proj...",
          "Video: 60620397<br>Text: Well, that's a fantastic result to have now arrived towards the end of week one and having completed...",
          "Video: 59170093<br>Text: I'm delighted to see you again.\nAs we get started with day three of week three of our adventure and ...",
          "Video: 59473089<br>Text: Welcome back.\nSo hopefully you are still impressed by the GPT four mini results.\nThe frontier model ...",
          "Video: 60395261<br>Text: Let's keep going with our project to equip our LM with a tool.\nWe just created this piece of code to...",
          "Video: 60617259<br>Text: I'm excited to introduce you to your first exercise, and I'm looking forward to seeing what you make...",
          "Video: 59507313<br>Text: And it's this time again, when we look at the podium of how our models are performing across the boa...",
          "Video: 60619721<br>Text: Now it's time to talk for a minute about tokens.\nTokens are the individual units which get passed in...",
          "Video: 59295451<br>Text: I know that everybody.\nIt seems like just the other day that we were embarking on our quest together...",
          "Video: 59166919<br>Text: And with that, it concludes our session on tools.\nAnd at this point, you are probably an expert on t...",
          "Video: 59295441<br>Text: Okay, so welcome to our leaderboard fast as we go through a ton of essential leaderboards for your\nc...",
          "Video: 59295541<br>Text: And welcome back.\nYou've just seen GPT four zero spectacularly failed to work on our hard Python con...",
          "Video: 59473101<br>Text: Welcome back.\nSo about ten minutes later, maybe 15 minutes later, the run has completed.\nAnd how do ...",
          "Video: 59507423<br>Text: So you may remember eons ago when we were building our data set.\nAt the end of that, we uploaded our...",
          "Video: 59295545<br>Text: I really hope you've enjoyed this week.\nWe've got tons done.\nWe've experimented with all sorts of ne...",
          "Video: 59472503<br>Text: Welcome back to Jupyter Lab.\nLast time, we looked at some silly models for predicting the price of p...",
          "Video: 60614591<br>Text: The mantra of this course is that the best way to learn is by doing, and we will be doing stuff toge...",
          "Video: 59473021<br>Text: Welcome to our favorite place to be to JupyterLab.\nHere we are again now in day three.\nIn week six.\n...",
          "Video: 60617255<br>Text: I'm now going to talk for a bit about models.\nA term you often hear is the term frontier models, whi...",
          "Video: 59667829<br>Text: Well.\nHello there.\nLook, I know what you're thinking.\nYou're thinking I peaked too early.\nLast week ...",
          "Video: 59505329<br>Text: Welcome back.\nYou may, like me, have just gone off and got a coffee while things loaded back up agai...",
          "Video: 59669049<br>Text: So what you just saw was an ephemeral app, as it's called, which means just a temporary app that you...",
          "Video: 60619439<br>Text: This now brings us to an extremely important property of LMS called the context window that I want t...",
          "Video: 59668181<br>Text: And so it gives me great pleasure to introduce to you the project that I've lined up for you this we...",
          "Video: 59472441<br>Text: Welcome back.\nSo we've been doing the thoroughly distasteful, unsavory work of feature engineering.\n...",
          "Video: 59507785<br>Text: Well, I'm sure you're fed up of me saying that the moment of truth has arrived, but it really has.\nT...",
          "Video: 59295587<br>Text: When I left you, we had just created this simple user interface for converting from Python to C plus...",
          "Video: 59166465<br>Text: Welcome back to the JupyterLab on Gradio day, so you'll remember where we left off.\nWe'd written two...",
          "Video: 59473071<br>Text: Hey, gang.\nLook, I know what you're thinking.\nThis week was supposed to be training week.\nI set it a...",
          "Video: 59295423<br>Text: Welcome to day two of week four, when we get more into leaderboards so that by the end of this, you'...",
          "Video: 59297723<br>Text: So I know what you're thinking.\nYou're thinking, what's going on here?\nWe're on day five.\nWe're on d...",
          "Video: 59166947<br>Text: Well, thank you for coming along for week two, day four.\nWe have lots of good stuff in store today.\n...",
          "Video: 59666831<br>Text: Take one more moment to look at this very nice diagram that lays it all out, and we will move on.\nNo...",
          "Video: 59295493<br>Text: And welcome to week four, day three.\nAs we are about to embark upon another business project which w...",
          "Video: 60616855<br>Text: Now I know what you're thinking.\nWe've been building environments for so long.\nAre we not done yet?\n...",
          "Video: 59506611<br>Text: So in a future day, I'm going to be training, fine tuning a model and creating a fine tuned model.\nA...",
          "Video: 60616493<br>Text: I'll just take a quick moment to introduce myself to convince you that I am actually qualified to be...",
          "Video: 59166317<br>Text: And welcome to week two, day two, as we continue our adventure into the realm of LMS.\nUh, so today, ...",
          "Video: 59295439<br>Text: So I'm aware that there's a big risk that you are getting fed up of leaderboards, because we've done...",
          "Video: 59472421<br>Text: And welcome back to our final time in Jupyter Lab with traditional machine learning.\nIt's almost ove...",
          "Video: 59472137<br>Text: Well, well, well, it's been a long day, but congratulations, you've made it.\nWe've gone through and ...",
          "Video: 59297693<br>Text: So at the end of each week, it's customary for me to give you a challenge, an assignment to do on\nyo...",
          "Video: 60620143<br>Text: So we're going to make a call to GPT four.\nOh, that's going to ask it to look through a set of links...",
          "Video: 60619501<br>Text: I welcome to day four of our time together.\nThis is a very important day.\nToday we're going to be lo...",
          "Video: 59297743<br>Text: And welcome to day five.\nFor reals.\nWe're actually in the proper Jupyter notebook.\nThis time we're i...",
          "Video: 59166847<br>Text: Well, they say that time flies when you're having fun, and it certainly feels like time is flying.\nU...",
          "Video: 59170223<br>Text: Well.\nFantastic.\nIt's coming up to the end of the week, and that means it's coming up to a challenge...",
          "Video: 59170037<br>Text: So how does it feel to be 30% of the way down the journey to being a proficient LLM engineer?\nTake a...",
          "Video: 59295609<br>Text: You must be feeling absolutely exhausted at this point.\nAnd if you are, that is okay.\nYou have done ...",
          "Video: 60619281<br>Text: Well, I'm delighted to welcome you to day three of our eight week journey together.\nAnd today we're ...",
          "Video: 59472429<br>Text: And continuing on our strategy to solve commercial problems with LMS, we get to step four, which is\n...",
          "Video: 59167009<br>Text: Welcome back.\nIt's time to make our full agent framework.\nI'm super excited about this.\nIt's pulling...",
          "Video: 59166481<br>Text: And here, once more we find ourselves in our favorite place, the Jupyter Lab.\nReady to go with weeks...",
          "Video: 59670933<br>Text: I realized my enthusiasm for this project is a bit insane, but I have to tell you that I am very sat...",
          "Video: 59670073<br>Text: Okay, it's time to complete the Rag workflow in our Jupyter Lab on day 2.3.\nWe've got this function ...",
          "Video: 59673595<br>Text: That concludes a mammoth project.\nThree weeks in the making.\nIn the course of those three weeks, sta...",
          "Video: 59297603<br>Text: And I'm delighted to welcome you back to LM engineering on the day that we turn to vectors.\nFinally,...",
          "Video: 60614541<br>Text: I am delighted to welcome you to the first day of our eight weeks together as you join me on this ad...",
          "Video: 59667357<br>Text: Let's now see our results side by side.\nWe started our journey with a constant model that was at $1....",
          "Video: 59667841<br>Text: Now, look, I know that I went through that very fast, but maybe, uh, you're still, uh, blinking\nat t...",
          "Video: 59472007<br>Text: So I hope you enjoyed our first bash at Scrubbing Data, and that you are now looking through the cod...",
          "Video: 59507435<br>Text: So I'm now going to talk about five important hyperparameters for the training process.\nAnd some of ...",
          "Video: 59509185<br>Text: So this is where I left you looking at this satisfying chart on training loss and seeing the trainin...",
          "Video: 59473159<br>Text: Welcome to Jupyter Lab and welcome to our experiments at the frontier.\nSo we are going to put our fr...",
          "Video: 60619447<br>Text: I want to take a moment to talk about something that's very fundamental to an LLM, which is the numb...",
          "Video: 59166353<br>Text: Well, congratulations on leveling up yet again.\nYou've got some real hard skills that you've added t...",
          "Video: 60619123<br>Text: So what we're now going to do is we're going to look at some models in practice and start to compare...",
          "Video: 59295363<br>Text: Well, another congratulations moment.\nYou have 40% on the way to being an LM engineer at a high leve...",
          "Video: 60619289<br>Text: And now we'll go a bit faster through the other models.\nWe'll start with Google's Gemini.\nI have the...",
          "Video: 59472873<br>Text: So it's quite an adventure that we had at the frontier of what's capable with Llms today, solving a\n...",
          "Video: 60619429<br>Text: Let me talk about some other phenomena that have happened over the last few years.\nOne of them has b...",
          "Video: 59295601<br>Text: So it's time to continue our journey into the world of open source and understand which models we sh...",
          "Video: 59170025<br>Text: And a massive welcome back one more time to LM engineering.\nWe are in week three, day two and we are...",
          "Video: 59166443<br>Text: And welcome back everybody.\nWelcome to week two day three.\nIt's a continuation of our enjoyment of r...",
          "Video: 60620025<br>Text: And welcome back to Jupyter Lab, one of my very favorite places to be.\nWhen Jupyter Lab sprung up on...",
          "Video: 59170055<br>Text: Welcome to the world of Google Colab.\nYou may already be very familiar with Google Colab, even if so..."
         ],
         "type": "scatter",
         "x": [
          -0.859648,
          7.3309765,
          0.21870197,
          -13.03976,
          -3.0766428,
          11.100553,
          4.6001115,
          -9.268545,
          -5.360921,
          1.8335935,
          2.2128375,
          -1.7025363,
          2.7415411,
          1.6968822,
          -9.437864,
          -2.4456034,
          13.673174,
          9.69971,
          5.391895,
          0.9950481,
          -2.6140966,
          14.227348,
          2.5340881,
          -10.256354,
          -7.6409054,
          2.7219393,
          1.1424255,
          1.6502428,
          -6.957909,
          4.086808,
          8.104448,
          -7.2092853,
          13.410249,
          -2.9087114,
          2.019522,
          7.0692005,
          -0.84805,
          -9.599044,
          -0.36659604,
          2.8821077,
          -1.7564659,
          0.22077061,
          7.1004896,
          -0.5071637,
          -1.5469455,
          9.606234,
          -7.6583476,
          -8.758075,
          16.001204,
          -0.45763963,
          12.072926,
          14.450202,
          -7.893885,
          -4.888164,
          7.238137,
          -6.4890647,
          -10.677237,
          -6.450742,
          0.29829141,
          3.5972733,
          7.056694,
          3.3955274,
          4.1175003,
          2.2164605,
          3.3678567,
          10.912271,
          4.3282537,
          -1.8016068,
          -2.778665,
          0.33017898,
          3.1186757,
          8.368695,
          3.8920324,
          9.047157,
          4.2369857,
          -13.133919,
          0.30549568,
          10.36587,
          2.0417519,
          -4.207513,
          -2.7341063,
          9.276742,
          3.7855272,
          2.2184367,
          9.518204,
          -7.6228004,
          3.5007627,
          4.166524,
          -6.947239,
          -6.4718704,
          6.777542,
          -1.643389,
          -4.0581813,
          13.556551,
          3.738945,
          -9.4638,
          -7.085359,
          -12.116256,
          1.8722422,
          -1.235673,
          1.5310236,
          2.681954,
          -1.2896698,
          -3.3085613,
          -3.5033119,
          -7.8056912,
          -6.380733,
          12.077981,
          9.891831,
          -2.583847,
          0.049997784,
          -7.109494,
          -1.6533405,
          -0.35486424,
          8.023757,
          -1.5843254,
          4.68254,
          12.040059,
          -4.070594,
          3.5485406,
          8.321888,
          -10.936198,
          -5.665428,
          -3.9380574,
          -1.2327232,
          -2.4456801,
          5.2406054,
          -0.036940902,
          3.5880437,
          10.343754,
          0.10399394,
          -6.0591764,
          0.5472898,
          -0.18098946,
          12.552157,
          2.215009,
          -2.0987718,
          -4.3202305,
          10.194152,
          -1.0280695,
          0.6394854,
          -7.001653,
          -2.6180403,
          0.5332797,
          6.908162,
          -4.1370797,
          0.36955032,
          6.766898,
          -5.599071,
          -6.2765083,
          -6.5416136,
          -8.705647,
          8.097455,
          6.401871,
          10.086735,
          -6.55865,
          13.3281975,
          -11.958505,
          9.180207,
          -10.071172,
          -5.573983,
          1.7291324,
          3.2020307,
          -9.81586,
          4.254864,
          13.542623,
          3.1633458,
          6.4809103,
          1.6912766,
          -0.96716404,
          -9.644825,
          4.948192,
          -4.875502,
          -2.7658813,
          -7.0795684,
          6.3749175,
          -0.2840374,
          -13.407808,
          0.97872597,
          -8.729023,
          9.891307,
          -2.5329638,
          -11.002493,
          0.6183121,
          -10.363856,
          0.267183,
          -8.229537,
          -6.164332,
          -7.064035,
          -5.55934,
          -11.237544,
          -2.4159808,
          -7.657407,
          -0.47880024,
          -4.861272,
          11.012814,
          -5.3301964,
          4.517483,
          -13.10771,
          8.053061,
          2.3658233,
          -4.5009966,
          0.74033785,
          3.0659394,
          7.927173,
          -5.8426704,
          -7.692328,
          -11.8179,
          -10.170092,
          -13.525137,
          7.471072,
          -9.561237,
          -7.660354,
          0.98921955,
          -2.5871053,
          0.7735228,
          4.697858
         ],
         "y": [
          -16.108109,
          -2.802871,
          5.55556,
          -3.1165593,
          -2.5197542,
          1.6573303,
          7.9436374,
          1.7033308,
          2.729909,
          -3.110688,
          0.19969198,
          7.2094626,
          11.474268,
          -9.306534,
          6.4831786,
          3.4693139,
          -3.6395743,
          -1.3802856,
          17.943478,
          20.674412,
          -14.37641,
          0.2662799,
          17.946259,
          5.1479177,
          3.269782,
          12.8965645,
          19.676033,
          10.8139715,
          4.6734076,
          -12.667667,
          9.158181,
          2.501612,
          -2.853026,
          -2.8742912,
          -9.390684,
          3.5931249,
          1.5709282,
          -10.765733,
          -5.9113226,
          -5.507533,
          10.479771,
          -0.30162513,
          -5.1619964,
          9.435609,
          8.602637,
          -4.3179398,
          14.847089,
          -5.8406625,
          -4.0188546,
          -16.03366,
          -2.9351225,
          0.8814765,
          9.312446,
          0.2861319,
          -8.754338,
          14.149203,
          -2.501995,
          -4.5788355,
          20.002163,
          -6.9779773,
          -1.2691092,
          13.288892,
          -9.499816,
          9.733308,
          7.6684027,
          0.11708519,
          12.023214,
          -8.592282,
          -14.5351715,
          -16.749748,
          -1.4396764,
          -10.056349,
          11.6244335,
          0.4102241,
          18.943052,
          -4.8392525,
          17.31309,
          12.829157,
          -0.31426865,
          -4.913969,
          -5.8585067,
          8.703345,
          17.946308,
          7.5203032,
          -9.040579,
          -8.977853,
          -10.744503,
          2.9780662,
          -2.9896638,
          -9.919191,
          -7.825369,
          -0.5688983,
          2.7128513,
          -8.081976,
          19.224987,
          5.6850524,
          7.2608743,
          -1.9696628,
          5.7763453,
          -11.9261,
          3.7726462,
          -6.2928514,
          0.6002692,
          3.240406,
          10.033546,
          1.7159785,
          14.183074,
          -4.955666,
          -1.2268807,
          -6.7443852,
          8.091246,
          -1.4330128,
          17.374035,
          -12.052618,
          8.407009,
          -12.653764,
          0.5208274,
          -2.3776338,
          -5.5375533,
          -11.549568,
          -6.591003,
          -7.744704,
          5.603869,
          1.1318715,
          -1.3157955,
          12.294856,
          -11.588596,
          18.72359,
          -4.533707,
          12.797578,
          18.353394,
          14.767065,
          16.229063,
          -1.1066937,
          -3.7252734,
          -3.5343199,
          5.829706,
          -1.1521066,
          6.080864,
          -14.84926,
          -3.3232324,
          10.510039,
          5.957106,
          -2.2022781,
          -5.182772,
          9.717215,
          4.3090715,
          -8.085696,
          -12.127335,
          -6.2474174,
          7.0910845,
          -6.4494314,
          7.989585,
          -10.92101,
          -4.208281,
          -3.0467856,
          -7.2040524,
          3.4879417,
          -2.9318397,
          -3.7214146,
          1.688086,
          -6.546599,
          2.838505,
          -12.067736,
          4.953533,
          -7.6888204,
          -8.374947,
          8.707888,
          9.738594,
          -5.715931,
          -7.3781533,
          19.546906,
          8.7370205,
          -11.739149,
          -1.4666423,
          3.6902168,
          -14.634209,
          7.613645,
          11.104671,
          -8.19435,
          -6.881912,
          -3.8555307,
          3.0141797,
          7.749215,
          -1.4897541,
          14.488473,
          3.882484,
          3.0612788,
          0.7137344,
          -7.4118447,
          -3.123873,
          17.030315,
          8.942967,
          7.1438923,
          4.7416067,
          2.027668,
          4.4894767,
          17.905304,
          7.7233586,
          -7.9623003,
          2.6870794,
          -7.5661163,
          -12.301454,
          -11.477651,
          -3.8346057,
          -11.767478,
          5.598828,
          -4.312641,
          -6.8031745,
          -4.3621974,
          -6.8772163,
          9.279575,
          -4.0924034,
          -0.7417347,
          8.393606,
          5.9398475,
          0.6119152
         ]
        }
       ],
       "layout": {
        "height": 600,
        "margin": {
         "b": 10,
         "l": 10,
         "r": 20,
         "t": 40
        },
        "scene": {
         "xaxis": {
          "title": {
           "text": "x"
          }
         },
         "yaxis": {
          "title": {
           "text": "y"
          }
         }
        },
        "template": {
         "data": {
          "bar": [
           {
            "error_x": {
             "color": "#2a3f5f"
            },
            "error_y": {
             "color": "#2a3f5f"
            },
            "marker": {
             "line": {
              "color": "#E5ECF6",
              "width": 0.5
             },
             "pattern": {
              "fillmode": "overlay",
              "size": 10,
              "solidity": 0.2
             }
            },
            "type": "bar"
           }
          ],
          "barpolar": [
           {
            "marker": {
             "line": {
              "color": "#E5ECF6",
              "width": 0.5
             },
             "pattern": {
              "fillmode": "overlay",
              "size": 10,
              "solidity": 0.2
             }
            },
            "type": "barpolar"
           }
          ],
          "carpet": [
           {
            "aaxis": {
             "endlinecolor": "#2a3f5f",
             "gridcolor": "white",
             "linecolor": "white",
             "minorgridcolor": "white",
             "startlinecolor": "#2a3f5f"
            },
            "baxis": {
             "endlinecolor": "#2a3f5f",
             "gridcolor": "white",
             "linecolor": "white",
             "minorgridcolor": "white",
             "startlinecolor": "#2a3f5f"
            },
            "type": "carpet"
           }
          ],
          "choropleth": [
           {
            "colorbar": {
             "outlinewidth": 0,
             "ticks": ""
            },
            "type": "choropleth"
           }
          ],
          "contour": [
           {
            "colorbar": {
             "outlinewidth": 0,
             "ticks": ""
            },
            "colorscale": [
             [
              0,
              "#0d0887"
             ],
             [
              0.1111111111111111,
              "#46039f"
             ],
             [
              0.2222222222222222,
              "#7201a8"
             ],
             [
              0.3333333333333333,
              "#9c179e"
             ],
             [
              0.4444444444444444,
              "#bd3786"
             ],
             [
              0.5555555555555556,
              "#d8576b"
             ],
             [
              0.6666666666666666,
              "#ed7953"
             ],
             [
              0.7777777777777778,
              "#fb9f3a"
             ],
             [
              0.8888888888888888,
              "#fdca26"
             ],
             [
              1,
              "#f0f921"
             ]
            ],
            "type": "contour"
           }
          ],
          "contourcarpet": [
           {
            "colorbar": {
             "outlinewidth": 0,
             "ticks": ""
            },
            "type": "contourcarpet"
           }
          ],
          "heatmap": [
           {
            "colorbar": {
             "outlinewidth": 0,
             "ticks": ""
            },
            "colorscale": [
             [
              0,
              "#0d0887"
             ],
             [
              0.1111111111111111,
              "#46039f"
             ],
             [
              0.2222222222222222,
              "#7201a8"
             ],
             [
              0.3333333333333333,
              "#9c179e"
             ],
             [
              0.4444444444444444,
              "#bd3786"
             ],
             [
              0.5555555555555556,
              "#d8576b"
             ],
             [
              0.6666666666666666,
              "#ed7953"
             ],
             [
              0.7777777777777778,
              "#fb9f3a"
             ],
             [
              0.8888888888888888,
              "#fdca26"
             ],
             [
              1,
              "#f0f921"
             ]
            ],
            "type": "heatmap"
           }
          ],
          "heatmapgl": [
           {
            "colorbar": {
             "outlinewidth": 0,
             "ticks": ""
            },
            "colorscale": [
             [
              0,
              "#0d0887"
             ],
             [
              0.1111111111111111,
              "#46039f"
             ],
             [
              0.2222222222222222,
              "#7201a8"
             ],
             [
              0.3333333333333333,
              "#9c179e"
             ],
             [
              0.4444444444444444,
              "#bd3786"
             ],
             [
              0.5555555555555556,
              "#d8576b"
             ],
             [
              0.6666666666666666,
              "#ed7953"
             ],
             [
              0.7777777777777778,
              "#fb9f3a"
             ],
             [
              0.8888888888888888,
              "#fdca26"
             ],
             [
              1,
              "#f0f921"
             ]
            ],
            "type": "heatmapgl"
           }
          ],
          "histogram": [
           {
            "marker": {
             "pattern": {
              "fillmode": "overlay",
              "size": 10,
              "solidity": 0.2
             }
            },
            "type": "histogram"
           }
          ],
          "histogram2d": [
           {
            "colorbar": {
             "outlinewidth": 0,
             "ticks": ""
            },
            "colorscale": [
             [
              0,
              "#0d0887"
             ],
             [
              0.1111111111111111,
              "#46039f"
             ],
             [
              0.2222222222222222,
              "#7201a8"
             ],
             [
              0.3333333333333333,
              "#9c179e"
             ],
             [
              0.4444444444444444,
              "#bd3786"
             ],
             [
              0.5555555555555556,
              "#d8576b"
             ],
             [
              0.6666666666666666,
              "#ed7953"
             ],
             [
              0.7777777777777778,
              "#fb9f3a"
             ],
             [
              0.8888888888888888,
              "#fdca26"
             ],
             [
              1,
              "#f0f921"
             ]
            ],
            "type": "histogram2d"
           }
          ],
          "histogram2dcontour": [
           {
            "colorbar": {
             "outlinewidth": 0,
             "ticks": ""
            },
            "colorscale": [
             [
              0,
              "#0d0887"
             ],
             [
              0.1111111111111111,
              "#46039f"
             ],
             [
              0.2222222222222222,
              "#7201a8"
             ],
             [
              0.3333333333333333,
              "#9c179e"
             ],
             [
              0.4444444444444444,
              "#bd3786"
             ],
             [
              0.5555555555555556,
              "#d8576b"
             ],
             [
              0.6666666666666666,
              "#ed7953"
             ],
             [
              0.7777777777777778,
              "#fb9f3a"
             ],
             [
              0.8888888888888888,
              "#fdca26"
             ],
             [
              1,
              "#f0f921"
             ]
            ],
            "type": "histogram2dcontour"
           }
          ],
          "mesh3d": [
           {
            "colorbar": {
             "outlinewidth": 0,
             "ticks": ""
            },
            "type": "mesh3d"
           }
          ],
          "parcoords": [
           {
            "line": {
             "colorbar": {
              "outlinewidth": 0,
              "ticks": ""
             }
            },
            "type": "parcoords"
           }
          ],
          "pie": [
           {
            "automargin": true,
            "type": "pie"
           }
          ],
          "scatter": [
           {
            "fillpattern": {
             "fillmode": "overlay",
             "size": 10,
             "solidity": 0.2
            },
            "type": "scatter"
           }
          ],
          "scatter3d": [
           {
            "line": {
             "colorbar": {
              "outlinewidth": 0,
              "ticks": ""
             }
            },
            "marker": {
             "colorbar": {
              "outlinewidth": 0,
              "ticks": ""
             }
            },
            "type": "scatter3d"
           }
          ],
          "scattercarpet": [
           {
            "marker": {
             "colorbar": {
              "outlinewidth": 0,
              "ticks": ""
             }
            },
            "type": "scattercarpet"
           }
          ],
          "scattergeo": [
           {
            "marker": {
             "colorbar": {
              "outlinewidth": 0,
              "ticks": ""
             }
            },
            "type": "scattergeo"
           }
          ],
          "scattergl": [
           {
            "marker": {
             "colorbar": {
              "outlinewidth": 0,
              "ticks": ""
             }
            },
            "type": "scattergl"
           }
          ],
          "scattermapbox": [
           {
            "marker": {
             "colorbar": {
              "outlinewidth": 0,
              "ticks": ""
             }
            },
            "type": "scattermapbox"
           }
          ],
          "scatterpolar": [
           {
            "marker": {
             "colorbar": {
              "outlinewidth": 0,
              "ticks": ""
             }
            },
            "type": "scatterpolar"
           }
          ],
          "scatterpolargl": [
           {
            "marker": {
             "colorbar": {
              "outlinewidth": 0,
              "ticks": ""
             }
            },
            "type": "scatterpolargl"
           }
          ],
          "scatterternary": [
           {
            "marker": {
             "colorbar": {
              "outlinewidth": 0,
              "ticks": ""
             }
            },
            "type": "scatterternary"
           }
          ],
          "surface": [
           {
            "colorbar": {
             "outlinewidth": 0,
             "ticks": ""
            },
            "colorscale": [
             [
              0,
              "#0d0887"
             ],
             [
              0.1111111111111111,
              "#46039f"
             ],
             [
              0.2222222222222222,
              "#7201a8"
             ],
             [
              0.3333333333333333,
              "#9c179e"
             ],
             [
              0.4444444444444444,
              "#bd3786"
             ],
             [
              0.5555555555555556,
              "#d8576b"
             ],
             [
              0.6666666666666666,
              "#ed7953"
             ],
             [
              0.7777777777777778,
              "#fb9f3a"
             ],
             [
              0.8888888888888888,
              "#fdca26"
             ],
             [
              1,
              "#f0f921"
             ]
            ],
            "type": "surface"
           }
          ],
          "table": [
           {
            "cells": {
             "fill": {
              "color": "#EBF0F8"
             },
             "line": {
              "color": "white"
             }
            },
            "header": {
             "fill": {
              "color": "#C8D4E3"
             },
             "line": {
              "color": "white"
             }
            },
            "type": "table"
           }
          ]
         },
         "layout": {
          "annotationdefaults": {
           "arrowcolor": "#2a3f5f",
           "arrowhead": 0,
           "arrowwidth": 1
          },
          "autotypenumbers": "strict",
          "coloraxis": {
           "colorbar": {
            "outlinewidth": 0,
            "ticks": ""
           }
          },
          "colorscale": {
           "diverging": [
            [
             0,
             "#8e0152"
            ],
            [
             0.1,
             "#c51b7d"
            ],
            [
             0.2,
             "#de77ae"
            ],
            [
             0.3,
             "#f1b6da"
            ],
            [
             0.4,
             "#fde0ef"
            ],
            [
             0.5,
             "#f7f7f7"
            ],
            [
             0.6,
             "#e6f5d0"
            ],
            [
             0.7,
             "#b8e186"
            ],
            [
             0.8,
             "#7fbc41"
            ],
            [
             0.9,
             "#4d9221"
            ],
            [
             1,
             "#276419"
            ]
           ],
           "sequential": [
            [
             0,
             "#0d0887"
            ],
            [
             0.1111111111111111,
             "#46039f"
            ],
            [
             0.2222222222222222,
             "#7201a8"
            ],
            [
             0.3333333333333333,
             "#9c179e"
            ],
            [
             0.4444444444444444,
             "#bd3786"
            ],
            [
             0.5555555555555556,
             "#d8576b"
            ],
            [
             0.6666666666666666,
             "#ed7953"
            ],
            [
             0.7777777777777778,
             "#fb9f3a"
            ],
            [
             0.8888888888888888,
             "#fdca26"
            ],
            [
             1,
             "#f0f921"
            ]
           ],
           "sequentialminus": [
            [
             0,
             "#0d0887"
            ],
            [
             0.1111111111111111,
             "#46039f"
            ],
            [
             0.2222222222222222,
             "#7201a8"
            ],
            [
             0.3333333333333333,
             "#9c179e"
            ],
            [
             0.4444444444444444,
             "#bd3786"
            ],
            [
             0.5555555555555556,
             "#d8576b"
            ],
            [
             0.6666666666666666,
             "#ed7953"
            ],
            [
             0.7777777777777778,
             "#fb9f3a"
            ],
            [
             0.8888888888888888,
             "#fdca26"
            ],
            [
             1,
             "#f0f921"
            ]
           ]
          },
          "colorway": [
           "#636efa",
           "#EF553B",
           "#00cc96",
           "#ab63fa",
           "#FFA15A",
           "#19d3f3",
           "#FF6692",
           "#B6E880",
           "#FF97FF",
           "#FECB52"
          ],
          "font": {
           "color": "#2a3f5f"
          },
          "geo": {
           "bgcolor": "white",
           "lakecolor": "white",
           "landcolor": "#E5ECF6",
           "showlakes": true,
           "showland": true,
           "subunitcolor": "white"
          },
          "hoverlabel": {
           "align": "left"
          },
          "hovermode": "closest",
          "mapbox": {
           "style": "light"
          },
          "paper_bgcolor": "white",
          "plot_bgcolor": "#E5ECF6",
          "polar": {
           "angularaxis": {
            "gridcolor": "white",
            "linecolor": "white",
            "ticks": ""
           },
           "bgcolor": "#E5ECF6",
           "radialaxis": {
            "gridcolor": "white",
            "linecolor": "white",
            "ticks": ""
           }
          },
          "scene": {
           "xaxis": {
            "backgroundcolor": "#E5ECF6",
            "gridcolor": "white",
            "gridwidth": 2,
            "linecolor": "white",
            "showbackground": true,
            "ticks": "",
            "zerolinecolor": "white"
           },
           "yaxis": {
            "backgroundcolor": "#E5ECF6",
            "gridcolor": "white",
            "gridwidth": 2,
            "linecolor": "white",
            "showbackground": true,
            "ticks": "",
            "zerolinecolor": "white"
           },
           "zaxis": {
            "backgroundcolor": "#E5ECF6",
            "gridcolor": "white",
            "gridwidth": 2,
            "linecolor": "white",
            "showbackground": true,
            "ticks": "",
            "zerolinecolor": "white"
           }
          },
          "shapedefaults": {
           "line": {
            "color": "#2a3f5f"
           }
          },
          "ternary": {
           "aaxis": {
            "gridcolor": "white",
            "linecolor": "white",
            "ticks": ""
           },
           "baxis": {
            "gridcolor": "white",
            "linecolor": "white",
            "ticks": ""
           },
           "bgcolor": "#E5ECF6",
           "caxis": {
            "gridcolor": "white",
            "linecolor": "white",
            "ticks": ""
           }
          },
          "title": {
           "x": 0.05
          },
          "xaxis": {
           "automargin": true,
           "gridcolor": "white",
           "linecolor": "white",
           "ticks": "",
           "title": {
            "standoff": 15
           },
           "zerolinecolor": "white",
           "zerolinewidth": 2
          },
          "yaxis": {
           "automargin": true,
           "gridcolor": "white",
           "linecolor": "white",
           "ticks": "",
           "title": {
            "standoff": 15
           },
           "zerolinecolor": "white",
           "zerolinewidth": 2
          }
         }
        },
        "title": {
         "text": "2D Chroma Vector Store Visualization"
        },
        "width": 800
       }
      },
      "image/png": "[encoded data removed]",
      "text/html": [
       "<div>                            <div id=\"60364889-493f-4c72-bd12-34636fb62b36\" class=\"plotly-graph-div\" style=\"height:600px; width:800px;\"></div>            <script type=\"text/javascript\">                require([\"plotly\"], function(Plotly) {                    window.PLOTLYENV=window.PLOTLYENV || {};                                    if (document.getElementById(\"60364889-493f-4c72-bd12-34636fb62b36\")) {                    Plotly.newPlot(                        \"60364889-493f-4c72-bd12-34636fb62b36\",                        [{\"hoverinfo\":\"text\",\"marker\":{\"color\":[\"#d01f72\",\"#75195e\",\"#3678a7\",\"#5b3f83\",\"#74a788\",\"#571122\",\"#4099c1\",\"#659222\",\"#188ca3\",\"#6d4052\",\"#35303c\",\"#a9e927\",\"#29fa15\",\"#71c500\",\"#9b9d6e\",\"#cf7e83\",\"#badd6d\",\"#85fa26\",\"#22463b\",\"#ce865d\",\"#f59c06\",\"#011995\",\"#793548\",\"#ad8b14\",\"#d937bd\",\"#2b9f18\",\"#046e5c\",\"#75b5e3\",\"#c959de\",\"#72e048\",\"#8e8cab\",\"#20f2c3\",\"#64f999\",\"#e69670\",\"#6a0fce\",\"#d65c3a\",\"#7bee34\",\"#4f86b8\",\"#b43417\",\"#4dfb77\",\"#2ae342\",\"#c3e1f2\",\"#12897b\",\"#2b3af3\",\"#7ea8e9\",\"#6ad041\",\"#0bdacc\",\"#99fe53\",\"#4aaf9f\",\"#d156c8\",\"#505bd9\",\"#dc152c\",\"#b52bf6\",\"#9baca0\",\"#a03134\",\"#d43c00\",\"#5af098\",\"#2c168d\",\"#c6016b\",\"#f090af\",\"#482281\",\"#39821f\",\"#e0a8df\",\"#480c89\",\"#08808d\",\"#ac5faf\",\"#0faf59\",\"#79c82a\",\"#e6e164\",\"#0d2037\",\"#8afd40\",\"#2e1afc\",\"#3ec815\",\"#fbfef2\",\"#a63fa4\",\"#b27d2e\",\"#ca3592\",\"#b9fd23\",\"#ac9648\",\"#804ce2\",\"#9b5e28\",\"#a64739\",\"#c457d7\",\"#de30e4\",\"#1f6ab0\",\"#6ff3c5\",\"#6df6ca\",\"#ed694d\",\"#2fef1a\",\"#335dcf\",\"#845aa9\",\"#574e28\",\"#dc95ec\",\"#b2140a\",\"#15ae86\",\"#70d1d9\",\"#6f745a\",\"#b3dba5\",\"#108c41\",\"#268bba\",\"#913568\",\"#1a6fdf\",\"#422abb\",\"#cb725f\",\"#fe62a5\",\"#dfc6c7\",\"#b25d7b\",\"#bd53b1\",\"#796278\",\"#048452\",\"#c6eff5\",\"#d24e5d\",\"#fe8e92\",\"#22398f\",\"#3e5237\",\"#8069bc\",\"#7740be\",\"#cc8ec0\",\"#b280bb\",\"#91f4db\",\"#ac55ba\",\"#c97596\",\"#116019\",\"#43c2e8\",\"#2a2d25\",\"#fc2b74\",\"#ae7afe\",\"#92b4fa\",\"#dd8cd7\",\"#4862ce\",\"#af0f59\",\"#ad6bd0\",\"#3f0a72\",\"#e01073\",\"#144ada\",\"#5cb9ca\",\"#51d0da\",\"#d6d07a\",\"#b61e76\",\"#474ff9\",\"#68bece\",\"#d01b19\",\"#ee26df\",\"#2ebca4\",\"#539908\",\"#ec0a37\",\"#1a5613\",\"#da28db\",\"#246fa5\",\"#bbfe83\",\"#d54222\",\"#580c96\",\"#02cada\",\"#996ff1\",\"#e2a239\",\"#ae5204\",\"#4ce72d\",\"#2cde7f\",\"#b64eac\",\"#591ab9\",\"#a958c9\",\"#696eaa\",\"#4c4355\",\"#6a6c06\",\"#df5d2e\",\"#9780cf\",\"#682d42\",\"#efed10\",\"#1b312a\",\"#dbde1c\",\"#e1b5db\",\"#a95826\",\"#4e797a\",\"#10384a\",\"#9a5ba2\",\"#d34482\",\"#8a29da\",\"#fb9dce\",\"#ff2d6a\",\"#50f10d\",\"#f8d349\",\"#7b4427\",\"#11a70e\",\"#987252\",\"#c932c1\",\"#2d7f7d\",\"#c1e3c5\",\"#0c777d\",\"#0f8781\",\"#dd889c\",\"#799a24\",\"#4212f1\",\"#e6f378\",\"#805527\",\"#091a90\",\"#a9541c\",\"#fcdcad\",\"#01f59b\",\"#94a85d\",\"#426575\",\"#7f03bd\",\"#2dcfac\",\"#52b6df\",\"#73e76a\",\"#d70d97\",\"#601568\",\"#d4b1ce\",\"#7341ee\",\"#bb0ee6\",\"#f645e0\",\"#1c2c7e\",\"#7dd58b\",\"#4b9a93\",\"#9df332\",\"#612b32\",\"#b1c27d\",\"#3626a5\"],\"opacity\":0.8,\"size\":5},\"mode\":\"markers\",\"text\":[\"Video: 59506507\\u003cbr\\u003eText: Well, I realized that was a whole lot of theory, but I hope it gave you a good intuition that will\\nb...\",\"Video: 59671315\\u003cbr\\u003eText: Okay, so here we are, back in Jupyter Lab, ready for the next use of a frontier model, and see this\\n...\",\"Video: 60616895\\u003cbr\\u003eText: It feels like 100 videos ago that I told you that we were going to have instant gratification with o...\",\"Video: 60619275\\u003cbr\\u003eText: And we will conclude our expedition into the world of frontier models through their chat interface b...\",\"Video: 59472693\\u003cbr\\u003eText: Friends.\\nI am absolutely exhausted.\\nI am exhausted and a little tiny bit traumatized.\\nAnd you are so...\",\"Video: 59670121\\u003cbr\\u003eText: So it's business time right now.\\nWe are going to build a Rag pipeline to estimate the price of produ...\",\"Video: 59295619\\u003cbr\\u003eText: Welcome back to the the moment when we bring it all together into a beautiful user interface.\\nBut fi...\",\"Video: 60617163\\u003cbr\\u003eText: And already that wraps up day two.\\nNow that you have built that solution.\\nAnd congratulations on tha...\",\"Video: 60616423\\u003cbr\\u003eText: So I hope you've just enjoyed yourself experimenting with different LMS locally on your box using th...\",\"Video: 59170227\\u003cbr\\u003eText: Welcome back to Google Colab.\\nHere we are ready to explore the wonderful world of Tokenizers.\\nSo, uh...\",\"Video: 59169985\\u003cbr\\u003eText: So I hope you enjoyed that whirlwind tour of Google Colab.\\nHere's just a little screenshot example o...\",\"Video: 60616927\\u003cbr\\u003eText: It's time for our first LM experiment at this point.\\nSo some of this you may know well, you may know...\",\"Video: 59673721\\u003cbr\\u003eText: And here we are in JupyterLab for the last time, and we are looking here at day five, the last day\\no...\",\"Video: 59508055\\u003cbr\\u003eText: I'm so very happy that you've reached this epic moment in the course and that you're hanging in ther...\",\"Video: 59670259\\u003cbr\\u003eText: It's remarkable.\\nBut you are now at the 95% point.\\nThere's 5% remaining of this course.\\nUh, maybe it...\",\"Video: 60616623\\u003cbr\\u003eText: So we're now going to start week one of the course when we are going to be looking at exploring fron...\",\"Video: 59472383\\u003cbr\\u003eText: And welcome back to the week six folder.\\nWe're now at day two, which is the second and final stage o...\",\"Video: 59670171\\u003cbr\\u003eText: So as the very final step on this part four of day two of week eight, we are now going to build an\\ne...\",\"Video: 59297721\\u003cbr\\u003eText: And so now the time has come to talk about the most crucial aspect of Rag, which is the idea of vect...\",\"Video: 59297599\\u003cbr\\u003eText: Well, that was a sneaky detour I took you on in the last one.\\nI hope you enjoyed it though, and I ho...\",\"Video: 59507635\\u003cbr\\u003eText: Look, I hope you're excited.\\nYou really should be.\\nYou've been through 80% of the course and it's al...\",\"Video: 59669375\\u003cbr\\u003eText: Here we are for the day.\\n2.1 notebook.\\nAnd don't let it be said that I don't ever do anything for yo...\",\"Video: 59297733\\u003cbr\\u003eText: Welcome back to JupyterLab and welcome to your first experiment with the world of Long Chain.\\nLet me...\",\"Video: 59670369\\u003cbr\\u003eText: It is terrific that you're hanging on in there and making such great progress with this course.\\nAs w...\",\"Video: 59166281\\u003cbr\\u003eText: And with that, amazingly, you completed day one of week two already and that gets you to the 15% poi...\",\"Video: 59671567\\u003cbr\\u003eText: Well, the first thing you're going to notice is that I don't have a notebook open for you.\\nAnd that'...\",\"Video: 59297593\\u003cbr\\u003eText: And welcome to continuing our journey with Hrag.\\nAnd today it's time to unveil Liang Chen.\\nSo first,...\",\"Video: 59166461\\u003cbr\\u003eText: And welcome back to the lab.\\nHere we are in Jupyter Lab and we are going to go into week two.\\nAnd we...\",\"Video: 59167007\\u003cbr\\u003eText: Well, how fabulous is that?\\nI hope that you are as wowed as I am by our new airline, I assistant and...\",\"Video: 59508121\\u003cbr\\u003eText: The moment has arrived.\\nHere we go.\\nWe're in fine tuning.\\nWe do fine tuning.\\nTrain.\\nThere is also a ...\",\"Video: 59295579\\u003cbr\\u003eText: All right.\\nAre you excited to see how this goes?\\nLet's give it a try.\\nSo in this next section, I cre...\",\"Video: 60620375\\u003cbr\\u003eText: And with that, we've reached an important milestone.\\nThe first week of our eight week journey is com...\",\"Video: 59472491\\u003cbr\\u003eText: Welcome back.\\nIf you are following along with me in JupyterLab, as I hope you are, then you will nee...\",\"Video: 59472425\\u003cbr\\u003eText: Welcome to week six, day three.\\nToday is going to be a day that you will either love or you will hat...\",\"Video: 59508057\\u003cbr\\u003eText: Actually slight change in plan.\\nI'm going to wrap up the day.\\nDay three at this point, and say that ...\",\"Video: 60619577\\u003cbr\\u003eText: And for the final piece of background information, I wanted to take another moment to talk about API...\",\"Video: 59170291\\u003cbr\\u003eText: Welcome back to Colab and welcome back to our business project.\\nSo again our assignment, we are due ...\",\"Video: 60619651\\u003cbr\\u003eText: I mentioned before an AI company called vellum.\\nWhen we were talking about the different questions, ...\",\"Video: 59473191\\u003cbr\\u003eText: And you thought we'd never get here.\\nHere we are in Jupyter Lab, running our fine tuning for a front...\",\"Video: 59170297\\u003cbr\\u003eText: And here we are in Google Colab, ready for fun with models.\\nSo first we do the usual Pip installs an...\",\"Video: 59167015\\u003cbr\\u003eText: Welcome back to Jupyter Lab and welcome to Day Five's Lab.\\nAnd this is going to be lots of creativit...\",\"Video: 59170043\\u003cbr\\u003eText: Let me enthusiastically welcome you all back to week three of our LLM engineering journey.\\nIf you en...\",\"Video: 59473147\\u003cbr\\u003eText: Well, I'm very relieved.\\nI've got that behind me.\\nNo more human testing for me.\\nWe'll have one final...\",\"Video: 59166453\\u003cbr\\u003eText: Welcome back and welcome to our continuing JupyterLab experience.\\nUh, I'm hopefully going to keep yo...\",\"Video: 59166915\\u003cbr\\u003eText: Welcome back to the wonderful world of JupyterLab.\\nAnd here we are in week two.\\nDay three.\\nUh, bring...\",\"Video: 59667365\\u003cbr\\u003eText: Here we are back in Colab, looking at the week seven, day five of the Colab notebooks and I'm on a\\nT...\",\"Video: 60616845\\u003cbr\\u003eText: We're on the home stretch.\\nThis is the final step in the environment setup, and it's an easy one.\\nIt...\",\"Video: 59295459\\u003cbr\\u003eText: And welcome back to More Leaderboard Fest as we go through some more leaderboards.\\nBut this time we'...\",\"Video: 59471979\\u003cbr\\u003eText: So we now turn to the parts of the problem, which is perhaps, let's say, not as glamorous as some\\nof...\",\"Video: 59503705\\u003cbr\\u003eText: And so now we talk about quantization the q and q Laura.\\nQ stands for quantized quantized.\\nLaura.\\nAn...\",\"Video: 59472505\\u003cbr\\u003eText: So the good news is that this is the very final video about data set curation.\\nYou were probably fed...\",\"Video: 59669217\\u003cbr\\u003eText: And welcome to the next part of visualizing the data.\\nAnd just very quickly to show it to you in 3D....\",\"Video: 59671221\\u003cbr\\u003eText: I gotta tell you, I don't like to toot my horn a whole lot, but I do think that I've done a great\\njo...\",\"Video: 59503703\\u003cbr\\u003eText: Well.\\nHello there everybody.\\nI am so grateful that you've made it through to the start of week seven...\",\"Video: 59473201\\u003cbr\\u003eText: Well, before we do a postmortem on what happened, let's just quickly look at the standing the rankin...\",\"Video: 60622463\\u003cbr\\u003eText: In this video, we're going to set up a full data science environment for Mac users.\\nIn the next vide...\",\"Video: 60619299\\u003cbr\\u003eText: Well, I hope you found that both educational and enjoyable.\\nAs we went through and learned so much a...\",\"Video: 59295607\\u003cbr\\u003eText: So to revisit then the solution that we built in the previous day and talk about the metrics.\\nAs I s...\",\"Video: 59297575\\u003cbr\\u003eText: Well, welcome to the final part on rag.\\nAnd this is the session where you go from being a rag expert...\",\"Video: 59507687\\u003cbr\\u003eText: It's time for action, everybody.\\nWe've set up our colab.\\nHere we are, week seven, day three.\\nWe've g...\",\"Video: 59671441\\u003cbr\\u003eText: And welcome once more to our favorite place to be Jupyter Lab, the Paradise for a data scientist exp...\",\"Video: 59673431\\u003cbr\\u003eText: And here we have it.\\nThe user interface is completed.\\nThe extra notification came through on my phon...\",\"Video: 59473137\\u003cbr\\u003eText: Let's get straight to it.\\nSo the place where you can see everything that's going on and get knee dee...\",\"Video: 59166421\\u003cbr\\u003eText: Welcome back to the radio day in the lab.\\nMore to do.\\nLet's keep going.\\nWhere we left off is we had ...\",\"Video: 59295599\\u003cbr\\u003eText: Welcome to the Jupyter Lab for day four.\\nIt's going to look very familiar because it's actually I've...\",\"Video: 59669631\\u003cbr\\u003eText: Here we are in our favorite place to be in JupyterLab, ready for some coding and a lot of coding tha...\",\"Video: 59673663\\u003cbr\\u003eText: But wait, there's more.\\nWe need to add some more to the user interface just to make it look more coo...\",\"Video: 59506929\\u003cbr\\u003eText: And we return to the hugging face open LLM leaderboard.\\nThe first place you go when selecting your b...\",\"Video: 59504785\\u003cbr\\u003eText: So at this point we're going to talk about hyperparameters.\\nAnd we're going to introduce three of th...\",\"Video: 59505337\\u003cbr\\u003eText: So we're now going to look at four bit quantization, the rather remarkable effect of reducing the pr...\",\"Video: 59271655\\u003cbr\\u003eText: So here we are on Hugging Face's main landing page at Hugging Face Core.\\nA URL you know.\\nWell, since...\",\"Video: 59472883\\u003cbr\\u003eText: Okay, time to reveal the results.\\nIt has run to completion.\\nAnd here it is.\\nSo a moment to pause.\\nIt...\",\"Video: 59673639\\u003cbr\\u003eText: And welcome now to the code for our user interface, which we will find in this Python module.\\nPrice ...\",\"Video: 59472463\\u003cbr\\u003eText: So last time we looked at a humble linear regression model with feature engineering, and now we say\\n...\",\"Video: 59297595\\u003cbr\\u003eText: So by the time you're watching this, hopefully you have played yourself with vectors.\\nYou've created...\",\"Video: 60619149\\u003cbr\\u003eText: So we're going to start our exploration into the world of frontier models by playing with the famous...\",\"Video: 59297735\\u003cbr\\u003eText: And at last the time has come to see rag in action.\\nAfter all of this talk, and here we are.\\nWe're i...\",\"Video: 60616407\\u003cbr\\u003eText: And now over to my Mac people.\\nAnd I have news for you.\\nIt's exactly the same thing.\\nYou go to a fav...\",\"Video: 59170235\\u003cbr\\u003eText: So here we are in Google Colab for our first collaborative session on the cloud using a GPU box.\\nOn ...\",\"Video: 59472067\\u003cbr\\u003eText: So we've covered steps 1 to 4 of the five step strategy.\\nAnd that brings us to step five, which is p...\",\"Video: 59472011\\u003cbr\\u003eText: Welcome everybody.\\nSo in the past I've said quite a few times, I am excited to start this this week ...\",\"Video: 59295553\\u003cbr\\u003eText: Welcome back.\\nIn the last part, we gave our GPT four and clawed the challenge of converting a simple...\",\"Video: 59297773\\u003cbr\\u003eText: Well, I hope you're eager with anticipation for this session in JupyterLab as we finally get to see\\n...\",\"Video: 59295583\\u003cbr\\u003eText: And here we are back in JupyterLab.\\nIt's been a minute.\\nWe've been working in Colab for last week, a...\",\"Video: 59507329\\u003cbr\\u003eText: Okay.\\nIt's moment of truth time.\\nI have just taken our class tester.\\nYou remember this class?\\nUh, it...\",\"Video: 59295429\\u003cbr\\u003eText: Continuing our investigation of benchmarks, and this will become more real when we actually see some...\",\"Video: 60595637\\u003cbr\\u003eText: Here we are back in the Colab, which has been running overnight for me and probably for you too, I\\nh...\",\"Video: 59668027\\u003cbr\\u003eText: And so here we are at the home page for modal.\\nAt modal.com spelt model not not model which is confu...\",\"Video: 59295527\\u003cbr\\u003eText: I'm so happy to welcome you to week four, day four on our journey to LLM Engineering and Mastery.\\nHe...\",\"Video: 59295377\\u003cbr\\u003eText: Just before we go on to some of the more advanced metrics, I want to mention for a second something\\n...\",\"Video: 59666211\\u003cbr\\u003eText: So before we try our new model and one more recap on the models so far and keep notes of this so we\\n...\",\"Video: 59170107\\u003cbr\\u003eText: And once again, it's that moment when you take a pause and congratulate yourself on another day of\\ns...\",\"Video: 60616833\\u003cbr\\u003eText: So I realized that day one of week one has been a pretty long day, and I assure you that the other,\\n...\",\"Video: 59472413\\u003cbr\\u003eText: Wonderful.\\nWhere we left off is we had just created the Get Features function, which builds our feat...\",\"Video: 59297561\\u003cbr\\u003eText: And would you believe at this point you're 55% of the way along the journey?\\nUh, it's been a while s...\",\"Video: 59669211\\u003cbr\\u003eText: Well, we took on a lot today and we seem to have been successful.\\nThese red icons that you see on th...\",\"Video: 59166981\\u003cbr\\u003eText: Welcome to week two, day five.\\nThe last day of week two where a lot is coming together.\\nI am so grat...\",\"Video: 60619227\\u003cbr\\u003eText: And now let's move to Claude from anthropic, my favorite model and typically the favorite model of\\nm...\",\"Video: 60620395\\u003cbr\\u003eText: Welcome back to Jupyter Lab, where I want to show you the assignment, the homework exercise for you\\n...\",\"Video: 59665127\\u003cbr\\u003eText: Well hi there everybody.\\nI'm not going to give you my usual song and dance about how excited you are...\",\"Video: 59668923\\u003cbr\\u003eText: Well, welcome back to Jupyter Lab for what will be an epic finale to our time in this platform.\\nAnd ...\",\"Video: 59504887\\u003cbr\\u003eText: Well, here we are again in Google Colab.\\nIt's been a minute since we were here, and welcome back to ...\",\"Video: 59170165\\u003cbr\\u003eText: Welcome, everybody to the last day of week three.\\nWeek three.\\nDay five.\\nWe're here already wrapping ...\",\"Video: 60617251\\u003cbr\\u003eText: Congratulations are definitely in order.\\nYesterday was a mammoth first day on this course and you go...\",\"Video: 59166951\\u003cbr\\u003eText: All right, back to the lab.\\nBack to our project.\\nTime to work with tools.\\nI am in the week two folde...\",\"Video: 60619619\\u003cbr\\u003eText: Well, day four was an information dense day.\\nI do hope that you learned some something useful here, ...\",\"Video: 60616663\\u003cbr\\u003eText: Well.\\nHi there, this is time for PC people to get set up.\\nSo all you Mac people out there, you don't...\",\"Video: 59508175\\u003cbr\\u003eText: So I'm taking a moment now to explain that the training costs of optimizing a model for this course\\n...\",\"Video: 59670087\\u003cbr\\u003eText: And welcome to part four of day two of week eight.\\nUh, there's a lot happening this week, and I have...\",\"Video: 59506713\\u003cbr\\u003eText: Hi everyone.\\nSo the reason I'm so fired up about week seven is that this is the time when we actuall...\",\"Video: 60620169\\u003cbr\\u003eText: Hopefully you found this super satisfying to be able to have this nice business result and have it c...\",\"Video: 59295435\\u003cbr\\u003eText: Well, just before we wrap up, let me introduce this week's challenge and talk about what we're going...\",\"Video: 59297609\\u003cbr\\u003eText: Last week, we worked with models that were able to speed up code by a factor of 60,000 times, which\\n...\",\"Video: 59507489\\u003cbr\\u003eText: Continuing our adventure through hyperparameters for training.\\nThe next one is pretty crucial and it...\",\"Video: 59295549\\u003cbr\\u003eText: And welcome back to our challenge again.\\nAnd this time we are working with our beautiful prototype.\\n...\",\"Video: 59665129\\u003cbr\\u003eText: And now let me make this real for you by showing you some, some diagrams, particularly now looking\\na...\",\"Video: 59169991\\u003cbr\\u003eText: Okay, so that was your introduction to Hugging Face.\\nAnd now I'm going to turn to a different resour...\",\"Video: 59472027\\u003cbr\\u003eText: And now the time has come to curate our data set.\\nAnd the way we're going to do this is we're going ...\",\"Video: 59472307\\u003cbr\\u003eText: Welcome to week six.\\nDay two a day.\\nWhen we get back into the data, we look back in anger at our dat...\",\"Video: 59508289\\u003cbr\\u003eText: So here we are now, back in the Colab, in the same one that we kicked off in the previous day.\\nIt's ...\",\"Video: 59472333\\u003cbr\\u003eText: Thank you for putting up with me during my foray into traditional machine learning.\\nI think it was u...\",\"Video: 59295431\\u003cbr\\u003eText: Now I want to take a quick moment to give you a flyby of five different ways that llms are used comm...\",\"Video: 59673449\\u003cbr\\u003eText: Well, I have to tell you that I'm a little bit sad.\\nThis is the beginning of the beginning of the en...\",\"Video: 59669389\\u003cbr\\u003eText: Well.\\nHi there.\\nSo you've made it to day two of week eight, and I am super grateful that you've been...\",\"Video: 59170057\\u003cbr\\u003eText: And so at the beginning of this week, we started by talking about hugging face pipelines.\\nAnd you us...\",\"Video: 59166949\\u003cbr\\u003eText: Welcome back to making chatbots.\\nLet's keep going.\\nSo for the next part we're going to beef up the s...\",\"Video: 59473019\\u003cbr\\u003eText: Welcome back to an action packed time of of training.\\nSo now, after waiting about five minutes when ...\",\"Video: 59297585\\u003cbr\\u003eText: Before we move on, let me show you one more time this fabulous slide that describes the simple three...\",\"Video: 59170255\\u003cbr\\u003eText: And welcome back to us continuing our journey through the model class in Hugging Face Transformers l...\",\"Video: 60614589\\u003cbr\\u003eText: So we're now going to run a large language model directly on your box using a platform called llama,...\",\"Video: 59297601\\u003cbr\\u003eText: I'm not going to lie, at this point you have every reason to be impatient with me.\\nWe've been yammer...\",\"Video: 60616629\\u003cbr\\u003eText: And welcome back to team PC and Team Mac as we come back together again for a quick video.\\nIn this o...\",\"Video: 59297749\\u003cbr\\u003eText: It's always welcome back to JupyterLab, my favorite place to be.\\nAnd now we are, of course in the we...\",\"Video: 59170135\\u003cbr\\u003eText: Welcome.\\nIt's week three.\\nIt's day four.\\nWe are back on the adventure in open source land, back inve...\",\"Video: 59472017\\u003cbr\\u003eText: And this is the first time that we'll be coding against our big project of the course.\\nWelcome to Ju...\",\"Video: 59507017\\u003cbr\\u003eText: Welcome to Colab.\\nWelcome to the week seven day two Colab.\\nAnd just before we try our base model, we...\",\"Video: 60619883\\u003cbr\\u003eText: And now we've arrived at an exciting moment in our first week.\\nThe conclusion of the first week is w...\",\"Video: 59508297\\u003cbr\\u003eText: What more is there to say, really?\\nTomorrow is the day for results.\\nA day that very excited indeed a...\",\"Video: 60619247\\u003cbr\\u003eText: We're going to spend a little bit more time with GPT just to try out a few more interesting things.\\n...\",\"Video: 59504769\\u003cbr\\u003eText: Without further ado, we're going to get stuck into it.\\nTalking about Laura.\\nLow rank adaptation.\\nAnd...\",\"Video: 59170233\\u003cbr\\u003eText: Welcome back to our continued exploits with Tokenizers.\\nWhat we're now going to look at is what's ca...\",\"Video: 59671231\\u003cbr\\u003eText: And here we are back in the Jupyter Lab for the fast approaching conclusion with a really great proj...\",\"Video: 60620397\\u003cbr\\u003eText: Well, that's a fantastic result to have now arrived towards the end of week one and having completed...\",\"Video: 59170093\\u003cbr\\u003eText: I'm delighted to see you again.\\nAs we get started with day three of week three of our adventure and ...\",\"Video: 59473089\\u003cbr\\u003eText: Welcome back.\\nSo hopefully you are still impressed by the GPT four mini results.\\nThe frontier model ...\",\"Video: 60395261\\u003cbr\\u003eText: Let's keep going with our project to equip our LM with a tool.\\nWe just created this piece of code to...\",\"Video: 60617259\\u003cbr\\u003eText: I'm excited to introduce you to your first exercise, and I'm looking forward to seeing what you make...\",\"Video: 59507313\\u003cbr\\u003eText: And it's this time again, when we look at the podium of how our models are performing across the boa...\",\"Video: 60619721\\u003cbr\\u003eText: Now it's time to talk for a minute about tokens.\\nTokens are the individual units which get passed in...\",\"Video: 59295451\\u003cbr\\u003eText: I know that everybody.\\nIt seems like just the other day that we were embarking on our quest together...\",\"Video: 59166919\\u003cbr\\u003eText: And with that, it concludes our session on tools.\\nAnd at this point, you are probably an expert on t...\",\"Video: 59295441\\u003cbr\\u003eText: Okay, so welcome to our leaderboard fast as we go through a ton of essential leaderboards for your\\nc...\",\"Video: 59295541\\u003cbr\\u003eText: And welcome back.\\nYou've just seen GPT four zero spectacularly failed to work on our hard Python con...\",\"Video: 59473101\\u003cbr\\u003eText: Welcome back.\\nSo about ten minutes later, maybe 15 minutes later, the run has completed.\\nAnd how do ...\",\"Video: 59507423\\u003cbr\\u003eText: So you may remember eons ago when we were building our data set.\\nAt the end of that, we uploaded our...\",\"Video: 59295545\\u003cbr\\u003eText: I really hope you've enjoyed this week.\\nWe've got tons done.\\nWe've experimented with all sorts of ne...\",\"Video: 59472503\\u003cbr\\u003eText: Welcome back to Jupyter Lab.\\nLast time, we looked at some silly models for predicting the price of p...\",\"Video: 60614591\\u003cbr\\u003eText: The mantra of this course is that the best way to learn is by doing, and we will be doing stuff toge...\",\"Video: 59473021\\u003cbr\\u003eText: Welcome to our favorite place to be to JupyterLab.\\nHere we are again now in day three.\\nIn week six.\\n...\",\"Video: 60617255\\u003cbr\\u003eText: I'm now going to talk for a bit about models.\\nA term you often hear is the term frontier models, whi...\",\"Video: 59667829\\u003cbr\\u003eText: Well.\\nHello there.\\nLook, I know what you're thinking.\\nYou're thinking I peaked too early.\\nLast week ...\",\"Video: 59505329\\u003cbr\\u003eText: Welcome back.\\nYou may, like me, have just gone off and got a coffee while things loaded back up agai...\",\"Video: 59669049\\u003cbr\\u003eText: So what you just saw was an ephemeral app, as it's called, which means just a temporary app that you...\",\"Video: 60619439\\u003cbr\\u003eText: This now brings us to an extremely important property of LMS called the context window that I want t...\",\"Video: 59668181\\u003cbr\\u003eText: And so it gives me great pleasure to introduce to you the project that I've lined up for you this we...\",\"Video: 59472441\\u003cbr\\u003eText: Welcome back.\\nSo we've been doing the thoroughly distasteful, unsavory work of feature engineering.\\n...\",\"Video: 59507785\\u003cbr\\u003eText: Well, I'm sure you're fed up of me saying that the moment of truth has arrived, but it really has.\\nT...\",\"Video: 59295587\\u003cbr\\u003eText: When I left you, we had just created this simple user interface for converting from Python to C plus...\",\"Video: 59166465\\u003cbr\\u003eText: Welcome back to the JupyterLab on Gradio day, so you'll remember where we left off.\\nWe'd written two...\",\"Video: 59473071\\u003cbr\\u003eText: Hey, gang.\\nLook, I know what you're thinking.\\nThis week was supposed to be training week.\\nI set it a...\",\"Video: 59295423\\u003cbr\\u003eText: Welcome to day two of week four, when we get more into leaderboards so that by the end of this, you'...\",\"Video: 59297723\\u003cbr\\u003eText: So I know what you're thinking.\\nYou're thinking, what's going on here?\\nWe're on day five.\\nWe're on d...\",\"Video: 59166947\\u003cbr\\u003eText: Well, thank you for coming along for week two, day four.\\nWe have lots of good stuff in store today.\\n...\",\"Video: 59666831\\u003cbr\\u003eText: Take one more moment to look at this very nice diagram that lays it all out, and we will move on.\\nNo...\",\"Video: 59295493\\u003cbr\\u003eText: And welcome to week four, day three.\\nAs we are about to embark upon another business project which w...\",\"Video: 60616855\\u003cbr\\u003eText: Now I know what you're thinking.\\nWe've been building environments for so long.\\nAre we not done yet?\\n...\",\"Video: 59506611\\u003cbr\\u003eText: So in a future day, I'm going to be training, fine tuning a model and creating a fine tuned model.\\nA...\",\"Video: 60616493\\u003cbr\\u003eText: I'll just take a quick moment to introduce myself to convince you that I am actually qualified to be...\",\"Video: 59166317\\u003cbr\\u003eText: And welcome to week two, day two, as we continue our adventure into the realm of LMS.\\nUh, so today, ...\",\"Video: 59295439\\u003cbr\\u003eText: So I'm aware that there's a big risk that you are getting fed up of leaderboards, because we've done...\",\"Video: 59472421\\u003cbr\\u003eText: And welcome back to our final time in Jupyter Lab with traditional machine learning.\\nIt's almost ove...\",\"Video: 59472137\\u003cbr\\u003eText: Well, well, well, it's been a long day, but congratulations, you've made it.\\nWe've gone through and ...\",\"Video: 59297693\\u003cbr\\u003eText: So at the end of each week, it's customary for me to give you a challenge, an assignment to do on\\nyo...\",\"Video: 60620143\\u003cbr\\u003eText: So we're going to make a call to GPT four.\\nOh, that's going to ask it to look through a set of links...\",\"Video: 60619501\\u003cbr\\u003eText: I welcome to day four of our time together.\\nThis is a very important day.\\nToday we're going to be lo...\",\"Video: 59297743\\u003cbr\\u003eText: And welcome to day five.\\nFor reals.\\nWe're actually in the proper Jupyter notebook.\\nThis time we're i...\",\"Video: 59166847\\u003cbr\\u003eText: Well, they say that time flies when you're having fun, and it certainly feels like time is flying.\\nU...\",\"Video: 59170223\\u003cbr\\u003eText: Well.\\nFantastic.\\nIt's coming up to the end of the week, and that means it's coming up to a challenge...\",\"Video: 59170037\\u003cbr\\u003eText: So how does it feel to be 30% of the way down the journey to being a proficient LLM engineer?\\nTake a...\",\"Video: 59295609\\u003cbr\\u003eText: You must be feeling absolutely exhausted at this point.\\nAnd if you are, that is okay.\\nYou have done ...\",\"Video: 60619281\\u003cbr\\u003eText: Well, I'm delighted to welcome you to day three of our eight week journey together.\\nAnd today we're ...\",\"Video: 59472429\\u003cbr\\u003eText: And continuing on our strategy to solve commercial problems with LMS, we get to step four, which is\\n...\",\"Video: 59167009\\u003cbr\\u003eText: Welcome back.\\nIt's time to make our full agent framework.\\nI'm super excited about this.\\nIt's pulling...\",\"Video: 59166481\\u003cbr\\u003eText: And here, once more we find ourselves in our favorite place, the Jupyter Lab.\\nReady to go with weeks...\",\"Video: 59670933\\u003cbr\\u003eText: I realized my enthusiasm for this project is a bit insane, but I have to tell you that I am very sat...\",\"Video: 59670073\\u003cbr\\u003eText: Okay, it's time to complete the Rag workflow in our Jupyter Lab on day 2.3.\\nWe've got this function ...\",\"Video: 59673595\\u003cbr\\u003eText: That concludes a mammoth project.\\nThree weeks in the making.\\nIn the course of those three weeks, sta...\",\"Video: 59297603\\u003cbr\\u003eText: And I'm delighted to welcome you back to LM engineering on the day that we turn to vectors.\\nFinally,...\",\"Video: 60614541\\u003cbr\\u003eText: I am delighted to welcome you to the first day of our eight weeks together as you join me on this ad...\",\"Video: 59667357\\u003cbr\\u003eText: Let's now see our results side by side.\\nWe started our journey with a constant model that was at $1....\",\"Video: 59667841\\u003cbr\\u003eText: Now, look, I know that I went through that very fast, but maybe, uh, you're still, uh, blinking\\nat t...\",\"Video: 59472007\\u003cbr\\u003eText: So I hope you enjoyed our first bash at Scrubbing Data, and that you are now looking through the cod...\",\"Video: 59507435\\u003cbr\\u003eText: So I'm now going to talk about five important hyperparameters for the training process.\\nAnd some of ...\",\"Video: 59509185\\u003cbr\\u003eText: So this is where I left you looking at this satisfying chart on training loss and seeing the trainin...\",\"Video: 59473159\\u003cbr\\u003eText: Welcome to Jupyter Lab and welcome to our experiments at the frontier.\\nSo we are going to put our fr...\",\"Video: 60619447\\u003cbr\\u003eText: I want to take a moment to talk about something that's very fundamental to an LLM, which is the numb...\",\"Video: 59166353\\u003cbr\\u003eText: Well, congratulations on leveling up yet again.\\nYou've got some real hard skills that you've added t...\",\"Video: 60619123\\u003cbr\\u003eText: So what we're now going to do is we're going to look at some models in practice and start to compare...\",\"Video: 59295363\\u003cbr\\u003eText: Well, another congratulations moment.\\nYou have 40% on the way to being an LM engineer at a high leve...\",\"Video: 60619289\\u003cbr\\u003eText: And now we'll go a bit faster through the other models.\\nWe'll start with Google's Gemini.\\nI have the...\",\"Video: 59472873\\u003cbr\\u003eText: So it's quite an adventure that we had at the frontier of what's capable with Llms today, solving a\\n...\",\"Video: 60619429\\u003cbr\\u003eText: Let me talk about some other phenomena that have happened over the last few years.\\nOne of them has b...\",\"Video: 59295601\\u003cbr\\u003eText: So it's time to continue our journey into the world of open source and understand which models we sh...\",\"Video: 59170025\\u003cbr\\u003eText: And a massive welcome back one more time to LM engineering.\\nWe are in week three, day two and we are...\",\"Video: 59166443\\u003cbr\\u003eText: And welcome back everybody.\\nWelcome to week two day three.\\nIt's a continuation of our enjoyment of r...\",\"Video: 60620025\\u003cbr\\u003eText: And welcome back to Jupyter Lab, one of my very favorite places to be.\\nWhen Jupyter Lab sprung up on...\",\"Video: 59170055\\u003cbr\\u003eText: Welcome to the world of Google Colab.\\nYou may already be very familiar with Google Colab, even if so...\"],\"x\":[-0.859648,7.3309765,0.21870197,-13.03976,-3.0766428,11.100553,4.6001115,-9.268545,-5.360921,1.8335935,2.2128375,-1.7025363,2.7415411,1.6968822,-9.437864,-2.4456034,13.673174,9.69971,5.391895,0.9950481,-2.6140966,14.227348,2.5340881,-10.256354,-7.6409054,2.7219393,1.1424255,1.6502428,-6.957909,4.086808,8.104448,-7.2092853,13.410249,-2.9087114,2.019522,7.0692005,-0.84805,-9.599044,-0.36659604,2.8821077,-1.7564659,0.22077061,7.1004896,-0.5071637,-1.5469455,9.606234,-7.6583476,-8.758075,16.001204,-0.45763963,12.072926,14.450202,-7.893885,-4.888164,7.238137,-6.4890647,-10.677237,-6.450742,0.29829141,3.5972733,7.056694,3.3955274,4.1175003,2.2164605,3.3678567,10.912271,4.3282537,-1.8016068,-2.778665,0.33017898,3.1186757,8.368695,3.8920324,9.047157,4.2369857,-13.133919,0.30549568,10.36587,2.0417519,-4.207513,-2.7341063,9.276742,3.7855272,2.2184367,9.518204,-7.6228004,3.5007627,4.166524,-6.947239,-6.4718704,6.777542,-1.643389,-4.0581813,13.556551,3.738945,-9.4638,-7.085359,-12.116256,1.8722422,-1.235673,1.5310236,2.681954,-1.2896698,-3.3085613,-3.5033119,-7.8056912,-6.380733,12.077981,9.891831,-2.583847,0.049997784,-7.109494,-1.6533405,-0.35486424,8.023757,-1.5843254,4.68254,12.040059,-4.070594,3.5485406,8.321888,-10.936198,-5.665428,-3.9380574,-1.2327232,-2.4456801,5.2406054,-0.036940902,3.5880437,10.343754,0.10399394,-6.0591764,0.5472898,-0.18098946,12.552157,2.215009,-2.0987718,-4.3202305,10.194152,-1.0280695,0.6394854,-7.001653,-2.6180403,0.5332797,6.908162,-4.1370797,0.36955032,6.766898,-5.599071,-6.2765083,-6.5416136,-8.705647,8.097455,6.401871,10.086735,-6.55865,13.3281975,-11.958505,9.180207,-10.071172,-5.573983,1.7291324,3.2020307,-9.81586,4.254864,13.542623,3.1633458,6.4809103,1.6912766,-0.96716404,-9.644825,4.948192,-4.875502,-2.7658813,-7.0795684,6.3749175,-0.2840374,-13.407808,0.97872597,-8.729023,9.891307,-2.5329638,-11.002493,0.6183121,-10.363856,0.267183,-8.229537,-6.164332,-7.064035,-5.55934,-11.237544,-2.4159808,-7.657407,-0.47880024,-4.861272,11.012814,-5.3301964,4.517483,-13.10771,8.053061,2.3658233,-4.5009966,0.74033785,3.0659394,7.927173,-5.8426704,-7.692328,-11.8179,-10.170092,-13.525137,7.471072,-9.561237,-7.660354,0.98921955,-2.5871053,0.7735228,4.697858],\"y\":[-16.108109,-2.802871,5.55556,-3.1165593,-2.5197542,1.6573303,7.9436374,1.7033308,2.729909,-3.110688,0.19969198,7.2094626,11.474268,-9.306534,6.4831786,3.4693139,-3.6395743,-1.3802856,17.943478,20.674412,-14.37641,0.2662799,17.946259,5.1479177,3.269782,12.8965645,19.676033,10.8139715,4.6734076,-12.667667,9.158181,2.501612,-2.853026,-2.8742912,-9.390684,3.5931249,1.5709282,-10.765733,-5.9113226,-5.507533,10.479771,-0.30162513,-5.1619964,9.435609,8.602637,-4.3179398,14.847089,-5.8406625,-4.0188546,-16.03366,-2.9351225,0.8814765,9.312446,0.2861319,-8.754338,14.149203,-2.501995,-4.5788355,20.002163,-6.9779773,-1.2691092,13.288892,-9.499816,9.733308,7.6684027,0.11708519,12.023214,-8.592282,-14.5351715,-16.749748,-1.4396764,-10.056349,11.6244335,0.4102241,18.943052,-4.8392525,17.31309,12.829157,-0.31426865,-4.913969,-5.8585067,8.703345,17.946308,7.5203032,-9.040579,-8.977853,-10.744503,2.9780662,-2.9896638,-9.919191,-7.825369,-0.5688983,2.7128513,-8.081976,19.224987,5.6850524,7.2608743,-1.9696628,5.7763453,-11.9261,3.7726462,-6.2928514,0.6002692,3.240406,10.033546,1.7159785,14.183074,-4.955666,-1.2268807,-6.7443852,8.091246,-1.4330128,17.374035,-12.052618,8.407009,-12.653764,0.5208274,-2.3776338,-5.5375533,-11.549568,-6.591003,-7.744704,5.603869,1.1318715,-1.3157955,12.294856,-11.588596,18.72359,-4.533707,12.797578,18.353394,14.767065,16.229063,-1.1066937,-3.7252734,-3.5343199,5.829706,-1.1521066,6.080864,-14.84926,-3.3232324,10.510039,5.957106,-2.2022781,-5.182772,9.717215,4.3090715,-8.085696,-12.127335,-6.2474174,7.0910845,-6.4494314,7.989585,-10.92101,-4.208281,-3.0467856,-7.2040524,3.4879417,-2.9318397,-3.7214146,1.688086,-6.546599,2.838505,-12.067736,4.953533,-7.6888204,-8.374947,8.707888,9.738594,-5.715931,-7.3781533,19.546906,8.7370205,-11.739149,-1.4666423,3.6902168,-14.634209,7.613645,11.104671,-8.19435,-6.881912,-3.8555307,3.0141797,7.749215,-1.4897541,14.488473,3.882484,3.0612788,0.7137344,-7.4118447,-3.123873,17.030315,8.942967,7.1438923,4.7416067,2.027668,4.4894767,17.905304,7.7233586,-7.9623003,2.6870794,-7.5661163,-12.301454,-11.477651,-3.8346057,-11.767478,5.598828,-4.312641,-6.8031745,-4.3621974,-6.8772163,9.279575,-4.0924034,-0.7417347,8.393606,5.9398475,0.6119152],\"type\":\"scatter\"}],                        {\"template\":{\"data\":{\"histogram2dcontour\":[{\"type\":\"histogram2dcontour\",\"colorbar\":{\"outlinewidth\":0,\"ticks\":\"\"},\"colorscale\":[[0.0,\"#0d0887\"],[0.1111111111111111,\"#46039f\"],[0.2222222222222222,\"#7201a8\"],[0.3333333333333333,\"#9c179e\"],[0.4444444444444444,\"#bd3786\"],[0.5555555555555556,\"#d8576b\"],[0.6666666666666666,\"#ed7953\"],[0.7777777777777778,\"#fb9f3a\"],[0.8888888888888888,\"#fdca26\"],[1.0,\"#f0f921\"]]}],\"choropleth\":[{\"type\":\"choropleth\",\"colorbar\":{\"outlinewidth\":0,\"ticks\":\"\"}}],\"histogram2d\":[{\"type\":\"histogram2d\",\"colorbar\":{\"outlinewidth\":0,\"ticks\":\"\"},\"colorscale\":[[0.0,\"#0d0887\"],[0.1111111111111111,\"#46039f\"],[0.2222222222222222,\"#7201a8\"],[0.3333333333333333,\"#9c179e\"],[0.4444444444444444,\"#bd3786\"],[0.5555555555555556,\"#d8576b\"],[0.6666666666666666,\"#ed7953\"],[0.7777777777777778,\"#fb9f3a\"],[0.8888888888888888,\"#fdca26\"],[1.0,\"#f0f921\"]]}],\"heatmap\":[{\"type\":\"heatmap\",\"colorbar\":{\"outlinewidth\":0,\"ticks\":\"\"},\"colorscale\":[[0.0,\"#0d0887\"],[0.1111111111111111,\"#46039f\"],[0.2222222222222222,\"#7201a8\"],[0.3333333333333333,\"#9c179e\"],[0.4444444444444444,\"#bd3786\"],[0.5555555555555556,\"#d8576b\"],[0.6666666666666666,\"#ed7953\"],[0.7777777777777778,\"#fb9f3a\"],[0.8888888888888888,\"#fdca26\"],[1.0,\"#f0f921\"]]}],\"heatmapgl\":[{\"type\":\"heatmapgl\",\"colorbar\":{\"outlinewidth\":0,\"ticks\":\"\"},\"colorscale\":[[0.0,\"#0d0887\"],[0.1111111111111111,\"#46039f\"],[0.2222222222222222,\"#7201a8\"],[0.3333333333333333,\"#9c179e\"],[0.4444444444444444,\"#bd3786\"],[0.5555555555555556,\"#d8576b\"],[0.6666666666666666,\"#ed7953\"],[0.7777777777777778,\"#fb9f3a\"],[0.8888888888888888,\"#fdca26\"],[1.0,\"#f0f921\"]]}],\"contourcarpet\":[{\"type\":\"contourcarpet\",\"colorbar\":{\"outlinewidth\":0,\"ticks\":\"\"}}],\"contour\":[{\"type\":\"contour\",\"colorbar\":{\"outlinewidth\":0,\"ticks\":\"\"},\"colorscale\":[[0.0,\"#0d0887\"],[0.1111111111111111,\"#46039f\"],[0.2222222222222222,\"#7201a8\"],[0.3333333333333333,\"#9c179e\"],[0.4444444444444444,\"#bd3786\"],[0.5555555555555556,\"#d8576b\"],[0.6666666666666666,\"#ed7953\"],[0.7777777777777778,\"#fb9f3a\"],[0.8888888888888888,\"#fdca26\"],[1.0,\"#f0f921\"]]}],\"surface\":[{\"type\":\"surface\",\"colorbar\":{\"outlinewidth\":0,\"ticks\":\"\"},\"colorscale\":[[0.0,\"#0d0887\"],[0.1111111111111111,\"#46039f\"],[0.2222222222222222,\"#7201a8\"],[0.3333333333333333,\"#9c179e\"],[0.4444444444444444,\"#bd3786\"],[0.5555555555555556,\"#d8576b\"],[0.6666666666666666,\"#ed7953\"],[0.7777777777777778,\"#fb9f3a\"],[0.8888888888888888,\"#fdca26\"],[1.0,\"#f0f921\"]]}],\"mesh3d\":[{\"type\":\"mesh3d\",\"colorbar\":{\"outlinewidth\":0,\"ticks\":\"\"}}],\"scatter\":[{\"fillpattern\":{\"fillmode\":\"overlay\",\"size\":10,\"solidity\":0.2},\"type\":\"scatter\"}],\"parcoords\":[{\"type\":\"parcoords\",\"line\":{\"colorbar\":{\"outlinewidth\":0,\"ticks\":\"\"}}}],\"scatterpolargl\":[{\"type\":\"scatterpolargl\",\"marker\":{\"colorbar\":{\"outlinewidth\":0,\"ticks\":\"\"}}}],\"bar\":[{\"error_x\":{\"color\":\"#2a3f5f\"},\"error_y\":{\"color\":\"#2a3f5f\"},\"marker\":{\"line\":{\"color\":\"#E5ECF6\",\"width\":0.5},\"pattern\":{\"fillmode\":\"overlay\",\"size\":10,\"solidity\":0.2}},\"type\":\"bar\"}],\"scattergeo\":[{\"type\":\"scattergeo\",\"marker\":{\"colorbar\":{\"outlinewidth\":0,\"ticks\":\"\"}}}],\"scatterpolar\":[{\"type\":\"scatterpolar\",\"marker\":{\"colorbar\":{\"outlinewidth\":0,\"ticks\":\"\"}}}],\"histogram\":[{\"marker\":{\"pattern\":{\"fillmode\":\"overlay\",\"size\":10,\"solidity\":0.2}},\"type\":\"histogram\"}],\"scattergl\":[{\"type\":\"scattergl\",\"marker\":{\"colorbar\":{\"outlinewidth\":0,\"ticks\":\"\"}}}],\"scatter3d\":[{\"type\":\"scatter3d\",\"line\":{\"colorbar\":{\"outlinewidth\":0,\"ticks\":\"\"}},\"marker\":{\"colorbar\":{\"outlinewidth\":0,\"ticks\":\"\"}}}],\"scattermapbox\":[{\"type\":\"scattermapbox\",\"marker\":{\"colorbar\":{\"outlinewidth\":0,\"ticks\":\"\"}}}],\"scatterternary\":[{\"type\":\"scatterternary\",\"marker\":{\"colorbar\":{\"outlinewidth\":0,\"ticks\":\"\"}}}],\"scattercarpet\":[{\"type\":\"scattercarpet\",\"marker\":{\"colorbar\":{\"outlinewidth\":0,\"ticks\":\"\"}}}],\"carpet\":[{\"aaxis\":{\"endlinecolor\":\"#2a3f5f\",\"gridcolor\":\"white\",\"linecolor\":\"white\",\"minorgridcolor\":\"white\",\"startlinecolor\":\"#2a3f5f\"},\"baxis\":{\"endlinecolor\":\"#2a3f5f\",\"gridcolor\":\"white\",\"linecolor\":\"white\",\"minorgridcolor\":\"white\",\"startlinecolor\":\"#2a3f5f\"},\"type\":\"carpet\"}],\"table\":[{\"cells\":{\"fill\":{\"color\":\"#EBF0F8\"},\"line\":{\"color\":\"white\"}},\"header\":{\"fill\":{\"color\":\"#C8D4E3\"},\"line\":{\"color\":\"white\"}},\"type\":\"table\"}],\"barpolar\":[{\"marker\":{\"line\":{\"color\":\"#E5ECF6\",\"width\":0.5},\"pattern\":{\"fillmode\":\"overlay\",\"size\":10,\"solidity\":0.2}},\"type\":\"barpolar\"}],\"pie\":[{\"automargin\":true,\"type\":\"pie\"}]},\"layout\":{\"autotypenumbers\":\"strict\",\"colorway\":[\"#636efa\",\"#EF553B\",\"#00cc96\",\"#ab63fa\",\"#FFA15A\",\"#19d3f3\",\"#FF6692\",\"#B6E880\",\"#FF97FF\",\"#FECB52\"],\"font\":{\"color\":\"#2a3f5f\"},\"hovermode\":\"closest\",\"hoverlabel\":{\"align\":\"left\"},\"paper_bgcolor\":\"white\",\"plot_bgcolor\":\"#E5ECF6\",\"polar\":{\"bgcolor\":\"#E5ECF6\",\"angularaxis\":{\"gridcolor\":\"white\",\"linecolor\":\"white\",\"ticks\":\"\"},\"radialaxis\":{\"gridcolor\":\"white\",\"linecolor\":\"white\",\"ticks\":\"\"}},\"ternary\":{\"bgcolor\":\"#E5ECF6\",\"aaxis\":{\"gridcolor\":\"white\",\"linecolor\":\"white\",\"ticks\":\"\"},\"baxis\":{\"gridcolor\":\"white\",\"linecolor\":\"white\",\"ticks\":\"\"},\"caxis\":{\"gridcolor\":\"white\",\"linecolor\":\"white\",\"ticks\":\"\"}},\"coloraxis\":{\"colorbar\":{\"outlinewidth\":0,\"ticks\":\"\"}},\"colorscale\":{\"sequential\":[[0.0,\"#0d0887\"],[0.1111111111111111,\"#46039f\"],[0.2222222222222222,\"#7201a8\"],[0.3333333333333333,\"#9c179e\"],[0.4444444444444444,\"#bd3786\"],[0.5555555555555556,\"#d8576b\"],[0.6666666666666666,\"#ed7953\"],[0.7777777777777778,\"#fb9f3a\"],[0.8888888888888888,\"#fdca26\"],[1.0,\"#f0f921\"]],\"sequentialminus\":[[0.0,\"#0d0887\"],[0.1111111111111111,\"#46039f\"],[0.2222222222222222,\"#7201a8\"],[0.3333333333333333,\"#9c179e\"],[0.4444444444444444,\"#bd3786\"],[0.5555555555555556,\"#d8576b\"],[0.6666666666666666,\"#ed7953\"],[0.7777777777777778,\"#fb9f3a\"],[0.8888888888888888,\"#fdca26\"],[1.0,\"#f0f921\"]],\"diverging\":[[0,\"#8e0152\"],[0.1,\"#c51b7d\"],[0.2,\"#de77ae\"],[0.3,\"#f1b6da\"],[0.4,\"#fde0ef\"],[0.5,\"#f7f7f7\"],[0.6,\"#e6f5d0\"],[0.7,\"#b8e186\"],[0.8,\"#7fbc41\"],[0.9,\"#4d9221\"],[1,\"#276419\"]]},\"xaxis\":{\"gridcolor\":\"white\",\"linecolor\":\"white\",\"ticks\":\"\",\"title\":{\"standoff\":15},\"zerolinecolor\":\"white\",\"automargin\":true,\"zerolinewidth\":2},\"yaxis\":{\"gridcolor\":\"white\",\"linecolor\":\"white\",\"ticks\":\"\",\"title\":{\"standoff\":15},\"zerolinecolor\":\"white\",\"automargin\":true,\"zerolinewidth\":2},\"scene\":{\"xaxis\":{\"backgroundcolor\":\"#E5ECF6\",\"gridcolor\":\"white\",\"linecolor\":\"white\",\"showbackground\":true,\"ticks\":\"\",\"zerolinecolor\":\"white\",\"gridwidth\":2},\"yaxis\":{\"backgroundcolor\":\"#E5ECF6\",\"gridcolor\":\"white\",\"linecolor\":\"white\",\"showbackground\":true,\"ticks\":\"\",\"zerolinecolor\":\"white\",\"gridwidth\":2},\"zaxis\":{\"backgroundcolor\":\"#E5ECF6\",\"gridcolor\":\"white\",\"linecolor\":\"white\",\"showbackground\":true,\"ticks\":\"\",\"zerolinecolor\":\"white\",\"gridwidth\":2}},\"shapedefaults\":{\"line\":{\"color\":\"#2a3f5f\"}},\"annotationdefaults\":{\"arrowcolor\":\"#2a3f5f\",\"arrowhead\":0,\"arrowwidth\":1},\"geo\":{\"bgcolor\":\"white\",\"landcolor\":\"#E5ECF6\",\"subunitcolor\":\"white\",\"showland\":true,\"showlakes\":true,\"lakecolor\":\"white\"},\"title\":{\"x\":0.05},\"mapbox\":{\"style\":\"light\"}}},\"margin\":{\"r\":20,\"b\":10,\"l\":10,\"t\":40},\"title\":{\"text\":\"2D Chroma Vector Store Visualization\"},\"scene\":{\"xaxis\":{\"title\":{\"text\":\"x\"}},\"yaxis\":{\"title\":{\"text\":\"y\"}}},\"width\":800,\"height\":600},                        {\"responsive\": true}                    ).then(function(){\n",
       "                            \n",
       "var gd = document.getElementById('60364889-493f-4c72-bd12-34636fb62b36');\n",
       "var x = new MutationObserver(function (mutations, observer) {{\n",
       "        var display = window.getComputedStyle(gd).display;\n",
       "        if (!display || display === 'none') {{\n",
       "            console.log([gd, 'removed!']);\n",
       "            Plotly.purge(gd);\n",
       "            observer.disconnect();\n",
       "        }}\n",
       "}});\n",
       "\n",
       "// Listen for the removal of the full notebook cells\n",
       "var notebookContainer = gd.closest('#notebook-container');\n",
       "if (notebookContainer) {{\n",
       "    x.observe(notebookContainer, {childList: true});\n",
       "}}\n",
       "\n",
       "// Listen for the clearing of the current output cell\n",
       "var outputEl = gd.closest('.output');\n",
       "if (outputEl) {{\n",
       "    x.observe(outputEl, {childList: true});\n",
       "}}\n",
       "\n",
       "                        })                };                });            </script>        </div>"
      ]
     },
     "metadata": {},
     "output_type": "display_data"
    }
   ],
   "source": [
    "# We humans find it easier to visalize things in 2D!\n",
    "# Reduce the dimensionality of the vectors to 2D using t-SNE\n",
    "# (t-distributed stochastic neighbor embedding)\n",
    "\n",
    "tsne = TSNE(n_components=2, random_state=42)\n",
    "reduced_vectors = tsne.fit_transform(vectors)\n",
    "\n",
    "# Create the 2D scatter plot\n",
    "fig = go.Figure(data=[go.Scatter(\n",
    "    x=reduced_vectors[:, 0],\n",
    "    y=reduced_vectors[:, 1],\n",
    "    mode='markers',\n",
    "    marker=dict(size=5, color=colors, opacity=0.8),\n",
    "    text=[f\"Video: {t}<br>Text: {d[:100]}...\" for t, d in zip(video_numbers , documents)],\n",
    "    hoverinfo='text'\n",
    ")])\n",
    "\n",
    "fig.update_layout(\n",
    "    title='2D Chroma Vector Store Visualization',\n",
    "    scene=dict(xaxis_title='x',yaxis_title='y'),\n",
    "    width=800,\n",
    "    height=600,\n",
    "    margin=dict(r=20, b=10, l=10, t=40)\n",
    ")\n",
    "\n",
    "fig.show()"
   ]
  },
  {
   "cell_type": "code",
   "execution_count": 56,
   "id": "e1418e88-acd5-460a-bf2b-4e6efc88e3dd",
   "metadata": {},
   "outputs": [
    {
     "data": {
      "application/vnd.plotly.v1+json": {
       "config": {
        "plotlyServerURL": "https://plot.ly"
       },
       "data": [
        {
         "hoverinfo": "text",
         "marker": {
          "color": [
           "#d01f72",
           "#75195e",
           "#3678a7",
           "#5b3f83",
           "#74a788",
           "#571122",
           "#4099c1",
           "#659222",
           "#188ca3",
           "#6d4052",
           "#35303c",
           "#a9e927",
           "#29fa15",
           "#71c500",
           "#9b9d6e",
           "#cf7e83",
           "#badd6d",
           "#85fa26",
           "#22463b",
           "#ce865d",
           "#f59c06",
           "#011995",
           "#793548",
           "#ad8b14",
           "#d937bd",
           "#2b9f18",
           "#046e5c",
           "#75b5e3",
           "#c959de",
           "#72e048",
           "#8e8cab",
           "#20f2c3",
           "#64f999",
           "#e69670",
           "#6a0fce",
           "#d65c3a",
           "#7bee34",
           "#4f86b8",
           "#b43417",
           "#4dfb77",
           "#2ae342",
           "#c3e1f2",
           "#12897b",
           "#2b3af3",
           "#7ea8e9",
           "#6ad041",
           "#0bdacc",
           "#99fe53",
           "#4aaf9f",
           "#d156c8",
           "#505bd9",
           "#dc152c",
           "#b52bf6",
           "#9baca0",
           "#a03134",
           "#d43c00",
           "#5af098",
           "#2c168d",
           "#c6016b",
           "#f090af",
           "#482281",
           "#39821f",
           "#e0a8df",
           "#480c89",
           "#08808d",
           "#ac5faf",
           "#0faf59",
           "#79c82a",
           "#e6e164",
           "#0d2037",
           "#8afd40",
           "#2e1afc",
           "#3ec815",
           "#fbfef2",
           "#a63fa4",
           "#b27d2e",
           "#ca3592",
           "#b9fd23",
           "#ac9648",
           "#804ce2",
           "#9b5e28",
           "#a64739",
           "#c457d7",
           "#de30e4",
           "#1f6ab0",
           "#6ff3c5",
           "#6df6ca",
           "#ed694d",
           "#2fef1a",
           "#335dcf",
           "#845aa9",
           "#574e28",
           "#dc95ec",
           "#b2140a",
           "#15ae86",
           "#70d1d9",
           "#6f745a",
           "#b3dba5",
           "#108c41",
           "#268bba",
           "#913568",
           "#1a6fdf",
           "#422abb",
           "#cb725f",
           "#fe62a5",
           "#dfc6c7",
           "#b25d7b",
           "#bd53b1",
           "#796278",
           "#048452",
           "#c6eff5",
           "#d24e5d",
           "#fe8e92",
           "#22398f",
           "#3e5237",
           "#8069bc",
           "#7740be",
           "#cc8ec0",
           "#b280bb",
           "#91f4db",
           "#ac55ba",
           "#c97596",
           "#116019",
           "#43c2e8",
           "#2a2d25",
           "#fc2b74",
           "#ae7afe",
           "#92b4fa",
           "#dd8cd7",
           "#4862ce",
           "#af0f59",
           "#ad6bd0",
           "#3f0a72",
           "#e01073",
           "#144ada",
           "#5cb9ca",
           "#51d0da",
           "#d6d07a",
           "#b61e76",
           "#474ff9",
           "#68bece",
           "#d01b19",
           "#ee26df",
           "#2ebca4",
           "#539908",
           "#ec0a37",
           "#1a5613",
           "#da28db",
           "#246fa5",
           "#bbfe83",
           "#d54222",
           "#580c96",
           "#02cada",
           "#996ff1",
           "#e2a239",
           "#ae5204",
           "#4ce72d",
           "#2cde7f",
           "#b64eac",
           "#591ab9",
           "#a958c9",
           "#696eaa",
           "#4c4355",
           "#6a6c06",
           "#df5d2e",
           "#9780cf",
           "#682d42",
           "#efed10",
           "#1b312a",
           "#dbde1c",
           "#e1b5db",
           "#a95826",
           "#4e797a",
           "#10384a",
           "#9a5ba2",
           "#d34482",
           "#8a29da",
           "#fb9dce",
           "#ff2d6a",
           "#50f10d",
           "#f8d349",
           "#7b4427",
           "#11a70e",
           "#987252",
           "#c932c1",
           "#2d7f7d",
           "#c1e3c5",
           "#0c777d",
           "#0f8781",
           "#dd889c",
           "#799a24",
           "#4212f1",
           "#e6f378",
           "#805527",
           "#091a90",
           "#a9541c",
           "#fcdcad",
           "#01f59b",
           "#94a85d",
           "#426575",
           "#7f03bd",
           "#2dcfac",
           "#52b6df",
           "#73e76a",
           "#d70d97",
           "#601568",
           "#d4b1ce",
           "#7341ee",
           "#bb0ee6",
           "#f645e0",
           "#1c2c7e",
           "#7dd58b",
           "#4b9a93",
           "#9df332",
           "#612b32",
           "#b1c27d",
           "#3626a5"
          ],
          "opacity": 0.8,
          "size": 5
         },
         "mode": "markers",
         "text": [
          "Video: 59506507<br>Text: Well, I realized that was a whole lot of theory, but I hope it gave you a good intuition that will\nb...",
          "Video: 59671315<br>Text: Okay, so here we are, back in Jupyter Lab, ready for the next use of a frontier model, and see this\n...",
          "Video: 60616895<br>Text: It feels like 100 videos ago that I told you that we were going to have instant gratification with o...",
          "Video: 60619275<br>Text: And we will conclude our expedition into the world of frontier models through their chat interface b...",
          "Video: 59472693<br>Text: Friends.\nI am absolutely exhausted.\nI am exhausted and a little tiny bit traumatized.\nAnd you are so...",
          "Video: 59670121<br>Text: So it's business time right now.\nWe are going to build a Rag pipeline to estimate the price of produ...",
          "Video: 59295619<br>Text: Welcome back to the the moment when we bring it all together into a beautiful user interface.\nBut fi...",
          "Video: 60617163<br>Text: And already that wraps up day two.\nNow that you have built that solution.\nAnd congratulations on tha...",
          "Video: 60616423<br>Text: So I hope you've just enjoyed yourself experimenting with different LMS locally on your box using th...",
          "Video: 59170227<br>Text: Welcome back to Google Colab.\nHere we are ready to explore the wonderful world of Tokenizers.\nSo, uh...",
          "Video: 59169985<br>Text: So I hope you enjoyed that whirlwind tour of Google Colab.\nHere's just a little screenshot example o...",
          "Video: 60616927<br>Text: It's time for our first LM experiment at this point.\nSo some of this you may know well, you may know...",
          "Video: 59673721<br>Text: And here we are in JupyterLab for the last time, and we are looking here at day five, the last day\no...",
          "Video: 59508055<br>Text: I'm so very happy that you've reached this epic moment in the course and that you're hanging in ther...",
          "Video: 59670259<br>Text: It's remarkable.\nBut you are now at the 95% point.\nThere's 5% remaining of this course.\nUh, maybe it...",
          "Video: 60616623<br>Text: So we're now going to start week one of the course when we are going to be looking at exploring fron...",
          "Video: 59472383<br>Text: And welcome back to the week six folder.\nWe're now at day two, which is the second and final stage o...",
          "Video: 59670171<br>Text: So as the very final step on this part four of day two of week eight, we are now going to build an\ne...",
          "Video: 59297721<br>Text: And so now the time has come to talk about the most crucial aspect of Rag, which is the idea of vect...",
          "Video: 59297599<br>Text: Well, that was a sneaky detour I took you on in the last one.\nI hope you enjoyed it though, and I ho...",
          "Video: 59507635<br>Text: Look, I hope you're excited.\nYou really should be.\nYou've been through 80% of the course and it's al...",
          "Video: 59669375<br>Text: Here we are for the day.\n2.1 notebook.\nAnd don't let it be said that I don't ever do anything for yo...",
          "Video: 59297733<br>Text: Welcome back to JupyterLab and welcome to your first experiment with the world of Long Chain.\nLet me...",
          "Video: 59670369<br>Text: It is terrific that you're hanging on in there and making such great progress with this course.\nAs w...",
          "Video: 59166281<br>Text: And with that, amazingly, you completed day one of week two already and that gets you to the 15% poi...",
          "Video: 59671567<br>Text: Well, the first thing you're going to notice is that I don't have a notebook open for you.\nAnd that'...",
          "Video: 59297593<br>Text: And welcome to continuing our journey with Hrag.\nAnd today it's time to unveil Liang Chen.\nSo first,...",
          "Video: 59166461<br>Text: And welcome back to the lab.\nHere we are in Jupyter Lab and we are going to go into week two.\nAnd we...",
          "Video: 59167007<br>Text: Well, how fabulous is that?\nI hope that you are as wowed as I am by our new airline, I assistant and...",
          "Video: 59508121<br>Text: The moment has arrived.\nHere we go.\nWe're in fine tuning.\nWe do fine tuning.\nTrain.\nThere is also a ...",
          "Video: 59295579<br>Text: All right.\nAre you excited to see how this goes?\nLet's give it a try.\nSo in this next section, I cre...",
          "Video: 60620375<br>Text: And with that, we've reached an important milestone.\nThe first week of our eight week journey is com...",
          "Video: 59472491<br>Text: Welcome back.\nIf you are following along with me in JupyterLab, as I hope you are, then you will nee...",
          "Video: 59472425<br>Text: Welcome to week six, day three.\nToday is going to be a day that you will either love or you will hat...",
          "Video: 59508057<br>Text: Actually slight change in plan.\nI'm going to wrap up the day.\nDay three at this point, and say that ...",
          "Video: 60619577<br>Text: And for the final piece of background information, I wanted to take another moment to talk about API...",
          "Video: 59170291<br>Text: Welcome back to Colab and welcome back to our business project.\nSo again our assignment, we are due ...",
          "Video: 60619651<br>Text: I mentioned before an AI company called vellum.\nWhen we were talking about the different questions, ...",
          "Video: 59473191<br>Text: And you thought we'd never get here.\nHere we are in Jupyter Lab, running our fine tuning for a front...",
          "Video: 59170297<br>Text: And here we are in Google Colab, ready for fun with models.\nSo first we do the usual Pip installs an...",
          "Video: 59167015<br>Text: Welcome back to Jupyter Lab and welcome to Day Five's Lab.\nAnd this is going to be lots of creativit...",
          "Video: 59170043<br>Text: Let me enthusiastically welcome you all back to week three of our LLM engineering journey.\nIf you en...",
          "Video: 59473147<br>Text: Well, I'm very relieved.\nI've got that behind me.\nNo more human testing for me.\nWe'll have one final...",
          "Video: 59166453<br>Text: Welcome back and welcome to our continuing JupyterLab experience.\nUh, I'm hopefully going to keep yo...",
          "Video: 59166915<br>Text: Welcome back to the wonderful world of JupyterLab.\nAnd here we are in week two.\nDay three.\nUh, bring...",
          "Video: 59667365<br>Text: Here we are back in Colab, looking at the week seven, day five of the Colab notebooks and I'm on a\nT...",
          "Video: 60616845<br>Text: We're on the home stretch.\nThis is the final step in the environment setup, and it's an easy one.\nIt...",
          "Video: 59295459<br>Text: And welcome back to More Leaderboard Fest as we go through some more leaderboards.\nBut this time we'...",
          "Video: 59471979<br>Text: So we now turn to the parts of the problem, which is perhaps, let's say, not as glamorous as some\nof...",
          "Video: 59503705<br>Text: And so now we talk about quantization the q and q Laura.\nQ stands for quantized quantized.\nLaura.\nAn...",
          "Video: 59472505<br>Text: So the good news is that this is the very final video about data set curation.\nYou were probably fed...",
          "Video: 59669217<br>Text: And welcome to the next part of visualizing the data.\nAnd just very quickly to show it to you in 3D....",
          "Video: 59671221<br>Text: I gotta tell you, I don't like to toot my horn a whole lot, but I do think that I've done a great\njo...",
          "Video: 59503703<br>Text: Well.\nHello there everybody.\nI am so grateful that you've made it through to the start of week seven...",
          "Video: 59473201<br>Text: Well, before we do a postmortem on what happened, let's just quickly look at the standing the rankin...",
          "Video: 60622463<br>Text: In this video, we're going to set up a full data science environment for Mac users.\nIn the next vide...",
          "Video: 60619299<br>Text: Well, I hope you found that both educational and enjoyable.\nAs we went through and learned so much a...",
          "Video: 59295607<br>Text: So to revisit then the solution that we built in the previous day and talk about the metrics.\nAs I s...",
          "Video: 59297575<br>Text: Well, welcome to the final part on rag.\nAnd this is the session where you go from being a rag expert...",
          "Video: 59507687<br>Text: It's time for action, everybody.\nWe've set up our colab.\nHere we are, week seven, day three.\nWe've g...",
          "Video: 59671441<br>Text: And welcome once more to our favorite place to be Jupyter Lab, the Paradise for a data scientist exp...",
          "Video: 59673431<br>Text: And here we have it.\nThe user interface is completed.\nThe extra notification came through on my phon...",
          "Video: 59473137<br>Text: Let's get straight to it.\nSo the place where you can see everything that's going on and get knee dee...",
          "Video: 59166421<br>Text: Welcome back to the radio day in the lab.\nMore to do.\nLet's keep going.\nWhere we left off is we had ...",
          "Video: 59295599<br>Text: Welcome to the Jupyter Lab for day four.\nIt's going to look very familiar because it's actually I've...",
          "Video: 59669631<br>Text: Here we are in our favorite place to be in JupyterLab, ready for some coding and a lot of coding tha...",
          "Video: 59673663<br>Text: But wait, there's more.\nWe need to add some more to the user interface just to make it look more coo...",
          "Video: 59506929<br>Text: And we return to the hugging face open LLM leaderboard.\nThe first place you go when selecting your b...",
          "Video: 59504785<br>Text: So at this point we're going to talk about hyperparameters.\nAnd we're going to introduce three of th...",
          "Video: 59505337<br>Text: So we're now going to look at four bit quantization, the rather remarkable effect of reducing the pr...",
          "Video: 59271655<br>Text: So here we are on Hugging Face's main landing page at Hugging Face Core.\nA URL you know.\nWell, since...",
          "Video: 59472883<br>Text: Okay, time to reveal the results.\nIt has run to completion.\nAnd here it is.\nSo a moment to pause.\nIt...",
          "Video: 59673639<br>Text: And welcome now to the code for our user interface, which we will find in this Python module.\nPrice ...",
          "Video: 59472463<br>Text: So last time we looked at a humble linear regression model with feature engineering, and now we say\n...",
          "Video: 59297595<br>Text: So by the time you're watching this, hopefully you have played yourself with vectors.\nYou've created...",
          "Video: 60619149<br>Text: So we're going to start our exploration into the world of frontier models by playing with the famous...",
          "Video: 59297735<br>Text: And at last the time has come to see rag in action.\nAfter all of this talk, and here we are.\nWe're i...",
          "Video: 60616407<br>Text: And now over to my Mac people.\nAnd I have news for you.\nIt's exactly the same thing.\nYou go to a fav...",
          "Video: 59170235<br>Text: So here we are in Google Colab for our first collaborative session on the cloud using a GPU box.\nOn ...",
          "Video: 59472067<br>Text: So we've covered steps 1 to 4 of the five step strategy.\nAnd that brings us to step five, which is p...",
          "Video: 59472011<br>Text: Welcome everybody.\nSo in the past I've said quite a few times, I am excited to start this this week ...",
          "Video: 59295553<br>Text: Welcome back.\nIn the last part, we gave our GPT four and clawed the challenge of converting a simple...",
          "Video: 59297773<br>Text: Well, I hope you're eager with anticipation for this session in JupyterLab as we finally get to see\n...",
          "Video: 59295583<br>Text: And here we are back in JupyterLab.\nIt's been a minute.\nWe've been working in Colab for last week, a...",
          "Video: 59507329<br>Text: Okay.\nIt's moment of truth time.\nI have just taken our class tester.\nYou remember this class?\nUh, it...",
          "Video: 59295429<br>Text: Continuing our investigation of benchmarks, and this will become more real when we actually see some...",
          "Video: 60595637<br>Text: Here we are back in the Colab, which has been running overnight for me and probably for you too, I\nh...",
          "Video: 59668027<br>Text: And so here we are at the home page for modal.\nAt modal.com spelt model not not model which is confu...",
          "Video: 59295527<br>Text: I'm so happy to welcome you to week four, day four on our journey to LLM Engineering and Mastery.\nHe...",
          "Video: 59295377<br>Text: Just before we go on to some of the more advanced metrics, I want to mention for a second something\n...",
          "Video: 59666211<br>Text: So before we try our new model and one more recap on the models so far and keep notes of this so we\n...",
          "Video: 59170107<br>Text: And once again, it's that moment when you take a pause and congratulate yourself on another day of\ns...",
          "Video: 60616833<br>Text: So I realized that day one of week one has been a pretty long day, and I assure you that the other,\n...",
          "Video: 59472413<br>Text: Wonderful.\nWhere we left off is we had just created the Get Features function, which builds our feat...",
          "Video: 59297561<br>Text: And would you believe at this point you're 55% of the way along the journey?\nUh, it's been a while s...",
          "Video: 59669211<br>Text: Well, we took on a lot today and we seem to have been successful.\nThese red icons that you see on th...",
          "Video: 59166981<br>Text: Welcome to week two, day five.\nThe last day of week two where a lot is coming together.\nI am so grat...",
          "Video: 60619227<br>Text: And now let's move to Claude from anthropic, my favorite model and typically the favorite model of\nm...",
          "Video: 60620395<br>Text: Welcome back to Jupyter Lab, where I want to show you the assignment, the homework exercise for you\n...",
          "Video: 59665127<br>Text: Well hi there everybody.\nI'm not going to give you my usual song and dance about how excited you are...",
          "Video: 59668923<br>Text: Well, welcome back to Jupyter Lab for what will be an epic finale to our time in this platform.\nAnd ...",
          "Video: 59504887<br>Text: Well, here we are again in Google Colab.\nIt's been a minute since we were here, and welcome back to ...",
          "Video: 59170165<br>Text: Welcome, everybody to the last day of week three.\nWeek three.\nDay five.\nWe're here already wrapping ...",
          "Video: 60617251<br>Text: Congratulations are definitely in order.\nYesterday was a mammoth first day on this course and you go...",
          "Video: 59166951<br>Text: All right, back to the lab.\nBack to our project.\nTime to work with tools.\nI am in the week two folde...",
          "Video: 60619619<br>Text: Well, day four was an information dense day.\nI do hope that you learned some something useful here, ...",
          "Video: 60616663<br>Text: Well.\nHi there, this is time for PC people to get set up.\nSo all you Mac people out there, you don't...",
          "Video: 59508175<br>Text: So I'm taking a moment now to explain that the training costs of optimizing a model for this course\n...",
          "Video: 59670087<br>Text: And welcome to part four of day two of week eight.\nUh, there's a lot happening this week, and I have...",
          "Video: 59506713<br>Text: Hi everyone.\nSo the reason I'm so fired up about week seven is that this is the time when we actuall...",
          "Video: 60620169<br>Text: Hopefully you found this super satisfying to be able to have this nice business result and have it c...",
          "Video: 59295435<br>Text: Well, just before we wrap up, let me introduce this week's challenge and talk about what we're going...",
          "Video: 59297609<br>Text: Last week, we worked with models that were able to speed up code by a factor of 60,000 times, which\n...",
          "Video: 59507489<br>Text: Continuing our adventure through hyperparameters for training.\nThe next one is pretty crucial and it...",
          "Video: 59295549<br>Text: And welcome back to our challenge again.\nAnd this time we are working with our beautiful prototype.\n...",
          "Video: 59665129<br>Text: And now let me make this real for you by showing you some, some diagrams, particularly now looking\na...",
          "Video: 59169991<br>Text: Okay, so that was your introduction to Hugging Face.\nAnd now I'm going to turn to a different resour...",
          "Video: 59472027<br>Text: And now the time has come to curate our data set.\nAnd the way we're going to do this is we're going ...",
          "Video: 59472307<br>Text: Welcome to week six.\nDay two a day.\nWhen we get back into the data, we look back in anger at our dat...",
          "Video: 59508289<br>Text: So here we are now, back in the Colab, in the same one that we kicked off in the previous day.\nIt's ...",
          "Video: 59472333<br>Text: Thank you for putting up with me during my foray into traditional machine learning.\nI think it was u...",
          "Video: 59295431<br>Text: Now I want to take a quick moment to give you a flyby of five different ways that llms are used comm...",
          "Video: 59673449<br>Text: Well, I have to tell you that I'm a little bit sad.\nThis is the beginning of the beginning of the en...",
          "Video: 59669389<br>Text: Well.\nHi there.\nSo you've made it to day two of week eight, and I am super grateful that you've been...",
          "Video: 59170057<br>Text: And so at the beginning of this week, we started by talking about hugging face pipelines.\nAnd you us...",
          "Video: 59166949<br>Text: Welcome back to making chatbots.\nLet's keep going.\nSo for the next part we're going to beef up the s...",
          "Video: 59473019<br>Text: Welcome back to an action packed time of of training.\nSo now, after waiting about five minutes when ...",
          "Video: 59297585<br>Text: Before we move on, let me show you one more time this fabulous slide that describes the simple three...",
          "Video: 59170255<br>Text: And welcome back to us continuing our journey through the model class in Hugging Face Transformers l...",
          "Video: 60614589<br>Text: So we're now going to run a large language model directly on your box using a platform called llama,...",
          "Video: 59297601<br>Text: I'm not going to lie, at this point you have every reason to be impatient with me.\nWe've been yammer...",
          "Video: 60616629<br>Text: And welcome back to team PC and Team Mac as we come back together again for a quick video.\nIn this o...",
          "Video: 59297749<br>Text: It's always welcome back to JupyterLab, my favorite place to be.\nAnd now we are, of course in the we...",
          "Video: 59170135<br>Text: Welcome.\nIt's week three.\nIt's day four.\nWe are back on the adventure in open source land, back inve...",
          "Video: 59472017<br>Text: And this is the first time that we'll be coding against our big project of the course.\nWelcome to Ju...",
          "Video: 59507017<br>Text: Welcome to Colab.\nWelcome to the week seven day two Colab.\nAnd just before we try our base model, we...",
          "Video: 60619883<br>Text: And now we've arrived at an exciting moment in our first week.\nThe conclusion of the first week is w...",
          "Video: 59508297<br>Text: What more is there to say, really?\nTomorrow is the day for results.\nA day that very excited indeed a...",
          "Video: 60619247<br>Text: We're going to spend a little bit more time with GPT just to try out a few more interesting things.\n...",
          "Video: 59504769<br>Text: Without further ado, we're going to get stuck into it.\nTalking about Laura.\nLow rank adaptation.\nAnd...",
          "Video: 59170233<br>Text: Welcome back to our continued exploits with Tokenizers.\nWhat we're now going to look at is what's ca...",
          "Video: 59671231<br>Text: And here we are back in the Jupyter Lab for the fast approaching conclusion with a really great proj...",
          "Video: 60620397<br>Text: Well, that's a fantastic result to have now arrived towards the end of week one and having completed...",
          "Video: 59170093<br>Text: I'm delighted to see you again.\nAs we get started with day three of week three of our adventure and ...",
          "Video: 59473089<br>Text: Welcome back.\nSo hopefully you are still impressed by the GPT four mini results.\nThe frontier model ...",
          "Video: 60395261<br>Text: Let's keep going with our project to equip our LM with a tool.\nWe just created this piece of code to...",
          "Video: 60617259<br>Text: I'm excited to introduce you to your first exercise, and I'm looking forward to seeing what you make...",
          "Video: 59507313<br>Text: And it's this time again, when we look at the podium of how our models are performing across the boa...",
          "Video: 60619721<br>Text: Now it's time to talk for a minute about tokens.\nTokens are the individual units which get passed in...",
          "Video: 59295451<br>Text: I know that everybody.\nIt seems like just the other day that we were embarking on our quest together...",
          "Video: 59166919<br>Text: And with that, it concludes our session on tools.\nAnd at this point, you are probably an expert on t...",
          "Video: 59295441<br>Text: Okay, so welcome to our leaderboard fast as we go through a ton of essential leaderboards for your\nc...",
          "Video: 59295541<br>Text: And welcome back.\nYou've just seen GPT four zero spectacularly failed to work on our hard Python con...",
          "Video: 59473101<br>Text: Welcome back.\nSo about ten minutes later, maybe 15 minutes later, the run has completed.\nAnd how do ...",
          "Video: 59507423<br>Text: So you may remember eons ago when we were building our data set.\nAt the end of that, we uploaded our...",
          "Video: 59295545<br>Text: I really hope you've enjoyed this week.\nWe've got tons done.\nWe've experimented with all sorts of ne...",
          "Video: 59472503<br>Text: Welcome back to Jupyter Lab.\nLast time, we looked at some silly models for predicting the price of p...",
          "Video: 60614591<br>Text: The mantra of this course is that the best way to learn is by doing, and we will be doing stuff toge...",
          "Video: 59473021<br>Text: Welcome to our favorite place to be to JupyterLab.\nHere we are again now in day three.\nIn week six.\n...",
          "Video: 60617255<br>Text: I'm now going to talk for a bit about models.\nA term you often hear is the term frontier models, whi...",
          "Video: 59667829<br>Text: Well.\nHello there.\nLook, I know what you're thinking.\nYou're thinking I peaked too early.\nLast week ...",
          "Video: 59505329<br>Text: Welcome back.\nYou may, like me, have just gone off and got a coffee while things loaded back up agai...",
          "Video: 59669049<br>Text: So what you just saw was an ephemeral app, as it's called, which means just a temporary app that you...",
          "Video: 60619439<br>Text: This now brings us to an extremely important property of LMS called the context window that I want t...",
          "Video: 59668181<br>Text: And so it gives me great pleasure to introduce to you the project that I've lined up for you this we...",
          "Video: 59472441<br>Text: Welcome back.\nSo we've been doing the thoroughly distasteful, unsavory work of feature engineering.\n...",
          "Video: 59507785<br>Text: Well, I'm sure you're fed up of me saying that the moment of truth has arrived, but it really has.\nT...",
          "Video: 59295587<br>Text: When I left you, we had just created this simple user interface for converting from Python to C plus...",
          "Video: 59166465<br>Text: Welcome back to the JupyterLab on Gradio day, so you'll remember where we left off.\nWe'd written two...",
          "Video: 59473071<br>Text: Hey, gang.\nLook, I know what you're thinking.\nThis week was supposed to be training week.\nI set it a...",
          "Video: 59295423<br>Text: Welcome to day two of week four, when we get more into leaderboards so that by the end of this, you'...",
          "Video: 59297723<br>Text: So I know what you're thinking.\nYou're thinking, what's going on here?\nWe're on day five.\nWe're on d...",
          "Video: 59166947<br>Text: Well, thank you for coming along for week two, day four.\nWe have lots of good stuff in store today.\n...",
          "Video: 59666831<br>Text: Take one more moment to look at this very nice diagram that lays it all out, and we will move on.\nNo...",
          "Video: 59295493<br>Text: And welcome to week four, day three.\nAs we are about to embark upon another business project which w...",
          "Video: 60616855<br>Text: Now I know what you're thinking.\nWe've been building environments for so long.\nAre we not done yet?\n...",
          "Video: 59506611<br>Text: So in a future day, I'm going to be training, fine tuning a model and creating a fine tuned model.\nA...",
          "Video: 60616493<br>Text: I'll just take a quick moment to introduce myself to convince you that I am actually qualified to be...",
          "Video: 59166317<br>Text: And welcome to week two, day two, as we continue our adventure into the realm of LMS.\nUh, so today, ...",
          "Video: 59295439<br>Text: So I'm aware that there's a big risk that you are getting fed up of leaderboards, because we've done...",
          "Video: 59472421<br>Text: And welcome back to our final time in Jupyter Lab with traditional machine learning.\nIt's almost ove...",
          "Video: 59472137<br>Text: Well, well, well, it's been a long day, but congratulations, you've made it.\nWe've gone through and ...",
          "Video: 59297693<br>Text: So at the end of each week, it's customary for me to give you a challenge, an assignment to do on\nyo...",
          "Video: 60620143<br>Text: So we're going to make a call to GPT four.\nOh, that's going to ask it to look through a set of links...",
          "Video: 60619501<br>Text: I welcome to day four of our time together.\nThis is a very important day.\nToday we're going to be lo...",
          "Video: 59297743<br>Text: And welcome to day five.\nFor reals.\nWe're actually in the proper Jupyter notebook.\nThis time we're i...",
          "Video: 59166847<br>Text: Well, they say that time flies when you're having fun, and it certainly feels like time is flying.\nU...",
          "Video: 59170223<br>Text: Well.\nFantastic.\nIt's coming up to the end of the week, and that means it's coming up to a challenge...",
          "Video: 59170037<br>Text: So how does it feel to be 30% of the way down the journey to being a proficient LLM engineer?\nTake a...",
          "Video: 59295609<br>Text: You must be feeling absolutely exhausted at this point.\nAnd if you are, that is okay.\nYou have done ...",
          "Video: 60619281<br>Text: Well, I'm delighted to welcome you to day three of our eight week journey together.\nAnd today we're ...",
          "Video: 59472429<br>Text: And continuing on our strategy to solve commercial problems with LMS, we get to step four, which is\n...",
          "Video: 59167009<br>Text: Welcome back.\nIt's time to make our full agent framework.\nI'm super excited about this.\nIt's pulling...",
          "Video: 59166481<br>Text: And here, once more we find ourselves in our favorite place, the Jupyter Lab.\nReady to go with weeks...",
          "Video: 59670933<br>Text: I realized my enthusiasm for this project is a bit insane, but I have to tell you that I am very sat...",
          "Video: 59670073<br>Text: Okay, it's time to complete the Rag workflow in our Jupyter Lab on day 2.3.\nWe've got this function ...",
          "Video: 59673595<br>Text: That concludes a mammoth project.\nThree weeks in the making.\nIn the course of those three weeks, sta...",
          "Video: 59297603<br>Text: And I'm delighted to welcome you back to LM engineering on the day that we turn to vectors.\nFinally,...",
          "Video: 60614541<br>Text: I am delighted to welcome you to the first day of our eight weeks together as you join me on this ad...",
          "Video: 59667357<br>Text: Let's now see our results side by side.\nWe started our journey with a constant model that was at $1....",
          "Video: 59667841<br>Text: Now, look, I know that I went through that very fast, but maybe, uh, you're still, uh, blinking\nat t...",
          "Video: 59472007<br>Text: So I hope you enjoyed our first bash at Scrubbing Data, and that you are now looking through the cod...",
          "Video: 59507435<br>Text: So I'm now going to talk about five important hyperparameters for the training process.\nAnd some of ...",
          "Video: 59509185<br>Text: So this is where I left you looking at this satisfying chart on training loss and seeing the trainin...",
          "Video: 59473159<br>Text: Welcome to Jupyter Lab and welcome to our experiments at the frontier.\nSo we are going to put our fr...",
          "Video: 60619447<br>Text: I want to take a moment to talk about something that's very fundamental to an LLM, which is the numb...",
          "Video: 59166353<br>Text: Well, congratulations on leveling up yet again.\nYou've got some real hard skills that you've added t...",
          "Video: 60619123<br>Text: So what we're now going to do is we're going to look at some models in practice and start to compare...",
          "Video: 59295363<br>Text: Well, another congratulations moment.\nYou have 40% on the way to being an LM engineer at a high leve...",
          "Video: 60619289<br>Text: And now we'll go a bit faster through the other models.\nWe'll start with Google's Gemini.\nI have the...",
          "Video: 59472873<br>Text: So it's quite an adventure that we had at the frontier of what's capable with Llms today, solving a\n...",
          "Video: 60619429<br>Text: Let me talk about some other phenomena that have happened over the last few years.\nOne of them has b...",
          "Video: 59295601<br>Text: So it's time to continue our journey into the world of open source and understand which models we sh...",
          "Video: 59170025<br>Text: And a massive welcome back one more time to LM engineering.\nWe are in week three, day two and we are...",
          "Video: 59166443<br>Text: And welcome back everybody.\nWelcome to week two day three.\nIt's a continuation of our enjoyment of r...",
          "Video: 60620025<br>Text: And welcome back to Jupyter Lab, one of my very favorite places to be.\nWhen Jupyter Lab sprung up on...",
          "Video: 59170055<br>Text: Welcome to the world of Google Colab.\nYou may already be very familiar with Google Colab, even if so..."
         ],
         "type": "scatter3d",
         "x": [
          -8.122976,
          34.908234,
          11.130736,
          -9.978768,
          20.378115,
          40.165966,
          -46.047855,
          -3.5225513,
          -41.603718,
          -29.750912,
          -16.69231,
          -11.540651,
          -48.240433,
          26.591553,
          -33.749554,
          12.921923,
          63.537235,
          22.33331,
          39.7503,
          -4.0843143,
          19.89367,
          53.601818,
          9.313611,
          -15.544816,
          -27.25799,
          -40.441216,
          7.4084144,
          -44.058147,
          -34.108322,
          35.800552,
          -75.9669,
          -17.08466,
          67.46077,
          30.020157,
          26.199474,
          -32.092762,
          -59.50946,
          -31.125465,
          17.727507,
          -1.9556097,
          -33.15905,
          -35.514206,
          49.95782,
          -31.869379,
          -22.008738,
          33.544445,
          -2.50848,
          -30.35998,
          56.3363,
          1.8218645,
          54.121468,
          50.3909,
          -38.989643,
          3.3299105,
          42.596157,
          11.633402,
          -9.411688,
          -19.470694,
          8.411452,
          11.9569235,
          29.455364,
          -30.15862,
          45.700237,
          -56.659325,
          -46.378384,
          38.17704,
          -39.15447,
          -23.810238,
          18.694654,
          2.2662356,
          -33.611332,
          46.75266,
          -50.577423,
          42.481358,
          29.093426,
          -24.221292,
          16.573559,
          11.913546,
          -14.086581,
          36.418083,
          14.4376545,
          -71.27086,
          21.494228,
          -40.991734,
          37.30921,
          -28.095816,
          38.05271,
          -18.56597,
          -44.791924,
          -13.7468815,
          28.898296,
          -36.335644,
          -2.9895551,
          65.62672,
          22.887362,
          -21.60234,
          -19.166574,
          2.6002665,
          6.9061046,
          21.161528,
          1.7614158,
          6.4912224,
          -49.481483,
          2.3821418,
          -19.138437,
          -11.099696,
          2.0873141,
          66.853096,
          27.287766,
          9.592437,
          -25.921122,
          -56.57392,
          23.216122,
          26.908329,
          -64.204666,
          10.844664,
          -6.4146757,
          51.051907,
          36.656914,
          33.13656,
          46.039726,
          -38.186977,
          -20.540487,
          8.277669,
          -38.28821,
          -7.520119,
          52.012684,
          23.770021,
          -12.45263,
          7.2831774,
          14.093998,
          2.9064524,
          14.353067,
          -44.2576,
          54.878136,
          -29.27205,
          0.48731115,
          6.6884475,
          -32.002,
          2.7302628,
          -41.821613,
          -35.146507,
          -7.324495,
          -36.21966,
          58.4483,
          -21.80948,
          0.6451577,
          29.801828,
          6.4110775,
          -17.06338,
          -17.830246,
          -34.42378,
          -63.04847,
          55.62894,
          36.156605,
          -49.79336,
          59.208763,
          -0.80916214,
          42.169895,
          -11.784577,
          -4.374742,
          3.4122179,
          -12.354422,
          -20.188608,
          3.917022,
          69.92149,
          21.692152,
          -62.446087,
          -45.395638,
          16.804968,
          -31.221453,
          32.466534,
          -26.018362,
          11.981998,
          -57.391186,
          -24.381496,
          4.2317467,
          21.573854,
          -42.14884,
          -39.03866,
          50.671337,
          44.122208,
          4.3523436,
          -17.679241,
          2.4215934,
          23.360334,
          -35.800457,
          -9.750219,
          -25.919231,
          -6.5914946,
          -7.792405,
          28.21505,
          -41.201225,
          45.70155,
          -11.035862,
          35.946297,
          -11.847502,
          32.496883,
          13.333166,
          41.13373,
          -8.510606,
          50.68757,
          37.495113,
          41.12895,
          39.27697,
          -2.0569484,
          -25.762125,
          -14.475436,
          -24.457497,
          -18.797113,
          33.985275,
          -52.042458,
          -37.08094,
          -26.450697,
          -24.56304,
          17.96638,
          1.2891247
         ],
         "y": [
          22.495209,
          7.7246327,
          24.009363,
          58.233845,
          -20.684736,
          -45.860653,
          19.024555,
          -23.34507,
          4.077665,
          -9.023953,
          -33.54387,
          13.529735,
          -20.47289,
          -18.097763,
          -52.109207,
          20.917074,
          6.882738,
          -27.837515,
          -73.38036,
          -59.17266,
          30.898888,
          -48.80887,
          -62.344166,
          -65.681435,
          -18.074602,
          -35.760197,
          -64.24934,
          -8.450979,
          -32.271553,
          16.685429,
          24.04524,
          -18.558027,
          -6.361417,
          -20.432753,
          -7.4502926,
          46.95327,
          -24.022396,
          43.53084,
          -2.2562957,
          -4.3477573,
          2.0038416,
          -8.453099,
          7.296199,
          15.414882,
          3.5748003,
          -9.886501,
          52.628384,
          41.841442,
          26.300909,
          27.636545,
          -10.974157,
          -52.99635,
          -46.490845,
          -17.097885,
          7.991843,
          42.728287,
          56.11593,
          25.378807,
          -63.396446,
          -10.103928,
          10.261616,
          -31.910042,
          -10.533649,
          0.86511475,
          7.581515,
          -38.008648,
          -21.695356,
          20.21065,
          41.538765,
          15.004162,
          2.7370741,
          23.941662,
          -23.825634,
          -29.004723,
          -63.43282,
          61.37925,
          -47.60969,
          51.35244,
          -21.343243,
          45.543747,
          5.428183,
          24.95672,
          -65.141624,
          20.076067,
          21.163311,
          43.15092,
          0.7405279,
          5.9581037,
          15.877678,
          42.451416,
          10.054633,
          -27.470036,
          6.871376,
          -26.58876,
          -74.47105,
          -54.44899,
          -36.45757,
          65.086754,
          10.824065,
          29.205353,
          0.1051746,
          4.70403,
          -20.799795,
          21.76516,
          7.780378,
          -8.377405,
          38.573914,
          4.597273,
          -28.45224,
          13.7212,
          6.9242682,
          6.1574836,
          -38.563107,
          39.609455,
          25.59941,
          31.040857,
          -35.56833,
          -2.9297552,
          32.898632,
          12.454539,
          -7.2873325,
          61.07097,
          -42.95049,
          -25.684706,
          -33.060715,
          -3.51661,
          11.432408,
          -57.957485,
          -8.321207,
          42.622173,
          -51.096336,
          36.391785,
          -42.812637,
          -16.89856,
          1.257138,
          3.1051168,
          2.437643,
          -11.519589,
          74.24569,
          32.010456,
          -16.717613,
          -51.03449,
          -4.0209484,
          -19.666466,
          7.805317,
          12.423793,
          25.94904,
          0.67196953,
          57.910053,
          41.923744,
          -34.208702,
          39.797775,
          36.71461,
          12.872997,
          -11.363612,
          24.884459,
          -18.462435,
          -55.471058,
          -15.552036,
          41.96635,
          -30.533445,
          -0.34056988,
          -1.1686171,
          31.996092,
          -25.59134,
          -16.72122,
          2.3426278,
          11.931674,
          4.3598084,
          -4.1114182,
          50.8286,
          -55.08115,
          1.6512612,
          41.550625,
          6.6282744,
          46.497314,
          18.768253,
          42.851322,
          -15.206347,
          44.767014,
          -19.802797,
          27.249903,
          -50.63222,
          18.110355,
          54.369324,
          -57.773426,
          -15.498092,
          -19.211893,
          -18.757973,
          29.953873,
          54.00189,
          -28.973417,
          -37.20934,
          -28.751331,
          -33.398895,
          -45.811794,
          -33.892204,
          -72.404495,
          34.78276,
          -6.6268015,
          11.053642,
          29.57501,
          33.051342,
          8.585847,
          -0.19063602,
          51.39862,
          -19.615374,
          69.09646,
          60.87389,
          72.40716,
          -0.828027,
          -53.986324,
          25.217634,
          -19.691027,
          -9.348319,
          13.64766,
          -30.232576
         ],
         "z": [
          59.56954,
          -20.305794,
          -45.233562,
          -16.850801,
          4.6954994,
          -25.423595,
          -8.237618,
          12.466315,
          65.523895,
          47.91345,
          35.15053,
          -39.112038,
          -38.72094,
          52.405907,
          -4.370467,
          -14.430673,
          -35.952686,
          -28.531855,
          7.7115927,
          23.013548,
          56.077496,
          -5.514938,
          -0.008566526,
          -9.867553,
          -12.98698,
          -39.226494,
          17.066427,
          -34.561573,
          -3.3118968,
          36.583973,
          -7.119071,
          -4.328642,
          -31.052425,
          -1.8609456,
          56.33368,
          -28.372967,
          8.456723,
          -15.707632,
          -17.333271,
          42.80706,
          -23.080353,
          23.041517,
          -0.6556977,
          -37.74239,
          -37.274963,
          -26.551325,
          -51.976124,
          1.4318302,
          -22.758234,
          64.70892,
          -32.6177,
          5.8516145,
          -25.99061,
          -7.1243777,
          17.436174,
          -50.29335,
          9.49166,
          10.1172285,
          30.861927,
          40.322426,
          -35.62156,
          -47.271034,
          55.355392,
          -37.411285,
          -17.425415,
          -13.6007805,
          -55.389553,
          42.268906,
          58.610935,
          70.393776,
          29.802158,
          16.140657,
          -51.085945,
          1.4574273,
          6.6880107,
          -5.813659,
          9.803923,
          -28.55834,
          36.59922,
          -20.453058,
          3.8719976,
          -23.767431,
          -5.49314,
          -25.137175,
          3.7973387,
          40.51548,
          45.6967,
          15.470758,
          13.113324,
          37.64396,
          15.948028,
          19.090908,
          -7.007089,
          0.6152462,
          7.8243833,
          -6.225681,
          -6.8244658,
          -3.5654526,
          -31.484634,
          32.221977,
          28.18344,
          42.78351,
          15.948768,
          -7.45289,
          -20.154951,
          0.96260214,
          -46.05605,
          -16.378876,
          -18.391024,
          12.343808,
          -59.11657,
          20.030552,
          20.922937,
          39.888527,
          -11.43447,
          38.497936,
          51.98297,
          -42.20368,
          -16.99875,
          49.101273,
          6.4250507,
          15.585115,
          -24.075558,
          -19.80848,
          31.00568,
          -33.391098,
          43.36078,
          23.481417,
          51.57835,
          -24.75155,
          21.64222,
          -58.816345,
          -2.0315907,
          29.727232,
          -25.19327,
          50.22198,
          -51.279667,
          6.860358,
          -15.767823,
          51.40322,
          53.975826,
          -39.052284,
          -57.70952,
          41.125294,
          6.987128,
          -9.902869,
          -29.477993,
          22.374899,
          36.041515,
          19.617472,
          5.1244507,
          13.6424465,
          -11.48539,
          28.757114,
          -37.475647,
          19.265785,
          -9.775182,
          -33.181618,
          -13.116752,
          -2.6527267,
          -9.879043,
          58.218357,
          25.997261,
          -20.186256,
          -39.330612,
          -4.208988,
          43.7187,
          -8.064093,
          -41.142452,
          -6.0501204,
          21.441114,
          -3.8814995,
          -4.5298624,
          27.965652,
          8.871029,
          -39.658558,
          49.448414,
          1.3307765,
          -23.730022,
          31.832657,
          16.64137,
          -31.655207,
          -19.97523,
          -56.55883,
          13.901519,
          -22.935688,
          -1.5958619,
          -19.140667,
          10.399207,
          16.90549,
          -3.3822806,
          27.030895,
          -18.985811,
          -34.180725,
          -39.81326,
          -36.173004,
          -27.309599,
          -5.8692102,
          -1.0676264,
          20.961613,
          29.313066,
          -8.199473,
          46.47283,
          57.448467,
          -10.296155,
          41.969986,
          -28.692223,
          6.5019803,
          25.493446,
          -9.792015,
          6.515994,
          -19.527716,
          6.6179695,
          30.123577,
          -38.85623,
          -43.729652,
          46.972412
         ]
        }
       ],
       "layout": {
        "height": 700,
        "margin": {
         "b": 10,
         "l": 10,
         "r": 20,
         "t": 40
        },
        "scene": {
         "xaxis": {
          "title": {
           "text": "x"
          }
         },
         "yaxis": {
          "title": {
           "text": "y"
          }
         },
         "zaxis": {
          "title": {
           "text": "z"
          }
         }
        },
        "template": {
         "data": {
          "bar": [
           {
            "error_x": {
             "color": "#2a3f5f"
            },
            "error_y": {
             "color": "#2a3f5f"
            },
            "marker": {
             "line": {
              "color": "#E5ECF6",
              "width": 0.5
             },
             "pattern": {
              "fillmode": "overlay",
              "size": 10,
              "solidity": 0.2
             }
            },
            "type": "bar"
           }
          ],
          "barpolar": [
           {
            "marker": {
             "line": {
              "color": "#E5ECF6",
              "width": 0.5
             },
             "pattern": {
              "fillmode": "overlay",
              "size": 10,
              "solidity": 0.2
             }
            },
            "type": "barpolar"
           }
          ],
          "carpet": [
           {
            "aaxis": {
             "endlinecolor": "#2a3f5f",
             "gridcolor": "white",
             "linecolor": "white",
             "minorgridcolor": "white",
             "startlinecolor": "#2a3f5f"
            },
            "baxis": {
             "endlinecolor": "#2a3f5f",
             "gridcolor": "white",
             "linecolor": "white",
             "minorgridcolor": "white",
             "startlinecolor": "#2a3f5f"
            },
            "type": "carpet"
           }
          ],
          "choropleth": [
           {
            "colorbar": {
             "outlinewidth": 0,
             "ticks": ""
            },
            "type": "choropleth"
           }
          ],
          "contour": [
           {
            "colorbar": {
             "outlinewidth": 0,
             "ticks": ""
            },
            "colorscale": [
             [
              0,
              "#0d0887"
             ],
             [
              0.1111111111111111,
              "#46039f"
             ],
             [
              0.2222222222222222,
              "#7201a8"
             ],
             [
              0.3333333333333333,
              "#9c179e"
             ],
             [
              0.4444444444444444,
              "#bd3786"
             ],
             [
              0.5555555555555556,
              "#d8576b"
             ],
             [
              0.6666666666666666,
              "#ed7953"
             ],
             [
              0.7777777777777778,
              "#fb9f3a"
             ],
             [
              0.8888888888888888,
              "#fdca26"
             ],
             [
              1,
              "#f0f921"
             ]
            ],
            "type": "contour"
           }
          ],
          "contourcarpet": [
           {
            "colorbar": {
             "outlinewidth": 0,
             "ticks": ""
            },
            "type": "contourcarpet"
           }
          ],
          "heatmap": [
           {
            "colorbar": {
             "outlinewidth": 0,
             "ticks": ""
            },
            "colorscale": [
             [
              0,
              "#0d0887"
             ],
             [
              0.1111111111111111,
              "#46039f"
             ],
             [
              0.2222222222222222,
              "#7201a8"
             ],
             [
              0.3333333333333333,
              "#9c179e"
             ],
             [
              0.4444444444444444,
              "#bd3786"
             ],
             [
              0.5555555555555556,
              "#d8576b"
             ],
             [
              0.6666666666666666,
              "#ed7953"
             ],
             [
              0.7777777777777778,
              "#fb9f3a"
             ],
             [
              0.8888888888888888,
              "#fdca26"
             ],
             [
              1,
              "#f0f921"
             ]
            ],
            "type": "heatmap"
           }
          ],
          "heatmapgl": [
           {
            "colorbar": {
             "outlinewidth": 0,
             "ticks": ""
            },
            "colorscale": [
             [
              0,
              "#0d0887"
             ],
             [
              0.1111111111111111,
              "#46039f"
             ],
             [
              0.2222222222222222,
              "#7201a8"
             ],
             [
              0.3333333333333333,
              "#9c179e"
             ],
             [
              0.4444444444444444,
              "#bd3786"
             ],
             [
              0.5555555555555556,
              "#d8576b"
             ],
             [
              0.6666666666666666,
              "#ed7953"
             ],
             [
              0.7777777777777778,
              "#fb9f3a"
             ],
             [
              0.8888888888888888,
              "#fdca26"
             ],
             [
              1,
              "#f0f921"
             ]
            ],
            "type": "heatmapgl"
           }
          ],
          "histogram": [
           {
            "marker": {
             "pattern": {
              "fillmode": "overlay",
              "size": 10,
              "solidity": 0.2
             }
            },
            "type": "histogram"
           }
          ],
          "histogram2d": [
           {
            "colorbar": {
             "outlinewidth": 0,
             "ticks": ""
            },
            "colorscale": [
             [
              0,
              "#0d0887"
             ],
             [
              0.1111111111111111,
              "#46039f"
             ],
             [
              0.2222222222222222,
              "#7201a8"
             ],
             [
              0.3333333333333333,
              "#9c179e"
             ],
             [
              0.4444444444444444,
              "#bd3786"
             ],
             [
              0.5555555555555556,
              "#d8576b"
             ],
             [
              0.6666666666666666,
              "#ed7953"
             ],
             [
              0.7777777777777778,
              "#fb9f3a"
             ],
             [
              0.8888888888888888,
              "#fdca26"
             ],
             [
              1,
              "#f0f921"
             ]
            ],
            "type": "histogram2d"
           }
          ],
          "histogram2dcontour": [
           {
            "colorbar": {
             "outlinewidth": 0,
             "ticks": ""
            },
            "colorscale": [
             [
              0,
              "#0d0887"
             ],
             [
              0.1111111111111111,
              "#46039f"
             ],
             [
              0.2222222222222222,
              "#7201a8"
             ],
             [
              0.3333333333333333,
              "#9c179e"
             ],
             [
              0.4444444444444444,
              "#bd3786"
             ],
             [
              0.5555555555555556,
              "#d8576b"
             ],
             [
              0.6666666666666666,
              "#ed7953"
             ],
             [
              0.7777777777777778,
              "#fb9f3a"
             ],
             [
              0.8888888888888888,
              "#fdca26"
             ],
             [
              1,
              "#f0f921"
             ]
            ],
            "type": "histogram2dcontour"
           }
          ],
          "mesh3d": [
           {
            "colorbar": {
             "outlinewidth": 0,
             "ticks": ""
            },
            "type": "mesh3d"
           }
          ],
          "parcoords": [
           {
            "line": {
             "colorbar": {
              "outlinewidth": 0,
              "ticks": ""
             }
            },
            "type": "parcoords"
           }
          ],
          "pie": [
           {
            "automargin": true,
            "type": "pie"
           }
          ],
          "scatter": [
           {
            "fillpattern": {
             "fillmode": "overlay",
             "size": 10,
             "solidity": 0.2
            },
            "type": "scatter"
           }
          ],
          "scatter3d": [
           {
            "line": {
             "colorbar": {
              "outlinewidth": 0,
              "ticks": ""
             }
            },
            "marker": {
             "colorbar": {
              "outlinewidth": 0,
              "ticks": ""
             }
            },
            "type": "scatter3d"
           }
          ],
          "scattercarpet": [
           {
            "marker": {
             "colorbar": {
              "outlinewidth": 0,
              "ticks": ""
             }
            },
            "type": "scattercarpet"
           }
          ],
          "scattergeo": [
           {
            "marker": {
             "colorbar": {
              "outlinewidth": 0,
              "ticks": ""
             }
            },
            "type": "scattergeo"
           }
          ],
          "scattergl": [
           {
            "marker": {
             "colorbar": {
              "outlinewidth": 0,
              "ticks": ""
             }
            },
            "type": "scattergl"
           }
          ],
          "scattermapbox": [
           {
            "marker": {
             "colorbar": {
              "outlinewidth": 0,
              "ticks": ""
             }
            },
            "type": "scattermapbox"
           }
          ],
          "scatterpolar": [
           {
            "marker": {
             "colorbar": {
              "outlinewidth": 0,
              "ticks": ""
             }
            },
            "type": "scatterpolar"
           }
          ],
          "scatterpolargl": [
           {
            "marker": {
             "colorbar": {
              "outlinewidth": 0,
              "ticks": ""
             }
            },
            "type": "scatterpolargl"
           }
          ],
          "scatterternary": [
           {
            "marker": {
             "colorbar": {
              "outlinewidth": 0,
              "ticks": ""
             }
            },
            "type": "scatterternary"
           }
          ],
          "surface": [
           {
            "colorbar": {
             "outlinewidth": 0,
             "ticks": ""
            },
            "colorscale": [
             [
              0,
              "#0d0887"
             ],
             [
              0.1111111111111111,
              "#46039f"
             ],
             [
              0.2222222222222222,
              "#7201a8"
             ],
             [
              0.3333333333333333,
              "#9c179e"
             ],
             [
              0.4444444444444444,
              "#bd3786"
             ],
             [
              0.5555555555555556,
              "#d8576b"
             ],
             [
              0.6666666666666666,
              "#ed7953"
             ],
             [
              0.7777777777777778,
              "#fb9f3a"
             ],
             [
              0.8888888888888888,
              "#fdca26"
             ],
             [
              1,
              "#f0f921"
             ]
            ],
            "type": "surface"
           }
          ],
          "table": [
           {
            "cells": {
             "fill": {
              "color": "#EBF0F8"
             },
             "line": {
              "color": "white"
             }
            },
            "header": {
             "fill": {
              "color": "#C8D4E3"
             },
             "line": {
              "color": "white"
             }
            },
            "type": "table"
           }
          ]
         },
         "layout": {
          "annotationdefaults": {
           "arrowcolor": "#2a3f5f",
           "arrowhead": 0,
           "arrowwidth": 1
          },
          "autotypenumbers": "strict",
          "coloraxis": {
           "colorbar": {
            "outlinewidth": 0,
            "ticks": ""
           }
          },
          "colorscale": {
           "diverging": [
            [
             0,
             "#8e0152"
            ],
            [
             0.1,
             "#c51b7d"
            ],
            [
             0.2,
             "#de77ae"
            ],
            [
             0.3,
             "#f1b6da"
            ],
            [
             0.4,
             "#fde0ef"
            ],
            [
             0.5,
             "#f7f7f7"
            ],
            [
             0.6,
             "#e6f5d0"
            ],
            [
             0.7,
             "#b8e186"
            ],
            [
             0.8,
             "#7fbc41"
            ],
            [
             0.9,
             "#4d9221"
            ],
            [
             1,
             "#276419"
            ]
           ],
           "sequential": [
            [
             0,
             "#0d0887"
            ],
            [
             0.1111111111111111,
             "#46039f"
            ],
            [
             0.2222222222222222,
             "#7201a8"
            ],
            [
             0.3333333333333333,
             "#9c179e"
            ],
            [
             0.4444444444444444,
             "#bd3786"
            ],
            [
             0.5555555555555556,
             "#d8576b"
            ],
            [
             0.6666666666666666,
             "#ed7953"
            ],
            [
             0.7777777777777778,
             "#fb9f3a"
            ],
            [
             0.8888888888888888,
             "#fdca26"
            ],
            [
             1,
             "#f0f921"
            ]
           ],
           "sequentialminus": [
            [
             0,
             "#0d0887"
            ],
            [
             0.1111111111111111,
             "#46039f"
            ],
            [
             0.2222222222222222,
             "#7201a8"
            ],
            [
             0.3333333333333333,
             "#9c179e"
            ],
            [
             0.4444444444444444,
             "#bd3786"
            ],
            [
             0.5555555555555556,
             "#d8576b"
            ],
            [
             0.6666666666666666,
             "#ed7953"
            ],
            [
             0.7777777777777778,
             "#fb9f3a"
            ],
            [
             0.8888888888888888,
             "#fdca26"
            ],
            [
             1,
             "#f0f921"
            ]
           ]
          },
          "colorway": [
           "#636efa",
           "#EF553B",
           "#00cc96",
           "#ab63fa",
           "#FFA15A",
           "#19d3f3",
           "#FF6692",
           "#B6E880",
           "#FF97FF",
           "#FECB52"
          ],
          "font": {
           "color": "#2a3f5f"
          },
          "geo": {
           "bgcolor": "white",
           "lakecolor": "white",
           "landcolor": "#E5ECF6",
           "showlakes": true,
           "showland": true,
           "subunitcolor": "white"
          },
          "hoverlabel": {
           "align": "left"
          },
          "hovermode": "closest",
          "mapbox": {
           "style": "light"
          },
          "paper_bgcolor": "white",
          "plot_bgcolor": "#E5ECF6",
          "polar": {
           "angularaxis": {
            "gridcolor": "white",
            "linecolor": "white",
            "ticks": ""
           },
           "bgcolor": "#E5ECF6",
           "radialaxis": {
            "gridcolor": "white",
            "linecolor": "white",
            "ticks": ""
           }
          },
          "scene": {
           "xaxis": {
            "backgroundcolor": "#E5ECF6",
            "gridcolor": "white",
            "gridwidth": 2,
            "linecolor": "white",
            "showbackground": true,
            "ticks": "",
            "zerolinecolor": "white"
           },
           "yaxis": {
            "backgroundcolor": "#E5ECF6",
            "gridcolor": "white",
            "gridwidth": 2,
            "linecolor": "white",
            "showbackground": true,
            "ticks": "",
            "zerolinecolor": "white"
           },
           "zaxis": {
            "backgroundcolor": "#E5ECF6",
            "gridcolor": "white",
            "gridwidth": 2,
            "linecolor": "white",
            "showbackground": true,
            "ticks": "",
            "zerolinecolor": "white"
           }
          },
          "shapedefaults": {
           "line": {
            "color": "#2a3f5f"
           }
          },
          "ternary": {
           "aaxis": {
            "gridcolor": "white",
            "linecolor": "white",
            "ticks": ""
           },
           "baxis": {
            "gridcolor": "white",
            "linecolor": "white",
            "ticks": ""
           },
           "bgcolor": "#E5ECF6",
           "caxis": {
            "gridcolor": "white",
            "linecolor": "white",
            "ticks": ""
           }
          },
          "title": {
           "x": 0.05
          },
          "xaxis": {
           "automargin": true,
           "gridcolor": "white",
           "linecolor": "white",
           "ticks": "",
           "title": {
            "standoff": 15
           },
           "zerolinecolor": "white",
           "zerolinewidth": 2
          },
          "yaxis": {
           "automargin": true,
           "gridcolor": "white",
           "linecolor": "white",
           "ticks": "",
           "title": {
            "standoff": 15
           },
           "zerolinecolor": "white",
           "zerolinewidth": 2
          }
         }
        },
        "title": {
         "text": "3D Chroma Vector Store Visualization"
        },
        "width": 900
       }
      },
      "image/png": "[encoded data removed]",
      "text/html": [
       "<div>                            <div id=\"6e775494-6bdd-4cf4-ab4f-18f0e647109b\" class=\"plotly-graph-div\" style=\"height:700px; width:900px;\"></div>            <script type=\"text/javascript\">                require([\"plotly\"], function(Plotly) {                    window.PLOTLYENV=window.PLOTLYENV || {};                                    if (document.getElementById(\"6e775494-6bdd-4cf4-ab4f-18f0e647109b\")) {                    Plotly.newPlot(                        \"6e775494-6bdd-4cf4-ab4f-18f0e647109b\",                        [{\"hoverinfo\":\"text\",\"marker\":{\"color\":[\"#d01f72\",\"#75195e\",\"#3678a7\",\"#5b3f83\",\"#74a788\",\"#571122\",\"#4099c1\",\"#659222\",\"#188ca3\",\"#6d4052\",\"#35303c\",\"#a9e927\",\"#29fa15\",\"#71c500\",\"#9b9d6e\",\"#cf7e83\",\"#badd6d\",\"#85fa26\",\"#22463b\",\"#ce865d\",\"#f59c06\",\"#011995\",\"#793548\",\"#ad8b14\",\"#d937bd\",\"#2b9f18\",\"#046e5c\",\"#75b5e3\",\"#c959de\",\"#72e048\",\"#8e8cab\",\"#20f2c3\",\"#64f999\",\"#e69670\",\"#6a0fce\",\"#d65c3a\",\"#7bee34\",\"#4f86b8\",\"#b43417\",\"#4dfb77\",\"#2ae342\",\"#c3e1f2\",\"#12897b\",\"#2b3af3\",\"#7ea8e9\",\"#6ad041\",\"#0bdacc\",\"#99fe53\",\"#4aaf9f\",\"#d156c8\",\"#505bd9\",\"#dc152c\",\"#b52bf6\",\"#9baca0\",\"#a03134\",\"#d43c00\",\"#5af098\",\"#2c168d\",\"#c6016b\",\"#f090af\",\"#482281\",\"#39821f\",\"#e0a8df\",\"#480c89\",\"#08808d\",\"#ac5faf\",\"#0faf59\",\"#79c82a\",\"#e6e164\",\"#0d2037\",\"#8afd40\",\"#2e1afc\",\"#3ec815\",\"#fbfef2\",\"#a63fa4\",\"#b27d2e\",\"#ca3592\",\"#b9fd23\",\"#ac9648\",\"#804ce2\",\"#9b5e28\",\"#a64739\",\"#c457d7\",\"#de30e4\",\"#1f6ab0\",\"#6ff3c5\",\"#6df6ca\",\"#ed694d\",\"#2fef1a\",\"#335dcf\",\"#845aa9\",\"#574e28\",\"#dc95ec\",\"#b2140a\",\"#15ae86\",\"#70d1d9\",\"#6f745a\",\"#b3dba5\",\"#108c41\",\"#268bba\",\"#913568\",\"#1a6fdf\",\"#422abb\",\"#cb725f\",\"#fe62a5\",\"#dfc6c7\",\"#b25d7b\",\"#bd53b1\",\"#796278\",\"#048452\",\"#c6eff5\",\"#d24e5d\",\"#fe8e92\",\"#22398f\",\"#3e5237\",\"#8069bc\",\"#7740be\",\"#cc8ec0\",\"#b280bb\",\"#91f4db\",\"#ac55ba\",\"#c97596\",\"#116019\",\"#43c2e8\",\"#2a2d25\",\"#fc2b74\",\"#ae7afe\",\"#92b4fa\",\"#dd8cd7\",\"#4862ce\",\"#af0f59\",\"#ad6bd0\",\"#3f0a72\",\"#e01073\",\"#144ada\",\"#5cb9ca\",\"#51d0da\",\"#d6d07a\",\"#b61e76\",\"#474ff9\",\"#68bece\",\"#d01b19\",\"#ee26df\",\"#2ebca4\",\"#539908\",\"#ec0a37\",\"#1a5613\",\"#da28db\",\"#246fa5\",\"#bbfe83\",\"#d54222\",\"#580c96\",\"#02cada\",\"#996ff1\",\"#e2a239\",\"#ae5204\",\"#4ce72d\",\"#2cde7f\",\"#b64eac\",\"#591ab9\",\"#a958c9\",\"#696eaa\",\"#4c4355\",\"#6a6c06\",\"#df5d2e\",\"#9780cf\",\"#682d42\",\"#efed10\",\"#1b312a\",\"#dbde1c\",\"#e1b5db\",\"#a95826\",\"#4e797a\",\"#10384a\",\"#9a5ba2\",\"#d34482\",\"#8a29da\",\"#fb9dce\",\"#ff2d6a\",\"#50f10d\",\"#f8d349\",\"#7b4427\",\"#11a70e\",\"#987252\",\"#c932c1\",\"#2d7f7d\",\"#c1e3c5\",\"#0c777d\",\"#0f8781\",\"#dd889c\",\"#799a24\",\"#4212f1\",\"#e6f378\",\"#805527\",\"#091a90\",\"#a9541c\",\"#fcdcad\",\"#01f59b\",\"#94a85d\",\"#426575\",\"#7f03bd\",\"#2dcfac\",\"#52b6df\",\"#73e76a\",\"#d70d97\",\"#601568\",\"#d4b1ce\",\"#7341ee\",\"#bb0ee6\",\"#f645e0\",\"#1c2c7e\",\"#7dd58b\",\"#4b9a93\",\"#9df332\",\"#612b32\",\"#b1c27d\",\"#3626a5\"],\"opacity\":0.8,\"size\":5},\"mode\":\"markers\",\"text\":[\"Video: 59506507\\u003cbr\\u003eText: Well, I realized that was a whole lot of theory, but I hope it gave you a good intuition that will\\nb...\",\"Video: 59671315\\u003cbr\\u003eText: Okay, so here we are, back in Jupyter Lab, ready for the next use of a frontier model, and see this\\n...\",\"Video: 60616895\\u003cbr\\u003eText: It feels like 100 videos ago that I told you that we were going to have instant gratification with o...\",\"Video: 60619275\\u003cbr\\u003eText: And we will conclude our expedition into the world of frontier models through their chat interface b...\",\"Video: 59472693\\u003cbr\\u003eText: Friends.\\nI am absolutely exhausted.\\nI am exhausted and a little tiny bit traumatized.\\nAnd you are so...\",\"Video: 59670121\\u003cbr\\u003eText: So it's business time right now.\\nWe are going to build a Rag pipeline to estimate the price of produ...\",\"Video: 59295619\\u003cbr\\u003eText: Welcome back to the the moment when we bring it all together into a beautiful user interface.\\nBut fi...\",\"Video: 60617163\\u003cbr\\u003eText: And already that wraps up day two.\\nNow that you have built that solution.\\nAnd congratulations on tha...\",\"Video: 60616423\\u003cbr\\u003eText: So I hope you've just enjoyed yourself experimenting with different LMS locally on your box using th...\",\"Video: 59170227\\u003cbr\\u003eText: Welcome back to Google Colab.\\nHere we are ready to explore the wonderful world of Tokenizers.\\nSo, uh...\",\"Video: 59169985\\u003cbr\\u003eText: So I hope you enjoyed that whirlwind tour of Google Colab.\\nHere's just a little screenshot example o...\",\"Video: 60616927\\u003cbr\\u003eText: It's time for our first LM experiment at this point.\\nSo some of this you may know well, you may know...\",\"Video: 59673721\\u003cbr\\u003eText: And here we are in JupyterLab for the last time, and we are looking here at day five, the last day\\no...\",\"Video: 59508055\\u003cbr\\u003eText: I'm so very happy that you've reached this epic moment in the course and that you're hanging in ther...\",\"Video: 59670259\\u003cbr\\u003eText: It's remarkable.\\nBut you are now at the 95% point.\\nThere's 5% remaining of this course.\\nUh, maybe it...\",\"Video: 60616623\\u003cbr\\u003eText: So we're now going to start week one of the course when we are going to be looking at exploring fron...\",\"Video: 59472383\\u003cbr\\u003eText: And welcome back to the week six folder.\\nWe're now at day two, which is the second and final stage o...\",\"Video: 59670171\\u003cbr\\u003eText: So as the very final step on this part four of day two of week eight, we are now going to build an\\ne...\",\"Video: 59297721\\u003cbr\\u003eText: And so now the time has come to talk about the most crucial aspect of Rag, which is the idea of vect...\",\"Video: 59297599\\u003cbr\\u003eText: Well, that was a sneaky detour I took you on in the last one.\\nI hope you enjoyed it though, and I ho...\",\"Video: 59507635\\u003cbr\\u003eText: Look, I hope you're excited.\\nYou really should be.\\nYou've been through 80% of the course and it's al...\",\"Video: 59669375\\u003cbr\\u003eText: Here we are for the day.\\n2.1 notebook.\\nAnd don't let it be said that I don't ever do anything for yo...\",\"Video: 59297733\\u003cbr\\u003eText: Welcome back to JupyterLab and welcome to your first experiment with the world of Long Chain.\\nLet me...\",\"Video: 59670369\\u003cbr\\u003eText: It is terrific that you're hanging on in there and making such great progress with this course.\\nAs w...\",\"Video: 59166281\\u003cbr\\u003eText: And with that, amazingly, you completed day one of week two already and that gets you to the 15% poi...\",\"Video: 59671567\\u003cbr\\u003eText: Well, the first thing you're going to notice is that I don't have a notebook open for you.\\nAnd that'...\",\"Video: 59297593\\u003cbr\\u003eText: And welcome to continuing our journey with Hrag.\\nAnd today it's time to unveil Liang Chen.\\nSo first,...\",\"Video: 59166461\\u003cbr\\u003eText: And welcome back to the lab.\\nHere we are in Jupyter Lab and we are going to go into week two.\\nAnd we...\",\"Video: 59167007\\u003cbr\\u003eText: Well, how fabulous is that?\\nI hope that you are as wowed as I am by our new airline, I assistant and...\",\"Video: 59508121\\u003cbr\\u003eText: The moment has arrived.\\nHere we go.\\nWe're in fine tuning.\\nWe do fine tuning.\\nTrain.\\nThere is also a ...\",\"Video: 59295579\\u003cbr\\u003eText: All right.\\nAre you excited to see how this goes?\\nLet's give it a try.\\nSo in this next section, I cre...\",\"Video: 60620375\\u003cbr\\u003eText: And with that, we've reached an important milestone.\\nThe first week of our eight week journey is com...\",\"Video: 59472491\\u003cbr\\u003eText: Welcome back.\\nIf you are following along with me in JupyterLab, as I hope you are, then you will nee...\",\"Video: 59472425\\u003cbr\\u003eText: Welcome to week six, day three.\\nToday is going to be a day that you will either love or you will hat...\",\"Video: 59508057\\u003cbr\\u003eText: Actually slight change in plan.\\nI'm going to wrap up the day.\\nDay three at this point, and say that ...\",\"Video: 60619577\\u003cbr\\u003eText: And for the final piece of background information, I wanted to take another moment to talk about API...\",\"Video: 59170291\\u003cbr\\u003eText: Welcome back to Colab and welcome back to our business project.\\nSo again our assignment, we are due ...\",\"Video: 60619651\\u003cbr\\u003eText: I mentioned before an AI company called vellum.\\nWhen we were talking about the different questions, ...\",\"Video: 59473191\\u003cbr\\u003eText: And you thought we'd never get here.\\nHere we are in Jupyter Lab, running our fine tuning for a front...\",\"Video: 59170297\\u003cbr\\u003eText: And here we are in Google Colab, ready for fun with models.\\nSo first we do the usual Pip installs an...\",\"Video: 59167015\\u003cbr\\u003eText: Welcome back to Jupyter Lab and welcome to Day Five's Lab.\\nAnd this is going to be lots of creativit...\",\"Video: 59170043\\u003cbr\\u003eText: Let me enthusiastically welcome you all back to week three of our LLM engineering journey.\\nIf you en...\",\"Video: 59473147\\u003cbr\\u003eText: Well, I'm very relieved.\\nI've got that behind me.\\nNo more human testing for me.\\nWe'll have one final...\",\"Video: 59166453\\u003cbr\\u003eText: Welcome back and welcome to our continuing JupyterLab experience.\\nUh, I'm hopefully going to keep yo...\",\"Video: 59166915\\u003cbr\\u003eText: Welcome back to the wonderful world of JupyterLab.\\nAnd here we are in week two.\\nDay three.\\nUh, bring...\",\"Video: 59667365\\u003cbr\\u003eText: Here we are back in Colab, looking at the week seven, day five of the Colab notebooks and I'm on a\\nT...\",\"Video: 60616845\\u003cbr\\u003eText: We're on the home stretch.\\nThis is the final step in the environment setup, and it's an easy one.\\nIt...\",\"Video: 59295459\\u003cbr\\u003eText: And welcome back to More Leaderboard Fest as we go through some more leaderboards.\\nBut this time we'...\",\"Video: 59471979\\u003cbr\\u003eText: So we now turn to the parts of the problem, which is perhaps, let's say, not as glamorous as some\\nof...\",\"Video: 59503705\\u003cbr\\u003eText: And so now we talk about quantization the q and q Laura.\\nQ stands for quantized quantized.\\nLaura.\\nAn...\",\"Video: 59472505\\u003cbr\\u003eText: So the good news is that this is the very final video about data set curation.\\nYou were probably fed...\",\"Video: 59669217\\u003cbr\\u003eText: And welcome to the next part of visualizing the data.\\nAnd just very quickly to show it to you in 3D....\",\"Video: 59671221\\u003cbr\\u003eText: I gotta tell you, I don't like to toot my horn a whole lot, but I do think that I've done a great\\njo...\",\"Video: 59503703\\u003cbr\\u003eText: Well.\\nHello there everybody.\\nI am so grateful that you've made it through to the start of week seven...\",\"Video: 59473201\\u003cbr\\u003eText: Well, before we do a postmortem on what happened, let's just quickly look at the standing the rankin...\",\"Video: 60622463\\u003cbr\\u003eText: In this video, we're going to set up a full data science environment for Mac users.\\nIn the next vide...\",\"Video: 60619299\\u003cbr\\u003eText: Well, I hope you found that both educational and enjoyable.\\nAs we went through and learned so much a...\",\"Video: 59295607\\u003cbr\\u003eText: So to revisit then the solution that we built in the previous day and talk about the metrics.\\nAs I s...\",\"Video: 59297575\\u003cbr\\u003eText: Well, welcome to the final part on rag.\\nAnd this is the session where you go from being a rag expert...\",\"Video: 59507687\\u003cbr\\u003eText: It's time for action, everybody.\\nWe've set up our colab.\\nHere we are, week seven, day three.\\nWe've g...\",\"Video: 59671441\\u003cbr\\u003eText: And welcome once more to our favorite place to be Jupyter Lab, the Paradise for a data scientist exp...\",\"Video: 59673431\\u003cbr\\u003eText: And here we have it.\\nThe user interface is completed.\\nThe extra notification came through on my phon...\",\"Video: 59473137\\u003cbr\\u003eText: Let's get straight to it.\\nSo the place where you can see everything that's going on and get knee dee...\",\"Video: 59166421\\u003cbr\\u003eText: Welcome back to the radio day in the lab.\\nMore to do.\\nLet's keep going.\\nWhere we left off is we had ...\",\"Video: 59295599\\u003cbr\\u003eText: Welcome to the Jupyter Lab for day four.\\nIt's going to look very familiar because it's actually I've...\",\"Video: 59669631\\u003cbr\\u003eText: Here we are in our favorite place to be in JupyterLab, ready for some coding and a lot of coding tha...\",\"Video: 59673663\\u003cbr\\u003eText: But wait, there's more.\\nWe need to add some more to the user interface just to make it look more coo...\",\"Video: 59506929\\u003cbr\\u003eText: And we return to the hugging face open LLM leaderboard.\\nThe first place you go when selecting your b...\",\"Video: 59504785\\u003cbr\\u003eText: So at this point we're going to talk about hyperparameters.\\nAnd we're going to introduce three of th...\",\"Video: 59505337\\u003cbr\\u003eText: So we're now going to look at four bit quantization, the rather remarkable effect of reducing the pr...\",\"Video: 59271655\\u003cbr\\u003eText: So here we are on Hugging Face's main landing page at Hugging Face Core.\\nA URL you know.\\nWell, since...\",\"Video: 59472883\\u003cbr\\u003eText: Okay, time to reveal the results.\\nIt has run to completion.\\nAnd here it is.\\nSo a moment to pause.\\nIt...\",\"Video: 59673639\\u003cbr\\u003eText: And welcome now to the code for our user interface, which we will find in this Python module.\\nPrice ...\",\"Video: 59472463\\u003cbr\\u003eText: So last time we looked at a humble linear regression model with feature engineering, and now we say\\n...\",\"Video: 59297595\\u003cbr\\u003eText: So by the time you're watching this, hopefully you have played yourself with vectors.\\nYou've created...\",\"Video: 60619149\\u003cbr\\u003eText: So we're going to start our exploration into the world of frontier models by playing with the famous...\",\"Video: 59297735\\u003cbr\\u003eText: And at last the time has come to see rag in action.\\nAfter all of this talk, and here we are.\\nWe're i...\",\"Video: 60616407\\u003cbr\\u003eText: And now over to my Mac people.\\nAnd I have news for you.\\nIt's exactly the same thing.\\nYou go to a fav...\",\"Video: 59170235\\u003cbr\\u003eText: So here we are in Google Colab for our first collaborative session on the cloud using a GPU box.\\nOn ...\",\"Video: 59472067\\u003cbr\\u003eText: So we've covered steps 1 to 4 of the five step strategy.\\nAnd that brings us to step five, which is p...\",\"Video: 59472011\\u003cbr\\u003eText: Welcome everybody.\\nSo in the past I've said quite a few times, I am excited to start this this week ...\",\"Video: 59295553\\u003cbr\\u003eText: Welcome back.\\nIn the last part, we gave our GPT four and clawed the challenge of converting a simple...\",\"Video: 59297773\\u003cbr\\u003eText: Well, I hope you're eager with anticipation for this session in JupyterLab as we finally get to see\\n...\",\"Video: 59295583\\u003cbr\\u003eText: And here we are back in JupyterLab.\\nIt's been a minute.\\nWe've been working in Colab for last week, a...\",\"Video: 59507329\\u003cbr\\u003eText: Okay.\\nIt's moment of truth time.\\nI have just taken our class tester.\\nYou remember this class?\\nUh, it...\",\"Video: 59295429\\u003cbr\\u003eText: Continuing our investigation of benchmarks, and this will become more real when we actually see some...\",\"Video: 60595637\\u003cbr\\u003eText: Here we are back in the Colab, which has been running overnight for me and probably for you too, I\\nh...\",\"Video: 59668027\\u003cbr\\u003eText: And so here we are at the home page for modal.\\nAt modal.com spelt model not not model which is confu...\",\"Video: 59295527\\u003cbr\\u003eText: I'm so happy to welcome you to week four, day four on our journey to LLM Engineering and Mastery.\\nHe...\",\"Video: 59295377\\u003cbr\\u003eText: Just before we go on to some of the more advanced metrics, I want to mention for a second something\\n...\",\"Video: 59666211\\u003cbr\\u003eText: So before we try our new model and one more recap on the models so far and keep notes of this so we\\n...\",\"Video: 59170107\\u003cbr\\u003eText: And once again, it's that moment when you take a pause and congratulate yourself on another day of\\ns...\",\"Video: 60616833\\u003cbr\\u003eText: So I realized that day one of week one has been a pretty long day, and I assure you that the other,\\n...\",\"Video: 59472413\\u003cbr\\u003eText: Wonderful.\\nWhere we left off is we had just created the Get Features function, which builds our feat...\",\"Video: 59297561\\u003cbr\\u003eText: And would you believe at this point you're 55% of the way along the journey?\\nUh, it's been a while s...\",\"Video: 59669211\\u003cbr\\u003eText: Well, we took on a lot today and we seem to have been successful.\\nThese red icons that you see on th...\",\"Video: 59166981\\u003cbr\\u003eText: Welcome to week two, day five.\\nThe last day of week two where a lot is coming together.\\nI am so grat...\",\"Video: 60619227\\u003cbr\\u003eText: And now let's move to Claude from anthropic, my favorite model and typically the favorite model of\\nm...\",\"Video: 60620395\\u003cbr\\u003eText: Welcome back to Jupyter Lab, where I want to show you the assignment, the homework exercise for you\\n...\",\"Video: 59665127\\u003cbr\\u003eText: Well hi there everybody.\\nI'm not going to give you my usual song and dance about how excited you are...\",\"Video: 59668923\\u003cbr\\u003eText: Well, welcome back to Jupyter Lab for what will be an epic finale to our time in this platform.\\nAnd ...\",\"Video: 59504887\\u003cbr\\u003eText: Well, here we are again in Google Colab.\\nIt's been a minute since we were here, and welcome back to ...\",\"Video: 59170165\\u003cbr\\u003eText: Welcome, everybody to the last day of week three.\\nWeek three.\\nDay five.\\nWe're here already wrapping ...\",\"Video: 60617251\\u003cbr\\u003eText: Congratulations are definitely in order.\\nYesterday was a mammoth first day on this course and you go...\",\"Video: 59166951\\u003cbr\\u003eText: All right, back to the lab.\\nBack to our project.\\nTime to work with tools.\\nI am in the week two folde...\",\"Video: 60619619\\u003cbr\\u003eText: Well, day four was an information dense day.\\nI do hope that you learned some something useful here, ...\",\"Video: 60616663\\u003cbr\\u003eText: Well.\\nHi there, this is time for PC people to get set up.\\nSo all you Mac people out there, you don't...\",\"Video: 59508175\\u003cbr\\u003eText: So I'm taking a moment now to explain that the training costs of optimizing a model for this course\\n...\",\"Video: 59670087\\u003cbr\\u003eText: And welcome to part four of day two of week eight.\\nUh, there's a lot happening this week, and I have...\",\"Video: 59506713\\u003cbr\\u003eText: Hi everyone.\\nSo the reason I'm so fired up about week seven is that this is the time when we actuall...\",\"Video: 60620169\\u003cbr\\u003eText: Hopefully you found this super satisfying to be able to have this nice business result and have it c...\",\"Video: 59295435\\u003cbr\\u003eText: Well, just before we wrap up, let me introduce this week's challenge and talk about what we're going...\",\"Video: 59297609\\u003cbr\\u003eText: Last week, we worked with models that were able to speed up code by a factor of 60,000 times, which\\n...\",\"Video: 59507489\\u003cbr\\u003eText: Continuing our adventure through hyperparameters for training.\\nThe next one is pretty crucial and it...\",\"Video: 59295549\\u003cbr\\u003eText: And welcome back to our challenge again.\\nAnd this time we are working with our beautiful prototype.\\n...\",\"Video: 59665129\\u003cbr\\u003eText: And now let me make this real for you by showing you some, some diagrams, particularly now looking\\na...\",\"Video: 59169991\\u003cbr\\u003eText: Okay, so that was your introduction to Hugging Face.\\nAnd now I'm going to turn to a different resour...\",\"Video: 59472027\\u003cbr\\u003eText: And now the time has come to curate our data set.\\nAnd the way we're going to do this is we're going ...\",\"Video: 59472307\\u003cbr\\u003eText: Welcome to week six.\\nDay two a day.\\nWhen we get back into the data, we look back in anger at our dat...\",\"Video: 59508289\\u003cbr\\u003eText: So here we are now, back in the Colab, in the same one that we kicked off in the previous day.\\nIt's ...\",\"Video: 59472333\\u003cbr\\u003eText: Thank you for putting up with me during my foray into traditional machine learning.\\nI think it was u...\",\"Video: 59295431\\u003cbr\\u003eText: Now I want to take a quick moment to give you a flyby of five different ways that llms are used comm...\",\"Video: 59673449\\u003cbr\\u003eText: Well, I have to tell you that I'm a little bit sad.\\nThis is the beginning of the beginning of the en...\",\"Video: 59669389\\u003cbr\\u003eText: Well.\\nHi there.\\nSo you've made it to day two of week eight, and I am super grateful that you've been...\",\"Video: 59170057\\u003cbr\\u003eText: And so at the beginning of this week, we started by talking about hugging face pipelines.\\nAnd you us...\",\"Video: 59166949\\u003cbr\\u003eText: Welcome back to making chatbots.\\nLet's keep going.\\nSo for the next part we're going to beef up the s...\",\"Video: 59473019\\u003cbr\\u003eText: Welcome back to an action packed time of of training.\\nSo now, after waiting about five minutes when ...\",\"Video: 59297585\\u003cbr\\u003eText: Before we move on, let me show you one more time this fabulous slide that describes the simple three...\",\"Video: 59170255\\u003cbr\\u003eText: And welcome back to us continuing our journey through the model class in Hugging Face Transformers l...\",\"Video: 60614589\\u003cbr\\u003eText: So we're now going to run a large language model directly on your box using a platform called llama,...\",\"Video: 59297601\\u003cbr\\u003eText: I'm not going to lie, at this point you have every reason to be impatient with me.\\nWe've been yammer...\",\"Video: 60616629\\u003cbr\\u003eText: And welcome back to team PC and Team Mac as we come back together again for a quick video.\\nIn this o...\",\"Video: 59297749\\u003cbr\\u003eText: It's always welcome back to JupyterLab, my favorite place to be.\\nAnd now we are, of course in the we...\",\"Video: 59170135\\u003cbr\\u003eText: Welcome.\\nIt's week three.\\nIt's day four.\\nWe are back on the adventure in open source land, back inve...\",\"Video: 59472017\\u003cbr\\u003eText: And this is the first time that we'll be coding against our big project of the course.\\nWelcome to Ju...\",\"Video: 59507017\\u003cbr\\u003eText: Welcome to Colab.\\nWelcome to the week seven day two Colab.\\nAnd just before we try our base model, we...\",\"Video: 60619883\\u003cbr\\u003eText: And now we've arrived at an exciting moment in our first week.\\nThe conclusion of the first week is w...\",\"Video: 59508297\\u003cbr\\u003eText: What more is there to say, really?\\nTomorrow is the day for results.\\nA day that very excited indeed a...\",\"Video: 60619247\\u003cbr\\u003eText: We're going to spend a little bit more time with GPT just to try out a few more interesting things.\\n...\",\"Video: 59504769\\u003cbr\\u003eText: Without further ado, we're going to get stuck into it.\\nTalking about Laura.\\nLow rank adaptation.\\nAnd...\",\"Video: 59170233\\u003cbr\\u003eText: Welcome back to our continued exploits with Tokenizers.\\nWhat we're now going to look at is what's ca...\",\"Video: 59671231\\u003cbr\\u003eText: And here we are back in the Jupyter Lab for the fast approaching conclusion with a really great proj...\",\"Video: 60620397\\u003cbr\\u003eText: Well, that's a fantastic result to have now arrived towards the end of week one and having completed...\",\"Video: 59170093\\u003cbr\\u003eText: I'm delighted to see you again.\\nAs we get started with day three of week three of our adventure and ...\",\"Video: 59473089\\u003cbr\\u003eText: Welcome back.\\nSo hopefully you are still impressed by the GPT four mini results.\\nThe frontier model ...\",\"Video: 60395261\\u003cbr\\u003eText: Let's keep going with our project to equip our LM with a tool.\\nWe just created this piece of code to...\",\"Video: 60617259\\u003cbr\\u003eText: I'm excited to introduce you to your first exercise, and I'm looking forward to seeing what you make...\",\"Video: 59507313\\u003cbr\\u003eText: And it's this time again, when we look at the podium of how our models are performing across the boa...\",\"Video: 60619721\\u003cbr\\u003eText: Now it's time to talk for a minute about tokens.\\nTokens are the individual units which get passed in...\",\"Video: 59295451\\u003cbr\\u003eText: I know that everybody.\\nIt seems like just the other day that we were embarking on our quest together...\",\"Video: 59166919\\u003cbr\\u003eText: And with that, it concludes our session on tools.\\nAnd at this point, you are probably an expert on t...\",\"Video: 59295441\\u003cbr\\u003eText: Okay, so welcome to our leaderboard fast as we go through a ton of essential leaderboards for your\\nc...\",\"Video: 59295541\\u003cbr\\u003eText: And welcome back.\\nYou've just seen GPT four zero spectacularly failed to work on our hard Python con...\",\"Video: 59473101\\u003cbr\\u003eText: Welcome back.\\nSo about ten minutes later, maybe 15 minutes later, the run has completed.\\nAnd how do ...\",\"Video: 59507423\\u003cbr\\u003eText: So you may remember eons ago when we were building our data set.\\nAt the end of that, we uploaded our...\",\"Video: 59295545\\u003cbr\\u003eText: I really hope you've enjoyed this week.\\nWe've got tons done.\\nWe've experimented with all sorts of ne...\",\"Video: 59472503\\u003cbr\\u003eText: Welcome back to Jupyter Lab.\\nLast time, we looked at some silly models for predicting the price of p...\",\"Video: 60614591\\u003cbr\\u003eText: The mantra of this course is that the best way to learn is by doing, and we will be doing stuff toge...\",\"Video: 59473021\\u003cbr\\u003eText: Welcome to our favorite place to be to JupyterLab.\\nHere we are again now in day three.\\nIn week six.\\n...\",\"Video: 60617255\\u003cbr\\u003eText: I'm now going to talk for a bit about models.\\nA term you often hear is the term frontier models, whi...\",\"Video: 59667829\\u003cbr\\u003eText: Well.\\nHello there.\\nLook, I know what you're thinking.\\nYou're thinking I peaked too early.\\nLast week ...\",\"Video: 59505329\\u003cbr\\u003eText: Welcome back.\\nYou may, like me, have just gone off and got a coffee while things loaded back up agai...\",\"Video: 59669049\\u003cbr\\u003eText: So what you just saw was an ephemeral app, as it's called, which means just a temporary app that you...\",\"Video: 60619439\\u003cbr\\u003eText: This now brings us to an extremely important property of LMS called the context window that I want t...\",\"Video: 59668181\\u003cbr\\u003eText: And so it gives me great pleasure to introduce to you the project that I've lined up for you this we...\",\"Video: 59472441\\u003cbr\\u003eText: Welcome back.\\nSo we've been doing the thoroughly distasteful, unsavory work of feature engineering.\\n...\",\"Video: 59507785\\u003cbr\\u003eText: Well, I'm sure you're fed up of me saying that the moment of truth has arrived, but it really has.\\nT...\",\"Video: 59295587\\u003cbr\\u003eText: When I left you, we had just created this simple user interface for converting from Python to C plus...\",\"Video: 59166465\\u003cbr\\u003eText: Welcome back to the JupyterLab on Gradio day, so you'll remember where we left off.\\nWe'd written two...\",\"Video: 59473071\\u003cbr\\u003eText: Hey, gang.\\nLook, I know what you're thinking.\\nThis week was supposed to be training week.\\nI set it a...\",\"Video: 59295423\\u003cbr\\u003eText: Welcome to day two of week four, when we get more into leaderboards so that by the end of this, you'...\",\"Video: 59297723\\u003cbr\\u003eText: So I know what you're thinking.\\nYou're thinking, what's going on here?\\nWe're on day five.\\nWe're on d...\",\"Video: 59166947\\u003cbr\\u003eText: Well, thank you for coming along for week two, day four.\\nWe have lots of good stuff in store today.\\n...\",\"Video: 59666831\\u003cbr\\u003eText: Take one more moment to look at this very nice diagram that lays it all out, and we will move on.\\nNo...\",\"Video: 59295493\\u003cbr\\u003eText: And welcome to week four, day three.\\nAs we are about to embark upon another business project which w...\",\"Video: 60616855\\u003cbr\\u003eText: Now I know what you're thinking.\\nWe've been building environments for so long.\\nAre we not done yet?\\n...\",\"Video: 59506611\\u003cbr\\u003eText: So in a future day, I'm going to be training, fine tuning a model and creating a fine tuned model.\\nA...\",\"Video: 60616493\\u003cbr\\u003eText: I'll just take a quick moment to introduce myself to convince you that I am actually qualified to be...\",\"Video: 59166317\\u003cbr\\u003eText: And welcome to week two, day two, as we continue our adventure into the realm of LMS.\\nUh, so today, ...\",\"Video: 59295439\\u003cbr\\u003eText: So I'm aware that there's a big risk that you are getting fed up of leaderboards, because we've done...\",\"Video: 59472421\\u003cbr\\u003eText: And welcome back to our final time in Jupyter Lab with traditional machine learning.\\nIt's almost ove...\",\"Video: 59472137\\u003cbr\\u003eText: Well, well, well, it's been a long day, but congratulations, you've made it.\\nWe've gone through and ...\",\"Video: 59297693\\u003cbr\\u003eText: So at the end of each week, it's customary for me to give you a challenge, an assignment to do on\\nyo...\",\"Video: 60620143\\u003cbr\\u003eText: So we're going to make a call to GPT four.\\nOh, that's going to ask it to look through a set of links...\",\"Video: 60619501\\u003cbr\\u003eText: I welcome to day four of our time together.\\nThis is a very important day.\\nToday we're going to be lo...\",\"Video: 59297743\\u003cbr\\u003eText: And welcome to day five.\\nFor reals.\\nWe're actually in the proper Jupyter notebook.\\nThis time we're i...\",\"Video: 59166847\\u003cbr\\u003eText: Well, they say that time flies when you're having fun, and it certainly feels like time is flying.\\nU...\",\"Video: 59170223\\u003cbr\\u003eText: Well.\\nFantastic.\\nIt's coming up to the end of the week, and that means it's coming up to a challenge...\",\"Video: 59170037\\u003cbr\\u003eText: So how does it feel to be 30% of the way down the journey to being a proficient LLM engineer?\\nTake a...\",\"Video: 59295609\\u003cbr\\u003eText: You must be feeling absolutely exhausted at this point.\\nAnd if you are, that is okay.\\nYou have done ...\",\"Video: 60619281\\u003cbr\\u003eText: Well, I'm delighted to welcome you to day three of our eight week journey together.\\nAnd today we're ...\",\"Video: 59472429\\u003cbr\\u003eText: And continuing on our strategy to solve commercial problems with LMS, we get to step four, which is\\n...\",\"Video: 59167009\\u003cbr\\u003eText: Welcome back.\\nIt's time to make our full agent framework.\\nI'm super excited about this.\\nIt's pulling...\",\"Video: 59166481\\u003cbr\\u003eText: And here, once more we find ourselves in our favorite place, the Jupyter Lab.\\nReady to go with weeks...\",\"Video: 59670933\\u003cbr\\u003eText: I realized my enthusiasm for this project is a bit insane, but I have to tell you that I am very sat...\",\"Video: 59670073\\u003cbr\\u003eText: Okay, it's time to complete the Rag workflow in our Jupyter Lab on day 2.3.\\nWe've got this function ...\",\"Video: 59673595\\u003cbr\\u003eText: That concludes a mammoth project.\\nThree weeks in the making.\\nIn the course of those three weeks, sta...\",\"Video: 59297603\\u003cbr\\u003eText: And I'm delighted to welcome you back to LM engineering on the day that we turn to vectors.\\nFinally,...\",\"Video: 60614541\\u003cbr\\u003eText: I am delighted to welcome you to the first day of our eight weeks together as you join me on this ad...\",\"Video: 59667357\\u003cbr\\u003eText: Let's now see our results side by side.\\nWe started our journey with a constant model that was at $1....\",\"Video: 59667841\\u003cbr\\u003eText: Now, look, I know that I went through that very fast, but maybe, uh, you're still, uh, blinking\\nat t...\",\"Video: 59472007\\u003cbr\\u003eText: So I hope you enjoyed our first bash at Scrubbing Data, and that you are now looking through the cod...\",\"Video: 59507435\\u003cbr\\u003eText: So I'm now going to talk about five important hyperparameters for the training process.\\nAnd some of ...\",\"Video: 59509185\\u003cbr\\u003eText: So this is where I left you looking at this satisfying chart on training loss and seeing the trainin...\",\"Video: 59473159\\u003cbr\\u003eText: Welcome to Jupyter Lab and welcome to our experiments at the frontier.\\nSo we are going to put our fr...\",\"Video: 60619447\\u003cbr\\u003eText: I want to take a moment to talk about something that's very fundamental to an LLM, which is the numb...\",\"Video: 59166353\\u003cbr\\u003eText: Well, congratulations on leveling up yet again.\\nYou've got some real hard skills that you've added t...\",\"Video: 60619123\\u003cbr\\u003eText: So what we're now going to do is we're going to look at some models in practice and start to compare...\",\"Video: 59295363\\u003cbr\\u003eText: Well, another congratulations moment.\\nYou have 40% on the way to being an LM engineer at a high leve...\",\"Video: 60619289\\u003cbr\\u003eText: And now we'll go a bit faster through the other models.\\nWe'll start with Google's Gemini.\\nI have the...\",\"Video: 59472873\\u003cbr\\u003eText: So it's quite an adventure that we had at the frontier of what's capable with Llms today, solving a\\n...\",\"Video: 60619429\\u003cbr\\u003eText: Let me talk about some other phenomena that have happened over the last few years.\\nOne of them has b...\",\"Video: 59295601\\u003cbr\\u003eText: So it's time to continue our journey into the world of open source and understand which models we sh...\",\"Video: 59170025\\u003cbr\\u003eText: And a massive welcome back one more time to LM engineering.\\nWe are in week three, day two and we are...\",\"Video: 59166443\\u003cbr\\u003eText: And welcome back everybody.\\nWelcome to week two day three.\\nIt's a continuation of our enjoyment of r...\",\"Video: 60620025\\u003cbr\\u003eText: And welcome back to Jupyter Lab, one of my very favorite places to be.\\nWhen Jupyter Lab sprung up on...\",\"Video: 59170055\\u003cbr\\u003eText: Welcome to the world of Google Colab.\\nYou may already be very familiar with Google Colab, even if so...\"],\"x\":[-8.122976,34.908234,11.130736,-9.978768,20.378115,40.165966,-46.047855,-3.5225513,-41.603718,-29.750912,-16.69231,-11.540651,-48.240433,26.591553,-33.749554,12.921923,63.537235,22.33331,39.7503,-4.0843143,19.89367,53.601818,9.313611,-15.544816,-27.25799,-40.441216,7.4084144,-44.058147,-34.108322,35.800552,-75.9669,-17.08466,67.46077,30.020157,26.199474,-32.092762,-59.50946,-31.125465,17.727507,-1.9556097,-33.15905,-35.514206,49.95782,-31.869379,-22.008738,33.544445,-2.50848,-30.35998,56.3363,1.8218645,54.121468,50.3909,-38.989643,3.3299105,42.596157,11.633402,-9.411688,-19.470694,8.411452,11.9569235,29.455364,-30.15862,45.700237,-56.659325,-46.378384,38.17704,-39.15447,-23.810238,18.694654,2.2662356,-33.611332,46.75266,-50.577423,42.481358,29.093426,-24.221292,16.573559,11.913546,-14.086581,36.418083,14.4376545,-71.27086,21.494228,-40.991734,37.30921,-28.095816,38.05271,-18.56597,-44.791924,-13.7468815,28.898296,-36.335644,-2.9895551,65.62672,22.887362,-21.60234,-19.166574,2.6002665,6.9061046,21.161528,1.7614158,6.4912224,-49.481483,2.3821418,-19.138437,-11.099696,2.0873141,66.853096,27.287766,9.592437,-25.921122,-56.57392,23.216122,26.908329,-64.204666,10.844664,-6.4146757,51.051907,36.656914,33.13656,46.039726,-38.186977,-20.540487,8.277669,-38.28821,-7.520119,52.012684,23.770021,-12.45263,7.2831774,14.093998,2.9064524,14.353067,-44.2576,54.878136,-29.27205,0.48731115,6.6884475,-32.002,2.7302628,-41.821613,-35.146507,-7.324495,-36.21966,58.4483,-21.80948,0.6451577,29.801828,6.4110775,-17.06338,-17.830246,-34.42378,-63.04847,55.62894,36.156605,-49.79336,59.208763,-0.80916214,42.169895,-11.784577,-4.374742,3.4122179,-12.354422,-20.188608,3.917022,69.92149,21.692152,-62.446087,-45.395638,16.804968,-31.221453,32.466534,-26.018362,11.981998,-57.391186,-24.381496,4.2317467,21.573854,-42.14884,-39.03866,50.671337,44.122208,4.3523436,-17.679241,2.4215934,23.360334,-35.800457,-9.750219,-25.919231,-6.5914946,-7.792405,28.21505,-41.201225,45.70155,-11.035862,35.946297,-11.847502,32.496883,13.333166,41.13373,-8.510606,50.68757,37.495113,41.12895,39.27697,-2.0569484,-25.762125,-14.475436,-24.457497,-18.797113,33.985275,-52.042458,-37.08094,-26.450697,-24.56304,17.96638,1.2891247],\"y\":[22.495209,7.7246327,24.009363,58.233845,-20.684736,-45.860653,19.024555,-23.34507,4.077665,-9.023953,-33.54387,13.529735,-20.47289,-18.097763,-52.109207,20.917074,6.882738,-27.837515,-73.38036,-59.17266,30.898888,-48.80887,-62.344166,-65.681435,-18.074602,-35.760197,-64.24934,-8.450979,-32.271553,16.685429,24.04524,-18.558027,-6.361417,-20.432753,-7.4502926,46.95327,-24.022396,43.53084,-2.2562957,-4.3477573,2.0038416,-8.453099,7.296199,15.414882,3.5748003,-9.886501,52.628384,41.841442,26.300909,27.636545,-10.974157,-52.99635,-46.490845,-17.097885,7.991843,42.728287,56.11593,25.378807,-63.396446,-10.103928,10.261616,-31.910042,-10.533649,0.86511475,7.581515,-38.008648,-21.695356,20.21065,41.538765,15.004162,2.7370741,23.941662,-23.825634,-29.004723,-63.43282,61.37925,-47.60969,51.35244,-21.343243,45.543747,5.428183,24.95672,-65.141624,20.076067,21.163311,43.15092,0.7405279,5.9581037,15.877678,42.451416,10.054633,-27.470036,6.871376,-26.58876,-74.47105,-54.44899,-36.45757,65.086754,10.824065,29.205353,0.1051746,4.70403,-20.799795,21.76516,7.780378,-8.377405,38.573914,4.597273,-28.45224,13.7212,6.9242682,6.1574836,-38.563107,39.609455,25.59941,31.040857,-35.56833,-2.9297552,32.898632,12.454539,-7.2873325,61.07097,-42.95049,-25.684706,-33.060715,-3.51661,11.432408,-57.957485,-8.321207,42.622173,-51.096336,36.391785,-42.812637,-16.89856,1.257138,3.1051168,2.437643,-11.519589,74.24569,32.010456,-16.717613,-51.03449,-4.0209484,-19.666466,7.805317,12.423793,25.94904,0.67196953,57.910053,41.923744,-34.208702,39.797775,36.71461,12.872997,-11.363612,24.884459,-18.462435,-55.471058,-15.552036,41.96635,-30.533445,-0.34056988,-1.1686171,31.996092,-25.59134,-16.72122,2.3426278,11.931674,4.3598084,-4.1114182,50.8286,-55.08115,1.6512612,41.550625,6.6282744,46.497314,18.768253,42.851322,-15.206347,44.767014,-19.802797,27.249903,-50.63222,18.110355,54.369324,-57.773426,-15.498092,-19.211893,-18.757973,29.953873,54.00189,-28.973417,-37.20934,-28.751331,-33.398895,-45.811794,-33.892204,-72.404495,34.78276,-6.6268015,11.053642,29.57501,33.051342,8.585847,-0.19063602,51.39862,-19.615374,69.09646,60.87389,72.40716,-0.828027,-53.986324,25.217634,-19.691027,-9.348319,13.64766,-30.232576],\"z\":[59.56954,-20.305794,-45.233562,-16.850801,4.6954994,-25.423595,-8.237618,12.466315,65.523895,47.91345,35.15053,-39.112038,-38.72094,52.405907,-4.370467,-14.430673,-35.952686,-28.531855,7.7115927,23.013548,56.077496,-5.514938,-0.008566526,-9.867553,-12.98698,-39.226494,17.066427,-34.561573,-3.3118968,36.583973,-7.119071,-4.328642,-31.052425,-1.8609456,56.33368,-28.372967,8.456723,-15.707632,-17.333271,42.80706,-23.080353,23.041517,-0.6556977,-37.74239,-37.274963,-26.551325,-51.976124,1.4318302,-22.758234,64.70892,-32.6177,5.8516145,-25.99061,-7.1243777,17.436174,-50.29335,9.49166,10.1172285,30.861927,40.322426,-35.62156,-47.271034,55.355392,-37.411285,-17.425415,-13.6007805,-55.389553,42.268906,58.610935,70.393776,29.802158,16.140657,-51.085945,1.4574273,6.6880107,-5.813659,9.803923,-28.55834,36.59922,-20.453058,3.8719976,-23.767431,-5.49314,-25.137175,3.7973387,40.51548,45.6967,15.470758,13.113324,37.64396,15.948028,19.090908,-7.007089,0.6152462,7.8243833,-6.225681,-6.8244658,-3.5654526,-31.484634,32.221977,28.18344,42.78351,15.948768,-7.45289,-20.154951,0.96260214,-46.05605,-16.378876,-18.391024,12.343808,-59.11657,20.030552,20.922937,39.888527,-11.43447,38.497936,51.98297,-42.20368,-16.99875,49.101273,6.4250507,15.585115,-24.075558,-19.80848,31.00568,-33.391098,43.36078,23.481417,51.57835,-24.75155,21.64222,-58.816345,-2.0315907,29.727232,-25.19327,50.22198,-51.279667,6.860358,-15.767823,51.40322,53.975826,-39.052284,-57.70952,41.125294,6.987128,-9.902869,-29.477993,22.374899,36.041515,19.617472,5.1244507,13.6424465,-11.48539,28.757114,-37.475647,19.265785,-9.775182,-33.181618,-13.116752,-2.6527267,-9.879043,58.218357,25.997261,-20.186256,-39.330612,-4.208988,43.7187,-8.064093,-41.142452,-6.0501204,21.441114,-3.8814995,-4.5298624,27.965652,8.871029,-39.658558,49.448414,1.3307765,-23.730022,31.832657,16.64137,-31.655207,-19.97523,-56.55883,13.901519,-22.935688,-1.5958619,-19.140667,10.399207,16.90549,-3.3822806,27.030895,-18.985811,-34.180725,-39.81326,-36.173004,-27.309599,-5.8692102,-1.0676264,20.961613,29.313066,-8.199473,46.47283,57.448467,-10.296155,41.969986,-28.692223,6.5019803,25.493446,-9.792015,6.515994,-19.527716,6.6179695,30.123577,-38.85623,-43.729652,46.972412],\"type\":\"scatter3d\"}],                        {\"template\":{\"data\":{\"histogram2dcontour\":[{\"type\":\"histogram2dcontour\",\"colorbar\":{\"outlinewidth\":0,\"ticks\":\"\"},\"colorscale\":[[0.0,\"#0d0887\"],[0.1111111111111111,\"#46039f\"],[0.2222222222222222,\"#7201a8\"],[0.3333333333333333,\"#9c179e\"],[0.4444444444444444,\"#bd3786\"],[0.5555555555555556,\"#d8576b\"],[0.6666666666666666,\"#ed7953\"],[0.7777777777777778,\"#fb9f3a\"],[0.8888888888888888,\"#fdca26\"],[1.0,\"#f0f921\"]]}],\"choropleth\":[{\"type\":\"choropleth\",\"colorbar\":{\"outlinewidth\":0,\"ticks\":\"\"}}],\"histogram2d\":[{\"type\":\"histogram2d\",\"colorbar\":{\"outlinewidth\":0,\"ticks\":\"\"},\"colorscale\":[[0.0,\"#0d0887\"],[0.1111111111111111,\"#46039f\"],[0.2222222222222222,\"#7201a8\"],[0.3333333333333333,\"#9c179e\"],[0.4444444444444444,\"#bd3786\"],[0.5555555555555556,\"#d8576b\"],[0.6666666666666666,\"#ed7953\"],[0.7777777777777778,\"#fb9f3a\"],[0.8888888888888888,\"#fdca26\"],[1.0,\"#f0f921\"]]}],\"heatmap\":[{\"type\":\"heatmap\",\"colorbar\":{\"outlinewidth\":0,\"ticks\":\"\"},\"colorscale\":[[0.0,\"#0d0887\"],[0.1111111111111111,\"#46039f\"],[0.2222222222222222,\"#7201a8\"],[0.3333333333333333,\"#9c179e\"],[0.4444444444444444,\"#bd3786\"],[0.5555555555555556,\"#d8576b\"],[0.6666666666666666,\"#ed7953\"],[0.7777777777777778,\"#fb9f3a\"],[0.8888888888888888,\"#fdca26\"],[1.0,\"#f0f921\"]]}],\"heatmapgl\":[{\"type\":\"heatmapgl\",\"colorbar\":{\"outlinewidth\":0,\"ticks\":\"\"},\"colorscale\":[[0.0,\"#0d0887\"],[0.1111111111111111,\"#46039f\"],[0.2222222222222222,\"#7201a8\"],[0.3333333333333333,\"#9c179e\"],[0.4444444444444444,\"#bd3786\"],[0.5555555555555556,\"#d8576b\"],[0.6666666666666666,\"#ed7953\"],[0.7777777777777778,\"#fb9f3a\"],[0.8888888888888888,\"#fdca26\"],[1.0,\"#f0f921\"]]}],\"contourcarpet\":[{\"type\":\"contourcarpet\",\"colorbar\":{\"outlinewidth\":0,\"ticks\":\"\"}}],\"contour\":[{\"type\":\"contour\",\"colorbar\":{\"outlinewidth\":0,\"ticks\":\"\"},\"colorscale\":[[0.0,\"#0d0887\"],[0.1111111111111111,\"#46039f\"],[0.2222222222222222,\"#7201a8\"],[0.3333333333333333,\"#9c179e\"],[0.4444444444444444,\"#bd3786\"],[0.5555555555555556,\"#d8576b\"],[0.6666666666666666,\"#ed7953\"],[0.7777777777777778,\"#fb9f3a\"],[0.8888888888888888,\"#fdca26\"],[1.0,\"#f0f921\"]]}],\"surface\":[{\"type\":\"surface\",\"colorbar\":{\"outlinewidth\":0,\"ticks\":\"\"},\"colorscale\":[[0.0,\"#0d0887\"],[0.1111111111111111,\"#46039f\"],[0.2222222222222222,\"#7201a8\"],[0.3333333333333333,\"#9c179e\"],[0.4444444444444444,\"#bd3786\"],[0.5555555555555556,\"#d8576b\"],[0.6666666666666666,\"#ed7953\"],[0.7777777777777778,\"#fb9f3a\"],[0.8888888888888888,\"#fdca26\"],[1.0,\"#f0f921\"]]}],\"mesh3d\":[{\"type\":\"mesh3d\",\"colorbar\":{\"outlinewidth\":0,\"ticks\":\"\"}}],\"scatter\":[{\"fillpattern\":{\"fillmode\":\"overlay\",\"size\":10,\"solidity\":0.2},\"type\":\"scatter\"}],\"parcoords\":[{\"type\":\"parcoords\",\"line\":{\"colorbar\":{\"outlinewidth\":0,\"ticks\":\"\"}}}],\"scatterpolargl\":[{\"type\":\"scatterpolargl\",\"marker\":{\"colorbar\":{\"outlinewidth\":0,\"ticks\":\"\"}}}],\"bar\":[{\"error_x\":{\"color\":\"#2a3f5f\"},\"error_y\":{\"color\":\"#2a3f5f\"},\"marker\":{\"line\":{\"color\":\"#E5ECF6\",\"width\":0.5},\"pattern\":{\"fillmode\":\"overlay\",\"size\":10,\"solidity\":0.2}},\"type\":\"bar\"}],\"scattergeo\":[{\"type\":\"scattergeo\",\"marker\":{\"colorbar\":{\"outlinewidth\":0,\"ticks\":\"\"}}}],\"scatterpolar\":[{\"type\":\"scatterpolar\",\"marker\":{\"colorbar\":{\"outlinewidth\":0,\"ticks\":\"\"}}}],\"histogram\":[{\"marker\":{\"pattern\":{\"fillmode\":\"overlay\",\"size\":10,\"solidity\":0.2}},\"type\":\"histogram\"}],\"scattergl\":[{\"type\":\"scattergl\",\"marker\":{\"colorbar\":{\"outlinewidth\":0,\"ticks\":\"\"}}}],\"scatter3d\":[{\"type\":\"scatter3d\",\"line\":{\"colorbar\":{\"outlinewidth\":0,\"ticks\":\"\"}},\"marker\":{\"colorbar\":{\"outlinewidth\":0,\"ticks\":\"\"}}}],\"scattermapbox\":[{\"type\":\"scattermapbox\",\"marker\":{\"colorbar\":{\"outlinewidth\":0,\"ticks\":\"\"}}}],\"scatterternary\":[{\"type\":\"scatterternary\",\"marker\":{\"colorbar\":{\"outlinewidth\":0,\"ticks\":\"\"}}}],\"scattercarpet\":[{\"type\":\"scattercarpet\",\"marker\":{\"colorbar\":{\"outlinewidth\":0,\"ticks\":\"\"}}}],\"carpet\":[{\"aaxis\":{\"endlinecolor\":\"#2a3f5f\",\"gridcolor\":\"white\",\"linecolor\":\"white\",\"minorgridcolor\":\"white\",\"startlinecolor\":\"#2a3f5f\"},\"baxis\":{\"endlinecolor\":\"#2a3f5f\",\"gridcolor\":\"white\",\"linecolor\":\"white\",\"minorgridcolor\":\"white\",\"startlinecolor\":\"#2a3f5f\"},\"type\":\"carpet\"}],\"table\":[{\"cells\":{\"fill\":{\"color\":\"#EBF0F8\"},\"line\":{\"color\":\"white\"}},\"header\":{\"fill\":{\"color\":\"#C8D4E3\"},\"line\":{\"color\":\"white\"}},\"type\":\"table\"}],\"barpolar\":[{\"marker\":{\"line\":{\"color\":\"#E5ECF6\",\"width\":0.5},\"pattern\":{\"fillmode\":\"overlay\",\"size\":10,\"solidity\":0.2}},\"type\":\"barpolar\"}],\"pie\":[{\"automargin\":true,\"type\":\"pie\"}]},\"layout\":{\"autotypenumbers\":\"strict\",\"colorway\":[\"#636efa\",\"#EF553B\",\"#00cc96\",\"#ab63fa\",\"#FFA15A\",\"#19d3f3\",\"#FF6692\",\"#B6E880\",\"#FF97FF\",\"#FECB52\"],\"font\":{\"color\":\"#2a3f5f\"},\"hovermode\":\"closest\",\"hoverlabel\":{\"align\":\"left\"},\"paper_bgcolor\":\"white\",\"plot_bgcolor\":\"#E5ECF6\",\"polar\":{\"bgcolor\":\"#E5ECF6\",\"angularaxis\":{\"gridcolor\":\"white\",\"linecolor\":\"white\",\"ticks\":\"\"},\"radialaxis\":{\"gridcolor\":\"white\",\"linecolor\":\"white\",\"ticks\":\"\"}},\"ternary\":{\"bgcolor\":\"#E5ECF6\",\"aaxis\":{\"gridcolor\":\"white\",\"linecolor\":\"white\",\"ticks\":\"\"},\"baxis\":{\"gridcolor\":\"white\",\"linecolor\":\"white\",\"ticks\":\"\"},\"caxis\":{\"gridcolor\":\"white\",\"linecolor\":\"white\",\"ticks\":\"\"}},\"coloraxis\":{\"colorbar\":{\"outlinewidth\":0,\"ticks\":\"\"}},\"colorscale\":{\"sequential\":[[0.0,\"#0d0887\"],[0.1111111111111111,\"#46039f\"],[0.2222222222222222,\"#7201a8\"],[0.3333333333333333,\"#9c179e\"],[0.4444444444444444,\"#bd3786\"],[0.5555555555555556,\"#d8576b\"],[0.6666666666666666,\"#ed7953\"],[0.7777777777777778,\"#fb9f3a\"],[0.8888888888888888,\"#fdca26\"],[1.0,\"#f0f921\"]],\"sequentialminus\":[[0.0,\"#0d0887\"],[0.1111111111111111,\"#46039f\"],[0.2222222222222222,\"#7201a8\"],[0.3333333333333333,\"#9c179e\"],[0.4444444444444444,\"#bd3786\"],[0.5555555555555556,\"#d8576b\"],[0.6666666666666666,\"#ed7953\"],[0.7777777777777778,\"#fb9f3a\"],[0.8888888888888888,\"#fdca26\"],[1.0,\"#f0f921\"]],\"diverging\":[[0,\"#8e0152\"],[0.1,\"#c51b7d\"],[0.2,\"#de77ae\"],[0.3,\"#f1b6da\"],[0.4,\"#fde0ef\"],[0.5,\"#f7f7f7\"],[0.6,\"#e6f5d0\"],[0.7,\"#b8e186\"],[0.8,\"#7fbc41\"],[0.9,\"#4d9221\"],[1,\"#276419\"]]},\"xaxis\":{\"gridcolor\":\"white\",\"linecolor\":\"white\",\"ticks\":\"\",\"title\":{\"standoff\":15},\"zerolinecolor\":\"white\",\"automargin\":true,\"zerolinewidth\":2},\"yaxis\":{\"gridcolor\":\"white\",\"linecolor\":\"white\",\"ticks\":\"\",\"title\":{\"standoff\":15},\"zerolinecolor\":\"white\",\"automargin\":true,\"zerolinewidth\":2},\"scene\":{\"xaxis\":{\"backgroundcolor\":\"#E5ECF6\",\"gridcolor\":\"white\",\"linecolor\":\"white\",\"showbackground\":true,\"ticks\":\"\",\"zerolinecolor\":\"white\",\"gridwidth\":2},\"yaxis\":{\"backgroundcolor\":\"#E5ECF6\",\"gridcolor\":\"white\",\"linecolor\":\"white\",\"showbackground\":true,\"ticks\":\"\",\"zerolinecolor\":\"white\",\"gridwidth\":2},\"zaxis\":{\"backgroundcolor\":\"#E5ECF6\",\"gridcolor\":\"white\",\"linecolor\":\"white\",\"showbackground\":true,\"ticks\":\"\",\"zerolinecolor\":\"white\",\"gridwidth\":2}},\"shapedefaults\":{\"line\":{\"color\":\"#2a3f5f\"}},\"annotationdefaults\":{\"arrowcolor\":\"#2a3f5f\",\"arrowhead\":0,\"arrowwidth\":1},\"geo\":{\"bgcolor\":\"white\",\"landcolor\":\"#E5ECF6\",\"subunitcolor\":\"white\",\"showland\":true,\"showlakes\":true,\"lakecolor\":\"white\"},\"title\":{\"x\":0.05},\"mapbox\":{\"style\":\"light\"}}},\"margin\":{\"r\":20,\"b\":10,\"l\":10,\"t\":40},\"title\":{\"text\":\"3D Chroma Vector Store Visualization\"},\"scene\":{\"xaxis\":{\"title\":{\"text\":\"x\"}},\"yaxis\":{\"title\":{\"text\":\"y\"}},\"zaxis\":{\"title\":{\"text\":\"z\"}}},\"width\":900,\"height\":700},                        {\"responsive\": true}                    ).then(function(){\n",
       "                            \n",
       "var gd = document.getElementById('6e775494-6bdd-4cf4-ab4f-18f0e647109b');\n",
       "var x = new MutationObserver(function (mutations, observer) {{\n",
       "        var display = window.getComputedStyle(gd).display;\n",
       "        if (!display || display === 'none') {{\n",
       "            console.log([gd, 'removed!']);\n",
       "            Plotly.purge(gd);\n",
       "            observer.disconnect();\n",
       "        }}\n",
       "}});\n",
       "\n",
       "// Listen for the removal of the full notebook cells\n",
       "var notebookContainer = gd.closest('#notebook-container');\n",
       "if (notebookContainer) {{\n",
       "    x.observe(notebookContainer, {childList: true});\n",
       "}}\n",
       "\n",
       "// Listen for the clearing of the current output cell\n",
       "var outputEl = gd.closest('.output');\n",
       "if (outputEl) {{\n",
       "    x.observe(outputEl, {childList: true});\n",
       "}}\n",
       "\n",
       "                        })                };                });            </script>        </div>"
      ]
     },
     "metadata": {},
     "output_type": "display_data"
    }
   ],
   "source": [
    "# Let's try 3D!\n",
    "\n",
    "tsne = TSNE(n_components=3, random_state=42)\n",
    "reduced_vectors = tsne.fit_transform(vectors)\n",
    "\n",
    "# Create the 3D scatter plot\n",
    "fig = go.Figure(data=[go.Scatter3d(\n",
    "    x=reduced_vectors[:, 0],\n",
    "    y=reduced_vectors[:, 1],\n",
    "    z=reduced_vectors[:, 2],\n",
    "    mode='markers',\n",
    "    marker=dict(size=5, color=colors, opacity=0.8),\n",
    "    text=[f\"Video: {t}<br>Text: {d[:100]}...\" for t, d in zip(video_numbers, documents)],\n",
    "    hoverinfo='text'\n",
    ")])\n",
    "\n",
    "fig.update_layout(\n",
    "    title='3D Chroma Vector Store Visualization',\n",
    "    scene=dict(xaxis_title='x', yaxis_title='y', zaxis_title='z'),\n",
    "    width=900,\n",
    "    height=700,\n",
    "    margin=dict(r=20, b=10, l=10, t=40)\n",
    ")\n",
    "\n",
    "fig.show()"
   ]
  },
  {
   "cell_type": "code",
   "execution_count": null,
   "id": "9b3ada26-b4b7-42fc-b943-933c14adf89b",
   "metadata": {},
   "outputs": [],
   "source": []
  }
 ],
 "metadata": {
  "kernelspec": {
   "display_name": "Python 3 (ipykernel)",
   "language": "python",
   "name": "python3"
  },
  "language_info": {
   "codemirror_mode": {
    "name": "ipython",
    "version": 3
   },
   "file_extension": ".py",
   "mimetype": "text/x-python",
   "name": "python",
   "nbconvert_exporter": "python",
   "pygments_lexer": "ipython3",
   "version": "3.11.11"
  }
 },
 "nbformat": 4,
 "nbformat_minor": 5
}
