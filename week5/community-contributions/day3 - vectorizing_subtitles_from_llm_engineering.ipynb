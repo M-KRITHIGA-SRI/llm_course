{
 "cells": [
  {
   "cell_type": "markdown",
   "id": "dfe37963-1af6-44fc-a841-8e462443f5e6",
   "metadata": {},
   "source": [
    "## Udemy Video Subtitle Vectorization (Expert on LLM engineering) \n",
    "\n",
    "This project will uses subtitle files from Ed Donners excellent LLM engineering course on Udemy.\n",
    "\n",
    "These can be downloaded using the following process:\n",
    "- Useing an android phone, download Udemy app and open the LLM engineering course. \n",
    "- There is option to download the videos as single files or section wise. \n",
    "- Download them and along with those videos subs or cc are also downloaded as .srt’s.\n",
    "- Plug in your laptop to the android phone using USB and select file transfer in the notification.\n",
    "- Open a file explorer and copy the subtitle files (srt format)\n",
    "- Here’s the location of subs in android \"internal storage/android/data/com.udemy.android/files/udemy-subtitle-downloads\"\n",
    "\n",
    "the raw srt files are stored in the folder \"subtitles/srts\". The code below will use the langchain textloader but will preprocess the srt files to remove the timestamps.\n",
    "\n",
    "### Note: this is only for educational and testing purposes and you should contact Ed Donnner to seek his permission if you want to use the subtitles."
   ]
  },
  {
   "cell_type": "code",
   "execution_count": 63,
   "id": "ba2779af-84ef-4227-9e9e-6eaf0df87e77",
   "metadata": {},
   "outputs": [],
   "source": [
    "# imports\n",
    "\n",
    "import os\n",
    "import glob\n",
    "from dotenv import load_dotenv\n",
    "import gradio as gr"
   ]
  },
  {
   "cell_type": "code",
   "execution_count": 64,
   "id": "802137aa-8a74-45e0-a487-d1974927d7ca",
   "metadata": {},
   "outputs": [],
   "source": [
    "# imports for langchain and Chroma and plotly\n",
    "\n",
    "from langchain.document_loaders import DirectoryLoader, TextLoader\n",
    "from langchain.text_splitter import CharacterTextSplitter\n",
    "from langchain.schema import Document\n",
    "from langchain_openai import OpenAIEmbeddings, ChatOpenAI\n",
    "from langchain_chroma import Chroma\n",
    "import numpy as np\n",
    "from sklearn.manifold import TSNE\n",
    "import plotly.graph_objects as go\n",
    "import re"
   ]
  },
  {
   "cell_type": "code",
   "execution_count": 65,
   "id": "58c85082-e417-4708-9efe-81a5d55d1424",
   "metadata": {},
   "outputs": [],
   "source": [
    "# price is a factor for our company, so we're going to use a low cost model\n",
    "\n",
    "MODEL = \"gpt-4o-mini\"\n",
    "db_name = \"vector_db\""
   ]
  },
  {
   "cell_type": "code",
   "execution_count": 66,
   "id": "ee78efcb-60fe-449e-a944-40bab26261af",
   "metadata": {},
   "outputs": [],
   "source": [
    "# Load environment variables in a file called .env\n",
    "\n",
    "load_dotenv()\n",
    "os.environ['OPENAI_API_KEY'] = os.getenv('OPENAI_API_KEY', 'your-key-if-not-using-env')"
   ]
  },
  {
   "cell_type": "code",
   "execution_count": 67,
   "id": "730711a9-6ffe-4eee-8f48-d6cfb7314905",
   "metadata": {},
   "outputs": [],
   "source": [
    "# Read in documents using LangChain's loaders\n",
    "# Take everything in all the sub-folders of our knowledgebase\n",
    "\n",
    "folders = glob.glob(\"subtitles/srts/*\")\n",
    "\n",
    "# With thanks to CG and Jon R, students on the course, for this fix needed for some users \n",
    "text_loader_kwargs = {'encoding': 'utf-8'}\n",
    "# If that doesn't work, some Windows users might need to uncomment the next line instead\n",
    "# text_loader_kwargs={'autodetect_encoding': True}\n",
    "\n",
    "def preprocess_srt_content(content):\n",
    "    \"\"\"\n",
    "    Preprocess the content of an SRT file to remove timing information and the WEBVTT header.\n",
    "    \"\"\"\n",
    "    # Remove the WEBVTT header\n",
    "    content = re.sub(r'^WEBVTT\\s*', '', content, flags=re.IGNORECASE)\n",
    "    # Remove timing lines (e.g., 00:00.680 --> 00:08.540)\n",
    "    content = re.sub(r'\\d{2}:\\d{2}\\.\\d{3} --> \\d{2}:\\d{2}\\.\\d{3}', '', content)\n",
    "    # Remove extra newlines and strip leading/trailing whitespace\n",
    "    return \"\\n\".join(line.strip() for line in content.splitlines() if line.strip())\n",
    "\n",
    "documents = []\n",
    "for folder in folders:\n",
    "    video_number = os.path.basename(folder)\n",
    "    loader = DirectoryLoader(folder, glob=\"**/en_US.srt\", loader_cls=TextLoader)\n",
    "    folder_docs = loader.load()\n",
    "\n",
    "    for doc in folder_docs:\n",
    "        # Preprocess the document content\n",
    "        cleaned_content = preprocess_srt_content(doc.page_content)\n",
    "        # Replace the original content with the cleaned content\n",
    "        doc.page_content = cleaned_content\n",
    "        # Add metadata\n",
    "        doc.metadata[\"video_number\"] = video_number\n",
    "        documents.append(doc)\n"
   ]
  },
  {
   "cell_type": "markdown",
   "id": "f065d4b1-80b7-4e15-abd4-60a83e752ea8",
   "metadata": {},
   "source": [
    "# Please note:\n",
    "\n",
    "In the next cell, we split the text into chunks.\n",
    "\n",
    "If you have problems, you can try to fix them by changing the chunk_size from 1,000 to 2,000 and the chunk_overlap from 200 to 400.  \n",
    "This shouldn't be required; but if it happens to you, please make that change!  \n",
    "(Note that LangChain may give a warning about a chunk being larger than 1,000 - this can be safely ignored)."
   ]
  },
  {
   "cell_type": "code",
   "execution_count": 68,
   "id": "7310c9c8-03c1-4efc-a104-5e89aec6db1a",
   "metadata": {},
   "outputs": [],
   "source": [
    "text_splitter = CharacterTextSplitter(chunk_size=1000, chunk_overlap=200)\n",
    "chunks = text_splitter.split_documents(documents)"
   ]
  },
  {
   "cell_type": "code",
   "execution_count": 69,
   "id": "cd06e02f-6d9b-44cc-a43d-e1faa8acc7bb",
   "metadata": {},
   "outputs": [
    {
     "data": {
      "text/plain": [
       "217"
      ]
     },
     "execution_count": 69,
     "metadata": {},
     "output_type": "execute_result"
    }
   ],
   "source": [
    "len(chunks)"
   ]
  },
  {
   "cell_type": "code",
   "execution_count": 70,
   "id": "2c54b4b6-06da-463d-bee7-4dd456c2b887",
   "metadata": {},
   "outputs": [
    {
     "name": "stdout",
     "output_type": "stream",
     "text": [
      "Video numbers found: 60616407, 59170043, 59507329, 59505329, 60614541, 59471979, 59166453, 59295587, 59295545, 59670259, 59166421, 59295493, 59166461, 59166919, 60616845, 59472873, 59668027, 59472017, 59668181, 60614589, 59473021, 59166443, 59507017, 60619721, 59170055, 59665129, 59295439, 59673721, 59472441, 59507423, 59473201, 59472011, 59671567, 60616927, 59170297, 59667365, 60620395, 59295599, 59669375, 59507435, 59297749, 59297599, 59297603, 59472491, 59297595, 60616663, 59170165, 59472383, 59506713, 59297561, 60620397, 59166951, 59472503, 59295609, 59670933, 59170291, 59295429, 59473071, 59472027, 59166949, 60616629, 60619227, 59297733, 59669211, 59473191, 59667829, 59295423, 59170037, 59170025, 59170227, 59671231, 59673449, 59503703, 59669631, 59166353, 59671441, 59673663, 59668923, 60619619, 59170255, 59508289, 59507785, 60619299, 60619501, 60616623, 59473147, 59170135, 59473089, 59295435, 59472425, 59295579, 59669389, 60617259, 59673639, 59508297, 60619247, 60619289, 59472137, 59669049, 59472693, 60620143, 59295363, 59503705, 59167009, 59508175, 59669217, 59166915, 59295441, 59508055, 59667841, 59472421, 60619123, 59297721, 59508057, 59297601, 59297735, 59670369, 59170223, 59271655, 59297773, 59170057, 59504785, 59473159, 59166281, 60617251, 59295459, 59472413, 59665127, 59295619, 59670121, 59666831, 60619447, 59670171, 60616493, 59473101, 59473019, 59666211, 59671315, 60619439, 59295451, 59297723, 59673431, 59169991, 59472333, 60619149, 59295607, 60619281, 59297575, 59472429, 60619883, 59670073, 59167007, 59671221, 59295553, 59166981, 60595637, 59170235, 59297593, 60614591, 59504887, 60616895, 59166947, 60620025, 60617163, 60622463, 59506611, 59166481, 59472505, 59295431, 59472463, 59167015, 59170233, 60395261, 59508121, 59166847, 60620169, 60616423, 59473137, 59170107, 59297743, 59506507, 59472883, 59295541, 59507489, 60619577, 59507687, 59506929, 59170093, 59166465, 59166317, 59295601, 59509185, 60619651, 59169985, 59505337, 59295527, 59667357, 59673595, 59295549, 59297693, 60620375, 59297585, 59670087, 59472067, 59295583, 60616855, 59295377, 60619275, 59504769, 59507635, 60616833, 59297609, 60619429, 59472307, 59507313, 60617255, 59472007\n"
     ]
    }
   ],
   "source": [
    "video_numbers = set(chunk.metadata['video_number'] for chunk in chunks)\n",
    "print(f\"Video numbers found: {', '.join(video_numbers)}\")"
   ]
  },
  {
   "cell_type": "markdown",
   "id": "77f7d2a6-ccfa-425b-a1c3-5e55b23bd013",
   "metadata": {},
   "source": [
    "## A sidenote on Embeddings, and \"Auto-Encoding LLMs\"\n",
    "\n",
    "We will be mapping each chunk of text into a Vector that represents the meaning of the text, known as an embedding.\n",
    "\n",
    "OpenAI offers a model to do this, which we will use by calling their API with some LangChain code.\n",
    "\n",
    "This model is an example of an \"Auto-Encoding LLM\" which generates an output given a complete input.\n",
    "It's different to all the other LLMs we've discussed today, which are known as \"Auto-Regressive LLMs\", and generate future tokens based only on past context.\n",
    "\n",
    "Another example of an Auto-Encoding LLMs is BERT from Google. In addition to embedding, Auto-encoding LLMs are often used for classification.\n",
    "\n",
    "### Sidenote\n",
    "\n",
    "In week 8 we will return to RAG and vector embeddings, and we will use an open-source vector encoder so that the data never leaves our computer - that's an important consideration when building enterprise systems and the data needs to remain internal."
   ]
  },
  {
   "cell_type": "code",
   "execution_count": 71,
   "id": "78998399-ac17-4e28-b15f-0b5f51e6ee23",
   "metadata": {},
   "outputs": [],
   "source": [
    "# Put the chunks of data into a Vector Store that associates a Vector Embedding with each chunk\n",
    "\n",
    "embeddings = OpenAIEmbeddings()\n",
    "\n",
    "# If you would rather use the free Vector Embeddings from HuggingFace sentence-transformers\n",
    "# Then replace embeddings = OpenAIEmbeddings()\n",
    "# with:\n",
    "# from langchain.embeddings import HuggingFaceEmbeddings\n",
    "# embeddings = HuggingFaceEmbeddings(model_name=\"sentence-transformers/all-MiniLM-L6-v2\")"
   ]
  },
  {
   "cell_type": "code",
   "execution_count": 72,
   "id": "763e51ff-5787-4a56-8176-36b7c5796fe3",
   "metadata": {},
   "outputs": [],
   "source": [
    "# Check if a Chroma Datastore already exists - if so, delete the collection to start from scratch\n",
    "\n",
    "if os.path.exists(db_name):\n",
    "    Chroma(persist_directory=db_name, embedding_function=embeddings).delete_collection()"
   ]
  },
  {
   "cell_type": "code",
   "execution_count": 73,
   "id": "99fe3a37-480f-4d55-be48-120588d5846b",
   "metadata": {},
   "outputs": [
    {
     "name": "stdout",
     "output_type": "stream",
     "text": [
      "Vectorstore created with 217 documents\n"
     ]
    }
   ],
   "source": [
    "# Create our Chroma vectorstore!\n",
    "\n",
    "vectorstore = Chroma.from_documents(documents=chunks, embedding=embeddings, persist_directory=db_name)\n",
    "print(f\"Vectorstore created with {vectorstore._collection.count()} documents\")"
   ]
  },
  {
   "cell_type": "code",
   "execution_count": 74,
   "id": "057868f6-51a6-4087-94d1-380145821550",
   "metadata": {},
   "outputs": [
    {
     "name": "stdout",
     "output_type": "stream",
     "text": [
      "The vectors have 1,536 dimensions\n"
     ]
    }
   ],
   "source": [
    "# Get one vector and find how many dimensions it has\n",
    "\n",
    "collection = vectorstore._collection\n",
    "sample_embedding = collection.get(limit=1, include=[\"embeddings\"])[\"embeddings\"][0]\n",
    "dimensions = len(sample_embedding)\n",
    "print(f\"The vectors have {dimensions:,} dimensions\")"
   ]
  },
  {
   "cell_type": "code",
   "execution_count": null,
   "id": "61e393a0-dd4c-419f-842f-60c1cb3b716b",
   "metadata": {},
   "outputs": [],
   "source": []
  },
  {
   "cell_type": "markdown",
   "id": "b0d45462-a818-441c-b010-b85b32bcf618",
   "metadata": {},
   "source": [
    "## Visualizing the Vector Store\n",
    "\n",
    "Let's take a minute to look at the documents and their embedding vectors to see what's going on."
   ]
  },
  {
   "cell_type": "code",
   "execution_count": 75,
   "id": "cfb855dc-1610-4aaf-8e5f-68c26ce640a5",
   "metadata": {},
   "outputs": [],
   "source": [
    "# Convert the video numbers into unique colors that we can visualize\n",
    "import hashlib\n",
    "\n",
    "def video_numbers_to_hex_colors(video_numbers):\n",
    "    return [f\"#{hashlib.sha256(v.encode()).hexdigest()[:6]}\" for v in video_numbers]\n",
    "\n"
   ]
  },
  {
   "cell_type": "code",
   "execution_count": 76,
   "id": "b98adf5e-d464-4bd2-9bdf-bc5b6770263b",
   "metadata": {},
   "outputs": [],
   "source": [
    "# Prework\n",
    "\n",
    "result = collection.get(include=['embeddings', 'documents', 'metadatas'])\n",
    "vectors = np.array(result['embeddings'])\n",
    "documents = result['documents']\n",
    "video_numbers = [metadata['video_number'] for metadata in result['metadatas']]\n",
    "colors = video_numbers_to_hex_colors(strings)\n",
    "\n"
   ]
  },
  {
   "cell_type": "code",
   "execution_count": 77,
   "id": "427149d5-e5d8-4abd-bb6f-7ef0333cca21",
   "metadata": {},
   "outputs": [
    {
     "data": {
      "application/vnd.plotly.v1+json": {
       "config": {
        "plotlyServerURL": "https://plot.ly"
       },
       "data": [
        {
         "hoverinfo": "text",
         "marker": {
          "color": [
           "#d01f72",
           "#75195e",
           "#3678a7",
           "#5b3f83",
           "#74a788",
           "#571122",
           "#4099c1",
           "#659222",
           "#188ca3",
           "#6d4052",
           "#35303c",
           "#a9e927",
           "#29fa15",
           "#71c500",
           "#9b9d6e",
           "#cf7e83",
           "#badd6d",
           "#85fa26",
           "#22463b",
           "#ce865d",
           "#f59c06",
           "#011995",
           "#793548",
           "#ad8b14",
           "#d937bd",
           "#2b9f18",
           "#046e5c",
           "#75b5e3",
           "#c959de",
           "#72e048",
           "#8e8cab",
           "#20f2c3",
           "#64f999",
           "#e69670",
           "#6a0fce",
           "#d65c3a",
           "#7bee34",
           "#4f86b8",
           "#b43417",
           "#4dfb77",
           "#2ae342",
           "#c3e1f2",
           "#12897b",
           "#2b3af3",
           "#7ea8e9",
           "#6ad041",
           "#0bdacc",
           "#99fe53",
           "#4aaf9f",
           "#d156c8",
           "#505bd9",
           "#dc152c",
           "#b52bf6",
           "#9baca0",
           "#a03134",
           "#d43c00",
           "#5af098",
           "#2c168d",
           "#c6016b",
           "#f090af",
           "#482281",
           "#39821f",
           "#e0a8df",
           "#480c89",
           "#08808d",
           "#ac5faf",
           "#0faf59",
           "#79c82a",
           "#e6e164",
           "#0d2037",
           "#8afd40",
           "#2e1afc",
           "#3ec815",
           "#fbfef2",
           "#a63fa4",
           "#b27d2e",
           "#ca3592",
           "#b9fd23",
           "#ac9648",
           "#804ce2",
           "#9b5e28",
           "#a64739",
           "#c457d7",
           "#de30e4",
           "#1f6ab0",
           "#6ff3c5",
           "#6df6ca",
           "#ed694d",
           "#2fef1a",
           "#335dcf",
           "#845aa9",
           "#574e28",
           "#dc95ec",
           "#b2140a",
           "#15ae86",
           "#70d1d9",
           "#6f745a",
           "#b3dba5",
           "#108c41",
           "#268bba",
           "#913568",
           "#1a6fdf",
           "#422abb",
           "#cb725f",
           "#fe62a5",
           "#dfc6c7",
           "#b25d7b",
           "#bd53b1",
           "#796278",
           "#048452",
           "#c6eff5",
           "#d24e5d",
           "#fe8e92",
           "#22398f",
           "#3e5237",
           "#8069bc",
           "#7740be",
           "#cc8ec0",
           "#b280bb",
           "#91f4db",
           "#ac55ba",
           "#c97596",
           "#116019",
           "#43c2e8",
           "#2a2d25",
           "#fc2b74",
           "#ae7afe",
           "#92b4fa",
           "#dd8cd7",
           "#4862ce",
           "#af0f59",
           "#ad6bd0",
           "#3f0a72",
           "#e01073",
           "#144ada",
           "#5cb9ca",
           "#51d0da",
           "#d6d07a",
           "#b61e76",
           "#474ff9",
           "#68bece",
           "#d01b19",
           "#ee26df",
           "#2ebca4",
           "#539908",
           "#ec0a37",
           "#1a5613",
           "#da28db",
           "#246fa5",
           "#bbfe83",
           "#d54222",
           "#580c96",
           "#02cada",
           "#996ff1",
           "#e2a239",
           "#ae5204",
           "#4ce72d",
           "#2cde7f",
           "#b64eac",
           "#591ab9",
           "#a958c9",
           "#696eaa",
           "#4c4355",
           "#6a6c06",
           "#df5d2e",
           "#9780cf",
           "#682d42",
           "#efed10",
           "#1b312a",
           "#dbde1c",
           "#e1b5db",
           "#a95826",
           "#4e797a",
           "#10384a",
           "#9a5ba2",
           "#d34482",
           "#8a29da",
           "#fb9dce",
           "#ff2d6a",
           "#50f10d",
           "#f8d349",
           "#7b4427",
           "#11a70e",
           "#987252",
           "#c932c1",
           "#2d7f7d",
           "#c1e3c5",
           "#0c777d",
           "#0f8781",
           "#dd889c",
           "#799a24",
           "#4212f1",
           "#e6f378",
           "#805527",
           "#091a90",
           "#a9541c",
           "#fcdcad",
           "#01f59b",
           "#94a85d",
           "#426575",
           "#7f03bd",
           "#2dcfac",
           "#52b6df",
           "#73e76a",
           "#d70d97",
           "#601568",
           "#d4b1ce",
           "#7341ee",
           "#bb0ee6",
           "#f645e0",
           "#1c2c7e",
           "#7dd58b",
           "#4b9a93",
           "#9df332",
           "#612b32",
           "#b1c27d",
           "#3626a5"
          ],
          "opacity": 0.8,
          "size": 5
         },
         "mode": "markers",
         "text": [
          "Video: 59506507<br>Text: Well, I realized that was a whole lot of theory, but I hope it gave you a good intuition that will\nb...",
          "Video: 59671315<br>Text: Okay, so here we are, back in Jupyter Lab, ready for the next use of a frontier model, and see this\n...",
          "Video: 60616895<br>Text: It feels like 100 videos ago that I told you that we were going to have instant gratification with o...",
          "Video: 60619275<br>Text: And we will conclude our expedition into the world of frontier models through their chat interface b...",
          "Video: 59472693<br>Text: Friends.\nI am absolutely exhausted.\nI am exhausted and a little tiny bit traumatized.\nAnd you are so...",
          "Video: 59670121<br>Text: So it's business time right now.\nWe are going to build a Rag pipeline to estimate the price of produ...",
          "Video: 59295619<br>Text: Welcome back to the the moment when we bring it all together into a beautiful user interface.\nBut fi...",
          "Video: 60617163<br>Text: And already that wraps up day two.\nNow that you have built that solution.\nAnd congratulations on tha...",
          "Video: 60616423<br>Text: So I hope you've just enjoyed yourself experimenting with different LMS locally on your box using th...",
          "Video: 59170227<br>Text: Welcome back to Google Colab.\nHere we are ready to explore the wonderful world of Tokenizers.\nSo, uh...",
          "Video: 59169985<br>Text: So I hope you enjoyed that whirlwind tour of Google Colab.\nHere's just a little screenshot example o...",
          "Video: 60616927<br>Text: It's time for our first LM experiment at this point.\nSo some of this you may know well, you may know...",
          "Video: 59673721<br>Text: And here we are in JupyterLab for the last time, and we are looking here at day five, the last day\no...",
          "Video: 59508055<br>Text: I'm so very happy that you've reached this epic moment in the course and that you're hanging in ther...",
          "Video: 59670259<br>Text: It's remarkable.\nBut you are now at the 95% point.\nThere's 5% remaining of this course.\nUh, maybe it...",
          "Video: 60616623<br>Text: So we're now going to start week one of the course when we are going to be looking at exploring fron...",
          "Video: 59472383<br>Text: And welcome back to the week six folder.\nWe're now at day two, which is the second and final stage o...",
          "Video: 59670171<br>Text: So as the very final step on this part four of day two of week eight, we are now going to build an\ne...",
          "Video: 59297721<br>Text: And so now the time has come to talk about the most crucial aspect of Rag, which is the idea of vect...",
          "Video: 59297599<br>Text: Well, that was a sneaky detour I took you on in the last one.\nI hope you enjoyed it though, and I ho...",
          "Video: 59507635<br>Text: Look, I hope you're excited.\nYou really should be.\nYou've been through 80% of the course and it's al...",
          "Video: 59669375<br>Text: Here we are for the day.\n2.1 notebook.\nAnd don't let it be said that I don't ever do anything for yo...",
          "Video: 59297733<br>Text: Welcome back to JupyterLab and welcome to your first experiment with the world of Long Chain.\nLet me...",
          "Video: 59670369<br>Text: It is terrific that you're hanging on in there and making such great progress with this course.\nAs w...",
          "Video: 59166281<br>Text: And with that, amazingly, you completed day one of week two already and that gets you to the 15% poi...",
          "Video: 59671567<br>Text: Well, the first thing you're going to notice is that I don't have a notebook open for you.\nAnd that'...",
          "Video: 59297593<br>Text: And welcome to continuing our journey with Hrag.\nAnd today it's time to unveil Liang Chen.\nSo first,...",
          "Video: 59166461<br>Text: And welcome back to the lab.\nHere we are in Jupyter Lab and we are going to go into week two.\nAnd we...",
          "Video: 59167007<br>Text: Well, how fabulous is that?\nI hope that you are as wowed as I am by our new airline, I assistant and...",
          "Video: 59508121<br>Text: The moment has arrived.\nHere we go.\nWe're in fine tuning.\nWe do fine tuning.\nTrain.\nThere is also a ...",
          "Video: 59295579<br>Text: All right.\nAre you excited to see how this goes?\nLet's give it a try.\nSo in this next section, I cre...",
          "Video: 60620375<br>Text: And with that, we've reached an important milestone.\nThe first week of our eight week journey is com...",
          "Video: 59472491<br>Text: Welcome back.\nIf you are following along with me in JupyterLab, as I hope you are, then you will nee...",
          "Video: 59472425<br>Text: Welcome to week six, day three.\nToday is going to be a day that you will either love or you will hat...",
          "Video: 59508057<br>Text: Actually slight change in plan.\nI'm going to wrap up the day.\nDay three at this point, and say that ...",
          "Video: 60619577<br>Text: And for the final piece of background information, I wanted to take another moment to talk about API...",
          "Video: 59170291<br>Text: Welcome back to Colab and welcome back to our business project.\nSo again our assignment, we are due ...",
          "Video: 60619651<br>Text: I mentioned before an AI company called vellum.\nWhen we were talking about the different questions, ...",
          "Video: 59473191<br>Text: And you thought we'd never get here.\nHere we are in Jupyter Lab, running our fine tuning for a front...",
          "Video: 59170297<br>Text: And here we are in Google Colab, ready for fun with models.\nSo first we do the usual Pip installs an...",
          "Video: 59167015<br>Text: Welcome back to Jupyter Lab and welcome to Day Five's Lab.\nAnd this is going to be lots of creativit...",
          "Video: 59170043<br>Text: Let me enthusiastically welcome you all back to week three of our LLM engineering journey.\nIf you en...",
          "Video: 59473147<br>Text: Well, I'm very relieved.\nI've got that behind me.\nNo more human testing for me.\nWe'll have one final...",
          "Video: 59166453<br>Text: Welcome back and welcome to our continuing JupyterLab experience.\nUh, I'm hopefully going to keep yo...",
          "Video: 59166915<br>Text: Welcome back to the wonderful world of JupyterLab.\nAnd here we are in week two.\nDay three.\nUh, bring...",
          "Video: 59667365<br>Text: Here we are back in Colab, looking at the week seven, day five of the Colab notebooks and I'm on a\nT...",
          "Video: 60616845<br>Text: We're on the home stretch.\nThis is the final step in the environment setup, and it's an easy one.\nIt...",
          "Video: 59295459<br>Text: And welcome back to More Leaderboard Fest as we go through some more leaderboards.\nBut this time we'...",
          "Video: 59471979<br>Text: So we now turn to the parts of the problem, which is perhaps, let's say, not as glamorous as some\nof...",
          "Video: 59503705<br>Text: And so now we talk about quantization the q and q Laura.\nQ stands for quantized quantized.\nLaura.\nAn...",
          "Video: 59472505<br>Text: So the good news is that this is the very final video about data set curation.\nYou were probably fed...",
          "Video: 59669217<br>Text: And welcome to the next part of visualizing the data.\nAnd just very quickly to show it to you in 3D....",
          "Video: 59671221<br>Text: I gotta tell you, I don't like to toot my horn a whole lot, but I do think that I've done a great\njo...",
          "Video: 59503703<br>Text: Well.\nHello there everybody.\nI am so grateful that you've made it through to the start of week seven...",
          "Video: 59473201<br>Text: Well, before we do a postmortem on what happened, let's just quickly look at the standing the rankin...",
          "Video: 60622463<br>Text: In this video, we're going to set up a full data science environment for Mac users.\nIn the next vide...",
          "Video: 60619299<br>Text: Well, I hope you found that both educational and enjoyable.\nAs we went through and learned so much a...",
          "Video: 59295607<br>Text: So to revisit then the solution that we built in the previous day and talk about the metrics.\nAs I s...",
          "Video: 59297575<br>Text: Well, welcome to the final part on rag.\nAnd this is the session where you go from being a rag expert...",
          "Video: 59507687<br>Text: It's time for action, everybody.\nWe've set up our colab.\nHere we are, week seven, day three.\nWe've g...",
          "Video: 59671441<br>Text: And welcome once more to our favorite place to be Jupyter Lab, the Paradise for a data scientist exp...",
          "Video: 59673431<br>Text: And here we have it.\nThe user interface is completed.\nThe extra notification came through on my phon...",
          "Video: 59473137<br>Text: Let's get straight to it.\nSo the place where you can see everything that's going on and get knee dee...",
          "Video: 59166421<br>Text: Welcome back to the radio day in the lab.\nMore to do.\nLet's keep going.\nWhere we left off is we had ...",
          "Video: 59295599<br>Text: Welcome to the Jupyter Lab for day four.\nIt's going to look very familiar because it's actually I've...",
          "Video: 59669631<br>Text: Here we are in our favorite place to be in JupyterLab, ready for some coding and a lot of coding tha...",
          "Video: 59673663<br>Text: But wait, there's more.\nWe need to add some more to the user interface just to make it look more coo...",
          "Video: 59506929<br>Text: And we return to the hugging face open LLM leaderboard.\nThe first place you go when selecting your b...",
          "Video: 59504785<br>Text: So at this point we're going to talk about hyperparameters.\nAnd we're going to introduce three of th...",
          "Video: 59505337<br>Text: So we're now going to look at four bit quantization, the rather remarkable effect of reducing the pr...",
          "Video: 59271655<br>Text: So here we are on Hugging Face's main landing page at Hugging Face Core.\nA URL you know.\nWell, since...",
          "Video: 59472883<br>Text: Okay, time to reveal the results.\nIt has run to completion.\nAnd here it is.\nSo a moment to pause.\nIt...",
          "Video: 59673639<br>Text: And welcome now to the code for our user interface, which we will find in this Python module.\nPrice ...",
          "Video: 59472463<br>Text: So last time we looked at a humble linear regression model with feature engineering, and now we say\n...",
          "Video: 59297595<br>Text: So by the time you're watching this, hopefully you have played yourself with vectors.\nYou've created...",
          "Video: 60619149<br>Text: So we're going to start our exploration into the world of frontier models by playing with the famous...",
          "Video: 59297735<br>Text: And at last the time has come to see rag in action.\nAfter all of this talk, and here we are.\nWe're i...",
          "Video: 60616407<br>Text: And now over to my Mac people.\nAnd I have news for you.\nIt's exactly the same thing.\nYou go to a fav...",
          "Video: 59170235<br>Text: So here we are in Google Colab for our first collaborative session on the cloud using a GPU box.\nOn ...",
          "Video: 59472067<br>Text: So we've covered steps 1 to 4 of the five step strategy.\nAnd that brings us to step five, which is p...",
          "Video: 59472011<br>Text: Welcome everybody.\nSo in the past I've said quite a few times, I am excited to start this this week ...",
          "Video: 59295553<br>Text: Welcome back.\nIn the last part, we gave our GPT four and clawed the challenge of converting a simple...",
          "Video: 59297773<br>Text: Well, I hope you're eager with anticipation for this session in JupyterLab as we finally get to see\n...",
          "Video: 59295583<br>Text: And here we are back in JupyterLab.\nIt's been a minute.\nWe've been working in Colab for last week, a...",
          "Video: 59507329<br>Text: Okay.\nIt's moment of truth time.\nI have just taken our class tester.\nYou remember this class?\nUh, it...",
          "Video: 59295429<br>Text: Continuing our investigation of benchmarks, and this will become more real when we actually see some...",
          "Video: 60595637<br>Text: Here we are back in the Colab, which has been running overnight for me and probably for you too, I\nh...",
          "Video: 59668027<br>Text: And so here we are at the home page for modal.\nAt modal.com spelt model not not model which is confu...",
          "Video: 59295527<br>Text: I'm so happy to welcome you to week four, day four on our journey to LLM Engineering and Mastery.\nHe...",
          "Video: 59295377<br>Text: Just before we go on to some of the more advanced metrics, I want to mention for a second something\n...",
          "Video: 59666211<br>Text: So before we try our new model and one more recap on the models so far and keep notes of this so we\n...",
          "Video: 59170107<br>Text: And once again, it's that moment when you take a pause and congratulate yourself on another day of\ns...",
          "Video: 60616833<br>Text: So I realized that day one of week one has been a pretty long day, and I assure you that the other,\n...",
          "Video: 59472413<br>Text: Wonderful.\nWhere we left off is we had just created the Get Features function, which builds our feat...",
          "Video: 59297561<br>Text: And would you believe at this point you're 55% of the way along the journey?\nUh, it's been a while s...",
          "Video: 59669211<br>Text: Well, we took on a lot today and we seem to have been successful.\nThese red icons that you see on th...",
          "Video: 59166981<br>Text: Welcome to week two, day five.\nThe last day of week two where a lot is coming together.\nI am so grat...",
          "Video: 60619227<br>Text: And now let's move to Claude from anthropic, my favorite model and typically the favorite model of\nm...",
          "Video: 60620395<br>Text: Welcome back to Jupyter Lab, where I want to show you the assignment, the homework exercise for you\n...",
          "Video: 59665127<br>Text: Well hi there everybody.\nI'm not going to give you my usual song and dance about how excited you are...",
          "Video: 59668923<br>Text: Well, welcome back to Jupyter Lab for what will be an epic finale to our time in this platform.\nAnd ...",
          "Video: 59504887<br>Text: Well, here we are again in Google Colab.\nIt's been a minute since we were here, and welcome back to ...",
          "Video: 59170165<br>Text: Welcome, everybody to the last day of week three.\nWeek three.\nDay five.\nWe're here already wrapping ...",
          "Video: 60617251<br>Text: Congratulations are definitely in order.\nYesterday was a mammoth first day on this course and you go...",
          "Video: 59166951<br>Text: All right, back to the lab.\nBack to our project.\nTime to work with tools.\nI am in the week two folde...",
          "Video: 60619619<br>Text: Well, day four was an information dense day.\nI do hope that you learned some something useful here, ...",
          "Video: 60616663<br>Text: Well.\nHi there, this is time for PC people to get set up.\nSo all you Mac people out there, you don't...",
          "Video: 59508175<br>Text: So I'm taking a moment now to explain that the training costs of optimizing a model for this course\n...",
          "Video: 59670087<br>Text: And welcome to part four of day two of week eight.\nUh, there's a lot happening this week, and I have...",
          "Video: 59506713<br>Text: Hi everyone.\nSo the reason I'm so fired up about week seven is that this is the time when we actuall...",
          "Video: 60620169<br>Text: Hopefully you found this super satisfying to be able to have this nice business result and have it c...",
          "Video: 59295435<br>Text: Well, just before we wrap up, let me introduce this week's challenge and talk about what we're going...",
          "Video: 59297609<br>Text: Last week, we worked with models that were able to speed up code by a factor of 60,000 times, which\n...",
          "Video: 59507489<br>Text: Continuing our adventure through hyperparameters for training.\nThe next one is pretty crucial and it...",
          "Video: 59295549<br>Text: And welcome back to our challenge again.\nAnd this time we are working with our beautiful prototype.\n...",
          "Video: 59665129<br>Text: And now let me make this real for you by showing you some, some diagrams, particularly now looking\na...",
          "Video: 59169991<br>Text: Okay, so that was your introduction to Hugging Face.\nAnd now I'm going to turn to a different resour...",
          "Video: 59472027<br>Text: And now the time has come to curate our data set.\nAnd the way we're going to do this is we're going ...",
          "Video: 59472307<br>Text: Welcome to week six.\nDay two a day.\nWhen we get back into the data, we look back in anger at our dat...",
          "Video: 59508289<br>Text: So here we are now, back in the Colab, in the same one that we kicked off in the previous day.\nIt's ...",
          "Video: 59472333<br>Text: Thank you for putting up with me during my foray into traditional machine learning.\nI think it was u...",
          "Video: 59295431<br>Text: Now I want to take a quick moment to give you a flyby of five different ways that llms are used comm...",
          "Video: 59673449<br>Text: Well, I have to tell you that I'm a little bit sad.\nThis is the beginning of the beginning of the en...",
          "Video: 59669389<br>Text: Well.\nHi there.\nSo you've made it to day two of week eight, and I am super grateful that you've been...",
          "Video: 59170057<br>Text: And so at the beginning of this week, we started by talking about hugging face pipelines.\nAnd you us...",
          "Video: 59166949<br>Text: Welcome back to making chatbots.\nLet's keep going.\nSo for the next part we're going to beef up the s...",
          "Video: 59473019<br>Text: Welcome back to an action packed time of of training.\nSo now, after waiting about five minutes when ...",
          "Video: 59297585<br>Text: Before we move on, let me show you one more time this fabulous slide that describes the simple three...",
          "Video: 59170255<br>Text: And welcome back to us continuing our journey through the model class in Hugging Face Transformers l...",
          "Video: 60614589<br>Text: So we're now going to run a large language model directly on your box using a platform called llama,...",
          "Video: 59297601<br>Text: I'm not going to lie, at this point you have every reason to be impatient with me.\nWe've been yammer...",
          "Video: 60616629<br>Text: And welcome back to team PC and Team Mac as we come back together again for a quick video.\nIn this o...",
          "Video: 59297749<br>Text: It's always welcome back to JupyterLab, my favorite place to be.\nAnd now we are, of course in the we...",
          "Video: 59170135<br>Text: Welcome.\nIt's week three.\nIt's day four.\nWe are back on the adventure in open source land, back inve...",
          "Video: 59472017<br>Text: And this is the first time that we'll be coding against our big project of the course.\nWelcome to Ju...",
          "Video: 59507017<br>Text: Welcome to Colab.\nWelcome to the week seven day two Colab.\nAnd just before we try our base model, we...",
          "Video: 60619883<br>Text: And now we've arrived at an exciting moment in our first week.\nThe conclusion of the first week is w...",
          "Video: 59508297<br>Text: What more is there to say, really?\nTomorrow is the day for results.\nA day that very excited indeed a...",
          "Video: 60619247<br>Text: We're going to spend a little bit more time with GPT just to try out a few more interesting things.\n...",
          "Video: 59504769<br>Text: Without further ado, we're going to get stuck into it.\nTalking about Laura.\nLow rank adaptation.\nAnd...",
          "Video: 59170233<br>Text: Welcome back to our continued exploits with Tokenizers.\nWhat we're now going to look at is what's ca...",
          "Video: 59671231<br>Text: And here we are back in the Jupyter Lab for the fast approaching conclusion with a really great proj...",
          "Video: 60620397<br>Text: Well, that's a fantastic result to have now arrived towards the end of week one and having completed...",
          "Video: 59170093<br>Text: I'm delighted to see you again.\nAs we get started with day three of week three of our adventure and ...",
          "Video: 59473089<br>Text: Welcome back.\nSo hopefully you are still impressed by the GPT four mini results.\nThe frontier model ...",
          "Video: 60395261<br>Text: Let's keep going with our project to equip our LM with a tool.\nWe just created this piece of code to...",
          "Video: 60617259<br>Text: I'm excited to introduce you to your first exercise, and I'm looking forward to seeing what you make...",
          "Video: 59507313<br>Text: And it's this time again, when we look at the podium of how our models are performing across the boa...",
          "Video: 60619721<br>Text: Now it's time to talk for a minute about tokens.\nTokens are the individual units which get passed in...",
          "Video: 59295451<br>Text: I know that everybody.\nIt seems like just the other day that we were embarking on our quest together...",
          "Video: 59166919<br>Text: And with that, it concludes our session on tools.\nAnd at this point, you are probably an expert on t...",
          "Video: 59295441<br>Text: Okay, so welcome to our leaderboard fast as we go through a ton of essential leaderboards for your\nc...",
          "Video: 59295541<br>Text: And welcome back.\nYou've just seen GPT four zero spectacularly failed to work on our hard Python con...",
          "Video: 59473101<br>Text: Welcome back.\nSo about ten minutes later, maybe 15 minutes later, the run has completed.\nAnd how do ...",
          "Video: 59507423<br>Text: So you may remember eons ago when we were building our data set.\nAt the end of that, we uploaded our...",
          "Video: 59295545<br>Text: I really hope you've enjoyed this week.\nWe've got tons done.\nWe've experimented with all sorts of ne...",
          "Video: 59472503<br>Text: Welcome back to Jupyter Lab.\nLast time, we looked at some silly models for predicting the price of p...",
          "Video: 60614591<br>Text: The mantra of this course is that the best way to learn is by doing, and we will be doing stuff toge...",
          "Video: 59473021<br>Text: Welcome to our favorite place to be to JupyterLab.\nHere we are again now in day three.\nIn week six.\n...",
          "Video: 60617255<br>Text: I'm now going to talk for a bit about models.\nA term you often hear is the term frontier models, whi...",
          "Video: 59667829<br>Text: Well.\nHello there.\nLook, I know what you're thinking.\nYou're thinking I peaked too early.\nLast week ...",
          "Video: 59505329<br>Text: Welcome back.\nYou may, like me, have just gone off and got a coffee while things loaded back up agai...",
          "Video: 59669049<br>Text: So what you just saw was an ephemeral app, as it's called, which means just a temporary app that you...",
          "Video: 60619439<br>Text: This now brings us to an extremely important property of LMS called the context window that I want t...",
          "Video: 59668181<br>Text: And so it gives me great pleasure to introduce to you the project that I've lined up for you this we...",
          "Video: 59472441<br>Text: Welcome back.\nSo we've been doing the thoroughly distasteful, unsavory work of feature engineering.\n...",
          "Video: 59507785<br>Text: Well, I'm sure you're fed up of me saying that the moment of truth has arrived, but it really has.\nT...",
          "Video: 59295587<br>Text: When I left you, we had just created this simple user interface for converting from Python to C plus...",
          "Video: 59166465<br>Text: Welcome back to the JupyterLab on Gradio day, so you'll remember where we left off.\nWe'd written two...",
          "Video: 59473071<br>Text: Hey, gang.\nLook, I know what you're thinking.\nThis week was supposed to be training week.\nI set it a...",
          "Video: 59295423<br>Text: Welcome to day two of week four, when we get more into leaderboards so that by the end of this, you'...",
          "Video: 59297723<br>Text: So I know what you're thinking.\nYou're thinking, what's going on here?\nWe're on day five.\nWe're on d...",
          "Video: 59166947<br>Text: Well, thank you for coming along for week two, day four.\nWe have lots of good stuff in store today.\n...",
          "Video: 59666831<br>Text: Take one more moment to look at this very nice diagram that lays it all out, and we will move on.\nNo...",
          "Video: 59295493<br>Text: And welcome to week four, day three.\nAs we are about to embark upon another business project which w...",
          "Video: 60616855<br>Text: Now I know what you're thinking.\nWe've been building environments for so long.\nAre we not done yet?\n...",
          "Video: 59506611<br>Text: So in a future day, I'm going to be training, fine tuning a model and creating a fine tuned model.\nA...",
          "Video: 60616493<br>Text: I'll just take a quick moment to introduce myself to convince you that I am actually qualified to be...",
          "Video: 59166317<br>Text: And welcome to week two, day two, as we continue our adventure into the realm of LMS.\nUh, so today, ...",
          "Video: 59295439<br>Text: So I'm aware that there's a big risk that you are getting fed up of leaderboards, because we've done...",
          "Video: 59472421<br>Text: And welcome back to our final time in Jupyter Lab with traditional machine learning.\nIt's almost ove...",
          "Video: 59472137<br>Text: Well, well, well, it's been a long day, but congratulations, you've made it.\nWe've gone through and ...",
          "Video: 59297693<br>Text: So at the end of each week, it's customary for me to give you a challenge, an assignment to do on\nyo...",
          "Video: 60620143<br>Text: So we're going to make a call to GPT four.\nOh, that's going to ask it to look through a set of links...",
          "Video: 60619501<br>Text: I welcome to day four of our time together.\nThis is a very important day.\nToday we're going to be lo...",
          "Video: 59297743<br>Text: And welcome to day five.\nFor reals.\nWe're actually in the proper Jupyter notebook.\nThis time we're i...",
          "Video: 59166847<br>Text: Well, they say that time flies when you're having fun, and it certainly feels like time is flying.\nU...",
          "Video: 59170223<br>Text: Well.\nFantastic.\nIt's coming up to the end of the week, and that means it's coming up to a challenge...",
          "Video: 59170037<br>Text: So how does it feel to be 30% of the way down the journey to being a proficient LLM engineer?\nTake a...",
          "Video: 59295609<br>Text: You must be feeling absolutely exhausted at this point.\nAnd if you are, that is okay.\nYou have done ...",
          "Video: 60619281<br>Text: Well, I'm delighted to welcome you to day three of our eight week journey together.\nAnd today we're ...",
          "Video: 59472429<br>Text: And continuing on our strategy to solve commercial problems with LMS, we get to step four, which is\n...",
          "Video: 59167009<br>Text: Welcome back.\nIt's time to make our full agent framework.\nI'm super excited about this.\nIt's pulling...",
          "Video: 59166481<br>Text: And here, once more we find ourselves in our favorite place, the Jupyter Lab.\nReady to go with weeks...",
          "Video: 59670933<br>Text: I realized my enthusiasm for this project is a bit insane, but I have to tell you that I am very sat...",
          "Video: 59670073<br>Text: Okay, it's time to complete the Rag workflow in our Jupyter Lab on day 2.3.\nWe've got this function ...",
          "Video: 59673595<br>Text: That concludes a mammoth project.\nThree weeks in the making.\nIn the course of those three weeks, sta...",
          "Video: 59297603<br>Text: And I'm delighted to welcome you back to LM engineering on the day that we turn to vectors.\nFinally,...",
          "Video: 60614541<br>Text: I am delighted to welcome you to the first day of our eight weeks together as you join me on this ad...",
          "Video: 59667357<br>Text: Let's now see our results side by side.\nWe started our journey with a constant model that was at $1....",
          "Video: 59667841<br>Text: Now, look, I know that I went through that very fast, but maybe, uh, you're still, uh, blinking\nat t...",
          "Video: 59472007<br>Text: So I hope you enjoyed our first bash at Scrubbing Data, and that you are now looking through the cod...",
          "Video: 59507435<br>Text: So I'm now going to talk about five important hyperparameters for the training process.\nAnd some of ...",
          "Video: 59509185<br>Text: So this is where I left you looking at this satisfying chart on training loss and seeing the trainin...",
          "Video: 59473159<br>Text: Welcome to Jupyter Lab and welcome to our experiments at the frontier.\nSo we are going to put our fr...",
          "Video: 60619447<br>Text: I want to take a moment to talk about something that's very fundamental to an LLM, which is the numb...",
          "Video: 59166353<br>Text: Well, congratulations on leveling up yet again.\nYou've got some real hard skills that you've added t...",
          "Video: 60619123<br>Text: So what we're now going to do is we're going to look at some models in practice and start to compare...",
          "Video: 59295363<br>Text: Well, another congratulations moment.\nYou have 40% on the way to being an LM engineer at a high leve...",
          "Video: 60619289<br>Text: And now we'll go a bit faster through the other models.\nWe'll start with Google's Gemini.\nI have the...",
          "Video: 59472873<br>Text: So it's quite an adventure that we had at the frontier of what's capable with Llms today, solving a\n...",
          "Video: 60619429<br>Text: Let me talk about some other phenomena that have happened over the last few years.\nOne of them has b...",
          "Video: 59295601<br>Text: So it's time to continue our journey into the world of open source and understand which models we sh...",
          "Video: 59170025<br>Text: And a massive welcome back one more time to LM engineering.\nWe are in week three, day two and we are...",
          "Video: 59166443<br>Text: And welcome back everybody.\nWelcome to week two day three.\nIt's a continuation of our enjoyment of r...",
          "Video: 60620025<br>Text: And welcome back to Jupyter Lab, one of my very favorite places to be.\nWhen Jupyter Lab sprung up on...",
          "Video: 59170055<br>Text: Welcome to the world of Google Colab.\nYou may already be very familiar with Google Colab, even if so..."
         ],
         "type": "scatter",
         "x": [
          -12.589552,
          3.4522862,
          6.075746,
          7.942426,
          -3.525712,
          4.1480594,
          4.6078315,
          -1.7122985,
          -1.6395565,
          -9.307264,
          -6.770974,
          1.4278501,
          -3.795615,
          -5.48206,
          -4.170929,
          0.42981502,
          -3.5235593,
          1.8772042,
          17.16095,
          15.35386,
          -11.031532,
          15.838091,
          14.824762,
          -2.4908643,
          -4.1442113,
          -6.1486583,
          14.927404,
          -2.396536,
          -3.8051388,
          -6.8470283,
          7.2692485,
          -3.5521216,
          -2.7953513,
          -3.2857506,
          -5.7256823,
          9.390827,
          -8.941686,
          8.362188,
          -2.4580688,
          -7.4087963,
          -0.73915297,
          -9.044852,
          4.499095,
          1.223194,
          0.6079307,
          -2.3045015,
          9.307752,
          4.968605,
          -3.0444636,
          -13.019468,
          -1.9913696,
          16.247093,
          -6.6251817,
          -3.236832,
          2.7420254,
          8.059585,
          5.8575497,
          1.3678622,
          14.408681,
          -7.4271216,
          4.6005616,
          -6.2227287,
          -8.091358,
          -1.0886598,
          3.9747384,
          0.32758102,
          -5.358367,
          0.61464316,
          -10.948633,
          -13.510744,
          -10.267108,
          3.5313623,
          -4.744116,
          0.98348933,
          15.8871355,
          8.520779,
          12.316195,
          13.00314,
          -7.271094,
          -12.220864,
          -1.1228861,
          8.195982,
          15.675435,
          3.5282235,
          2.7380142,
          3.0779696,
          -7.539173,
          9.471518,
          2.180644,
          1.8750061,
          1.8318319,
          -7.089598,
          -0.79000425,
          0.13995205,
          16.312626,
          -3.438324,
          -4.710372,
          6.9159217,
          4.997074,
          -11.944866,
          -6.278514,
          -7.310172,
          -8.248277,
          -0.2617442,
          -2.001054,
          -2.4265862,
          7.9734154,
          -4.359084,
          1.4919127,
          -0.38369736,
          2.8925261,
          2.770904,
          11.788717,
          -11.200065,
          7.0120173,
          -12.489671,
          -7.3114347,
          -1.5968479,
          -2.0740008,
          -7.660865,
          1.4215823,
          3.4180312,
          -5.9557977,
          -4.101128,
          -7.1637955,
          1.2174717,
          -8.017974,
          13.607655,
          -8.332471,
          12.951081,
          13.259139,
          7.851571,
          11.287736,
          -8.430205,
          -2.83165,
          -9.306727,
          1.3151592,
          -2.5466766,
          9.444017,
          -12.522999,
          -10.38123,
          -7.0192504,
          0.9397985,
          -9.068451,
          4.640919,
          -2.51455,
          5.657744,
          1.8063583,
          -15.553587,
          0.9260013,
          -4.1032104,
          4.0678425,
          6.9909325,
          4.943192,
          -2.3060699,
          1.6395743,
          -0.48130858,
          1.4182721,
          -0.63343734,
          5.6635394,
          -3.9217196,
          -6.3144593,
          8.239023,
          8.01618,
          -8.5425,
          -0.17059784,
          -6.761717,
          5.7745337,
          -1.1535196,
          -2.372529,
          3.1349926,
          14.739626,
          -3.0802853,
          -13.388992,
          3.012913,
          10.2796135,
          -13.004479,
          -0.6004416,
          -2.7484965,
          4.0349708,
          1.1794678,
          -3.6047134,
          2.0950997,
          3.1776624,
          5.355312,
          9.249312,
          -5.047935,
          -2.5895002,
          -6.023992,
          0.42378932,
          6.4555655,
          11.28314,
          -6.1557565,
          2.6091251,
          -6.8104343,
          4.435232,
          -6.023258,
          16.286194,
          -0.5731437,
          2.0213904,
          8.013111,
          -1.5368563,
          -10.384564,
          -8.238789,
          -0.057244953,
          -15.348441,
          -1.7015631,
          6.999166,
          2.5275056,
          8.751711,
          1.0946581,
          -8.001234,
          2.8864157,
          -7.969383,
          -0.49457392,
          5.2979984,
          -7.2938204
         ],
         "y": [
          -6.5300555,
          14.089418,
          12.162957,
          -0.80311126,
          -1.6755519,
          -13.505905,
          6.5699277,
          1.4233526,
          3.7408068,
          -3.009902,
          -1.6519994,
          9.911368,
          14.304171,
          -9.145412,
          6.8292613,
          4.1779256,
          -13.0463,
          -11.951641,
          5.743851,
          10.09115,
          -8.627289,
          2.584683,
          7.23334,
          6.759529,
          4.1768756,
          12.57557,
          9.190438,
          13.93031,
          5.511717,
          -11.910828,
          5.8589373,
          3.6352885,
          -13.270146,
          -2.0432546,
          -9.36256,
          -4.0989513,
          2.833454,
          -4.2829947,
          -6.8667107,
          -5.736574,
          11.985562,
          0.33564866,
          -7.6441755,
          11.567259,
          10.677815,
          -9.594754,
          14.068278,
          -2.490878,
          -4.379241,
          -6.612759,
          -12.312431,
          2.8374946,
          10.107471,
          0.86265963,
          -7.4858155,
          13.485198,
          0.44996768,
          0.12787041,
          9.892149,
          -7.652323,
          13.810954,
          13.420327,
          -9.137389,
          14.72838,
          7.676501,
          -12.387229,
          14.694999,
          -5.226657,
          -8.565104,
          -5.734247,
          0.18139325,
          -9.293782,
          14.728803,
          -13.8647995,
          6.203831,
          0.3127214,
          8.967697,
          -1.4659885,
          -1.9273498,
          3.1576743,
          -2.5850005,
          5.1483097,
          5.489101,
          8.593102,
          -9.933031,
          -4.0722184,
          -10.497164,
          -10.699288,
          1.5761652,
          -3.9312649,
          -7.012359,
          1.2585955,
          3.0229156,
          -16.250467,
          6.635525,
          6.7354093,
          8.468663,
          -1.6286882,
          10.374195,
          -10.649093,
          -4.4278836,
          -6.3712683,
          2.0350108,
          4.080304,
          11.325701,
          2.5883422,
          13.5416975,
          -11.214315,
          -11.917827,
          -2.9803138,
          10.627456,
          2.9241033,
          7.383127,
          -11.1040945,
          5.136991,
          -10.0327215,
          -16.114536,
          -12.599517,
          -2.9481568,
          -11.174494,
          -8.890177,
          -1.0979837,
          6.8131933,
          1.463663,
          0.48312876,
          12.914509,
          -12.583761,
          8.630306,
          -4.9693522,
          -1.45638,
          8.836656,
          14.184286,
          9.729582,
          0.11569965,
          -12.046801,
          -3.562859,
          8.306646,
          -0.12532109,
          1.8029642,
          -7.7512345,
          -2.2794526,
          11.317182,
          8.203367,
          -1.5793608,
          -7.4279957,
          10.902695,
          9.414275,
          -6.943587,
          -9.714286,
          -2.107979,
          8.535427,
          -2.2587268,
          4.7189612,
          -9.422279,
          -9.95208,
          1.4961839,
          -15.637048,
          5.8088226,
          -10.609174,
          -0.896489,
          2.6177058,
          -6.1964593,
          -10.441606,
          -5.6452084,
          6.2846713,
          -16.04126,
          -9.215314,
          5.74158,
          14.189653,
          -6.3043413,
          -2.132232,
          5.4891644,
          9.997777,
          -10.8906975,
          3.0431316,
          -3.8775747,
          -7.930391,
          6.087151,
          13.401266,
          -3.5819368,
          -10.400259,
          -3.2769384,
          5.1977687,
          11.534197,
          1.2013716,
          9.190291,
          4.5081005,
          4.3416286,
          2.9420025,
          -1.041198,
          -0.5506536,
          6.695455,
          9.870885,
          9.233299,
          5.8174458,
          -13.40291,
          5.86892,
          5.1465583,
          5.9692817,
          -8.088498,
          -9.699435,
          -4.3566523,
          -11.696756,
          -11.084373,
          -9.227834,
          -9.344566,
          8.588015,
          0.74937767,
          -1.7350386,
          0.8596554,
          -8.018119,
          9.262971,
          0.69532895,
          -0.87655604,
          9.858918,
          12.275479,
          -16.078566
         ]
        }
       ],
       "layout": {
        "height": 600,
        "margin": {
         "b": 10,
         "l": 10,
         "r": 20,
         "t": 40
        },
        "scene": {
         "xaxis": {
          "title": {
           "text": "x"
          }
         },
         "yaxis": {
          "title": {
           "text": "y"
          }
         }
        },
        "template": {
         "data": {
          "bar": [
           {
            "error_x": {
             "color": "#2a3f5f"
            },
            "error_y": {
             "color": "#2a3f5f"
            },
            "marker": {
             "line": {
              "color": "#E5ECF6",
              "width": 0.5
             },
             "pattern": {
              "fillmode": "overlay",
              "size": 10,
              "solidity": 0.2
             }
            },
            "type": "bar"
           }
          ],
          "barpolar": [
           {
            "marker": {
             "line": {
              "color": "#E5ECF6",
              "width": 0.5
             },
             "pattern": {
              "fillmode": "overlay",
              "size": 10,
              "solidity": 0.2
             }
            },
            "type": "barpolar"
           }
          ],
          "carpet": [
           {
            "aaxis": {
             "endlinecolor": "#2a3f5f",
             "gridcolor": "white",
             "linecolor": "white",
             "minorgridcolor": "white",
             "startlinecolor": "#2a3f5f"
            },
            "baxis": {
             "endlinecolor": "#2a3f5f",
             "gridcolor": "white",
             "linecolor": "white",
             "minorgridcolor": "white",
             "startlinecolor": "#2a3f5f"
            },
            "type": "carpet"
           }
          ],
          "choropleth": [
           {
            "colorbar": {
             "outlinewidth": 0,
             "ticks": ""
            },
            "type": "choropleth"
           }
          ],
          "contour": [
           {
            "colorbar": {
             "outlinewidth": 0,
             "ticks": ""
            },
            "colorscale": [
             [
              0,
              "#0d0887"
             ],
             [
              0.1111111111111111,
              "#46039f"
             ],
             [
              0.2222222222222222,
              "#7201a8"
             ],
             [
              0.3333333333333333,
              "#9c179e"
             ],
             [
              0.4444444444444444,
              "#bd3786"
             ],
             [
              0.5555555555555556,
              "#d8576b"
             ],
             [
              0.6666666666666666,
              "#ed7953"
             ],
             [
              0.7777777777777778,
              "#fb9f3a"
             ],
             [
              0.8888888888888888,
              "#fdca26"
             ],
             [
              1,
              "#f0f921"
             ]
            ],
            "type": "contour"
           }
          ],
          "contourcarpet": [
           {
            "colorbar": {
             "outlinewidth": 0,
             "ticks": ""
            },
            "type": "contourcarpet"
           }
          ],
          "heatmap": [
           {
            "colorbar": {
             "outlinewidth": 0,
             "ticks": ""
            },
            "colorscale": [
             [
              0,
              "#0d0887"
             ],
             [
              0.1111111111111111,
              "#46039f"
             ],
             [
              0.2222222222222222,
              "#7201a8"
             ],
             [
              0.3333333333333333,
              "#9c179e"
             ],
             [
              0.4444444444444444,
              "#bd3786"
             ],
             [
              0.5555555555555556,
              "#d8576b"
             ],
             [
              0.6666666666666666,
              "#ed7953"
             ],
             [
              0.7777777777777778,
              "#fb9f3a"
             ],
             [
              0.8888888888888888,
              "#fdca26"
             ],
             [
              1,
              "#f0f921"
             ]
            ],
            "type": "heatmap"
           }
          ],
          "heatmapgl": [
           {
            "colorbar": {
             "outlinewidth": 0,
             "ticks": ""
            },
            "colorscale": [
             [
              0,
              "#0d0887"
             ],
             [
              0.1111111111111111,
              "#46039f"
             ],
             [
              0.2222222222222222,
              "#7201a8"
             ],
             [
              0.3333333333333333,
              "#9c179e"
             ],
             [
              0.4444444444444444,
              "#bd3786"
             ],
             [
              0.5555555555555556,
              "#d8576b"
             ],
             [
              0.6666666666666666,
              "#ed7953"
             ],
             [
              0.7777777777777778,
              "#fb9f3a"
             ],
             [
              0.8888888888888888,
              "#fdca26"
             ],
             [
              1,
              "#f0f921"
             ]
            ],
            "type": "heatmapgl"
           }
          ],
          "histogram": [
           {
            "marker": {
             "pattern": {
              "fillmode": "overlay",
              "size": 10,
              "solidity": 0.2
             }
            },
            "type": "histogram"
           }
          ],
          "histogram2d": [
           {
            "colorbar": {
             "outlinewidth": 0,
             "ticks": ""
            },
            "colorscale": [
             [
              0,
              "#0d0887"
             ],
             [
              0.1111111111111111,
              "#46039f"
             ],
             [
              0.2222222222222222,
              "#7201a8"
             ],
             [
              0.3333333333333333,
              "#9c179e"
             ],
             [
              0.4444444444444444,
              "#bd3786"
             ],
             [
              0.5555555555555556,
              "#d8576b"
             ],
             [
              0.6666666666666666,
              "#ed7953"
             ],
             [
              0.7777777777777778,
              "#fb9f3a"
             ],
             [
              0.8888888888888888,
              "#fdca26"
             ],
             [
              1,
              "#f0f921"
             ]
            ],
            "type": "histogram2d"
           }
          ],
          "histogram2dcontour": [
           {
            "colorbar": {
             "outlinewidth": 0,
             "ticks": ""
            },
            "colorscale": [
             [
              0,
              "#0d0887"
             ],
             [
              0.1111111111111111,
              "#46039f"
             ],
             [
              0.2222222222222222,
              "#7201a8"
             ],
             [
              0.3333333333333333,
              "#9c179e"
             ],
             [
              0.4444444444444444,
              "#bd3786"
             ],
             [
              0.5555555555555556,
              "#d8576b"
             ],
             [
              0.6666666666666666,
              "#ed7953"
             ],
             [
              0.7777777777777778,
              "#fb9f3a"
             ],
             [
              0.8888888888888888,
              "#fdca26"
             ],
             [
              1,
              "#f0f921"
             ]
            ],
            "type": "histogram2dcontour"
           }
          ],
          "mesh3d": [
           {
            "colorbar": {
             "outlinewidth": 0,
             "ticks": ""
            },
            "type": "mesh3d"
           }
          ],
          "parcoords": [
           {
            "line": {
             "colorbar": {
              "outlinewidth": 0,
              "ticks": ""
             }
            },
            "type": "parcoords"
           }
          ],
          "pie": [
           {
            "automargin": true,
            "type": "pie"
           }
          ],
          "scatter": [
           {
            "fillpattern": {
             "fillmode": "overlay",
             "size": 10,
             "solidity": 0.2
            },
            "type": "scatter"
           }
          ],
          "scatter3d": [
           {
            "line": {
             "colorbar": {
              "outlinewidth": 0,
              "ticks": ""
             }
            },
            "marker": {
             "colorbar": {
              "outlinewidth": 0,
              "ticks": ""
             }
            },
            "type": "scatter3d"
           }
          ],
          "scattercarpet": [
           {
            "marker": {
             "colorbar": {
              "outlinewidth": 0,
              "ticks": ""
             }
            },
            "type": "scattercarpet"
           }
          ],
          "scattergeo": [
           {
            "marker": {
             "colorbar": {
              "outlinewidth": 0,
              "ticks": ""
             }
            },
            "type": "scattergeo"
           }
          ],
          "scattergl": [
           {
            "marker": {
             "colorbar": {
              "outlinewidth": 0,
              "ticks": ""
             }
            },
            "type": "scattergl"
           }
          ],
          "scattermapbox": [
           {
            "marker": {
             "colorbar": {
              "outlinewidth": 0,
              "ticks": ""
             }
            },
            "type": "scattermapbox"
           }
          ],
          "scatterpolar": [
           {
            "marker": {
             "colorbar": {
              "outlinewidth": 0,
              "ticks": ""
             }
            },
            "type": "scatterpolar"
           }
          ],
          "scatterpolargl": [
           {
            "marker": {
             "colorbar": {
              "outlinewidth": 0,
              "ticks": ""
             }
            },
            "type": "scatterpolargl"
           }
          ],
          "scatterternary": [
           {
            "marker": {
             "colorbar": {
              "outlinewidth": 0,
              "ticks": ""
             }
            },
            "type": "scatterternary"
           }
          ],
          "surface": [
           {
            "colorbar": {
             "outlinewidth": 0,
             "ticks": ""
            },
            "colorscale": [
             [
              0,
              "#0d0887"
             ],
             [
              0.1111111111111111,
              "#46039f"
             ],
             [
              0.2222222222222222,
              "#7201a8"
             ],
             [
              0.3333333333333333,
              "#9c179e"
             ],
             [
              0.4444444444444444,
              "#bd3786"
             ],
             [
              0.5555555555555556,
              "#d8576b"
             ],
             [
              0.6666666666666666,
              "#ed7953"
             ],
             [
              0.7777777777777778,
              "#fb9f3a"
             ],
             [
              0.8888888888888888,
              "#fdca26"
             ],
             [
              1,
              "#f0f921"
             ]
            ],
            "type": "surface"
           }
          ],
          "table": [
           {
            "cells": {
             "fill": {
              "color": "#EBF0F8"
             },
             "line": {
              "color": "white"
             }
            },
            "header": {
             "fill": {
              "color": "#C8D4E3"
             },
             "line": {
              "color": "white"
             }
            },
            "type": "table"
           }
          ]
         },
         "layout": {
          "annotationdefaults": {
           "arrowcolor": "#2a3f5f",
           "arrowhead": 0,
           "arrowwidth": 1
          },
          "autotypenumbers": "strict",
          "coloraxis": {
           "colorbar": {
            "outlinewidth": 0,
            "ticks": ""
           }
          },
          "colorscale": {
           "diverging": [
            [
             0,
             "#8e0152"
            ],
            [
             0.1,
             "#c51b7d"
            ],
            [
             0.2,
             "#de77ae"
            ],
            [
             0.3,
             "#f1b6da"
            ],
            [
             0.4,
             "#fde0ef"
            ],
            [
             0.5,
             "#f7f7f7"
            ],
            [
             0.6,
             "#e6f5d0"
            ],
            [
             0.7,
             "#b8e186"
            ],
            [
             0.8,
             "#7fbc41"
            ],
            [
             0.9,
             "#4d9221"
            ],
            [
             1,
             "#276419"
            ]
           ],
           "sequential": [
            [
             0,
             "#0d0887"
            ],
            [
             0.1111111111111111,
             "#46039f"
            ],
            [
             0.2222222222222222,
             "#7201a8"
            ],
            [
             0.3333333333333333,
             "#9c179e"
            ],
            [
             0.4444444444444444,
             "#bd3786"
            ],
            [
             0.5555555555555556,
             "#d8576b"
            ],
            [
             0.6666666666666666,
             "#ed7953"
            ],
            [
             0.7777777777777778,
             "#fb9f3a"
            ],
            [
             0.8888888888888888,
             "#fdca26"
            ],
            [
             1,
             "#f0f921"
            ]
           ],
           "sequentialminus": [
            [
             0,
             "#0d0887"
            ],
            [
             0.1111111111111111,
             "#46039f"
            ],
            [
             0.2222222222222222,
             "#7201a8"
            ],
            [
             0.3333333333333333,
             "#9c179e"
            ],
            [
             0.4444444444444444,
             "#bd3786"
            ],
            [
             0.5555555555555556,
             "#d8576b"
            ],
            [
             0.6666666666666666,
             "#ed7953"
            ],
            [
             0.7777777777777778,
             "#fb9f3a"
            ],
            [
             0.8888888888888888,
             "#fdca26"
            ],
            [
             1,
             "#f0f921"
            ]
           ]
          },
          "colorway": [
           "#636efa",
           "#EF553B",
           "#00cc96",
           "#ab63fa",
           "#FFA15A",
           "#19d3f3",
           "#FF6692",
           "#B6E880",
           "#FF97FF",
           "#FECB52"
          ],
          "font": {
           "color": "#2a3f5f"
          },
          "geo": {
           "bgcolor": "white",
           "lakecolor": "white",
           "landcolor": "#E5ECF6",
           "showlakes": true,
           "showland": true,
           "subunitcolor": "white"
          },
          "hoverlabel": {
           "align": "left"
          },
          "hovermode": "closest",
          "mapbox": {
           "style": "light"
          },
          "paper_bgcolor": "white",
          "plot_bgcolor": "#E5ECF6",
          "polar": {
           "angularaxis": {
            "gridcolor": "white",
            "linecolor": "white",
            "ticks": ""
           },
           "bgcolor": "#E5ECF6",
           "radialaxis": {
            "gridcolor": "white",
            "linecolor": "white",
            "ticks": ""
           }
          },
          "scene": {
           "xaxis": {
            "backgroundcolor": "#E5ECF6",
            "gridcolor": "white",
            "gridwidth": 2,
            "linecolor": "white",
            "showbackground": true,
            "ticks": "",
            "zerolinecolor": "white"
           },
           "yaxis": {
            "backgroundcolor": "#E5ECF6",
            "gridcolor": "white",
            "gridwidth": 2,
            "linecolor": "white",
            "showbackground": true,
            "ticks": "",
            "zerolinecolor": "white"
           },
           "zaxis": {
            "backgroundcolor": "#E5ECF6",
            "gridcolor": "white",
            "gridwidth": 2,
            "linecolor": "white",
            "showbackground": true,
            "ticks": "",
            "zerolinecolor": "white"
           }
          },
          "shapedefaults": {
           "line": {
            "color": "#2a3f5f"
           }
          },
          "ternary": {
           "aaxis": {
            "gridcolor": "white",
            "linecolor": "white",
            "ticks": ""
           },
           "baxis": {
            "gridcolor": "white",
            "linecolor": "white",
            "ticks": ""
           },
           "bgcolor": "#E5ECF6",
           "caxis": {
            "gridcolor": "white",
            "linecolor": "white",
            "ticks": ""
           }
          },
          "title": {
           "x": 0.05
          },
          "xaxis": {
           "automargin": true,
           "gridcolor": "white",
           "linecolor": "white",
           "ticks": "",
           "title": {
            "standoff": 15
           },
           "zerolinecolor": "white",
           "zerolinewidth": 2
          },
          "yaxis": {
           "automargin": true,
           "gridcolor": "white",
           "linecolor": "white",
           "ticks": "",
           "title": {
            "standoff": 15
           },
           "zerolinecolor": "white",
           "zerolinewidth": 2
          }
         }
        },
        "title": {
         "text": "2D Chroma Vector Store Visualization"
        },
        "width": 800
       }
      },
      "image/png": "[encoded data removed]",
      "text/html": [
       "<div>                            <div id=\"269121ac-3c48-48aa-9312-c4aba1769026\" class=\"plotly-graph-div\" style=\"height:600px; width:800px;\"></div>            <script type=\"text/javascript\">                require([\"plotly\"], function(Plotly) {                    window.PLOTLYENV=window.PLOTLYENV || {};                                    if (document.getElementById(\"269121ac-3c48-48aa-9312-c4aba1769026\")) {                    Plotly.newPlot(                        \"269121ac-3c48-48aa-9312-c4aba1769026\",                        [{\"hoverinfo\":\"text\",\"marker\":{\"color\":[\"#d01f72\",\"#75195e\",\"#3678a7\",\"#5b3f83\",\"#74a788\",\"#571122\",\"#4099c1\",\"#659222\",\"#188ca3\",\"#6d4052\",\"#35303c\",\"#a9e927\",\"#29fa15\",\"#71c500\",\"#9b9d6e\",\"#cf7e83\",\"#badd6d\",\"#85fa26\",\"#22463b\",\"#ce865d\",\"#f59c06\",\"#011995\",\"#793548\",\"#ad8b14\",\"#d937bd\",\"#2b9f18\",\"#046e5c\",\"#75b5e3\",\"#c959de\",\"#72e048\",\"#8e8cab\",\"#20f2c3\",\"#64f999\",\"#e69670\",\"#6a0fce\",\"#d65c3a\",\"#7bee34\",\"#4f86b8\",\"#b43417\",\"#4dfb77\",\"#2ae342\",\"#c3e1f2\",\"#12897b\",\"#2b3af3\",\"#7ea8e9\",\"#6ad041\",\"#0bdacc\",\"#99fe53\",\"#4aaf9f\",\"#d156c8\",\"#505bd9\",\"#dc152c\",\"#b52bf6\",\"#9baca0\",\"#a03134\",\"#d43c00\",\"#5af098\",\"#2c168d\",\"#c6016b\",\"#f090af\",\"#482281\",\"#39821f\",\"#e0a8df\",\"#480c89\",\"#08808d\",\"#ac5faf\",\"#0faf59\",\"#79c82a\",\"#e6e164\",\"#0d2037\",\"#8afd40\",\"#2e1afc\",\"#3ec815\",\"#fbfef2\",\"#a63fa4\",\"#b27d2e\",\"#ca3592\",\"#b9fd23\",\"#ac9648\",\"#804ce2\",\"#9b5e28\",\"#a64739\",\"#c457d7\",\"#de30e4\",\"#1f6ab0\",\"#6ff3c5\",\"#6df6ca\",\"#ed694d\",\"#2fef1a\",\"#335dcf\",\"#845aa9\",\"#574e28\",\"#dc95ec\",\"#b2140a\",\"#15ae86\",\"#70d1d9\",\"#6f745a\",\"#b3dba5\",\"#108c41\",\"#268bba\",\"#913568\",\"#1a6fdf\",\"#422abb\",\"#cb725f\",\"#fe62a5\",\"#dfc6c7\",\"#b25d7b\",\"#bd53b1\",\"#796278\",\"#048452\",\"#c6eff5\",\"#d24e5d\",\"#fe8e92\",\"#22398f\",\"#3e5237\",\"#8069bc\",\"#7740be\",\"#cc8ec0\",\"#b280bb\",\"#91f4db\",\"#ac55ba\",\"#c97596\",\"#116019\",\"#43c2e8\",\"#2a2d25\",\"#fc2b74\",\"#ae7afe\",\"#92b4fa\",\"#dd8cd7\",\"#4862ce\",\"#af0f59\",\"#ad6bd0\",\"#3f0a72\",\"#e01073\",\"#144ada\",\"#5cb9ca\",\"#51d0da\",\"#d6d07a\",\"#b61e76\",\"#474ff9\",\"#68bece\",\"#d01b19\",\"#ee26df\",\"#2ebca4\",\"#539908\",\"#ec0a37\",\"#1a5613\",\"#da28db\",\"#246fa5\",\"#bbfe83\",\"#d54222\",\"#580c96\",\"#02cada\",\"#996ff1\",\"#e2a239\",\"#ae5204\",\"#4ce72d\",\"#2cde7f\",\"#b64eac\",\"#591ab9\",\"#a958c9\",\"#696eaa\",\"#4c4355\",\"#6a6c06\",\"#df5d2e\",\"#9780cf\",\"#682d42\",\"#efed10\",\"#1b312a\",\"#dbde1c\",\"#e1b5db\",\"#a95826\",\"#4e797a\",\"#10384a\",\"#9a5ba2\",\"#d34482\",\"#8a29da\",\"#fb9dce\",\"#ff2d6a\",\"#50f10d\",\"#f8d349\",\"#7b4427\",\"#11a70e\",\"#987252\",\"#c932c1\",\"#2d7f7d\",\"#c1e3c5\",\"#0c777d\",\"#0f8781\",\"#dd889c\",\"#799a24\",\"#4212f1\",\"#e6f378\",\"#805527\",\"#091a90\",\"#a9541c\",\"#fcdcad\",\"#01f59b\",\"#94a85d\",\"#426575\",\"#7f03bd\",\"#2dcfac\",\"#52b6df\",\"#73e76a\",\"#d70d97\",\"#601568\",\"#d4b1ce\",\"#7341ee\",\"#bb0ee6\",\"#f645e0\",\"#1c2c7e\",\"#7dd58b\",\"#4b9a93\",\"#9df332\",\"#612b32\",\"#b1c27d\",\"#3626a5\"],\"opacity\":0.8,\"size\":5},\"mode\":\"markers\",\"text\":[\"Video: 59506507\\u003cbr\\u003eText: Well, I realized that was a whole lot of theory, but I hope it gave you a good intuition that will\\nb...\",\"Video: 59671315\\u003cbr\\u003eText: Okay, so here we are, back in Jupyter Lab, ready for the next use of a frontier model, and see this\\n...\",\"Video: 60616895\\u003cbr\\u003eText: It feels like 100 videos ago that I told you that we were going to have instant gratification with o...\",\"Video: 60619275\\u003cbr\\u003eText: And we will conclude our expedition into the world of frontier models through their chat interface b...\",\"Video: 59472693\\u003cbr\\u003eText: Friends.\\nI am absolutely exhausted.\\nI am exhausted and a little tiny bit traumatized.\\nAnd you are so...\",\"Video: 59670121\\u003cbr\\u003eText: So it's business time right now.\\nWe are going to build a Rag pipeline to estimate the price of produ...\",\"Video: 59295619\\u003cbr\\u003eText: Welcome back to the the moment when we bring it all together into a beautiful user interface.\\nBut fi...\",\"Video: 60617163\\u003cbr\\u003eText: And already that wraps up day two.\\nNow that you have built that solution.\\nAnd congratulations on tha...\",\"Video: 60616423\\u003cbr\\u003eText: So I hope you've just enjoyed yourself experimenting with different LMS locally on your box using th...\",\"Video: 59170227\\u003cbr\\u003eText: Welcome back to Google Colab.\\nHere we are ready to explore the wonderful world of Tokenizers.\\nSo, uh...\",\"Video: 59169985\\u003cbr\\u003eText: So I hope you enjoyed that whirlwind tour of Google Colab.\\nHere's just a little screenshot example o...\",\"Video: 60616927\\u003cbr\\u003eText: It's time for our first LM experiment at this point.\\nSo some of this you may know well, you may know...\",\"Video: 59673721\\u003cbr\\u003eText: And here we are in JupyterLab for the last time, and we are looking here at day five, the last day\\no...\",\"Video: 59508055\\u003cbr\\u003eText: I'm so very happy that you've reached this epic moment in the course and that you're hanging in ther...\",\"Video: 59670259\\u003cbr\\u003eText: It's remarkable.\\nBut you are now at the 95% point.\\nThere's 5% remaining of this course.\\nUh, maybe it...\",\"Video: 60616623\\u003cbr\\u003eText: So we're now going to start week one of the course when we are going to be looking at exploring fron...\",\"Video: 59472383\\u003cbr\\u003eText: And welcome back to the week six folder.\\nWe're now at day two, which is the second and final stage o...\",\"Video: 59670171\\u003cbr\\u003eText: So as the very final step on this part four of day two of week eight, we are now going to build an\\ne...\",\"Video: 59297721\\u003cbr\\u003eText: And so now the time has come to talk about the most crucial aspect of Rag, which is the idea of vect...\",\"Video: 59297599\\u003cbr\\u003eText: Well, that was a sneaky detour I took you on in the last one.\\nI hope you enjoyed it though, and I ho...\",\"Video: 59507635\\u003cbr\\u003eText: Look, I hope you're excited.\\nYou really should be.\\nYou've been through 80% of the course and it's al...\",\"Video: 59669375\\u003cbr\\u003eText: Here we are for the day.\\n2.1 notebook.\\nAnd don't let it be said that I don't ever do anything for yo...\",\"Video: 59297733\\u003cbr\\u003eText: Welcome back to JupyterLab and welcome to your first experiment with the world of Long Chain.\\nLet me...\",\"Video: 59670369\\u003cbr\\u003eText: It is terrific that you're hanging on in there and making such great progress with this course.\\nAs w...\",\"Video: 59166281\\u003cbr\\u003eText: And with that, amazingly, you completed day one of week two already and that gets you to the 15% poi...\",\"Video: 59671567\\u003cbr\\u003eText: Well, the first thing you're going to notice is that I don't have a notebook open for you.\\nAnd that'...\",\"Video: 59297593\\u003cbr\\u003eText: And welcome to continuing our journey with Hrag.\\nAnd today it's time to unveil Liang Chen.\\nSo first,...\",\"Video: 59166461\\u003cbr\\u003eText: And welcome back to the lab.\\nHere we are in Jupyter Lab and we are going to go into week two.\\nAnd we...\",\"Video: 59167007\\u003cbr\\u003eText: Well, how fabulous is that?\\nI hope that you are as wowed as I am by our new airline, I assistant and...\",\"Video: 59508121\\u003cbr\\u003eText: The moment has arrived.\\nHere we go.\\nWe're in fine tuning.\\nWe do fine tuning.\\nTrain.\\nThere is also a ...\",\"Video: 59295579\\u003cbr\\u003eText: All right.\\nAre you excited to see how this goes?\\nLet's give it a try.\\nSo in this next section, I cre...\",\"Video: 60620375\\u003cbr\\u003eText: And with that, we've reached an important milestone.\\nThe first week of our eight week journey is com...\",\"Video: 59472491\\u003cbr\\u003eText: Welcome back.\\nIf you are following along with me in JupyterLab, as I hope you are, then you will nee...\",\"Video: 59472425\\u003cbr\\u003eText: Welcome to week six, day three.\\nToday is going to be a day that you will either love or you will hat...\",\"Video: 59508057\\u003cbr\\u003eText: Actually slight change in plan.\\nI'm going to wrap up the day.\\nDay three at this point, and say that ...\",\"Video: 60619577\\u003cbr\\u003eText: And for the final piece of background information, I wanted to take another moment to talk about API...\",\"Video: 59170291\\u003cbr\\u003eText: Welcome back to Colab and welcome back to our business project.\\nSo again our assignment, we are due ...\",\"Video: 60619651\\u003cbr\\u003eText: I mentioned before an AI company called vellum.\\nWhen we were talking about the different questions, ...\",\"Video: 59473191\\u003cbr\\u003eText: And you thought we'd never get here.\\nHere we are in Jupyter Lab, running our fine tuning for a front...\",\"Video: 59170297\\u003cbr\\u003eText: And here we are in Google Colab, ready for fun with models.\\nSo first we do the usual Pip installs an...\",\"Video: 59167015\\u003cbr\\u003eText: Welcome back to Jupyter Lab and welcome to Day Five's Lab.\\nAnd this is going to be lots of creativit...\",\"Video: 59170043\\u003cbr\\u003eText: Let me enthusiastically welcome you all back to week three of our LLM engineering journey.\\nIf you en...\",\"Video: 59473147\\u003cbr\\u003eText: Well, I'm very relieved.\\nI've got that behind me.\\nNo more human testing for me.\\nWe'll have one final...\",\"Video: 59166453\\u003cbr\\u003eText: Welcome back and welcome to our continuing JupyterLab experience.\\nUh, I'm hopefully going to keep yo...\",\"Video: 59166915\\u003cbr\\u003eText: Welcome back to the wonderful world of JupyterLab.\\nAnd here we are in week two.\\nDay three.\\nUh, bring...\",\"Video: 59667365\\u003cbr\\u003eText: Here we are back in Colab, looking at the week seven, day five of the Colab notebooks and I'm on a\\nT...\",\"Video: 60616845\\u003cbr\\u003eText: We're on the home stretch.\\nThis is the final step in the environment setup, and it's an easy one.\\nIt...\",\"Video: 59295459\\u003cbr\\u003eText: And welcome back to More Leaderboard Fest as we go through some more leaderboards.\\nBut this time we'...\",\"Video: 59471979\\u003cbr\\u003eText: So we now turn to the parts of the problem, which is perhaps, let's say, not as glamorous as some\\nof...\",\"Video: 59503705\\u003cbr\\u003eText: And so now we talk about quantization the q and q Laura.\\nQ stands for quantized quantized.\\nLaura.\\nAn...\",\"Video: 59472505\\u003cbr\\u003eText: So the good news is that this is the very final video about data set curation.\\nYou were probably fed...\",\"Video: 59669217\\u003cbr\\u003eText: And welcome to the next part of visualizing the data.\\nAnd just very quickly to show it to you in 3D....\",\"Video: 59671221\\u003cbr\\u003eText: I gotta tell you, I don't like to toot my horn a whole lot, but I do think that I've done a great\\njo...\",\"Video: 59503703\\u003cbr\\u003eText: Well.\\nHello there everybody.\\nI am so grateful that you've made it through to the start of week seven...\",\"Video: 59473201\\u003cbr\\u003eText: Well, before we do a postmortem on what happened, let's just quickly look at the standing the rankin...\",\"Video: 60622463\\u003cbr\\u003eText: In this video, we're going to set up a full data science environment for Mac users.\\nIn the next vide...\",\"Video: 60619299\\u003cbr\\u003eText: Well, I hope you found that both educational and enjoyable.\\nAs we went through and learned so much a...\",\"Video: 59295607\\u003cbr\\u003eText: So to revisit then the solution that we built in the previous day and talk about the metrics.\\nAs I s...\",\"Video: 59297575\\u003cbr\\u003eText: Well, welcome to the final part on rag.\\nAnd this is the session where you go from being a rag expert...\",\"Video: 59507687\\u003cbr\\u003eText: It's time for action, everybody.\\nWe've set up our colab.\\nHere we are, week seven, day three.\\nWe've g...\",\"Video: 59671441\\u003cbr\\u003eText: And welcome once more to our favorite place to be Jupyter Lab, the Paradise for a data scientist exp...\",\"Video: 59673431\\u003cbr\\u003eText: And here we have it.\\nThe user interface is completed.\\nThe extra notification came through on my phon...\",\"Video: 59473137\\u003cbr\\u003eText: Let's get straight to it.\\nSo the place where you can see everything that's going on and get knee dee...\",\"Video: 59166421\\u003cbr\\u003eText: Welcome back to the radio day in the lab.\\nMore to do.\\nLet's keep going.\\nWhere we left off is we had ...\",\"Video: 59295599\\u003cbr\\u003eText: Welcome to the Jupyter Lab for day four.\\nIt's going to look very familiar because it's actually I've...\",\"Video: 59669631\\u003cbr\\u003eText: Here we are in our favorite place to be in JupyterLab, ready for some coding and a lot of coding tha...\",\"Video: 59673663\\u003cbr\\u003eText: But wait, there's more.\\nWe need to add some more to the user interface just to make it look more coo...\",\"Video: 59506929\\u003cbr\\u003eText: And we return to the hugging face open LLM leaderboard.\\nThe first place you go when selecting your b...\",\"Video: 59504785\\u003cbr\\u003eText: So at this point we're going to talk about hyperparameters.\\nAnd we're going to introduce three of th...\",\"Video: 59505337\\u003cbr\\u003eText: So we're now going to look at four bit quantization, the rather remarkable effect of reducing the pr...\",\"Video: 59271655\\u003cbr\\u003eText: So here we are on Hugging Face's main landing page at Hugging Face Core.\\nA URL you know.\\nWell, since...\",\"Video: 59472883\\u003cbr\\u003eText: Okay, time to reveal the results.\\nIt has run to completion.\\nAnd here it is.\\nSo a moment to pause.\\nIt...\",\"Video: 59673639\\u003cbr\\u003eText: And welcome now to the code for our user interface, which we will find in this Python module.\\nPrice ...\",\"Video: 59472463\\u003cbr\\u003eText: So last time we looked at a humble linear regression model with feature engineering, and now we say\\n...\",\"Video: 59297595\\u003cbr\\u003eText: So by the time you're watching this, hopefully you have played yourself with vectors.\\nYou've created...\",\"Video: 60619149\\u003cbr\\u003eText: So we're going to start our exploration into the world of frontier models by playing with the famous...\",\"Video: 59297735\\u003cbr\\u003eText: And at last the time has come to see rag in action.\\nAfter all of this talk, and here we are.\\nWe're i...\",\"Video: 60616407\\u003cbr\\u003eText: And now over to my Mac people.\\nAnd I have news for you.\\nIt's exactly the same thing.\\nYou go to a fav...\",\"Video: 59170235\\u003cbr\\u003eText: So here we are in Google Colab for our first collaborative session on the cloud using a GPU box.\\nOn ...\",\"Video: 59472067\\u003cbr\\u003eText: So we've covered steps 1 to 4 of the five step strategy.\\nAnd that brings us to step five, which is p...\",\"Video: 59472011\\u003cbr\\u003eText: Welcome everybody.\\nSo in the past I've said quite a few times, I am excited to start this this week ...\",\"Video: 59295553\\u003cbr\\u003eText: Welcome back.\\nIn the last part, we gave our GPT four and clawed the challenge of converting a simple...\",\"Video: 59297773\\u003cbr\\u003eText: Well, I hope you're eager with anticipation for this session in JupyterLab as we finally get to see\\n...\",\"Video: 59295583\\u003cbr\\u003eText: And here we are back in JupyterLab.\\nIt's been a minute.\\nWe've been working in Colab for last week, a...\",\"Video: 59507329\\u003cbr\\u003eText: Okay.\\nIt's moment of truth time.\\nI have just taken our class tester.\\nYou remember this class?\\nUh, it...\",\"Video: 59295429\\u003cbr\\u003eText: Continuing our investigation of benchmarks, and this will become more real when we actually see some...\",\"Video: 60595637\\u003cbr\\u003eText: Here we are back in the Colab, which has been running overnight for me and probably for you too, I\\nh...\",\"Video: 59668027\\u003cbr\\u003eText: And so here we are at the home page for modal.\\nAt modal.com spelt model not not model which is confu...\",\"Video: 59295527\\u003cbr\\u003eText: I'm so happy to welcome you to week four, day four on our journey to LLM Engineering and Mastery.\\nHe...\",\"Video: 59295377\\u003cbr\\u003eText: Just before we go on to some of the more advanced metrics, I want to mention for a second something\\n...\",\"Video: 59666211\\u003cbr\\u003eText: So before we try our new model and one more recap on the models so far and keep notes of this so we\\n...\",\"Video: 59170107\\u003cbr\\u003eText: And once again, it's that moment when you take a pause and congratulate yourself on another day of\\ns...\",\"Video: 60616833\\u003cbr\\u003eText: So I realized that day one of week one has been a pretty long day, and I assure you that the other,\\n...\",\"Video: 59472413\\u003cbr\\u003eText: Wonderful.\\nWhere we left off is we had just created the Get Features function, which builds our feat...\",\"Video: 59297561\\u003cbr\\u003eText: And would you believe at this point you're 55% of the way along the journey?\\nUh, it's been a while s...\",\"Video: 59669211\\u003cbr\\u003eText: Well, we took on a lot today and we seem to have been successful.\\nThese red icons that you see on th...\",\"Video: 59166981\\u003cbr\\u003eText: Welcome to week two, day five.\\nThe last day of week two where a lot is coming together.\\nI am so grat...\",\"Video: 60619227\\u003cbr\\u003eText: And now let's move to Claude from anthropic, my favorite model and typically the favorite model of\\nm...\",\"Video: 60620395\\u003cbr\\u003eText: Welcome back to Jupyter Lab, where I want to show you the assignment, the homework exercise for you\\n...\",\"Video: 59665127\\u003cbr\\u003eText: Well hi there everybody.\\nI'm not going to give you my usual song and dance about how excited you are...\",\"Video: 59668923\\u003cbr\\u003eText: Well, welcome back to Jupyter Lab for what will be an epic finale to our time in this platform.\\nAnd ...\",\"Video: 59504887\\u003cbr\\u003eText: Well, here we are again in Google Colab.\\nIt's been a minute since we were here, and welcome back to ...\",\"Video: 59170165\\u003cbr\\u003eText: Welcome, everybody to the last day of week three.\\nWeek three.\\nDay five.\\nWe're here already wrapping ...\",\"Video: 60617251\\u003cbr\\u003eText: Congratulations are definitely in order.\\nYesterday was a mammoth first day on this course and you go...\",\"Video: 59166951\\u003cbr\\u003eText: All right, back to the lab.\\nBack to our project.\\nTime to work with tools.\\nI am in the week two folde...\",\"Video: 60619619\\u003cbr\\u003eText: Well, day four was an information dense day.\\nI do hope that you learned some something useful here, ...\",\"Video: 60616663\\u003cbr\\u003eText: Well.\\nHi there, this is time for PC people to get set up.\\nSo all you Mac people out there, you don't...\",\"Video: 59508175\\u003cbr\\u003eText: So I'm taking a moment now to explain that the training costs of optimizing a model for this course\\n...\",\"Video: 59670087\\u003cbr\\u003eText: And welcome to part four of day two of week eight.\\nUh, there's a lot happening this week, and I have...\",\"Video: 59506713\\u003cbr\\u003eText: Hi everyone.\\nSo the reason I'm so fired up about week seven is that this is the time when we actuall...\",\"Video: 60620169\\u003cbr\\u003eText: Hopefully you found this super satisfying to be able to have this nice business result and have it c...\",\"Video: 59295435\\u003cbr\\u003eText: Well, just before we wrap up, let me introduce this week's challenge and talk about what we're going...\",\"Video: 59297609\\u003cbr\\u003eText: Last week, we worked with models that were able to speed up code by a factor of 60,000 times, which\\n...\",\"Video: 59507489\\u003cbr\\u003eText: Continuing our adventure through hyperparameters for training.\\nThe next one is pretty crucial and it...\",\"Video: 59295549\\u003cbr\\u003eText: And welcome back to our challenge again.\\nAnd this time we are working with our beautiful prototype.\\n...\",\"Video: 59665129\\u003cbr\\u003eText: And now let me make this real for you by showing you some, some diagrams, particularly now looking\\na...\",\"Video: 59169991\\u003cbr\\u003eText: Okay, so that was your introduction to Hugging Face.\\nAnd now I'm going to turn to a different resour...\",\"Video: 59472027\\u003cbr\\u003eText: And now the time has come to curate our data set.\\nAnd the way we're going to do this is we're going ...\",\"Video: 59472307\\u003cbr\\u003eText: Welcome to week six.\\nDay two a day.\\nWhen we get back into the data, we look back in anger at our dat...\",\"Video: 59508289\\u003cbr\\u003eText: So here we are now, back in the Colab, in the same one that we kicked off in the previous day.\\nIt's ...\",\"Video: 59472333\\u003cbr\\u003eText: Thank you for putting up with me during my foray into traditional machine learning.\\nI think it was u...\",\"Video: 59295431\\u003cbr\\u003eText: Now I want to take a quick moment to give you a flyby of five different ways that llms are used comm...\",\"Video: 59673449\\u003cbr\\u003eText: Well, I have to tell you that I'm a little bit sad.\\nThis is the beginning of the beginning of the en...\",\"Video: 59669389\\u003cbr\\u003eText: Well.\\nHi there.\\nSo you've made it to day two of week eight, and I am super grateful that you've been...\",\"Video: 59170057\\u003cbr\\u003eText: And so at the beginning of this week, we started by talking about hugging face pipelines.\\nAnd you us...\",\"Video: 59166949\\u003cbr\\u003eText: Welcome back to making chatbots.\\nLet's keep going.\\nSo for the next part we're going to beef up the s...\",\"Video: 59473019\\u003cbr\\u003eText: Welcome back to an action packed time of of training.\\nSo now, after waiting about five minutes when ...\",\"Video: 59297585\\u003cbr\\u003eText: Before we move on, let me show you one more time this fabulous slide that describes the simple three...\",\"Video: 59170255\\u003cbr\\u003eText: And welcome back to us continuing our journey through the model class in Hugging Face Transformers l...\",\"Video: 60614589\\u003cbr\\u003eText: So we're now going to run a large language model directly on your box using a platform called llama,...\",\"Video: 59297601\\u003cbr\\u003eText: I'm not going to lie, at this point you have every reason to be impatient with me.\\nWe've been yammer...\",\"Video: 60616629\\u003cbr\\u003eText: And welcome back to team PC and Team Mac as we come back together again for a quick video.\\nIn this o...\",\"Video: 59297749\\u003cbr\\u003eText: It's always welcome back to JupyterLab, my favorite place to be.\\nAnd now we are, of course in the we...\",\"Video: 59170135\\u003cbr\\u003eText: Welcome.\\nIt's week three.\\nIt's day four.\\nWe are back on the adventure in open source land, back inve...\",\"Video: 59472017\\u003cbr\\u003eText: And this is the first time that we'll be coding against our big project of the course.\\nWelcome to Ju...\",\"Video: 59507017\\u003cbr\\u003eText: Welcome to Colab.\\nWelcome to the week seven day two Colab.\\nAnd just before we try our base model, we...\",\"Video: 60619883\\u003cbr\\u003eText: And now we've arrived at an exciting moment in our first week.\\nThe conclusion of the first week is w...\",\"Video: 59508297\\u003cbr\\u003eText: What more is there to say, really?\\nTomorrow is the day for results.\\nA day that very excited indeed a...\",\"Video: 60619247\\u003cbr\\u003eText: We're going to spend a little bit more time with GPT just to try out a few more interesting things.\\n...\",\"Video: 59504769\\u003cbr\\u003eText: Without further ado, we're going to get stuck into it.\\nTalking about Laura.\\nLow rank adaptation.\\nAnd...\",\"Video: 59170233\\u003cbr\\u003eText: Welcome back to our continued exploits with Tokenizers.\\nWhat we're now going to look at is what's ca...\",\"Video: 59671231\\u003cbr\\u003eText: And here we are back in the Jupyter Lab for the fast approaching conclusion with a really great proj...\",\"Video: 60620397\\u003cbr\\u003eText: Well, that's a fantastic result to have now arrived towards the end of week one and having completed...\",\"Video: 59170093\\u003cbr\\u003eText: I'm delighted to see you again.\\nAs we get started with day three of week three of our adventure and ...\",\"Video: 59473089\\u003cbr\\u003eText: Welcome back.\\nSo hopefully you are still impressed by the GPT four mini results.\\nThe frontier model ...\",\"Video: 60395261\\u003cbr\\u003eText: Let's keep going with our project to equip our LM with a tool.\\nWe just created this piece of code to...\",\"Video: 60617259\\u003cbr\\u003eText: I'm excited to introduce you to your first exercise, and I'm looking forward to seeing what you make...\",\"Video: 59507313\\u003cbr\\u003eText: And it's this time again, when we look at the podium of how our models are performing across the boa...\",\"Video: 60619721\\u003cbr\\u003eText: Now it's time to talk for a minute about tokens.\\nTokens are the individual units which get passed in...\",\"Video: 59295451\\u003cbr\\u003eText: I know that everybody.\\nIt seems like just the other day that we were embarking on our quest together...\",\"Video: 59166919\\u003cbr\\u003eText: And with that, it concludes our session on tools.\\nAnd at this point, you are probably an expert on t...\",\"Video: 59295441\\u003cbr\\u003eText: Okay, so welcome to our leaderboard fast as we go through a ton of essential leaderboards for your\\nc...\",\"Video: 59295541\\u003cbr\\u003eText: And welcome back.\\nYou've just seen GPT four zero spectacularly failed to work on our hard Python con...\",\"Video: 59473101\\u003cbr\\u003eText: Welcome back.\\nSo about ten minutes later, maybe 15 minutes later, the run has completed.\\nAnd how do ...\",\"Video: 59507423\\u003cbr\\u003eText: So you may remember eons ago when we were building our data set.\\nAt the end of that, we uploaded our...\",\"Video: 59295545\\u003cbr\\u003eText: I really hope you've enjoyed this week.\\nWe've got tons done.\\nWe've experimented with all sorts of ne...\",\"Video: 59472503\\u003cbr\\u003eText: Welcome back to Jupyter Lab.\\nLast time, we looked at some silly models for predicting the price of p...\",\"Video: 60614591\\u003cbr\\u003eText: The mantra of this course is that the best way to learn is by doing, and we will be doing stuff toge...\",\"Video: 59473021\\u003cbr\\u003eText: Welcome to our favorite place to be to JupyterLab.\\nHere we are again now in day three.\\nIn week six.\\n...\",\"Video: 60617255\\u003cbr\\u003eText: I'm now going to talk for a bit about models.\\nA term you often hear is the term frontier models, whi...\",\"Video: 59667829\\u003cbr\\u003eText: Well.\\nHello there.\\nLook, I know what you're thinking.\\nYou're thinking I peaked too early.\\nLast week ...\",\"Video: 59505329\\u003cbr\\u003eText: Welcome back.\\nYou may, like me, have just gone off and got a coffee while things loaded back up agai...\",\"Video: 59669049\\u003cbr\\u003eText: So what you just saw was an ephemeral app, as it's called, which means just a temporary app that you...\",\"Video: 60619439\\u003cbr\\u003eText: This now brings us to an extremely important property of LMS called the context window that I want t...\",\"Video: 59668181\\u003cbr\\u003eText: And so it gives me great pleasure to introduce to you the project that I've lined up for you this we...\",\"Video: 59472441\\u003cbr\\u003eText: Welcome back.\\nSo we've been doing the thoroughly distasteful, unsavory work of feature engineering.\\n...\",\"Video: 59507785\\u003cbr\\u003eText: Well, I'm sure you're fed up of me saying that the moment of truth has arrived, but it really has.\\nT...\",\"Video: 59295587\\u003cbr\\u003eText: When I left you, we had just created this simple user interface for converting from Python to C plus...\",\"Video: 59166465\\u003cbr\\u003eText: Welcome back to the JupyterLab on Gradio day, so you'll remember where we left off.\\nWe'd written two...\",\"Video: 59473071\\u003cbr\\u003eText: Hey, gang.\\nLook, I know what you're thinking.\\nThis week was supposed to be training week.\\nI set it a...\",\"Video: 59295423\\u003cbr\\u003eText: Welcome to day two of week four, when we get more into leaderboards so that by the end of this, you'...\",\"Video: 59297723\\u003cbr\\u003eText: So I know what you're thinking.\\nYou're thinking, what's going on here?\\nWe're on day five.\\nWe're on d...\",\"Video: 59166947\\u003cbr\\u003eText: Well, thank you for coming along for week two, day four.\\nWe have lots of good stuff in store today.\\n...\",\"Video: 59666831\\u003cbr\\u003eText: Take one more moment to look at this very nice diagram that lays it all out, and we will move on.\\nNo...\",\"Video: 59295493\\u003cbr\\u003eText: And welcome to week four, day three.\\nAs we are about to embark upon another business project which w...\",\"Video: 60616855\\u003cbr\\u003eText: Now I know what you're thinking.\\nWe've been building environments for so long.\\nAre we not done yet?\\n...\",\"Video: 59506611\\u003cbr\\u003eText: So in a future day, I'm going to be training, fine tuning a model and creating a fine tuned model.\\nA...\",\"Video: 60616493\\u003cbr\\u003eText: I'll just take a quick moment to introduce myself to convince you that I am actually qualified to be...\",\"Video: 59166317\\u003cbr\\u003eText: And welcome to week two, day two, as we continue our adventure into the realm of LMS.\\nUh, so today, ...\",\"Video: 59295439\\u003cbr\\u003eText: So I'm aware that there's a big risk that you are getting fed up of leaderboards, because we've done...\",\"Video: 59472421\\u003cbr\\u003eText: And welcome back to our final time in Jupyter Lab with traditional machine learning.\\nIt's almost ove...\",\"Video: 59472137\\u003cbr\\u003eText: Well, well, well, it's been a long day, but congratulations, you've made it.\\nWe've gone through and ...\",\"Video: 59297693\\u003cbr\\u003eText: So at the end of each week, it's customary for me to give you a challenge, an assignment to do on\\nyo...\",\"Video: 60620143\\u003cbr\\u003eText: So we're going to make a call to GPT four.\\nOh, that's going to ask it to look through a set of links...\",\"Video: 60619501\\u003cbr\\u003eText: I welcome to day four of our time together.\\nThis is a very important day.\\nToday we're going to be lo...\",\"Video: 59297743\\u003cbr\\u003eText: And welcome to day five.\\nFor reals.\\nWe're actually in the proper Jupyter notebook.\\nThis time we're i...\",\"Video: 59166847\\u003cbr\\u003eText: Well, they say that time flies when you're having fun, and it certainly feels like time is flying.\\nU...\",\"Video: 59170223\\u003cbr\\u003eText: Well.\\nFantastic.\\nIt's coming up to the end of the week, and that means it's coming up to a challenge...\",\"Video: 59170037\\u003cbr\\u003eText: So how does it feel to be 30% of the way down the journey to being a proficient LLM engineer?\\nTake a...\",\"Video: 59295609\\u003cbr\\u003eText: You must be feeling absolutely exhausted at this point.\\nAnd if you are, that is okay.\\nYou have done ...\",\"Video: 60619281\\u003cbr\\u003eText: Well, I'm delighted to welcome you to day three of our eight week journey together.\\nAnd today we're ...\",\"Video: 59472429\\u003cbr\\u003eText: And continuing on our strategy to solve commercial problems with LMS, we get to step four, which is\\n...\",\"Video: 59167009\\u003cbr\\u003eText: Welcome back.\\nIt's time to make our full agent framework.\\nI'm super excited about this.\\nIt's pulling...\",\"Video: 59166481\\u003cbr\\u003eText: And here, once more we find ourselves in our favorite place, the Jupyter Lab.\\nReady to go with weeks...\",\"Video: 59670933\\u003cbr\\u003eText: I realized my enthusiasm for this project is a bit insane, but I have to tell you that I am very sat...\",\"Video: 59670073\\u003cbr\\u003eText: Okay, it's time to complete the Rag workflow in our Jupyter Lab on day 2.3.\\nWe've got this function ...\",\"Video: 59673595\\u003cbr\\u003eText: That concludes a mammoth project.\\nThree weeks in the making.\\nIn the course of those three weeks, sta...\",\"Video: 59297603\\u003cbr\\u003eText: And I'm delighted to welcome you back to LM engineering on the day that we turn to vectors.\\nFinally,...\",\"Video: 60614541\\u003cbr\\u003eText: I am delighted to welcome you to the first day of our eight weeks together as you join me on this ad...\",\"Video: 59667357\\u003cbr\\u003eText: Let's now see our results side by side.\\nWe started our journey with a constant model that was at $1....\",\"Video: 59667841\\u003cbr\\u003eText: Now, look, I know that I went through that very fast, but maybe, uh, you're still, uh, blinking\\nat t...\",\"Video: 59472007\\u003cbr\\u003eText: So I hope you enjoyed our first bash at Scrubbing Data, and that you are now looking through the cod...\",\"Video: 59507435\\u003cbr\\u003eText: So I'm now going to talk about five important hyperparameters for the training process.\\nAnd some of ...\",\"Video: 59509185\\u003cbr\\u003eText: So this is where I left you looking at this satisfying chart on training loss and seeing the trainin...\",\"Video: 59473159\\u003cbr\\u003eText: Welcome to Jupyter Lab and welcome to our experiments at the frontier.\\nSo we are going to put our fr...\",\"Video: 60619447\\u003cbr\\u003eText: I want to take a moment to talk about something that's very fundamental to an LLM, which is the numb...\",\"Video: 59166353\\u003cbr\\u003eText: Well, congratulations on leveling up yet again.\\nYou've got some real hard skills that you've added t...\",\"Video: 60619123\\u003cbr\\u003eText: So what we're now going to do is we're going to look at some models in practice and start to compare...\",\"Video: 59295363\\u003cbr\\u003eText: Well, another congratulations moment.\\nYou have 40% on the way to being an LM engineer at a high leve...\",\"Video: 60619289\\u003cbr\\u003eText: And now we'll go a bit faster through the other models.\\nWe'll start with Google's Gemini.\\nI have the...\",\"Video: 59472873\\u003cbr\\u003eText: So it's quite an adventure that we had at the frontier of what's capable with Llms today, solving a\\n...\",\"Video: 60619429\\u003cbr\\u003eText: Let me talk about some other phenomena that have happened over the last few years.\\nOne of them has b...\",\"Video: 59295601\\u003cbr\\u003eText: So it's time to continue our journey into the world of open source and understand which models we sh...\",\"Video: 59170025\\u003cbr\\u003eText: And a massive welcome back one more time to LM engineering.\\nWe are in week three, day two and we are...\",\"Video: 59166443\\u003cbr\\u003eText: And welcome back everybody.\\nWelcome to week two day three.\\nIt's a continuation of our enjoyment of r...\",\"Video: 60620025\\u003cbr\\u003eText: And welcome back to Jupyter Lab, one of my very favorite places to be.\\nWhen Jupyter Lab sprung up on...\",\"Video: 59170055\\u003cbr\\u003eText: Welcome to the world of Google Colab.\\nYou may already be very familiar with Google Colab, even if so...\"],\"x\":[-12.589552,3.4522862,6.075746,7.942426,-3.525712,4.1480594,4.6078315,-1.7122985,-1.6395565,-9.307264,-6.770974,1.4278501,-3.795615,-5.48206,-4.170929,0.42981502,-3.5235593,1.8772042,17.16095,15.35386,-11.031532,15.838091,14.824762,-2.4908643,-4.1442113,-6.1486583,14.927404,-2.396536,-3.8051388,-6.8470283,7.2692485,-3.5521216,-2.7953513,-3.2857506,-5.7256823,9.390827,-8.941686,8.362188,-2.4580688,-7.4087963,-0.73915297,-9.044852,4.499095,1.223194,0.6079307,-2.3045015,9.307752,4.968605,-3.0444636,-13.019468,-1.9913696,16.247093,-6.6251817,-3.236832,2.7420254,8.059585,5.8575497,1.3678622,14.408681,-7.4271216,4.6005616,-6.2227287,-8.091358,-1.0886598,3.9747384,0.32758102,-5.358367,0.61464316,-10.948633,-13.510744,-10.267108,3.5313623,-4.744116,0.98348933,15.8871355,8.520779,12.316195,13.00314,-7.271094,-12.220864,-1.1228861,8.195982,15.675435,3.5282235,2.7380142,3.0779696,-7.539173,9.471518,2.180644,1.8750061,1.8318319,-7.089598,-0.79000425,0.13995205,16.312626,-3.438324,-4.710372,6.9159217,4.997074,-11.944866,-6.278514,-7.310172,-8.248277,-0.2617442,-2.001054,-2.4265862,7.9734154,-4.359084,1.4919127,-0.38369736,2.8925261,2.770904,11.788717,-11.200065,7.0120173,-12.489671,-7.3114347,-1.5968479,-2.0740008,-7.660865,1.4215823,3.4180312,-5.9557977,-4.101128,-7.1637955,1.2174717,-8.017974,13.607655,-8.332471,12.951081,13.259139,7.851571,11.287736,-8.430205,-2.83165,-9.306727,1.3151592,-2.5466766,9.444017,-12.522999,-10.38123,-7.0192504,0.9397985,-9.068451,4.640919,-2.51455,5.657744,1.8063583,-15.553587,0.9260013,-4.1032104,4.0678425,6.9909325,4.943192,-2.3060699,1.6395743,-0.48130858,1.4182721,-0.63343734,5.6635394,-3.9217196,-6.3144593,8.239023,8.01618,-8.5425,-0.17059784,-6.761717,5.7745337,-1.1535196,-2.372529,3.1349926,14.739626,-3.0802853,-13.388992,3.012913,10.2796135,-13.004479,-0.6004416,-2.7484965,4.0349708,1.1794678,-3.6047134,2.0950997,3.1776624,5.355312,9.249312,-5.047935,-2.5895002,-6.023992,0.42378932,6.4555655,11.28314,-6.1557565,2.6091251,-6.8104343,4.435232,-6.023258,16.286194,-0.5731437,2.0213904,8.013111,-1.5368563,-10.384564,-8.238789,-0.057244953,-15.348441,-1.7015631,6.999166,2.5275056,8.751711,1.0946581,-8.001234,2.8864157,-7.969383,-0.49457392,5.2979984,-7.2938204],\"y\":[-6.5300555,14.089418,12.162957,-0.80311126,-1.6755519,-13.505905,6.5699277,1.4233526,3.7408068,-3.009902,-1.6519994,9.911368,14.304171,-9.145412,6.8292613,4.1779256,-13.0463,-11.951641,5.743851,10.09115,-8.627289,2.584683,7.23334,6.759529,4.1768756,12.57557,9.190438,13.93031,5.511717,-11.910828,5.8589373,3.6352885,-13.270146,-2.0432546,-9.36256,-4.0989513,2.833454,-4.2829947,-6.8667107,-5.736574,11.985562,0.33564866,-7.6441755,11.567259,10.677815,-9.594754,14.068278,-2.490878,-4.379241,-6.612759,-12.312431,2.8374946,10.107471,0.86265963,-7.4858155,13.485198,0.44996768,0.12787041,9.892149,-7.652323,13.810954,13.420327,-9.137389,14.72838,7.676501,-12.387229,14.694999,-5.226657,-8.565104,-5.734247,0.18139325,-9.293782,14.728803,-13.8647995,6.203831,0.3127214,8.967697,-1.4659885,-1.9273498,3.1576743,-2.5850005,5.1483097,5.489101,8.593102,-9.933031,-4.0722184,-10.497164,-10.699288,1.5761652,-3.9312649,-7.012359,1.2585955,3.0229156,-16.250467,6.635525,6.7354093,8.468663,-1.6286882,10.374195,-10.649093,-4.4278836,-6.3712683,2.0350108,4.080304,11.325701,2.5883422,13.5416975,-11.214315,-11.917827,-2.9803138,10.627456,2.9241033,7.383127,-11.1040945,5.136991,-10.0327215,-16.114536,-12.599517,-2.9481568,-11.174494,-8.890177,-1.0979837,6.8131933,1.463663,0.48312876,12.914509,-12.583761,8.630306,-4.9693522,-1.45638,8.836656,14.184286,9.729582,0.11569965,-12.046801,-3.562859,8.306646,-0.12532109,1.8029642,-7.7512345,-2.2794526,11.317182,8.203367,-1.5793608,-7.4279957,10.902695,9.414275,-6.943587,-9.714286,-2.107979,8.535427,-2.2587268,4.7189612,-9.422279,-9.95208,1.4961839,-15.637048,5.8088226,-10.609174,-0.896489,2.6177058,-6.1964593,-10.441606,-5.6452084,6.2846713,-16.04126,-9.215314,5.74158,14.189653,-6.3043413,-2.132232,5.4891644,9.997777,-10.8906975,3.0431316,-3.8775747,-7.930391,6.087151,13.401266,-3.5819368,-10.400259,-3.2769384,5.1977687,11.534197,1.2013716,9.190291,4.5081005,4.3416286,2.9420025,-1.041198,-0.5506536,6.695455,9.870885,9.233299,5.8174458,-13.40291,5.86892,5.1465583,5.9692817,-8.088498,-9.699435,-4.3566523,-11.696756,-11.084373,-9.227834,-9.344566,8.588015,0.74937767,-1.7350386,0.8596554,-8.018119,9.262971,0.69532895,-0.87655604,9.858918,12.275479,-16.078566],\"type\":\"scatter\"}],                        {\"template\":{\"data\":{\"histogram2dcontour\":[{\"type\":\"histogram2dcontour\",\"colorbar\":{\"outlinewidth\":0,\"ticks\":\"\"},\"colorscale\":[[0.0,\"#0d0887\"],[0.1111111111111111,\"#46039f\"],[0.2222222222222222,\"#7201a8\"],[0.3333333333333333,\"#9c179e\"],[0.4444444444444444,\"#bd3786\"],[0.5555555555555556,\"#d8576b\"],[0.6666666666666666,\"#ed7953\"],[0.7777777777777778,\"#fb9f3a\"],[0.8888888888888888,\"#fdca26\"],[1.0,\"#f0f921\"]]}],\"choropleth\":[{\"type\":\"choropleth\",\"colorbar\":{\"outlinewidth\":0,\"ticks\":\"\"}}],\"histogram2d\":[{\"type\":\"histogram2d\",\"colorbar\":{\"outlinewidth\":0,\"ticks\":\"\"},\"colorscale\":[[0.0,\"#0d0887\"],[0.1111111111111111,\"#46039f\"],[0.2222222222222222,\"#7201a8\"],[0.3333333333333333,\"#9c179e\"],[0.4444444444444444,\"#bd3786\"],[0.5555555555555556,\"#d8576b\"],[0.6666666666666666,\"#ed7953\"],[0.7777777777777778,\"#fb9f3a\"],[0.8888888888888888,\"#fdca26\"],[1.0,\"#f0f921\"]]}],\"heatmap\":[{\"type\":\"heatmap\",\"colorbar\":{\"outlinewidth\":0,\"ticks\":\"\"},\"colorscale\":[[0.0,\"#0d0887\"],[0.1111111111111111,\"#46039f\"],[0.2222222222222222,\"#7201a8\"],[0.3333333333333333,\"#9c179e\"],[0.4444444444444444,\"#bd3786\"],[0.5555555555555556,\"#d8576b\"],[0.6666666666666666,\"#ed7953\"],[0.7777777777777778,\"#fb9f3a\"],[0.8888888888888888,\"#fdca26\"],[1.0,\"#f0f921\"]]}],\"heatmapgl\":[{\"type\":\"heatmapgl\",\"colorbar\":{\"outlinewidth\":0,\"ticks\":\"\"},\"colorscale\":[[0.0,\"#0d0887\"],[0.1111111111111111,\"#46039f\"],[0.2222222222222222,\"#7201a8\"],[0.3333333333333333,\"#9c179e\"],[0.4444444444444444,\"#bd3786\"],[0.5555555555555556,\"#d8576b\"],[0.6666666666666666,\"#ed7953\"],[0.7777777777777778,\"#fb9f3a\"],[0.8888888888888888,\"#fdca26\"],[1.0,\"#f0f921\"]]}],\"contourcarpet\":[{\"type\":\"contourcarpet\",\"colorbar\":{\"outlinewidth\":0,\"ticks\":\"\"}}],\"contour\":[{\"type\":\"contour\",\"colorbar\":{\"outlinewidth\":0,\"ticks\":\"\"},\"colorscale\":[[0.0,\"#0d0887\"],[0.1111111111111111,\"#46039f\"],[0.2222222222222222,\"#7201a8\"],[0.3333333333333333,\"#9c179e\"],[0.4444444444444444,\"#bd3786\"],[0.5555555555555556,\"#d8576b\"],[0.6666666666666666,\"#ed7953\"],[0.7777777777777778,\"#fb9f3a\"],[0.8888888888888888,\"#fdca26\"],[1.0,\"#f0f921\"]]}],\"surface\":[{\"type\":\"surface\",\"colorbar\":{\"outlinewidth\":0,\"ticks\":\"\"},\"colorscale\":[[0.0,\"#0d0887\"],[0.1111111111111111,\"#46039f\"],[0.2222222222222222,\"#7201a8\"],[0.3333333333333333,\"#9c179e\"],[0.4444444444444444,\"#bd3786\"],[0.5555555555555556,\"#d8576b\"],[0.6666666666666666,\"#ed7953\"],[0.7777777777777778,\"#fb9f3a\"],[0.8888888888888888,\"#fdca26\"],[1.0,\"#f0f921\"]]}],\"mesh3d\":[{\"type\":\"mesh3d\",\"colorbar\":{\"outlinewidth\":0,\"ticks\":\"\"}}],\"scatter\":[{\"fillpattern\":{\"fillmode\":\"overlay\",\"size\":10,\"solidity\":0.2},\"type\":\"scatter\"}],\"parcoords\":[{\"type\":\"parcoords\",\"line\":{\"colorbar\":{\"outlinewidth\":0,\"ticks\":\"\"}}}],\"scatterpolargl\":[{\"type\":\"scatterpolargl\",\"marker\":{\"colorbar\":{\"outlinewidth\":0,\"ticks\":\"\"}}}],\"bar\":[{\"error_x\":{\"color\":\"#2a3f5f\"},\"error_y\":{\"color\":\"#2a3f5f\"},\"marker\":{\"line\":{\"color\":\"#E5ECF6\",\"width\":0.5},\"pattern\":{\"fillmode\":\"overlay\",\"size\":10,\"solidity\":0.2}},\"type\":\"bar\"}],\"scattergeo\":[{\"type\":\"scattergeo\",\"marker\":{\"colorbar\":{\"outlinewidth\":0,\"ticks\":\"\"}}}],\"scatterpolar\":[{\"type\":\"scatterpolar\",\"marker\":{\"colorbar\":{\"outlinewidth\":0,\"ticks\":\"\"}}}],\"histogram\":[{\"marker\":{\"pattern\":{\"fillmode\":\"overlay\",\"size\":10,\"solidity\":0.2}},\"type\":\"histogram\"}],\"scattergl\":[{\"type\":\"scattergl\",\"marker\":{\"colorbar\":{\"outlinewidth\":0,\"ticks\":\"\"}}}],\"scatter3d\":[{\"type\":\"scatter3d\",\"line\":{\"colorbar\":{\"outlinewidth\":0,\"ticks\":\"\"}},\"marker\":{\"colorbar\":{\"outlinewidth\":0,\"ticks\":\"\"}}}],\"scattermapbox\":[{\"type\":\"scattermapbox\",\"marker\":{\"colorbar\":{\"outlinewidth\":0,\"ticks\":\"\"}}}],\"scatterternary\":[{\"type\":\"scatterternary\",\"marker\":{\"colorbar\":{\"outlinewidth\":0,\"ticks\":\"\"}}}],\"scattercarpet\":[{\"type\":\"scattercarpet\",\"marker\":{\"colorbar\":{\"outlinewidth\":0,\"ticks\":\"\"}}}],\"carpet\":[{\"aaxis\":{\"endlinecolor\":\"#2a3f5f\",\"gridcolor\":\"white\",\"linecolor\":\"white\",\"minorgridcolor\":\"white\",\"startlinecolor\":\"#2a3f5f\"},\"baxis\":{\"endlinecolor\":\"#2a3f5f\",\"gridcolor\":\"white\",\"linecolor\":\"white\",\"minorgridcolor\":\"white\",\"startlinecolor\":\"#2a3f5f\"},\"type\":\"carpet\"}],\"table\":[{\"cells\":{\"fill\":{\"color\":\"#EBF0F8\"},\"line\":{\"color\":\"white\"}},\"header\":{\"fill\":{\"color\":\"#C8D4E3\"},\"line\":{\"color\":\"white\"}},\"type\":\"table\"}],\"barpolar\":[{\"marker\":{\"line\":{\"color\":\"#E5ECF6\",\"width\":0.5},\"pattern\":{\"fillmode\":\"overlay\",\"size\":10,\"solidity\":0.2}},\"type\":\"barpolar\"}],\"pie\":[{\"automargin\":true,\"type\":\"pie\"}]},\"layout\":{\"autotypenumbers\":\"strict\",\"colorway\":[\"#636efa\",\"#EF553B\",\"#00cc96\",\"#ab63fa\",\"#FFA15A\",\"#19d3f3\",\"#FF6692\",\"#B6E880\",\"#FF97FF\",\"#FECB52\"],\"font\":{\"color\":\"#2a3f5f\"},\"hovermode\":\"closest\",\"hoverlabel\":{\"align\":\"left\"},\"paper_bgcolor\":\"white\",\"plot_bgcolor\":\"#E5ECF6\",\"polar\":{\"bgcolor\":\"#E5ECF6\",\"angularaxis\":{\"gridcolor\":\"white\",\"linecolor\":\"white\",\"ticks\":\"\"},\"radialaxis\":{\"gridcolor\":\"white\",\"linecolor\":\"white\",\"ticks\":\"\"}},\"ternary\":{\"bgcolor\":\"#E5ECF6\",\"aaxis\":{\"gridcolor\":\"white\",\"linecolor\":\"white\",\"ticks\":\"\"},\"baxis\":{\"gridcolor\":\"white\",\"linecolor\":\"white\",\"ticks\":\"\"},\"caxis\":{\"gridcolor\":\"white\",\"linecolor\":\"white\",\"ticks\":\"\"}},\"coloraxis\":{\"colorbar\":{\"outlinewidth\":0,\"ticks\":\"\"}},\"colorscale\":{\"sequential\":[[0.0,\"#0d0887\"],[0.1111111111111111,\"#46039f\"],[0.2222222222222222,\"#7201a8\"],[0.3333333333333333,\"#9c179e\"],[0.4444444444444444,\"#bd3786\"],[0.5555555555555556,\"#d8576b\"],[0.6666666666666666,\"#ed7953\"],[0.7777777777777778,\"#fb9f3a\"],[0.8888888888888888,\"#fdca26\"],[1.0,\"#f0f921\"]],\"sequentialminus\":[[0.0,\"#0d0887\"],[0.1111111111111111,\"#46039f\"],[0.2222222222222222,\"#7201a8\"],[0.3333333333333333,\"#9c179e\"],[0.4444444444444444,\"#bd3786\"],[0.5555555555555556,\"#d8576b\"],[0.6666666666666666,\"#ed7953\"],[0.7777777777777778,\"#fb9f3a\"],[0.8888888888888888,\"#fdca26\"],[1.0,\"#f0f921\"]],\"diverging\":[[0,\"#8e0152\"],[0.1,\"#c51b7d\"],[0.2,\"#de77ae\"],[0.3,\"#f1b6da\"],[0.4,\"#fde0ef\"],[0.5,\"#f7f7f7\"],[0.6,\"#e6f5d0\"],[0.7,\"#b8e186\"],[0.8,\"#7fbc41\"],[0.9,\"#4d9221\"],[1,\"#276419\"]]},\"xaxis\":{\"gridcolor\":\"white\",\"linecolor\":\"white\",\"ticks\":\"\",\"title\":{\"standoff\":15},\"zerolinecolor\":\"white\",\"automargin\":true,\"zerolinewidth\":2},\"yaxis\":{\"gridcolor\":\"white\",\"linecolor\":\"white\",\"ticks\":\"\",\"title\":{\"standoff\":15},\"zerolinecolor\":\"white\",\"automargin\":true,\"zerolinewidth\":2},\"scene\":{\"xaxis\":{\"backgroundcolor\":\"#E5ECF6\",\"gridcolor\":\"white\",\"linecolor\":\"white\",\"showbackground\":true,\"ticks\":\"\",\"zerolinecolor\":\"white\",\"gridwidth\":2},\"yaxis\":{\"backgroundcolor\":\"#E5ECF6\",\"gridcolor\":\"white\",\"linecolor\":\"white\",\"showbackground\":true,\"ticks\":\"\",\"zerolinecolor\":\"white\",\"gridwidth\":2},\"zaxis\":{\"backgroundcolor\":\"#E5ECF6\",\"gridcolor\":\"white\",\"linecolor\":\"white\",\"showbackground\":true,\"ticks\":\"\",\"zerolinecolor\":\"white\",\"gridwidth\":2}},\"shapedefaults\":{\"line\":{\"color\":\"#2a3f5f\"}},\"annotationdefaults\":{\"arrowcolor\":\"#2a3f5f\",\"arrowhead\":0,\"arrowwidth\":1},\"geo\":{\"bgcolor\":\"white\",\"landcolor\":\"#E5ECF6\",\"subunitcolor\":\"white\",\"showland\":true,\"showlakes\":true,\"lakecolor\":\"white\"},\"title\":{\"x\":0.05},\"mapbox\":{\"style\":\"light\"}}},\"margin\":{\"r\":20,\"b\":10,\"l\":10,\"t\":40},\"title\":{\"text\":\"2D Chroma Vector Store Visualization\"},\"scene\":{\"xaxis\":{\"title\":{\"text\":\"x\"}},\"yaxis\":{\"title\":{\"text\":\"y\"}}},\"width\":800,\"height\":600},                        {\"responsive\": true}                    ).then(function(){\n",
       "                            \n",
       "var gd = document.getElementById('269121ac-3c48-48aa-9312-c4aba1769026');\n",
       "var x = new MutationObserver(function (mutations, observer) {{\n",
       "        var display = window.getComputedStyle(gd).display;\n",
       "        if (!display || display === 'none') {{\n",
       "            console.log([gd, 'removed!']);\n",
       "            Plotly.purge(gd);\n",
       "            observer.disconnect();\n",
       "        }}\n",
       "}});\n",
       "\n",
       "// Listen for the removal of the full notebook cells\n",
       "var notebookContainer = gd.closest('#notebook-container');\n",
       "if (notebookContainer) {{\n",
       "    x.observe(notebookContainer, {childList: true});\n",
       "}}\n",
       "\n",
       "// Listen for the clearing of the current output cell\n",
       "var outputEl = gd.closest('.output');\n",
       "if (outputEl) {{\n",
       "    x.observe(outputEl, {childList: true});\n",
       "}}\n",
       "\n",
       "                        })                };                });            </script>        </div>"
      ]
     },
     "metadata": {},
     "output_type": "display_data"
    }
   ],
   "source": [
    "# We humans find it easier to visalize things in 2D!\n",
    "# Reduce the dimensionality of the vectors to 2D using t-SNE\n",
    "# (t-distributed stochastic neighbor embedding)\n",
    "\n",
    "tsne = TSNE(n_components=2, random_state=42)\n",
    "reduced_vectors = tsne.fit_transform(vectors)\n",
    "\n",
    "# Create the 2D scatter plot\n",
    "fig = go.Figure(data=[go.Scatter(\n",
    "    x=reduced_vectors[:, 0],\n",
    "    y=reduced_vectors[:, 1],\n",
    "    mode='markers',\n",
    "    marker=dict(size=5, color=colors, opacity=0.8),\n",
    "    text=[f\"Video: {t}<br>Text: {d[:100]}...\" for t, d in zip(video_numbers , documents)],\n",
    "    hoverinfo='text'\n",
    ")])\n",
    "\n",
    "fig.update_layout(\n",
    "    title='2D Chroma Vector Store Visualization',\n",
    "    scene=dict(xaxis_title='x',yaxis_title='y'),\n",
    "    width=800,\n",
    "    height=600,\n",
    "    margin=dict(r=20, b=10, l=10, t=40)\n",
    ")\n",
    "\n",
    "fig.show()"
   ]
  },
  {
   "cell_type": "code",
   "execution_count": 78,
   "id": "50207703-afdc-4251-96c3-5e3d6f14d9b7",
   "metadata": {},
   "outputs": [
    {
     "data": {
      "application/vnd.plotly.v1+json": {
       "config": {
        "plotlyServerURL": "https://plot.ly"
       },
       "data": [
        {
         "hoverinfo": "text",
         "marker": {
          "color": [
           "#d01f72",
           "#75195e",
           "#3678a7",
           "#5b3f83",
           "#74a788",
           "#571122",
           "#4099c1",
           "#659222",
           "#188ca3",
           "#6d4052",
           "#35303c",
           "#a9e927",
           "#29fa15",
           "#71c500",
           "#9b9d6e",
           "#cf7e83",
           "#badd6d",
           "#85fa26",
           "#22463b",
           "#ce865d",
           "#f59c06",
           "#011995",
           "#793548",
           "#ad8b14",
           "#d937bd",
           "#2b9f18",
           "#046e5c",
           "#75b5e3",
           "#c959de",
           "#72e048",
           "#8e8cab",
           "#20f2c3",
           "#64f999",
           "#e69670",
           "#6a0fce",
           "#d65c3a",
           "#7bee34",
           "#4f86b8",
           "#b43417",
           "#4dfb77",
           "#2ae342",
           "#c3e1f2",
           "#12897b",
           "#2b3af3",
           "#7ea8e9",
           "#6ad041",
           "#0bdacc",
           "#99fe53",
           "#4aaf9f",
           "#d156c8",
           "#505bd9",
           "#dc152c",
           "#b52bf6",
           "#9baca0",
           "#a03134",
           "#d43c00",
           "#5af098",
           "#2c168d",
           "#c6016b",
           "#f090af",
           "#482281",
           "#39821f",
           "#e0a8df",
           "#480c89",
           "#08808d",
           "#ac5faf",
           "#0faf59",
           "#79c82a",
           "#e6e164",
           "#0d2037",
           "#8afd40",
           "#2e1afc",
           "#3ec815",
           "#fbfef2",
           "#a63fa4",
           "#b27d2e",
           "#ca3592",
           "#b9fd23",
           "#ac9648",
           "#804ce2",
           "#9b5e28",
           "#a64739",
           "#c457d7",
           "#de30e4",
           "#1f6ab0",
           "#6ff3c5",
           "#6df6ca",
           "#ed694d",
           "#2fef1a",
           "#335dcf",
           "#845aa9",
           "#574e28",
           "#dc95ec",
           "#b2140a",
           "#15ae86",
           "#70d1d9",
           "#6f745a",
           "#b3dba5",
           "#108c41",
           "#268bba",
           "#913568",
           "#1a6fdf",
           "#422abb",
           "#cb725f",
           "#fe62a5",
           "#dfc6c7",
           "#b25d7b",
           "#bd53b1",
           "#796278",
           "#048452",
           "#c6eff5",
           "#d24e5d",
           "#fe8e92",
           "#22398f",
           "#3e5237",
           "#8069bc",
           "#7740be",
           "#cc8ec0",
           "#b280bb",
           "#91f4db",
           "#ac55ba",
           "#c97596",
           "#116019",
           "#43c2e8",
           "#2a2d25",
           "#fc2b74",
           "#ae7afe",
           "#92b4fa",
           "#dd8cd7",
           "#4862ce",
           "#af0f59",
           "#ad6bd0",
           "#3f0a72",
           "#e01073",
           "#144ada",
           "#5cb9ca",
           "#51d0da",
           "#d6d07a",
           "#b61e76",
           "#474ff9",
           "#68bece",
           "#d01b19",
           "#ee26df",
           "#2ebca4",
           "#539908",
           "#ec0a37",
           "#1a5613",
           "#da28db",
           "#246fa5",
           "#bbfe83",
           "#d54222",
           "#580c96",
           "#02cada",
           "#996ff1",
           "#e2a239",
           "#ae5204",
           "#4ce72d",
           "#2cde7f",
           "#b64eac",
           "#591ab9",
           "#a958c9",
           "#696eaa",
           "#4c4355",
           "#6a6c06",
           "#df5d2e",
           "#9780cf",
           "#682d42",
           "#efed10",
           "#1b312a",
           "#dbde1c",
           "#e1b5db",
           "#a95826",
           "#4e797a",
           "#10384a",
           "#9a5ba2",
           "#d34482",
           "#8a29da",
           "#fb9dce",
           "#ff2d6a",
           "#50f10d",
           "#f8d349",
           "#7b4427",
           "#11a70e",
           "#987252",
           "#c932c1",
           "#2d7f7d",
           "#c1e3c5",
           "#0c777d",
           "#0f8781",
           "#dd889c",
           "#799a24",
           "#4212f1",
           "#e6f378",
           "#805527",
           "#091a90",
           "#a9541c",
           "#fcdcad",
           "#01f59b",
           "#94a85d",
           "#426575",
           "#7f03bd",
           "#2dcfac",
           "#52b6df",
           "#73e76a",
           "#d70d97",
           "#601568",
           "#d4b1ce",
           "#7341ee",
           "#bb0ee6",
           "#f645e0",
           "#1c2c7e",
           "#7dd58b",
           "#4b9a93",
           "#9df332",
           "#612b32",
           "#b1c27d",
           "#3626a5"
          ],
          "opacity": 0.8,
          "size": 5
         },
         "mode": "markers",
         "text": [
          "Video: 59506507<br>Text: Well, I realized that was a whole lot of theory, but I hope it gave you a good intuition that will\nb...",
          "Video: 59671315<br>Text: Okay, so here we are, back in Jupyter Lab, ready for the next use of a frontier model, and see this\n...",
          "Video: 60616895<br>Text: It feels like 100 videos ago that I told you that we were going to have instant gratification with o...",
          "Video: 60619275<br>Text: And we will conclude our expedition into the world of frontier models through their chat interface b...",
          "Video: 59472693<br>Text: Friends.\nI am absolutely exhausted.\nI am exhausted and a little tiny bit traumatized.\nAnd you are so...",
          "Video: 59670121<br>Text: So it's business time right now.\nWe are going to build a Rag pipeline to estimate the price of produ...",
          "Video: 59295619<br>Text: Welcome back to the the moment when we bring it all together into a beautiful user interface.\nBut fi...",
          "Video: 60617163<br>Text: And already that wraps up day two.\nNow that you have built that solution.\nAnd congratulations on tha...",
          "Video: 60616423<br>Text: So I hope you've just enjoyed yourself experimenting with different LMS locally on your box using th...",
          "Video: 59170227<br>Text: Welcome back to Google Colab.\nHere we are ready to explore the wonderful world of Tokenizers.\nSo, uh...",
          "Video: 59169985<br>Text: So I hope you enjoyed that whirlwind tour of Google Colab.\nHere's just a little screenshot example o...",
          "Video: 60616927<br>Text: It's time for our first LM experiment at this point.\nSo some of this you may know well, you may know...",
          "Video: 59673721<br>Text: And here we are in JupyterLab for the last time, and we are looking here at day five, the last day\no...",
          "Video: 59508055<br>Text: I'm so very happy that you've reached this epic moment in the course and that you're hanging in ther...",
          "Video: 59670259<br>Text: It's remarkable.\nBut you are now at the 95% point.\nThere's 5% remaining of this course.\nUh, maybe it...",
          "Video: 60616623<br>Text: So we're now going to start week one of the course when we are going to be looking at exploring fron...",
          "Video: 59472383<br>Text: And welcome back to the week six folder.\nWe're now at day two, which is the second and final stage o...",
          "Video: 59670171<br>Text: So as the very final step on this part four of day two of week eight, we are now going to build an\ne...",
          "Video: 59297721<br>Text: And so now the time has come to talk about the most crucial aspect of Rag, which is the idea of vect...",
          "Video: 59297599<br>Text: Well, that was a sneaky detour I took you on in the last one.\nI hope you enjoyed it though, and I ho...",
          "Video: 59507635<br>Text: Look, I hope you're excited.\nYou really should be.\nYou've been through 80% of the course and it's al...",
          "Video: 59669375<br>Text: Here we are for the day.\n2.1 notebook.\nAnd don't let it be said that I don't ever do anything for yo...",
          "Video: 59297733<br>Text: Welcome back to JupyterLab and welcome to your first experiment with the world of Long Chain.\nLet me...",
          "Video: 59670369<br>Text: It is terrific that you're hanging on in there and making such great progress with this course.\nAs w...",
          "Video: 59166281<br>Text: And with that, amazingly, you completed day one of week two already and that gets you to the 15% poi...",
          "Video: 59671567<br>Text: Well, the first thing you're going to notice is that I don't have a notebook open for you.\nAnd that'...",
          "Video: 59297593<br>Text: And welcome to continuing our journey with Hrag.\nAnd today it's time to unveil Liang Chen.\nSo first,...",
          "Video: 59166461<br>Text: And welcome back to the lab.\nHere we are in Jupyter Lab and we are going to go into week two.\nAnd we...",
          "Video: 59167007<br>Text: Well, how fabulous is that?\nI hope that you are as wowed as I am by our new airline, I assistant and...",
          "Video: 59508121<br>Text: The moment has arrived.\nHere we go.\nWe're in fine tuning.\nWe do fine tuning.\nTrain.\nThere is also a ...",
          "Video: 59295579<br>Text: All right.\nAre you excited to see how this goes?\nLet's give it a try.\nSo in this next section, I cre...",
          "Video: 60620375<br>Text: And with that, we've reached an important milestone.\nThe first week of our eight week journey is com...",
          "Video: 59472491<br>Text: Welcome back.\nIf you are following along with me in JupyterLab, as I hope you are, then you will nee...",
          "Video: 59472425<br>Text: Welcome to week six, day three.\nToday is going to be a day that you will either love or you will hat...",
          "Video: 59508057<br>Text: Actually slight change in plan.\nI'm going to wrap up the day.\nDay three at this point, and say that ...",
          "Video: 60619577<br>Text: And for the final piece of background information, I wanted to take another moment to talk about API...",
          "Video: 59170291<br>Text: Welcome back to Colab and welcome back to our business project.\nSo again our assignment, we are due ...",
          "Video: 60619651<br>Text: I mentioned before an AI company called vellum.\nWhen we were talking about the different questions, ...",
          "Video: 59473191<br>Text: And you thought we'd never get here.\nHere we are in Jupyter Lab, running our fine tuning for a front...",
          "Video: 59170297<br>Text: And here we are in Google Colab, ready for fun with models.\nSo first we do the usual Pip installs an...",
          "Video: 59167015<br>Text: Welcome back to Jupyter Lab and welcome to Day Five's Lab.\nAnd this is going to be lots of creativit...",
          "Video: 59170043<br>Text: Let me enthusiastically welcome you all back to week three of our LLM engineering journey.\nIf you en...",
          "Video: 59473147<br>Text: Well, I'm very relieved.\nI've got that behind me.\nNo more human testing for me.\nWe'll have one final...",
          "Video: 59166453<br>Text: Welcome back and welcome to our continuing JupyterLab experience.\nUh, I'm hopefully going to keep yo...",
          "Video: 59166915<br>Text: Welcome back to the wonderful world of JupyterLab.\nAnd here we are in week two.\nDay three.\nUh, bring...",
          "Video: 59667365<br>Text: Here we are back in Colab, looking at the week seven, day five of the Colab notebooks and I'm on a\nT...",
          "Video: 60616845<br>Text: We're on the home stretch.\nThis is the final step in the environment setup, and it's an easy one.\nIt...",
          "Video: 59295459<br>Text: And welcome back to More Leaderboard Fest as we go through some more leaderboards.\nBut this time we'...",
          "Video: 59471979<br>Text: So we now turn to the parts of the problem, which is perhaps, let's say, not as glamorous as some\nof...",
          "Video: 59503705<br>Text: And so now we talk about quantization the q and q Laura.\nQ stands for quantized quantized.\nLaura.\nAn...",
          "Video: 59472505<br>Text: So the good news is that this is the very final video about data set curation.\nYou were probably fed...",
          "Video: 59669217<br>Text: And welcome to the next part of visualizing the data.\nAnd just very quickly to show it to you in 3D....",
          "Video: 59671221<br>Text: I gotta tell you, I don't like to toot my horn a whole lot, but I do think that I've done a great\njo...",
          "Video: 59503703<br>Text: Well.\nHello there everybody.\nI am so grateful that you've made it through to the start of week seven...",
          "Video: 59473201<br>Text: Well, before we do a postmortem on what happened, let's just quickly look at the standing the rankin...",
          "Video: 60622463<br>Text: In this video, we're going to set up a full data science environment for Mac users.\nIn the next vide...",
          "Video: 60619299<br>Text: Well, I hope you found that both educational and enjoyable.\nAs we went through and learned so much a...",
          "Video: 59295607<br>Text: So to revisit then the solution that we built in the previous day and talk about the metrics.\nAs I s...",
          "Video: 59297575<br>Text: Well, welcome to the final part on rag.\nAnd this is the session where you go from being a rag expert...",
          "Video: 59507687<br>Text: It's time for action, everybody.\nWe've set up our colab.\nHere we are, week seven, day three.\nWe've g...",
          "Video: 59671441<br>Text: And welcome once more to our favorite place to be Jupyter Lab, the Paradise for a data scientist exp...",
          "Video: 59673431<br>Text: And here we have it.\nThe user interface is completed.\nThe extra notification came through on my phon...",
          "Video: 59473137<br>Text: Let's get straight to it.\nSo the place where you can see everything that's going on and get knee dee...",
          "Video: 59166421<br>Text: Welcome back to the radio day in the lab.\nMore to do.\nLet's keep going.\nWhere we left off is we had ...",
          "Video: 59295599<br>Text: Welcome to the Jupyter Lab for day four.\nIt's going to look very familiar because it's actually I've...",
          "Video: 59669631<br>Text: Here we are in our favorite place to be in JupyterLab, ready for some coding and a lot of coding tha...",
          "Video: 59673663<br>Text: But wait, there's more.\nWe need to add some more to the user interface just to make it look more coo...",
          "Video: 59506929<br>Text: And we return to the hugging face open LLM leaderboard.\nThe first place you go when selecting your b...",
          "Video: 59504785<br>Text: So at this point we're going to talk about hyperparameters.\nAnd we're going to introduce three of th...",
          "Video: 59505337<br>Text: So we're now going to look at four bit quantization, the rather remarkable effect of reducing the pr...",
          "Video: 59271655<br>Text: So here we are on Hugging Face's main landing page at Hugging Face Core.\nA URL you know.\nWell, since...",
          "Video: 59472883<br>Text: Okay, time to reveal the results.\nIt has run to completion.\nAnd here it is.\nSo a moment to pause.\nIt...",
          "Video: 59673639<br>Text: And welcome now to the code for our user interface, which we will find in this Python module.\nPrice ...",
          "Video: 59472463<br>Text: So last time we looked at a humble linear regression model with feature engineering, and now we say\n...",
          "Video: 59297595<br>Text: So by the time you're watching this, hopefully you have played yourself with vectors.\nYou've created...",
          "Video: 60619149<br>Text: So we're going to start our exploration into the world of frontier models by playing with the famous...",
          "Video: 59297735<br>Text: And at last the time has come to see rag in action.\nAfter all of this talk, and here we are.\nWe're i...",
          "Video: 60616407<br>Text: And now over to my Mac people.\nAnd I have news for you.\nIt's exactly the same thing.\nYou go to a fav...",
          "Video: 59170235<br>Text: So here we are in Google Colab for our first collaborative session on the cloud using a GPU box.\nOn ...",
          "Video: 59472067<br>Text: So we've covered steps 1 to 4 of the five step strategy.\nAnd that brings us to step five, which is p...",
          "Video: 59472011<br>Text: Welcome everybody.\nSo in the past I've said quite a few times, I am excited to start this this week ...",
          "Video: 59295553<br>Text: Welcome back.\nIn the last part, we gave our GPT four and clawed the challenge of converting a simple...",
          "Video: 59297773<br>Text: Well, I hope you're eager with anticipation for this session in JupyterLab as we finally get to see\n...",
          "Video: 59295583<br>Text: And here we are back in JupyterLab.\nIt's been a minute.\nWe've been working in Colab for last week, a...",
          "Video: 59507329<br>Text: Okay.\nIt's moment of truth time.\nI have just taken our class tester.\nYou remember this class?\nUh, it...",
          "Video: 59295429<br>Text: Continuing our investigation of benchmarks, and this will become more real when we actually see some...",
          "Video: 60595637<br>Text: Here we are back in the Colab, which has been running overnight for me and probably for you too, I\nh...",
          "Video: 59668027<br>Text: And so here we are at the home page for modal.\nAt modal.com spelt model not not model which is confu...",
          "Video: 59295527<br>Text: I'm so happy to welcome you to week four, day four on our journey to LLM Engineering and Mastery.\nHe...",
          "Video: 59295377<br>Text: Just before we go on to some of the more advanced metrics, I want to mention for a second something\n...",
          "Video: 59666211<br>Text: So before we try our new model and one more recap on the models so far and keep notes of this so we\n...",
          "Video: 59170107<br>Text: And once again, it's that moment when you take a pause and congratulate yourself on another day of\ns...",
          "Video: 60616833<br>Text: So I realized that day one of week one has been a pretty long day, and I assure you that the other,\n...",
          "Video: 59472413<br>Text: Wonderful.\nWhere we left off is we had just created the Get Features function, which builds our feat...",
          "Video: 59297561<br>Text: And would you believe at this point you're 55% of the way along the journey?\nUh, it's been a while s...",
          "Video: 59669211<br>Text: Well, we took on a lot today and we seem to have been successful.\nThese red icons that you see on th...",
          "Video: 59166981<br>Text: Welcome to week two, day five.\nThe last day of week two where a lot is coming together.\nI am so grat...",
          "Video: 60619227<br>Text: And now let's move to Claude from anthropic, my favorite model and typically the favorite model of\nm...",
          "Video: 60620395<br>Text: Welcome back to Jupyter Lab, where I want to show you the assignment, the homework exercise for you\n...",
          "Video: 59665127<br>Text: Well hi there everybody.\nI'm not going to give you my usual song and dance about how excited you are...",
          "Video: 59668923<br>Text: Well, welcome back to Jupyter Lab for what will be an epic finale to our time in this platform.\nAnd ...",
          "Video: 59504887<br>Text: Well, here we are again in Google Colab.\nIt's been a minute since we were here, and welcome back to ...",
          "Video: 59170165<br>Text: Welcome, everybody to the last day of week three.\nWeek three.\nDay five.\nWe're here already wrapping ...",
          "Video: 60617251<br>Text: Congratulations are definitely in order.\nYesterday was a mammoth first day on this course and you go...",
          "Video: 59166951<br>Text: All right, back to the lab.\nBack to our project.\nTime to work with tools.\nI am in the week two folde...",
          "Video: 60619619<br>Text: Well, day four was an information dense day.\nI do hope that you learned some something useful here, ...",
          "Video: 60616663<br>Text: Well.\nHi there, this is time for PC people to get set up.\nSo all you Mac people out there, you don't...",
          "Video: 59508175<br>Text: So I'm taking a moment now to explain that the training costs of optimizing a model for this course\n...",
          "Video: 59670087<br>Text: And welcome to part four of day two of week eight.\nUh, there's a lot happening this week, and I have...",
          "Video: 59506713<br>Text: Hi everyone.\nSo the reason I'm so fired up about week seven is that this is the time when we actuall...",
          "Video: 60620169<br>Text: Hopefully you found this super satisfying to be able to have this nice business result and have it c...",
          "Video: 59295435<br>Text: Well, just before we wrap up, let me introduce this week's challenge and talk about what we're going...",
          "Video: 59297609<br>Text: Last week, we worked with models that were able to speed up code by a factor of 60,000 times, which\n...",
          "Video: 59507489<br>Text: Continuing our adventure through hyperparameters for training.\nThe next one is pretty crucial and it...",
          "Video: 59295549<br>Text: And welcome back to our challenge again.\nAnd this time we are working with our beautiful prototype.\n...",
          "Video: 59665129<br>Text: And now let me make this real for you by showing you some, some diagrams, particularly now looking\na...",
          "Video: 59169991<br>Text: Okay, so that was your introduction to Hugging Face.\nAnd now I'm going to turn to a different resour...",
          "Video: 59472027<br>Text: And now the time has come to curate our data set.\nAnd the way we're going to do this is we're going ...",
          "Video: 59472307<br>Text: Welcome to week six.\nDay two a day.\nWhen we get back into the data, we look back in anger at our dat...",
          "Video: 59508289<br>Text: So here we are now, back in the Colab, in the same one that we kicked off in the previous day.\nIt's ...",
          "Video: 59472333<br>Text: Thank you for putting up with me during my foray into traditional machine learning.\nI think it was u...",
          "Video: 59295431<br>Text: Now I want to take a quick moment to give you a flyby of five different ways that llms are used comm...",
          "Video: 59673449<br>Text: Well, I have to tell you that I'm a little bit sad.\nThis is the beginning of the beginning of the en...",
          "Video: 59669389<br>Text: Well.\nHi there.\nSo you've made it to day two of week eight, and I am super grateful that you've been...",
          "Video: 59170057<br>Text: And so at the beginning of this week, we started by talking about hugging face pipelines.\nAnd you us...",
          "Video: 59166949<br>Text: Welcome back to making chatbots.\nLet's keep going.\nSo for the next part we're going to beef up the s...",
          "Video: 59473019<br>Text: Welcome back to an action packed time of of training.\nSo now, after waiting about five minutes when ...",
          "Video: 59297585<br>Text: Before we move on, let me show you one more time this fabulous slide that describes the simple three...",
          "Video: 59170255<br>Text: And welcome back to us continuing our journey through the model class in Hugging Face Transformers l...",
          "Video: 60614589<br>Text: So we're now going to run a large language model directly on your box using a platform called llama,...",
          "Video: 59297601<br>Text: I'm not going to lie, at this point you have every reason to be impatient with me.\nWe've been yammer...",
          "Video: 60616629<br>Text: And welcome back to team PC and Team Mac as we come back together again for a quick video.\nIn this o...",
          "Video: 59297749<br>Text: It's always welcome back to JupyterLab, my favorite place to be.\nAnd now we are, of course in the we...",
          "Video: 59170135<br>Text: Welcome.\nIt's week three.\nIt's day four.\nWe are back on the adventure in open source land, back inve...",
          "Video: 59472017<br>Text: And this is the first time that we'll be coding against our big project of the course.\nWelcome to Ju...",
          "Video: 59507017<br>Text: Welcome to Colab.\nWelcome to the week seven day two Colab.\nAnd just before we try our base model, we...",
          "Video: 60619883<br>Text: And now we've arrived at an exciting moment in our first week.\nThe conclusion of the first week is w...",
          "Video: 59508297<br>Text: What more is there to say, really?\nTomorrow is the day for results.\nA day that very excited indeed a...",
          "Video: 60619247<br>Text: We're going to spend a little bit more time with GPT just to try out a few more interesting things.\n...",
          "Video: 59504769<br>Text: Without further ado, we're going to get stuck into it.\nTalking about Laura.\nLow rank adaptation.\nAnd...",
          "Video: 59170233<br>Text: Welcome back to our continued exploits with Tokenizers.\nWhat we're now going to look at is what's ca...",
          "Video: 59671231<br>Text: And here we are back in the Jupyter Lab for the fast approaching conclusion with a really great proj...",
          "Video: 60620397<br>Text: Well, that's a fantastic result to have now arrived towards the end of week one and having completed...",
          "Video: 59170093<br>Text: I'm delighted to see you again.\nAs we get started with day three of week three of our adventure and ...",
          "Video: 59473089<br>Text: Welcome back.\nSo hopefully you are still impressed by the GPT four mini results.\nThe frontier model ...",
          "Video: 60395261<br>Text: Let's keep going with our project to equip our LM with a tool.\nWe just created this piece of code to...",
          "Video: 60617259<br>Text: I'm excited to introduce you to your first exercise, and I'm looking forward to seeing what you make...",
          "Video: 59507313<br>Text: And it's this time again, when we look at the podium of how our models are performing across the boa...",
          "Video: 60619721<br>Text: Now it's time to talk for a minute about tokens.\nTokens are the individual units which get passed in...",
          "Video: 59295451<br>Text: I know that everybody.\nIt seems like just the other day that we were embarking on our quest together...",
          "Video: 59166919<br>Text: And with that, it concludes our session on tools.\nAnd at this point, you are probably an expert on t...",
          "Video: 59295441<br>Text: Okay, so welcome to our leaderboard fast as we go through a ton of essential leaderboards for your\nc...",
          "Video: 59295541<br>Text: And welcome back.\nYou've just seen GPT four zero spectacularly failed to work on our hard Python con...",
          "Video: 59473101<br>Text: Welcome back.\nSo about ten minutes later, maybe 15 minutes later, the run has completed.\nAnd how do ...",
          "Video: 59507423<br>Text: So you may remember eons ago when we were building our data set.\nAt the end of that, we uploaded our...",
          "Video: 59295545<br>Text: I really hope you've enjoyed this week.\nWe've got tons done.\nWe've experimented with all sorts of ne...",
          "Video: 59472503<br>Text: Welcome back to Jupyter Lab.\nLast time, we looked at some silly models for predicting the price of p...",
          "Video: 60614591<br>Text: The mantra of this course is that the best way to learn is by doing, and we will be doing stuff toge...",
          "Video: 59473021<br>Text: Welcome to our favorite place to be to JupyterLab.\nHere we are again now in day three.\nIn week six.\n...",
          "Video: 60617255<br>Text: I'm now going to talk for a bit about models.\nA term you often hear is the term frontier models, whi...",
          "Video: 59667829<br>Text: Well.\nHello there.\nLook, I know what you're thinking.\nYou're thinking I peaked too early.\nLast week ...",
          "Video: 59505329<br>Text: Welcome back.\nYou may, like me, have just gone off and got a coffee while things loaded back up agai...",
          "Video: 59669049<br>Text: So what you just saw was an ephemeral app, as it's called, which means just a temporary app that you...",
          "Video: 60619439<br>Text: This now brings us to an extremely important property of LMS called the context window that I want t...",
          "Video: 59668181<br>Text: And so it gives me great pleasure to introduce to you the project that I've lined up for you this we...",
          "Video: 59472441<br>Text: Welcome back.\nSo we've been doing the thoroughly distasteful, unsavory work of feature engineering.\n...",
          "Video: 59507785<br>Text: Well, I'm sure you're fed up of me saying that the moment of truth has arrived, but it really has.\nT...",
          "Video: 59295587<br>Text: When I left you, we had just created this simple user interface for converting from Python to C plus...",
          "Video: 59166465<br>Text: Welcome back to the JupyterLab on Gradio day, so you'll remember where we left off.\nWe'd written two...",
          "Video: 59473071<br>Text: Hey, gang.\nLook, I know what you're thinking.\nThis week was supposed to be training week.\nI set it a...",
          "Video: 59295423<br>Text: Welcome to day two of week four, when we get more into leaderboards so that by the end of this, you'...",
          "Video: 59297723<br>Text: So I know what you're thinking.\nYou're thinking, what's going on here?\nWe're on day five.\nWe're on d...",
          "Video: 59166947<br>Text: Well, thank you for coming along for week two, day four.\nWe have lots of good stuff in store today.\n...",
          "Video: 59666831<br>Text: Take one more moment to look at this very nice diagram that lays it all out, and we will move on.\nNo...",
          "Video: 59295493<br>Text: And welcome to week four, day three.\nAs we are about to embark upon another business project which w...",
          "Video: 60616855<br>Text: Now I know what you're thinking.\nWe've been building environments for so long.\nAre we not done yet?\n...",
          "Video: 59506611<br>Text: So in a future day, I'm going to be training, fine tuning a model and creating a fine tuned model.\nA...",
          "Video: 60616493<br>Text: I'll just take a quick moment to introduce myself to convince you that I am actually qualified to be...",
          "Video: 59166317<br>Text: And welcome to week two, day two, as we continue our adventure into the realm of LMS.\nUh, so today, ...",
          "Video: 59295439<br>Text: So I'm aware that there's a big risk that you are getting fed up of leaderboards, because we've done...",
          "Video: 59472421<br>Text: And welcome back to our final time in Jupyter Lab with traditional machine learning.\nIt's almost ove...",
          "Video: 59472137<br>Text: Well, well, well, it's been a long day, but congratulations, you've made it.\nWe've gone through and ...",
          "Video: 59297693<br>Text: So at the end of each week, it's customary for me to give you a challenge, an assignment to do on\nyo...",
          "Video: 60620143<br>Text: So we're going to make a call to GPT four.\nOh, that's going to ask it to look through a set of links...",
          "Video: 60619501<br>Text: I welcome to day four of our time together.\nThis is a very important day.\nToday we're going to be lo...",
          "Video: 59297743<br>Text: And welcome to day five.\nFor reals.\nWe're actually in the proper Jupyter notebook.\nThis time we're i...",
          "Video: 59166847<br>Text: Well, they say that time flies when you're having fun, and it certainly feels like time is flying.\nU...",
          "Video: 59170223<br>Text: Well.\nFantastic.\nIt's coming up to the end of the week, and that means it's coming up to a challenge...",
          "Video: 59170037<br>Text: So how does it feel to be 30% of the way down the journey to being a proficient LLM engineer?\nTake a...",
          "Video: 59295609<br>Text: You must be feeling absolutely exhausted at this point.\nAnd if you are, that is okay.\nYou have done ...",
          "Video: 60619281<br>Text: Well, I'm delighted to welcome you to day three of our eight week journey together.\nAnd today we're ...",
          "Video: 59472429<br>Text: And continuing on our strategy to solve commercial problems with LMS, we get to step four, which is\n...",
          "Video: 59167009<br>Text: Welcome back.\nIt's time to make our full agent framework.\nI'm super excited about this.\nIt's pulling...",
          "Video: 59166481<br>Text: And here, once more we find ourselves in our favorite place, the Jupyter Lab.\nReady to go with weeks...",
          "Video: 59670933<br>Text: I realized my enthusiasm for this project is a bit insane, but I have to tell you that I am very sat...",
          "Video: 59670073<br>Text: Okay, it's time to complete the Rag workflow in our Jupyter Lab on day 2.3.\nWe've got this function ...",
          "Video: 59673595<br>Text: That concludes a mammoth project.\nThree weeks in the making.\nIn the course of those three weeks, sta...",
          "Video: 59297603<br>Text: And I'm delighted to welcome you back to LM engineering on the day that we turn to vectors.\nFinally,...",
          "Video: 60614541<br>Text: I am delighted to welcome you to the first day of our eight weeks together as you join me on this ad...",
          "Video: 59667357<br>Text: Let's now see our results side by side.\nWe started our journey with a constant model that was at $1....",
          "Video: 59667841<br>Text: Now, look, I know that I went through that very fast, but maybe, uh, you're still, uh, blinking\nat t...",
          "Video: 59472007<br>Text: So I hope you enjoyed our first bash at Scrubbing Data, and that you are now looking through the cod...",
          "Video: 59507435<br>Text: So I'm now going to talk about five important hyperparameters for the training process.\nAnd some of ...",
          "Video: 59509185<br>Text: So this is where I left you looking at this satisfying chart on training loss and seeing the trainin...",
          "Video: 59473159<br>Text: Welcome to Jupyter Lab and welcome to our experiments at the frontier.\nSo we are going to put our fr...",
          "Video: 60619447<br>Text: I want to take a moment to talk about something that's very fundamental to an LLM, which is the numb...",
          "Video: 59166353<br>Text: Well, congratulations on leveling up yet again.\nYou've got some real hard skills that you've added t...",
          "Video: 60619123<br>Text: So what we're now going to do is we're going to look at some models in practice and start to compare...",
          "Video: 59295363<br>Text: Well, another congratulations moment.\nYou have 40% on the way to being an LM engineer at a high leve...",
          "Video: 60619289<br>Text: And now we'll go a bit faster through the other models.\nWe'll start with Google's Gemini.\nI have the...",
          "Video: 59472873<br>Text: So it's quite an adventure that we had at the frontier of what's capable with Llms today, solving a\n...",
          "Video: 60619429<br>Text: Let me talk about some other phenomena that have happened over the last few years.\nOne of them has b...",
          "Video: 59295601<br>Text: So it's time to continue our journey into the world of open source and understand which models we sh...",
          "Video: 59170025<br>Text: And a massive welcome back one more time to LM engineering.\nWe are in week three, day two and we are...",
          "Video: 59166443<br>Text: And welcome back everybody.\nWelcome to week two day three.\nIt's a continuation of our enjoyment of r...",
          "Video: 60620025<br>Text: And welcome back to Jupyter Lab, one of my very favorite places to be.\nWhen Jupyter Lab sprung up on...",
          "Video: 59170055<br>Text: Welcome to the world of Google Colab.\nYou may already be very familiar with Google Colab, even if so..."
         ],
         "type": "scatter3d",
         "x": [
          1.7087736,
          -23.05743,
          -28.06106,
          53.49951,
          -25.6022,
          -38.486794,
          19.744888,
          40.88814,
          16.016825,
          -7.811325,
          -42.27272,
          12.64262,
          -0.9483807,
          6.6331143,
          30.734392,
          -11.433903,
          4.802981,
          -38.28026,
          -65.32751,
          -70.74078,
          17.332169,
          -52.152122,
          -59.27239,
          33.891144,
          31.012686,
          -3.4545732,
          -64.21017,
          7.6461124,
          20.45596,
          17.49392,
          58.194645,
          23.335354,
          -1.4417802,
          -31.790943,
          16.829693,
          9.377639,
          -35.48943,
          21.703556,
          -32.651184,
          34.197903,
          8.165246,
          -16.031826,
          -15.671898,
          24.559917,
          12.978084,
          -2.6771584,
          -40.945656,
          36.925316,
          25.997892,
          -6.9610124,
          -10.469476,
          -64.6909,
          1.2878436,
          11.471338,
          -9.606986,
          -36.224865,
          52.36488,
          18.624384,
          -75.35086,
          7.6970425,
          -28.021814,
          4.318845,
          21.450777,
          6.252253,
          8.603412,
          -42.26961,
          -4.845308,
          18.71574,
          26.781273,
          -0.79253143,
          -14.978188,
          18.245869,
          -12.82021,
          -46.9319,
          -74.53214,
          65.01824,
          -55.562347,
          -16.433084,
          -34.34535,
          37.855953,
          23.34828,
          58.13494,
          -62.33339,
          23.672892,
          3.081372,
          54.94866,
          26.811195,
          -17.7189,
          8.902483,
          43.160995,
          -9.250307,
          -15.630141,
          17.22394,
          -55.25729,
          -83.02552,
          30.956335,
          9.167712,
          44.13426,
          -11.525453,
          17.694338,
          -5.0039816,
          9.241007,
          -22.265665,
          1.0213552,
          -1.9952722,
          31.26171,
          -44.436382,
          8.186024,
          -38.107677,
          20.091564,
          -47.018497,
          3.9196463,
          -46.056137,
          29.834492,
          51.38648,
          9.7722,
          -39.721962,
          -11.258467,
          38.1706,
          25.899416,
          -22.391533,
          64.70646,
          8.984558,
          -8.005773,
          -22.550919,
          29.339518,
          38.68547,
          -58.67559,
          -38.17486,
          -21.293037,
          -59.715446,
          -32.520184,
          -55.803455,
          -9.595691,
          4.706987,
          1.6881931,
          -37.37762,
          26.374004,
          76.44756,
          1.4116235,
          -8.510549,
          -13.362774,
          -50.184566,
          -10.902527,
          -4.4753523,
          -6.0763307,
          -7.691084,
          0.769521,
          23.278786,
          37.985294,
          11.939553,
          39.230835,
          59.653934,
          43.122715,
          -8.87973,
          4.4371753,
          -48.39784,
          -10.907453,
          -26.853792,
          35.47057,
          6.833131,
          59.59064,
          19.819576,
          38.58615,
          -16.264578,
          -53.5018,
          10.727256,
          42.230526,
          17.628677,
          -24.103918,
          52.2294,
          -77.18268,
          3.6058846,
          19.204115,
          -4.63787,
          -4.450328,
          -2.8182654,
          -46.7583,
          17.780125,
          57.05202,
          -20.470179,
          -23.03723,
          -15.013553,
          -61.297047,
          53.65074,
          -63.843815,
          36.721672,
          1.2968292,
          -1.146437,
          30.53313,
          47.650024,
          -35.42971,
          13.790592,
          -29.44714,
          -7.0857954,
          -31.83992,
          4.395385,
          -71.52093,
          -38.636032,
          -10.17397,
          13.551749,
          26.199244,
          32.304344,
          37.940987,
          -19.058989,
          35.280716,
          28.176294,
          63.618996,
          50.98304,
          70.33112,
          -23.338556,
          55.944035,
          21.928713,
          -24.126383,
          20.637466,
          -27.234331,
          -34.206
         ],
         "y": [
          -4.252548,
          -43.394333,
          -15.430764,
          3.913298,
          4.4845552,
          -33.13936,
          -22.152138,
          26.412823,
          30.148039,
          59.570904,
          48.391426,
          -12.528983,
          -30.37183,
          60.731644,
          27.484875,
          14.465288,
          -69.40243,
          0.97867054,
          -5.723522,
          2.7253983,
          7.151598,
          -40.23502,
          -24.437897,
          44.777378,
          2.2172062,
          -15.407989,
          -9.227094,
          -35.85389,
          19.15898,
          37.333565,
          -32.59874,
          12.68407,
          -73.58059,
          -6.1550703,
          54.37412,
          -45.11716,
          24.515192,
          -40.404133,
          7.894027,
          40.451534,
          -45.810196,
          32.84157,
          -29.400854,
          -36.06799,
          -26.307,
          -34.34112,
          16.958231,
          -4.426608,
          -51.174706,
          -10.152972,
          -61.325924,
          -40.93275,
          1.7414787,
          25.57757,
          -6.57861,
          23.91178,
          -12.384486,
          -16.934166,
          -12.787716,
          46.80957,
          -40.928993,
          -23.344496,
          57.658195,
          -52.681698,
          -29.147705,
          -26.069113,
          -37.631737,
          6.913289,
          1.0152185,
          -22.000841,
          40.077843,
          68.951485,
          -34.20306,
          -10.534028,
          -17.659843,
          -15.2762165,
          -31.812723,
          41.836502,
          44.55901,
          42.523884,
          21.308317,
          -16.114529,
          -24.19872,
          -28.394356,
          72.398735,
          -11.762284,
          39.155792,
          62.174786,
          0.33776075,
          -9.822582,
          7.8490186,
          38.088703,
          3.910647,
          -21.867012,
          -9.80895,
          34.229267,
          6.49524,
          -20.215645,
          -23.823503,
          13.815909,
          -10.719444,
          29.71537,
          27.11394,
          8.893772,
          -42.861084,
          11.520209,
          31.976051,
          -61.493744,
          -10.253941,
          20.047174,
          7.7775283,
          16.061588,
          -27.2339,
          9.338753,
          -28.769846,
          4.966599,
          66.91598,
          -58.99846,
          28.998318,
          35.759415,
          -14.775799,
          15.561535,
          23.844439,
          13.185903,
          50.08121,
          -53.279182,
          52.965717,
          -9.916494,
          30.322853,
          38.71735,
          -20.32845,
          33.65194,
          -45.906616,
          37.194542,
          -58.197693,
          68.45129,
          19.058973,
          30.657938,
          -11.88528,
          -3.2491598,
          67.76955,
          -1.6988521,
          19.30631,
          52.74911,
          -24.831163,
          -32.65019,
          -10.958649,
          0.82742673,
          -21.389397,
          14.101158,
          2.1391983,
          6.576113,
          -32.843567,
          60.250656,
          -43.65164,
          -10.533554,
          -25.26452,
          50.190014,
          -22.556831,
          -1.8844366,
          17.620245,
          25.576294,
          53.109592,
          -41.58676,
          8.641028,
          -33.405598,
          39.503387,
          -40.254204,
          -46.44093,
          13.338996,
          9.385,
          -31.900993,
          -10.131737,
          -5.4291334,
          9.878982,
          -47.344704,
          9.33157,
          51.674915,
          -31.377905,
          -4.2005377,
          -12.071655,
          -3.6661708,
          37.244083,
          3.2858796,
          -25.261751,
          -48.280323,
          11.631785,
          32.637978,
          45.047813,
          -23.116121,
          -6.183171,
          -23.86113,
          0.017425848,
          8.19719,
          22.400421,
          -40.894783,
          29.179394,
          -18.357765,
          43.00136,
          -4.4837027,
          41.68122,
          -36.107216,
          21.893982,
          34.812412,
          -32.88127,
          -17.11192,
          -10.238356,
          -1.9124643,
          21.319334,
          -2.981173,
          -1.3924571,
          -41.355488,
          -4.402796,
          45.275204,
          -19.099257,
          -28.038015,
          63.64564
         ],
         "z": [
          -80.01053,
          6.952257,
          39.770596,
          16.702005,
          5.445383,
          -15.32626,
          -0.5249115,
          29.32656,
          36.423714,
          -14.892507,
          -8.28791,
          23.206917,
          57.858578,
          -50.514557,
          64.206955,
          18.315903,
          -0.5376158,
          -15.617648,
          -0.26207563,
          -29.67441,
          -71.75039,
          8.197639,
          -14.2429905,
          43.300938,
          38.940685,
          68.43502,
          -23.888317,
          48.1142,
          49.111935,
          -61.746227,
          50.52906,
          32.868515,
          -13.877641,
          7.967563,
          -50.249985,
          -49.565216,
          -2.7943447,
          -46.210426,
          -54.42825,
          -20.080788,
          15.767397,
          -16.436441,
          -31.49947,
          27.740046,
          31.81843,
          -10.746491,
          68.19509,
          -17.48625,
          -12.825234,
          -71.884796,
          -16.59812,
          12.649029,
          70.53656,
          19.578947,
          -38.99613,
          53.66051,
          -4.5801187,
          -19.734165,
          -33.125164,
          -28.618763,
          23.614397,
          77.43594,
          -32.899113,
          46.40308,
          8.167681,
          -2.8620894,
          74.148186,
          -26.347952,
          -74.90554,
          -77.46363,
          -28.790958,
          20.622337,
          64.1211,
          9.823497,
          -7.1779866,
          10.737146,
          -29.82501,
          -67.2842,
          -18.324295,
          4.6903768,
          -0.48786125,
          44.55313,
          -0.092902616,
          13.796377,
          27.559351,
          -36.15748,
          -36.40333,
          -38.448048,
          -5.13925,
          -45.601143,
          -32.268417,
          10.468017,
          16.537827,
          40.53047,
          -1.0723572,
          52.555515,
          53.437595,
          12.123496,
          38.82272,
          -48.952595,
          12.853546,
          -30.875723,
          1.1754398,
          18.969849,
          28.55506,
          22.07326,
          57.09251,
          -26.802582,
          -10.858276,
          -13.749718,
          36.731487,
          0.24828485,
          -43.257736,
          -55.938084,
          39.296425,
          -53.445366,
          -17.457575,
          -2.9673405,
          0.0901862,
          -49.77096,
          -25.705078,
          -13.610352,
          67.12242,
          35.858795,
          9.70463,
          20.889431,
          -43.310135,
          -42.36413,
          -33.766987,
          -57.633263,
          -35.28791,
          64.09733,
          -30.020395,
          -4.3398356,
          -11.234243,
          -16.331018,
          22.371712,
          17.535992,
          25.282942,
          -62.60095,
          0.4806009,
          70.375824,
          20.449402,
          -2.0014663,
          -32.865536,
          23.095472,
          27.847054,
          -30.648935,
          -56.0284,
          -7.3562527,
          41.76956,
          -24.99873,
          31.66762,
          -29.629705,
          -15.31758,
          -9.096767,
          26.896555,
          44.854942,
          7.493553,
          4.068373,
          34.71581,
          -46.640224,
          -8.490605,
          -48.098576,
          50.40989,
          35.75695,
          -43.580498,
          43.48538,
          43.563065,
          -47.500908,
          -17.975456,
          -4.8319664,
          43.81085,
          -46.34204,
          -4.954837,
          -51.740547,
          -68.37514,
          29.03883,
          56.43028,
          -23.674625,
          -9.0214,
          20.377613,
          37.052822,
          35.568115,
          -8.854601,
          -12.067132,
          49.907764,
          36.929363,
          16.495632,
          -27.568445,
          7.129844,
          -50.75493,
          69.71066,
          32.083324,
          56.811436,
          -21.762302,
          54.430317,
          8.924631,
          33.06066,
          -21.813917,
          -3.1104941,
          -21.70847,
          -63.661057,
          -45.242672,
          -2.3619707,
          -58.077934,
          52.1452,
          -1.9540714,
          -23.772692,
          14.296897,
          -31.250578,
          -1.1164938,
          -8.393525,
          -8.107033,
          41.62983,
          34.141304,
          -26.842785
         ]
        }
       ],
       "layout": {
        "height": 700,
        "margin": {
         "b": 10,
         "l": 10,
         "r": 20,
         "t": 40
        },
        "scene": {
         "xaxis": {
          "title": {
           "text": "x"
          }
         },
         "yaxis": {
          "title": {
           "text": "y"
          }
         },
         "zaxis": {
          "title": {
           "text": "z"
          }
         }
        },
        "template": {
         "data": {
          "bar": [
           {
            "error_x": {
             "color": "#2a3f5f"
            },
            "error_y": {
             "color": "#2a3f5f"
            },
            "marker": {
             "line": {
              "color": "#E5ECF6",
              "width": 0.5
             },
             "pattern": {
              "fillmode": "overlay",
              "size": 10,
              "solidity": 0.2
             }
            },
            "type": "bar"
           }
          ],
          "barpolar": [
           {
            "marker": {
             "line": {
              "color": "#E5ECF6",
              "width": 0.5
             },
             "pattern": {
              "fillmode": "overlay",
              "size": 10,
              "solidity": 0.2
             }
            },
            "type": "barpolar"
           }
          ],
          "carpet": [
           {
            "aaxis": {
             "endlinecolor": "#2a3f5f",
             "gridcolor": "white",
             "linecolor": "white",
             "minorgridcolor": "white",
             "startlinecolor": "#2a3f5f"
            },
            "baxis": {
             "endlinecolor": "#2a3f5f",
             "gridcolor": "white",
             "linecolor": "white",
             "minorgridcolor": "white",
             "startlinecolor": "#2a3f5f"
            },
            "type": "carpet"
           }
          ],
          "choropleth": [
           {
            "colorbar": {
             "outlinewidth": 0,
             "ticks": ""
            },
            "type": "choropleth"
           }
          ],
          "contour": [
           {
            "colorbar": {
             "outlinewidth": 0,
             "ticks": ""
            },
            "colorscale": [
             [
              0,
              "#0d0887"
             ],
             [
              0.1111111111111111,
              "#46039f"
             ],
             [
              0.2222222222222222,
              "#7201a8"
             ],
             [
              0.3333333333333333,
              "#9c179e"
             ],
             [
              0.4444444444444444,
              "#bd3786"
             ],
             [
              0.5555555555555556,
              "#d8576b"
             ],
             [
              0.6666666666666666,
              "#ed7953"
             ],
             [
              0.7777777777777778,
              "#fb9f3a"
             ],
             [
              0.8888888888888888,
              "#fdca26"
             ],
             [
              1,
              "#f0f921"
             ]
            ],
            "type": "contour"
           }
          ],
          "contourcarpet": [
           {
            "colorbar": {
             "outlinewidth": 0,
             "ticks": ""
            },
            "type": "contourcarpet"
           }
          ],
          "heatmap": [
           {
            "colorbar": {
             "outlinewidth": 0,
             "ticks": ""
            },
            "colorscale": [
             [
              0,
              "#0d0887"
             ],
             [
              0.1111111111111111,
              "#46039f"
             ],
             [
              0.2222222222222222,
              "#7201a8"
             ],
             [
              0.3333333333333333,
              "#9c179e"
             ],
             [
              0.4444444444444444,
              "#bd3786"
             ],
             [
              0.5555555555555556,
              "#d8576b"
             ],
             [
              0.6666666666666666,
              "#ed7953"
             ],
             [
              0.7777777777777778,
              "#fb9f3a"
             ],
             [
              0.8888888888888888,
              "#fdca26"
             ],
             [
              1,
              "#f0f921"
             ]
            ],
            "type": "heatmap"
           }
          ],
          "heatmapgl": [
           {
            "colorbar": {
             "outlinewidth": 0,
             "ticks": ""
            },
            "colorscale": [
             [
              0,
              "#0d0887"
             ],
             [
              0.1111111111111111,
              "#46039f"
             ],
             [
              0.2222222222222222,
              "#7201a8"
             ],
             [
              0.3333333333333333,
              "#9c179e"
             ],
             [
              0.4444444444444444,
              "#bd3786"
             ],
             [
              0.5555555555555556,
              "#d8576b"
             ],
             [
              0.6666666666666666,
              "#ed7953"
             ],
             [
              0.7777777777777778,
              "#fb9f3a"
             ],
             [
              0.8888888888888888,
              "#fdca26"
             ],
             [
              1,
              "#f0f921"
             ]
            ],
            "type": "heatmapgl"
           }
          ],
          "histogram": [
           {
            "marker": {
             "pattern": {
              "fillmode": "overlay",
              "size": 10,
              "solidity": 0.2
             }
            },
            "type": "histogram"
           }
          ],
          "histogram2d": [
           {
            "colorbar": {
             "outlinewidth": 0,
             "ticks": ""
            },
            "colorscale": [
             [
              0,
              "#0d0887"
             ],
             [
              0.1111111111111111,
              "#46039f"
             ],
             [
              0.2222222222222222,
              "#7201a8"
             ],
             [
              0.3333333333333333,
              "#9c179e"
             ],
             [
              0.4444444444444444,
              "#bd3786"
             ],
             [
              0.5555555555555556,
              "#d8576b"
             ],
             [
              0.6666666666666666,
              "#ed7953"
             ],
             [
              0.7777777777777778,
              "#fb9f3a"
             ],
             [
              0.8888888888888888,
              "#fdca26"
             ],
             [
              1,
              "#f0f921"
             ]
            ],
            "type": "histogram2d"
           }
          ],
          "histogram2dcontour": [
           {
            "colorbar": {
             "outlinewidth": 0,
             "ticks": ""
            },
            "colorscale": [
             [
              0,
              "#0d0887"
             ],
             [
              0.1111111111111111,
              "#46039f"
             ],
             [
              0.2222222222222222,
              "#7201a8"
             ],
             [
              0.3333333333333333,
              "#9c179e"
             ],
             [
              0.4444444444444444,
              "#bd3786"
             ],
             [
              0.5555555555555556,
              "#d8576b"
             ],
             [
              0.6666666666666666,
              "#ed7953"
             ],
             [
              0.7777777777777778,
              "#fb9f3a"
             ],
             [
              0.8888888888888888,
              "#fdca26"
             ],
             [
              1,
              "#f0f921"
             ]
            ],
            "type": "histogram2dcontour"
           }
          ],
          "mesh3d": [
           {
            "colorbar": {
             "outlinewidth": 0,
             "ticks": ""
            },
            "type": "mesh3d"
           }
          ],
          "parcoords": [
           {
            "line": {
             "colorbar": {
              "outlinewidth": 0,
              "ticks": ""
             }
            },
            "type": "parcoords"
           }
          ],
          "pie": [
           {
            "automargin": true,
            "type": "pie"
           }
          ],
          "scatter": [
           {
            "fillpattern": {
             "fillmode": "overlay",
             "size": 10,
             "solidity": 0.2
            },
            "type": "scatter"
           }
          ],
          "scatter3d": [
           {
            "line": {
             "colorbar": {
              "outlinewidth": 0,
              "ticks": ""
             }
            },
            "marker": {
             "colorbar": {
              "outlinewidth": 0,
              "ticks": ""
             }
            },
            "type": "scatter3d"
           }
          ],
          "scattercarpet": [
           {
            "marker": {
             "colorbar": {
              "outlinewidth": 0,
              "ticks": ""
             }
            },
            "type": "scattercarpet"
           }
          ],
          "scattergeo": [
           {
            "marker": {
             "colorbar": {
              "outlinewidth": 0,
              "ticks": ""
             }
            },
            "type": "scattergeo"
           }
          ],
          "scattergl": [
           {
            "marker": {
             "colorbar": {
              "outlinewidth": 0,
              "ticks": ""
             }
            },
            "type": "scattergl"
           }
          ],
          "scattermapbox": [
           {
            "marker": {
             "colorbar": {
              "outlinewidth": 0,
              "ticks": ""
             }
            },
            "type": "scattermapbox"
           }
          ],
          "scatterpolar": [
           {
            "marker": {
             "colorbar": {
              "outlinewidth": 0,
              "ticks": ""
             }
            },
            "type": "scatterpolar"
           }
          ],
          "scatterpolargl": [
           {
            "marker": {
             "colorbar": {
              "outlinewidth": 0,
              "ticks": ""
             }
            },
            "type": "scatterpolargl"
           }
          ],
          "scatterternary": [
           {
            "marker": {
             "colorbar": {
              "outlinewidth": 0,
              "ticks": ""
             }
            },
            "type": "scatterternary"
           }
          ],
          "surface": [
           {
            "colorbar": {
             "outlinewidth": 0,
             "ticks": ""
            },
            "colorscale": [
             [
              0,
              "#0d0887"
             ],
             [
              0.1111111111111111,
              "#46039f"
             ],
             [
              0.2222222222222222,
              "#7201a8"
             ],
             [
              0.3333333333333333,
              "#9c179e"
             ],
             [
              0.4444444444444444,
              "#bd3786"
             ],
             [
              0.5555555555555556,
              "#d8576b"
             ],
             [
              0.6666666666666666,
              "#ed7953"
             ],
             [
              0.7777777777777778,
              "#fb9f3a"
             ],
             [
              0.8888888888888888,
              "#fdca26"
             ],
             [
              1,
              "#f0f921"
             ]
            ],
            "type": "surface"
           }
          ],
          "table": [
           {
            "cells": {
             "fill": {
              "color": "#EBF0F8"
             },
             "line": {
              "color": "white"
             }
            },
            "header": {
             "fill": {
              "color": "#C8D4E3"
             },
             "line": {
              "color": "white"
             }
            },
            "type": "table"
           }
          ]
         },
         "layout": {
          "annotationdefaults": {
           "arrowcolor": "#2a3f5f",
           "arrowhead": 0,
           "arrowwidth": 1
          },
          "autotypenumbers": "strict",
          "coloraxis": {
           "colorbar": {
            "outlinewidth": 0,
            "ticks": ""
           }
          },
          "colorscale": {
           "diverging": [
            [
             0,
             "#8e0152"
            ],
            [
             0.1,
             "#c51b7d"
            ],
            [
             0.2,
             "#de77ae"
            ],
            [
             0.3,
             "#f1b6da"
            ],
            [
             0.4,
             "#fde0ef"
            ],
            [
             0.5,
             "#f7f7f7"
            ],
            [
             0.6,
             "#e6f5d0"
            ],
            [
             0.7,
             "#b8e186"
            ],
            [
             0.8,
             "#7fbc41"
            ],
            [
             0.9,
             "#4d9221"
            ],
            [
             1,
             "#276419"
            ]
           ],
           "sequential": [
            [
             0,
             "#0d0887"
            ],
            [
             0.1111111111111111,
             "#46039f"
            ],
            [
             0.2222222222222222,
             "#7201a8"
            ],
            [
             0.3333333333333333,
             "#9c179e"
            ],
            [
             0.4444444444444444,
             "#bd3786"
            ],
            [
             0.5555555555555556,
             "#d8576b"
            ],
            [
             0.6666666666666666,
             "#ed7953"
            ],
            [
             0.7777777777777778,
             "#fb9f3a"
            ],
            [
             0.8888888888888888,
             "#fdca26"
            ],
            [
             1,
             "#f0f921"
            ]
           ],
           "sequentialminus": [
            [
             0,
             "#0d0887"
            ],
            [
             0.1111111111111111,
             "#46039f"
            ],
            [
             0.2222222222222222,
             "#7201a8"
            ],
            [
             0.3333333333333333,
             "#9c179e"
            ],
            [
             0.4444444444444444,
             "#bd3786"
            ],
            [
             0.5555555555555556,
             "#d8576b"
            ],
            [
             0.6666666666666666,
             "#ed7953"
            ],
            [
             0.7777777777777778,
             "#fb9f3a"
            ],
            [
             0.8888888888888888,
             "#fdca26"
            ],
            [
             1,
             "#f0f921"
            ]
           ]
          },
          "colorway": [
           "#636efa",
           "#EF553B",
           "#00cc96",
           "#ab63fa",
           "#FFA15A",
           "#19d3f3",
           "#FF6692",
           "#B6E880",
           "#FF97FF",
           "#FECB52"
          ],
          "font": {
           "color": "#2a3f5f"
          },
          "geo": {
           "bgcolor": "white",
           "lakecolor": "white",
           "landcolor": "#E5ECF6",
           "showlakes": true,
           "showland": true,
           "subunitcolor": "white"
          },
          "hoverlabel": {
           "align": "left"
          },
          "hovermode": "closest",
          "mapbox": {
           "style": "light"
          },
          "paper_bgcolor": "white",
          "plot_bgcolor": "#E5ECF6",
          "polar": {
           "angularaxis": {
            "gridcolor": "white",
            "linecolor": "white",
            "ticks": ""
           },
           "bgcolor": "#E5ECF6",
           "radialaxis": {
            "gridcolor": "white",
            "linecolor": "white",
            "ticks": ""
           }
          },
          "scene": {
           "xaxis": {
            "backgroundcolor": "#E5ECF6",
            "gridcolor": "white",
            "gridwidth": 2,
            "linecolor": "white",
            "showbackground": true,
            "ticks": "",
            "zerolinecolor": "white"
           },
           "yaxis": {
            "backgroundcolor": "#E5ECF6",
            "gridcolor": "white",
            "gridwidth": 2,
            "linecolor": "white",
            "showbackground": true,
            "ticks": "",
            "zerolinecolor": "white"
           },
           "zaxis": {
            "backgroundcolor": "#E5ECF6",
            "gridcolor": "white",
            "gridwidth": 2,
            "linecolor": "white",
            "showbackground": true,
            "ticks": "",
            "zerolinecolor": "white"
           }
          },
          "shapedefaults": {
           "line": {
            "color": "#2a3f5f"
           }
          },
          "ternary": {
           "aaxis": {
            "gridcolor": "white",
            "linecolor": "white",
            "ticks": ""
           },
           "baxis": {
            "gridcolor": "white",
            "linecolor": "white",
            "ticks": ""
           },
           "bgcolor": "#E5ECF6",
           "caxis": {
            "gridcolor": "white",
            "linecolor": "white",
            "ticks": ""
           }
          },
          "title": {
           "x": 0.05
          },
          "xaxis": {
           "automargin": true,
           "gridcolor": "white",
           "linecolor": "white",
           "ticks": "",
           "title": {
            "standoff": 15
           },
           "zerolinecolor": "white",
           "zerolinewidth": 2
          },
          "yaxis": {
           "automargin": true,
           "gridcolor": "white",
           "linecolor": "white",
           "ticks": "",
           "title": {
            "standoff": 15
           },
           "zerolinecolor": "white",
           "zerolinewidth": 2
          }
         }
        },
        "title": {
         "text": "3D Chroma Vector Store Visualization"
        },
        "width": 900
       }
      },
      "image/png": "[encoded data removed]",
      "text/html": [
       "<div>                            <div id=\"4b1616ca-306c-4be2-80b1-9433324cfbaf\" class=\"plotly-graph-div\" style=\"height:700px; width:900px;\"></div>            <script type=\"text/javascript\">                require([\"plotly\"], function(Plotly) {                    window.PLOTLYENV=window.PLOTLYENV || {};                                    if (document.getElementById(\"4b1616ca-306c-4be2-80b1-9433324cfbaf\")) {                    Plotly.newPlot(                        \"4b1616ca-306c-4be2-80b1-9433324cfbaf\",                        [{\"hoverinfo\":\"text\",\"marker\":{\"color\":[\"#d01f72\",\"#75195e\",\"#3678a7\",\"#5b3f83\",\"#74a788\",\"#571122\",\"#4099c1\",\"#659222\",\"#188ca3\",\"#6d4052\",\"#35303c\",\"#a9e927\",\"#29fa15\",\"#71c500\",\"#9b9d6e\",\"#cf7e83\",\"#badd6d\",\"#85fa26\",\"#22463b\",\"#ce865d\",\"#f59c06\",\"#011995\",\"#793548\",\"#ad8b14\",\"#d937bd\",\"#2b9f18\",\"#046e5c\",\"#75b5e3\",\"#c959de\",\"#72e048\",\"#8e8cab\",\"#20f2c3\",\"#64f999\",\"#e69670\",\"#6a0fce\",\"#d65c3a\",\"#7bee34\",\"#4f86b8\",\"#b43417\",\"#4dfb77\",\"#2ae342\",\"#c3e1f2\",\"#12897b\",\"#2b3af3\",\"#7ea8e9\",\"#6ad041\",\"#0bdacc\",\"#99fe53\",\"#4aaf9f\",\"#d156c8\",\"#505bd9\",\"#dc152c\",\"#b52bf6\",\"#9baca0\",\"#a03134\",\"#d43c00\",\"#5af098\",\"#2c168d\",\"#c6016b\",\"#f090af\",\"#482281\",\"#39821f\",\"#e0a8df\",\"#480c89\",\"#08808d\",\"#ac5faf\",\"#0faf59\",\"#79c82a\",\"#e6e164\",\"#0d2037\",\"#8afd40\",\"#2e1afc\",\"#3ec815\",\"#fbfef2\",\"#a63fa4\",\"#b27d2e\",\"#ca3592\",\"#b9fd23\",\"#ac9648\",\"#804ce2\",\"#9b5e28\",\"#a64739\",\"#c457d7\",\"#de30e4\",\"#1f6ab0\",\"#6ff3c5\",\"#6df6ca\",\"#ed694d\",\"#2fef1a\",\"#335dcf\",\"#845aa9\",\"#574e28\",\"#dc95ec\",\"#b2140a\",\"#15ae86\",\"#70d1d9\",\"#6f745a\",\"#b3dba5\",\"#108c41\",\"#268bba\",\"#913568\",\"#1a6fdf\",\"#422abb\",\"#cb725f\",\"#fe62a5\",\"#dfc6c7\",\"#b25d7b\",\"#bd53b1\",\"#796278\",\"#048452\",\"#c6eff5\",\"#d24e5d\",\"#fe8e92\",\"#22398f\",\"#3e5237\",\"#8069bc\",\"#7740be\",\"#cc8ec0\",\"#b280bb\",\"#91f4db\",\"#ac55ba\",\"#c97596\",\"#116019\",\"#43c2e8\",\"#2a2d25\",\"#fc2b74\",\"#ae7afe\",\"#92b4fa\",\"#dd8cd7\",\"#4862ce\",\"#af0f59\",\"#ad6bd0\",\"#3f0a72\",\"#e01073\",\"#144ada\",\"#5cb9ca\",\"#51d0da\",\"#d6d07a\",\"#b61e76\",\"#474ff9\",\"#68bece\",\"#d01b19\",\"#ee26df\",\"#2ebca4\",\"#539908\",\"#ec0a37\",\"#1a5613\",\"#da28db\",\"#246fa5\",\"#bbfe83\",\"#d54222\",\"#580c96\",\"#02cada\",\"#996ff1\",\"#e2a239\",\"#ae5204\",\"#4ce72d\",\"#2cde7f\",\"#b64eac\",\"#591ab9\",\"#a958c9\",\"#696eaa\",\"#4c4355\",\"#6a6c06\",\"#df5d2e\",\"#9780cf\",\"#682d42\",\"#efed10\",\"#1b312a\",\"#dbde1c\",\"#e1b5db\",\"#a95826\",\"#4e797a\",\"#10384a\",\"#9a5ba2\",\"#d34482\",\"#8a29da\",\"#fb9dce\",\"#ff2d6a\",\"#50f10d\",\"#f8d349\",\"#7b4427\",\"#11a70e\",\"#987252\",\"#c932c1\",\"#2d7f7d\",\"#c1e3c5\",\"#0c777d\",\"#0f8781\",\"#dd889c\",\"#799a24\",\"#4212f1\",\"#e6f378\",\"#805527\",\"#091a90\",\"#a9541c\",\"#fcdcad\",\"#01f59b\",\"#94a85d\",\"#426575\",\"#7f03bd\",\"#2dcfac\",\"#52b6df\",\"#73e76a\",\"#d70d97\",\"#601568\",\"#d4b1ce\",\"#7341ee\",\"#bb0ee6\",\"#f645e0\",\"#1c2c7e\",\"#7dd58b\",\"#4b9a93\",\"#9df332\",\"#612b32\",\"#b1c27d\",\"#3626a5\"],\"opacity\":0.8,\"size\":5},\"mode\":\"markers\",\"text\":[\"Video: 59506507\\u003cbr\\u003eText: Well, I realized that was a whole lot of theory, but I hope it gave you a good intuition that will\\nb...\",\"Video: 59671315\\u003cbr\\u003eText: Okay, so here we are, back in Jupyter Lab, ready for the next use of a frontier model, and see this\\n...\",\"Video: 60616895\\u003cbr\\u003eText: It feels like 100 videos ago that I told you that we were going to have instant gratification with o...\",\"Video: 60619275\\u003cbr\\u003eText: And we will conclude our expedition into the world of frontier models through their chat interface b...\",\"Video: 59472693\\u003cbr\\u003eText: Friends.\\nI am absolutely exhausted.\\nI am exhausted and a little tiny bit traumatized.\\nAnd you are so...\",\"Video: 59670121\\u003cbr\\u003eText: So it's business time right now.\\nWe are going to build a Rag pipeline to estimate the price of produ...\",\"Video: 59295619\\u003cbr\\u003eText: Welcome back to the the moment when we bring it all together into a beautiful user interface.\\nBut fi...\",\"Video: 60617163\\u003cbr\\u003eText: And already that wraps up day two.\\nNow that you have built that solution.\\nAnd congratulations on tha...\",\"Video: 60616423\\u003cbr\\u003eText: So I hope you've just enjoyed yourself experimenting with different LMS locally on your box using th...\",\"Video: 59170227\\u003cbr\\u003eText: Welcome back to Google Colab.\\nHere we are ready to explore the wonderful world of Tokenizers.\\nSo, uh...\",\"Video: 59169985\\u003cbr\\u003eText: So I hope you enjoyed that whirlwind tour of Google Colab.\\nHere's just a little screenshot example o...\",\"Video: 60616927\\u003cbr\\u003eText: It's time for our first LM experiment at this point.\\nSo some of this you may know well, you may know...\",\"Video: 59673721\\u003cbr\\u003eText: And here we are in JupyterLab for the last time, and we are looking here at day five, the last day\\no...\",\"Video: 59508055\\u003cbr\\u003eText: I'm so very happy that you've reached this epic moment in the course and that you're hanging in ther...\",\"Video: 59670259\\u003cbr\\u003eText: It's remarkable.\\nBut you are now at the 95% point.\\nThere's 5% remaining of this course.\\nUh, maybe it...\",\"Video: 60616623\\u003cbr\\u003eText: So we're now going to start week one of the course when we are going to be looking at exploring fron...\",\"Video: 59472383\\u003cbr\\u003eText: And welcome back to the week six folder.\\nWe're now at day two, which is the second and final stage o...\",\"Video: 59670171\\u003cbr\\u003eText: So as the very final step on this part four of day two of week eight, we are now going to build an\\ne...\",\"Video: 59297721\\u003cbr\\u003eText: And so now the time has come to talk about the most crucial aspect of Rag, which is the idea of vect...\",\"Video: 59297599\\u003cbr\\u003eText: Well, that was a sneaky detour I took you on in the last one.\\nI hope you enjoyed it though, and I ho...\",\"Video: 59507635\\u003cbr\\u003eText: Look, I hope you're excited.\\nYou really should be.\\nYou've been through 80% of the course and it's al...\",\"Video: 59669375\\u003cbr\\u003eText: Here we are for the day.\\n2.1 notebook.\\nAnd don't let it be said that I don't ever do anything for yo...\",\"Video: 59297733\\u003cbr\\u003eText: Welcome back to JupyterLab and welcome to your first experiment with the world of Long Chain.\\nLet me...\",\"Video: 59670369\\u003cbr\\u003eText: It is terrific that you're hanging on in there and making such great progress with this course.\\nAs w...\",\"Video: 59166281\\u003cbr\\u003eText: And with that, amazingly, you completed day one of week two already and that gets you to the 15% poi...\",\"Video: 59671567\\u003cbr\\u003eText: Well, the first thing you're going to notice is that I don't have a notebook open for you.\\nAnd that'...\",\"Video: 59297593\\u003cbr\\u003eText: And welcome to continuing our journey with Hrag.\\nAnd today it's time to unveil Liang Chen.\\nSo first,...\",\"Video: 59166461\\u003cbr\\u003eText: And welcome back to the lab.\\nHere we are in Jupyter Lab and we are going to go into week two.\\nAnd we...\",\"Video: 59167007\\u003cbr\\u003eText: Well, how fabulous is that?\\nI hope that you are as wowed as I am by our new airline, I assistant and...\",\"Video: 59508121\\u003cbr\\u003eText: The moment has arrived.\\nHere we go.\\nWe're in fine tuning.\\nWe do fine tuning.\\nTrain.\\nThere is also a ...\",\"Video: 59295579\\u003cbr\\u003eText: All right.\\nAre you excited to see how this goes?\\nLet's give it a try.\\nSo in this next section, I cre...\",\"Video: 60620375\\u003cbr\\u003eText: And with that, we've reached an important milestone.\\nThe first week of our eight week journey is com...\",\"Video: 59472491\\u003cbr\\u003eText: Welcome back.\\nIf you are following along with me in JupyterLab, as I hope you are, then you will nee...\",\"Video: 59472425\\u003cbr\\u003eText: Welcome to week six, day three.\\nToday is going to be a day that you will either love or you will hat...\",\"Video: 59508057\\u003cbr\\u003eText: Actually slight change in plan.\\nI'm going to wrap up the day.\\nDay three at this point, and say that ...\",\"Video: 60619577\\u003cbr\\u003eText: And for the final piece of background information, I wanted to take another moment to talk about API...\",\"Video: 59170291\\u003cbr\\u003eText: Welcome back to Colab and welcome back to our business project.\\nSo again our assignment, we are due ...\",\"Video: 60619651\\u003cbr\\u003eText: I mentioned before an AI company called vellum.\\nWhen we were talking about the different questions, ...\",\"Video: 59473191\\u003cbr\\u003eText: And you thought we'd never get here.\\nHere we are in Jupyter Lab, running our fine tuning for a front...\",\"Video: 59170297\\u003cbr\\u003eText: And here we are in Google Colab, ready for fun with models.\\nSo first we do the usual Pip installs an...\",\"Video: 59167015\\u003cbr\\u003eText: Welcome back to Jupyter Lab and welcome to Day Five's Lab.\\nAnd this is going to be lots of creativit...\",\"Video: 59170043\\u003cbr\\u003eText: Let me enthusiastically welcome you all back to week three of our LLM engineering journey.\\nIf you en...\",\"Video: 59473147\\u003cbr\\u003eText: Well, I'm very relieved.\\nI've got that behind me.\\nNo more human testing for me.\\nWe'll have one final...\",\"Video: 59166453\\u003cbr\\u003eText: Welcome back and welcome to our continuing JupyterLab experience.\\nUh, I'm hopefully going to keep yo...\",\"Video: 59166915\\u003cbr\\u003eText: Welcome back to the wonderful world of JupyterLab.\\nAnd here we are in week two.\\nDay three.\\nUh, bring...\",\"Video: 59667365\\u003cbr\\u003eText: Here we are back in Colab, looking at the week seven, day five of the Colab notebooks and I'm on a\\nT...\",\"Video: 60616845\\u003cbr\\u003eText: We're on the home stretch.\\nThis is the final step in the environment setup, and it's an easy one.\\nIt...\",\"Video: 59295459\\u003cbr\\u003eText: And welcome back to More Leaderboard Fest as we go through some more leaderboards.\\nBut this time we'...\",\"Video: 59471979\\u003cbr\\u003eText: So we now turn to the parts of the problem, which is perhaps, let's say, not as glamorous as some\\nof...\",\"Video: 59503705\\u003cbr\\u003eText: And so now we talk about quantization the q and q Laura.\\nQ stands for quantized quantized.\\nLaura.\\nAn...\",\"Video: 59472505\\u003cbr\\u003eText: So the good news is that this is the very final video about data set curation.\\nYou were probably fed...\",\"Video: 59669217\\u003cbr\\u003eText: And welcome to the next part of visualizing the data.\\nAnd just very quickly to show it to you in 3D....\",\"Video: 59671221\\u003cbr\\u003eText: I gotta tell you, I don't like to toot my horn a whole lot, but I do think that I've done a great\\njo...\",\"Video: 59503703\\u003cbr\\u003eText: Well.\\nHello there everybody.\\nI am so grateful that you've made it through to the start of week seven...\",\"Video: 59473201\\u003cbr\\u003eText: Well, before we do a postmortem on what happened, let's just quickly look at the standing the rankin...\",\"Video: 60622463\\u003cbr\\u003eText: In this video, we're going to set up a full data science environment for Mac users.\\nIn the next vide...\",\"Video: 60619299\\u003cbr\\u003eText: Well, I hope you found that both educational and enjoyable.\\nAs we went through and learned so much a...\",\"Video: 59295607\\u003cbr\\u003eText: So to revisit then the solution that we built in the previous day and talk about the metrics.\\nAs I s...\",\"Video: 59297575\\u003cbr\\u003eText: Well, welcome to the final part on rag.\\nAnd this is the session where you go from being a rag expert...\",\"Video: 59507687\\u003cbr\\u003eText: It's time for action, everybody.\\nWe've set up our colab.\\nHere we are, week seven, day three.\\nWe've g...\",\"Video: 59671441\\u003cbr\\u003eText: And welcome once more to our favorite place to be Jupyter Lab, the Paradise for a data scientist exp...\",\"Video: 59673431\\u003cbr\\u003eText: And here we have it.\\nThe user interface is completed.\\nThe extra notification came through on my phon...\",\"Video: 59473137\\u003cbr\\u003eText: Let's get straight to it.\\nSo the place where you can see everything that's going on and get knee dee...\",\"Video: 59166421\\u003cbr\\u003eText: Welcome back to the radio day in the lab.\\nMore to do.\\nLet's keep going.\\nWhere we left off is we had ...\",\"Video: 59295599\\u003cbr\\u003eText: Welcome to the Jupyter Lab for day four.\\nIt's going to look very familiar because it's actually I've...\",\"Video: 59669631\\u003cbr\\u003eText: Here we are in our favorite place to be in JupyterLab, ready for some coding and a lot of coding tha...\",\"Video: 59673663\\u003cbr\\u003eText: But wait, there's more.\\nWe need to add some more to the user interface just to make it look more coo...\",\"Video: 59506929\\u003cbr\\u003eText: And we return to the hugging face open LLM leaderboard.\\nThe first place you go when selecting your b...\",\"Video: 59504785\\u003cbr\\u003eText: So at this point we're going to talk about hyperparameters.\\nAnd we're going to introduce three of th...\",\"Video: 59505337\\u003cbr\\u003eText: So we're now going to look at four bit quantization, the rather remarkable effect of reducing the pr...\",\"Video: 59271655\\u003cbr\\u003eText: So here we are on Hugging Face's main landing page at Hugging Face Core.\\nA URL you know.\\nWell, since...\",\"Video: 59472883\\u003cbr\\u003eText: Okay, time to reveal the results.\\nIt has run to completion.\\nAnd here it is.\\nSo a moment to pause.\\nIt...\",\"Video: 59673639\\u003cbr\\u003eText: And welcome now to the code for our user interface, which we will find in this Python module.\\nPrice ...\",\"Video: 59472463\\u003cbr\\u003eText: So last time we looked at a humble linear regression model with feature engineering, and now we say\\n...\",\"Video: 59297595\\u003cbr\\u003eText: So by the time you're watching this, hopefully you have played yourself with vectors.\\nYou've created...\",\"Video: 60619149\\u003cbr\\u003eText: So we're going to start our exploration into the world of frontier models by playing with the famous...\",\"Video: 59297735\\u003cbr\\u003eText: And at last the time has come to see rag in action.\\nAfter all of this talk, and here we are.\\nWe're i...\",\"Video: 60616407\\u003cbr\\u003eText: And now over to my Mac people.\\nAnd I have news for you.\\nIt's exactly the same thing.\\nYou go to a fav...\",\"Video: 59170235\\u003cbr\\u003eText: So here we are in Google Colab for our first collaborative session on the cloud using a GPU box.\\nOn ...\",\"Video: 59472067\\u003cbr\\u003eText: So we've covered steps 1 to 4 of the five step strategy.\\nAnd that brings us to step five, which is p...\",\"Video: 59472011\\u003cbr\\u003eText: Welcome everybody.\\nSo in the past I've said quite a few times, I am excited to start this this week ...\",\"Video: 59295553\\u003cbr\\u003eText: Welcome back.\\nIn the last part, we gave our GPT four and clawed the challenge of converting a simple...\",\"Video: 59297773\\u003cbr\\u003eText: Well, I hope you're eager with anticipation for this session in JupyterLab as we finally get to see\\n...\",\"Video: 59295583\\u003cbr\\u003eText: And here we are back in JupyterLab.\\nIt's been a minute.\\nWe've been working in Colab for last week, a...\",\"Video: 59507329\\u003cbr\\u003eText: Okay.\\nIt's moment of truth time.\\nI have just taken our class tester.\\nYou remember this class?\\nUh, it...\",\"Video: 59295429\\u003cbr\\u003eText: Continuing our investigation of benchmarks, and this will become more real when we actually see some...\",\"Video: 60595637\\u003cbr\\u003eText: Here we are back in the Colab, which has been running overnight for me and probably for you too, I\\nh...\",\"Video: 59668027\\u003cbr\\u003eText: And so here we are at the home page for modal.\\nAt modal.com spelt model not not model which is confu...\",\"Video: 59295527\\u003cbr\\u003eText: I'm so happy to welcome you to week four, day four on our journey to LLM Engineering and Mastery.\\nHe...\",\"Video: 59295377\\u003cbr\\u003eText: Just before we go on to some of the more advanced metrics, I want to mention for a second something\\n...\",\"Video: 59666211\\u003cbr\\u003eText: So before we try our new model and one more recap on the models so far and keep notes of this so we\\n...\",\"Video: 59170107\\u003cbr\\u003eText: And once again, it's that moment when you take a pause and congratulate yourself on another day of\\ns...\",\"Video: 60616833\\u003cbr\\u003eText: So I realized that day one of week one has been a pretty long day, and I assure you that the other,\\n...\",\"Video: 59472413\\u003cbr\\u003eText: Wonderful.\\nWhere we left off is we had just created the Get Features function, which builds our feat...\",\"Video: 59297561\\u003cbr\\u003eText: And would you believe at this point you're 55% of the way along the journey?\\nUh, it's been a while s...\",\"Video: 59669211\\u003cbr\\u003eText: Well, we took on a lot today and we seem to have been successful.\\nThese red icons that you see on th...\",\"Video: 59166981\\u003cbr\\u003eText: Welcome to week two, day five.\\nThe last day of week two where a lot is coming together.\\nI am so grat...\",\"Video: 60619227\\u003cbr\\u003eText: And now let's move to Claude from anthropic, my favorite model and typically the favorite model of\\nm...\",\"Video: 60620395\\u003cbr\\u003eText: Welcome back to Jupyter Lab, where I want to show you the assignment, the homework exercise for you\\n...\",\"Video: 59665127\\u003cbr\\u003eText: Well hi there everybody.\\nI'm not going to give you my usual song and dance about how excited you are...\",\"Video: 59668923\\u003cbr\\u003eText: Well, welcome back to Jupyter Lab for what will be an epic finale to our time in this platform.\\nAnd ...\",\"Video: 59504887\\u003cbr\\u003eText: Well, here we are again in Google Colab.\\nIt's been a minute since we were here, and welcome back to ...\",\"Video: 59170165\\u003cbr\\u003eText: Welcome, everybody to the last day of week three.\\nWeek three.\\nDay five.\\nWe're here already wrapping ...\",\"Video: 60617251\\u003cbr\\u003eText: Congratulations are definitely in order.\\nYesterday was a mammoth first day on this course and you go...\",\"Video: 59166951\\u003cbr\\u003eText: All right, back to the lab.\\nBack to our project.\\nTime to work with tools.\\nI am in the week two folde...\",\"Video: 60619619\\u003cbr\\u003eText: Well, day four was an information dense day.\\nI do hope that you learned some something useful here, ...\",\"Video: 60616663\\u003cbr\\u003eText: Well.\\nHi there, this is time for PC people to get set up.\\nSo all you Mac people out there, you don't...\",\"Video: 59508175\\u003cbr\\u003eText: So I'm taking a moment now to explain that the training costs of optimizing a model for this course\\n...\",\"Video: 59670087\\u003cbr\\u003eText: And welcome to part four of day two of week eight.\\nUh, there's a lot happening this week, and I have...\",\"Video: 59506713\\u003cbr\\u003eText: Hi everyone.\\nSo the reason I'm so fired up about week seven is that this is the time when we actuall...\",\"Video: 60620169\\u003cbr\\u003eText: Hopefully you found this super satisfying to be able to have this nice business result and have it c...\",\"Video: 59295435\\u003cbr\\u003eText: Well, just before we wrap up, let me introduce this week's challenge and talk about what we're going...\",\"Video: 59297609\\u003cbr\\u003eText: Last week, we worked with models that were able to speed up code by a factor of 60,000 times, which\\n...\",\"Video: 59507489\\u003cbr\\u003eText: Continuing our adventure through hyperparameters for training.\\nThe next one is pretty crucial and it...\",\"Video: 59295549\\u003cbr\\u003eText: And welcome back to our challenge again.\\nAnd this time we are working with our beautiful prototype.\\n...\",\"Video: 59665129\\u003cbr\\u003eText: And now let me make this real for you by showing you some, some diagrams, particularly now looking\\na...\",\"Video: 59169991\\u003cbr\\u003eText: Okay, so that was your introduction to Hugging Face.\\nAnd now I'm going to turn to a different resour...\",\"Video: 59472027\\u003cbr\\u003eText: And now the time has come to curate our data set.\\nAnd the way we're going to do this is we're going ...\",\"Video: 59472307\\u003cbr\\u003eText: Welcome to week six.\\nDay two a day.\\nWhen we get back into the data, we look back in anger at our dat...\",\"Video: 59508289\\u003cbr\\u003eText: So here we are now, back in the Colab, in the same one that we kicked off in the previous day.\\nIt's ...\",\"Video: 59472333\\u003cbr\\u003eText: Thank you for putting up with me during my foray into traditional machine learning.\\nI think it was u...\",\"Video: 59295431\\u003cbr\\u003eText: Now I want to take a quick moment to give you a flyby of five different ways that llms are used comm...\",\"Video: 59673449\\u003cbr\\u003eText: Well, I have to tell you that I'm a little bit sad.\\nThis is the beginning of the beginning of the en...\",\"Video: 59669389\\u003cbr\\u003eText: Well.\\nHi there.\\nSo you've made it to day two of week eight, and I am super grateful that you've been...\",\"Video: 59170057\\u003cbr\\u003eText: And so at the beginning of this week, we started by talking about hugging face pipelines.\\nAnd you us...\",\"Video: 59166949\\u003cbr\\u003eText: Welcome back to making chatbots.\\nLet's keep going.\\nSo for the next part we're going to beef up the s...\",\"Video: 59473019\\u003cbr\\u003eText: Welcome back to an action packed time of of training.\\nSo now, after waiting about five minutes when ...\",\"Video: 59297585\\u003cbr\\u003eText: Before we move on, let me show you one more time this fabulous slide that describes the simple three...\",\"Video: 59170255\\u003cbr\\u003eText: And welcome back to us continuing our journey through the model class in Hugging Face Transformers l...\",\"Video: 60614589\\u003cbr\\u003eText: So we're now going to run a large language model directly on your box using a platform called llama,...\",\"Video: 59297601\\u003cbr\\u003eText: I'm not going to lie, at this point you have every reason to be impatient with me.\\nWe've been yammer...\",\"Video: 60616629\\u003cbr\\u003eText: And welcome back to team PC and Team Mac as we come back together again for a quick video.\\nIn this o...\",\"Video: 59297749\\u003cbr\\u003eText: It's always welcome back to JupyterLab, my favorite place to be.\\nAnd now we are, of course in the we...\",\"Video: 59170135\\u003cbr\\u003eText: Welcome.\\nIt's week three.\\nIt's day four.\\nWe are back on the adventure in open source land, back inve...\",\"Video: 59472017\\u003cbr\\u003eText: And this is the first time that we'll be coding against our big project of the course.\\nWelcome to Ju...\",\"Video: 59507017\\u003cbr\\u003eText: Welcome to Colab.\\nWelcome to the week seven day two Colab.\\nAnd just before we try our base model, we...\",\"Video: 60619883\\u003cbr\\u003eText: And now we've arrived at an exciting moment in our first week.\\nThe conclusion of the first week is w...\",\"Video: 59508297\\u003cbr\\u003eText: What more is there to say, really?\\nTomorrow is the day for results.\\nA day that very excited indeed a...\",\"Video: 60619247\\u003cbr\\u003eText: We're going to spend a little bit more time with GPT just to try out a few more interesting things.\\n...\",\"Video: 59504769\\u003cbr\\u003eText: Without further ado, we're going to get stuck into it.\\nTalking about Laura.\\nLow rank adaptation.\\nAnd...\",\"Video: 59170233\\u003cbr\\u003eText: Welcome back to our continued exploits with Tokenizers.\\nWhat we're now going to look at is what's ca...\",\"Video: 59671231\\u003cbr\\u003eText: And here we are back in the Jupyter Lab for the fast approaching conclusion with a really great proj...\",\"Video: 60620397\\u003cbr\\u003eText: Well, that's a fantastic result to have now arrived towards the end of week one and having completed...\",\"Video: 59170093\\u003cbr\\u003eText: I'm delighted to see you again.\\nAs we get started with day three of week three of our adventure and ...\",\"Video: 59473089\\u003cbr\\u003eText: Welcome back.\\nSo hopefully you are still impressed by the GPT four mini results.\\nThe frontier model ...\",\"Video: 60395261\\u003cbr\\u003eText: Let's keep going with our project to equip our LM with a tool.\\nWe just created this piece of code to...\",\"Video: 60617259\\u003cbr\\u003eText: I'm excited to introduce you to your first exercise, and I'm looking forward to seeing what you make...\",\"Video: 59507313\\u003cbr\\u003eText: And it's this time again, when we look at the podium of how our models are performing across the boa...\",\"Video: 60619721\\u003cbr\\u003eText: Now it's time to talk for a minute about tokens.\\nTokens are the individual units which get passed in...\",\"Video: 59295451\\u003cbr\\u003eText: I know that everybody.\\nIt seems like just the other day that we were embarking on our quest together...\",\"Video: 59166919\\u003cbr\\u003eText: And with that, it concludes our session on tools.\\nAnd at this point, you are probably an expert on t...\",\"Video: 59295441\\u003cbr\\u003eText: Okay, so welcome to our leaderboard fast as we go through a ton of essential leaderboards for your\\nc...\",\"Video: 59295541\\u003cbr\\u003eText: And welcome back.\\nYou've just seen GPT four zero spectacularly failed to work on our hard Python con...\",\"Video: 59473101\\u003cbr\\u003eText: Welcome back.\\nSo about ten minutes later, maybe 15 minutes later, the run has completed.\\nAnd how do ...\",\"Video: 59507423\\u003cbr\\u003eText: So you may remember eons ago when we were building our data set.\\nAt the end of that, we uploaded our...\",\"Video: 59295545\\u003cbr\\u003eText: I really hope you've enjoyed this week.\\nWe've got tons done.\\nWe've experimented with all sorts of ne...\",\"Video: 59472503\\u003cbr\\u003eText: Welcome back to Jupyter Lab.\\nLast time, we looked at some silly models for predicting the price of p...\",\"Video: 60614591\\u003cbr\\u003eText: The mantra of this course is that the best way to learn is by doing, and we will be doing stuff toge...\",\"Video: 59473021\\u003cbr\\u003eText: Welcome to our favorite place to be to JupyterLab.\\nHere we are again now in day three.\\nIn week six.\\n...\",\"Video: 60617255\\u003cbr\\u003eText: I'm now going to talk for a bit about models.\\nA term you often hear is the term frontier models, whi...\",\"Video: 59667829\\u003cbr\\u003eText: Well.\\nHello there.\\nLook, I know what you're thinking.\\nYou're thinking I peaked too early.\\nLast week ...\",\"Video: 59505329\\u003cbr\\u003eText: Welcome back.\\nYou may, like me, have just gone off and got a coffee while things loaded back up agai...\",\"Video: 59669049\\u003cbr\\u003eText: So what you just saw was an ephemeral app, as it's called, which means just a temporary app that you...\",\"Video: 60619439\\u003cbr\\u003eText: This now brings us to an extremely important property of LMS called the context window that I want t...\",\"Video: 59668181\\u003cbr\\u003eText: And so it gives me great pleasure to introduce to you the project that I've lined up for you this we...\",\"Video: 59472441\\u003cbr\\u003eText: Welcome back.\\nSo we've been doing the thoroughly distasteful, unsavory work of feature engineering.\\n...\",\"Video: 59507785\\u003cbr\\u003eText: Well, I'm sure you're fed up of me saying that the moment of truth has arrived, but it really has.\\nT...\",\"Video: 59295587\\u003cbr\\u003eText: When I left you, we had just created this simple user interface for converting from Python to C plus...\",\"Video: 59166465\\u003cbr\\u003eText: Welcome back to the JupyterLab on Gradio day, so you'll remember where we left off.\\nWe'd written two...\",\"Video: 59473071\\u003cbr\\u003eText: Hey, gang.\\nLook, I know what you're thinking.\\nThis week was supposed to be training week.\\nI set it a...\",\"Video: 59295423\\u003cbr\\u003eText: Welcome to day two of week four, when we get more into leaderboards so that by the end of this, you'...\",\"Video: 59297723\\u003cbr\\u003eText: So I know what you're thinking.\\nYou're thinking, what's going on here?\\nWe're on day five.\\nWe're on d...\",\"Video: 59166947\\u003cbr\\u003eText: Well, thank you for coming along for week two, day four.\\nWe have lots of good stuff in store today.\\n...\",\"Video: 59666831\\u003cbr\\u003eText: Take one more moment to look at this very nice diagram that lays it all out, and we will move on.\\nNo...\",\"Video: 59295493\\u003cbr\\u003eText: And welcome to week four, day three.\\nAs we are about to embark upon another business project which w...\",\"Video: 60616855\\u003cbr\\u003eText: Now I know what you're thinking.\\nWe've been building environments for so long.\\nAre we not done yet?\\n...\",\"Video: 59506611\\u003cbr\\u003eText: So in a future day, I'm going to be training, fine tuning a model and creating a fine tuned model.\\nA...\",\"Video: 60616493\\u003cbr\\u003eText: I'll just take a quick moment to introduce myself to convince you that I am actually qualified to be...\",\"Video: 59166317\\u003cbr\\u003eText: And welcome to week two, day two, as we continue our adventure into the realm of LMS.\\nUh, so today, ...\",\"Video: 59295439\\u003cbr\\u003eText: So I'm aware that there's a big risk that you are getting fed up of leaderboards, because we've done...\",\"Video: 59472421\\u003cbr\\u003eText: And welcome back to our final time in Jupyter Lab with traditional machine learning.\\nIt's almost ove...\",\"Video: 59472137\\u003cbr\\u003eText: Well, well, well, it's been a long day, but congratulations, you've made it.\\nWe've gone through and ...\",\"Video: 59297693\\u003cbr\\u003eText: So at the end of each week, it's customary for me to give you a challenge, an assignment to do on\\nyo...\",\"Video: 60620143\\u003cbr\\u003eText: So we're going to make a call to GPT four.\\nOh, that's going to ask it to look through a set of links...\",\"Video: 60619501\\u003cbr\\u003eText: I welcome to day four of our time together.\\nThis is a very important day.\\nToday we're going to be lo...\",\"Video: 59297743\\u003cbr\\u003eText: And welcome to day five.\\nFor reals.\\nWe're actually in the proper Jupyter notebook.\\nThis time we're i...\",\"Video: 59166847\\u003cbr\\u003eText: Well, they say that time flies when you're having fun, and it certainly feels like time is flying.\\nU...\",\"Video: 59170223\\u003cbr\\u003eText: Well.\\nFantastic.\\nIt's coming up to the end of the week, and that means it's coming up to a challenge...\",\"Video: 59170037\\u003cbr\\u003eText: So how does it feel to be 30% of the way down the journey to being a proficient LLM engineer?\\nTake a...\",\"Video: 59295609\\u003cbr\\u003eText: You must be feeling absolutely exhausted at this point.\\nAnd if you are, that is okay.\\nYou have done ...\",\"Video: 60619281\\u003cbr\\u003eText: Well, I'm delighted to welcome you to day three of our eight week journey together.\\nAnd today we're ...\",\"Video: 59472429\\u003cbr\\u003eText: And continuing on our strategy to solve commercial problems with LMS, we get to step four, which is\\n...\",\"Video: 59167009\\u003cbr\\u003eText: Welcome back.\\nIt's time to make our full agent framework.\\nI'm super excited about this.\\nIt's pulling...\",\"Video: 59166481\\u003cbr\\u003eText: And here, once more we find ourselves in our favorite place, the Jupyter Lab.\\nReady to go with weeks...\",\"Video: 59670933\\u003cbr\\u003eText: I realized my enthusiasm for this project is a bit insane, but I have to tell you that I am very sat...\",\"Video: 59670073\\u003cbr\\u003eText: Okay, it's time to complete the Rag workflow in our Jupyter Lab on day 2.3.\\nWe've got this function ...\",\"Video: 59673595\\u003cbr\\u003eText: That concludes a mammoth project.\\nThree weeks in the making.\\nIn the course of those three weeks, sta...\",\"Video: 59297603\\u003cbr\\u003eText: And I'm delighted to welcome you back to LM engineering on the day that we turn to vectors.\\nFinally,...\",\"Video: 60614541\\u003cbr\\u003eText: I am delighted to welcome you to the first day of our eight weeks together as you join me on this ad...\",\"Video: 59667357\\u003cbr\\u003eText: Let's now see our results side by side.\\nWe started our journey with a constant model that was at $1....\",\"Video: 59667841\\u003cbr\\u003eText: Now, look, I know that I went through that very fast, but maybe, uh, you're still, uh, blinking\\nat t...\",\"Video: 59472007\\u003cbr\\u003eText: So I hope you enjoyed our first bash at Scrubbing Data, and that you are now looking through the cod...\",\"Video: 59507435\\u003cbr\\u003eText: So I'm now going to talk about five important hyperparameters for the training process.\\nAnd some of ...\",\"Video: 59509185\\u003cbr\\u003eText: So this is where I left you looking at this satisfying chart on training loss and seeing the trainin...\",\"Video: 59473159\\u003cbr\\u003eText: Welcome to Jupyter Lab and welcome to our experiments at the frontier.\\nSo we are going to put our fr...\",\"Video: 60619447\\u003cbr\\u003eText: I want to take a moment to talk about something that's very fundamental to an LLM, which is the numb...\",\"Video: 59166353\\u003cbr\\u003eText: Well, congratulations on leveling up yet again.\\nYou've got some real hard skills that you've added t...\",\"Video: 60619123\\u003cbr\\u003eText: So what we're now going to do is we're going to look at some models in practice and start to compare...\",\"Video: 59295363\\u003cbr\\u003eText: Well, another congratulations moment.\\nYou have 40% on the way to being an LM engineer at a high leve...\",\"Video: 60619289\\u003cbr\\u003eText: And now we'll go a bit faster through the other models.\\nWe'll start with Google's Gemini.\\nI have the...\",\"Video: 59472873\\u003cbr\\u003eText: So it's quite an adventure that we had at the frontier of what's capable with Llms today, solving a\\n...\",\"Video: 60619429\\u003cbr\\u003eText: Let me talk about some other phenomena that have happened over the last few years.\\nOne of them has b...\",\"Video: 59295601\\u003cbr\\u003eText: So it's time to continue our journey into the world of open source and understand which models we sh...\",\"Video: 59170025\\u003cbr\\u003eText: And a massive welcome back one more time to LM engineering.\\nWe are in week three, day two and we are...\",\"Video: 59166443\\u003cbr\\u003eText: And welcome back everybody.\\nWelcome to week two day three.\\nIt's a continuation of our enjoyment of r...\",\"Video: 60620025\\u003cbr\\u003eText: And welcome back to Jupyter Lab, one of my very favorite places to be.\\nWhen Jupyter Lab sprung up on...\",\"Video: 59170055\\u003cbr\\u003eText: Welcome to the world of Google Colab.\\nYou may already be very familiar with Google Colab, even if so...\"],\"x\":[1.7087736,-23.05743,-28.06106,53.49951,-25.6022,-38.486794,19.744888,40.88814,16.016825,-7.811325,-42.27272,12.64262,-0.9483807,6.6331143,30.734392,-11.433903,4.802981,-38.28026,-65.32751,-70.74078,17.332169,-52.152122,-59.27239,33.891144,31.012686,-3.4545732,-64.21017,7.6461124,20.45596,17.49392,58.194645,23.335354,-1.4417802,-31.790943,16.829693,9.377639,-35.48943,21.703556,-32.651184,34.197903,8.165246,-16.031826,-15.671898,24.559917,12.978084,-2.6771584,-40.945656,36.925316,25.997892,-6.9610124,-10.469476,-64.6909,1.2878436,11.471338,-9.606986,-36.224865,52.36488,18.624384,-75.35086,7.6970425,-28.021814,4.318845,21.450777,6.252253,8.603412,-42.26961,-4.845308,18.71574,26.781273,-0.79253143,-14.978188,18.245869,-12.82021,-46.9319,-74.53214,65.01824,-55.562347,-16.433084,-34.34535,37.855953,23.34828,58.13494,-62.33339,23.672892,3.081372,54.94866,26.811195,-17.7189,8.902483,43.160995,-9.250307,-15.630141,17.22394,-55.25729,-83.02552,30.956335,9.167712,44.13426,-11.525453,17.694338,-5.0039816,9.241007,-22.265665,1.0213552,-1.9952722,31.26171,-44.436382,8.186024,-38.107677,20.091564,-47.018497,3.9196463,-46.056137,29.834492,51.38648,9.7722,-39.721962,-11.258467,38.1706,25.899416,-22.391533,64.70646,8.984558,-8.005773,-22.550919,29.339518,38.68547,-58.67559,-38.17486,-21.293037,-59.715446,-32.520184,-55.803455,-9.595691,4.706987,1.6881931,-37.37762,26.374004,76.44756,1.4116235,-8.510549,-13.362774,-50.184566,-10.902527,-4.4753523,-6.0763307,-7.691084,0.769521,23.278786,37.985294,11.939553,39.230835,59.653934,43.122715,-8.87973,4.4371753,-48.39784,-10.907453,-26.853792,35.47057,6.833131,59.59064,19.819576,38.58615,-16.264578,-53.5018,10.727256,42.230526,17.628677,-24.103918,52.2294,-77.18268,3.6058846,19.204115,-4.63787,-4.450328,-2.8182654,-46.7583,17.780125,57.05202,-20.470179,-23.03723,-15.013553,-61.297047,53.65074,-63.843815,36.721672,1.2968292,-1.146437,30.53313,47.650024,-35.42971,13.790592,-29.44714,-7.0857954,-31.83992,4.395385,-71.52093,-38.636032,-10.17397,13.551749,26.199244,32.304344,37.940987,-19.058989,35.280716,28.176294,63.618996,50.98304,70.33112,-23.338556,55.944035,21.928713,-24.126383,20.637466,-27.234331,-34.206],\"y\":[-4.252548,-43.394333,-15.430764,3.913298,4.4845552,-33.13936,-22.152138,26.412823,30.148039,59.570904,48.391426,-12.528983,-30.37183,60.731644,27.484875,14.465288,-69.40243,0.97867054,-5.723522,2.7253983,7.151598,-40.23502,-24.437897,44.777378,2.2172062,-15.407989,-9.227094,-35.85389,19.15898,37.333565,-32.59874,12.68407,-73.58059,-6.1550703,54.37412,-45.11716,24.515192,-40.404133,7.894027,40.451534,-45.810196,32.84157,-29.400854,-36.06799,-26.307,-34.34112,16.958231,-4.426608,-51.174706,-10.152972,-61.325924,-40.93275,1.7414787,25.57757,-6.57861,23.91178,-12.384486,-16.934166,-12.787716,46.80957,-40.928993,-23.344496,57.658195,-52.681698,-29.147705,-26.069113,-37.631737,6.913289,1.0152185,-22.000841,40.077843,68.951485,-34.20306,-10.534028,-17.659843,-15.2762165,-31.812723,41.836502,44.55901,42.523884,21.308317,-16.114529,-24.19872,-28.394356,72.398735,-11.762284,39.155792,62.174786,0.33776075,-9.822582,7.8490186,38.088703,3.910647,-21.867012,-9.80895,34.229267,6.49524,-20.215645,-23.823503,13.815909,-10.719444,29.71537,27.11394,8.893772,-42.861084,11.520209,31.976051,-61.493744,-10.253941,20.047174,7.7775283,16.061588,-27.2339,9.338753,-28.769846,4.966599,66.91598,-58.99846,28.998318,35.759415,-14.775799,15.561535,23.844439,13.185903,50.08121,-53.279182,52.965717,-9.916494,30.322853,38.71735,-20.32845,33.65194,-45.906616,37.194542,-58.197693,68.45129,19.058973,30.657938,-11.88528,-3.2491598,67.76955,-1.6988521,19.30631,52.74911,-24.831163,-32.65019,-10.958649,0.82742673,-21.389397,14.101158,2.1391983,6.576113,-32.843567,60.250656,-43.65164,-10.533554,-25.26452,50.190014,-22.556831,-1.8844366,17.620245,25.576294,53.109592,-41.58676,8.641028,-33.405598,39.503387,-40.254204,-46.44093,13.338996,9.385,-31.900993,-10.131737,-5.4291334,9.878982,-47.344704,9.33157,51.674915,-31.377905,-4.2005377,-12.071655,-3.6661708,37.244083,3.2858796,-25.261751,-48.280323,11.631785,32.637978,45.047813,-23.116121,-6.183171,-23.86113,0.017425848,8.19719,22.400421,-40.894783,29.179394,-18.357765,43.00136,-4.4837027,41.68122,-36.107216,21.893982,34.812412,-32.88127,-17.11192,-10.238356,-1.9124643,21.319334,-2.981173,-1.3924571,-41.355488,-4.402796,45.275204,-19.099257,-28.038015,63.64564],\"z\":[-80.01053,6.952257,39.770596,16.702005,5.445383,-15.32626,-0.5249115,29.32656,36.423714,-14.892507,-8.28791,23.206917,57.858578,-50.514557,64.206955,18.315903,-0.5376158,-15.617648,-0.26207563,-29.67441,-71.75039,8.197639,-14.2429905,43.300938,38.940685,68.43502,-23.888317,48.1142,49.111935,-61.746227,50.52906,32.868515,-13.877641,7.967563,-50.249985,-49.565216,-2.7943447,-46.210426,-54.42825,-20.080788,15.767397,-16.436441,-31.49947,27.740046,31.81843,-10.746491,68.19509,-17.48625,-12.825234,-71.884796,-16.59812,12.649029,70.53656,19.578947,-38.99613,53.66051,-4.5801187,-19.734165,-33.125164,-28.618763,23.614397,77.43594,-32.899113,46.40308,8.167681,-2.8620894,74.148186,-26.347952,-74.90554,-77.46363,-28.790958,20.622337,64.1211,9.823497,-7.1779866,10.737146,-29.82501,-67.2842,-18.324295,4.6903768,-0.48786125,44.55313,-0.092902616,13.796377,27.559351,-36.15748,-36.40333,-38.448048,-5.13925,-45.601143,-32.268417,10.468017,16.537827,40.53047,-1.0723572,52.555515,53.437595,12.123496,38.82272,-48.952595,12.853546,-30.875723,1.1754398,18.969849,28.55506,22.07326,57.09251,-26.802582,-10.858276,-13.749718,36.731487,0.24828485,-43.257736,-55.938084,39.296425,-53.445366,-17.457575,-2.9673405,0.0901862,-49.77096,-25.705078,-13.610352,67.12242,35.858795,9.70463,20.889431,-43.310135,-42.36413,-33.766987,-57.633263,-35.28791,64.09733,-30.020395,-4.3398356,-11.234243,-16.331018,22.371712,17.535992,25.282942,-62.60095,0.4806009,70.375824,20.449402,-2.0014663,-32.865536,23.095472,27.847054,-30.648935,-56.0284,-7.3562527,41.76956,-24.99873,31.66762,-29.629705,-15.31758,-9.096767,26.896555,44.854942,7.493553,4.068373,34.71581,-46.640224,-8.490605,-48.098576,50.40989,35.75695,-43.580498,43.48538,43.563065,-47.500908,-17.975456,-4.8319664,43.81085,-46.34204,-4.954837,-51.740547,-68.37514,29.03883,56.43028,-23.674625,-9.0214,20.377613,37.052822,35.568115,-8.854601,-12.067132,49.907764,36.929363,16.495632,-27.568445,7.129844,-50.75493,69.71066,32.083324,56.811436,-21.762302,54.430317,8.924631,33.06066,-21.813917,-3.1104941,-21.70847,-63.661057,-45.242672,-2.3619707,-58.077934,52.1452,-1.9540714,-23.772692,14.296897,-31.250578,-1.1164938,-8.393525,-8.107033,41.62983,34.141304,-26.842785],\"type\":\"scatter3d\"}],                        {\"template\":{\"data\":{\"histogram2dcontour\":[{\"type\":\"histogram2dcontour\",\"colorbar\":{\"outlinewidth\":0,\"ticks\":\"\"},\"colorscale\":[[0.0,\"#0d0887\"],[0.1111111111111111,\"#46039f\"],[0.2222222222222222,\"#7201a8\"],[0.3333333333333333,\"#9c179e\"],[0.4444444444444444,\"#bd3786\"],[0.5555555555555556,\"#d8576b\"],[0.6666666666666666,\"#ed7953\"],[0.7777777777777778,\"#fb9f3a\"],[0.8888888888888888,\"#fdca26\"],[1.0,\"#f0f921\"]]}],\"choropleth\":[{\"type\":\"choropleth\",\"colorbar\":{\"outlinewidth\":0,\"ticks\":\"\"}}],\"histogram2d\":[{\"type\":\"histogram2d\",\"colorbar\":{\"outlinewidth\":0,\"ticks\":\"\"},\"colorscale\":[[0.0,\"#0d0887\"],[0.1111111111111111,\"#46039f\"],[0.2222222222222222,\"#7201a8\"],[0.3333333333333333,\"#9c179e\"],[0.4444444444444444,\"#bd3786\"],[0.5555555555555556,\"#d8576b\"],[0.6666666666666666,\"#ed7953\"],[0.7777777777777778,\"#fb9f3a\"],[0.8888888888888888,\"#fdca26\"],[1.0,\"#f0f921\"]]}],\"heatmap\":[{\"type\":\"heatmap\",\"colorbar\":{\"outlinewidth\":0,\"ticks\":\"\"},\"colorscale\":[[0.0,\"#0d0887\"],[0.1111111111111111,\"#46039f\"],[0.2222222222222222,\"#7201a8\"],[0.3333333333333333,\"#9c179e\"],[0.4444444444444444,\"#bd3786\"],[0.5555555555555556,\"#d8576b\"],[0.6666666666666666,\"#ed7953\"],[0.7777777777777778,\"#fb9f3a\"],[0.8888888888888888,\"#fdca26\"],[1.0,\"#f0f921\"]]}],\"heatmapgl\":[{\"type\":\"heatmapgl\",\"colorbar\":{\"outlinewidth\":0,\"ticks\":\"\"},\"colorscale\":[[0.0,\"#0d0887\"],[0.1111111111111111,\"#46039f\"],[0.2222222222222222,\"#7201a8\"],[0.3333333333333333,\"#9c179e\"],[0.4444444444444444,\"#bd3786\"],[0.5555555555555556,\"#d8576b\"],[0.6666666666666666,\"#ed7953\"],[0.7777777777777778,\"#fb9f3a\"],[0.8888888888888888,\"#fdca26\"],[1.0,\"#f0f921\"]]}],\"contourcarpet\":[{\"type\":\"contourcarpet\",\"colorbar\":{\"outlinewidth\":0,\"ticks\":\"\"}}],\"contour\":[{\"type\":\"contour\",\"colorbar\":{\"outlinewidth\":0,\"ticks\":\"\"},\"colorscale\":[[0.0,\"#0d0887\"],[0.1111111111111111,\"#46039f\"],[0.2222222222222222,\"#7201a8\"],[0.3333333333333333,\"#9c179e\"],[0.4444444444444444,\"#bd3786\"],[0.5555555555555556,\"#d8576b\"],[0.6666666666666666,\"#ed7953\"],[0.7777777777777778,\"#fb9f3a\"],[0.8888888888888888,\"#fdca26\"],[1.0,\"#f0f921\"]]}],\"surface\":[{\"type\":\"surface\",\"colorbar\":{\"outlinewidth\":0,\"ticks\":\"\"},\"colorscale\":[[0.0,\"#0d0887\"],[0.1111111111111111,\"#46039f\"],[0.2222222222222222,\"#7201a8\"],[0.3333333333333333,\"#9c179e\"],[0.4444444444444444,\"#bd3786\"],[0.5555555555555556,\"#d8576b\"],[0.6666666666666666,\"#ed7953\"],[0.7777777777777778,\"#fb9f3a\"],[0.8888888888888888,\"#fdca26\"],[1.0,\"#f0f921\"]]}],\"mesh3d\":[{\"type\":\"mesh3d\",\"colorbar\":{\"outlinewidth\":0,\"ticks\":\"\"}}],\"scatter\":[{\"fillpattern\":{\"fillmode\":\"overlay\",\"size\":10,\"solidity\":0.2},\"type\":\"scatter\"}],\"parcoords\":[{\"type\":\"parcoords\",\"line\":{\"colorbar\":{\"outlinewidth\":0,\"ticks\":\"\"}}}],\"scatterpolargl\":[{\"type\":\"scatterpolargl\",\"marker\":{\"colorbar\":{\"outlinewidth\":0,\"ticks\":\"\"}}}],\"bar\":[{\"error_x\":{\"color\":\"#2a3f5f\"},\"error_y\":{\"color\":\"#2a3f5f\"},\"marker\":{\"line\":{\"color\":\"#E5ECF6\",\"width\":0.5},\"pattern\":{\"fillmode\":\"overlay\",\"size\":10,\"solidity\":0.2}},\"type\":\"bar\"}],\"scattergeo\":[{\"type\":\"scattergeo\",\"marker\":{\"colorbar\":{\"outlinewidth\":0,\"ticks\":\"\"}}}],\"scatterpolar\":[{\"type\":\"scatterpolar\",\"marker\":{\"colorbar\":{\"outlinewidth\":0,\"ticks\":\"\"}}}],\"histogram\":[{\"marker\":{\"pattern\":{\"fillmode\":\"overlay\",\"size\":10,\"solidity\":0.2}},\"type\":\"histogram\"}],\"scattergl\":[{\"type\":\"scattergl\",\"marker\":{\"colorbar\":{\"outlinewidth\":0,\"ticks\":\"\"}}}],\"scatter3d\":[{\"type\":\"scatter3d\",\"line\":{\"colorbar\":{\"outlinewidth\":0,\"ticks\":\"\"}},\"marker\":{\"colorbar\":{\"outlinewidth\":0,\"ticks\":\"\"}}}],\"scattermapbox\":[{\"type\":\"scattermapbox\",\"marker\":{\"colorbar\":{\"outlinewidth\":0,\"ticks\":\"\"}}}],\"scatterternary\":[{\"type\":\"scatterternary\",\"marker\":{\"colorbar\":{\"outlinewidth\":0,\"ticks\":\"\"}}}],\"scattercarpet\":[{\"type\":\"scattercarpet\",\"marker\":{\"colorbar\":{\"outlinewidth\":0,\"ticks\":\"\"}}}],\"carpet\":[{\"aaxis\":{\"endlinecolor\":\"#2a3f5f\",\"gridcolor\":\"white\",\"linecolor\":\"white\",\"minorgridcolor\":\"white\",\"startlinecolor\":\"#2a3f5f\"},\"baxis\":{\"endlinecolor\":\"#2a3f5f\",\"gridcolor\":\"white\",\"linecolor\":\"white\",\"minorgridcolor\":\"white\",\"startlinecolor\":\"#2a3f5f\"},\"type\":\"carpet\"}],\"table\":[{\"cells\":{\"fill\":{\"color\":\"#EBF0F8\"},\"line\":{\"color\":\"white\"}},\"header\":{\"fill\":{\"color\":\"#C8D4E3\"},\"line\":{\"color\":\"white\"}},\"type\":\"table\"}],\"barpolar\":[{\"marker\":{\"line\":{\"color\":\"#E5ECF6\",\"width\":0.5},\"pattern\":{\"fillmode\":\"overlay\",\"size\":10,\"solidity\":0.2}},\"type\":\"barpolar\"}],\"pie\":[{\"automargin\":true,\"type\":\"pie\"}]},\"layout\":{\"autotypenumbers\":\"strict\",\"colorway\":[\"#636efa\",\"#EF553B\",\"#00cc96\",\"#ab63fa\",\"#FFA15A\",\"#19d3f3\",\"#FF6692\",\"#B6E880\",\"#FF97FF\",\"#FECB52\"],\"font\":{\"color\":\"#2a3f5f\"},\"hovermode\":\"closest\",\"hoverlabel\":{\"align\":\"left\"},\"paper_bgcolor\":\"white\",\"plot_bgcolor\":\"#E5ECF6\",\"polar\":{\"bgcolor\":\"#E5ECF6\",\"angularaxis\":{\"gridcolor\":\"white\",\"linecolor\":\"white\",\"ticks\":\"\"},\"radialaxis\":{\"gridcolor\":\"white\",\"linecolor\":\"white\",\"ticks\":\"\"}},\"ternary\":{\"bgcolor\":\"#E5ECF6\",\"aaxis\":{\"gridcolor\":\"white\",\"linecolor\":\"white\",\"ticks\":\"\"},\"baxis\":{\"gridcolor\":\"white\",\"linecolor\":\"white\",\"ticks\":\"\"},\"caxis\":{\"gridcolor\":\"white\",\"linecolor\":\"white\",\"ticks\":\"\"}},\"coloraxis\":{\"colorbar\":{\"outlinewidth\":0,\"ticks\":\"\"}},\"colorscale\":{\"sequential\":[[0.0,\"#0d0887\"],[0.1111111111111111,\"#46039f\"],[0.2222222222222222,\"#7201a8\"],[0.3333333333333333,\"#9c179e\"],[0.4444444444444444,\"#bd3786\"],[0.5555555555555556,\"#d8576b\"],[0.6666666666666666,\"#ed7953\"],[0.7777777777777778,\"#fb9f3a\"],[0.8888888888888888,\"#fdca26\"],[1.0,\"#f0f921\"]],\"sequentialminus\":[[0.0,\"#0d0887\"],[0.1111111111111111,\"#46039f\"],[0.2222222222222222,\"#7201a8\"],[0.3333333333333333,\"#9c179e\"],[0.4444444444444444,\"#bd3786\"],[0.5555555555555556,\"#d8576b\"],[0.6666666666666666,\"#ed7953\"],[0.7777777777777778,\"#fb9f3a\"],[0.8888888888888888,\"#fdca26\"],[1.0,\"#f0f921\"]],\"diverging\":[[0,\"#8e0152\"],[0.1,\"#c51b7d\"],[0.2,\"#de77ae\"],[0.3,\"#f1b6da\"],[0.4,\"#fde0ef\"],[0.5,\"#f7f7f7\"],[0.6,\"#e6f5d0\"],[0.7,\"#b8e186\"],[0.8,\"#7fbc41\"],[0.9,\"#4d9221\"],[1,\"#276419\"]]},\"xaxis\":{\"gridcolor\":\"white\",\"linecolor\":\"white\",\"ticks\":\"\",\"title\":{\"standoff\":15},\"zerolinecolor\":\"white\",\"automargin\":true,\"zerolinewidth\":2},\"yaxis\":{\"gridcolor\":\"white\",\"linecolor\":\"white\",\"ticks\":\"\",\"title\":{\"standoff\":15},\"zerolinecolor\":\"white\",\"automargin\":true,\"zerolinewidth\":2},\"scene\":{\"xaxis\":{\"backgroundcolor\":\"#E5ECF6\",\"gridcolor\":\"white\",\"linecolor\":\"white\",\"showbackground\":true,\"ticks\":\"\",\"zerolinecolor\":\"white\",\"gridwidth\":2},\"yaxis\":{\"backgroundcolor\":\"#E5ECF6\",\"gridcolor\":\"white\",\"linecolor\":\"white\",\"showbackground\":true,\"ticks\":\"\",\"zerolinecolor\":\"white\",\"gridwidth\":2},\"zaxis\":{\"backgroundcolor\":\"#E5ECF6\",\"gridcolor\":\"white\",\"linecolor\":\"white\",\"showbackground\":true,\"ticks\":\"\",\"zerolinecolor\":\"white\",\"gridwidth\":2}},\"shapedefaults\":{\"line\":{\"color\":\"#2a3f5f\"}},\"annotationdefaults\":{\"arrowcolor\":\"#2a3f5f\",\"arrowhead\":0,\"arrowwidth\":1},\"geo\":{\"bgcolor\":\"white\",\"landcolor\":\"#E5ECF6\",\"subunitcolor\":\"white\",\"showland\":true,\"showlakes\":true,\"lakecolor\":\"white\"},\"title\":{\"x\":0.05},\"mapbox\":{\"style\":\"light\"}}},\"margin\":{\"r\":20,\"b\":10,\"l\":10,\"t\":40},\"title\":{\"text\":\"3D Chroma Vector Store Visualization\"},\"scene\":{\"xaxis\":{\"title\":{\"text\":\"x\"}},\"yaxis\":{\"title\":{\"text\":\"y\"}},\"zaxis\":{\"title\":{\"text\":\"z\"}}},\"width\":900,\"height\":700},                        {\"responsive\": true}                    ).then(function(){\n",
       "                            \n",
       "var gd = document.getElementById('4b1616ca-306c-4be2-80b1-9433324cfbaf');\n",
       "var x = new MutationObserver(function (mutations, observer) {{\n",
       "        var display = window.getComputedStyle(gd).display;\n",
       "        if (!display || display === 'none') {{\n",
       "            console.log([gd, 'removed!']);\n",
       "            Plotly.purge(gd);\n",
       "            observer.disconnect();\n",
       "        }}\n",
       "}});\n",
       "\n",
       "// Listen for the removal of the full notebook cells\n",
       "var notebookContainer = gd.closest('#notebook-container');\n",
       "if (notebookContainer) {{\n",
       "    x.observe(notebookContainer, {childList: true});\n",
       "}}\n",
       "\n",
       "// Listen for the clearing of the current output cell\n",
       "var outputEl = gd.closest('.output');\n",
       "if (outputEl) {{\n",
       "    x.observe(outputEl, {childList: true});\n",
       "}}\n",
       "\n",
       "                        })                };                });            </script>        </div>"
      ]
     },
     "metadata": {},
     "output_type": "display_data"
    }
   ],
   "source": [
    "# Let's try 3D!\n",
    "\n",
    "tsne = TSNE(n_components=3, random_state=42)\n",
    "reduced_vectors = tsne.fit_transform(vectors)\n",
    "\n",
    "# Create the 3D scatter plot\n",
    "fig = go.Figure(data=[go.Scatter3d(\n",
    "    x=reduced_vectors[:, 0],\n",
    "    y=reduced_vectors[:, 1],\n",
    "    z=reduced_vectors[:, 2],\n",
    "    mode='markers',\n",
    "    marker=dict(size=5, color=colors, opacity=0.8),\n",
    "    text=[f\"Video: {t}<br>Text: {d[:100]}...\" for t, d in zip(video_numbers, documents)],\n",
    "    hoverinfo='text'\n",
    ")])\n",
    "\n",
    "fig.update_layout(\n",
    "    title='3D Chroma Vector Store Visualization',\n",
    "    scene=dict(xaxis_title='x', yaxis_title='y', zaxis_title='z'),\n",
    "    width=900,\n",
    "    height=700,\n",
    "    margin=dict(r=20, b=10, l=10, t=40)\n",
    ")\n",
    "\n",
    "fig.show()"
   ]
  },
  {
   "cell_type": "code",
   "execution_count": null,
   "id": "9b3ada26-b4b7-42fc-b943-933c14adf89b",
   "metadata": {},
   "outputs": [],
   "source": []
  },
  {
   "cell_type": "code",
   "execution_count": null,
   "id": "1440654f-590f-4781-bd1c-abfc6ca6edf1",
   "metadata": {},
   "outputs": [],
   "source": []
  }
 ],
 "metadata": {
  "kernelspec": {
   "display_name": "Python 3 (ipykernel)",
   "language": "python",
   "name": "python3"
  },
  "language_info": {
   "codemirror_mode": {
    "name": "ipython",
    "version": 3
   },
   "file_extension": ".py",
   "mimetype": "text/x-python",
   "name": "python",
   "nbconvert_exporter": "python",
   "pygments_lexer": "ipython3",
   "version": "3.11.11"
  }
 },
 "nbformat": 4,
 "nbformat_minor": 5
}
