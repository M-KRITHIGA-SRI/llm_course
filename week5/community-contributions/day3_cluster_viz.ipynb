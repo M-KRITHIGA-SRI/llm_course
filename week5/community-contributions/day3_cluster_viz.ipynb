{
 "cells": [
  {
   "cell_type": "markdown",
   "id": "dfe37963-1af6-44fc-a841-8e462443f5e6",
   "metadata": {},
   "source": [
    "## Expert Knowledge Worker\n",
    "\n",
    "### A question answering agent that is an expert knowledge worker\n",
    "### To be used by employees of Insurellm, an Insurance Tech company\n",
    "### The agent needs to be accurate and the solution should be low cost.\n",
    "\n",
    "This project will use RAG (Retrieval Augmented Generation) to ensure our question/answering assistant has high accuracy."
   ]
  },
  {
   "cell_type": "code",
   "execution_count": 20,
   "id": "ba2779af-84ef-4227-9e9e-6eaf0df87e77",
   "metadata": {},
   "outputs": [],
   "source": [
    "# imports\n",
    "\n",
    "import os\n",
    "import glob\n",
    "from dotenv import load_dotenv\n",
    "import gradio as gr\n",
    "from langchain_community.document_loaders import DirectoryLoader, TextLoader\n",
    "from langchain.text_splitter import CharacterTextSplitter\n",
    "from langchain_openai import OpenAIEmbeddings\n",
    "from langchain_community.vectorstores import Chroma\n",
    "from sklearn.manifold import TSNE\n",
    "from sklearn.cluster import KMeans\n",
    "import numpy as np\n",
    "import plotly.graph_objects as go\n"
   ]
  },
  {
   "cell_type": "code",
   "execution_count": 2,
   "id": "58c85082-e417-4708-9efe-81a5d55d1424",
   "metadata": {},
   "outputs": [],
   "source": [
    "# price is a factor for our company, so we're going to use a low cost model\n",
    "\n",
    "MODEL = \"gpt-4o-mini\"\n",
    "db_name = \"vector_db\""
   ]
  },
  {
   "cell_type": "code",
   "execution_count": 3,
   "id": "ee78efcb-60fe-449e-a944-40bab26261af",
   "metadata": {},
   "outputs": [],
   "source": [
    "# Load environment variables in a file called .env\n",
    "\n",
    "load_dotenv(override=True)\n",
    "os.environ['OPENAI_API_KEY'] = os.getenv('OPENAI_API_KEY', 'your-key-if-not-using-env')"
   ]
  },
  {
   "cell_type": "code",
   "execution_count": 8,
   "id": "730711a9-6ffe-4eee-8f48-d6cfb7314905",
   "metadata": {},
   "outputs": [],
   "source": [
    "# Read in documents using LangChain's loaders\n",
    "# Take everything in all the sub-folders of our knowledgebase\n",
    "\n",
    "folders = glob.glob(\"../knowledge-base/*\")\n",
    "\n",
    "# With thanks to CG and Jon R, students on the course, for this fix needed for some users \n",
    "text_loader_kwargs = {'encoding': 'utf-8'}\n",
    "# If that doesn't work, some Windows users might need to uncomment the next line instead\n",
    "# text_loader_kwargs={'autodetect_encoding': True}\n",
    "\n",
    "documents = []\n",
    "for folder in folders:\n",
    "    doc_type = os.path.basename(folder)\n",
    "    loader = DirectoryLoader(folder, glob=\"**/*.md\", loader_cls=TextLoader, loader_kwargs=text_loader_kwargs)\n",
    "    folder_docs = loader.load()\n",
    "    for doc in folder_docs:\n",
    "        doc.metadata[\"doc_type\"] = doc_type\n",
    "        documents.append(doc)"
   ]
  },
  {
   "cell_type": "markdown",
   "id": "f065d4b1-80b7-4e15-abd4-60a83e752ea8",
   "metadata": {},
   "source": [
    "# Please note:\n",
    "\n",
    "In the next cell, we split the text into chunks.\n",
    "\n",
    "2 students let me know that the next cell crashed their computer.  \n",
    "They were able to fix it by changing the chunk_size from 1,000 to 2,000 and the chunk_overlap from 200 to 400.  \n",
    "This shouldn't be required; but if it happens to you, please make that change!  \n",
    "(Note that LangChain may give a warning about a chunk being larger than 1,000 - this can be safely ignored).\n",
    "\n",
    "_With much thanks to Steven W and Nir P for this valuable contribution._"
   ]
  },
  {
   "cell_type": "code",
   "execution_count": 9,
   "id": "7310c9c8-03c1-4efc-a104-5e89aec6db1a",
   "metadata": {},
   "outputs": [
    {
     "name": "stderr",
     "output_type": "stream",
     "text": [
      "Created a chunk of size 1088, which is longer than the specified 1000\n"
     ]
    }
   ],
   "source": [
    "text_splitter = CharacterTextSplitter(chunk_size=1000, chunk_overlap=200)\n",
    "chunks = text_splitter.split_documents(documents)"
   ]
  },
  {
   "cell_type": "code",
   "execution_count": 10,
   "id": "153522db",
   "metadata": {},
   "outputs": [
    {
     "data": {
      "text/plain": [
       "[Document(metadata={'source': '../knowledge-base/products/Rellm.md', 'doc_type': 'products'}, page_content='# Product Summary\\n\\n# Rellm: AI-Powered Enterprise Reinsurance Solution\\n\\n## Summary\\n\\nRellm is an innovative enterprise reinsurance product developed by Insurellm, designed to transform the way reinsurance companies operate. Harnessing the power of artificial intelligence, Rellm offers an advanced platform that redefines risk management, enhances decision-making processes, and optimizes operational efficiencies within the reinsurance industry. With seamless integrations and robust analytics, Rellm enables insurers to proactively manage their portfolios and respond to market dynamics with agility.\\n\\n## Features\\n\\n### AI-Driven Analytics\\nRellm utilizes cutting-edge AI algorithms to provide predictive insights into risk exposures, enabling users to forecast trends and make informed decisions. Its real-time data analysis empowers reinsurance professionals with actionable intelligence.'),\n",
       " Document(metadata={'source': '../knowledge-base/products/Rellm.md', 'doc_type': 'products'}, page_content=\"### Seamless Integrations\\nRellm's architecture is designed for effortless integration with existing systems. Whether it's policy management, claims processing, or financial reporting, Rellm connects seamlessly with diverse data sources to create a unified ecosystem.\\n\\n### Risk Assessment Module\\nThe comprehensive risk assessment module within Rellm allows insurers to evaluate risk profiles accurately. By leveraging historical data and advanced modeling techniques, Rellm provides a clear picture of potential liabilities and expected outcomes.\\n\\n### Customizable Dashboard\\nRellm features a customizable dashboard that presents key metrics and performance indicators in an intuitive interface. Users can tailor their view to focus on what matters most to their business, enhancing user experience and productivity.\"),\n",
       " Document(metadata={'source': '../knowledge-base/products/Rellm.md', 'doc_type': 'products'}, page_content='### Regulatory Compliance Tools\\nRellm includes built-in compliance tracking features to help organizations meet local and international regulatory standards. This ensures that reinsurance practices remain transparent and accountable.\\n\\n### Client and Broker Portals\\nRellm offers dedicated portals for both clients and brokers, facilitating real-time communication and documentation sharing. This strengthens partnerships and drives operational excellence across the board.\\n\\n## Pricing\\n\\nInsurellm offers flexible pricing plans for Rellm to cater to various business needs:\\n\\n- **Basic Plan**: $5,000/month\\n  - Includes access to core features and standard integrations.\\n  \\n- **Professional Plan**: $10,000/month\\n  - Includes all features, advanced integrations, and priority customer support.\\n  \\n- **Enterprise Plan**: Custom pricing\\n  - Tailored solutions with personalized features, extensive integrations, and dedicated account management.'),\n",
       " Document(metadata={'source': '../knowledge-base/products/Rellm.md', 'doc_type': 'products'}, page_content='Join the growing number of organizations leveraging Rellm to enhance their reinsurance processes while driving profitability and compliance. \\n\\n## 2025-2026 Roadmap\\n\\nAt Insurellm, we are committed to the continuous improvement of Rellm. Our roadmap for 2025-2026 includes:\\n\\n- **Q3 2025**: \\n  - Launch of the Rellm Mobile App for on-the-go insights and management.\\n  - Introduction of augmented reality (AR) features for interactive risk assessments.\\n\\n- **Q1 2026**: \\n  - Deployment of advanced machine learning models for even more accurate risk predictions.\\n  - Expansion of integration capabilities to support emerging technologies in the insurance sector.\\n\\n- **Q3 2026**: \\n  - Release of a community platform for Rellm users to exchange insights, tips, and best practices.\\n  - Launch of Rellm 2.0, featuring enhanced user interface and premium features based on user feedback.'),\n",
       " Document(metadata={'source': '../knowledge-base/products/Rellm.md', 'doc_type': 'products'}, page_content='Experience the future of reinsurance with Rellm, where innovation meets reliability. Let Insurellm help you navigate the complexities of the reinsurance market smarter and faster.'),\n",
       " Document(metadata={'source': '../knowledge-base/products/Markellm.md', 'doc_type': 'products'}, page_content=\"# Product Summary\\n\\n# Markellm\\n\\n## Summary\\n\\nMarkellm is an innovative two-sided marketplace designed to seamlessly connect consumers with insurance companies. Powered by advanced matching AI, Markellm transforms the insurance shopping experience, making it more efficient, personalized, and accessible. Whether you're a homeowner searching for the best rates on home insurance or an insurer looking to reach new customers, Markellm acts as the ultimate bridge, delivering tailored solutions for all parties involved. With a user-friendly interface and powerful algorithms, Markellm not only saves time but also enhances decision-making in the often-complex insurance landscape.\\n\\n## Features\\n\\n- **AI-Powered Matching**: Markellm utilizes sophisticated AI algorithms to match consumers with the most suitable insurance products based on their individual needs and preferences. This ensures that both parties get the best possible options.\"),\n",
       " Document(metadata={'source': '../knowledge-base/products/Markellm.md', 'doc_type': 'products'}, page_content='- **User-Friendly Interface**: Designed with user experience in mind, Markellm features an intuitive interface that allows consumers to easily browse and compare various insurance offerings from multiple providers.\\n\\n- **Real-Time Quotes**: Consumers can receive real-time quotes from different insurance companies, empowering them to make informed decisions quickly without endless back-and-forth communication.\\n\\n- **Customized Recommendations**: Based on user profiles and preferences, Markellm provides personalized insurance recommendations, ensuring consumers find the right coverage at competitive rates.\\n\\n- **Secure Transactions**: Markellm prioritizes security, employing robust encryption methods to ensure that all transactions and data exchanges are safe and secure.\\n\\n- **Customer Support**: Our dedicated support team is always available to assist both consumers and insurers throughout the process, providing guidance and answering any questions that may arise.'),\n",
       " Document(metadata={'source': '../knowledge-base/products/Markellm.md', 'doc_type': 'products'}, page_content=\"- **Customer Support**: Our dedicated support team is always available to assist both consumers and insurers throughout the process, providing guidance and answering any questions that may arise.\\n\\n- **Data Insights**: Insurers gain access to valuable data insights through Markellm's analytics dashboard, helping them understand market trends and consumer behavior to refine their offerings.\\n\\n## Pricing\\n\\nAt Markellm, we believe in transparency and flexibility. Our pricing structure is designed to accommodate different types of users—whether you're a consumer seeking insurance or an insurance provider seeking customers.\\n\\n### For Consumers:\\n- **Free Membership**: Access to the marketplace at no cost, allowing unlimited browsing and comparisons.\\n- **Premium Features**: Optional subscription at $9.99/month for advanced analytics on choices, priority customer support, and enhanced customization options.\"),\n",
       " Document(metadata={'source': '../knowledge-base/products/Markellm.md', 'doc_type': 'products'}, page_content='### For Insurance Companies:\\n- **Basic Listing Fee**: $199/month for a featured listing on the platform, providing exposure to thousands of potential customers.\\n- **Performance-Based Pricing**: Option for variable pricing based on successful customer acquisitions— pay $25 per lead generated through Markellm.\\n\\n## 2025-2026 Roadmap\\n\\n### Q1 2025\\n- Launch a mobile app version of Markellm, making it even easier for consumers and insurers to connect on-the-go.\\n- Introduce a referral program that rewards users for promoting Markellm to their network.\\n\\n### Q2 2025\\n- Expand the marketplace to include additional insurance products, such as life and health insurance.\\n- Partner with third-party data aggregators to enhance the accuracy of our AI matching capabilities.'),\n",
       " Document(metadata={'source': '../knowledge-base/products/Markellm.md', 'doc_type': 'products'}, page_content='### Q3 2025\\n- Initiate a comprehensive marketing campaign targeting both consumers and insurers to increase user acquisition and brand awareness.\\n- Release user testimonials and case studies showcasing successful matches made through Markellm.\\n\\n### Q4 2026\\n- Implement machine learning enhancements to our AI algorithm, further increasing the precision and personalization of matches.\\n- Explore international expansion opportunities, launching in select markets outside the US.\\n\\nMarkellm is committed to improving the insurance experience for both consumers and providers. By leveraging technology and user insights, we aim to become the leading platform in the insurance marketplace ecosystem. Join us on this exciting journey towards smarter, more efficient insurance solutions!'),\n",
       " Document(metadata={'source': '../knowledge-base/products/Homellm.md', 'doc_type': 'products'}, page_content='# Product Summary\\n\\n# Homellm\\n\\n## Summary\\nHomellm is an innovative home insurance product developed by Insurellm that leverages advanced AI technology to revolutionize the way insurance providers offer coverage to homeowners. Designed for both B2B and B2C segments, Homellm empowers insurers to provide personalized, data-driven policies, enhancing customer experience while minimizing risk and operational costs. By integrating seamlessly with existing systems, Homellm helps insurance companies streamline their processes and stay competitive in the ever-evolving insurance industry.\\n\\n## Features\\n### 1. AI-Powered Risk Assessment\\nHomellm utilizes sophisticated AI algorithms to analyze vast datasets, allowing insurance companies to assess risks accurately. This feature provides real-time insights for underwriting decisions, enabling insurers to tailor policies to individual customer needs.'),\n",
       " Document(metadata={'source': '../knowledge-base/products/Homellm.md', 'doc_type': 'products'}, page_content=\"### 2. Dynamic Pricing Model\\nWith Homellm's innovative dynamic pricing model, insurance providers can offer flexible premiums based on real-time risk evaluations and historical data. This adaptability ensures that customers pay a fair price that accurately reflects their unique risk profile.\\n\\n### 3. Instant Claim Processing\\nThe AI-driven claims management system in Homellm automates the entire claims process, reducing processing time from weeks to hours. Insurers can resolve claims quickly and efficiently, leading to enhanced customer satisfaction.\\n\\n### 4. Predictive Maintenance Alerts\\nHomellm incorporates predictive analytics to advise homeowners on potential risks and maintenance needs. By preventing issues before they arise, this feature helps customers minimize hazards, lowering the likelihood of claims.\"),\n",
       " Document(metadata={'source': '../knowledge-base/products/Homellm.md', 'doc_type': 'products'}, page_content='### 5. Multi-Channel Integration\\nHomellm seamlessly integrates into existing insurance platforms, providing a centralized hub for managing customer policies and claims. Insurance providers can easily access customer data, allowing for improved service delivery across various channels.\\n\\n### 6. Customer Portal\\nA user-friendly online portal and mobile application enables customers to manage their policies, submit claims, and view coverage details 24/7. Homellm prioritizes transparency and ease of use, helping insurers foster trust and long-term relationships with their customers.\\n\\n## Pricing\\nAt Insurellm, we believe in providing value without compromising quality. The pricing for Homellm is structured based on the size of the insurance provider and the level of customization required.'),\n",
       " Document(metadata={'source': '../knowledge-base/products/Homellm.md', 'doc_type': 'products'}, page_content='- **Basic Tier:** Starting at $5,000/month for small insurers with basic integration features.\\n- **Standard Tier:** Starting at $10,000/month for medium-sized insurers including advanced analytics and reporting tools.\\n- **Enterprise Tier:** Custom pricing for large insurance companies that require full customization, dedicated support, and additional features, such as enterprise-grade security and compliance.\\n\\nAll tiers include a comprehensive training program and ongoing updates to ensure optimal performance.\\n\\n## Roadmap\\nThe development roadmap for Homellm includes the following key milestones:'),\n",
       " Document(metadata={'source': '../knowledge-base/products/Homellm.md', 'doc_type': 'products'}, page_content='All tiers include a comprehensive training program and ongoing updates to ensure optimal performance.\\n\\n## Roadmap\\nThe development roadmap for Homellm includes the following key milestones:\\n\\n- **Q1 2024:** Launch of Homellm version 1.0, featuring core functionalities and integrations.\\n- **Q3 2024:** Introduction of enhanced analytics capabilities, including visualization tools and advanced reporting features.\\n- **Q1 2025:** Release of Homellm version 2.0, with expanded predictive maintenance alerts and automated underwriting processes.\\n- **Q3 2025:** Establish partnerships with IoT device manufacturers to provide integrated solutions for proactive risk management.\\n- **Q1 2026:** Ongoing improvements based on user feedback and industry trends, ensuring that Homellm remains at the forefront of home insurance technology.'),\n",
       " Document(metadata={'source': '../knowledge-base/products/Homellm.md', 'doc_type': 'products'}, page_content='With Homellm, Insurellm is committed to transforming the landscape of home insurance, ensuring both innovation and reliability for all insurance providers and their customers. Explore the future of home insurance today with Homellm!'),\n",
       " Document(metadata={'source': '../knowledge-base/products/Carllm.md', 'doc_type': 'products'}, page_content='# Product Summary\\n\\n# Carllm\\n\\n## Summary\\n\\nCarllm is an innovative auto insurance product developed by Insurellm, designed to streamline the way insurance companies offer coverage to their customers. Powered by cutting-edge artificial intelligence, Carllm utilizes advanced algorithms to deliver personalized auto insurance solutions, ensuring optimal coverage while minimizing costs. With a robust infrastructure that supports both B2B and B2C customers, Carllm redefines the auto insurance landscape and empowers insurance providers to enhance customer satisfaction and retention.\\n\\n## Features\\n\\n- **AI-Powered Risk Assessment**: Carllm leverages artificial intelligence to analyze driver behavior, vehicle conditions, and historical claims data. This enables insurers to make informed decisions and set competitive premiums that reflect true risk profiles.'),\n",
       " Document(metadata={'source': '../knowledge-base/products/Carllm.md', 'doc_type': 'products'}, page_content='- **Instant Quoting**: With Carllm, insurance companies can offer near-instant quotes to customers, enhancing the customer experience. The AI engine processes data in real-time, drastically reducing the time it takes to generate quotes.\\n\\n- **Customizable Coverage Plans**: Carllm allows insurers to create flexible and tailored insurance packages based on individual customer needs. This customization improves customer engagement and retention.\\n\\n- **Fraud Detection**: The product incorporates advanced analytics to identify potentially fraudulent claims, significantly reducing the risk of losses for insurance providers.\\n\\n- **Customer Insights Dashboard**: Carllm provides insurers with a powerful dashboard that offers deep insights into customer behavior, claims patterns, and market trends, enabling informed decision-making and strategic planning.'),\n",
       " Document(metadata={'source': '../knowledge-base/products/Carllm.md', 'doc_type': 'products'}, page_content='- **Mobile Integration**: Carllm is designed to work seamlessly with mobile applications, providing both insurers and end-users access to policy management and claims reporting on the go.\\n\\n- **Automated Customer Support**: Leveraging AI chatbots, Carllm offers 24/7 customer support, helping to resolve inquiries quickly and efficiently, thus improving customer satisfaction.\\n\\n## Pricing\\n\\nCarllm is offered under a subscription-based pricing model tailored to meet the needs of insurance companies of all sizes. Our pricing tiers are designed to provide maximum flexibility and value:\\n\\n- **Basic Tier**: $1,000/month\\n  - Ideal for small insurance firms.\\n  - Access to core features and standard reporting.\\n\\n- **Professional Tier**: $2,500/month\\n  - For medium-sized companies.\\n  - All Basic Tier features plus advanced analytics and fraud detection.'),\n",
       " Document(metadata={'source': '../knowledge-base/products/Carllm.md', 'doc_type': 'products'}, page_content='- **Professional Tier**: $2,500/month\\n  - For medium-sized companies.\\n  - All Basic Tier features plus advanced analytics and fraud detection.\\n\\n- **Enterprise Tier**: $5,000/month\\n  - Customized solutions for large insurance firms.\\n  - Comprehensive support, full feature access, and integration with existing systems.\\n\\nContact our sales team for a personalized quote and discover how Carllm can transform your auto insurance offerings!\\n\\n## 2025-2026 Roadmap\\n\\nIn our commitment to continuous improvement and innovation, Insurellm has outlined the following roadmap for Carllm:\\n\\n### Q1 2025: Launch Feature Enhancements\\n- **Expanded data integrations** for better risk assessment.\\n- **Enhanced fraud detection algorithms** to reduce losses.\\n\\n### Q2 2025: Customer Experience Improvements\\n- Launch of a new **mobile app** for end-users.\\n- Introduction of **telematics-based pricing** to provide even more tailored coverage options.'),\n",
       " Document(metadata={'source': '../knowledge-base/products/Carllm.md', 'doc_type': 'products'}, page_content='### Q2 2025: Customer Experience Improvements\\n- Launch of a new **mobile app** for end-users.\\n- Introduction of **telematics-based pricing** to provide even more tailored coverage options.\\n\\n### Q3 2025: Global Expansion\\n- Begin pilot programs for international insurance markets.\\n- Collaborate with local insurers to offer compliant, localized versions of Carllm.\\n\\n### Q4 2025: AI and Machine Learning Upgrades\\n- Implement next-gen machine learning models for predictive analysis.\\n- Roll out customer insights dashboard updates based on user feedback.\\n\\n### 2026: Scaling and Partnerships\\n- Increase partnerships with automakers for integrated insurance solutions.\\n- Enhance the **AI customer support system** to include multi-language support.\\n\\nCarllm is not just an auto insurance product; it is a transformative tool for the insurance industry. Join us on this exciting journey as we redefine the future of auto insurance with technology and customer-centric solutions.'),\n",
       " Document(metadata={'source': '../knowledge-base/contracts/Contract with GreenField Holdings for Markellm.md', 'doc_type': 'contracts'}, page_content='# Contract with GreenField Holdings for Markellm\\n\\n**Effective Date:** November 15, 2023  \\n**Contract Duration:** 12 months  \\n\\n## Terms\\n1. **Parties to the Agreement**: This contract is entered into between Insurellm, hereafter referred to as \"Provider,\" and GreenField Holdings, hereafter referred to as \"Client.\"\\n2. **Scope of Services**: Provider agrees to grant the Client access to the Markellm platform, enabling GreenField Holdings to connect with potential insurance customers through the AI-powered marketplace.\\n3. **Compliance**: Both parties agree to adhere to applicable laws and regulations that govern information security and consumer data protection.'),\n",
       " Document(metadata={'source': '../knowledge-base/contracts/Contract with GreenField Holdings for Markellm.md', 'doc_type': 'contracts'}, page_content='## Renewal\\n1. **Automatic Renewal**: This contract will automatically renew for sequential one-year terms unless either party provides a written notice of non-renewal at least 30 days prior to the expiration of the current term.\\n2. **Annual Review**: Upon renewal, both parties may review and negotiate the terms, including any modifications to pricing based on performance metrics outlined in Section 4.'),\n",
       " Document(metadata={'source': '../knowledge-base/contracts/Contract with GreenField Holdings for Markellm.md', 'doc_type': 'contracts'}, page_content='## Features\\n1. **AI-Powered Matching**: Access to advanced algorithms that connect GreenField Holdings with tailored insurance leads.\\n2. **Real-Time Quotes**: Ability to provide customers with instant quotes from multiple insurance providers, facilitating faster decision-making processes.\\n3. **Customized Recommendations**: Utilization of customizable consumer profiles to enhance marketing strategies and optimize customer engagement.\\n4. **Data Insights**: Access to analytics dashboards for real-time insights into market trends and consumer behavior, helping GreenField Holdings refine their product offerings.'),\n",
       " Document(metadata={'source': '../knowledge-base/contracts/Contract with GreenField Holdings for Markellm.md', 'doc_type': 'contracts'}, page_content='## Support\\n1. **Customer Support Access**: The Client will have access to dedicated support through phone and email during normal business hours to address any inquiries or technical issues.\\n2. **Training and Resources**: Provider will offer onboarding training resources to ensure GreenField Holdings can effectively utilize the Markellm platform.\\n3. **Performance Reviews**: Quarterly performance reviews will be conducted to analyze platform effectiveness, customer acquisition rates, and marketing strategies, ensuring both parties are aligned on objectives.\\n\\n## Pricing\\n- **Basic Listing Fee**: GreenField Holdings agrees to pay a monthly fee of $199 for a featured listing on the Markellm platform.\\n- **Performance-Based Pricing**: An additional fee of $25 per acquired customer lead will be charged, reflecting successful connections made through the Markellm platform.'),\n",
       " Document(metadata={'source': '../knowledge-base/contracts/Contract with GreenField Holdings for Markellm.md', 'doc_type': 'contracts'}, page_content='**Signatures:**  \\n_________________________                           _________________________  \\n**[Name], Title**                                   **[Name], Title**  \\nInsurellm                                           GreenField Holdings  \\n**Date:** ____________                             **Date:** ____________'),\n",
       " Document(metadata={'source': '../knowledge-base/contracts/Contract with Apex Reinsurance for Rellm.md', 'doc_type': 'contracts'}, page_content='# Contract with Apex Reinsurance for Rellm: AI-Powered Enterprise Reinsurance Solution\\n\\n## Terms\\n\\n1. **Parties Involved**: This contract (“Agreement”) is entered into between Insurellm, Inc. (“Provider”) and Apex Reinsurance (“Client”) on this [Date].\\n\\n2. **Scope of Services**: Provider agrees to deliver the Rellm solution, which includes AI-driven analytics, seamless integrations, risk assessment modules, customizable dashboards, regulatory compliance tools, and client and broker portals as described in the product summary.\\n\\n3. **Payment Terms**: Client shall pay the Provider the sum of $10,000 per month for the duration of this agreement. Payments are due on the first day of each month and will be processed via electronic funds transfer.\\n\\n4. **Contract Duration**: This Agreement shall commence on [Start Date] and shall remain in effect for a period of twelve (12) months unless terminated earlier in accordance with the terms set forth herein.\\n\\n## Renewal'),\n",
       " Document(metadata={'source': '../knowledge-base/contracts/Contract with Apex Reinsurance for Rellm.md', 'doc_type': 'contracts'}, page_content='## Renewal\\n\\n1. **Automatic Renewal**: This Agreement will automatically renew for successive one-year terms unless either party provides a written notice of intent to terminate at least thirty (30) days prior to the expiration of the current term.\\n\\n2. **Renewal Pricing**: Upon renewal, the pricing may be subject to adjustment by the Provider. The Provider will give a minimum of sixty (60) days’ notice of any changes in pricing.\\n\\n## Features\\n\\n1. **AI-Driven Analytics**: The Rellm platform will utilize AI algorithms to provide predictive insights into risk exposures, allowing the Client to make informed decisions with real-time data analysis.\\n\\n2. **Seamless Integrations**: The architecture of Rellm allows for easy integration with existing systems used by the Client, including policy management and claims processing.'),\n",
       " Document(metadata={'source': '../knowledge-base/contracts/Contract with Apex Reinsurance for Rellm.md', 'doc_type': 'contracts'}, page_content=\"2. **Seamless Integrations**: The architecture of Rellm allows for easy integration with existing systems used by the Client, including policy management and claims processing.\\n\\n3. **Customizable Dashboard**: The dashboard will be tailored to display metrics specific to the Client's operational needs, enhancing productivity and facilitating more efficient data access.\\n\\n4. **Regulatory Compliance**: The solution will include compliance tracking features to assist the Client in maintaining adherence to relevant regulations.\\n\\n5. **Dedicated Client Portal**: A portal for the Client will facilitate real-time communication and document sharing, ensuring seamless collaboration throughout the partnership.\\n\\n## Support\\n\\n1. **Technical Support**: Provider shall offer dedicated technical support to the Client via phone, email, and a ticketing system during business hours (Monday to Friday, 9 AM to 5 PM EST).\"),\n",
       " Document(metadata={'source': '../knowledge-base/contracts/Contract with Apex Reinsurance for Rellm.md', 'doc_type': 'contracts'}, page_content=\"1. **Technical Support**: Provider shall offer dedicated technical support to the Client via phone, email, and a ticketing system during business hours (Monday to Friday, 9 AM to 5 PM EST).\\n\\n2. **Training and Onboarding**: Provider will deliver comprehensive onboarding training for up to ten (10) members of the Client's staff to ensure effective use of the Rellm solution.\\n\\n3. **Updates and Maintenance**: Provider is responsible for providing updates to the Rellm platform to improve functionality and security, at no additional cost to the Client.\\n\\n4. **Escalation Protocol**: Issues that cannot be resolved at the first level of support will be escalated to the senior support team, ensuring that critical concerns are addressed promptly.\\n\\n---\\n\\n**Acceptance of Terms**: By signing below, both parties agree to the Terms, Renewal, Features, and Support outlined in this Agreement.\\n\\n**Insurellm, Inc.**  \\n_____________________________  \\nAuthorized Signature   \\nDate: ___________________\"),\n",
       " Document(metadata={'source': '../knowledge-base/contracts/Contract with Apex Reinsurance for Rellm.md', 'doc_type': 'contracts'}, page_content='**Insurellm, Inc.**  \\n_____________________________  \\nAuthorized Signature   \\nDate: ___________________  \\n\\n**Apex Reinsurance**  \\n_____________________________  \\nAuthorized Signature  \\nDate: ___________________'),\n",
       " Document(metadata={'source': '../knowledge-base/contracts/Contract with Greenstone Insurance for Homellm.md', 'doc_type': 'contracts'}, page_content='# Contract with Greenstone Insurance for Homellm\\n\\n---\\n\\n## Terms\\n\\n1. **Parties**: This Contract (\"Agreement\") is entered into on this day, [Insert Date], between Insurellm (\"Provider\"), located at [Provider Address], and Greenstone Insurance (\"Customer\"), located at [Customer Address].\\n\\n2. **Services Provided**: Provider agrees to deliver the Homellm product, which includes AI-powered risk assessment, dynamic pricing model, instant claim processing, predictive maintenance alerts, multi-channel integration, and access to a customer portal as specified in the provided Product Summary.\\n\\n3. **Contract Duration**: This Agreement shall commence on [Insert Start Date] and continue for a period of [Insert Duration, e.g., 12 months] unless terminated earlier as per the provisions herein.\\n\\n4. **Payment Terms**: \\n   - The Customer shall pay an amount of $10,000 per month for the Standard Tier of the Homellm service.\\n   - Payments are due within 30 days of invoicing.'),\n",
       " Document(metadata={'source': '../knowledge-base/contracts/Contract with Greenstone Insurance for Homellm.md', 'doc_type': 'contracts'}, page_content='4. **Payment Terms**: \\n   - The Customer shall pay an amount of $10,000 per month for the Standard Tier of the Homellm service.\\n   - Payments are due within 30 days of invoicing.\\n\\n5. **Customization**: Any additional customization requests outside the standard offerings will require a separate agreement and associated costs.\\n\\n---\\n\\n## Renewal\\n\\n1. **Automatic Renewal**: This Agreement will automatically renew for additional one-year terms unless either party provides written notice of termination at least 60 days prior to the end of the current term.\\n\\n2. **Renewal Terms Review**: Prior to each renewal, the Provider and Customer will review the terms and pricing. Adjustments may be made based on the current features and market conditions.\\n\\n---\\n\\n## Features'),\n",
       " Document(metadata={'source': '../knowledge-base/contracts/Contract with Greenstone Insurance for Homellm.md', 'doc_type': 'contracts'}, page_content=\"---\\n\\n## Features\\n\\n- **AI-Powered Risk Assessment**: Customer will have access to enhanced risk evaluation tools, allowing for personalized underwriting based on real-time data analysis.\\n  \\n- **Dynamic Pricing Model**: The Customer can leverage flexible premiums adjusted according to customer risk profiles.\\n\\n- **Instant Claim Processing**: Claims submitted by the Customer's clients will be processed through an automated system, with most claims resolved within hours.\\n\\n- **Predictive Maintenance Alerts**: The Customer will receive alerts regarding potential maintenance needs for insured properties, enhancing client satisfaction and reducing claims.\\n\\n- **Multi-Channel Integration**: Homellm will integrate with the Customer's existing platforms to create seamless service delivery.\\n\\n- **Customer Portal**: A dedicated portal will be provided, allowing the Customer's clients to manage their accounts 24/7.\\n\\n---\\n\\n## Support\"),\n",
       " Document(metadata={'source': '../knowledge-base/contracts/Contract with Greenstone Insurance for Homellm.md', 'doc_type': 'contracts'}, page_content=\"- **Customer Portal**: A dedicated portal will be provided, allowing the Customer's clients to manage their accounts 24/7.\\n\\n---\\n\\n## Support\\n\\n1. **Training**: Provider will offer a comprehensive training program at the start of the term to ensure the Customer's staff can effectively use the Homellm product.\\n\\n2. **Ongoing Support**: The Provider will supply ongoing technical support via email and phone during business hours (9 am - 5 pm EST) throughout the contract duration.\\n\\n3. **Updates and Improvements**: Customer will receive all software updates and feature enhancements as they become available, without additional charge.\\n\\n--- \\n\\n**AGREEMENT SIGNATURES**\\n\\nBy signing below, the parties acknowledge their acceptance of the terms of this Agreement.\\n\\n**For Insurellm:**\\n\\n______________________________  \\n[Name], [Title]  \\nDate: ______________________\\n\\n**For Greenstone Insurance:**\\n\\n______________________________  \\n[Name], [Title]  \\nDate: ______________________\\n\\n---\"),\n",
       " Document(metadata={'source': '../knowledge-base/contracts/Contract with Greenstone Insurance for Homellm.md', 'doc_type': 'contracts'}, page_content='______________________________  \\n[Name], [Title]  \\nDate: ______________________\\n\\n**For Greenstone Insurance:**\\n\\n______________________________  \\n[Name], [Title]  \\nDate: ______________________\\n\\n--- \\n\\n*This contract is intended for illustrative purposes only and does not constitute a real legal document.*'),\n",
       " Document(metadata={'source': '../knowledge-base/contracts/Contract with Roadway Insurance Inc. for Carllm.md', 'doc_type': 'contracts'}, page_content=\"# Contract with Roadway Insurance Inc. for Carllm\\n\\n---\\n\\n## Terms\\n\\n1. **Agreement Effective Date**: This contract is effective as of January 1, 2025.\\n2. **Duration**: This agreement will remain in effect for a term of 12 months, concluding on December 31, 2025.\\n3. **Subscription Type**: Roadway Insurance Inc. agrees to subscribe to the **Professional Tier** of Carllm, at a cost of $2,500/month, totaling $30,000 for the duration of this contract.\\n4. **Payment Terms**: Payments are due on the first of each month. Late payments will incur a penalty of 1.5% per month.\\n5. **Termination Clause**: Either party may terminate this agreement with 30 days' written notice prior to the end of the term. If terminated early, fees will be calculated on a pro-rata basis.\\n\\n---\\n\\n## Renewal\"),\n",
       " Document(metadata={'source': '../knowledge-base/contracts/Contract with Roadway Insurance Inc. for Carllm.md', 'doc_type': 'contracts'}, page_content=\"---\\n\\n## Renewal\\n\\n1. **Automatic Renewal**: This agreement will automatically renew for an additional 12-month term unless either party provides written notice of non-renewal at least 30 days before the expiration date.\\n2. **Price Adjustments**: Subscription fees may be adjusted for the renewal term in accordance with market conditions and the company's pricing policies, with 60 days' prior notice provided to Roadway Insurance Inc.\\n\\n---\\n\\n## Features\"),\n",
       " Document(metadata={'source': '../knowledge-base/contracts/Contract with Roadway Insurance Inc. for Carllm.md', 'doc_type': 'contracts'}, page_content='---\\n\\n## Features\\n\\n1. **Access to Core Features**: Roadway Insurance Inc. will have access to all Professional Tier features, including:\\n   - AI-Powered Risk Assessment\\n   - Advanced Analytics & Fraud Detection\\n   - Instant Quoting System\\n   - Customizable Coverage Plans\\n   - Customer Insights Dashboard\\n   \\n2. **Mobile Integration**: All features will be accessible through a mobile application that Insurellm will provide.\\n3. **Customer Support**: Includes 24/7 automated customer support via AI chatbots and access to dedicated account management support during business hours.\\n\\n---\\n\\n## Support'),\n",
       " Document(metadata={'source': '../knowledge-base/contracts/Contract with Roadway Insurance Inc. for Carllm.md', 'doc_type': 'contracts'}, page_content='---\\n\\n## Support\\n\\n1. **Technical Support**: Roadway Insurance Inc. will receive priority technical support from Insurellm for any issues arising from the Carllm product.\\n2. **Training**: Insurellm will provide up to 5 training sessions for Roadway Insurance Inc. staff on the effective use of the Carllm platform, scheduled at mutual convenience.\\n3. **Updates and Maintenance**: Regular updates to the Carllm platform will be conducted quarterly, and any maintenance outages will be communicated at least 48 hours in advance.\\n\\n---\\n\\n*This contract outlines the terms of the relationship between Insurellm and Roadway Insurance Inc. for the Carllm product, emphasizing the collaborative spirit aimed at transforming the auto insurance landscape.*'),\n",
       " Document(metadata={'source': '../knowledge-base/contracts/Contract with Stellar Insurance Co. for Rellm.md', 'doc_type': 'contracts'}, page_content='# Contract with Stellar Insurance Co. for Rellm\\n\\n## Terms\\nThis contract is made between **Insurellm**, located at 123 Innovation Lane, San Francisco, CA, and **Stellar Insurance Co.**, located at 456 Galaxy Road, Chicago, IL. The effective date of this agreement is **January 1, 2024**. \\n\\n### Duration\\nThe initial term of this agreement shall be for **12 months**, commencing from the effective date. The contract will automatically renew for successive **12-month periods** unless either party provides written notice of non-renewal at least **30 days** prior to the expiration of the current term.\\n\\n### Payment Terms\\nStellar Insurance Co. agrees to pay Insurellm a monthly subscription fee of **$10,000** for the **Professional Plan** of the Rellm product. Payments are due on the **1st of each month**.'),\n",
       " Document(metadata={'source': '../knowledge-base/contracts/Contract with Stellar Insurance Co. for Rellm.md', 'doc_type': 'contracts'}, page_content='### Termination\\nEither party may terminate this agreement with a **30-day written notice**. In the event of a material breach, the non-breaching party may terminate immediately, provided a written notice is given.\\n\\n## Renewal\\nThis contract will renew automatically for additional 12-month terms unless written notice is provided by either party 30 days prior to the renewal date. Upon renewal, pricing may be adjusted based on agreed-upon inflation adjustments or additional services requested by Stellar Insurance Co.\\n\\n## Features\\nStellar Insurance Co. will receive access to the following features of the Rellm product:'),\n",
       " Document(metadata={'source': '../knowledge-base/contracts/Contract with Stellar Insurance Co. for Rellm.md', 'doc_type': 'contracts'}, page_content='## Features\\nStellar Insurance Co. will receive access to the following features of the Rellm product:\\n\\n- **AI-Driven Analytics**: Predictive insights into risk exposures tailored for the reinsurance industry.\\n- **Seamless Integrations**: Compatibility with existing systems for policy management and claims processing.\\n- **Risk Assessment Module**: Comprehensive evaluation of risk profiles using advanced modeling techniques.\\n- **Customizable Dashboard**: Tailored user interface presenting relevant metrics and performance indicators.\\n- **Regulatory Compliance Tools**: Features to ensure adherence to local and international regulations.\\n- **Client and Broker Portals**: Dedicated portals for enhanced communication and document sharing.\\n\\n## Support\\nInsurellm provides Stellar Insurance Co. with the following support services:'),\n",
       " Document(metadata={'source': '../knowledge-base/contracts/Contract with Stellar Insurance Co. for Rellm.md', 'doc_type': 'contracts'}, page_content='## Support\\nInsurellm provides Stellar Insurance Co. with the following support services:\\n\\n- **24/7 Technical Support**: Access to dedicated support representatives via phone and online chat.\\n- **Quarterly Account Review**: Meetings to discuss performance metrics and uncover additional needs.\\n- **Training Sessions**: Initial orientation and ongoing training opportunities to maximize the effectiveness of Rellm usage.\\n- **Updates and Upgrades**: Regular software updates and enhancements are included as part of the subscription.\\n\\nStellar Insurance Co. acknowledges receipt of the Rellm product summary and agrees to the terms set forth above. By signing below, both parties confirm their acceptance of this contract.\\n\\n**For Insurellm**  \\n______________________________  \\n[Signature]  \\n[Name, Title]  \\n[Date]  \\n\\n**For Stellar Insurance Co.**  \\n______________________________  \\n[Signature]  \\n[Name, Title]  \\n[Date]'),\n",
       " Document(metadata={'source': '../knowledge-base/contracts/Contract with TechDrive Insurance for Carllm.md', 'doc_type': 'contracts'}, page_content='# Contract with TechDrive Insurance for Carllm\\n\\n**Contract Date:** October 1, 2024  \\n**Contract Duration:** 12 months\\n\\n---\\n\\n## Terms\\n\\n1. **Parties Involved**: This contract is entered into between Insurellm (the \"Provider\") and TechDrive Insurance (the \"Customer\").\\n   \\n2. **License Grant**: Insurellm grants TechDrive Insurance a non-exclusive, non-transferable license to use the Carllm product as per the selected pricing tier (Professional Tier at $2,500/month).\\n   \\n3. **Payment Terms**: TechDrive Insurance agrees to make monthly payments of $2,500 for the duration of this contract, due on the 5th of each month.\\n   \\n4. **Confidentiality**: Both parties shall maintain confidentiality regarding each other’s proprietary information throughout the duration of this contract and for three years following its termination.\\n\\n## Renewal'),\n",
       " Document(metadata={'source': '../knowledge-base/contracts/Contract with TechDrive Insurance for Carllm.md', 'doc_type': 'contracts'}, page_content='## Renewal\\n\\n1. **Automatic Renewal**: This contract shall automatically renew for additional one-year terms unless either party provides written notice of non-renewal at least 30 days prior to the contract expiration.\\n   \\n2. **Pricing Review**: The pricing for any renewal period shall be discussed 60 days prior to the end of the term and agreed upon in writing.\\n\\n## Features\\n\\n1. **Included Features**: Under the Professional Tier, TechDrive Insurance will have access to the following features of Carllm:\\n   - AI-Powered Risk Assessment\\n   - Instant Quoting\\n   - Customizable Coverage Plans\\n   - Fraud Detection\\n   - Customer Insights Dashboard\\n   - Mobile Integration\\n   - Automated Customer Support\\n\\n2. **System Requirements**: TechDrive Insurance must ensure that their existing systems meet the technical requirements to integrate with Carllm, as outlined in the onboarding documentation provided by Insurellm.\\n\\n## Support'),\n",
       " Document(metadata={'source': '../knowledge-base/contracts/Contract with TechDrive Insurance for Carllm.md', 'doc_type': 'contracts'}, page_content='## Support\\n\\n1. **Customer Support**: Insurellm will provide 24/7 customer support to TechDrive Insurance via AI-driven chatbots, ensuring timely resolution of inquiries and issues.\\n\\n2. **Training**: TechDrive Insurance staff will receive onboarding training sessions to ensure effective utilization of the Carllm platform, scheduled within the first two weeks of contract commencement.\\n\\n3. **System Updates**: The Provider will push regular updates to improve system performance and add new features. TechDrive Insurance will receive prior notification of any significant upgrades that may affect current operations.\\n\\n---\\n\\n**Signatures:**\\n\\n**Insurellm Representative:**  \\nName: John Smith  \\nTitle: Account Manager  \\nDate: ____________\\n\\n**TechDrive Insurance Representative:**  \\nName: Sarah Johnson  \\nTitle: Operations Director  \\nDate: ____________'),\n",
       " Document(metadata={'source': '../knowledge-base/contracts/Contract with TechDrive Insurance for Carllm.md', 'doc_type': 'contracts'}, page_content='**TechDrive Insurance Representative:**  \\nName: Sarah Johnson  \\nTitle: Operations Director  \\nDate: ____________  \\n\\nThis contract will serve as the foundational agreement for the ongoing collaboration between Insurellm and TechDrive Insurance in optimizing their auto insurance offerings through the Carllm product.'),\n",
       " Document(metadata={'source': '../knowledge-base/contracts/Contract with Belvedere Insurance for Markellm.md', 'doc_type': 'contracts'}, page_content='# Contract with Belvedere Insurance for Markellm\\n\\n## Terms\\nThis Contract (\"Agreement\") is made and entered into as of [Date] by and between Insurellm, Inc., a corporation registered in the United States, (\"Provider\") and Belvedere Insurance, (\"Client\"). \\n\\n1. **Service Commencement**: The services described herein will commence on [Start Date].\\n2. **Contract Duration**: This Agreement shall remain in effect for a period of 1 year from the Commencement Date, unless terminated earlier in accordance with the termination clause of this Agreement.\\n3. **Fees**: Client agrees to pay a Basic Listing Fee of $199/month for accessing the Markellm platform along with a performance-based pricing of $25 per lead generated.\\n4. **Payment Terms**: Payments shall be made monthly, in advance, with invoices issued on the 1st of each month, payable within 15 days of receipt.'),\n",
       " Document(metadata={'source': '../knowledge-base/contracts/Contract with Belvedere Insurance for Markellm.md', 'doc_type': 'contracts'}, page_content='## Renewal\\n1. **Renewal Terms**: This Agreement may be renewed for additional one-year terms upon mutual written consent of both parties no later than 30 days before the end of the current term.\\n2. **Fee Adjustments**: Any changes to the fees or terms will be communicated in writing at least 60 days prior to the renewal date.'),\n",
       " Document(metadata={'source': '../knowledge-base/contracts/Contract with Belvedere Insurance for Markellm.md', 'doc_type': 'contracts'}, page_content=\"## Features\\n1. **AI-Powered Matching**: Belvedere Insurance will benefit from Markellm's AI-powered matching, ensuring the best-fit customers are identified and connected.\\n2. **Real-Time Quotes**: Access to real-time quotes will enhance the customer acquisition process, facilitating timely and informed decision-making.\\n3. **Data Insights**: Client shall have access to Markellm's analytics dashboard, allowing insights into consumer behavior and market trends.\\n4. **Customization Options**: Belvedere Insurance can leverage optional premium features and analytics upon payment of an additional $9.99/month.\\n5. **Customer Support**: Insurellm will provide dedicated support to Belvedere Insurance, ensuring any issues or queries are promptly addressed.\"),\n",
       " Document(metadata={'source': '../knowledge-base/contracts/Contract with Belvedere Insurance for Markellm.md', 'doc_type': 'contracts'}, page_content='## Support\\n1. **Technical Support**: Technical support will be available from 9 AM to 7 PM EST, Monday through Friday via email and phone.\\n2. **Response Times**: Insurellm agrees to respond to all support queries within 24 business hours. Emergency support will be prioritized throughout the contract period.\\n3. **Training**: Insurellm will offer a comprehensive training session for the Client’s staff upon beginning the service to ensure effective utilization of the features.\\n\\n## Acceptance\\nBy signing below, the parties agree to the terms of this Agreement.\\n\\n**Insurellm, Inc.**  \\nSignature: ______________________  \\nName: [Authorized Signatory]  \\nTitle: [Title]  \\nDate: ______________________  \\n\\n**Belvedere Insurance**  \\nSignature: ______________________  \\nName: [Authorized Signatory]  \\nTitle: [Title]  \\nDate: ______________________'),\n",
       " Document(metadata={'source': '../knowledge-base/contracts/Contract with Belvedere Insurance for Markellm.md', 'doc_type': 'contracts'}, page_content='**Belvedere Insurance**  \\nSignature: ______________________  \\nName: [Authorized Signatory]  \\nTitle: [Title]  \\nDate: ______________________  \\n\\n--- \\nThis synthetic contract document outlines a fictional agreement between Insurellm and a fictional insurance client, Belvedere Insurance, which engages with the Markellm platform. The contract contains creative yet realistic terms for potential use in training and development in insurance technology scenarios.'),\n",
       " Document(metadata={'source': '../knowledge-base/contracts/Contract with Velocity Auto Solutions for Carllm.md', 'doc_type': 'contracts'}, page_content='# Contract with Velocity Auto Solutions for Carllm\\n\\n**Contract Date:** October 1, 2023  \\n**Contract Number:** C-12345-2023  \\n**Client:** Velocity Auto Solutions  \\n**Product:** Carllm Auto Insurance Solution  \\n\\n---\\n\\n## Terms\\n\\n1. **Duration**: This contract is effective for a period of 12 months from the contract date.  \\n2. **Payment Schedule**: Velocity Auto Solutions agrees to pay Insurellm the total fee associated with the selected subscription tier on a monthly basis, beginning on the contract date.  \\n3. **Confidentiality**: Both parties agree to keep all proprietary information confidential and not to disclose it to any third parties without written consent.  \\n4. **Intellectual Property**: All components of Carllm and any related technology are the property of Insurellm, and license is granted to Velocity Auto Solutions for internal use only.  \\n\\n## Renewal'),\n",
       " Document(metadata={'source': '../knowledge-base/contracts/Contract with Velocity Auto Solutions for Carllm.md', 'doc_type': 'contracts'}, page_content='## Renewal\\n\\n1. **Automatic Renewal**: This contract will automatically renew for successive 12-month periods unless either party provides written notice at least 30 days prior to the end of the initial term or any renewal term.  \\n2. **Rate Adjustment**: Subscription pricing may be subject to adjustment, with Insurellm providing a 60-day advance notice of any changes prior to renewal.  \\n\\n## Features\\n\\n1. **Included Features**:  \\n   - AI-Powered Risk Assessment  \\n   - Instant Quoting and Customizable Coverage Plans  \\n   - Fraud Detection Systems  \\n   - Customer Insights Dashboard  \\n   - Automated Customer Support  \\n\\n2. **Feature Enhancements**: Velocity Auto Solutions will receive updates to the Carllm product as outlined in the Insurellm 2025-2026 Roadmap, including mobile integration and telematics-based pricing enhancements.\\n\\n## Support'),\n",
       " Document(metadata={'source': '../knowledge-base/contracts/Contract with Velocity Auto Solutions for Carllm.md', 'doc_type': 'contracts'}, page_content='## Support\\n\\n1. **Customer Support**: Velocity Auto Solutions will have access to Insurellm’s customer support team via email or chatbot, available 24/7.  \\n2. **Technical Maintenance**: Regular maintenance and updates to the Carllm platform will be conducted by Insurellm, with any downtime communicated in advance.  \\n3. **Training & Resources**: Initial training sessions will be provided for Velocity Auto Solutions’ staff to ensure effective use of the Carllm suite. Regular resources and documentation will be made available online.\\n\\n---\\n\\n**Accepted and Agreed:**  \\n**For Velocity Auto Solutions**  \\nSignature: _____________________  \\nName: John Doe  \\nTitle: CEO  \\nDate: _____________________  \\n\\n**For Insurellm**  \\nSignature: _____________________  \\nName: Jane Smith  \\nTitle: VP of Sales  \\nDate: _____________________'),\n",
       " Document(metadata={'source': '../knowledge-base/contracts/Contract with GreenValley Insurance for Homellm.md', 'doc_type': 'contracts'}, page_content='# Contract with GreenValley Insurance for Homellm\\n\\n**Contract Date:** October 6, 2023  \\n**Contract Number:** HV-2023-0458  \\n**Parties:**  \\n- Insurellm, Inc.  \\n- GreenValley Insurance, LLC  \\n\\n---\\n\\n## Terms\\n\\n1. **Coverage:** Insurellm agrees to provide GreenValley Insurance with access to the Homellm product, allowing for personalized home insurance offerings tailored to customers.\\n   \\n2. **Duration:** This agreement is effective for a period of 12 months from the contract date, after which it will automatically renew unless terminated by either party with a written 30-day notice.\\n\\n3. **Payment:** GreenValley Insurance shall pay a monthly fee of $10,000, due by the 5th of every month for the Standard Tier package. \\n\\n4. **Confidentiality:** Both parties agree to maintain the confidentiality of proprietary information disclosed during the execution of this contract.'),\n",
       " Document(metadata={'source': '../knowledge-base/contracts/Contract with GreenValley Insurance for Homellm.md', 'doc_type': 'contracts'}, page_content=\"4. **Confidentiality:** Both parties agree to maintain the confidentiality of proprietary information disclosed during the execution of this contract.\\n\\n5. **Liability:** Insurellm's liability under this agreement shall be limited to direct damages and shall not exceed the total fees paid by GreenValley Insurance in the last 12 months prior to the date of the claim.\\n\\n---\\n\\n## Renewal\\n\\nUnless either party provides a written notice of termination at least 30 days prior to the expiration of the contract term, this agreement will automatically renew for an additional one-year term under the same terms and conditions.\\n\\n---\\n\\n## Features\\n\\nGreenValley Insurance will receive the following features with Homellm:\\n\\n1. **AI-Powered Risk Assessment:** Access to advanced AI algorithms for real-time risk evaluations.\\n   \\n2. **Dynamic Pricing Model:** Flexible premium adjustments based on ongoing risk analysis.\"),\n",
       " Document(metadata={'source': '../knowledge-base/contracts/Contract with GreenValley Insurance for Homellm.md', 'doc_type': 'contracts'}, page_content='1. **AI-Powered Risk Assessment:** Access to advanced AI algorithms for real-time risk evaluations.\\n   \\n2. **Dynamic Pricing Model:** Flexible premium adjustments based on ongoing risk analysis.\\n\\n3. **Instant Claim Processing:** Automated claim management to accelerate processing times significantly.\\n\\n4. **Predictive Maintenance Alerts:** Alerts for potential maintenance needs to mitigate risks.\\n\\n5. **Multi-Channel Integration:** Capability to integrate seamlessly with existing systems for unified customer management.\\n\\n6. **Customer Portal:** A user-friendly portal for their customers for policy and claims management.\\n\\n---\\n\\n## Support\\n\\nInsurellm commits to providing comprehensive support to GreenValley Insurance, which includes:\\n\\n1. **Onboarding:** An extensive training program for the GreenValley staff to ensure effective use of Homellm.\\n   \\n2. **Dedicated Support Team:** A dedicated support team available 24/7 to address any technical issues or inquiries.'),\n",
       " Document(metadata={'source': '../knowledge-base/contracts/Contract with GreenValley Insurance for Homellm.md', 'doc_type': 'contracts'}, page_content='3. **Regular Updates:** Insurellm will offer ongoing updates and enhancements to the Homellm platform, including new features and security improvements.\\n\\n4. **Feedback Implementation:** Insurellm will actively solicit feedback from GreenValley Insurance to ensure Homellm continues to meet their evolving needs.\\n\\n---\\n\\n**Signatures:**\\n\\n_________________________________  \\n**[Name]**  \\n**Title**: CEO  \\n**Insurellm, Inc.**\\n\\n_________________________________  \\n**[Name]**  \\n**Title**: COO  \\n**GreenValley Insurance, LLC**  \\n\\n---\\n\\nThis agreement represents the complete understanding of both parties regarding the use of the Homellm product and supersedes any prior agreements or communications.'),\n",
       " Document(metadata={'source': '../knowledge-base/contracts/Contract with EverGuard Insurance for Rellm.md', 'doc_type': 'contracts'}, page_content='# Contract with EverGuard Insurance for Rellm: AI-Powered Enterprise Reinsurance Solution\\n\\n**Contract Number:** IG-2023-EG  \\n**Effective Date:** January 1, 2024  \\n**Expiration Date:** December 31, 2026  \\n\\n## Terms\\n\\n1. **Parties**: This agreement is made between Insurellm, located at 123 Innovation Drive, Tech City, USA, and EverGuard Insurance, located at 456 Safety Lane, Protectville, USA.\\n   \\n2. **Product Description**: This contract pertains to the use of the Rellm platform, an AI-powered enterprise reinsurance solution provided by Insurellm. EverGuard Insurance will implement Rellm to enhance its reinsurance operations.\\n\\n3. **Payment Terms**: EverGuard Insurance agrees to pay Insurellm a monthly fee of $10,000 for the duration of this contract, covering the Professional Plan features of Rellm, which includes all advanced integrations and priority customer support.'),\n",
       " Document(metadata={'source': '../knowledge-base/contracts/Contract with EverGuard Insurance for Rellm.md', 'doc_type': 'contracts'}, page_content='4. **Usage Rights**: EverGuard Insurance is granted a non-exclusive, non-transferable license to access and use Rellm for the duration of this contract. Unauthorized sharing or distribution is strictly prohibited.\\n\\n## Renewal\\n\\n1. **Automatic Renewal**: This contract will automatically renew for successive one-year terms unless either party provides written notice of termination at least 60 days prior to the expiration date.\\n\\n2. **Price Adjustment**: In the event of a renewal, Insurellm reserves the right to adjust the monthly fee based on market conditions and the value of services offered, with a minimum notice of 30 days.\\n\\n## Features\\n\\n1. **Core Functionality**: Rellm provides EverGuard Insurance with advanced AI-driven analytics, seamless integrations, and a comprehensive risk assessment module designed to optimize risk management.'),\n",
       " Document(metadata={'source': '../knowledge-base/contracts/Contract with EverGuard Insurance for Rellm.md', 'doc_type': 'contracts'}, page_content='1. **Core Functionality**: Rellm provides EverGuard Insurance with advanced AI-driven analytics, seamless integrations, and a comprehensive risk assessment module designed to optimize risk management.\\n\\n2. **Customizable Dashboard**: Users at EverGuard Insurance will have access to a customizable dashboard that allows them to tailor their experience based on their specific operational metrics.\\n\\n3. **Compliance Tools**: The built-in regulatory compliance tools will ensure that EverGuard Insurance meets industry standards while managing its reinsurance practices.\\n\\n4. **Client Portal Access**: EverGuard Insurance will have access to both client and broker portals, enhancing communication and collaboration with its partners.\\n\\n## Support\\n\\n1. **Customer Support**: Insurellm will provide EverGuard Insurance with 24/7 customer support, including live chat, email, and phone assistance for any technical issues or inquiries regarding Rellm.'),\n",
       " Document(metadata={'source': '../knowledge-base/contracts/Contract with EverGuard Insurance for Rellm.md', 'doc_type': 'contracts'}, page_content='1. **Customer Support**: Insurellm will provide EverGuard Insurance with 24/7 customer support, including live chat, email, and phone assistance for any technical issues or inquiries regarding Rellm.\\n\\n2. **Training Services**: Insurellm will provide initial training for EverGuard Insurance staff to ensure proper utilization of Rellm features. Additional training sessions can be scheduled upon request at an agreed fee.\\n\\n3. **Updates and Upgrades**: EverGuard Insurance will receive all platform updates and upgrades at no additional cost during the contract term, including enhancements outlined in Insurellm’s 2025-2026 roadmap.\\n\\n4. **Feedback Mechanisms**: EverGuard Insurance is encouraged to provide feedback regarding Rellm’s functionalities and any desired features, which will be considered for future updates.\\n\\n---\\n\\n**Signatures**  \\n**For Insurellm**: __________________________  \\n**Name**: John Smith  \\n**Title**: Chief Operating Officer  \\n**Date**: _________________'),\n",
       " Document(metadata={'source': '../knowledge-base/contracts/Contract with EverGuard Insurance for Rellm.md', 'doc_type': 'contracts'}, page_content='---\\n\\n**Signatures**  \\n**For Insurellm**: __________________________  \\n**Name**: John Smith  \\n**Title**: Chief Operating Officer  \\n**Date**: _________________  \\n\\n**For EverGuard Insurance**: __________________________  \\n**Name**: Sarah Johnson  \\n**Title**: Chief Executive Officer  \\n**Date**: _________________  \\n\\n--- \\n\\nThis contract seeks to foster a strong partnership between Insurellm and EverGuard Insurance, leveraging Rellm to innovate and enhance reinsurance capabilities while ensuring mutual growth and compliance in the ever-evolving insurance landscape.'),\n",
       " Document(metadata={'source': '../knowledge-base/contracts/Contract with BrightWay Solutions for Markellm.md', 'doc_type': 'contracts'}, page_content='# Contract with BrightWay Solutions for Markellm\\n\\n**Contract Date:** October 5, 2023  \\n**Contract ID:** INS-2023-0092\\n\\n### Terms\\nThis contract (“Contract”) is made between Insurellm, a company incorporated in the United States, and BrightWay Solutions, a technology provider specializing in insurance services.\\n\\n1. **Scope of Services:**  \\n   Insurellm shall provide BrightWay Solutions access to the Markellm platform under the agreed pricing structure for a duration of one year from the effective date.\\n\\n2. **Payment Terms:**  \\n   BrightWay Solutions agrees to pay an initial setup fee of $1,000 for integration services, followed by the Basic Listing Fee of $199 per month for featured listing on Markellm. Payment shall be made within 30 days of invoice.\\n\\n3. **Service Level Agreement (SLA):**  \\n   Insurellm commits to a 99.9% uptime for the platform with dedicated support response times not exceeding 4 business hours.'),\n",
       " Document(metadata={'source': '../knowledge-base/contracts/Contract with BrightWay Solutions for Markellm.md', 'doc_type': 'contracts'}, page_content='3. **Service Level Agreement (SLA):**  \\n   Insurellm commits to a 99.9% uptime for the platform with dedicated support response times not exceeding 4 business hours.\\n\\n### Renewal\\n1. **Automatic Renewal:**  \\n   This Contract will automatically renew for additional one-year terms unless either party provides a written notice of intent to terminate at least 30 days prior to the renewal date.\\n\\n2. **Review Period:**  \\n   Both parties will enter a review period each year, during which they will discuss potential amendments to the pricing or contract terms based on market conditions and performance metrics.\\n\\n### Features\\n1. **Access to AI-Powered Matching:**  \\n   BrightWay Solutions will benefit from the AI algorithms for optimal customer matches, helping them connect with consumers looking for their specific insurance offerings.\\n\\n2. **Real-Time Quote Availability:**  \\n   Consumers sourced via BrightWay Solutions will receive real-time quotes, allowing for a seamless customer experience.'),\n",
       " Document(metadata={'source': '../knowledge-base/contracts/Contract with BrightWay Solutions for Markellm.md', 'doc_type': 'contracts'}, page_content='2. **Real-Time Quote Availability:**  \\n   Consumers sourced via BrightWay Solutions will receive real-time quotes, allowing for a seamless customer experience.\\n\\n3. **Analytics Dashboard:**  \\n   Access to Markellm’s analytics dashboard will provide BrightWay Solutions with insights into consumer behavior and market trends, assisting them in refining their insurance offerings.\\n\\n4. **Customization Options:**  \\n   BrightWay Solutions may request customizations to their listing page on Markellm, within the capabilities of the platform.\\n\\n### Support\\n1. **Dedicated Customer Support:**  \\n   BrightWay Solutions will have access to a dedicated support team from Insurellm during standard business hours (9 AM - 7 PM EST).\\n\\n2. **Additional Support Services:**  \\n   Technical support for integration and maintenance will be available. An optional premium support package can be purchased for $49.99/month, which includes 24/7 support and advanced troubleshooting.'),\n",
       " Document(metadata={'source': '../knowledge-base/contracts/Contract with BrightWay Solutions for Markellm.md', 'doc_type': 'contracts'}, page_content='3. **Training and Onboarding:**  \\n   Insurellm agrees to provide one free training session on how to utilize the Markellm platform effectively for BrightWay Solutions’ team upon contract signing.\\n\\n### Signatures\\nBy signing below, both parties agree to the terms and conditions outlined in this Contract.\\n\\n__________________________  \\n**[Name], [Title]**  \\n**Insurellm**  \\nDate: ______________________\\n\\n__________________________  \\n**[Name], [Title]**  \\n**BrightWay Solutions**  \\nDate: ______________________\\n\\n---\\n\\nThis document serves as a formal agreement between Insurellm and BrightWay Solutions, ensuring a successful partnership focused on enhancing the insurance shopping experience for consumers.'),\n",
       " Document(metadata={'source': '../knowledge-base/contracts/Contract with Pinnacle Insurance Co. for Homellm.md', 'doc_type': 'contracts'}, page_content='# Contract with Pinnacle Insurance Co. for Homellm\\n\\n## Terms\\nThis contract (\"Contract\") is entered into as of this 1st day of January 2024 (\"Effective Date\") by and between Insurellm (\"Provider\"), a Delaware corporation with its principal place of business at 1234 Innovation Drive, San Francisco, CA 94105, and Pinnacle Insurance Co. (\"Client\"), a Texas corporation with its principal place of business at 4567 Protection Plaza, Houston, TX 77001. \\n\\n1. **License Grant**: Insurellm hereby grants the Client a non-exclusive, non-transferable license to use Homellm in accordance with the terms of this Contract.\\n2. **Payment Terms**: The Client agrees to pay an initial setup fee of $15,000 and a monthly subscription fee of $10,000 for the duration of the Contract.\\n3. **Term**: The initial term of this Contract shall last for a period of two (2) years from the Effective Date.'),\n",
       " Document(metadata={'source': '../knowledge-base/contracts/Contract with Pinnacle Insurance Co. for Homellm.md', 'doc_type': 'contracts'}, page_content='## Renewal\\n1. **Renewal Terms**: At the end of the initial term, this Contract shall automatically renew for additional one-year terms unless either party provides written notice of termination at least thirty (30) days prior to the expiration of the current term.\\n2. **Adjustment of Fees**: Subscription fees may be adjusted annually based on consumer price index changes, not to exceed 5% per year.'),\n",
       " Document(metadata={'source': '../knowledge-base/contracts/Contract with Pinnacle Insurance Co. for Homellm.md', 'doc_type': 'contracts'}, page_content=\"## Features\\n1. **AI-Powered Risk Assessment**: Utilized for tailored underwriting decisions specific to individual homeowner policies.\\n2. **Dynamic Pricing Model**: Monthly premiums adjusted based on real-time risk evaluations, ensuring fair pricing for Pinnacle’s customers.\\n3. **Instant Claim Processing**: Claims resolved in hours rather than weeks, significantly improving customer satisfaction and operational efficiency.\\n4. **Predictive Maintenance Alerts**: Alerts sent to customers advising them of potential risks unique to their property, supporting proactive maintenance.\\n5. **Multi-Channel Integration**: Seamless access to customer data through existing systems in Pinnacle Insurance's infrastructure.\\n6. **Customer Portal**: A user-friendly interface allowing policy management, claims submission, and coverage updates at any time.\"),\n",
       " Document(metadata={'source': '../knowledge-base/contracts/Contract with Pinnacle Insurance Co. for Homellm.md', 'doc_type': 'contracts'}, page_content='## Support\\n1. **Technical Support**: Insurellm shall provide 24/7 technical support via an email and phone assistance for the duration of this Contract.\\n2. **Training**: Insurellm will conduct an onsite training session for Client employees upon implementation, and quarterly training webinars will be made available thereafter.\\n3. **Updates and Maintenance**: Insurellm will provide regular system updates and maintenance, ensuring that the software is operating at peak efficiency.\\n\\nBy signing below, both parties agree to the terms set forth in this Contract for the use of the Homellm product.\\n\\n____  \\n**Insurellm Authorized Signature**  \\nName: Sarah Johnson  \\nTitle: VP of Sales  \\nDate: ____________\\n\\n____  \\n**Pinnacle Insurance Co. Authorized Signature**  \\nName: Tom Anderson  \\nTitle: Chief Operating Officer  \\nDate: ____________'),\n",
       " Document(metadata={'source': '../knowledge-base/company/overview.md', 'doc_type': 'company'}, page_content='# Overview of Insurellm\\n\\nInsurellm is an innovative insurance tech firm with 200 employees across the US.\\nInsurellm offers 4 insurance software products:\\n- Carllm, a portal for auto insurance companies\\n- Homellm, a portal for home insurance companies\\n- Rellm, an enterprise platform for the reinsurance sector\\n- Marketllm, a marketplace for connecting consumers with insurance providers\\n  \\nInsurellm has more than 300 clients worldwide.'),\n",
       " Document(metadata={'source': '../knowledge-base/company/careers.md', 'doc_type': 'company'}, page_content='# Careers at Insurellm\\n\\nInsurellm is hiring! We are looking for talented software engineers, data scientists and account executives to join our growing team. Come be a part of our movement to disrupt the insurance sector.'),\n",
       " Document(metadata={'source': '../knowledge-base/company/about.md', 'doc_type': 'company'}, page_content=\"# About Insurellm\\n\\nInsurellm was founded by Avery Lancaster in 2015 as an insurance tech startup designed to disrupt an industry in need of innovative products. It's first product was Markellm, the marketplace connecting consumers with insurance providers.\\nIt rapidly expanded, adding new products and clients, reaching 200 emmployees by 2024 with 12 offices across the US.\"),\n",
       " Document(metadata={'source': '../knowledge-base/employees/Alex Chen.md', 'doc_type': 'employees'}, page_content=\"# HR Record\\n\\n# Alex Chen\\n\\n## Summary\\n- **Date of Birth:** March 15, 1990  \\n- **Job Title:** Backend Software Engineer  \\n- **Location:** San Francisco, California  \\n\\n## Insurellm Career Progression\\n- **April 2020:** Joined Insurellm as a Junior Backend Developer. Focused on building APIs to enhance customer data security.\\n- **October 2021:** Promoted to Backend Software Engineer. Took on leadership for a key project developing a microservices architecture to support the company's growing platform.\\n- **March 2023:** Awarded the title of Senior Backend Software Engineer due to exemplary performance in scaling backend services, reducing downtime by 30% over six months.\\n\\n## Annual Performance History\\n- **2020:**  \\n  - Completed onboarding successfully.  \\n  - Met expectations in delivering project milestones.  \\n  - Received positive feedback from the team leads.\"),\n",
       " Document(metadata={'source': '../knowledge-base/employees/Alex Chen.md', 'doc_type': 'employees'}, page_content='## Annual Performance History\\n- **2020:**  \\n  - Completed onboarding successfully.  \\n  - Met expectations in delivering project milestones.  \\n  - Received positive feedback from the team leads.\\n\\n- **2021:**  \\n  - Achieved a 95% success rate in project delivery timelines.  \\n  - Awarded \"Rising Star\" at the annual company gala for outstanding contributions.  \\n\\n- **2022:**  \\n  - Exceeded goals by optimizing existing backend code, improving system performance by 25%.  \\n  - Conducted training sessions for junior developers, fostering knowledge sharing.  \\n\\n- **2023:**  \\n  - Led a major overhaul of the API internal architecture, enhancing security protocols.  \\n  - Contributed to the company’s transition to a cloud-based infrastructure.  \\n  - Received an overall performance rating of 4.8/5.'),\n",
       " Document(metadata={'source': '../knowledge-base/employees/Alex Chen.md', 'doc_type': 'employees'}, page_content=\"## Compensation History\\n- **2020:** Base Salary: $80,000  \\n- **2021:** Base Salary Increase to $90,000; Received a performance bonus of $5,000.  \\n- **2022:** Base Salary Increase to $100,000; Performance bonus of $7,500 due to exceptional project outcomes.  \\n- **2023:** Base Salary Increase to $115,000; Performance bonus of $10,000 for leading pivotal projects.\\n\\n## Other HR Notes\\n- Participates regularly in Insurellm's Diversity & Inclusion initiatives, championing tech accessibility for underrepresented communities.\\n- Completed several certifications in cloud architecture and DevOps, contributing to professional growth.\\n- Plans for a professional development course in AI and machine learning to further enhance backend capabilities in Insurellm's offerings.\\n- Acknowledged for volunteer efforts in local tech meetups, bringing seasoned engineers to mentor aspiring coders.\"),\n",
       " Document(metadata={'source': '../knowledge-base/employees/Alex Chen.md', 'doc_type': 'employees'}, page_content='Alex Chen continues to be a vital asset at Insurellm, contributing significantly to innovative backend solutions that help shape the future of insurance technology.'),\n",
       " Document(metadata={'source': '../knowledge-base/employees/Oliver Spencer.md', 'doc_type': 'employees'}, page_content='# HR Record\\n\\n# Oliver Spencer\\n\\n## Summary\\n- **Date of Birth**: May 14, 1990  \\n- **Job Title**: Backend Software Engineer  \\n- **Location**: Austin, Texas  \\n\\n## Insurellm Career Progression\\n- **March 2018**: Joined Insurellm as a Backend Developer I, focusing on API development for customer management systems.\\n- **July 2019**: Promoted to Backend Developer II after successfully leading a team project to revamp the claims processing system, reducing response time by 30%.\\n- **June 2021**: Transitioned to Backend Software Engineer with a broader role in architecture and system design, collaborating closely with the DevOps team.\\n- **September 2022**: Assigned as the lead engineer for the new \"Innovate\" initiative, aimed at integrating AI-driven solutions into existing products.\\n- **January 2023**: Awarded a mentorship role to guide new hires in backend technology and best practices within Insurellm.'),\n",
       " Document(metadata={'source': '../knowledge-base/employees/Oliver Spencer.md', 'doc_type': 'employees'}, page_content='## Annual Performance History\\n- **2018**: **3/5** - Adaptable team player but still learning to take initiative.\\n- **2019**: **4/5** - Demonstrated strong problem-solving skills, outstanding contribution on the claims project.\\n- **2020**: **2/5** - Struggled with time management; fell behind on deadlines during a high-traffic release period.\\n- **2021**: **4/5** - Made a significant turnaround with organized work habits and successful project management.\\n- **2022**: **5/5** - Exceptional performance during the \"Innovate\" initiative, showcasing leadership and creativity.\\n- **2023**: **3/5** - Maintaining steady work; expectations for innovation not fully met, leading to discussions about goals.'),\n",
       " Document(metadata={'source': '../knowledge-base/employees/Oliver Spencer.md', 'doc_type': 'employees'}, page_content='## Compensation History\\n- **March 2018**: Initial salary of $80,000.\\n- **July 2019**: Salary increased to $90,000 post-promotion.\\n- **June 2021**: Salary raised to $105,000 after role transition.\\n- **September 2022**: Salary adjustment to $120,000 due to increased responsibilities and performance.\\n- **January 2023**: Revised salary of $125,000 in recognition of mentorship role.\\n\\n## Other HR Notes\\n- Oliver enjoys a strong rapport with team members and is known for organizing regular team-building activities.\\n- Participated in Insurellm’s Hackathon in 2022, where he led a project that won “Best Overall Solution.” \\n- Pursuing AWS Certified Solutions Architect certification to enhance cloud skillset.\\n- Has expressed interest in further leadership opportunities within Insurellm and may consider project management roles in the future.'),\n",
       " Document(metadata={'source': '../knowledge-base/employees/Emily Tran.md', 'doc_type': 'employees'}, page_content=\"# HR Record\\n\\n# Emily Tran\\n\\n## Summary\\n- **Date of Birth:** March 18, 1991  \\n- **Job Title:** Digital Marketing Specialist  \\n- **Location:** San Francisco, CA  \\n\\n---\\n\\n## Insurellm Career Progression\\n- **February 2020 - Present**: Digital Marketing Specialist  \\n   - Emily Tran has been pivotal in enhancing Insurellm's online presence through targeted social media campaigns and SEO strategies.\\n   - Successfully managed a team of interns for the 'Spring Into Safety' initiative, increasing customer engagement by 35%.\\n\\n- **June 2018 - January 2020**: Marketing Coordinator  \\n  - Assisted in the development and execution of marketing campaigns to promote Insurellm's products.\\n  - Collected and analyzed data on customer demographics to inform Insurellm’s marketing strategies.\"),\n",
       " Document(metadata={'source': '../knowledge-base/employees/Emily Tran.md', 'doc_type': 'employees'}, page_content='- **January 2017 - May 2018**: Marketing Intern  \\n  - Supported the Marketing team by collaborating on content creation and digital advertising projects.\\n  - Gained hands-on experience with marketing automation tools, enriching her skillset for her role in Insurellm.\\n\\n---\\n\\n## Annual Performance History\\n- **2023**:  \\n  - Performance Rating: Exceeds Expectations  \\n  - Key Achievements: Led the \"Tech the Halls\" campaign that resulted in a 50% increase in leads during the holiday season. \\n  - Emily Tran\\'s innovative strategies and attention to detail have made her stand out among her peers.\\n\\n- **2022**:  \\n  - Performance Rating: Meets Expectations  \\n  - Key Achievements: Enhanced Insurellm\\'s email marketing strategy, achieving a 25% open rate increase.\\n\\n- **2021**:  \\n  - Performance Rating: Meets Expectations  \\n  - Key Achievements: Contributed to the launch of a customer referral program that resulted in a 15% growth in B2C customers.\\n\\n---'),\n",
       " Document(metadata={'source': '../knowledge-base/employees/Emily Tran.md', 'doc_type': 'employees'}, page_content='- **2021**:  \\n  - Performance Rating: Meets Expectations  \\n  - Key Achievements: Contributed to the launch of a customer referral program that resulted in a 15% growth in B2C customers.\\n\\n---\\n\\n## Compensation History\\n- **2023**:  \\n  - Base Salary: $75,000  \\n  - Bonus: $10,000 for exceeding annual targets.\\n\\n- **2022**:  \\n  - Base Salary: $70,000  \\n  - Bonus: $5,000 for achieving marketing milestones.\\n\\n- **2021**:  \\n  - Base Salary: $67,500  \\n  - No bonus due to reallocation of marketing funds during the pandemic.\\n\\n---\\n\\n## Other HR Notes\\n- **Training Completed**:  \\n  - Advanced Digital Marketing Workshop (2021)  \\n  - Analytics and Reporting in Digital Advertising (2022)\\n\\n- **Professional Development Goals**:  \\n  - Emily Tran aims to become a Marketing Manager within the next two years, focusing on leading larger campaigns and developing junior team members.'),\n",
       " Document(metadata={'source': '../knowledge-base/employees/Emily Tran.md', 'doc_type': 'employees'}, page_content=\"- **Professional Development Goals**:  \\n  - Emily Tran aims to become a Marketing Manager within the next two years, focusing on leading larger campaigns and developing junior team members.\\n\\n- **Hobbies**:  \\n  - Emily enjoys photography and regularly contributes to Insurellm's social media content with her own high-quality images.\\n  - She is also passionate about sustainability and organizes monthly team volunteer events for environmental awareness. \\n\\n---\\n\\nEmily Tran continues to be a valuable asset to Insurellm, driving innovative marketing strategies that resonate with a diverse customer base. Her contributions have significantly enhanced the company's branding and customer outreach efforts.\"),\n",
       " Document(metadata={'source': '../knowledge-base/employees/Jordan Blake.md', 'doc_type': 'employees'}, page_content='# HR Record\\n\\n# Jordan Blake\\n\\n## Summary\\n- **Date of Birth:** March 15, 1993  \\n- **Job Title:** Sales Development Representative (SDR)  \\n- **Location:** Austin, Texas  \\n\\n## Insurellm Career Progression\\n- **2021-06:** Joined Insurellm as an Entry-Level SDR  \\n- **2022-02:** Promoted to Junior SDR after exceeding quarterly targets by 25%  \\n- **2022-12:** Recognized as SDR of the Month for three consecutive months  \\n- **2023-05:** Participated in the Insurellm Leadership Training Program'),\n",
       " Document(metadata={'source': '../knowledge-base/employees/Jordan Blake.md', 'doc_type': 'employees'}, page_content=\"## Annual Performance History\\n- **2021:** First year at Insurellm; achieved 90% of monthly targets.  \\n  - **Feedback:** Strong potential shown in lead generation; needs improvement in follow-up techniques.  \\n- **2022:** Achieved 120% of targets; pioneered outreach strategies that increased customer engagement.  \\n  - **Feedback:** Jordan's innovative approach contributed significantly to team success; recommended for leadership training.  \\n- **2023:** Set to exceed annual targets by 30% in Q3; initiated successful partnerships that broadened market reach.  \\n  - **Feedback:** Exceptional communicator; exemplifies the values of Insurellm and promotes team collaboration.\\n\\n## Compensation History\\n- **2021-06:** Starting Salary: $50,000  \\n- **2022-04:** Merit-based increase: $55,000 (based on performance review)  \\n- **2023-06:** Performance bonus awarded: $5,000 (for exceeding goals as recognized in annual review)  \\n- **2023-09:** Salary adjustment due to promotion to Senior SDR: $65,000\"),\n",
       " Document(metadata={'source': '../knowledge-base/employees/Jordan Blake.md', 'doc_type': 'employees'}, page_content='## Other HR Notes\\n- Jordan has shown an interest in continuing education, actively participating in company-sponsored sales webinars.  \\n- Notable for involvement in the Insurellm volunteer program, assisting local charity events related to financial literacy.  \\n- Employee wellness advocate, consistently promotes team bonding activities and stress-relief workshops.  \\n- Plans to enroll in a course for advanced sales strategies in Q4 2023, aiming to further enhance his skills at Insurellm.'),\n",
       " Document(metadata={'source': '../knowledge-base/employees/Avery Lancaster.md', 'doc_type': 'employees'}, page_content='# Avery Lancaster\\n\\n## Summary\\n- **Date of Birth**: March 15, 1985  \\n- **Job Title**: Co-Founder & Chief Executive Officer (CEO)  \\n- **Location**: San Francisco, California  \\n\\n## Insurellm Career Progression\\n- **2015 - Present**: Co-Founder & CEO  \\n  Avery Lancaster co-founded Insurellm in 2015 and has since guided the company to its current position as a leading Insurance Tech provider. Avery is known for her innovative leadership strategies and risk management expertise that have catapulted the company into the mainstream insurance market.  \\n\\n- **2013 - 2015**: Senior Product Manager at Innovate Insurance Solutions  \\n  Before launching Insurellm, Avery was a leading Senior Product Manager at Innovate Insurance Solutions, where she developed groundbreaking insurance products aimed at the tech sector.'),\n",
       " Document(metadata={'source': '../knowledge-base/employees/Avery Lancaster.md', 'doc_type': 'employees'}, page_content=\"- **2010 - 2013**: Business Analyst at Edge Analytics  \\n  Prior to joining Innovate, Avery worked as a Business Analyst, focusing on market trends and consumer preferences in the insurance space. This position laid the groundwork for Avery’s future entrepreneurial endeavors.\\n\\n## Annual Performance History\\n- **2015**: **Exceeds Expectations**  \\n  Avery’s leadership during Insurellm's foundational year led to successful product launches and securing initial funding.  \\n\\n- **2016**: **Meets Expectations**  \\n  Growth continued, though challenges arose in operational efficiency that required Avery's attention.  \\n\\n- **2017**: **Developing**  \\n  Market competition intensified, and monthly sales metrics were below targets. Avery implemented new strategies which required a steep learning curve.  \\n\\n- **2018**: **Exceeds Expectations**  \\n  Under Avery’s pivoted vision, Insurellm launched two new successful products that significantly increased market share.\"),\n",
       " Document(metadata={'source': '../knowledge-base/employees/Avery Lancaster.md', 'doc_type': 'employees'}, page_content=\"- **2018**: **Exceeds Expectations**  \\n  Under Avery’s pivoted vision, Insurellm launched two new successful products that significantly increased market share.  \\n\\n- **2019**: **Meets Expectations**  \\n  Steady growth, however, some team tensions led to a minor drop in employee morale. Avery recognized the need to enhance company culture.  \\n\\n- **2020**: **Below Expectations**  \\n  The COVID-19 pandemic posed unforeseen operational difficulties. Avery faced criticism for delayed strategy shifts, although efforts were eventually made to stabilize the company.  \\n\\n- **2021**: **Exceptional**  \\n  Avery's decisive transition to remote work and rapid adoption of digital tools led to record-high customer satisfaction levels and increased sales.  \\n\\n- **2022**: **Satisfactory**  \\n  Avery focused on rebuilding team dynamics and addressing employee concerns, leading to overall improvement despite a saturated market.\"),\n",
       " Document(metadata={'source': '../knowledge-base/employees/Avery Lancaster.md', 'doc_type': 'employees'}, page_content='- **2022**: **Satisfactory**  \\n  Avery focused on rebuilding team dynamics and addressing employee concerns, leading to overall improvement despite a saturated market.  \\n\\n- **2023**: **Exceeds Expectations**  \\n  Market leadership was regained with innovative approaches to personalized insurance solutions. Avery is now recognized in industry publications as a leading voice in Insurance Tech innovation.'),\n",
       " Document(metadata={'source': '../knowledge-base/employees/Avery Lancaster.md', 'doc_type': 'employees'}, page_content='## Compensation History\\n- **2015**: $150,000 base salary + Significant equity stake  \\n- **2016**: $160,000 base salary + Equity increase  \\n- **2017**: $150,000 base salary + Decrease in bonus due to performance  \\n- **2018**: $180,000 base salary + performance bonus of $30,000  \\n- **2019**: $185,000 base salary + market adjustment + $5,000 bonus  \\n- **2020**: $170,000 base salary (temporary reduction due to COVID-19)  \\n- **2021**: $200,000 base salary + performance bonus of $50,000  \\n- **2022**: $210,000 base salary + retention bonus  \\n- **2023**: $225,000 base salary + $75,000 performance bonus'),\n",
       " Document(metadata={'source': '../knowledge-base/employees/Avery Lancaster.md', 'doc_type': 'employees'}, page_content=\"## Other HR Notes\\n- **Professional Development**: Avery has actively participated in leadership training programs and industry conferences, representing Insurellm and fostering partnerships.  \\n- **Diversity & Inclusion Initiatives**: Avery has championed a commitment to diversity in hiring practices, seeing visible improvements in team representation since 2021.  \\n- **Work-Life Balance**: Feedback revealed concerns regarding work-life balance, which Avery has approached by implementing flexible working conditions and ensuring regular check-ins with the team.\\n- **Community Engagement**: Avery led community outreach efforts, focusing on financial literacy programs, particularly aimed at underserved populations, improving Insurellm's corporate social responsibility image.  \\n\\nAvery Lancaster has demonstrated resilience and adaptability throughout her career at Insurellm, positioning the company as a key player in the insurance technology landscape.\"),\n",
       " Document(metadata={'source': '../knowledge-base/employees/Maxine Thompson.md', 'doc_type': 'employees'}, page_content='# HR Record\\n\\n# Maxine Thompson\\n\\n## Summary\\n- **Date of Birth:** January 15, 1991  \\n- **Job Title:** Data Engineer  \\n- **Location:** Austin, Texas'),\n",
       " Document(metadata={'source': '../knowledge-base/employees/Maxine Thompson.md', 'doc_type': 'employees'}, page_content=\"## Insurellm Career Progression\\n- **January 2017 - October 2018**: **Junior Data Engineer**  \\n  * Maxine joined Insurellm as a Junior Data Engineer, focusing primarily on ETL processes and data integration tasks. She quickly learned Insurellm's data architecture, collaborating with other team members to streamline data workflows.  \\n- **November 2018 - December 2020**: **Data Engineer**  \\n  * In her new role, Maxine expanded her responsibilities to include designing comprehensive data models and improving data quality measures. Though she excelled in technical skills, communication issues with non-technical teams led to some project delays.  \\n- **January 2021 - Present**: **Senior Data Engineer**  \\n  * Maxine was promoted to Senior Data Engineer after successfully leading a pivotal project that improved data retrieval times by 30%. She now mentors junior engineers and is involved in strategic data initiatives, solidifying her position as a valued asset at Insurellm. She was recognized as Insurellm Innovator of the year in 2023, receiving the prestigious IIOTY 2023 award.\"),\n",
       " Document(metadata={'source': '../knowledge-base/employees/Maxine Thompson.md', 'doc_type': 'employees'}, page_content=\"## Annual Performance History\\n- **2017**: *Meets Expectations*  \\n  Maxine showed potential in her role but struggled with initial project deadlines. Her adaptability and willingness to learn made positive impacts on her team.  \\n\\n- **2018**: *Exceeds Expectations*  \\n  Maxine improved significantly, becoming a reliable team member with strong problem-solving skills. She took on leadership in a project that automated data entry processes.  \\n\\n- **2019**: *Needs Improvement*  \\n  During this year, difficult personal circumstances affected Maxine's performance. She missed key deadlines and had several communication issues with stakeholders.  \\n\\n- **2020**: *Meets Expectations*  \\n  Maxine focused on regaining her footing and excelling with technical skills. She was stable, though not standout, in her contributions. Feedback indicated a need for more proactivity.\"),\n",
       " Document(metadata={'source': '../knowledge-base/employees/Maxine Thompson.md', 'doc_type': 'employees'}, page_content='- **2021**: *Exceeds Expectations*  \\n  Maxine spearheaded the transition to a new data warehousing solution, significantly enhancing Insurellm’s data analytics capabilities. This major achievement bolstered her reputation within the company.  \\n\\n- **2022**: *Outstanding*  \\n  Maxine continued her upward trajectory, successfully implementing machine learning algorithms to predict customer behavior, which was well-received by the leadership team and improved client satisfaction.  \\n\\n- **2023**: *Exceeds Expectations*  \\n  Maxine has taken on mentoring responsibilities and is leading a cross-functional team for data governance initiatives, showcasing her leadership and solidifying her role at Insurellm.'),\n",
       " Document(metadata={'source': '../knowledge-base/employees/Maxine Thompson.md', 'doc_type': 'employees'}, page_content='## Compensation History\\n- **2017**: $70,000 (Junior Data Engineer)  \\n- **2018**: $75,000 (Junior Data Engineer)  \\n- **2019**: $80,000 (Data Engineer)  \\n- **2020**: $84,000 (Data Engineer)  \\n- **2021**: $95,000 (Senior Data Engineer)  \\n- **2022**: $110,000 (Senior Data Engineer)  \\n- **2023**: $120,000 (Senior Data Engineer)  \\n\\n## Other HR Notes\\n- Maxine participated in various company-sponsored trainings related to big data technologies and cloud infrastructure.  \\n- She was recognized for her contributions with the “Insurellm Innovator Award” in 2022.  \\n- Maxine is currently involved in the women-in-tech initiative and participates in mentorship programs to guide junior employees.  \\n- Future development areas include improving her stakeholder communication skills to ensure smoother project transitions and collaboration.'),\n",
       " Document(metadata={'source': '../knowledge-base/employees/Samantha Greene.md', 'doc_type': 'employees'}, page_content='# Samantha Greene\\n\\n## Summary\\n- **Date of Birth:** October 14, 1990\\n- **Job Title:** HR Generalist\\n- **Location:** Denver, Colorado\\n\\n## Insurellm Career Progression\\n- **2020** - Joined Insurellm as a HR Coordinator\\n  - Responsibilities included assisting with recruitment processes and managing employee onboarding.\\n- **2021** - Promoted to HR Generalist\\n  - Transitioned to a role with expanded responsibilities, including handling employee relations and benefits administration.\\n- **2022** - Completed the HR Leadership Development Program\\n  - Enhanced skills in conflict resolution and strategic planning.\\n- **2023** - Actively involved in initiating the company’s Diversity and Inclusion programs.\\n  - Samantha Greene played a key role in launching mentorship initiatives and employee resource groups.'),\n",
       " Document(metadata={'source': '../knowledge-base/employees/Samantha Greene.md', 'doc_type': 'employees'}, page_content='## Annual Performance History\\n- **2020:** Exceeds Expectations  \\n  Samantha Greene demonstrated exceptional organizational skills and contributed to a streamlined onboarding process, earning commendations from senior leadership.\\n\\n- **2021:** Meets Expectations  \\n  While proficient in her new role, Samantha Greene struggled with time management during peak recruitment seasons, resulting in occasional missed deadlines. \\n\\n- **2022:** Below Expectations  \\n  Samantha Greene faced challenges in balancing employee relations issues, thereby impacting her performance. Gaps in communication and follow-up led to a push for additional training.\\n\\n- **2023:** Meets Expectations  \\n  After attending workshops focused on conflict resolution, Samantha Greene successfully improved her handling of employee grievances, though minor issues still arose in managing multitasking within projects.'),\n",
       " Document(metadata={'source': '../knowledge-base/employees/Samantha Greene.md', 'doc_type': 'employees'}, page_content='## Compensation History\\n- **2020:** Base Salary - $55,000  \\n  The entry-level salary matched industry standards for HR Coordinators with limited experience.\\n\\n- **2021:** Base Salary - $65,000  \\n  Following her promotion, Samantha Greene received a raise commensurate with her new responsibilities.\\n\\n- **2022:** Base Salary - $65,000  \\n  No increase as a result of performance concerns; however, Samantha Greene continued to receive positive feedback for her participation in diversity initiatives.\\n\\n- **2023:** Base Salary - $70,000  \\n  Recognized for substantial improvement in employee relations management and contributions to company culture, leading to a well-deserved increase.'),\n",
       " Document(metadata={'source': '../knowledge-base/employees/Samantha Greene.md', 'doc_type': 'employees'}, page_content=\"- **2023:** Base Salary - $70,000  \\n  Recognized for substantial improvement in employee relations management and contributions to company culture, leading to a well-deserved increase.\\n\\n## Other HR Notes\\n- Samantha Greene has expressed interest in pursuing an HR certification (SHRM-CP) to further her career growth within Insurellm. \\n- Participated in Insurellm's employee wellness program, promoting mental health resources among staff.\\n- Actively volunteers with local nonprofits and encourages staff involvement in community outreach programs, enhancing Insurellm's corporate social responsibility initiatives. \\n\\nSamantha Greene is a valuable asset to Insurellm, continuously working on professional development and contributing to a supportive workplace culture.\"),\n",
       " Document(metadata={'source': '../knowledge-base/employees/Alex Thomson.md', 'doc_type': 'employees'}, page_content=\"# HR Record\\n\\n# Alex Thomson\\n\\n## Summary\\n- **Date of Birth:** March 15, 1995  \\n- **Job Title:** Sales Development Representative (SDR)  \\n- **Location:** Austin, Texas  \\n\\n## Insurellm Career Progression\\n- **November 2022** - Joined Insurellm as a Sales Development Representative. Alex Thomson quickly adapted to the team, demonstrating exceptional communication and rapport-building skills.\\n- **January 2023** - Promoted to Team Lead for special projects due to Alex's initiative in driving B2B customer outreach programs.  \\n- **August 2023** - Developed a training module for new SDRs at Insurellm, enhancing onboarding processes based on feedback and strategies that Alex Thomson pioneered.  \\n- **Current** - Continues to excel in the role, leading a small team of 5 SDRs while collaborating closely with the marketing department to identify new lead-generation strategies.\"),\n",
       " Document(metadata={'source': '../knowledge-base/employees/Alex Thomson.md', 'doc_type': 'employees'}, page_content='## Annual Performance History  \\n- **2022** - Rated as \"Exceeds Expectations.\" Alex Thomson achieved 150% of the sales target within the first three months.  \\n- **2023** - Rated \"Outstanding.\" Recognized for innovative lead-generation tactics which contributed to a 30% increase in qualified leads for the sales team.  \\n\\n### Highlights:\\n- Consistently maintained a 30-minute response time to inbound leads.\\n- Successfully coordinated webinars for product launches, which attracted over 2,000 potential customers.\\n\\n## Compensation History\\n- **2022**: Base Salary - $55,000 | Bonus - $5,000  \\n- **2023**: Base Salary - $65,000 | Bonus - $10,000 (for exceeding sales targets and exceptional teamwork)  \\n- **Projected for 2024**: Anticipated salary increase due to Alex Thomson\\'s significant contributions and successful completion of leadership training.'),\n",
       " Document(metadata={'source': '../knowledge-base/employees/Alex Thomson.md', 'doc_type': 'employees'}, page_content='## Other HR Notes\\n- Alex Thomson is an active member of the Diversity and Inclusion committee at Insurellm and has participated in various community outreach programs.  \\n- Alex has received external training on advanced CRM usage, which has subsequently improved team efficiency and productivity.\\n- Continuous professional development through attending sales conventions and workshops, with plans to pursue certification in Sales Enablement in 2024.\\n- Recognized by peers for promoting a supportive and high-energy team environment, often organizing team-building activities to enhance camaraderie within the SDR department. \\n\\n--- \\n**Comment:** Alex Thomson is considered a cornerstone of Insurellm’s sales team and has a bright future within the organization.'),\n",
       " Document(metadata={'source': '../knowledge-base/employees/Samuel Trenton.md', 'doc_type': 'employees'}, page_content='# HR Record\\n\\n# Samuel Trenton\\n\\n## Summary\\n- **Date of Birth:** April 12, 1989  \\n- **Job Title:** Senior Data Scientist  \\n- **Location:** Austin, Texas  \\n\\n## Insurellm Career Progression\\n- **January 2020 - Present:** Senior Data Scientist  \\n  *Promoted for demonstrating exceptional analytical skills and leadership potential. Led several projects that improved customer segmentation strategies, resulting in a 15% increase in customer retention.*\\n\\n- **June 2018 - December 2019:** Data Scientist  \\n  *Joined the Insurellm team and worked on developing predictive modeling techniques to assess risk for both B2B and B2C customers. Received recognition for the success of the \"Risk Assessment Model\" project.*\\n\\n- **August 2016 - May 2018:** Junior Data Analyst  \\n  *Started at Insurellm as a Junior Data Analyst, focusing on data cleaning and preliminary analysis of customer data. Received training in various data visualization techniques, which aided in the transition to a Data Scientist role.*'),\n",
       " Document(metadata={'source': '../knowledge-base/employees/Samuel Trenton.md', 'doc_type': 'employees'}, page_content='## Annual Performance History\\n- **2023:** Rating: 4.5/5  \\n  *Samuel exceeded expectations, successfully leading a cross-departmental project on AI-driven underwriting processes.*\\n\\n- **2022:** Rating: 3.0/5  \\n  *Some challenges in meeting deadlines and collaboration with the engineering team. Received constructive feedback and participated in a team communication workshop.*\\n\\n- **2021:** Rating: 4.0/5  \\n  *There was notable improvement in performance. Worked to enhance model accuracy, leading to improved risk assessment outcomes for B2C customers.*\\n\\n- **2020:** Rating: 3.5/5  \\n  *Exhibited a solid performance during the initial year as a Senior Data Scientist but had struggles adapting to new leadership expectations.*\\n\\n## Compensation History\\n- **2023:** Base Salary: $115,000 + Bonus: $15,000  \\n  *Annual bonus based on successful project completions and performance metrics.*'),\n",
       " Document(metadata={'source': '../knowledge-base/employees/Samuel Trenton.md', 'doc_type': 'employees'}, page_content='## Compensation History\\n- **2023:** Base Salary: $115,000 + Bonus: $15,000  \\n  *Annual bonus based on successful project completions and performance metrics.*\\n\\n- **2022:** Base Salary: $110,000 + Bonus: $10,000  \\n  *Slight decrease in bonus due to performance challenges during the year.*\\n\\n- **2021:** Base Salary: $105,000 + Bonus: $12,000  \\n  *Merit-based increase, reflecting consistent contributions to the data science team.*\\n\\n- **2020:** Base Salary: $100,000 + Bonus: $8,000  \\n  *Initial compensation as Senior Data Scientist, with a focus on building rapport with cross-functional teams.*\\n\\n## Other HR Notes\\n- **Professional Development:** Completed several workshops on machine learning and AI applications in insurance. Currently pursuing an online certification in deep learning.\\n\\n- **Engagement in Company Culture:** Regularly participates in team-building events and contributes to the internal newsletter, sharing insights on data science trends.'),\n",
       " Document(metadata={'source': '../knowledge-base/employees/Samuel Trenton.md', 'doc_type': 'employees'}, page_content='- **Engagement in Company Culture:** Regularly participates in team-building events and contributes to the internal newsletter, sharing insights on data science trends.\\n\\n- **Areas for Improvement:** Collaboration with engineering teams has been noted as an area needing focus. Samuel has expressed a desire to work closely with tech teams to align data initiatives better.\\n\\n- **Personal Interests:** Has a keen interest in hiking and photography, often sharing his photography from weekend hikes with colleagues, fostering positive team relationships.'),\n",
       " Document(metadata={'source': '../knowledge-base/employees/Alex Harper.md', 'doc_type': 'employees'}, page_content='# HR Record\\n\\n# Alex Harper\\n\\n## Summary\\n- **Date of Birth**: March 15, 1993  \\n- **Job Title**: Sales Development Representative (SDR)  \\n- **Location**: Denver, Colorado  \\n\\n## Insurellm Career Progression\\n- **July 2021**: Joined Insurellm as a Sales Development Representative, focusing on lead generation and nurturing B2B relationships.  \\n- **January 2022**: Promoted to Senior Sales Development Representative due to exceptional performance in converting leads into clients.  \\n- **October 2022**: Completed an Internal Leadership Training Program, enhancing skills in team collaboration and strategic selling. Currently mentoring junior SDRs.  \\n- **April 2023**: Became involved in a cross-departmental project to streamline the customer onboarding process, showcasing initiative and leadership.'),\n",
       " Document(metadata={'source': '../knowledge-base/employees/Alex Harper.md', 'doc_type': 'employees'}, page_content='## Annual Performance History  \\n- **2021**:  \\n  - **Performance Rating**: 4.5/5  \\n  - **Key Achievements**: Exceeded lead generation targets by 30%. Introduced a new CRM analytics tool resulting in improved tracking of customer interactions.  \\n\\n- **2022**:  \\n  - **Performance Rating**: 4.8/5  \\n  - **Key Achievements**: Awarded \"SDR of the Year\" for outstanding contributions. Instrumental in securing 15 new B2B contracts, surpassing targets by 40%.  \\n\\n- **2023**:  \\n  - **Performance Rating**: 4.7/5  \\n  - **Key Achievements**: Played a key role in the launch of a new product line with a 25% increase in lead-to-conversion rates. Completed advanced sales negotiation training with high marks.  \\n\\n## Compensation History  \\n- **2021**:  \\n  - **Base Salary**: $55,000  \\n  - **Bonus**: $5,500 (10% of base due to performance)  \\n\\n- **2022**:  \\n  - **Base Salary**: $65,000 (Promotion to Senior SDR)  \\n  - **Bonus**: $13,000 (20% of base due to performance)'),\n",
       " Document(metadata={'source': '../knowledge-base/employees/Alex Harper.md', 'doc_type': 'employees'}, page_content='- **2022**:  \\n  - **Base Salary**: $65,000 (Promotion to Senior SDR)  \\n  - **Bonus**: $13,000 (20% of base due to performance)  \\n\\n- **2023**:  \\n  - **Base Salary**: $75,000  \\n  - **Bonus**: $15,000 (20% of base)  \\n\\n## Other HR Notes  \\n- **Training Completed**:  \\n  - CRM Analytics & Data Management Workshop (2021)  \\n  - Leadership Training Program (2022)  \\n  - Advanced Sales Negotiation Course (2023)  \\n\\n- **Awards**:  \\n  - Insurellm \"SDR of the Year\" Award (2022)  \\n  - Monthly MVP Recognition (3 times in 2023)  \\n\\n- **Interests**:  \\n  - In Alex\\'s spare time, they enjoy participating in community volunteer programs, particularly those focused on financial literacy.  \\n  - Alex is also an avid runner and has participated in several charity marathons.  \\n\\n- **Feedback from HR**:  \\n  - Alex Harper is noted for their work ethic, positive attitude, and willingness to go above and beyond for both clients and colleagues. Recognized for fostering a team spirit within the SDR team.'),\n",
       " Document(metadata={'source': '../knowledge-base/employees/Jordan K. Bishop.md', 'doc_type': 'employees'}, page_content=\"# HR Record\\n\\n# Jordan K. Bishop\\n\\n## Summary\\n- **Date of Birth:** March 15, 1990\\n- **Job Title:** Frontend Software Engineer\\n- **Location:** Austin, Texas\\n\\n## Insurellm Career Progression\\n- **June 2018:** Hired as a Frontend Software Engineer.\\n- **August 2019:** Promoted to Senior Frontend Software Engineer due to outstanding contributions to the Insurellm web application redesign project.\\n- **March 2021:** Led a cross-functional team for the launch of Insurellm's customer portal, enhancing user experience and engagement.\\n- **January 2022:** Transitioned to a mentorship role, where Jordan K. Bishop began training junior engineers, which affected the focus on personal projects.\\n- **August 2023:** Returned to core development tasks but faced challenges adapting to new frameworks, leading to performance reviews reflecting a need for improvement.\"),\n",
       " Document(metadata={'source': '../knowledge-base/employees/Jordan K. Bishop.md', 'doc_type': 'employees'}, page_content='## Annual Performance History\\n- **2019:** Exceeds Expectations - Continuously delivered high-quality code and participated actively in team meetings.\\n- **2020:** Meets Expectations - Jordan K. Bishop maintained steady performance but faced challenges due to a higher workload from multiple projects.\\n- **2021:** Exceeds Expectations - Recognized for leadership during the customer portal project; received the “Innovation Award” for creative problem-solving.\\n- **2022:** Meets Expectations - While mentoring others, the shift in focus led to fewer contributions to new features, marking a decrease in performance.\\n- **2023:** Needs Improvement - Transitioning back to development has resulted in difficulties with recent technologies, prompting a performance improvement plan.'),\n",
       " Document(metadata={'source': '../knowledge-base/employees/Jordan K. Bishop.md', 'doc_type': 'employees'}, page_content='## Compensation History\\n- **June 2018:** Starting Salary - $85,000\\n- **June 2019:** Salary Increase - $95,000 (Promotion to Senior Engineer)\\n- **June 2021:** Salary Increase - $105,000 with bonus for project leadership.\\n- **June 2022:** Salary Freeze due to company budget adjustments.\\n- **June 2023:** Salary Adjustment - $92,000 after performance review; adjustments made in consideration of recent struggles with adaptation.'),\n",
       " Document(metadata={'source': '../knowledge-base/employees/Jordan K. Bishop.md', 'doc_type': 'employees'}, page_content=\"## Other HR Notes\\n- Jordan K. Bishop has been an integral part of club initiatives, including the Insurellm Code Reviews and Feedback Group, providing peer support.\\n- Active participant in the company's Diversity and Inclusion committee, promoting a positive work culture.\\n- Jordan has expressed interest in professional development courses, particularly those focused on modern web technologies, which are being considered for sponsorship by Insurellm.\\n- Engaged in a 6-month performance improvement plan as of August 2023, focusing on skill development and consistent performance monitoring. \\n\\nJordan K. Bishop is a valued member of the Insurellm family, exhibiting a commitment to growth and development despite recent challenges.\"),\n",
       " Document(metadata={'source': '../knowledge-base/employees/Emily Carter.md', 'doc_type': 'employees'}, page_content='# HR Record\\n\\n# Emily Carter\\n\\n## Summary\\n- **Date of Birth:** August 12, 1990  \\n- **Job Title:** Account Executive  \\n- **Location:** Austin, Texas  \\n\\n## Insurellm Career Progression\\n- **2021-Present:** Account Executive  \\n  - Responsibilities include managing a portfolio of B2B clients, conducting sales presentations, and ensuring customer satisfaction.  \\n  - Achievements: \\n    - Exceeded annual sales target by 30% in 2022.\\n    - Instrumental in acquiring 15 new corporate clients in half a year.\\n  \\n- **2019-2021:** Sales Coordinator  \\n  - Supported the sales team with administrative tasks, lead generation, and customer follow-ups.\\n  - Achievements:\\n    - Implemented a new lead tracking system that improved workflow efficiency by 25%.  \\n    - Received \"Employee of the Month\" award twice for outstanding contribution to team goals.'),\n",
       " Document(metadata={'source': '../knowledge-base/employees/Emily Carter.md', 'doc_type': 'employees'}, page_content='- **2017-2019:** Marketing Intern  \\n  - Assisted with market research and campaign development for social media outreach.  \\n  - Achievements:  \\n    - Contributed ideas for a social media campaign that increased brand awareness by 40% within 6 months.  \\n\\n## Annual Performance History\\n| Year | Performance Rating | Key Highlights |\\n|------|--------------------|----------------|\\n| 2023 | 4.8/5              | Recognized for exceptional client feedback and teamwork during product launches. |\\n| 2022 | 4.5/5              | Led a successful cross-selling initiative that boosted revenue in existing accounts. |\\n| 2021 | 4.2/5              | Successfully onboarded new clients and established strong relationships that resulted in renewals. |'),\n",
       " Document(metadata={'source': '../knowledge-base/employees/Emily Carter.md', 'doc_type': 'employees'}, page_content='## Compensation History\\n| Year | Base Salary | Bonus         | Total Compensation |\\n|------|-------------|---------------|--------------------|\\n| 2023 | $70,000     | $10,000       | $80,000            |\\n| 2022 | $65,000     | $8,000        | $73,000            |\\n| 2021 | $60,000     | $5,000        | $65,000            |\\n\\n## Other HR Notes\\n- **Professional Development:** Emily is currently enrolled in a leadership training program to enhance her management skills and aims to move into a senior account role within the next 2 years.  \\n- **Volunteer Work:** Actively participates in community outreach programs, representing Insurellm in charity events to promote corporate social responsibility.  \\n- **Interests:** In her spare time, Emily enjoys hiking, photography, and volunteering at local animal shelters.  \\n- **Team Feedback:** Colleagues describe Emily as a highly motivated team player who consistently uplifts everyone around her.'),\n",
       " Document(metadata={'source': '../knowledge-base/employees/Emily Carter.md', 'doc_type': 'employees'}, page_content=\"Emily Carter exemplifies the kind of talent that drives Insurellm's success and is an invaluable asset to the company.\")]"
      ]
     },
     "execution_count": 10,
     "metadata": {},
     "output_type": "execute_result"
    }
   ],
   "source": [
    "chunks"
   ]
  },
  {
   "cell_type": "code",
   "execution_count": 11,
   "id": "cd06e02f-6d9b-44cc-a43d-e1faa8acc7bb",
   "metadata": {},
   "outputs": [
    {
     "data": {
      "text/plain": [
       "123"
      ]
     },
     "execution_count": 11,
     "metadata": {},
     "output_type": "execute_result"
    }
   ],
   "source": [
    "len(chunks)"
   ]
  },
  {
   "cell_type": "code",
   "execution_count": 12,
   "id": "2c54b4b6-06da-463d-bee7-4dd456c2b887",
   "metadata": {},
   "outputs": [
    {
     "name": "stdout",
     "output_type": "stream",
     "text": [
      "Document types found: company, contracts, products, employees\n"
     ]
    }
   ],
   "source": [
    "doc_types = set(chunk.metadata['doc_type'] for chunk in chunks)\n",
    "print(f\"Document types found: {', '.join(doc_types)}\")"
   ]
  },
  {
   "cell_type": "markdown",
   "id": "77f7d2a6-ccfa-425b-a1c3-5e55b23bd013",
   "metadata": {},
   "source": [
    "## A sidenote on Embeddings, and \"Auto-Encoding LLMs\"\n",
    "\n",
    "We will be mapping each chunk of text into a Vector that represents the meaning of the text, known as an embedding.\n",
    "\n",
    "OpenAI offers a model to do this, which we will use by calling their API with some LangChain code.\n",
    "\n",
    "This model is an example of an \"Auto-Encoding LLM\" which generates an output given a complete input.\n",
    "It's different to all the other LLMs we've discussed today, which are known as \"Auto-Regressive LLMs\", and generate future tokens based only on past context.\n",
    "\n",
    "Another example of an Auto-Encoding LLMs is BERT from Google. In addition to embedding, Auto-encoding LLMs are often used for classification.\n",
    "\n",
    "### Sidenote\n",
    "\n",
    "In week 8 we will return to RAG and vector embeddings, and we will use an open-source vector encoder so that the data never leaves our computer - that's an important consideration when building enterprise systems and the data needs to remain internal."
   ]
  },
  {
   "cell_type": "code",
   "execution_count": 13,
   "id": "78998399-ac17-4e28-b15f-0b5f51e6ee23",
   "metadata": {},
   "outputs": [],
   "source": [
    "# Put the chunks of data into a Vector Store that associates a Vector Embedding with each chunk\n",
    "\n",
    "embeddings = OpenAIEmbeddings()\n",
    "\n",
    "# If you would rather use the free Vector Embeddings from HuggingFace sentence-transformers\n",
    "# Then replace embeddings = OpenAIEmbeddings()\n",
    "# with:\n",
    "# from langchain.embeddings import HuggingFaceEmbeddings\n",
    "# embeddings = HuggingFaceEmbeddings(model_name=\"sentence-transformers/all-MiniLM-L6-v2\")"
   ]
  },
  {
   "cell_type": "code",
   "execution_count": 14,
   "id": "763e51ff-5787-4a56-8176-36b7c5796fe3",
   "metadata": {},
   "outputs": [
    {
     "name": "stderr",
     "output_type": "stream",
     "text": [
      "/var/folders/4x/gb45__vd4ygd6rdyb2jzcc300000gn/T/ipykernel_9718/2772129798.py:4: LangChainDeprecationWarning: The class `Chroma` was deprecated in LangChain 0.2.9 and will be removed in 1.0. An updated version of the class exists in the :class:`~langchain-chroma package and should be used instead. To use it run `pip install -U :class:`~langchain-chroma` and import as `from :class:`~langchain_chroma import Chroma``.\n",
      "  Chroma(persist_directory=db_name, embedding_function=embeddings).delete_collection()\n"
     ]
    }
   ],
   "source": [
    "# Check if a Chroma Datastore already exists - if so, delete the collection to start from scratch\n",
    "\n",
    "if os.path.exists(db_name):\n",
    "    Chroma(persist_directory=db_name, embedding_function=embeddings).delete_collection()"
   ]
  },
  {
   "cell_type": "code",
   "execution_count": 15,
   "id": "99fe3a37-480f-4d55-be48-120588d5846b",
   "metadata": {},
   "outputs": [
    {
     "name": "stdout",
     "output_type": "stream",
     "text": [
      "Vectorstore created with 123 documents\n"
     ]
    }
   ],
   "source": [
    "# Create our Chroma vectorstore!\n",
    "\n",
    "vectorstore = Chroma.from_documents(documents=chunks, embedding=embeddings, persist_directory=db_name)\n",
    "print(f\"Vectorstore created with {vectorstore._collection.count()} documents\")"
   ]
  },
  {
   "cell_type": "code",
   "execution_count": 16,
   "id": "057868f6-51a6-4087-94d1-380145821550",
   "metadata": {},
   "outputs": [
    {
     "name": "stdout",
     "output_type": "stream",
     "text": [
      "The vectors have 1,536 dimensions\n"
     ]
    }
   ],
   "source": [
    "# Get one vector and find how many dimensions it has\n",
    "\n",
    "collection = vectorstore._collection\n",
    "sample_embedding = collection.get(limit=1, include=[\"embeddings\"])[\"embeddings\"][0]\n",
    "dimensions = len(sample_embedding)\n",
    "print(f\"The vectors have {dimensions:,} dimensions\")"
   ]
  },
  {
   "cell_type": "markdown",
   "id": "b0d45462-a818-441c-b010-b85b32bcf618",
   "metadata": {},
   "source": [
    "## Visualizing the Vector Store\n",
    "\n",
    "Let's take a minute to look at the documents and their embedding vectors to see what's going on."
   ]
  },
  {
   "cell_type": "code",
   "execution_count": 17,
   "id": "b98adf5e-d464-4bd2-9bdf-bc5b6770263b",
   "metadata": {},
   "outputs": [],
   "source": [
    "# Prework\n",
    "\n",
    "result = collection.get(include=['embeddings', 'documents', 'metadatas'])\n",
    "vectors = np.array(result['embeddings'])\n",
    "documents = result['documents']\n",
    "doc_types = [metadata['doc_type'] for metadata in result['metadatas']]\n",
    "colors = [['blue', 'green', 'red', 'orange'][['products', 'employees', 'contracts', 'company'].index(t)] for t in doc_types]"
   ]
  },
  {
   "cell_type": "code",
   "execution_count": 18,
   "id": "427149d5-e5d8-4abd-bb6f-7ef0333cca21",
   "metadata": {},
   "outputs": [
    {
     "data": {
      "application/vnd.plotly.v1+json": {
       "config": {
        "plotlyServerURL": "https://plot.ly"
       },
       "data": [
        {
         "hoverinfo": "text",
         "marker": {
          "color": [
           "blue",
           "blue",
           "blue",
           "blue",
           "blue",
           "blue",
           "blue",
           "blue",
           "blue",
           "blue",
           "blue",
           "blue",
           "blue",
           "blue",
           "blue",
           "blue",
           "blue",
           "blue",
           "blue",
           "blue",
           "blue",
           "red",
           "red",
           "red",
           "red",
           "red",
           "red",
           "red",
           "red",
           "red",
           "red",
           "red",
           "red",
           "red",
           "red",
           "red",
           "red",
           "red",
           "red",
           "red",
           "red",
           "red",
           "red",
           "red",
           "red",
           "red",
           "red",
           "red",
           "red",
           "red",
           "red",
           "red",
           "red",
           "red",
           "red",
           "red",
           "red",
           "red",
           "red",
           "red",
           "red",
           "red",
           "red",
           "red",
           "red",
           "red",
           "red",
           "red",
           "red",
           "red",
           "red",
           "red",
           "red",
           "orange",
           "orange",
           "orange",
           "green",
           "green",
           "green",
           "green",
           "green",
           "green",
           "green",
           "green",
           "green",
           "green",
           "green",
           "green",
           "green",
           "green",
           "green",
           "green",
           "green",
           "green",
           "green",
           "green",
           "green",
           "green",
           "green",
           "green",
           "green",
           "green",
           "green",
           "green",
           "green",
           "green",
           "green",
           "green",
           "green",
           "green",
           "green",
           "green",
           "green",
           "green",
           "green",
           "green",
           "green",
           "green",
           "green",
           "green",
           "green",
           "green",
           "green"
          ],
          "opacity": 0.8,
          "size": 5
         },
         "mode": "markers",
         "text": [
          "Type: products<br>Text: # Product Summary\n\n# Rellm: AI-Powered Enterprise Reinsurance Solution\n\n## Summary\n\nRellm is an inno...",
          "Type: products<br>Text: ### Seamless Integrations\nRellm's architecture is designed for effortless integration with existing ...",
          "Type: products<br>Text: ### Regulatory Compliance Tools\nRellm includes built-in compliance tracking features to help organiz...",
          "Type: products<br>Text: Join the growing number of organizations leveraging Rellm to enhance their reinsurance processes whi...",
          "Type: products<br>Text: Experience the future of reinsurance with Rellm, where innovation meets reliability. Let Insurellm h...",
          "Type: products<br>Text: # Product Summary\n\n# Markellm\n\n## Summary\n\nMarkellm is an innovative two-sided marketplace designed ...",
          "Type: products<br>Text: - **User-Friendly Interface**: Designed with user experience in mind, Markellm features an intuitive...",
          "Type: products<br>Text: - **Customer Support**: Our dedicated support team is always available to assist both consumers and ...",
          "Type: products<br>Text: ### For Insurance Companies:\n- **Basic Listing Fee**: $199/month for a featured listing on the platf...",
          "Type: products<br>Text: ### Q3 2025\n- Initiate a comprehensive marketing campaign targeting both consumers and insurers to i...",
          "Type: products<br>Text: # Product Summary\n\n# Homellm\n\n## Summary\nHomellm is an innovative home insurance product developed b...",
          "Type: products<br>Text: ### 2. Dynamic Pricing Model\nWith Homellm's innovative dynamic pricing model, insurance providers ca...",
          "Type: products<br>Text: ### 5. Multi-Channel Integration\nHomellm seamlessly integrates into existing insurance platforms, pr...",
          "Type: products<br>Text: - **Basic Tier:** Starting at $5,000/month for small insurers with basic integration features.\n- **S...",
          "Type: products<br>Text: All tiers include a comprehensive training program and ongoing updates to ensure optimal performance...",
          "Type: products<br>Text: With Homellm, Insurellm is committed to transforming the landscape of home insurance, ensuring both ...",
          "Type: products<br>Text: # Product Summary\n\n# Carllm\n\n## Summary\n\nCarllm is an innovative auto insurance product developed by...",
          "Type: products<br>Text: - **Instant Quoting**: With Carllm, insurance companies can offer near-instant quotes to customers, ...",
          "Type: products<br>Text: - **Mobile Integration**: Carllm is designed to work seamlessly with mobile applications, providing ...",
          "Type: products<br>Text: - **Professional Tier**: $2,500/month\n  - For medium-sized companies.\n  - All Basic Tier features pl...",
          "Type: products<br>Text: ### Q2 2025: Customer Experience Improvements\n- Launch of a new **mobile app** for end-users.\n- Intr...",
          "Type: contracts<br>Text: # Contract with GreenField Holdings for Markellm\n\n**Effective Date:** November 15, 2023  \n**Contract...",
          "Type: contracts<br>Text: ## Renewal\n1. **Automatic Renewal**: This contract will automatically renew for sequential one-year ...",
          "Type: contracts<br>Text: ## Features\n1. **AI-Powered Matching**: Access to advanced algorithms that connect GreenField Holdin...",
          "Type: contracts<br>Text: ## Support\n1. **Customer Support Access**: The Client will have access to dedicated support through ...",
          "Type: contracts<br>Text: **Signatures:**  \n_________________________                           _________________________  \n**...",
          "Type: contracts<br>Text: # Contract with Apex Reinsurance for Rellm: AI-Powered Enterprise Reinsurance Solution\n\n## Terms\n\n1....",
          "Type: contracts<br>Text: ## Renewal\n\n1. **Automatic Renewal**: This Agreement will automatically renew for successive one-yea...",
          "Type: contracts<br>Text: 2. **Seamless Integrations**: The architecture of Rellm allows for easy integration with existing sy...",
          "Type: contracts<br>Text: 1. **Technical Support**: Provider shall offer dedicated technical support to the Client via phone, ...",
          "Type: contracts<br>Text: **Insurellm, Inc.**  \n_____________________________  \nAuthorized Signature   \nDate: ________________...",
          "Type: contracts<br>Text: # Contract with Greenstone Insurance for Homellm\n\n---\n\n## Terms\n\n1. **Parties**: This Contract (\"Agr...",
          "Type: contracts<br>Text: 4. **Payment Terms**: \n   - The Customer shall pay an amount of $10,000 per month for the Standard T...",
          "Type: contracts<br>Text: ---\n\n## Features\n\n- **AI-Powered Risk Assessment**: Customer will have access to enhanced risk evalu...",
          "Type: contracts<br>Text: - **Customer Portal**: A dedicated portal will be provided, allowing the Customer's clients to manag...",
          "Type: contracts<br>Text: ______________________________  \n[Name], [Title]  \nDate: ______________________\n\n**For Greenstone In...",
          "Type: contracts<br>Text: # Contract with Roadway Insurance Inc. for Carllm\n\n---\n\n## Terms\n\n1. **Agreement Effective Date**: T...",
          "Type: contracts<br>Text: ---\n\n## Renewal\n\n1. **Automatic Renewal**: This agreement will automatically renew for an additional...",
          "Type: contracts<br>Text: ---\n\n## Features\n\n1. **Access to Core Features**: Roadway Insurance Inc. will have access to all Pro...",
          "Type: contracts<br>Text: ---\n\n## Support\n\n1. **Technical Support**: Roadway Insurance Inc. will receive priority technical su...",
          "Type: contracts<br>Text: # Contract with Stellar Insurance Co. for Rellm\n\n## Terms\nThis contract is made between **Insurellm*...",
          "Type: contracts<br>Text: ### Termination\nEither party may terminate this agreement with a **30-day written notice**. In the e...",
          "Type: contracts<br>Text: ## Features\nStellar Insurance Co. will receive access to the following features of the Rellm product...",
          "Type: contracts<br>Text: ## Support\nInsurellm provides Stellar Insurance Co. with the following support services:\n\n- **24/7 T...",
          "Type: contracts<br>Text: # Contract with TechDrive Insurance for Carllm\n\n**Contract Date:** October 1, 2024  \n**Contract Dura...",
          "Type: contracts<br>Text: ## Renewal\n\n1. **Automatic Renewal**: This contract shall automatically renew for additional one-yea...",
          "Type: contracts<br>Text: ## Support\n\n1. **Customer Support**: Insurellm will provide 24/7 customer support to TechDrive Insur...",
          "Type: contracts<br>Text: **TechDrive Insurance Representative:**  \nName: Sarah Johnson  \nTitle: Operations Director  \nDate: _...",
          "Type: contracts<br>Text: # Contract with Belvedere Insurance for Markellm\n\n## Terms\nThis Contract (\"Agreement\") is made and e...",
          "Type: contracts<br>Text: ## Renewal\n1. **Renewal Terms**: This Agreement may be renewed for additional one-year terms upon mu...",
          "Type: contracts<br>Text: ## Features\n1. **AI-Powered Matching**: Belvedere Insurance will benefit from Markellm's AI-powered ...",
          "Type: contracts<br>Text: ## Support\n1. **Technical Support**: Technical support will be available from 9 AM to 7 PM EST, Mond...",
          "Type: contracts<br>Text: **Belvedere Insurance**  \nSignature: ______________________  \nName: [Authorized Signatory]  \nTitle: ...",
          "Type: contracts<br>Text: # Contract with Velocity Auto Solutions for Carllm\n\n**Contract Date:** October 1, 2023  \n**Contract ...",
          "Type: contracts<br>Text: ## Renewal\n\n1. **Automatic Renewal**: This contract will automatically renew for successive 12-month...",
          "Type: contracts<br>Text: ## Support\n\n1. **Customer Support**: Velocity Auto Solutions will have access to Insurellm’s custome...",
          "Type: contracts<br>Text: # Contract with GreenValley Insurance for Homellm\n\n**Contract Date:** October 6, 2023  \n**Contract N...",
          "Type: contracts<br>Text: 4. **Confidentiality:** Both parties agree to maintain the confidentiality of proprietary informatio...",
          "Type: contracts<br>Text: 1. **AI-Powered Risk Assessment:** Access to advanced AI algorithms for real-time risk evaluations.\n...",
          "Type: contracts<br>Text: 3. **Regular Updates:** Insurellm will offer ongoing updates and enhancements to the Homellm platfor...",
          "Type: contracts<br>Text: # Contract with EverGuard Insurance for Rellm: AI-Powered Enterprise Reinsurance Solution\n\n**Contrac...",
          "Type: contracts<br>Text: 4. **Usage Rights**: EverGuard Insurance is granted a non-exclusive, non-transferable license to acc...",
          "Type: contracts<br>Text: 1. **Core Functionality**: Rellm provides EverGuard Insurance with advanced AI-driven analytics, sea...",
          "Type: contracts<br>Text: 1. **Customer Support**: Insurellm will provide EverGuard Insurance with 24/7 customer support, incl...",
          "Type: contracts<br>Text: ---\n\n**Signatures**  \n**For Insurellm**: __________________________  \n**Name**: John Smith  \n**Title...",
          "Type: contracts<br>Text: # Contract with BrightWay Solutions for Markellm\n\n**Contract Date:** October 5, 2023  \n**Contract ID...",
          "Type: contracts<br>Text: 3. **Service Level Agreement (SLA):**  \n   Insurellm commits to a 99.9% uptime for the platform with...",
          "Type: contracts<br>Text: 2. **Real-Time Quote Availability:**  \n   Consumers sourced via BrightWay Solutions will receive rea...",
          "Type: contracts<br>Text: 3. **Training and Onboarding:**  \n   Insurellm agrees to provide one free training session on how to...",
          "Type: contracts<br>Text: # Contract with Pinnacle Insurance Co. for Homellm\n\n## Terms\nThis contract (\"Contract\") is entered i...",
          "Type: contracts<br>Text: ## Renewal\n1. **Renewal Terms**: At the end of the initial term, this Contract shall automatically r...",
          "Type: contracts<br>Text: ## Features\n1. **AI-Powered Risk Assessment**: Utilized for tailored underwriting decisions specific...",
          "Type: contracts<br>Text: ## Support\n1. **Technical Support**: Insurellm shall provide 24/7 technical support via an email and...",
          "Type: company<br>Text: # Overview of Insurellm\n\nInsurellm is an innovative insurance tech firm with 200 employees across th...",
          "Type: company<br>Text: # Careers at Insurellm\n\nInsurellm is hiring! We are looking for talented software engineers, data sc...",
          "Type: company<br>Text: # About Insurellm\n\nInsurellm was founded by Avery Lancaster in 2015 as an insurance tech startup des...",
          "Type: employees<br>Text: # HR Record\n\n# Alex Chen\n\n## Summary\n- **Date of Birth:** March 15, 1990  \n- **Job Title:** Backend ...",
          "Type: employees<br>Text: ## Annual Performance History\n- **2020:**  \n  - Completed onboarding successfully.  \n  - Met expecta...",
          "Type: employees<br>Text: ## Compensation History\n- **2020:** Base Salary: $80,000  \n- **2021:** Base Salary Increase to $90,0...",
          "Type: employees<br>Text: Alex Chen continues to be a vital asset at Insurellm, contributing significantly to innovative backe...",
          "Type: employees<br>Text: # HR Record\n\n# Oliver Spencer\n\n## Summary\n- **Date of Birth**: May 14, 1990  \n- **Job Title**: Backe...",
          "Type: employees<br>Text: ## Annual Performance History\n- **2018**: **3/5** - Adaptable team player but still learning to take...",
          "Type: employees<br>Text: ## Compensation History\n- **March 2018**: Initial salary of $80,000.\n- **July 2019**: Salary increas...",
          "Type: employees<br>Text: # HR Record\n\n# Emily Tran\n\n## Summary\n- **Date of Birth:** March 18, 1991  \n- **Job Title:** Digital...",
          "Type: employees<br>Text: - **January 2017 - May 2018**: Marketing Intern  \n  - Supported the Marketing team by collaborating ...",
          "Type: employees<br>Text: - **2021**:  \n  - Performance Rating: Meets Expectations  \n  - Key Achievements: Contributed to the ...",
          "Type: employees<br>Text: - **Professional Development Goals**:  \n  - Emily Tran aims to become a Marketing Manager within the...",
          "Type: employees<br>Text: # HR Record\n\n# Jordan Blake\n\n## Summary\n- **Date of Birth:** March 15, 1993  \n- **Job Title:** Sales...",
          "Type: employees<br>Text: ## Annual Performance History\n- **2021:** First year at Insurellm; achieved 90% of monthly targets. ...",
          "Type: employees<br>Text: ## Other HR Notes\n- Jordan has shown an interest in continuing education, actively participating in ...",
          "Type: employees<br>Text: # Avery Lancaster\n\n## Summary\n- **Date of Birth**: March 15, 1985  \n- **Job Title**: Co-Founder & Ch...",
          "Type: employees<br>Text: - **2010 - 2013**: Business Analyst at Edge Analytics  \n  Prior to joining Innovate, Avery worked as...",
          "Type: employees<br>Text: - **2018**: **Exceeds Expectations**  \n  Under Avery’s pivoted vision, Insurellm launched two new su...",
          "Type: employees<br>Text: - **2022**: **Satisfactory**  \n  Avery focused on rebuilding team dynamics and addressing employee c...",
          "Type: employees<br>Text: ## Compensation History\n- **2015**: $150,000 base salary + Significant equity stake  \n- **2016**: $1...",
          "Type: employees<br>Text: ## Other HR Notes\n- **Professional Development**: Avery has actively participated in leadership trai...",
          "Type: employees<br>Text: # HR Record\n\n# Maxine Thompson\n\n## Summary\n- **Date of Birth:** January 15, 1991  \n- **Job Title:** ...",
          "Type: employees<br>Text: ## Insurellm Career Progression\n- **January 2017 - October 2018**: **Junior Data Engineer**  \n  * Ma...",
          "Type: employees<br>Text: ## Annual Performance History\n- **2017**: *Meets Expectations*  \n  Maxine showed potential in her ro...",
          "Type: employees<br>Text: - **2021**: *Exceeds Expectations*  \n  Maxine spearheaded the transition to a new data warehousing s...",
          "Type: employees<br>Text: ## Compensation History\n- **2017**: $70,000 (Junior Data Engineer)  \n- **2018**: $75,000 (Junior Dat...",
          "Type: employees<br>Text: # Samantha Greene\n\n## Summary\n- **Date of Birth:** October 14, 1990\n- **Job Title:** HR Generalist\n-...",
          "Type: employees<br>Text: ## Annual Performance History\n- **2020:** Exceeds Expectations  \n  Samantha Greene demonstrated exce...",
          "Type: employees<br>Text: ## Compensation History\n- **2020:** Base Salary - $55,000  \n  The entry-level salary matched industr...",
          "Type: employees<br>Text: - **2023:** Base Salary - $70,000  \n  Recognized for substantial improvement in employee relations m...",
          "Type: employees<br>Text: # HR Record\n\n# Alex Thomson\n\n## Summary\n- **Date of Birth:** March 15, 1995  \n- **Job Title:** Sales...",
          "Type: employees<br>Text: ## Annual Performance History  \n- **2022** - Rated as \"Exceeds Expectations.\" Alex Thomson achieved ...",
          "Type: employees<br>Text: ## Other HR Notes\n- Alex Thomson is an active member of the Diversity and Inclusion committee at Ins...",
          "Type: employees<br>Text: # HR Record\n\n# Samuel Trenton\n\n## Summary\n- **Date of Birth:** April 12, 1989  \n- **Job Title:** Sen...",
          "Type: employees<br>Text: ## Annual Performance History\n- **2023:** Rating: 4.5/5  \n  *Samuel exceeded expectations, successfu...",
          "Type: employees<br>Text: ## Compensation History\n- **2023:** Base Salary: $115,000 + Bonus: $15,000  \n  *Annual bonus based o...",
          "Type: employees<br>Text: - **Engagement in Company Culture:** Regularly participates in team-building events and contributes ...",
          "Type: employees<br>Text: # HR Record\n\n# Alex Harper\n\n## Summary\n- **Date of Birth**: March 15, 1993  \n- **Job Title**: Sales ...",
          "Type: employees<br>Text: ## Annual Performance History  \n- **2021**:  \n  - **Performance Rating**: 4.5/5  \n  - **Key Achievem...",
          "Type: employees<br>Text: - **2022**:  \n  - **Base Salary**: $65,000 (Promotion to Senior SDR)  \n  - **Bonus**: $13,000 (20% o...",
          "Type: employees<br>Text: # HR Record\n\n# Jordan K. Bishop\n\n## Summary\n- **Date of Birth:** March 15, 1990\n- **Job Title:** Fro...",
          "Type: employees<br>Text: ## Annual Performance History\n- **2019:** Exceeds Expectations - Continuously delivered high-quality...",
          "Type: employees<br>Text: ## Compensation History\n- **June 2018:** Starting Salary - $85,000\n- **June 2019:** Salary Increase ...",
          "Type: employees<br>Text: ## Other HR Notes\n- Jordan K. Bishop has been an integral part of club initiatives, including the In...",
          "Type: employees<br>Text: # HR Record\n\n# Emily Carter\n\n## Summary\n- **Date of Birth:** August 12, 1990  \n- **Job Title:** Acco...",
          "Type: employees<br>Text: - **2017-2019:** Marketing Intern  \n  - Assisted with market research and campaign development for s...",
          "Type: employees<br>Text: ## Compensation History\n| Year | Base Salary | Bonus         | Total Compensation |\n|------|--------...",
          "Type: employees<br>Text: Emily Carter exemplifies the kind of talent that drives Insurellm's success and is an invaluable ass..."
         ],
         "type": "scatter",
         "x": {
          "bdata": "aSChQFxcckBCfYhADYiaQAaL5D+DU1hA4J9AQNulFkBm8MU/T2R9QJUPrkA717dALRDAQDHP7UBlh+pAiNcuP4q7ykAz5tBAZojkQB//6EC9AbVAonyAPSpUO8CsCoBAUvg5P5eRgEBEraJAQl2qQOukWUCRpApATLJ4QE6NA79LNOO/eaC7QO84GD8/V4tAPy8LQeIlDEFnavJApE3cQCpLWkCELn5ADntcQHt1PkDaTvtAqS/uQAor1EAtJtlArucgP4oTVsBfxzhAiR/iP2KfkEB98vxAQmboQPGcy0ArJW2/FmAov0wRnUDycFa+J4+NQB7Bj0BvToBADAxbQFg/bUBkkps/3c8QQTspEEFPq60/oKYYvkdnSsALrrdARsSaP2cbZT/5Pbw+/LRQPxM7rcB+/Gy+4dqFwBUwKr8UZrrAsu54vi/dkcC2xBbAbWrPvyziRMBro9q/CY2RwCngbMAn1n/Apd5rP5ZToj+Tndw/HIzuP1XXjsBFdGQ/UHvtvwdIP7/OgXE+Kl3fPq35I8BPL77AjghPv3XwtcAe17TAbq2AwA3wDcAIhV7AS+i1wEU3J8DID1bAQhXlwEsZiMB7lkDANUN+wBWOqMCN7aI+FE50wOukksAOf0nAmE6Iv2U7jcBy1m+/",
          "dtype": "f4"
         },
         "y": {
          "bdata": "clvIQNkg1UDQBMNA66X1QC8r4j8MohRBbVYUQaklFkF/cBJBxtMKQbyzG0FvfilBrvseQVwRFUEHZCBBdkLpP/2Y30CFsOdAZdL1QH4C/UAVWgBB7k3cQPDb3kCYvjlB0XgRQVjpf78HaG1ApKmbQNz9zkDblIhAs/UAv4rvoUCDirNAf4QwQY03jEB42pq/BQVMQGLOkECeMr5AqBFeQBmxMUBTBipA+iKtQAXdaEC0rx9AIjqPQIgHBUAZs6c//xfuQMTT40D2ZCNBZfFxQER9GL7HgEFAYECXQO50I0Cc4oZAj953QFW/MUEfvVRAA09yQMD7lEC1R6pACo2DQNxTaD95uddAtivQQLPq7UBjUMVACjOhQEHJ4UAgtz1BQBp+QIV7KD//eqS+00rBPnRkmcC1MQPBtXIWwWElFsAeB5bAtNoBwd18GcE1CrPAzzW6wPrr/MDLganAnQyqwJosC8GtGFHAXAqMwOi20MCpkOLAoCjjwI0OKcHHZ5PAwChCwecOLcEPNRbB78YewbmvLMEls/LASHERwcZgEMFu4gXBahWfwFyQB8Hqe4nAHCe5wK1dFsFpRR7BRULOwNYYssCRCA3BKSLuwL4WfcBCOgXBfTAsweMuSMChMbjACPbYwAXOCcGGqTHA",
          "dtype": "f4"
         }
        }
       ],
       "layout": {
        "height": 600,
        "margin": {
         "b": 10,
         "l": 10,
         "r": 20,
         "t": 40
        },
        "scene": {
         "xaxis": {
          "title": {
           "text": "x"
          }
         },
         "yaxis": {
          "title": {
           "text": "y"
          }
         }
        },
        "template": {
         "data": {
          "bar": [
           {
            "error_x": {
             "color": "#2a3f5f"
            },
            "error_y": {
             "color": "#2a3f5f"
            },
            "marker": {
             "line": {
              "color": "#E5ECF6",
              "width": 0.5
             },
             "pattern": {
              "fillmode": "overlay",
              "size": 10,
              "solidity": 0.2
             }
            },
            "type": "bar"
           }
          ],
          "barpolar": [
           {
            "marker": {
             "line": {
              "color": "#E5ECF6",
              "width": 0.5
             },
             "pattern": {
              "fillmode": "overlay",
              "size": 10,
              "solidity": 0.2
             }
            },
            "type": "barpolar"
           }
          ],
          "carpet": [
           {
            "aaxis": {
             "endlinecolor": "#2a3f5f",
             "gridcolor": "white",
             "linecolor": "white",
             "minorgridcolor": "white",
             "startlinecolor": "#2a3f5f"
            },
            "baxis": {
             "endlinecolor": "#2a3f5f",
             "gridcolor": "white",
             "linecolor": "white",
             "minorgridcolor": "white",
             "startlinecolor": "#2a3f5f"
            },
            "type": "carpet"
           }
          ],
          "choropleth": [
           {
            "colorbar": {
             "outlinewidth": 0,
             "ticks": ""
            },
            "type": "choropleth"
           }
          ],
          "contour": [
           {
            "colorbar": {
             "outlinewidth": 0,
             "ticks": ""
            },
            "colorscale": [
             [
              0,
              "#0d0887"
             ],
             [
              0.1111111111111111,
              "#46039f"
             ],
             [
              0.2222222222222222,
              "#7201a8"
             ],
             [
              0.3333333333333333,
              "#9c179e"
             ],
             [
              0.4444444444444444,
              "#bd3786"
             ],
             [
              0.5555555555555556,
              "#d8576b"
             ],
             [
              0.6666666666666666,
              "#ed7953"
             ],
             [
              0.7777777777777778,
              "#fb9f3a"
             ],
             [
              0.8888888888888888,
              "#fdca26"
             ],
             [
              1,
              "#f0f921"
             ]
            ],
            "type": "contour"
           }
          ],
          "contourcarpet": [
           {
            "colorbar": {
             "outlinewidth": 0,
             "ticks": ""
            },
            "type": "contourcarpet"
           }
          ],
          "heatmap": [
           {
            "colorbar": {
             "outlinewidth": 0,
             "ticks": ""
            },
            "colorscale": [
             [
              0,
              "#0d0887"
             ],
             [
              0.1111111111111111,
              "#46039f"
             ],
             [
              0.2222222222222222,
              "#7201a8"
             ],
             [
              0.3333333333333333,
              "#9c179e"
             ],
             [
              0.4444444444444444,
              "#bd3786"
             ],
             [
              0.5555555555555556,
              "#d8576b"
             ],
             [
              0.6666666666666666,
              "#ed7953"
             ],
             [
              0.7777777777777778,
              "#fb9f3a"
             ],
             [
              0.8888888888888888,
              "#fdca26"
             ],
             [
              1,
              "#f0f921"
             ]
            ],
            "type": "heatmap"
           }
          ],
          "histogram": [
           {
            "marker": {
             "pattern": {
              "fillmode": "overlay",
              "size": 10,
              "solidity": 0.2
             }
            },
            "type": "histogram"
           }
          ],
          "histogram2d": [
           {
            "colorbar": {
             "outlinewidth": 0,
             "ticks": ""
            },
            "colorscale": [
             [
              0,
              "#0d0887"
             ],
             [
              0.1111111111111111,
              "#46039f"
             ],
             [
              0.2222222222222222,
              "#7201a8"
             ],
             [
              0.3333333333333333,
              "#9c179e"
             ],
             [
              0.4444444444444444,
              "#bd3786"
             ],
             [
              0.5555555555555556,
              "#d8576b"
             ],
             [
              0.6666666666666666,
              "#ed7953"
             ],
             [
              0.7777777777777778,
              "#fb9f3a"
             ],
             [
              0.8888888888888888,
              "#fdca26"
             ],
             [
              1,
              "#f0f921"
             ]
            ],
            "type": "histogram2d"
           }
          ],
          "histogram2dcontour": [
           {
            "colorbar": {
             "outlinewidth": 0,
             "ticks": ""
            },
            "colorscale": [
             [
              0,
              "#0d0887"
             ],
             [
              0.1111111111111111,
              "#46039f"
             ],
             [
              0.2222222222222222,
              "#7201a8"
             ],
             [
              0.3333333333333333,
              "#9c179e"
             ],
             [
              0.4444444444444444,
              "#bd3786"
             ],
             [
              0.5555555555555556,
              "#d8576b"
             ],
             [
              0.6666666666666666,
              "#ed7953"
             ],
             [
              0.7777777777777778,
              "#fb9f3a"
             ],
             [
              0.8888888888888888,
              "#fdca26"
             ],
             [
              1,
              "#f0f921"
             ]
            ],
            "type": "histogram2dcontour"
           }
          ],
          "mesh3d": [
           {
            "colorbar": {
             "outlinewidth": 0,
             "ticks": ""
            },
            "type": "mesh3d"
           }
          ],
          "parcoords": [
           {
            "line": {
             "colorbar": {
              "outlinewidth": 0,
              "ticks": ""
             }
            },
            "type": "parcoords"
           }
          ],
          "pie": [
           {
            "automargin": true,
            "type": "pie"
           }
          ],
          "scatter": [
           {
            "fillpattern": {
             "fillmode": "overlay",
             "size": 10,
             "solidity": 0.2
            },
            "type": "scatter"
           }
          ],
          "scatter3d": [
           {
            "line": {
             "colorbar": {
              "outlinewidth": 0,
              "ticks": ""
             }
            },
            "marker": {
             "colorbar": {
              "outlinewidth": 0,
              "ticks": ""
             }
            },
            "type": "scatter3d"
           }
          ],
          "scattercarpet": [
           {
            "marker": {
             "colorbar": {
              "outlinewidth": 0,
              "ticks": ""
             }
            },
            "type": "scattercarpet"
           }
          ],
          "scattergeo": [
           {
            "marker": {
             "colorbar": {
              "outlinewidth": 0,
              "ticks": ""
             }
            },
            "type": "scattergeo"
           }
          ],
          "scattergl": [
           {
            "marker": {
             "colorbar": {
              "outlinewidth": 0,
              "ticks": ""
             }
            },
            "type": "scattergl"
           }
          ],
          "scattermap": [
           {
            "marker": {
             "colorbar": {
              "outlinewidth": 0,
              "ticks": ""
             }
            },
            "type": "scattermap"
           }
          ],
          "scattermapbox": [
           {
            "marker": {
             "colorbar": {
              "outlinewidth": 0,
              "ticks": ""
             }
            },
            "type": "scattermapbox"
           }
          ],
          "scatterpolar": [
           {
            "marker": {
             "colorbar": {
              "outlinewidth": 0,
              "ticks": ""
             }
            },
            "type": "scatterpolar"
           }
          ],
          "scatterpolargl": [
           {
            "marker": {
             "colorbar": {
              "outlinewidth": 0,
              "ticks": ""
             }
            },
            "type": "scatterpolargl"
           }
          ],
          "scatterternary": [
           {
            "marker": {
             "colorbar": {
              "outlinewidth": 0,
              "ticks": ""
             }
            },
            "type": "scatterternary"
           }
          ],
          "surface": [
           {
            "colorbar": {
             "outlinewidth": 0,
             "ticks": ""
            },
            "colorscale": [
             [
              0,
              "#0d0887"
             ],
             [
              0.1111111111111111,
              "#46039f"
             ],
             [
              0.2222222222222222,
              "#7201a8"
             ],
             [
              0.3333333333333333,
              "#9c179e"
             ],
             [
              0.4444444444444444,
              "#bd3786"
             ],
             [
              0.5555555555555556,
              "#d8576b"
             ],
             [
              0.6666666666666666,
              "#ed7953"
             ],
             [
              0.7777777777777778,
              "#fb9f3a"
             ],
             [
              0.8888888888888888,
              "#fdca26"
             ],
             [
              1,
              "#f0f921"
             ]
            ],
            "type": "surface"
           }
          ],
          "table": [
           {
            "cells": {
             "fill": {
              "color": "#EBF0F8"
             },
             "line": {
              "color": "white"
             }
            },
            "header": {
             "fill": {
              "color": "#C8D4E3"
             },
             "line": {
              "color": "white"
             }
            },
            "type": "table"
           }
          ]
         },
         "layout": {
          "annotationdefaults": {
           "arrowcolor": "#2a3f5f",
           "arrowhead": 0,
           "arrowwidth": 1
          },
          "autotypenumbers": "strict",
          "coloraxis": {
           "colorbar": {
            "outlinewidth": 0,
            "ticks": ""
           }
          },
          "colorscale": {
           "diverging": [
            [
             0,
             "#8e0152"
            ],
            [
             0.1,
             "#c51b7d"
            ],
            [
             0.2,
             "#de77ae"
            ],
            [
             0.3,
             "#f1b6da"
            ],
            [
             0.4,
             "#fde0ef"
            ],
            [
             0.5,
             "#f7f7f7"
            ],
            [
             0.6,
             "#e6f5d0"
            ],
            [
             0.7,
             "#b8e186"
            ],
            [
             0.8,
             "#7fbc41"
            ],
            [
             0.9,
             "#4d9221"
            ],
            [
             1,
             "#276419"
            ]
           ],
           "sequential": [
            [
             0,
             "#0d0887"
            ],
            [
             0.1111111111111111,
             "#46039f"
            ],
            [
             0.2222222222222222,
             "#7201a8"
            ],
            [
             0.3333333333333333,
             "#9c179e"
            ],
            [
             0.4444444444444444,
             "#bd3786"
            ],
            [
             0.5555555555555556,
             "#d8576b"
            ],
            [
             0.6666666666666666,
             "#ed7953"
            ],
            [
             0.7777777777777778,
             "#fb9f3a"
            ],
            [
             0.8888888888888888,
             "#fdca26"
            ],
            [
             1,
             "#f0f921"
            ]
           ],
           "sequentialminus": [
            [
             0,
             "#0d0887"
            ],
            [
             0.1111111111111111,
             "#46039f"
            ],
            [
             0.2222222222222222,
             "#7201a8"
            ],
            [
             0.3333333333333333,
             "#9c179e"
            ],
            [
             0.4444444444444444,
             "#bd3786"
            ],
            [
             0.5555555555555556,
             "#d8576b"
            ],
            [
             0.6666666666666666,
             "#ed7953"
            ],
            [
             0.7777777777777778,
             "#fb9f3a"
            ],
            [
             0.8888888888888888,
             "#fdca26"
            ],
            [
             1,
             "#f0f921"
            ]
           ]
          },
          "colorway": [
           "#636efa",
           "#EF553B",
           "#00cc96",
           "#ab63fa",
           "#FFA15A",
           "#19d3f3",
           "#FF6692",
           "#B6E880",
           "#FF97FF",
           "#FECB52"
          ],
          "font": {
           "color": "#2a3f5f"
          },
          "geo": {
           "bgcolor": "white",
           "lakecolor": "white",
           "landcolor": "#E5ECF6",
           "showlakes": true,
           "showland": true,
           "subunitcolor": "white"
          },
          "hoverlabel": {
           "align": "left"
          },
          "hovermode": "closest",
          "mapbox": {
           "style": "light"
          },
          "paper_bgcolor": "white",
          "plot_bgcolor": "#E5ECF6",
          "polar": {
           "angularaxis": {
            "gridcolor": "white",
            "linecolor": "white",
            "ticks": ""
           },
           "bgcolor": "#E5ECF6",
           "radialaxis": {
            "gridcolor": "white",
            "linecolor": "white",
            "ticks": ""
           }
          },
          "scene": {
           "xaxis": {
            "backgroundcolor": "#E5ECF6",
            "gridcolor": "white",
            "gridwidth": 2,
            "linecolor": "white",
            "showbackground": true,
            "ticks": "",
            "zerolinecolor": "white"
           },
           "yaxis": {
            "backgroundcolor": "#E5ECF6",
            "gridcolor": "white",
            "gridwidth": 2,
            "linecolor": "white",
            "showbackground": true,
            "ticks": "",
            "zerolinecolor": "white"
           },
           "zaxis": {
            "backgroundcolor": "#E5ECF6",
            "gridcolor": "white",
            "gridwidth": 2,
            "linecolor": "white",
            "showbackground": true,
            "ticks": "",
            "zerolinecolor": "white"
           }
          },
          "shapedefaults": {
           "line": {
            "color": "#2a3f5f"
           }
          },
          "ternary": {
           "aaxis": {
            "gridcolor": "white",
            "linecolor": "white",
            "ticks": ""
           },
           "baxis": {
            "gridcolor": "white",
            "linecolor": "white",
            "ticks": ""
           },
           "bgcolor": "#E5ECF6",
           "caxis": {
            "gridcolor": "white",
            "linecolor": "white",
            "ticks": ""
           }
          },
          "title": {
           "x": 0.05
          },
          "xaxis": {
           "automargin": true,
           "gridcolor": "white",
           "linecolor": "white",
           "ticks": "",
           "title": {
            "standoff": 15
           },
           "zerolinecolor": "white",
           "zerolinewidth": 2
          },
          "yaxis": {
           "automargin": true,
           "gridcolor": "white",
           "linecolor": "white",
           "ticks": "",
           "title": {
            "standoff": 15
           },
           "zerolinecolor": "white",
           "zerolinewidth": 2
          }
         }
        },
        "title": {
         "text": "2D Chroma Vector Store Visualization"
        },
        "width": 800
       }
      }
     },
     "metadata": {},
     "output_type": "display_data"
    }
   ],
   "source": [
    "def new_func():\n",
    "    # We humans find it easier to visalize things in 2D!\n",
    "# Reduce the dimensionality of the vectors to 2D using t-SNE\n",
    "# (t-distributed stochastic neighbor embedding)\n",
    "    tsne = TSNE(n_components=2, random_state=42)\n",
    "    reduced_vectors = tsne.fit_transform(vectors)\n",
    "\n",
    "# Create the 2D scatter plot\n",
    "    fig = go.Figure(data=[go.Scatter(\n",
    "    x=reduced_vectors[:, 0],\n",
    "    y=reduced_vectors[:, 1],\n",
    "    mode='markers',\n",
    "    marker=dict(size=5, color=colors, opacity=0.8),\n",
    "    text=[f\"Type: {t}<br>Text: {d[:100]}...\" for t, d in zip(doc_types, documents)],\n",
    "    hoverinfo='text'\n",
    ")])\n",
    "\n",
    "    fig.update_layout(\n",
    "    title='2D Chroma Vector Store Visualization',\n",
    "    scene=dict(xaxis_title='x',yaxis_title='y'),\n",
    "    width=800,\n",
    "    height=600,\n",
    "    margin=dict(r=20, b=10, l=10, t=40)\n",
    ")\n",
    "\n",
    "    fig.show()\n",
    "\n",
    "new_func()"
   ]
  },
  {
   "cell_type": "code",
   "execution_count": 21,
   "id": "2fcaebcb",
   "metadata": {},
   "outputs": [
    {
     "data": {
      "application/vnd.plotly.v1+json": {
       "config": {
        "plotlyServerURL": "https://plot.ly"
       },
       "data": [
        {
         "fill": "toself",
         "fillcolor": "#1f77b4",
         "line": {
          "color": "#1f77b4",
          "width": 2
         },
         "name": "Cluster 0 boundary",
         "opacity": 0.2,
         "showlegend": true,
         "type": "scatter",
         "x": {
          "bdata": "Py8LQd3PEEGu5yA/ihNWwPJwVr6XkYBAP1eLQA==",
          "dtype": "f4"
         },
         "y": {
          "bdata": "BQVMQLYr0ED/F+5AxNPjQB+9VEBY6X+/eNqavw==",
          "dtype": "f4"
         }
        },
        {
         "hoverinfo": "text",
         "marker": {
          "color": "#1f77b4",
          "opacity": 0.8,
          "size": 8
         },
         "mode": "markers",
         "name": "Cluster 0 points",
         "text": [
          "Cluster: 0<br>Text: # Contract with GreenField Holdings for Markellm\n\n**Effective Date:** November 15, 2023  \n**Contract...",
          "Cluster: 0<br>Text: ## Renewal\n1. **Automatic Renewal**: This contract will automatically renew for sequential one-year ...",
          "Cluster: 0<br>Text: **Signatures:**  \n_________________________                           _________________________  \n**...",
          "Cluster: 0<br>Text: 1. **Technical Support**: Provider shall offer dedicated technical support to the Client via phone, ...",
          "Cluster: 0<br>Text: **Insurellm, Inc.**  \n_____________________________  \nAuthorized Signature   \nDate: ________________...",
          "Cluster: 0<br>Text: # Contract with Greenstone Insurance for Homellm\n\n---\n\n## Terms\n\n1. **Parties**: This Contract (\"Agr...",
          "Cluster: 0<br>Text: 4. **Payment Terms**: \n   - The Customer shall pay an amount of $10,000 per month for the Standard T...",
          "Cluster: 0<br>Text: - **Customer Portal**: A dedicated portal will be provided, allowing the Customer's clients to manag...",
          "Cluster: 0<br>Text: ______________________________  \n[Name], [Title]  \nDate: ______________________\n\n**For Greenstone In...",
          "Cluster: 0<br>Text: # Contract with Roadway Insurance Inc. for Carllm\n\n---\n\n## Terms\n\n1. **Agreement Effective Date**: T...",
          "Cluster: 0<br>Text: ---\n\n## Renewal\n\n1. **Automatic Renewal**: This agreement will automatically renew for an additional...",
          "Cluster: 0<br>Text: ---\n\n## Support\n\n1. **Technical Support**: Roadway Insurance Inc. will receive priority technical su...",
          "Cluster: 0<br>Text: # Contract with TechDrive Insurance for Carllm\n\n**Contract Date:** October 1, 2024  \n**Contract Dura...",
          "Cluster: 0<br>Text: ## Renewal\n\n1. **Automatic Renewal**: This contract shall automatically renew for additional one-yea...",
          "Cluster: 0<br>Text: ## Support\n\n1. **Customer Support**: Insurellm will provide 24/7 customer support to TechDrive Insur...",
          "Cluster: 0<br>Text: **TechDrive Insurance Representative:**  \nName: Sarah Johnson  \nTitle: Operations Director  \nDate: _...",
          "Cluster: 0<br>Text: # Contract with Belvedere Insurance for Markellm\n\n## Terms\nThis Contract (\"Agreement\") is made and e...",
          "Cluster: 0<br>Text: ## Renewal\n1. **Renewal Terms**: This Agreement may be renewed for additional one-year terms upon mu...",
          "Cluster: 0<br>Text: ## Support\n1. **Technical Support**: Technical support will be available from 9 AM to 7 PM EST, Mond...",
          "Cluster: 0<br>Text: **Belvedere Insurance**  \nSignature: ______________________  \nName: [Authorized Signatory]  \nTitle: ...",
          "Cluster: 0<br>Text: # Contract with Velocity Auto Solutions for Carllm\n\n**Contract Date:** October 1, 2023  \n**Contract ...",
          "Cluster: 0<br>Text: ## Renewal\n\n1. **Automatic Renewal**: This contract will automatically renew for successive 12-month...",
          "Cluster: 0<br>Text: ## Support\n\n1. **Customer Support**: Velocity Auto Solutions will have access to Insurellm’s custome...",
          "Cluster: 0<br>Text: # Contract with GreenValley Insurance for Homellm\n\n**Contract Date:** October 6, 2023  \n**Contract N...",
          "Cluster: 0<br>Text: 4. **Confidentiality:** Both parties agree to maintain the confidentiality of proprietary informatio...",
          "Cluster: 0<br>Text: 3. **Regular Updates:** Insurellm will offer ongoing updates and enhancements to the Homellm platfor...",
          "Cluster: 0<br>Text: ---\n\n**Signatures**  \n**For Insurellm**: __________________________  \n**Name**: John Smith  \n**Title...",
          "Cluster: 0<br>Text: # Contract with BrightWay Solutions for Markellm\n\n**Contract Date:** October 5, 2023  \n**Contract ID...",
          "Cluster: 0<br>Text: 3. **Service Level Agreement (SLA):**  \n   Insurellm commits to a 99.9% uptime for the platform with...",
          "Cluster: 0<br>Text: 3. **Training and Onboarding:**  \n   Insurellm agrees to provide one free training session on how to...",
          "Cluster: 0<br>Text: # Contract with Pinnacle Insurance Co. for Homellm\n\n## Terms\nThis contract (\"Contract\") is entered i...",
          "Cluster: 0<br>Text: ## Renewal\n1. **Renewal Terms**: At the end of the initial term, this Contract shall automatically r...",
          "Cluster: 0<br>Text: ## Support\n1. **Technical Support**: Insurellm shall provide 24/7 technical support via an email and..."
         ],
         "type": "scatter",
         "x": {
          "bdata": "onyAPSpUO8CXkYBAkaQKQEyyeEBOjQO/SzTjv+84GD8/V4tAPy8LQeIlDEGkTdxA2k77QKkv7kAKK9RALSbZQK7nID+KE1bAiR/iP2KfkEB98vxAQmboQPGcy0ArJW2/FmAov/JwVr5YP21AZJKbP93PEEFPq60/oKYYvkdnSsBGxJo/",
          "dtype": "f4"
         },
         "y": {
          "bdata": "7k3cQPDb3kBY6X+/25SIQLP1AL+K76FAg4qzQI03jEB42pq/BQVMQGLOkECoEV5AtK8fQCI6j0CIBwVAGbOnP/8X7kDE0+NAZfFxQER9GL7HgEFAYECXQO50I0Cc4oZAj953QB+9VEDcU2g/ebnXQLYr0EBjUMVACjOhQEHJ4UBAGn5A",
          "dtype": "f4"
         }
        },
        {
         "hoverinfo": "text",
         "marker": {
          "color": "#1f77b4",
          "line": {
           "color": "white",
           "width": 2
          },
          "size": 15,
          "symbol": "star"
         },
         "mode": "markers",
         "name": "Center 0",
         "text": "Center of Cluster 0",
         "type": "scatter",
         "x": [
          3.3137333393096924
         ],
         "y": [
          3.623966693878174
         ]
        },
        {
         "fill": "toself",
         "fillcolor": "#ff7f0e",
         "line": {
          "color": "#ff7f0e",
          "width": 2
         },
         "name": "Cluster 1 boundary",
         "opacity": 0.2,
         "showlegend": true,
         "type": "scatter",
         "x": {
          "bdata": "FGa6wE8vvsB18LXAVdeOwFB77b8HSD+/tsQWwCfWf8DrpJLAFY6owA==",
          "dtype": "f4"
         },
         "y": {
          "bdata": "HgeWwCWz8sDGYBDBjQ4pwcAoQsHnDi3BNQqzwK0YUcDjLkjAvhZ9wA==",
          "dtype": "f4"
         }
        },
        {
         "hoverinfo": "text",
         "marker": {
          "color": "#ff7f0e",
          "opacity": 0.8,
          "size": 8
         },
         "mode": "markers",
         "name": "Cluster 1 points",
         "text": [
          "Cluster: 1<br>Text: # HR Record\n\n# Alex Chen\n\n## Summary\n- **Date of Birth:** March 15, 1990  \n- **Job Title:** Backend ...",
          "Cluster: 1<br>Text: ## Compensation History\n- **2020:** Base Salary: $80,000  \n- **2021:** Base Salary Increase to $90,0...",
          "Cluster: 1<br>Text: # HR Record\n\n# Oliver Spencer\n\n## Summary\n- **Date of Birth**: May 14, 1990  \n- **Job Title**: Backe...",
          "Cluster: 1<br>Text: ## Compensation History\n- **March 2018**: Initial salary of $80,000.\n- **July 2019**: Salary increas...",
          "Cluster: 1<br>Text: # HR Record\n\n# Emily Tran\n\n## Summary\n- **Date of Birth:** March 18, 1991  \n- **Job Title:** Digital...",
          "Cluster: 1<br>Text: - **2021**:  \n  - Performance Rating: Meets Expectations  \n  - Key Achievements: Contributed to the ...",
          "Cluster: 1<br>Text: # HR Record\n\n# Jordan Blake\n\n## Summary\n- **Date of Birth:** March 15, 1993  \n- **Job Title:** Sales...",
          "Cluster: 1<br>Text: ## Annual Performance History\n- **2021:** First year at Insurellm; achieved 90% of monthly targets. ...",
          "Cluster: 1<br>Text: ## Other HR Notes\n- Jordan has shown an interest in continuing education, actively participating in ...",
          "Cluster: 1<br>Text: ## Compensation History\n- **2015**: $150,000 base salary + Significant equity stake  \n- **2016**: $1...",
          "Cluster: 1<br>Text: # HR Record\n\n# Maxine Thompson\n\n## Summary\n- **Date of Birth:** January 15, 1991  \n- **Job Title:** ...",
          "Cluster: 1<br>Text: ## Insurellm Career Progression\n- **January 2017 - October 2018**: **Junior Data Engineer**  \n  * Ma...",
          "Cluster: 1<br>Text: ## Compensation History\n- **2017**: $70,000 (Junior Data Engineer)  \n- **2018**: $75,000 (Junior Dat...",
          "Cluster: 1<br>Text: # Samantha Greene\n\n## Summary\n- **Date of Birth:** October 14, 1990\n- **Job Title:** HR Generalist\n-...",
          "Cluster: 1<br>Text: ## Compensation History\n- **2020:** Base Salary - $55,000  \n  The entry-level salary matched industr...",
          "Cluster: 1<br>Text: - **2023:** Base Salary - $70,000  \n  Recognized for substantial improvement in employee relations m...",
          "Cluster: 1<br>Text: # HR Record\n\n# Alex Thomson\n\n## Summary\n- **Date of Birth:** March 15, 1995  \n- **Job Title:** Sales...",
          "Cluster: 1<br>Text: ## Annual Performance History  \n- **2022** - Rated as \"Exceeds Expectations.\" Alex Thomson achieved ...",
          "Cluster: 1<br>Text: ## Other HR Notes\n- Alex Thomson is an active member of the Diversity and Inclusion committee at Ins...",
          "Cluster: 1<br>Text: # HR Record\n\n# Samuel Trenton\n\n## Summary\n- **Date of Birth:** April 12, 1989  \n- **Job Title:** Sen...",
          "Cluster: 1<br>Text: ## Annual Performance History\n- **2023:** Rating: 4.5/5  \n  *Samuel exceeded expectations, successfu...",
          "Cluster: 1<br>Text: ## Compensation History\n- **2023:** Base Salary: $115,000 + Bonus: $15,000  \n  *Annual bonus based o...",
          "Cluster: 1<br>Text: # HR Record\n\n# Alex Harper\n\n## Summary\n- **Date of Birth**: March 15, 1993  \n- **Job Title**: Sales ...",
          "Cluster: 1<br>Text: ## Annual Performance History  \n- **2021**:  \n  - **Performance Rating**: 4.5/5  \n  - **Key Achievem...",
          "Cluster: 1<br>Text: - **2022**:  \n  - **Base Salary**: $65,000 (Promotion to Senior SDR)  \n  - **Bonus**: $13,000 (20% o...",
          "Cluster: 1<br>Text: # HR Record\n\n# Jordan K. Bishop\n\n## Summary\n- **Date of Birth:** March 15, 1990\n- **Job Title:** Fro...",
          "Cluster: 1<br>Text: ## Compensation History\n- **June 2018:** Starting Salary - $85,000\n- **June 2019:** Salary Increase ...",
          "Cluster: 1<br>Text: ## Other HR Notes\n- Jordan K. Bishop has been an integral part of club initiatives, including the In...",
          "Cluster: 1<br>Text: # HR Record\n\n# Emily Carter\n\n## Summary\n- **Date of Birth:** August 12, 1990  \n- **Job Title:** Acco...",
          "Cluster: 1<br>Text: ## Compensation History\n| Year | Base Salary | Bonus         | Total Compensation |\n|------|--------..."
         ],
         "type": "scatter",
         "x": {
          "bdata": "EzutwOHahcAUZrrAL92RwLbEFsAs4kTACY2RwCngbMAn1n/AVdeOwFB77b8HSD+/rfkjwE8vvsB18LXAHte0wG6tgMAN8A3ACIVewEvotcBFNyfAyA9WwEsZiMB7lkDANUN+wBWOqMAUTnTA66SSwA5/ScBlO43A",
          "dtype": "f4"
         },
         "y": {
          "bdata": "dGSZwLVyFsEeB5bA3XwZwTUKs8D66/zAnQyqwJosC8GtGFHAjQ4pwcAoQsHnDi3Bua8swSWz8sDGYBDBbuIFwWoVn8BckAfB6nuJwBwnucCtXRbBaUUewdYYssCRCA3BKSLuwL4WfcB9MCzB4y5IwKExuMAFzgnB",
          "dtype": "f4"
         }
        },
        {
         "hoverinfo": "text",
         "marker": {
          "color": "#ff7f0e",
          "line": {
           "color": "white",
           "width": 2
          },
          "size": 15,
          "symbol": "star"
         },
         "mode": "markers",
         "name": "Center 1",
         "text": "Center of Cluster 1",
         "type": "scatter",
         "x": [
          -4.07233190536499
         ],
         "y": [
          -7.075800895690918
         ]
        },
        {
         "fill": "toself",
         "fillcolor": "#2ca02c",
         "line": {
          "color": "#2ca02c",
          "width": 2
         },
         "name": "Cluster 2 boundary",
         "opacity": 0.2,
         "showlegend": true,
         "type": "scatter",
         "x": {
          "bdata": "Uvg5P4jXLj/8tFA/Z2ryQDspEEFlh+pAC663QKwKgEA=",
          "dtype": "f4"
         },
         "y": {
          "bdata": "0XgRQXZC6T/TSsE+njK+QLPq7UAHZCBBILc9QZi+OUE=",
          "dtype": "f4"
         }
        },
        {
         "hoverinfo": "text",
         "marker": {
          "color": "#2ca02c",
          "opacity": 0.8,
          "size": 8
         },
         "mode": "markers",
         "name": "Cluster 2 points",
         "text": [
          "Cluster: 2<br>Text: # Product Summary\n\n# Markellm\n\n## Summary\n\nMarkellm is an innovative two-sided marketplace designed ...",
          "Cluster: 2<br>Text: - **User-Friendly Interface**: Designed with user experience in mind, Markellm features an intuitive...",
          "Cluster: 2<br>Text: - **Customer Support**: Our dedicated support team is always available to assist both consumers and ...",
          "Cluster: 2<br>Text: ### For Insurance Companies:\n- **Basic Listing Fee**: $199/month for a featured listing on the platf...",
          "Cluster: 2<br>Text: ### Q3 2025\n- Initiate a comprehensive marketing campaign targeting both consumers and insurers to i...",
          "Cluster: 2<br>Text: # Product Summary\n\n# Homellm\n\n## Summary\nHomellm is an innovative home insurance product developed b...",
          "Cluster: 2<br>Text: ### 2. Dynamic Pricing Model\nWith Homellm's innovative dynamic pricing model, insurance providers ca...",
          "Cluster: 2<br>Text: ### 5. Multi-Channel Integration\nHomellm seamlessly integrates into existing insurance platforms, pr...",
          "Cluster: 2<br>Text: - **Basic Tier:** Starting at $5,000/month for small insurers with basic integration features.\n- **S...",
          "Cluster: 2<br>Text: All tiers include a comprehensive training program and ongoing updates to ensure optimal performance...",
          "Cluster: 2<br>Text: With Homellm, Insurellm is committed to transforming the landscape of home insurance, ensuring both ...",
          "Cluster: 2<br>Text: # Product Summary\n\n# Carllm\n\n## Summary\n\nCarllm is an innovative auto insurance product developed by...",
          "Cluster: 2<br>Text: - **Instant Quoting**: With Carllm, insurance companies can offer near-instant quotes to customers, ...",
          "Cluster: 2<br>Text: - **Mobile Integration**: Carllm is designed to work seamlessly with mobile applications, providing ...",
          "Cluster: 2<br>Text: - **Professional Tier**: $2,500/month\n  - For medium-sized companies.\n  - All Basic Tier features pl...",
          "Cluster: 2<br>Text: ### Q2 2025: Customer Experience Improvements\n- Launch of a new **mobile app** for end-users.\n- Intr...",
          "Cluster: 2<br>Text: ## Features\n1. **AI-Powered Matching**: Access to advanced algorithms that connect GreenField Holdin...",
          "Cluster: 2<br>Text: ## Support\n1. **Customer Support Access**: The Client will have access to dedicated support through ...",
          "Cluster: 2<br>Text: ---\n\n## Features\n\n- **AI-Powered Risk Assessment**: Customer will have access to enhanced risk evalu...",
          "Cluster: 2<br>Text: ---\n\n## Features\n\n1. **Access to Core Features**: Roadway Insurance Inc. will have access to all Pro...",
          "Cluster: 2<br>Text: ## Features\n1. **AI-Powered Matching**: Belvedere Insurance will benefit from Markellm's AI-powered ...",
          "Cluster: 2<br>Text: 1. **AI-Powered Risk Assessment:** Access to advanced AI algorithms for real-time risk evaluations.\n...",
          "Cluster: 2<br>Text: 2. **Real-Time Quote Availability:**  \n   Consumers sourced via BrightWay Solutions will receive rea...",
          "Cluster: 2<br>Text: ## Features\n1. **AI-Powered Risk Assessment**: Utilized for tailored underwriting decisions specific...",
          "Cluster: 2<br>Text: # About Insurellm\n\nInsurellm was founded by Avery Lancaster in 2015 as an insurance tech startup des..."
         ],
         "type": "scatter",
         "x": {
          "bdata": "g1NYQOCfQEDbpRZAZvDFP09kfUCVD65AO9e3QC0QwEAxz+1AZYfqQIjXLj+Ku8pAM+bQQGaI5EAf/+hAvQG1QKwKgEBS+Dk/eaC7QGdq8kBfxzhATBGdQDspEEELrrdA/LRQPw==",
          "dtype": "f4"
         },
         "y": {
          "bdata": "DKIUQW1WFEGpJRZBf3ASQcbTCkG8sxtBb34pQa77HkFcERVBB2QgQXZC6T/9mN9AhbDnQGXS9UB+Av1AFVoAQZi+OUHReBFBf4QwQZ4yvkD2ZCNBVb8xQbPq7UAgtz1B00rBPg==",
          "dtype": "f4"
         }
        },
        {
         "hoverinfo": "text",
         "marker": {
          "color": "#2ca02c",
          "line": {
           "color": "white",
           "width": 2
          },
          "size": 15,
          "symbol": "star"
         },
         "mode": "markers",
         "name": "Center 2",
         "text": "Center of Cluster 2",
         "type": "scatter",
         "x": [
          4.48507022857666
         ],
         "y": [
          7.270137786865234
         ]
        },
        {
         "fill": "toself",
         "fillcolor": "#d62728",
         "line": {
          "color": "#d62728",
          "width": 2
         },
         "name": "Cluster 3 boundary",
         "opacity": 0.2,
         "showlegend": true,
         "type": "scatter",
         "x": {
          "bdata": "FTAqv0IV5cAqXd8+HIzuP6Xeaz8=",
          "dtype": "f4"
         },
         "y": {
          "bdata": "YSUWwEVCzsDvxh7BoCjjwFwKjMA=",
          "dtype": "f4"
         }
        },
        {
         "hoverinfo": "text",
         "marker": {
          "color": "#d62728",
          "opacity": 0.8,
          "size": 8
         },
         "mode": "markers",
         "name": "Cluster 3 points",
         "text": [
          "Cluster: 3<br>Text: ## Annual Performance History\n- **2020:**  \n  - Completed onboarding successfully.  \n  - Met expecta...",
          "Cluster: 3<br>Text: Alex Chen continues to be a vital asset at Insurellm, contributing significantly to innovative backe...",
          "Cluster: 3<br>Text: ## Annual Performance History\n- **2018**: **3/5** - Adaptable team player but still learning to take...",
          "Cluster: 3<br>Text: - **January 2017 - May 2018**: Marketing Intern  \n  - Supported the Marketing team by collaborating ...",
          "Cluster: 3<br>Text: - **Professional Development Goals**:  \n  - Emily Tran aims to become a Marketing Manager within the...",
          "Cluster: 3<br>Text: # Avery Lancaster\n\n## Summary\n- **Date of Birth**: March 15, 1985  \n- **Job Title**: Co-Founder & Ch...",
          "Cluster: 3<br>Text: - **2010 - 2013**: Business Analyst at Edge Analytics  \n  Prior to joining Innovate, Avery worked as...",
          "Cluster: 3<br>Text: - **2018**: **Exceeds Expectations**  \n  Under Avery’s pivoted vision, Insurellm launched two new su...",
          "Cluster: 3<br>Text: - **2022**: **Satisfactory**  \n  Avery focused on rebuilding team dynamics and addressing employee c...",
          "Cluster: 3<br>Text: ## Other HR Notes\n- **Professional Development**: Avery has actively participated in leadership trai...",
          "Cluster: 3<br>Text: ## Annual Performance History\n- **2017**: *Meets Expectations*  \n  Maxine showed potential in her ro...",
          "Cluster: 3<br>Text: - **2021**: *Exceeds Expectations*  \n  Maxine spearheaded the transition to a new data warehousing s...",
          "Cluster: 3<br>Text: ## Annual Performance History\n- **2020:** Exceeds Expectations  \n  Samantha Greene demonstrated exce...",
          "Cluster: 3<br>Text: - **Engagement in Company Culture:** Regularly participates in team-building events and contributes ...",
          "Cluster: 3<br>Text: ## Annual Performance History\n- **2019:** Exceeds Expectations - Continuously delivered high-quality...",
          "Cluster: 3<br>Text: - **2017-2019:** Marketing Intern  \n  - Assisted with market research and campaign development for s...",
          "Cluster: 3<br>Text: Emily Carter exemplifies the kind of talent that drives Insurellm's success and is an invaluable ass..."
         ],
         "type": "scatter",
         "x": {
          "bdata": "fvxsvhUwKr+y7ni+bWrPv2uj2r+l3ms/llOiP5Od3D8cjO4/RXRkP86BcT4qXd8+jghPv0IV5cCN7aI+mE6Iv3LWb78=",
          "dtype": "f4"
         },
         "y": {
          "bdata": "tTEDwWElFsC02gHBzzW6wMuBqcBcCozA6LbQwKmQ4sCgKOPAx2eTwA81FsHvxh7BSHERwUVCzsBCOgXBCPbYwIapMcA=",
          "dtype": "f4"
         }
        },
        {
         "hoverinfo": "text",
         "marker": {
          "color": "#d62728",
          "line": {
           "color": "white",
           "width": 2
          },
          "size": 15,
          "symbol": "star"
         },
         "mode": "markers",
         "name": "Center 3",
         "text": "Center of Cluster 3",
         "type": "scatter",
         "x": [
          -0.9204732775688171
         ],
         "y": [
          -6.038032531738281
         ]
        },
        {
         "fill": "toself",
         "fillcolor": "#9467bd",
         "line": {
          "color": "#9467bd",
          "width": 2
         },
         "name": "Cluster 4 boundary",
         "opacity": 0.2,
         "showlegend": true,
         "type": "scatter",
         "x": {
          "bdata": "Ql2qQA2ImkDrpFlA+T28PoQufkBEraJA",
          "dtype": "f4"
         },
         "y": {
          "bdata": "pKmbQOul9UDc/c5A/3qkvlMGKkAHaG1A",
          "dtype": "f4"
         }
        },
        {
         "hoverinfo": "text",
         "marker": {
          "color": "#9467bd",
          "opacity": 0.8,
          "size": 8
         },
         "mode": "markers",
         "name": "Cluster 4 points",
         "text": [
          "Cluster: 4<br>Text: # Product Summary\n\n# Rellm: AI-Powered Enterprise Reinsurance Solution\n\n## Summary\n\nRellm is an inno...",
          "Cluster: 4<br>Text: ### Seamless Integrations\nRellm's architecture is designed for effortless integration with existing ...",
          "Cluster: 4<br>Text: ### Regulatory Compliance Tools\nRellm includes built-in compliance tracking features to help organiz...",
          "Cluster: 4<br>Text: Join the growing number of organizations leveraging Rellm to enhance their reinsurance processes whi...",
          "Cluster: 4<br>Text: Experience the future of reinsurance with Rellm, where innovation meets reliability. Let Insurellm h...",
          "Cluster: 4<br>Text: # Contract with Apex Reinsurance for Rellm: AI-Powered Enterprise Reinsurance Solution\n\n## Terms\n\n1....",
          "Cluster: 4<br>Text: ## Renewal\n\n1. **Automatic Renewal**: This Agreement will automatically renew for successive one-yea...",
          "Cluster: 4<br>Text: 2. **Seamless Integrations**: The architecture of Rellm allows for easy integration with existing sy...",
          "Cluster: 4<br>Text: # Contract with Stellar Insurance Co. for Rellm\n\n## Terms\nThis contract is made between **Insurellm*...",
          "Cluster: 4<br>Text: ### Termination\nEither party may terminate this agreement with a **30-day written notice**. In the e...",
          "Cluster: 4<br>Text: ## Features\nStellar Insurance Co. will receive access to the following features of the Rellm product...",
          "Cluster: 4<br>Text: ## Support\nInsurellm provides Stellar Insurance Co. with the following support services:\n\n- **24/7 T...",
          "Cluster: 4<br>Text: # Contract with EverGuard Insurance for Rellm: AI-Powered Enterprise Reinsurance Solution\n\n**Contrac...",
          "Cluster: 4<br>Text: 4. **Usage Rights**: EverGuard Insurance is granted a non-exclusive, non-transferable license to acc...",
          "Cluster: 4<br>Text: 1. **Core Functionality**: Rellm provides EverGuard Insurance with advanced AI-driven analytics, sea...",
          "Cluster: 4<br>Text: 1. **Customer Support**: Insurellm will provide EverGuard Insurance with 24/7 customer support, incl...",
          "Cluster: 4<br>Text: # Overview of Insurellm\n\nInsurellm is an innovative insurance tech firm with 200 employees across th...",
          "Cluster: 4<br>Text: # Careers at Insurellm\n\nInsurellm is hiring! We are looking for talented software engineers, data sc..."
         ],
         "type": "scatter",
         "x": {
          "bdata": "aSChQFxcckBCfYhADYiaQAaL5D9EraJAQl2qQOukWUAqS1pAhC5+QA57XEB7dT5AJ4+NQB7Bj0BvToBADAxbQGcbZT/5Pbw+",
          "dtype": "f4"
         },
         "y": {
          "bdata": "clvIQNkg1UDQBMNA66X1QC8r4j8HaG1ApKmbQNz9zkAZsTFAUwYqQPoirUAF3WhAA09yQMD7lEC1R6pACo2DQIV7KD//eqS+",
          "dtype": "f4"
         }
        },
        {
         "hoverinfo": "text",
         "marker": {
          "color": "#9467bd",
          "line": {
           "color": "white",
           "width": 2
          },
          "size": 15,
          "symbol": "star"
         },
         "mode": "markers",
         "name": "Center 4",
         "text": "Center of Cluster 4",
         "type": "scatter",
         "x": [
          3.82943058013916
         ],
         "y": [
          4.175718307495117
         ]
        }
       ],
       "layout": {
        "height": 600,
        "showlegend": true,
        "template": {
         "data": {
          "bar": [
           {
            "error_x": {
             "color": "#2a3f5f"
            },
            "error_y": {
             "color": "#2a3f5f"
            },
            "marker": {
             "line": {
              "color": "#E5ECF6",
              "width": 0.5
             },
             "pattern": {
              "fillmode": "overlay",
              "size": 10,
              "solidity": 0.2
             }
            },
            "type": "bar"
           }
          ],
          "barpolar": [
           {
            "marker": {
             "line": {
              "color": "#E5ECF6",
              "width": 0.5
             },
             "pattern": {
              "fillmode": "overlay",
              "size": 10,
              "solidity": 0.2
             }
            },
            "type": "barpolar"
           }
          ],
          "carpet": [
           {
            "aaxis": {
             "endlinecolor": "#2a3f5f",
             "gridcolor": "white",
             "linecolor": "white",
             "minorgridcolor": "white",
             "startlinecolor": "#2a3f5f"
            },
            "baxis": {
             "endlinecolor": "#2a3f5f",
             "gridcolor": "white",
             "linecolor": "white",
             "minorgridcolor": "white",
             "startlinecolor": "#2a3f5f"
            },
            "type": "carpet"
           }
          ],
          "choropleth": [
           {
            "colorbar": {
             "outlinewidth": 0,
             "ticks": ""
            },
            "type": "choropleth"
           }
          ],
          "contour": [
           {
            "colorbar": {
             "outlinewidth": 0,
             "ticks": ""
            },
            "colorscale": [
             [
              0,
              "#0d0887"
             ],
             [
              0.1111111111111111,
              "#46039f"
             ],
             [
              0.2222222222222222,
              "#7201a8"
             ],
             [
              0.3333333333333333,
              "#9c179e"
             ],
             [
              0.4444444444444444,
              "#bd3786"
             ],
             [
              0.5555555555555556,
              "#d8576b"
             ],
             [
              0.6666666666666666,
              "#ed7953"
             ],
             [
              0.7777777777777778,
              "#fb9f3a"
             ],
             [
              0.8888888888888888,
              "#fdca26"
             ],
             [
              1,
              "#f0f921"
             ]
            ],
            "type": "contour"
           }
          ],
          "contourcarpet": [
           {
            "colorbar": {
             "outlinewidth": 0,
             "ticks": ""
            },
            "type": "contourcarpet"
           }
          ],
          "heatmap": [
           {
            "colorbar": {
             "outlinewidth": 0,
             "ticks": ""
            },
            "colorscale": [
             [
              0,
              "#0d0887"
             ],
             [
              0.1111111111111111,
              "#46039f"
             ],
             [
              0.2222222222222222,
              "#7201a8"
             ],
             [
              0.3333333333333333,
              "#9c179e"
             ],
             [
              0.4444444444444444,
              "#bd3786"
             ],
             [
              0.5555555555555556,
              "#d8576b"
             ],
             [
              0.6666666666666666,
              "#ed7953"
             ],
             [
              0.7777777777777778,
              "#fb9f3a"
             ],
             [
              0.8888888888888888,
              "#fdca26"
             ],
             [
              1,
              "#f0f921"
             ]
            ],
            "type": "heatmap"
           }
          ],
          "histogram": [
           {
            "marker": {
             "pattern": {
              "fillmode": "overlay",
              "size": 10,
              "solidity": 0.2
             }
            },
            "type": "histogram"
           }
          ],
          "histogram2d": [
           {
            "colorbar": {
             "outlinewidth": 0,
             "ticks": ""
            },
            "colorscale": [
             [
              0,
              "#0d0887"
             ],
             [
              0.1111111111111111,
              "#46039f"
             ],
             [
              0.2222222222222222,
              "#7201a8"
             ],
             [
              0.3333333333333333,
              "#9c179e"
             ],
             [
              0.4444444444444444,
              "#bd3786"
             ],
             [
              0.5555555555555556,
              "#d8576b"
             ],
             [
              0.6666666666666666,
              "#ed7953"
             ],
             [
              0.7777777777777778,
              "#fb9f3a"
             ],
             [
              0.8888888888888888,
              "#fdca26"
             ],
             [
              1,
              "#f0f921"
             ]
            ],
            "type": "histogram2d"
           }
          ],
          "histogram2dcontour": [
           {
            "colorbar": {
             "outlinewidth": 0,
             "ticks": ""
            },
            "colorscale": [
             [
              0,
              "#0d0887"
             ],
             [
              0.1111111111111111,
              "#46039f"
             ],
             [
              0.2222222222222222,
              "#7201a8"
             ],
             [
              0.3333333333333333,
              "#9c179e"
             ],
             [
              0.4444444444444444,
              "#bd3786"
             ],
             [
              0.5555555555555556,
              "#d8576b"
             ],
             [
              0.6666666666666666,
              "#ed7953"
             ],
             [
              0.7777777777777778,
              "#fb9f3a"
             ],
             [
              0.8888888888888888,
              "#fdca26"
             ],
             [
              1,
              "#f0f921"
             ]
            ],
            "type": "histogram2dcontour"
           }
          ],
          "mesh3d": [
           {
            "colorbar": {
             "outlinewidth": 0,
             "ticks": ""
            },
            "type": "mesh3d"
           }
          ],
          "parcoords": [
           {
            "line": {
             "colorbar": {
              "outlinewidth": 0,
              "ticks": ""
             }
            },
            "type": "parcoords"
           }
          ],
          "pie": [
           {
            "automargin": true,
            "type": "pie"
           }
          ],
          "scatter": [
           {
            "fillpattern": {
             "fillmode": "overlay",
             "size": 10,
             "solidity": 0.2
            },
            "type": "scatter"
           }
          ],
          "scatter3d": [
           {
            "line": {
             "colorbar": {
              "outlinewidth": 0,
              "ticks": ""
             }
            },
            "marker": {
             "colorbar": {
              "outlinewidth": 0,
              "ticks": ""
             }
            },
            "type": "scatter3d"
           }
          ],
          "scattercarpet": [
           {
            "marker": {
             "colorbar": {
              "outlinewidth": 0,
              "ticks": ""
             }
            },
            "type": "scattercarpet"
           }
          ],
          "scattergeo": [
           {
            "marker": {
             "colorbar": {
              "outlinewidth": 0,
              "ticks": ""
             }
            },
            "type": "scattergeo"
           }
          ],
          "scattergl": [
           {
            "marker": {
             "colorbar": {
              "outlinewidth": 0,
              "ticks": ""
             }
            },
            "type": "scattergl"
           }
          ],
          "scattermap": [
           {
            "marker": {
             "colorbar": {
              "outlinewidth": 0,
              "ticks": ""
             }
            },
            "type": "scattermap"
           }
          ],
          "scattermapbox": [
           {
            "marker": {
             "colorbar": {
              "outlinewidth": 0,
              "ticks": ""
             }
            },
            "type": "scattermapbox"
           }
          ],
          "scatterpolar": [
           {
            "marker": {
             "colorbar": {
              "outlinewidth": 0,
              "ticks": ""
             }
            },
            "type": "scatterpolar"
           }
          ],
          "scatterpolargl": [
           {
            "marker": {
             "colorbar": {
              "outlinewidth": 0,
              "ticks": ""
             }
            },
            "type": "scatterpolargl"
           }
          ],
          "scatterternary": [
           {
            "marker": {
             "colorbar": {
              "outlinewidth": 0,
              "ticks": ""
             }
            },
            "type": "scatterternary"
           }
          ],
          "surface": [
           {
            "colorbar": {
             "outlinewidth": 0,
             "ticks": ""
            },
            "colorscale": [
             [
              0,
              "#0d0887"
             ],
             [
              0.1111111111111111,
              "#46039f"
             ],
             [
              0.2222222222222222,
              "#7201a8"
             ],
             [
              0.3333333333333333,
              "#9c179e"
             ],
             [
              0.4444444444444444,
              "#bd3786"
             ],
             [
              0.5555555555555556,
              "#d8576b"
             ],
             [
              0.6666666666666666,
              "#ed7953"
             ],
             [
              0.7777777777777778,
              "#fb9f3a"
             ],
             [
              0.8888888888888888,
              "#fdca26"
             ],
             [
              1,
              "#f0f921"
             ]
            ],
            "type": "surface"
           }
          ],
          "table": [
           {
            "cells": {
             "fill": {
              "color": "#EBF0F8"
             },
             "line": {
              "color": "white"
             }
            },
            "header": {
             "fill": {
              "color": "#C8D4E3"
             },
             "line": {
              "color": "white"
             }
            },
            "type": "table"
           }
          ]
         },
         "layout": {
          "annotationdefaults": {
           "arrowcolor": "#2a3f5f",
           "arrowhead": 0,
           "arrowwidth": 1
          },
          "autotypenumbers": "strict",
          "coloraxis": {
           "colorbar": {
            "outlinewidth": 0,
            "ticks": ""
           }
          },
          "colorscale": {
           "diverging": [
            [
             0,
             "#8e0152"
            ],
            [
             0.1,
             "#c51b7d"
            ],
            [
             0.2,
             "#de77ae"
            ],
            [
             0.3,
             "#f1b6da"
            ],
            [
             0.4,
             "#fde0ef"
            ],
            [
             0.5,
             "#f7f7f7"
            ],
            [
             0.6,
             "#e6f5d0"
            ],
            [
             0.7,
             "#b8e186"
            ],
            [
             0.8,
             "#7fbc41"
            ],
            [
             0.9,
             "#4d9221"
            ],
            [
             1,
             "#276419"
            ]
           ],
           "sequential": [
            [
             0,
             "#0d0887"
            ],
            [
             0.1111111111111111,
             "#46039f"
            ],
            [
             0.2222222222222222,
             "#7201a8"
            ],
            [
             0.3333333333333333,
             "#9c179e"
            ],
            [
             0.4444444444444444,
             "#bd3786"
            ],
            [
             0.5555555555555556,
             "#d8576b"
            ],
            [
             0.6666666666666666,
             "#ed7953"
            ],
            [
             0.7777777777777778,
             "#fb9f3a"
            ],
            [
             0.8888888888888888,
             "#fdca26"
            ],
            [
             1,
             "#f0f921"
            ]
           ],
           "sequentialminus": [
            [
             0,
             "#0d0887"
            ],
            [
             0.1111111111111111,
             "#46039f"
            ],
            [
             0.2222222222222222,
             "#7201a8"
            ],
            [
             0.3333333333333333,
             "#9c179e"
            ],
            [
             0.4444444444444444,
             "#bd3786"
            ],
            [
             0.5555555555555556,
             "#d8576b"
            ],
            [
             0.6666666666666666,
             "#ed7953"
            ],
            [
             0.7777777777777778,
             "#fb9f3a"
            ],
            [
             0.8888888888888888,
             "#fdca26"
            ],
            [
             1,
             "#f0f921"
            ]
           ]
          },
          "colorway": [
           "#636efa",
           "#EF553B",
           "#00cc96",
           "#ab63fa",
           "#FFA15A",
           "#19d3f3",
           "#FF6692",
           "#B6E880",
           "#FF97FF",
           "#FECB52"
          ],
          "font": {
           "color": "#2a3f5f"
          },
          "geo": {
           "bgcolor": "white",
           "lakecolor": "white",
           "landcolor": "#E5ECF6",
           "showlakes": true,
           "showland": true,
           "subunitcolor": "white"
          },
          "hoverlabel": {
           "align": "left"
          },
          "hovermode": "closest",
          "mapbox": {
           "style": "light"
          },
          "paper_bgcolor": "white",
          "plot_bgcolor": "#E5ECF6",
          "polar": {
           "angularaxis": {
            "gridcolor": "white",
            "linecolor": "white",
            "ticks": ""
           },
           "bgcolor": "#E5ECF6",
           "radialaxis": {
            "gridcolor": "white",
            "linecolor": "white",
            "ticks": ""
           }
          },
          "scene": {
           "xaxis": {
            "backgroundcolor": "#E5ECF6",
            "gridcolor": "white",
            "gridwidth": 2,
            "linecolor": "white",
            "showbackground": true,
            "ticks": "",
            "zerolinecolor": "white"
           },
           "yaxis": {
            "backgroundcolor": "#E5ECF6",
            "gridcolor": "white",
            "gridwidth": 2,
            "linecolor": "white",
            "showbackground": true,
            "ticks": "",
            "zerolinecolor": "white"
           },
           "zaxis": {
            "backgroundcolor": "#E5ECF6",
            "gridcolor": "white",
            "gridwidth": 2,
            "linecolor": "white",
            "showbackground": true,
            "ticks": "",
            "zerolinecolor": "white"
           }
          },
          "shapedefaults": {
           "line": {
            "color": "#2a3f5f"
           }
          },
          "ternary": {
           "aaxis": {
            "gridcolor": "white",
            "linecolor": "white",
            "ticks": ""
           },
           "baxis": {
            "gridcolor": "white",
            "linecolor": "white",
            "ticks": ""
           },
           "bgcolor": "#E5ECF6",
           "caxis": {
            "gridcolor": "white",
            "linecolor": "white",
            "ticks": ""
           }
          },
          "title": {
           "x": 0.05
          },
          "xaxis": {
           "automargin": true,
           "gridcolor": "white",
           "linecolor": "white",
           "ticks": "",
           "title": {
            "standoff": 15
           },
           "zerolinecolor": "white",
           "zerolinewidth": 2
          },
          "yaxis": {
           "automargin": true,
           "gridcolor": "white",
           "linecolor": "white",
           "ticks": "",
           "title": {
            "standoff": 15
           },
           "zerolinecolor": "white",
           "zerolinewidth": 2
          }
         }
        },
        "title": {
         "text": "Document Clusters Visualization (hull)"
        },
        "width": 800,
        "xaxis": {
         "title": {
          "text": "t-SNE dimension 1"
         }
        },
        "yaxis": {
         "title": {
          "text": "t-SNE dimension 2"
         }
        }
       }
      }
     },
     "metadata": {},
     "output_type": "display_data"
    },
    {
     "data": {
      "application/vnd.plotly.v1+json": {
       "config": {
        "plotlyServerURL": "https://plot.ly"
       },
       "data": [
        {
         "fill": "toself",
         "fillcolor": "#1f77b4",
         "line": {
          "color": "#1f77b4",
          "width": 2
         },
         "name": "Cluster 0 boundary",
         "opacity": 0.2,
         "showlegend": true,
         "type": "scatter",
         "x": {
          "bdata": "AgAA4OdlIUBsn7OvqKchQG62QHR84CFAZl+/TrgPIkCvtEdgsTQiQKTQ8cm8TiJApM3VrC9dIkAJxgsqX18iQDDUq2KgVCJAeRLOd0g8IkAFBjeWrBUiQDNziiFn4CFAGJPDDeOcIUCeuV5vskshQK462Fpn7SBALGqs5JOCIEADnFchygsgQDFIrEo4Ex9Ap6xICjj5HUA5DX2qt8ocQLcRQlTbiBtA8WGQMMc0GkCwpWBon88YQMmEqySIWhdACadpjqXWFUA/tJPOG0UUQDhUIg4PpxJAxi4OdqP9EEBx159e+pMOQLhlwMWAGgtAAVhvcyKRB0Dn/Z25J/oDQAunPerYVwBAGkZ/rvxY+T8NgyqlwPTxP2VIv7gcD+U/OddfSarEyD+ZhnAbKhHRvyZwd/O17ua//+O0v+Vo8r8UwQmJNAH5v/Fq/AWRKP+/nH5nc6JjAsDQyeHtzOIEwOIkjsrsBQfApZ2N4SbBCMDsQQELoAgKwNJSfSp+0ArARTl+tS0SC8Da5AzmvNYKwArJ/6gbKgrATFkt6zkYCcAgCWyZB60HwPpLkqB09AXATZV27XD6A8CgWO9s7MoBwLMSpheu4/6/CTbwbUH2+b8eAmq2cuX0v7e7gJVDku+/mmBACV1y5b8igdn24jXXv4nmpyFz1LG/upkj9553yj8knhnc5/jdP122zCiL8OY/kJU+aqKJ7j/NMkxXl+vyP+YPCHlSdPY/ld5tGL3m+T95m5izkUr9P4yhUWTFUwBABmnUarECAkB3ImIs6rUDQCJMCOhMcQVAVWTU3LY4B0BU6dNJBRAJQGtZFG4V+wpA6TKjiMT9DEAJ9I3Y7xsPQFgTIUFRrBBABnOy12HTEUBn2qJqTfoSQLWyAEyXHxRAj0vcU19CFUCX9EVaxWEWQGf9TTfpfBdAo7UEw+qSGEDkbHrV6aIZQM1yv0YGrBpA+Rbk7l+tG0AKqfilFqYcQJ94DURKlR1AUdUyoRp6HkDLDnmVp1MfQE46eHyIECBANqvUUbtwIEDtAdo2/MkgQEFmkBfbGyFAAgAA4OdlIUA=",
          "dtype": "f8"
         },
         "y": {
          "bdata": "BAAAoKCACUCC+bbNJ7MMQPqqdvtM0w9AB2eotF5uEUApjqsrk+USQLWnzYIaTRRAd5AXWsuiFUA/JZJRfOQWQNtCRgkEEBhAG8Y8ITkjGUDDBgdc8hsaQCZ6CT3T+BpA/4t3Q+i6G0Atb9OtsWMcQItWn7qv9BxA6nRdqGJvHUAt/Y+1StUdQCQiuSDoJx5AqxZbKLtoHkCcDfgKRJkeQNE5EgcDux5AIM4rW3jPHkBh/cZFJNgeQHL6ZQWH1h5AKPiK2CDMHkBdKbj9cboeQOrAb7P6oh5ApvEzODuHHkBu7obKs2geQBbq6qjkSB5AehfiEU4pHkBxqe5DcAseQNfSkn3L8B1AgsZQ/d/aHUBMt6oBLssdQA/YIsk1wx1AKH3ZEsvDHUBVpVBBfsodQKgyhy/j0x1AVHipqo3cHUCIyeN/EeEdQHp5YnwC3h1AXttRbfTPHUBjQt4fe7MdQMEBNGEqhR1Apmx//pVBHUBH1uzEUeUcQDUz8MXxbBxAED+w32LWG0AHVGCWjyMbQC2Nr8MeVxpAkQVNQbdzGUBD2Ofo/3sYQFQgL5SfchdAz/jRHD1aFkDMfH9cfzUVQE/H5iwNBxRAcvO2Z43REkBAHJ/mppcRQMZcToMAXBBANaDnLoJCDkCMIn35HtQLQB4mYKsJcglAkx/VYsweB0AWfuqOLNoEQP2nqHrOowJAlQMYcVZ7AECR7oF60cD8P8LSV1RTpfg/jIDCBXuj9D+ExNIkkbrwP+zWMo+80+k/D4ROCFZh4j97UzTC/zjWPxqG3RYtD8A/49rB7bRRt7+8JiY66V3TvzGNN4zdS+C/hA8EP2DC5r/LAFeJ6xPtv+BNoT91m/G/Vu1A3fkk9L8HlZ7vUav1vzYcYrVsNPa/AoV3HNfQ9b9/0coSHpH0v9EDSIbOhfK/Bzy2yep+77+OROA4P53ovzol5jW0h+C/zYl/co59zb8+/dO4xdS1Pwr64dJNSts/K5GLHi0/6T8XHEm9yLPyP8Z21hCd/vg/m9YBnIZv/z/InG84/PoCQLFOwdCyQAZABQAAoKCACUA=",
          "dtype": "f8"
         }
        },
        {
         "hoverinfo": "text",
         "marker": {
          "color": "#1f77b4",
          "opacity": 0.8,
          "size": 8
         },
         "mode": "markers",
         "name": "Cluster 0 points",
         "text": [
          "Cluster: 0<br>Text: # Contract with GreenField Holdings for Markellm\n\n**Effective Date:** November 15, 2023  \n**Contract...",
          "Cluster: 0<br>Text: ## Renewal\n1. **Automatic Renewal**: This contract will automatically renew for sequential one-year ...",
          "Cluster: 0<br>Text: **Signatures:**  \n_________________________                           _________________________  \n**...",
          "Cluster: 0<br>Text: 1. **Technical Support**: Provider shall offer dedicated technical support to the Client via phone, ...",
          "Cluster: 0<br>Text: **Insurellm, Inc.**  \n_____________________________  \nAuthorized Signature   \nDate: ________________...",
          "Cluster: 0<br>Text: # Contract with Greenstone Insurance for Homellm\n\n---\n\n## Terms\n\n1. **Parties**: This Contract (\"Agr...",
          "Cluster: 0<br>Text: 4. **Payment Terms**: \n   - The Customer shall pay an amount of $10,000 per month for the Standard T...",
          "Cluster: 0<br>Text: - **Customer Portal**: A dedicated portal will be provided, allowing the Customer's clients to manag...",
          "Cluster: 0<br>Text: ______________________________  \n[Name], [Title]  \nDate: ______________________\n\n**For Greenstone In...",
          "Cluster: 0<br>Text: # Contract with Roadway Insurance Inc. for Carllm\n\n---\n\n## Terms\n\n1. **Agreement Effective Date**: T...",
          "Cluster: 0<br>Text: ---\n\n## Renewal\n\n1. **Automatic Renewal**: This agreement will automatically renew for an additional...",
          "Cluster: 0<br>Text: ---\n\n## Support\n\n1. **Technical Support**: Roadway Insurance Inc. will receive priority technical su...",
          "Cluster: 0<br>Text: # Contract with TechDrive Insurance for Carllm\n\n**Contract Date:** October 1, 2024  \n**Contract Dura...",
          "Cluster: 0<br>Text: ## Renewal\n\n1. **Automatic Renewal**: This contract shall automatically renew for additional one-yea...",
          "Cluster: 0<br>Text: ## Support\n\n1. **Customer Support**: Insurellm will provide 24/7 customer support to TechDrive Insur...",
          "Cluster: 0<br>Text: **TechDrive Insurance Representative:**  \nName: Sarah Johnson  \nTitle: Operations Director  \nDate: _...",
          "Cluster: 0<br>Text: # Contract with Belvedere Insurance for Markellm\n\n## Terms\nThis Contract (\"Agreement\") is made and e...",
          "Cluster: 0<br>Text: ## Renewal\n1. **Renewal Terms**: This Agreement may be renewed for additional one-year terms upon mu...",
          "Cluster: 0<br>Text: ## Support\n1. **Technical Support**: Technical support will be available from 9 AM to 7 PM EST, Mond...",
          "Cluster: 0<br>Text: **Belvedere Insurance**  \nSignature: ______________________  \nName: [Authorized Signatory]  \nTitle: ...",
          "Cluster: 0<br>Text: # Contract with Velocity Auto Solutions for Carllm\n\n**Contract Date:** October 1, 2023  \n**Contract ...",
          "Cluster: 0<br>Text: ## Renewal\n\n1. **Automatic Renewal**: This contract will automatically renew for successive 12-month...",
          "Cluster: 0<br>Text: ## Support\n\n1. **Customer Support**: Velocity Auto Solutions will have access to Insurellm’s custome...",
          "Cluster: 0<br>Text: # Contract with GreenValley Insurance for Homellm\n\n**Contract Date:** October 6, 2023  \n**Contract N...",
          "Cluster: 0<br>Text: 4. **Confidentiality:** Both parties agree to maintain the confidentiality of proprietary informatio...",
          "Cluster: 0<br>Text: 3. **Regular Updates:** Insurellm will offer ongoing updates and enhancements to the Homellm platfor...",
          "Cluster: 0<br>Text: ---\n\n**Signatures**  \n**For Insurellm**: __________________________  \n**Name**: John Smith  \n**Title...",
          "Cluster: 0<br>Text: # Contract with BrightWay Solutions for Markellm\n\n**Contract Date:** October 5, 2023  \n**Contract ID...",
          "Cluster: 0<br>Text: 3. **Service Level Agreement (SLA):**  \n   Insurellm commits to a 99.9% uptime for the platform with...",
          "Cluster: 0<br>Text: 3. **Training and Onboarding:**  \n   Insurellm agrees to provide one free training session on how to...",
          "Cluster: 0<br>Text: # Contract with Pinnacle Insurance Co. for Homellm\n\n## Terms\nThis contract (\"Contract\") is entered i...",
          "Cluster: 0<br>Text: ## Renewal\n1. **Renewal Terms**: At the end of the initial term, this Contract shall automatically r...",
          "Cluster: 0<br>Text: ## Support\n1. **Technical Support**: Insurellm shall provide 24/7 technical support via an email and..."
         ],
         "type": "scatter",
         "x": {
          "bdata": "onyAPSpUO8CXkYBAkaQKQEyyeEBOjQO/SzTjv+84GD8/V4tAPy8LQeIlDEGkTdxA2k77QKkv7kAKK9RALSbZQK7nID+KE1bAiR/iP2KfkEB98vxAQmboQPGcy0ArJW2/FmAov/JwVr5YP21AZJKbP93PEEFPq60/oKYYvkdnSsBGxJo/",
          "dtype": "f4"
         },
         "y": {
          "bdata": "7k3cQPDb3kBY6X+/25SIQLP1AL+K76FAg4qzQI03jEB42pq/BQVMQGLOkECoEV5AtK8fQCI6j0CIBwVAGbOnP/8X7kDE0+NAZfFxQER9GL7HgEFAYECXQO50I0Cc4oZAj953QB+9VEDcU2g/ebnXQLYr0EBjUMVACjOhQEHJ4UBAGn5A",
          "dtype": "f4"
         }
        },
        {
         "hoverinfo": "text",
         "marker": {
          "color": "#1f77b4",
          "line": {
           "color": "white",
           "width": 2
          },
          "size": 15,
          "symbol": "star"
         },
         "mode": "markers",
         "name": "Center 0",
         "text": "Center of Cluster 0",
         "type": "scatter",
         "x": [
          3.3137333393096924
         ],
         "y": [
          3.623966693878174
         ]
        },
        {
         "fill": "toself",
         "fillcolor": "#ff7f0e",
         "line": {
          "color": "#ff7f0e",
          "width": 2
         },
         "name": "Cluster 1 boundary",
         "opacity": 0.2,
         "showlegend": true,
         "type": "scatter",
         "x": {
          "bdata": "////f8JMF8BuPeICG7AXwNj0Zq0O/BfAa2v5R+gyGMBS5gSb8lYYwMCq9G54ahjA3P0zjMRvGMDYJC67IWkYwN9kTsTaWBjAHQMAcDpBGMDERK6GiyQYwP9uxNAYBRjA/MatFi3lF8DpkdUgE8cXwAVlRXM5rBfAArgjKSqSF8DScA3AVXUXwAItOrEsUhfAJorhdR8lF8DNJTuHnuoWwOy5IJMmnxbAp6Oo3EpBFsCCpMEBetIVwJ7582ZXVBXAGuDHcIbIFMAXlcWDqjAUwLRVdQRnjhPAEV9fV1/jEsBT7gvhNjESwJ2EzvWKeRHAmNL/nX29EMDmepDke/sPwGd2p0/tdQ7Ar4Oc56TrDMDLjscW+F0LwLuDgEc8zgnAiU4f5MY9CMAx2/tW7a0GwL8VbgoFIAXAMurNaGOVA8CSRHPcXQ8CwOQQts9JjwDAXnbcWfks/r9hqAKxLk37v/1R4aFnhvi/JXcUvXbh9b+UEqvWL2fzvwAftMJmIPG/PS59qt4r7r9B67LEOqHqv5w/zeKIsue/5xTcUNpr5b+1hHrvscfjv2MT58QhveK/XEVg1ztD4r8LnyQtElHiv9+kcsy23eK/O9uIuzvg47+JxqUAs0/lvz7rB6IuI+e/s83tpcBR6b9k8pUSe9Lrv6vdPu5vnO6//4mTn1jT8L/djMaFKHTyv6i516wwLPS/mVLmF/r29b/dmRHKDdD3v7LReMb0svm/RDw7EDib+7/QG3iqYIT9v4GyTpj3af+/SSFv7sKjAMAfB6M9SowBwNerUjtWbALAwCO2gc9BA8Ch9LvW3g0EwMadgULu1ATAZsh+HYybBcCxHSvARmYGwOdG/oKsOQfAMu1vvksaCMDVuffKsgwJwPxVDQFwFQrA32oouRE5C8C7ocBLJnwMwLyjTRE84w3AIxpHYuFyD8AOB3WTepYQwMaMu0vzehHAQB4Lm/tPEsDTn8Mn1wMTwKDZYs9omxPAKiXd36QhFMCPmvWrf6EUwOvMHMDqJRXAAAO11Lq0FcAqq2scgkYWwPiw86Wz0RbA/v//f8JMF8A=",
          "dtype": "f8"
         },
         "y": {
          "bdata": "/v//v+PAEsCt+qqiwHoTwA2kJljVPxTAjezxdPUOFcCaxIuN9OYVwKMcczamxhbAFOUmBN6sF8BcDiaLb5gYwOeI718uiBnAI0UCF+56GsB+M91Egm8bwGRE/32+ZBzARmjnVnZZHcCPjxRkfUwewGrWnk2pPB/AyI8wkGwUIMDQWW9I94cgwHm70qll+CDA9aahjihlIcB2DiPRsM0hwEheSudyMSLA2JlEToGQIsBsV221xusiwHl4/2U9RCPAdN41qd+aI8DYakvIp/AjwBj/egyQRiTArXz/vpKdJMARxRMpqvYkwCWjGAC/UiXAxqZRiVSxJcButpvWoBAmwMwG1kDNbibAjszfIAPKJsBnPJjPayAnwAKL3qUwcCfAE+2R/Hq3J8BGl5EsdPQnwE2+vI5FJSjA0pbyexhIKMCLVRJNFlsowCMv+1poXCjATFiM/jdKKMC50FaVIiMowMXad+bN6CfAfViYWh6eJ8AgCPlS+UUnwOin2jBE4ybAEvZ9VeR4JsDVsCMivwkmwGFgCee5mCXA+tklVxsoJcDAJ62LN7gkwOjQjeUASSTAo1y2xWnaI8AuUhWNZGwjwLk4mZzj/iLAe5cwVdmRIsCs9ckXOCUiwIDaU0XyuCHALM28PvpMIcDmVPNkQuEgwOX45Ri9dSDAXECDu1wKIMAHZXNbJz4fwCKt76CoZx7AbmdYCSKRHcBeoopWeLocwFZsY0qQ4xvAytO/pk4MG8Ad53wtmDQawMC0d6BRXBnAHEuNwV+DGMCbuJpSp6kXwK0LfRUNzxbAdi9hL37zFcA9gPMlqRcVwD6TFSD+PBTA2ALqtPVkE8CBaZN7CJESwJ1hNAuvwhHAmoXv+mH7EMDfb+fhmTwQwLR1fa6eDw/A5wEw5PW8DcAnuSuTKoQMwFHQtektaAvANHwTFvFrCsDmHQXnT5UJwF5m/60eCgnANkbfIfADCcAgjTdowasJwJz3064g4grAItU7KS50DMC/uJH7CS8OwJ2lA7rd3w/Abbs5XpuyEMBqi84hXmURwGOKvHumERLA/v//v+PAEsA=",
          "dtype": "f8"
         }
        },
        {
         "hoverinfo": "text",
         "marker": {
          "color": "#ff7f0e",
          "opacity": 0.8,
          "size": 8
         },
         "mode": "markers",
         "name": "Cluster 1 points",
         "text": [
          "Cluster: 1<br>Text: # HR Record\n\n# Alex Chen\n\n## Summary\n- **Date of Birth:** March 15, 1990  \n- **Job Title:** Backend ...",
          "Cluster: 1<br>Text: ## Compensation History\n- **2020:** Base Salary: $80,000  \n- **2021:** Base Salary Increase to $90,0...",
          "Cluster: 1<br>Text: # HR Record\n\n# Oliver Spencer\n\n## Summary\n- **Date of Birth**: May 14, 1990  \n- **Job Title**: Backe...",
          "Cluster: 1<br>Text: ## Compensation History\n- **March 2018**: Initial salary of $80,000.\n- **July 2019**: Salary increas...",
          "Cluster: 1<br>Text: # HR Record\n\n# Emily Tran\n\n## Summary\n- **Date of Birth:** March 18, 1991  \n- **Job Title:** Digital...",
          "Cluster: 1<br>Text: - **2021**:  \n  - Performance Rating: Meets Expectations  \n  - Key Achievements: Contributed to the ...",
          "Cluster: 1<br>Text: # HR Record\n\n# Jordan Blake\n\n## Summary\n- **Date of Birth:** March 15, 1993  \n- **Job Title:** Sales...",
          "Cluster: 1<br>Text: ## Annual Performance History\n- **2021:** First year at Insurellm; achieved 90% of monthly targets. ...",
          "Cluster: 1<br>Text: ## Other HR Notes\n- Jordan has shown an interest in continuing education, actively participating in ...",
          "Cluster: 1<br>Text: ## Compensation History\n- **2015**: $150,000 base salary + Significant equity stake  \n- **2016**: $1...",
          "Cluster: 1<br>Text: # HR Record\n\n# Maxine Thompson\n\n## Summary\n- **Date of Birth:** January 15, 1991  \n- **Job Title:** ...",
          "Cluster: 1<br>Text: ## Insurellm Career Progression\n- **January 2017 - October 2018**: **Junior Data Engineer**  \n  * Ma...",
          "Cluster: 1<br>Text: ## Compensation History\n- **2017**: $70,000 (Junior Data Engineer)  \n- **2018**: $75,000 (Junior Dat...",
          "Cluster: 1<br>Text: # Samantha Greene\n\n## Summary\n- **Date of Birth:** October 14, 1990\n- **Job Title:** HR Generalist\n-...",
          "Cluster: 1<br>Text: ## Compensation History\n- **2020:** Base Salary - $55,000  \n  The entry-level salary matched industr...",
          "Cluster: 1<br>Text: - **2023:** Base Salary - $70,000  \n  Recognized for substantial improvement in employee relations m...",
          "Cluster: 1<br>Text: # HR Record\n\n# Alex Thomson\n\n## Summary\n- **Date of Birth:** March 15, 1995  \n- **Job Title:** Sales...",
          "Cluster: 1<br>Text: ## Annual Performance History  \n- **2022** - Rated as \"Exceeds Expectations.\" Alex Thomson achieved ...",
          "Cluster: 1<br>Text: ## Other HR Notes\n- Alex Thomson is an active member of the Diversity and Inclusion committee at Ins...",
          "Cluster: 1<br>Text: # HR Record\n\n# Samuel Trenton\n\n## Summary\n- **Date of Birth:** April 12, 1989  \n- **Job Title:** Sen...",
          "Cluster: 1<br>Text: ## Annual Performance History\n- **2023:** Rating: 4.5/5  \n  *Samuel exceeded expectations, successfu...",
          "Cluster: 1<br>Text: ## Compensation History\n- **2023:** Base Salary: $115,000 + Bonus: $15,000  \n  *Annual bonus based o...",
          "Cluster: 1<br>Text: # HR Record\n\n# Alex Harper\n\n## Summary\n- **Date of Birth**: March 15, 1993  \n- **Job Title**: Sales ...",
          "Cluster: 1<br>Text: ## Annual Performance History  \n- **2021**:  \n  - **Performance Rating**: 4.5/5  \n  - **Key Achievem...",
          "Cluster: 1<br>Text: - **2022**:  \n  - **Base Salary**: $65,000 (Promotion to Senior SDR)  \n  - **Bonus**: $13,000 (20% o...",
          "Cluster: 1<br>Text: # HR Record\n\n# Jordan K. Bishop\n\n## Summary\n- **Date of Birth:** March 15, 1990\n- **Job Title:** Fro...",
          "Cluster: 1<br>Text: ## Compensation History\n- **June 2018:** Starting Salary - $85,000\n- **June 2019:** Salary Increase ...",
          "Cluster: 1<br>Text: ## Other HR Notes\n- Jordan K. Bishop has been an integral part of club initiatives, including the In...",
          "Cluster: 1<br>Text: # HR Record\n\n# Emily Carter\n\n## Summary\n- **Date of Birth:** August 12, 1990  \n- **Job Title:** Acco...",
          "Cluster: 1<br>Text: ## Compensation History\n| Year | Base Salary | Bonus         | Total Compensation |\n|------|--------..."
         ],
         "type": "scatter",
         "x": {
          "bdata": "EzutwOHahcAUZrrAL92RwLbEFsAs4kTACY2RwCngbMAn1n/AVdeOwFB77b8HSD+/rfkjwE8vvsB18LXAHte0wG6tgMAN8A3ACIVewEvotcBFNyfAyA9WwEsZiMB7lkDANUN+wBWOqMAUTnTA66SSwA5/ScBlO43A",
          "dtype": "f4"
         },
         "y": {
          "bdata": "dGSZwLVyFsEeB5bA3XwZwTUKs8D66/zAnQyqwJosC8GtGFHAjQ4pwcAoQsHnDi3Bua8swSWz8sDGYBDBbuIFwWoVn8BckAfB6nuJwBwnucCtXRbBaUUewdYYssCRCA3BKSLuwL4WfcB9MCzB4y5IwKExuMAFzgnB",
          "dtype": "f4"
         }
        },
        {
         "hoverinfo": "text",
         "marker": {
          "color": "#ff7f0e",
          "line": {
           "color": "white",
           "width": 2
          },
          "size": 15,
          "symbol": "star"
         },
         "mode": "markers",
         "name": "Center 1",
         "text": "Center of Cluster 1",
         "type": "scatter",
         "x": [
          -4.07233190536499
         ],
         "y": [
          -7.075800895690918
         ]
        },
        {
         "fill": "toself",
         "fillcolor": "#2ca02c",
         "line": {
          "color": "#2ca02c",
          "width": 2
         },
         "name": "Cluster 2 boundary",
         "opacity": 0.2,
         "showlegend": true,
         "type": "scatter",
         "x": {
          "bdata": "AQAAQAo/5z84+FyOoSbjPybo9OmeZd8/pR2TCOey2T97x3aZ2iDVPzEcgr04m9E/pKQuK4Ebzj/LQDGFYsjKP+x50MqTFMk/Ib3QPZPXyD94d/Yf3+jJPwUWBrP1H8w/3QXEOFVUzz8KWnr5va7RP99GrhF0CdQ/9f/fBQym1j/au/H2RHDZPxSxxQXeU9w/LRY+U5Y83z/ZkB6AFgvhPxaF0pYwZuI/EgMs/nil4z8SJpxGz77kP1oJlAATqOU/jr0et1db5j8e09tZFfjmP5lCOexdsec/EekEqG+66D/Qe68ehkbqP2Ip6IvUe+w/foSnAxBa7z87O+6L7WzxP1L0Oi3sefM/MmKxLlXQ9T+J+UjZeWz4PwEv+XWrSvs/RXe5TTtn/j+Go8BUPd8AQH0JJGldpgJA36eCiCaHBEAEOVhXwX8GQEB3IHpWjghA6RxXlQ6xCkBa5HdNEuYMQOWH/kaKKw9A8mAzk8+/EEBWJhbIPPARQEpxZRQhJhNA9B5fypBgFECJDEE8oJ4VQC8XSbxj3xZAEhy1nO8hGEBZ+MIvWGUZQDaJsMexqBpA06u7thDrG0BVPSJPiSsdQHO4l5UvaR5A/EDNS+CgH0AjAFm0U2QgQCE5fkKh6iBAcYmxnLddIUAQL06P9bchQPZnr+a58yFATTd0oJILIkDMusvG/f4hQEGLanDV0iFAzuOHijiMIUCm/1oCRjAhQPAZG8UcxCBA2m3/v9tMIEAXbX7AQ58fQGleIyYcox5A+iVci36vHUCoCYApD84cQGBU8oEt/xtAZujo+e87G0CL4Q60On0aQJdbD9PxuxlAT3KVefnwGECGQUzKNRUYQPjk3ueKIRdA7G/J8jcQFkAo6PmXiOQUQNxO0SR9pRNArw8jwhhaEkBJlsKYXgkRQEiJVb2edA9AF+7LEWfkDECawGTjQmUKQCEf3Ldp+QdAGCjuFBOjBUDZ+VaAdmQDQLmy0n/LPwFAReI6MpNu/j/SpuajUJr6P+rvIGA+B/c/QPphcsu58z+GAiLmZrbwPxeLso3/Auw//v//Pwo/5z8=",
          "dtype": "f8"
         },
         "y": {
          "bdata": "AQAAIBovIkAMDvd52K0hQAo2pQ/cKCFAmIzoq0egIEBMJp8ZPhQgQIwvTkfECR9ANuu8Ka3kHUDNqEZwfLkcQImRp7B3iBtAms6bgORRGkA5id91CBYZQJjqLiYp1RdA6htGJ4yPFkBlRuEOd0UVQD+TvHIv9xNArCuU6PqkEkDcOCQGH08RQBHIUcLC6w9Ayqy8Hg8zDUBIcgFNrnQKQPhqmHgrsQdAQ+n5zBHpBECQP5517BwCQIuA+zuNmv4/KRHJX7z4+D8uhyODGXfzPxNGxcBdkOw/y3Y/2FQ94z/0OOQt3bTWP5JhYt/DxcQ/LW/+MhFXlz/UxInJmgKxv1eRIq9asru/mfwVj0Duur8dct4oI9auv/IZGle0iZg/lwdAIruCwj+kiywzUSLTP3ts1OBE/t4/z2yqpwNU5j83g/WZM/ntP4gJ9dAMLPM/A1sTjQ6t9z/sAqWuUnT8PwenfHFGuwBAosSvazhUA0CwgJMcWf8FQJuBz1oCtwhAx20L/Y11C0Ct6+7ZVTUOQNfQEORZeBBAHZslzwDREUDXp4mZzCETQELKkC7qZxRAktWOeYagFUD2nNdlzsgWQFcL6Rbv3RdAiwm9kbDeGEAsnlumys4ZQJnqkVXnshpAJxAtoLCPG0A7MPqG0GkcQC5sxgrxRR1AGjSpvKYoHkDC7ngBSBQfQPWRlgFeBCBA76uBU+WCIEB2hxzpnQUhQLDmBbVrjCFAxYvcqTIXIkDdOD+61qUiQB2wzNg7OCNArLMj+EXOI0AAcz6KsWckQCyW8OjYASVASuI42zaYJUCRPro7OSYmQD2SF+VNpyZAi8TzseIWJ0CzvPF8ZXAnQO1htCBErydAIhC9P8/PJ0DM0SV/QdQnQC/uwoBBwSdAepd0xHebJ0Dm/xrKjGcnQH3smzInKidA+G0QOJ3mJkBMrVsncp0mQG4wE6HLTiZAU33MRc/6JUD0GR22oqElQECMmpJrQyVAMlrae0/gJEC9CXISdHgkQNgg9/b+CyRAdyX/yRWbI0CNnR8s3iUjQBUP7r19rCJAAQAAIBovIkA=",
          "dtype": "f8"
         }
        },
        {
         "hoverinfo": "text",
         "marker": {
          "color": "#2ca02c",
          "opacity": 0.8,
          "size": 8
         },
         "mode": "markers",
         "name": "Cluster 2 points",
         "text": [
          "Cluster: 2<br>Text: # Product Summary\n\n# Markellm\n\n## Summary\n\nMarkellm is an innovative two-sided marketplace designed ...",
          "Cluster: 2<br>Text: - **User-Friendly Interface**: Designed with user experience in mind, Markellm features an intuitive...",
          "Cluster: 2<br>Text: - **Customer Support**: Our dedicated support team is always available to assist both consumers and ...",
          "Cluster: 2<br>Text: ### For Insurance Companies:\n- **Basic Listing Fee**: $199/month for a featured listing on the platf...",
          "Cluster: 2<br>Text: ### Q3 2025\n- Initiate a comprehensive marketing campaign targeting both consumers and insurers to i...",
          "Cluster: 2<br>Text: # Product Summary\n\n# Homellm\n\n## Summary\nHomellm is an innovative home insurance product developed b...",
          "Cluster: 2<br>Text: ### 2. Dynamic Pricing Model\nWith Homellm's innovative dynamic pricing model, insurance providers ca...",
          "Cluster: 2<br>Text: ### 5. Multi-Channel Integration\nHomellm seamlessly integrates into existing insurance platforms, pr...",
          "Cluster: 2<br>Text: - **Basic Tier:** Starting at $5,000/month for small insurers with basic integration features.\n- **S...",
          "Cluster: 2<br>Text: All tiers include a comprehensive training program and ongoing updates to ensure optimal performance...",
          "Cluster: 2<br>Text: With Homellm, Insurellm is committed to transforming the landscape of home insurance, ensuring both ...",
          "Cluster: 2<br>Text: # Product Summary\n\n# Carllm\n\n## Summary\n\nCarllm is an innovative auto insurance product developed by...",
          "Cluster: 2<br>Text: - **Instant Quoting**: With Carllm, insurance companies can offer near-instant quotes to customers, ...",
          "Cluster: 2<br>Text: - **Mobile Integration**: Carllm is designed to work seamlessly with mobile applications, providing ...",
          "Cluster: 2<br>Text: - **Professional Tier**: $2,500/month\n  - For medium-sized companies.\n  - All Basic Tier features pl...",
          "Cluster: 2<br>Text: ### Q2 2025: Customer Experience Improvements\n- Launch of a new **mobile app** for end-users.\n- Intr...",
          "Cluster: 2<br>Text: ## Features\n1. **AI-Powered Matching**: Access to advanced algorithms that connect GreenField Holdin...",
          "Cluster: 2<br>Text: ## Support\n1. **Customer Support Access**: The Client will have access to dedicated support through ...",
          "Cluster: 2<br>Text: ---\n\n## Features\n\n- **AI-Powered Risk Assessment**: Customer will have access to enhanced risk evalu...",
          "Cluster: 2<br>Text: ---\n\n## Features\n\n1. **Access to Core Features**: Roadway Insurance Inc. will have access to all Pro...",
          "Cluster: 2<br>Text: ## Features\n1. **AI-Powered Matching**: Belvedere Insurance will benefit from Markellm's AI-powered ...",
          "Cluster: 2<br>Text: 1. **AI-Powered Risk Assessment:** Access to advanced AI algorithms for real-time risk evaluations.\n...",
          "Cluster: 2<br>Text: 2. **Real-Time Quote Availability:**  \n   Consumers sourced via BrightWay Solutions will receive rea...",
          "Cluster: 2<br>Text: ## Features\n1. **AI-Powered Risk Assessment**: Utilized for tailored underwriting decisions specific...",
          "Cluster: 2<br>Text: # About Insurellm\n\nInsurellm was founded by Avery Lancaster in 2015 as an insurance tech startup des..."
         ],
         "type": "scatter",
         "x": {
          "bdata": "g1NYQOCfQEDbpRZAZvDFP09kfUCVD65AO9e3QC0QwEAxz+1AZYfqQIjXLj+Ku8pAM+bQQGaI5EAf/+hAvQG1QKwKgEBS+Dk/eaC7QGdq8kBfxzhATBGdQDspEEELrrdA/LRQPw==",
          "dtype": "f4"
         },
         "y": {
          "bdata": "DKIUQW1WFEGpJRZBf3ASQcbTCkG8sxtBb34pQa77HkFcERVBB2QgQXZC6T/9mN9AhbDnQGXS9UB+Av1AFVoAQZi+OUHReBFBf4QwQZ4yvkD2ZCNBVb8xQbPq7UAgtz1B00rBPg==",
          "dtype": "f4"
         }
        },
        {
         "hoverinfo": "text",
         "marker": {
          "color": "#2ca02c",
          "line": {
           "color": "white",
           "width": 2
          },
          "size": 15,
          "symbol": "star"
         },
         "mode": "markers",
         "name": "Center 2",
         "text": "Center of Cluster 2",
         "type": "scatter",
         "x": [
          4.48507022857666
         ],
         "y": [
          7.270137786865234
         ]
        },
        {
         "fill": "toself",
         "fillcolor": "#d62728",
         "line": {
          "color": "#d62728",
          "width": 2
         },
         "name": "Cluster 3 boundary",
         "opacity": 0.2,
         "showlegend": true,
         "type": "scatter",
         "x": {
          "bdata": "CwAAoAJG5b8untcXFA7sv5FYjq5VoPG/AcsZBFBp9b/0VMDYZFz5v/gktPj/c/2/zbQTmEbVAMC0KKYlPP0CwHaFKosWLwXAW+K5rgtoB8CrVm12UaUJwKj5Xcgd5AvAouKkiqYhDsBslK3RkC0QwMjxTHziRhHACRU9OGNbEsDViYr4rWkTwM3bQbBdcBTAlJZvUg1uFcDQRSDSV2EWwB91YCLYSBfAKrA8NikjGMCRgsEA5u4YwPp3+3SpqhnABBz3hQ5VGsBX+sAmsOwawJSeZUopcBvAX5Tx4xTeG8BcZ3HmDTUcwC2j8USvcxzAddN+8pOYHMDf5/dhV6IcwGZMTYZHkBzA67yLGGxjHMBiAlX6Dx0cwLzlSg1+vhvA5i8PMwFJG8DTqUNN5L0awHMcij1yHhrAt1CE5fVrGcCQD9QmuqcYwO0hG+MJ0xfAwlD7+y/vFsD9ZBZTd/0VwI0nDsoq/xTAZmGEQpX1E8B42xqeAeISwLFec766xRHAB7QvhQuiEMDLSOOnffAOwH3xtRg/kwzAA/QaIPEuCsBN4lWBKcYHwCxOqv99WwXAf8lbXoTxAsA45q1g0ooAwEpsyJP7U/y/dZaEujij97+fbhe8hwjzv/wwED4oEu2/4G+70xJU5L97wn2MTMLXv0lmRhXNHb6/LzHET+DOvz+9ny1lh5rWPw4P5WBuLOI/dbSkNi6R6D9v3HVKKHjuP69OGgYJ7/E/r4beddBf9D9qoXUsxYz2P+2pzeFBdPg/ZKvUTaEU+j/xsHgoPmz7P6bFpylzefw/sPRPCZs6/T8nSV9/EK79PzDOw0Mu0v0/ziQZ8Vmm/T8kCv7kZS/9P3F/Csfmc/w/jSGhenF6+z9RjSTjmkn6P5lf9+P35/g/PDV8YB1c9z8PqxU8oKz1P/RdJloV4PM/uOoQnhH98T9B7jfrKQrwPxHh5P68G+w/Ha1mT3UU6D8YqpOiLvXjP6XYPVYAZ98/kRB3NwKK1j/mSHKcIn3KP2LqUf/ffqs/DPE9OL3bu7+f3002ogrSv8XDalMO4N2/CAAAoAJG5b8=",
          "dtype": "f8"
         },
         "y": {
          "bdata": "BQAAIKzEAsAceyS3wfUBwM38FsQCWAHAat99NanpAMBGff/57qgAwLgwQgAOlADAFFTsNkCpAMCwQaSMv+YAwN5TEPDFSgHA+OTWT43TAcBQT56aT38CwDvtDL9GTAPAERnJq6w4BMAjLXlPu0IFwMeDw5isaAbAU3dOdrqoB8AeYsDWHgEJwHqev6gTcArAu4by2tLzC8A6df9blooNwEfEjBqYMg/AHWegAgl1EMC29mAFn1cRwBc+2wwrQBLAaGpiEMotE8DXqEkHmR8UwI4m5Oi0FBXAtxCFrDoMFsB+lH9JRwUXwAnfJrf3/hfAhx3O7Gj4GMBuHAjwt/AZwF7MOawV5xrAqp2US+TaG8Ctv8Z0jcscwLxhfs56uB3AJLNp/xWhHsBF4zauyIQfwLkQykB+MSDAf84XkI2dIMCgwlsYRwYhwMUE7axfayHAm6wiIYzMIcDO0VNIgSkiwASM1/XzgSLA7PIE/ZjVIsAvHjMxJSQjwHgluWVNbSPAcCDubcawI8DGJikdRe4jwCFQwUZ+JSTALLQNviZWJMCWamVW838kwAKLH+OYoiTAIC2TN8y9JMCcaBcnQtEkwB1VA4Wv3CTAUAquJMnfJMDgn27ZQ9okwHUtnHbUyyTAvcqNzy+0JMBhj5q3CpMkwAyTGQIaaCTAaO1hghIzJMAhtsoLqfMjwKBkzuWfqSPAuQw7rnJVI8DVbwnvI/giwF0yRT+5kiLAxPj5NTgmIsB1ZzNqprMhwOIi/XIJPCHAeM9i52bAIMCmEXBexEEgwLEbYd5Ogh/AAtFfYSt/HsAdjPNzKXwdwN6VM0RUexzAeoNAoWN+G8A9AEKGXYUawOJxikS7jxnAE7G+GvacGMB5loNHh6wXwMD6fQnovRbAkrZSn5HQFcCXoqZH/eMUwHyXHkGk9xPA5m1fyv8KE8CF/g0iiR0SwO/haAy/LhHAVOuxcVE/EMBW6Pt1daMOwLbvKzs20QzAouOFnSUNC8DhupsHhFwJwFBs/+ORxAfAuu5CnY9KBsDsOPidvfMEwMBBsVBcxQPABQAAIKzEAsA=",
          "dtype": "f8"
         }
        },
        {
         "hoverinfo": "text",
         "marker": {
          "color": "#d62728",
          "opacity": 0.8,
          "size": 8
         },
         "mode": "markers",
         "name": "Cluster 3 points",
         "text": [
          "Cluster: 3<br>Text: ## Annual Performance History\n- **2020:**  \n  - Completed onboarding successfully.  \n  - Met expecta...",
          "Cluster: 3<br>Text: Alex Chen continues to be a vital asset at Insurellm, contributing significantly to innovative backe...",
          "Cluster: 3<br>Text: ## Annual Performance History\n- **2018**: **3/5** - Adaptable team player but still learning to take...",
          "Cluster: 3<br>Text: - **January 2017 - May 2018**: Marketing Intern  \n  - Supported the Marketing team by collaborating ...",
          "Cluster: 3<br>Text: - **Professional Development Goals**:  \n  - Emily Tran aims to become a Marketing Manager within the...",
          "Cluster: 3<br>Text: # Avery Lancaster\n\n## Summary\n- **Date of Birth**: March 15, 1985  \n- **Job Title**: Co-Founder & Ch...",
          "Cluster: 3<br>Text: - **2010 - 2013**: Business Analyst at Edge Analytics  \n  Prior to joining Innovate, Avery worked as...",
          "Cluster: 3<br>Text: - **2018**: **Exceeds Expectations**  \n  Under Avery’s pivoted vision, Insurellm launched two new su...",
          "Cluster: 3<br>Text: - **2022**: **Satisfactory**  \n  Avery focused on rebuilding team dynamics and addressing employee c...",
          "Cluster: 3<br>Text: ## Other HR Notes\n- **Professional Development**: Avery has actively participated in leadership trai...",
          "Cluster: 3<br>Text: ## Annual Performance History\n- **2017**: *Meets Expectations*  \n  Maxine showed potential in her ro...",
          "Cluster: 3<br>Text: - **2021**: *Exceeds Expectations*  \n  Maxine spearheaded the transition to a new data warehousing s...",
          "Cluster: 3<br>Text: ## Annual Performance History\n- **2020:** Exceeds Expectations  \n  Samantha Greene demonstrated exce...",
          "Cluster: 3<br>Text: - **Engagement in Company Culture:** Regularly participates in team-building events and contributes ...",
          "Cluster: 3<br>Text: ## Annual Performance History\n- **2019:** Exceeds Expectations - Continuously delivered high-quality...",
          "Cluster: 3<br>Text: - **2017-2019:** Marketing Intern  \n  - Assisted with market research and campaign development for s...",
          "Cluster: 3<br>Text: Emily Carter exemplifies the kind of talent that drives Insurellm's success and is an invaluable ass..."
         ],
         "type": "scatter",
         "x": {
          "bdata": "fvxsvhUwKr+y7ni+bWrPv2uj2r+l3ms/llOiP5Od3D8cjO4/RXRkP86BcT4qXd8+jghPv0IV5cCN7aI+mE6Iv3LWb78=",
          "dtype": "f4"
         },
         "y": {
          "bdata": "tTEDwWElFsC02gHBzzW6wMuBqcBcCozA6LbQwKmQ4sCgKOPAx2eTwA81FsHvxh7BSHERwUVCzsBCOgXBCPbYwIapMcA=",
          "dtype": "f4"
         }
        },
        {
         "hoverinfo": "text",
         "marker": {
          "color": "#d62728",
          "line": {
           "color": "white",
           "width": 2
          },
          "size": 15,
          "symbol": "star"
         },
         "mode": "markers",
         "name": "Center 3",
         "text": "Center of Cluster 3",
         "type": "scatter",
         "x": [
          -0.9204732775688171
         ],
         "y": [
          -6.038032531738281
         ]
        },
        {
         "fill": "toself",
         "fillcolor": "#9467bd",
         "line": {
          "color": "#9467bd",
          "width": 2
         },
         "name": "Cluster 4 boundary",
         "opacity": 0.2,
         "showlegend": true,
         "type": "scatter",
         "x": {
          "bdata": "////P6hLFUCFspfVv1cVQP4Unu4bYBVAYOHk8PJjFUCf0T1Ce2IVQLGfekjrWhVAjAVtaXlMFUAjveYKXDYVQG+AuZLJFxVAXgm3ZvjvFEDwEbHsHr4UQBBUeYpzgRRAvInhpSw5FEDjbLukgOQTQH232OylghNAQ1NdS+MSE0CtVNc5upUSQBd5dJPHDBJAWRUJU7J5EUBOfmlzId4QQM8Iau+7OxBAbBO+g1EoD0C5qznLHdINQDaE76oqeAxAEDfcD8YdC0BVVWLZr8UJQCfQoHnVcAhA8HlszMQfB0AoJZqtC9MFQD6k/vg3iwRAoMluitdIA0DBZ789eAwCQBNRxe6n1gBADLCq8uhP/z8Ynohy1wH9PykRzhQ3xPo/J64kkSOY+D/rGTafuH72P175q/YRefQ/XfEvT0uI8j/RpmtggK3wPy99EcSZ0+0/JrthF5l86j9MURsqNljnP2OJkWuoaOQ/Ma0XSyew4T/0DAJw1GHePwO+QUNR2tk/HQGV7jPO1T/BaaJQ60HSP/gWIZDMc84/pfMLZyd1yT+ykFLjxJDFPxAVQsKCz8I/46cnwT46wT83cFCd1tnAPyGVCRQot8E/nz2g4hDbwz/NkGHGbk7HP8u1mnwfGsw/x2lMYYAj0T+miNQq+O7UP4ig0qS9c9k/Rf3QGSyw3j84sKcwhk3iP1winV5UleU/XBK/t6Uq6T90vQNdnwjtP4KwsDczlfA/GR3nB5DF8j82Q6Cv+BL1P3BBV7//evc/dDaHxzf7+T/rQKtYM5H8P2x/PgOFOv8/VQjeq1/6AECfiU9zul4CQOhSMSAcyQNAh/PA+k04BUDI+jtLGasGQAb431lHIAhAhnrqbqGWCUCpEZnS8AwLQLVMKc3+gQxAA7vYppT0DUDo6+Sne2MPQOGt2sWfZhBAoBXmXRcXEUBy8RnZr8ARQNGK6eTyYBJAKCvILmr1EkDwGylkn3sTQJ2mfzIc8RNAoBQ/R2pTFEApjvZ38KAUQC+1VODQ2xRA+BhSei8HFUDVJ+5AMCYVQBJQKC/3OxVA////P6hLFUA=",
          "dtype": "f8"
         },
         "y": {
          "bdata": "/v//fzR1E0ClXyVyhmkUQA9wTh/oZxVAf1sQkU9sFkA4TADRsnIXQIBss+gHdxhAmea+4UR1GUDH5LfFX2kaQFKRM55OTxtAdBbHdAcjHEB8ngdTgOAcQKdTikKvgx1AQWDkTIoIHkCE7qp7B2seQLkoc9gcpx5ADTivafa4HkBdCzPey6AeQAmG+o95Yh5Aa8SuKv0BHkDW4vhZVIMdQKX9gcl86hxALjHzJHQ7HEDHmfUXOHobQMVTMk7GqhpAC9raaBzRGUDcY4+TjPAYQMA32P41ChhA7Jtoe8QeF0Cd1vPZ4y4WQAouLes/OxVAa+jHf4REFED4S3doXUsTQOue7nV2UBJAfSfheHtUEUDmKwJCGFgQQL7kCUTxtw5ARII505DBDEDLvPnSZs4KQMggseTK3whApzrGqRT3BkDhlp/DmxUFQOTBo9O3PANAIUg5e8BtAUASbI23GlT/PxwwZS3s5fs/Q/XGmqST+D9r1H9C81/1P3bmXGeHTfI/lIhWmCC+7j+FDXBnei7pP5CNoMF68eM/5HQEWQAZ3j8OjF5b0gnVP/iHBytRgMk/4gCiSgAbtT+kuO0fonqVv7Sv9/RjQby/e5rA5x6xx78POGP1IEvPv8R0fQafbNK/0HMPDP4i1L+sNTOA8L3Uv3kccsIKM9S/NqMaD9SD0r82HJ2lOYLPv/9PAwhq+ce/gO6eZLIhvb8uP0mLOGGbv04RkNsYorI/Y4RcXiGDxz8GW7bpO4PTP8yDCPC329s/4njYZZpc4j8X7R1D8QTnPwG5mpT43es/qXuKL2Rv8D9BYalTPP/yP5kaDbkQmvU/BbUYYm07+D/BPS9R3t76PyfCs4jvf/0/tqeEhRYNAEB5eUltkVQBQPjc2XwulAJA3VhntbPJA0DRcyMY5/IEQCka8BoHDgZAa5qXNbQdB0DGvOFX8SYIQLeLiI3HLglAtRFG4j86CkA/WdRhY04LQNFs7Rc7cAxA4VZLENCkDUDn5YL4gPAOQBFqpUxmKhBAAjyqijXpEEC1U0NHCrURQBAcZJNAjhJA/v//fzR1E0A=",
          "dtype": "f8"
         }
        },
        {
         "hoverinfo": "text",
         "marker": {
          "color": "#9467bd",
          "opacity": 0.8,
          "size": 8
         },
         "mode": "markers",
         "name": "Cluster 4 points",
         "text": [
          "Cluster: 4<br>Text: # Product Summary\n\n# Rellm: AI-Powered Enterprise Reinsurance Solution\n\n## Summary\n\nRellm is an inno...",
          "Cluster: 4<br>Text: ### Seamless Integrations\nRellm's architecture is designed for effortless integration with existing ...",
          "Cluster: 4<br>Text: ### Regulatory Compliance Tools\nRellm includes built-in compliance tracking features to help organiz...",
          "Cluster: 4<br>Text: Join the growing number of organizations leveraging Rellm to enhance their reinsurance processes whi...",
          "Cluster: 4<br>Text: Experience the future of reinsurance with Rellm, where innovation meets reliability. Let Insurellm h...",
          "Cluster: 4<br>Text: # Contract with Apex Reinsurance for Rellm: AI-Powered Enterprise Reinsurance Solution\n\n## Terms\n\n1....",
          "Cluster: 4<br>Text: ## Renewal\n\n1. **Automatic Renewal**: This Agreement will automatically renew for successive one-yea...",
          "Cluster: 4<br>Text: 2. **Seamless Integrations**: The architecture of Rellm allows for easy integration with existing sy...",
          "Cluster: 4<br>Text: # Contract with Stellar Insurance Co. for Rellm\n\n## Terms\nThis contract is made between **Insurellm*...",
          "Cluster: 4<br>Text: ### Termination\nEither party may terminate this agreement with a **30-day written notice**. In the e...",
          "Cluster: 4<br>Text: ## Features\nStellar Insurance Co. will receive access to the following features of the Rellm product...",
          "Cluster: 4<br>Text: ## Support\nInsurellm provides Stellar Insurance Co. with the following support services:\n\n- **24/7 T...",
          "Cluster: 4<br>Text: # Contract with EverGuard Insurance for Rellm: AI-Powered Enterprise Reinsurance Solution\n\n**Contrac...",
          "Cluster: 4<br>Text: 4. **Usage Rights**: EverGuard Insurance is granted a non-exclusive, non-transferable license to acc...",
          "Cluster: 4<br>Text: 1. **Core Functionality**: Rellm provides EverGuard Insurance with advanced AI-driven analytics, sea...",
          "Cluster: 4<br>Text: 1. **Customer Support**: Insurellm will provide EverGuard Insurance with 24/7 customer support, incl...",
          "Cluster: 4<br>Text: # Overview of Insurellm\n\nInsurellm is an innovative insurance tech firm with 200 employees across th...",
          "Cluster: 4<br>Text: # Careers at Insurellm\n\nInsurellm is hiring! We are looking for talented software engineers, data sc..."
         ],
         "type": "scatter",
         "x": {
          "bdata": "aSChQFxcckBCfYhADYiaQAaL5D9EraJAQl2qQOukWUAqS1pAhC5+QA57XEB7dT5AJ4+NQB7Bj0BvToBADAxbQGcbZT/5Pbw+",
          "dtype": "f4"
         },
         "y": {
          "bdata": "clvIQNkg1UDQBMNA66X1QC8r4j8HaG1ApKmbQNz9zkAZsTFAUwYqQPoirUAF3WhAA09yQMD7lEC1R6pACo2DQIV7KD//eqS+",
          "dtype": "f4"
         }
        },
        {
         "hoverinfo": "text",
         "marker": {
          "color": "#9467bd",
          "line": {
           "color": "white",
           "width": 2
          },
          "size": 15,
          "symbol": "star"
         },
         "mode": "markers",
         "name": "Center 4",
         "text": "Center of Cluster 4",
         "type": "scatter",
         "x": [
          3.82943058013916
         ],
         "y": [
          4.175718307495117
         ]
        }
       ],
       "layout": {
        "height": 600,
        "showlegend": true,
        "template": {
         "data": {
          "bar": [
           {
            "error_x": {
             "color": "#2a3f5f"
            },
            "error_y": {
             "color": "#2a3f5f"
            },
            "marker": {
             "line": {
              "color": "#E5ECF6",
              "width": 0.5
             },
             "pattern": {
              "fillmode": "overlay",
              "size": 10,
              "solidity": 0.2
             }
            },
            "type": "bar"
           }
          ],
          "barpolar": [
           {
            "marker": {
             "line": {
              "color": "#E5ECF6",
              "width": 0.5
             },
             "pattern": {
              "fillmode": "overlay",
              "size": 10,
              "solidity": 0.2
             }
            },
            "type": "barpolar"
           }
          ],
          "carpet": [
           {
            "aaxis": {
             "endlinecolor": "#2a3f5f",
             "gridcolor": "white",
             "linecolor": "white",
             "minorgridcolor": "white",
             "startlinecolor": "#2a3f5f"
            },
            "baxis": {
             "endlinecolor": "#2a3f5f",
             "gridcolor": "white",
             "linecolor": "white",
             "minorgridcolor": "white",
             "startlinecolor": "#2a3f5f"
            },
            "type": "carpet"
           }
          ],
          "choropleth": [
           {
            "colorbar": {
             "outlinewidth": 0,
             "ticks": ""
            },
            "type": "choropleth"
           }
          ],
          "contour": [
           {
            "colorbar": {
             "outlinewidth": 0,
             "ticks": ""
            },
            "colorscale": [
             [
              0,
              "#0d0887"
             ],
             [
              0.1111111111111111,
              "#46039f"
             ],
             [
              0.2222222222222222,
              "#7201a8"
             ],
             [
              0.3333333333333333,
              "#9c179e"
             ],
             [
              0.4444444444444444,
              "#bd3786"
             ],
             [
              0.5555555555555556,
              "#d8576b"
             ],
             [
              0.6666666666666666,
              "#ed7953"
             ],
             [
              0.7777777777777778,
              "#fb9f3a"
             ],
             [
              0.8888888888888888,
              "#fdca26"
             ],
             [
              1,
              "#f0f921"
             ]
            ],
            "type": "contour"
           }
          ],
          "contourcarpet": [
           {
            "colorbar": {
             "outlinewidth": 0,
             "ticks": ""
            },
            "type": "contourcarpet"
           }
          ],
          "heatmap": [
           {
            "colorbar": {
             "outlinewidth": 0,
             "ticks": ""
            },
            "colorscale": [
             [
              0,
              "#0d0887"
             ],
             [
              0.1111111111111111,
              "#46039f"
             ],
             [
              0.2222222222222222,
              "#7201a8"
             ],
             [
              0.3333333333333333,
              "#9c179e"
             ],
             [
              0.4444444444444444,
              "#bd3786"
             ],
             [
              0.5555555555555556,
              "#d8576b"
             ],
             [
              0.6666666666666666,
              "#ed7953"
             ],
             [
              0.7777777777777778,
              "#fb9f3a"
             ],
             [
              0.8888888888888888,
              "#fdca26"
             ],
             [
              1,
              "#f0f921"
             ]
            ],
            "type": "heatmap"
           }
          ],
          "histogram": [
           {
            "marker": {
             "pattern": {
              "fillmode": "overlay",
              "size": 10,
              "solidity": 0.2
             }
            },
            "type": "histogram"
           }
          ],
          "histogram2d": [
           {
            "colorbar": {
             "outlinewidth": 0,
             "ticks": ""
            },
            "colorscale": [
             [
              0,
              "#0d0887"
             ],
             [
              0.1111111111111111,
              "#46039f"
             ],
             [
              0.2222222222222222,
              "#7201a8"
             ],
             [
              0.3333333333333333,
              "#9c179e"
             ],
             [
              0.4444444444444444,
              "#bd3786"
             ],
             [
              0.5555555555555556,
              "#d8576b"
             ],
             [
              0.6666666666666666,
              "#ed7953"
             ],
             [
              0.7777777777777778,
              "#fb9f3a"
             ],
             [
              0.8888888888888888,
              "#fdca26"
             ],
             [
              1,
              "#f0f921"
             ]
            ],
            "type": "histogram2d"
           }
          ],
          "histogram2dcontour": [
           {
            "colorbar": {
             "outlinewidth": 0,
             "ticks": ""
            },
            "colorscale": [
             [
              0,
              "#0d0887"
             ],
             [
              0.1111111111111111,
              "#46039f"
             ],
             [
              0.2222222222222222,
              "#7201a8"
             ],
             [
              0.3333333333333333,
              "#9c179e"
             ],
             [
              0.4444444444444444,
              "#bd3786"
             ],
             [
              0.5555555555555556,
              "#d8576b"
             ],
             [
              0.6666666666666666,
              "#ed7953"
             ],
             [
              0.7777777777777778,
              "#fb9f3a"
             ],
             [
              0.8888888888888888,
              "#fdca26"
             ],
             [
              1,
              "#f0f921"
             ]
            ],
            "type": "histogram2dcontour"
           }
          ],
          "mesh3d": [
           {
            "colorbar": {
             "outlinewidth": 0,
             "ticks": ""
            },
            "type": "mesh3d"
           }
          ],
          "parcoords": [
           {
            "line": {
             "colorbar": {
              "outlinewidth": 0,
              "ticks": ""
             }
            },
            "type": "parcoords"
           }
          ],
          "pie": [
           {
            "automargin": true,
            "type": "pie"
           }
          ],
          "scatter": [
           {
            "fillpattern": {
             "fillmode": "overlay",
             "size": 10,
             "solidity": 0.2
            },
            "type": "scatter"
           }
          ],
          "scatter3d": [
           {
            "line": {
             "colorbar": {
              "outlinewidth": 0,
              "ticks": ""
             }
            },
            "marker": {
             "colorbar": {
              "outlinewidth": 0,
              "ticks": ""
             }
            },
            "type": "scatter3d"
           }
          ],
          "scattercarpet": [
           {
            "marker": {
             "colorbar": {
              "outlinewidth": 0,
              "ticks": ""
             }
            },
            "type": "scattercarpet"
           }
          ],
          "scattergeo": [
           {
            "marker": {
             "colorbar": {
              "outlinewidth": 0,
              "ticks": ""
             }
            },
            "type": "scattergeo"
           }
          ],
          "scattergl": [
           {
            "marker": {
             "colorbar": {
              "outlinewidth": 0,
              "ticks": ""
             }
            },
            "type": "scattergl"
           }
          ],
          "scattermap": [
           {
            "marker": {
             "colorbar": {
              "outlinewidth": 0,
              "ticks": ""
             }
            },
            "type": "scattermap"
           }
          ],
          "scattermapbox": [
           {
            "marker": {
             "colorbar": {
              "outlinewidth": 0,
              "ticks": ""
             }
            },
            "type": "scattermapbox"
           }
          ],
          "scatterpolar": [
           {
            "marker": {
             "colorbar": {
              "outlinewidth": 0,
              "ticks": ""
             }
            },
            "type": "scatterpolar"
           }
          ],
          "scatterpolargl": [
           {
            "marker": {
             "colorbar": {
              "outlinewidth": 0,
              "ticks": ""
             }
            },
            "type": "scatterpolargl"
           }
          ],
          "scatterternary": [
           {
            "marker": {
             "colorbar": {
              "outlinewidth": 0,
              "ticks": ""
             }
            },
            "type": "scatterternary"
           }
          ],
          "surface": [
           {
            "colorbar": {
             "outlinewidth": 0,
             "ticks": ""
            },
            "colorscale": [
             [
              0,
              "#0d0887"
             ],
             [
              0.1111111111111111,
              "#46039f"
             ],
             [
              0.2222222222222222,
              "#7201a8"
             ],
             [
              0.3333333333333333,
              "#9c179e"
             ],
             [
              0.4444444444444444,
              "#bd3786"
             ],
             [
              0.5555555555555556,
              "#d8576b"
             ],
             [
              0.6666666666666666,
              "#ed7953"
             ],
             [
              0.7777777777777778,
              "#fb9f3a"
             ],
             [
              0.8888888888888888,
              "#fdca26"
             ],
             [
              1,
              "#f0f921"
             ]
            ],
            "type": "surface"
           }
          ],
          "table": [
           {
            "cells": {
             "fill": {
              "color": "#EBF0F8"
             },
             "line": {
              "color": "white"
             }
            },
            "header": {
             "fill": {
              "color": "#C8D4E3"
             },
             "line": {
              "color": "white"
             }
            },
            "type": "table"
           }
          ]
         },
         "layout": {
          "annotationdefaults": {
           "arrowcolor": "#2a3f5f",
           "arrowhead": 0,
           "arrowwidth": 1
          },
          "autotypenumbers": "strict",
          "coloraxis": {
           "colorbar": {
            "outlinewidth": 0,
            "ticks": ""
           }
          },
          "colorscale": {
           "diverging": [
            [
             0,
             "#8e0152"
            ],
            [
             0.1,
             "#c51b7d"
            ],
            [
             0.2,
             "#de77ae"
            ],
            [
             0.3,
             "#f1b6da"
            ],
            [
             0.4,
             "#fde0ef"
            ],
            [
             0.5,
             "#f7f7f7"
            ],
            [
             0.6,
             "#e6f5d0"
            ],
            [
             0.7,
             "#b8e186"
            ],
            [
             0.8,
             "#7fbc41"
            ],
            [
             0.9,
             "#4d9221"
            ],
            [
             1,
             "#276419"
            ]
           ],
           "sequential": [
            [
             0,
             "#0d0887"
            ],
            [
             0.1111111111111111,
             "#46039f"
            ],
            [
             0.2222222222222222,
             "#7201a8"
            ],
            [
             0.3333333333333333,
             "#9c179e"
            ],
            [
             0.4444444444444444,
             "#bd3786"
            ],
            [
             0.5555555555555556,
             "#d8576b"
            ],
            [
             0.6666666666666666,
             "#ed7953"
            ],
            [
             0.7777777777777778,
             "#fb9f3a"
            ],
            [
             0.8888888888888888,
             "#fdca26"
            ],
            [
             1,
             "#f0f921"
            ]
           ],
           "sequentialminus": [
            [
             0,
             "#0d0887"
            ],
            [
             0.1111111111111111,
             "#46039f"
            ],
            [
             0.2222222222222222,
             "#7201a8"
            ],
            [
             0.3333333333333333,
             "#9c179e"
            ],
            [
             0.4444444444444444,
             "#bd3786"
            ],
            [
             0.5555555555555556,
             "#d8576b"
            ],
            [
             0.6666666666666666,
             "#ed7953"
            ],
            [
             0.7777777777777778,
             "#fb9f3a"
            ],
            [
             0.8888888888888888,
             "#fdca26"
            ],
            [
             1,
             "#f0f921"
            ]
           ]
          },
          "colorway": [
           "#636efa",
           "#EF553B",
           "#00cc96",
           "#ab63fa",
           "#FFA15A",
           "#19d3f3",
           "#FF6692",
           "#B6E880",
           "#FF97FF",
           "#FECB52"
          ],
          "font": {
           "color": "#2a3f5f"
          },
          "geo": {
           "bgcolor": "white",
           "lakecolor": "white",
           "landcolor": "#E5ECF6",
           "showlakes": true,
           "showland": true,
           "subunitcolor": "white"
          },
          "hoverlabel": {
           "align": "left"
          },
          "hovermode": "closest",
          "mapbox": {
           "style": "light"
          },
          "paper_bgcolor": "white",
          "plot_bgcolor": "#E5ECF6",
          "polar": {
           "angularaxis": {
            "gridcolor": "white",
            "linecolor": "white",
            "ticks": ""
           },
           "bgcolor": "#E5ECF6",
           "radialaxis": {
            "gridcolor": "white",
            "linecolor": "white",
            "ticks": ""
           }
          },
          "scene": {
           "xaxis": {
            "backgroundcolor": "#E5ECF6",
            "gridcolor": "white",
            "gridwidth": 2,
            "linecolor": "white",
            "showbackground": true,
            "ticks": "",
            "zerolinecolor": "white"
           },
           "yaxis": {
            "backgroundcolor": "#E5ECF6",
            "gridcolor": "white",
            "gridwidth": 2,
            "linecolor": "white",
            "showbackground": true,
            "ticks": "",
            "zerolinecolor": "white"
           },
           "zaxis": {
            "backgroundcolor": "#E5ECF6",
            "gridcolor": "white",
            "gridwidth": 2,
            "linecolor": "white",
            "showbackground": true,
            "ticks": "",
            "zerolinecolor": "white"
           }
          },
          "shapedefaults": {
           "line": {
            "color": "#2a3f5f"
           }
          },
          "ternary": {
           "aaxis": {
            "gridcolor": "white",
            "linecolor": "white",
            "ticks": ""
           },
           "baxis": {
            "gridcolor": "white",
            "linecolor": "white",
            "ticks": ""
           },
           "bgcolor": "#E5ECF6",
           "caxis": {
            "gridcolor": "white",
            "linecolor": "white",
            "ticks": ""
           }
          },
          "title": {
           "x": 0.05
          },
          "xaxis": {
           "automargin": true,
           "gridcolor": "white",
           "linecolor": "white",
           "ticks": "",
           "title": {
            "standoff": 15
           },
           "zerolinecolor": "white",
           "zerolinewidth": 2
          },
          "yaxis": {
           "automargin": true,
           "gridcolor": "white",
           "linecolor": "white",
           "ticks": "",
           "title": {
            "standoff": 15
           },
           "zerolinecolor": "white",
           "zerolinewidth": 2
          }
         }
        },
        "title": {
         "text": "Document Clusters Visualization (hull_curve)"
        },
        "width": 800,
        "xaxis": {
         "title": {
          "text": "t-SNE dimension 1"
         }
        },
        "yaxis": {
         "title": {
          "text": "t-SNE dimension 2"
         }
        }
       }
      }
     },
     "metadata": {},
     "output_type": "display_data"
    },
    {
     "data": {
      "application/vnd.plotly.v1+json": {
       "config": {
        "plotlyServerURL": "https://plot.ly"
       },
       "data": [
        {
         "fill": "toself",
         "fillcolor": "#1f77b4",
         "line": {
          "color": "#1f77b4",
          "width": 2
         },
         "name": "Cluster 0 boundary",
         "opacity": 0.2,
         "showlegend": true,
         "type": "scatter",
         "x": {
          "bdata": "AAAASByrJUCI8eOzW6MlQNLiTvUhjCVAMF1B/YZlJUAcbk+Xsi8lQL0Tm0Dc6iRAgkeh7kqXJEBLnRTGVDUkQIDdEMJexSNAOCMDTNxHI0Cay7HETr0iQEjZ3v5EJiJAvUUOrFqDIUDiAwi8N9UgQEoku6+PHCBAmhtpwEG0HkCID9B0Zx0dQDayK+EzdhtAg+lDRFvAGUCzC3f1oP0XQHlEeZPVLxZAPt5jJdVYFEBgIwIwhXoSQFGqVcHSlhBAi+qr6GBfDUA5oO7dKI4JQAp6FbnsvQVAhAgZzZryAUBCZOK3OGD8Pw7v7Ryj9PQ/+ICc1jVU6z9olyDLkCDaP4C3ZpyzeZq/IAAAAHWT3L/I4lshnkPrv3g8Px0M2vO//ClZFSvH+b/4X2kXEGP/vxSBXX75UwLAjiaepzLIBMA472fxqwsHwD4WMgYQHAnAbHe4OD73CsAGg3K1TJsMwN6rf3uKBg7AbtMAG4E3D8A8TIkbexYQwEdU7WT2chDAHQWtFNOwEMC+wftl0c8QwL7B+2XRzxDAHQWtFNOwEMBHVO1k9nIQwDxMiRt7FhDAbtMAG4E3D8Dgq397igYOwAaDcrVMmwzAbne4OD73CsA8FjIGEBwJwDrvZ/GrCwfAjCaepzLIBMAWgV1++VMCwPRfaRcQY/+/ACpZFSvH+b9wPD8dDNrzv9jiWyGeQ+u/yP///3ST3L8Atmacs3mav2iXIMuQINo/7ICc1jVU6z8c7+0co/T0P0hk4rc4YPw/hAgZzZryAUAGehW57L0FQECg7t0ojglAjuqr6GBfDUBPqlXB0pYQQFwjAjCFehJAQN5jJdVYFEB4RHmT1S8WQLILd/Wg/RdAhulDRFvAGUA4sivhM3YbQIgP0HRnHR1AmRtpwEG0HkBMJLuvjxwgQOIDCLw31SBAvEUOrFqDIUBI2d7+RCYiQJrLscROvSJAOCMDTNxHI0CA3RDCXsUjQEudFMZUNSRAgkeh7kqXJEC9E5tA3OokQBxuT5eyLyVAMF1B/YZlJUDS4k71IYwlQIjx47NboyVAAAAASByrJUA=",
          "dtype": "f8"
         },
         "y": {
          "bdata": "AAAAQOL9DEAAJ//oXWcQQEJgXjfTTRJAAf18l1swFEAazqGhBQ0WQJCPt/rl4RdA3/TMThmtGUCKOU5DxmwbQDyh9l4fHx1A7euC5WTCHkAOMZ1ScyogQERbOdqC6iBADr+hDpugIUD6Ldg6AEwiQHCRUrEB7CJAOoEagvp/I0B3o9IkUgckQNiS8hV9gSRAzjaXZv3tJEBuTlM+Y0wlQFpdek5NnCVA8CFvNmndJUDuLo7Ycw8mQN0fXZ85MiZALhe3spZFJkACtr8cd0kmQBh3dt7WPSZAIDfV88EiJkCKq3VHVPglQKaDypW5viVALt4JQC12JUBpjPcO+h4lQJo7zuV5uSRA4vuWZRVGJEAaqE6BQ8UjQEhcSAOJNyNArl9LBHidIkCanPlUr/chQMPjGdrZRiFAsrxu3K2LIECmtJ6Z2I0fQMjKiPq/8h1AcELrn7lHHECc3X+5fY4aQFWnqRzTyBhAxcWab434FkDAXkRHix8VQPx5ATq0PxNAJWv56PZaEUCGvX8EjuYOQHZCgHs2FQtAsykNrtZFB0AEDP0LXHwDQAmF7uJbef8/5uiUQVMV+D+0YlmNPNTwPxQTATQke+M/ULKXAhTFxj8QWRlRt5vOvyil9cyyf+S/kOV14+Vl8L8UHs/QRT/2v9DkzKfxxfu/tn4tkRt6AMAgcSGNX+ICwGigOoVJGQXAjO9bFpEcB8Bq7jgXI+oIwKQx3rsjgArAuHgngPDcC8CaDirXIf8MwCqu1p2M5Q3AgtxUT0OPDsBc3Nn5lvsOwAjY/vIXKg/AuFzcSpYaD8B0f3T9Ic0OwLy7OOIKQg7Avoe8WeB5DcBmdem5cHUMwLg5TXnINQvANNtcGjG8CcBgS8rXLwoIwNyNShOEIQbA6gRqiCUEBMC6RUpFQrQBwNBvwdZ4aP6/bPgNdU8N+b8s2srRjVzzv9gQ0ykjuOq/0L4uWCpI3L/AnlB7j56gv0BnHMu/Edk/IFmYiUeG6j/CwSEV8W/0P5THeHlyw/s/BgYGUQ2bAUCAP0MRHmAFQACyAa4ILQlA/P//P+L9DEA=",
          "dtype": "f8"
         }
        },
        {
         "hoverinfo": "text",
         "marker": {
          "color": "#1f77b4",
          "opacity": 0.8,
          "size": 8
         },
         "mode": "markers",
         "name": "Cluster 0 points",
         "text": [
          "Cluster: 0<br>Text: # Contract with GreenField Holdings for Markellm\n\n**Effective Date:** November 15, 2023  \n**Contract...",
          "Cluster: 0<br>Text: ## Renewal\n1. **Automatic Renewal**: This contract will automatically renew for sequential one-year ...",
          "Cluster: 0<br>Text: **Signatures:**  \n_________________________                           _________________________  \n**...",
          "Cluster: 0<br>Text: 1. **Technical Support**: Provider shall offer dedicated technical support to the Client via phone, ...",
          "Cluster: 0<br>Text: **Insurellm, Inc.**  \n_____________________________  \nAuthorized Signature   \nDate: ________________...",
          "Cluster: 0<br>Text: # Contract with Greenstone Insurance for Homellm\n\n---\n\n## Terms\n\n1. **Parties**: This Contract (\"Agr...",
          "Cluster: 0<br>Text: 4. **Payment Terms**: \n   - The Customer shall pay an amount of $10,000 per month for the Standard T...",
          "Cluster: 0<br>Text: - **Customer Portal**: A dedicated portal will be provided, allowing the Customer's clients to manag...",
          "Cluster: 0<br>Text: ______________________________  \n[Name], [Title]  \nDate: ______________________\n\n**For Greenstone In...",
          "Cluster: 0<br>Text: # Contract with Roadway Insurance Inc. for Carllm\n\n---\n\n## Terms\n\n1. **Agreement Effective Date**: T...",
          "Cluster: 0<br>Text: ---\n\n## Renewal\n\n1. **Automatic Renewal**: This agreement will automatically renew for an additional...",
          "Cluster: 0<br>Text: ---\n\n## Support\n\n1. **Technical Support**: Roadway Insurance Inc. will receive priority technical su...",
          "Cluster: 0<br>Text: # Contract with TechDrive Insurance for Carllm\n\n**Contract Date:** October 1, 2024  \n**Contract Dura...",
          "Cluster: 0<br>Text: ## Renewal\n\n1. **Automatic Renewal**: This contract shall automatically renew for additional one-yea...",
          "Cluster: 0<br>Text: ## Support\n\n1. **Customer Support**: Insurellm will provide 24/7 customer support to TechDrive Insur...",
          "Cluster: 0<br>Text: **TechDrive Insurance Representative:**  \nName: Sarah Johnson  \nTitle: Operations Director  \nDate: _...",
          "Cluster: 0<br>Text: # Contract with Belvedere Insurance for Markellm\n\n## Terms\nThis Contract (\"Agreement\") is made and e...",
          "Cluster: 0<br>Text: ## Renewal\n1. **Renewal Terms**: This Agreement may be renewed for additional one-year terms upon mu...",
          "Cluster: 0<br>Text: ## Support\n1. **Technical Support**: Technical support will be available from 9 AM to 7 PM EST, Mond...",
          "Cluster: 0<br>Text: **Belvedere Insurance**  \nSignature: ______________________  \nName: [Authorized Signatory]  \nTitle: ...",
          "Cluster: 0<br>Text: # Contract with Velocity Auto Solutions for Carllm\n\n**Contract Date:** October 1, 2023  \n**Contract ...",
          "Cluster: 0<br>Text: ## Renewal\n\n1. **Automatic Renewal**: This contract will automatically renew for successive 12-month...",
          "Cluster: 0<br>Text: ## Support\n\n1. **Customer Support**: Velocity Auto Solutions will have access to Insurellm’s custome...",
          "Cluster: 0<br>Text: # Contract with GreenValley Insurance for Homellm\n\n**Contract Date:** October 6, 2023  \n**Contract N...",
          "Cluster: 0<br>Text: 4. **Confidentiality:** Both parties agree to maintain the confidentiality of proprietary informatio...",
          "Cluster: 0<br>Text: 3. **Regular Updates:** Insurellm will offer ongoing updates and enhancements to the Homellm platfor...",
          "Cluster: 0<br>Text: ---\n\n**Signatures**  \n**For Insurellm**: __________________________  \n**Name**: John Smith  \n**Title...",
          "Cluster: 0<br>Text: # Contract with BrightWay Solutions for Markellm\n\n**Contract Date:** October 5, 2023  \n**Contract ID...",
          "Cluster: 0<br>Text: 3. **Service Level Agreement (SLA):**  \n   Insurellm commits to a 99.9% uptime for the platform with...",
          "Cluster: 0<br>Text: 3. **Training and Onboarding:**  \n   Insurellm agrees to provide one free training session on how to...",
          "Cluster: 0<br>Text: # Contract with Pinnacle Insurance Co. for Homellm\n\n## Terms\nThis contract (\"Contract\") is entered i...",
          "Cluster: 0<br>Text: ## Renewal\n1. **Renewal Terms**: At the end of the initial term, this Contract shall automatically r...",
          "Cluster: 0<br>Text: ## Support\n1. **Technical Support**: Insurellm shall provide 24/7 technical support via an email and..."
         ],
         "type": "scatter",
         "x": {
          "bdata": "onyAPSpUO8CXkYBAkaQKQEyyeEBOjQO/SzTjv+84GD8/V4tAPy8LQeIlDEGkTdxA2k77QKkv7kAKK9RALSbZQK7nID+KE1bAiR/iP2KfkEB98vxAQmboQPGcy0ArJW2/FmAov/JwVr5YP21AZJKbP93PEEFPq60/oKYYvkdnSsBGxJo/",
          "dtype": "f4"
         },
         "y": {
          "bdata": "7k3cQPDb3kBY6X+/25SIQLP1AL+K76FAg4qzQI03jEB42pq/BQVMQGLOkECoEV5AtK8fQCI6j0CIBwVAGbOnP/8X7kDE0+NAZfFxQER9GL7HgEFAYECXQO50I0Cc4oZAj953QB+9VEDcU2g/ebnXQLYr0EBjUMVACjOhQEHJ4UBAGn5A",
          "dtype": "f4"
         }
        },
        {
         "hoverinfo": "text",
         "marker": {
          "color": "#1f77b4",
          "line": {
           "color": "white",
           "width": 2
          },
          "size": 15,
          "symbol": "star"
         },
         "mode": "markers",
         "name": "Center 0",
         "text": "Center of Cluster 0",
         "type": "scatter",
         "x": [
          3.3137333393096924
         ],
         "y": [
          3.623966693878174
         ]
        },
        {
         "fill": "toself",
         "fillcolor": "#ff7f0e",
         "line": {
          "color": "#ff7f0e",
          "width": 2
         },
         "name": "Cluster 1 boundary",
         "opacity": 0.2,
         "showlegend": true,
         "type": "scatter",
         "x": {
          "bdata": "AAAAAF849z+0EKwD0gr3P2S/FQNagvY/TJ8Gq4Of9T+Il6nPOGP0Pwy7gXu/zvI/MDJTn7jj8D9YUrHIPEjtP0CZAEWEJOg/qFmU+ZNh4j9ACvqYuArYPwBcY5KuWcQ/AJ9xxMIgs7/o4JhJ9MTUv5h4rkt83OK/UPDx6GHJ679izy3V+4/yv7z50KVOa/e/6JtSwadx/L9mum6U7M4AwKYgWu1GdQPAIeyiqCcpBsD+xWaSxecIwCLh2GRMrgvAKonast95DsB7rH3tzqMQwLhp639RChLAmchfAQZvE8Ax69K+fNAUwC8XlFxJLRbApE/gTQSEF8CcEIRHTNMYwFweCqzHGRrAAgAA8CVWG8DQ5eD0IIccwD5fQVl+qx3AMFjhvBDCHsC0Tlb3uMkfwMnBBqCzYCDA+oE6Iw7UIMBKYJUcdT4hwFczkd16nyHAUKPiYrv2IcAKmJG73EMiwPDbr2WPhiLAumFOoI6+IsDPsFyyoOsiwNxpKSaXDSPAfo1G+U4kI8DcJqDAsC8jwNwmoMCwLyPAfo1G+U4kI8DcaSkmlw0jwM+wXLKg6yLAumFOoI6+IsDw269lj4YiwAqYkbvcQyLAUKPiYrv2IcBWM5Hdep8hwEpglRx1PiHA+oE6Iw7UIMDKwQags2AgwLROVve4yR/AMFjhvBDCHsA9X0FZfqsdwNLl4PQghxzA/v//7yVWG8BcHgqsxxkawJwQhEdM0xjApU/gTQSEF8AsF5RcSS0WwDDr0r580BTAmchfAQZvE8C5aet/UQoSwHmsfe3OoxDAJ4nast95DsAl4dhkTK4LwATGZpLF5wjAHuyiqCcpBsCnIFrtRnUDwGi6bpTszgDA3ptSwadx/L+4+dClTmv3v2LPLdX7j/K/XPDx6GHJ67+IeK5LfNziv+DgmEn0xNS/IJ9xxMIgs7/AW2OSrlnEP2AK+pi4Ctg/qFmU+ZNh4j9AmQBFhCToP1BSscg8SO0/NDJTn7jj8D8Mu4F7v87yP4iXqc84Y/Q/UJ8Gq4Of9T9kvxUDWoL2P7QQrAPSCvc/AAAAAF849z8=",
          "dtype": "f8"
         },
         "y": {
          "bdata": "AAAAwJ5NHMAUF3td4uYawMsi5cWXgRnAY178Ri8fGMDIgqY1FsEWwHdJWXW1aBXALG4XBHAXFMCdqYGMoc4SwJ7bdP+cjxHATtKmNqtbEMCTrFNDE2gOwBrWaP3RMwzAUiP9QNgcCsBYvvCETSUIwBbbHdk4TwbAsklJz36cBMCoRqGH3w4DwDRvzeL0pwHAxAZs2zBpAMAALGARuKf+vzQNU5co0vy/cMgoUZdT+78kEb6aji36vwC60Iw9Yfm/1G2PxHbv+L8AsH6Kr9j4vzDwkln/HPm/dFH8xh+8+b/QF73KbLX6vyDpv2jlB/y/4JS/uSyy/b/0UO9Si7L/v5RWeIV4AwHA8CgijXtWAsBqKIJK8dADwORirZ1TcQXAqg3nTvU1B8AB7xLJAx0JwPr4q/qIJAvAYkxPW21KDcDcJMYTeowPwGPQKqMt9BDAJgl9OtEtEsA3WIqB5HETwDwZ+2cZvxTAcqDLcxgUFsAgZFwjgm8XwHQdyVfwzxjAil4RxvczGsBGFJZtKZobwLvraRIUAR3Ad6HuuUVnHsCN4jYoTcsfwPDNUa7dlSDAxy8ahpJDIcBicwIMEu4hwOXTOn+slCLAbHvBIrY2I8DPl2ruh9MjwMh2DjuAaiTA6CwsaQP7JMDBAVWBfIQlwEBEu81dBibAlTxGbCGAJsBIp5TYSfEmwOV1X21iWSfAxHW33P+3J8Bc6qGewAwowOIVolVNVyjAZA3IKFmXKMDcAugSoswowAZdqCbx9ijA0nUgxxoWKcD6oc3U/ikpwAAqsM6IMinARhJu568vKcDA6GUOdyEpwNw9qOzsBynA8uba1SvjKMBanhWtWbMowID6072neCjAT/4kiVIzKMAypEyHoeMnwFauF97miSfAlK0tDH8mJ8A6ibiJ0LkmwGrQw15LRCbALLfAr2jGJcB6yqVAqkAlwNsUK++ZsyTA2ZasJMkfJMAykkVA0IUjwDIrv/lN5iLA6Uj0veZBIsBEW1MFRJkhwJ2+LKUT7SDAzdCBHAc+IMAz3Rq6pRkfwOzohCJbtB3AAgAAwJ5NHMA=",
          "dtype": "f8"
         }
        },
        {
         "hoverinfo": "text",
         "marker": {
          "color": "#ff7f0e",
          "opacity": 0.8,
          "size": 8
         },
         "mode": "markers",
         "name": "Cluster 1 points",
         "text": [
          "Cluster: 1<br>Text: # HR Record\n\n# Alex Chen\n\n## Summary\n- **Date of Birth:** March 15, 1990  \n- **Job Title:** Backend ...",
          "Cluster: 1<br>Text: ## Compensation History\n- **2020:** Base Salary: $80,000  \n- **2021:** Base Salary Increase to $90,0...",
          "Cluster: 1<br>Text: # HR Record\n\n# Oliver Spencer\n\n## Summary\n- **Date of Birth**: May 14, 1990  \n- **Job Title**: Backe...",
          "Cluster: 1<br>Text: ## Compensation History\n- **March 2018**: Initial salary of $80,000.\n- **July 2019**: Salary increas...",
          "Cluster: 1<br>Text: # HR Record\n\n# Emily Tran\n\n## Summary\n- **Date of Birth:** March 18, 1991  \n- **Job Title:** Digital...",
          "Cluster: 1<br>Text: - **2021**:  \n  - Performance Rating: Meets Expectations  \n  - Key Achievements: Contributed to the ...",
          "Cluster: 1<br>Text: # HR Record\n\n# Jordan Blake\n\n## Summary\n- **Date of Birth:** March 15, 1993  \n- **Job Title:** Sales...",
          "Cluster: 1<br>Text: ## Annual Performance History\n- **2021:** First year at Insurellm; achieved 90% of monthly targets. ...",
          "Cluster: 1<br>Text: ## Other HR Notes\n- Jordan has shown an interest in continuing education, actively participating in ...",
          "Cluster: 1<br>Text: ## Compensation History\n- **2015**: $150,000 base salary + Significant equity stake  \n- **2016**: $1...",
          "Cluster: 1<br>Text: # HR Record\n\n# Maxine Thompson\n\n## Summary\n- **Date of Birth:** January 15, 1991  \n- **Job Title:** ...",
          "Cluster: 1<br>Text: ## Insurellm Career Progression\n- **January 2017 - October 2018**: **Junior Data Engineer**  \n  * Ma...",
          "Cluster: 1<br>Text: ## Compensation History\n- **2017**: $70,000 (Junior Data Engineer)  \n- **2018**: $75,000 (Junior Dat...",
          "Cluster: 1<br>Text: # Samantha Greene\n\n## Summary\n- **Date of Birth:** October 14, 1990\n- **Job Title:** HR Generalist\n-...",
          "Cluster: 1<br>Text: ## Compensation History\n- **2020:** Base Salary - $55,000  \n  The entry-level salary matched industr...",
          "Cluster: 1<br>Text: - **2023:** Base Salary - $70,000  \n  Recognized for substantial improvement in employee relations m...",
          "Cluster: 1<br>Text: # HR Record\n\n# Alex Thomson\n\n## Summary\n- **Date of Birth:** March 15, 1995  \n- **Job Title:** Sales...",
          "Cluster: 1<br>Text: ## Annual Performance History  \n- **2022** - Rated as \"Exceeds Expectations.\" Alex Thomson achieved ...",
          "Cluster: 1<br>Text: ## Other HR Notes\n- Alex Thomson is an active member of the Diversity and Inclusion committee at Ins...",
          "Cluster: 1<br>Text: # HR Record\n\n# Samuel Trenton\n\n## Summary\n- **Date of Birth:** April 12, 1989  \n- **Job Title:** Sen...",
          "Cluster: 1<br>Text: ## Annual Performance History\n- **2023:** Rating: 4.5/5  \n  *Samuel exceeded expectations, successfu...",
          "Cluster: 1<br>Text: ## Compensation History\n- **2023:** Base Salary: $115,000 + Bonus: $15,000  \n  *Annual bonus based o...",
          "Cluster: 1<br>Text: # HR Record\n\n# Alex Harper\n\n## Summary\n- **Date of Birth**: March 15, 1993  \n- **Job Title**: Sales ...",
          "Cluster: 1<br>Text: ## Annual Performance History  \n- **2021**:  \n  - **Performance Rating**: 4.5/5  \n  - **Key Achievem...",
          "Cluster: 1<br>Text: - **2022**:  \n  - **Base Salary**: $65,000 (Promotion to Senior SDR)  \n  - **Bonus**: $13,000 (20% o...",
          "Cluster: 1<br>Text: # HR Record\n\n# Jordan K. Bishop\n\n## Summary\n- **Date of Birth:** March 15, 1990\n- **Job Title:** Fro...",
          "Cluster: 1<br>Text: ## Compensation History\n- **June 2018:** Starting Salary - $85,000\n- **June 2019:** Salary Increase ...",
          "Cluster: 1<br>Text: ## Other HR Notes\n- Jordan K. Bishop has been an integral part of club initiatives, including the In...",
          "Cluster: 1<br>Text: # HR Record\n\n# Emily Carter\n\n## Summary\n- **Date of Birth:** August 12, 1990  \n- **Job Title:** Acco...",
          "Cluster: 1<br>Text: ## Compensation History\n| Year | Base Salary | Bonus         | Total Compensation |\n|------|--------..."
         ],
         "type": "scatter",
         "x": {
          "bdata": "EzutwOHahcAUZrrAL92RwLbEFsAs4kTACY2RwCngbMAn1n/AVdeOwFB77b8HSD+/rfkjwE8vvsB18LXAHte0wG6tgMAN8A3ACIVewEvotcBFNyfAyA9WwEsZiMB7lkDANUN+wBWOqMAUTnTA66SSwA5/ScBlO43A",
          "dtype": "f4"
         },
         "y": {
          "bdata": "dGSZwLVyFsEeB5bA3XwZwTUKs8D66/zAnQyqwJosC8GtGFHAjQ4pwcAoQsHnDi3Bua8swSWz8sDGYBDBbuIFwWoVn8BckAfB6nuJwBwnucCtXRbBaUUewdYYssCRCA3BKSLuwL4WfcB9MCzB4y5IwKExuMAFzgnB",
          "dtype": "f4"
         }
        },
        {
         "hoverinfo": "text",
         "marker": {
          "color": "#ff7f0e",
          "line": {
           "color": "white",
           "width": 2
          },
          "size": 15,
          "symbol": "star"
         },
         "mode": "markers",
         "name": "Center 1",
         "text": "Center of Cluster 1",
         "type": "scatter",
         "x": [
          -4.07233190536499
         ],
         "y": [
          -7.075800895690918
         ]
        },
        {
         "fill": "toself",
         "fillcolor": "#2ca02c",
         "line": {
          "color": "#2ca02c",
          "width": 2
         },
         "name": "Cluster 2 boundary",
         "opacity": 0.2,
         "showlegend": true,
         "type": "scatter",
         "x": {
          "bdata": "AAAAkGeWKEDmBczsWo4oQMptVk89dihAnJuEkydOKEBm9loLQxYoQKnbZFTJzidAGHlQHAR4J0BSxfvUTBInQOfhQFgMniZA3PHge7obJkCNzvyV3YslQP7wmvIJ7yRAQk7JOuFFJEBHu/jNEZEjQKCfPQ5W0SJAskAvoHMHIkAQsiufOjQhQJFu0saEWCBAVnglJWnqHkBLbmqoaBYdQFJaooTqNhtAZolN/9xNGUBZgbw4OF0XQOf1ZST8ZhVAFdoreS5tE0DJjK+b2HERQGR+tgkL7g5A8DiVTX/9CkA0z3ykHRYHQGdqjD3sOwNAkm0iX8fl/j+etDTC1X33P351kQWmR/A/8P//f06V4j+A2nKgbHDEP2AXQeepOc+/+JSO9vEc5L8IEOGry8Lvv6x7IOz6WfW/qDqufZRy+r9cJ0u78SX/vzKhYhidtwHAmHvbYQGlA8D+Jb8gKVkFwKrG5LtS0gbA0EvAafkOCMC+oSfB1g0JwBZbywnkzQnAdvMHS1tOCsCEgvgXuI4KwISC+Be4jgrAdvMHS1tOCsAWW8sJ5M0JwL6hJ8HWDQnA0EvAafkOCMCsxuS7UtIGwP4lvyApWQXAmnvbYQGlA8AwoWIYnbcBwGAnS7vxJf+/pDqufZRy+r+weyDs+ln1vwAQ4avLwu+/AJWO9vEc5L8gF0HnqTnPv0DacqBscMQ/HAAAgE6V4j+EdZEFpkfwP560NMLVffc/im0iX8fl/j9uaow97DsDQDfPfKQdFgdA8DiVTX/9CkBgfrYJC+4OQM2Mr5vYcRFAF9oreS5tE0Dl9WUk/GYVQFWBvDg4XRdAZ4lN/9xNGUBRWqKE6jYbQEluaqhoFh1AWnglJWnqHkCSbtLGhFggQBCyK586NCFAsUAvoHMHIkCinz0OVtEiQEi7+M0RkSNAQU7JOuFFJED+8JryCe8kQI7O/JXdiyVA3PHge7obJkDn4UBYDJ4mQFLF+9RMEidAGXlQHAR4J0Cp22RUyc4nQGb2WgtDFihAnZuEkydOKEDKbVZPPXYoQOYFzOxajihAAAAAkGeWKEA=",
          "dtype": "f8"
         },
         "y": {
          "bdata": "AAAAAJ8UHUAqJKzRww8fQHpyfu5uhCBAzgw9O/J+IUCpRyOTaXYiQGaBQd7VaSNAGMabLzxYJEA/r9LHpkAlQGbLdRImIiZAdGz6nNH7JkBRSVgGycwnQIDzVOY0lChAZbSPq0dRKUAi7mhvPgMqQN6Q6r5hqSpAmoriVwZDK0AuQ2zZjc8rQOspM2dnTixAMArGPhC/LEBuOWE+FCEtQMmspFwOdC1Azo+6EKm3LUDC/4KqnustQDkIapq5Dy5AD9SdqNQjLkD8KGwb2ycuQJChn8zIGy5Azp/GLar/LUCij187nNMtQD6y917Mly1ARj9bQHhMLUAMHQeG7fEsQJSzHYWJiCxAOF0x4bgQLEB/oUcc94orQJCqiBfO9ypAeTIehdVXKkCVatRLsqspQDwOHt0V9ChAttkqfr0xKEBS8syEcWUnQJZd9ogEkCZAm2eji1KyJUDovhEUQM0kQEIMLkS54SNAaNsq5bDwIkCovjttH/shQJGodv8BAiFAlX/jZlkGIEB5zY0bUhIeQIYycuTrFhxA1AA5MoscGkDdrhIBOiUYQLKCiCX/MhZALkmqNdxHFEB/56N3y2USQC+C3Ne9jhBAmWFy0TGJDUCoiSbcaRIKQLw2zOy1vAZAJJlUB4aLA0AQx4eLJIIAQFSrXKFlR/s/PGwO10vm9T94q7pDh+bwPxjohTt+mug/aCzq7GE+4D+AjUlcr4LRP0B6cfy8WLE/AKOfLaDsu7/gR/beq2XQv1D08Wun39e/0PnTuGVh3b8IGfrJnHLgv7iPwrbBM+G/8EDdiVrz4L8gB0FNU2Pfv0D4X1D139q/sPlRF0Jh1L9AMisp19vHvwDccsJ86pi/IHR9TrBjxT+wwpoZ88bYPxjNO2kSUeQ/WFbXgYoZ7T8ceasI6lnzP/SOuIQEi/g/2FyCo7oa/j/4MaxmqAECQMDanuZXHwVALk4WjDVjCEBn0ii248kLQP9CteDgTw9A03PIoMV4EUA0/XxDklUTQKxwudlqPBVAaeaFiVkrF0AOGwMjYCAZQNbbUy56GRtA/v///54UHUA=",
          "dtype": "f8"
         }
        },
        {
         "hoverinfo": "text",
         "marker": {
          "color": "#2ca02c",
          "opacity": 0.8,
          "size": 8
         },
         "mode": "markers",
         "name": "Cluster 2 points",
         "text": [
          "Cluster: 2<br>Text: # Product Summary\n\n# Markellm\n\n## Summary\n\nMarkellm is an innovative two-sided marketplace designed ...",
          "Cluster: 2<br>Text: - **User-Friendly Interface**: Designed with user experience in mind, Markellm features an intuitive...",
          "Cluster: 2<br>Text: - **Customer Support**: Our dedicated support team is always available to assist both consumers and ...",
          "Cluster: 2<br>Text: ### For Insurance Companies:\n- **Basic Listing Fee**: $199/month for a featured listing on the platf...",
          "Cluster: 2<br>Text: ### Q3 2025\n- Initiate a comprehensive marketing campaign targeting both consumers and insurers to i...",
          "Cluster: 2<br>Text: # Product Summary\n\n# Homellm\n\n## Summary\nHomellm is an innovative home insurance product developed b...",
          "Cluster: 2<br>Text: ### 2. Dynamic Pricing Model\nWith Homellm's innovative dynamic pricing model, insurance providers ca...",
          "Cluster: 2<br>Text: ### 5. Multi-Channel Integration\nHomellm seamlessly integrates into existing insurance platforms, pr...",
          "Cluster: 2<br>Text: - **Basic Tier:** Starting at $5,000/month for small insurers with basic integration features.\n- **S...",
          "Cluster: 2<br>Text: All tiers include a comprehensive training program and ongoing updates to ensure optimal performance...",
          "Cluster: 2<br>Text: With Homellm, Insurellm is committed to transforming the landscape of home insurance, ensuring both ...",
          "Cluster: 2<br>Text: # Product Summary\n\n# Carllm\n\n## Summary\n\nCarllm is an innovative auto insurance product developed by...",
          "Cluster: 2<br>Text: - **Instant Quoting**: With Carllm, insurance companies can offer near-instant quotes to customers, ...",
          "Cluster: 2<br>Text: - **Mobile Integration**: Carllm is designed to work seamlessly with mobile applications, providing ...",
          "Cluster: 2<br>Text: - **Professional Tier**: $2,500/month\n  - For medium-sized companies.\n  - All Basic Tier features pl...",
          "Cluster: 2<br>Text: ### Q2 2025: Customer Experience Improvements\n- Launch of a new **mobile app** for end-users.\n- Intr...",
          "Cluster: 2<br>Text: ## Features\n1. **AI-Powered Matching**: Access to advanced algorithms that connect GreenField Holdin...",
          "Cluster: 2<br>Text: ## Support\n1. **Customer Support Access**: The Client will have access to dedicated support through ...",
          "Cluster: 2<br>Text: ---\n\n## Features\n\n- **AI-Powered Risk Assessment**: Customer will have access to enhanced risk evalu...",
          "Cluster: 2<br>Text: ---\n\n## Features\n\n1. **Access to Core Features**: Roadway Insurance Inc. will have access to all Pro...",
          "Cluster: 2<br>Text: ## Features\n1. **AI-Powered Matching**: Belvedere Insurance will benefit from Markellm's AI-powered ...",
          "Cluster: 2<br>Text: 1. **AI-Powered Risk Assessment:** Access to advanced AI algorithms for real-time risk evaluations.\n...",
          "Cluster: 2<br>Text: 2. **Real-Time Quote Availability:**  \n   Consumers sourced via BrightWay Solutions will receive rea...",
          "Cluster: 2<br>Text: ## Features\n1. **AI-Powered Risk Assessment**: Utilized for tailored underwriting decisions specific...",
          "Cluster: 2<br>Text: # About Insurellm\n\nInsurellm was founded by Avery Lancaster in 2015 as an insurance tech startup des..."
         ],
         "type": "scatter",
         "x": {
          "bdata": "g1NYQOCfQEDbpRZAZvDFP09kfUCVD65AO9e3QC0QwEAxz+1AZYfqQIjXLj+Ku8pAM+bQQGaI5EAf/+hAvQG1QKwKgEBS+Dk/eaC7QGdq8kBfxzhATBGdQDspEEELrrdA/LRQPw==",
          "dtype": "f4"
         },
         "y": {
          "bdata": "DKIUQW1WFEGpJRZBf3ASQcbTCkG8sxtBb34pQa77HkFcERVBB2QgQXZC6T/9mN9AhbDnQGXS9UB+Av1AFVoAQZi+OUHReBFBf4QwQZ4yvkD2ZCNBVb8xQbPq7UAgtz1B00rBPg==",
          "dtype": "f4"
         }
        },
        {
         "hoverinfo": "text",
         "marker": {
          "color": "#2ca02c",
          "line": {
           "color": "white",
           "width": 2
          },
          "size": 15,
          "symbol": "star"
         },
         "mode": "markers",
         "name": "Center 2",
         "text": "Center of Cluster 2",
         "type": "scatter",
         "x": [
          4.48507022857666
         ],
         "y": [
          7.270137786865234
         ]
        },
        {
         "fill": "toself",
         "fillcolor": "#d62728",
         "line": {
          "color": "#d62728",
          "width": 2
         },
         "name": "Cluster 3 boundary",
         "opacity": 0.2,
         "showlegend": true,
         "type": "scatter",
         "x": {
          "bdata": "AAAAdCVTFUDyRijxQUYVQHE41rGkHxVAsiD3g3XfFEAnfCiR9oUUQHFOhBqEExRAWB2IGZSIE0A/l3jGteUSQNJAvwSRKxJAR1nateVaEUDHWpHzinQQQET2c2Tc8g5A0HrklyTVDEAiy5frHJIKQIu4+D8aLAhAa2NzhJWlBUDQuwMrKQEDQIMKOXmOQQBA5lblcjXT+j9cyHWeePj0P3gaCsfe8e0/OO9qPpG14T8QfBzulSLFP0gURC1WIM2/3lz89avv47/uPk4qiVDwvyJv+YyZp/a/XpcVDH72/L9f64r+WpsBwHn04ernsATAr+VQ6Le4B8Cmc209q68KwECMgZKzkg3AAgAAjGsvEMDSgOfLmYgRwJ9+H7eA0xLA263OM8sOFMDsgbc/NDkVwMHYPj+IURbAgreCOqZWF8B3OzoHgUcYwBexK14gIxnAq80a26HoGcAjOifmOZcawALfqoU0LhvATpu/F/asG8DfKK3y+xIcwFzOmevcXxzAbwfzwkmTHMAqYx52Da0cwCpjHnYNrRzAbwfzwkmTHMBczpnr3F8cwN8orfL7EhzATpu/F/asG8AD36qFNC4bwCM6J+Y5lxrArM0a26HoGcAWsSteICMZwHg7OgeBRxjAgbeCOqZWF8DC2D4/iFEWwOuBtz80ORXA3K3OM8sOFMCefh+3gNMSwNOA58uZiBHA/v//i2svEMA+jIGSs5INwKZzbT2rrwrAsuVQ6Le4B8B09OHq57AEwFzriv5amwHAXpcVDH72/L8pb/mMmaf2v+I+TiqJUPC/0lz89avv47+AFEQtViDNv7B7HO6VIsU/RO9qPpG14T90GgrH3vHtP1bIdZ54+PQ/8FblcjXT+j+GCjl5jkEAQNC7AyspAQNAaGNzhJWlBUCQuPg/GiwIQCTLl+sckgpAznrklyTVDEBC9nNk3PIOQMhakfOKdBBAR1nateVaEUDSQL8EkSsSQD6XeMa15RJAWR2IGZSIE0BxToQahBMUQCd8KJH2hRRAsyD3g3XfFEBxONaxpB8VQPJGKPFBRhVAAAAAdCVTFUA=",
          "dtype": "f8"
         },
         "y": {
          "bdata": "AAAAAPImGMCrX2l47JAWwJJ/AHqJ/BTAJo6D3mlrE8D7UY4iK98RwM4AX7tlWRDAmkOU41a3DcAvAx+IC88KwJBNdqDo/AfAZs1okdZDBcC9diXpo6YCwEiyh3oCKADAgCADLAmV+7/IBgLGNCH3vzxSF7ke+fK/eF+hzh9C7r/w0Bpo/TnnvzBIrtwV4eC/UJPoUeh71r/g+raln1nJv8CObej6e7G/gPCaDt0noz9ARrySl2C+P8ADuLlHasY/4FXCE3hwyj/gTpjmtj7LP0BZDpgv1Mg/oMHZv18zwz+AXqQsKcS0PwCW2WiwaYm/gHe98VeqwL+A2NW7y2TRv0DqyK3V8Nu/GL9FRjX347/Id5kTl6jqv9x38wbVAvG/WHYphGsD9b9Aa5jW7lH5v+S2uX/u6f2/TCBuIFdjAcA8F2B+lfEDwIMtIPEPnQbAOQ1b7QVjCcAJCT+bm0AMwIVr4sjcMg/A/gHi+l8bEcCINCG6lKQSwEjj5053MxTASF1Ki2zGFcDobpIO1VsXwBmRbfEO8hjAuqK1dHeHGsC6HBixbBocwHfL3kVPqR3AA/4dBYQyH8AeZcfNOlogwL49MBnLFiHAsTyphDDOIcCg9LcDrn8iwDD6Z6CMKiPA7nfkNxzOI8AkyQgwtGkkwJjyLCW0/CTANNF6j4SGJcAFkSFflwYmwINoxo5ofCbAEKSbq37nJsCuuJFSa0cnwDxRIaLLmyfAIgo5oEjkJ8CayeWTlyAowL1IWVJ6UCjABmf/fr9zKMBkOWC+QooowDxhmtvskyjAWAlP4LOQKMAP4OYem4AowI14JS+zYyjA8JoO3Rk6KMDiJC8K+gMowBUkaYGLwSfAZbtwvRJzJ8B8GzWi4BgnwPFSfilSsybACeoVA9BCJsC4Fd0ozsclwCa/P2fLQiXA8Jt/2lC0JMBwE15h8RwkwFCitgVJfSPApsylW/zVIsCcbOLXtyciwDU/+B0vcyHAGO8aRxy5IMAy/6BEfvQfwAaucd24bh7A13F8IXriHMBsgP+FWlEbwFWglof3vBnAAgAAAPImGMA=",
          "dtype": "f8"
         }
        },
        {
         "hoverinfo": "text",
         "marker": {
          "color": "#d62728",
          "opacity": 0.8,
          "size": 8
         },
         "mode": "markers",
         "name": "Cluster 3 points",
         "text": [
          "Cluster: 3<br>Text: ## Annual Performance History\n- **2020:**  \n  - Completed onboarding successfully.  \n  - Met expecta...",
          "Cluster: 3<br>Text: Alex Chen continues to be a vital asset at Insurellm, contributing significantly to innovative backe...",
          "Cluster: 3<br>Text: ## Annual Performance History\n- **2018**: **3/5** - Adaptable team player but still learning to take...",
          "Cluster: 3<br>Text: - **January 2017 - May 2018**: Marketing Intern  \n  - Supported the Marketing team by collaborating ...",
          "Cluster: 3<br>Text: - **Professional Development Goals**:  \n  - Emily Tran aims to become a Marketing Manager within the...",
          "Cluster: 3<br>Text: # Avery Lancaster\n\n## Summary\n- **Date of Birth**: March 15, 1985  \n- **Job Title**: Co-Founder & Ch...",
          "Cluster: 3<br>Text: - **2010 - 2013**: Business Analyst at Edge Analytics  \n  Prior to joining Innovate, Avery worked as...",
          "Cluster: 3<br>Text: - **2018**: **Exceeds Expectations**  \n  Under Avery’s pivoted vision, Insurellm launched two new su...",
          "Cluster: 3<br>Text: - **2022**: **Satisfactory**  \n  Avery focused on rebuilding team dynamics and addressing employee c...",
          "Cluster: 3<br>Text: ## Other HR Notes\n- **Professional Development**: Avery has actively participated in leadership trai...",
          "Cluster: 3<br>Text: ## Annual Performance History\n- **2017**: *Meets Expectations*  \n  Maxine showed potential in her ro...",
          "Cluster: 3<br>Text: - **2021**: *Exceeds Expectations*  \n  Maxine spearheaded the transition to a new data warehousing s...",
          "Cluster: 3<br>Text: ## Annual Performance History\n- **2020:** Exceeds Expectations  \n  Samantha Greene demonstrated exce...",
          "Cluster: 3<br>Text: - **Engagement in Company Culture:** Regularly participates in team-building events and contributes ...",
          "Cluster: 3<br>Text: ## Annual Performance History\n- **2019:** Exceeds Expectations - Continuously delivered high-quality...",
          "Cluster: 3<br>Text: - **2017-2019:** Marketing Intern  \n  - Assisted with market research and campaign development for s...",
          "Cluster: 3<br>Text: Emily Carter exemplifies the kind of talent that drives Insurellm's success and is an invaluable ass..."
         ],
         "type": "scatter",
         "x": {
          "bdata": "fvxsvhUwKr+y7ni+bWrPv2uj2r+l3ms/llOiP5Od3D8cjO4/RXRkP86BcT4qXd8+jghPv0IV5cCN7aI+mE6Iv3LWb78=",
          "dtype": "f4"
         },
         "y": {
          "bdata": "tTEDwWElFsC02gHBzzW6wMuBqcBcCozA6LbQwKmQ4sCgKOPAx2eTwA81FsHvxh7BSHERwUVCzsBCOgXBCPbYwIapMcA=",
          "dtype": "f4"
         }
        },
        {
         "hoverinfo": "text",
         "marker": {
          "color": "#d62728",
          "line": {
           "color": "white",
           "width": 2
          },
          "size": 15,
          "symbol": "star"
         },
         "mode": "markers",
         "name": "Center 3",
         "text": "Center of Cluster 3",
         "type": "scatter",
         "x": [
          -0.9204732775688171
         ],
         "y": [
          -6.038032531738281
         ]
        },
        {
         "fill": "toself",
         "fillcolor": "#9467bd",
         "line": {
          "color": "#9467bd",
          "width": 2
         },
         "name": "Cluster 4 boundary",
         "opacity": 0.2,
         "showlegend": true,
         "type": "scatter",
         "x": {
          "bdata": "AAAA0E8CI0BwtGU2dvwiQFz/WHHv6iJAqhLpkc3NIkAGiNKfLqUiQHGxino8cSJAtr8VriwyIkBTPdQ7QOghQMbDgFfDkyFATP6iGA01IUDi8sggf8wgQJAc4zaFWiBA+ylWsCm/H0CCpg5+WbgeQKav0cCooR1APN1SwDZ8HECC7fT5MUkbQPKi+ejWCRpA5FxFwG6/GECKtQYXTmsXQBfzn4nTDhZA+zQ8UGarFECh64TMdEITQPhO9Q9z1RFATSRRXNllEEDVXZQ/ReoNQKA0yNyVCQtAaAhT9JssCEAvCYwXS1YFQGRUMfqPiQJAnmVB3ZqS/z8EWX/YsjD6P8IHSEb08vQ/9P//f4y97z+IqRQNyvLlP3Cw4nJyH9k/YFFgNznwvD8ASLeXT2TDv6B3tg28mdm/CB2osiQ15L+4p2QwRQrrv9jZLjuaovC/kINcNsNv87/w0hxGuun1vwSTLOnxDfi/1HtJAjXa+b9kZroeqUz7v8CUYV/QY/y/hOhgAose/b/MQbqLGHz9v8xBuosYfP2/hOhgAose/b/AlGFf0GP8v2Rmuh6pTPu/1HtJAjXa+b8Ikyzp8Q34v/DSHEa66fW/kINcNsNv87/Y2S47mqLwv7inZDBFCuu/AB2osiQ15L+gd7YNvJnZv+BHt5dPZMO/IFFgNznwvD+IsOJych/ZP3ypFA3K8uU/FAAAgIy97z/GB0hG9PL0PwRZf9iyMPo/mGVB3ZqS/z9oVDH6j4kCQDIJjBdLVgVAaAhT9JssCECdNMjclQkLQNtdlD9F6g1ATiRRXNllEED3TvUPc9URQJ7rhMx0QhNA/DQ8UGarFEAW85+J0w4WQIm1BhdOaxdA51xFwG6/GEDyovno1gkaQILt9PkxSRtAOt1SwDZ8HECor9HAqKEdQIOmDn5ZuB5A+ilWsCm/H0CQHOM2hVogQOPyyCB/zCBATP6iGA01IUDGw4BXw5MhQFI91DtA6CFAtr8VriwyIkBxsYp6PHEiQAaI0p8upSJAqhLpkc3NIkBc/1hx7+oiQHC0ZTZ2/CJAAAAA0E8CI0A=",
          "dtype": "f8"
         },
         "y": {
          "bdata": "AAAAgO+zEECel2WXgiQSQH3lhb+ZkxNAlrXAkLr/FED+RyyxbWcWQODggFdAyRdAkLFPycUjGUDqG/vSmHUaQE7B7DddvRtA0s2NGcH5HEDgdo9TfikeQN6oHMxbSx9AripNWxcvIEBu19TjbbAgQPBolywsKSFACGqXvtWYIUB48TR/9/4hQJR31CYoWyJAKCNlrQitIkAWr1asRPQiQMTtmbWSMCNAYDtSn7RhI0BY2OnDd4cjQP0dRza1oSNAMLzs6VGwI0BPo9vOPrMjQGDcGeF4qiNANE7OKwmWI0AoO+6/BHYjQJgThp6MSiNAk/+zls0TI0CnMXcXANIiQPCfg/VnhSJAshpWJVQuIkAh1NBpHs0hQOg+tPcqYiFAyKRTDujtIECY7++FzXAgQG6VW6i41h9A2OpMDjy8HkDYnDhvSJMdQE6FyuUPXRxAj6pLOtIaG0AZxf6Y280ZQNMHtzuDdxhAZiEKCCoZF0CuLIojObQVQE+Mfn8gShRAQHKbXVXcEkA3DD/PUGwRQI/ngWEc9w9AfhvJRBMXDUBg5wIBfTsKQKim67hLZwdAM73r72mdBEBd8JGIt+ABQJjrBJwNaP4/ylXRFjM0+T/E6tVoPCv0P1AZO4a0pO4/PKmYjRdd5T8oqUZ6ZRLZP8AZBIR+yMA/AGTSKUf8vL8Q3Yf2bsfVvwhCDZ3ukuG/MKthVUqm578A/zlYhxftvziNubuE8PC/mPyftfD+8r/AnDD06LT0vzzZcf+pEPa/oHFyXs0Q97/84s4IS7T3v3ga3XZ6+ve/gOFlTxPj97/o7ziyLW73v8jCTh9CnPa/ANuR+ihu9b8gbs+sGeXzv7h4tWKpAvK/eDJS1pKR7784eUdtinPqv4AXT/N/sOS/AEHt0sec3L+gO9olK0/NvwCURFnhDHw/UKpalgSb0D/4uBqfGeTgPwxJhGMF8+k/usjImXe48T/C+kwgB6r2P1SQE7QYyfs/5JxgbTKIAEBAPv5QPT0DQAJwp53iAAZA2pR+3kjQCEAINfSAiqgLQMXQNNG4hg5A/v//f++zEEA=",
          "dtype": "f8"
         }
        },
        {
         "hoverinfo": "text",
         "marker": {
          "color": "#9467bd",
          "opacity": 0.8,
          "size": 8
         },
         "mode": "markers",
         "name": "Cluster 4 points",
         "text": [
          "Cluster: 4<br>Text: # Product Summary\n\n# Rellm: AI-Powered Enterprise Reinsurance Solution\n\n## Summary\n\nRellm is an inno...",
          "Cluster: 4<br>Text: ### Seamless Integrations\nRellm's architecture is designed for effortless integration with existing ...",
          "Cluster: 4<br>Text: ### Regulatory Compliance Tools\nRellm includes built-in compliance tracking features to help organiz...",
          "Cluster: 4<br>Text: Join the growing number of organizations leveraging Rellm to enhance their reinsurance processes whi...",
          "Cluster: 4<br>Text: Experience the future of reinsurance with Rellm, where innovation meets reliability. Let Insurellm h...",
          "Cluster: 4<br>Text: # Contract with Apex Reinsurance for Rellm: AI-Powered Enterprise Reinsurance Solution\n\n## Terms\n\n1....",
          "Cluster: 4<br>Text: ## Renewal\n\n1. **Automatic Renewal**: This Agreement will automatically renew for successive one-yea...",
          "Cluster: 4<br>Text: 2. **Seamless Integrations**: The architecture of Rellm allows for easy integration with existing sy...",
          "Cluster: 4<br>Text: # Contract with Stellar Insurance Co. for Rellm\n\n## Terms\nThis contract is made between **Insurellm*...",
          "Cluster: 4<br>Text: ### Termination\nEither party may terminate this agreement with a **30-day written notice**. In the e...",
          "Cluster: 4<br>Text: ## Features\nStellar Insurance Co. will receive access to the following features of the Rellm product...",
          "Cluster: 4<br>Text: ## Support\nInsurellm provides Stellar Insurance Co. with the following support services:\n\n- **24/7 T...",
          "Cluster: 4<br>Text: # Contract with EverGuard Insurance for Rellm: AI-Powered Enterprise Reinsurance Solution\n\n**Contrac...",
          "Cluster: 4<br>Text: 4. **Usage Rights**: EverGuard Insurance is granted a non-exclusive, non-transferable license to acc...",
          "Cluster: 4<br>Text: 1. **Core Functionality**: Rellm provides EverGuard Insurance with advanced AI-driven analytics, sea...",
          "Cluster: 4<br>Text: 1. **Customer Support**: Insurellm will provide EverGuard Insurance with 24/7 customer support, incl...",
          "Cluster: 4<br>Text: # Overview of Insurellm\n\nInsurellm is an innovative insurance tech firm with 200 employees across th...",
          "Cluster: 4<br>Text: # Careers at Insurellm\n\nInsurellm is hiring! We are looking for talented software engineers, data sc..."
         ],
         "type": "scatter",
         "x": {
          "bdata": "aSChQFxcckBCfYhADYiaQAaL5D9EraJAQl2qQOukWUAqS1pAhC5+QA57XEB7dT5AJ4+NQB7Bj0BvToBADAxbQGcbZT/5Pbw+",
          "dtype": "f4"
         },
         "y": {
          "bdata": "clvIQNkg1UDQBMNA66X1QC8r4j8HaG1ApKmbQNz9zkAZsTFAUwYqQPoirUAF3WhAA09yQMD7lEC1R6pACo2DQIV7KD//eqS+",
          "dtype": "f4"
         }
        },
        {
         "hoverinfo": "text",
         "marker": {
          "color": "#9467bd",
          "line": {
           "color": "white",
           "width": 2
          },
          "size": 15,
          "symbol": "star"
         },
         "mode": "markers",
         "name": "Center 4",
         "text": "Center of Cluster 4",
         "type": "scatter",
         "x": [
          3.82943058013916
         ],
         "y": [
          4.175718307495117
         ]
        }
       ],
       "layout": {
        "height": 600,
        "showlegend": true,
        "template": {
         "data": {
          "bar": [
           {
            "error_x": {
             "color": "#2a3f5f"
            },
            "error_y": {
             "color": "#2a3f5f"
            },
            "marker": {
             "line": {
              "color": "#E5ECF6",
              "width": 0.5
             },
             "pattern": {
              "fillmode": "overlay",
              "size": 10,
              "solidity": 0.2
             }
            },
            "type": "bar"
           }
          ],
          "barpolar": [
           {
            "marker": {
             "line": {
              "color": "#E5ECF6",
              "width": 0.5
             },
             "pattern": {
              "fillmode": "overlay",
              "size": 10,
              "solidity": 0.2
             }
            },
            "type": "barpolar"
           }
          ],
          "carpet": [
           {
            "aaxis": {
             "endlinecolor": "#2a3f5f",
             "gridcolor": "white",
             "linecolor": "white",
             "minorgridcolor": "white",
             "startlinecolor": "#2a3f5f"
            },
            "baxis": {
             "endlinecolor": "#2a3f5f",
             "gridcolor": "white",
             "linecolor": "white",
             "minorgridcolor": "white",
             "startlinecolor": "#2a3f5f"
            },
            "type": "carpet"
           }
          ],
          "choropleth": [
           {
            "colorbar": {
             "outlinewidth": 0,
             "ticks": ""
            },
            "type": "choropleth"
           }
          ],
          "contour": [
           {
            "colorbar": {
             "outlinewidth": 0,
             "ticks": ""
            },
            "colorscale": [
             [
              0,
              "#0d0887"
             ],
             [
              0.1111111111111111,
              "#46039f"
             ],
             [
              0.2222222222222222,
              "#7201a8"
             ],
             [
              0.3333333333333333,
              "#9c179e"
             ],
             [
              0.4444444444444444,
              "#bd3786"
             ],
             [
              0.5555555555555556,
              "#d8576b"
             ],
             [
              0.6666666666666666,
              "#ed7953"
             ],
             [
              0.7777777777777778,
              "#fb9f3a"
             ],
             [
              0.8888888888888888,
              "#fdca26"
             ],
             [
              1,
              "#f0f921"
             ]
            ],
            "type": "contour"
           }
          ],
          "contourcarpet": [
           {
            "colorbar": {
             "outlinewidth": 0,
             "ticks": ""
            },
            "type": "contourcarpet"
           }
          ],
          "heatmap": [
           {
            "colorbar": {
             "outlinewidth": 0,
             "ticks": ""
            },
            "colorscale": [
             [
              0,
              "#0d0887"
             ],
             [
              0.1111111111111111,
              "#46039f"
             ],
             [
              0.2222222222222222,
              "#7201a8"
             ],
             [
              0.3333333333333333,
              "#9c179e"
             ],
             [
              0.4444444444444444,
              "#bd3786"
             ],
             [
              0.5555555555555556,
              "#d8576b"
             ],
             [
              0.6666666666666666,
              "#ed7953"
             ],
             [
              0.7777777777777778,
              "#fb9f3a"
             ],
             [
              0.8888888888888888,
              "#fdca26"
             ],
             [
              1,
              "#f0f921"
             ]
            ],
            "type": "heatmap"
           }
          ],
          "histogram": [
           {
            "marker": {
             "pattern": {
              "fillmode": "overlay",
              "size": 10,
              "solidity": 0.2
             }
            },
            "type": "histogram"
           }
          ],
          "histogram2d": [
           {
            "colorbar": {
             "outlinewidth": 0,
             "ticks": ""
            },
            "colorscale": [
             [
              0,
              "#0d0887"
             ],
             [
              0.1111111111111111,
              "#46039f"
             ],
             [
              0.2222222222222222,
              "#7201a8"
             ],
             [
              0.3333333333333333,
              "#9c179e"
             ],
             [
              0.4444444444444444,
              "#bd3786"
             ],
             [
              0.5555555555555556,
              "#d8576b"
             ],
             [
              0.6666666666666666,
              "#ed7953"
             ],
             [
              0.7777777777777778,
              "#fb9f3a"
             ],
             [
              0.8888888888888888,
              "#fdca26"
             ],
             [
              1,
              "#f0f921"
             ]
            ],
            "type": "histogram2d"
           }
          ],
          "histogram2dcontour": [
           {
            "colorbar": {
             "outlinewidth": 0,
             "ticks": ""
            },
            "colorscale": [
             [
              0,
              "#0d0887"
             ],
             [
              0.1111111111111111,
              "#46039f"
             ],
             [
              0.2222222222222222,
              "#7201a8"
             ],
             [
              0.3333333333333333,
              "#9c179e"
             ],
             [
              0.4444444444444444,
              "#bd3786"
             ],
             [
              0.5555555555555556,
              "#d8576b"
             ],
             [
              0.6666666666666666,
              "#ed7953"
             ],
             [
              0.7777777777777778,
              "#fb9f3a"
             ],
             [
              0.8888888888888888,
              "#fdca26"
             ],
             [
              1,
              "#f0f921"
             ]
            ],
            "type": "histogram2dcontour"
           }
          ],
          "mesh3d": [
           {
            "colorbar": {
             "outlinewidth": 0,
             "ticks": ""
            },
            "type": "mesh3d"
           }
          ],
          "parcoords": [
           {
            "line": {
             "colorbar": {
              "outlinewidth": 0,
              "ticks": ""
             }
            },
            "type": "parcoords"
           }
          ],
          "pie": [
           {
            "automargin": true,
            "type": "pie"
           }
          ],
          "scatter": [
           {
            "fillpattern": {
             "fillmode": "overlay",
             "size": 10,
             "solidity": 0.2
            },
            "type": "scatter"
           }
          ],
          "scatter3d": [
           {
            "line": {
             "colorbar": {
              "outlinewidth": 0,
              "ticks": ""
             }
            },
            "marker": {
             "colorbar": {
              "outlinewidth": 0,
              "ticks": ""
             }
            },
            "type": "scatter3d"
           }
          ],
          "scattercarpet": [
           {
            "marker": {
             "colorbar": {
              "outlinewidth": 0,
              "ticks": ""
             }
            },
            "type": "scattercarpet"
           }
          ],
          "scattergeo": [
           {
            "marker": {
             "colorbar": {
              "outlinewidth": 0,
              "ticks": ""
             }
            },
            "type": "scattergeo"
           }
          ],
          "scattergl": [
           {
            "marker": {
             "colorbar": {
              "outlinewidth": 0,
              "ticks": ""
             }
            },
            "type": "scattergl"
           }
          ],
          "scattermap": [
           {
            "marker": {
             "colorbar": {
              "outlinewidth": 0,
              "ticks": ""
             }
            },
            "type": "scattermap"
           }
          ],
          "scattermapbox": [
           {
            "marker": {
             "colorbar": {
              "outlinewidth": 0,
              "ticks": ""
             }
            },
            "type": "scattermapbox"
           }
          ],
          "scatterpolar": [
           {
            "marker": {
             "colorbar": {
              "outlinewidth": 0,
              "ticks": ""
             }
            },
            "type": "scatterpolar"
           }
          ],
          "scatterpolargl": [
           {
            "marker": {
             "colorbar": {
              "outlinewidth": 0,
              "ticks": ""
             }
            },
            "type": "scatterpolargl"
           }
          ],
          "scatterternary": [
           {
            "marker": {
             "colorbar": {
              "outlinewidth": 0,
              "ticks": ""
             }
            },
            "type": "scatterternary"
           }
          ],
          "surface": [
           {
            "colorbar": {
             "outlinewidth": 0,
             "ticks": ""
            },
            "colorscale": [
             [
              0,
              "#0d0887"
             ],
             [
              0.1111111111111111,
              "#46039f"
             ],
             [
              0.2222222222222222,
              "#7201a8"
             ],
             [
              0.3333333333333333,
              "#9c179e"
             ],
             [
              0.4444444444444444,
              "#bd3786"
             ],
             [
              0.5555555555555556,
              "#d8576b"
             ],
             [
              0.6666666666666666,
              "#ed7953"
             ],
             [
              0.7777777777777778,
              "#fb9f3a"
             ],
             [
              0.8888888888888888,
              "#fdca26"
             ],
             [
              1,
              "#f0f921"
             ]
            ],
            "type": "surface"
           }
          ],
          "table": [
           {
            "cells": {
             "fill": {
              "color": "#EBF0F8"
             },
             "line": {
              "color": "white"
             }
            },
            "header": {
             "fill": {
              "color": "#C8D4E3"
             },
             "line": {
              "color": "white"
             }
            },
            "type": "table"
           }
          ]
         },
         "layout": {
          "annotationdefaults": {
           "arrowcolor": "#2a3f5f",
           "arrowhead": 0,
           "arrowwidth": 1
          },
          "autotypenumbers": "strict",
          "coloraxis": {
           "colorbar": {
            "outlinewidth": 0,
            "ticks": ""
           }
          },
          "colorscale": {
           "diverging": [
            [
             0,
             "#8e0152"
            ],
            [
             0.1,
             "#c51b7d"
            ],
            [
             0.2,
             "#de77ae"
            ],
            [
             0.3,
             "#f1b6da"
            ],
            [
             0.4,
             "#fde0ef"
            ],
            [
             0.5,
             "#f7f7f7"
            ],
            [
             0.6,
             "#e6f5d0"
            ],
            [
             0.7,
             "#b8e186"
            ],
            [
             0.8,
             "#7fbc41"
            ],
            [
             0.9,
             "#4d9221"
            ],
            [
             1,
             "#276419"
            ]
           ],
           "sequential": [
            [
             0,
             "#0d0887"
            ],
            [
             0.1111111111111111,
             "#46039f"
            ],
            [
             0.2222222222222222,
             "#7201a8"
            ],
            [
             0.3333333333333333,
             "#9c179e"
            ],
            [
             0.4444444444444444,
             "#bd3786"
            ],
            [
             0.5555555555555556,
             "#d8576b"
            ],
            [
             0.6666666666666666,
             "#ed7953"
            ],
            [
             0.7777777777777778,
             "#fb9f3a"
            ],
            [
             0.8888888888888888,
             "#fdca26"
            ],
            [
             1,
             "#f0f921"
            ]
           ],
           "sequentialminus": [
            [
             0,
             "#0d0887"
            ],
            [
             0.1111111111111111,
             "#46039f"
            ],
            [
             0.2222222222222222,
             "#7201a8"
            ],
            [
             0.3333333333333333,
             "#9c179e"
            ],
            [
             0.4444444444444444,
             "#bd3786"
            ],
            [
             0.5555555555555556,
             "#d8576b"
            ],
            [
             0.6666666666666666,
             "#ed7953"
            ],
            [
             0.7777777777777778,
             "#fb9f3a"
            ],
            [
             0.8888888888888888,
             "#fdca26"
            ],
            [
             1,
             "#f0f921"
            ]
           ]
          },
          "colorway": [
           "#636efa",
           "#EF553B",
           "#00cc96",
           "#ab63fa",
           "#FFA15A",
           "#19d3f3",
           "#FF6692",
           "#B6E880",
           "#FF97FF",
           "#FECB52"
          ],
          "font": {
           "color": "#2a3f5f"
          },
          "geo": {
           "bgcolor": "white",
           "lakecolor": "white",
           "landcolor": "#E5ECF6",
           "showlakes": true,
           "showland": true,
           "subunitcolor": "white"
          },
          "hoverlabel": {
           "align": "left"
          },
          "hovermode": "closest",
          "mapbox": {
           "style": "light"
          },
          "paper_bgcolor": "white",
          "plot_bgcolor": "#E5ECF6",
          "polar": {
           "angularaxis": {
            "gridcolor": "white",
            "linecolor": "white",
            "ticks": ""
           },
           "bgcolor": "#E5ECF6",
           "radialaxis": {
            "gridcolor": "white",
            "linecolor": "white",
            "ticks": ""
           }
          },
          "scene": {
           "xaxis": {
            "backgroundcolor": "#E5ECF6",
            "gridcolor": "white",
            "gridwidth": 2,
            "linecolor": "white",
            "showbackground": true,
            "ticks": "",
            "zerolinecolor": "white"
           },
           "yaxis": {
            "backgroundcolor": "#E5ECF6",
            "gridcolor": "white",
            "gridwidth": 2,
            "linecolor": "white",
            "showbackground": true,
            "ticks": "",
            "zerolinecolor": "white"
           },
           "zaxis": {
            "backgroundcolor": "#E5ECF6",
            "gridcolor": "white",
            "gridwidth": 2,
            "linecolor": "white",
            "showbackground": true,
            "ticks": "",
            "zerolinecolor": "white"
           }
          },
          "shapedefaults": {
           "line": {
            "color": "#2a3f5f"
           }
          },
          "ternary": {
           "aaxis": {
            "gridcolor": "white",
            "linecolor": "white",
            "ticks": ""
           },
           "baxis": {
            "gridcolor": "white",
            "linecolor": "white",
            "ticks": ""
           },
           "bgcolor": "#E5ECF6",
           "caxis": {
            "gridcolor": "white",
            "linecolor": "white",
            "ticks": ""
           }
          },
          "title": {
           "x": 0.05
          },
          "xaxis": {
           "automargin": true,
           "gridcolor": "white",
           "linecolor": "white",
           "ticks": "",
           "title": {
            "standoff": 15
           },
           "zerolinecolor": "white",
           "zerolinewidth": 2
          },
          "yaxis": {
           "automargin": true,
           "gridcolor": "white",
           "linecolor": "white",
           "ticks": "",
           "title": {
            "standoff": 15
           },
           "zerolinecolor": "white",
           "zerolinewidth": 2
          }
         }
        },
        "title": {
         "text": "Document Clusters Visualization (hull_circle)"
        },
        "width": 800,
        "xaxis": {
         "title": {
          "text": "t-SNE dimension 1"
         }
        },
        "yaxis": {
         "title": {
          "text": "t-SNE dimension 2"
         }
        }
       }
      }
     },
     "metadata": {},
     "output_type": "display_data"
    },
    {
     "data": {
      "application/vnd.plotly.v1+json": {
       "config": {
        "plotlyServerURL": "https://plot.ly"
       },
       "data": [
        {
         "fill": "toself",
         "fillcolor": "#1f77b4",
         "line": {
          "color": "#1f77b4",
          "width": 2
         },
         "name": "Cluster 0 boundary",
         "opacity": 0.2,
         "showlegend": true,
         "type": "scatter",
         "x": {
          "bdata": "AAAAAGnVF0Afw9DiVs8XQDW5Rs0mvRdAToT5fuueF0C8NcEhxHQXQB6SlincPhdApjzIJ2v9FkDy9bKRtLAWQCP6N3sHWRZAeyw5Rb72FUCXF29APooVQE7L+ET3ExVAaEARP2OUFECCGmGxBQwUQPdVbi1rexNA1J+1wijjEkDHtQJl20MSQBcypkonnhFAWoovQ7fyEEClvlkHPEIQQGdzwAXXGg9AS1XvMQCqDUAPTljIbzMMQCVG1eSnuApArYH/+y47CUCHM7JIjrwHQDfqsDZQPgZAq64TzP7BBECz8BsTIkkDQBvxFIY+1QFAoD3gftNnAEAEFJZXswT+P5N9hxaDTPs//f//3+Op+D/ydTUejR/2PycHTzMdsPM/iHNZxhZe8T+wjaJZvFfuP0Ss2+ZtN+o/JGBvEYNf5j+Qp6QX8tPiP5DB7gbFMN8/6CpxzFJg2T9wVWTSizzUP3C1Ydt4lc8/YJ7i/vIeyD9QedV3Nx3CPwDZ+s3uLLs/gHS1hroetT+gCMYVEBayP6AIxhUQFrI/gHS1hroetT8A2frN7iy7P1B51Xc3HcI/YJ7i/vIeyD9gtWHbeJXPP3BVZNKLPNQ/4CpxzFJg2T+Ywe4GxTDfP5CnpBfy0+I/KGBvEYNf5j9ErNvmbTfqP7CNolm8V+4/h3NZxhZe8T8qB08zHbDzP+91NR6NH/Y/BQAA4OOp+D+VfYcWg0z7PwQUllezBP4/nz3gftNnAEAe8RSGPtUBQLTwGxMiSQNAq64TzP7BBEA16rA2UD4GQIozskiOvAdAroH/+y47CUAkRtXkp7gKQAxOWMhvMwxATFXvMQCqDUBnc8AF1xoPQKS+WQc8QhBAXIovQ7fyEEAXMqZKJ54RQMe1AmXbQxJA05+1wijjEkD4VW4ta3sTQIIaYbEFDBRAaEARP2OUFEBMy/hE9xMVQJgXb0A+ihVAeyw5Rb72FUAj+jd7B1kWQPL1spG0sBZApjzIJ2v9FkAekpYp3D4XQLw1wSHEdBdAToT5fuueF0A1uUbNJr0XQB/D0OJWzxdAAAAAAGnVF0A=",
          "dtype": "f8"
         },
         "y": {
          "bdata": "AAAAANEZD0DWQelaJkwQQIZoAROfChFAbqKtUI7HEUBIN+5RMYISQH88IbPHORNAUztUNZTtE0BAWliB3ZwUQFTyz+buRhVAWJ9wFhnrFUAoy7nWsogWQLJrZbIZHxdAniLfn7KtF0D4HRWh6jMYQCD8/Vo3sRhAdoE3pBclGUDCGysKFI8ZQEb0Lky/7hlA4qMkzLZDGkD6cSH0oo0aQMZTt5A3zBpAppqBHzT/GkD+WKQRZCYbQJnx+QGfQRtAcvi23shQG0B/eFkG0lMbQOrKxVe3ShtAvGOANYI1G0C4QAF8SBQbQFbzKmss5xpAjoD8glyuGkBEe6JTE2oaQEzCGEGXGhpAwhybOjrAGUB2gC9mWVsZQL4SocBc7BhAIN5OsrZzGEAOvDyZ4/EXQDoE4EhpZxdAaCgsgNbUFkCqcG1WwjoWQCuGiZ/LmRVAGllGSJjyFEBxJkCr1EUUQEztPt8ylBNACHii/2neEkDPNaJvNSUSQNp1IxlUaRFAayLtp4erEEAIsQeEJ9kPQPdO+Ht6Wg5AKbslsJLcDEBKFLnN+WALQGOUuyA36QlA8A+7AM52CEBqJYJBPAsHQByzf6n4pwVAzk1zb3FOBECq8+zACgADQK4eJVMdvgFALq+n//SJAEAb73/cnsn+P8YPDZu1n/w/gIfENmmY+j8KtXv90LX4Pyj+QWfe+fY/+IyTFVtm9T/M9pz75vzzP/ASdrH2vvI/xv0N9NGt8T+mMlRTksrwPx79+g8iFvA/JOL8U3Yi7z+wqNFBzXjuPwg8NM33L+4/cDxICkFI7j84czDwj8HuPww43XJnm+8/aJX5gXNq8D/msCK9ZTbxPxg4ei+4MPI/fHBtz2hY8z/oLkTPRqz0P/aQU9fzKvY/Jvohb+XS9z+EDwiUZqL5PyKIq3uZl/s/hnWDgHmw/T8yUWo23er/P7JpjFI8IgFAT8Ee029dAkBXG2AyxKUDQH1LT/3m+QRAXIlXlXlYBkACh72ZEsAHQG+RI1w/LwlAJrukXoWkCkD1Lv3ZYx4MQFN8LUpVmw1A/v///9AZD0A=",
          "dtype": "f8"
         }
        },
        {
         "hoverinfo": "text",
         "marker": {
          "color": "#1f77b4",
          "opacity": 0.8,
          "size": 8
         },
         "mode": "markers",
         "name": "Cluster 0 points",
         "text": [
          "Cluster: 0<br>Text: # Contract with GreenField Holdings for Markellm\n\n**Effective Date:** November 15, 2023  \n**Contract...",
          "Cluster: 0<br>Text: ## Renewal\n1. **Automatic Renewal**: This contract will automatically renew for sequential one-year ...",
          "Cluster: 0<br>Text: **Signatures:**  \n_________________________                           _________________________  \n**...",
          "Cluster: 0<br>Text: 1. **Technical Support**: Provider shall offer dedicated technical support to the Client via phone, ...",
          "Cluster: 0<br>Text: **Insurellm, Inc.**  \n_____________________________  \nAuthorized Signature   \nDate: ________________...",
          "Cluster: 0<br>Text: # Contract with Greenstone Insurance for Homellm\n\n---\n\n## Terms\n\n1. **Parties**: This Contract (\"Agr...",
          "Cluster: 0<br>Text: 4. **Payment Terms**: \n   - The Customer shall pay an amount of $10,000 per month for the Standard T...",
          "Cluster: 0<br>Text: - **Customer Portal**: A dedicated portal will be provided, allowing the Customer's clients to manag...",
          "Cluster: 0<br>Text: ______________________________  \n[Name], [Title]  \nDate: ______________________\n\n**For Greenstone In...",
          "Cluster: 0<br>Text: # Contract with Roadway Insurance Inc. for Carllm\n\n---\n\n## Terms\n\n1. **Agreement Effective Date**: T...",
          "Cluster: 0<br>Text: ---\n\n## Renewal\n\n1. **Automatic Renewal**: This agreement will automatically renew for an additional...",
          "Cluster: 0<br>Text: ---\n\n## Support\n\n1. **Technical Support**: Roadway Insurance Inc. will receive priority technical su...",
          "Cluster: 0<br>Text: # Contract with TechDrive Insurance for Carllm\n\n**Contract Date:** October 1, 2024  \n**Contract Dura...",
          "Cluster: 0<br>Text: ## Renewal\n\n1. **Automatic Renewal**: This contract shall automatically renew for additional one-yea...",
          "Cluster: 0<br>Text: ## Support\n\n1. **Customer Support**: Insurellm will provide 24/7 customer support to TechDrive Insur...",
          "Cluster: 0<br>Text: **TechDrive Insurance Representative:**  \nName: Sarah Johnson  \nTitle: Operations Director  \nDate: _...",
          "Cluster: 0<br>Text: # Contract with Belvedere Insurance for Markellm\n\n## Terms\nThis Contract (\"Agreement\") is made and e...",
          "Cluster: 0<br>Text: ## Renewal\n1. **Renewal Terms**: This Agreement may be renewed for additional one-year terms upon mu...",
          "Cluster: 0<br>Text: ## Support\n1. **Technical Support**: Technical support will be available from 9 AM to 7 PM EST, Mond...",
          "Cluster: 0<br>Text: **Belvedere Insurance**  \nSignature: ______________________  \nName: [Authorized Signatory]  \nTitle: ...",
          "Cluster: 0<br>Text: # Contract with Velocity Auto Solutions for Carllm\n\n**Contract Date:** October 1, 2023  \n**Contract ...",
          "Cluster: 0<br>Text: ## Renewal\n\n1. **Automatic Renewal**: This contract will automatically renew for successive 12-month...",
          "Cluster: 0<br>Text: ## Support\n\n1. **Customer Support**: Velocity Auto Solutions will have access to Insurellm’s custome...",
          "Cluster: 0<br>Text: # Contract with GreenValley Insurance for Homellm\n\n**Contract Date:** October 6, 2023  \n**Contract N...",
          "Cluster: 0<br>Text: 4. **Confidentiality:** Both parties agree to maintain the confidentiality of proprietary informatio...",
          "Cluster: 0<br>Text: 3. **Regular Updates:** Insurellm will offer ongoing updates and enhancements to the Homellm platfor...",
          "Cluster: 0<br>Text: ---\n\n**Signatures**  \n**For Insurellm**: __________________________  \n**Name**: John Smith  \n**Title...",
          "Cluster: 0<br>Text: # Contract with BrightWay Solutions for Markellm\n\n**Contract Date:** October 5, 2023  \n**Contract ID...",
          "Cluster: 0<br>Text: 3. **Service Level Agreement (SLA):**  \n   Insurellm commits to a 99.9% uptime for the platform with...",
          "Cluster: 0<br>Text: 3. **Training and Onboarding:**  \n   Insurellm agrees to provide one free training session on how to...",
          "Cluster: 0<br>Text: # Contract with Pinnacle Insurance Co. for Homellm\n\n## Terms\nThis contract (\"Contract\") is entered i...",
          "Cluster: 0<br>Text: ## Renewal\n1. **Renewal Terms**: At the end of the initial term, this Contract shall automatically r...",
          "Cluster: 0<br>Text: ## Support\n1. **Technical Support**: Insurellm shall provide 24/7 technical support via an email and..."
         ],
         "type": "scatter",
         "x": {
          "bdata": "onyAPSpUO8CXkYBAkaQKQEyyeEBOjQO/SzTjv+84GD8/V4tAPy8LQeIlDEGkTdxA2k77QKkv7kAKK9RALSbZQK7nID+KE1bAiR/iP2KfkEB98vxAQmboQPGcy0ArJW2/FmAov/JwVr5YP21AZJKbP93PEEFPq60/oKYYvkdnSsBGxJo/",
          "dtype": "f4"
         },
         "y": {
          "bdata": "7k3cQPDb3kBY6X+/25SIQLP1AL+K76FAg4qzQI03jEB42pq/BQVMQGLOkECoEV5AtK8fQCI6j0CIBwVAGbOnP/8X7kDE0+NAZfFxQER9GL7HgEFAYECXQO50I0Cc4oZAj953QB+9VEDcU2g/ebnXQLYr0EBjUMVACjOhQEHJ4UBAGn5A",
          "dtype": "f4"
         }
        },
        {
         "hoverinfo": "text",
         "marker": {
          "color": "#1f77b4",
          "line": {
           "color": "white",
           "width": 2
          },
          "size": 15,
          "symbol": "star"
         },
         "mode": "markers",
         "name": "Center 0",
         "text": "Center of Cluster 0",
         "type": "scatter",
         "x": [
          3.0137875080108643
         ],
         "y": [
          3.887605667114258
         ]
        },
        {
         "fill": "toself",
         "fillcolor": "#ff7f0e",
         "line": {
          "color": "#ff7f0e",
          "width": 2
         },
         "name": "Cluster 1 boundary",
         "opacity": 0.2,
         "showlegend": true,
         "type": "scatter",
         "x": {
          "bdata": "AAAAwBBZ+7/y1YZ7g2v7vwzYz6nIovu/CN+SUaf++78s70W/wH78v/77u+aQIv2/5vtC627p/b9M+7TNjdL+v//AyD/93P+/2hfkTdWDAMDlhdb/sCgBwE0nQMVn3AHA/G9aXUCeAsBURwr2cm0DwJ7K2vkpSQTAwgEo7IIwBcBGkpZSjyIGwNjG56pVHgfAmoMsbNIiCMDmBk4S+S4JwNiu2DK1QQrA2nDrmetZC8B2SyZue3YMwJ/Ealo/lg3AhYY7vA64DsCDaYPVvtoPwL9bRACSfhDAwptncgkPEcBATdXVMJ4RwOqZoZl0KxLAT0FoH0O2EsBe+GdRDT4TwPYnATZHwhPAAAAAgGhCFMCOIh0b7b0UwJ8RJLRVNBXA7wYzPCilFcBM6oxm8A8WwMCzeyBAdBbARKXHArDRFsBuZU683ycXwP8aTHV2dhfA0DDwKiO9F8C+Wt8CnfsXwJ7GTJajMRjAlA9dNP9eGMDqhI4bgYMYwD6X66kDnxjAUr3Vg2qxGMBx00CxoroYwHHTQLGiuhjAUr3Vg2qxGMA+l+upA58YwOqEjhuBgxjAlA9dNP9eGMCexkyWozEYwL5a3wKd+xfA0DDwKiO9F8D/Gkx1dnYXwG5lTrzfJxfARKXHArDRFsDAs3sgQHQWwEzqjGbwDxbA7wYzPCilFcCfESS0VTQVwI4iHRvtvRTA////f2hCFMD1JwE2R8ITwF74Z1ENPhPAUEFoH0O2EsDpmaGZdCsSwEBN1dUwnhHAwptncgkPEcDAW0QAkn4QwIFpg9W+2g/AhIY7vA64DsCgxGpaP5YNwHhLJm57dgzA2XDrmetZC8DZrtgytUEKwOcGThL5LgnAmIMsbNIiCMDYxueqVR4HwEaSllKPIgbAwgEo7IIwBcCcytr5KUkEwFNHCvZybQPA/G9aXUCeAsBOJ0DFZ9wBwOSF1v+wKAHA2hfkTdWDAMD/wMg//dz/v0z7tM2N0v6/5vtC627p/b/++7vmkCL9vyzvRb/Afvy/CN+SUaf++78M2M+pyKL7v/LVhnuDa/u/AAAAwBBZ+78=",
          "dtype": "f8"
         },
         "y": {
          "bdata": "AAAAQGwNHsDjIWlAInwdwMozMwVu6xzAHA5duORbHMA+fsBPGs4bwJn3jPSgQhvAxSGdbAi6GsAlk0KG3TQawIl9IIepsxnAduuqnvE2GcBea9xcNr8YwEaury3zTBjADrbl2Z3gF8DmuJsNpnoXwBjiLeV0GxfAu5ndgGzDFsDmA6uf53IWwAP8yUE5KhbAYvkSU6zpFcA3D8hdg7EVwHCk/UX4gRXAyJftDTxbFcDwU3Kjdj0VwDHn3bbGKBXAWoxXm0EdFcDmQOAw8xoVwF4RFdjdIRXAGLq7b/oxFcAqIxxcOEsVwAgkH5h9bRXA8ugg0KaYFcArVFuGh8wVwFXRwkDqCBbAIFQmwJBNFsByr1lANJoWwGIgKMGF7hbA1drDVy5KF8DKpV6Iz6wXwJErj6cDFhjAUpgeQ16FGMA4ftKRbPoYwF7Dv+m1dBnA46CsPLzzGcDUewGa/HYawKmlwrXv/RrAuuEHdAqIG8CJ62F4vhQcwCAtmrh6oxzAp181EqwzHcAd+B7ivcQdwOMH4Z0aVh7AWaDKbSznHsDh0mXHXXcfwDsKzwMNAyDAIw/8BWdJIMArrR5ldI4gwBZC//Lt0SDAjq+pIY4TIcBRHiBLEVMhwOTAFvc1kCHA17NwHr3KIcA3ajhsagIiwBut0HsENyLAlRIeFFVoIsDP72tfKZYiwEco0x9SwCLA8NXs36PmIsBWl54f9wgjwOpV0nwoJyPAh4vv1xhBI8D8bfBzrVYjwGvu8RHQZyPA9CIiCG90I8BRd/VTfXwjwI3fj6fyfyPA0zlUcst+I8BoDJHkCHkjwAjWRu6wbiPAHDQJOc5fI8DILQEdcEwjwGT4G5GqNCPAT4N2FpYYI8D+ARufT/giwA1+KnD40yLAIzOR/7WrIsD0DmnNsX8iwI0jMjkZUCLA+SQNUx0dIsDeKCip8uYhwFHKkRHRrSHARYqqcPNxIcA8wW98lzMhwG623nz98iDAHW+xCWiwIMA0hLnFG2wgwOHAHxhfJiDA4/Gix/O+H8A2zMx6ai8fwB7elj+2nh7AAQAAQGwNHsA=",
          "dtype": "f8"
         }
        },
        {
         "hoverinfo": "text",
         "marker": {
          "color": "#ff7f0e",
          "opacity": 0.8,
          "size": 8
         },
         "mode": "markers",
         "name": "Cluster 1 points",
         "text": [
          "Cluster: 1<br>Text: # HR Record\n\n# Alex Chen\n\n## Summary\n- **Date of Birth:** March 15, 1990  \n- **Job Title:** Backend ...",
          "Cluster: 1<br>Text: ## Compensation History\n- **2020:** Base Salary: $80,000  \n- **2021:** Base Salary Increase to $90,0...",
          "Cluster: 1<br>Text: # HR Record\n\n# Oliver Spencer\n\n## Summary\n- **Date of Birth**: May 14, 1990  \n- **Job Title**: Backe...",
          "Cluster: 1<br>Text: ## Compensation History\n- **March 2018**: Initial salary of $80,000.\n- **July 2019**: Salary increas...",
          "Cluster: 1<br>Text: # HR Record\n\n# Emily Tran\n\n## Summary\n- **Date of Birth:** March 18, 1991  \n- **Job Title:** Digital...",
          "Cluster: 1<br>Text: - **2021**:  \n  - Performance Rating: Meets Expectations  \n  - Key Achievements: Contributed to the ...",
          "Cluster: 1<br>Text: # HR Record\n\n# Jordan Blake\n\n## Summary\n- **Date of Birth:** March 15, 1993  \n- **Job Title:** Sales...",
          "Cluster: 1<br>Text: ## Annual Performance History\n- **2021:** First year at Insurellm; achieved 90% of monthly targets. ...",
          "Cluster: 1<br>Text: ## Other HR Notes\n- Jordan has shown an interest in continuing education, actively participating in ...",
          "Cluster: 1<br>Text: ## Compensation History\n- **2015**: $150,000 base salary + Significant equity stake  \n- **2016**: $1...",
          "Cluster: 1<br>Text: # HR Record\n\n# Maxine Thompson\n\n## Summary\n- **Date of Birth:** January 15, 1991  \n- **Job Title:** ...",
          "Cluster: 1<br>Text: ## Insurellm Career Progression\n- **January 2017 - October 2018**: **Junior Data Engineer**  \n  * Ma...",
          "Cluster: 1<br>Text: ## Compensation History\n- **2017**: $70,000 (Junior Data Engineer)  \n- **2018**: $75,000 (Junior Dat...",
          "Cluster: 1<br>Text: # Samantha Greene\n\n## Summary\n- **Date of Birth:** October 14, 1990\n- **Job Title:** HR Generalist\n-...",
          "Cluster: 1<br>Text: ## Compensation History\n- **2020:** Base Salary - $55,000  \n  The entry-level salary matched industr...",
          "Cluster: 1<br>Text: - **2023:** Base Salary - $70,000  \n  Recognized for substantial improvement in employee relations m...",
          "Cluster: 1<br>Text: # HR Record\n\n# Alex Thomson\n\n## Summary\n- **Date of Birth:** March 15, 1995  \n- **Job Title:** Sales...",
          "Cluster: 1<br>Text: ## Annual Performance History  \n- **2022** - Rated as \"Exceeds Expectations.\" Alex Thomson achieved ...",
          "Cluster: 1<br>Text: ## Other HR Notes\n- Alex Thomson is an active member of the Diversity and Inclusion committee at Ins...",
          "Cluster: 1<br>Text: # HR Record\n\n# Samuel Trenton\n\n## Summary\n- **Date of Birth:** April 12, 1989  \n- **Job Title:** Sen...",
          "Cluster: 1<br>Text: ## Annual Performance History\n- **2023:** Rating: 4.5/5  \n  *Samuel exceeded expectations, successfu...",
          "Cluster: 1<br>Text: ## Compensation History\n- **2023:** Base Salary: $115,000 + Bonus: $15,000  \n  *Annual bonus based o...",
          "Cluster: 1<br>Text: # HR Record\n\n# Alex Harper\n\n## Summary\n- **Date of Birth**: March 15, 1993  \n- **Job Title**: Sales ...",
          "Cluster: 1<br>Text: ## Annual Performance History  \n- **2021**:  \n  - **Performance Rating**: 4.5/5  \n  - **Key Achievem...",
          "Cluster: 1<br>Text: - **2022**:  \n  - **Base Salary**: $65,000 (Promotion to Senior SDR)  \n  - **Bonus**: $13,000 (20% o...",
          "Cluster: 1<br>Text: # HR Record\n\n# Jordan K. Bishop\n\n## Summary\n- **Date of Birth:** March 15, 1990\n- **Job Title:** Fro...",
          "Cluster: 1<br>Text: ## Compensation History\n- **June 2018:** Starting Salary - $85,000\n- **June 2019:** Salary Increase ...",
          "Cluster: 1<br>Text: ## Other HR Notes\n- Jordan K. Bishop has been an integral part of club initiatives, including the In...",
          "Cluster: 1<br>Text: # HR Record\n\n# Emily Carter\n\n## Summary\n- **Date of Birth:** August 12, 1990  \n- **Job Title:** Acco...",
          "Cluster: 1<br>Text: ## Compensation History\n| Year | Base Salary | Bonus         | Total Compensation |\n|------|--------..."
         ],
         "type": "scatter",
         "x": {
          "bdata": "EzutwOHahcAUZrrAL92RwLbEFsAs4kTACY2RwCngbMAn1n/AVdeOwFB77b8HSD+/rfkjwE8vvsB18LXAHte0wG6tgMAN8A3ACIVewEvotcBFNyfAyA9WwEsZiMB7lkDANUN+wBWOqMAUTnTA66SSwA5/ScBlO43A",
          "dtype": "f4"
         },
         "y": {
          "bdata": "dGSZwLVyFsEeB5bA3XwZwTUKs8D66/zAnQyqwJosC8GtGFHAjQ4pwcAoQsHnDi3Bua8swSWz8sDGYBDBbuIFwWoVn8BckAfB6nuJwBwnucCtXRbBaUUewdYYssCRCA3BKSLuwL4WfcB9MCzB4y5IwKExuMAFzgnB",
          "dtype": "f4"
         }
        },
        {
         "hoverinfo": "text",
         "marker": {
          "color": "#ff7f0e",
          "line": {
           "color": "white",
           "width": 2
          },
          "size": 15,
          "symbol": "star"
         },
         "mode": "markers",
         "name": "Center 1",
         "text": "Center of Cluster 1",
         "type": "scatter",
         "x": [
          -3.9463160037994385
         ],
         "y": [
          -7.513108253479004
         ]
        },
        {
         "fill": "toself",
         "fillcolor": "#2ca02c",
         "line": {
          "color": "#2ca02c",
          "width": 2
         },
         "name": "Cluster 2 boundary",
         "opacity": 0.2,
         "showlegend": true,
         "type": "scatter",
         "x": {
          "bdata": "AAAAeCgQIUCK18L9XQwhQGoBb3cCASFAXC4omiHuIEBtmMDbztMgQIKkqV4lsiBAHlf71UeJIEC8ca9hYFkgQM8XNWOgIiBAvHwTlYDKH0AEvhe4/kIfQAzNht5Grx5AwjLGTfEPHkBaSZpEomUdQJ+E11EJsRxAMGdqn+DyG0C6sHAy7CsbQBKWKSH5XBpAVU2Nv9yGGUCf2mXDc6oYQJ3Ly2ChyBdAaGjxX07iFkB7xi0taPgVQPUXP+TfCxVAAIDAV6kdFECTn9MVui4TQB3wAGsIQBJACdlTZIpSEUBIN7jRNGcQQCiVPZP0/Q5AclbZXZQ1DUAWHG90H3cLQH9qmg5ixAlA/v//TxwfCEBaN1p6AIkGQEHe1C2xAwVAHvCFub+QA0AiCcB9qjECQGb/6GHb5wBA6OLVvkxp/z+qsYBGkDL9PzrDCI/JLfs/Dg2wTA1d+T8cqKSOOsL3P+axLdH4XvY/WpMhSbY09T8krGdqpkT0PwqDCqvAj/M/7i0hhL8W8z/S5JaxH9ryP9LklrEf2vI/7i0hhL8W8z8KgwqrwI/zPySsZ2qmRPQ/WpMhSbY09T/ksS3R+F72PxyopI46wvc/DA2wTA1d+T88wwiPyS37P6ixgEaQMv0/6uLVvkxp/z9l/+hh2+cAQCMJwH2qMQJAHfCFub+QA0BC3tQtsQMFQFg3WnoAiQZAAwAAUBwfCECAapoOYsQJQBYcb3QfdwtAcFbZXZQ1DUArlT2T9P0OQEk3uNE0ZxBACdlTZIpSEUAc8ABrCEASQJWf0xW6LhNAAYDAV6kdFED0Fz/k3wsVQHnGLS1o+BVAaWjxX07iFkCdy8tgocgXQJ7aZcNzqhhAVk2Nv9yGGUASlikh+VwaQLqwcDLsKxtALmdqn+DyG0CghNdRCbEcQFtJmkSiZR1AwjLGTfEPHkALzYbeRq8eQAW+F7j+Qh9AvHwTlYDKH0DPFzVjoCIgQLxxr2FgWSBAHlf71UeJIECCpKleJbIgQG2YwNvO0yBAXC4omiHuIEBqAW93AgEhQIrXwv1dDCFAAAAAeCgQIUA=",
          "dtype": "f8"
         },
         "y": {
          "bdata": "AAAAgK0YIUD/IVKUGZAhQH/MR44KByJAiTdq0gV9IkBIK4vCkfEiQJDJIjs2ZCNAYwUnD33UI0DGH92B8kEkQFSXJ74lrCRAJ4/VSqkSJUAJyHt7E3UlQITYYt3+0iVAI1oaoAosJkCCP0X52n8mQH1zOIMZziZAODgKlnUWJ0Dxd7aapFgnQEtTAlhilCdAzKrPOHHJJ0AoJZiLmvcnQGdCzrquHihABF7qfYU+KED0D/EC/lYoQIoeSBD/ZyhAbCG3HndxKECiB3lrXHMoQNXgSwKtbShAcop0v25gKEAoLbRJr0soQPPENQSELyhAKzWC+AkMKECEopG4ZeEnQMbtGDnDrydANSs6pFV3J0DGy8YkVzgnQAXWSaoI8yZAov0XprGnJkCqmarBn1YmQJhjkY4mACZAD4VNMJ+kJUAPwW4AaEQlQE1wUS3k3yRARZLhU3t3JECCVswUmQskQHA3jqWsnCNA4gPQXSgrI0DmAolBgbciQKuxX4guQiJAlHLFIqnLIUBa20s9a1QhQKUktMLv3CBAbI063bFlIECpnEDvWN4fQDb67Xyz8x5APPhfRGUMHkAikeO0XCkdQPxSZ9aDSxxAeNs8WL9zG0BmH12l7aIaQOJ9Iv/l2RlA4fVkn3cZGUDSON3iaGIYQKrMqnx2tRdAvATQs1ITF0D2U2yrpHwWQHRocrYH8hVAlqmLtwp0FUB0JM6NLwMVQPi63I7qnxRAqpX7DqJKFEAadpT3rQMUQLCll2xXyxNAHOsWgdihE0BXPmj7W4cTQL3wDSn9exNAKL2Rwsd/E0Drwm/ft5ITQBjgHfq5tBNA90MrBKvlE0Aye2OKWCUUQLC1z+iAcxRAaKpgjtPPFEBrWftP8TkVQB4Qk8pssRVAkI/r08o1FkAHGY/5gsYWQPyAdQ0AYxdAukvLv6AKGED2TjpFuLwYQPBvCAmPeBlAsuFUamM9GkBX0bCDagobQHPARfzQ3htAPPWx4bu5HEDfbLqJSZodQG+p6XqSfx5A8JArW6poH0CBM7hxUCogQAHerWtBoSBA////f60YIUA=",
          "dtype": "f8"
         }
        },
        {
         "hoverinfo": "text",
         "marker": {
          "color": "#2ca02c",
          "opacity": 0.8,
          "size": 8
         },
         "mode": "markers",
         "name": "Cluster 2 points",
         "text": [
          "Cluster: 2<br>Text: # Product Summary\n\n# Markellm\n\n## Summary\n\nMarkellm is an innovative two-sided marketplace designed ...",
          "Cluster: 2<br>Text: - **User-Friendly Interface**: Designed with user experience in mind, Markellm features an intuitive...",
          "Cluster: 2<br>Text: - **Customer Support**: Our dedicated support team is always available to assist both consumers and ...",
          "Cluster: 2<br>Text: ### For Insurance Companies:\n- **Basic Listing Fee**: $199/month for a featured listing on the platf...",
          "Cluster: 2<br>Text: ### Q3 2025\n- Initiate a comprehensive marketing campaign targeting both consumers and insurers to i...",
          "Cluster: 2<br>Text: # Product Summary\n\n# Homellm\n\n## Summary\nHomellm is an innovative home insurance product developed b...",
          "Cluster: 2<br>Text: ### 2. Dynamic Pricing Model\nWith Homellm's innovative dynamic pricing model, insurance providers ca...",
          "Cluster: 2<br>Text: ### 5. Multi-Channel Integration\nHomellm seamlessly integrates into existing insurance platforms, pr...",
          "Cluster: 2<br>Text: - **Basic Tier:** Starting at $5,000/month for small insurers with basic integration features.\n- **S...",
          "Cluster: 2<br>Text: All tiers include a comprehensive training program and ongoing updates to ensure optimal performance...",
          "Cluster: 2<br>Text: With Homellm, Insurellm is committed to transforming the landscape of home insurance, ensuring both ...",
          "Cluster: 2<br>Text: # Product Summary\n\n# Carllm\n\n## Summary\n\nCarllm is an innovative auto insurance product developed by...",
          "Cluster: 2<br>Text: - **Instant Quoting**: With Carllm, insurance companies can offer near-instant quotes to customers, ...",
          "Cluster: 2<br>Text: - **Mobile Integration**: Carllm is designed to work seamlessly with mobile applications, providing ...",
          "Cluster: 2<br>Text: - **Professional Tier**: $2,500/month\n  - For medium-sized companies.\n  - All Basic Tier features pl...",
          "Cluster: 2<br>Text: ### Q2 2025: Customer Experience Improvements\n- Launch of a new **mobile app** for end-users.\n- Intr...",
          "Cluster: 2<br>Text: ## Features\n1. **AI-Powered Matching**: Access to advanced algorithms that connect GreenField Holdin...",
          "Cluster: 2<br>Text: ## Support\n1. **Customer Support Access**: The Client will have access to dedicated support through ...",
          "Cluster: 2<br>Text: ---\n\n## Features\n\n- **AI-Powered Risk Assessment**: Customer will have access to enhanced risk evalu...",
          "Cluster: 2<br>Text: ---\n\n## Features\n\n1. **Access to Core Features**: Roadway Insurance Inc. will have access to all Pro...",
          "Cluster: 2<br>Text: ## Features\n1. **AI-Powered Matching**: Belvedere Insurance will benefit from Markellm's AI-powered ...",
          "Cluster: 2<br>Text: 1. **AI-Powered Risk Assessment:** Access to advanced AI algorithms for real-time risk evaluations.\n...",
          "Cluster: 2<br>Text: 2. **Real-Time Quote Availability:**  \n   Consumers sourced via BrightWay Solutions will receive rea...",
          "Cluster: 2<br>Text: ## Features\n1. **AI-Powered Risk Assessment**: Utilized for tailored underwriting decisions specific...",
          "Cluster: 2<br>Text: # About Insurellm\n\nInsurellm was founded by Avery Lancaster in 2015 as an insurance tech startup des..."
         ],
         "type": "scatter",
         "x": {
          "bdata": "g1NYQOCfQEDbpRZAZvDFP09kfUCVD65AO9e3QC0QwEAxz+1AZYfqQIjXLj+Ku8pAM+bQQGaI5EAf/+hAvQG1QKwKgEBS+Dk/eaC7QGdq8kBfxzhATBGdQDspEEELrrdA/LRQPw==",
          "dtype": "f4"
         },
         "y": {
          "bdata": "DKIUQW1WFEGpJRZBf3ASQcbTCkG8sxtBb34pQa77HkFcERVBB2QgQXZC6T/9mN9AhbDnQGXS9UB+Av1AFVoAQZi+OUHReBFBf4QwQZ4yvkD2ZCNBVb8xQbPq7UAgtz1B00rBPg==",
          "dtype": "f4"
         }
        },
        {
         "hoverinfo": "text",
         "marker": {
          "color": "#2ca02c",
          "line": {
           "color": "white",
           "width": 2
          },
          "size": 15,
          "symbol": "star"
         },
         "mode": "markers",
         "name": "Center 2",
         "text": "Center of Cluster 2",
         "type": "scatter",
         "x": [
          4.85398006439209
         ],
         "y": [
          8.548198699951172
         ]
        },
        {
         "fill": "toself",
         "fillcolor": "#d62728",
         "line": {
          "color": "#d62728",
          "width": 2
         },
         "name": "Cluster 3 boundary",
         "opacity": 0.2,
         "showlegend": true,
         "type": "scatter",
         "x": {
          "bdata": "AAAApHmyAkA5vCzMMacCQInVjOVlhQJApl+xxjhNAkCyKflX5P4BQBd231e5mgFAG2bABx8hAUCH5WjBkpIAQG6cv+tO3/8/LuzaKwpy/j8clvvJz978P3jhHm4/J/s/UNjvNB5N+T8XZ7PcVFL3P+q9ec3tOPU/IUmc/hID8z9dXLO7C7PwPyBooJZ0luw/ZDfO8zKc5z+SZOQWdHziP1JWvVkAedo/LJ6YVwKHzz9ovfCJ0o2zPzh+Q5q9b7i/2NHsxFQv0b9KO/uuUEvcv0xbaMA3suO/pjoZRaA36b9FasXsMLDuv2O96v0iC/K/00AQYiey9L+AvMGwaUr3v46AdS490fm/AwAAGAdE/L/i9+NRQaD+v0r3K4G+cQDAPD+pibKFAcABywNN4IoCwIYbrpA6gAPAcxd6asRkBMC0zk5FkjcFwM9mANTK9wXA3NtP8aekBsAbrytsdz0HwKf2Xr+bwQfACnbxs4wwCMBVXpHt14kIwBn4dWAhzQjAabJBsCP6CMA3yIF3sBAJwDfIgXewEAnAabJBsCP6CMAZ+HVgIc0IwFVeke3XiQjACnbxs4wwCMCo9l6/m8EHwBuvK2x3PQfA3NtP8aekBsDOZgDUyvcFwLXOTkWSNwXAchd6asRkBMCGG66QOoADwADLA03gigLAPj+pibKFAcBI9yuBvnEAwOX341FBoP6/+///FwdE/L+MgHUuPdH5v4C8wbBpSve/1kAQYiey9L9ever9Igvyv0BqxewwsO6/pjoZRaA36b9SW2jAN7LjvzU7+65QS9y/ztHsxFQv0b9ofkOavW+4vxC98InSjbM/QJ6YVwKHzz9QVr1ZAHnaP41k5BZ0fOI/bDfO8zKc5z8kaKCWdJbsP11cs7sLs/A/Hkmc/hID8z/uvXnN7Tj1Pxhns9xUUvc/TtjvNB5N+T924R5uPyf7Px6W+8nP3vw/LuzaKwpy/j9unL/rTt//P4blaMGSkgBAHGbABx8hAUAXdt9XuZoBQLIp+Vfk/gFAp1+xxjhNAkCJ1YzlZYUCQDm8LMwxpwJAAAAApHmyAkA=",
          "dtype": "f8"
         },
         "y": {
          "bdata": "AAAAwORlGsCGj2YwNrQZwBM4Vck+AxnAEFyG9rRTGMAVkNuqTaYXwP751qW7+xbAnGxZu65UFsDOL2Me07EVwExKkq/QExXAakcVUEp7FMCT28Q53egTwIl6EV0gXRPAr/BrxaPYEsBqYskE8FsSwDbB26aF5xHAvdSPrNx7EcCAb1kQZBkRwM9SzVOBwBDA9q7+FpBxEMCSGwy64SwQwPHIehJ65Q/ASUYR6LuGD8DtvpOe6j0PwELP2UVRCw/AJYV6BiTvDsBePAjsf+kOwBXfH8dq+g7AOGdqJ9MhD8CszpZtkF8PwILmOfVisw/AcHU0K3oOEMC6mWXf600QwASY4zDFlxDAd4er/7nrEMB+CH3Ac0kRwKhhENaRsBHAYBmu9KkgEsAsY8GPSJkSwFht9FDxGRPAAMdbmB+iE8C8vywFRzEUwOTTcQbUxhTAKPsncyxiFcAODCgpsAIWwO1kOLK5pxbAdrKc7p5QF8AOAnTEsfwXwFxaMNNAqxjAOdpuKphbGcBP43MDAg0awLEcjHzHvhrAyCWRVTFwG8Ckpc+siCAcwPH9i7sXzxzAi01jkSp7HcASm8fNDyQewPLz11YZyR7A1wTYDJ1pH8AOFse8egIgwCKgaT1BTSDAgBzS89SUIMBUyYUX7NggwGpOH3hAGSHAUPOoxY9VIcAsz/fUm40hwMF7wd8qwSHARTwqwAfwIcD+M44nAhoiwCMzTdDuPiLASMVlqqdeIsBghrECDHkiwFVMmqQAjiLAMmYl9m+dIsA6CDgOSqciwOjw/cSEqyLAt15hvhuqIsAwjIluEKMiwEUQWxhqliLAbq77xTWEIsDETWE7hmwiwDfy+eJzTyLAhaiAtBwtIsCYVhkWpAUiwEBI07cy2SHAohW4afanIcBlH5LsIXIhwMtOm73sNyHAqQdK3ZL5IMC8QneRVLcgwDaSHSN2cSDAS1z1lz8oIMC1tW3Q+LcfwDLQnGH2GR/AY5OmxBp3HsACBinaDdAdwOtvJNV7JR3A7qN5iRR4HMDsx6q2isgbwHpwmU+TFxvAAQAAwORlGsA=",
          "dtype": "f8"
         }
        },
        {
         "hoverinfo": "text",
         "marker": {
          "color": "#d62728",
          "opacity": 0.8,
          "size": 8
         },
         "mode": "markers",
         "name": "Cluster 3 points",
         "text": [
          "Cluster: 3<br>Text: ## Annual Performance History\n- **2020:**  \n  - Completed onboarding successfully.  \n  - Met expecta...",
          "Cluster: 3<br>Text: Alex Chen continues to be a vital asset at Insurellm, contributing significantly to innovative backe...",
          "Cluster: 3<br>Text: ## Annual Performance History\n- **2018**: **3/5** - Adaptable team player but still learning to take...",
          "Cluster: 3<br>Text: - **January 2017 - May 2018**: Marketing Intern  \n  - Supported the Marketing team by collaborating ...",
          "Cluster: 3<br>Text: - **Professional Development Goals**:  \n  - Emily Tran aims to become a Marketing Manager within the...",
          "Cluster: 3<br>Text: # Avery Lancaster\n\n## Summary\n- **Date of Birth**: March 15, 1985  \n- **Job Title**: Co-Founder & Ch...",
          "Cluster: 3<br>Text: - **2010 - 2013**: Business Analyst at Edge Analytics  \n  Prior to joining Innovate, Avery worked as...",
          "Cluster: 3<br>Text: - **2018**: **Exceeds Expectations**  \n  Under Avery’s pivoted vision, Insurellm launched two new su...",
          "Cluster: 3<br>Text: - **2022**: **Satisfactory**  \n  Avery focused on rebuilding team dynamics and addressing employee c...",
          "Cluster: 3<br>Text: ## Other HR Notes\n- **Professional Development**: Avery has actively participated in leadership trai...",
          "Cluster: 3<br>Text: ## Annual Performance History\n- **2017**: *Meets Expectations*  \n  Maxine showed potential in her ro...",
          "Cluster: 3<br>Text: - **2021**: *Exceeds Expectations*  \n  Maxine spearheaded the transition to a new data warehousing s...",
          "Cluster: 3<br>Text: ## Annual Performance History\n- **2020:** Exceeds Expectations  \n  Samantha Greene demonstrated exce...",
          "Cluster: 3<br>Text: - **Engagement in Company Culture:** Regularly participates in team-building events and contributes ...",
          "Cluster: 3<br>Text: ## Annual Performance History\n- **2019:** Exceeds Expectations - Continuously delivered high-quality...",
          "Cluster: 3<br>Text: - **2017-2019:** Marketing Intern  \n  - Assisted with market research and campaign development for s...",
          "Cluster: 3<br>Text: Emily Carter exemplifies the kind of talent that drives Insurellm's success and is an invaluable ass..."
         ],
         "type": "scatter",
         "x": {
          "bdata": "fvxsvhUwKr+y7ni+bWrPv2uj2r+l3ms/llOiP5Od3D8cjO4/RXRkP86BcT4qXd8+jghPv0IV5cCN7aI+mE6Iv3LWb78=",
          "dtype": "f4"
         },
         "y": {
          "bdata": "tTEDwWElFsC02gHBzzW6wMuBqcBcCozA6LbQwKmQ4sCgKOPAx2eTwA81FsHvxh7BSHERwUVCzsBCOgXBCPbYwIapMcA=",
          "dtype": "f4"
         }
        },
        {
         "hoverinfo": "text",
         "marker": {
          "color": "#d62728",
          "line": {
           "color": "white",
           "width": 2
          },
          "size": 15,
          "symbol": "star"
         },
         "mode": "markers",
         "name": "Center 3",
         "text": "Center of Cluster 3",
         "type": "scatter",
         "x": [
          -0.39869019389152527
         ],
         "y": [
          -6.599505424499512
         ]
        },
        {
         "fill": "toself",
         "fillcolor": "#9467bd",
         "line": {
          "color": "#9467bd",
          "width": 2
         },
         "name": "Cluster 4 boundary",
         "opacity": 0.2,
         "showlegend": true,
         "type": "scatter",
         "x": {
          "bdata": "AAAAMAgTGUDyK0loiw0ZQIaYOLka/RhAMko1FcfhGECwQoGnrLsYQKj7L7fyihhAQGmpfstPGEDzQOP3cwoYQOrjhZ0zuxdA/Lc9IVxiF0A544QXSQAXQNw4PJlflRZAf6d02w0iFkBuldS9yqYVQCxGDlAVJBVAhZnlTnSaFEAGKEyZdQoUQIDoIp6tdBNA7h44w7bZEkAcTh/GMDoSQNs7hxfAlhFABsW3MQ3wEED/PObqw0YQQDm9JoglNw9AVsxSalTeDUCegyfud4QMQK+3F5n0KgtAkK+vlC7TCUBqWnE/iH4IQJu1ib9gLgdA9O/XmBLkBUAsa7tH8qAEQM7PGOJMZgNA/v//v2Y1AkBO2FQteg8BQJDHpkts6/8/Tfd6OXrS/T8IiueiR9b7P4pcXWTg+Pk/3Pv6mzA8+D/WjEOuAqL2PxppmW39K/U/ZIdjZqLb8z+q+J5RTLLyP5Iodq8tsfE/7k1Oi0/Z8D/aupBqkCvwP8Rdk85GUe8/aDwS7x6i7j/Me4fEXUruP8x7h8RdSu4/aDwS7x6i7j/EXZPORlHvP9q6kGqQK/A/7k1Oi0/Z8D+SKHavLbHxP6r4nlFMsvI/ZIdjZqLb8z8aaZlt/Sv1P9aMQ64CovY/3vv6mzA8+D+JXF1k4Pj5PwmK56JH1vs/TPd6OXrS/T+Tx6ZLbOv/P0zYVC16DwFAAgAAwGY1AkDPzxjiTGYDQCxru0fyoARA8+/XmBLkBUCdtYm/YC4HQGxacT+IfghAkK+vlC7TCUCttxeZ9CoLQKCDJ+53hAxAV8xSalTeDUA4vSaIJTcPQP485urDRhBABsW3MQ3wEEDbO4cXwJYRQBxOH8YwOhJA7x44w7bZEkCA6CKerXQTQAYoTJl1ChRAhZnlTnSaFEAsRg5QFSQVQG+V1L3KphVAf6d02w0iFkDcODyZX5UWQDrjhBdJABdA/Lc9IVxiF0Dq44WdM7sXQPJA4/dzChhAQWmpfstPGECo+y+38ooYQLBCgaesuxhAM0o1FcfhGECGmDi5Gv0YQPIrSWiLDRlAAAAAMAgTGUA=",
          "dtype": "f8"
         },
         "y": {
          "bdata": "AAAAgKDuEEAvkE0GfpsRQBJnHVupRxJArEqhBHHyEkDGpqz3JJsTQOfELE0XQRRAvQVs9ZzjFEBEUmdoDoIVQPD/f1LIGxZASCPYPCywFkBGxKswoT4XQFOS/lSUxhdAGI77hXlHGEAKn2rly8AYQFYrp2MOMhlA1oKKQMyaGUByOcWDmfoZQA5iK2wTURpAi++A1eCdGkBGTF2UsuAaQG5vx8dDGRtAQ1A2IFpHG0BwhqwbxmobQLwhsTZjgxtAsj3zERiRG0DOhHGM1pMbQDutCtKbixtAuutnXnB4G0BLWz70Z1obQCVd8IihMRtAVvCjJEf+GkCG5u62jcAaQICfReC0eBpAYItksAYnGkBSD/hZ18sZQHR/0duEZxlAqqUCoHb6GEBftkMRHYUYQGSWESfxBxhA/OX76HODF0D3WqPpLfgWQN6E8bmuZhZAahobVYzPFUB1XQWGYjMVQB70rUbSkhRALMI6GoHuE0Bl0FxiGEcTQO8gtrBEnRJAtWz2FLXxEUCcKGZoGkURQGPXmZcmmBBAliYT1hfXD0AhvpOe+H8OQDdfRjtRLA1AqHuKy3/dC0DGF6Ry3ZQKQBRF9fO8UwlALsvJVWkbCEBD9hyMJO0GQBRKuSwmygVABzQILpqzBEA609yxn6oDQEGTeN1HsAJAq7T6v5TFAUAXAV1IeOsAQF3hD0zTIgBAftJtPunY/j/+gel+MJL9P+hlRCTNcvw/qD5wbed7+z9qiz7cfa76P9SSBi9kC/o/GlFghkKT+T8WS9W3lEb5P8jsOc6pJfk/OgkzuKMw+T8SeTsld2f5PzzmTZHryfk/9L4mf5tX+j9GQuLg9A/7P+jOiq458vs/1EH8qYD9/D/Kd1JPtjD+Pzoa6/Cdiv8/U/rqfumEAEBUqbE4ZVYBQO7BKjXqOAJA0eMI9I4rA0BY2wJWWS0EQHV3qJ4/PQVAcLlPhilaBkAgAABb8YIHQHZbMS9ltghAh/QnFUjzCUAydqZlUzgLQHOyphA4hAxAq2q99p/VDUDeMcVJLysPQNFvsvnCQRBA////f6DuEEA=",
          "dtype": "f8"
         }
        },
        {
         "hoverinfo": "text",
         "marker": {
          "color": "#9467bd",
          "opacity": 0.8,
          "size": 8
         },
         "mode": "markers",
         "name": "Cluster 4 points",
         "text": [
          "Cluster: 4<br>Text: # Product Summary\n\n# Rellm: AI-Powered Enterprise Reinsurance Solution\n\n## Summary\n\nRellm is an inno...",
          "Cluster: 4<br>Text: ### Seamless Integrations\nRellm's architecture is designed for effortless integration with existing ...",
          "Cluster: 4<br>Text: ### Regulatory Compliance Tools\nRellm includes built-in compliance tracking features to help organiz...",
          "Cluster: 4<br>Text: Join the growing number of organizations leveraging Rellm to enhance their reinsurance processes whi...",
          "Cluster: 4<br>Text: Experience the future of reinsurance with Rellm, where innovation meets reliability. Let Insurellm h...",
          "Cluster: 4<br>Text: # Contract with Apex Reinsurance for Rellm: AI-Powered Enterprise Reinsurance Solution\n\n## Terms\n\n1....",
          "Cluster: 4<br>Text: ## Renewal\n\n1. **Automatic Renewal**: This Agreement will automatically renew for successive one-yea...",
          "Cluster: 4<br>Text: 2. **Seamless Integrations**: The architecture of Rellm allows for easy integration with existing sy...",
          "Cluster: 4<br>Text: # Contract with Stellar Insurance Co. for Rellm\n\n## Terms\nThis contract is made between **Insurellm*...",
          "Cluster: 4<br>Text: ### Termination\nEither party may terminate this agreement with a **30-day written notice**. In the e...",
          "Cluster: 4<br>Text: ## Features\nStellar Insurance Co. will receive access to the following features of the Rellm product...",
          "Cluster: 4<br>Text: ## Support\nInsurellm provides Stellar Insurance Co. with the following support services:\n\n- **24/7 T...",
          "Cluster: 4<br>Text: # Contract with EverGuard Insurance for Rellm: AI-Powered Enterprise Reinsurance Solution\n\n**Contrac...",
          "Cluster: 4<br>Text: 4. **Usage Rights**: EverGuard Insurance is granted a non-exclusive, non-transferable license to acc...",
          "Cluster: 4<br>Text: 1. **Core Functionality**: Rellm provides EverGuard Insurance with advanced AI-driven analytics, sea...",
          "Cluster: 4<br>Text: 1. **Customer Support**: Insurellm will provide EverGuard Insurance with 24/7 customer support, incl...",
          "Cluster: 4<br>Text: # Overview of Insurellm\n\nInsurellm is an innovative insurance tech firm with 200 employees across th...",
          "Cluster: 4<br>Text: # Careers at Insurellm\n\nInsurellm is hiring! We are looking for talented software engineers, data sc..."
         ],
         "type": "scatter",
         "x": {
          "bdata": "aSChQFxcckBCfYhADYiaQAaL5D9EraJAQl2qQOukWUAqS1pAhC5+QA57XEB7dT5AJ4+NQB7Bj0BvToBADAxbQGcbZT/5Pbw+",
          "dtype": "f4"
         },
         "y": {
          "bdata": "clvIQNkg1UDQBMNA66X1QC8r4j8HaG1ApKmbQNz9zkAZsTFAUwYqQPoirUAF3WhAA09yQMD7lEC1R6pACo2DQIV7KD//eqS+",
          "dtype": "f4"
         }
        },
        {
         "hoverinfo": "text",
         "marker": {
          "color": "#9467bd",
          "line": {
           "color": "white",
           "width": 2
          },
          "size": 15,
          "symbol": "star"
         },
         "mode": "markers",
         "name": "Center 4",
         "text": "Center of Cluster 4",
         "type": "scatter",
         "x": [
          3.6069118976593018
         ],
         "y": [
          4.233034133911133
         ]
        }
       ],
       "layout": {
        "height": 600,
        "showlegend": true,
        "template": {
         "data": {
          "bar": [
           {
            "error_x": {
             "color": "#2a3f5f"
            },
            "error_y": {
             "color": "#2a3f5f"
            },
            "marker": {
             "line": {
              "color": "#E5ECF6",
              "width": 0.5
             },
             "pattern": {
              "fillmode": "overlay",
              "size": 10,
              "solidity": 0.2
             }
            },
            "type": "bar"
           }
          ],
          "barpolar": [
           {
            "marker": {
             "line": {
              "color": "#E5ECF6",
              "width": 0.5
             },
             "pattern": {
              "fillmode": "overlay",
              "size": 10,
              "solidity": 0.2
             }
            },
            "type": "barpolar"
           }
          ],
          "carpet": [
           {
            "aaxis": {
             "endlinecolor": "#2a3f5f",
             "gridcolor": "white",
             "linecolor": "white",
             "minorgridcolor": "white",
             "startlinecolor": "#2a3f5f"
            },
            "baxis": {
             "endlinecolor": "#2a3f5f",
             "gridcolor": "white",
             "linecolor": "white",
             "minorgridcolor": "white",
             "startlinecolor": "#2a3f5f"
            },
            "type": "carpet"
           }
          ],
          "choropleth": [
           {
            "colorbar": {
             "outlinewidth": 0,
             "ticks": ""
            },
            "type": "choropleth"
           }
          ],
          "contour": [
           {
            "colorbar": {
             "outlinewidth": 0,
             "ticks": ""
            },
            "colorscale": [
             [
              0,
              "#0d0887"
             ],
             [
              0.1111111111111111,
              "#46039f"
             ],
             [
              0.2222222222222222,
              "#7201a8"
             ],
             [
              0.3333333333333333,
              "#9c179e"
             ],
             [
              0.4444444444444444,
              "#bd3786"
             ],
             [
              0.5555555555555556,
              "#d8576b"
             ],
             [
              0.6666666666666666,
              "#ed7953"
             ],
             [
              0.7777777777777778,
              "#fb9f3a"
             ],
             [
              0.8888888888888888,
              "#fdca26"
             ],
             [
              1,
              "#f0f921"
             ]
            ],
            "type": "contour"
           }
          ],
          "contourcarpet": [
           {
            "colorbar": {
             "outlinewidth": 0,
             "ticks": ""
            },
            "type": "contourcarpet"
           }
          ],
          "heatmap": [
           {
            "colorbar": {
             "outlinewidth": 0,
             "ticks": ""
            },
            "colorscale": [
             [
              0,
              "#0d0887"
             ],
             [
              0.1111111111111111,
              "#46039f"
             ],
             [
              0.2222222222222222,
              "#7201a8"
             ],
             [
              0.3333333333333333,
              "#9c179e"
             ],
             [
              0.4444444444444444,
              "#bd3786"
             ],
             [
              0.5555555555555556,
              "#d8576b"
             ],
             [
              0.6666666666666666,
              "#ed7953"
             ],
             [
              0.7777777777777778,
              "#fb9f3a"
             ],
             [
              0.8888888888888888,
              "#fdca26"
             ],
             [
              1,
              "#f0f921"
             ]
            ],
            "type": "heatmap"
           }
          ],
          "histogram": [
           {
            "marker": {
             "pattern": {
              "fillmode": "overlay",
              "size": 10,
              "solidity": 0.2
             }
            },
            "type": "histogram"
           }
          ],
          "histogram2d": [
           {
            "colorbar": {
             "outlinewidth": 0,
             "ticks": ""
            },
            "colorscale": [
             [
              0,
              "#0d0887"
             ],
             [
              0.1111111111111111,
              "#46039f"
             ],
             [
              0.2222222222222222,
              "#7201a8"
             ],
             [
              0.3333333333333333,
              "#9c179e"
             ],
             [
              0.4444444444444444,
              "#bd3786"
             ],
             [
              0.5555555555555556,
              "#d8576b"
             ],
             [
              0.6666666666666666,
              "#ed7953"
             ],
             [
              0.7777777777777778,
              "#fb9f3a"
             ],
             [
              0.8888888888888888,
              "#fdca26"
             ],
             [
              1,
              "#f0f921"
             ]
            ],
            "type": "histogram2d"
           }
          ],
          "histogram2dcontour": [
           {
            "colorbar": {
             "outlinewidth": 0,
             "ticks": ""
            },
            "colorscale": [
             [
              0,
              "#0d0887"
             ],
             [
              0.1111111111111111,
              "#46039f"
             ],
             [
              0.2222222222222222,
              "#7201a8"
             ],
             [
              0.3333333333333333,
              "#9c179e"
             ],
             [
              0.4444444444444444,
              "#bd3786"
             ],
             [
              0.5555555555555556,
              "#d8576b"
             ],
             [
              0.6666666666666666,
              "#ed7953"
             ],
             [
              0.7777777777777778,
              "#fb9f3a"
             ],
             [
              0.8888888888888888,
              "#fdca26"
             ],
             [
              1,
              "#f0f921"
             ]
            ],
            "type": "histogram2dcontour"
           }
          ],
          "mesh3d": [
           {
            "colorbar": {
             "outlinewidth": 0,
             "ticks": ""
            },
            "type": "mesh3d"
           }
          ],
          "parcoords": [
           {
            "line": {
             "colorbar": {
              "outlinewidth": 0,
              "ticks": ""
             }
            },
            "type": "parcoords"
           }
          ],
          "pie": [
           {
            "automargin": true,
            "type": "pie"
           }
          ],
          "scatter": [
           {
            "fillpattern": {
             "fillmode": "overlay",
             "size": 10,
             "solidity": 0.2
            },
            "type": "scatter"
           }
          ],
          "scatter3d": [
           {
            "line": {
             "colorbar": {
              "outlinewidth": 0,
              "ticks": ""
             }
            },
            "marker": {
             "colorbar": {
              "outlinewidth": 0,
              "ticks": ""
             }
            },
            "type": "scatter3d"
           }
          ],
          "scattercarpet": [
           {
            "marker": {
             "colorbar": {
              "outlinewidth": 0,
              "ticks": ""
             }
            },
            "type": "scattercarpet"
           }
          ],
          "scattergeo": [
           {
            "marker": {
             "colorbar": {
              "outlinewidth": 0,
              "ticks": ""
             }
            },
            "type": "scattergeo"
           }
          ],
          "scattergl": [
           {
            "marker": {
             "colorbar": {
              "outlinewidth": 0,
              "ticks": ""
             }
            },
            "type": "scattergl"
           }
          ],
          "scattermap": [
           {
            "marker": {
             "colorbar": {
              "outlinewidth": 0,
              "ticks": ""
             }
            },
            "type": "scattermap"
           }
          ],
          "scattermapbox": [
           {
            "marker": {
             "colorbar": {
              "outlinewidth": 0,
              "ticks": ""
             }
            },
            "type": "scattermapbox"
           }
          ],
          "scatterpolar": [
           {
            "marker": {
             "colorbar": {
              "outlinewidth": 0,
              "ticks": ""
             }
            },
            "type": "scatterpolar"
           }
          ],
          "scatterpolargl": [
           {
            "marker": {
             "colorbar": {
              "outlinewidth": 0,
              "ticks": ""
             }
            },
            "type": "scatterpolargl"
           }
          ],
          "scatterternary": [
           {
            "marker": {
             "colorbar": {
              "outlinewidth": 0,
              "ticks": ""
             }
            },
            "type": "scatterternary"
           }
          ],
          "surface": [
           {
            "colorbar": {
             "outlinewidth": 0,
             "ticks": ""
            },
            "colorscale": [
             [
              0,
              "#0d0887"
             ],
             [
              0.1111111111111111,
              "#46039f"
             ],
             [
              0.2222222222222222,
              "#7201a8"
             ],
             [
              0.3333333333333333,
              "#9c179e"
             ],
             [
              0.4444444444444444,
              "#bd3786"
             ],
             [
              0.5555555555555556,
              "#d8576b"
             ],
             [
              0.6666666666666666,
              "#ed7953"
             ],
             [
              0.7777777777777778,
              "#fb9f3a"
             ],
             [
              0.8888888888888888,
              "#fdca26"
             ],
             [
              1,
              "#f0f921"
             ]
            ],
            "type": "surface"
           }
          ],
          "table": [
           {
            "cells": {
             "fill": {
              "color": "#EBF0F8"
             },
             "line": {
              "color": "white"
             }
            },
            "header": {
             "fill": {
              "color": "#C8D4E3"
             },
             "line": {
              "color": "white"
             }
            },
            "type": "table"
           }
          ]
         },
         "layout": {
          "annotationdefaults": {
           "arrowcolor": "#2a3f5f",
           "arrowhead": 0,
           "arrowwidth": 1
          },
          "autotypenumbers": "strict",
          "coloraxis": {
           "colorbar": {
            "outlinewidth": 0,
            "ticks": ""
           }
          },
          "colorscale": {
           "diverging": [
            [
             0,
             "#8e0152"
            ],
            [
             0.1,
             "#c51b7d"
            ],
            [
             0.2,
             "#de77ae"
            ],
            [
             0.3,
             "#f1b6da"
            ],
            [
             0.4,
             "#fde0ef"
            ],
            [
             0.5,
             "#f7f7f7"
            ],
            [
             0.6,
             "#e6f5d0"
            ],
            [
             0.7,
             "#b8e186"
            ],
            [
             0.8,
             "#7fbc41"
            ],
            [
             0.9,
             "#4d9221"
            ],
            [
             1,
             "#276419"
            ]
           ],
           "sequential": [
            [
             0,
             "#0d0887"
            ],
            [
             0.1111111111111111,
             "#46039f"
            ],
            [
             0.2222222222222222,
             "#7201a8"
            ],
            [
             0.3333333333333333,
             "#9c179e"
            ],
            [
             0.4444444444444444,
             "#bd3786"
            ],
            [
             0.5555555555555556,
             "#d8576b"
            ],
            [
             0.6666666666666666,
             "#ed7953"
            ],
            [
             0.7777777777777778,
             "#fb9f3a"
            ],
            [
             0.8888888888888888,
             "#fdca26"
            ],
            [
             1,
             "#f0f921"
            ]
           ],
           "sequentialminus": [
            [
             0,
             "#0d0887"
            ],
            [
             0.1111111111111111,
             "#46039f"
            ],
            [
             0.2222222222222222,
             "#7201a8"
            ],
            [
             0.3333333333333333,
             "#9c179e"
            ],
            [
             0.4444444444444444,
             "#bd3786"
            ],
            [
             0.5555555555555556,
             "#d8576b"
            ],
            [
             0.6666666666666666,
             "#ed7953"
            ],
            [
             0.7777777777777778,
             "#fb9f3a"
            ],
            [
             0.8888888888888888,
             "#fdca26"
            ],
            [
             1,
             "#f0f921"
            ]
           ]
          },
          "colorway": [
           "#636efa",
           "#EF553B",
           "#00cc96",
           "#ab63fa",
           "#FFA15A",
           "#19d3f3",
           "#FF6692",
           "#B6E880",
           "#FF97FF",
           "#FECB52"
          ],
          "font": {
           "color": "#2a3f5f"
          },
          "geo": {
           "bgcolor": "white",
           "lakecolor": "white",
           "landcolor": "#E5ECF6",
           "showlakes": true,
           "showland": true,
           "subunitcolor": "white"
          },
          "hoverlabel": {
           "align": "left"
          },
          "hovermode": "closest",
          "mapbox": {
           "style": "light"
          },
          "paper_bgcolor": "white",
          "plot_bgcolor": "#E5ECF6",
          "polar": {
           "angularaxis": {
            "gridcolor": "white",
            "linecolor": "white",
            "ticks": ""
           },
           "bgcolor": "#E5ECF6",
           "radialaxis": {
            "gridcolor": "white",
            "linecolor": "white",
            "ticks": ""
           }
          },
          "scene": {
           "xaxis": {
            "backgroundcolor": "#E5ECF6",
            "gridcolor": "white",
            "gridwidth": 2,
            "linecolor": "white",
            "showbackground": true,
            "ticks": "",
            "zerolinecolor": "white"
           },
           "yaxis": {
            "backgroundcolor": "#E5ECF6",
            "gridcolor": "white",
            "gridwidth": 2,
            "linecolor": "white",
            "showbackground": true,
            "ticks": "",
            "zerolinecolor": "white"
           },
           "zaxis": {
            "backgroundcolor": "#E5ECF6",
            "gridcolor": "white",
            "gridwidth": 2,
            "linecolor": "white",
            "showbackground": true,
            "ticks": "",
            "zerolinecolor": "white"
           }
          },
          "shapedefaults": {
           "line": {
            "color": "#2a3f5f"
           }
          },
          "ternary": {
           "aaxis": {
            "gridcolor": "white",
            "linecolor": "white",
            "ticks": ""
           },
           "baxis": {
            "gridcolor": "white",
            "linecolor": "white",
            "ticks": ""
           },
           "bgcolor": "#E5ECF6",
           "caxis": {
            "gridcolor": "white",
            "linecolor": "white",
            "ticks": ""
           }
          },
          "title": {
           "x": 0.05
          },
          "xaxis": {
           "automargin": true,
           "gridcolor": "white",
           "linecolor": "white",
           "ticks": "",
           "title": {
            "standoff": 15
           },
           "zerolinecolor": "white",
           "zerolinewidth": 2
          },
          "yaxis": {
           "automargin": true,
           "gridcolor": "white",
           "linecolor": "white",
           "ticks": "",
           "title": {
            "standoff": 15
           },
           "zerolinecolor": "white",
           "zerolinewidth": 2
          }
         }
        },
        "title": {
         "text": "Document Clusters Visualization (std_circle)"
        },
        "width": 800,
        "xaxis": {
         "title": {
          "text": "t-SNE dimension 1"
         }
        },
        "yaxis": {
         "title": {
          "text": "t-SNE dimension 2"
         }
        }
       }
      }
     },
     "metadata": {},
     "output_type": "display_data"
    },
    {
     "data": {
      "application/vnd.plotly.v1+json": {
       "config": {
        "plotlyServerURL": "https://plot.ly"
       },
       "data": [
        {
         "fill": "toself",
         "fillcolor": "#1f77b4",
         "line": {
          "color": "#1f77b4",
          "width": 2
         },
         "name": "Cluster 0 boundary",
         "opacity": 0.2,
         "showlegend": true,
         "type": "scatter",
         "x": {
          "bdata": "AAAAmCNLJECw57NFyUMkQJgTJuPBLSRA4r2JJSQJJECthobLFdYjQMb6T3bLlCNA8htlc4hFI0BU1y93nugiQNjty0htfiJASiBMX2IHIkABZeNw+IMhQB94ZvS29CBAByuolTFaIEDqyIA6D2ofQLl2tZjGCx5A2dprWvKaHEAwNRKyDhkbQJk5HWiphxlATvb8QGDoF0Dmn5dS3zwWQGLtAUvfhhRA2OU7qiPIEkAyY8bweAIRQIkZ4ollbw5AnTqUIVTTCkB8wEE1djQHQEbUIjSHlgNACopOLoP6/z+59SQSttj4P0UCFycBz/E/3A1JVEvJ5T+4dA8eEoPQP3DITPRHrcO/EAAAALGv4b/YSCveav7tv/B5tOBn5fS/AHZyFluE+r+wN0vDQ9b/v/RlUgLTagLA0LS7hK2+BMCaMeIwS+QGwNx3cXh12QjAxLvEviecCsCKrW9tkSoMwNymJtMXgw3AyncYy1ekDsCYbAUrJ40PwJ4WTftKHhDAJ9Foq/dYEMDKbi8qXXYQwMpuLypddhDAJ9Foq/dYEMCeFk37Sh4QwJhsBSsnjQ/AyncYy1ekDsDepibTF4MNwIqtb22RKgzAxrvEviecCsDad3F4ddkIwJwx4jBL5AbA0LS7hK2+BMD2ZVIC02oCwKw3S8ND1v+/BHZyFluE+r/oebTgZ+X0v+hIK95q/u2/6P///7Cv4b9QyEz0R63Dv7h0Dx4Sg9A/0A1JVEvJ5T9RAhcnAc/xP7/1JBK22Pg/CopOLoP6/z9C1CI0h5YDQIPAQTV2NAdAoDqUIVTTCkCFGeKJZW8OQC5jxvB4AhFA2uU7qiPIEkBi7QFL34YUQOSfl1LfPBZAUfb8QGDoF0CaOR1oqYcZQDA1ErIOGRtA19prWvKaHEC8drWYxgseQOvIgDoPah9ABiuolTFaIEAeeGb0tvQgQAJl43D4gyFASiBMX2IHIkDY7ctIbX4iQFTXL3ee6CJA8xtlc4hFI0DG+k92y5QjQK2GhssV1iNA4r2JJSQJJECYEybjwS0kQLDns0XJQyRAAAAAmCNLJEA=",
          "dtype": "f8"
         },
         "y": {
          "bdata": "AAAAANEZD0BHltuoKlwRQFzmSUiPKRNACgUfwTrzFEC0T7ZMVbcWQByKQ+EMdBhAJN45EpcnGkDch9noMtAbQLoP/bIqbB1A9wFJxtX5HkC2hfYazTsgQGCemTz38SBAQu+UgK2eIUDD1eLdPUEiQFywdsEA2SJAViP6ulllI0A4yg8euOUjQLoadZeXWSRAr75ptYDAJEBEyc9iCRolQNPbhVTVZSVAaoGKaJajJUDirob2DNMlQJ1hbBEI9CVAfLjluWUGJkANimABEwomQMpXkh0M/yVAiIBgbFzlJUAIqyhoHr0lQKZ8dYx7hiVA9r47K6xBJUBOCMwy9+4kQPS/tOSxjiRAktzffT8hJEDS9EbQEKcjQCAVp86jICNAcDysCoOOIkDMVBomRfEhQPrlhjeMSSFAd5FDIwWYIEC6J0vSzbofQGAExM/jNB5AAm+CLd6fHEDMt+tsXv0aQAQh2vMTTxlAUiTrT7qWF0AiDEZtF9YVQNAxssL5DhRAsDbfdDZDEkAEocpyp3QQQPW9ahpTSg1AnJJBFjWtCUBenJt6rhUGQL/ncyVzhwJAsm5TwFoM/j/2e5cw9Cr3P8ogUUzKcfA//Ifsk5bP4z/gc38Hpp3MPwD3ZEmaH8S/eBc5NMqx4L+QX254O8rrv2im0jDlIvO/gONhVdQM+L8IqTh12p38v0TTG0GhaADASnJ/91tRAsDU/9KSJQcEwDohMMs6iAXA1PvurA7TBsCc8tUxTOYHwB6soqDXwAjAIgKCsc9hCcAmX0l2jsgJwDQoggWq9AnA8uGW5/TlCcB0hrFFfpwJwIq7GtqRGAnAqAUqordaCMBMbxdSs2MHwBAlP4uDNAbAuvqm1WDOBMDmatRdvDIDwOAoP3g+YwHAtBrR14nD/r/YgrULwmD6vxSuFu+qovW/DHqnBCiO8L8g5pnJ61Dmv7C20F6T3NW/AAn+tjn7nz9YBC/QZNraPxTBM7nwTOo/fIcYt+fI8z+Q1/F6EJf6P5Vgk2b3xABA8/XBfSxNBEBMM2xvg+AHQHLTSK5MewtA/P///9AZD0A=",
          "dtype": "f8"
         }
        },
        {
         "hoverinfo": "text",
         "marker": {
          "color": "#1f77b4",
          "opacity": 0.8,
          "size": 8
         },
         "mode": "markers",
         "name": "Cluster 0 points",
         "text": [
          "Cluster: 0<br>Text: # Contract with GreenField Holdings for Markellm\n\n**Effective Date:** November 15, 2023  \n**Contract...",
          "Cluster: 0<br>Text: ## Renewal\n1. **Automatic Renewal**: This contract will automatically renew for sequential one-year ...",
          "Cluster: 0<br>Text: **Signatures:**  \n_________________________                           _________________________  \n**...",
          "Cluster: 0<br>Text: 1. **Technical Support**: Provider shall offer dedicated technical support to the Client via phone, ...",
          "Cluster: 0<br>Text: **Insurellm, Inc.**  \n_____________________________  \nAuthorized Signature   \nDate: ________________...",
          "Cluster: 0<br>Text: # Contract with Greenstone Insurance for Homellm\n\n---\n\n## Terms\n\n1. **Parties**: This Contract (\"Agr...",
          "Cluster: 0<br>Text: 4. **Payment Terms**: \n   - The Customer shall pay an amount of $10,000 per month for the Standard T...",
          "Cluster: 0<br>Text: - **Customer Portal**: A dedicated portal will be provided, allowing the Customer's clients to manag...",
          "Cluster: 0<br>Text: ______________________________  \n[Name], [Title]  \nDate: ______________________\n\n**For Greenstone In...",
          "Cluster: 0<br>Text: # Contract with Roadway Insurance Inc. for Carllm\n\n---\n\n## Terms\n\n1. **Agreement Effective Date**: T...",
          "Cluster: 0<br>Text: ---\n\n## Renewal\n\n1. **Automatic Renewal**: This agreement will automatically renew for an additional...",
          "Cluster: 0<br>Text: ---\n\n## Support\n\n1. **Technical Support**: Roadway Insurance Inc. will receive priority technical su...",
          "Cluster: 0<br>Text: # Contract with TechDrive Insurance for Carllm\n\n**Contract Date:** October 1, 2024  \n**Contract Dura...",
          "Cluster: 0<br>Text: ## Renewal\n\n1. **Automatic Renewal**: This contract shall automatically renew for additional one-yea...",
          "Cluster: 0<br>Text: ## Support\n\n1. **Customer Support**: Insurellm will provide 24/7 customer support to TechDrive Insur...",
          "Cluster: 0<br>Text: **TechDrive Insurance Representative:**  \nName: Sarah Johnson  \nTitle: Operations Director  \nDate: _...",
          "Cluster: 0<br>Text: # Contract with Belvedere Insurance for Markellm\n\n## Terms\nThis Contract (\"Agreement\") is made and e...",
          "Cluster: 0<br>Text: ## Renewal\n1. **Renewal Terms**: This Agreement may be renewed for additional one-year terms upon mu...",
          "Cluster: 0<br>Text: ## Support\n1. **Technical Support**: Technical support will be available from 9 AM to 7 PM EST, Mond...",
          "Cluster: 0<br>Text: **Belvedere Insurance**  \nSignature: ______________________  \nName: [Authorized Signatory]  \nTitle: ...",
          "Cluster: 0<br>Text: # Contract with Velocity Auto Solutions for Carllm\n\n**Contract Date:** October 1, 2023  \n**Contract ...",
          "Cluster: 0<br>Text: ## Renewal\n\n1. **Automatic Renewal**: This contract will automatically renew for successive 12-month...",
          "Cluster: 0<br>Text: ## Support\n\n1. **Customer Support**: Velocity Auto Solutions will have access to Insurellm’s custome...",
          "Cluster: 0<br>Text: # Contract with GreenValley Insurance for Homellm\n\n**Contract Date:** October 6, 2023  \n**Contract N...",
          "Cluster: 0<br>Text: 4. **Confidentiality:** Both parties agree to maintain the confidentiality of proprietary informatio...",
          "Cluster: 0<br>Text: 3. **Regular Updates:** Insurellm will offer ongoing updates and enhancements to the Homellm platfor...",
          "Cluster: 0<br>Text: ---\n\n**Signatures**  \n**For Insurellm**: __________________________  \n**Name**: John Smith  \n**Title...",
          "Cluster: 0<br>Text: # Contract with BrightWay Solutions for Markellm\n\n**Contract Date:** October 5, 2023  \n**Contract ID...",
          "Cluster: 0<br>Text: 3. **Service Level Agreement (SLA):**  \n   Insurellm commits to a 99.9% uptime for the platform with...",
          "Cluster: 0<br>Text: 3. **Training and Onboarding:**  \n   Insurellm agrees to provide one free training session on how to...",
          "Cluster: 0<br>Text: # Contract with Pinnacle Insurance Co. for Homellm\n\n## Terms\nThis contract (\"Contract\") is entered i...",
          "Cluster: 0<br>Text: ## Renewal\n1. **Renewal Terms**: At the end of the initial term, this Contract shall automatically r...",
          "Cluster: 0<br>Text: ## Support\n1. **Technical Support**: Insurellm shall provide 24/7 technical support via an email and..."
         ],
         "type": "scatter",
         "x": {
          "bdata": "onyAPSpUO8CXkYBAkaQKQEyyeEBOjQO/SzTjv+84GD8/V4tAPy8LQeIlDEGkTdxA2k77QKkv7kAKK9RALSbZQK7nID+KE1bAiR/iP2KfkEB98vxAQmboQPGcy0ArJW2/FmAov/JwVr5YP21AZJKbP93PEEFPq60/oKYYvkdnSsBGxJo/",
          "dtype": "f4"
         },
         "y": {
          "bdata": "7k3cQPDb3kBY6X+/25SIQLP1AL+K76FAg4qzQI03jEB42pq/BQVMQGLOkECoEV5AtK8fQCI6j0CIBwVAGbOnP/8X7kDE0+NAZfFxQER9GL7HgEFAYECXQO50I0Cc4oZAj953QB+9VEDcU2g/ebnXQLYr0EBjUMVACjOhQEHJ4UBAGn5A",
          "dtype": "f4"
         }
        },
        {
         "hoverinfo": "text",
         "marker": {
          "color": "#1f77b4",
          "line": {
           "color": "white",
           "width": 2
          },
          "size": 15,
          "symbol": "star"
         },
         "mode": "markers",
         "name": "Center 0",
         "text": "Center of Cluster 0",
         "type": "scatter",
         "x": [
          3.0137875080108643
         ],
         "y": [
          3.887605667114258
         ]
        },
        {
         "fill": "toself",
         "fillcolor": "#ff7f0e",
         "line": {
          "color": "#ff7f0e",
          "width": 2
         },
         "name": "Cluster 1 boundary",
         "opacity": 0.2,
         "showlegend": true,
         "type": "scatter",
         "x": {
          "bdata": "AAAAQDgG8j+Ur7DfYtzxP0iwN94NX/E/6CGAbbqO8D8YBXyZftjuP8gaIdaP8es/2PCwZaZr6D9YfAD+Y0rkP+BVNe8UJN8/YC2h1O6O1D8ANfakfMDBP0BdWMmN366/WCRHooCY0b+Q1Iu7oiPgv9y9Z8yO7Oe/xDFoFX8P8L9ycwTdPln0v+Jxoycbz/i/JDJP53ps/b+QIWspThYBwBTXjuZMhQPAVMGweLcABsD185ff/oUIwLL1ZPCJEgvA2gU9A7ijDcBXuVbUcRsQwC8f/rGyZBHA6R3LM0usEsBcT2So6fATwAda+m8/MRXAJg04VQJsFsC8KqXh7Z8XwBD/HKzEyxjAAgAAoFHuGcDWLM87aQYbwFfB6MXqEhzAVPsndsESHcCdJjWT5QQewP7TX4Jd6B7AMwDryD68H8Au+OB+1z8gwAROTlXymCDA9MfVDRTpIMBnm3oO6i8hwKWqUFIrbSHAiJbBtJigIcDyjKMy/ckhwL673iAu6SHAgxNpWAv+IcBWA2tXfwgiwFYDa1d/CCLAgxNpWAv+IcC+u94gLukhwPKMozL9ySHAiJbBtJigIcCmqlBSK20hwGebeg7qLyHA9cfVDRTpIMAETk5V8pggwC744H7XPyDAMgDryD68H8D+01+CXegewJwmNZPlBB7AVfsndsESHcBWwejF6hIcwNcszztpBhvA/v//n1HuGcAO/xysxMsYwLwqpeHtnxfAJw04VQJsFsAEWvpvPzEVwFpPZKjp8BPA6R3LM0usEsAxH/6xsmQRwFW5VtRxGxDA2AU9A7ijDcC19WTwiRILwPrzl9/+hQjAUsGweLcABsAU147mTIUDwJIhaylOFgHAHDJP53ps/b/ecaMnG8/4v3JzBN0+WfS/yDFoFX8P8L/MvWfMjuznv4zUi7uiI+C/YCRHooCY0b8AXljJjd+uvyA19qR8wME/YC2h1O6O1D/gVTXvFCTfP1B8AP5jSuQ/4PCwZaZr6D/IGiHWj/HrPxgFfJl+2O4/6CGAbbqO8D9IsDfeDV/xP5SvsN9i3PE/AAAAQDgG8j8=",
          "dtype": "f8"
         },
         "y": {
          "bdata": "AAAAQGwNHsBQIAlK9sMcwJ0Wl/HTexvAyoUZdlc2GsD6iT5c0PQYwOOvFhSKuBfACbxto8qCFsDucLhV0VQVwBHC8XLVLxTAnLu6/gQVE8Ck4geBgwUSwAL5nNloAhHAPuyMH8AMEMD3p84bDUsOwF6dXv1UmwzAJKNR6hQMC8AkYvNw6J4JwASlFf9HVQjANF8IXocwB8AoVVdU1DEGwNJztm41WgXAkIFd8YiqBMA2JOrygyMEwBxqtKGxxQPAfEJWtHKRA8CyyfkF/YYDwLAt1V5bpgPAzGQNaW3vA8DeKwvS52EEwM7vH5hU/QTAzJgqhBPBBcDQ0r7OWqwGwNiUJPA3vgfAQn5ZmpD1CMA4VBLcI1EKwJalkGuLzwvAN433Fz1vDcDZ26JfjC4PwAzm7hTWhRDAXPYYUViCEcDpJbKZyIsSwMgiC1AVoRPAoGVwmyDBFMBqUtKPweoVwBkZ2F/FHBfAitQhmfBVGMDs5XNpAJUZwOVbfOur2BrACV7beaUfHMBwIREHnGgdwJHe7ng8sh7A+KEkBjP7H8AO0kFKFqEgwAkNRgvsQiHAvBVv83PiIcBz8xOQCX8iwMvWFngLGCPAL81H8tusI8CcbvqX4TwkwAvtJvOHxyTA0oRzF0BMJcD6jIg1gcolwApJFyjJQSbAshwC+pyxJsCb1htliRknwPJq+0gjeSfAcKBpGQjQJ8DK2vZD3h0owExLUIxVYijAzFn1XiedKMANBPgZF84owAg1fUvy9CjAzaa85ZARKcCUtEpo1SMpwJSNgf6sKynAYW/qkg8pKcB55ZLX/xspwPN2RUOLBCnAnJ+oA8riKMAMY1Lk3rYowLYq6ir3gCjAMuh9aEpBKMC+ljpAGvgnwHcnwyOypSfAOJdrBWdKJ8CoWKgAl+YmwAJWDPmoeibA4Yk5MAwHJsCAgzHTN4wlwK4OfH+qCiXAMqKiwOmCJMD4HoeGgfUjwIrHI5UDYyPA+iFJ7gbMIsAOqPQ1JzEiwAO74BEEkyHAGT3zhEDyIMCxdDRHgk8gwLDf9jXiVh/AAQAAQGwNHsA=",
          "dtype": "f8"
         }
        },
        {
         "hoverinfo": "text",
         "marker": {
          "color": "#ff7f0e",
          "opacity": 0.8,
          "size": 8
         },
         "mode": "markers",
         "name": "Cluster 1 points",
         "text": [
          "Cluster: 1<br>Text: # HR Record\n\n# Alex Chen\n\n## Summary\n- **Date of Birth:** March 15, 1990  \n- **Job Title:** Backend ...",
          "Cluster: 1<br>Text: ## Compensation History\n- **2020:** Base Salary: $80,000  \n- **2021:** Base Salary Increase to $90,0...",
          "Cluster: 1<br>Text: # HR Record\n\n# Oliver Spencer\n\n## Summary\n- **Date of Birth**: May 14, 1990  \n- **Job Title**: Backe...",
          "Cluster: 1<br>Text: ## Compensation History\n- **March 2018**: Initial salary of $80,000.\n- **July 2019**: Salary increas...",
          "Cluster: 1<br>Text: # HR Record\n\n# Emily Tran\n\n## Summary\n- **Date of Birth:** March 18, 1991  \n- **Job Title:** Digital...",
          "Cluster: 1<br>Text: - **2021**:  \n  - Performance Rating: Meets Expectations  \n  - Key Achievements: Contributed to the ...",
          "Cluster: 1<br>Text: # HR Record\n\n# Jordan Blake\n\n## Summary\n- **Date of Birth:** March 15, 1993  \n- **Job Title:** Sales...",
          "Cluster: 1<br>Text: ## Annual Performance History\n- **2021:** First year at Insurellm; achieved 90% of monthly targets. ...",
          "Cluster: 1<br>Text: ## Other HR Notes\n- Jordan has shown an interest in continuing education, actively participating in ...",
          "Cluster: 1<br>Text: ## Compensation History\n- **2015**: $150,000 base salary + Significant equity stake  \n- **2016**: $1...",
          "Cluster: 1<br>Text: # HR Record\n\n# Maxine Thompson\n\n## Summary\n- **Date of Birth:** January 15, 1991  \n- **Job Title:** ...",
          "Cluster: 1<br>Text: ## Insurellm Career Progression\n- **January 2017 - October 2018**: **Junior Data Engineer**  \n  * Ma...",
          "Cluster: 1<br>Text: ## Compensation History\n- **2017**: $70,000 (Junior Data Engineer)  \n- **2018**: $75,000 (Junior Dat...",
          "Cluster: 1<br>Text: # Samantha Greene\n\n## Summary\n- **Date of Birth:** October 14, 1990\n- **Job Title:** HR Generalist\n-...",
          "Cluster: 1<br>Text: ## Compensation History\n- **2020:** Base Salary - $55,000  \n  The entry-level salary matched industr...",
          "Cluster: 1<br>Text: - **2023:** Base Salary - $70,000  \n  Recognized for substantial improvement in employee relations m...",
          "Cluster: 1<br>Text: # HR Record\n\n# Alex Thomson\n\n## Summary\n- **Date of Birth:** March 15, 1995  \n- **Job Title:** Sales...",
          "Cluster: 1<br>Text: ## Annual Performance History  \n- **2022** - Rated as \"Exceeds Expectations.\" Alex Thomson achieved ...",
          "Cluster: 1<br>Text: ## Other HR Notes\n- Alex Thomson is an active member of the Diversity and Inclusion committee at Ins...",
          "Cluster: 1<br>Text: # HR Record\n\n# Samuel Trenton\n\n## Summary\n- **Date of Birth:** April 12, 1989  \n- **Job Title:** Sen...",
          "Cluster: 1<br>Text: ## Annual Performance History\n- **2023:** Rating: 4.5/5  \n  *Samuel exceeded expectations, successfu...",
          "Cluster: 1<br>Text: ## Compensation History\n- **2023:** Base Salary: $115,000 + Bonus: $15,000  \n  *Annual bonus based o...",
          "Cluster: 1<br>Text: # HR Record\n\n# Alex Harper\n\n## Summary\n- **Date of Birth**: March 15, 1993  \n- **Job Title**: Sales ...",
          "Cluster: 1<br>Text: ## Annual Performance History  \n- **2021**:  \n  - **Performance Rating**: 4.5/5  \n  - **Key Achievem...",
          "Cluster: 1<br>Text: - **2022**:  \n  - **Base Salary**: $65,000 (Promotion to Senior SDR)  \n  - **Bonus**: $13,000 (20% o...",
          "Cluster: 1<br>Text: # HR Record\n\n# Jordan K. Bishop\n\n## Summary\n- **Date of Birth:** March 15, 1990\n- **Job Title:** Fro...",
          "Cluster: 1<br>Text: ## Compensation History\n- **June 2018:** Starting Salary - $85,000\n- **June 2019:** Salary Increase ...",
          "Cluster: 1<br>Text: ## Other HR Notes\n- Jordan K. Bishop has been an integral part of club initiatives, including the In...",
          "Cluster: 1<br>Text: # HR Record\n\n# Emily Carter\n\n## Summary\n- **Date of Birth:** August 12, 1990  \n- **Job Title:** Acco...",
          "Cluster: 1<br>Text: ## Compensation History\n| Year | Base Salary | Bonus         | Total Compensation |\n|------|--------..."
         ],
         "type": "scatter",
         "x": {
          "bdata": "EzutwOHahcAUZrrAL92RwLbEFsAs4kTACY2RwCngbMAn1n/AVdeOwFB77b8HSD+/rfkjwE8vvsB18LXAHte0wG6tgMAN8A3ACIVewEvotcBFNyfAyA9WwEsZiMB7lkDANUN+wBWOqMAUTnTA66SSwA5/ScBlO43A",
          "dtype": "f4"
         },
         "y": {
          "bdata": "dGSZwLVyFsEeB5bA3XwZwTUKs8D66/zAnQyqwJosC8GtGFHAjQ4pwcAoQsHnDi3Bua8swSWz8sDGYBDBbuIFwWoVn8BckAfB6nuJwBwnucCtXRbBaUUewdYYssCRCA3BKSLuwL4WfcB9MCzB4y5IwKExuMAFzgnB",
          "dtype": "f4"
         }
        },
        {
         "hoverinfo": "text",
         "marker": {
          "color": "#ff7f0e",
          "line": {
           "color": "white",
           "width": 2
          },
          "size": 15,
          "symbol": "star"
         },
         "mode": "markers",
         "name": "Center 1",
         "text": "Center of Cluster 1",
         "type": "scatter",
         "x": [
          -3.9463160037994385
         ],
         "y": [
          -7.513108253479004
         ]
        },
        {
         "fill": "toself",
         "fillcolor": "#2ca02c",
         "line": {
          "color": "#2ca02c",
          "width": 2
         },
         "name": "Cluster 2 boundary",
         "opacity": 0.2,
         "showlegend": true,
         "type": "scatter",
         "x": {
          "bdata": "AAAAgMfvK0Alb2JQYuYrQEgX23A8yitAhUxi5XKbK0DScq7oNVorQNS7fLrIBitAnMs+WoGhKkCpuXQuyCoqQJbPDpkXoylA5fRFefsKKUDm0mybEGMoQC5RThcErCdAiAfAnZLmJkC0kiC2hxMmQG5Miuy8MyVAXauS8RhIJED/dH2sjlEjQLPi2EAcUSJAYtWECMpHIUClIzODqTYgQGDQ83ioPR5AeN00U9UCHEDk1E8AJr8ZQKrygA3wdBdAOCkiwo8mFUBU0MOwZdYSQGY82EPUhhBAINHxkHp0DEAmppvz/uUHQCcJPh/oZgNAPN5TSrH3/T965privFL1P0iPYWG4z+k/4P////H+0j8gBiKezenIv3hB59LWTeW/ZEJmdZPV8b/kqO+DyqH4v+gqHbuOBP+/lP/seaV7AsByX4PB7jkFwALfwkVPugfABCZc6TL6CcDoMLUISPcLwHzu2N2Brw3ADNlpnRohD8DG9TSlSiUQwCTgep9flRDAfgEvtFjgEMBkr6ya6AURwGSvrJroBRHAfgEvtFjgEMAk4HqfX5UQwMb1NKVKJRDADNlpnRohD8CA7tjdga8NwOgwtQhI9wvACCZc6TL6CcAA38JFT7oHwHZfg8HuOQXAkv/seaV7AsDsKh27jgT/v9yo74PKofi/aEJmdZPV8b9oQefS1k3lv4AGIp7N6ci/QAAAAPL+0j9Qj2FhuM/pP3rmmuK8UvU/NN5TSrH3/T8vCT4f6GYDQCqmm/P+5QdAINHxkHp0DEBkPNhD1IYQQFjQw7Bl1hJAOikiwo8mFUCo8oAN8HQXQN/UTwAmvxlAet00U9UCHEBg0PN4qD0eQKQjM4OpNiBAZNWECMpHIUC04thAHFEiQP90fayOUSNAXKuS8RhIJEBwTIrsvDMlQLSSILaHEyZAhwfAnZLmJkAsUU4XBKwnQObSbJsQYyhA5fRFefsKKUCWzw6ZF6MpQKm5dC7IKipAnMs+WoGhKkDUu3y6yAYrQNJyrug1WitAhUxi5XKbK0BIF9twPMorQCVvYlBi5itAAAAAgMfvK0A=",
          "dtype": "f8"
         },
         "y": {
          "bdata": "AAAAgK0YIUDm4hTppUAiQCoPcjptZyNA4c7eltOLJEARPdyUq6wlQCYDWXXLyCZAUrydVg7fJ0CynDViVe4oQIUlnPSI9SlAmht/vZnzKkCim2vXgecrQJYAxtVF0CxAEVL2x/WsLUBPEb4wrnwuQG5vuPCYPi9AZjITI+7xL0AmYc51+kowQHx7qRoClTBA1BtXsMHWMEAtoXpw9Q8xQMa2+2NiQDFA8K3On9ZnMUC+aGl4KYYxQMDKr6s7mzFAhXgsgfemMUDYrnTgUKkxQFIdoF1FojFA9OnHO9yRMUASS4plJngxQBBvmls+VTFAnKtuGUgpMUC+HSnwcPQwQNr24FfvtjBA2J18twJxMEBnhVYj8yIwQFIs4CUimi9AV4j+G2rfLkAQoViifhYuQP6Su9UuQC1AlhfyoFddLEDynQrZ4m4rQCo4TUzGdSpActXZxAJzKUDe+fP/omcoQObQDJu6VCdA0Amn92Q7JkBAXDkXxBwlQOzSPHD/+SNAQgWbvULUIkCsNLbJvKwhQFPLSTaehCBAevXJhDC6HkAlWoYft24cQIRHjdEtKRpAYOyxEOzrF0A3XubJQLkVQEIMGABwkxNAH1VMdrB8EUBWH8vOUu4OQDqI1ZvgCQtApqE3fA1QB0AMtBGpsMQDQL57nXZxawBATL0LIIeP+j9wnf7Qxrn0PyBTL5VLt+4/4ERsEFn15D9gScIHim/YPwAhcetHHsI/gJurbpmasL9AiDfNbUjOv4DEkmI53te/4Hz68a5L3r8wqgO0+zLhv/DalQ5sFOK/oBCPJUDJ4b8QWPl1xVHgv4AvWhr+Xtu/AHyr80fK079AY9v9cdrDvwCmvQofcKE/AAs56vN60D+gkNCqbHXgP1DbM0Zhtuk/0Gxm52b78T+chDx6EJb3P4x1D3pmpf0/vLcm4JQRAkCg/eeoVIQFQHyRUaJkJwlAmpEDCgX3DED1tMcWpHcQQJrGlDsLhhJAYIfEUpmkFEC0+U0VH9EWQNyFR9ZeCRlARGJC0g5LG0Cu4RuL25MdQDM61i1q4R9A////f60YIUA=",
          "dtype": "f8"
         }
        },
        {
         "hoverinfo": "text",
         "marker": {
          "color": "#2ca02c",
          "opacity": 0.8,
          "size": 8
         },
         "mode": "markers",
         "name": "Cluster 2 points",
         "text": [
          "Cluster: 2<br>Text: # Product Summary\n\n# Markellm\n\n## Summary\n\nMarkellm is an innovative two-sided marketplace designed ...",
          "Cluster: 2<br>Text: - **User-Friendly Interface**: Designed with user experience in mind, Markellm features an intuitive...",
          "Cluster: 2<br>Text: - **Customer Support**: Our dedicated support team is always available to assist both consumers and ...",
          "Cluster: 2<br>Text: ### For Insurance Companies:\n- **Basic Listing Fee**: $199/month for a featured listing on the platf...",
          "Cluster: 2<br>Text: ### Q3 2025\n- Initiate a comprehensive marketing campaign targeting both consumers and insurers to i...",
          "Cluster: 2<br>Text: # Product Summary\n\n# Homellm\n\n## Summary\nHomellm is an innovative home insurance product developed b...",
          "Cluster: 2<br>Text: ### 2. Dynamic Pricing Model\nWith Homellm's innovative dynamic pricing model, insurance providers ca...",
          "Cluster: 2<br>Text: ### 5. Multi-Channel Integration\nHomellm seamlessly integrates into existing insurance platforms, pr...",
          "Cluster: 2<br>Text: - **Basic Tier:** Starting at $5,000/month for small insurers with basic integration features.\n- **S...",
          "Cluster: 2<br>Text: All tiers include a comprehensive training program and ongoing updates to ensure optimal performance...",
          "Cluster: 2<br>Text: With Homellm, Insurellm is committed to transforming the landscape of home insurance, ensuring both ...",
          "Cluster: 2<br>Text: # Product Summary\n\n# Carllm\n\n## Summary\n\nCarllm is an innovative auto insurance product developed by...",
          "Cluster: 2<br>Text: - **Instant Quoting**: With Carllm, insurance companies can offer near-instant quotes to customers, ...",
          "Cluster: 2<br>Text: - **Mobile Integration**: Carllm is designed to work seamlessly with mobile applications, providing ...",
          "Cluster: 2<br>Text: - **Professional Tier**: $2,500/month\n  - For medium-sized companies.\n  - All Basic Tier features pl...",
          "Cluster: 2<br>Text: ### Q2 2025: Customer Experience Improvements\n- Launch of a new **mobile app** for end-users.\n- Intr...",
          "Cluster: 2<br>Text: ## Features\n1. **AI-Powered Matching**: Access to advanced algorithms that connect GreenField Holdin...",
          "Cluster: 2<br>Text: ## Support\n1. **Customer Support Access**: The Client will have access to dedicated support through ...",
          "Cluster: 2<br>Text: ---\n\n## Features\n\n- **AI-Powered Risk Assessment**: Customer will have access to enhanced risk evalu...",
          "Cluster: 2<br>Text: ---\n\n## Features\n\n1. **Access to Core Features**: Roadway Insurance Inc. will have access to all Pro...",
          "Cluster: 2<br>Text: ## Features\n1. **AI-Powered Matching**: Belvedere Insurance will benefit from Markellm's AI-powered ...",
          "Cluster: 2<br>Text: 1. **AI-Powered Risk Assessment:** Access to advanced AI algorithms for real-time risk evaluations.\n...",
          "Cluster: 2<br>Text: 2. **Real-Time Quote Availability:**  \n   Consumers sourced via BrightWay Solutions will receive rea...",
          "Cluster: 2<br>Text: ## Features\n1. **AI-Powered Risk Assessment**: Utilized for tailored underwriting decisions specific...",
          "Cluster: 2<br>Text: # About Insurellm\n\nInsurellm was founded by Avery Lancaster in 2015 as an insurance tech startup des..."
         ],
         "type": "scatter",
         "x": {
          "bdata": "g1NYQOCfQEDbpRZAZvDFP09kfUCVD65AO9e3QC0QwEAxz+1AZYfqQIjXLj+Ku8pAM+bQQGaI5EAf/+hAvQG1QKwKgEBS+Dk/eaC7QGdq8kBfxzhATBGdQDspEEELrrdA/LRQPw==",
          "dtype": "f4"
         },
         "y": {
          "bdata": "DKIUQW1WFEGpJRZBf3ASQcbTCkG8sxtBb34pQa77HkFcERVBB2QgQXZC6T/9mN9AhbDnQGXS9UB+Av1AFVoAQZi+OUHReBFBf4QwQZ4yvkD2ZCNBVb8xQbPq7UAgtz1B00rBPg==",
          "dtype": "f4"
         }
        },
        {
         "hoverinfo": "text",
         "marker": {
          "color": "#2ca02c",
          "line": {
           "color": "white",
           "width": 2
          },
          "size": 15,
          "symbol": "star"
         },
         "mode": "markers",
         "name": "Center 2",
         "text": "Center of Cluster 2",
         "type": "scatter",
         "x": [
          4.85398006439209
         ],
         "y": [
          8.548198699951172
         ]
        },
        {
         "fill": "toself",
         "fillcolor": "#d62728",
         "line": {
          "color": "#d62728",
          "width": 2
         },
         "name": "Cluster 3 boundary",
         "opacity": 0.2,
         "showlegend": true,
         "type": "scatter",
         "x": {
          "bdata": "AAAAAu9zGUCM+kA0/mUZQKK90Ck6PBlA05NF8M32GEBk9J0XAZYYQN3de2g3GhhAI+BIffCDF0DJ3aw+x9MWQJwb30NxChZAWTl2F74oFUCVCHhhli8UQAHKhff6HxNAIQkc1AP7EUCP//b13sEQQFoBilGe6w5AJ6fPcFUwDEC+9jcgtFQJQFlN442sWwZAnYEsNk9IA0B6rP66xx0AQKJeXj6zvvk/xc100rkg8z+OZ2vD6tDoP8D0Q9hMc9Y/0E8FALeys790CQQk8TDgv7z4OXIB6O2/1DdrQbLG9b+TWGKjhIn8v2T97Nm/mgHAZUiaaeHhBMApdiECxhYIwPDQyXEfNgvAAwAAvLU8DsATElw1tZMQwI8CwOKd+RHAoW949aNOE8CzdafkZ5EUwLhHo/mcwBXALxLupgrbFsCynmXKjd8XwG6aXtkZzRjAGSR29bmiGcDgR/zokV8awPI28wnfAhvAkjy5AvmLG8A3l45/UvobwOlWRMB5TRzAYhR+DRmFHMALog0R96AcwAuiDRH3oBzAYhR+DRmFHMDpVkTAeU0cwDeXjn9S+hvAkjy5AvmLG8DzNvMJ3wIbwOBH/OiRXxrAGiR29bmiGcBuml7ZGc0YwLOeZcqN3xfALhLupgrbFsC5R6P5nMAVwLJ1p+RnkRTAom949aNOE8CNAsDinfkRwBUSXDW1kxDA+v//u7U8DsDt0MlxHzYLwCl2IQLGFgjAaEiaaeHhBMBe/ezZv5oBwI1YYqOEify/1DdrQbLG9b/L+DlyAejtv1oJBCTxMOC/bE8FALeys7+i9EPYTHPWP3Rna8Pq0Og/y8100rkg8z+gXl4+s775P3as/rrHHQBAo4EsNk9IA0BbTeONrFsGQL72NyC0VAlAJKfPcFUwDEBgAYpRnusOQI//9vXewRBAIAkc1AP7EUAAyoX3+h8TQJcIeGGWLxRAWTl2F74oFUCcG99DcQoWQMndrD7H0xZAJOBIffCDF0Dd3XtoNxoYQGT0nRcBlhhA1JNF8M32GECivdApOjwZQIz6QDT+ZRlAAAAAAu9zGUA=",
          "dtype": "f8"
         },
         "y": {
          "bdata": "AAAAwORlGsD6Kynwu64YwMJWQNJX+RbADKaNRXtHFcAple6F5ZoTwKtD0V5Q9RHAHR7LY25YEMBCp0Bh0osNwBK/E2W/fgrAS838+MiMB8BqnG1Q+LgEwICkNIs3BgLAuB+8aJ3u/r/s1mzIwR36vyg/xxDTnvW/qBXDqXN28b/YzBWC2VHrv7CJ+r1TdOS/UNjYcNO23L+wlSzvyBrSv8B432/vPsK/ANv3qx/inL+ALjOraY2uPwDF7aKm6L4/IN89GZjOwz9AImQlrK3EP+CGs4GpEMI/QAQQn4P0tz8A6Wb324WTP0BerVIpBLW/oHkYrtXQyr8A3QsRXDXXv6hyg97hTuG/4KQpuO/K57/gEjpdKAjvvzycQbuKf/O/BHeMn8DT979AgXB9P3z8v9iqbgodugDAokNxm0hbA8BOIKSG7B4GwMr+lVgvAgnAwlRvBRcCDMBw9Xr6ixsPwGNHDyeuJRHA7O98hR/HEsAKxmPJa3AUwJH5wIrcHxbAHMicDLXTF8Ccl3wHNIoZwGZog3iVQRvA5jdjcxT4HMBwBj/17KsewPocTtuuLSDACohB/VQCIcBOXHisDdMhwKVCYcEBnyLAzyqk/l5lI8BOgNrpWCUkwOz3Vp4p3iTAGK8jmRKPJcBKVWR9XTcmwNjvUdBc1ibAH3EOrGxrJ8B5zJdo8/UnwNJeLDpidSjAs2V9xDXpKMDWyBei9lApwBihd985rCnAGZ5HaaH6KcBEpVpt3DsqwHSz+62nbyrACCA+x82VKsAbzgZmJ64qwImQlXCbuCrAfPdkIB+1KsCK20UNtqMqwC4zqylyhCrAEgQqsHNXKsAdgkAC6RwqwFObhngO1SnAPTl5JC6AKcBkVyCEnx4pwDKj3ifHsCjATJ3HShY3KMAaGOddCrInwCJl8oYsIifACXzoEhGIJsDi1jLdVuQlwOSY5KumNyXArczAgbKCJMA8ELvmNMYjwDDWryfwAiPA8HAajq05IsAqXpeQPGshwGy1CP1xmCDA8VlyOk6EH8A8qb+tcdIdwAfU1o8NHRzAAgAAwORlGsA=",
          "dtype": "f8"
         }
        },
        {
         "hoverinfo": "text",
         "marker": {
          "color": "#d62728",
          "opacity": 0.8,
          "size": 8
         },
         "mode": "markers",
         "name": "Cluster 3 points",
         "text": [
          "Cluster: 3<br>Text: ## Annual Performance History\n- **2020:**  \n  - Completed onboarding successfully.  \n  - Met expecta...",
          "Cluster: 3<br>Text: Alex Chen continues to be a vital asset at Insurellm, contributing significantly to innovative backe...",
          "Cluster: 3<br>Text: ## Annual Performance History\n- **2018**: **3/5** - Adaptable team player but still learning to take...",
          "Cluster: 3<br>Text: - **January 2017 - May 2018**: Marketing Intern  \n  - Supported the Marketing team by collaborating ...",
          "Cluster: 3<br>Text: - **Professional Development Goals**:  \n  - Emily Tran aims to become a Marketing Manager within the...",
          "Cluster: 3<br>Text: # Avery Lancaster\n\n## Summary\n- **Date of Birth**: March 15, 1985  \n- **Job Title**: Co-Founder & Ch...",
          "Cluster: 3<br>Text: - **2010 - 2013**: Business Analyst at Edge Analytics  \n  Prior to joining Innovate, Avery worked as...",
          "Cluster: 3<br>Text: - **2018**: **Exceeds Expectations**  \n  Under Avery’s pivoted vision, Insurellm launched two new su...",
          "Cluster: 3<br>Text: - **2022**: **Satisfactory**  \n  Avery focused on rebuilding team dynamics and addressing employee c...",
          "Cluster: 3<br>Text: ## Other HR Notes\n- **Professional Development**: Avery has actively participated in leadership trai...",
          "Cluster: 3<br>Text: ## Annual Performance History\n- **2017**: *Meets Expectations*  \n  Maxine showed potential in her ro...",
          "Cluster: 3<br>Text: - **2021**: *Exceeds Expectations*  \n  Maxine spearheaded the transition to a new data warehousing s...",
          "Cluster: 3<br>Text: ## Annual Performance History\n- **2020:** Exceeds Expectations  \n  Samantha Greene demonstrated exce...",
          "Cluster: 3<br>Text: - **Engagement in Company Culture:** Regularly participates in team-building events and contributes ...",
          "Cluster: 3<br>Text: ## Annual Performance History\n- **2019:** Exceeds Expectations - Continuously delivered high-quality...",
          "Cluster: 3<br>Text: - **2017-2019:** Marketing Intern  \n  - Assisted with market research and campaign development for s...",
          "Cluster: 3<br>Text: Emily Carter exemplifies the kind of talent that drives Insurellm's success and is an invaluable ass..."
         ],
         "type": "scatter",
         "x": {
          "bdata": "fvxsvhUwKr+y7ni+bWrPv2uj2r+l3ms/llOiP5Od3D8cjO4/RXRkP86BcT4qXd8+jghPv0IV5cCN7aI+mE6Iv3LWb78=",
          "dtype": "f4"
         },
         "y": {
          "bdata": "tTEDwWElFsC02gHBzzW6wMuBqcBcCozA6LbQwKmQ4sCgKOPAx2eTwA81FsHvxh7BSHERwUVCzsBCOgXBCPbYwIapMcA=",
          "dtype": "f4"
         }
        },
        {
         "hoverinfo": "text",
         "marker": {
          "color": "#d62728",
          "line": {
           "color": "white",
           "width": 2
          },
          "size": 15,
          "symbol": "star"
         },
         "mode": "markers",
         "name": "Center 3",
         "text": "Center of Cluster 3",
         "type": "scatter",
         "x": [
          -0.39869019389152527
         ],
         "y": [
          -6.599505424499512
         ]
        },
        {
         "fill": "toself",
         "fillcolor": "#9467bd",
         "line": {
          "color": "#9467bd",
          "width": 2
         },
         "name": "Cluster 4 boundary",
         "opacity": 0.2,
         "showlegend": true,
         "type": "scatter",
         "x": {
          "bdata": "AAAAaC9kIkCzF/uVbF4iQNc5MxAqTSJAMtVdoXkwIkCj1EfceAgiQAF6Wf1Q1SFAMJgUwDaXIUCa/bgoak4hQHwXR0I2+yBAGdQk0fCdIEBUgbT6+TYgQMmUccR3jR9AOv3XdlSbHkC80namg5gdQK5ZQx4QhhxArHhJxxRlG0BYagqFuzYaQIrKagI8/BhA6odscNq2F0DQ5v835mcWQFIRRKC4EBVA+pubarOyE0Ds4gNmP08SQHQlJ/vK5xBABolRZZH7DkAR+GFuWyUMQGGig6ngTwlAnHfD7Qx+BkAqiVNOyLIDQKzWiBv08ABARaGi1c92/D9oEGNR3Sn3P35Ynm+HAPI/9P//f0AA6j/Y0xFBn1vgP+AGGWhvdMw/AFspEiQcq7/YSUFlzQ/Uv7jE5Y653OG/eGFXOCgo6b8wY56xreLvvwis/C6tAvO/1LLJk+3E9b90oEACQDX4v9De1ekgUfq/0GTOxWMW/L84kOtaNYP9v/QBDZkdlv6/WALYHgFO/7+I09RdIqr/v4jT1F0iqv+/WALYHgFO/7/0AQ2ZHZb+vziQ61o1g/2/0GTOxWMW/L/U3tXpIFH6v3SgQAJANfi/2LLJk+3E9b8ErPwurQLzvzhjnrGt4u+/eGFXOCgo6b/AxOWOudzhv9BJQWXND9S/QFspEiQcq78QBxlob3TMP9DTEUGfW+A/FAAAgEAA6j+CWJ5vhwDyP2gQY1HdKfc/P6Gi1c92/D+y1ogb9PAAQC2JU07IsgNAnHfD7Qx+BkBeooOp4E8JQBb4YW5bJQxACYlRZZH7DkBzJSf7yucQQOniA2Y/TxJA/JubarOyE0BSEUSguBAVQM7m/zfmZxZA7IdscNq2F0CLymoCPPwYQFhqCoW7NhpAq3hJxxRlG0CwWUMeEIYcQLzSdqaDmB1AOv3XdlSbHkDIlHHEd40fQFaBtPr5NiBAGdQk0fCdIEB8F0dCNvsgQJr9uChqTiFAMJgUwDaXIUABeln9UNUhQKPUR9x4CCJAMtVdoXkwIkDXOTMQKk0iQLMX+5VsXiJAAAAAaC9kIkA=",
          "dtype": "f8"
         },
         "y": {
          "bdata": "AAAAgKDuEEANPiNhmFkSQK7EcxoawxNAQebOBbEpFUB4deR+64sWQDuvP2Bc6BdAfdCte5w9GUBqV34MTIoaQHBGHyIUzRtAiZ+fAagEHUA2sKt8xi8eQGafoTw7TR9AQ3o0APAtIEAfuuLlTq0gQGBTdgM3JCFAc8qaxi2SIUBQ2uXUwfYhQPhDsICLUSJAY4T1My2iIkD5RczQU+giQOIbFAe3IyNAdDUAnxlUI0DcMjK4SXkjQEwOJP0gkyNAChqsyoShI0CkV3JLZqQjQEjaOofCmyNAMXH1ZaKHI0Bdco+mGmgjQC4ckclLPSNAVpmc72EHI0BkMPGrlMYiQKCCIcsmeyJAEug3DmYlIkCZ44/aqsUhQAxOt95XXCFANia1rNnpIEBy4R5Kpm4gQH4132x51h9A5hE90EjAHkAmXfeB2ZsdQNdoxfRYahxAipS4EwItG0BhbJz9G+UZQFPGwrP4kxhAYnaXvfM6F0CIw2LCcNsVQDLlqxradhRA3nO1Wp8OE0BP05TXM6QRQLAsaygNORBAQBiVSkOdDUCaNajKzcwKQPR4OnugAwhAOhPRhJpEBUBdc3qYkJICQHZOjgmU4P8/3K0dsfvA+j+gXOosoMv1P26LIvidBfE/zHAXfsHn6D8QVAaZPDbgP3CjR3iN/s8/AChnK00bgz9Ag9Ot123LvyBz/FFL4dq/IIF+41hs478AKhiyZMjov0AGE79Cf+2/sMrkfAvG8L9w4YhMWnXyv+iSezTRy/O/iImrLw/I9L880tY5EGn1vxy9klsurvW/TNBgVSKX9b9gciDpAyT1v+SWkcFJVfS/oKsB+Mgr878U36A4tKjxv5hfxAw1m++/KEZYP8s467+APwQLsC7mvwilXU4VguC/cE5Z06hx1L/Arym7Qcu6v0B4UYdmVMA/oLdw+Q8W2D+8BPMaLoDkP1h+ohrUa+0/3IGB+WNi8z9A5oJ3s0D4P06iBs7TS/0/Cl+kCEk/AUCKoYA/yekDQA4VNwKrogZAhDNi9B9nCUCmdhjLTTQMQOWDuT1RBw9A/v//f6DuEEA=",
          "dtype": "f8"
         }
        },
        {
         "hoverinfo": "text",
         "marker": {
          "color": "#9467bd",
          "opacity": 0.8,
          "size": 8
         },
         "mode": "markers",
         "name": "Cluster 4 points",
         "text": [
          "Cluster: 4<br>Text: # Product Summary\n\n# Rellm: AI-Powered Enterprise Reinsurance Solution\n\n## Summary\n\nRellm is an inno...",
          "Cluster: 4<br>Text: ### Seamless Integrations\nRellm's architecture is designed for effortless integration with existing ...",
          "Cluster: 4<br>Text: ### Regulatory Compliance Tools\nRellm includes built-in compliance tracking features to help organiz...",
          "Cluster: 4<br>Text: Join the growing number of organizations leveraging Rellm to enhance their reinsurance processes whi...",
          "Cluster: 4<br>Text: Experience the future of reinsurance with Rellm, where innovation meets reliability. Let Insurellm h...",
          "Cluster: 4<br>Text: # Contract with Apex Reinsurance for Rellm: AI-Powered Enterprise Reinsurance Solution\n\n## Terms\n\n1....",
          "Cluster: 4<br>Text: ## Renewal\n\n1. **Automatic Renewal**: This Agreement will automatically renew for successive one-yea...",
          "Cluster: 4<br>Text: 2. **Seamless Integrations**: The architecture of Rellm allows for easy integration with existing sy...",
          "Cluster: 4<br>Text: # Contract with Stellar Insurance Co. for Rellm\n\n## Terms\nThis contract is made between **Insurellm*...",
          "Cluster: 4<br>Text: ### Termination\nEither party may terminate this agreement with a **30-day written notice**. In the e...",
          "Cluster: 4<br>Text: ## Features\nStellar Insurance Co. will receive access to the following features of the Rellm product...",
          "Cluster: 4<br>Text: ## Support\nInsurellm provides Stellar Insurance Co. with the following support services:\n\n- **24/7 T...",
          "Cluster: 4<br>Text: # Contract with EverGuard Insurance for Rellm: AI-Powered Enterprise Reinsurance Solution\n\n**Contrac...",
          "Cluster: 4<br>Text: 4. **Usage Rights**: EverGuard Insurance is granted a non-exclusive, non-transferable license to acc...",
          "Cluster: 4<br>Text: 1. **Core Functionality**: Rellm provides EverGuard Insurance with advanced AI-driven analytics, sea...",
          "Cluster: 4<br>Text: 1. **Customer Support**: Insurellm will provide EverGuard Insurance with 24/7 customer support, incl...",
          "Cluster: 4<br>Text: # Overview of Insurellm\n\nInsurellm is an innovative insurance tech firm with 200 employees across th...",
          "Cluster: 4<br>Text: # Careers at Insurellm\n\nInsurellm is hiring! We are looking for talented software engineers, data sc..."
         ],
         "type": "scatter",
         "x": {
          "bdata": "aSChQFxcckBCfYhADYiaQAaL5D9EraJAQl2qQOukWUAqS1pAhC5+QA57XEB7dT5AJ4+NQB7Bj0BvToBADAxbQGcbZT/5Pbw+",
          "dtype": "f4"
         },
         "y": {
          "bdata": "clvIQNkg1UDQBMNA66X1QC8r4j8HaG1ApKmbQNz9zkAZsTFAUwYqQPoirUAF3WhAA09yQMD7lEC1R6pACo2DQIV7KD//eqS+",
          "dtype": "f4"
         }
        },
        {
         "hoverinfo": "text",
         "marker": {
          "color": "#9467bd",
          "line": {
           "color": "white",
           "width": 2
          },
          "size": 15,
          "symbol": "star"
         },
         "mode": "markers",
         "name": "Center 4",
         "text": "Center of Cluster 4",
         "type": "scatter",
         "x": [
          3.6069118976593018
         ],
         "y": [
          4.233034133911133
         ]
        }
       ],
       "layout": {
        "height": 600,
        "showlegend": true,
        "template": {
         "data": {
          "bar": [
           {
            "error_x": {
             "color": "#2a3f5f"
            },
            "error_y": {
             "color": "#2a3f5f"
            },
            "marker": {
             "line": {
              "color": "#E5ECF6",
              "width": 0.5
             },
             "pattern": {
              "fillmode": "overlay",
              "size": 10,
              "solidity": 0.2
             }
            },
            "type": "bar"
           }
          ],
          "barpolar": [
           {
            "marker": {
             "line": {
              "color": "#E5ECF6",
              "width": 0.5
             },
             "pattern": {
              "fillmode": "overlay",
              "size": 10,
              "solidity": 0.2
             }
            },
            "type": "barpolar"
           }
          ],
          "carpet": [
           {
            "aaxis": {
             "endlinecolor": "#2a3f5f",
             "gridcolor": "white",
             "linecolor": "white",
             "minorgridcolor": "white",
             "startlinecolor": "#2a3f5f"
            },
            "baxis": {
             "endlinecolor": "#2a3f5f",
             "gridcolor": "white",
             "linecolor": "white",
             "minorgridcolor": "white",
             "startlinecolor": "#2a3f5f"
            },
            "type": "carpet"
           }
          ],
          "choropleth": [
           {
            "colorbar": {
             "outlinewidth": 0,
             "ticks": ""
            },
            "type": "choropleth"
           }
          ],
          "contour": [
           {
            "colorbar": {
             "outlinewidth": 0,
             "ticks": ""
            },
            "colorscale": [
             [
              0,
              "#0d0887"
             ],
             [
              0.1111111111111111,
              "#46039f"
             ],
             [
              0.2222222222222222,
              "#7201a8"
             ],
             [
              0.3333333333333333,
              "#9c179e"
             ],
             [
              0.4444444444444444,
              "#bd3786"
             ],
             [
              0.5555555555555556,
              "#d8576b"
             ],
             [
              0.6666666666666666,
              "#ed7953"
             ],
             [
              0.7777777777777778,
              "#fb9f3a"
             ],
             [
              0.8888888888888888,
              "#fdca26"
             ],
             [
              1,
              "#f0f921"
             ]
            ],
            "type": "contour"
           }
          ],
          "contourcarpet": [
           {
            "colorbar": {
             "outlinewidth": 0,
             "ticks": ""
            },
            "type": "contourcarpet"
           }
          ],
          "heatmap": [
           {
            "colorbar": {
             "outlinewidth": 0,
             "ticks": ""
            },
            "colorscale": [
             [
              0,
              "#0d0887"
             ],
             [
              0.1111111111111111,
              "#46039f"
             ],
             [
              0.2222222222222222,
              "#7201a8"
             ],
             [
              0.3333333333333333,
              "#9c179e"
             ],
             [
              0.4444444444444444,
              "#bd3786"
             ],
             [
              0.5555555555555556,
              "#d8576b"
             ],
             [
              0.6666666666666666,
              "#ed7953"
             ],
             [
              0.7777777777777778,
              "#fb9f3a"
             ],
             [
              0.8888888888888888,
              "#fdca26"
             ],
             [
              1,
              "#f0f921"
             ]
            ],
            "type": "heatmap"
           }
          ],
          "histogram": [
           {
            "marker": {
             "pattern": {
              "fillmode": "overlay",
              "size": 10,
              "solidity": 0.2
             }
            },
            "type": "histogram"
           }
          ],
          "histogram2d": [
           {
            "colorbar": {
             "outlinewidth": 0,
             "ticks": ""
            },
            "colorscale": [
             [
              0,
              "#0d0887"
             ],
             [
              0.1111111111111111,
              "#46039f"
             ],
             [
              0.2222222222222222,
              "#7201a8"
             ],
             [
              0.3333333333333333,
              "#9c179e"
             ],
             [
              0.4444444444444444,
              "#bd3786"
             ],
             [
              0.5555555555555556,
              "#d8576b"
             ],
             [
              0.6666666666666666,
              "#ed7953"
             ],
             [
              0.7777777777777778,
              "#fb9f3a"
             ],
             [
              0.8888888888888888,
              "#fdca26"
             ],
             [
              1,
              "#f0f921"
             ]
            ],
            "type": "histogram2d"
           }
          ],
          "histogram2dcontour": [
           {
            "colorbar": {
             "outlinewidth": 0,
             "ticks": ""
            },
            "colorscale": [
             [
              0,
              "#0d0887"
             ],
             [
              0.1111111111111111,
              "#46039f"
             ],
             [
              0.2222222222222222,
              "#7201a8"
             ],
             [
              0.3333333333333333,
              "#9c179e"
             ],
             [
              0.4444444444444444,
              "#bd3786"
             ],
             [
              0.5555555555555556,
              "#d8576b"
             ],
             [
              0.6666666666666666,
              "#ed7953"
             ],
             [
              0.7777777777777778,
              "#fb9f3a"
             ],
             [
              0.8888888888888888,
              "#fdca26"
             ],
             [
              1,
              "#f0f921"
             ]
            ],
            "type": "histogram2dcontour"
           }
          ],
          "mesh3d": [
           {
            "colorbar": {
             "outlinewidth": 0,
             "ticks": ""
            },
            "type": "mesh3d"
           }
          ],
          "parcoords": [
           {
            "line": {
             "colorbar": {
              "outlinewidth": 0,
              "ticks": ""
             }
            },
            "type": "parcoords"
           }
          ],
          "pie": [
           {
            "automargin": true,
            "type": "pie"
           }
          ],
          "scatter": [
           {
            "fillpattern": {
             "fillmode": "overlay",
             "size": 10,
             "solidity": 0.2
            },
            "type": "scatter"
           }
          ],
          "scatter3d": [
           {
            "line": {
             "colorbar": {
              "outlinewidth": 0,
              "ticks": ""
             }
            },
            "marker": {
             "colorbar": {
              "outlinewidth": 0,
              "ticks": ""
             }
            },
            "type": "scatter3d"
           }
          ],
          "scattercarpet": [
           {
            "marker": {
             "colorbar": {
              "outlinewidth": 0,
              "ticks": ""
             }
            },
            "type": "scattercarpet"
           }
          ],
          "scattergeo": [
           {
            "marker": {
             "colorbar": {
              "outlinewidth": 0,
              "ticks": ""
             }
            },
            "type": "scattergeo"
           }
          ],
          "scattergl": [
           {
            "marker": {
             "colorbar": {
              "outlinewidth": 0,
              "ticks": ""
             }
            },
            "type": "scattergl"
           }
          ],
          "scattermap": [
           {
            "marker": {
             "colorbar": {
              "outlinewidth": 0,
              "ticks": ""
             }
            },
            "type": "scattermap"
           }
          ],
          "scattermapbox": [
           {
            "marker": {
             "colorbar": {
              "outlinewidth": 0,
              "ticks": ""
             }
            },
            "type": "scattermapbox"
           }
          ],
          "scatterpolar": [
           {
            "marker": {
             "colorbar": {
              "outlinewidth": 0,
              "ticks": ""
             }
            },
            "type": "scatterpolar"
           }
          ],
          "scatterpolargl": [
           {
            "marker": {
             "colorbar": {
              "outlinewidth": 0,
              "ticks": ""
             }
            },
            "type": "scatterpolargl"
           }
          ],
          "scatterternary": [
           {
            "marker": {
             "colorbar": {
              "outlinewidth": 0,
              "ticks": ""
             }
            },
            "type": "scatterternary"
           }
          ],
          "surface": [
           {
            "colorbar": {
             "outlinewidth": 0,
             "ticks": ""
            },
            "colorscale": [
             [
              0,
              "#0d0887"
             ],
             [
              0.1111111111111111,
              "#46039f"
             ],
             [
              0.2222222222222222,
              "#7201a8"
             ],
             [
              0.3333333333333333,
              "#9c179e"
             ],
             [
              0.4444444444444444,
              "#bd3786"
             ],
             [
              0.5555555555555556,
              "#d8576b"
             ],
             [
              0.6666666666666666,
              "#ed7953"
             ],
             [
              0.7777777777777778,
              "#fb9f3a"
             ],
             [
              0.8888888888888888,
              "#fdca26"
             ],
             [
              1,
              "#f0f921"
             ]
            ],
            "type": "surface"
           }
          ],
          "table": [
           {
            "cells": {
             "fill": {
              "color": "#EBF0F8"
             },
             "line": {
              "color": "white"
             }
            },
            "header": {
             "fill": {
              "color": "#C8D4E3"
             },
             "line": {
              "color": "white"
             }
            },
            "type": "table"
           }
          ]
         },
         "layout": {
          "annotationdefaults": {
           "arrowcolor": "#2a3f5f",
           "arrowhead": 0,
           "arrowwidth": 1
          },
          "autotypenumbers": "strict",
          "coloraxis": {
           "colorbar": {
            "outlinewidth": 0,
            "ticks": ""
           }
          },
          "colorscale": {
           "diverging": [
            [
             0,
             "#8e0152"
            ],
            [
             0.1,
             "#c51b7d"
            ],
            [
             0.2,
             "#de77ae"
            ],
            [
             0.3,
             "#f1b6da"
            ],
            [
             0.4,
             "#fde0ef"
            ],
            [
             0.5,
             "#f7f7f7"
            ],
            [
             0.6,
             "#e6f5d0"
            ],
            [
             0.7,
             "#b8e186"
            ],
            [
             0.8,
             "#7fbc41"
            ],
            [
             0.9,
             "#4d9221"
            ],
            [
             1,
             "#276419"
            ]
           ],
           "sequential": [
            [
             0,
             "#0d0887"
            ],
            [
             0.1111111111111111,
             "#46039f"
            ],
            [
             0.2222222222222222,
             "#7201a8"
            ],
            [
             0.3333333333333333,
             "#9c179e"
            ],
            [
             0.4444444444444444,
             "#bd3786"
            ],
            [
             0.5555555555555556,
             "#d8576b"
            ],
            [
             0.6666666666666666,
             "#ed7953"
            ],
            [
             0.7777777777777778,
             "#fb9f3a"
            ],
            [
             0.8888888888888888,
             "#fdca26"
            ],
            [
             1,
             "#f0f921"
            ]
           ],
           "sequentialminus": [
            [
             0,
             "#0d0887"
            ],
            [
             0.1111111111111111,
             "#46039f"
            ],
            [
             0.2222222222222222,
             "#7201a8"
            ],
            [
             0.3333333333333333,
             "#9c179e"
            ],
            [
             0.4444444444444444,
             "#bd3786"
            ],
            [
             0.5555555555555556,
             "#d8576b"
            ],
            [
             0.6666666666666666,
             "#ed7953"
            ],
            [
             0.7777777777777778,
             "#fb9f3a"
            ],
            [
             0.8888888888888888,
             "#fdca26"
            ],
            [
             1,
             "#f0f921"
            ]
           ]
          },
          "colorway": [
           "#636efa",
           "#EF553B",
           "#00cc96",
           "#ab63fa",
           "#FFA15A",
           "#19d3f3",
           "#FF6692",
           "#B6E880",
           "#FF97FF",
           "#FECB52"
          ],
          "font": {
           "color": "#2a3f5f"
          },
          "geo": {
           "bgcolor": "white",
           "lakecolor": "white",
           "landcolor": "#E5ECF6",
           "showlakes": true,
           "showland": true,
           "subunitcolor": "white"
          },
          "hoverlabel": {
           "align": "left"
          },
          "hovermode": "closest",
          "mapbox": {
           "style": "light"
          },
          "paper_bgcolor": "white",
          "plot_bgcolor": "#E5ECF6",
          "polar": {
           "angularaxis": {
            "gridcolor": "white",
            "linecolor": "white",
            "ticks": ""
           },
           "bgcolor": "#E5ECF6",
           "radialaxis": {
            "gridcolor": "white",
            "linecolor": "white",
            "ticks": ""
           }
          },
          "scene": {
           "xaxis": {
            "backgroundcolor": "#E5ECF6",
            "gridcolor": "white",
            "gridwidth": 2,
            "linecolor": "white",
            "showbackground": true,
            "ticks": "",
            "zerolinecolor": "white"
           },
           "yaxis": {
            "backgroundcolor": "#E5ECF6",
            "gridcolor": "white",
            "gridwidth": 2,
            "linecolor": "white",
            "showbackground": true,
            "ticks": "",
            "zerolinecolor": "white"
           },
           "zaxis": {
            "backgroundcolor": "#E5ECF6",
            "gridcolor": "white",
            "gridwidth": 2,
            "linecolor": "white",
            "showbackground": true,
            "ticks": "",
            "zerolinecolor": "white"
           }
          },
          "shapedefaults": {
           "line": {
            "color": "#2a3f5f"
           }
          },
          "ternary": {
           "aaxis": {
            "gridcolor": "white",
            "linecolor": "white",
            "ticks": ""
           },
           "baxis": {
            "gridcolor": "white",
            "linecolor": "white",
            "ticks": ""
           },
           "bgcolor": "#E5ECF6",
           "caxis": {
            "gridcolor": "white",
            "linecolor": "white",
            "ticks": ""
           }
          },
          "title": {
           "x": 0.05
          },
          "xaxis": {
           "automargin": true,
           "gridcolor": "white",
           "linecolor": "white",
           "ticks": "",
           "title": {
            "standoff": 15
           },
           "zerolinecolor": "white",
           "zerolinewidth": 2
          },
          "yaxis": {
           "automargin": true,
           "gridcolor": "white",
           "linecolor": "white",
           "ticks": "",
           "title": {
            "standoff": 15
           },
           "zerolinecolor": "white",
           "zerolinewidth": 2
          }
         }
        },
        "title": {
         "text": "Document Clusters Visualization (mean_circle)"
        },
        "width": 800,
        "xaxis": {
         "title": {
          "text": "t-SNE dimension 1"
         }
        },
        "yaxis": {
         "title": {
          "text": "t-SNE dimension 2"
         }
        }
       }
      }
     },
     "metadata": {},
     "output_type": "display_data"
    }
   ],
   "source": [
    "def visualize_clusters(vectors, n_clusters=5, boundary_type='hull'):\n",
    "    \"\"\"\n",
    "    Visualize document clusters with different boundary types.\n",
    "    \n",
    "    Parameters:\n",
    "    -----------\n",
    "    vectors : array-like\n",
    "        The document vectors to visualize\n",
    "    n_clusters : int, default=5\n",
    "        Number of clusters to create\n",
    "    boundary_type : str, default='hull'\n",
    "        Type of boundary to draw around clusters. Options:\n",
    "        - 'hull': Convex hull with straight lines (most accurate, O(n log n))\n",
    "        - 'hull_curve': Convex hull with smooth curves (visually appealing, O(n log n))\n",
    "        - 'hull_circle': Circle based on convex hull center (O(n log n))\n",
    "        - 'std_circle': Circle based on standard deviation (fast, O(n))\n",
    "        - 'mean_circle': Circle based on mean and max distance (fastest, O(n))\n",
    "    \n",
    "    Returns:\n",
    "    --------\n",
    "    plotly.graph_objects.Figure\n",
    "        The visualization figure\n",
    "    \"\"\"\n",
    "    # Convert vectors to numpy array\n",
    "    vectors_array = np.array(vectors)\n",
    "    \n",
    "    # Reduce to 2D using t-SNE\n",
    "    tsne = TSNE(n_components=2, random_state=42)\n",
    "    reduced_vectors = tsne.fit_transform(vectors_array)\n",
    "    \n",
    "    # Perform K-means clustering\n",
    "    kmeans = KMeans(n_clusters=n_clusters, random_state=42)\n",
    "    cluster_labels = kmeans.fit_predict(vectors_array)\n",
    "    \n",
    "    # Create the scatter plot\n",
    "    fig = go.Figure()\n",
    "    \n",
    "    # Define colors for clusters\n",
    "    colors = ['#1f77b4', '#ff7f0e', '#2ca02c', '#d62728', '#9467bd']\n",
    "    \n",
    "    # Process each cluster\n",
    "    for cluster in range(n_clusters):\n",
    "        # Get points for this cluster\n",
    "        mask = cluster_labels == cluster\n",
    "        cluster_points = reduced_vectors[mask]\n",
    "        \n",
    "        if len(cluster_points) >= 3:  # Need at least 3 points for hull\n",
    "            if boundary_type in ['hull', 'hull_curve']:\n",
    "                # Convex hull visualization\n",
    "                from scipy.spatial import ConvexHull\n",
    "                hull = ConvexHull(cluster_points)\n",
    "                hull_points = cluster_points[hull.vertices]\n",
    "                \n",
    "                if boundary_type == 'hull':\n",
    "                    # Straight line hull\n",
    "                    fig.add_trace(go.Scatter(\n",
    "                        x=hull_points[:, 0],\n",
    "                        y=hull_points[:, 1],\n",
    "                        fill='toself',\n",
    "                        fillcolor=colors[cluster],\n",
    "                        opacity=0.2,\n",
    "                        line=dict(color=colors[cluster], width=2),\n",
    "                        name=f'Cluster {cluster} boundary',\n",
    "                        showlegend=True\n",
    "                    ))\n",
    "                else:  # hull_curve\n",
    "                    # Create smooth curve using spline interpolation\n",
    "                    from scipy.interpolate import splprep, splev\n",
    "                    # Close the curve by adding the first point at the end\n",
    "                    closed_points = np.vstack((hull_points, hull_points[0]))\n",
    "                    # Fit a spline to the points\n",
    "                    tck, u = splprep([closed_points[:, 0], closed_points[:, 1]], s=0, per=1)\n",
    "                    # Generate points for smooth curve\n",
    "                    u_new = np.linspace(0, 1, 100)\n",
    "                    x_new, y_new = splev(u_new, tck)\n",
    "                    \n",
    "                    fig.add_trace(go.Scatter(\n",
    "                        x=x_new,\n",
    "                        y=y_new,\n",
    "                        fill='toself',\n",
    "                        fillcolor=colors[cluster],\n",
    "                        opacity=0.2,\n",
    "                        line=dict(color=colors[cluster], width=2),\n",
    "                        name=f'Cluster {cluster} boundary',\n",
    "                        showlegend=True\n",
    "                    ))\n",
    "                \n",
    "                center = np.mean(hull_points, axis=0)\n",
    "                \n",
    "            elif boundary_type == 'hull_circle':\n",
    "                # Circle based on convex hull\n",
    "                from scipy.spatial import ConvexHull\n",
    "                hull = ConvexHull(cluster_points)\n",
    "                hull_points = cluster_points[hull.vertices]\n",
    "                center = np.mean(hull_points, axis=0)\n",
    "                radius = np.max(np.sqrt(np.sum((hull_points - center)**2, axis=1)))\n",
    "                \n",
    "                # Generate circle points\n",
    "                theta = np.linspace(0, 2*np.pi, 100)\n",
    "                circle_x = center[0] + radius * np.cos(theta)\n",
    "                circle_y = center[1] + radius * np.sin(theta)\n",
    "                \n",
    "                fig.add_trace(go.Scatter(\n",
    "                    x=circle_x,\n",
    "                    y=circle_y,\n",
    "                    fill='toself',\n",
    "                    fillcolor=colors[cluster],\n",
    "                    opacity=0.2,\n",
    "                    line=dict(color=colors[cluster], width=2),\n",
    "                    name=f'Cluster {cluster} boundary',\n",
    "                    showlegend=True\n",
    "                ))\n",
    "                \n",
    "            elif boundary_type == 'std_circle':\n",
    "                # Circle based on standard deviation\n",
    "                center = np.mean(cluster_points, axis=0)\n",
    "                radius = 2 * np.std(np.sqrt(np.sum((cluster_points - center)**2, axis=1)))\n",
    "                \n",
    "                # Generate circle points\n",
    "                theta = np.linspace(0, 2*np.pi, 100)\n",
    "                circle_x = center[0] + radius * np.cos(theta)\n",
    "                circle_y = center[1] + radius * np.sin(theta)\n",
    "                \n",
    "                fig.add_trace(go.Scatter(\n",
    "                    x=circle_x,\n",
    "                    y=circle_y,\n",
    "                    fill='toself',\n",
    "                    fillcolor=colors[cluster],\n",
    "                    opacity=0.2,\n",
    "                    line=dict(color=colors[cluster], width=2),\n",
    "                    name=f'Cluster {cluster} boundary',\n",
    "                    showlegend=True\n",
    "                ))\n",
    "                \n",
    "            elif boundary_type == 'mean_circle':\n",
    "                # Circle based on mean and max distance\n",
    "                center = np.mean(cluster_points, axis=0)\n",
    "                radius = np.max(np.sqrt(np.sum((cluster_points - center)**2, axis=1)))\n",
    "                \n",
    "                # Generate circle points\n",
    "                theta = np.linspace(0, 2*np.pi, 100)\n",
    "                circle_x = center[0] + radius * np.cos(theta)\n",
    "                circle_y = center[1] + radius * np.sin(theta)\n",
    "                \n",
    "                fig.add_trace(go.Scatter(\n",
    "                    x=circle_x,\n",
    "                    y=circle_y,\n",
    "                    fill='toself',\n",
    "                    fillcolor=colors[cluster],\n",
    "                    opacity=0.2,\n",
    "                    line=dict(color=colors[cluster], width=2),\n",
    "                    name=f'Cluster {cluster} boundary',\n",
    "                    showlegend=True\n",
    "                ))\n",
    "            \n",
    "            # Add the points\n",
    "            fig.add_trace(go.Scatter(\n",
    "                x=cluster_points[:, 0],\n",
    "                y=cluster_points[:, 1],\n",
    "                mode='markers',\n",
    "                name=f'Cluster {cluster} points',\n",
    "                marker=dict(\n",
    "                    size=8,\n",
    "                    color=colors[cluster],\n",
    "                    opacity=0.8\n",
    "                ),\n",
    "                text=[f\"Cluster: {cluster}<br>Text: {d[:100]}...\" for d in np.array(documents)[mask]],\n",
    "                hoverinfo='text'\n",
    "            ))\n",
    "            \n",
    "            # Add the center\n",
    "            fig.add_trace(go.Scatter(\n",
    "                x=[center[0]],\n",
    "                y=[center[1]],\n",
    "                mode='markers',\n",
    "                name=f'Center {cluster}',\n",
    "                marker=dict(\n",
    "                    symbol='star',\n",
    "                    size=15,\n",
    "                    color=colors[cluster],\n",
    "                    line=dict(width=2, color='white')\n",
    "                ),\n",
    "                hoverinfo='text',\n",
    "                text=f'Center of Cluster {cluster}'\n",
    "            ))\n",
    "    \n",
    "    # Update layout\n",
    "    fig.update_layout(\n",
    "        title=f'Document Clusters Visualization ({boundary_type})',\n",
    "        xaxis_title='t-SNE dimension 1',\n",
    "        yaxis_title='t-SNE dimension 2',\n",
    "        width=800,\n",
    "        height=600,\n",
    "        showlegend=True\n",
    "    )\n",
    "    \n",
    "    return fig\n",
    "\n",
    "# Example usage:\n",
    "# fig1 = visualize_clusters(vectors, boundary_type='hull')  # Convex hull\n",
    "# fig2 = visualize_clusters(vectors, boundary_type='hull_curve')  # Curvy hull\n",
    "# fig3 = visualize_clusters(vectors, boundary_type='hull_circle')  # Hull-based circle\n",
    "# fig4 = visualize_clusters(vectors, boundary_type='std_circle')  # Std-based circle\n",
    "# fig5 = visualize_clusters(vectors, boundary_type='mean_circle')  # Mean-based circle\n",
    "\n",
    "# Show all visualizations\n",
    "for boundary_type in ['hull', 'hull_curve', 'hull_circle', 'std_circle', 'mean_circle']:\n",
    "    fig = visualize_clusters(vectors, boundary_type=boundary_type)\n",
    "    fig.show()"
   ]
  },
  {
   "cell_type": "code",
   "execution_count": 50,
   "id": "e1418e88-acd5-460a-bf2b-4e6efc88e3dd",
   "metadata": {},
   "outputs": [
    {
     "data": {
      "application/vnd.plotly.v1+json": {
       "config": {
        "plotlyServerURL": "https://plot.ly"
       },
       "data": [
        {
         "hoverinfo": "text",
         "marker": {
          "color": [
           "blue",
           "blue",
           "blue",
           "blue",
           "blue",
           "blue",
           "blue",
           "blue",
           "blue",
           "blue",
           "blue",
           "blue",
           "blue",
           "blue",
           "blue",
           "blue",
           "blue",
           "blue",
           "blue",
           "blue",
           "blue",
           "red",
           "red",
           "red",
           "red",
           "red",
           "red",
           "red",
           "red",
           "red",
           "red",
           "red",
           "red",
           "red",
           "red",
           "red",
           "red",
           "red",
           "red",
           "red",
           "red",
           "red",
           "red",
           "red",
           "red",
           "red",
           "red",
           "red",
           "red",
           "red",
           "red",
           "red",
           "red",
           "red",
           "red",
           "red",
           "red",
           "red",
           "red",
           "red",
           "red",
           "red",
           "red",
           "red",
           "red",
           "red",
           "red",
           "red",
           "red",
           "red",
           "red",
           "red",
           "red",
           "orange",
           "orange",
           "orange",
           "green",
           "green",
           "green",
           "green",
           "green",
           "green",
           "green",
           "green",
           "green",
           "green",
           "green",
           "green",
           "green",
           "green",
           "green",
           "green",
           "green",
           "green",
           "green",
           "green",
           "green",
           "green",
           "green",
           "green",
           "green",
           "green",
           "green",
           "green",
           "green",
           "green",
           "green",
           "green",
           "green",
           "green",
           "green",
           "green",
           "green",
           "green",
           "green",
           "green",
           "green",
           "green",
           "green",
           "green",
           "green",
           "green",
           "green"
          ],
          "opacity": 0.8,
          "size": 5
         },
         "mode": "markers",
         "text": [
          "Type: products<br>Text: # Product Summary\n\n# Rellm: AI-Powered Enterprise Reinsurance Solution\n\n## Summary\n\nRellm is an inno...",
          "Type: products<br>Text: ### Seamless Integrations\nRellm's architecture is designed for effortless integration with existing ...",
          "Type: products<br>Text: ### Regulatory Compliance Tools\nRellm includes built-in compliance tracking features to help organiz...",
          "Type: products<br>Text: Join the growing number of organizations leveraging Rellm to enhance their reinsurance processes whi...",
          "Type: products<br>Text: Experience the future of reinsurance with Rellm, where innovation meets reliability. Let Insurellm h...",
          "Type: products<br>Text: # Product Summary\n\n# Markellm\n\n## Summary\n\nMarkellm is an innovative two-sided marketplace designed ...",
          "Type: products<br>Text: - **User-Friendly Interface**: Designed with user experience in mind, Markellm features an intuitive...",
          "Type: products<br>Text: - **Customer Support**: Our dedicated support team is always available to assist both consumers and ...",
          "Type: products<br>Text: ### For Insurance Companies:\n- **Basic Listing Fee**: $199/month for a featured listing on the platf...",
          "Type: products<br>Text: ### Q3 2025\n- Initiate a comprehensive marketing campaign targeting both consumers and insurers to i...",
          "Type: products<br>Text: # Product Summary\n\n# Homellm\n\n## Summary\nHomellm is an innovative home insurance product developed b...",
          "Type: products<br>Text: ### 2. Dynamic Pricing Model\nWith Homellm's innovative dynamic pricing model, insurance providers ca...",
          "Type: products<br>Text: ### 5. Multi-Channel Integration\nHomellm seamlessly integrates into existing insurance platforms, pr...",
          "Type: products<br>Text: - **Basic Tier:** Starting at $5,000/month for small insurers with basic integration features.\n- **S...",
          "Type: products<br>Text: All tiers include a comprehensive training program and ongoing updates to ensure optimal performance...",
          "Type: products<br>Text: With Homellm, Insurellm is committed to transforming the landscape of home insurance, ensuring both ...",
          "Type: products<br>Text: # Product Summary\n\n# Carllm\n\n## Summary\n\nCarllm is an innovative auto insurance product developed by...",
          "Type: products<br>Text: - **Instant Quoting**: With Carllm, insurance companies can offer near-instant quotes to customers, ...",
          "Type: products<br>Text: - **Mobile Integration**: Carllm is designed to work seamlessly with mobile applications, providing ...",
          "Type: products<br>Text: - **Professional Tier**: $2,500/month\n  - For medium-sized companies.\n  - All Basic Tier features pl...",
          "Type: products<br>Text: ### Q2 2025: Customer Experience Improvements\n- Launch of a new **mobile app** for end-users.\n- Intr...",
          "Type: contracts<br>Text: # Contract with GreenField Holdings for Markellm\n\n**Effective Date:** November 15, 2023  \n**Contract...",
          "Type: contracts<br>Text: ## Renewal\n1. **Automatic Renewal**: This contract will automatically renew for sequential one-year ...",
          "Type: contracts<br>Text: ## Features\n1. **AI-Powered Matching**: Access to advanced algorithms that connect GreenField Holdin...",
          "Type: contracts<br>Text: ## Support\n1. **Customer Support Access**: The Client will have access to dedicated support through ...",
          "Type: contracts<br>Text: **Signatures:**  \n_________________________                           _________________________  \n**...",
          "Type: contracts<br>Text: # Contract with Apex Reinsurance for Rellm: AI-Powered Enterprise Reinsurance Solution\n\n## Terms\n\n1....",
          "Type: contracts<br>Text: ## Renewal\n\n1. **Automatic Renewal**: This Agreement will automatically renew for successive one-yea...",
          "Type: contracts<br>Text: 2. **Seamless Integrations**: The architecture of Rellm allows for easy integration with existing sy...",
          "Type: contracts<br>Text: 1. **Technical Support**: Provider shall offer dedicated technical support to the Client via phone, ...",
          "Type: contracts<br>Text: **Insurellm, Inc.**  \n_____________________________  \nAuthorized Signature   \nDate: ________________...",
          "Type: contracts<br>Text: # Contract with Greenstone Insurance for Homellm\n\n---\n\n## Terms\n\n1. **Parties**: This Contract (\"Agr...",
          "Type: contracts<br>Text: 4. **Payment Terms**: \n   - The Customer shall pay an amount of $10,000 per month for the Standard T...",
          "Type: contracts<br>Text: ---\n\n## Features\n\n- **AI-Powered Risk Assessment**: Customer will have access to enhanced risk evalu...",
          "Type: contracts<br>Text: - **Customer Portal**: A dedicated portal will be provided, allowing the Customer's clients to manag...",
          "Type: contracts<br>Text: ______________________________  \n[Name], [Title]  \nDate: ______________________\n\n**For Greenstone In...",
          "Type: contracts<br>Text: # Contract with Roadway Insurance Inc. for Carllm\n\n---\n\n## Terms\n\n1. **Agreement Effective Date**: T...",
          "Type: contracts<br>Text: ---\n\n## Renewal\n\n1. **Automatic Renewal**: This agreement will automatically renew for an additional...",
          "Type: contracts<br>Text: ---\n\n## Features\n\n1. **Access to Core Features**: Roadway Insurance Inc. will have access to all Pro...",
          "Type: contracts<br>Text: ---\n\n## Support\n\n1. **Technical Support**: Roadway Insurance Inc. will receive priority technical su...",
          "Type: contracts<br>Text: # Contract with Stellar Insurance Co. for Rellm\n\n## Terms\nThis contract is made between **Insurellm*...",
          "Type: contracts<br>Text: ### Termination\nEither party may terminate this agreement with a **30-day written notice**. In the e...",
          "Type: contracts<br>Text: ## Features\nStellar Insurance Co. will receive access to the following features of the Rellm product...",
          "Type: contracts<br>Text: ## Support\nInsurellm provides Stellar Insurance Co. with the following support services:\n\n- **24/7 T...",
          "Type: contracts<br>Text: # Contract with TechDrive Insurance for Carllm\n\n**Contract Date:** October 1, 2024  \n**Contract Dura...",
          "Type: contracts<br>Text: ## Renewal\n\n1. **Automatic Renewal**: This contract shall automatically renew for additional one-yea...",
          "Type: contracts<br>Text: ## Support\n\n1. **Customer Support**: Insurellm will provide 24/7 customer support to TechDrive Insur...",
          "Type: contracts<br>Text: **TechDrive Insurance Representative:**  \nName: Sarah Johnson  \nTitle: Operations Director  \nDate: _...",
          "Type: contracts<br>Text: # Contract with Belvedere Insurance for Markellm\n\n## Terms\nThis Contract (\"Agreement\") is made and e...",
          "Type: contracts<br>Text: ## Renewal\n1. **Renewal Terms**: This Agreement may be renewed for additional one-year terms upon mu...",
          "Type: contracts<br>Text: ## Features\n1. **AI-Powered Matching**: Belvedere Insurance will benefit from Markellm's AI-powered ...",
          "Type: contracts<br>Text: ## Support\n1. **Technical Support**: Technical support will be available from 9 AM to 7 PM EST, Mond...",
          "Type: contracts<br>Text: **Belvedere Insurance**  \nSignature: ______________________  \nName: [Authorized Signatory]  \nTitle: ...",
          "Type: contracts<br>Text: # Contract with Velocity Auto Solutions for Carllm\n\n**Contract Date:** October 1, 2023  \n**Contract ...",
          "Type: contracts<br>Text: ## Renewal\n\n1. **Automatic Renewal**: This contract will automatically renew for successive 12-month...",
          "Type: contracts<br>Text: ## Support\n\n1. **Customer Support**: Velocity Auto Solutions will have access to Insurellm’s custome...",
          "Type: contracts<br>Text: # Contract with GreenValley Insurance for Homellm\n\n**Contract Date:** October 6, 2023  \n**Contract N...",
          "Type: contracts<br>Text: 4. **Confidentiality:** Both parties agree to maintain the confidentiality of proprietary informatio...",
          "Type: contracts<br>Text: 1. **AI-Powered Risk Assessment:** Access to advanced AI algorithms for real-time risk evaluations.\n...",
          "Type: contracts<br>Text: 3. **Regular Updates:** Insurellm will offer ongoing updates and enhancements to the Homellm platfor...",
          "Type: contracts<br>Text: # Contract with EverGuard Insurance for Rellm: AI-Powered Enterprise Reinsurance Solution\n\n**Contrac...",
          "Type: contracts<br>Text: 4. **Usage Rights**: EverGuard Insurance is granted a non-exclusive, non-transferable license to acc...",
          "Type: contracts<br>Text: 1. **Core Functionality**: Rellm provides EverGuard Insurance with advanced AI-driven analytics, sea...",
          "Type: contracts<br>Text: 1. **Customer Support**: Insurellm will provide EverGuard Insurance with 24/7 customer support, incl...",
          "Type: contracts<br>Text: ---\n\n**Signatures**  \n**For Insurellm**: __________________________  \n**Name**: John Smith  \n**Title...",
          "Type: contracts<br>Text: # Contract with BrightWay Solutions for Markellm\n\n**Contract Date:** October 5, 2023  \n**Contract ID...",
          "Type: contracts<br>Text: 3. **Service Level Agreement (SLA):**  \n   Insurellm commits to a 99.9% uptime for the platform with...",
          "Type: contracts<br>Text: 2. **Real-Time Quote Availability:**  \n   Consumers sourced via BrightWay Solutions will receive rea...",
          "Type: contracts<br>Text: 3. **Training and Onboarding:**  \n   Insurellm agrees to provide one free training session on how to...",
          "Type: contracts<br>Text: # Contract with Pinnacle Insurance Co. for Homellm\n\n## Terms\nThis contract (\"Contract\") is entered i...",
          "Type: contracts<br>Text: ## Renewal\n1. **Renewal Terms**: At the end of the initial term, this Contract shall automatically r...",
          "Type: contracts<br>Text: ## Features\n1. **AI-Powered Risk Assessment**: Utilized for tailored underwriting decisions specific...",
          "Type: contracts<br>Text: ## Support\n1. **Technical Support**: Insurellm shall provide 24/7 technical support via an email and...",
          "Type: company<br>Text: # Overview of Insurellm\n\nInsurellm is an innovative insurance tech firm with 200 employees across th...",
          "Type: company<br>Text: # Careers at Insurellm\n\nInsurellm is hiring! We are looking for talented software engineers, data sc...",
          "Type: company<br>Text: # About Insurellm\n\nInsurellm was founded by Avery Lancaster in 2015 as an insurance tech startup des...",
          "Type: employees<br>Text: # HR Record\n\n# Alex Chen\n\n## Summary\n- **Date of Birth:** March 15, 1990  \n- **Job Title:** Backend ...",
          "Type: employees<br>Text: ## Annual Performance History\n- **2020:**  \n  - Completed onboarding successfully.  \n  - Met expecta...",
          "Type: employees<br>Text: ## Compensation History\n- **2020:** Base Salary: $80,000  \n- **2021:** Base Salary Increase to $90,0...",
          "Type: employees<br>Text: Alex Chen continues to be a vital asset at Insurellm, contributing significantly to innovative backe...",
          "Type: employees<br>Text: # HR Record\n\n# Oliver Spencer\n\n## Summary\n- **Date of Birth**: May 14, 1990  \n- **Job Title**: Backe...",
          "Type: employees<br>Text: ## Annual Performance History\n- **2018**: **3/5** - Adaptable team player but still learning to take...",
          "Type: employees<br>Text: ## Compensation History\n- **March 2018**: Initial salary of $80,000.\n- **July 2019**: Salary increas...",
          "Type: employees<br>Text: # HR Record\n\n# Emily Tran\n\n## Summary\n- **Date of Birth:** March 18, 1991  \n- **Job Title:** Digital...",
          "Type: employees<br>Text: - **January 2017 - May 2018**: Marketing Intern  \n  - Supported the Marketing team by collaborating ...",
          "Type: employees<br>Text: - **2021**:  \n  - Performance Rating: Meets Expectations  \n  - Key Achievements: Contributed to the ...",
          "Type: employees<br>Text: - **Professional Development Goals**:  \n  - Emily Tran aims to become a Marketing Manager within the...",
          "Type: employees<br>Text: # HR Record\n\n# Jordan Blake\n\n## Summary\n- **Date of Birth:** March 15, 1993  \n- **Job Title:** Sales...",
          "Type: employees<br>Text: ## Annual Performance History\n- **2021:** First year at Insurellm; achieved 90% of monthly targets. ...",
          "Type: employees<br>Text: ## Other HR Notes\n- Jordan has shown an interest in continuing education, actively participating in ...",
          "Type: employees<br>Text: # Avery Lancaster\n\n## Summary\n- **Date of Birth**: March 15, 1985  \n- **Job Title**: Co-Founder & Ch...",
          "Type: employees<br>Text: - **2010 - 2013**: Business Analyst at Edge Analytics  \n  Prior to joining Innovate, Avery worked as...",
          "Type: employees<br>Text: - **2018**: **Exceeds Expectations**  \n  Under Avery’s pivoted vision, Insurellm launched two new su...",
          "Type: employees<br>Text: - **2022**: **Satisfactory**  \n  Avery focused on rebuilding team dynamics and addressing employee c...",
          "Type: employees<br>Text: ## Compensation History\n- **2015**: $150,000 base salary + Significant equity stake  \n- **2016**: $1...",
          "Type: employees<br>Text: ## Other HR Notes\n- **Professional Development**: Avery has actively participated in leadership trai...",
          "Type: employees<br>Text: # HR Record\n\n# Maxine Thompson\n\n## Summary\n- **Date of Birth:** January 15, 1991  \n- **Job Title:** ...",
          "Type: employees<br>Text: ## Insurellm Career Progression\n- **January 2017 - October 2018**: **Junior Data Engineer**  \n  * Ma...",
          "Type: employees<br>Text: ## Annual Performance History\n- **2017**: *Meets Expectations*  \n  Maxine showed potential in her ro...",
          "Type: employees<br>Text: - **2021**: *Exceeds Expectations*  \n  Maxine spearheaded the transition to a new data warehousing s...",
          "Type: employees<br>Text: ## Compensation History\n- **2017**: $70,000 (Junior Data Engineer)  \n- **2018**: $75,000 (Junior Dat...",
          "Type: employees<br>Text: # Samantha Greene\n\n## Summary\n- **Date of Birth:** October 14, 1990\n- **Job Title:** HR Generalist\n-...",
          "Type: employees<br>Text: ## Annual Performance History\n- **2020:** Exceeds Expectations  \n  Samantha Greene demonstrated exce...",
          "Type: employees<br>Text: ## Compensation History\n- **2020:** Base Salary - $55,000  \n  The entry-level salary matched industr...",
          "Type: employees<br>Text: - **2023:** Base Salary - $70,000  \n  Recognized for substantial improvement in employee relations m...",
          "Type: employees<br>Text: # HR Record\n\n# Alex Thomson\n\n## Summary\n- **Date of Birth:** March 15, 1995  \n- **Job Title:** Sales...",
          "Type: employees<br>Text: ## Annual Performance History  \n- **2022** - Rated as \"Exceeds Expectations.\" Alex Thomson achieved ...",
          "Type: employees<br>Text: ## Other HR Notes\n- Alex Thomson is an active member of the Diversity and Inclusion committee at Ins...",
          "Type: employees<br>Text: # HR Record\n\n# Samuel Trenton\n\n## Summary\n- **Date of Birth:** April 12, 1989  \n- **Job Title:** Sen...",
          "Type: employees<br>Text: ## Annual Performance History\n- **2023:** Rating: 4.5/5  \n  *Samuel exceeded expectations, successfu...",
          "Type: employees<br>Text: ## Compensation History\n- **2023:** Base Salary: $115,000 + Bonus: $15,000  \n  *Annual bonus based o...",
          "Type: employees<br>Text: - **Engagement in Company Culture:** Regularly participates in team-building events and contributes ...",
          "Type: employees<br>Text: # HR Record\n\n# Alex Harper\n\n## Summary\n- **Date of Birth**: March 15, 1993  \n- **Job Title**: Sales ...",
          "Type: employees<br>Text: ## Annual Performance History  \n- **2021**:  \n  - **Performance Rating**: 4.5/5  \n  - **Key Achievem...",
          "Type: employees<br>Text: - **2022**:  \n  - **Base Salary**: $65,000 (Promotion to Senior SDR)  \n  - **Bonus**: $13,000 (20% o...",
          "Type: employees<br>Text: # HR Record\n\n# Jordan K. Bishop\n\n## Summary\n- **Date of Birth:** March 15, 1990\n- **Job Title:** Fro...",
          "Type: employees<br>Text: ## Annual Performance History\n- **2019:** Exceeds Expectations - Continuously delivered high-quality...",
          "Type: employees<br>Text: ## Compensation History\n- **June 2018:** Starting Salary - $85,000\n- **June 2019:** Salary Increase ...",
          "Type: employees<br>Text: ## Other HR Notes\n- Jordan K. Bishop has been an integral part of club initiatives, including the In...",
          "Type: employees<br>Text: # HR Record\n\n# Emily Carter\n\n## Summary\n- **Date of Birth:** August 12, 1990  \n- **Job Title:** Acco...",
          "Type: employees<br>Text: - **2017-2019:** Marketing Intern  \n  - Assisted with market research and campaign development for s...",
          "Type: employees<br>Text: ## Compensation History\n| Year | Base Salary | Bonus         | Total Compensation |\n|------|--------...",
          "Type: employees<br>Text: Emily Carter exemplifies the kind of talent that drives Insurellm's success and is an invaluable ass..."
         ],
         "type": "scatter3d",
         "x": {
          "bdata": "1fEkQewFG8BJ8QdCzo+jQm2rncE6fJdCaZXKQvpHS0GLYJ3C92msQrFtU0Ly8yJCyjhlwVgLX0LKw6BCW6I7QkPzgULUHp1CIh5KQrk4zkHRkKVCyrDPQE5CiULaZrJCoT0KwOaNh795GSVCt48SQrh64ECcrIZBQNkkQamVVEI7gFpCIrChQTuuvUHTw0jBTzB/wAc0IUImeZZAF8TawXi1q8GbrS3CYBDWQczFh8G8a1vBGAKBQewvRkJ0Pg3CrNA+wk/rskJYH6VCe5mewIS1qUH61ZhAvWTXwTzpWcJL+pfC0t4jQowkdELA6VBC8x1yQcdNU0FYxKNCBN0gQZgkmEGYW3vAytWCQtpCuULJZAhBYrU8wQIBgkI4zztCZBiSwHdIvUKcmUZCA7TKQavVYsLTczvCrZrVwdyZF0IpblfC9OpOwgJQxsJogbLCMuGAQKrHk8Jq3JxBY/4kwhPKf8I4EADBt2lvQRkFxb865kVCbpbtwV/ep8KN1rRBq2UswmcRxMEmyw7CrvZAwVAkRsLFKU7B158FwgfbScJyIJXBCoj4wZdiq8L16gjBLj6UwY80h8KWIpnCov2kwpNXZsI1Q4LCINGcwkSOD8Ic3XXCtf7Uwm72ocHQcTLCi6iTwRgiwsJfPiFC",
          "dtype": "f4"
         },
         "y": {
          "bdata": "GCegQunkz0IhYsRCtj+Awa7fiUI1QI9ApOe5QGYKtcE67hdCRIgrwbLB10HAUBVC1obLQmNGYkEhB29Bkt0RwE72ksIisGDClwa3wq6etcICDyLCgM4hQRiUoUJe/P1B+NJgQHfCEsJXfwVChEx4QvTItUIaeFlCUtQiwj3rJ0FUrD5COUzQQuIEk0FhtZDB62SSQsxgnUJV+rVCLPqWQnN/5UGdpTFCeo6CQrrlzEEjCDNCUoxTQjgkYsISg49BN8YjQqkkb0KAefdBBhIfQlDxaMGbFDdCoTOKQpGNSELpsVFCEbsawvl8F0LMAkfCLCL7QZLnQkKE0pzBFJyIQTBlgML6ZaNBekuIQtDCa0K1/AxAmfZeQtUdaEJW/NZCkwmRQc2ZvEJirLHBmcsHwY1/2r7iSPzB72WPwsQYf8Ep06HBWniXwclCssHLAQfBIbTLwfVNkMK1aTvCbBlGwsANLcGaxhTCiqoownzzssFU1NbBCAAZwVt8p8Kuek3Cg9G3wjQiRcLDKTrCDvRLwmOfc8J3B7vCUeegwlTaw8LnITHClPpswv9SAsJqUJDCYuSOwjqt/cHl/E3Cgx1pwDf2YcKpprRCABGCwnmVlcE5DEHCC0Bswqy7esFV+rHCzDU6wUVRWMKU+7zB",
          "dtype": "f4"
         },
         "z": {
          "bdata": "+n0gQWAY20GQIvJBtcpUQjFTZEFneQzAl0r2wIY6OsPV6S1C7visQWmo1MGbJ7dCfGVtwQMxjcJTc1zCE3PZwR/oocFngvvASYVrQKSbmsDZ5P9BK56cwnUjHcJaADtC+E/ewjbllcJ+FR5B8A3VQW4iSEIG1nJCTuFJwnuHwUORqq7CH/a3wR9WeELH1HbCymyowhF4esIk9UPCDMhlwjtz7cArt0/BjP5hwWH8oEHBE47C8aRdwkfgU0G0K5PC2qEDQq5gLsLSMg1Bb1VGQjmRaMKRbLvCr+VgQquDX8JSTT1ArEDtweulXEKxWFfCVPg3wH1onkFUPRTCFPHLQaEdmsK03CPC3PeeQLv/c0Fq1/HBmqfNwYGfTMLW8BrBNKR7Qkx5KkGIqOlAkBGvQPm35MH0mcNCOFe0Qh7KIkLCGTrC+cGTQgJNqUERwSTC1uGiQhl8UkIrW7JCEdx4waWLOkHp3T3BaSGWQbeDKUIlxLjCxVcsQiZuo0FBIyFCkCBgwiZs1EHTqn1CPxFPQvxdskEzm+FBDvFdQi178UH8ltfCjbojwjuAH8EMbRfCmxUtwLipI0K2iahB6ZlqQjV1HcJ3HyfAolqAwYO3scHBaaRC/59FQRdfhb9LxpDBepq6Qr+bRUIDTYhC",
          "dtype": "f4"
         }
        }
       ],
       "layout": {
        "height": 700,
        "margin": {
         "b": 10,
         "l": 10,
         "r": 20,
         "t": 40
        },
        "scene": {
         "xaxis": {
          "title": {
           "text": "x"
          }
         },
         "yaxis": {
          "title": {
           "text": "y"
          }
         },
         "zaxis": {
          "title": {
           "text": "z"
          }
         }
        },
        "template": {
         "data": {
          "bar": [
           {
            "error_x": {
             "color": "#2a3f5f"
            },
            "error_y": {
             "color": "#2a3f5f"
            },
            "marker": {
             "line": {
              "color": "#E5ECF6",
              "width": 0.5
             },
             "pattern": {
              "fillmode": "overlay",
              "size": 10,
              "solidity": 0.2
             }
            },
            "type": "bar"
           }
          ],
          "barpolar": [
           {
            "marker": {
             "line": {
              "color": "#E5ECF6",
              "width": 0.5
             },
             "pattern": {
              "fillmode": "overlay",
              "size": 10,
              "solidity": 0.2
             }
            },
            "type": "barpolar"
           }
          ],
          "carpet": [
           {
            "aaxis": {
             "endlinecolor": "#2a3f5f",
             "gridcolor": "white",
             "linecolor": "white",
             "minorgridcolor": "white",
             "startlinecolor": "#2a3f5f"
            },
            "baxis": {
             "endlinecolor": "#2a3f5f",
             "gridcolor": "white",
             "linecolor": "white",
             "minorgridcolor": "white",
             "startlinecolor": "#2a3f5f"
            },
            "type": "carpet"
           }
          ],
          "choropleth": [
           {
            "colorbar": {
             "outlinewidth": 0,
             "ticks": ""
            },
            "type": "choropleth"
           }
          ],
          "contour": [
           {
            "colorbar": {
             "outlinewidth": 0,
             "ticks": ""
            },
            "colorscale": [
             [
              0,
              "#0d0887"
             ],
             [
              0.1111111111111111,
              "#46039f"
             ],
             [
              0.2222222222222222,
              "#7201a8"
             ],
             [
              0.3333333333333333,
              "#9c179e"
             ],
             [
              0.4444444444444444,
              "#bd3786"
             ],
             [
              0.5555555555555556,
              "#d8576b"
             ],
             [
              0.6666666666666666,
              "#ed7953"
             ],
             [
              0.7777777777777778,
              "#fb9f3a"
             ],
             [
              0.8888888888888888,
              "#fdca26"
             ],
             [
              1,
              "#f0f921"
             ]
            ],
            "type": "contour"
           }
          ],
          "contourcarpet": [
           {
            "colorbar": {
             "outlinewidth": 0,
             "ticks": ""
            },
            "type": "contourcarpet"
           }
          ],
          "heatmap": [
           {
            "colorbar": {
             "outlinewidth": 0,
             "ticks": ""
            },
            "colorscale": [
             [
              0,
              "#0d0887"
             ],
             [
              0.1111111111111111,
              "#46039f"
             ],
             [
              0.2222222222222222,
              "#7201a8"
             ],
             [
              0.3333333333333333,
              "#9c179e"
             ],
             [
              0.4444444444444444,
              "#bd3786"
             ],
             [
              0.5555555555555556,
              "#d8576b"
             ],
             [
              0.6666666666666666,
              "#ed7953"
             ],
             [
              0.7777777777777778,
              "#fb9f3a"
             ],
             [
              0.8888888888888888,
              "#fdca26"
             ],
             [
              1,
              "#f0f921"
             ]
            ],
            "type": "heatmap"
           }
          ],
          "histogram": [
           {
            "marker": {
             "pattern": {
              "fillmode": "overlay",
              "size": 10,
              "solidity": 0.2
             }
            },
            "type": "histogram"
           }
          ],
          "histogram2d": [
           {
            "colorbar": {
             "outlinewidth": 0,
             "ticks": ""
            },
            "colorscale": [
             [
              0,
              "#0d0887"
             ],
             [
              0.1111111111111111,
              "#46039f"
             ],
             [
              0.2222222222222222,
              "#7201a8"
             ],
             [
              0.3333333333333333,
              "#9c179e"
             ],
             [
              0.4444444444444444,
              "#bd3786"
             ],
             [
              0.5555555555555556,
              "#d8576b"
             ],
             [
              0.6666666666666666,
              "#ed7953"
             ],
             [
              0.7777777777777778,
              "#fb9f3a"
             ],
             [
              0.8888888888888888,
              "#fdca26"
             ],
             [
              1,
              "#f0f921"
             ]
            ],
            "type": "histogram2d"
           }
          ],
          "histogram2dcontour": [
           {
            "colorbar": {
             "outlinewidth": 0,
             "ticks": ""
            },
            "colorscale": [
             [
              0,
              "#0d0887"
             ],
             [
              0.1111111111111111,
              "#46039f"
             ],
             [
              0.2222222222222222,
              "#7201a8"
             ],
             [
              0.3333333333333333,
              "#9c179e"
             ],
             [
              0.4444444444444444,
              "#bd3786"
             ],
             [
              0.5555555555555556,
              "#d8576b"
             ],
             [
              0.6666666666666666,
              "#ed7953"
             ],
             [
              0.7777777777777778,
              "#fb9f3a"
             ],
             [
              0.8888888888888888,
              "#fdca26"
             ],
             [
              1,
              "#f0f921"
             ]
            ],
            "type": "histogram2dcontour"
           }
          ],
          "mesh3d": [
           {
            "colorbar": {
             "outlinewidth": 0,
             "ticks": ""
            },
            "type": "mesh3d"
           }
          ],
          "parcoords": [
           {
            "line": {
             "colorbar": {
              "outlinewidth": 0,
              "ticks": ""
             }
            },
            "type": "parcoords"
           }
          ],
          "pie": [
           {
            "automargin": true,
            "type": "pie"
           }
          ],
          "scatter": [
           {
            "fillpattern": {
             "fillmode": "overlay",
             "size": 10,
             "solidity": 0.2
            },
            "type": "scatter"
           }
          ],
          "scatter3d": [
           {
            "line": {
             "colorbar": {
              "outlinewidth": 0,
              "ticks": ""
             }
            },
            "marker": {
             "colorbar": {
              "outlinewidth": 0,
              "ticks": ""
             }
            },
            "type": "scatter3d"
           }
          ],
          "scattercarpet": [
           {
            "marker": {
             "colorbar": {
              "outlinewidth": 0,
              "ticks": ""
             }
            },
            "type": "scattercarpet"
           }
          ],
          "scattergeo": [
           {
            "marker": {
             "colorbar": {
              "outlinewidth": 0,
              "ticks": ""
             }
            },
            "type": "scattergeo"
           }
          ],
          "scattergl": [
           {
            "marker": {
             "colorbar": {
              "outlinewidth": 0,
              "ticks": ""
             }
            },
            "type": "scattergl"
           }
          ],
          "scattermap": [
           {
            "marker": {
             "colorbar": {
              "outlinewidth": 0,
              "ticks": ""
             }
            },
            "type": "scattermap"
           }
          ],
          "scattermapbox": [
           {
            "marker": {
             "colorbar": {
              "outlinewidth": 0,
              "ticks": ""
             }
            },
            "type": "scattermapbox"
           }
          ],
          "scatterpolar": [
           {
            "marker": {
             "colorbar": {
              "outlinewidth": 0,
              "ticks": ""
             }
            },
            "type": "scatterpolar"
           }
          ],
          "scatterpolargl": [
           {
            "marker": {
             "colorbar": {
              "outlinewidth": 0,
              "ticks": ""
             }
            },
            "type": "scatterpolargl"
           }
          ],
          "scatterternary": [
           {
            "marker": {
             "colorbar": {
              "outlinewidth": 0,
              "ticks": ""
             }
            },
            "type": "scatterternary"
           }
          ],
          "surface": [
           {
            "colorbar": {
             "outlinewidth": 0,
             "ticks": ""
            },
            "colorscale": [
             [
              0,
              "#0d0887"
             ],
             [
              0.1111111111111111,
              "#46039f"
             ],
             [
              0.2222222222222222,
              "#7201a8"
             ],
             [
              0.3333333333333333,
              "#9c179e"
             ],
             [
              0.4444444444444444,
              "#bd3786"
             ],
             [
              0.5555555555555556,
              "#d8576b"
             ],
             [
              0.6666666666666666,
              "#ed7953"
             ],
             [
              0.7777777777777778,
              "#fb9f3a"
             ],
             [
              0.8888888888888888,
              "#fdca26"
             ],
             [
              1,
              "#f0f921"
             ]
            ],
            "type": "surface"
           }
          ],
          "table": [
           {
            "cells": {
             "fill": {
              "color": "#EBF0F8"
             },
             "line": {
              "color": "white"
             }
            },
            "header": {
             "fill": {
              "color": "#C8D4E3"
             },
             "line": {
              "color": "white"
             }
            },
            "type": "table"
           }
          ]
         },
         "layout": {
          "annotationdefaults": {
           "arrowcolor": "#2a3f5f",
           "arrowhead": 0,
           "arrowwidth": 1
          },
          "autotypenumbers": "strict",
          "coloraxis": {
           "colorbar": {
            "outlinewidth": 0,
            "ticks": ""
           }
          },
          "colorscale": {
           "diverging": [
            [
             0,
             "#8e0152"
            ],
            [
             0.1,
             "#c51b7d"
            ],
            [
             0.2,
             "#de77ae"
            ],
            [
             0.3,
             "#f1b6da"
            ],
            [
             0.4,
             "#fde0ef"
            ],
            [
             0.5,
             "#f7f7f7"
            ],
            [
             0.6,
             "#e6f5d0"
            ],
            [
             0.7,
             "#b8e186"
            ],
            [
             0.8,
             "#7fbc41"
            ],
            [
             0.9,
             "#4d9221"
            ],
            [
             1,
             "#276419"
            ]
           ],
           "sequential": [
            [
             0,
             "#0d0887"
            ],
            [
             0.1111111111111111,
             "#46039f"
            ],
            [
             0.2222222222222222,
             "#7201a8"
            ],
            [
             0.3333333333333333,
             "#9c179e"
            ],
            [
             0.4444444444444444,
             "#bd3786"
            ],
            [
             0.5555555555555556,
             "#d8576b"
            ],
            [
             0.6666666666666666,
             "#ed7953"
            ],
            [
             0.7777777777777778,
             "#fb9f3a"
            ],
            [
             0.8888888888888888,
             "#fdca26"
            ],
            [
             1,
             "#f0f921"
            ]
           ],
           "sequentialminus": [
            [
             0,
             "#0d0887"
            ],
            [
             0.1111111111111111,
             "#46039f"
            ],
            [
             0.2222222222222222,
             "#7201a8"
            ],
            [
             0.3333333333333333,
             "#9c179e"
            ],
            [
             0.4444444444444444,
             "#bd3786"
            ],
            [
             0.5555555555555556,
             "#d8576b"
            ],
            [
             0.6666666666666666,
             "#ed7953"
            ],
            [
             0.7777777777777778,
             "#fb9f3a"
            ],
            [
             0.8888888888888888,
             "#fdca26"
            ],
            [
             1,
             "#f0f921"
            ]
           ]
          },
          "colorway": [
           "#636efa",
           "#EF553B",
           "#00cc96",
           "#ab63fa",
           "#FFA15A",
           "#19d3f3",
           "#FF6692",
           "#B6E880",
           "#FF97FF",
           "#FECB52"
          ],
          "font": {
           "color": "#2a3f5f"
          },
          "geo": {
           "bgcolor": "white",
           "lakecolor": "white",
           "landcolor": "#E5ECF6",
           "showlakes": true,
           "showland": true,
           "subunitcolor": "white"
          },
          "hoverlabel": {
           "align": "left"
          },
          "hovermode": "closest",
          "mapbox": {
           "style": "light"
          },
          "paper_bgcolor": "white",
          "plot_bgcolor": "#E5ECF6",
          "polar": {
           "angularaxis": {
            "gridcolor": "white",
            "linecolor": "white",
            "ticks": ""
           },
           "bgcolor": "#E5ECF6",
           "radialaxis": {
            "gridcolor": "white",
            "linecolor": "white",
            "ticks": ""
           }
          },
          "scene": {
           "xaxis": {
            "backgroundcolor": "#E5ECF6",
            "gridcolor": "white",
            "gridwidth": 2,
            "linecolor": "white",
            "showbackground": true,
            "ticks": "",
            "zerolinecolor": "white"
           },
           "yaxis": {
            "backgroundcolor": "#E5ECF6",
            "gridcolor": "white",
            "gridwidth": 2,
            "linecolor": "white",
            "showbackground": true,
            "ticks": "",
            "zerolinecolor": "white"
           },
           "zaxis": {
            "backgroundcolor": "#E5ECF6",
            "gridcolor": "white",
            "gridwidth": 2,
            "linecolor": "white",
            "showbackground": true,
            "ticks": "",
            "zerolinecolor": "white"
           }
          },
          "shapedefaults": {
           "line": {
            "color": "#2a3f5f"
           }
          },
          "ternary": {
           "aaxis": {
            "gridcolor": "white",
            "linecolor": "white",
            "ticks": ""
           },
           "baxis": {
            "gridcolor": "white",
            "linecolor": "white",
            "ticks": ""
           },
           "bgcolor": "#E5ECF6",
           "caxis": {
            "gridcolor": "white",
            "linecolor": "white",
            "ticks": ""
           }
          },
          "title": {
           "x": 0.05
          },
          "xaxis": {
           "automargin": true,
           "gridcolor": "white",
           "linecolor": "white",
           "ticks": "",
           "title": {
            "standoff": 15
           },
           "zerolinecolor": "white",
           "zerolinewidth": 2
          },
          "yaxis": {
           "automargin": true,
           "gridcolor": "white",
           "linecolor": "white",
           "ticks": "",
           "title": {
            "standoff": 15
           },
           "zerolinecolor": "white",
           "zerolinewidth": 2
          }
         }
        },
        "title": {
         "text": "3D Chroma Vector Store Visualization"
        },
        "width": 900
       }
      }
     },
     "metadata": {},
     "output_type": "display_data"
    }
   ],
   "source": [
    "# Let's try 3D!\n",
    "\n",
    "tsne = TSNE(n_components=3, random_state=42)\n",
    "reduced_vectors = tsne.fit_transform(vectors)\n",
    "\n",
    "# Create the 3D scatter plot\n",
    "fig = go.Figure(data=[go.Scatter3d(\n",
    "    x=reduced_vectors[:, 0],\n",
    "    y=reduced_vectors[:, 1],\n",
    "    z=reduced_vectors[:, 2],\n",
    "    mode='markers',\n",
    "    marker=dict(size=5, color=colors, opacity=0.8),\n",
    "    text=[f\"Type: {t}<br>Text: {d[:100]}...\" for t, d in zip(doc_types, documents)],\n",
    "    hoverinfo='text'\n",
    ")])\n",
    "\n",
    "fig.update_layout(\n",
    "    title='3D Chroma Vector Store Visualization',\n",
    "    scene=dict(xaxis_title='x', yaxis_title='y', zaxis_title='z'),\n",
    "    width=900,\n",
    "    height=700,\n",
    "    margin=dict(r=20, b=10, l=10, t=40)\n",
    ")\n",
    "\n",
    "fig.show()"
   ]
  },
  {
   "cell_type": "code",
   "execution_count": 51,
   "id": "b915f809",
   "metadata": {},
   "outputs": [
    {
     "data": {
      "application/vnd.plotly.v1+json": {
       "config": {
        "plotlyServerURL": "https://plot.ly"
       },
       "data": [
        {
         "hoverinfo": "text",
         "marker": {
          "color": "rgb(255, 0, 0)",
          "opacity": 0.8,
          "size": 5
         },
         "mode": "markers",
         "name": "Cluster 1",
         "showlegend": true,
         "text": [
          "Type: products<br>Text: Join the growing number of organizations leveraging Rellm to enhance their reinsurance processes whi...",
          "Type: products<br>Text: # Product Summary\n\n# Markellm\n\n## Summary\n\nMarkellm is an innovative two-sided marketplace designed ...",
          "Type: products<br>Text: - **User-Friendly Interface**: Designed with user experience in mind, Markellm features an intuitive...",
          "Type: products<br>Text: ### Q3 2025\n- Initiate a comprehensive marketing campaign targeting both consumers and insurers to i...",
          "Type: products<br>Text: All tiers include a comprehensive training program and ongoing updates to ensure optimal performance...",
          "Type: products<br>Text: With Homellm, Insurellm is committed to transforming the landscape of home insurance, ensuring both ...",
          "Type: products<br>Text: # Product Summary\n\n# Carllm\n\n## Summary\n\nCarllm is an innovative auto insurance product developed by...",
          "Type: products<br>Text: - **Instant Quoting**: With Carllm, insurance companies can offer near-instant quotes to customers, ...",
          "Type: products<br>Text: - **Mobile Integration**: Carllm is designed to work seamlessly with mobile applications, providing ...",
          "Type: products<br>Text: - **Professional Tier**: $2,500/month\n  - For medium-sized companies.\n  - All Basic Tier features pl...",
          "Type: products<br>Text: ### Q2 2025: Customer Experience Improvements\n- Launch of a new **mobile app** for end-users.\n- Intr...",
          "Type: contracts<br>Text: ## Support\n\n1. **Customer Support**: Insurellm will provide 24/7 customer support to TechDrive Insur...",
          "Type: contracts<br>Text: 4. **Confidentiality:** Both parties agree to maintain the confidentiality of proprietary informatio...",
          "Type: contracts<br>Text: 3. **Regular Updates:** Insurellm will offer ongoing updates and enhancements to the Homellm platfor...",
          "Type: contracts<br>Text: 1. **Core Functionality**: Rellm provides EverGuard Insurance with advanced AI-driven analytics, sea...",
          "Type: company<br>Text: # Careers at Insurellm\n\nInsurellm is hiring! We are looking for talented software engineers, data sc...",
          "Type: company<br>Text: # About Insurellm\n\nInsurellm was founded by Avery Lancaster in 2015 as an insurance tech startup des...",
          "Type: employees<br>Text: Alex Chen continues to be a vital asset at Insurellm, contributing significantly to innovative backe...",
          "Type: employees<br>Text: # Avery Lancaster\n\n## Summary\n- **Date of Birth**: March 15, 1985  \n- **Job Title**: Co-Founder & Ch...",
          "Type: employees<br>Text: ## Other HR Notes\n- **Professional Development**: Avery has actively participated in leadership trai...",
          "Type: employees<br>Text: Emily Carter exemplifies the kind of talent that drives Insurellm's success and is an invaluable ass..."
         ],
         "type": "scatter3d",
         "visible": true,
         "x": {
          "bdata": "zo+jQjp8l0JplcpC92msQsrDoEJbojtCQ/OBQtQenUIiHkpCuTjOQdGQpULsL0ZC0t4jQsDpUEJYxKNCnJlGQgO0ykHcmRdCt2lvQY3WtEFfPiFC",
          "dtype": "f4"
         },
         "y": {
          "bdata": "tj+AwTVAj0Ck57lARIgrwSEHb0GS3RHATvaSwiKwYMKXBrfCrp61wgIPIsI4JGLCEbsawswCR8KE0pzBYqyxwZnLB8HEGH/Biqoowq56TcKU+7zB",
          "dtype": "f4"
         },
         "z": {
          "bdata": "tcpUQmd5DMCXSvbA7visQVNzXMITc9nBH+ihwWeC+8BJhWtApJuawNnk/0FH4FNBrEDtwbFYV8JUPRTCiKjpQJARr0AeyiJCaSGWQUEjIUIDTYhC",
          "dtype": "f4"
         }
        },
        {
         "hoverinfo": "text",
         "marker": {
          "color": "rgb(0, 255, 0)",
          "opacity": 0.8,
          "size": 5
         },
         "mode": "markers",
         "name": "Cluster 2",
         "showlegend": true,
         "text": [
          "Type: products<br>Text: ### 5. Multi-Channel Integration\nHomellm seamlessly integrates into existing insurance platforms, pr...",
          "Type: products<br>Text: - **Basic Tier:** Starting at $5,000/month for small insurers with basic integration features.\n- **S...",
          "Type: contracts<br>Text: # Contract with GreenField Holdings for Markellm\n\n**Effective Date:** November 15, 2023  \n**Contract...",
          "Type: contracts<br>Text: 4. **Payment Terms**: \n   - The Customer shall pay an amount of $10,000 per month for the Standard T...",
          "Type: contracts<br>Text: # Contract with Roadway Insurance Inc. for Carllm\n\n---\n\n## Terms\n\n1. **Agreement Effective Date**: T...",
          "Type: contracts<br>Text: ---\n\n## Renewal\n\n1. **Automatic Renewal**: This agreement will automatically renew for an additional...",
          "Type: contracts<br>Text: ---\n\n## Features\n\n1. **Access to Core Features**: Roadway Insurance Inc. will have access to all Pro...",
          "Type: contracts<br>Text: ---\n\n## Support\n\n1. **Technical Support**: Roadway Insurance Inc. will receive priority technical su...",
          "Type: contracts<br>Text: # Contract with Stellar Insurance Co. for Rellm\n\n## Terms\nThis contract is made between **Insurellm*...",
          "Type: contracts<br>Text: ### Termination\nEither party may terminate this agreement with a **30-day written notice**. In the e...",
          "Type: contracts<br>Text: # Contract with TechDrive Insurance for Carllm\n\n**Contract Date:** October 1, 2024  \n**Contract Dura...",
          "Type: contracts<br>Text: ## Renewal\n\n1. **Automatic Renewal**: This contract shall automatically renew for additional one-yea...",
          "Type: contracts<br>Text: **TechDrive Insurance Representative:**  \nName: Sarah Johnson  \nTitle: Operations Director  \nDate: _...",
          "Type: contracts<br>Text: # Contract with Velocity Auto Solutions for Carllm\n\n**Contract Date:** October 1, 2023  \n**Contract ...",
          "Type: contracts<br>Text: ## Support\n\n1. **Customer Support**: Velocity Auto Solutions will have access to Insurellm’s custome...",
          "Type: contracts<br>Text: # Contract with GreenValley Insurance for Homellm\n\n**Contract Date:** October 6, 2023  \n**Contract N...",
          "Type: contracts<br>Text: # Contract with BrightWay Solutions for Markellm\n\n**Contract Date:** October 5, 2023  \n**Contract ID...",
          "Type: contracts<br>Text: 3. **Training and Onboarding:**  \n   Insurellm agrees to provide one free training session on how to...",
          "Type: contracts<br>Text: # Contract with Pinnacle Insurance Co. for Homellm\n\n## Terms\nThis contract (\"Contract\") is entered i...",
          "Type: contracts<br>Text: ## Renewal\n1. **Renewal Terms**: At the end of the initial term, this Contract shall automatically r...",
          "Type: employees<br>Text: ## Annual Performance History  \n- **2021**:  \n  - **Performance Rating**: 4.5/5  \n  - **Key Achievem..."
         ],
         "type": "scatter3d",
         "visible": true,
         "x": {
          "bdata": "yjhlwVgLX0LKsM9AO4BaQk8wf8AHNCFCJnmWQBfE2sF4tavBm60twrxrW8EYAoFBdD4NwvrVmEA86VnCS/qXwphbe8DJZAhBYrU8wQIBgkI1Q4LC",
          "dtype": "f4"
         },
         "y": {
          "bdata": "1obLQmNGYkGAziFBVKw+QutkkkLMYJ1CVfq1Qiz6lkJzf+VBnaUxQiMIM0JSjFNCEoOPQZsUN0KRjUhC6bFRQvplo0G1/AxAmfZeQtUdaEKpprRC",
          "dtype": "f4"
         },
         "z": {
          "bdata": "fGVtwQMxjcIrnpzCkaquwspsqMIReHrCJPVDwgzIZcI7c+3AK7dPwcETjsLxpF3CtCuTwpFsu8Krg1/CUk09QLTcI8Jq1/HBmqfNwYGfTMJ3HyfA",
          "dtype": "f4"
         }
        },
        {
         "hoverinfo": "text",
         "marker": {
          "color": "rgb(0, 0, 255)",
          "opacity": 0.8,
          "size": 5
         },
         "mode": "markers",
         "name": "Cluster 3",
         "showlegend": true,
         "text": [
          "Type: products<br>Text: - **Customer Support**: Our dedicated support team is always available to assist both consumers and ...",
          "Type: contracts<br>Text: ## Support\n1. **Customer Support Access**: The Client will have access to dedicated support through ...",
          "Type: contracts<br>Text: **Signatures:**  \n_________________________                           _________________________  \n**...",
          "Type: contracts<br>Text: **Insurellm, Inc.**  \n_____________________________  \nAuthorized Signature   \nDate: ________________...",
          "Type: contracts<br>Text: ______________________________  \n[Name], [Title]  \nDate: ______________________\n\n**For Greenstone In...",
          "Type: contracts<br>Text: **Belvedere Insurance**  \nSignature: ______________________  \nName: [Authorized Signatory]  \nTitle: ...",
          "Type: contracts<br>Text: ---\n\n**Signatures**  \n**For Insurellm**: __________________________  \n**Name**: John Smith  \n**Title...",
          "Type: employees<br>Text: # HR Record\n\n# Alex Chen\n\n## Summary\n- **Date of Birth:** March 15, 1990  \n- **Job Title:** Backend ...",
          "Type: employees<br>Text: # HR Record\n\n# Oliver Spencer\n\n## Summary\n- **Date of Birth**: May 14, 1990  \n- **Job Title**: Backe...",
          "Type: employees<br>Text: # HR Record\n\n# Emily Tran\n\n## Summary\n- **Date of Birth:** March 18, 1991  \n- **Job Title:** Digital...",
          "Type: employees<br>Text: # HR Record\n\n# Jordan Blake\n\n## Summary\n- **Date of Birth:** March 15, 1993  \n- **Job Title:** Sales...",
          "Type: employees<br>Text: ## Other HR Notes\n- Jordan has shown an interest in continuing education, actively participating in ...",
          "Type: employees<br>Text: - **2018**: **Exceeds Expectations**  \n  Under Avery’s pivoted vision, Insurellm launched two new su...",
          "Type: employees<br>Text: # HR Record\n\n# Maxine Thompson\n\n## Summary\n- **Date of Birth:** January 15, 1991  \n- **Job Title:** ...",
          "Type: employees<br>Text: - **2023:** Base Salary - $70,000  \n  Recognized for substantial improvement in employee relations m...",
          "Type: employees<br>Text: # HR Record\n\n# Alex Thomson\n\n## Summary\n- **Date of Birth:** March 15, 1995  \n- **Job Title:** Sales...",
          "Type: employees<br>Text: ## Annual Performance History  \n- **2022** - Rated as \"Exceeds Expectations.\" Alex Thomson achieved ...",
          "Type: employees<br>Text: ## Other HR Notes\n- Alex Thomson is an active member of the Diversity and Inclusion committee at Ins...",
          "Type: employees<br>Text: # HR Record\n\n# Samuel Trenton\n\n## Summary\n- **Date of Birth:** April 12, 1989  \n- **Job Title:** Sen...",
          "Type: employees<br>Text: # HR Record\n\n# Alex Harper\n\n## Summary\n- **Date of Birth**: March 15, 1993  \n- **Job Title**: Sales ...",
          "Type: employees<br>Text: - **2022**:  \n  - **Base Salary**: $65,000 (Promotion to Senior SDR)  \n  - **Bonus**: $13,000 (20% o...",
          "Type: employees<br>Text: # HR Record\n\n# Jordan K. Bishop\n\n## Summary\n- **Date of Birth:** March 15, 1990\n- **Job Title:** Fro...",
          "Type: employees<br>Text: ## Other HR Notes\n- Jordan K. Bishop has been an integral part of club initiatives, including the In...",
          "Type: employees<br>Text: # HR Record\n\n# Emily Carter\n\n## Summary\n- **Date of Birth:** August 12, 1990  \n- **Job Title:** Acco..."
         ],
         "type": "scatter3d",
         "visible": true,
         "x": {
          "bdata": "+kdLQaE9CsDmjYe/QNkkQdPDSMGEtalBmCSYQavVYsIpblfCaIGywmP+JMI4EADBOuZFQqtlLMJyIJXBCoj4wZdiq8L16gjBLj6UwZNXZsIg0ZzCRI4Pwm72ocHQcTLC",
          "dtype": "f4"
         },
         "y": {
          "bdata": "Zgq1wfjSYEB3whLCUtQiwmG1kMFQ8WjBMGWAwo1/2r4p06HBywEHwWwZRsKaxhTCVNTWwYPRt8LnITHClPpswv9SAsJqUJDCYuSOwjf2YcIAEYLCeZWVway7esFV+rHC",
          "dtype": "f4"
         },
         "z": {
          "bdata": "hjo6w/hP3sI25ZXCTuFJwsfUdsI5kWjCoR2awvm35MHCGTrCEcEkwhHceMHp3T3BJcS4wpAgYML8ltfCjbojwjuAH8EMbRfCmxUtwDV1HcKiWoDBg7exwRdfhb9LxpDB",
          "dtype": "f4"
         }
        },
        {
         "hoverinfo": "text",
         "marker": {
          "color": "rgb(255, 165, 0)",
          "opacity": 0.8,
          "size": 5
         },
         "mode": "markers",
         "name": "Cluster 4",
         "showlegend": true,
         "text": [
          "Type: products<br>Text: ### For Insurance Companies:\n- **Basic Listing Fee**: $199/month for a featured listing on the platf...",
          "Type: contracts<br>Text: # Contract with Greenstone Insurance for Homellm\n\n---\n\n## Terms\n\n1. **Parties**: This Contract (\"Agr...",
          "Type: contracts<br>Text: # Contract with Belvedere Insurance for Markellm\n\n## Terms\nThis Contract (\"Agreement\") is made and e...",
          "Type: contracts<br>Text: ## Support\n1. **Technical Support**: Insurellm shall provide 24/7 technical support via an email and...",
          "Type: employees<br>Text: ## Annual Performance History\n- **2020:**  \n  - Completed onboarding successfully.  \n  - Met expecta...",
          "Type: employees<br>Text: ## Compensation History\n- **2020:** Base Salary: $80,000  \n- **2021:** Base Salary Increase to $90,0...",
          "Type: employees<br>Text: ## Annual Performance History\n- **2018**: **3/5** - Adaptable team player but still learning to take...",
          "Type: employees<br>Text: ## Compensation History\n- **March 2018**: Initial salary of $80,000.\n- **July 2019**: Salary increas...",
          "Type: employees<br>Text: - **January 2017 - May 2018**: Marketing Intern  \n  - Supported the Marketing team by collaborating ...",
          "Type: employees<br>Text: - **2021**:  \n  - Performance Rating: Meets Expectations  \n  - Key Achievements: Contributed to the ...",
          "Type: employees<br>Text: - **Professional Development Goals**:  \n  - Emily Tran aims to become a Marketing Manager within the...",
          "Type: employees<br>Text: ## Annual Performance History\n- **2021:** First year at Insurellm; achieved 90% of monthly targets. ...",
          "Type: employees<br>Text: - **2010 - 2013**: Business Analyst at Edge Analytics  \n  Prior to joining Innovate, Avery worked as...",
          "Type: employees<br>Text: - **2022**: **Satisfactory**  \n  Avery focused on rebuilding team dynamics and addressing employee c...",
          "Type: employees<br>Text: ## Compensation History\n- **2015**: $150,000 base salary + Significant equity stake  \n- **2016**: $1...",
          "Type: employees<br>Text: ## Insurellm Career Progression\n- **January 2017 - October 2018**: **Junior Data Engineer**  \n  * Ma...",
          "Type: employees<br>Text: ## Annual Performance History\n- **2017**: *Meets Expectations*  \n  Maxine showed potential in her ro...",
          "Type: employees<br>Text: - **2021**: *Exceeds Expectations*  \n  Maxine spearheaded the transition to a new data warehousing s...",
          "Type: employees<br>Text: ## Compensation History\n- **2017**: $70,000 (Junior Data Engineer)  \n- **2018**: $75,000 (Junior Dat...",
          "Type: employees<br>Text: # Samantha Greene\n\n## Summary\n- **Date of Birth:** October 14, 1990\n- **Job Title:** HR Generalist\n-...",
          "Type: employees<br>Text: ## Annual Performance History\n- **2020:** Exceeds Expectations  \n  Samantha Greene demonstrated exce...",
          "Type: employees<br>Text: ## Compensation History\n- **2020:** Base Salary - $55,000  \n  The entry-level salary matched industr...",
          "Type: employees<br>Text: ## Annual Performance History\n- **2023:** Rating: 4.5/5  \n  *Samuel exceeded expectations, successfu...",
          "Type: employees<br>Text: ## Compensation History\n- **2023:** Base Salary: $115,000 + Bonus: $15,000  \n  *Annual bonus based o...",
          "Type: employees<br>Text: - **Engagement in Company Culture:** Regularly participates in team-building events and contributes ...",
          "Type: employees<br>Text: ## Annual Performance History\n- **2019:** Exceeds Expectations - Continuously delivered high-quality...",
          "Type: employees<br>Text: ## Compensation History\n- **June 2018:** Starting Salary - $85,000\n- **June 2019:** Salary Increase ...",
          "Type: employees<br>Text: - **2017-2019:** Marketing Intern  \n  - Assisted with market research and campaign development for s...",
          "Type: employees<br>Text: ## Compensation History\n| Year | Base Salary | Bonus         | Total Compensation |\n|------|--------..."
         ],
         "type": "scatter3d",
         "visible": true,
         "x": {
          "bdata": "i2CdwqmVVEKs0D7CZBiSwNNzO8KtmtXB9OpOwgJQxsIy4YBAqseTwmrcnEETyn/CGQXFv26W7cFf3qfCZxHEwSbLDsKu9kDBUCRGwsUpTsHXnwXCB9tJwo80h8KWIpnCov2kwhzddcK1/tTCi6iTwRgiwsI=",
          "dtype": "f4"
         },
         "y": {
          "bdata": "Ou4XQj3rJ0E3xiNCkwmRQeJI/MHvZY/CWniXwclCssEhtMvB9U2QwrVpO8LADS3BfPOywQgAGcFbfKfCNCJFwsMpOsIO9EvCY59zwncHu8JR56DCVNrDwjqt/cHl/E3Cgx1pwDkMQcILQGzCzDU6wUVRWMI=",
          "dtype": "f4"
         },
         "z": {
          "bdata": "1ektQnuHwUPaoQNCNKR7QvSZw0I4V7RC+cGTQgJNqUHW4aJCGXxSQitbskKlizpBt4MpQsVXLEImbqNBJmzUQdOqfUI/EU9C/F2yQTOb4UEO8V1CLXvxQbipI0K2iahB6ZlqQsFppEL/n0VBepq6Qr+bRUI=",
          "dtype": "f4"
         }
        },
        {
         "hoverinfo": "text",
         "marker": {
          "color": "rgb(128, 0, 128)",
          "opacity": 0.8,
          "size": 5
         },
         "mode": "markers",
         "name": "Cluster 5",
         "showlegend": true,
         "text": [
          "Type: products<br>Text: # Product Summary\n\n# Rellm: AI-Powered Enterprise Reinsurance Solution\n\n## Summary\n\nRellm is an inno...",
          "Type: products<br>Text: ### Seamless Integrations\nRellm's architecture is designed for effortless integration with existing ...",
          "Type: products<br>Text: ### Regulatory Compliance Tools\nRellm includes built-in compliance tracking features to help organiz...",
          "Type: products<br>Text: Experience the future of reinsurance with Rellm, where innovation meets reliability. Let Insurellm h...",
          "Type: products<br>Text: # Product Summary\n\n# Homellm\n\n## Summary\nHomellm is an innovative home insurance product developed b...",
          "Type: products<br>Text: ### 2. Dynamic Pricing Model\nWith Homellm's innovative dynamic pricing model, insurance providers ca...",
          "Type: contracts<br>Text: ## Renewal\n1. **Automatic Renewal**: This contract will automatically renew for sequential one-year ...",
          "Type: contracts<br>Text: ## Features\n1. **AI-Powered Matching**: Access to advanced algorithms that connect GreenField Holdin...",
          "Type: contracts<br>Text: # Contract with Apex Reinsurance for Rellm: AI-Powered Enterprise Reinsurance Solution\n\n## Terms\n\n1....",
          "Type: contracts<br>Text: ## Renewal\n\n1. **Automatic Renewal**: This Agreement will automatically renew for successive one-yea...",
          "Type: contracts<br>Text: 2. **Seamless Integrations**: The architecture of Rellm allows for easy integration with existing sy...",
          "Type: contracts<br>Text: 1. **Technical Support**: Provider shall offer dedicated technical support to the Client via phone, ...",
          "Type: contracts<br>Text: ---\n\n## Features\n\n- **AI-Powered Risk Assessment**: Customer will have access to enhanced risk evalu...",
          "Type: contracts<br>Text: - **Customer Portal**: A dedicated portal will be provided, allowing the Customer's clients to manag...",
          "Type: contracts<br>Text: ## Features\nStellar Insurance Co. will receive access to the following features of the Rellm product...",
          "Type: contracts<br>Text: ## Support\nInsurellm provides Stellar Insurance Co. with the following support services:\n\n- **24/7 T...",
          "Type: contracts<br>Text: ## Renewal\n1. **Renewal Terms**: This Agreement may be renewed for additional one-year terms upon mu...",
          "Type: contracts<br>Text: ## Features\n1. **AI-Powered Matching**: Belvedere Insurance will benefit from Markellm's AI-powered ...",
          "Type: contracts<br>Text: ## Support\n1. **Technical Support**: Technical support will be available from 9 AM to 7 PM EST, Mond...",
          "Type: contracts<br>Text: ## Renewal\n\n1. **Automatic Renewal**: This contract will automatically renew for successive 12-month...",
          "Type: contracts<br>Text: 1. **AI-Powered Risk Assessment:** Access to advanced AI algorithms for real-time risk evaluations.\n...",
          "Type: contracts<br>Text: # Contract with EverGuard Insurance for Rellm: AI-Powered Enterprise Reinsurance Solution\n\n**Contrac...",
          "Type: contracts<br>Text: 4. **Usage Rights**: EverGuard Insurance is granted a non-exclusive, non-transferable license to acc...",
          "Type: contracts<br>Text: 1. **Customer Support**: Insurellm will provide EverGuard Insurance with 24/7 customer support, incl...",
          "Type: contracts<br>Text: 3. **Service Level Agreement (SLA):**  \n   Insurellm commits to a 99.9% uptime for the platform with...",
          "Type: contracts<br>Text: 2. **Real-Time Quote Availability:**  \n   Consumers sourced via BrightWay Solutions will receive rea...",
          "Type: contracts<br>Text: ## Features\n1. **AI-Powered Risk Assessment**: Utilized for tailored underwriting decisions specific...",
          "Type: company<br>Text: # Overview of Insurellm\n\nInsurellm is an innovative insurance tech firm with 200 employees across th..."
         ],
         "type": "scatter3d",
         "visible": true,
         "x": {
          "bdata": "1fEkQewFG8BJ8QdCbaudwbFtU0Ly8yJCTkKJQtpmskJ5GSVCt48SQrh64ECcrIZBIrChQTuuvUFgENZBzMWHwU/rskJYH6VCe5mewL1k18GMJHRC8x1yQcdNU0EE3SBBytWCQtpCuUI4zztCd0i9Qg==",
          "dtype": "f4"
         },
         "y": {
          "bdata": "GCegQunkz0IhYsRCrt+JQrLB10HAUBVCGJShQl78/UFXfwVChEx4QvTItUIaeFlCOUzQQuIEk0F6joJCuuXMQakkb0KAefdBBhIfQqEzikL5fBdCLCL7QZLnQkIUnIhBekuIQtDCa0JW/NZCzZm8Qg==",
          "dtype": "f4"
         },
         "z": {
          "bdata": "+n0gQWAY20GQIvJBMVNkQWmo1MGbJ7dCdSMdwloAO0J+FR5B8A3VQW4iSEIG1nJCH/a3wR9WeEKM/mHBYfygQa5gLsLSMg1Bb1VGQq/lYELrpVxCVPg3wH1onkEU8ctB3PeeQLv/c0HW8BrBTHkqQQ==",
          "dtype": "f4"
         }
        },
        {
         "colorscale": [
          [
           0,
           "rgb(255, 0, 0)"
          ],
          [
           1,
           "rgb(255, 0, 0)"
          ]
         ],
         "hoverinfo": "skip",
         "name": "Cluster 1 Boundary",
         "opacity": 0.07,
         "showlegend": false,
         "showscale": false,
         "surfacecolor": {
          "bdata": "AAAAAAAAAAAAAAAAAAAAAAAAAAAAAAAAAAAAAAAAAAAAAAAAAAAAAAAAAAAAAAAAAAAAAAAAAAAAAAAAAAAAAAAAAAAAAAAAAAAAAAAAAAAAAAAAAAAAAAAAAAAAAAAAAAAAAAAAAAAAAAAAAAAAAAAAAAAAAAAAAAAAAAAAAAAAAAAAAAAAAAAAAAAAAAAAAAAAAAAAAAAAAAAAAAAAAAAAAAAAAAAAAAAAAAAAAAAAAAAAAAAAAAAAAAAAAAAAAAAAAAAAAAAAAAAAAAAAAAAAAAAAAAAAAAAAAAAAAAAAAAAAAAAAAAAAAAAAAAAAAAAAAAAAAAAAAAAAAAAAAAAAAAAAAAAAAAAAAAAAAAAAAAAAAAAAAAAAAAAAAAAAAAAAAAAAAAAAAAAAAAAAAAAAAAAAAAAAAAAAAAAAAAAAAAAAAAAAAAAAAAAAAAAAAAAAAAAAAAAAAAAAAAAAAAAAAAAAAAAAAAAAAAAAAAAAAAAAAAAAAAAAAAAAAAAAAAAAAAAAAAAAAAAAAAAAAAAAAAAAAAAAAAAAAAAAAAAAAAAAAAAAAAAAAAAAAAAAAAAAAAAAAAAAAAAAAAAAAAAAAAAAAAAAAAAAAAAAAAAAAAAAAAAAAAAAAAAAAAAAAAAAAAAAAAAAAAAAAAAAAAAAAAAAAAAAAAAAAAAAAAAAAAAAAAAAAAAAAAAAAAAAAAAAAAAAAAAAAAAAAAAAAAAAAAAAAAAAAAAAAAAAAAAAAAAAAAAAAAAAAAAAAAAAAAAAAAAAAAAAAAAAAAAAAAAAAAAAAAAAAAAAAAAAAAAAAAAAAAAAAAAAAAAAAAAAAAAAAAAAAAAAAAAAAAAAAAAAAAAAAAAAAAAAAAAAAAAAAAAAAAAAAAAAAAAAAAAAAAAAAAAAAAAAAAAAAAAAAAAAAAAAAAAAAAAAAAAAAAAAAAAAAAAAAAAAAAAAAAAAAAAAAAAAAAAAAAAAAAAAAAAAAAAAAAAAAAAAAAAAAAAAAAAAAAAAAAAAAAAAAAAAAAAAAAAAAAAAAAAAAAAAAAAAAAAAAAAAAAAAAAAAAAAAAAAAAAAAAAAAAAAAAAAAAAAAAAAAAAAAAAAAAAAAAAAAAAAAAAAAAAAAAAAAAAAAAAAAAAAAAAAAAAAAAAAAAAAAAAAAAAAAAAAAAAAAAAAAAAAAAAAAAAAAAAAAAAAAAAAAAAAAAAAAAAAAAAAAAAAAAAAAAAAAAAAAAAAAAAAAAAAAAAAAAAAAAAAAAAAAAAAAAAAAAAAAAAAAAAAAAAAAAAAAAAAAAAAAAAAAAAAAAAAAAAAAAAAAAAAAAAAAAAAAAAAAAAAAAAAAAAAAAAAAAAAAAAAAAAAAAAAAAAAAAAAAAAAAAAAAAAAAAAAAAAAAAAAAAAAAAAAAAAAAAAAAAAAAAAAAAAAAAAAAAAAAAAAAAAAAAAAAAAAAAAAAAAAAAAAAAAAAAAAAAAAAAAAAAAAAAAAAAAAAAAAAAAAAAAAAAAAAAAAAAAAAAAAAAAAAAAAAAAAAAAAAAAAAAAAAAAAAAAAAAAAAAAAAAAAAAAAAAAAAAAAAAAAAAAAAAAAAAAAAAAAAAAAAAAAAAAAAAAAAAAAAAAAAAAAAAAAAAAAAAAAAAAAAAAAAAAAAAAAAAAAAAAAAAAAAAAAAAAAAAAAAAAAAAAAAAAAAAAAAAAAAAAAAAAAAAAAAAAAAAAAAAAAAAAAAAAAAAAAAAAAAAAAAAAAAAAAAAAAAAAAAAAAAAAAAAAAAAAAAAAAAAAAAAAAAAAAAAAAAAAAAAAAAAAAAAAAAAAAAAAAAAAAAAAAAAAAAAAAAAAAAAAAAAAAAAAAAAAAAAAAAAAAAAAAAAAAAAAAAAAAAAAAAAAAAAAAAAAAAAAAAAAAAAAAAAAAAAAAAAAAAAAAAAAAAAAAAAAAAAAAAAAAAAAAAAAAAAAAAAAAAAAAAAAAAAAAAAAAAAAAAAAAAAAAAAAAAAAAAAAAAAAAAAAAAAAAAAAAAAAAAAAAAAAAAAAAAAAAAAAAAAAAAAAAAAAAAAAAAAAAAAAAAAAAAAAAAAAAAAAAAAAAAAAAAAAAAAAAAAAAAAAAAAAAAAAAAAAAAAAAAAAAAAAAAAAAAAAAAAAAAAAAAAAAAAAAAAAAAAAAAAAAAAAAAAAAAAAAAAAAAAAAAAAAAAAAAAAAAAAAAAAAAAAAAAAAAAAAAAAAAAAAAAAAAAAAAAAAAAAAAAAAAAAAAAAAAAAAAAAAAAAAAAAAAAAAAAAAAAAAAAAAAAAAAAAAAAAAAAAAAAAAAAAAAAAAAAAAAAAAAAAAAAAAAAAAAAAAAAAAAAAAAAAAAAAAAAAAAAAAAAAAAAAAAAAAAAAAAAAAAAAAAAAAAAAAAAAAAAAAAAAAAAAAAAAAAAAAAAAAAAAAAAAAAAAAAAAAAAAAAAAAAAAAAAAAAAAAAAAAAAAAAAAAAAAAAAAAAAAAAAAAAAAAAAAAAAAAAAAAAAAAAAAAAAAAAAAAAAAAAAAAAAAAAAAAAAAAAAAAAAAAAAAAAAAAAAAAAAAAAAAAAAAAAAAAAAAAAAAAAAAAAAAAAAAAAAAAAAAAAAAAAAAAAAAAAAAAAAAAAAAAAAAAAAAAAAAAAAAAAAAAAAAAAAAAAAAAAAAAAAAAAAAAAAAAAAAAAAAAAAAAAAAAAAAAAAAAAAAAAAAAAAAAAAAAAAAAAAAAAAAAAAAAAAAAAAAAAAAAAAAAAAAAAAAAAAAAAAAAAAAAAAAAAAAAAAAAAAAAAAAAAAAAAAAAAAAAAAAAAAAAAAAAAAAAAAAAAAAAAAAAAAAAAAAAAAAAAAAAAAAAAAAAAAAAAAAAAAAAAAAAAAAAAAAAAAAAAAAAAAAAAAAAAAAAAAAAAAAAAAAAAAAAAAAAAAAAAAAAAAAAAAAAAAAAAAAAAAAAAAAAAAAAAAAAAAAAAAAAAAAAAAAAAAAAAAAAAAAAAAAAAAAAAAAAAAAAAAAAAAAAAAAAAAAAAAAAAAAAAAAAAAAAAAAAAAAAAAAAAAAAAAAAAAAAAAAAAAAAAAAAAAAAAAAAAAAAAAAAAAAAAAAAAAAAAAAAAAAAAAAAAAAAAAAAAAAAAAAAAAAAAAAAAAAAAAAAAAAAAAAAAAAAAAAAAAAAAAAAAAAAAAAAAAAAAAAAAAAAAAAAAAAAAAAAAAAAAAAAAAAAAAAAAAAAAAAAAAAAAAAAAAAAAAAAAAAAAAAAAAAAAAAAAAAAAAAAAAAAAAAAAAAAAAAAAAAAAAAAAAAAAAAAAAAAAAAAAAAAAAAAAAAAAAAAAAAAAAAAAAAAAAAAAAAAAAAAAAAAAAAAAAAAAAAAAAAAAAAAAAAAAAAAAAAAAAAAAAAAAAAAAAAAAAAAAAAAAAAAAAAAAAAAAAAAAAAAAAAAAAAAAAAAAAAAAAAAAAAAAAAAAAAAAAAAAAAAAAAAAAAAAAAAAAAAAAAAAAAAAAAAAAAAAAAAAAAAAAAAAAAAAAAAAAAAAAAAAAAAAAAAAAAAAAAAAAAAAAAAAAAAAAAAAAAAAAAAAAAAAAAAAAAAAAAAAAAAAAAAAAAAAAAAAAAAAAAAAAAAAAAAAAAAAAAAAAAAAAAAAAAAAAAAAAAAAAAAAAAAAAAAAAAAAAAAAAAAAAAAAAAAAAAAAAAAAAAAAAAAAAAAAAAAAAAAAAAAAAAAAAAAAAAAAAAAAAAAAAAAAAAAAAAAAAAAAAAAAAAAAAAAAAAAAAAAAAAAAAAAAAAAAAAAAAAAAAAAAAAAAAAAAAAAAAAAAAAAAAAAAAAAAAAAAAAAAAAAAAAAAAAAAAAAAAAAAAAAAAAAAAAAAAAAAAAAAAAAAAAAAAAAAAAAAAAAAAAAAAAAAAAAAAAAAAAAAAAAAAAAAAAAAAAAAAAAAAAAAAAAAAAAAAAAAAAAAAAAAAAAAAAAAAAAAAAAAAAAAAAAAAAAAAAAAAAAAAAAAAAAAAAAAAAAAAAAAAAAAAAAAAAAAAAAAAAAAAAAAAAAAAAAAAAAAAAAAAAAAAAAAAAAAAAAAAAAAAAAAAAAAAAAAAAAAAAAAAAAAAAAAAAAAAAAAAAAAAAAAAAAAAAAAAAAAAAAAAAAAAAAAAAAAAAAAAAAAAAAAAAAAAAAAAAAAAAAAAAAAAAAAAAAAAAAAAAAAAAAAAAAAAAAAAAAAAAAAAAAAAAAAAAAAAAAAAAAAAAAAAAAAAAAAAAAAAAAAAAAAAAAAAAAAAAAAAAAAAAAAAAAAAAAAAAAAAAAAAAA=",
          "dtype": "f8",
          "shape": "20, 20"
         },
         "type": "surface",
         "visible": true,
         "x": {
          "bdata": "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",
          "dtype": "f8",
          "shape": "20, 20"
         },
         "y": {
          "bdata": "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",
          "dtype": "f8",
          "shape": "20, 20"
         },
         "z": {
          "bdata": "AAAASGFYVEBBjGwkyRNUQIRmXrjfR1NAUYIG7zT6UUBOgtzI4jNQQOUhYJqbAkxAjoa0AJ3jRkCyrLZ1jC5BQPvQwzaJFjZAz1M93oaSIkAmT/V4mYoNwPnQw/aYfjDAXVltqyjFPMCLhrTgpBdEwOMhYHqjNknAmQS5cc2bTcBRggbfOJRQwIRmXqjj4VHAQYxsFM2tUsAAAAA4ZfJSwAAAAEhhWFRAQYxsJMkTVECEZl6430dTQFGCBu80+lFAToLcyOIzUEDlIWCamwJMQI6GtACd40ZAsqy2dYwuQUD70MM2iRY2QM9TPd6GkiJAJk/1eJmKDcD50MP2mH4wwF1ZbasoxTzAi4a04KQXRMDjIWB6ozZJwJkEuXHNm03AUYIG3ziUUMCEZl6o4+FRwEGMbBTNrVLAAAAAOGXyUsAAAABIYVhUQEGMbCTJE1RAhGZeuN9HU0BRggbvNPpRQE6C3MjiM1BA5SFgmpsCTECOhrQAneNGQLKstnWMLkFA+9DDNokWNkDPUz3ehpIiQCZP9XiZig3A+dDD9ph+MMBdWW2rKMU8wIuGtOCkF0TA4yFgeqM2ScCZBLlxzZtNwFGCBt84lFDAhGZeqOPhUcBBjGwUza1SwAAAADhl8lLAAAAASGFYVEBBjGwkyRNUQIRmXrjfR1NAUYIG7zT6UUBOgtzI4jNQQOUhYJqbAkxAjoa0AJ3jRkCyrLZ1jC5BQPvQwzaJFjZAz1M93oaSIkAmT/V4mYoNwPnQw/aYfjDAXVltqyjFPMCLhrTgpBdEwOMhYHqjNknAmQS5cc2bTcBRggbfOJRQwIRmXqjj4VHAQYxsFM2tUsAAAAA4ZfJSwAAAAEhhWFRAQYxsJMkTVECEZl6430dTQFGCBu80+lFAToLcyOIzUEDlIWCamwJMQI6GtACd40ZAsqy2dYwuQUD70MM2iRY2QM9TPd6GkiJAJk/1eJmKDcD50MP2mH4wwF1ZbasoxTzAi4a04KQXRMDjIWB6ozZJwJkEuXHNm03AUYIG3ziUUMCEZl6o4+FRwEGMbBTNrVLAAAAAOGXyUsAAAABIYVhUQEGMbCTJE1RAhGZeuN9HU0BRggbvNPpRQE6C3MjiM1BA5SFgmpsCTECOhrQAneNGQLKstnWMLkFA+9DDNokWNkDPUz3ehpIiQCZP9XiZig3A+dDD9ph+MMBdWW2rKMU8wIuGtOCkF0TA4yFgeqM2ScCZBLlxzZtNwFGCBt84lFDAhGZeqOPhUcBBjGwUza1SwAAAADhl8lLAAAAASGFYVEBBjGwkyRNUQIRmXrjfR1NAUYIG7zT6UUBOgtzI4jNQQOUhYJqbAkxAjoa0AJ3jRkCyrLZ1jC5BQPvQwzaJFjZAz1M93oaSIkAmT/V4mYoNwPnQw/aYfjDAXVltqyjFPMCLhrTgpBdEwOMhYHqjNknAmQS5cc2bTcBRggbfOJRQwIRmXqjj4VHAQYxsFM2tUsAAAAA4ZfJSwAAAAEhhWFRAQYxsJMkTVECEZl6430dTQFGCBu80+lFAToLcyOIzUEDlIWCamwJMQI6GtACd40ZAsqy2dYwuQUD70MM2iRY2QM9TPd6GkiJAJk/1eJmKDcD50MP2mH4wwF1ZbasoxTzAi4a04KQXRMDjIWB6ozZJwJkEuXHNm03AUYIG3ziUUMCEZl6o4+FRwEGMbBTNrVLAAAAAOGXyUsAAAABIYVhUQEGMbCTJE1RAhGZeuN9HU0BRggbvNPpRQE6C3MjiM1BA5SFgmpsCTECOhrQAneNGQLKstnWMLkFA+9DDNokWNkDPUz3ehpIiQCZP9XiZig3A+dDD9ph+MMBdWW2rKMU8wIuGtOCkF0TA4yFgeqM2ScCZBLlxzZtNwFGCBt84lFDAhGZeqOPhUcBBjGwUza1SwAAAADhl8lLAAAAASGFYVEBBjGwkyRNUQIRmXrjfR1NAUYIG7zT6UUBOgtzI4jNQQOUhYJqbAkxAjoa0AJ3jRkCyrLZ1jC5BQPvQwzaJFjZAz1M93oaSIkAmT/V4mYoNwPnQw/aYfjDAXVltqyjFPMCLhrTgpBdEwOMhYHqjNknAmQS5cc2bTcBRggbfOJRQwIRmXqjj4VHAQYxsFM2tUsAAAAA4ZfJSwAAAAEhhWFRAQYxsJMkTVECEZl6430dTQFGCBu80+lFAToLcyOIzUEDlIWCamwJMQI6GtACd40ZAsqy2dYwuQUD70MM2iRY2QM9TPd6GkiJAJk/1eJmKDcD50MP2mH4wwF1ZbasoxTzAi4a04KQXRMDjIWB6ozZJwJkEuXHNm03AUYIG3ziUUMCEZl6o4+FRwEGMbBTNrVLAAAAAOGXyUsAAAABIYVhUQEGMbCTJE1RAhGZeuN9HU0BRggbvNPpRQE6C3MjiM1BA5SFgmpsCTECOhrQAneNGQLKstnWMLkFA+9DDNokWNkDPUz3ehpIiQCZP9XiZig3A+dDD9ph+MMBdWW2rKMU8wIuGtOCkF0TA4yFgeqM2ScCZBLlxzZtNwFGCBt84lFDAhGZeqOPhUcBBjGwUza1SwAAAADhl8lLAAAAASGFYVEBBjGwkyRNUQIRmXrjfR1NAUYIG7zT6UUBOgtzI4jNQQOUhYJqbAkxAjoa0AJ3jRkCyrLZ1jC5BQPvQwzaJFjZAz1M93oaSIkAmT/V4mYoNwPnQw/aYfjDAXVltqyjFPMCLhrTgpBdEwOMhYHqjNknAmQS5cc2bTcBRggbfOJRQwIRmXqjj4VHAQYxsFM2tUsAAAAA4ZfJSwAAAAEhhWFRAQYxsJMkTVECEZl6430dTQFGCBu80+lFAToLcyOIzUEDlIWCamwJMQI6GtACd40ZAsqy2dYwuQUD70MM2iRY2QM9TPd6GkiJAJk/1eJmKDcD50MP2mH4wwF1ZbasoxTzAi4a04KQXRMDjIWB6ozZJwJkEuXHNm03AUYIG3ziUUMCEZl6o4+FRwEGMbBTNrVLAAAAAOGXyUsAAAABIYVhUQEGMbCTJE1RAhGZeuN9HU0BRggbvNPpRQE6C3MjiM1BA5SFgmpsCTECOhrQAneNGQLKstnWMLkFA+9DDNokWNkDPUz3ehpIiQCZP9XiZig3A+dDD9ph+MMBdWW2rKMU8wIuGtOCkF0TA4yFgeqM2ScCZBLlxzZtNwFGCBt84lFDAhGZeqOPhUcBBjGwUza1SwAAAADhl8lLAAAAASGFYVEBBjGwkyRNUQIRmXrjfR1NAUYIG7zT6UUBOgtzI4jNQQOUhYJqbAkxAjoa0AJ3jRkCyrLZ1jC5BQPvQwzaJFjZAz1M93oaSIkAmT/V4mYoNwPnQw/aYfjDAXVltqyjFPMCLhrTgpBdEwOMhYHqjNknAmQS5cc2bTcBRggbfOJRQwIRmXqjj4VHAQYxsFM2tUsAAAAA4ZfJSwAAAAEhhWFRAQYxsJMkTVECEZl6430dTQFGCBu80+lFAToLcyOIzUEDlIWCamwJMQI6GtACd40ZAsqy2dYwuQUD70MM2iRY2QM9TPd6GkiJAJk/1eJmKDcD50MP2mH4wwF1ZbasoxTzAi4a04KQXRMDjIWB6ozZJwJkEuXHNm03AUYIG3ziUUMCEZl6o4+FRwEGMbBTNrVLAAAAAOGXyUsAAAABIYVhUQEGMbCTJE1RAhGZeuN9HU0BRggbvNPpRQE6C3MjiM1BA5SFgmpsCTECOhrQAneNGQLKstnWMLkFA+9DDNokWNkDPUz3ehpIiQCZP9XiZig3A+dDD9ph+MMBdWW2rKMU8wIuGtOCkF0TA4yFgeqM2ScCZBLlxzZtNwFGCBt84lFDAhGZeqOPhUcBBjGwUza1SwAAAADhl8lLAAAAASGFYVEBBjGwkyRNUQIRmXrjfR1NAUYIG7zT6UUBOgtzI4jNQQOUhYJqbAkxAjoa0AJ3jRkCyrLZ1jC5BQPvQwzaJFjZAz1M93oaSIkAmT/V4mYoNwPnQw/aYfjDAXVltqyjFPMCLhrTgpBdEwOMhYHqjNknAmQS5cc2bTcBRggbfOJRQwIRmXqjj4VHAQYxsFM2tUsAAAAA4ZfJSwAAAAEhhWFRAQYxsJMkTVECEZl6430dTQFGCBu80+lFAToLcyOIzUEDlIWCamwJMQI6GtACd40ZAsqy2dYwuQUD70MM2iRY2QM9TPd6GkiJAJk/1eJmKDcD50MP2mH4wwF1ZbasoxTzAi4a04KQXRMDjIWB6ozZJwJkEuXHNm03AUYIG3ziUUMCEZl6o4+FRwEGMbBTNrVLAAAAAOGXyUsA=",
          "dtype": "f8",
          "shape": "20, 20"
         }
        },
        {
         "colorscale": [
          [
           0,
           "rgb(0, 255, 0)"
          ],
          [
           1,
           "rgb(0, 255, 0)"
          ]
         ],
         "hoverinfo": "skip",
         "name": "Cluster 2 Boundary",
         "opacity": 0.07,
         "showlegend": false,
         "showscale": false,
         "surfacecolor": {
          "bdata": "AAAAAAAAAAAAAAAAAAAAAAAAAAAAAAAAAAAAAAAAAAAAAAAAAAAAAAAAAAAAAAAAAAAAAAAAAAAAAAAAAAAAAAAAAAAAAAAAAAAAAAAAAAAAAAAAAAAAAAAAAAAAAAAAAAAAAAAAAAAAAAAAAAAAAAAAAAAAAAAAAAAAAAAAAAAAAAAAAAAAAAAAAAAAAAAAAAAAAAAAAAAAAAAAAAAAAAAAAAAAAAAAAAAAAAAAAAAAAAAAAAAAAAAAAAAAAAAAAAAAAAAAAAAAAAAAAAAAAAAAAAAAAAAAAAAAAAAAAAAAAAAAAAAAAAAAAAAAAAAAAAAAAAAAAAAAAAAAAAAAAAAAAAAAAAAAAAAAAAAAAAAAAAAAAAAAAAAAAAAAAAAAAAAAAAAAAAAAAAAAAAAAAAAAAAAAAAAAAAAAAAAAAAAAAAAAAAAAAAAAAAAAAAAAAAAAAAAAAAAAAAAAAAAAAAAAAAAAAAAAAAAAAAAAAAAAAAAAAAAAAAAAAAAAAAAAAAAAAAAAAAAAAAAAAAAAAAAAAAAAAAAAAAAAAAAAAAAAAAAAAAAAAAAAAAAAAAAAAAAAAAAAAAAAAAAAAAAAAAAAAAAAAAAAAAAAAAAAAAAAAAAAAAAAAAAAAAAAAAAAAAAAAAAAAAAAAAAAAAAAAAAAAAAAAAAAAAAAAAAAAAAAAAAAAAAAAAAAAAAAAAAAAAAAAAAAAAAAAAAAAAAAAAAAAAAAAAAAAAAAAAAAAAAAAAAAAAAAAAAAAAAAAAAAAAAAAAAAAAAAAAAAAAAAAAAAAAAAAAAAAAAAAAAAAAAAAAAAAAAAAAAAAAAAAAAAAAAAAAAAAAAAAAAAAAAAAAAAAAAAAAAAAAAAAAAAAAAAAAAAAAAAAAAAAAAAAAAAAAAAAAAAAAAAAAAAAAAAAAAAAAAAAAAAAAAAAAAAAAAAAAAAAAAAAAAAAAAAAAAAAAAAAAAAAAAAAAAAAAAAAAAAAAAAAAAAAAAAAAAAAAAAAAAAAAAAAAAAAAAAAAAAAAAAAAAAAAAAAAAAAAAAAAAAAAAAAAAAAAAAAAAAAAAAAAAAAAAAAAAAAAAAAAAAAAAAAAAAAAAAAAAAAAAAAAAAAAAAAAAAAAAAAAAAAAAAAAAAAAAAAAAAAAAAAAAAAAAAAAAAAAAAAAAAAAAAAAAAAAAAAAAAAAAAAAAAAAAAAAAAAAAAAAAAAAAAAAAAAAAAAAAAAAAAAAAAAAAAAAAAAAAAAAAAAAAAAAAAAAAAAAAAAAAAAAAAAAAAAAAAAAAAAAAAAAAAAAAAAAAAAAAAAAAAAAAAAAAAAAAAAAAAAAAAAAAAAAAAAAAAAAAAAAAAAAAAAAAAAAAAAAAAAAAAAAAAAAAAAAAAAAAAAAAAAAAAAAAAAAAAAAAAAAAAAAAAAAAAAAAAAAAAAAAAAAAAAAAAAAAAAAAAAAAAAAAAAAAAAAAAAAAAAAAAAAAAAAAAAAAAAAAAAAAAAAAAAAAAAAAAAAAAAAAAAAAAAAAAAAAAAAAAAAAAAAAAAAAAAAAAAAAAAAAAAAAAAAAAAAAAAAAAAAAAAAAAAAAAAAAAAAAAAAAAAAAAAAAAAAAAAAAAAAAAAAAAAAAAAAAAAAAAAAAAAAAAAAAAAAAAAAAAAAAAAAAAAAAAAAAAAAAAAAAAAAAAAAAAAAAAAAAAAAAAAAAAAAAAAAAAAAAAAAAAAAAAAAAAAAAAAAAAAAAAAAAAAAAAAAAAAAAAAAAAAAAAAAAAAAAAAAAAAAAAAAAAAAAAAAAAAAAAAAAAAAAAAAAAAAAAAAAAAAAAAAAAAAAAAAAAAAAAAAAAAAAAAAAAAAAAAAAAAAAAAAAAAAAAAAAAAAAAAAAAAAAAAAAAAAAAAAAAAAAAAAAAAAAAAAAAAAAAAAAAAAAAAAAAAAAAAAAAAAAAAAAAAAAAAAAAAAAAAAAAAAAAAAAAAAAAAAAAAAAAAAAAAAAAAAAAAAAAAAAAAAAAAAAAAAAAAAAAAAAAAAAAAAAAAAAAAAAAAAAAAAAAAAAAAAAAAAAAAAAAAAAAAAAAAAAAAAAAAAAAAAAAAAAAAAAAAAAAAAAAAAAAAAAAAAAAAAAAAAAAAAAAAAAAAAAAAAAAAAAAAAAAAAAAAAAAAAAAAAAAAAAAAAAAAAAAAAAAAAAAAAAAAAAAAAAAAAAAAAAAAAAAAAAAAAAAAAAAAAAAAAAAAAAAAAAAAAAAAAAAAAAAAAAAAAAAAAAAAAAAAAAAAAAAAAAAAAAAAAAAAAAAAAAAAAAAAAAAAAAAAAAAAAAAAAAAAAAAAAAAAAAAAAAAAAAAAAAAAAAAAAAAAAAAAAAAAAAAAAAAAAAAAAAAAAAAAAAAAAAAAAAAAAAAAAAAAAAAAAAAAAAAAAAAAAAAAAAAAAAAAAAAAAAAAAAAAAAAAAAAAAAAAAAAAAAAAAAAAAAAAAAAAAAAAAAAAAAAAAAAAAAAAAAAAAAAAAAAAAAAAAAAAAAAAAAAAAAAAAAAAAAAAAAAAAAAAAAAAAAAAAAAAAAAAAAAAAAAAAAAAAAAAAAAAAAAAAAAAAAAAAAAAAAAAAAAAAAAAAAAAAAAAAAAAAAAAAAAAAAAAAAAAAAAAAAAAAAAAAAAAAAAAAAAAAAAAAAAAAAAAAAAAAAAAAAAAAAAAAAAAAAAAAAAAAAAAAAAAAAAAAAAAAAAAAAAAAAAAAAAAAAAAAAAAAAAAAAAAAAAAAAAAAAAAAAAAAAAAAAAAAAAAAAAAAAAAAAAAAAAAAAAAAAAAAAAAAAAAAAAAAAAAAAAAAAAAAAAAAAAAAAAAAAAAAAAAAAAAAAAAAAAAAAAAAAAAAAAAAAAAAAAAAAAAAAAAAAAAAAAAAAAAAAAAAAAAAAAAAAAAAAAAAAAAAAAAAAAAAAAAAAAAAAAAAAAAAAAAAAAAAAAAAAAAAAAAAAAAAAAAAAAAAAAAAAAAAAAAAAAAAAAAAAAAAAAAAAAAAAAAAAAAAAAAAAAAAAAAAAAAAAAAAAAAAAAAAAAAAAAAAAAAAAAAAAAAAAAAAAAAAAAAAAAAAAAAAAAAAAAAAAAAAAAAAAAAAAAAAAAAAAAAAAAAAAAAAAAAAAAAAAAAAAAAAAAAAAAAAAAAAAAAAAAAAAAAAAAAAAAAAAAAAAAAAAAAAAAAAAAAAAAAAAAAAAAAAAAAAAAAAAAAAAAAAAAAAAAAAAAAAAAAAAAAAAAAAAAAAAAAAAAAAAAAAAAAAAAAAAAAAAAAAAAAAAAAAAAAAAAAAAAAAAAAAAAAAAAAAAAAAAAAAAAAAAAAAAAAAAAAAAAAAAAAAAAAAAAAAAAAAAAAAAAAAAAAAAAAAAAAAAAAAAAAAAAAAAAAAAAAAAAAAAAAAAAAAAAAAAAAAAAAAAAAAAAAAAAAAAAAAAAAAAAAAAAAAAAAAAAAAAAAAAAAAAAAAAAAAAAAAAAAAAAAAAAAAAAAAAAAAAAAAAAAAAAAAAAAAAAAAAAAAAAAAAAAAAAAAAAAAAAAAAAAAAAAAAAAAAAAAAAAAAAAAAAAAAAAAAAAAAAAAAAAAAAAAAAAAAAAAAAAAAAAAAAAAAAAAAAAAAAAAAAAAAAAAAAAAAAAAAAAAAAAAAAAAAAAAAAAAAAAAAAAAAAAAAAAAAAAAAAAAAAAAAAAAAAAAAAAAAAAAAAAAAAAAAAAAAAAAAAAAAAAAAAAAAAAAAAAAAAAAAAAAAAAAAAAAAAAAAAAAAAAAAAAAAAAAAAAAAAAAAAAAAAAAAAAAAAAAAAAAAAAAAAAAAAAAAAAAAAAAAAAAAAAAAAAAAAAAAAAAAAAAAAAAAAAAAAAAAAAAAAAAAAAAAAAAAAAAAAAAAAAAAAAAAAAAAAAAAAAAAAAAAAAAAAAAAAAAAAAAAAAAAAAAAAAAAAAAAAAAAAAAAAAAAAAAAAAAAAAAAAAAAAAAAAAAAAAAAAAAAAAAAAAAAAAAAAAAAAAAAAAAAAAAAAAAAAAAAAAAAAAAAAAAAAAAAAAAAAAAAAAAAAAAAAAAAAAAAAAAAAAAAAAAAAAAAAAAAAAAAAAAAAAAAAAAAAAAAAAAAAAAAAAAAAAAAAAAAAAAAAAAAAAAAAAAAAAAAAAAAAAAAAAAAAAAAAAAAAAAAAAAAAAAAAAAAAAAAAAAAAAAAAAAAAAAAAAAAAAAAAAAAAAAAAAAAAAAAAAAAAAAAAAAAAAAAAAAAAAAAAAAAAAAAAAAAAAAAAAAAAAAAAAAAAAAAAAAAAAAAAAAAAAAAAAAA=",
          "dtype": "f8",
          "shape": "20, 20"
         },
         "type": "surface",
         "visible": true,
         "x": {
          "bdata": "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",
          "dtype": "f8",
          "shape": "20, 20"
         },
         "y": {
          "bdata": "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",
          "dtype": "f8",
          "shape": "20, 20"
         },
         "z": {
          "bdata": "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",
          "dtype": "f8",
          "shape": "20, 20"
         }
        },
        {
         "colorscale": [
          [
           0,
           "rgb(0, 0, 255)"
          ],
          [
           1,
           "rgb(0, 0, 255)"
          ]
         ],
         "hoverinfo": "skip",
         "name": "Cluster 3 Boundary",
         "opacity": 0.07,
         "showlegend": false,
         "showscale": false,
         "surfacecolor": {
          "bdata": "AAAAAAAAAAAAAAAAAAAAAAAAAAAAAAAAAAAAAAAAAAAAAAAAAAAAAAAAAAAAAAAAAAAAAAAAAAAAAAAAAAAAAAAAAAAAAAAAAAAAAAAAAAAAAAAAAAAAAAAAAAAAAAAAAAAAAAAAAAAAAAAAAAAAAAAAAAAAAAAAAAAAAAAAAAAAAAAAAAAAAAAAAAAAAAAAAAAAAAAAAAAAAAAAAAAAAAAAAAAAAAAAAAAAAAAAAAAAAAAAAAAAAAAAAAAAAAAAAAAAAAAAAAAAAAAAAAAAAAAAAAAAAAAAAAAAAAAAAAAAAAAAAAAAAAAAAAAAAAAAAAAAAAAAAAAAAAAAAAAAAAAAAAAAAAAAAAAAAAAAAAAAAAAAAAAAAAAAAAAAAAAAAAAAAAAAAAAAAAAAAAAAAAAAAAAAAAAAAAAAAAAAAAAAAAAAAAAAAAAAAAAAAAAAAAAAAAAAAAAAAAAAAAAAAAAAAAAAAAAAAAAAAAAAAAAAAAAAAAAAAAAAAAAAAAAAAAAAAAAAAAAAAAAAAAAAAAAAAAAAAAAAAAAAAAAAAAAAAAAAAAAAAAAAAAAAAAAAAAAAAAAAAAAAAAAAAAAAAAAAAAAAAAAAAAAAAAAAAAAAAAAAAAAAAAAAAAAAAAAAAAAAAAAAAAAAAAAAAAAAAAAAAAAAAAAAAAAAAAAAAAAAAAAAAAAAAAAAAAAAAAAAAAAAAAAAAAAAAAAAAAAAAAAAAAAAAAAAAAAAAAAAAAAAAAAAAAAAAAAAAAAAAAAAAAAAAAAAAAAAAAAAAAAAAAAAAAAAAAAAAAAAAAAAAAAAAAAAAAAAAAAAAAAAAAAAAAAAAAAAAAAAAAAAAAAAAAAAAAAAAAAAAAAAAAAAAAAAAAAAAAAAAAAAAAAAAAAAAAAAAAAAAAAAAAAAAAAAAAAAAAAAAAAAAAAAAAAAAAAAAAAAAAAAAAAAAAAAAAAAAAAAAAAAAAAAAAAAAAAAAAAAAAAAAAAAAAAAAAAAAAAAAAAAAAAAAAAAAAAAAAAAAAAAAAAAAAAAAAAAAAAAAAAAAAAAAAAAAAAAAAAAAAAAAAAAAAAAAAAAAAAAAAAAAAAAAAAAAAAAAAAAAAAAAAAAAAAAAAAAAAAAAAAAAAAAAAAAAAAAAAAAAAAAAAAAAAAAAAAAAAAAAAAAAAAAAAAAAAAAAAAAAAAAAAAAAAAAAAAAAAAAAAAAAAAAAAAAAAAAAAAAAAAAAAAAAAAAAAAAAAAAAAAAAAAAAAAAAAAAAAAAAAAAAAAAAAAAAAAAAAAAAAAAAAAAAAAAAAAAAAAAAAAAAAAAAAAAAAAAAAAAAAAAAAAAAAAAAAAAAAAAAAAAAAAAAAAAAAAAAAAAAAAAAAAAAAAAAAAAAAAAAAAAAAAAAAAAAAAAAAAAAAAAAAAAAAAAAAAAAAAAAAAAAAAAAAAAAAAAAAAAAAAAAAAAAAAAAAAAAAAAAAAAAAAAAAAAAAAAAAAAAAAAAAAAAAAAAAAAAAAAAAAAAAAAAAAAAAAAAAAAAAAAAAAAAAAAAAAAAAAAAAAAAAAAAAAAAAAAAAAAAAAAAAAAAAAAAAAAAAAAAAAAAAAAAAAAAAAAAAAAAAAAAAAAAAAAAAAAAAAAAAAAAAAAAAAAAAAAAAAAAAAAAAAAAAAAAAAAAAAAAAAAAAAAAAAAAAAAAAAAAAAAAAAAAAAAAAAAAAAAAAAAAAAAAAAAAAAAAAAAAAAAAAAAAAAAAAAAAAAAAAAAAAAAAAAAAAAAAAAAAAAAAAAAAAAAAAAAAAAAAAAAAAAAAAAAAAAAAAAAAAAAAAAAAAAAAAAAAAAAAAAAAAAAAAAAAAAAAAAAAAAAAAAAAAAAAAAAAAAAAAAAAAAAAAAAAAAAAAAAAAAAAAAAAAAAAAAAAAAAAAAAAAAAAAAAAAAAAAAAAAAAAAAAAAAAAAAAAAAAAAAAAAAAAAAAAAAAAAAAAAAAAAAAAAAAAAAAAAAAAAAAAAAAAAAAAAAAAAAAAAAAAAAAAAAAAAAAAAAAAAAAAAAAAAAAAAAAAAAAAAAAAAAAAAAAAAAAAAAAAAAAAAAAAAAAAAAAAAAAAAAAAAAAAAAAAAAAAAAAAAAAAAAAAAAAAAAAAAAAAAAAAAAAAAAAAAAAAAAAAAAAAAAAAAAAAAAAAAAAAAAAAAAAAAAAAAAAAAAAAAAAAAAAAAAAAAAAAAAAAAAAAAAAAAAAAAAAAAAAAAAAAAAAAAAAAAAAAAAAAAAAAAAAAAAAAAAAAAAAAAAAAAAAAAAAAAAAAAAAAAAAAAAAAAAAAAAAAAAAAAAAAAAAAAAAAAAAAAAAAAAAAAAAAAAAAAAAAAAAAAAAAAAAAAAAAAAAAAAAAAAAAAAAAAAAAAAAAAAAAAAAAAAAAAAAAAAAAAAAAAAAAAAAAAAAAAAAAAAAAAAAAAAAAAAAAAAAAAAAAAAAAAAAAAAAAAAAAAAAAAAAAAAAAAAAAAAAAAAAAAAAAAAAAAAAAAAAAAAAAAAAAAAAAAAAAAAAAAAAAAAAAAAAAAAAAAAAAAAAAAAAAAAAAAAAAAAAAAAAAAAAAAAAAAAAAAAAAAAAAAAAAAAAAAAAAAAAAAAAAAAAAAAAAAAAAAAAAAAAAAAAAAAAAAAAAAAAAAAAAAAAAAAAAAAAAAAAAAAAAAAAAAAAAAAAAAAAAAAAAAAAAAAAAAAAAAAAAAAAAAAAAAAAAAAAAAAAAAAAAAAAAAAAAAAAAAAAAAAAAAAAAAAAAAAAAAAAAAAAAAAAAAAAAAAAAAAAAAAAAAAAAAAAAAAAAAAAAAAAAAAAAAAAAAAAAAAAAAAAAAAAAAAAAAAAAAAAAAAAAAAAAAAAAAAAAAAAAAAAAAAAAAAAAAAAAAAAAAAAAAAAAAAAAAAAAAAAAAAAAAAAAAAAAAAAAAAAAAAAAAAAAAAAAAAAAAAAAAAAAAAAAAAAAAAAAAAAAAAAAAAAAAAAAAAAAAAAAAAAAAAAAAAAAAAAAAAAAAAAAAAAAAAAAAAAAAAAAAAAAAAAAAAAAAAAAAAAAAAAAAAAAAAAAAAAAAAAAAAAAAAAAAAAAAAAAAAAAAAAAAAAAAAAAAAAAAAAAAAAAAAAAAAAAAAAAAAAAAAAAAAAAAAAAAAAAAAAAAAAAAAAAAAAAAAAAAAAAAAAAAAAAAAAAAAAAAAAAAAAAAAAAAAAAAAAAAAAAAAAAAAAAAAAAAAAAAAAAAAAAAAAAAAAAAAAAAAAAAAAAAAAAAAAAAAAAAAAAAAAAAAAAAAAAAAAAAAAAAAAAAAAAAAAAAAAAAAAAAAAAAAAAAAAAAAAAAAAAAAAAAAAAAAAAAAAAAAAAAAAAAAAAAAAAAAAAAAAAAAAAAAAAAAAAAAAAAAAAAAAAAAAAAAAAAAAAAAAAAAAAAAAAAAAAAAAAAAAAAAAAAAAAAAAAAAAAAAAAAAAAAAAAAAAAAAAAAAAAAAAAAAAAAAAAAAAAAAAAAAAAAAAAAAAAAAAAAAAAAAAAAAAAAAAAAAAAAAAAAAAAAAAAAAAAAAAAAAAAAAAAAAAAAAAAAAAAAAAAAAAAAAAAAAAAAAAAAAAAAAAAAAAAAAAAAAAAAAAAAAAAAAAAAAAAAAAAAAAAAAAAAAAAAAAAAAAAAAAAAAAAAAAAAAAAAAAAAAAAAAAAAAAAAAAAAAAAAAAAAAAAAAAAAAAAAAAAAAAAAAAAAAAAAAAAAAAAAAAAAAAAAAAAAAAAAAAAAAAAAAAAAAAAAAAAAAAAAAAAAAAAAAAAAAAAAAAAAAAAAAAAAAAAAAAAAAAAAAAAAAAAAAAAAAAAAAAAAAAAAAAAAAAAAAAAAAAAAAAAAAAAAAAAAAAAAAAAAAAAAAAAAAAAAAAAAAAAAAAAAAAAAAAAAAAAAAAAAAAAAAAAAAAAAAAAAAAAAAAAAAAAAAAAAAAAAAAAAAAAAAAAAAAAAAAAAAAAAAAAAAAAAAAAAAAAAAAAAAAAAAAAAAAAAAAAAAAAAAAAAAAAAAAAAAAAAAAAAAAAAAAAAAAAAAAAAAAAAAAAAAAAAAAAAAAAAAAAAAAAAAAAAAAAAAAAAAAAAAAAAAAAAAAAAAAAAAAAAAAAAAAAAAAAAAAAAAAAAAAAAAAAAAAAAAAAAAAAAAAAAAAAAAAAAAAAAAAAAAAAAAAAAAAAAAAAAAAAAAAAAAAAAAAAAAAAAAAAAAAAAAAAAAAAAAAAAAAAAAAAAAAAAAAAAAAAAAAAAAAAAAAAAAAAAAAAAAAAAAAAAAAAAA=",
          "dtype": "f8",
          "shape": "20, 20"
         },
         "type": "surface",
         "visible": true,
         "x": {
          "bdata": "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",
          "dtype": "f8",
          "shape": "20, 20"
         },
         "y": {
          "bdata": "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",
          "dtype": "f8",
          "shape": "20, 20"
         },
         "z": {
          "bdata": "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",
          "dtype": "f8",
          "shape": "20, 20"
         }
        },
        {
         "colorscale": [
          [
           0,
           "rgb(255, 165, 0)"
          ],
          [
           1,
           "rgb(255, 165, 0)"
          ]
         ],
         "hoverinfo": "skip",
         "name": "Cluster 4 Boundary",
         "opacity": 0.07,
         "showlegend": false,
         "showscale": false,
         "surfacecolor": {
          "bdata": "AAAAAAAAAAAAAAAAAAAAAAAAAAAAAAAAAAAAAAAAAAAAAAAAAAAAAAAAAAAAAAAAAAAAAAAAAAAAAAAAAAAAAAAAAAAAAAAAAAAAAAAAAAAAAAAAAAAAAAAAAAAAAAAAAAAAAAAAAAAAAAAAAAAAAAAAAAAAAAAAAAAAAAAAAAAAAAAAAAAAAAAAAAAAAAAAAAAAAAAAAAAAAAAAAAAAAAAAAAAAAAAAAAAAAAAAAAAAAAAAAAAAAAAAAAAAAAAAAAAAAAAAAAAAAAAAAAAAAAAAAAAAAAAAAAAAAAAAAAAAAAAAAAAAAAAAAAAAAAAAAAAAAAAAAAAAAAAAAAAAAAAAAAAAAAAAAAAAAAAAAAAAAAAAAAAAAAAAAAAAAAAAAAAAAAAAAAAAAAAAAAAAAAAAAAAAAAAAAAAAAAAAAAAAAAAAAAAAAAAAAAAAAAAAAAAAAAAAAAAAAAAAAAAAAAAAAAAAAAAAAAAAAAAAAAAAAAAAAAAAAAAAAAAAAAAAAAAAAAAAAAAAAAAAAAAAAAAAAAAAAAAAAAAAAAAAAAAAAAAAAAAAAAAAAAAAAAAAAAAAAAAAAAAAAAAAAAAAAAAAAAAAAAAAAAAAAAAAAAAAAAAAAAAAAAAAAAAAAAAAAAAAAAAAAAAAAAAAAAAAAAAAAAAAAAAAAAAAAAAAAAAAAAAAAAAAAAAAAAAAAAAAAAAAAAAAAAAAAAAAAAAAAAAAAAAAAAAAAAAAAAAAAAAAAAAAAAAAAAAAAAAAAAAAAAAAAAAAAAAAAAAAAAAAAAAAAAAAAAAAAAAAAAAAAAAAAAAAAAAAAAAAAAAAAAAAAAAAAAAAAAAAAAAAAAAAAAAAAAAAAAAAAAAAAAAAAAAAAAAAAAAAAAAAAAAAAAAAAAAAAAAAAAAAAAAAAAAAAAAAAAAAAAAAAAAAAAAAAAAAAAAAAAAAAAAAAAAAAAAAAAAAAAAAAAAAAAAAAAAAAAAAAAAAAAAAAAAAAAAAAAAAAAAAAAAAAAAAAAAAAAAAAAAAAAAAAAAAAAAAAAAAAAAAAAAAAAAAAAAAAAAAAAAAAAAAAAAAAAAAAAAAAAAAAAAAAAAAAAAAAAAAAAAAAAAAAAAAAAAAAAAAAAAAAAAAAAAAAAAAAAAAAAAAAAAAAAAAAAAAAAAAAAAAAAAAAAAAAAAAAAAAAAAAAAAAAAAAAAAAAAAAAAAAAAAAAAAAAAAAAAAAAAAAAAAAAAAAAAAAAAAAAAAAAAAAAAAAAAAAAAAAAAAAAAAAAAAAAAAAAAAAAAAAAAAAAAAAAAAAAAAAAAAAAAAAAAAAAAAAAAAAAAAAAAAAAAAAAAAAAAAAAAAAAAAAAAAAAAAAAAAAAAAAAAAAAAAAAAAAAAAAAAAAAAAAAAAAAAAAAAAAAAAAAAAAAAAAAAAAAAAAAAAAAAAAAAAAAAAAAAAAAAAAAAAAAAAAAAAAAAAAAAAAAAAAAAAAAAAAAAAAAAAAAAAAAAAAAAAAAAAAAAAAAAAAAAAAAAAAAAAAAAAAAAAAAAAAAAAAAAAAAAAAAAAAAAAAAAAAAAAAAAAAAAAAAAAAAAAAAAAAAAAAAAAAAAAAAAAAAAAAAAAAAAAAAAAAAAAAAAAAAAAAAAAAAAAAAAAAAAAAAAAAAAAAAAAAAAAAAAAAAAAAAAAAAAAAAAAAAAAAAAAAAAAAAAAAAAAAAAAAAAAAAAAAAAAAAAAAAAAAAAAAAAAAAAAAAAAAAAAAAAAAAAAAAAAAAAAAAAAAAAAAAAAAAAAAAAAAAAAAAAAAAAAAAAAAAAAAAAAAAAAAAAAAAAAAAAAAAAAAAAAAAAAAAAAAAAAAAAAAAAAAAAAAAAAAAAAAAAAAAAAAAAAAAAAAAAAAAAAAAAAAAAAAAAAAAAAAAAAAAAAAAAAAAAAAAAAAAAAAAAAAAAAAAAAAAAAAAAAAAAAAAAAAAAAAAAAAAAAAAAAAAAAAAAAAAAAAAAAAAAAAAAAAAAAAAAAAAAAAAAAAAAAAAAAAAAAAAAAAAAAAAAAAAAAAAAAAAAAAAAAAAAAAAAAAAAAAAAAAAAAAAAAAAAAAAAAAAAAAAAAAAAAAAAAAAAAAAAAAAAAAAAAAAAAAAAAAAAAAAAAAAAAAAAAAAAAAAAAAAAAAAAAAAAAAAAAAAAAAAAAAAAAAAAAAAAAAAAAAAAAAAAAAAAAAAAAAAAAAAAAAAAAAAAAAAAAAAAAAAAAAAAAAAAAAAAAAAAAAAAAAAAAAAAAAAAAAAAAAAAAAAAAAAAAAAAAAAAAAAAAAAAAAAAAAAAAAAAAAAAAAAAAAAAAAAAAAAAAAAAAAAAAAAAAAAAAAAAAAAAAAAAAAAAAAAAAAAAAAAAAAAAAAAAAAAAAAAAAAAAAAAAAAAAAAAAAAAAAAAAAAAAAAAAAAAAAAAAAAAAAAAAAAAAAAAAAAAAAAAAAAAAAAAAAAAAAAAAAAAAAAAAAAAAAAAAAAAAAAAAAAAAAAAAAAAAAAAAAAAAAAAAAAAAAAAAAAAAAAAAAAAAAAAAAAAAAAAAAAAAAAAAAAAAAAAAAAAAAAAAAAAAAAAAAAAAAAAAAAAAAAAAAAAAAAAAAAAAAAAAAAAAAAAAAAAAAAAAAAAAAAAAAAAAAAAAAAAAAAAAAAAAAAAAAAAAAAAAAAAAAAAAAAAAAAAAAAAAAAAAAAAAAAAAAAAAAAAAAAAAAAAAAAAAAAAAAAAAAAAAAAAAAAAAAAAAAAAAAAAAAAAAAAAAAAAAAAAAAAAAAAAAAAAAAAAAAAAAAAAAAAAAAAAAAAAAAAAAAAAAAAAAAAAAAAAAAAAAAAAAAAAAAAAAAAAAAAAAAAAAAAAAAAAAAAAAAAAAAAAAAAAAAAAAAAAAAAAAAAAAAAAAAAAAAAAAAAAAAAAAAAAAAAAAAAAAAAAAAAAAAAAAAAAAAAAAAAAAAAAAAAAAAAAAAAAAAAAAAAAAAAAAAAAAAAAAAAAAAAAAAAAAAAAAAAAAAAAAAAAAAAAAAAAAAAAAAAAAAAAAAAAAAAAAAAAAAAAAAAAAAAAAAAAAAAAAAAAAAAAAAAAAAAAAAAAAAAAAAAAAAAAAAAAAAAAAAAAAAAAAAAAAAAAAAAAAAAAAAAAAAAAAAAAAAAAAAAAAAAAAAAAAAAAAAAAAAAAAAAAAAAAAAAAAAAAAAAAAAAAAAAAAAAAAAAAAAAAAAAAAAAAAAAAAAAAAAAAAAAAAAAAAAAAAAAAAAAAAAAAAAAAAAAAAAAAAAAAAAAAAAAAAAAAAAAAAAAAAAAAAAAAAAAAAAAAAAAAAAAAAAAAAAAAAAAAAAAAAAAAAAAAAAAAAAAAAAAAAAAAAAAAAAAAAAAAAAAAAAAAAAAAAAAAAAAAAAAAAAAAAAAAAAAAAAAAAAAAAAAAAAAAAAAAAAAAAAAAAAAAAAAAAAAAAAAAAAAAAAAAAAAAAAAAAAAAAAAAAAAAAAAAAAAAAAAAAAAAAAAAAAAAAAAAAAAAAAAAAAAAAAAAAAAAAAAAAAAAAAAAAAAAAAAAAAAAAAAAAAAAAAAAAAAAAAAAAAAAAAAAAAAAAAAAAAAAAAAAAAAAAAAAAAAAAAAAAAAAAAAAAAAAAAAAAAAAAAAAAAAAAAAAAAAAAAAAAAAAAAAAAAAAAAAAAAAAAAAAAAAAAAAAAAAAAAAAAAAAAAAAAAAAAAAAAAAAAAAAAAAAAAAAAAAAAAAAAAAAAAAAAAAAAAAAAAAAAAAAAAAAAAAAAAAAAAAAAAAAAAAAAAAAAAAAAAAAAAAAAAAAAAAAAAAAAAAAAAAAAAAAAAAAAAAAAAAAAAAAAAAAAAAAAAAAAAAAAAAAAAAAAAAAAAAAAAAAAAAAAAAAAAAAAAAAAAAAAAAAAAAAAAAAAAAAAAAAAAAAAAAAAAAAAAAAAAAAAAAAAAAAAAAAAAAAAAAAAAAAAAAAAAAAAAAAAAAAAAAAAAAAAAAAAAAAAAAAAAAAAAAAAAAAAAAAAAAAAAAAAAAAAAAAAAAAAAAAAAAAAAAAAAAAAAAAAAAAAAAAAAAAAAAAAAAAAAAAAAAAAAAAAAAAAAAAAAAAAAAAAAAAAAAAAAAAAAAAAAAAAAAAAAAAAAAAAAAAAAAAAAAAAAAAAAAAAAAAAAAAAAAAAAAAAAAAAAAAAAAAAAAAAAAAAAAAAAAAAAAAAAAAAAAAAAAAAAAAAAAAAAAAAAAAAAAAAAAAAAAAAAAAAAAAAAAAAAAAAAAAAAAAAAAAAAAAAAAAAAAAAAAAAA=",
          "dtype": "f8",
          "shape": "20, 20"
         },
         "type": "surface",
         "visible": true,
         "x": {
          "bdata": "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",
          "dtype": "f8",
          "shape": "20, 20"
         },
         "y": {
          "bdata": "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",
          "dtype": "f8",
          "shape": "20, 20"
         },
         "z": {
          "bdata": "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",
          "dtype": "f8",
          "shape": "20, 20"
         }
        },
        {
         "colorscale": [
          [
           0,
           "rgb(128, 0, 128)"
          ],
          [
           1,
           "rgb(128, 0, 128)"
          ]
         ],
         "hoverinfo": "skip",
         "name": "Cluster 5 Boundary",
         "opacity": 0.07,
         "showlegend": false,
         "showscale": false,
         "surfacecolor": {
          "bdata": "AAAAAAAAAAAAAAAAAAAAAAAAAAAAAAAAAAAAAAAAAAAAAAAAAAAAAAAAAAAAAAAAAAAAAAAAAAAAAAAAAAAAAAAAAAAAAAAAAAAAAAAAAAAAAAAAAAAAAAAAAAAAAAAAAAAAAAAAAAAAAAAAAAAAAAAAAAAAAAAAAAAAAAAAAAAAAAAAAAAAAAAAAAAAAAAAAAAAAAAAAAAAAAAAAAAAAAAAAAAAAAAAAAAAAAAAAAAAAAAAAAAAAAAAAAAAAAAAAAAAAAAAAAAAAAAAAAAAAAAAAAAAAAAAAAAAAAAAAAAAAAAAAAAAAAAAAAAAAAAAAAAAAAAAAAAAAAAAAAAAAAAAAAAAAAAAAAAAAAAAAAAAAAAAAAAAAAAAAAAAAAAAAAAAAAAAAAAAAAAAAAAAAAAAAAAAAAAAAAAAAAAAAAAAAAAAAAAAAAAAAAAAAAAAAAAAAAAAAAAAAAAAAAAAAAAAAAAAAAAAAAAAAAAAAAAAAAAAAAAAAAAAAAAAAAAAAAAAAAAAAAAAAAAAAAAAAAAAAAAAAAAAAAAAAAAAAAAAAAAAAAAAAAAAAAAAAAAAAAAAAAAAAAAAAAAAAAAAAAAAAAAAAAAAAAAAAAAAAAAAAAAAAAAAAAAAAAAAAAAAAAAAAAAAAAAAAAAAAAAAAAAAAAAAAAAAAAAAAAAAAAAAAAAAAAAAAAAAAAAAAAAAAAAAAAAAAAAAAAAAAAAAAAAAAAAAAAAAAAAAAAAAAAAAAAAAAAAAAAAAAAAAAAAAAAAAAAAAAAAAAAAAAAAAAAAAAAAAAAAAAAAAAAAAAAAAAAAAAAAAAAAAAAAAAAAAAAAAAAAAAAAAAAAAAAAAAAAAAAAAAAAAAAAAAAAAAAAAAAAAAAAAAAAAAAAAAAAAAAAAAAAAAAAAAAAAAAAAAAAAAAAAAAAAAAAAAAAAAAAAAAAAAAAAAAAAAAAAAAAAAAAAAAAAAAAAAAAAAAAAAAAAAAAAAAAAAAAAAAAAAAAAAAAAAAAAAAAAAAAAAAAAAAAAAAAAAAAAAAAAAAAAAAAAAAAAAAAAAAAAAAAAAAAAAAAAAAAAAAAAAAAAAAAAAAAAAAAAAAAAAAAAAAAAAAAAAAAAAAAAAAAAAAAAAAAAAAAAAAAAAAAAAAAAAAAAAAAAAAAAAAAAAAAAAAAAAAAAAAAAAAAAAAAAAAAAAAAAAAAAAAAAAAAAAAAAAAAAAAAAAAAAAAAAAAAAAAAAAAAAAAAAAAAAAAAAAAAAAAAAAAAAAAAAAAAAAAAAAAAAAAAAAAAAAAAAAAAAAAAAAAAAAAAAAAAAAAAAAAAAAAAAAAAAAAAAAAAAAAAAAAAAAAAAAAAAAAAAAAAAAAAAAAAAAAAAAAAAAAAAAAAAAAAAAAAAAAAAAAAAAAAAAAAAAAAAAAAAAAAAAAAAAAAAAAAAAAAAAAAAAAAAAAAAAAAAAAAAAAAAAAAAAAAAAAAAAAAAAAAAAAAAAAAAAAAAAAAAAAAAAAAAAAAAAAAAAAAAAAAAAAAAAAAAAAAAAAAAAAAAAAAAAAAAAAAAAAAAAAAAAAAAAAAAAAAAAAAAAAAAAAAAAAAAAAAAAAAAAAAAAAAAAAAAAAAAAAAAAAAAAAAAAAAAAAAAAAAAAAAAAAAAAAAAAAAAAAAAAAAAAAAAAAAAAAAAAAAAAAAAAAAAAAAAAAAAAAAAAAAAAAAAAAAAAAAAAAAAAAAAAAAAAAAAAAAAAAAAAAAAAAAAAAAAAAAAAAAAAAAAAAAAAAAAAAAAAAAAAAAAAAAAAAAAAAAAAAAAAAAAAAAAAAAAAAAAAAAAAAAAAAAAAAAAAAAAAAAAAAAAAAAAAAAAAAAAAAAAAAAAAAAAAAAAAAAAAAAAAAAAAAAAAAAAAAAAAAAAAAAAAAAAAAAAAAAAAAAAAAAAAAAAAAAAAAAAAAAAAAAAAAAAAAAAAAAAAAAAAAAAAAAAAAAAAAAAAAAAAAAAAAAAAAAAAAAAAAAAAAAAAAAAAAAAAAAAAAAAAAAAAAAAAAAAAAAAAAAAAAAAAAAAAAAAAAAAAAAAAAAAAAAAAAAAAAAAAAAAAAAAAAAAAAAAAAAAAAAAAAAAAAAAAAAAAAAAAAAAAAAAAAAAAAAAAAAAAAAAAAAAAAAAAAAAAAAAAAAAAAAAAAAAAAAAAAAAAAAAAAAAAAAAAAAAAAAAAAAAAAAAAAAAAAAAAAAAAAAAAAAAAAAAAAAAAAAAAAAAAAAAAAAAAAAAAAAAAAAAAAAAAAAAAAAAAAAAAAAAAAAAAAAAAAAAAAAAAAAAAAAAAAAAAAAAAAAAAAAAAAAAAAAAAAAAAAAAAAAAAAAAAAAAAAAAAAAAAAAAAAAAAAAAAAAAAAAAAAAAAAAAAAAAAAAAAAAAAAAAAAAAAAAAAAAAAAAAAAAAAAAAAAAAAAAAAAAAAAAAAAAAAAAAAAAAAAAAAAAAAAAAAAAAAAAAAAAAAAAAAAAAAAAAAAAAAAAAAAAAAAAAAAAAAAAAAAAAAAAAAAAAAAAAAAAAAAAAAAAAAAAAAAAAAAAAAAAAAAAAAAAAAAAAAAAAAAAAAAAAAAAAAAAAAAAAAAAAAAAAAAAAAAAAAAAAAAAAAAAAAAAAAAAAAAAAAAAAAAAAAAAAAAAAAAAAAAAAAAAAAAAAAAAAAAAAAAAAAAAAAAAAAAAAAAAAAAAAAAAAAAAAAAAAAAAAAAAAAAAAAAAAAAAAAAAAAAAAAAAAAAAAAAAAAAAAAAAAAAAAAAAAAAAAAAAAAAAAAAAAAAAAAAAAAAAAAAAAAAAAAAAAAAAAAAAAAAAAAAAAAAAAAAAAAAAAAAAAAAAAAAAAAAAAAAAAAAAAAAAAAAAAAAAAAAAAAAAAAAAAAAAAAAAAAAAAAAAAAAAAAAAAAAAAAAAAAAAAAAAAAAAAAAAAAAAAAAAAAAAAAAAAAAAAAAAAAAAAAAAAAAAAAAAAAAAAAAAAAAAAAAAAAAAAAAAAAAAAAAAAAAAAAAAAAAAAAAAAAAAAAAAAAAAAAAAAAAAAAAAAAAAAAAAAAAAAAAAAAAAAAAAAAAAAAAAAAAAAAAAAAAAAAAAAAAAAAAAAAAAAAAAAAAAAAAAAAAAAAAAAAAAAAAAAAAAAAAAAAAAAAAAAAAAAAAAAAAAAAAAAAAAAAAAAAAAAAAAAAAAAAAAAAAAAAAAAAAAAAAAAAAAAAAAAAAAAAAAAAAAAAAAAAAAAAAAAAAAAAAAAAAAAAAAAAAAAAAAAAAAAAAAAAAAAAAAAAAAAAAAAAAAAAAAAAAAAAAAAAAAAAAAAAAAAAAAAAAAAAAAAAAAAAAAAAAAAAAAAAAAAAAAAAAAAAAAAAAAAAAAAAAAAAAAAAAAAAAAAAAAAAAAAAAAAAAAAAAAAAAAAAAAAAAAAAAAAAAAAAAAAAAAAAAAAAAAAAAAAAAAAAAAAAAAAAAAAAAAAAAAAAAAAAAAAAAAAAAAAAAAAAAAAAAAAAAAAAAAAAAAAAAAAAAAAAAAAAAAAAAAAAAAAAAAAAAAAAAAAAAAAAAAAAAAAAAAAAAAAAAAAAAAAAAAAAAAAAAAAAAAAAAAAAAAAAAAAAAAAAAAAAAAAAAAAAAAAAAAAAAAAAAAAAAAAAAAAAAAAAAAAAAAAAAAAAAAAAAAAAAAAAAAAAAAAAAAAAAAAAAAAAAAAAAAAAAAAAAAAAAAAAAAAAAAAAAAAAAAAAAAAAAAAAAAAAAAAAAAAAAAAAAAAAAAAAAAAAAAAAAAAAAAAAAAAAAAAAAAAAAAAAAAAAAAAAAAAAAAAAAAAAAAAAAAAAAAAAAAAAAAAAAAAAAAAAAAAAAAAAAAAAAAAAAAAAAAAAAAAAAAAAAAAAAAAAAAAAAAAAAAAAAAAAAAAAAAAAAAAAAAAAAAAAAAAAAAAAAAAAAAAAAAAAAAAAAAAAAAAAAAAAAAAAAAAAAAAAAAAAAAAAAAAAAAAAAAAAAAAAAAAAAAAAAAAAAAAAAAAAAAAAAAAAAAAAAAAAAAAAAAAAAAAAAAAAAAAAAAAAAAAAAAAAAAAAAAAAAAAAAAAAAAAAAAAAAAAAAAAAAAAAAAAAAAAAAAAAAAAAAAAAAAAAAAAAAAAAAAAAAAAAAAAAAAAAAAAAAAAAAAAAAAAAAAAAAAAAAAAAAAAAAAAAAAAAAAAAAAAAAAAAAAAAAAAAAAAAAAAAAAAAAAAAAAAAAAAAAAAAAAAAAAAAAAAAAAAAAAAAAAAAAAAAAAAAAAAAAAAAAAAAAAAAAAAAAA=",
          "dtype": "f8",
          "shape": "20, 20"
         },
         "type": "surface",
         "visible": true,
         "x": {
          "bdata": "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",
          "dtype": "f8",
          "shape": "20, 20"
         },
         "y": {
          "bdata": "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",
          "dtype": "f8",
          "shape": "20, 20"
         },
         "z": {
          "bdata": "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",
          "dtype": "f8",
          "shape": "20, 20"
         }
        }
       ],
       "layout": {
        "height": 700,
        "legend": {
         "x": 0.85,
         "xanchor": "right",
         "y": 0.9,
         "yanchor": "top"
        },
        "margin": {
         "b": 8,
         "l": 8,
         "r": 8,
         "t": 60
        },
        "scene": {
         "aspectmode": "cube",
         "xaxis": {
          "title": {
           "text": "x"
          }
         },
         "yaxis": {
          "title": {
           "text": "y"
          }
         },
         "zaxis": {
          "title": {
           "text": "z"
          }
         }
        },
        "template": {
         "data": {
          "bar": [
           {
            "error_x": {
             "color": "#2a3f5f"
            },
            "error_y": {
             "color": "#2a3f5f"
            },
            "marker": {
             "line": {
              "color": "#E5ECF6",
              "width": 0.5
             },
             "pattern": {
              "fillmode": "overlay",
              "size": 10,
              "solidity": 0.2
             }
            },
            "type": "bar"
           }
          ],
          "barpolar": [
           {
            "marker": {
             "line": {
              "color": "#E5ECF6",
              "width": 0.5
             },
             "pattern": {
              "fillmode": "overlay",
              "size": 10,
              "solidity": 0.2
             }
            },
            "type": "barpolar"
           }
          ],
          "carpet": [
           {
            "aaxis": {
             "endlinecolor": "#2a3f5f",
             "gridcolor": "white",
             "linecolor": "white",
             "minorgridcolor": "white",
             "startlinecolor": "#2a3f5f"
            },
            "baxis": {
             "endlinecolor": "#2a3f5f",
             "gridcolor": "white",
             "linecolor": "white",
             "minorgridcolor": "white",
             "startlinecolor": "#2a3f5f"
            },
            "type": "carpet"
           }
          ],
          "choropleth": [
           {
            "colorbar": {
             "outlinewidth": 0,
             "ticks": ""
            },
            "type": "choropleth"
           }
          ],
          "contour": [
           {
            "colorbar": {
             "outlinewidth": 0,
             "ticks": ""
            },
            "colorscale": [
             [
              0,
              "#0d0887"
             ],
             [
              0.1111111111111111,
              "#46039f"
             ],
             [
              0.2222222222222222,
              "#7201a8"
             ],
             [
              0.3333333333333333,
              "#9c179e"
             ],
             [
              0.4444444444444444,
              "#bd3786"
             ],
             [
              0.5555555555555556,
              "#d8576b"
             ],
             [
              0.6666666666666666,
              "#ed7953"
             ],
             [
              0.7777777777777778,
              "#fb9f3a"
             ],
             [
              0.8888888888888888,
              "#fdca26"
             ],
             [
              1,
              "#f0f921"
             ]
            ],
            "type": "contour"
           }
          ],
          "contourcarpet": [
           {
            "colorbar": {
             "outlinewidth": 0,
             "ticks": ""
            },
            "type": "contourcarpet"
           }
          ],
          "heatmap": [
           {
            "colorbar": {
             "outlinewidth": 0,
             "ticks": ""
            },
            "colorscale": [
             [
              0,
              "#0d0887"
             ],
             [
              0.1111111111111111,
              "#46039f"
             ],
             [
              0.2222222222222222,
              "#7201a8"
             ],
             [
              0.3333333333333333,
              "#9c179e"
             ],
             [
              0.4444444444444444,
              "#bd3786"
             ],
             [
              0.5555555555555556,
              "#d8576b"
             ],
             [
              0.6666666666666666,
              "#ed7953"
             ],
             [
              0.7777777777777778,
              "#fb9f3a"
             ],
             [
              0.8888888888888888,
              "#fdca26"
             ],
             [
              1,
              "#f0f921"
             ]
            ],
            "type": "heatmap"
           }
          ],
          "histogram": [
           {
            "marker": {
             "pattern": {
              "fillmode": "overlay",
              "size": 10,
              "solidity": 0.2
             }
            },
            "type": "histogram"
           }
          ],
          "histogram2d": [
           {
            "colorbar": {
             "outlinewidth": 0,
             "ticks": ""
            },
            "colorscale": [
             [
              0,
              "#0d0887"
             ],
             [
              0.1111111111111111,
              "#46039f"
             ],
             [
              0.2222222222222222,
              "#7201a8"
             ],
             [
              0.3333333333333333,
              "#9c179e"
             ],
             [
              0.4444444444444444,
              "#bd3786"
             ],
             [
              0.5555555555555556,
              "#d8576b"
             ],
             [
              0.6666666666666666,
              "#ed7953"
             ],
             [
              0.7777777777777778,
              "#fb9f3a"
             ],
             [
              0.8888888888888888,
              "#fdca26"
             ],
             [
              1,
              "#f0f921"
             ]
            ],
            "type": "histogram2d"
           }
          ],
          "histogram2dcontour": [
           {
            "colorbar": {
             "outlinewidth": 0,
             "ticks": ""
            },
            "colorscale": [
             [
              0,
              "#0d0887"
             ],
             [
              0.1111111111111111,
              "#46039f"
             ],
             [
              0.2222222222222222,
              "#7201a8"
             ],
             [
              0.3333333333333333,
              "#9c179e"
             ],
             [
              0.4444444444444444,
              "#bd3786"
             ],
             [
              0.5555555555555556,
              "#d8576b"
             ],
             [
              0.6666666666666666,
              "#ed7953"
             ],
             [
              0.7777777777777778,
              "#fb9f3a"
             ],
             [
              0.8888888888888888,
              "#fdca26"
             ],
             [
              1,
              "#f0f921"
             ]
            ],
            "type": "histogram2dcontour"
           }
          ],
          "mesh3d": [
           {
            "colorbar": {
             "outlinewidth": 0,
             "ticks": ""
            },
            "type": "mesh3d"
           }
          ],
          "parcoords": [
           {
            "line": {
             "colorbar": {
              "outlinewidth": 0,
              "ticks": ""
             }
            },
            "type": "parcoords"
           }
          ],
          "pie": [
           {
            "automargin": true,
            "type": "pie"
           }
          ],
          "scatter": [
           {
            "fillpattern": {
             "fillmode": "overlay",
             "size": 10,
             "solidity": 0.2
            },
            "type": "scatter"
           }
          ],
          "scatter3d": [
           {
            "line": {
             "colorbar": {
              "outlinewidth": 0,
              "ticks": ""
             }
            },
            "marker": {
             "colorbar": {
              "outlinewidth": 0,
              "ticks": ""
             }
            },
            "type": "scatter3d"
           }
          ],
          "scattercarpet": [
           {
            "marker": {
             "colorbar": {
              "outlinewidth": 0,
              "ticks": ""
             }
            },
            "type": "scattercarpet"
           }
          ],
          "scattergeo": [
           {
            "marker": {
             "colorbar": {
              "outlinewidth": 0,
              "ticks": ""
             }
            },
            "type": "scattergeo"
           }
          ],
          "scattergl": [
           {
            "marker": {
             "colorbar": {
              "outlinewidth": 0,
              "ticks": ""
             }
            },
            "type": "scattergl"
           }
          ],
          "scattermap": [
           {
            "marker": {
             "colorbar": {
              "outlinewidth": 0,
              "ticks": ""
             }
            },
            "type": "scattermap"
           }
          ],
          "scattermapbox": [
           {
            "marker": {
             "colorbar": {
              "outlinewidth": 0,
              "ticks": ""
             }
            },
            "type": "scattermapbox"
           }
          ],
          "scatterpolar": [
           {
            "marker": {
             "colorbar": {
              "outlinewidth": 0,
              "ticks": ""
             }
            },
            "type": "scatterpolar"
           }
          ],
          "scatterpolargl": [
           {
            "marker": {
             "colorbar": {
              "outlinewidth": 0,
              "ticks": ""
             }
            },
            "type": "scatterpolargl"
           }
          ],
          "scatterternary": [
           {
            "marker": {
             "colorbar": {
              "outlinewidth": 0,
              "ticks": ""
             }
            },
            "type": "scatterternary"
           }
          ],
          "surface": [
           {
            "colorbar": {
             "outlinewidth": 0,
             "ticks": ""
            },
            "colorscale": [
             [
              0,
              "#0d0887"
             ],
             [
              0.1111111111111111,
              "#46039f"
             ],
             [
              0.2222222222222222,
              "#7201a8"
             ],
             [
              0.3333333333333333,
              "#9c179e"
             ],
             [
              0.4444444444444444,
              "#bd3786"
             ],
             [
              0.5555555555555556,
              "#d8576b"
             ],
             [
              0.6666666666666666,
              "#ed7953"
             ],
             [
              0.7777777777777778,
              "#fb9f3a"
             ],
             [
              0.8888888888888888,
              "#fdca26"
             ],
             [
              1,
              "#f0f921"
             ]
            ],
            "type": "surface"
           }
          ],
          "table": [
           {
            "cells": {
             "fill": {
              "color": "#EBF0F8"
             },
             "line": {
              "color": "white"
             }
            },
            "header": {
             "fill": {
              "color": "#C8D4E3"
             },
             "line": {
              "color": "white"
             }
            },
            "type": "table"
           }
          ]
         },
         "layout": {
          "annotationdefaults": {
           "arrowcolor": "#2a3f5f",
           "arrowhead": 0,
           "arrowwidth": 1
          },
          "autotypenumbers": "strict",
          "coloraxis": {
           "colorbar": {
            "outlinewidth": 0,
            "ticks": ""
           }
          },
          "colorscale": {
           "diverging": [
            [
             0,
             "#8e0152"
            ],
            [
             0.1,
             "#c51b7d"
            ],
            [
             0.2,
             "#de77ae"
            ],
            [
             0.3,
             "#f1b6da"
            ],
            [
             0.4,
             "#fde0ef"
            ],
            [
             0.5,
             "#f7f7f7"
            ],
            [
             0.6,
             "#e6f5d0"
            ],
            [
             0.7,
             "#b8e186"
            ],
            [
             0.8,
             "#7fbc41"
            ],
            [
             0.9,
             "#4d9221"
            ],
            [
             1,
             "#276419"
            ]
           ],
           "sequential": [
            [
             0,
             "#0d0887"
            ],
            [
             0.1111111111111111,
             "#46039f"
            ],
            [
             0.2222222222222222,
             "#7201a8"
            ],
            [
             0.3333333333333333,
             "#9c179e"
            ],
            [
             0.4444444444444444,
             "#bd3786"
            ],
            [
             0.5555555555555556,
             "#d8576b"
            ],
            [
             0.6666666666666666,
             "#ed7953"
            ],
            [
             0.7777777777777778,
             "#fb9f3a"
            ],
            [
             0.8888888888888888,
             "#fdca26"
            ],
            [
             1,
             "#f0f921"
            ]
           ],
           "sequentialminus": [
            [
             0,
             "#0d0887"
            ],
            [
             0.1111111111111111,
             "#46039f"
            ],
            [
             0.2222222222222222,
             "#7201a8"
            ],
            [
             0.3333333333333333,
             "#9c179e"
            ],
            [
             0.4444444444444444,
             "#bd3786"
            ],
            [
             0.5555555555555556,
             "#d8576b"
            ],
            [
             0.6666666666666666,
             "#ed7953"
            ],
            [
             0.7777777777777778,
             "#fb9f3a"
            ],
            [
             0.8888888888888888,
             "#fdca26"
            ],
            [
             1,
             "#f0f921"
            ]
           ]
          },
          "colorway": [
           "#636efa",
           "#EF553B",
           "#00cc96",
           "#ab63fa",
           "#FFA15A",
           "#19d3f3",
           "#FF6692",
           "#B6E880",
           "#FF97FF",
           "#FECB52"
          ],
          "font": {
           "color": "#2a3f5f"
          },
          "geo": {
           "bgcolor": "white",
           "lakecolor": "white",
           "landcolor": "#E5ECF6",
           "showlakes": true,
           "showland": true,
           "subunitcolor": "white"
          },
          "hoverlabel": {
           "align": "left"
          },
          "hovermode": "closest",
          "mapbox": {
           "style": "light"
          },
          "paper_bgcolor": "white",
          "plot_bgcolor": "#E5ECF6",
          "polar": {
           "angularaxis": {
            "gridcolor": "white",
            "linecolor": "white",
            "ticks": ""
           },
           "bgcolor": "#E5ECF6",
           "radialaxis": {
            "gridcolor": "white",
            "linecolor": "white",
            "ticks": ""
           }
          },
          "scene": {
           "xaxis": {
            "backgroundcolor": "#E5ECF6",
            "gridcolor": "white",
            "gridwidth": 2,
            "linecolor": "white",
            "showbackground": true,
            "ticks": "",
            "zerolinecolor": "white"
           },
           "yaxis": {
            "backgroundcolor": "#E5ECF6",
            "gridcolor": "white",
            "gridwidth": 2,
            "linecolor": "white",
            "showbackground": true,
            "ticks": "",
            "zerolinecolor": "white"
           },
           "zaxis": {
            "backgroundcolor": "#E5ECF6",
            "gridcolor": "white",
            "gridwidth": 2,
            "linecolor": "white",
            "showbackground": true,
            "ticks": "",
            "zerolinecolor": "white"
           }
          },
          "shapedefaults": {
           "line": {
            "color": "#2a3f5f"
           }
          },
          "ternary": {
           "aaxis": {
            "gridcolor": "white",
            "linecolor": "white",
            "ticks": ""
           },
           "baxis": {
            "gridcolor": "white",
            "linecolor": "white",
            "ticks": ""
           },
           "bgcolor": "#E5ECF6",
           "caxis": {
            "gridcolor": "white",
            "linecolor": "white",
            "ticks": ""
           }
          },
          "title": {
           "x": 0.05
          },
          "xaxis": {
           "automargin": true,
           "gridcolor": "white",
           "linecolor": "white",
           "ticks": "",
           "title": {
            "standoff": 15
           },
           "zerolinecolor": "white",
           "zerolinewidth": 2
          },
          "yaxis": {
           "automargin": true,
           "gridcolor": "white",
           "linecolor": "white",
           "ticks": "",
           "title": {
            "standoff": 15
           },
           "zerolinecolor": "white",
           "zerolinewidth": 2
          }
         }
        },
        "title": {
         "text": "3D Chroma Vector Store Visualization with Cluster Boundaries",
         "x": 0.5,
         "xanchor": "center",
         "y": 0.95,
         "yanchor": "top"
        },
        "updatemenus": [
         {
          "bgcolor": "rgba(255, 255, 255, 0.8)",
          "buttons": [
           {
            "args": [
             {
              "visible": [
               true,
               true,
               true,
               true,
               true,
               true,
               true,
               true,
               true,
               true
              ]
             }
            ],
            "label": "Show Points",
            "method": "update"
           },
           {
            "args": [
             {
              "visible": [
               false,
               false,
               false,
               false,
               false,
               true,
               true,
               true,
               true,
               true
              ]
             }
            ],
            "label": "Hide Points",
            "method": "update"
           }
          ],
          "direction": "right",
          "pad": {
           "r": 10,
           "t": 10
          },
          "showactive": true,
          "type": "buttons",
          "x": 0.85,
          "y": 1
         }
        ],
        "width": 900
       }
      }
     },
     "metadata": {},
     "output_type": "display_data"
    }
   ],
   "source": [
    "def visualize_3d_clusters(vectors, n_clusters=5):\n",
    "    cluster_colors = [\n",
    "        'rgb(255, 0, 0)',    # Red\n",
    "        'rgb(0, 255, 0)',    # Green\n",
    "        'rgb(0, 0, 255)',    # Blue\n",
    "        'rgb(255, 165, 0)',  # Orange\n",
    "        'rgb(128, 0, 128)',  # Purple\n",
    "        'rgb(0, 255, 255)',  # Cyan\n",
    "        'rgb(255, 192, 203)', # Pink\n",
    "        'rgb(165, 42, 42)',  # Brown\n",
    "        'rgb(0, 128, 0)',    # Dark Green\n",
    "        'rgb(128, 128, 0)'   # Olive\n",
    "    ]\n",
    "    tsne = TSNE(n_components=3, random_state=42)\n",
    "    reduced_vectors = tsne.fit_transform(vectors)\n",
    "    kmeans = KMeans(n_clusters=n_clusters, random_state=42)\n",
    "    cluster_labels = kmeans.fit_predict(reduced_vectors)\n",
    "    fig = go.Figure()\n",
    "\n",
    "    # Add scatter points for each cluster\n",
    "    for i in range(n_clusters):\n",
    "        cluster_points = reduced_vectors[cluster_labels == i]\n",
    "        cluster_docs = [doc for j, doc in enumerate(documents) if cluster_labels[j] == i]\n",
    "        cluster_types = [t for j, t in enumerate(doc_types) if cluster_labels[j] == i]\n",
    "        fig.add_trace(go.Scatter3d(\n",
    "            x=cluster_points[:, 0],\n",
    "            y=cluster_points[:, 1],\n",
    "            z=cluster_points[:, 2],\n",
    "            mode='markers',\n",
    "            marker=dict(\n",
    "                size=5,\n",
    "                color=cluster_colors[i % len(cluster_colors)],\n",
    "                opacity=0.8\n",
    "            ),\n",
    "            text=[f\"Type: {t}<br>Text: {d[:100]}...\" for t, d in zip(cluster_types, cluster_docs)],\n",
    "            hoverinfo='text',\n",
    "            name=f'Cluster {i+1}',\n",
    "            visible=True,\n",
    "            showlegend=True\n",
    "        ))\n",
    "\n",
    "    # Add hulls for each cluster\n",
    "    for i in range(n_clusters):\n",
    "        cluster_points = reduced_vectors[cluster_labels == i]\n",
    "        center = np.mean(cluster_points, axis=0)\n",
    "        radius = np.max(np.linalg.norm(cluster_points - center, axis=1))\n",
    "        u = np.linspace(0, 2 * np.pi, 20)\n",
    "        v = np.linspace(0, np.pi, 20)\n",
    "        x = center[0] + radius * np.outer(np.cos(u), np.sin(v))\n",
    "        y = center[1] + radius * np.outer(np.sin(u), np.sin(v))\n",
    "        z = center[2] + radius * np.outer(np.ones(np.size(u)), np.cos(v))\n",
    "        fig.add_trace(go.Surface(\n",
    "            x=x, y=y, z=z,\n",
    "            opacity=0.07,\n",
    "            showscale=False,\n",
    "            name=f'Cluster {i+1} Boundary',\n",
    "            surfacecolor=np.zeros_like(x),\n",
    "            colorscale=[[0, cluster_colors[i % len(cluster_colors)]], [1, cluster_colors[i % len(cluster_colors)]]],\n",
    "            showlegend=False,\n",
    "            visible=True,\n",
    "            hoverinfo='skip'  # disable hover for hulls\n",
    "        ))\n",
    "\n",
    "    # Two buttons: Show Points / Hide Points\n",
    "    buttons = [\n",
    "        dict(\n",
    "            label=\"Show Points\",\n",
    "            method=\"update\",\n",
    "            args=[{\"visible\": [True]*n_clusters + [True]*n_clusters}]\n",
    "        ),\n",
    "        dict(\n",
    "            label=\"Hide Points\",\n",
    "            method=\"update\",\n",
    "            args=[{\"visible\": [False]*n_clusters + [True]*n_clusters}]\n",
    "        )\n",
    "    ]\n",
    "\n",
    "    fig.update_layout(\n",
    "        title={\n",
    "            'text': '3D Chroma Vector Store Visualization with Cluster Boundaries',\n",
    "            'y':0.95,\n",
    "            'x':0.5,\n",
    "            'xanchor': 'center',\n",
    "            'yanchor': 'top'\n",
    "        },\n",
    "        scene=dict(\n",
    "            xaxis_title='x',\n",
    "            yaxis_title='y',\n",
    "            zaxis_title='z',\n",
    "            aspectmode='cube'\n",
    "        ),\n",
    "        width=900,\n",
    "        height=700,\n",
    "        margin=dict(r=8, b=8, l=8, t=60),\n",
    "        updatemenus=[\n",
    "            dict(\n",
    "                type=\"buttons\",\n",
    "                direction=\"right\",\n",
    "                x=0.85,\n",
    "                y=1.0,\n",
    "                showactive=True,\n",
    "                buttons=buttons,\n",
    "                pad={\"r\": 10, \"t\": 10},\n",
    "                bgcolor=\"rgba(255, 255, 255, 0.8)\"\n",
    "            )\n",
    "        ],\n",
    "        legend=dict(\n",
    "            y=0.9,\n",
    "            x=0.85,\n",
    "            xanchor='right',\n",
    "            yanchor='top'\n",
    "        )\n",
    "    )\n",
    "    return fig\n",
    "\n",
    "# Usage:\n",
    "fig = visualize_3d_clusters(vectors, n_clusters=5)\n",
    "fig.show()"
   ]
  },
  {
   "cell_type": "code",
   "execution_count": null,
   "id": "81092e8d",
   "metadata": {},
   "outputs": [],
   "source": []
  }
 ],
 "metadata": {
  "kernelspec": {
   "display_name": "llms",
   "language": "python",
   "name": "python3"
  },
  "language_info": {
   "codemirror_mode": {
    "name": "ipython",
    "version": 3
   },
   "file_extension": ".py",
   "mimetype": "text/x-python",
   "name": "python",
   "nbconvert_exporter": "python",
   "pygments_lexer": "ipython3",
   "version": "3.11.11"
  }
 },
 "nbformat": 4,
 "nbformat_minor": 5
}
