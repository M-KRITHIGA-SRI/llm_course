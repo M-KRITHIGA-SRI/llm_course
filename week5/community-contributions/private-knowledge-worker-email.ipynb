{
 "cells": [
  {
   "cell_type": "code",
   "execution_count": null,
   "id": "bd19a629",
   "metadata": {},
   "outputs": [],
   "source": [
    "# imports\n",
    "\n",
    "import os\n",
    "import glob\n",
    "from dotenv import load_dotenv\n",
    "import gradio as gr"
   ]
  },
  {
   "cell_type": "code",
   "execution_count": null,
   "id": "2da3d36b",
   "metadata": {},
   "outputs": [],
   "source": [
    "# imports for langchain\n",
    "\n",
    "from langchain.document_loaders import DirectoryLoader, TextLoader\n",
    "from langchain.text_splitter import CharacterTextSplitter\n",
    "from langchain.schema import Document\n",
    "from langchain_openai import OpenAIEmbeddings, ChatOpenAI\n",
    "from langchain_chroma import Chroma\n",
    "import numpy as np\n",
    "from sklearn.manifold import TSNE\n",
    "import plotly.graph_objects as go\n",
    "from langchain.memory import ConversationBufferMemory\n",
    "from langchain.chains import ConversationalRetrievalChain\n",
    "from langchain.prompts import PromptTemplate"
   ]
  },
  {
   "cell_type": "code",
   "execution_count": null,
   "id": "c69472db",
   "metadata": {},
   "outputs": [],
   "source": [
    "\n",
    "\n",
    "MODEL = \"gpt-4o-mini\"\n",
    "db_name = \"chroma_vector_db\""
   ]
  },
  {
   "cell_type": "code",
   "execution_count": null,
   "id": "f6d51fa5",
   "metadata": {},
   "outputs": [],
   "source": [
    "# Load environment variables in a file called .env\n",
    "\n",
    "load_dotenv(override=True)\n",
    "os.environ['OPENAI_API_KEY'] = os.getenv('OPENAI_API_KEY', 'your-key-if-not-using-env')"
   ]
  },
  {
   "cell_type": "code",
   "execution_count": null,
   "id": "60b1d4ee",
   "metadata": {},
   "outputs": [],
   "source": [
    "#install google api connector\n",
    "!pip install --upgrade google-api-python-client google-auth-httplib2 google-auth-oauthlib"
   ]
  },
  {
   "cell_type": "markdown",
   "id": "b4220733",
   "metadata": {},
   "source": [
    "# Fetch Email Content"
   ]
  },
  {
   "cell_type": "code",
   "execution_count": null,
   "id": "f1b5cb46",
   "metadata": {},
   "outputs": [],
   "source": [
    "import base64\n",
    "import email\n",
    "from googleapiclient.discovery import build\n",
    "from google_auth_oauthlib.flow import InstalledAppFlow\n",
    "\n",
    "SCOPES = ['https://www.googleapis.com/auth/gmail.readonly']\n",
    "flow = InstalledAppFlow.from_client_secrets_file('credentials.json', SCOPES)\n",
    "creds = flow.run_local_server(port=0)\n",
    "service = build('gmail', 'v1', credentials=creds)\n",
    "\n",
    "results = service.users().messages().list(userId='me', labelIds=['INBOX'], maxResults=5).execute()\n",
    "messages = results.get('messages', [])\n",
    "\n",
    "email_texts = []\n",
    "\n",
    "for msg in messages:\n",
    "    msg_data = service.users().messages().get(userId='me', id=msg['id'], format='full').execute()\n",
    "    payload = msg_data['payload']\n",
    "    parts = payload.get('parts', [])\n",
    "\n",
    "    email_body = None\n",
    "    if parts:\n",
    "        for part in parts:\n",
    "            if part.get(\"mimeType\") == \"text/plain\":\n",
    "                data = part['body'].get('data')\n",
    "                if data:\n",
    "                    decoded = base64.urlsafe_b64decode(data).decode('utf-8')\n",
    "                    email_body = decoded\n",
    "                    break\n",
    "    else:\n",
    "        # Sometimes no parts, use body directly\n",
    "        data = payload['body'].get('data')\n",
    "        if data:\n",
    "            decoded = base64.urlsafe_b64decode(data).decode('utf-8')\n",
    "            email_body = decoded\n",
    "\n",
    "    if email_body:\n",
    "        email_texts.append(email_body)\n"
   ]
  },
  {
   "cell_type": "markdown",
   "id": "4d12dbc1",
   "metadata": {},
   "source": [
    "# Processed the file"
   ]
  },
  {
   "cell_type": "code",
   "execution_count": null,
   "id": "140f6234",
   "metadata": {},
   "outputs": [],
   "source": [
    "splitter = CharacterTextSplitter(chunk_size=1000, chunk_overlap=200)\n",
    "docs = ([Document(page_content=email_text) for email_text in email_texts])\n",
    "chunks = splitter.split_documents(docs)"
   ]
  },
  {
   "cell_type": "code",
   "execution_count": null,
   "id": "2f00518c",
   "metadata": {},
   "outputs": [],
   "source": [
    "len(chunks)"
   ]
  },
  {
   "cell_type": "code",
   "execution_count": null,
   "id": "890afed1",
   "metadata": {},
   "outputs": [],
   "source": [
    "embeddings = OpenAIEmbeddings()\n",
    "if not os.path.exists(db_name):\n",
    "    Chroma(persist_directory=db_name, embedding_function=embeddings).delete_collection()\n",
    "\n",
    "# Create vectorstore\n",
    "\n",
    "vectorstore = Chroma.from_documents(documents=chunks, embedding=embeddings, persist_directory=db_name)\n",
    "print(f\"Vectorstore created with {vectorstore._collection.count()} documents\")\n"
   ]
  },
  {
   "cell_type": "code",
   "execution_count": null,
   "id": "61215722",
   "metadata": {},
   "outputs": [],
   "source": [
    "# Get one vector and find how many dimensions it has\n",
    "\n",
    "collection = vectorstore._collection\n",
    "sample_embedding = collection.get(limit=1, include=[\"embeddings\"])[\"embeddings\"][0]\n",
    "dimensions = len(sample_embedding)\n",
    "print(f\"The vectors have {dimensions:,} dimensions\")"
   ]
  },
  {
   "cell_type": "code",
   "execution_count": null,
   "id": "07aabc84",
   "metadata": {},
   "outputs": [],
   "source": [
    "llm = ChatOpenAI(model_name=MODEL, temperature=0)\n",
    "memory = ConversationBufferMemory(memory_key=\"chat_history\", return_messages=True)\n",
    "retriever = vectorstore.as_retriever()\n",
    "\n",
    "\n",
    "custom_prompt = PromptTemplate.from_template(\n",
    "    \"\"\"\n",
    "    You are an expert assistant that reads email content and answers clearly and concisely.\n",
    "\n",
    "    {context}\n",
    "\n",
    "    Question: {question}\n",
    "    \"\"\"\n",
    ")\n",
    "\n",
    "conversation_chain = ConversationalRetrievalChain.from_llm(llm = llm , retriever = retriever, memory = memory, combine_docs_chain_kwargs={\"prompt\": custom_prompt})\n"
   ]
  },
  {
   "cell_type": "code",
   "execution_count": null,
   "id": "60d2add0",
   "metadata": {},
   "outputs": [],
   "source": [
    "query = \"Summarize the recent emails\"\n",
    "result = conversation_chain.invoke({\"question\":query})\n",
    "print(result[\"answer\"])"
   ]
  },
  {
   "cell_type": "code",
   "execution_count": null,
   "id": "712d7a1d",
   "metadata": {},
   "outputs": [],
   "source": [
    "# Wrapping in a function - note that history isn't used, as the memory is in the conversation_chain\n",
    "\n",
    "def chat(message,history):\n",
    "    result = conversation_chain.invoke({\"question\": message})\n",
    "    return result[\"answer\"]"
   ]
  },
  {
   "cell_type": "code",
   "execution_count": null,
   "id": "f085a6ec",
   "metadata": {},
   "outputs": [],
   "source": [
    "# And in Gradio:\n",
    "\n",
    "view = gr.ChatInterface(chat, type=\"messages\").launch(inbrowser=True)"
   ]
  },
  {
   "cell_type": "code",
   "execution_count": null,
   "id": "ad3a4483",
   "metadata": {},
   "outputs": [],
   "source": []
  }
 ],
 "metadata": {
  "kernelspec": {
   "display_name": "llms",
   "language": "python",
   "name": "python3"
  },
  "language_info": {
   "codemirror_mode": {
    "name": "ipython",
    "version": 3
   },
   "file_extension": ".py",
   "mimetype": "text/x-python",
   "name": "python",
   "nbconvert_exporter": "python",
   "pygments_lexer": "ipython3",
   "version": "3.11.12"
  }
 },
 "nbformat": 4,
 "nbformat_minor": 5
}
