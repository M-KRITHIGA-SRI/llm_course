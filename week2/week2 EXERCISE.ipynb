{
 "cells": [
  {
   "cell_type": "markdown",
   "id": "d006b2ea-9dfe-49c7-88a9-a5a0775185fd",
   "metadata": {},
   "source": [
    "# Additional End of week Exercise - week 2\n",
    "\n",
    "Now use everything you've learned from Week 2 to build a full prototype for the technical question/answerer you built in Week 1 Exercise.\n",
    "\n",
    "This should include a Gradio UI, streaming, use of the system prompt to add expertise, and the ability to switch between models. Bonus points if you can demonstrate use of a tool!\n",
    "\n",
    "If you feel bold, see if you can add audio input so you can talk to it, and have it respond with audio. ChatGPT or Claude can help you, or email me if you have questions.\n",
    "\n",
    "I will publish a full solution here soon - unless someone beats me to it...\n",
    "\n",
    "There are so many commercial applications for this, from a language tutor, to a company onboarding solution, to a companion AI to a course (like this one!) I can't wait to see your results."
   ]
  },
  {
   "cell_type": "code",
   "execution_count": 33,
   "id": "a07e7793-b8f5-44f4-aded-5562f633271a",
   "metadata": {},
   "outputs": [],
   "source": [
    "import os\n",
    "from dotenv import load_dotenv\n",
    "from openai import OpenAI\n",
    "import anthropic\n",
    "from IPython.display import Markdown, display, update_display\n",
    "import gradio as gr"
   ]
  },
  {
   "cell_type": "code",
   "execution_count": 28,
   "id": "be38fa17-ef03-4077-ad35-3c1325d2354a",
   "metadata": {},
   "outputs": [],
   "source": [
    "load_dotenv()\n",
    "api_key = os.getenv(\"OPENAI_API_KEY\")\n",
    "openai = OpenAI()"
   ]
  },
  {
   "cell_type": "code",
   "execution_count": 29,
   "id": "4518554d-ca73-4435-a06a-595e6d5f6987",
   "metadata": {},
   "outputs": [],
   "source": [
    "system_message = \"You are a useful assistant\"\n",
    "user_message = \"In a Django framework how to use chatGPT chatbot. Suppose we are hosting app in python anywhere.\""
   ]
  },
  {
   "cell_type": "code",
   "execution_count": 30,
   "id": "e82d1657-60e0-432b-b3a9-b2f6ef995cf3",
   "metadata": {},
   "outputs": [],
   "source": [
    "def chat(user_message):\n",
    "    messages =[{\"role\": \"system\", \"content\": system_message}, {\"role\": \"user\", \"content\": user_message}]\n",
    "    stream = openai.chat.completions.create(\n",
    "            model = \"gpt-4.1-mini\",\n",
    "            messages = messages,\n",
    "            stream = True,\n",
    "            temperature = 0.7\n",
    "            )\n",
    "    response = \"\"\n",
    "    display_handle = display(Markdown(\"\"), display_id=True)\n",
    "    for chunk in stream:\n",
    "        response +=chunk.choices[0].delta.content or \"\"\n",
    "        response = response.replace(\"'''\", \"\").replace(\"markdown\", \"\")\n",
    "        update_display(Markdown(response), display_id=display_handle.display_id)\n"
   ]
  },
  {
   "cell_type": "code",
   "execution_count": 34,
   "id": "900cb017-0a52-4ce9-9b3c-0e28164b4d8a",
   "metadata": {},
   "outputs": [
    {
     "name": "stdout",
     "output_type": "stream",
     "text": [
      "* Running on local URL:  http://127.0.0.1:7860\n",
      "* To create a public link, set `share=True` in `launch()`.\n"
     ]
    },
    {
     "data": {
      "text/html": [
       "<div><iframe src=\"http://127.0.0.1:7860/\" width=\"100%\" height=\"500\" allow=\"autoplay; camera; microphone; clipboard-read; clipboard-write;\" frameborder=\"0\" allowfullscreen></iframe></div>"
      ],
      "text/plain": [
       "<IPython.core.display.HTML object>"
      ]
     },
     "metadata": {},
     "output_type": "display_data"
    },
    {
     "data": {
      "text/plain": []
     },
     "execution_count": 34,
     "metadata": {},
     "output_type": "execute_result"
    },
    {
     "data": {
      "text/markdown": [
       "As of now, there are 195 countries in the world. This total includes 193 member countries of the United Nations and 2 observer states: the Holy See (Vatican City) and Palestine."
      ],
      "text/plain": [
       "<IPython.core.display.Markdown object>"
      ]
     },
     "metadata": {},
     "output_type": "display_data"
    },
    {
     "data": {
      "text/markdown": [
       "**Why the Sky is Blue During the Day and Black at Night**\n",
       "\n",
       "The color of the sky is primarily determined by the way sunlight interacts with Earth's atmosphere. During the daytime, the sky appears blue because of a phenomenon called Rayleigh scattering. Sunlight is made up of different colors, each with different wavelengths. Blue light has shorter wavelengths and is scattered in all directions by the gases and particles in the atmosphere more than other colors with longer wavelengths. This scattered blue light reaches our eyes from every direction, making the sky look blue.\n",
       "\n",
       "At sunrise and sunset, the sky can appear red or orange because the sunlight passes through a thicker layer of the atmosphere, scattering shorter wavelengths out of our line of sight and allowing longer wavelengths like red and orange to dominate.\n",
       "\n",
       "At night, the sky appears black because the sun is below the horizon, and its light does not directly illuminate the atmosphere above us. Without sunlight to scatter, there is no blue light to color the sky. Instead, we see the darkness of space punctuated by stars and other celestial objects.\n",
       "\n",
       "In summary, the blue color of the daytime sky is due to the scattering of sunlight by the atmosphere, while the black color at night results from the absence of direct sunlight and the vast emptiness of space beyond Earth’s atmosphere."
      ],
      "text/plain": [
       "<IPython.core.display.Markdown object>"
      ]
     },
     "metadata": {},
     "output_type": "display_data"
    },
    {
     "data": {
      "text/markdown": [
       "One of the main Chinese companies competing with Tesla in the field of electric vehicles is **NIO Inc.** NIO is known for its electric SUVs and sedans and has gained significant attention both in China and internationally. Other notable Chinese EV companies competing with Tesla include:\n",
       "\n",
       "- **XPeng Motors** (Xiaopeng Motors)\n",
       "- **Li Auto** (Li Xiang)\n",
       "- **BYD** (Build Your Dreams)\n",
       "\n",
       "These companies are rapidly developing electric vehicle technology and expanding their market presence, making them strong competitors to Tesla in China and globally."
      ],
      "text/plain": [
       "<IPython.core.display.Markdown object>"
      ]
     },
     "metadata": {},
     "output_type": "display_data"
    }
   ],
   "source": [
    "gr.Interface(fn= chat, inputs=\"textbox\", outputs =\"textbox\").launch()"
   ]
  },
  {
   "cell_type": "code",
   "execution_count": null,
   "id": "a59aed6a-7ca2-41bc-9d35-67eccd457b9b",
   "metadata": {},
   "outputs": [],
   "source": []
  }
 ],
 "metadata": {
  "kernelspec": {
   "display_name": "Python 3 (ipykernel)",
   "language": "python",
   "name": "python3"
  },
  "language_info": {
   "codemirror_mode": {
    "name": "ipython",
    "version": 3
   },
   "file_extension": ".py",
   "mimetype": "text/x-python",
   "name": "python",
   "nbconvert_exporter": "python",
   "pygments_lexer": "ipython3",
   "version": "3.11.13"
  }
 },
 "nbformat": 4,
 "nbformat_minor": 5
}
