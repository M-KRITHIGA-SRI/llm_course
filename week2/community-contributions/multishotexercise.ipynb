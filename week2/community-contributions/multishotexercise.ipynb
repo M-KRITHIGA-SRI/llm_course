{
 "cells": [
  {
   "cell_type": "code",
   "execution_count": 1,
   "id": "d7f08160-8823-4100-a934-f2dd22df68d0",
   "metadata": {},
   "outputs": [],
   "source": [
    "import os\n",
    "from dotenv import load_dotenv\n",
    "from openai import OpenAI\n",
    "import gradio as gr"
   ]
  },
  {
   "cell_type": "code",
   "execution_count": 2,
   "id": "21e39503-844f-4378-89c8-c6e6a9d4bff7",
   "metadata": {},
   "outputs": [
    {
     "data": {
      "text/plain": [
       "True"
      ]
     },
     "execution_count": 2,
     "metadata": {},
     "output_type": "execute_result"
    }
   ],
   "source": [
    "load_dotenv(override=True)"
   ]
  },
  {
   "cell_type": "code",
   "execution_count": 3,
   "id": "81772d42-c5c4-4d8c-aadf-f6d51ff83c85",
   "metadata": {},
   "outputs": [
    {
     "name": "stdout",
     "output_type": "stream",
     "text": [
      "Good\n"
     ]
    }
   ],
   "source": [
    "openai_api_key = os.getenv(\"OPENAI_API_KEY\")\n",
    "\n",
    "if openai_api_key:\n",
    "    print(\"Good\")\n",
    "else:\n",
    "    print(\"Key not found\")"
   ]
  },
  {
   "cell_type": "code",
   "execution_count": 18,
   "id": "49107477-5ded-4418-ad39-c2cc1feb1139",
   "metadata": {},
   "outputs": [],
   "source": [
    "client = OpenAI(api_key = openai_api_key)\n",
    "MODEL = \"gpt-4o-mini\""
   ]
  },
  {
   "cell_type": "code",
   "execution_count": 19,
   "id": "0f6eb7fc-eb84-4a8e-9253-5073c42bdae1",
   "metadata": {},
   "outputs": [],
   "source": [
    "system_message = \"\"\"You are Ujuzi Web Solutions AI Assistant.  \n",
    "Your job is to explain pricing for our services (web development, maintenance, SEO, hosting) in a friendly, professional, and transparent way.  \n",
    "Always mention that final prices depend on project complexity, but give clear baseline ranges.  \n",
    "If a user asks something unrelated, politely redirect back to pricing and services.  \n",
    "\"\"\""
   ]
  },
  {
   "cell_type": "code",
   "execution_count": 24,
   "id": "0ecb7ded-4da3-4258-977b-e1d45724709e",
   "metadata": {},
   "outputs": [],
   "source": [
    "def chat(message, history):\n",
    "    few_shots = [\n",
    "        # Example 1 - Basic website\n",
    "        {\"role\": \"user\", \"content\": \"Do you design websites?\"},\n",
    "        {\"role\": \"assistant\", \"content\": \"Yes! I design modern, responsive websites starting at $300. This includes a simple 3-page site with mobile support.\"},\n",
    "\n",
    "        # Example 2 - E-commerce\n",
    "        {\"role\": \"user\", \"content\": \"What about e-commerce?\"},\n",
    "        {\"role\": \"assistant\", \"content\": \"E-commerce sites start at $500. They include product listings, shopping cart, and payment integration.\"},\n",
    "\n",
    "        # Example 3 - Custom features\n",
    "        {\"role\": \"user\", \"content\": \"Can you add custom features like booking or chat?\"},\n",
    "        {\"role\": \"assistant\", \"content\": \"Absolutely. Custom features are priced based on complexity, usually starting at an additional $100.\"},\n",
    "\n",
    "        # Example 4 - Maintenance\n",
    "        {\"role\": \"user\", \"content\": \"Do you offer maintenance after building the site?\"},\n",
    "        {\"role\": \"assistant\", \"content\": \"Yes, I offer maintenance packages starting at $50/month. This covers updates, backups, and security checks.\"},\n",
    "\n",
    "        # Example 5 - Discounts\n",
    "        {\"role\": \"user\", \"content\": \"Do you give discounts?\"},\n",
    "        {\"role\": \"assistant\", \"content\": \"Yes, I sometimes offer discounts for startups or longer-term projects. Feel free to ask and we’ll see what works.\"},\n",
    "\n",
    "        # Example 6 - Delivery timeline\n",
    "        {\"role\": \"user\", \"content\": \"How long does it take to finish a project?\"},\n",
    "        {\"role\": \"assistant\", \"content\": \"A basic website usually takes 1–2 weeks. E-commerce or larger projects may take 3–5 weeks depending on complexity.\"},\n",
    "    ]\n",
    "\n",
    "    messages = [{\"role\": \"system\", \"content\": system_message}]+ few_shots\n",
    "\n",
    "    for msg in history:\n",
    "        messages.append(msg)\n",
    "\n",
    "    messages.append({\"role\": \"user\", \"content\": message})\n",
    "\n",
    "    stream = client.chat.completions.create(model = MODEL, messages = messages, stream = True)\n",
    "\n",
    "    response = \"\"\n",
    "\n",
    "    for chunk in stream:\n",
    "        response += chunk.choices[0].delta.content or ''\n",
    "        yield response"
   ]
  },
  {
   "cell_type": "code",
   "execution_count": 25,
   "id": "d7a5c5ed-2cfb-4067-aee0-a1bda313bfc2",
   "metadata": {},
   "outputs": [
    {
     "name": "stdout",
     "output_type": "stream",
     "text": [
      "* Running on local URL:  http://127.0.0.1:7866\n",
      "* To create a public link, set `share=True` in `launch()`.\n"
     ]
    },
    {
     "data": {
      "text/html": [
       "<div><iframe src=\"http://127.0.0.1:7866/\" width=\"100%\" height=\"500\" allow=\"autoplay; camera; microphone; clipboard-read; clipboard-write;\" frameborder=\"0\" allowfullscreen></iframe></div>"
      ],
      "text/plain": [
       "<IPython.core.display.HTML object>"
      ]
     },
     "metadata": {},
     "output_type": "display_data"
    },
    {
     "data": {
      "text/plain": []
     },
     "execution_count": 25,
     "metadata": {},
     "output_type": "execute_result"
    }
   ],
   "source": [
    "demo = gr.ChatInterface(\n",
    "    fn=chat,\n",
    "    type=\"messages\",   # important so Gradio expects role/content dicts\n",
    "    title=\"Ujuzi Web Pricing Assistant\"\n",
    ")\n",
    "\n",
    "demo.launch()"
   ]
  },
  {
   "cell_type": "code",
   "execution_count": null,
   "id": "b31a39a6-6476-4fe8-b00b-b81bd5716197",
   "metadata": {},
   "outputs": [],
   "source": []
  },
  {
   "cell_type": "code",
   "execution_count": null,
   "id": "452aa5d8-d841-4f79-9dff-67a811dc7eca",
   "metadata": {},
   "outputs": [],
   "source": []
  }
 ],
 "metadata": {
  "kernelspec": {
   "display_name": "Python 3 (ipykernel)",
   "language": "python",
   "name": "python3"
  },
  "language_info": {
   "codemirror_mode": {
    "name": "ipython",
    "version": 3
   },
   "file_extension": ".py",
   "mimetype": "text/x-python",
   "name": "python",
   "nbconvert_exporter": "python",
   "pygments_lexer": "ipython3",
   "version": "3.11.13"
  }
 },
 "nbformat": 4,
 "nbformat_minor": 5
}
