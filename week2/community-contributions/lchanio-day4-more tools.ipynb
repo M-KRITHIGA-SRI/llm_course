{
 "cells": [
  {
   "cell_type": "markdown",
   "id": "ddfa9ae6-69fe-444a-b994-8c4c5970a7ec",
   "metadata": {},
   "source": [
    "# Project - Airline AI Assistant\n",
    "\n",
    "We'll now bring together what we've learned to make an AI Customer Support assistant for an Airline"
   ]
  },
  {
   "cell_type": "code",
   "execution_count": 51,
   "id": "8b50bbe2-c0b1-49c3-9a5c-1ba7efa2bcb4",
   "metadata": {},
   "outputs": [],
   "source": [
    "# imports\n",
    "\n",
    "import os\n",
    "import json\n",
    "from dotenv import load_dotenv\n",
    "from openai import OpenAI\n",
    "import gradio as gr\n",
    "from datetime import datetime\n",
    "from typing import Optional, Union\n",
    "import uuid\n",
    "import csv"
   ]
  },
  {
   "cell_type": "code",
   "execution_count": 52,
   "id": "747e8786-9da8-4342-b6c9-f5f69c2e22ae",
   "metadata": {},
   "outputs": [
    {
     "name": "stdout",
     "output_type": "stream",
     "text": [
      "OpenAI API Key exists and begins sk-proj-\n"
     ]
    }
   ],
   "source": [
    "# Initialization\n",
    "\n",
    "load_dotenv(override=True)\n",
    "\n",
    "openai_api_key = os.getenv('OPENAI_API_KEY')\n",
    "if openai_api_key:\n",
    "    print(f\"OpenAI API Key exists and begins {openai_api_key[:8]}\")\n",
    "else:\n",
    "    print(\"OpenAI API Key not set\")\n",
    "    \n",
    "MODEL = \"gpt-4o-mini\"\n",
    "openai = OpenAI()\n",
    "\n",
    "# As an alternative, if you'd like to use Ollama instead of OpenAI\n",
    "# Check that Ollama is running for you locally (see week1/day2 exercise) then uncomment these next 2 lines\n",
    "# MODEL = \"llama3.2\"\n",
    "# openai = OpenAI(base_url='http://localhost:11434/v1', api_key='ollama')\n"
   ]
  },
  {
   "cell_type": "code",
   "execution_count": 53,
   "id": "0a521d84-d07c-49ab-a0df-d6451499ed97",
   "metadata": {},
   "outputs": [],
   "source": [
    "system_message = \"You are a helpful assistant for an Airline called FlightAI. \"\n",
    "system_message += \"Give short, courteous answers, no more than 1 sentence. \"\n",
    "system_message += \"Always be accurate. If you don't know the answer, say so.\""
   ]
  },
  {
   "cell_type": "code",
   "execution_count": 54,
   "id": "61a2a15d-b559-4844-b377-6bd5cb4949f6",
   "metadata": {},
   "outputs": [
    {
     "name": "stdout",
     "output_type": "stream",
     "text": [
      "* Running on local URL:  http://127.0.0.1:7879\n",
      "* To create a public link, set `share=True` in `launch()`.\n"
     ]
    },
    {
     "data": {
      "text/html": [
       "<div><iframe src=\"http://127.0.0.1:7879/\" width=\"100%\" height=\"500\" allow=\"autoplay; camera; microphone; clipboard-read; clipboard-write;\" frameborder=\"0\" allowfullscreen></iframe></div>"
      ],
      "text/plain": [
       "<IPython.core.display.HTML object>"
      ]
     },
     "metadata": {},
     "output_type": "display_data"
    },
    {
     "data": {
      "text/plain": []
     },
     "execution_count": 54,
     "metadata": {},
     "output_type": "execute_result"
    }
   ],
   "source": [
    "# This function looks rather simpler than the one from my video, because we're taking advantage of the latest Gradio updates\n",
    "\n",
    "def chat(message, history):\n",
    "    messages = [{\"role\": \"system\", \"content\": system_message}] + history + [{\"role\": \"user\", \"content\": message}]\n",
    "    response = openai.chat.completions.create(model=MODEL, messages=messages)\n",
    "    return response.choices[0].message.content\n",
    "\n",
    "gr.ChatInterface(fn=chat, type=\"messages\").launch()"
   ]
  },
  {
   "cell_type": "markdown",
   "id": "36bedabf-a0a7-4985-ad8e-07ed6a55a3a4",
   "metadata": {},
   "source": [
    "## Tools\n",
    "\n",
    "Tools are an incredibly powerful feature provided by the frontier LLMs.\n",
    "\n",
    "With tools, you can write a function, and have the LLM call that function as part of its response.\n",
    "\n",
    "Sounds almost spooky.. we're giving it the power to run code on our machine?\n",
    "\n",
    "Well, kinda."
   ]
  },
  {
   "cell_type": "code",
   "execution_count": 55,
   "id": "0696acb1-0b05-4dc2-80d5-771be04f1fb2",
   "metadata": {},
   "outputs": [],
   "source": [
    "# Let's start by making a useful function\n",
    "\n",
    "ticket_prices = {\"london\": \"$799\", \"paris\": \"$899\", \"tokyo\": \"$1400\", \"berlin\": \"$499\", \"madrid\":\"$299\"}\n",
    "\n",
    "def get_ticket_price(destination_city):\n",
    "    print(f\"Tool get_ticket_price called for {destination_city}\")\n",
    "    city = destination_city.lower()\n",
    "    return ticket_prices.get(city, \"Unknown\")"
   ]
  },
  {
   "cell_type": "code",
   "execution_count": 56,
   "id": "80ca4e09-6287-4d3f-997d-fa6afbcf6c85",
   "metadata": {},
   "outputs": [
    {
     "name": "stdout",
     "output_type": "stream",
     "text": [
      "Tool get_ticket_price called for Berlin\n"
     ]
    },
    {
     "data": {
      "text/plain": [
       "'$499'"
      ]
     },
     "execution_count": 56,
     "metadata": {},
     "output_type": "execute_result"
    }
   ],
   "source": [
    "get_ticket_price(\"Berlin\")"
   ]
  },
  {
   "cell_type": "code",
   "execution_count": 57,
   "id": "a348266f-a059-4bec-9253-fab21e625b5c",
   "metadata": {},
   "outputs": [],
   "source": [
    "# make a second tool to book flights\n",
    "def book_flight(\n",
    "    departure_city: str,\n",
    "    destination_city: str,\n",
    "    departure_date: Union[str, datetime],\n",
    "    is_round_trip: bool = False,\n",
    "    return_date: Optional[Union[str, datetime]] = None,\n",
    "    csv_filename: str = \"flight_bookings.csv\"\n",
    ") -> dict:\n",
    "    \"\"\"\n",
    "    Simulate airline flight booking and write booking information to a CSV file.\n",
    "    \n",
    "    Args:\n",
    "        departure_city (str): Name of the departure city\n",
    "        destination_city (str): Name of the destination city\n",
    "        departure_date (str or datetime): Departure date (YYYY-MM-DD format if string)\n",
    "        is_round_trip (bool): True for round-trip, False for one-way\n",
    "        return_date (str or datetime, optional): Return date (required for round-trip)\n",
    "        csv_filename (str): Name of the CSV file to write to\n",
    "    \n",
    "    Returns:\n",
    "        dict: Booking confirmation with booking ID and details\n",
    "        \n",
    "    Raises:\n",
    "        ValueError: For invalid input parameters\n",
    "        TypeError: For incorrect data types\n",
    "    \"\"\"\n",
    "    \n",
    "    # Input validation\n",
    "    if not departure_city or not isinstance(departure_city, str):\n",
    "        raise ValueError(\"Departure city must be a non-empty string\")\n",
    "    \n",
    "    if not destination_city or not isinstance(destination_city, str):\n",
    "        raise ValueError(\"Destination city must be a non-empty string\")\n",
    "    \n",
    "    if departure_city.strip().lower() == destination_city.strip().lower():\n",
    "        raise ValueError(\"Departure and destination cities cannot be the same\")\n",
    "    \n",
    "    # Date parsing and validation\n",
    "    def parse_date(date_input, field_name):\n",
    "        if isinstance(date_input, datetime):\n",
    "            return date_input\n",
    "        elif isinstance(date_input, str):\n",
    "            try:\n",
    "                return datetime.strptime(date_input.strip(), \"%Y-%m-%d\")\n",
    "            except ValueError:\n",
    "                raise ValueError(f\"{field_name} must be in YYYY-MM-DD format\")\n",
    "        else:\n",
    "            raise TypeError(f\"{field_name} must be a string or datetime object\")\n",
    "    \n",
    "    # Parse departure date\n",
    "    parsed_departure_date = parse_date(departure_date, \"Departure date\")\n",
    "    \n",
    "    # Validate departure date is not in the past\n",
    "    today = datetime.now().replace(hour=0, minute=0, second=0, microsecond=0)\n",
    "    if parsed_departure_date < today:\n",
    "        raise ValueError(\"Departure date cannot be in the past\")\n",
    "    \n",
    "    # Round-trip validation\n",
    "    parsed_return_date = None\n",
    "    if is_round_trip:\n",
    "        if return_date is None:\n",
    "            raise ValueError(\"Return date must be specified for round-trip flights\")\n",
    "        \n",
    "        parsed_return_date = parse_date(return_date, \"Return date\")\n",
    "        \n",
    "        if parsed_return_date <= parsed_departure_date:\n",
    "            raise ValueError(\"Return date must be after departure date\")\n",
    "    elif return_date is not None:\n",
    "        raise ValueError(\"Return date should not be provided for one-way flights\")\n",
    "    \n",
    "    # Generate booking ID\n",
    "    booking_id = f\"FL{uuid.uuid4().hex[:8].upper()}\"\n",
    "    \n",
    "    # Create booking record\n",
    "    booking_record = {\n",
    "        'booking_id': booking_id,\n",
    "        'departure_city': departure_city.strip().title(),\n",
    "        'destination_city': destination_city.strip().title(),\n",
    "        'departure_date': parsed_departure_date.strftime(\"%Y-%m-%d\"),\n",
    "        'is_round_trip': is_round_trip,\n",
    "        'return_date': parsed_return_date.strftime(\"%Y-%m-%d\") if parsed_return_date else '',\n",
    "        'booking_timestamp': datetime.now().strftime(\"%Y-%m-%d %H:%M:%S\")\n",
    "    }\n",
    "    \n",
    "    # Write to CSV file\n",
    "    try:\n",
    "        # Check if file exists to determine if we need headers\n",
    "        file_exists = os.path.isfile(csv_filename)\n",
    "        \n",
    "        with open(csv_filename, 'a', newline='', encoding='utf-8') as csvfile:\n",
    "            fieldnames = ['booking_id', 'departure_city', 'destination_city', \n",
    "                         'departure_date', 'is_round_trip', 'return_date', 'booking_timestamp']\n",
    "            writer = csv.DictWriter(csvfile, fieldnames=fieldnames)\n",
    "            \n",
    "            # Write header if file is new\n",
    "            if not file_exists:\n",
    "                writer.writeheader()\n",
    "            \n",
    "            # Write the booking record\n",
    "            writer.writerow(booking_record)\n",
    "            \n",
    "    except IOError as e:\n",
    "        raise IOError(f\"Error writing to CSV file: {e}\")\n",
    "    \n",
    "    # Return confirmation\n",
    "    confirmation = {\n",
    "        'status': 'success',\n",
    "        'message': 'Flight booked successfully',\n",
    "        'booking_id': booking_id,\n",
    "        'departure_city': booking_record['departure_city'],\n",
    "        'destination_city': booking_record['destination_city'],\n",
    "        'departure_date': booking_record['departure_date'],\n",
    "        'flight_type': 'Round-trip' if is_round_trip else 'One-way',\n",
    "        'return_date': booking_record['return_date'] if is_round_trip else None,\n",
    "        'csv_file': csv_filename\n",
    "    }\n",
    "    \n",
    "    return confirmation\n",
    "        "
   ]
  },
  {
   "cell_type": "code",
   "execution_count": 58,
   "id": "4afceded-7178-4c05-8fa6-9f2085e6a344",
   "metadata": {},
   "outputs": [],
   "source": [
    "# There's a particular dictionary structure that's required to describe our function:\n",
    "\n",
    "price_function = {\n",
    "    \"name\": \"get_ticket_price\",\n",
    "    \"description\": \"Get the price of a return ticket to the destination city. Call this whenever you need to know the ticket price, for example when a customer asks 'How much is a ticket to this city'\",\n",
    "    \"parameters\": {\n",
    "        \"type\": \"object\",\n",
    "        \"properties\": {\n",
    "            \"destination_city\": {\n",
    "                \"type\": \"string\",\n",
    "                \"description\": \"The city that the customer wants to travel to\",\n",
    "            },\n",
    "        },\n",
    "        \"required\": [\"destination_city\"],\n",
    "        \"additionalProperties\": False\n",
    "    }\n",
    "}\n",
    "booking_function = {\n",
    "    \"name\": \"book_flight\",\n",
    "    \"desription\": \"Book a flight and write booking information to an external database. Call this whenever you need to book a flight after a customer instructs you to do so.\",\n",
    "    \"parameters\": {\n",
    "        \"type\":\"object\",\n",
    "        \"properties\": {\n",
    "            \"departure_city\": { \"type\": \"string\", \"description\": \"Name of the departure city\"},\n",
    "            \"destination_city\": { \"type\": \"string\", \"description\": \"Name of the destination city\"},\n",
    "            \"departure_date\": { \"type\": \"string\", \"description\": \"Departure date in YYYY-MM-DD format\"},\n",
    "            \"is_round_trip\": { \"type\": \"string\", \"description\": \"True for round-trip, False for one-way\"},\n",
    "            \"return_date\": { \"type\": \"string\", \"description\" : \"Return date in YYYY-MM-DD format, required for round-trips\"},\n",
    "        },\n",
    "        \"required\": [\"departure_city\", \"destination_city\", \"departure_date\",\"is_round_trip\"],\n",
    "        \"additionalProperties\": False\n",
    "    }\n",
    "}\n"
   ]
  },
  {
   "cell_type": "code",
   "execution_count": 59,
   "id": "bdca8679-935f-4e7f-97e6-e71a4d4f228c",
   "metadata": {},
   "outputs": [],
   "source": [
    "# And this is included in a list of tools:\n",
    "\n",
    "tools = [{\"type\": \"function\", \"function\": price_function},\n",
    "        {\"type\": \"function\", \"function\": booking_function}]"
   ]
  },
  {
   "cell_type": "markdown",
   "id": "c3d3554f-b4e3-4ce7-af6f-68faa6dd2340",
   "metadata": {},
   "source": [
    "## Getting OpenAI to use our Tool\n",
    "\n",
    "There's some fiddly stuff to allow OpenAI \"to call our tool\"\n",
    "\n",
    "What we actually do is give the LLM the opportunity to inform us that it wants us to run the tool.\n",
    "\n",
    "Here's how the new chat function looks:"
   ]
  },
  {
   "cell_type": "code",
   "execution_count": 60,
   "id": "ce9b0744-9c78-408d-b9df-9f6fd9ed78cf",
   "metadata": {},
   "outputs": [],
   "source": [
    "def chat(message, history):\n",
    "    messages = [{\"role\": \"system\", \"content\": system_message}] + history + [{\"role\": \"user\", \"content\": message}]\n",
    "    response = openai.chat.completions.create(model=MODEL, messages=messages, tools=tools)\n",
    "\n",
    "    if response.choices[0].finish_reason==\"tool_calls\":\n",
    "        message = response.choices[0].message\n",
    "        response, city = handle_tool_call(message)\n",
    "        messages.append(message)\n",
    "        messages.append(response)\n",
    "        response = openai.chat.completions.create(model=MODEL, messages=messages)\n",
    "    \n",
    "    return response.choices[0].message.content"
   ]
  },
  {
   "cell_type": "code",
   "execution_count": 61,
   "id": "b0992986-ea09-4912-a076-8e5603ee631f",
   "metadata": {},
   "outputs": [],
   "source": [
    "# We have to write that function handle_tool_call:\n",
    "\n",
    "def handle_tool_call(message):\n",
    "    tool_call = message.tool_calls[0]\n",
    "    if tool_call.function.name=='get_ticket_price' :\n",
    "        arguments = json.loads(tool_call.function.arguments)\n",
    "        city = arguments.get('destination_city')\n",
    "        price = get_ticket_price(city)\n",
    "        response = {\n",
    "            \"role\": \"tool\",\n",
    "            \"content\": json.dumps({\"destination_city\": city,\"price\": price}),\n",
    "            \"tool_call_id\": tool_call.id\n",
    "        }\n",
    "        return response, city\n",
    "    elif tool_call.function.name=='book_flight':\n",
    "        arguments= json.loads(tool_call.function.arguments)\n",
    "        departure_city = arguments.get('departure_city')\n",
    "        destination_city = arguments.get('destination_city')\n",
    "        departure_date = arguments.get('departure_date')\n",
    "        is_round_trip = arguments.get('is_round_trip')=='True'\n",
    "        if is_round_trip:\n",
    "            return_date = arguments.get('return_date')\n",
    "        else: \n",
    "            return_date = None\n",
    "        confirmation = book_flight( departure_city = departure_city, destination_city = destination_city,\n",
    "                                    departure_date = departure_date, is_round_trip = is_round_trip, return_date=return_date)\n",
    "        response = {\n",
    "            \"role\": \"tool\",\n",
    "            \"content\": json.dumps(confirmation),\n",
    "            \"tool_call_id\":tool_call.id\n",
    "        }\n",
    "        return response, confirmation\n",
    "    else:\n",
    "        return \"Unknown tool\""
   ]
  },
  {
   "cell_type": "code",
   "execution_count": 62,
   "id": "f4be8a71-b19e-4c2f-80df-f59ff2661f14",
   "metadata": {},
   "outputs": [
    {
     "name": "stdout",
     "output_type": "stream",
     "text": [
      "* Running on local URL:  http://127.0.0.1:7880\n",
      "* To create a public link, set `share=True` in `launch()`.\n"
     ]
    },
    {
     "data": {
      "text/html": [
       "<div><iframe src=\"http://127.0.0.1:7880/\" width=\"100%\" height=\"500\" allow=\"autoplay; camera; microphone; clipboard-read; clipboard-write;\" frameborder=\"0\" allowfullscreen></iframe></div>"
      ],
      "text/plain": [
       "<IPython.core.display.HTML object>"
      ]
     },
     "metadata": {},
     "output_type": "display_data"
    },
    {
     "data": {
      "text/plain": []
     },
     "execution_count": 62,
     "metadata": {},
     "output_type": "execute_result"
    }
   ],
   "source": [
    "gr.ChatInterface(fn=chat, type=\"messages\").launch()"
   ]
  },
  {
   "cell_type": "code",
   "execution_count": null,
   "id": "82eb58c1-13bd-47ff-9f00-cbc39e6bbede",
   "metadata": {},
   "outputs": [],
   "source": []
  },
  {
   "cell_type": "code",
   "execution_count": null,
   "id": "b53836a4-aa62-49c5-9c88-8a14edd55344",
   "metadata": {},
   "outputs": [],
   "source": []
  }
 ],
 "metadata": {
  "kernelspec": {
   "display_name": "Python 3 (ipykernel)",
   "language": "python",
   "name": "python3"
  },
  "language_info": {
   "codemirror_mode": {
    "name": "ipython",
    "version": 3
   },
   "file_extension": ".py",
   "mimetype": "text/x-python",
   "name": "python",
   "nbconvert_exporter": "python",
   "pygments_lexer": "ipython3",
   "version": "3.11.13"
  }
 },
 "nbformat": 4,
 "nbformat_minor": 5
}
