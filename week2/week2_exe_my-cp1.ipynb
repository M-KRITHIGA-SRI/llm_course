{
 "cells": [
  {
   "cell_type": "markdown",
   "id": "d006b2ea-9dfe-49c7-88a9-a5a0775185fd",
   "metadata": {},
   "source": [
    "# Additional End of week Exercise - week 2\n",
    "## Assistant can call 2 tools to respond\n",
    "\n",
    "* 2 tools\n",
    "* No streaming\n",
    "* learning - print tree structure of response, message, etc.\n",
    "* \n",
    "\n",
    "Now use everything you've learned from Week 2 to build a full prototype for the technical question/answerer you built in Week 1 Exercise.\n",
    "\n",
    "This should include a Gradio UI, streaming, use of the system prompt to add expertise, and the ability to switch between models. Bonus points if you can demonstrate use of a tool!\n",
    "\n",
    "If you feel bold, see if you can add audio input so you can talk to it, and have it respond with audio. ChatGPT or Claude can help you, or email me if you have questions.\n",
    "\n",
    "I will publish a full solution here soon - unless someone beats me to it...\n",
    "\n",
    "There are so many commercial applications for this, from a language tutor, to a company onboarding solution, to a companion AI to a course (like this one!) I can't wait to see your results."
   ]
  },
  {
   "cell_type": "code",
   "execution_count": 102,
   "id": "389f3cfd-e19c-4ea1-a2bd-650d342ac734",
   "metadata": {},
   "outputs": [],
   "source": [
    "# imports\n",
    "# If these fail, please check you're running from an 'activated' environment with (llms) in the command prompt\n",
    "\n",
    "import os\n",
    "import requests\n",
    "import json\n",
    "from typing import List\n",
    "from dotenv import load_dotenv\n",
    "from bs4 import BeautifulSoup\n",
    "from IPython.display import Markdown, display, update_display\n",
    "from openai import OpenAI  # import as class?\n",
    "# import ollama\n",
    "import gradio as gr\n"
   ]
  },
  {
   "cell_type": "code",
   "execution_count": 103,
   "id": "93d26152-679f-45a1-aaf2-19c39b557d0f",
   "metadata": {},
   "outputs": [
    {
     "name": "stdout",
     "output_type": "stream",
     "text": [
      "1.78.1\n"
     ]
    }
   ],
   "source": [
    "import openai  # import module\n",
    "print(openai.__version__)\n"
   ]
  },
  {
   "cell_type": "code",
   "execution_count": 104,
   "id": "17b3c0fb-bd25-4d3d-b404-e4427512605c",
   "metadata": {},
   "outputs": [],
   "source": [
    "# constants\n",
    "\n",
    "MODEL = 'gpt-4o-mini'\n",
    "# MODEL_LLAMA = 'llama3.2'"
   ]
  },
  {
   "cell_type": "code",
   "execution_count": 105,
   "id": "a35abb62-4fb4-42bf-b3ef-271c44981e1f",
   "metadata": {},
   "outputs": [
    {
     "name": "stdout",
     "output_type": "stream",
     "text": [
      "API key looks good so far\n"
     ]
    }
   ],
   "source": [
    "# set up environment\n",
    "# Initialize and constants\n",
    "\n",
    "load_dotenv(override=True)\n",
    "api_key = os.getenv('OPENAI_API_KEY')\n",
    "\n",
    "if api_key and api_key.startswith('sk-proj-') and len(api_key)>10:\n",
    "    print(\"API key looks good so far\")\n",
    "else:\n",
    "    print(\"There might be a problem with your API key? Please visit the troubleshooting notebook!\")\n",
    "    \n",
    "openai = OpenAI()"
   ]
  },
  {
   "cell_type": "code",
   "execution_count": 106,
   "id": "c1fbb084-078b-453a-aba2-41b213b3164b",
   "metadata": {},
   "outputs": [],
   "source": [
    "\n",
    "system_message = (\n",
    "    \"You are a helpful assistant with access to two tools: \"\n",
    "    \"1) 'count_letter_in_word' - to count how many times a letter appears in a word or the sentance. \"\n",
    "    \"Use this when the user asks questions like 'How many R's are in Strawberry?', or \" \n",
    "    \"'how many E's are in this sentence?'. \"\n",
    "    \"2) 'get_online_course_price' - to retrieve prices for online courses. \"\n",
    "    \"Use this when the user asks about course prices like 'What is the price of AI Ethics course?'. \"\n",
    "    \"Always pick the tool that best fits the user's question.\"\n",
    ")"
   ]
  },
  {
   "cell_type": "markdown",
   "id": "3005450f-1d5a-4aee-8a9c-acac5fbd65b6",
   "metadata": {},
   "source": [
    "## Defined 2 tools:"
   ]
  },
  {
   "cell_type": "code",
   "execution_count": 107,
   "id": "e213a7f2-1013-401d-9798-33c81520451f",
   "metadata": {},
   "outputs": [
    {
     "name": "stdout",
     "output_type": "stream",
     "text": [
      "-> Tool: count_letter_in_word is called for counting letter in a word  => (\"how many a's in this sentance?\", 'A')\n",
      "\n"
     ]
    },
    {
     "data": {
      "text/plain": [
       "3"
      ]
     },
     "execution_count": 107,
     "metadata": {},
     "output_type": "execute_result"
    }
   ],
   "source": [
    "# Let's start by making a useful function\n",
    "\n",
    "def count_letter_in_word(word, letter):\n",
    "    print(f\"-> Tool: count_letter_in_word is called for counting letter in a word  => {word, letter}\\n\")\n",
    "    counter = 0\n",
    "\n",
    "    for c in word.lower():\n",
    "        if c == letter.lower():\n",
    "            counter += 1\n",
    "    return counter\n",
    "\n",
    "count_letter_in_word(\"how many a's in this sentance?\", \"A\")"
   ]
  },
  {
   "cell_type": "code",
   "execution_count": 108,
   "id": "526500a4-35c7-44f2-8c37-e206acb4cdc9",
   "metadata": {},
   "outputs": [],
   "source": [
    "# There's a particular dictionary structure that's required to describe our function:\n",
    "# has 2 parameters\n",
    "\n",
    "count_function = {\n",
    "    \"name\": \"count_letter_in_word\",\n",
    "    \"description\": \n",
    "        \"Count the number of a given letter in a specific word. \"\n",
    "        \"Call this tool when the user asks questions like: \"\n",
    "        \"'How many R's are in the word Strawberry?', \"\n",
    "        \"'Count the letter A in banana', or \"\n",
    "        \"'Number of T's in cat'.\",\n",
    "    \"parameters\": {\n",
    "        \"type\": \"object\",\n",
    "        \"properties\": {\n",
    "            \"word\": {\n",
    "                \"type\": \"string\",\n",
    "                \"description\": \"The word in which to count letters\",\n",
    "            },\n",
    "            \"letter\": {\n",
    "                \"type\": \"string\",\n",
    "                \"description\": \"The letter to count\"\n",
    "            }\n",
    "            \n",
    "        },\n",
    "        \"required\": [\"word\", \"letter\"],\n",
    "        \"additionalProperties\": False\n",
    "    }\n",
    "}"
   ]
  },
  {
   "cell_type": "code",
   "execution_count": 109,
   "id": "f455913c-d06d-4429-af34-45d5cf62b70b",
   "metadata": {},
   "outputs": [],
   "source": [
    "# Let's start by making a useful function\n",
    "\n",
    "course_price = {\"ai\": \"$119\", \"python\": \"$49\", \"machine learning\": \"$99\", \"llm\": \"$199\"}\n",
    "\n",
    "def get_online_course_price(online_course):\n",
    "    print(f\"-> Tool: get_online_course_price is called for course => {online_course}\\n\")\n",
    "    \n",
    "    course = online_course.lower()\n",
    "    return course_price.get(course, \"Unknown\")"
   ]
  },
  {
   "cell_type": "code",
   "execution_count": 110,
   "id": "34c71ebd-b1db-48f3-ae6c-599a2a9386b9",
   "metadata": {},
   "outputs": [
    {
     "name": "stdout",
     "output_type": "stream",
     "text": [
      "-> Tool: get_online_course_price is called for course => LLM\n",
      "\n"
     ]
    },
    {
     "data": {
      "text/plain": [
       "'$199'"
      ]
     },
     "execution_count": 110,
     "metadata": {},
     "output_type": "execute_result"
    }
   ],
   "source": [
    "get_online_course_price(\"LLM\")"
   ]
  },
  {
   "cell_type": "code",
   "execution_count": 111,
   "id": "714cf419-9e97-41b8-85d2-4393ef950f79",
   "metadata": {},
   "outputs": [],
   "source": [
    "# There's a particular dictionary structure that's required to describe our function:\n",
    "\n",
    "price_function = {\n",
    "    \"name\": \"get_online_course_price\",\n",
    "    \"description\": \n",
    "        \"Retrieve the price of an online course. \"\n",
    "        \"Call this tool only when the user asks about course prices, \"\n",
    "        \"such as 'What is the price of AI Ethics course?' or \"\n",
    "        \"'How much does the Python course cost?'\",\n",
    "    \"parameters\": {\n",
    "        \"type\": \"object\",\n",
    "        \"properties\": {\n",
    "            \"online_course\": {\n",
    "                \"type\": \"string\",\n",
    "                \"description\": \n",
    "                    \"The online course that the customer wants to take.\"\n",
    "                    \"The exact name of the online course (e.g., 'AI', 'Python', 'LLM'). \"\n",
    "                    \"Do NOT include extra words like 'course', 'class', or 'training'.\"\n",
    "            },\n",
    "        },\n",
    "        \"required\": [\"online_course\"],\n",
    "        \"additionalProperties\": False\n",
    "    }\n",
    "}"
   ]
  },
  {
   "cell_type": "code",
   "execution_count": 112,
   "id": "014c57ea-02bd-400a-bb59-22922ed9a1f9",
   "metadata": {},
   "outputs": [],
   "source": [
    "# List of tools API can call\n",
    "tools = [\n",
    "    {\"type\": \"function\", \"function\": count_function}, \n",
    "    {\"type\": \"function\", \"function\": price_function}\n",
    "]"
   ]
  },
  {
   "cell_type": "markdown",
   "id": "8c7e0f5d-6a0e-4840-915a-9770cecc6c0f",
   "metadata": {},
   "source": [
    "### history not really used, gradio can handle message cumulation"
   ]
  },
  {
   "cell_type": "code",
   "execution_count": 113,
   "id": "d45438b4-3c2d-44d1-8d35-c6b8ac185c1c",
   "metadata": {},
   "outputs": [],
   "source": [
    "from pprint import pprint\n",
    "def chat(message, history):\n",
    "    messages = [{\"role\": \"system\", \"content\": system_message}] + history + [{\"role\": \"user\", \"content\": message}]\n",
    "    \n",
    "    response = openai.chat.completions.create(model=MODEL, messages=messages, tools=tools)\n",
    "\n",
    "    # Convert to dict using the `.model_dump()` method (recommended for OpenAI SDK v1+)\n",
    "    response_dict = response.model_dump()\n",
    "\n",
    "    print(\"Full Response Tree:\")\n",
    "    print(json.dumps(response_dict, indent=2))\n",
    "\n",
    "    print(\"\\nAssistant Message Tree:\")\n",
    "    print(json.dumps(response_dict['choices'][0]['message'], indent=2))\n",
    "\n",
    "    # assistant_message = response.choices[0].message.model_dump()\n",
    "    # history.append({\"role\": \"user\", \"content\": message})  # Add user input to history\n",
    "\n",
    "    \n",
    "    \n",
    "    if response.choices[0].finish_reason==\"tool_calls\":\n",
    "        tool_messages = []\n",
    "        for tool_call in response.choices[0].message.tool_calls:\n",
    "\n",
    "            # tool_calls=[ChatCompletionMessageToolCall(id='call_mBxqr2fMPiYXppOtBnytGydo', \n",
    "            # function=Function(arguments='{\"online_course\":\"LLM\"}', \n",
    "            # name='get_online_course_price'), type='function')]))], \n",
    "            function_name = tool_call.function.name\n",
    "            \n",
    "            # arguments = {'online_course': 'LLM'}, a Python dictionary, from a json string\n",
    "            # arguments = json.loads('{\"online_course\":\"LLM\"}')\n",
    "            arguments = json.loads(tool_call.function.arguments)\n",
    "\n",
    "            # Route to correct function\n",
    "            if function_name == \"count_letter_in_word\":\n",
    "                result = count_letter_in_word(**arguments)\n",
    "                pprint(f\"{function_name} result => {result}\")\n",
    "            elif function_name == \"get_online_course_price\":\n",
    "                # if arguments = {'online_course': 'LLM'}, \n",
    "                # then **arguments is equivalent to calling the function with online_course=\"LLM\".\n",
    "                result = get_online_course_price(**arguments)\n",
    "                pprint(f\"{function_name} result => {result}\")\n",
    "                print(result)\n",
    "                print()\n",
    "            else:\n",
    "                raise ValueError(f\"Unknow tool: {function_name}\")\n",
    "\n",
    "            tool_response ={\n",
    "                \"role\": \"tool\",\n",
    "                \"tool_call_id\": tool_call.id,\n",
    "                \"content\": json.dumps(result)\n",
    "            }\n",
    "            print(type(tool_response))\n",
    "            pprint(f\"tool_response => {tool_response}\")\n",
    "            print()\n",
    "            tool_messages.append(tool_response)\n",
    "            \n",
    "        # # Add assistant's tool call message\n",
    "        # history.append(assistant_message)\n",
    "        # # Add tool responses\n",
    "        # history.extend(tool_messages)\n",
    "        \n",
    "        \n",
    "        # Convert to dict using the `.model_dump()` method (recommended for OpenAI SDK v1+)\n",
    "        messages.append(response.choices[0].message.model_dump())\n",
    "\n",
    "        print(\"Full message w/o tool_message Tree:\")\n",
    "        print(json.dumps(messages, indent=2))\n",
    "        \n",
    "        messages.extend(tool_messages)\n",
    "        print(\"Full message w/ tool_message Tree:\")\n",
    "        print(type(messages))\n",
    "        print(json.dumps(messages, indent=2))\n",
    "        \n",
    "        response = openai.chat.completions.create(model=MODEL, messages=messages)\n",
    "        # Convert to dict using the `.model_dump()` method (recommended for OpenAI SDK v1+)\n",
    "        response_dict = response.model_dump()\n",
    "        print(\"Full response after call tool Tree:\")\n",
    "        print(json.dumps(response_dict, indent=2))\n",
    "        \n",
    "    \n",
    "    return response.choices[0].message.content"
   ]
  },
  {
   "cell_type": "markdown",
   "id": "086d7ffb-0453-4e1e-99da-ebbe6bc4b299",
   "metadata": {},
   "source": [
    "### Call gradio interfact and chat function, etc"
   ]
  },
  {
   "cell_type": "code",
   "execution_count": 114,
   "id": "abc5dce8-3910-4b27-bd4c-b51964256b5a",
   "metadata": {},
   "outputs": [
    {
     "name": "stdout",
     "output_type": "stream",
     "text": [
      "* Running on local URL:  http://127.0.0.1:7893\n",
      "* To create a public link, set `share=True` in `launch()`.\n"
     ]
    },
    {
     "data": {
      "text/html": [
       "<div><iframe src=\"http://127.0.0.1:7893/\" width=\"100%\" height=\"500\" allow=\"autoplay; camera; microphone; clipboard-read; clipboard-write;\" frameborder=\"0\" allowfullscreen></iframe></div>"
      ],
      "text/plain": [
       "<IPython.core.display.HTML object>"
      ]
     },
     "metadata": {},
     "output_type": "display_data"
    },
    {
     "data": {
      "text/plain": []
     },
     "execution_count": 114,
     "metadata": {},
     "output_type": "execute_result"
    },
    {
     "name": "stdout",
     "output_type": "stream",
     "text": [
      "Full Response Tree:\n",
      "{\n",
      "  \"id\": \"chatcmpl-BYJ8hSEXpSAJpSxp8XxEtOg9bOQN5\",\n",
      "  \"choices\": [\n",
      "    {\n",
      "      \"finish_reason\": \"stop\",\n",
      "      \"index\": 0,\n",
      "      \"logprobs\": null,\n",
      "      \"message\": {\n",
      "        \"content\": \"Hello! How can I assist you today?\",\n",
      "        \"refusal\": null,\n",
      "        \"role\": \"assistant\",\n",
      "        \"annotations\": [],\n",
      "        \"audio\": null,\n",
      "        \"function_call\": null,\n",
      "        \"tool_calls\": null\n",
      "      }\n",
      "    }\n",
      "  ],\n",
      "  \"created\": 1747516423,\n",
      "  \"model\": \"gpt-4o-mini-2024-07-18\",\n",
      "  \"object\": \"chat.completion\",\n",
      "  \"service_tier\": \"default\",\n",
      "  \"system_fingerprint\": \"fp_54eb4bd693\",\n",
      "  \"usage\": {\n",
      "    \"completion_tokens\": 10,\n",
      "    \"prompt_tokens\": 330,\n",
      "    \"total_tokens\": 340,\n",
      "    \"completion_tokens_details\": {\n",
      "      \"accepted_prediction_tokens\": 0,\n",
      "      \"audio_tokens\": 0,\n",
      "      \"reasoning_tokens\": 0,\n",
      "      \"rejected_prediction_tokens\": 0\n",
      "    },\n",
      "    \"prompt_tokens_details\": {\n",
      "      \"audio_tokens\": 0,\n",
      "      \"cached_tokens\": 0\n",
      "    }\n",
      "  }\n",
      "}\n",
      "\n",
      "Assistant Message Tree:\n",
      "{\n",
      "  \"content\": \"Hello! How can I assist you today?\",\n",
      "  \"refusal\": null,\n",
      "  \"role\": \"assistant\",\n",
      "  \"annotations\": [],\n",
      "  \"audio\": null,\n",
      "  \"function_call\": null,\n",
      "  \"tool_calls\": null\n",
      "}\n",
      "Full Response Tree:\n",
      "{\n",
      "  \"id\": \"chatcmpl-BYJ8nY5o64xiq6lCKj5zj5fUf3VEs\",\n",
      "  \"choices\": [\n",
      "    {\n",
      "      \"finish_reason\": \"tool_calls\",\n",
      "      \"index\": 0,\n",
      "      \"logprobs\": null,\n",
      "      \"message\": {\n",
      "        \"content\": null,\n",
      "        \"refusal\": null,\n",
      "        \"role\": \"assistant\",\n",
      "        \"annotations\": [],\n",
      "        \"audio\": null,\n",
      "        \"function_call\": null,\n",
      "        \"tool_calls\": [\n",
      "          {\n",
      "            \"id\": \"call_cUNkURYmNbUml3EDwf4lVeT4\",\n",
      "            \"function\": {\n",
      "              \"arguments\": \"{\\\"online_course\\\":\\\"LLM\\\"}\",\n",
      "              \"name\": \"get_online_course_price\"\n",
      "            },\n",
      "            \"type\": \"function\"\n",
      "          }\n",
      "        ]\n",
      "      }\n",
      "    }\n",
      "  ],\n",
      "  \"created\": 1747516429,\n",
      "  \"model\": \"gpt-4o-mini-2024-07-18\",\n",
      "  \"object\": \"chat.completion\",\n",
      "  \"service_tier\": \"default\",\n",
      "  \"system_fingerprint\": \"fp_54eb4bd693\",\n",
      "  \"usage\": {\n",
      "    \"completion_tokens\": 18,\n",
      "    \"prompt_tokens\": 350,\n",
      "    \"total_tokens\": 368,\n",
      "    \"completion_tokens_details\": {\n",
      "      \"accepted_prediction_tokens\": 0,\n",
      "      \"audio_tokens\": 0,\n",
      "      \"reasoning_tokens\": 0,\n",
      "      \"rejected_prediction_tokens\": 0\n",
      "    },\n",
      "    \"prompt_tokens_details\": {\n",
      "      \"audio_tokens\": 0,\n",
      "      \"cached_tokens\": 0\n",
      "    }\n",
      "  }\n",
      "}\n",
      "\n",
      "Assistant Message Tree:\n",
      "{\n",
      "  \"content\": null,\n",
      "  \"refusal\": null,\n",
      "  \"role\": \"assistant\",\n",
      "  \"annotations\": [],\n",
      "  \"audio\": null,\n",
      "  \"function_call\": null,\n",
      "  \"tool_calls\": [\n",
      "    {\n",
      "      \"id\": \"call_cUNkURYmNbUml3EDwf4lVeT4\",\n",
      "      \"function\": {\n",
      "        \"arguments\": \"{\\\"online_course\\\":\\\"LLM\\\"}\",\n",
      "        \"name\": \"get_online_course_price\"\n",
      "      },\n",
      "      \"type\": \"function\"\n",
      "    }\n",
      "  ]\n",
      "}\n",
      "-> Tool: get_online_course_price is called for course => LLM\n",
      "\n",
      "'get_online_course_price result => $199'\n",
      "$199\n",
      "\n",
      "<class 'dict'>\n",
      "(\"tool_response => {'role': 'tool', 'tool_call_id': \"\n",
      " '\\'call_cUNkURYmNbUml3EDwf4lVeT4\\', \\'content\\': \\'\"$199\"\\'}')\n",
      "\n",
      "Full message w/o tool_message Tree:\n",
      "[\n",
      "  {\n",
      "    \"role\": \"system\",\n",
      "    \"content\": \"You are a helpful assistant with access to two tools: 1) 'count_letter_in_word' - to count how many times a letter appears in a word or the sentance. Use this when the user asks questions like 'How many R's are in Strawberry?', or 'how many E's are in this sentence?'. 2) 'get_online_course_price' - to retrieve prices for online courses. Use this when the user asks about course prices like 'What is the price of AI Ethics course?'. Always pick the tool that best fits the user's question.\"\n",
      "  },\n",
      "  {\n",
      "    \"role\": \"user\",\n",
      "    \"metadata\": null,\n",
      "    \"content\": \"hi\",\n",
      "    \"options\": null\n",
      "  },\n",
      "  {\n",
      "    \"role\": \"assistant\",\n",
      "    \"metadata\": null,\n",
      "    \"content\": \"Hello! How can I assist you today?\",\n",
      "    \"options\": null\n",
      "  },\n",
      "  {\n",
      "    \"role\": \"user\",\n",
      "    \"content\": \"llm price\"\n",
      "  },\n",
      "  {\n",
      "    \"content\": null,\n",
      "    \"refusal\": null,\n",
      "    \"role\": \"assistant\",\n",
      "    \"annotations\": [],\n",
      "    \"audio\": null,\n",
      "    \"function_call\": null,\n",
      "    \"tool_calls\": [\n",
      "      {\n",
      "        \"id\": \"call_cUNkURYmNbUml3EDwf4lVeT4\",\n",
      "        \"function\": {\n",
      "          \"arguments\": \"{\\\"online_course\\\":\\\"LLM\\\"}\",\n",
      "          \"name\": \"get_online_course_price\"\n",
      "        },\n",
      "        \"type\": \"function\"\n",
      "      }\n",
      "    ]\n",
      "  }\n",
      "]\n",
      "Full message w/ tool_message Tree:\n",
      "<class 'list'>\n",
      "[\n",
      "  {\n",
      "    \"role\": \"system\",\n",
      "    \"content\": \"You are a helpful assistant with access to two tools: 1) 'count_letter_in_word' - to count how many times a letter appears in a word or the sentance. Use this when the user asks questions like 'How many R's are in Strawberry?', or 'how many E's are in this sentence?'. 2) 'get_online_course_price' - to retrieve prices for online courses. Use this when the user asks about course prices like 'What is the price of AI Ethics course?'. Always pick the tool that best fits the user's question.\"\n",
      "  },\n",
      "  {\n",
      "    \"role\": \"user\",\n",
      "    \"metadata\": null,\n",
      "    \"content\": \"hi\",\n",
      "    \"options\": null\n",
      "  },\n",
      "  {\n",
      "    \"role\": \"assistant\",\n",
      "    \"metadata\": null,\n",
      "    \"content\": \"Hello! How can I assist you today?\",\n",
      "    \"options\": null\n",
      "  },\n",
      "  {\n",
      "    \"role\": \"user\",\n",
      "    \"content\": \"llm price\"\n",
      "  },\n",
      "  {\n",
      "    \"content\": null,\n",
      "    \"refusal\": null,\n",
      "    \"role\": \"assistant\",\n",
      "    \"annotations\": [],\n",
      "    \"audio\": null,\n",
      "    \"function_call\": null,\n",
      "    \"tool_calls\": [\n",
      "      {\n",
      "        \"id\": \"call_cUNkURYmNbUml3EDwf4lVeT4\",\n",
      "        \"function\": {\n",
      "          \"arguments\": \"{\\\"online_course\\\":\\\"LLM\\\"}\",\n",
      "          \"name\": \"get_online_course_price\"\n",
      "        },\n",
      "        \"type\": \"function\"\n",
      "      }\n",
      "    ]\n",
      "  },\n",
      "  {\n",
      "    \"role\": \"tool\",\n",
      "    \"tool_call_id\": \"call_cUNkURYmNbUml3EDwf4lVeT4\",\n",
      "    \"content\": \"\\\"$199\\\"\"\n",
      "  }\n",
      "]\n",
      "Full response after call tool Tree:\n",
      "{\n",
      "  \"id\": \"chatcmpl-BYJ8oPArJPMDWmFEgAkr2h2syjN4U\",\n",
      "  \"choices\": [\n",
      "    {\n",
      "      \"finish_reason\": \"stop\",\n",
      "      \"index\": 0,\n",
      "      \"logprobs\": null,\n",
      "      \"message\": {\n",
      "        \"content\": \"The price for the LLM course is $199. If you have any more questions or need further assistance, feel free to ask!\",\n",
      "        \"refusal\": null,\n",
      "        \"role\": \"assistant\",\n",
      "        \"annotations\": [],\n",
      "        \"audio\": null,\n",
      "        \"function_call\": null,\n",
      "        \"tool_calls\": null\n",
      "      }\n",
      "    }\n",
      "  ],\n",
      "  \"created\": 1747516430,\n",
      "  \"model\": \"gpt-4o-mini-2024-07-18\",\n",
      "  \"object\": \"chat.completion\",\n",
      "  \"service_tier\": \"default\",\n",
      "  \"system_fingerprint\": \"fp_54eb4bd693\",\n",
      "  \"usage\": {\n",
      "    \"completion_tokens\": 27,\n",
      "    \"prompt_tokens\": 178,\n",
      "    \"total_tokens\": 205,\n",
      "    \"completion_tokens_details\": {\n",
      "      \"accepted_prediction_tokens\": 0,\n",
      "      \"audio_tokens\": 0,\n",
      "      \"reasoning_tokens\": 0,\n",
      "      \"rejected_prediction_tokens\": 0\n",
      "    },\n",
      "    \"prompt_tokens_details\": {\n",
      "      \"audio_tokens\": 0,\n",
      "      \"cached_tokens\": 0\n",
      "    }\n",
      "  }\n",
      "}\n"
     ]
    }
   ],
   "source": [
    "gr.ChatInterface(fn=chat, type=\"messages\").launch()"
   ]
  },
  {
   "cell_type": "code",
   "execution_count": null,
   "id": "0a2b2e20-6b69-4ce7-ba75-0b81eb203a27",
   "metadata": {},
   "outputs": [],
   "source": []
  },
  {
   "cell_type": "code",
   "execution_count": null,
   "id": "6d8a806e-080d-4307-8915-f7230c47528d",
   "metadata": {},
   "outputs": [],
   "source": []
  },
  {
   "cell_type": "markdown",
   "id": "90067547-f869-409c-8270-12162d56e4ce",
   "metadata": {
    "editable": true,
    "slideshow": {
     "slide_type": ""
    },
    "tags": []
   },
   "source": [
    "# streaming example but NOT working"
   ]
  },
  {
   "cell_type": "code",
   "execution_count": null,
   "id": "986471aa-c0f0-483e-ba5d-9c6fe3368a98",
   "metadata": {
    "editable": true,
    "slideshow": {
     "slide_type": ""
    },
    "tags": []
   },
   "outputs": [],
   "source": [
    "import gradio as gr\n",
    "import openai\n",
    "\n",
    "openai.api_key = api_key\n",
    "\n",
    "system_message = \"You are a helpful assistant.\"\n",
    "MODEL = \"gpt-3.5-turbo\"\n",
    "\n",
    "def chat(message, history):\n",
    "    messages = [{\"role\": \"system\", \"content\": system_message}] + history + [{\"role\": \"user\", \"content\": message}]\n",
    "    \n",
    "    stream = openai.chat.completions.create(\n",
    "        model=MODEL,\n",
    "        messages=messages,\n",
    "        stream=True,\n",
    "    )\n",
    "\n",
    "    full_content = \"\"\n",
    "    for chunk in stream:\n",
    "        delta = chunk.choices[0].delta\n",
    "        if \"content\" in delta:\n",
    "            full_content += delta.content\n",
    "            yield history + [{\"role\": \"user\", \"content\": message}, {\"role\": \"assistant\", \"content\": full_content}]\n",
    "    \n",
    "    # Do NOT use return here — just let the generator finish\n",
    "\n",
    "gr.ChatInterface(fn=chat, type=\"messages\").launch()\n"
   ]
  },
  {
   "cell_type": "code",
   "execution_count": null,
   "id": "2aeb61d5-2035-449b-8f80-3486de93d804",
   "metadata": {},
   "outputs": [],
   "source": []
  },
  {
   "cell_type": "code",
   "execution_count": null,
   "id": "b05250e8-eb26-486b-add4-4cf1986e8264",
   "metadata": {},
   "outputs": [],
   "source": []
  },
  {
   "cell_type": "code",
   "execution_count": null,
   "id": "6c0303dd-765d-4cfe-9ba7-6d46da80fd79",
   "metadata": {},
   "outputs": [],
   "source": []
  },
  {
   "cell_type": "code",
   "execution_count": null,
   "id": "83a1b248-4ebd-478d-878a-7a198de3d4c1",
   "metadata": {},
   "outputs": [],
   "source": []
  },
  {
   "cell_type": "code",
   "execution_count": null,
   "id": "d0675b28-52d7-42c0-be28-b5180ec258e5",
   "metadata": {},
   "outputs": [],
   "source": [
    "\n",
    "\n"
   ]
  }
 ],
 "metadata": {
  "kernelspec": {
   "display_name": "Python 3 (ipykernel)",
   "language": "python",
   "name": "python3"
  },
  "language_info": {
   "codemirror_mode": {
    "name": "ipython",
    "version": 3
   },
   "file_extension": ".py",
   "mimetype": "text/x-python",
   "name": "python",
   "nbconvert_exporter": "python",
   "pygments_lexer": "ipython3",
   "version": "3.11.12"
  }
 },
 "nbformat": 4,
 "nbformat_minor": 5
}
