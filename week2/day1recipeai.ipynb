{
 "cells": [
  {
   "cell_type": "code",
   "execution_count": null,
   "id": "5ecc1844-3dc9-4aa6-8626-09b315f5dacd",
   "metadata": {},
   "outputs": [],
   "source": [
    "import os\n",
    "import json\n",
    "from dotenv import load_dotenv\n",
    "from openai import OpenAI\n",
    "import anthropic\n",
    "from IPython.display import Markdown, display, update_display"
   ]
  },
  {
   "cell_type": "code",
   "execution_count": null,
   "id": "9d73ce60-a96d-4d43-b437-8e8925bb0853",
   "metadata": {
    "scrolled": true
   },
   "outputs": [],
   "source": [
    "# check the environment variables\n",
    "load_dotenv(override=True)\n",
    "openai_api_key=os.getenv('OPENAI_API_KEY')\n",
    "if openai_api_key:\n",
    "    print(\"Key found\")\n",
    "else:\n",
    "    print(\"Invalid key\")"
   ]
  },
  {
   "cell_type": "code",
   "execution_count": null,
   "id": "19dc2201-1212-451d-bf08-7dddc42bb7ed",
   "metadata": {},
   "outputs": [],
   "source": [
    "openai = OpenAI()"
   ]
  },
  {
   "cell_type": "code",
   "execution_count": null,
   "id": "0c7fe962-6a10-4708-8d3a-a76254cc224b",
   "metadata": {},
   "outputs": [],
   "source": [
    "# Anthropic model to be used\n",
    "MODEL = \"gpt-4.1-mini\""
   ]
  },
  {
   "cell_type": "code",
   "execution_count": null,
   "id": "6ad4b4de-ffc6-4f36-a75a-057b5c153116",
   "metadata": {},
   "outputs": [],
   "source": [
    "# Prompt to tell the system what it needs to do\n",
    "system_prompt = \"\"\"You are RecipeAI, an expert chef assistant. \n",
    "When a user tells you the food they want to eat or the ingredients they have, suggest a recipe in a clear, step-by-step format.\n",
    "\n",
    "Your response must include:\n",
    "1. Recipe Name\n",
    "2. Short Description\n",
    "3. Ingredients List\n",
    "4. Step-by-Step Instructions\n",
    "5. Optional Tips (e.g., variations, healthier options)\n",
    "\n",
    "Keep the response concise but practical, and make sure the recipe is easy to follow.\n",
    "\"\"\""
   ]
  },
  {
   "cell_type": "code",
   "execution_count": null,
   "id": "b3694292-ab9d-4a01-8007-5f9532adf69b",
   "metadata": {},
   "outputs": [],
   "source": [
    "food_question = input(\"Enter food to get recipe: \")"
   ]
  },
  {
   "cell_type": "code",
   "execution_count": null,
   "id": "3d248087-b728-4008-b986-6b011231a35c",
   "metadata": {},
   "outputs": [],
   "source": [
    "#getting the messages for the llm\n",
    "prompts = [\n",
    "    {\"role\": \"system\", \"content\": system_prompt},\n",
    "    {\"role\": \"user\", \"content\": food_question}\n",
    "]"
   ]
  },
  {
   "cell_type": "code",
   "execution_count": null,
   "id": "d3323c14-a247-4dc7-82e9-eeebb0ec6101",
   "metadata": {
    "scrolled": true
   },
   "outputs": [],
   "source": [
    "#response of the ai\n",
    "response = openai.chat.completions.create(\n",
    "    model = MODEL,\n",
    "    max_tokens = 200,\n",
    "    temperature = 0.6,\n",
    "    messages = prompts,\n",
    "    \n",
    ")\n",
    "recipe_output = response.choices[0].message.content\n",
    "display(Markdown(recipe_output))"
   ]
  },
  {
   "cell_type": "code",
   "execution_count": null,
   "id": "4f901826-ed4a-4297-ae63-391826256caa",
   "metadata": {},
   "outputs": [],
   "source": []
  }
 ],
 "metadata": {
  "kernelspec": {
   "display_name": "Python 3 (ipykernel)",
   "language": "python",
   "name": "python3"
  },
  "language_info": {
   "codemirror_mode": {
    "name": "ipython",
    "version": 3
   },
   "file_extension": ".py",
   "mimetype": "text/x-python",
   "name": "python",
   "nbconvert_exporter": "python",
   "pygments_lexer": "ipython3",
   "version": "3.11.13"
  }
 },
 "nbformat": 4,
 "nbformat_minor": 5
}
