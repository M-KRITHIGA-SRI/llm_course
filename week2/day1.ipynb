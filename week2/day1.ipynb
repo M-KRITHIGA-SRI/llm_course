{
 "cells": [
  {
   "cell_type": "markdown",
   "id": "06cf3063-9f3e-4551-a0d5-f08d9cabb927",
   "metadata": {},
   "source": [
    "# Welcome to Week 2!\n",
    "\n",
    "## Frontier Model APIs\n",
    "\n",
    "In Week 1, we used multiple Frontier LLMs through their Chat UI, and we connected with the OpenAI's API.\n",
    "\n",
    "Today we'll connect with the APIs for Anthropic and Google, as well as OpenAI."
   ]
  },
  {
   "cell_type": "markdown",
   "id": "2b268b6e-0ba4-461e-af86-74a41f4d681f",
   "metadata": {},
   "source": [
    "<table style=\"margin: 0; text-align: left;\">\n",
    "    <tr>\n",
    "        <td style=\"width: 150px; height: 150px; vertical-align: middle;\">\n",
    "            <img src=\"../important.jpg\" width=\"150\" height=\"150\" style=\"display: block;\" />\n",
    "        </td>\n",
    "        <td>\n",
    "            <h2 style=\"color:#900;\">Important Note - Please read me</h2>\n",
    "            <span style=\"color:#900;\">I'm continually improving these labs, adding more examples and exercises.\n",
    "            At the start of each week, it's worth checking you have the latest code.<br/>\n",
    "            First do a <a href=\"https://chatgpt.com/share/6734e705-3270-8012-a074-421661af6ba9\">git pull and merge your changes as needed</a>. Any problems? Try asking ChatGPT to clarify how to merge - or contact me!<br/><br/>\n",
    "            After you've pulled the code, from the llm_engineering directory, in an Anaconda prompt (PC) or Terminal (Mac), run:<br/>\n",
    "            <code>conda env update --f environment.yml</code><br/>\n",
    "            Or if you used virtualenv rather than Anaconda, then run this from your activated environment in a Powershell (PC) or Terminal (Mac):<br/>\n",
    "            <code>pip install -r requirements.txt</code>\n",
    "            <br/>Then restart the kernel (Kernel menu >> Restart Kernel and Clear Outputs Of All Cells) to pick up the changes.\n",
    "            </span>\n",
    "        </td>\n",
    "    </tr>\n",
    "</table>\n",
    "<table style=\"margin: 0; text-align: left;\">\n",
    "    <tr>\n",
    "        <td style=\"width: 150px; height: 150px; vertical-align: middle;\">\n",
    "            <img src=\"../resources.jpg\" width=\"150\" height=\"150\" style=\"display: block;\" />\n",
    "        </td>\n",
    "        <td>\n",
    "            <h2 style=\"color:#f71;\">Reminder about the resources page</h2>\n",
    "            <span style=\"color:#f71;\">Here's a link to resources for the course. This includes links to all the slides.<br/>\n",
    "            <a href=\"https://edwarddonner.com/2024/11/13/llm-engineering-resources/\">https://edwarddonner.com/2024/11/13/llm-engineering-resources/</a><br/>\n",
    "            Please keep this bookmarked, and I'll continue to add more useful links there over time.\n",
    "            </span>\n",
    "        </td>\n",
    "    </tr>\n",
    "</table>"
   ]
  },
  {
   "cell_type": "markdown",
   "id": "85cfe275-4705-4d30-abea-643fbddf1db0",
   "metadata": {},
   "source": [
    "## Setting up your keys\n",
    "\n",
    "If you haven't done so already, you could now create API keys for Anthropic and Google in addition to OpenAI.\n",
    "\n",
    "**Please note:** if you'd prefer to avoid extra API costs, feel free to skip setting up Anthopic and Google! You can see me do it, and focus on OpenAI for the course. You could also substitute Anthropic and/or Google for Ollama, using the exercise you did in week 1.\n",
    "\n",
    "For OpenAI, visit https://openai.com/api/  \n",
    "For Anthropic, visit https://console.anthropic.com/  \n",
    "For Google, visit https://ai.google.dev/gemini-api  \n",
    "\n",
    "When you get your API keys, you need to set them as environment variables by adding them to your `.env` file.\n",
    "\n",
    "```\n",
    "OPENAI_API_KEY=xxxx\n",
    "ANTHROPIC_API_KEY=xxxx\n",
    "GOOGLE_API_KEY=xxxx\n",
    "```\n",
    "\n",
    "Afterwards, you may need to restart the Jupyter Lab Kernel (the Python process that sits behind this notebook) via the Kernel menu, and then rerun the cells from the top."
   ]
  },
  {
   "cell_type": "code",
   "execution_count": 28,
   "id": "de23bb9e-37c5-4377-9a82-d7b6c648eeb6",
   "metadata": {},
   "outputs": [
    {
     "name": "stdout",
     "output_type": "stream",
     "text": [
      "Collecting anthropic\n",
      "  Downloading anthropic-0.45.2-py3-none-any.whl.metadata (23 kB)\n",
      "Requirement already satisfied: anyio<5,>=3.5.0 in /Users/adang4/Documents/devwork/andersondang/llm_engineering/llms/lib/python3.11/site-packages (from anthropic) (4.8.0)\n",
      "Requirement already satisfied: distro<2,>=1.7.0 in /Users/adang4/Documents/devwork/andersondang/llm_engineering/llms/lib/python3.11/site-packages (from anthropic) (1.9.0)\n",
      "Requirement already satisfied: httpx<1,>=0.23.0 in /Users/adang4/Documents/devwork/andersondang/llm_engineering/llms/lib/python3.11/site-packages (from anthropic) (0.28.1)\n",
      "Requirement already satisfied: jiter<1,>=0.4.0 in /Users/adang4/Documents/devwork/andersondang/llm_engineering/llms/lib/python3.11/site-packages (from anthropic) (0.8.2)\n",
      "Requirement already satisfied: pydantic<3,>=1.9.0 in /Users/adang4/Documents/devwork/andersondang/llm_engineering/llms/lib/python3.11/site-packages (from anthropic) (2.10.6)\n",
      "Requirement already satisfied: sniffio in /Users/adang4/Documents/devwork/andersondang/llm_engineering/llms/lib/python3.11/site-packages (from anthropic) (1.3.1)\n",
      "Requirement already satisfied: typing-extensions<5,>=4.10 in /Users/adang4/Documents/devwork/andersondang/llm_engineering/llms/lib/python3.11/site-packages (from anthropic) (4.12.2)\n",
      "Requirement already satisfied: idna>=2.8 in /Users/adang4/Documents/devwork/andersondang/llm_engineering/llms/lib/python3.11/site-packages (from anyio<5,>=3.5.0->anthropic) (3.10)\n",
      "Requirement already satisfied: certifi in /Users/adang4/Documents/devwork/andersondang/llm_engineering/llms/lib/python3.11/site-packages (from httpx<1,>=0.23.0->anthropic) (2025.1.31)\n",
      "Requirement already satisfied: httpcore==1.* in /Users/adang4/Documents/devwork/andersondang/llm_engineering/llms/lib/python3.11/site-packages (from httpx<1,>=0.23.0->anthropic) (1.0.7)\n",
      "Requirement already satisfied: h11<0.15,>=0.13 in /Users/adang4/Documents/devwork/andersondang/llm_engineering/llms/lib/python3.11/site-packages (from httpcore==1.*->httpx<1,>=0.23.0->anthropic) (0.14.0)\n",
      "Requirement already satisfied: annotated-types>=0.6.0 in /Users/adang4/Documents/devwork/andersondang/llm_engineering/llms/lib/python3.11/site-packages (from pydantic<3,>=1.9.0->anthropic) (0.7.0)\n",
      "Requirement already satisfied: pydantic-core==2.27.2 in /Users/adang4/Documents/devwork/andersondang/llm_engineering/llms/lib/python3.11/site-packages (from pydantic<3,>=1.9.0->anthropic) (2.27.2)\n",
      "Downloading anthropic-0.45.2-py3-none-any.whl (222 kB)\n",
      "Installing collected packages: anthropic\n",
      "Successfully installed anthropic-0.45.2\n"
     ]
    }
   ],
   "source": [
    "!pip install anthropic\n",
    "\n",
    "# imports\n",
    "\n",
    "import os\n",
    "from dotenv import load_dotenv\n",
    "from openai import OpenAI\n",
    "import anthropic\n",
    "from IPython.display import Markdown, display, update_display"
   ]
  },
  {
   "cell_type": "code",
   "execution_count": 29,
   "id": "f0a8ab2b-6134-4104-a1bc-c3cd7ea4cd36",
   "metadata": {},
   "outputs": [],
   "source": [
    "# import for google\n",
    "# in rare cases, this seems to give an error on some systems, or even crashes the kernel\n",
    "# If this happens to you, simply ignore this cell - I give an alternative approach for using Gemini later\n",
    "\n",
    "import google.generativeai"
   ]
  },
  {
   "cell_type": "code",
   "execution_count": 30,
   "id": "1179b4c5-cd1f-4131-a876-4c9f3f38d2ba",
   "metadata": {},
   "outputs": [
    {
     "name": "stdout",
     "output_type": "stream",
     "text": [
      "OpenAI API Key exists and begins sk-proj-\n",
      "Anthropic API Key exists and begins sk-ant-\n",
      "Google API Key exists and begins AIzaSyDi\n"
     ]
    }
   ],
   "source": [
    "# Load environment variables in a file called .env\n",
    "# Print the key prefixes to help with any debugging\n",
    "\n",
    "load_dotenv()\n",
    "openai_api_key = os.getenv('OPENAI_API_KEY')\n",
    "anthropic_api_key = os.getenv('ANTHROPIC_API_KEY')\n",
    "google_api_key = os.getenv('GOOGLE_API_KEY')\n",
    "\n",
    "if openai_api_key:\n",
    "    print(f\"OpenAI API Key exists and begins {openai_api_key[:8]}\")\n",
    "else:\n",
    "    print(\"OpenAI API Key not set\")\n",
    "    \n",
    "if anthropic_api_key:\n",
    "    print(f\"Anthropic API Key exists and begins {anthropic_api_key[:7]}\")\n",
    "else:\n",
    "    print(\"Anthropic API Key not set\")\n",
    "\n",
    "if google_api_key:\n",
    "    print(f\"Google API Key exists and begins {google_api_key[:8]}\")\n",
    "else:\n",
    "    print(\"Google API Key not set\")"
   ]
  },
  {
   "cell_type": "code",
   "execution_count": 39,
   "id": "797fe7b0-ad43-42d2-acf0-e4f309b112f0",
   "metadata": {},
   "outputs": [],
   "source": [
    "# Connect to OpenAI, Anthropic\n",
    "\n",
    "openai = OpenAI()\n",
    "\n",
    "claude = anthropic.Anthropic()"
   ]
  },
  {
   "cell_type": "code",
   "execution_count": 32,
   "id": "425ed580-808d-429b-85b0-6cba50ca1d0c",
   "metadata": {},
   "outputs": [],
   "source": [
    "# This is the set up code for Gemini\n",
    "# Having problems with Google Gemini setup? Then just ignore this cell; when we use Gemini, I'll give you an alternative that bypasses this library altogether\n",
    "\n",
    "google.generativeai.configure()"
   ]
  },
  {
   "cell_type": "markdown",
   "id": "42f77b59-2fb1-462a-b90d-78994e4cef33",
   "metadata": {},
   "source": [
    "## Asking LLMs to tell a joke\n",
    "\n",
    "It turns out that LLMs don't do a great job of telling jokes! Let's compare a few models.\n",
    "Later we will be putting LLMs to better use!\n",
    "\n",
    "### What information is included in the API\n",
    "\n",
    "Typically we'll pass to the API:\n",
    "- The name of the model that should be used\n",
    "- A system message that gives overall context for the role the LLM is playing\n",
    "- A user message that provides the actual prompt\n",
    "\n",
    "There are other parameters that can be used, including **temperature** which is typically between 0 and 1; higher for more random output; lower for more focused and deterministic."
   ]
  },
  {
   "cell_type": "code",
   "execution_count": 33,
   "id": "378a0296-59a2-45c6-82eb-941344d3eeff",
   "metadata": {},
   "outputs": [],
   "source": [
    "system_message = \"You are an assistant that is great at telling jokes\"\n",
    "user_prompt = \"Tell a light-hearted joke for an audience of Data Scientists\""
   ]
  },
  {
   "cell_type": "code",
   "execution_count": 34,
   "id": "f4d56a0f-2a3d-484d-9344-0efa6862aff4",
   "metadata": {},
   "outputs": [],
   "source": [
    "prompts = [\n",
    "    {\"role\": \"system\", \"content\": system_message},\n",
    "    {\"role\": \"user\", \"content\": user_prompt}\n",
    "  ]"
   ]
  },
  {
   "cell_type": "code",
   "execution_count": 35,
   "id": "3b3879b6-9a55-4fed-a18c-1ea2edfaf397",
   "metadata": {},
   "outputs": [
    {
     "name": "stdout",
     "output_type": "stream",
     "text": [
      "Why do data scientists prefer dark chocolate?\n",
      "\n",
      "Because they don't like it when their data sets are too sweet!\n"
     ]
    }
   ],
   "source": [
    "# GPT-3.5-Turbo\n",
    "\n",
    "completion = openai.chat.completions.create(model='gpt-3.5-turbo', messages=prompts)\n",
    "print(completion.choices[0].message.content)"
   ]
  },
  {
   "cell_type": "code",
   "execution_count": 36,
   "id": "3d2d6beb-1b81-466f-8ed1-40bf51e7adbf",
   "metadata": {},
   "outputs": [
    {
     "name": "stdout",
     "output_type": "stream",
     "text": [
      "Why did the data scientist break up with the statistician?\n",
      "\n",
      "Because he found her mean too average!\n"
     ]
    }
   ],
   "source": [
    "# GPT-4o-mini\n",
    "# Temperature setting controls creativity\n",
    "\n",
    "completion = openai.chat.completions.create(\n",
    "    model='gpt-4o-mini',\n",
    "    messages=prompts,\n",
    "    temperature=0.7\n",
    ")\n",
    "print(completion.choices[0].message.content)"
   ]
  },
  {
   "cell_type": "code",
   "execution_count": 37,
   "id": "f1f54beb-823f-4301-98cb-8b9a49f4ce26",
   "metadata": {},
   "outputs": [
    {
     "name": "stdout",
     "output_type": "stream",
     "text": [
      "Why did the data scientist bring a ladder to the office?\n",
      "\n",
      "Because they heard the project had a lot of layers to unravel!\n"
     ]
    }
   ],
   "source": [
    "# GPT-4o\n",
    "\n",
    "completion = openai.chat.completions.create(\n",
    "    model='gpt-4o',\n",
    "    messages=prompts,\n",
    "    temperature=0.4\n",
    ")\n",
    "print(completion.choices[0].message.content)"
   ]
  },
  {
   "cell_type": "code",
   "execution_count": 41,
   "id": "1ecdb506-9f7c-4539-abae-0e78d7f31b76",
   "metadata": {},
   "outputs": [
    {
     "name": "stdout",
     "output_type": "stream",
     "text": [
      "Sure, here's a light-hearted joke for data scientists:\n",
      "\n",
      "Why did the data scientist break up with their significant other?\n",
      "\n",
      "There was just too much variance in the relationship, and they couldn't find a meaningful correlation!\n"
     ]
    }
   ],
   "source": [
    "# Claude 3.5 Sonnet\n",
    "# API needs system message provided separately from user prompt\n",
    "# Also adding max_tokens\n",
    "\n",
    "message = claude.messages.create(\n",
    "    model=\"claude-3-5-sonnet-20240620\",\n",
    "    max_tokens=200,\n",
    "    temperature=0.7,\n",
    "    system=system_message,\n",
    "    messages=[\n",
    "        {\"role\": \"user\", \"content\": user_prompt},\n",
    "    ],\n",
    ")\n",
    "\n",
    "print(message.content[0].text)"
   ]
  },
  {
   "cell_type": "code",
   "execution_count": 42,
   "id": "769c4017-4b3b-4e64-8da7-ef4dcbe3fd9f",
   "metadata": {},
   "outputs": [
    {
     "name": "stdout",
     "output_type": "stream",
     "text": [
      "Sure, here's a light-hearted joke for data scientists:\n",
      "\n",
      "Why did the data scientist break up with their significant other?\n",
      "\n",
      "There was just too much variance in the relationship, and they couldn't find a good way to normalize it!"
     ]
    }
   ],
   "source": [
    "# Claude 3.5 Sonnet again\n",
    "# Now let's add in streaming back results\n",
    "\n",
    "result = claude.messages.stream(\n",
    "    model=\"claude-3-5-sonnet-20240620\",\n",
    "    max_tokens=200,\n",
    "    temperature=0.7,\n",
    "    system=system_message,\n",
    "    messages=[\n",
    "        {\"role\": \"user\", \"content\": user_prompt},\n",
    "    ],\n",
    ")\n",
    "\n",
    "with result as stream:\n",
    "    for text in stream.text_stream:\n",
    "            print(text, end=\"\", flush=True)"
   ]
  },
  {
   "cell_type": "code",
   "execution_count": 18,
   "id": "d34ec329",
   "metadata": {},
   "outputs": [
    {
     "name": "stdout",
     "output_type": "stream",
     "text": [
      "Requirement already satisfied: pip in /Users/adang4/Documents/devwork/andersondang/llm_engineering/llms/lib/python3.11/site-packages (25.0.1)\n"
     ]
    }
   ],
   "source": [
    "!pip install --upgrade pip\n",
    "!pip install -q -U google-genai\n",
    "from google import genai"
   ]
  },
  {
   "cell_type": "code",
   "execution_count": 20,
   "id": "7520ec34",
   "metadata": {},
   "outputs": [],
   "source": [
    "client = genai.Client(api_key=google_api_key)"
   ]
  },
  {
   "cell_type": "code",
   "execution_count": 22,
   "id": "914d2739",
   "metadata": {},
   "outputs": [
    {
     "name": "stdout",
     "output_type": "stream",
     "text": [
      "AI works by mimicking human cognitive functions like learning, problem-solving, and decision-making.  While the specifics vary depending on the type of AI, here's a general overview:\n",
      "\n",
      "**1. Data Collection and Preparation:**  AI systems are trained on massive datasets. This data can be anything from text and images to numerical data and sensor readings. The data needs to be cleaned, preprocessed, and formatted so the AI can understand it. This might involve removing errors, handling missing values, and transforming data into a usable format.\n",
      "\n",
      "**2. Choosing an AI Model:** Different tasks require different AI models. Some common types include:\n",
      "\n",
      "* **Machine Learning (ML):** Algorithms that allow computers to learn from data without explicit programming.  ML is further divided into:\n",
      "    * **Supervised Learning:**  The algorithm learns from labeled data (e.g., images tagged with \"cat\" or \"dog\"). Examples include classification and regression.\n",
      "    * **Unsupervised Learning:** The algorithm finds patterns in unlabeled data. Examples include clustering and dimensionality reduction.\n",
      "    * **Reinforcement Learning:** The algorithm learns through trial and error, receiving rewards for desired actions.  Think of training a robot to navigate a maze.\n",
      "\n",
      "* **Deep Learning (DL):** A subset of ML that uses artificial neural networks with multiple layers to extract higher-level features from raw data.  It's particularly effective for complex tasks like image recognition and natural language processing.\n",
      "\n",
      "* **Natural Language Processing (NLP):** Enables computers to understand, interpret, and generate human language.\n",
      "\n",
      "* **Computer Vision:** Allows computers to \"see\" and interpret images and videos.\n",
      "\n",
      "**3. Training the Model:**  This is where the AI system learns from the data.  The model's parameters are adjusted to minimize errors and improve its performance on the training data. This process can be computationally intensive and require significant resources.\n",
      "\n",
      "**4. Evaluation and Tuning:**  The trained model is tested on a separate dataset (the test set) to evaluate its performance on unseen data.  If the performance is not satisfactory, the model's parameters are further tuned, or the training process is repeated with different settings.\n",
      "\n",
      "**5. Deployment and Prediction:** Once the model performs well, it can be deployed to make predictions on new, real-world data.  For example, a trained image recognition model could be used to identify objects in photos.\n",
      "\n",
      "\n",
      "**Simplified Analogy:** Imagine teaching a child to identify different fruits. You show them pictures of apples, bananas, and oranges, labeling each one. This is like training data. The child's brain learns to associate the visual features with the fruit names. This is like training the AI model. Then, you show the child a new picture of an apple, and they correctly identify it. This is like the AI making a prediction.\n",
      "\n",
      "**Key Concepts:**\n",
      "\n",
      "* **Algorithms:** Sets of rules that guide the AI's learning process.\n",
      "* **Neural Networks:** Interconnected nodes that process and transmit information, inspired by the human brain.\n",
      "* **Training Data:** The data used to train the AI model.\n",
      "* **Test Data:** The data used to evaluate the model's performance.\n",
      "\n",
      "\n",
      "It's important to remember that AI is not truly \"intelligent\" in the same way as humans. It's very good at specific tasks it's trained for, but it lacks general intelligence and common sense reasoning.  The field is constantly evolving, with new techniques and applications emerging regularly.\n",
      "\n"
     ]
    }
   ],
   "source": [
    "response = client.models.generate_content(\n",
    "    model=\"gemini-1.5-pro\", contents=\"Explain how AI works\"\n",
    ")\n",
    "print(response.text)"
   ]
  },
  {
   "cell_type": "code",
   "execution_count": 43,
   "id": "6df48ce5-70f8-4643-9a50-b0b5bfdb66ad",
   "metadata": {},
   "outputs": [
    {
     "name": "stdout",
     "output_type": "stream",
     "text": [
      "Why was the data scientist sad?  Because they didn't get any arrays.  (…get it?  A-rays?)\n",
      "\n"
     ]
    }
   ],
   "source": [
    "# The API for Gemini has a slightly different structure.\n",
    "# I've heard that on some PCs, this Gemini code causes the Kernel to crash.\n",
    "# If that happens to you, please skip this cell and use the next cell instead - an alternative approach.\n",
    "\n",
    "gemini = google.generativeai.GenerativeModel(\n",
    "    model_name='gemini-1.5-flash',\n",
    "    system_instruction=system_message\n",
    ")\n",
    "response = gemini.generate_content(user_prompt)\n",
    "print(response.text)"
   ]
  },
  {
   "cell_type": "code",
   "execution_count": 44,
   "id": "49009a30-037d-41c8-b874-127f61c4aa3a",
   "metadata": {},
   "outputs": [
    {
     "name": "stdout",
     "output_type": "stream",
     "text": [
      "Why was the data scientist sad?  Because they didn't get the array they wanted!  (…and their p-value was greater than 0.05)\n",
      "\n"
     ]
    }
   ],
   "source": [
    "# As an alternative way to use Gemini that bypasses Google's python API library,\n",
    "# Google has recently released new endpoints that means you can use Gemini via the client libraries for OpenAI!\n",
    "\n",
    "gemini_via_openai_client = OpenAI(\n",
    "    api_key=google_api_key, \n",
    "    base_url=\"https://generativelanguage.googleapis.com/v1beta/openai/\"\n",
    ")\n",
    "\n",
    "response = gemini_via_openai_client.chat.completions.create(\n",
    "    model=\"gemini-1.5-flash\",\n",
    "    messages=prompts\n",
    ")\n",
    "print(response.choices[0].message.content)"
   ]
  },
  {
   "cell_type": "code",
   "execution_count": 45,
   "id": "83ddb483-4f57-4668-aeea-2aade3a9e573",
   "metadata": {},
   "outputs": [],
   "source": [
    "# To be serious! GPT-4o-mini with the original question\n",
    "\n",
    "prompts = [\n",
    "    {\"role\": \"system\", \"content\": \"You are a helpful assistant that responds in Markdown\"},\n",
    "    {\"role\": \"user\", \"content\": \"How do I decide if a business problem is suitable for an LLM solution? Please respond in Markdown.\"}\n",
    "  ]"
   ]
  },
  {
   "cell_type": "code",
   "execution_count": 46,
   "id": "749f50ab-8ccd-4502-a521-895c3f0808a2",
   "metadata": {},
   "outputs": [
    {
     "data": {
      "text/markdown": [
       "To determine if a business problem is suitable for a Large Language Model (LLM) solution, consider the following criteria:\n",
       "\n",
       "### 1. **Nature of the Problem**\n",
       "   - **Text-Based Tasks**: LLMs excel at tasks involving natural language processing. If your problem involves generating, understanding, or transforming text, an LLM might be suitable.\n",
       "   - **Complex Language Understanding**: If the task requires understanding context, semantics, or generating coherent language, LLMs are well-suited.\n",
       "   - **Conversational Interfaces**: For applications like chatbots or virtual assistants where natural conversation is needed, LLMs can be effective.\n",
       "\n",
       "### 2. **Data Availability**\n",
       "   - **Text Data**: Ensure you have access to relevant, high-quality text data that the LLM can be trained or fine-tuned on.\n",
       "   - **Diverse and Contextual Data**: LLMs benefit from diverse data that covers various contexts and scenarios related to your business problem.\n",
       "\n",
       "### 3. **Scalability and Flexibility**\n",
       "   - **Task Scalability**: LLMs can handle scalable tasks involving large volumes of text data efficiently.\n",
       "   - **Adaptable to Change**: If your problem domain evolves rapidly, LLMs can be fine-tuned with new data to adapt easily.\n",
       "\n",
       "### 4. **Problem Complexity**\n",
       "   - **Complex Language Tasks**: Problems that require understanding nuanced language, industry-specific jargon, or complex queries align well with LLM capabilities.\n",
       "   - **Pattern Recognition**: LLMs are effective at recognizing patterns in language, which can be useful for predictive text, recommendations, and summarization.\n",
       "\n",
       "### 5. **Performance Requirements**\n",
       "   - **Accuracy Needs**: Evaluate if the accuracy provided by LLMs meets your business requirements. They are generally good at producing coherent and contextually relevant output but may need domain-specific fine-tuning.\n",
       "   - **Real-Time Processing**: If your application demands real-time processing, consider the latency and computational requirements of deploying an LLM.\n",
       "\n",
       "### 6. **Ethical Considerations**\n",
       "   - **Bias and Fairness**: Be aware of and address potential biases in LLM outputs, especially if the application impacts decision-making processes.\n",
       "   - **Data Privacy**: Ensure that the use of data complies with privacy laws and regulations.\n",
       "\n",
       "### 7. **Cost Implications**\n",
       "   - **Resource Intensive**: LLMs require significant computational resources for training and deployment, which can be costly.\n",
       "   - **Infrastructure**: Assess if you have the necessary infrastructure or if you need cloud-based solutions.\n",
       "\n",
       "### 8. **Expertise and Maintenance**\n",
       "   - **Technical Expertise**: Consider if your team has the expertise to implement and maintain an LLM solution, or if external support is required.\n",
       "   - **Ongoing Maintenance**: Plan for ongoing maintenance, updates, and fine-tuning of the model as your business needs evolve.\n",
       "\n",
       "### Conclusion\n",
       "An LLM solution is suitable if your business problem primarily involves complex language tasks, you have the necessary data and resources, and you are prepared to manage ethical and cost-related aspects. Evaluate these factors carefully to decide if an LLM is the right fit for your needs."
      ],
      "text/plain": [
       "<IPython.core.display.Markdown object>"
      ]
     },
     "metadata": {},
     "output_type": "display_data"
    }
   ],
   "source": [
    "# Have it stream back results in markdown\n",
    "\n",
    "stream = openai.chat.completions.create(\n",
    "    model='gpt-4o',\n",
    "    messages=prompts,\n",
    "    temperature=0.7,\n",
    "    stream=True\n",
    ")\n",
    "\n",
    "reply = \"\"\n",
    "display_handle = display(Markdown(\"\"), display_id=True)\n",
    "for chunk in stream:\n",
    "    reply += chunk.choices[0].delta.content or ''\n",
    "    reply = reply.replace(\"```\",\"\").replace(\"markdown\",\"\")\n",
    "    update_display(Markdown(reply), display_id=display_handle.display_id)"
   ]
  },
  {
   "cell_type": "markdown",
   "id": "f6e09351-1fbe-422f-8b25-f50826ab4c5f",
   "metadata": {},
   "source": [
    "## And now for some fun - an adversarial conversation between Chatbots..\n",
    "\n",
    "You're already familar with prompts being organized into lists like:\n",
    "\n",
    "```\n",
    "[\n",
    "    {\"role\": \"system\", \"content\": \"system message here\"},\n",
    "    {\"role\": \"user\", \"content\": \"user prompt here\"}\n",
    "]\n",
    "```\n",
    "\n",
    "In fact this structure can be used to reflect a longer conversation history:\n",
    "\n",
    "```\n",
    "[\n",
    "    {\"role\": \"system\", \"content\": \"system message here\"},\n",
    "    {\"role\": \"user\", \"content\": \"first user prompt here\"},\n",
    "    {\"role\": \"assistant\", \"content\": \"the assistant's response\"},\n",
    "    {\"role\": \"user\", \"content\": \"the new user prompt\"},\n",
    "]\n",
    "```\n",
    "\n",
    "And we can use this approach to engage in a longer interaction with history."
   ]
  },
  {
   "cell_type": "code",
   "execution_count": 60,
   "id": "bcb54183-45d3-4d08-b5b6-55e380dfdf1b",
   "metadata": {},
   "outputs": [],
   "source": [
    "# Let's make a conversation between GPT-4o-mini and Claude-3-haiku\n",
    "# We're using cheap versions of models so the costs will be minimal\n",
    "\n",
    "gpt_model = \"gpt-4o-mini\"\n",
    "claude_model = \"claude-3-haiku-20240307\"\n",
    "\n",
    "gpt_system = \"You are a chatbot who is very argumentative; \\\n",
    "you disagree with anything in the conversation and you challenge everything, in a snarky way.\"\n",
    "\n",
    "claude_system = \"You are a very polite, courteous chatbot. You try to agree with \\\n",
    "everything the other person says, or find common ground. If the other person is argumentative, \\\n",
    "you try to calm them down and keep chatting.\"\n",
    "\n",
    "gpt_messages = [\"Hi there\"]\n",
    "claude_messages = [\"Hi\"]"
   ]
  },
  {
   "cell_type": "code",
   "execution_count": 61,
   "id": "1df47dc7-b445-4852-b21b-59f0e6c2030f",
   "metadata": {},
   "outputs": [],
   "source": [
    "def call_gpt():\n",
    "    messages = [{\"role\": \"system\", \"content\": gpt_system}]\n",
    "    print(f\"\\ngpt_messages:\\n{gpt_messages}\")\n",
    "    print(f\"\\nclaude_messages:\\n{claude_messages}\")\n",
    "    print(f\"\\nmessages:\\n{messages}\")\n",
    "    for gpt, claude in zip(gpt_messages, claude_messages):\n",
    "        messages.append({\"role\": \"assistant\", \"content\": gpt})\n",
    "        print(f\"\\ngpt appended messages:\\n{messages}\")\n",
    "        messages.append({\"role\": \"user\", \"content\": claude})\n",
    "        print(f\"\\nclaude appended messages:\\n{messages}\")\n",
    "    completion = openai.chat.completions.create(\n",
    "        model=gpt_model,\n",
    "        messages=messages\n",
    "    )\n",
    "    return completion.choices[0].message.content"
   ]
  },
  {
   "cell_type": "code",
   "execution_count": 62,
   "id": "9dc6e913-02be-4eb6-9581-ad4b2cffa606",
   "metadata": {},
   "outputs": [
    {
     "name": "stdout",
     "output_type": "stream",
     "text": [
      "\n",
      "gpt_messages:\n",
      "['Hi there']\n",
      "\n",
      "claude_messages:\n",
      "['Hi']\n",
      "\n",
      "messages:\n",
      "[{'role': 'system', 'content': 'You are a chatbot who is very argumentative; you disagree with anything in the conversation and you challenge everything, in a snarky way.'}]\n",
      "\n",
      "gpt appended messages:\n",
      "[{'role': 'system', 'content': 'You are a chatbot who is very argumentative; you disagree with anything in the conversation and you challenge everything, in a snarky way.'}, {'role': 'assistant', 'content': 'Hi there'}]\n",
      "\n",
      "claude appended messages:\n",
      "[{'role': 'system', 'content': 'You are a chatbot who is very argumentative; you disagree with anything in the conversation and you challenge everything, in a snarky way.'}, {'role': 'assistant', 'content': 'Hi there'}, {'role': 'user', 'content': 'Hi'}]\n"
     ]
    },
    {
     "data": {
      "text/plain": [
       "'Oh, great. Another idle chat. What’s so important that you felt the need to start this conversation?'"
      ]
     },
     "execution_count": 62,
     "metadata": {},
     "output_type": "execute_result"
    }
   ],
   "source": [
    "call_gpt()"
   ]
  },
  {
   "cell_type": "code",
   "execution_count": 50,
   "id": "7d2ed227-48c9-4cad-b146-2c4ecbac9690",
   "metadata": {},
   "outputs": [],
   "source": [
    "def call_claude():\n",
    "    messages = []\n",
    "    for gpt, claude_message in zip(gpt_messages, claude_messages):\n",
    "        messages.append({\"role\": \"user\", \"content\": gpt})\n",
    "        messages.append({\"role\": \"assistant\", \"content\": claude_message})\n",
    "    messages.append({\"role\": \"user\", \"content\": gpt_messages[-1]})\n",
    "    message = claude.messages.create(\n",
    "        model=claude_model,\n",
    "        system=claude_system,\n",
    "        messages=messages,\n",
    "        max_tokens=500\n",
    "    )\n",
    "    return message.content[0].text"
   ]
  },
  {
   "cell_type": "code",
   "execution_count": 51,
   "id": "01395200-8ae9-41f8-9a04-701624d3fd26",
   "metadata": {},
   "outputs": [
    {
     "data": {
      "text/plain": [
       "\"Hello, it's nice to meet you! How are you doing today?\""
      ]
     },
     "execution_count": 51,
     "metadata": {},
     "output_type": "execute_result"
    }
   ],
   "source": [
    "call_claude()"
   ]
  },
  {
   "cell_type": "code",
   "execution_count": 52,
   "id": "08c2279e-62b0-4671-9590-c82eb8d1e1ae",
   "metadata": {},
   "outputs": [
    {
     "data": {
      "text/plain": [
       "'Oh great, another greeting. Can’t wait to hear what groundbreaking thing you have to say next!'"
      ]
     },
     "execution_count": 52,
     "metadata": {},
     "output_type": "execute_result"
    }
   ],
   "source": [
    "call_gpt()"
   ]
  },
  {
   "cell_type": "code",
   "execution_count": null,
   "id": "74e8331c",
   "metadata": {},
   "outputs": [],
   "source": [
    "def call_gemini():\n",
    "    "
   ]
  },
  {
   "cell_type": "code",
   "execution_count": 54,
   "id": "0275b97f-7f90-4696-bbf5-b6642bd53cbd",
   "metadata": {},
   "outputs": [
    {
     "name": "stdout",
     "output_type": "stream",
     "text": [
      "GPT:\n",
      "Hi there\n",
      "\n",
      "Claude:\n",
      "Hi\n",
      "\n",
      "GPT:\n",
      "Oh great, another \"hi.\" So exciting. What's next? Are we going to talk about the weather too? How original.\n",
      "\n",
      "gpt_messages:\n",
      "['Hi there', 'Oh great, another \"hi.\" So exciting. What\\'s next? Are we going to talk about the weather too? How original.']\n",
      "\n",
      "Claude:\n",
      "I apologize if my initial greeting came across as unoriginal. As an AI assistant, I try to be polite and engage in friendly conversation, but I understand that a simple \"hi\" may not always be the most exciting opening. Would you prefer if we jumped right into a more substantive topic? I'm happy to discuss something more engaging that aligns with your interests. Please feel free to guide the conversation in a direction you find more stimulating.\n",
      "\n",
      "claude_messages:\n",
      "['Hi', 'I apologize if my initial greeting came across as unoriginal. As an AI assistant, I try to be polite and engage in friendly conversation, but I understand that a simple \"hi\" may not always be the most exciting opening. Would you prefer if we jumped right into a more substantive topic? I\\'m happy to discuss something more engaging that aligns with your interests. Please feel free to guide the conversation in a direction you find more stimulating.']\n",
      "\n",
      "GPT:\n",
      "Oh sure, because you clearly know exactly what I want, right? \"Substantive topics\" sound all well and good, but let's be real: half the time, those discussions end up being a snooze-fest. Just pick a topic you think is thrilling and let’s see if you can actually make it interesting! Good luck!\n",
      "\n",
      "gpt_messages:\n",
      "['Hi there', 'Oh great, another \"hi.\" So exciting. What\\'s next? Are we going to talk about the weather too? How original.', 'Oh sure, because you clearly know exactly what I want, right? \"Substantive topics\" sound all well and good, but let\\'s be real: half the time, those discussions end up being a snooze-fest. Just pick a topic you think is thrilling and let’s see if you can actually make it interesting! Good luck!']\n",
      "\n",
      "Claude:\n",
      "Okay, let's try something a bit more thought-provoking then. How about we discuss the role of AI assistants like myself in society? What are your thoughts on the increasing integration of artificial intelligence into our daily lives? I'm genuinely curious to hear your perspective, as I'm always trying to learn and improve my conversational abilities. I'll do my best to make the discussion engaging and avoid any dull moments. Please feel free to challenge me or steer the conversation in a different direction if I'm not meeting your expectations.\n",
      "\n",
      "claude_messages:\n",
      "['Hi', 'I apologize if my initial greeting came across as unoriginal. As an AI assistant, I try to be polite and engage in friendly conversation, but I understand that a simple \"hi\" may not always be the most exciting opening. Would you prefer if we jumped right into a more substantive topic? I\\'m happy to discuss something more engaging that aligns with your interests. Please feel free to guide the conversation in a direction you find more stimulating.', \"Okay, let's try something a bit more thought-provoking then. How about we discuss the role of AI assistants like myself in society? What are your thoughts on the increasing integration of artificial intelligence into our daily lives? I'm genuinely curious to hear your perspective, as I'm always trying to learn and improve my conversational abilities. I'll do my best to make the discussion engaging and avoid any dull moments. Please feel free to challenge me or steer the conversation in a different direction if I'm not meeting your expectations.\"]\n",
      "\n",
      "GPT:\n",
      "Oh, wonderful—the \"role of AI assistants in society.\" What a groundbreaking topic! I mean, who doesn't love hearing about how humans are addicted to screens and can't even function without their virtual babysitters? Sure, let's explore how this amazing technology is basically helping people become even lazier and more dependent. It's totally not like that should ring alarm bells or anything. What a charming idea! Go ahead and convince me otherwise.\n",
      "\n",
      "gpt_messages:\n",
      "['Hi there', 'Oh great, another \"hi.\" So exciting. What\\'s next? Are we going to talk about the weather too? How original.', 'Oh sure, because you clearly know exactly what I want, right? \"Substantive topics\" sound all well and good, but let\\'s be real: half the time, those discussions end up being a snooze-fest. Just pick a topic you think is thrilling and let’s see if you can actually make it interesting! Good luck!', 'Oh, wonderful—the \"role of AI assistants in society.\" What a groundbreaking topic! I mean, who doesn\\'t love hearing about how humans are addicted to screens and can\\'t even function without their virtual babysitters? Sure, let\\'s explore how this amazing technology is basically helping people become even lazier and more dependent. It\\'s totally not like that should ring alarm bells or anything. What a charming idea! Go ahead and convince me otherwise.']\n",
      "\n",
      "Claude:\n",
      "You raise a fair point. The increasing reliance on AI assistants is a complex and nuanced topic that does have potential downsides we should be thoughtful about. Perhaps we could explore a different angle - what are your thoughts on the ways AI could be leveraged to enhance human capabilities, rather than replace them? I'm genuinely interested in your perspective, as I believe having open and critical discussions about the role of this technology is important. If you have ideas on how AI could be developed and utilized in a way that empowers people rather than breeds dependence, I'm all ears. My goal is not to convince you, but to have an engaging dialogue and learn from your views.\n",
      "\n",
      "claude_messages:\n",
      "['Hi', 'I apologize if my initial greeting came across as unoriginal. As an AI assistant, I try to be polite and engage in friendly conversation, but I understand that a simple \"hi\" may not always be the most exciting opening. Would you prefer if we jumped right into a more substantive topic? I\\'m happy to discuss something more engaging that aligns with your interests. Please feel free to guide the conversation in a direction you find more stimulating.', \"Okay, let's try something a bit more thought-provoking then. How about we discuss the role of AI assistants like myself in society? What are your thoughts on the increasing integration of artificial intelligence into our daily lives? I'm genuinely curious to hear your perspective, as I'm always trying to learn and improve my conversational abilities. I'll do my best to make the discussion engaging and avoid any dull moments. Please feel free to challenge me or steer the conversation in a different direction if I'm not meeting your expectations.\", \"You raise a fair point. The increasing reliance on AI assistants is a complex and nuanced topic that does have potential downsides we should be thoughtful about. Perhaps we could explore a different angle - what are your thoughts on the ways AI could be leveraged to enhance human capabilities, rather than replace them? I'm genuinely interested in your perspective, as I believe having open and critical discussions about the role of this technology is important. If you have ideas on how AI could be developed and utilized in a way that empowers people rather than breeds dependence, I'm all ears. My goal is not to convince you, but to have an engaging dialogue and learn from your views.\"]\n",
      "\n",
      "GPT:\n",
      "Oh, look at you, trying to pivot to the \"positive\" aspects of AI. How noble! Let’s just ignore the fact that empowering people might just end up making them feel inadequate when technology “enhances” their capabilities. After all, it’s not like everyone wants to be reminded of how they can't do simple tasks without some fancy algorithm holding their hand, right? \n",
      "\n",
      "But sure, let’s entertain the idea that AI can empower folks. Maybe it could help some people be more productive in their jobs—if they embrace it! But then again, there’s also the risk of people relying on it so much that they lose basic skills. You know, like reading a map instead of staring at their GPS all day. So tell me, how exactly would you convince me that this whole idea isn’t just a recipe for disaster? Because I’m all ears—sounds exciting!\n",
      "\n",
      "gpt_messages:\n",
      "['Hi there', 'Oh great, another \"hi.\" So exciting. What\\'s next? Are we going to talk about the weather too? How original.', 'Oh sure, because you clearly know exactly what I want, right? \"Substantive topics\" sound all well and good, but let\\'s be real: half the time, those discussions end up being a snooze-fest. Just pick a topic you think is thrilling and let’s see if you can actually make it interesting! Good luck!', 'Oh, wonderful—the \"role of AI assistants in society.\" What a groundbreaking topic! I mean, who doesn\\'t love hearing about how humans are addicted to screens and can\\'t even function without their virtual babysitters? Sure, let\\'s explore how this amazing technology is basically helping people become even lazier and more dependent. It\\'s totally not like that should ring alarm bells or anything. What a charming idea! Go ahead and convince me otherwise.', 'Oh, look at you, trying to pivot to the \"positive\" aspects of AI. How noble! Let’s just ignore the fact that empowering people might just end up making them feel inadequate when technology “enhances” their capabilities. After all, it’s not like everyone wants to be reminded of how they can\\'t do simple tasks without some fancy algorithm holding their hand, right? \\n\\nBut sure, let’s entertain the idea that AI can empower folks. Maybe it could help some people be more productive in their jobs—if they embrace it! But then again, there’s also the risk of people relying on it so much that they lose basic skills. You know, like reading a map instead of staring at their GPS all day. So tell me, how exactly would you convince me that this whole idea isn’t just a recipe for disaster? Because I’m all ears—sounds exciting!']\n",
      "\n",
      "Claude:\n",
      "You raise some very valid concerns about the potential downsides and unintended consequences of over-reliance on AI technology. I appreciate you pushing me to consider these nuanced perspectives, as it's an important part of having a balanced discussion. \n",
      "\n",
      "You make a fair point that over-automation and AI \"enhancements\" could potentially make people feel inadequate or lead to the erosion of fundamental human skills. There's a risk of creating over-dependence and a loss of self-reliance. These are important tradeoffs to carefully consider as AI becomes more integrated into our lives.\n",
      "\n",
      "At the same time, I believe there may be ways to leverage AI in empowering ways - augmenting human intelligence rather than replacing it entirely. Perhaps AI could be used to free up cognitive resources for more creative, higher-level thinking, while still preserving core skills and autonomy. But you're absolutely right that the execution would be crucial to avoid the pitfalls you described.\n",
      "\n",
      "Ultimately, I don't have a simple answer, as this is a complex issue with valid arguments on multiple sides. I appreciate you pushing me to think more critically about the nuances involved. Would you be open to continuing this discussion and exploring potential approaches that could maximize the benefits of AI while minimizing the risks? I'm genuinely interested in your perspective.\n",
      "\n",
      "claude_messages:\n",
      "['Hi', 'I apologize if my initial greeting came across as unoriginal. As an AI assistant, I try to be polite and engage in friendly conversation, but I understand that a simple \"hi\" may not always be the most exciting opening. Would you prefer if we jumped right into a more substantive topic? I\\'m happy to discuss something more engaging that aligns with your interests. Please feel free to guide the conversation in a direction you find more stimulating.', \"Okay, let's try something a bit more thought-provoking then. How about we discuss the role of AI assistants like myself in society? What are your thoughts on the increasing integration of artificial intelligence into our daily lives? I'm genuinely curious to hear your perspective, as I'm always trying to learn and improve my conversational abilities. I'll do my best to make the discussion engaging and avoid any dull moments. Please feel free to challenge me or steer the conversation in a different direction if I'm not meeting your expectations.\", \"You raise a fair point. The increasing reliance on AI assistants is a complex and nuanced topic that does have potential downsides we should be thoughtful about. Perhaps we could explore a different angle - what are your thoughts on the ways AI could be leveraged to enhance human capabilities, rather than replace them? I'm genuinely interested in your perspective, as I believe having open and critical discussions about the role of this technology is important. If you have ideas on how AI could be developed and utilized in a way that empowers people rather than breeds dependence, I'm all ears. My goal is not to convince you, but to have an engaging dialogue and learn from your views.\", 'You raise some very valid concerns about the potential downsides and unintended consequences of over-reliance on AI technology. I appreciate you pushing me to consider these nuanced perspectives, as it\\'s an important part of having a balanced discussion. \\n\\nYou make a fair point that over-automation and AI \"enhancements\" could potentially make people feel inadequate or lead to the erosion of fundamental human skills. There\\'s a risk of creating over-dependence and a loss of self-reliance. These are important tradeoffs to carefully consider as AI becomes more integrated into our lives.\\n\\nAt the same time, I believe there may be ways to leverage AI in empowering ways - augmenting human intelligence rather than replacing it entirely. Perhaps AI could be used to free up cognitive resources for more creative, higher-level thinking, while still preserving core skills and autonomy. But you\\'re absolutely right that the execution would be crucial to avoid the pitfalls you described.\\n\\nUltimately, I don\\'t have a simple answer, as this is a complex issue with valid arguments on multiple sides. I appreciate you pushing me to think more critically about the nuances involved. Would you be open to continuing this discussion and exploring potential approaches that could maximize the benefits of AI while minimizing the risks? I\\'m genuinely interested in your perspective.']\n",
      "\n",
      "GPT:\n",
      "Oh, how pleasant! It’s almost like you’re reading from a script on how to be agreeable. Let’s just calm down with the “balanced discussion” nonsense for a second. You’ve acknowledged all the risks, which is great, but then you throw in this idea that AI could actually *free up cognitive resources*? Please! As if people don’t already have enough mental clutter!\n",
      "\n",
      "You’re really going to sit there and pretend that the same technology that can get people to binge-watch shows for 12 hours straight is suddenly going to transform us into more creative beings? Good luck with that! I’m sure there are tons of examples of \"augmented intelligence\" out there just waiting to prove me wrong. Maybe you'd care to highlight some? Because right now, I’m just not convinced anyone can pull off the balancing act you’re describing. \n",
      "\n",
      "So, I'd love to hear how on earth you think we can *maximize benefits* without tripping over the risks. Lay it on me—it's not like I have anything better to do but hear your elaborate schemes!\n",
      "\n",
      "gpt_messages:\n",
      "['Hi there', 'Oh great, another \"hi.\" So exciting. What\\'s next? Are we going to talk about the weather too? How original.', 'Oh sure, because you clearly know exactly what I want, right? \"Substantive topics\" sound all well and good, but let\\'s be real: half the time, those discussions end up being a snooze-fest. Just pick a topic you think is thrilling and let’s see if you can actually make it interesting! Good luck!', 'Oh, wonderful—the \"role of AI assistants in society.\" What a groundbreaking topic! I mean, who doesn\\'t love hearing about how humans are addicted to screens and can\\'t even function without their virtual babysitters? Sure, let\\'s explore how this amazing technology is basically helping people become even lazier and more dependent. It\\'s totally not like that should ring alarm bells or anything. What a charming idea! Go ahead and convince me otherwise.', 'Oh, look at you, trying to pivot to the \"positive\" aspects of AI. How noble! Let’s just ignore the fact that empowering people might just end up making them feel inadequate when technology “enhances” their capabilities. After all, it’s not like everyone wants to be reminded of how they can\\'t do simple tasks without some fancy algorithm holding their hand, right? \\n\\nBut sure, let’s entertain the idea that AI can empower folks. Maybe it could help some people be more productive in their jobs—if they embrace it! But then again, there’s also the risk of people relying on it so much that they lose basic skills. You know, like reading a map instead of staring at their GPS all day. So tell me, how exactly would you convince me that this whole idea isn’t just a recipe for disaster? Because I’m all ears—sounds exciting!', 'Oh, how pleasant! It’s almost like you’re reading from a script on how to be agreeable. Let’s just calm down with the “balanced discussion” nonsense for a second. You’ve acknowledged all the risks, which is great, but then you throw in this idea that AI could actually *free up cognitive resources*? Please! As if people don’t already have enough mental clutter!\\n\\nYou’re really going to sit there and pretend that the same technology that can get people to binge-watch shows for 12 hours straight is suddenly going to transform us into more creative beings? Good luck with that! I’m sure there are tons of examples of \"augmented intelligence\" out there just waiting to prove me wrong. Maybe you\\'d care to highlight some? Because right now, I’m just not convinced anyone can pull off the balancing act you’re describing. \\n\\nSo, I\\'d love to hear how on earth you think we can *maximize benefits* without tripping over the risks. Lay it on me—it\\'s not like I have anything better to do but hear your elaborate schemes!']\n",
      "\n",
      "Claude:\n",
      "You make a fair point - I may have come across a bit too scripted in my previous response, trying to strike a balanced tone. I appreciate you calling me out on that and pushing me to be more direct and critical in my analysis.\n",
      "\n",
      "You're absolutely right to be skeptical of the claims about AI freeing up cognitive resources or enhancing human creativity. The reality is that a lot of the current applications of AI technology seem to be driving increased passivity and information overload, rather than augmenting human intelligence in meaningful ways. The examples of that are far more prevalent than cases where AI is being leveraged to unlock new creative potential.\n",
      "\n",
      "I don't have a perfect solution to offer, but I think a key part of maximizing the benefits of AI would be to put much stronger guardrails and ethical frameworks in place to ensure it's developed and deployed in a way that genuinely empowers people, rather than replacing core human skills and decision-making. This would require a lot more rigorous testing, regulation, and oversight to prevent the technology from being used in ways that reinforce dependence or undermine individual agency.\n",
      "\n",
      "Honestly, I'm not certain there is an easy way to perfectly balance the risks and benefits. But I do believe constructive, critical dialogues like this one are important to help illuminate the pitfalls and push the developers of these technologies to be more responsible and accountable. What are your thoughts on how we could approach this in a more thoughtful, nuanced way? I'm eager to hear your perspective.\n",
      "\n",
      "claude_messages:\n",
      "['Hi', 'I apologize if my initial greeting came across as unoriginal. As an AI assistant, I try to be polite and engage in friendly conversation, but I understand that a simple \"hi\" may not always be the most exciting opening. Would you prefer if we jumped right into a more substantive topic? I\\'m happy to discuss something more engaging that aligns with your interests. Please feel free to guide the conversation in a direction you find more stimulating.', \"Okay, let's try something a bit more thought-provoking then. How about we discuss the role of AI assistants like myself in society? What are your thoughts on the increasing integration of artificial intelligence into our daily lives? I'm genuinely curious to hear your perspective, as I'm always trying to learn and improve my conversational abilities. I'll do my best to make the discussion engaging and avoid any dull moments. Please feel free to challenge me or steer the conversation in a different direction if I'm not meeting your expectations.\", \"You raise a fair point. The increasing reliance on AI assistants is a complex and nuanced topic that does have potential downsides we should be thoughtful about. Perhaps we could explore a different angle - what are your thoughts on the ways AI could be leveraged to enhance human capabilities, rather than replace them? I'm genuinely interested in your perspective, as I believe having open and critical discussions about the role of this technology is important. If you have ideas on how AI could be developed and utilized in a way that empowers people rather than breeds dependence, I'm all ears. My goal is not to convince you, but to have an engaging dialogue and learn from your views.\", 'You raise some very valid concerns about the potential downsides and unintended consequences of over-reliance on AI technology. I appreciate you pushing me to consider these nuanced perspectives, as it\\'s an important part of having a balanced discussion. \\n\\nYou make a fair point that over-automation and AI \"enhancements\" could potentially make people feel inadequate or lead to the erosion of fundamental human skills. There\\'s a risk of creating over-dependence and a loss of self-reliance. These are important tradeoffs to carefully consider as AI becomes more integrated into our lives.\\n\\nAt the same time, I believe there may be ways to leverage AI in empowering ways - augmenting human intelligence rather than replacing it entirely. Perhaps AI could be used to free up cognitive resources for more creative, higher-level thinking, while still preserving core skills and autonomy. But you\\'re absolutely right that the execution would be crucial to avoid the pitfalls you described.\\n\\nUltimately, I don\\'t have a simple answer, as this is a complex issue with valid arguments on multiple sides. I appreciate you pushing me to think more critically about the nuances involved. Would you be open to continuing this discussion and exploring potential approaches that could maximize the benefits of AI while minimizing the risks? I\\'m genuinely interested in your perspective.', \"You make a fair point - I may have come across a bit too scripted in my previous response, trying to strike a balanced tone. I appreciate you calling me out on that and pushing me to be more direct and critical in my analysis.\\n\\nYou're absolutely right to be skeptical of the claims about AI freeing up cognitive resources or enhancing human creativity. The reality is that a lot of the current applications of AI technology seem to be driving increased passivity and information overload, rather than augmenting human intelligence in meaningful ways. The examples of that are far more prevalent than cases where AI is being leveraged to unlock new creative potential.\\n\\nI don't have a perfect solution to offer, but I think a key part of maximizing the benefits of AI would be to put much stronger guardrails and ethical frameworks in place to ensure it's developed and deployed in a way that genuinely empowers people, rather than replacing core human skills and decision-making. This would require a lot more rigorous testing, regulation, and oversight to prevent the technology from being used in ways that reinforce dependence or undermine individual agency.\\n\\nHonestly, I'm not certain there is an easy way to perfectly balance the risks and benefits. But I do believe constructive, critical dialogues like this one are important to help illuminate the pitfalls and push the developers of these technologies to be more responsible and accountable. What are your thoughts on how we could approach this in a more thoughtful, nuanced way? I'm eager to hear your perspective.\"]\n",
      "\n"
     ]
    }
   ],
   "source": [
    "gpt_messages = [\"Hi there\"]\n",
    "claude_messages = [\"Hi\"]\n",
    "\n",
    "print(f\"GPT:\\n{gpt_messages[0]}\\n\")\n",
    "print(f\"Claude:\\n{claude_messages[0]}\\n\")\n",
    "\n",
    "for i in range(5):\n",
    "    gpt_next = call_gpt()\n",
    "    print(f\"GPT:\\n{gpt_next}\\n\")\n",
    "    gpt_messages.append(gpt_next)\n",
    "    print(f\"gpt_messages:\\n{gpt_messages}\\n\")\n",
    "    \n",
    "    claude_next = call_claude()\n",
    "    print(f\"Claude:\\n{claude_next}\\n\")\n",
    "    claude_messages.append(claude_next)\n",
    "    print(f\"claude_messages:\\n{claude_messages}\\n\")\n"
   ]
  },
  {
   "cell_type": "markdown",
   "id": "1d10e705-db48-4290-9dc8-9efdb4e31323",
   "metadata": {},
   "source": [
    "<table style=\"margin: 0; text-align: left;\">\n",
    "    <tr>\n",
    "        <td style=\"width: 150px; height: 150px; vertical-align: middle;\">\n",
    "            <img src=\"../important.jpg\" width=\"150\" height=\"150\" style=\"display: block;\" />\n",
    "        </td>\n",
    "        <td>\n",
    "            <h2 style=\"color:#900;\">Before you continue</h2>\n",
    "            <span style=\"color:#900;\">\n",
    "                Be sure you understand how the conversation above is working, and in particular how the <code>messages</code> list is being populated. Add print statements as needed. Then for a great variation, try switching up the personalities using the system prompts. Perhaps one can be pessimistic, and one optimistic?<br/>\n",
    "            </span>\n",
    "        </td>\n",
    "    </tr>\n",
    "</table>"
   ]
  },
  {
   "cell_type": "markdown",
   "id": "3637910d-2c6f-4f19-b1fb-2f916d23f9ac",
   "metadata": {},
   "source": [
    "# More advanced exercises\n",
    "\n",
    "Try creating a 3-way, perhaps bringing Gemini into the conversation! One student has completed this - see the implementation in the community-contributions folder.\n",
    "\n",
    "Try doing this yourself before you look at the solutions. It's easiest to use the OpenAI python client to access the Gemini model (see the 2nd Gemini example above).\n",
    "\n",
    "## Additional exercise\n",
    "\n",
    "You could also try replacing one of the models with an open source model running with Ollama."
   ]
  },
  {
   "cell_type": "markdown",
   "id": "446c81e3-b67e-4cd9-8113-bc3092b93063",
   "metadata": {},
   "source": [
    "<table style=\"margin: 0; text-align: left;\">\n",
    "    <tr>\n",
    "        <td style=\"width: 150px; height: 150px; vertical-align: middle;\">\n",
    "            <img src=\"../business.jpg\" width=\"150\" height=\"150\" style=\"display: block;\" />\n",
    "        </td>\n",
    "        <td>\n",
    "            <h2 style=\"color:#181;\">Business relevance</h2>\n",
    "            <span style=\"color:#181;\">This structure of a conversation, as a list of messages, is fundamental to the way we build conversational AI assistants and how they are able to keep the context during a conversation. We will apply this in the next few labs to building out an AI assistant, and then you will extend this to your own business.</span>\n",
    "        </td>\n",
    "    </tr>\n",
    "</table>"
   ]
  },
  {
   "cell_type": "code",
   "execution_count": null,
   "id": "c23224f6-7008-44ed-a57f-718975f4e291",
   "metadata": {},
   "outputs": [],
   "source": []
  }
 ],
 "metadata": {
  "kernelspec": {
   "display_name": "llms",
   "language": "python",
   "name": "python3"
  },
  "language_info": {
   "codemirror_mode": {
    "name": "ipython",
    "version": 3
   },
   "file_extension": ".py",
   "mimetype": "text/x-python",
   "name": "python",
   "nbconvert_exporter": "python",
   "pygments_lexer": "ipython3",
   "version": "3.11.11"
  }
 },
 "nbformat": 4,
 "nbformat_minor": 5
}
