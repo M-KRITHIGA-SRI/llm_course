{
 "cells": [
  {
   "cell_type": "markdown",
   "id": "fe12c203-e6a6-452c-a655-afb8a03a4ff5",
   "metadata": {},
   "source": [
    "# End of week 1 exercise\n",
    "\n",
    "To demonstrate your familiarity with OpenAI API, and also Ollama, build a tool that takes a technical question,  \n",
    "and responds with an explanation. This is a tool that you will be able to use yourself during the course!"
   ]
  },
  {
   "cell_type": "code",
   "execution_count": 11,
   "id": "c1070317-3ed9-4659-abe3-828943230e03",
   "metadata": {},
   "outputs": [],
   "source": [
    "# imports\n",
    "\n",
    "import os\n",
    "from dotenv import load_dotenv\n",
    "from IPython.display import Markdown, display, update_display\n",
    "from openai import OpenAI\n"
   ]
  },
  {
   "cell_type": "code",
   "execution_count": 12,
   "id": "4a456906-915a-4bfd-bb9d-57e505c5093f",
   "metadata": {},
   "outputs": [],
   "source": [
    "# constants\n",
    "\n",
    "MODEL_GPT = 'gpt-4o-mini'"
   ]
  },
  {
   "cell_type": "code",
   "execution_count": 13,
   "id": "a8d7923c-5f28-4c30-8556-342d7c8497c1",
   "metadata": {},
   "outputs": [
    {
     "name": "stdout",
     "output_type": "stream",
     "text": [
      "API key looks good so far\n"
     ]
    }
   ],
   "source": [
    "# set up environment\n",
    "# Initialize and constants\n",
    "\n",
    "load_dotenv(override=True)\n",
    "api_key = os.getenv('OPENAI_API_KEY')\n",
    "\n",
    "if api_key and api_key.startswith('sk-proj-') and len(api_key)>10:\n",
    "    print(\"API key looks good so far\")\n",
    "else:\n",
    "    print(\"There might be a problem with your API key? Please visit the troubleshooting notebook!\")\n",
    "    \n",
    "openai = OpenAI()"
   ]
  },
  {
   "cell_type": "code",
   "execution_count": 14,
   "id": "3b689e51-231b-47c7-8ddc-d12f45906526",
   "metadata": {},
   "outputs": [],
   "source": [
    "# prompts\n",
    "\n",
    "system_prompt = \"You are a helpful technical tutor who answers questions about python code, software engineering, data science and LLMs\""
   ]
  },
  {
   "cell_type": "code",
   "execution_count": 15,
   "id": "4cfa2504-1da6-4e76-a08e-64a523e00cf5",
   "metadata": {},
   "outputs": [
    {
     "name": "stdin",
     "output_type": "stream",
     "text": [
      "Enter your questions:  why use openAI API to create your agent when you can use ChatGPT directly, please translate to chinese. \n"
     ]
    },
    {
     "data": {
      "text/markdown": [
       "Certainly! Let's first dive into the detailed explanation of why using the OpenAI API to create an agent might be preferable to using ChatGPT directly.\n",
       "\n",
       "### Detailed Explanation\n",
       "\n",
       "1. **Customizability**: Using the OpenAI API allows developers to create more customized agents that can be tailored to specific tasks or domains. You can fine-tune your prompts, manage conversation history, and integrate the model into diverse applications more effectively than in a straight ChatGPT usage.\n",
       "\n",
       "2. **Integration into Applications**: The API facilitates the integration of language models into existing applications, products, or services. This means you can build sophisticated interactions with users, automate tasks, or provide unique user experiences within a larger software ecosystem.\n",
       "\n",
       "3. **Scalability**: When using the API, you can handle multiple requests and scale your application as needed. This is particularly useful for applications expecting high traffic or usage, as the API is designed to handle multiple simultaneous inquiries, while ChatGPT directly may not be optimized for such use.\n",
       "\n",
       "4. **Access to Upgrades and Features**: The API often gets updates and new features first. This means you can leverage the latest improvements or functionalities without waiting for ChatGPT to roll out the same updates to its interactive interface.\n",
       "\n",
       "5. **Control over User Interaction**: With the API, developers have more control over the interaction patterns and how the conversation flows. You can manage the context more explicitly and decide what information to pass back and forth.\n",
       "\n",
       "6. **Reusability**: If you've built a robust agent using the API, you can reuse that code in different projects or adapt it for various use cases, which can save time and resources in the long run.\n",
       "\n",
       "7. **Cost-Effectiveness**: Depending on your usage requirements, the API might offer a more cost-effective solution if scaling is a concern. You can monitor usage and costs more effectively through the API, especially in a production environment.\n",
       "\n",
       "8. **Data Privacy and Management**: When using the API, you have more control over how data is collected and processed. This can be critical in environments where data privacy regulations need to be adhered to.\n",
       "\n",
       "In summary, using the OpenAI API provides greater flexibility, control, and integration possibilities compared to using ChatGPT directly, making it a more suitable choice for developers looking to create sophisticated applications or agents.\n",
       "\n",
       "---\n",
       "\n",
       "### Chinese Translation\n",
       "\n",
       "详细解释：\n",
       "\n",
       "1. **可定制性**：使用OpenAI API允许开发者创建更具定制化的代理，可以根据特定任务或领域进行调整。你可以优化提示，管理对话历史记录，并更有效地将模型集成到多个应用中，而不仅仅是直接使用ChatGPT。\n",
       "\n",
       "2. **应用程序集成**：API使语言模型能够集成到现有的应用、产品或服务中。这意味着你可以在更大的软件生态系统中构建复杂的用户交互，自动化任务或提供独特的用户体验。\n",
       "\n",
       "3. **可扩展性**：使用API时，可以根据需要处理多个请求并扩展应用程序。这对于预期高流量或使用的应用程序特别有用，因为API被设计为处理多个同时查询，而直接使用ChatGPT可能没有针对这种需求进行优化。\n",
       "\n",
       "4. **获取升级和功能**：API通常会首先获得更新和新功能。这意味着你可以利用最新的改进或功能，而无需等待ChatGPT在其交互界面上推出相同的更新。\n",
       "\n",
       "5. **对用户交互的控制**：通过API，开发者对交互模式以及对话的流动有更大的控制权。你可以更明确地管理上下文，并决定传递什么信息。\n",
       "\n",
       "6. **可重用性**：如果你使用API构建了一个强大的代理，则可以在不同的项目中重用该代码或将其调整用于各种用例，从而在长期节省时间和资源。\n",
       "\n",
       "7. **成本效益**：根据你的使用需求，API可能会提供更具成本效益的解决方案，特别在扩展是关注点时。你可以更有效地监控使用情况和成本，尤其是在生产环境中。\n",
       "\n",
       "8. **数据隐私与管理**：使用API时，你对数据的收集和处理有更多控制。这在需要遵循数据隐私法规的环境中可能至关重要。\n",
       "\n",
       "总之，与直接使用ChatGPT相比，使用OpenAI API提供了更大的灵活性、控制权和集成可能性，使其成为希望创建复杂应用或代理的开发者更合适的选择。"
      ],
      "text/plain": [
       "<IPython.core.display.Markdown object>"
      ]
     },
     "metadata": {},
     "output_type": "display_data"
    }
   ],
   "source": [
    "# Get gpt-4o-mini to answer, w/o streaming\n",
    "def tutor():\n",
    "    response = openai.chat.completions.create(\n",
    "        model=MODEL_GPT,\n",
    "        messages=[\n",
    "            {\"role\": \"system\", \"content\": system_prompt},\n",
    "            {\"role\": \"user\", \"content\": \"Please give a detailed explanation to the following questions: \" + input(\"Enter your questions: \")}\n",
    "          ]\n",
    "    )\n",
    "    result = response.choices[0].message.content\n",
    "    display(Markdown(result))\n",
    "    \n",
    "tutor()\n"
   ]
  },
  {
   "cell_type": "code",
   "execution_count": null,
   "id": "b3ade722-de56-4acd-ab06-2fd0fc6f2fa4",
   "metadata": {},
   "outputs": [],
   "source": []
  },
  {
   "cell_type": "code",
   "execution_count": null,
   "id": "1ed4848f-decb-4bbd-90e2-4cd571c622ef",
   "metadata": {},
   "outputs": [],
   "source": []
  }
 ],
 "metadata": {
  "kernelspec": {
   "display_name": "Python 3 (ipykernel)",
   "language": "python",
   "name": "python3"
  },
  "language_info": {
   "codemirror_mode": {
    "name": "ipython",
    "version": 3
   },
   "file_extension": ".py",
   "mimetype": "text/x-python",
   "name": "python",
   "nbconvert_exporter": "python",
   "pygments_lexer": "ipython3",
   "version": "3.11.12"
  }
 },
 "nbformat": 4,
 "nbformat_minor": 5
}
